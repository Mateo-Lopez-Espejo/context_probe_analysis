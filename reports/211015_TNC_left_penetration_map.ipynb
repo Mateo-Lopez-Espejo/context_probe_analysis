{
 "cells": [
  {
   "cell_type": "markdown",
   "metadata": {
    "collapsed": true,
    "pycharm": {
     "name": "#%% md\n"
    }
   },
   "source": [
    "# Teonancatl Penetration map\n",
    "## Left Hemisphere"
   ]
  },
  {
   "cell_type": "code",
   "execution_count": 1,
   "outputs": [
    {
     "name": "stderr",
     "output_type": "stream",
     "text": [
      "[nems.configs.defaults INFO] Saving log messages to /tmp/nems/NEMS 2021-10-14 180810.log\n"
     ]
    }
   ],
   "source": [
    "import pathlib as pl\n",
    "from nems_lbhb.penetration_map import penetration_map\n",
    "import matplotlib.pyplot as plt"
   ],
   "metadata": {
    "collapsed": false,
    "pycharm": {
     "name": "#%%\n"
    }
   }
  },
  {
   "cell_type": "code",
   "execution_count": 3,
   "outputs": [
    {
     "ename": "AttributeError",
     "evalue": "'NoneType' object has no attribute 'split'",
     "output_type": "error",
     "traceback": [
      "\u001B[0;31m---------------------------------------------------------------------------\u001B[0m",
      "\u001B[0;31mAttributeError\u001B[0m                            Traceback (most recent call last)",
      "\u001B[0;32m<ipython-input-3-6987ca49626f>\u001B[0m in \u001B[0;36m<module>\u001B[0;34m\u001B[0m\n\u001B[1;32m     20\u001B[0m \u001B[0;34m\u001B[0m\u001B[0m\n\u001B[1;32m     21\u001B[0m \u001B[0;31m# fig, coords = penetration_map(sites, equal_aspect=True, flip_X=True, flatten=False, landmarks=landmarks)\u001B[0m\u001B[0;34m\u001B[0m\u001B[0;34m\u001B[0m\u001B[0;34m\u001B[0m\u001B[0m\n\u001B[0;32m---> 22\u001B[0;31m fig, coords = penetration_map(sites, equal_aspect=True, flip_X=True,\n\u001B[0m\u001B[1;32m     23\u001B[0m                               flatten=True, flip_YZ=True,)\n\u001B[1;32m     24\u001B[0m \u001B[0mfig\u001B[0m\u001B[0;34m.\u001B[0m\u001B[0maxes\u001B[0m\u001B[0;34m[\u001B[0m\u001B[0;36m0\u001B[0m\u001B[0;34m]\u001B[0m\u001B[0;34m.\u001B[0m\u001B[0mgrid\u001B[0m\u001B[0;34m(\u001B[0m\u001B[0;34m)\u001B[0m\u001B[0;34m\u001B[0m\u001B[0;34m\u001B[0m\u001B[0m\n",
      "\u001B[0;32m/auto/users/mateo/nems_db/nems_lbhb/penetration_map.py\u001B[0m in \u001B[0;36mpenetration_map\u001B[0;34m(sites, equal_aspect, flip_X, flatten, flip_YZ, landmarks)\u001B[0m\n\u001B[1;32m     42\u001B[0m         \u001B[0mcoord_querry\u001B[0m \u001B[0;34m=\u001B[0m \u001B[0;34m\"select ecoordinates from gPenetration where penname=%s\"\u001B[0m\u001B[0;34m\u001B[0m\u001B[0;34m\u001B[0m\u001B[0m\n\u001B[1;32m     43\u001B[0m         \u001B[0mraw_coords\u001B[0m \u001B[0;34m=\u001B[0m \u001B[0mdb\u001B[0m\u001B[0;34m.\u001B[0m\u001B[0mpd_query\u001B[0m\u001B[0;34m(\u001B[0m\u001B[0mcoord_querry\u001B[0m\u001B[0;34m,\u001B[0m \u001B[0mparams\u001B[0m\u001B[0;34m=\u001B[0m\u001B[0;34m(\u001B[0m\u001B[0mpenetration\u001B[0m\u001B[0;34m,\u001B[0m\u001B[0;34m)\u001B[0m\u001B[0;34m)\u001B[0m\u001B[0;34m.\u001B[0m\u001B[0miloc\u001B[0m\u001B[0;34m[\u001B[0m\u001B[0;36m0\u001B[0m\u001B[0;34m,\u001B[0m \u001B[0;36m0\u001B[0m\u001B[0;34m]\u001B[0m\u001B[0;34m\u001B[0m\u001B[0;34m\u001B[0m\u001B[0m\n\u001B[0;32m---> 44\u001B[0;31m         \u001B[0mall_coords\u001B[0m \u001B[0;34m=\u001B[0m \u001B[0mnp\u001B[0m\u001B[0;34m.\u001B[0m\u001B[0masarray\u001B[0m\u001B[0;34m(\u001B[0m\u001B[0mraw_coords\u001B[0m\u001B[0;34m.\u001B[0m\u001B[0msplit\u001B[0m\u001B[0;34m(\u001B[0m\u001B[0;34m','\u001B[0m\u001B[0;34m)\u001B[0m\u001B[0;34m)\u001B[0m\u001B[0;34m.\u001B[0m\u001B[0mastype\u001B[0m\u001B[0;34m(\u001B[0m\u001B[0mfloat\u001B[0m\u001B[0;34m)\u001B[0m\u001B[0;34m.\u001B[0m\u001B[0msqueeze\u001B[0m\u001B[0;34m(\u001B[0m\u001B[0;34m)\u001B[0m\u001B[0;34m\u001B[0m\u001B[0;34m\u001B[0m\u001B[0m\n\u001B[0m\u001B[1;32m     45\u001B[0m \u001B[0;34m\u001B[0m\u001B[0m\n\u001B[1;32m     46\u001B[0m         \u001B[0;31m# Dimensions X:Antero-Posterior Y:Medio-Lateral Z:Dorso-Ventral\u001B[0m\u001B[0;34m\u001B[0m\u001B[0;34m\u001B[0m\u001B[0;34m\u001B[0m\u001B[0m\n",
      "\u001B[0;31mAttributeError\u001B[0m: 'NoneType' object has no attribute 'split'"
     ]
    }
   ],
   "source": [
    "# the anterior posterior axis is places with the knob to the left, i.e. higher values, are more anterior (left), and\n",
    "# lower values are most posterior (right)\n",
    "\n",
    "# mapping prior to viral injections\n",
    "first_mapping = ['TNC025a', 'TNC026a', 'TNC027a'] # PEG#1 A1#1 PEG#2\n",
    "\n",
    "# first pair of array recordings\n",
    "first_arrays = ['TNC028a', 'TNC029a']\n",
    "\n",
    "# mapping after array breackage, trying to find a good PEG spot\n",
    "second_mapping = ['TNC031a', 'TNC032a', 'TNC033a', 'TNC034a', 'TNC035a']\n",
    "\n",
    "sites = first_mapping + first_arrays + second_mapping  # last batch added 2021-07-30\n",
    "\n",
    "# Original landmark measurements\n",
    "# landmarks = {}\n",
    "\n",
    "# corrected to better align with corresponding penetrations\n",
    "landmarks = {}\n",
    "\n",
    "# fig, coords = penetration_map(sites, equal_aspect=True, flip_X=True, flatten=False, landmarks=landmarks)\n",
    "fig, coords = penetration_map(sites, equal_aspect=True, flip_X=True,\n",
    "                              flatten=True, flip_YZ=True,)\n",
    "fig.axes[0].grid()\n",
    "# saves the scatter\n",
    "# mappath = pl.Path('/auto/data/lbhb/photos/Craniotomies/Teonancatl/TNC_LH_map.png')\n",
    "# fig.savefig(mappath, transparent=True)\n",
    "\n"
   ],
   "metadata": {
    "collapsed": false,
    "pycharm": {
     "name": "#%%\n"
    }
   }
  }
 ],
 "metadata": {
  "kernelspec": {
   "display_name": "Python 3",
   "language": "python",
   "name": "python3"
  },
  "language_info": {
   "codemirror_mode": {
    "name": "ipython",
    "version": 2
   },
   "file_extension": ".py",
   "mimetype": "text/x-python",
   "name": "python",
   "nbconvert_exporter": "python",
   "pygments_lexer": "ipython2",
   "version": "2.7.6"
  }
 },
 "nbformat": 4,
 "nbformat_minor": 0
}