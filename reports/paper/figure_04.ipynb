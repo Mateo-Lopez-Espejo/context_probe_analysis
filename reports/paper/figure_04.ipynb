{
 "cells": [
  {
   "cell_type": "code",
   "execution_count": 1,
   "metadata": {
    "collapsed": true,
    "pycharm": {
     "name": "#%%\n"
    }
   },
   "outputs": [
    {
     "name": "stderr",
     "output_type": "stream",
     "text": [
      "[nems.configs.defaults INFO] Saving log messages to /tmp/nems/NEMS 2022-06-01 110829.log\n"
     ]
    }
   ],
   "source": [
    "import pathlib as pl\n",
    "from collections import defaultdict\n",
    "from configparser import ConfigParser\n",
    "import itertools as itt\n",
    "\n",
    "import joblib as jl\n",
    "import numpy as np\n",
    "import pandas as pd\n",
    "from IPython.display import Image\n",
    "from plotly.subplots import make_subplots\n",
    "import plotly.graph_objects as go\n",
    "import plotly.express as px\n",
    "from scipy.stats import pearsonr, linregress, sem, wilcoxon\n",
    "from sklearn.metrics import r2_score\n",
    "from nems.db import batch_comp\n",
    "\n",
    "from src.data.load import get_batch_ids\n",
    "from src.root_path import config_path, root_path\n",
    "from src.utils.subsets import cellid_A1_fit_set, cellid_PEG_fit_set, batch_map\n",
    "from src.utils.tools import get_quantile_means\n",
    "from src.visualization.palette import *\n",
    "from src.visualization.interactive import plot_raw_pair\n",
    "from src.models.modelnames import modelnames as all_modelnames\n",
    "from src.models.param_tools import get_population_weights, get_strf, get_pop_eg_psth\n",
    "\n",
    "config = ConfigParser()\n",
    "config.read_file(open(config_path / 'settings.ini'))\n"
   ]
  },
  {
   "cell_type": "code",
   "execution_count": 2,
   "outputs": [
    {
     "name": "stdout",
     "output_type": "stream",
     "text": [
      "found and loaded working data fram from cache\n",
      "(607040, 12)\n"
     ]
    },
    {
     "data": {
      "text/plain": "              id context_pair probe       value       metric    response  \\\n0   TNC016a-56-1        00_02     1   16.245159     integral   34.827586   \n1   TNC016a-56-1        00_02     1   72.799409  mass_center  124.158416   \n4   TNC016a-56-1        00_02     1    4.789977     integral   13.103448   \n5   TNC016a-56-1        00_02     1  367.505815  mass_center  375.526316   \n8   TNC016a-56-1        00_02     1    1.170461     integral        20.0   \n9   TNC016a-56-1        00_02     1  583.175578  mass_center  623.793103   \n12  TNC016a-56-1        00_02     1     4.64041     integral   13.448276   \n13  TNC016a-56-1        00_02     1  885.666719  mass_center  865.897436   \n16  TNC016a-56-1        00_02     1   26.846008     integral    81.37931   \n17  TNC016a-56-1        00_02     1   288.14056  mass_center       410.0   \n\n                                            modelname     nickname     site  \\\n0   ozgf.fs100.ch18-ld.popstate-epcpn.seq-avgreps-...  matchl_STRF  TNC016a   \n1   ozgf.fs100.ch18-ld.popstate-epcpn.seq-avgreps-...  matchl_STRF  TNC016a   \n4   ozgf.fs100.ch18-ld.popstate-epcpn.seq-avgreps-...  matchl_STRF  TNC016a   \n5   ozgf.fs100.ch18-ld.popstate-epcpn.seq-avgreps-...  matchl_STRF  TNC016a   \n8   ozgf.fs100.ch18-ld.popstate-epcpn.seq-avgreps-...  matchl_STRF  TNC016a   \n9   ozgf.fs100.ch18-ld.popstate-epcpn.seq-avgreps-...  matchl_STRF  TNC016a   \n12  ozgf.fs100.ch18-ld.popstate-epcpn.seq-avgreps-...  matchl_STRF  TNC016a   \n13  ozgf.fs100.ch18-ld.popstate-epcpn.seq-avgreps-...  matchl_STRF  TNC016a   \n16  ozgf.fs100.ch18-ld.popstate-epcpn.seq-avgreps-...  matchl_STRF  TNC016a   \n17  ozgf.fs100.ch18-ld.popstate-epcpn.seq-avgreps-...  matchl_STRF  TNC016a   \n\n   region  stim_count time_bin  \n0      A1          10        A  \n1      A1          10        A  \n4      A1          10        B  \n5      A1          10        B  \n8      A1          10        C  \n9      A1          10        C  \n12     A1          10        D  \n13     A1          10        D  \n16     A1          10     full  \n17     A1          10     full  ",
      "text/html": "<div>\n<style scoped>\n    .dataframe tbody tr th:only-of-type {\n        vertical-align: middle;\n    }\n\n    .dataframe tbody tr th {\n        vertical-align: top;\n    }\n\n    .dataframe thead th {\n        text-align: right;\n    }\n</style>\n<table border=\"1\" class=\"dataframe\">\n  <thead>\n    <tr style=\"text-align: right;\">\n      <th></th>\n      <th>id</th>\n      <th>context_pair</th>\n      <th>probe</th>\n      <th>value</th>\n      <th>metric</th>\n      <th>response</th>\n      <th>modelname</th>\n      <th>nickname</th>\n      <th>site</th>\n      <th>region</th>\n      <th>stim_count</th>\n      <th>time_bin</th>\n    </tr>\n  </thead>\n  <tbody>\n    <tr>\n      <th>0</th>\n      <td>TNC016a-56-1</td>\n      <td>00_02</td>\n      <td>1</td>\n      <td>16.245159</td>\n      <td>integral</td>\n      <td>34.827586</td>\n      <td>ozgf.fs100.ch18-ld.popstate-epcpn.seq-avgreps-...</td>\n      <td>matchl_STRF</td>\n      <td>TNC016a</td>\n      <td>A1</td>\n      <td>10</td>\n      <td>A</td>\n    </tr>\n    <tr>\n      <th>1</th>\n      <td>TNC016a-56-1</td>\n      <td>00_02</td>\n      <td>1</td>\n      <td>72.799409</td>\n      <td>mass_center</td>\n      <td>124.158416</td>\n      <td>ozgf.fs100.ch18-ld.popstate-epcpn.seq-avgreps-...</td>\n      <td>matchl_STRF</td>\n      <td>TNC016a</td>\n      <td>A1</td>\n      <td>10</td>\n      <td>A</td>\n    </tr>\n    <tr>\n      <th>4</th>\n      <td>TNC016a-56-1</td>\n      <td>00_02</td>\n      <td>1</td>\n      <td>4.789977</td>\n      <td>integral</td>\n      <td>13.103448</td>\n      <td>ozgf.fs100.ch18-ld.popstate-epcpn.seq-avgreps-...</td>\n      <td>matchl_STRF</td>\n      <td>TNC016a</td>\n      <td>A1</td>\n      <td>10</td>\n      <td>B</td>\n    </tr>\n    <tr>\n      <th>5</th>\n      <td>TNC016a-56-1</td>\n      <td>00_02</td>\n      <td>1</td>\n      <td>367.505815</td>\n      <td>mass_center</td>\n      <td>375.526316</td>\n      <td>ozgf.fs100.ch18-ld.popstate-epcpn.seq-avgreps-...</td>\n      <td>matchl_STRF</td>\n      <td>TNC016a</td>\n      <td>A1</td>\n      <td>10</td>\n      <td>B</td>\n    </tr>\n    <tr>\n      <th>8</th>\n      <td>TNC016a-56-1</td>\n      <td>00_02</td>\n      <td>1</td>\n      <td>1.170461</td>\n      <td>integral</td>\n      <td>20.0</td>\n      <td>ozgf.fs100.ch18-ld.popstate-epcpn.seq-avgreps-...</td>\n      <td>matchl_STRF</td>\n      <td>TNC016a</td>\n      <td>A1</td>\n      <td>10</td>\n      <td>C</td>\n    </tr>\n    <tr>\n      <th>9</th>\n      <td>TNC016a-56-1</td>\n      <td>00_02</td>\n      <td>1</td>\n      <td>583.175578</td>\n      <td>mass_center</td>\n      <td>623.793103</td>\n      <td>ozgf.fs100.ch18-ld.popstate-epcpn.seq-avgreps-...</td>\n      <td>matchl_STRF</td>\n      <td>TNC016a</td>\n      <td>A1</td>\n      <td>10</td>\n      <td>C</td>\n    </tr>\n    <tr>\n      <th>12</th>\n      <td>TNC016a-56-1</td>\n      <td>00_02</td>\n      <td>1</td>\n      <td>4.64041</td>\n      <td>integral</td>\n      <td>13.448276</td>\n      <td>ozgf.fs100.ch18-ld.popstate-epcpn.seq-avgreps-...</td>\n      <td>matchl_STRF</td>\n      <td>TNC016a</td>\n      <td>A1</td>\n      <td>10</td>\n      <td>D</td>\n    </tr>\n    <tr>\n      <th>13</th>\n      <td>TNC016a-56-1</td>\n      <td>00_02</td>\n      <td>1</td>\n      <td>885.666719</td>\n      <td>mass_center</td>\n      <td>865.897436</td>\n      <td>ozgf.fs100.ch18-ld.popstate-epcpn.seq-avgreps-...</td>\n      <td>matchl_STRF</td>\n      <td>TNC016a</td>\n      <td>A1</td>\n      <td>10</td>\n      <td>D</td>\n    </tr>\n    <tr>\n      <th>16</th>\n      <td>TNC016a-56-1</td>\n      <td>00_02</td>\n      <td>1</td>\n      <td>26.846008</td>\n      <td>integral</td>\n      <td>81.37931</td>\n      <td>ozgf.fs100.ch18-ld.popstate-epcpn.seq-avgreps-...</td>\n      <td>matchl_STRF</td>\n      <td>TNC016a</td>\n      <td>A1</td>\n      <td>10</td>\n      <td>full</td>\n    </tr>\n    <tr>\n      <th>17</th>\n      <td>TNC016a-56-1</td>\n      <td>00_02</td>\n      <td>1</td>\n      <td>288.14056</td>\n      <td>mass_center</td>\n      <td>410.0</td>\n      <td>ozgf.fs100.ch18-ld.popstate-epcpn.seq-avgreps-...</td>\n      <td>matchl_STRF</td>\n      <td>TNC016a</td>\n      <td>A1</td>\n      <td>10</td>\n      <td>full</td>\n    </tr>\n  </tbody>\n</table>\n</div>"
     },
     "execution_count": 2,
     "metadata": {},
     "output_type": "execute_result"
    }
   ],
   "source": [
    "summary_DF_file = pl.Path(config['paths']['analysis_cache']) / f'220520_minimal_DF'\n",
    "model_df_file = pl.Path(config['paths']['analysis_cache']) / f'220412_resp_pred_metrics_by_chunks'\n",
    "working_DF_file = pl.Path(config['paths']['analysis_cache']) / f'220531_fig4_wdf'\n",
    "\n",
    "recache_wdf = False\n",
    "\n",
    "\n",
    "if working_DF_file.exists() and not recache_wdf:\n",
    "    resp_wide = jl.load(working_DF_file)\n",
    "    print(\"found and loaded working data fram from cache\")\n",
    "else:\n",
    "    print('creating working dataframe ...')\n",
    "    DF_mass = jl.load(summary_DF_file)\n",
    "    DF = jl.load(model_df_file)\n",
    "\n",
    "    filter = DF_mass.query(f\"mult_comp_corr == 'bf_cp' and source == 'real' and cluster_threshold == 0.05 and \"\n",
    "                       f\"metric == 'integral' and value > 0 and \" # this line definese what is passed as significant\n",
    "                       f\"id in {list(cellid_A1_fit_set.union(cellid_PEG_fit_set))}\"\n",
    "            ).loc[:, ['id', 'context_pair', 'probe']] # these are the minimum columns to define an individual instance\n",
    "\n",
    "    resp_wide = pd.merge(filter, DF, on=['id', 'context_pair', 'probe'], validate='1:m')\\\n",
    "    .query(\"metric in ['integral', 'mass_center']\").rename(columns={'resp': 'response'})\n",
    "\n",
    "    del(DF_mass, DF, filter)\n",
    "    jl.dump(resp_wide, working_DF_file)\n",
    "    print('done')\n",
    "\n",
    "print(resp_wide.shape)\n",
    "resp_wide.head(10)"
   ],
   "metadata": {
    "collapsed": false,
    "pycharm": {
     "name": "#%%\n"
    }
   }
  },
  {
   "cell_type": "code",
   "execution_count": 3,
   "outputs": [
    {
     "data": {
      "text/plain": "['/auto/users/mateo/code/context_probe_analysis/data/220531_fig4_wdf']"
     },
     "execution_count": 3,
     "metadata": {},
     "output_type": "execute_result"
    }
   ],
   "source": [
    "working_DF_file = pl.Path(config['paths']['analysis_cache']) / f'220531_fig4_wdf'\n",
    "jl.dump(resp_wide, working_DF_file)\n"
   ],
   "metadata": {
    "collapsed": false,
    "pycharm": {
     "name": "#%%\n"
    }
   }
  },
  {
   "cell_type": "markdown",
   "source": [
    "# Full scatter example panels\n",
    "in this case for the worst and best model in the two time bins where they diverge"
   ],
   "metadata": {
    "collapsed": false
   }
  },
  {
   "cell_type": "code",
   "execution_count": 4,
   "outputs": [],
   "source": [
    "# save all the panels in a convenient dictionary.\n",
    "panels = defaultdict(list)"
   ],
   "metadata": {
    "collapsed": false,
    "pycharm": {
     "name": "#%%\n"
    }
   }
  },
  {
   "cell_type": "code",
   "execution_count": 37,
   "outputs": [
    {
     "name": "stdout",
     "output_type": "stream",
     "text": [
      "A, matchl_STRF, R2=-0.7420101129312067, r=0.4764106264708998, pvalue=0.0\n",
      "A, matchl_full, R2=-0.16972939961962208, r=0.6111180460529047, pvalue=0.0\n",
      "B, matchl_STRF, R2=-0.5435122133976757, r=0.43106062146777707, pvalue=0.0\n",
      "B, matchl_full, R2=0.19370957427775348, r=0.6967301893841072, pvalue=0.0\n"
     ]
    },
    {
     "data": {
      "image/png": "[encoded data removed]",
      "text/plain": "<IPython.core.display.Image object>"
     },
     "execution_count": 37,
     "metadata": {},
     "output_type": "execute_result"
    }
   ],
   "source": [
    "# panels = defaultdict(list)\n",
    "MODEL_COLORMAP = {'matchl_STRF': Orange,\n",
    "                  'matchl_self': Blue,\n",
    "                  'matchl_pop': Green,\n",
    "                  'matchl_full': Purple}\n",
    "\n",
    "decimate = 5000\n",
    "time_bins = ['A', 'B']\n",
    "selected = ['matchl_STRF', 'matchl_full']\n",
    "\n",
    "for cc, tbin in enumerate(time_bins):\n",
    "    panelname = f'{tbin}_scatter'\n",
    "    if panelname in panels:\n",
    "        panels.pop(panelname)\n",
    "\n",
    "    ranges = list()\n",
    "    for nn, nknm in enumerate(selected):\n",
    "        subplotdf = resp_wide.query(f\"metric == 'integral' and time_bin == '{tbin}' and  nickname == '{nknm}'\")\n",
    "\n",
    "        x = subplotdf.response.values.astype(float)\n",
    "        y = subplotdf.value.values.astype(float)\n",
    "        R2 = r2_score(x, y)\n",
    "        slope, bias, r, pval, _ = linregress(x, y)\n",
    "        print(f\"{tbin}, {nknm}, R2={R2}, r={r}, pvalue={pval}\")\n",
    "\n",
    "        xm, ym = get_quantile_means(x, y, decimate)\n",
    "\n",
    "        panels[panelname].append(\n",
    "            go.Scatter(x=xm, y=ym, mode='markers',\n",
    "                         opacity=0.8,\n",
    "                         marker=dict(\n",
    "                             opacity=0.8,\n",
    "                             color=MODEL_COLORMAP[nknm],\n",
    "                             size=2\n",
    "                         ),\n",
    "                         name=f'{nknm}',\n",
    "                         hoverinfo='skip', showlegend=False\n",
    "                         )\n",
    "        )\n",
    "\n",
    "        model_range = [np.nanmin(np.stack([xm, ym])),\n",
    "                       np.nanmax(np.stack([xm, ym]))]\n",
    "\n",
    "        # regression lines\n",
    "        panels[panelname].append(\n",
    "            go.Scatter(x=model_range,\n",
    "                         y=np.asarray(model_range)*slope+bias,\n",
    "                         mode='lines',\n",
    "                         line=dict(\n",
    "                             color=MODEL_COLORMAP[nknm],\n",
    "                             width=1\n",
    "                         ),\n",
    "                         opacity=1,\n",
    "                         name=f'{nknm}',\n",
    "                         hoverinfo='skip',\n",
    "                         showlegend=False\n",
    "                         )\n",
    "        )\n",
    "\n",
    "        ranges.append(model_range)\n",
    "\n",
    "    # unity line\n",
    "    ranges = np.stack(ranges, axis=1)\n",
    "    plot_range = [ranges[0, :].min(), ranges[1, :].max()]\n",
    "    plot_range = [plot_range[0] - (np.diff(plot_range)[0] * 0.025),\n",
    "                  plot_range[1] + (np.diff(plot_range)[0] * 0.025)]\n",
    "\n",
    "    panels[panelname].append(go.Scatter(x=plot_range, y=plot_range, mode='lines',\n",
    "                                        line=dict(color='black',\n",
    "                                                  dash='dot',\n",
    "                                                  width=1),\n",
    "                                        showlegend=False)\n",
    "                             )\n",
    "\n",
    "# test plotting please ignore\n",
    "fig = make_subplots(rows=1, cols=len(time_bins))\n",
    "for tt, tbin in enumerate(time_bins):\n",
    "    panel = panels[f'{tbin}_scatter']\n",
    "    fig.add_traces(panel, rows=[1] * len(panel), cols=[tt + 1] * len(panel))\n",
    "\n",
    "# fig.show()\n",
    "img_bytes = fig.to_image(format=\"png\", width=1300, height=600)\n",
    "Image(img_bytes)"
   ],
   "metadata": {
    "collapsed": false,
    "pycharm": {
     "name": "#%%\n"
    }
   }
  },
  {
   "cell_type": "markdown",
   "source": [
    "# bars summarizing the rest of models and time bins"
   ],
   "metadata": {
    "collapsed": false
   }
  },
  {
   "cell_type": "code",
   "execution_count": null,
   "outputs": [],
   "source": [
    "# calculates pearsons correlation and R2 between real and predicted integral values, for all combinations of models\n",
    "# and time bin chunks\n",
    "panelname = 'metric_reg_bars'\n",
    "\n",
    "def pearsonsr_bootstraped(x, y, montecarlo=1000):\n",
    "    r, p = pearsonr(x, y)\n",
    "    pearsons = np.empty(montecarlo)\n",
    "\n",
    "    if montecarlo > 2:\n",
    "        for ii in range(montecarlo):\n",
    "            idxs = np.random.choice(np.arange(x.size), size=x.size, replace=True)\n",
    "            r, p = pearsonr(x[idxs], y[idxs])\n",
    "            pearsons[ii] = r\n",
    "\n",
    "        e = np.std(pearsons)\n",
    "    else:\n",
    "        e = 0\n",
    "    return r, p, e\n",
    "\n",
    "to_regress = resp_wide.query(f\"metric == 'integral'\").loc[:, ['time_bin', 'nickname', 'response', 'value']]\n",
    "\n",
    "reg_df = to_regress.groupby(['time_bin', 'nickname']).apply(\n",
    "    lambda x: pearsonsr_bootstraped(\n",
    "        x['response'].values, x['value'].values, 1000)).reset_index()\n",
    "\n",
    "reg_df[['pearsonsr', 'pvalue', 'std']] = pd.DataFrame(reg_df[0].tolist(), index=reg_df.index)\n",
    "reg_df.drop(columns=[0], inplace=True)\n",
    "\n",
    "# this is time consuming, that is why i have separated data generation from plotting"
   ],
   "metadata": {
    "collapsed": false,
    "pycharm": {
     "name": "#%%\n",
     "is_executing": true
    }
   }
  },
  {
   "cell_type": "code",
   "execution_count": 99,
   "outputs": [
    {
     "data": {
      "image/png": "[encoded data removed]",
      "text/plain": "<IPython.core.display.Image object>"
     },
     "execution_count": 99,
     "metadata": {},
     "output_type": "execute_result"
    }
   ],
   "source": [
    "panelname = 'metric_reg_bars'\n",
    "display_name_map = {'matchl_STRF': 'STRF',\n",
    "                    'matchl_self': 'Self',\n",
    "                    'matchl_pop': 'Pop',\n",
    "                    'matchl_full': 'Full'}\n",
    "# toplot = pd.merge(reg_df, det_df, on=['time_bin', 'nickname'], validate='1:1')\n",
    "toplot = reg_df\n",
    "toplot['display_name'] = toplot.nickname.apply(lambda x: display_name_map[x])\n",
    "\n",
    "# creates and stores panel\n",
    "bars = px.bar(data_frame=toplot, x='time_bin', y='pearsonsr', color='nickname',\n",
    "              error_y='std', error_y_minus=None,\n",
    "              barmode='group',\n",
    "              # custom_data=['pvalue'], text='display_name',\n",
    "              category_orders={'time_bin': ['full', 'A', 'B', 'C', 'D'],\n",
    "                                                    'nickname': ['matchl_STRF',\n",
    "                                                                 'matchl_self',\n",
    "                                                                 'matchl_pop',\n",
    "                                                                 'matchl_full']},\n",
    "              color_discrete_map=MODEL_COLORMAP,\n",
    "              )\n",
    "\n",
    "bars.update_traces(error_y=dict(thickness=1,\n",
    "                                width = 2))\n",
    "\n",
    "# test plotting please ignore\n",
    "if panelname in panels:\n",
    "    panels.pop(panelname)\n",
    "panels[panelname].extend(bars['data'])\n",
    "\n",
    "panel = panels[panelname]\n",
    "fig = go.Figure().add_traces(panel)\n",
    "fig.update_layout(showlegend=False, template='simple_white')\n",
    "# fig.show()\n",
    "img_bytes = fig.to_image(format=\"png\", width=600, height=600)\n",
    "Image(img_bytes)"
   ],
   "metadata": {
    "collapsed": false,
    "pycharm": {
     "name": "#%%\n"
    }
   }
  },
  {
   "cell_type": "markdown",
   "source": [
    "# General model fitness\n",
    "this is a usefull plot that should be refactored into interactive"
   ],
   "metadata": {
    "collapsed": false
   }
  },
  {
   "cell_type": "code",
   "execution_count": 7,
   "outputs": [
    {
     "data": {
      "image/png": "[encoded data removed]",
      "text/plain": "<IPython.core.display.Image object>"
     },
     "execution_count": 7,
     "metadata": {},
     "output_type": "execute_result"
    }
   ],
   "source": [
    "# panels = defaultdict(list)\n",
    "\n",
    "stat = 'r_test'\n",
    "cellids = cellid_A1_fit_set.union(cellid_PEG_fit_set)\n",
    "nicknames = ['matchl_STRF', 'matchl_self', 'matchl_pop', 'matchl_full']\n",
    "modelnames = [mod for key, mod in all_modelnames.items() if key in nicknames]\n",
    "\n",
    "DF = batch_comp(batch=[326, 327], modelnames=modelnames, cellids=cellids, stat=stat)\n",
    "\n",
    "display_names = [display_name_map[nknm] for nknm in nicknames]\n",
    "DF.columns = display_names\n",
    "\n",
    "DF.reset_index(inplace=True)\n",
    "\n",
    "# add region information, is this really needed??\n",
    "A1df = get_batch_ids(326)\n",
    "A1df['region'] = 'A1'\n",
    "PEGdf = get_batch_ids(327)\n",
    "PEGdf['region'] = 'PEG'\n",
    "regdf = pd.concat([A1df, PEGdf])\n",
    "\n",
    "wide = pd.merge(DF, regdf, on='cellid').rename(columns={'cellid': 'id', 'siteid': 'site'})\n",
    "toplot = pd.melt(wide, id_vars=['id', 'site', 'region'], value_vars=display_names, var_name='model', value_name=stat)\n",
    "\n",
    "\n",
    "\n",
    "# creates and stores panels\n",
    "# single lines grayed out\n",
    "single_lines = list()\n",
    "for ll in wide.loc[:, display_names].values:\n",
    "    single_lines.append(\n",
    "        go.Scatter(x=display_names, y=ll,\n",
    "                   mode='lines',\n",
    "                   opacity=0.1,\n",
    "                   line=dict(\n",
    "                       color='gray',\n",
    "                       width=1\n",
    "                   ),\n",
    "                   showlegend=False\n",
    "                   )\n",
    "    )\n",
    "\n",
    "# mean and SEM line\n",
    "mean = wide.loc[:, display_names].values.mean(axis=0)\n",
    "err = sem(wide.loc[:, display_names].values, axis=0)\n",
    "# mean_line =     go.Scatter(x=display_names, y=mean,\n",
    "#                mode='lines',\n",
    "#                opacity=1,\n",
    "#                showlegend=False,\n",
    "#                line=dict(color='black'\n",
    "#                          )\n",
    "#                )\n",
    "\n",
    "\n",
    "# mean and SEM markers\n",
    "# added line to this single call, make sure it actually works\n",
    "mean_markers = go.Scatter(x=display_names, y=mean,\n",
    "               mode='markers+lines',\n",
    "               opacity=1,\n",
    "               showlegend=False,\n",
    "               marker=dict(color=[MODEL_COLORMAP[nknm] for nknm in nicknames],\n",
    "                           symbol='square',\n",
    "                           size=5,\n",
    "                           line=dict(color='black',\n",
    "                                     width=1)\n",
    "                           ),\n",
    "               error_y=dict(array=err,\n",
    "                            color='black',\n",
    "                            thickness=1,\n",
    "                            width = 10\n",
    "                            ),\n",
    "               line=dict(color='black'\n",
    "                         )\n",
    "               )\n",
    "\n",
    "\n",
    "# individual dots\n",
    "strip = px.strip(toplot, y=stat, x='model', color='model',\n",
    "                 color_discrete_map={display_name_map[nknm]: clr for nknm, clr in\n",
    "                                     MODEL_COLORMAP.items()},\n",
    "\n",
    "                 )\n",
    "strip = strip.update_traces(marker=dict(opacity=1,\n",
    "                                size=2)\n",
    "                    )['data']\n",
    "\n",
    "\n",
    "if 'model_fitness' in panels:\n",
    "    panels.pop('model_fitness')\n",
    "if 'model_fitness_summary' in panels:\n",
    "    panels.pop('model_fitness_summary')\n",
    "\n",
    "panels['model_fitness'].extend(single_lines)\n",
    "panels['model_fitness'].extend(strip)\n",
    "# panels['model_fitness'].append(mean_line)\n",
    "panels['model_fitness'].append(mean_markers)\n",
    "\n",
    "# panels['model_fitness_summary'].append(mean_line)\n",
    "panels['model_fitness_summary'].append(mean_markers)\n",
    "\n",
    "# test plotting please ignore\n",
    "panel1 = panels['model_fitness']\n",
    "panel2 = panels['model_fitness_summary']\n",
    "fig = make_subplots(cols=1,rows=2,shared_xaxes=False)\n",
    "fig.add_traces(panel1, cols=[1]*len(panel1), rows=[1]*len(panel1))\n",
    "fig.add_traces(panel2, cols=[1]*len(panel2), rows=[2]*len(panel2))\n",
    "fig.update_layout(showlegend=False, template='simple_white',\n",
    "                  xaxis1=dict(domain=[0, 1], anchor='y1'),\n",
    "                  yaxis1=dict(domain=[0, 1], anchor='x1',\n",
    "                              range=[0,1]),\n",
    "                  xaxis2=dict(domain=[0.15, 0.35], anchor='y2'),\n",
    "                  yaxis2=dict(domain=[0.7, 1], anchor='x2'),\n",
    "                  plot_bgcolor='rgba(256,256,256,0.2)') # background color changes for all subplots,\n",
    "                                                        # but is only relevant and visible for the inset!\n",
    "# fig.show()\n",
    "img_bytes = fig.to_image(format=\"png\", width=500, height=600)\n",
    "Image(img_bytes)"
   ],
   "metadata": {
    "collapsed": false,
    "pycharm": {
     "name": "#%%\n"
    }
   }
  },
  {
   "cell_type": "code",
   "execution_count": 8,
   "outputs": [
    {
     "name": "stdout",
     "output_type": "stream",
     "text": [
      "Wilcoxon: STRFvsSelf, pvalue=5.0753167687428426e-39\n",
      "Wilcoxon: STRFvsPop, pvalue=3.5171423551002404e-37\n",
      "Wilcoxon: STRFvsFull, pvalue=7.449166710711646e-37\n",
      "Wilcoxon: SelfvsPop, pvalue=2.7508302854312496e-24\n",
      "Wilcoxon: SelfvsFull, pvalue=2.0663645993695604e-35\n",
      "Wilcoxon: PopvsFull, pvalue=3.1746520868200875e-34\n"
     ]
    }
   ],
   "source": [
    "for m0,m1 in itt.combinations(display_names, r=2):\n",
    "    out = wilcoxon(wide[m0], wide[m1])\n",
    "    print(f'Wilcoxon: {m0}vs{m1}, pvalue={out.pvalue}')\n"
   ],
   "metadata": {
    "collapsed": false,
    "pycharm": {
     "name": "#%%\n"
    }
   }
  },
  {
   "cell_type": "markdown",
   "source": [],
   "metadata": {
    "collapsed": false,
    "pycharm": {
     "name": "#%% md\n"
    }
   }
  },
  {
   "cell_type": "markdown",
   "source": [
    "# example model fits"
   ],
   "metadata": {
    "collapsed": false
   }
  },
  {
   "cell_type": "code",
   "execution_count": 9,
   "outputs": [
    {
     "name": "stdout",
     "output_type": "stream",
     "text": [
      "enforcing model raster_fs\n",
      "enforcing model raster_fs\n"
     ]
    },
    {
     "data": {
      "image/png": "[encoded data removed]",
      "text/plain": "<IPython.core.display.Image object>"
     },
     "execution_count": 9,
     "metadata": {},
     "output_type": "execute_result"
    }
   ],
   "source": [
    "selected = ['matchl_STRF', 'matchl_full']\n",
    "eg_cellid, eg_contexts, eg_probe= 'TNC014a-22-2', (8, 10), 8\n",
    "\n",
    "STRF_eg = plot_raw_pair(eg_cellid, (0, 8), 3, modelname=all_modelnames[selected[0]], batch=batch_map[eg_cellid])\n",
    "STRF_eg.update_traces(line_width=1)\n",
    "full_eg = plot_raw_pair(eg_cellid, (0, 8), 3, modelname=all_modelnames[selected[1]], batch=batch_map[eg_cellid])\n",
    "full_eg.update_traces(line_width=1)\n",
    "\n",
    "if 'STRF_eg' in panels:\n",
    "    panels.pop('STRF_eg')\n",
    "if 'full_eg' in panels:\n",
    "    panels.pop('full_eg')\n",
    "panels[\"STRF_eg\"] = STRF_eg['data']\n",
    "panels[\"full_eg\"] = full_eg['data']\n",
    "\n",
    "\n",
    "img_bytes = full_eg.to_image(format=\"png\", width=600, height=600)\n",
    "Image(img_bytes)"
   ],
   "metadata": {
    "collapsed": false,
    "pycharm": {
     "name": "#%%\n"
    }
   }
  },
  {
   "cell_type": "markdown",
   "source": [
    "# Model schematic"
   ],
   "metadata": {
    "collapsed": false
   }
  },
  {
   "cell_type": "code",
   "execution_count": 11,
   "outputs": [
    {
     "name": "stderr",
     "output_type": "stream",
     "text": [
      "[nems.xforms INFO] Loading xfspec and context from /auto/data/nems_db/results/326/TNC014a-22-2/ozgf.fs100.ch18-ld.popstate-epcpn.seq-avgreps-shfcat.i.resp.state.o.state.mm-dli...2230766671832489790 ...\n",
      "[nems.xforms INFO] Loading xfspec and context from /auto/data/nems_db/results/326/TNC014a-22-2/ozgf.fs100.ch18-ld.popstate-epcpn.seq-avgreps-shfcat.i.resp.state.o.state.mm-dli...2230766671832489790 ...\n"
     ]
    }
   ],
   "source": [
    "eg_cellid, eg_contexts, eg_probe= 'TNC014a-22-2', (8, 10), 8\n",
    "eg_ctx = 10,\n",
    "eg_prb = eg_probe - 1\n",
    "eg_modelname = all_modelnames['matchl_full']\n",
    "\n",
    "# get filters\n",
    "pop_weight = get_population_weights(eg_cellid, batch_map[eg_cellid], eg_modelname)\n",
    "strf = get_strf(eg_cellid, batch_map[eg_cellid], eg_modelname)\n",
    "\n",
    "# get psths\n",
    "resp_raster, pop_raster = get_pop_eg_psth(eg_cellid, batch_map[eg_cellid], eg_modelname, part='all')\n",
    "\n",
    "resp_raster = resp_raster[0, 0, eg_ctx, eg_prb, :].squeeze()\n",
    "pop_raster = pop_raster[0, :, eg_ctx, eg_prb, :].squeeze()\n"
   ],
   "metadata": {
    "collapsed": false,
    "pycharm": {
     "name": "#%%\n"
    }
   }
  },
  {
   "cell_type": "code",
   "execution_count": 119,
   "outputs": [
    {
     "data": {
      "application/vnd.plotly.v1+json": {
       "data": [
        {
         "line": {
          "color": "gray",
          "width": 1
         },
         "mode": "lines",
         "opacity": 1,
         "showlegend": false,
         "x": [
          0.0,
          1.0,
          2.0,
          3.0,
          4.0,
          5.0,
          6.0,
          7.0,
          8.0,
          9.0,
          10.0,
          11.0,
          12.0,
          13.0,
          14.0
         ],
         "y": [
          4.125,
          4.0,
          3.5,
          2.666666666666667,
          2.5,
          3.2222222222222223,
          2.3636363636363633,
          3.1428571428571432,
          2.25,
          2.428571428571429,
          2.111111111111111,
          5.0,
          5.0,
          2.875,
          1.7142857142857144
         ],
         "type": "scatter"
        },
        {
         "line": {
          "color": "gray",
          "width": 1
         },
         "mode": "lines",
         "opacity": 1,
         "showlegend": false,
         "x": [
          0.0,
          1.0,
          2.0,
          3.0,
          4.0,
          5.0,
          6.0,
          7.0,
          8.0,
          9.0,
          10.0,
          11.0,
          12.0,
          13.0,
          14.0
         ],
         "y": [
          2.0,
          2.0,
          2.0,
          2.0,
          2.0,
          2.0,
          2.0,
          2.0,
          2.0,
          2.7142857142857144,
          2.0,
          3.0,
          2.0,
          2.625,
          2.7142857142857144
         ],
         "type": "scatter"
        },
        {
         "line": {
          "color": "gray",
          "width": 1
         },
         "mode": "lines",
         "opacity": 1,
         "showlegend": false,
         "x": [
          0.0,
          1.0,
          2.0,
          3.0,
          4.0,
          5.0,
          6.0,
          7.0,
          8.0,
          9.0,
          10.0,
          11.0,
          12.0,
          13.0,
          14.0
         ],
         "y": [
          3.625,
          4.0,
          4.666666666666667,
          3.0,
          4.5,
          3.5555555555555554,
          4.363636363636363,
          5.142857142857143,
          4.25,
          6.571428571428571,
          4.111111111111111,
          4.0,
          5.0,
          4.25,
          5.142857142857143
         ],
         "type": "scatter"
        },
        {
         "line": {
          "color": "gray",
          "width": 1
         },
         "mode": "lines",
         "opacity": 1,
         "showlegend": false,
         "x": [
          0.0,
          1.0,
          2.0,
          3.0,
          4.0,
          5.0,
          6.0,
          7.0,
          8.0,
          9.0,
          10.0,
          11.0,
          12.0,
          13.0,
          14.0
         ],
         "y": [
          5.875,
          5.0,
          5.666666666666667,
          4.0,
          5.0,
          4.555555555555555,
          4.0,
          4.0,
          4.0,
          7.571428571428571,
          5.666666666666666,
          6.0,
          5.0,
          5.875,
          4.0
         ],
         "type": "scatter"
        },
        {
         "line": {
          "color": "gray",
          "width": 1
         },
         "mode": "lines",
         "opacity": 1,
         "showlegend": false,
         "x": [
          0.0,
          1.0,
          2.0,
          3.0,
          4.0,
          5.0,
          6.0,
          7.0,
          8.0,
          9.0,
          10.0,
          11.0,
          12.0,
          13.0,
          14.0
         ],
         "y": [
          5.625,
          5.0,
          5.0,
          5.833333333333334,
          5.0,
          5.0,
          5.0,
          5.0,
          5.625,
          5.0,
          5.0,
          5.0,
          7.0,
          5.0,
          5.0
         ],
         "type": "scatter"
        },
        {
         "line": {
          "color": "gray",
          "width": 1
         },
         "mode": "lines",
         "opacity": 1,
         "showlegend": false,
         "x": [
          0.0,
          1.0,
          2.0,
          3.0,
          4.0,
          5.0,
          6.0,
          7.0,
          8.0,
          9.0,
          10.0,
          11.0,
          12.0,
          13.0,
          14.0
         ],
         "y": [
          8.5,
          9.0,
          8.5,
          8.5,
          7.5,
          7.111111111111111,
          6.909090909090909,
          7.428571428571429,
          6.625,
          6.714285714285714,
          7.111111111111111,
          11.0,
          10.0,
          6.625,
          8.857142857142858
         ],
         "type": "scatter"
        },
        {
         "line": {
          "color": "gray",
          "width": 1
         },
         "mode": "lines",
         "opacity": 1,
         "showlegend": false,
         "x": [
          0.0,
          1.0,
          2.0,
          3.0,
          4.0,
          5.0,
          6.0,
          7.0,
          8.0,
          9.0,
          10.0,
          11.0,
          12.0,
          13.0,
          14.0
         ],
         "y": [
          12.0,
          8.0,
          7.0,
          7.833333333333334,
          7.0,
          7.0,
          7.0,
          7.714285714285714,
          8.875,
          7.714285714285714,
          7.555555555555555,
          7.0,
          7.0,
          7.625,
          7.714285714285714
         ],
         "type": "scatter"
        },
        {
         "line": {
          "color": "gray",
          "width": 1
         },
         "mode": "lines",
         "opacity": 1,
         "showlegend": false,
         "x": [
          0.0,
          1.0,
          2.0,
          3.0,
          4.0,
          5.0,
          6.0,
          7.0,
          8.0,
          9.0,
          10.0,
          11.0,
          12.0,
          13.0,
          14.0
         ],
         "y": [
          10.5,
          13.0,
          11.333333333333334,
          11.333333333333334,
          13.0,
          10.777777777777779,
          9.818181818181818,
          13.0,
          11.125,
          11.571428571428571,
          9.666666666666666,
          13.0,
          12.0,
          11.75,
          10.142857142857142
         ],
         "type": "scatter"
        },
        {
         "line": {
          "color": "gray",
          "width": 1
         },
         "mode": "lines",
         "opacity": 1,
         "showlegend": false,
         "x": [
          0.0,
          1.0,
          2.0,
          3.0,
          4.0,
          5.0,
          6.0,
          7.0,
          8.0,
          9.0,
          10.0,
          11.0,
          12.0,
          13.0,
          14.0
         ],
         "y": [
          9.0,
          9.0,
          9.0,
          9.0,
          10.0,
          10.11111111111111,
          9.454545454545455,
          9.0,
          10.25,
          9.0,
          9.0,
          10.0,
          10.0,
          9.625,
          9.714285714285715
         ],
         "type": "scatter"
        },
        {
         "line": {
          "color": "gray",
          "width": 1
         },
         "mode": "lines",
         "opacity": 1,
         "showlegend": false,
         "x": [
          0.0,
          1.0,
          2.0,
          3.0,
          4.0,
          5.0,
          6.0,
          7.0,
          8.0,
          9.0,
          10.0,
          11.0,
          12.0,
          13.0,
          14.0
         ],
         "y": [
          13.125,
          15.0,
          14.166666666666668,
          12.5,
          13.0,
          15.0,
          13.181818181818182,
          13.571428571428571,
          13.125,
          14.285714285714286,
          10.555555555555555,
          14.0,
          15.0,
          15.0,
          15.0
         ],
         "type": "scatter"
        },
        {
         "line": {
          "color": "gray",
          "width": 1
         },
         "mode": "lines",
         "opacity": 1,
         "showlegend": false,
         "x": [
          0.0,
          1.0,
          2.0,
          3.0,
          4.0,
          5.0,
          6.0,
          7.0,
          8.0,
          9.0,
          10.0,
          11.0,
          12.0,
          13.0,
          14.0
         ],
         "y": [
          12.25,
          16.0,
          14.333333333333334,
          14.333333333333334,
          12.5,
          12.666666666666666,
          13.272727272727273,
          12.428571428571429,
          14.75,
          12.428571428571429,
          14.88888888888889,
          14.0,
          14.0,
          14.125,
          13.142857142857142
         ],
         "type": "scatter"
        },
        {
         "line": {
          "color": "gray",
          "width": 1
         },
         "mode": "lines",
         "opacity": 1,
         "showlegend": false,
         "x": [
          0.0,
          1.0,
          2.0,
          3.0,
          4.0,
          5.0,
          6.0,
          7.0,
          8.0,
          9.0,
          10.0,
          11.0,
          12.0,
          13.0,
          14.0
         ],
         "y": [
          12.625,
          15.0,
          12.833333333333334,
          13.666666666666668,
          13.0,
          13.11111111111111,
          12.0,
          12.714285714285715,
          13.875,
          14.142857142857142,
          13.666666666666666,
          12.0,
          15.0,
          13.25,
          12.714285714285715
         ],
         "type": "scatter"
        },
        {
         "line": {
          "color": "gray",
          "width": 1
         },
         "mode": "lines",
         "opacity": 1,
         "showlegend": false,
         "x": [
          0.0,
          1.0,
          2.0,
          3.0,
          4.0,
          5.0,
          6.0,
          7.0,
          8.0,
          9.0,
          10.0,
          11.0,
          12.0,
          13.0,
          14.0
         ],
         "y": [
          13.0,
          13.0,
          13.833333333333334,
          13.0,
          13.5,
          14.11111111111111,
          13.454545454545455,
          13.0,
          13.625,
          13.0,
          13.0,
          15.0,
          13.0,
          13.0,
          13.714285714285715
         ],
         "type": "scatter"
        },
        {
         "line": {
          "color": "gray",
          "width": 1
         },
         "mode": "lines",
         "opacity": 1,
         "showlegend": false,
         "x": [
          0.0,
          1.0,
          2.0,
          3.0,
          4.0,
          5.0,
          6.0,
          7.0,
          8.0,
          9.0,
          10.0,
          11.0,
          12.0,
          13.0,
          14.0
         ],
         "y": [
          14.0,
          14.0,
          15.666666666666668,
          15.666666666666668,
          14.0,
          14.555555555555555,
          14.90909090909091,
          14.0,
          14.625,
          14.714285714285715,
          15.11111111111111,
          16.0,
          15.0,
          14.0,
          14.0
         ],
         "type": "scatter"
        },
        {
         "line": {
          "color": "gray",
          "width": 1
         },
         "mode": "lines",
         "opacity": 1,
         "showlegend": false,
         "x": [
          0.0,
          1.0,
          2.0,
          3.0,
          4.0,
          5.0,
          6.0,
          7.0,
          8.0,
          9.0,
          10.0,
          11.0,
          12.0,
          13.0,
          14.0
         ],
         "y": [
          15.625,
          16.0,
          17.5,
          20.0,
          15.5,
          16.666666666666664,
          16.81818181818182,
          15.714285714285715,
          16.25,
          16.42857142857143,
          16.11111111111111,
          18.0,
          16.0,
          18.125,
          15.714285714285715
         ],
         "type": "scatter"
        },
        {
         "line": {
          "color": "gray",
          "width": 1
         },
         "mode": "lines",
         "opacity": 1,
         "showlegend": false,
         "x": [
          0.0,
          1.0,
          2.0,
          3.0,
          4.0,
          5.0,
          6.0,
          7.0,
          8.0,
          9.0,
          10.0,
          11.0,
          12.0,
          13.0,
          14.0
         ],
         "y": [
          16.625,
          16.0,
          16.0,
          17.666666666666668,
          16.5,
          16.555555555555557,
          16.454545454545453,
          16.0,
          16.0,
          17.42857142857143,
          16.555555555555557,
          16.0,
          16.0,
          16.0,
          16.714285714285715
         ],
         "type": "scatter"
        },
        {
         "line": {
          "color": "gray",
          "width": 1
         },
         "mode": "lines",
         "opacity": 1,
         "showlegend": false,
         "x": [
          0.0,
          1.0,
          2.0,
          3.0,
          4.0,
          5.0,
          6.0,
          7.0,
          8.0,
          9.0,
          10.0,
          11.0,
          12.0,
          13.0,
          14.0
         ],
         "y": [
          17.0,
          17.0,
          17.0,
          17.0,
          17.0,
          17.0,
          17.0,
          17.0,
          17.0,
          17.0,
          17.0,
          17.0,
          18.0,
          17.0,
          17.0
         ],
         "type": "scatter"
        },
        {
         "line": {
          "color": "gray",
          "width": 1
         },
         "mode": "lines",
         "opacity": 1,
         "showlegend": false,
         "x": [
          0.0,
          1.0,
          2.0,
          3.0,
          4.0,
          5.0,
          6.0,
          7.0,
          8.0,
          9.0,
          10.0,
          11.0,
          12.0,
          13.0,
          14.0
         ],
         "y": [
          19.25,
          18.0,
          20.5,
          23.0,
          18.5,
          19.666666666666668,
          18.454545454545453,
          18.0,
          18.625,
          19.42857142857143,
          18.555555555555557,
          19.0,
          19.0,
          18.625,
          19.42857142857143
         ],
         "type": "scatter"
        },
        {
         "line": {
          "color": "gray",
          "width": 1
         },
         "mode": "lines",
         "opacity": 1,
         "showlegend": false,
         "x": [
          0.0,
          1.0,
          2.0,
          3.0,
          4.0,
          5.0,
          6.0,
          7.0,
          8.0,
          9.0,
          10.0,
          11.0,
          12.0,
          13.0,
          14.0
         ],
         "y": [
          19.0,
          19.0,
          19.0,
          19.0,
          19.0,
          19.0,
          19.454545454545453,
          19.0,
          19.0,
          19.0,
          19.0,
          19.0,
          19.0,
          19.625,
          19.0
         ],
         "type": "scatter"
        },
        {
         "line": {
          "color": "gray",
          "width": 1
         },
         "mode": "lines",
         "opacity": 1,
         "showlegend": false,
         "x": [
          0.0,
          1.0,
          2.0,
          3.0,
          4.0,
          5.0,
          6.0,
          7.0,
          8.0,
          9.0,
          10.0,
          11.0,
          12.0,
          13.0,
          14.0
         ],
         "y": [
          20.625,
          21.0,
          20.833333333333332,
          20.833333333333332,
          20.5,
          21.666666666666668,
          20.0,
          21.42857142857143,
          20.625,
          21.42857142857143,
          22.22222222222222,
          22.0,
          22.0,
          20.625,
          22.142857142857142
         ],
         "type": "scatter"
        },
        {
         "line": {
          "color": "gray",
          "width": 1
         },
         "mode": "lines",
         "opacity": 1,
         "showlegend": false,
         "x": [
          0.0,
          1.0,
          2.0,
          3.0,
          4.0,
          5.0,
          6.0,
          7.0,
          8.0,
          9.0,
          10.0,
          11.0,
          12.0,
          13.0,
          14.0
         ],
         "y": [
          21.0,
          22.0,
          21.0,
          21.833333333333332,
          22.0,
          21.0,
          21.0,
          21.0,
          21.625,
          23.142857142857142,
          21.0,
          22.0,
          21.0,
          21.625,
          22.42857142857143
         ],
         "type": "scatter"
        },
        {
         "line": {
          "color": "gray",
          "width": 1
         },
         "mode": "lines",
         "opacity": 1,
         "showlegend": false,
         "x": [
          0.0,
          1.0,
          2.0,
          3.0,
          4.0,
          5.0,
          6.0,
          7.0,
          8.0,
          9.0,
          10.0,
          11.0,
          12.0,
          13.0,
          14.0
         ],
         "y": [
          23.25,
          26.0,
          23.666666666666668,
          26.166666666666668,
          23.5,
          23.11111111111111,
          24.272727272727273,
          22.714285714285715,
          23.875,
          24.142857142857142,
          22.0,
          24.0,
          24.0,
          23.25,
          22.0
         ],
         "type": "scatter"
        },
        {
         "line": {
          "color": "gray",
          "width": 1
         },
         "mode": "lines",
         "opacity": 1,
         "showlegend": false,
         "x": [
          0.0,
          1.0,
          2.0,
          3.0,
          4.0,
          5.0,
          6.0,
          7.0,
          8.0,
          9.0,
          10.0,
          11.0,
          12.0,
          13.0,
          14.0
         ],
         "y": [
          23.0,
          23.0,
          23.0,
          23.0,
          23.0,
          23.0,
          23.0,
          23.0,
          23.0,
          23.714285714285715,
          23.0,
          23.0,
          23.0,
          23.625,
          23.0
         ],
         "type": "scatter"
        },
        {
         "line": {
          "color": "gray",
          "width": 1
         },
         "mode": "lines",
         "opacity": 1,
         "showlegend": false,
         "x": [
          0.0,
          1.0,
          2.0,
          3.0,
          4.0,
          5.0,
          6.0,
          7.0,
          8.0,
          9.0,
          10.0,
          11.0,
          12.0,
          13.0,
          14.0
         ],
         "y": [
          24.0,
          24.0,
          24.0,
          24.0,
          24.5,
          24.0,
          24.454545454545453,
          24.714285714285715,
          24.625,
          24.714285714285715,
          24.555555555555557,
          25.0,
          25.0,
          24.0,
          24.714285714285715
         ],
         "type": "scatter"
        },
        {
         "line": {
          "color": "gray",
          "width": 1
         },
         "mode": "lines",
         "opacity": 1,
         "showlegend": false,
         "x": [
          0.0,
          1.0,
          2.0,
          3.0,
          4.0,
          5.0,
          6.0,
          7.0,
          8.0,
          9.0,
          10.0,
          11.0,
          12.0,
          13.0,
          14.0
         ],
         "y": [
          25.0,
          25.0,
          25.0,
          25.0,
          25.0,
          25.0,
          25.0,
          25.0,
          25.0,
          25.0,
          25.0,
          25.0,
          25.0,
          25.0,
          25.0
         ],
         "type": "scatter"
        },
        {
         "line": {
          "color": "gray",
          "width": 1
         },
         "mode": "lines",
         "opacity": 1,
         "showlegend": false,
         "x": [
          0.0,
          1.0,
          2.0,
          3.0,
          4.0,
          5.0,
          6.0,
          7.0,
          8.0,
          9.0,
          10.0,
          11.0,
          12.0,
          13.0,
          14.0
         ],
         "y": [
          26.0,
          27.0,
          26.833333333333332,
          26.0,
          26.0,
          26.555555555555557,
          26.0,
          28.142857142857142,
          26.0,
          27.42857142857143,
          26.0,
          26.0,
          26.0,
          27.25,
          26.0
         ],
         "type": "scatter"
        },
        {
         "line": {
          "color": "gray",
          "width": 1
         },
         "mode": "lines",
         "opacity": 1,
         "showlegend": false,
         "x": [
          0.0,
          1.0,
          2.0,
          3.0,
          4.0,
          5.0,
          6.0,
          7.0,
          8.0,
          9.0,
          10.0,
          11.0,
          12.0,
          13.0,
          14.0
         ],
         "y": [
          27.0,
          27.0,
          27.0,
          27.0,
          27.5,
          27.555555555555557,
          27.454545454545453,
          27.714285714285715,
          28.25,
          29.142857142857142,
          28.11111111111111,
          27.0,
          28.0,
          27.625,
          28.42857142857143
         ],
         "type": "scatter"
        },
        {
         "line": {
          "color": "gray",
          "width": 1
         },
         "mode": "lines",
         "opacity": 1,
         "showlegend": false,
         "x": [
          0.0,
          1.0,
          2.0,
          3.0,
          4.0,
          5.0,
          6.0,
          7.0,
          8.0,
          9.0,
          10.0,
          11.0,
          12.0,
          13.0,
          14.0
         ],
         "y": [
          29.25,
          31.0,
          32.16666666666667,
          29.666666666666668,
          29.5,
          29.11111111111111,
          28.90909090909091,
          31.571428571428573,
          28.625,
          29.42857142857143,
          30.22222222222222,
          31.0,
          29.0,
          30.5,
          29.42857142857143
         ],
         "type": "scatter"
        },
        {
         "line": {
          "color": "gray",
          "width": 1
         },
         "mode": "lines",
         "opacity": 1,
         "showlegend": false,
         "x": [
          0.0,
          1.0,
          2.0,
          3.0,
          4.0,
          5.0,
          6.0,
          7.0,
          8.0,
          9.0,
          10.0,
          11.0,
          12.0,
          13.0,
          14.0
         ],
         "y": [
          29.0,
          29.0,
          29.0,
          29.0,
          29.0,
          29.0,
          29.0,
          29.0,
          29.0,
          29.0,
          29.0,
          29.0,
          29.0,
          29.0,
          29.0
         ],
         "type": "scatter"
        },
        {
         "line": {
          "color": "gray",
          "width": 1
         },
         "mode": "lines",
         "opacity": 1,
         "showlegend": false,
         "x": [
          0.0,
          1.0,
          2.0,
          3.0,
          4.0,
          5.0,
          6.0,
          7.0,
          8.0,
          9.0,
          10.0,
          11.0,
          12.0,
          13.0,
          14.0
         ],
         "y": [
          31.25,
          30.0,
          30.833333333333332,
          30.833333333333332,
          30.5,
          32.22222222222222,
          31.363636363636363,
          31.42857142857143,
          31.875,
          31.42857142857143,
          30.555555555555557,
          31.0,
          31.0,
          31.25,
          30.714285714285715
         ],
         "type": "scatter"
        },
        {
         "line": {
          "color": "black",
          "width": 2
         },
         "mode": "lines",
         "opacity": 1,
         "showlegend": false,
         "x": [
          0.0,
          1.0,
          2.0,
          3.0,
          4.0,
          5.0,
          6.0,
          7.0,
          8.0,
          9.0,
          10.0,
          11.0,
          12.0,
          13.0,
          14.0,
          15.0,
          16.0,
          17.0,
          18.0,
          19.0,
          20.0,
          21.0,
          22.0,
          23.0,
          24.0,
          25.0,
          26.0,
          27.0,
          28.0,
          29.0,
          30.0,
          31.0
         ],
         "y": [
          0.0,
          0.0,
          0.425531914893617,
          0.5319148936170213,
          0.425531914893617,
          0.2127659574468085,
          0.10638297872340426,
          0.10638297872340426,
          0.10638297872340426,
          0.0,
          0.0,
          0.10638297872340426,
          0.2127659574468085,
          0.0,
          0.0,
          0.0,
          0.10638297872340426,
          0.5319148936170213,
          1.8085106382978722,
          0.3191489361702127,
          0.851063829787234,
          1.0638297872340425,
          3.0851063829787235,
          3.51063829787234,
          3.191489361702127,
          1.0638297872340425,
          1.1702127659574468,
          1.8085106382978722,
          0.851063829787234,
          1.8085106382978722,
          0.7446808510638298,
          0.425531914893617
         ],
         "type": "scatter"
        },
        {
         "dy": 2,
         "showscale": false,
         "y0": 36,
         "z": [
          [
           -8.936908722446499E-5,
           -0.0011537969136607188,
           -0.0013461256790156494,
           0.0014601300836751619,
           -0.0013169575923674846,
           -0.001846677989296767,
           -2.8561879388763273E-4,
           1.850880886889069E-4,
           -0.001099129476850262,
           -7.301598069858728E-4,
           0.0011029910068036716,
           -0.004091678603729882,
           -0.0012486845973516045,
           -5.206125205248145E-4,
           -2.9911486937781237E-4,
           -0.0025256759374103995,
           -0.0019799367008675427,
           0.0022915582056858186,
           0.002060840964475698,
           -2.881783186307446E-4,
           -0.004019103284300617,
           -0.0035049362256591473,
           -0.005062230354443966,
           -0.003748809107055113,
           0.0010966699782861624,
           0.0031171503129351213,
           -0.00321051269728906,
           0.008088131219514962,
           0.020166901549273693,
           0.008639681164595455
          ],
          [
           -9.659599298348886E-5,
           -0.0012470996631800846,
           -0.0014549812545192218,
           0.0015782047204243592,
           -0.0014234544662223775,
           -0.0019960111447579094,
           -3.087155958192398E-4,
           2.0005539131686087E-4,
           -0.0011880114985073833,
           -7.892047886232081E-4,
           0.0011921852943004207,
           -0.004422555605876048,
           -0.0013496605185349456,
           -5.627122861109929E-4,
           -3.2330304270766617E-4,
           -0.0027299168281297408,
           -0.0021400459331579365,
           0.002476866970809646,
           0.00222749258750497,
           -3.1148209866496896E-4,
           -0.00434411142272404,
           -0.0037883658161461517,
           -0.005471591833208421,
           -0.004051959681450161,
           0.001185353110541039,
           0.0033692212722335278,
           -0.003470133483648685,
           0.008742184694887729,
           0.021797714859272628,
           0.009338336186188338
          ],
          [
           -1.0194561501456979E-4,
           -0.0013161657975718306,
           -0.001535560163991339,
           0.0016656079188508324,
           -0.0015022873777909291,
           -0.0021065530509434506,
           -3.258126999715329E-4,
           2.1113474042617776E-4,
           -0.001253805247184711,
           -8.329120604659952E-4,
           0.0012582101936625548,
           -0.004667482959197205,
           -0.0014244066174302571,
           -5.938760844214864E-4,
           -3.412080201975716E-4,
           -0.002881103463886751,
           -0.002258564688625399,
           0.0026140393493509057,
           0.002350854261753952,
           -3.287324156381613E-4,
           -0.004584694426787648,
           -0.0039981708464160255,
           -0.00577461628910917,
           -0.00427636291093653,
           0.0012509996339516382,
           0.0035558134877989073,
           -0.0036623143594961107,
           0.009226339186177487,
           0.023004902984129084,
           0.009855506386031023
          ],
          [
           -1.0505473680212821E-4,
           -0.001356306020931952,
           -0.0015823914432110476,
           0.0017164053746245684,
           -0.0015481039086617883,
           -0.00217079838397126,
           -3.3574928590512064E-4,
           2.1757389547444247E-4,
           -0.0012920436080089595,
           -8.58314085201879E-4,
           0.001296582895871328,
           -0.004809831141209974,
           -0.0014678479527732422,
           -6.119880264890371E-4,
           -3.5161413025472637E-4,
           -0.0029689709170430253,
           -0.0023274460493490725,
           0.0026937619219543508,
           0.002422550255775364,
           -3.3875804661396387E-4,
           -0.004724517736790593,
           -0.004120106449896335,
           -0.005950729654227357,
           -0.004406782773487747,
           0.0012891524296122535,
           0.0036642581441564135,
           -0.0037740070631633554,
           0.009507722668724026,
           0.023706502999768807,
           0.010156078113690431
          ],
          [
           -1.0570617979544164E-4,
           -0.0013647164561109877,
           -0.0015922038310170405,
           0.00172704878099558,
           -0.0015577036799326296,
           -0.0021842594752098,
           -3.3783126265810466E-4,
           2.1892306823950968E-4,
           -0.0013000555528399496,
           -8.636364791641822E-4,
           0.0013046229887645818,
           -0.004839656838663899,
           -0.0014769500579537506,
           -6.157829559132945E-4,
           -3.5379448469163166E-4,
           -0.0029873814652975226,
           -0.002341878510628941,
           0.0027104659029753776,
           0.0024375724569450936,
           -3.408586806511598E-4,
           -0.0047538144069846685,
           -0.004145655173925275,
           -0.005987630047835029,
           -0.004434109173498154,
           0.0012971464462853493,
           0.003686980159044695,
           -0.003797409629604923,
           0.009566679927610634,
           0.023853506702269642,
           0.010219055815868383
          ],
          [
           -1.0385388954630758E-4,
           -0.0013408025185400816,
           -0.001564303630323628,
           0.0016967856911458896,
           -0.0015304080256675432,
           -0.0021459846786431353,
           -3.3191144269218396E-4,
           2.1508687753244528E-4,
           -0.0012772746688034815,
           -8.485029701087233E-4,
           0.0012817620695112215,
           -0.004754851492479222,
           -0.0014510694500640341,
           -6.04992586163594E-4,
           -3.4759494105605725E-4,
           -0.0029350335555601483,
           -0.002300841754421414,
           0.002662970386891008,
           0.002394858854937202,
           -3.3488581121509997E-4,
           -0.00467051327842917,
           -0.004073010824561842,
           -0.00588270875776013,
           -0.004356410242351834,
           0.001274416538546721,
           0.0036223731757011935,
           -0.0037308675897497635,
           0.009399042917354553,
           0.02343552151012884,
           0.010039987217611217
          ],
          [
           -9.96283195292476E-5,
           -0.0012862484238798599,
           -0.0015006558021416492,
           0.0016277474801245733,
           -0.0014681393297585159,
           -0.002058669619431018,
           -3.1840674829232863E-4,
           2.0633549937285406E-4,
           -0.0012253053726353333,
           -8.139793838902306E-4,
           0.0012296101915835649,
           -0.004561387790831012,
           -0.0013920288538220582,
           -5.803768635960096E-4,
           -3.334521220684902E-4,
           -0.00281561395706827,
           -0.0022072259257417603,
           0.002554620397571178,
           0.0022974176920041466,
           -3.2126009676963026E-4,
           -0.004480481099953939,
           -0.003907289612822775,
           -0.005643355201966695,
           -0.004179158176179707,
           0.0012225635329630715,
           0.0034749873478933653,
           -0.0035790673799190285,
           0.009016618011420488,
           0.02248198536949918,
           0.009631483798589182
          ],
          [
           -9.332123840784412E-5,
           -0.0012048210426892528,
           -0.0014056551243812093,
           0.0015247011229159492,
           -0.0013751971432992575,
           -0.0019283432588814103,
           -2.98249656407501E-4,
           1.9327320203692594E-4,
           -0.001147736058807513,
           -7.62449517386374E-4,
           0.0011517683564239813,
           -0.004272624084297701,
           -0.0013039049253459525,
           -5.436354633899049E-4,
           -3.123425661317096E-4,
           -0.002637368396792889,
           -0.002067495043672316,
           0.0023928973236700527,
           0.0021519771202702844,
           -3.009223704989271E-4,
           -0.004196839281103138,
           -0.003659934315962068,
           -0.005286096350027018,
           -0.003914591938779666,
           0.0011451677943327106,
           0.003254999424754904,
           -0.0033524905550686257,
           0.008445811020923755,
           0.02105873838344507,
           0.009021752048377817
          ],
          [
           -8.535241854061657E-5,
           -0.0011019398333821449,
           -0.0012856244360540208,
           0.001394504944562882,
           -0.0012577673009199202,
           -0.0017636795624455424,
           -2.727817369079017E-4,
           1.7676935619785185E-4,
           -0.0010497294092623437,
           -6.973429782365902E-4,
           0.0010534173838296873,
           -0.00390777925080603,
           -0.0011925628166111492,
           -4.972137360842931E-4,
           -2.8567123505170985E-4,
           -0.0024121601372784646,
           -0.001890948998415103,
           0.0021885647616678027,
           0.0019682170424744506,
           -2.7522622452575606E-4,
           -0.0038384658088539254,
           -0.003347407845167453,
           -0.0048347098239494395,
           -0.003580319927970022,
           0.0010473804521748016,
           0.0029770508620660823,
           -0.0030662171001111524,
           0.007724612419119416,
           0.019260505787395008,
           0.008251373105846862
          ],
          [
           -7.622348830607299E-5,
           -9.840810540574188E-4,
           -0.0011481195359558868,
           0.0012453546501915206,
           -0.0011232418810465025,
           -0.001575043927311267,
           -2.4360616709900585E-4,
           1.5786286065938674E-4,
           -9.374548339643471E-4,
           -6.227581509204048E-4,
           9.407483585195211E-4,
           -0.0034898198682534525,
           -0.0010650113899579809,
           -4.440338779621674E-4,
           -2.551170595591671E-4,
           -0.002154165788854895,
           -0.0016887011678466356,
           0.001954485219873233,
           0.001757704951845892,
           -2.457892027591517E-4,
           -0.003427919896085989,
           -0.0029893833953909556,
           -0.004317609905262377,
           -0.003197384196345371,
           9.35357111296904E-4,
           0.0026586382137876244,
           -0.0027382676117488625,
           0.006898420858660318,
           0.017200484330223517,
           0.007368841471589542
          ],
          [
           -6.646598698657044E-5,
           -8.58107126638806E-4,
           -0.00100114675714456,
           0.0010859346352782928,
           -9.794537341117663E-4,
           -0.0013734198145797364,
           -2.1242171792550712E-4,
           1.3765456128322597E-4,
           -8.174496100804597E-4,
           -5.430377968093916E-4,
           8.203215248286424E-4,
           -0.0030430819568031805,
           -9.286774294723089E-4,
           -3.871923289015679E-4,
           -2.2245908102005248E-4,
           -0.0018784072793154645,
           -0.0014725275940612934,
           0.0017042881672890905,
           0.001532698083647156,
           -2.1432529939367396E-4,
           -0.00298910590774031,
           -0.002606707227279895,
           -0.003764905151334993,
           -0.0027880814839121634,
           8.156204205404082E-4,
           0.002318301311664427,
           -0.002387737211887041,
           0.0060153420055832265,
           0.014998620412971293,
           0.006425543257612218
          ],
          [
           -5.659104925419395E-5,
           -7.306170399426008E-4,
           -8.524050873673444E-4,
           9.245959206817455E-4,
           -8.339350248499662E-4,
           -0.0011693690547207535,
           -1.808619482956262E-4,
           1.1720304490802921E-4,
           -6.960000632538852E-4,
           -4.623579683295534E-4,
           6.984452939099965E-4,
           -0.002590967330956708,
           -7.907026215249681E-4,
           -3.2966666334379374E-4,
           -1.8940804736100857E-4,
           -0.0015993298780721664,
           -0.001253752263101422,
           0.001451079867931311,
           0.0013049831451537796,
           -1.8248271220072201E-4,
           -0.00254501057337962,
           -0.0022194253599222983,
           -0.0032055483190164048,
           -0.0023738526084425586,
           6.944426387718381E-4,
           0.00197386828455541,
           -0.0020329880031913676,
           0.005121634856450165,
           0.012770255961247009,
           0.005470891977425364
          ],
          [
           -4.704718944963619E-5,
           -6.074013248793851E-4,
           -7.086502929654214E-4,
           7.686664237180781E-4,
           -6.932951344756304E-4,
           -9.72159523087692E-4,
           -1.5036028590800562E-4,
           9.743720836654431E-5,
           -5.786223663353899E-4,
           -3.843830997344037E-4,
           5.806552183754605E-4,
           -0.002154010792940098,
           -6.573537074054559E-4,
           -2.740696659625102E-4,
           -1.5746511868780437E-4,
           -0.0013296091300259545,
           -0.0010423118323905493,
           0.001206360906058974,
           0.0010849028259373001,
           -1.5170771429997033E-4,
           -0.0021158044633400154,
           -0.0018451279266544606,
           -0.0026649450936545582,
           -0.0019735116218336114,
           5.773275954197413E-4,
           0.0016409830946052758,
           -0.0016901325032048866,
           0.00425789110749548,
           0.01061660208543683,
           0.0045482473767943215
          ],
          [
           -3.819066952584822E-5,
           -4.930594906814429E-4,
           -5.752485847642321E-4,
           6.239668236772802E-4,
           -5.627839978194925E-4,
           -7.891528379690567E-4,
           -1.2205532479409567E-4,
           7.9094888935532E-5,
           -4.6969810166099185E-4,
           -3.1202390844181E-4,
           4.713482742082891E-4,
           -0.0017485234572056185,
           -5.336084576951711E-4,
           -2.224767124726678E-4,
           -1.278226899418092E-4,
           -0.0010793134186629814,
           -8.460991442713395E-4,
           9.792663755508859E-4,
           8.806724860235123E-4,
           -1.2314910304162216E-4,
           -0.0017175093769891078,
           -0.0014977870453921223,
           -0.0021632756083175314,
           -0.0016020028196487947,
           4.686470682468885E-4,
           0.001332071985525555,
           -0.0013719691365174965,
           0.0034563533776546394,
           0.008618052352869814,
           0.003692050779673114
          ],
          [
           -3.027042439786503E-5,
           -3.9080540408491205E-4,
           -4.5594955551379E-4,
           4.945642691630604E-4,
           -4.460699608000606E-4,
           -6.254928655789886E-4,
           -9.674264754735207E-5,
           6.269164394093916E-5,
           -3.722888614593879E-4,
           -2.4731423271910787E-4,
           3.735968098131759E-4,
           -0.0013859025719204306,
           -4.229450459304113E-4,
           -1.763379534530397E-4,
           -1.0131393663042468E-4,
           -8.554779386396052E-4,
           -6.706292531066863E-4,
           7.761793431356719E-4,
           6.980325361777613E-4,
           -9.760959049862373E-5,
           -0.0013613204061160892,
           -0.0011871656109866773,
           -0.0017146405539971198,
           -0.0012697683973443878,
           3.714557986224111E-4,
           0.0010558176861255146,
           -0.0010874406900630176,
           0.002739550914125443,
           0.00683078106362668,
           0.0029263677591075546
          ],
          [
           -2.342703884108236E-5,
           -3.024540806057497E-4,
           -3.528707693754424E-4,
           3.827556624515545E-4,
           -3.452247038280755E-4,
           -4.8408457919646414E-4,
           -7.487155554518114E-5,
           4.851863186032083E-5,
           -2.881236649634336E-4,
           -1.914026727775796E-4,
           2.8913591892074786E-4,
           -0.0010725846772279084,
           -3.273277535994488E-4,
           -1.3647235434838167E-4,
           -7.840939054529139E-5,
           -6.620757817195525E-4,
           -5.19016758866601E-4,
           6.007046145202928E-4,
           5.402248452958263E-4,
           -7.554250438704398E-5,
           -0.0010535599240388898,
           -9.187771705422049E-4,
           -0.0013270032269457911,
           -9.827055337177208E-4,
           2.874789367897416E-4,
           8.171237250214657E-4,
           -8.415975590113134E-4,
           0.002120206999042472,
           0.005286512378855139,
           0.0022647892297386844
          ],
          [
           -1.770328802434485E-5,
           -2.2855776777525583E-4,
           -2.6665652915001546E-4,
           2.892398728364307E-4,
           -2.6087856883858743E-4,
           -3.6581186345370996E-4,
           -5.6578755925511456E-5,
           3.6664442322268764E-5,
           -2.1772859395839209E-4,
           -1.446387086219715E-4,
           2.1849353157947512E-4,
           -8.105281935233831E-4,
           -2.473542447955876E-4,
           -1.0312909850787737E-4,
           -5.9252218517792966E-5,
           -5.003158246858904E-4,
           -3.922093284604323E-4,
           4.5393900955834434E-4,
           4.082358038954484E-4,
           -5.708577692281601E-5,
           -7.961516140682517E-4,
           -6.942993090436085E-4,
           -0.0010027865875502607,
           -7.426085398387709E-4,
           2.1724138733216397E-4,
           6.174820793062821E-4,
           -6.359764069556854E-4,
           0.0016021928947101442,
           0.003994898882526165,
           0.0017114504449528478
          ],
          [
           -1.3062554718125051E-5,
           -1.6864371995254168E-4,
           -1.9675528625967147E-4,
           2.1341864067249896E-4,
           -1.9249195830480832E-4,
           -2.699180782876187E-4,
           -4.1747221993118195E-5,
           2.7053239114992008E-5,
           -1.6065330171270148E-4,
           -1.06723171601529E-4,
           1.6121771887168398E-4,
           -5.980566358024929E-4,
           -1.825128955118175E-4,
           -7.609487516881263E-5,
           -4.371986410064726E-5,
           -3.6916322139232444E-4,
           -2.893957216833496E-4,
           3.349436072492981E-4,
           3.012210228376154E-4,
           -4.2121332695684945E-5,
           -5.874487275125821E-4,
           -5.122959476605015E-4,
           -7.399164862744153E-4,
           -5.479414147502622E-4,
           1.6029381124938268E-4,
           4.556155578166073E-4,
           -4.6926178932812354E-4,
           0.0011821946480993855,
           0.002947677582526697,
           0.0012628114649557236
          ]
         ],
         "type": "heatmap"
        },
        {
         "dx": 1,
         "dy": 1,
         "showscale": false,
         "x0": 18,
         "y0": 0,
         "z": [
          [
           0.24949447065591812
          ],
          [
           -0.04548096209764481
          ],
          [
           -0.040343431383371355
          ],
          [
           0.05816962756216526
          ],
          [
           0.012064719782210886
          ],
          [
           0.037135289050638676
          ],
          [
           -0.06521930545568466
          ],
          [
           -0.0651328843086958
          ],
          [
           0.03214359693229198
          ],
          [
           0.10560973584651948
          ],
          [
           0.07900753021240234
          ],
          [
           -0.05300418324768543
          ],
          [
           -0.10854010432958602
          ],
          [
           -0.03895098771899939
          ],
          [
           0.018196751503273843
          ],
          [
           0.03892478446541645
          ],
          [
           0.0581374317407608
          ],
          [
           0.022103746933862568
          ],
          [
           0.030563546903431417
          ],
          [
           -0.09896983057260514
          ],
          [
           0.14339521527290344
          ],
          [
           -0.02776822093874216
          ],
          [
           0.046692685410380366
          ],
          [
           -0.1117000438272953
          ],
          [
           -0.024003128707408904
          ],
          [
           -0.061050787940621375
          ],
          [
           -0.042522963508963584
          ],
          [
           -0.17796981036663057
          ],
          [
           -0.016422911593690515
          ],
          [
           -0.24977589547634124
          ],
          [
           -0.03981870263814926
          ]
         ],
         "type": "heatmap"
        },
        {
         "line": {
          "color": "#F28E2B",
          "dash": "solid",
          "width": 3
         },
         "mode": "lines",
         "showlegend": false,
         "x": [
          -0.5,
          29.5,
          29.5,
          -0.5,
          -0.5
         ],
         "y": [
          35.0,
          35.0,
          71.0,
          71.0,
          35.0
         ],
         "type": "scatter"
        },
        {
         "line": {
          "color": "#4E79A7",
          "dash": "solid",
          "width": 3
         },
         "mode": "lines",
         "showlegend": false,
         "x": [
          0,
          14,
          14,
          0,
          0
         ],
         "y": [
          -0.5,
          -0.5,
          0.4,
          0.4,
          -0.5
         ],
         "type": "scatter"
        },
        {
         "line": {
          "color": "#59A147",
          "dash": "solid",
          "width": 3
         },
         "mode": "lines",
         "showlegend": false,
         "x": [
          0,
          14,
          14,
          0,
          0
         ],
         "y": [
          0.6000000000000001,
          0.6000000000000001,
          31.5,
          31.5,
          0.5
         ],
         "type": "scatter"
        },
        {
         "line": {
          "color": "#B07AA1",
          "dash": "solid",
          "width": 3
         },
         "mode": "lines",
         "showlegend": false,
         "x": [
          -0.1,
          14.1,
          14.1,
          -0.1,
          -0.1
         ],
         "y": [
          -0.6,
          -0.6,
          31.6,
          31.6,
          -0.6
         ],
         "type": "scatter"
        },
        {
         "line": {
          "color": "black",
          "dash": "dot"
         },
         "mode": "lines",
         "showlegend": false,
         "x": [
          29.5,
          30.5,
          30.5,
          29.5,
          29.5
         ],
         "y": [
          -2.5,
          -2.5,
          2.5,
          2.5,
          -2.5
         ],
         "type": "scatter"
        },
        {
         "mode": "text",
         "showlegend": false,
         "text": [
          "$\\sum$",
          "$\\bigoplus$"
         ],
         "x": [
          25,
          25
         ],
         "y": [
          25,
          20
         ],
         "type": "scatter"
        },
        {
         "line": {
          "color": "black",
          "width": 2
         },
         "mode": "lines",
         "showlegend": false,
         "x": [
          25.5,
          26.0,
          26.5
         ],
         "y": [
          22.0,
          22.0,
          28.0
         ],
         "type": "scatter"
        }
       ],
       "layout": {
        "template": {
         "data": {
          "bar": [
           {
            "error_x": {
             "color": "#2a3f5f"
            },
            "error_y": {
             "color": "#2a3f5f"
            },
            "marker": {
             "line": {
              "color": "#E5ECF6",
              "width": 0.5
             },
             "pattern": {
              "fillmode": "overlay",
              "size": 10,
              "solidity": 0.2
             }
            },
            "type": "bar"
           }
          ],
          "barpolar": [
           {
            "marker": {
             "line": {
              "color": "#E5ECF6",
              "width": 0.5
             },
             "pattern": {
              "fillmode": "overlay",
              "size": 10,
              "solidity": 0.2
             }
            },
            "type": "barpolar"
           }
          ],
          "carpet": [
           {
            "aaxis": {
             "endlinecolor": "#2a3f5f",
             "gridcolor": "white",
             "linecolor": "white",
             "minorgridcolor": "white",
             "startlinecolor": "#2a3f5f"
            },
            "baxis": {
             "endlinecolor": "#2a3f5f",
             "gridcolor": "white",
             "linecolor": "white",
             "minorgridcolor": "white",
             "startlinecolor": "#2a3f5f"
            },
            "type": "carpet"
           }
          ],
          "choropleth": [
           {
            "colorbar": {
             "outlinewidth": 0,
             "ticks": ""
            },
            "type": "choropleth"
           }
          ],
          "contour": [
           {
            "colorbar": {
             "outlinewidth": 0,
             "ticks": ""
            },
            "colorscale": [
             [
              0.0,
              "#0d0887"
             ],
             [
              0.1111111111111111,
              "#46039f"
             ],
             [
              0.2222222222222222,
              "#7201a8"
             ],
             [
              0.3333333333333333,
              "#9c179e"
             ],
             [
              0.4444444444444444,
              "#bd3786"
             ],
             [
              0.5555555555555556,
              "#d8576b"
             ],
             [
              0.6666666666666666,
              "#ed7953"
             ],
             [
              0.7777777777777778,
              "#fb9f3a"
             ],
             [
              0.8888888888888888,
              "#fdca26"
             ],
             [
              1.0,
              "#f0f921"
             ]
            ],
            "type": "contour"
           }
          ],
          "contourcarpet": [
           {
            "colorbar": {
             "outlinewidth": 0,
             "ticks": ""
            },
            "type": "contourcarpet"
           }
          ],
          "heatmap": [
           {
            "colorbar": {
             "outlinewidth": 0,
             "ticks": ""
            },
            "colorscale": [
             [
              0.0,
              "#0d0887"
             ],
             [
              0.1111111111111111,
              "#46039f"
             ],
             [
              0.2222222222222222,
              "#7201a8"
             ],
             [
              0.3333333333333333,
              "#9c179e"
             ],
             [
              0.4444444444444444,
              "#bd3786"
             ],
             [
              0.5555555555555556,
              "#d8576b"
             ],
             [
              0.6666666666666666,
              "#ed7953"
             ],
             [
              0.7777777777777778,
              "#fb9f3a"
             ],
             [
              0.8888888888888888,
              "#fdca26"
             ],
             [
              1.0,
              "#f0f921"
             ]
            ],
            "type": "heatmap"
           }
          ],
          "heatmapgl": [
           {
            "colorbar": {
             "outlinewidth": 0,
             "ticks": ""
            },
            "colorscale": [
             [
              0.0,
              "#0d0887"
             ],
             [
              0.1111111111111111,
              "#46039f"
             ],
             [
              0.2222222222222222,
              "#7201a8"
             ],
             [
              0.3333333333333333,
              "#9c179e"
             ],
             [
              0.4444444444444444,
              "#bd3786"
             ],
             [
              0.5555555555555556,
              "#d8576b"
             ],
             [
              0.6666666666666666,
              "#ed7953"
             ],
             [
              0.7777777777777778,
              "#fb9f3a"
             ],
             [
              0.8888888888888888,
              "#fdca26"
             ],
             [
              1.0,
              "#f0f921"
             ]
            ],
            "type": "heatmapgl"
           }
          ],
          "histogram": [
           {
            "marker": {
             "pattern": {
              "fillmode": "overlay",
              "size": 10,
              "solidity": 0.2
             }
            },
            "type": "histogram"
           }
          ],
          "histogram2d": [
           {
            "colorbar": {
             "outlinewidth": 0,
             "ticks": ""
            },
            "colorscale": [
             [
              0.0,
              "#0d0887"
             ],
             [
              0.1111111111111111,
              "#46039f"
             ],
             [
              0.2222222222222222,
              "#7201a8"
             ],
             [
              0.3333333333333333,
              "#9c179e"
             ],
             [
              0.4444444444444444,
              "#bd3786"
             ],
             [
              0.5555555555555556,
              "#d8576b"
             ],
             [
              0.6666666666666666,
              "#ed7953"
             ],
             [
              0.7777777777777778,
              "#fb9f3a"
             ],
             [
              0.8888888888888888,
              "#fdca26"
             ],
             [
              1.0,
              "#f0f921"
             ]
            ],
            "type": "histogram2d"
           }
          ],
          "histogram2dcontour": [
           {
            "colorbar": {
             "outlinewidth": 0,
             "ticks": ""
            },
            "colorscale": [
             [
              0.0,
              "#0d0887"
             ],
             [
              0.1111111111111111,
              "#46039f"
             ],
             [
              0.2222222222222222,
              "#7201a8"
             ],
             [
              0.3333333333333333,
              "#9c179e"
             ],
             [
              0.4444444444444444,
              "#bd3786"
             ],
             [
              0.5555555555555556,
              "#d8576b"
             ],
             [
              0.6666666666666666,
              "#ed7953"
             ],
             [
              0.7777777777777778,
              "#fb9f3a"
             ],
             [
              0.8888888888888888,
              "#fdca26"
             ],
             [
              1.0,
              "#f0f921"
             ]
            ],
            "type": "histogram2dcontour"
           }
          ],
          "mesh3d": [
           {
            "colorbar": {
             "outlinewidth": 0,
             "ticks": ""
            },
            "type": "mesh3d"
           }
          ],
          "parcoords": [
           {
            "line": {
             "colorbar": {
              "outlinewidth": 0,
              "ticks": ""
             }
            },
            "type": "parcoords"
           }
          ],
          "pie": [
           {
            "automargin": true,
            "type": "pie"
           }
          ],
          "scatter": [
           {
            "marker": {
             "colorbar": {
              "outlinewidth": 0,
              "ticks": ""
             }
            },
            "type": "scatter"
           }
          ],
          "scatter3d": [
           {
            "line": {
             "colorbar": {
              "outlinewidth": 0,
              "ticks": ""
             }
            },
            "marker": {
             "colorbar": {
              "outlinewidth": 0,
              "ticks": ""
             }
            },
            "type": "scatter3d"
           }
          ],
          "scattercarpet": [
           {
            "marker": {
             "colorbar": {
              "outlinewidth": 0,
              "ticks": ""
             }
            },
            "type": "scattercarpet"
           }
          ],
          "scattergeo": [
           {
            "marker": {
             "colorbar": {
              "outlinewidth": 0,
              "ticks": ""
             }
            },
            "type": "scattergeo"
           }
          ],
          "scattergl": [
           {
            "marker": {
             "colorbar": {
              "outlinewidth": 0,
              "ticks": ""
             }
            },
            "type": "scattergl"
           }
          ],
          "scattermapbox": [
           {
            "marker": {
             "colorbar": {
              "outlinewidth": 0,
              "ticks": ""
             }
            },
            "type": "scattermapbox"
           }
          ],
          "scatterpolar": [
           {
            "marker": {
             "colorbar": {
              "outlinewidth": 0,
              "ticks": ""
             }
            },
            "type": "scatterpolar"
           }
          ],
          "scatterpolargl": [
           {
            "marker": {
             "colorbar": {
              "outlinewidth": 0,
              "ticks": ""
             }
            },
            "type": "scatterpolargl"
           }
          ],
          "scatterternary": [
           {
            "marker": {
             "colorbar": {
              "outlinewidth": 0,
              "ticks": ""
             }
            },
            "type": "scatterternary"
           }
          ],
          "surface": [
           {
            "colorbar": {
             "outlinewidth": 0,
             "ticks": ""
            },
            "colorscale": [
             [
              0.0,
              "#0d0887"
             ],
             [
              0.1111111111111111,
              "#46039f"
             ],
             [
              0.2222222222222222,
              "#7201a8"
             ],
             [
              0.3333333333333333,
              "#9c179e"
             ],
             [
              0.4444444444444444,
              "#bd3786"
             ],
             [
              0.5555555555555556,
              "#d8576b"
             ],
             [
              0.6666666666666666,
              "#ed7953"
             ],
             [
              0.7777777777777778,
              "#fb9f3a"
             ],
             [
              0.8888888888888888,
              "#fdca26"
             ],
             [
              1.0,
              "#f0f921"
             ]
            ],
            "type": "surface"
           }
          ],
          "table": [
           {
            "cells": {
             "fill": {
              "color": "#EBF0F8"
             },
             "line": {
              "color": "white"
             }
            },
            "header": {
             "fill": {
              "color": "#C8D4E3"
             },
             "line": {
              "color": "white"
             }
            },
            "type": "table"
           }
          ]
         },
         "layout": {
          "annotationdefaults": {
           "arrowcolor": "#2a3f5f",
           "arrowhead": 0,
           "arrowwidth": 1
          },
          "autotypenumbers": "strict",
          "coloraxis": {
           "colorbar": {
            "outlinewidth": 0,
            "ticks": ""
           }
          },
          "colorscale": {
           "diverging": [
            [
             0,
             "#8e0152"
            ],
            [
             0.1,
             "#c51b7d"
            ],
            [
             0.2,
             "#de77ae"
            ],
            [
             0.3,
             "#f1b6da"
            ],
            [
             0.4,
             "#fde0ef"
            ],
            [
             0.5,
             "#f7f7f7"
            ],
            [
             0.6,
             "#e6f5d0"
            ],
            [
             0.7,
             "#b8e186"
            ],
            [
             0.8,
             "#7fbc41"
            ],
            [
             0.9,
             "#4d9221"
            ],
            [
             1,
             "#276419"
            ]
           ],
           "sequential": [
            [
             0.0,
             "#0d0887"
            ],
            [
             0.1111111111111111,
             "#46039f"
            ],
            [
             0.2222222222222222,
             "#7201a8"
            ],
            [
             0.3333333333333333,
             "#9c179e"
            ],
            [
             0.4444444444444444,
             "#bd3786"
            ],
            [
             0.5555555555555556,
             "#d8576b"
            ],
            [
             0.6666666666666666,
             "#ed7953"
            ],
            [
             0.7777777777777778,
             "#fb9f3a"
            ],
            [
             0.8888888888888888,
             "#fdca26"
            ],
            [
             1.0,
             "#f0f921"
            ]
           ],
           "sequentialminus": [
            [
             0.0,
             "#0d0887"
            ],
            [
             0.1111111111111111,
             "#46039f"
            ],
            [
             0.2222222222222222,
             "#7201a8"
            ],
            [
             0.3333333333333333,
             "#9c179e"
            ],
            [
             0.4444444444444444,
             "#bd3786"
            ],
            [
             0.5555555555555556,
             "#d8576b"
            ],
            [
             0.6666666666666666,
             "#ed7953"
            ],
            [
             0.7777777777777778,
             "#fb9f3a"
            ],
            [
             0.8888888888888888,
             "#fdca26"
            ],
            [
             1.0,
             "#f0f921"
            ]
           ]
          },
          "colorway": [
           "#636efa",
           "#EF553B",
           "#00cc96",
           "#ab63fa",
           "#FFA15A",
           "#19d3f3",
           "#FF6692",
           "#B6E880",
           "#FF97FF",
           "#FECB52"
          ],
          "font": {
           "color": "#2a3f5f"
          },
          "geo": {
           "bgcolor": "white",
           "lakecolor": "white",
           "landcolor": "#E5ECF6",
           "showlakes": true,
           "showland": true,
           "subunitcolor": "white"
          },
          "hoverlabel": {
           "align": "left"
          },
          "hovermode": "closest",
          "mapbox": {
           "style": "light"
          },
          "paper_bgcolor": "white",
          "plot_bgcolor": "#E5ECF6",
          "polar": {
           "angularaxis": {
            "gridcolor": "white",
            "linecolor": "white",
            "ticks": ""
           },
           "bgcolor": "#E5ECF6",
           "radialaxis": {
            "gridcolor": "white",
            "linecolor": "white",
            "ticks": ""
           }
          },
          "scene": {
           "xaxis": {
            "backgroundcolor": "#E5ECF6",
            "gridcolor": "white",
            "gridwidth": 2,
            "linecolor": "white",
            "showbackground": true,
            "ticks": "",
            "zerolinecolor": "white"
           },
           "yaxis": {
            "backgroundcolor": "#E5ECF6",
            "gridcolor": "white",
            "gridwidth": 2,
            "linecolor": "white",
            "showbackground": true,
            "ticks": "",
            "zerolinecolor": "white"
           },
           "zaxis": {
            "backgroundcolor": "#E5ECF6",
            "gridcolor": "white",
            "gridwidth": 2,
            "linecolor": "white",
            "showbackground": true,
            "ticks": "",
            "zerolinecolor": "white"
           }
          },
          "shapedefaults": {
           "line": {
            "color": "#2a3f5f"
           }
          },
          "ternary": {
           "aaxis": {
            "gridcolor": "white",
            "linecolor": "white",
            "ticks": ""
           },
           "baxis": {
            "gridcolor": "white",
            "linecolor": "white",
            "ticks": ""
           },
           "bgcolor": "#E5ECF6",
           "caxis": {
            "gridcolor": "white",
            "linecolor": "white",
            "ticks": ""
           }
          },
          "title": {
           "x": 0.05
          },
          "xaxis": {
           "automargin": true,
           "gridcolor": "white",
           "linecolor": "white",
           "ticks": "",
           "title": {
            "standoff": 15
           },
           "zerolinecolor": "white",
           "zerolinewidth": 2
          },
          "yaxis": {
           "automargin": true,
           "gridcolor": "white",
           "linecolor": "white",
           "ticks": "",
           "title": {
            "standoff": 15
           },
           "zerolinecolor": "white",
           "zerolinewidth": 2
          }
         }
        },
        "height": 600,
        "width": 500
       },
       "config": {
        "plotlyServerURL": "https://plot.ly"
       }
      },
      "text/html": "<div>                            <div id=\"03a3374f-5fa5-4ce2-a9bf-45bd5526a969\" class=\"plotly-graph-div\" style=\"height:600px; width:500px;\"></div>            <script type=\"text/javascript\">                require([\"plotly\"], function(Plotly) {                    window.PLOTLYENV=window.PLOTLYENV || {};                                    if (document.getElementById(\"03a3374f-5fa5-4ce2-a9bf-45bd5526a969\")) {                    Plotly.newPlot(                        \"03a3374f-5fa5-4ce2-a9bf-45bd5526a969\",                        [{\"line\":{\"color\":\"gray\",\"width\":1},\"mode\":\"lines\",\"opacity\":1,\"showlegend\":false,\"x\":[0.0,1.0,2.0,3.0,4.0,5.0,6.0,7.0,8.0,9.0,10.0,11.0,12.0,13.0,14.0],\"y\":[4.125,4.0,3.5,2.666666666666667,2.5,3.2222222222222223,2.3636363636363633,3.1428571428571432,2.25,2.428571428571429,2.111111111111111,5.0,5.0,2.875,1.7142857142857144],\"type\":\"scatter\"},{\"line\":{\"color\":\"gray\",\"width\":1},\"mode\":\"lines\",\"opacity\":1,\"showlegend\":false,\"x\":[0.0,1.0,2.0,3.0,4.0,5.0,6.0,7.0,8.0,9.0,10.0,11.0,12.0,13.0,14.0],\"y\":[2.0,2.0,2.0,2.0,2.0,2.0,2.0,2.0,2.0,2.7142857142857144,2.0,3.0,2.0,2.625,2.7142857142857144],\"type\":\"scatter\"},{\"line\":{\"color\":\"gray\",\"width\":1},\"mode\":\"lines\",\"opacity\":1,\"showlegend\":false,\"x\":[0.0,1.0,2.0,3.0,4.0,5.0,6.0,7.0,8.0,9.0,10.0,11.0,12.0,13.0,14.0],\"y\":[3.625,4.0,4.666666666666667,3.0,4.5,3.5555555555555554,4.363636363636363,5.142857142857143,4.25,6.571428571428571,4.111111111111111,4.0,5.0,4.25,5.142857142857143],\"type\":\"scatter\"},{\"line\":{\"color\":\"gray\",\"width\":1},\"mode\":\"lines\",\"opacity\":1,\"showlegend\":false,\"x\":[0.0,1.0,2.0,3.0,4.0,5.0,6.0,7.0,8.0,9.0,10.0,11.0,12.0,13.0,14.0],\"y\":[5.875,5.0,5.666666666666667,4.0,5.0,4.555555555555555,4.0,4.0,4.0,7.571428571428571,5.666666666666666,6.0,5.0,5.875,4.0],\"type\":\"scatter\"},{\"line\":{\"color\":\"gray\",\"width\":1},\"mode\":\"lines\",\"opacity\":1,\"showlegend\":false,\"x\":[0.0,1.0,2.0,3.0,4.0,5.0,6.0,7.0,8.0,9.0,10.0,11.0,12.0,13.0,14.0],\"y\":[5.625,5.0,5.0,5.833333333333334,5.0,5.0,5.0,5.0,5.625,5.0,5.0,5.0,7.0,5.0,5.0],\"type\":\"scatter\"},{\"line\":{\"color\":\"gray\",\"width\":1},\"mode\":\"lines\",\"opacity\":1,\"showlegend\":false,\"x\":[0.0,1.0,2.0,3.0,4.0,5.0,6.0,7.0,8.0,9.0,10.0,11.0,12.0,13.0,14.0],\"y\":[8.5,9.0,8.5,8.5,7.5,7.111111111111111,6.909090909090909,7.428571428571429,6.625,6.714285714285714,7.111111111111111,11.0,10.0,6.625,8.857142857142858],\"type\":\"scatter\"},{\"line\":{\"color\":\"gray\",\"width\":1},\"mode\":\"lines\",\"opacity\":1,\"showlegend\":false,\"x\":[0.0,1.0,2.0,3.0,4.0,5.0,6.0,7.0,8.0,9.0,10.0,11.0,12.0,13.0,14.0],\"y\":[12.0,8.0,7.0,7.833333333333334,7.0,7.0,7.0,7.714285714285714,8.875,7.714285714285714,7.555555555555555,7.0,7.0,7.625,7.714285714285714],\"type\":\"scatter\"},{\"line\":{\"color\":\"gray\",\"width\":1},\"mode\":\"lines\",\"opacity\":1,\"showlegend\":false,\"x\":[0.0,1.0,2.0,3.0,4.0,5.0,6.0,7.0,8.0,9.0,10.0,11.0,12.0,13.0,14.0],\"y\":[10.5,13.0,11.333333333333334,11.333333333333334,13.0,10.777777777777779,9.818181818181818,13.0,11.125,11.571428571428571,9.666666666666666,13.0,12.0,11.75,10.142857142857142],\"type\":\"scatter\"},{\"line\":{\"color\":\"gray\",\"width\":1},\"mode\":\"lines\",\"opacity\":1,\"showlegend\":false,\"x\":[0.0,1.0,2.0,3.0,4.0,5.0,6.0,7.0,8.0,9.0,10.0,11.0,12.0,13.0,14.0],\"y\":[9.0,9.0,9.0,9.0,10.0,10.11111111111111,9.454545454545455,9.0,10.25,9.0,9.0,10.0,10.0,9.625,9.714285714285715],\"type\":\"scatter\"},{\"line\":{\"color\":\"gray\",\"width\":1},\"mode\":\"lines\",\"opacity\":1,\"showlegend\":false,\"x\":[0.0,1.0,2.0,3.0,4.0,5.0,6.0,7.0,8.0,9.0,10.0,11.0,12.0,13.0,14.0],\"y\":[13.125,15.0,14.166666666666668,12.5,13.0,15.0,13.181818181818182,13.571428571428571,13.125,14.285714285714286,10.555555555555555,14.0,15.0,15.0,15.0],\"type\":\"scatter\"},{\"line\":{\"color\":\"gray\",\"width\":1},\"mode\":\"lines\",\"opacity\":1,\"showlegend\":false,\"x\":[0.0,1.0,2.0,3.0,4.0,5.0,6.0,7.0,8.0,9.0,10.0,11.0,12.0,13.0,14.0],\"y\":[12.25,16.0,14.333333333333334,14.333333333333334,12.5,12.666666666666666,13.272727272727273,12.428571428571429,14.75,12.428571428571429,14.88888888888889,14.0,14.0,14.125,13.142857142857142],\"type\":\"scatter\"},{\"line\":{\"color\":\"gray\",\"width\":1},\"mode\":\"lines\",\"opacity\":1,\"showlegend\":false,\"x\":[0.0,1.0,2.0,3.0,4.0,5.0,6.0,7.0,8.0,9.0,10.0,11.0,12.0,13.0,14.0],\"y\":[12.625,15.0,12.833333333333334,13.666666666666668,13.0,13.11111111111111,12.0,12.714285714285715,13.875,14.142857142857142,13.666666666666666,12.0,15.0,13.25,12.714285714285715],\"type\":\"scatter\"},{\"line\":{\"color\":\"gray\",\"width\":1},\"mode\":\"lines\",\"opacity\":1,\"showlegend\":false,\"x\":[0.0,1.0,2.0,3.0,4.0,5.0,6.0,7.0,8.0,9.0,10.0,11.0,12.0,13.0,14.0],\"y\":[13.0,13.0,13.833333333333334,13.0,13.5,14.11111111111111,13.454545454545455,13.0,13.625,13.0,13.0,15.0,13.0,13.0,13.714285714285715],\"type\":\"scatter\"},{\"line\":{\"color\":\"gray\",\"width\":1},\"mode\":\"lines\",\"opacity\":1,\"showlegend\":false,\"x\":[0.0,1.0,2.0,3.0,4.0,5.0,6.0,7.0,8.0,9.0,10.0,11.0,12.0,13.0,14.0],\"y\":[14.0,14.0,15.666666666666668,15.666666666666668,14.0,14.555555555555555,14.90909090909091,14.0,14.625,14.714285714285715,15.11111111111111,16.0,15.0,14.0,14.0],\"type\":\"scatter\"},{\"line\":{\"color\":\"gray\",\"width\":1},\"mode\":\"lines\",\"opacity\":1,\"showlegend\":false,\"x\":[0.0,1.0,2.0,3.0,4.0,5.0,6.0,7.0,8.0,9.0,10.0,11.0,12.0,13.0,14.0],\"y\":[15.625,16.0,17.5,20.0,15.5,16.666666666666664,16.81818181818182,15.714285714285715,16.25,16.42857142857143,16.11111111111111,18.0,16.0,18.125,15.714285714285715],\"type\":\"scatter\"},{\"line\":{\"color\":\"gray\",\"width\":1},\"mode\":\"lines\",\"opacity\":1,\"showlegend\":false,\"x\":[0.0,1.0,2.0,3.0,4.0,5.0,6.0,7.0,8.0,9.0,10.0,11.0,12.0,13.0,14.0],\"y\":[16.625,16.0,16.0,17.666666666666668,16.5,16.555555555555557,16.454545454545453,16.0,16.0,17.42857142857143,16.555555555555557,16.0,16.0,16.0,16.714285714285715],\"type\":\"scatter\"},{\"line\":{\"color\":\"gray\",\"width\":1},\"mode\":\"lines\",\"opacity\":1,\"showlegend\":false,\"x\":[0.0,1.0,2.0,3.0,4.0,5.0,6.0,7.0,8.0,9.0,10.0,11.0,12.0,13.0,14.0],\"y\":[17.0,17.0,17.0,17.0,17.0,17.0,17.0,17.0,17.0,17.0,17.0,17.0,18.0,17.0,17.0],\"type\":\"scatter\"},{\"line\":{\"color\":\"gray\",\"width\":1},\"mode\":\"lines\",\"opacity\":1,\"showlegend\":false,\"x\":[0.0,1.0,2.0,3.0,4.0,5.0,6.0,7.0,8.0,9.0,10.0,11.0,12.0,13.0,14.0],\"y\":[19.25,18.0,20.5,23.0,18.5,19.666666666666668,18.454545454545453,18.0,18.625,19.42857142857143,18.555555555555557,19.0,19.0,18.625,19.42857142857143],\"type\":\"scatter\"},{\"line\":{\"color\":\"gray\",\"width\":1},\"mode\":\"lines\",\"opacity\":1,\"showlegend\":false,\"x\":[0.0,1.0,2.0,3.0,4.0,5.0,6.0,7.0,8.0,9.0,10.0,11.0,12.0,13.0,14.0],\"y\":[19.0,19.0,19.0,19.0,19.0,19.0,19.454545454545453,19.0,19.0,19.0,19.0,19.0,19.0,19.625,19.0],\"type\":\"scatter\"},{\"line\":{\"color\":\"gray\",\"width\":1},\"mode\":\"lines\",\"opacity\":1,\"showlegend\":false,\"x\":[0.0,1.0,2.0,3.0,4.0,5.0,6.0,7.0,8.0,9.0,10.0,11.0,12.0,13.0,14.0],\"y\":[20.625,21.0,20.833333333333332,20.833333333333332,20.5,21.666666666666668,20.0,21.42857142857143,20.625,21.42857142857143,22.22222222222222,22.0,22.0,20.625,22.142857142857142],\"type\":\"scatter\"},{\"line\":{\"color\":\"gray\",\"width\":1},\"mode\":\"lines\",\"opacity\":1,\"showlegend\":false,\"x\":[0.0,1.0,2.0,3.0,4.0,5.0,6.0,7.0,8.0,9.0,10.0,11.0,12.0,13.0,14.0],\"y\":[21.0,22.0,21.0,21.833333333333332,22.0,21.0,21.0,21.0,21.625,23.142857142857142,21.0,22.0,21.0,21.625,22.42857142857143],\"type\":\"scatter\"},{\"line\":{\"color\":\"gray\",\"width\":1},\"mode\":\"lines\",\"opacity\":1,\"showlegend\":false,\"x\":[0.0,1.0,2.0,3.0,4.0,5.0,6.0,7.0,8.0,9.0,10.0,11.0,12.0,13.0,14.0],\"y\":[23.25,26.0,23.666666666666668,26.166666666666668,23.5,23.11111111111111,24.272727272727273,22.714285714285715,23.875,24.142857142857142,22.0,24.0,24.0,23.25,22.0],\"type\":\"scatter\"},{\"line\":{\"color\":\"gray\",\"width\":1},\"mode\":\"lines\",\"opacity\":1,\"showlegend\":false,\"x\":[0.0,1.0,2.0,3.0,4.0,5.0,6.0,7.0,8.0,9.0,10.0,11.0,12.0,13.0,14.0],\"y\":[23.0,23.0,23.0,23.0,23.0,23.0,23.0,23.0,23.0,23.714285714285715,23.0,23.0,23.0,23.625,23.0],\"type\":\"scatter\"},{\"line\":{\"color\":\"gray\",\"width\":1},\"mode\":\"lines\",\"opacity\":1,\"showlegend\":false,\"x\":[0.0,1.0,2.0,3.0,4.0,5.0,6.0,7.0,8.0,9.0,10.0,11.0,12.0,13.0,14.0],\"y\":[24.0,24.0,24.0,24.0,24.5,24.0,24.454545454545453,24.714285714285715,24.625,24.714285714285715,24.555555555555557,25.0,25.0,24.0,24.714285714285715],\"type\":\"scatter\"},{\"line\":{\"color\":\"gray\",\"width\":1},\"mode\":\"lines\",\"opacity\":1,\"showlegend\":false,\"x\":[0.0,1.0,2.0,3.0,4.0,5.0,6.0,7.0,8.0,9.0,10.0,11.0,12.0,13.0,14.0],\"y\":[25.0,25.0,25.0,25.0,25.0,25.0,25.0,25.0,25.0,25.0,25.0,25.0,25.0,25.0,25.0],\"type\":\"scatter\"},{\"line\":{\"color\":\"gray\",\"width\":1},\"mode\":\"lines\",\"opacity\":1,\"showlegend\":false,\"x\":[0.0,1.0,2.0,3.0,4.0,5.0,6.0,7.0,8.0,9.0,10.0,11.0,12.0,13.0,14.0],\"y\":[26.0,27.0,26.833333333333332,26.0,26.0,26.555555555555557,26.0,28.142857142857142,26.0,27.42857142857143,26.0,26.0,26.0,27.25,26.0],\"type\":\"scatter\"},{\"line\":{\"color\":\"gray\",\"width\":1},\"mode\":\"lines\",\"opacity\":1,\"showlegend\":false,\"x\":[0.0,1.0,2.0,3.0,4.0,5.0,6.0,7.0,8.0,9.0,10.0,11.0,12.0,13.0,14.0],\"y\":[27.0,27.0,27.0,27.0,27.5,27.555555555555557,27.454545454545453,27.714285714285715,28.25,29.142857142857142,28.11111111111111,27.0,28.0,27.625,28.42857142857143],\"type\":\"scatter\"},{\"line\":{\"color\":\"gray\",\"width\":1},\"mode\":\"lines\",\"opacity\":1,\"showlegend\":false,\"x\":[0.0,1.0,2.0,3.0,4.0,5.0,6.0,7.0,8.0,9.0,10.0,11.0,12.0,13.0,14.0],\"y\":[29.25,31.0,32.16666666666667,29.666666666666668,29.5,29.11111111111111,28.90909090909091,31.571428571428573,28.625,29.42857142857143,30.22222222222222,31.0,29.0,30.5,29.42857142857143],\"type\":\"scatter\"},{\"line\":{\"color\":\"gray\",\"width\":1},\"mode\":\"lines\",\"opacity\":1,\"showlegend\":false,\"x\":[0.0,1.0,2.0,3.0,4.0,5.0,6.0,7.0,8.0,9.0,10.0,11.0,12.0,13.0,14.0],\"y\":[29.0,29.0,29.0,29.0,29.0,29.0,29.0,29.0,29.0,29.0,29.0,29.0,29.0,29.0,29.0],\"type\":\"scatter\"},{\"line\":{\"color\":\"gray\",\"width\":1},\"mode\":\"lines\",\"opacity\":1,\"showlegend\":false,\"x\":[0.0,1.0,2.0,3.0,4.0,5.0,6.0,7.0,8.0,9.0,10.0,11.0,12.0,13.0,14.0],\"y\":[31.25,30.0,30.833333333333332,30.833333333333332,30.5,32.22222222222222,31.363636363636363,31.42857142857143,31.875,31.42857142857143,30.555555555555557,31.0,31.0,31.25,30.714285714285715],\"type\":\"scatter\"},{\"line\":{\"color\":\"black\",\"width\":2},\"mode\":\"lines\",\"opacity\":1,\"showlegend\":false,\"x\":[0.0,1.0,2.0,3.0,4.0,5.0,6.0,7.0,8.0,9.0,10.0,11.0,12.0,13.0,14.0,15.0,16.0,17.0,18.0,19.0,20.0,21.0,22.0,23.0,24.0,25.0,26.0,27.0,28.0,29.0,30.0,31.0],\"y\":[0.0,0.0,0.425531914893617,0.5319148936170213,0.425531914893617,0.2127659574468085,0.10638297872340426,0.10638297872340426,0.10638297872340426,0.0,0.0,0.10638297872340426,0.2127659574468085,0.0,0.0,0.0,0.10638297872340426,0.5319148936170213,1.8085106382978722,0.3191489361702127,0.851063829787234,1.0638297872340425,3.0851063829787235,3.51063829787234,3.191489361702127,1.0638297872340425,1.1702127659574468,1.8085106382978722,0.851063829787234,1.8085106382978722,0.7446808510638298,0.425531914893617],\"type\":\"scatter\"},{\"dy\":2,\"showscale\":false,\"y0\":36,\"z\":[[-8.936908722446499e-05,-0.0011537969136607188,-0.0013461256790156494,0.0014601300836751619,-0.0013169575923674846,-0.001846677989296767,-0.00028561879388763273,0.0001850880886889069,-0.001099129476850262,-0.0007301598069858728,0.0011029910068036716,-0.004091678603729882,-0.0012486845973516045,-0.0005206125205248145,-0.00029911486937781237,-0.0025256759374103995,-0.0019799367008675427,0.0022915582056858186,0.002060840964475698,-0.0002881783186307446,-0.004019103284300617,-0.0035049362256591473,-0.005062230354443966,-0.003748809107055113,0.0010966699782861624,0.0031171503129351213,-0.00321051269728906,0.008088131219514962,0.020166901549273693,0.008639681164595455],[-9.659599298348886e-05,-0.0012470996631800846,-0.0014549812545192218,0.0015782047204243592,-0.0014234544662223775,-0.0019960111447579094,-0.0003087155958192398,0.00020005539131686087,-0.0011880114985073833,-0.0007892047886232081,0.0011921852943004207,-0.004422555605876048,-0.0013496605185349456,-0.0005627122861109929,-0.00032330304270766617,-0.0027299168281297408,-0.0021400459331579365,0.002476866970809646,0.00222749258750497,-0.00031148209866496896,-0.00434411142272404,-0.0037883658161461517,-0.005471591833208421,-0.004051959681450161,0.001185353110541039,0.0033692212722335278,-0.003470133483648685,0.008742184694887729,0.021797714859272628,0.009338336186188338],[-0.00010194561501456979,-0.0013161657975718306,-0.001535560163991339,0.0016656079188508324,-0.0015022873777909291,-0.0021065530509434506,-0.0003258126999715329,0.00021113474042617776,-0.001253805247184711,-0.0008329120604659952,0.0012582101936625548,-0.004667482959197205,-0.0014244066174302571,-0.0005938760844214864,-0.0003412080201975716,-0.002881103463886751,-0.002258564688625399,0.0026140393493509057,0.002350854261753952,-0.0003287324156381613,-0.004584694426787648,-0.0039981708464160255,-0.00577461628910917,-0.00427636291093653,0.0012509996339516382,0.0035558134877989073,-0.0036623143594961107,0.009226339186177487,0.023004902984129084,0.009855506386031023],[-0.00010505473680212821,-0.001356306020931952,-0.0015823914432110476,0.0017164053746245684,-0.0015481039086617883,-0.00217079838397126,-0.00033574928590512064,0.00021757389547444247,-0.0012920436080089595,-0.000858314085201879,0.001296582895871328,-0.004809831141209974,-0.0014678479527732422,-0.0006119880264890371,-0.00035161413025472637,-0.0029689709170430253,-0.0023274460493490725,0.0026937619219543508,0.002422550255775364,-0.00033875804661396387,-0.004724517736790593,-0.004120106449896335,-0.005950729654227357,-0.004406782773487747,0.0012891524296122535,0.0036642581441564135,-0.0037740070631633554,0.009507722668724026,0.023706502999768807,0.010156078113690431],[-0.00010570617979544164,-0.0013647164561109877,-0.0015922038310170405,0.00172704878099558,-0.0015577036799326296,-0.0021842594752098,-0.00033783126265810466,0.00021892306823950968,-0.0013000555528399496,-0.0008636364791641822,0.0013046229887645818,-0.004839656838663899,-0.0014769500579537506,-0.0006157829559132945,-0.00035379448469163166,-0.0029873814652975226,-0.002341878510628941,0.0027104659029753776,0.0024375724569450936,-0.0003408586806511598,-0.0047538144069846685,-0.004145655173925275,-0.005987630047835029,-0.004434109173498154,0.0012971464462853493,0.003686980159044695,-0.003797409629604923,0.009566679927610634,0.023853506702269642,0.010219055815868383],[-0.00010385388954630758,-0.0013408025185400816,-0.001564303630323628,0.0016967856911458896,-0.0015304080256675432,-0.0021459846786431353,-0.00033191144269218396,0.00021508687753244528,-0.0012772746688034815,-0.0008485029701087233,0.0012817620695112215,-0.004754851492479222,-0.0014510694500640341,-0.000604992586163594,-0.00034759494105605725,-0.0029350335555601483,-0.002300841754421414,0.002662970386891008,0.002394858854937202,-0.00033488581121509997,-0.00467051327842917,-0.004073010824561842,-0.00588270875776013,-0.004356410242351834,0.001274416538546721,0.0036223731757011935,-0.0037308675897497635,0.009399042917354553,0.02343552151012884,0.010039987217611217],[-9.96283195292476e-05,-0.0012862484238798599,-0.0015006558021416492,0.0016277474801245733,-0.0014681393297585159,-0.002058669619431018,-0.00031840674829232863,0.00020633549937285406,-0.0012253053726353333,-0.0008139793838902306,0.0012296101915835649,-0.004561387790831012,-0.0013920288538220582,-0.0005803768635960096,-0.0003334521220684902,-0.00281561395706827,-0.0022072259257417603,0.002554620397571178,0.0022974176920041466,-0.00032126009676963026,-0.004480481099953939,-0.003907289612822775,-0.005643355201966695,-0.004179158176179707,0.0012225635329630715,0.0034749873478933653,-0.0035790673799190285,0.009016618011420488,0.02248198536949918,0.009631483798589182],[-9.332123840784412e-05,-0.0012048210426892528,-0.0014056551243812093,0.0015247011229159492,-0.0013751971432992575,-0.0019283432588814103,-0.000298249656407501,0.00019327320203692594,-0.001147736058807513,-0.000762449517386374,0.0011517683564239813,-0.004272624084297701,-0.0013039049253459525,-0.0005436354633899049,-0.0003123425661317096,-0.002637368396792889,-0.002067495043672316,0.0023928973236700527,0.0021519771202702844,-0.0003009223704989271,-0.004196839281103138,-0.003659934315962068,-0.005286096350027018,-0.003914591938779666,0.0011451677943327106,0.003254999424754904,-0.0033524905550686257,0.008445811020923755,0.02105873838344507,0.009021752048377817],[-8.535241854061657e-05,-0.0011019398333821449,-0.0012856244360540208,0.001394504944562882,-0.0012577673009199202,-0.0017636795624455424,-0.0002727817369079017,0.00017676935619785185,-0.0010497294092623437,-0.0006973429782365902,0.0010534173838296873,-0.00390777925080603,-0.0011925628166111492,-0.0004972137360842931,-0.00028567123505170985,-0.0024121601372784646,-0.001890948998415103,0.0021885647616678027,0.0019682170424744506,-0.00027522622452575606,-0.0038384658088539254,-0.003347407845167453,-0.0048347098239494395,-0.003580319927970022,0.0010473804521748016,0.0029770508620660823,-0.0030662171001111524,0.007724612419119416,0.019260505787395008,0.008251373105846862],[-7.622348830607299e-05,-0.0009840810540574188,-0.0011481195359558868,0.0012453546501915206,-0.0011232418810465025,-0.001575043927311267,-0.00024360616709900585,0.00015786286065938674,-0.0009374548339643471,-0.0006227581509204048,0.0009407483585195211,-0.0034898198682534525,-0.0010650113899579809,-0.0004440338779621674,-0.0002551170595591671,-0.002154165788854895,-0.0016887011678466356,0.001954485219873233,0.001757704951845892,-0.0002457892027591517,-0.003427919896085989,-0.0029893833953909556,-0.004317609905262377,-0.003197384196345371,0.000935357111296904,0.0026586382137876244,-0.0027382676117488625,0.006898420858660318,0.017200484330223517,0.007368841471589542],[-6.646598698657044e-05,-0.000858107126638806,-0.00100114675714456,0.0010859346352782928,-0.0009794537341117663,-0.0013734198145797364,-0.00021242171792550712,0.00013765456128322597,-0.0008174496100804597,-0.0005430377968093916,0.0008203215248286424,-0.0030430819568031805,-0.0009286774294723089,-0.0003871923289015679,-0.00022245908102005248,-0.0018784072793154645,-0.0014725275940612934,0.0017042881672890905,0.001532698083647156,-0.00021432529939367396,-0.00298910590774031,-0.002606707227279895,-0.003764905151334993,-0.0027880814839121634,0.0008156204205404082,0.002318301311664427,-0.002387737211887041,0.0060153420055832265,0.014998620412971293,0.006425543257612218],[-5.659104925419395e-05,-0.0007306170399426008,-0.0008524050873673444,0.0009245959206817455,-0.0008339350248499662,-0.0011693690547207535,-0.0001808619482956262,0.00011720304490802921,-0.0006960000632538852,-0.0004623579683295534,0.0006984452939099965,-0.002590967330956708,-0.0007907026215249681,-0.00032966666334379374,-0.00018940804736100857,-0.0015993298780721664,-0.001253752263101422,0.001451079867931311,0.0013049831451537796,-0.00018248271220072201,-0.00254501057337962,-0.0022194253599222983,-0.0032055483190164048,-0.0023738526084425586,0.0006944426387718381,0.00197386828455541,-0.0020329880031913676,0.005121634856450165,0.012770255961247009,0.005470891977425364],[-4.704718944963619e-05,-0.0006074013248793851,-0.0007086502929654214,0.0007686664237180781,-0.0006932951344756304,-0.000972159523087692,-0.00015036028590800562,9.743720836654431e-05,-0.0005786223663353899,-0.0003843830997344037,0.0005806552183754605,-0.002154010792940098,-0.0006573537074054559,-0.0002740696659625102,-0.00015746511868780437,-0.0013296091300259545,-0.0010423118323905493,0.001206360906058974,0.0010849028259373001,-0.00015170771429997033,-0.0021158044633400154,-0.0018451279266544606,-0.0026649450936545582,-0.0019735116218336114,0.0005773275954197413,0.0016409830946052758,-0.0016901325032048866,0.00425789110749548,0.01061660208543683,0.0045482473767943215],[-3.819066952584822e-05,-0.0004930594906814429,-0.0005752485847642321,0.0006239668236772802,-0.0005627839978194925,-0.0007891528379690567,-0.00012205532479409567,7.9094888935532e-05,-0.00046969810166099185,-0.00031202390844181,0.0004713482742082891,-0.0017485234572056185,-0.0005336084576951711,-0.0002224767124726678,-0.0001278226899418092,-0.0010793134186629814,-0.0008460991442713395,0.0009792663755508859,0.0008806724860235123,-0.00012314910304162216,-0.0017175093769891078,-0.0014977870453921223,-0.0021632756083175314,-0.0016020028196487947,0.0004686470682468885,0.001332071985525555,-0.0013719691365174965,0.0034563533776546394,0.008618052352869814,0.003692050779673114],[-3.027042439786503e-05,-0.00039080540408491205,-0.00045594955551379,0.0004945642691630604,-0.0004460699608000606,-0.0006254928655789886,-9.674264754735207e-05,6.269164394093916e-05,-0.0003722888614593879,-0.00024731423271910787,0.0003735968098131759,-0.0013859025719204306,-0.0004229450459304113,-0.0001763379534530397,-0.00010131393663042468,-0.0008554779386396052,-0.0006706292531066863,0.0007761793431356719,0.0006980325361777613,-9.760959049862373e-05,-0.0013613204061160892,-0.0011871656109866773,-0.0017146405539971198,-0.0012697683973443878,0.0003714557986224111,0.0010558176861255146,-0.0010874406900630176,0.002739550914125443,0.00683078106362668,0.0029263677591075546],[-2.342703884108236e-05,-0.0003024540806057497,-0.0003528707693754424,0.0003827556624515545,-0.0003452247038280755,-0.00048408457919646414,-7.487155554518114e-05,4.851863186032083e-05,-0.0002881236649634336,-0.0001914026727775796,0.00028913591892074786,-0.0010725846772279084,-0.0003273277535994488,-0.00013647235434838167,-7.840939054529139e-05,-0.0006620757817195525,-0.000519016758866601,0.0006007046145202928,0.0005402248452958263,-7.554250438704398e-05,-0.0010535599240388898,-0.0009187771705422049,-0.0013270032269457911,-0.0009827055337177208,0.0002874789367897416,0.0008171237250214657,-0.0008415975590113134,0.002120206999042472,0.005286512378855139,0.0022647892297386844],[-1.770328802434485e-05,-0.00022855776777525583,-0.00026665652915001546,0.0002892398728364307,-0.00026087856883858743,-0.00036581186345370996,-5.6578755925511456e-05,3.6664442322268764e-05,-0.00021772859395839209,-0.0001446387086219715,0.00021849353157947512,-0.0008105281935233831,-0.0002473542447955876,-0.00010312909850787737,-5.9252218517792966e-05,-0.0005003158246858904,-0.0003922093284604323,0.00045393900955834434,0.0004082358038954484,-5.708577692281601e-05,-0.0007961516140682517,-0.0006942993090436085,-0.0010027865875502607,-0.0007426085398387709,0.00021724138733216397,0.0006174820793062821,-0.0006359764069556854,0.0016021928947101442,0.003994898882526165,0.0017114504449528478],[-1.3062554718125051e-05,-0.00016864371995254168,-0.00019675528625967147,0.00021341864067249896,-0.00019249195830480832,-0.0002699180782876187,-4.1747221993118195e-05,2.7053239114992008e-05,-0.00016065330171270148,-0.000106723171601529,0.00016121771887168398,-0.0005980566358024929,-0.0001825128955118175,-7.609487516881263e-05,-4.371986410064726e-05,-0.00036916322139232444,-0.0002893957216833496,0.0003349436072492981,0.0003012210228376154,-4.2121332695684945e-05,-0.0005874487275125821,-0.0005122959476605015,-0.0007399164862744153,-0.0005479414147502622,0.00016029381124938268,0.0004556155578166073,-0.00046926178932812354,0.0011821946480993855,0.002947677582526697,0.0012628114649557236]],\"type\":\"heatmap\"},{\"dx\":1,\"dy\":1,\"showscale\":false,\"x0\":18,\"y0\":0,\"z\":[[0.24949447065591812],[-0.04548096209764481],[-0.040343431383371355],[0.05816962756216526],[0.012064719782210886],[0.037135289050638676],[-0.06521930545568466],[-0.0651328843086958],[0.03214359693229198],[0.10560973584651948],[0.07900753021240234],[-0.05300418324768543],[-0.10854010432958602],[-0.03895098771899939],[0.018196751503273843],[0.03892478446541645],[0.0581374317407608],[0.022103746933862568],[0.030563546903431417],[-0.09896983057260514],[0.14339521527290344],[-0.02776822093874216],[0.046692685410380366],[-0.1117000438272953],[-0.024003128707408904],[-0.061050787940621375],[-0.042522963508963584],[-0.17796981036663057],[-0.016422911593690515],[-0.24977589547634124],[-0.03981870263814926]],\"type\":\"heatmap\"},{\"line\":{\"color\":\"#F28E2B\",\"dash\":\"solid\",\"width\":3},\"mode\":\"lines\",\"showlegend\":false,\"x\":[-0.5,29.5,29.5,-0.5,-0.5],\"y\":[35.0,35.0,71.0,71.0,35.0],\"type\":\"scatter\"},{\"line\":{\"color\":\"#4E79A7\",\"dash\":\"solid\",\"width\":3},\"mode\":\"lines\",\"showlegend\":false,\"x\":[0,14,14,0,0],\"y\":[-0.5,-0.5,0.4,0.4,-0.5],\"type\":\"scatter\"},{\"line\":{\"color\":\"#59A147\",\"dash\":\"solid\",\"width\":3},\"mode\":\"lines\",\"showlegend\":false,\"x\":[0,14,14,0,0],\"y\":[0.6000000000000001,0.6000000000000001,31.5,31.5,0.5],\"type\":\"scatter\"},{\"line\":{\"color\":\"#B07AA1\",\"dash\":\"solid\",\"width\":3},\"mode\":\"lines\",\"showlegend\":false,\"x\":[-0.1,14.1,14.1,-0.1,-0.1],\"y\":[-0.6,-0.6,31.6,31.6,-0.6],\"type\":\"scatter\"},{\"line\":{\"color\":\"black\",\"dash\":\"dot\"},\"mode\":\"lines\",\"showlegend\":false,\"x\":[29.5,30.5,30.5,29.5,29.5],\"y\":[-2.5,-2.5,2.5,2.5,-2.5],\"type\":\"scatter\"},{\"mode\":\"text\",\"showlegend\":false,\"text\":[\"$\\\\sum$\",\"$\\\\bigoplus$\"],\"x\":[25,25],\"y\":[25,20],\"type\":\"scatter\"},{\"line\":{\"color\":\"black\",\"width\":2},\"mode\":\"lines\",\"showlegend\":false,\"x\":[25.5,26.0,26.5],\"y\":[22.0,22.0,28.0],\"type\":\"scatter\"}],                        {\"template\":{\"data\":{\"bar\":[{\"error_x\":{\"color\":\"#2a3f5f\"},\"error_y\":{\"color\":\"#2a3f5f\"},\"marker\":{\"line\":{\"color\":\"#E5ECF6\",\"width\":0.5},\"pattern\":{\"fillmode\":\"overlay\",\"size\":10,\"solidity\":0.2}},\"type\":\"bar\"}],\"barpolar\":[{\"marker\":{\"line\":{\"color\":\"#E5ECF6\",\"width\":0.5},\"pattern\":{\"fillmode\":\"overlay\",\"size\":10,\"solidity\":0.2}},\"type\":\"barpolar\"}],\"carpet\":[{\"aaxis\":{\"endlinecolor\":\"#2a3f5f\",\"gridcolor\":\"white\",\"linecolor\":\"white\",\"minorgridcolor\":\"white\",\"startlinecolor\":\"#2a3f5f\"},\"baxis\":{\"endlinecolor\":\"#2a3f5f\",\"gridcolor\":\"white\",\"linecolor\":\"white\",\"minorgridcolor\":\"white\",\"startlinecolor\":\"#2a3f5f\"},\"type\":\"carpet\"}],\"choropleth\":[{\"colorbar\":{\"outlinewidth\":0,\"ticks\":\"\"},\"type\":\"choropleth\"}],\"contour\":[{\"colorbar\":{\"outlinewidth\":0,\"ticks\":\"\"},\"colorscale\":[[0.0,\"#0d0887\"],[0.1111111111111111,\"#46039f\"],[0.2222222222222222,\"#7201a8\"],[0.3333333333333333,\"#9c179e\"],[0.4444444444444444,\"#bd3786\"],[0.5555555555555556,\"#d8576b\"],[0.6666666666666666,\"#ed7953\"],[0.7777777777777778,\"#fb9f3a\"],[0.8888888888888888,\"#fdca26\"],[1.0,\"#f0f921\"]],\"type\":\"contour\"}],\"contourcarpet\":[{\"colorbar\":{\"outlinewidth\":0,\"ticks\":\"\"},\"type\":\"contourcarpet\"}],\"heatmap\":[{\"colorbar\":{\"outlinewidth\":0,\"ticks\":\"\"},\"colorscale\":[[0.0,\"#0d0887\"],[0.1111111111111111,\"#46039f\"],[0.2222222222222222,\"#7201a8\"],[0.3333333333333333,\"#9c179e\"],[0.4444444444444444,\"#bd3786\"],[0.5555555555555556,\"#d8576b\"],[0.6666666666666666,\"#ed7953\"],[0.7777777777777778,\"#fb9f3a\"],[0.8888888888888888,\"#fdca26\"],[1.0,\"#f0f921\"]],\"type\":\"heatmap\"}],\"heatmapgl\":[{\"colorbar\":{\"outlinewidth\":0,\"ticks\":\"\"},\"colorscale\":[[0.0,\"#0d0887\"],[0.1111111111111111,\"#46039f\"],[0.2222222222222222,\"#7201a8\"],[0.3333333333333333,\"#9c179e\"],[0.4444444444444444,\"#bd3786\"],[0.5555555555555556,\"#d8576b\"],[0.6666666666666666,\"#ed7953\"],[0.7777777777777778,\"#fb9f3a\"],[0.8888888888888888,\"#fdca26\"],[1.0,\"#f0f921\"]],\"type\":\"heatmapgl\"}],\"histogram\":[{\"marker\":{\"pattern\":{\"fillmode\":\"overlay\",\"size\":10,\"solidity\":0.2}},\"type\":\"histogram\"}],\"histogram2d\":[{\"colorbar\":{\"outlinewidth\":0,\"ticks\":\"\"},\"colorscale\":[[0.0,\"#0d0887\"],[0.1111111111111111,\"#46039f\"],[0.2222222222222222,\"#7201a8\"],[0.3333333333333333,\"#9c179e\"],[0.4444444444444444,\"#bd3786\"],[0.5555555555555556,\"#d8576b\"],[0.6666666666666666,\"#ed7953\"],[0.7777777777777778,\"#fb9f3a\"],[0.8888888888888888,\"#fdca26\"],[1.0,\"#f0f921\"]],\"type\":\"histogram2d\"}],\"histogram2dcontour\":[{\"colorbar\":{\"outlinewidth\":0,\"ticks\":\"\"},\"colorscale\":[[0.0,\"#0d0887\"],[0.1111111111111111,\"#46039f\"],[0.2222222222222222,\"#7201a8\"],[0.3333333333333333,\"#9c179e\"],[0.4444444444444444,\"#bd3786\"],[0.5555555555555556,\"#d8576b\"],[0.6666666666666666,\"#ed7953\"],[0.7777777777777778,\"#fb9f3a\"],[0.8888888888888888,\"#fdca26\"],[1.0,\"#f0f921\"]],\"type\":\"histogram2dcontour\"}],\"mesh3d\":[{\"colorbar\":{\"outlinewidth\":0,\"ticks\":\"\"},\"type\":\"mesh3d\"}],\"parcoords\":[{\"line\":{\"colorbar\":{\"outlinewidth\":0,\"ticks\":\"\"}},\"type\":\"parcoords\"}],\"pie\":[{\"automargin\":true,\"type\":\"pie\"}],\"scatter\":[{\"marker\":{\"colorbar\":{\"outlinewidth\":0,\"ticks\":\"\"}},\"type\":\"scatter\"}],\"scatter3d\":[{\"line\":{\"colorbar\":{\"outlinewidth\":0,\"ticks\":\"\"}},\"marker\":{\"colorbar\":{\"outlinewidth\":0,\"ticks\":\"\"}},\"type\":\"scatter3d\"}],\"scattercarpet\":[{\"marker\":{\"colorbar\":{\"outlinewidth\":0,\"ticks\":\"\"}},\"type\":\"scattercarpet\"}],\"scattergeo\":[{\"marker\":{\"colorbar\":{\"outlinewidth\":0,\"ticks\":\"\"}},\"type\":\"scattergeo\"}],\"scattergl\":[{\"marker\":{\"colorbar\":{\"outlinewidth\":0,\"ticks\":\"\"}},\"type\":\"scattergl\"}],\"scattermapbox\":[{\"marker\":{\"colorbar\":{\"outlinewidth\":0,\"ticks\":\"\"}},\"type\":\"scattermapbox\"}],\"scatterpolar\":[{\"marker\":{\"colorbar\":{\"outlinewidth\":0,\"ticks\":\"\"}},\"type\":\"scatterpolar\"}],\"scatterpolargl\":[{\"marker\":{\"colorbar\":{\"outlinewidth\":0,\"ticks\":\"\"}},\"type\":\"scatterpolargl\"}],\"scatterternary\":[{\"marker\":{\"colorbar\":{\"outlinewidth\":0,\"ticks\":\"\"}},\"type\":\"scatterternary\"}],\"surface\":[{\"colorbar\":{\"outlinewidth\":0,\"ticks\":\"\"},\"colorscale\":[[0.0,\"#0d0887\"],[0.1111111111111111,\"#46039f\"],[0.2222222222222222,\"#7201a8\"],[0.3333333333333333,\"#9c179e\"],[0.4444444444444444,\"#bd3786\"],[0.5555555555555556,\"#d8576b\"],[0.6666666666666666,\"#ed7953\"],[0.7777777777777778,\"#fb9f3a\"],[0.8888888888888888,\"#fdca26\"],[1.0,\"#f0f921\"]],\"type\":\"surface\"}],\"table\":[{\"cells\":{\"fill\":{\"color\":\"#EBF0F8\"},\"line\":{\"color\":\"white\"}},\"header\":{\"fill\":{\"color\":\"#C8D4E3\"},\"line\":{\"color\":\"white\"}},\"type\":\"table\"}]},\"layout\":{\"annotationdefaults\":{\"arrowcolor\":\"#2a3f5f\",\"arrowhead\":0,\"arrowwidth\":1},\"autotypenumbers\":\"strict\",\"coloraxis\":{\"colorbar\":{\"outlinewidth\":0,\"ticks\":\"\"}},\"colorscale\":{\"diverging\":[[0,\"#8e0152\"],[0.1,\"#c51b7d\"],[0.2,\"#de77ae\"],[0.3,\"#f1b6da\"],[0.4,\"#fde0ef\"],[0.5,\"#f7f7f7\"],[0.6,\"#e6f5d0\"],[0.7,\"#b8e186\"],[0.8,\"#7fbc41\"],[0.9,\"#4d9221\"],[1,\"#276419\"]],\"sequential\":[[0.0,\"#0d0887\"],[0.1111111111111111,\"#46039f\"],[0.2222222222222222,\"#7201a8\"],[0.3333333333333333,\"#9c179e\"],[0.4444444444444444,\"#bd3786\"],[0.5555555555555556,\"#d8576b\"],[0.6666666666666666,\"#ed7953\"],[0.7777777777777778,\"#fb9f3a\"],[0.8888888888888888,\"#fdca26\"],[1.0,\"#f0f921\"]],\"sequentialminus\":[[0.0,\"#0d0887\"],[0.1111111111111111,\"#46039f\"],[0.2222222222222222,\"#7201a8\"],[0.3333333333333333,\"#9c179e\"],[0.4444444444444444,\"#bd3786\"],[0.5555555555555556,\"#d8576b\"],[0.6666666666666666,\"#ed7953\"],[0.7777777777777778,\"#fb9f3a\"],[0.8888888888888888,\"#fdca26\"],[1.0,\"#f0f921\"]]},\"colorway\":[\"#636efa\",\"#EF553B\",\"#00cc96\",\"#ab63fa\",\"#FFA15A\",\"#19d3f3\",\"#FF6692\",\"#B6E880\",\"#FF97FF\",\"#FECB52\"],\"font\":{\"color\":\"#2a3f5f\"},\"geo\":{\"bgcolor\":\"white\",\"lakecolor\":\"white\",\"landcolor\":\"#E5ECF6\",\"showlakes\":true,\"showland\":true,\"subunitcolor\":\"white\"},\"hoverlabel\":{\"align\":\"left\"},\"hovermode\":\"closest\",\"mapbox\":{\"style\":\"light\"},\"paper_bgcolor\":\"white\",\"plot_bgcolor\":\"#E5ECF6\",\"polar\":{\"angularaxis\":{\"gridcolor\":\"white\",\"linecolor\":\"white\",\"ticks\":\"\"},\"bgcolor\":\"#E5ECF6\",\"radialaxis\":{\"gridcolor\":\"white\",\"linecolor\":\"white\",\"ticks\":\"\"}},\"scene\":{\"xaxis\":{\"backgroundcolor\":\"#E5ECF6\",\"gridcolor\":\"white\",\"gridwidth\":2,\"linecolor\":\"white\",\"showbackground\":true,\"ticks\":\"\",\"zerolinecolor\":\"white\"},\"yaxis\":{\"backgroundcolor\":\"#E5ECF6\",\"gridcolor\":\"white\",\"gridwidth\":2,\"linecolor\":\"white\",\"showbackground\":true,\"ticks\":\"\",\"zerolinecolor\":\"white\"},\"zaxis\":{\"backgroundcolor\":\"#E5ECF6\",\"gridcolor\":\"white\",\"gridwidth\":2,\"linecolor\":\"white\",\"showbackground\":true,\"ticks\":\"\",\"zerolinecolor\":\"white\"}},\"shapedefaults\":{\"line\":{\"color\":\"#2a3f5f\"}},\"ternary\":{\"aaxis\":{\"gridcolor\":\"white\",\"linecolor\":\"white\",\"ticks\":\"\"},\"baxis\":{\"gridcolor\":\"white\",\"linecolor\":\"white\",\"ticks\":\"\"},\"bgcolor\":\"#E5ECF6\",\"caxis\":{\"gridcolor\":\"white\",\"linecolor\":\"white\",\"ticks\":\"\"}},\"title\":{\"x\":0.05},\"xaxis\":{\"automargin\":true,\"gridcolor\":\"white\",\"linecolor\":\"white\",\"ticks\":\"\",\"title\":{\"standoff\":15},\"zerolinecolor\":\"white\",\"zerolinewidth\":2},\"yaxis\":{\"automargin\":true,\"gridcolor\":\"white\",\"linecolor\":\"white\",\"ticks\":\"\",\"title\":{\"standoff\":15},\"zerolinecolor\":\"white\",\"zerolinewidth\":2}}},\"height\":600,\"width\":500},                        {\"responsive\": true}                    ).then(function(){\n                            \nvar gd = document.getElementById('03a3374f-5fa5-4ce2-a9bf-45bd5526a969');\nvar x = new MutationObserver(function (mutations, observer) {{\n        var display = window.getComputedStyle(gd).display;\n        if (!display || display === 'none') {{\n            console.log([gd, 'removed!']);\n            Plotly.purge(gd);\n            observer.disconnect();\n        }}\n}});\n\n// Listen for the removal of the full notebook cells\nvar notebookContainer = gd.closest('#notebook-container');\nif (notebookContainer) {{\n    x.observe(notebookContainer, {childList: true});\n}}\n\n// Listen for the clearing of the current output cell\nvar outputEl = gd.closest('.output');\nif (outputEl) {{\n    x.observe(outputEl, {childList: true});\n}}\n\n                        })                };                });            </script>        </div>"
     },
     "metadata": {},
     "output_type": "display_data"
    }
   ],
   "source": [
    "limit_pop = 30\n",
    "psth_scaling = 5\n",
    "psth_start = 100 - 15 # half the strf on the probe\n",
    "extra_resp = 2 # how much the response protrudes from the STRF. min 1\n",
    "STRF_vert_offset = 5\n",
    "STRF_vert_scaling = 2\n",
    "\n",
    "\n",
    "if limit_pop:\n",
    "    pop_to_plot = pop_raster[:limit_pop,:]\n",
    "    weights_to_plot = pop_weight[:limit_pop+1]\n",
    "else:\n",
    "    pop_to_plot = pop_raster\n",
    "    weights_to_plot = pop_weight\n",
    "\n",
    "n_pshts = pop_to_plot.shape[0] + 1\n",
    "\n",
    "fig = go.Figure()\n",
    "for ll, cellpsth in enumerate(pop_to_plot):\n",
    "    cellpsth = cellpsth[psth_start:psth_start+int(strf.shape[1]/2)] * psth_scaling + ll + 1\n",
    "    x=np.linspace(0,cellpsth.shape[0], int(strf.shape[1]/2), endpoint=False)\n",
    "\n",
    "    fig.add_trace(\n",
    "        go.Scatter(x=x, y=cellpsth,\n",
    "                   mode='lines',\n",
    "                   opacity=1,\n",
    "                   line=dict(\n",
    "                       color='gray',\n",
    "                       width=1\n",
    "                   ),\n",
    "                   showlegend=False\n",
    "                   )\n",
    "    )\n",
    "\n",
    "\n",
    "resp_psth = resp_raster[psth_start:psth_start+strf.shape[1]+extra_resp] * psth_scaling\n",
    "x=np.linspace(0,resp_psth.shape[0], strf.shape[1]+extra_resp, endpoint=False)\n",
    "fig.add_trace(\n",
    "    go.Scatter(x=x, y=resp_psth,\n",
    "               mode='lines',\n",
    "               opacity=1,\n",
    "               line=dict(\n",
    "                   color='black',\n",
    "                   width=2\n",
    "               ),\n",
    "               showlegend=False\n",
    "               )\n",
    ")\n",
    "\n",
    "fig.add_trace(go.Heatmap(z=strf[:,::-1],\n",
    "                         y0=n_pshts + 5 , dy=2,\n",
    "                         showscale=False)\n",
    "              )\n",
    "fig.add_trace(go.Heatmap(z=weights_to_plot[:,None],\n",
    "                         x0=18, dx=1,\n",
    "                         y0=0, dy=1,\n",
    "                         showscale=False)\n",
    "              )\n",
    "\n",
    "\n",
    "\n",
    "# box around STRF\n",
    "y0 = n_pshts + STRF_vert_offset\n",
    "dy = strf.shape[0] * STRF_vert_scaling\n",
    "x0 = 0\n",
    "dx = strf.shape[1]\n",
    "x = np.array([x0, x0+dx, x0+dx, x0, x0]) - 0.5\n",
    "y = np.array([y0, y0, y0+dy, y0+dy, y0]) - (0.5 * STRF_vert_scaling)\n",
    "box_color = MODEL_COLORMAP['matchl_STRF']\n",
    "STRF_box = (x, y, box_color)\n",
    "\n",
    "# box around  self PSTH\n",
    "x = np.array([0, int(strf.shape[1]/2)-1, int(strf.shape[1]/2)-1, 0, 0])\n",
    "y = np.array([0, 0, 0.9, 0.9, 0]) -0.5\n",
    "box_color = MODEL_COLORMAP['matchl_self']\n",
    "self_box = (x, y, box_color)\n",
    "\n",
    "# box around population PSTH\n",
    "x = np.array([0, int(strf.shape[1]/2)-1, int(strf.shape[1]/2)-1, 0, 0])\n",
    "y = np.array([1.1, 1.1, n_pshts+1, n_pshts+1, 1]) -0.5\n",
    "box_color = MODEL_COLORMAP['matchl_pop']\n",
    "pop_box = (x, y, box_color)\n",
    "\n",
    "# box around ful PSTH\n",
    "x = np.array([-0.1, int(strf.shape[1]/2)-0.9, int(strf.shape[1]/2)-0.9, -0.1, -0.1])\n",
    "y = np.array([-0.1, -0.1, n_pshts+1.1, n_pshts+1.1, -0.1]) -0.5\n",
    "box_color = MODEL_COLORMAP['matchl_full']\n",
    "full_box = (x, y, box_color)\n",
    "\n",
    "for x, y, color in [STRF_box, self_box, pop_box, full_box]:\n",
    "# for x, y, color in [STRF_box, self_box,]:\n",
    "    fig.add_trace(go.Scatter(x=x,\n",
    "                             y=y,\n",
    "                             mode='lines',\n",
    "                             line=dict(color=color,\n",
    "                                       dash='solid',\n",
    "                                       width=3),\n",
    "                             showlegend=False\n",
    "                             )\n",
    "                  )\n",
    "\n",
    "\n",
    "# box around value to predict\n",
    "x = (np.array([0,1,1,0,0])-0.5) * 1 + 30\n",
    "y = (np.array([0,0,1,1,0])-0.5) * 5 + 0\n",
    "fig.add_trace(go.Scatter(x=x,\n",
    "                         y=y,\n",
    "                         mode='lines',\n",
    "                         line=dict(color='black',\n",
    "                                   dash='dot'),\n",
    "                         showlegend=False\n",
    "                         )\n",
    "              )\n",
    "\n",
    "#\n",
    "\n",
    "# add extra in place symbols\n",
    "fig.add_trace(go.Scatter(x=[25, 25], y =[25,20],\n",
    "                         text=[r'$\\sum$',\n",
    "                               r'$\\bigoplus$'],\n",
    "                         mode='text',\n",
    "                         showlegend=False)\n",
    "              )\n",
    "\n",
    "# relu\n",
    "x = np.array([-1,0,1]) * 0.5 + 26\n",
    "y = np.array([-0.5,-0.5,0.5]) * 6 + 25\n",
    "fig.add_trace(go.Scatter(x=x, y=y,\n",
    "                         mode='lines',\n",
    "                         line=dict(color='black',\n",
    "                                   width=2),\n",
    "                         showlegend=False)\n",
    "              )\n",
    "\n",
    "\n",
    "if 'model_cartoon' in panels:\n",
    "    panels.pop('model_cartoon')\n",
    "\n",
    "panels['model_cartoon'].extend(fig['data'])\n",
    "fig.update_layout(height=600, width=500)\n",
    "fig.show()\n",
    "# img_bytes = fig.to_image(format=\"png\", width=500, height=600)\n",
    "# Image(img_bytes)"
   ],
   "metadata": {
    "collapsed": false,
    "pycharm": {
     "name": "#%%\n"
    }
   }
  },
  {
   "cell_type": "markdown",
   "source": [
    "# plot pannels"
   ],
   "metadata": {
    "collapsed": false
   }
  },
  {
   "cell_type": "code",
   "execution_count": 94,
   "outputs": [
    {
     "name": "stdout",
     "output_type": "stream",
     "text": [
      "This is the format of your plot grid:\n",
      "[ (1,1) x,y             -      ]  [ (1,3) x2,y2 ]\n",
      "[ (2,1) x3,y3 ]  [ (2,2) x4,y4 ]  ⎡ (2,3) x5,y5 ⎤\n",
      "[ (3,1) x6,y6 ]  [ (3,2) x7,y7 ]  ⎣      :      ⎦\n",
      "\n"
     ]
    }
   ],
   "source": [
    "# simple plot layout and other figurewide configurations\n",
    "def define_subplots():\n",
    "    fig = make_subplots(rows=3, cols=3, vertical_spacing=0.05, horizontal_spacing=0.05,\n",
    "                        column_widths=[1/3, 1/3, 1/3], row_heights=[0.6, 0.2, 0.2],\n",
    "                        specs=[[{'colspan': 2}, None, {}            ],\n",
    "                               [{}            , {}  , {'rowspan': 2}],\n",
    "                               [{}            , {}  , None          ]])\n",
    "    # figure size in inches at different PPIs\n",
    "\n",
    "    ppi = 300  # high quality print standard (do i need this if I do postprocecing in vectors)\n",
    "    ppi = 96  # www standard\n",
    "    ppi = 92.5  # house monitor\n",
    "\n",
    "    heigh = 6\n",
    "    width = 6  # in inches\n",
    "    _ = fig.update_layout(\n",
    "        template='simple_white',\n",
    "        margin=dict(l=40, r=40, t=40, b=40),\n",
    "        width=round(ppi*width), height=round(ppi*heigh),\n",
    "\n",
    "        # model fitness\n",
    "        yaxis2=dict(\n",
    "            title_text='r-test'\n",
    "        ),\n",
    "\n",
    "        # model fitness inset\n",
    "        xaxis8=dict(anchor='y8', domain=[0.75,0.8]),\n",
    "        yaxis8=dict(anchor='x8', domain=[0.85,0.95]),\n",
    "\n",
    "        plot_bgcolor='rgba(256,256,256,0.2)', # ensures you can see through the inset background\n",
    "\n",
    "        # example PSTHs\n",
    "        xaxis3=dict(matches='x6',showticklabels=False),\n",
    "        yaxis3=dict(matches='y6',showticklabels=True),\n",
    "\n",
    "        xaxis6=dict(range=[0,1],showticklabels=True),\n",
    "        yaxis6=dict(range=[-0.01,0.4],showticklabels=True),\n",
    "\n",
    "        # difference prediction barplot\n",
    "        yaxis5=dict(range=[0.3, 0.75]),\n",
    "\n",
    "        showlegend=False\n",
    "    )\n",
    "\n",
    "    return fig, round(ppi * width), round(ppi * heigh)\n",
    "\n",
    "\n",
    "f, pw, ph = define_subplots()\n",
    "f.print_grid()\n",
    "# img_bytes = f.to_image(format=\"png\", width=pw, height=ph)\n",
    "# Image(img_bytes)"
   ],
   "metadata": {
    "collapsed": false,
    "pycharm": {
     "name": "#%%\n"
    }
   }
  },
  {
   "cell_type": "code",
   "execution_count": 120,
   "outputs": [
    {
     "data": {
      "image/png": "[encoded data removed]",
      "text/plain": "<IPython.core.display.Image object>"
     },
     "execution_count": 120,
     "metadata": {},
     "output_type": "execute_result"
    }
   ],
   "source": [
    "fig, pw, ph  = define_subplots()\n",
    "\n",
    "# model schematic\n",
    "pan = panels['model_cartoon']\n",
    "fig.add_traces(pan, rows=[1]*len(pan), cols=[1]*len(pan))\n",
    "\n",
    "\n",
    "# full scatter fitness\n",
    "pan = panels['model_fitness']\n",
    "fig.add_traces(pan, rows=[1]*len(pan), cols=[3]*len(pan))\n",
    "\n",
    "# summary inset\n",
    "pan = panels['model_fitness_summary']\n",
    "for trace in pan:\n",
    "    trace.update(xaxis='x8', yaxis='y8')\n",
    "fig.add_traces(pan)\n",
    "\n",
    "# example PSTHs\n",
    "# STRF\n",
    "pan = panels['STRF_eg']\n",
    "fig.add_traces(pan, rows=[2]*len(pan), cols=[1]*len(pan))\n",
    "for vline in [ 0.25, 0.5, 0.75]:\n",
    "    fig.add_vline(x=vline,line=dict(width=1, dash='dot', color='black'), row=2, col=1)\n",
    "# full model\n",
    "pan = panels['full_eg']\n",
    "fig.add_traces(pan, rows=[3]*len(pan), cols=[1]*len(pan))\n",
    "for vline in [ 0.25, 0.5, 0.75]:\n",
    "    fig.add_vline(x=vline,line=dict(width=1, dash='dot', color='black'), row=3, col=1)\n",
    "\n",
    "\n",
    "# add e.g. model difference prediction scatters This is confusing\n",
    "pan = panels['A_scatter']\n",
    "fig.add_traces(pan, rows=[2]*len(pan), cols=[2]*len(pan))\n",
    "\n",
    "pan = panels['B_scatter']\n",
    "fig.add_traces(pan, rows=[3]*len(pan), cols=[2]*len(pan))\n",
    "\n",
    "# summary for difference prediction for all models\n",
    "pan = panels['metric_reg_bars']\n",
    "fig.add_traces(pan, rows=[2]*len(pan), cols=[3]*len(pan))\n",
    "\n",
    "\n",
    "# fig.show()\n",
    "img_bytes = fig.to_image(format=\"png\", width=pw, height=ph)\n",
    "Image(img_bytes)"
   ],
   "metadata": {
    "collapsed": false,
    "pycharm": {
     "name": "#%%\n"
    }
   }
  },
  {
   "cell_type": "code",
   "execution_count": 122,
   "outputs": [
    {
     "name": "stdout",
     "output_type": "stream",
     "text": [
      "done saving figures\n"
     ]
    }
   ],
   "source": [
    "folder = root_path / 'reports' / 'figures' / 'paper'\n",
    "folder.mkdir(parents=True, exist_ok=True)\n",
    "\n",
    "filename = folder / 'figure_04'\n",
    "fig.write_image(filename.with_suffix('.png'))\n",
    "fig.write_image(filename.with_suffix('.svg'))\n",
    "print('done saving figures')"
   ],
   "metadata": {
    "collapsed": false,
    "pycharm": {
     "name": "#%%\n"
    }
   }
  }
 ],
 "metadata": {
  "kernelspec": {
   "display_name": "Python 3",
   "language": "python",
   "name": "python3"
  },
  "language_info": {
   "codemirror_mode": {
    "name": "ipython",
    "version": 2
   },
   "file_extension": ".py",
   "mimetype": "text/x-python",
   "name": "python",
   "nbconvert_exporter": "python",
   "pygments_lexer": "ipython2",
   "version": "2.7.6"
  }
 },
 "nbformat": 4,
 "nbformat_minor": 0
}