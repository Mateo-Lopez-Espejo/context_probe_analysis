{
 "cells": [
  {
   "cell_type": "code",
   "execution_count": 1,
   "metadata": {
    "collapsed": true
   },
   "outputs": [],
   "source": [
    "from collections import defaultdict\n",
    "import itertools as itt\n",
    "import pathlib as pl\n",
    "from configparser import ConfigParser\n",
    "\n",
    "import pandas as pd\n",
    "from IPython.display import Image\n",
    "\n",
    "import joblib as jl\n",
    "import numpy as np\n",
    "import scipy.stats as sst\n",
    "from scikit_posthocs import posthoc_dunn\n",
    "import plotly.graph_objs as go\n",
    "from plotly.subplots import make_subplots\n",
    "from webcolors import name_to_hex\n",
    "\n",
    "from src.root_path import config_path, root_path\n",
    "from src.utils.dataframes import add_classified_contexts\n",
    "from src.utils.tools import decimate_xy\n",
    "from src.visualization.palette import *"
   ]
  },
  {
   "cell_type": "markdown",
   "source": [
    "# context metric distribution and comparison between regions and transition pairs\n",
    "### Load and format all required data, i.e. a dataframe"
   ],
   "metadata": {
    "collapsed": false
   }
  },
  {
   "cell_type": "code",
   "execution_count": 2,
   "outputs": [],
   "source": [
    "config = ConfigParser()\n",
    "config.read_file(open(config_path / 'settings.ini'))\n",
    "meta = {'reliability': 0.1,  # r value\n",
    "        'smoothing_window': 0,  # ms\n",
    "        'raster_fs': 20,\n",
    "        'zscore': True,\n",
    "        'stim_type': 'permutations',\n",
    "        }\n",
    "alpha = 0.05\n",
    "montecarlos = 11000\n",
    "\n",
    "folder = root_path / 'reports' / 'figures' / 'paper'\n",
    "folder.mkdir(parents=True, exist_ok=True)\n",
    "\n",
    "summary_DF_file = pl.Path(config['paths']['analysis_cache']) / '220520_minimal_DF'"
   ],
   "metadata": {
    "collapsed": false,
    "pycharm": {
     "name": "#%%\n"
    }
   }
  },
  {
   "cell_type": "code",
   "execution_count": 3,
   "outputs": [
    {
     "name": "stdout",
     "output_type": "stream",
     "text": [
      "45906/501440, 9.155% significant  instances\n",
      "1232/2728, 45.161% modulated neurons\n"
     ]
    }
   ],
   "source": [
    "def print_percentage_significant():\n",
    "    DF = jl.load(summary_DF_file).query(\n",
    "        \"analysis == 'SC' and mult_comp_corr == 'bf_cp' and metric in 'integral' \"\n",
    "        )\n",
    "    # number proportion of significant instances\n",
    "    nsignif = np.sum(DF.value.values>0)\n",
    "    ntotal  = DF.shape[0]\n",
    "    print(f'{nsignif}/{ntotal}, {nsignif/ntotal*100:.3f}% significant  instances')\n",
    "\n",
    "    # proportion of neurons with at least one signif instance\n",
    "    neusig = DF.groupby('id').agg(modulated=('value', lambda x: np.any(x>0)))\n",
    "    nsignif = np.sum(neusig.modulated.values)\n",
    "    ntotal  = neusig.shape[0]\n",
    "    print(f'{nsignif}/{ntotal}, {nsignif/ntotal*100:.3f}% modulated neurons')\n",
    "\n",
    "print_percentage_significant()"
   ],
   "metadata": {
    "collapsed": false,
    "pycharm": {
     "name": "#%%\n"
    }
   }
  },
  {
   "cell_type": "code",
   "execution_count": 4,
   "outputs": [
    {
     "name": "stdout",
     "output_type": "stream",
     "text": [
      "(91812, 9)\n",
      "              id context_pair probe     value    metric diff_metric     site  \\\n",
      "0  TNC013a-019-3        00_01     1  0.181284  integral    delta_FR  TNC013a   \n",
      "1  TNC013a-036-3        00_01     1  0.337167  integral    delta_FR  TNC013a   \n",
      "2  TNC013a-042-9        00_01     1  0.192177  integral    delta_FR  TNC013a   \n",
      "3  TNC013a-046-1        00_01     1  0.134207  integral    delta_FR  TNC013a   \n",
      "4  TNC013a-036-3        00_02     1  0.346280  integral    delta_FR  TNC013a   \n",
      "\n",
      "  region    trans_pair  \n",
      "0     A1  same_silence  \n",
      "1     A1  same_silence  \n",
      "2     A1  same_silence  \n",
      "3     A1  same_silence  \n",
      "4     A1  diff_silence  \n",
      "(45906, 9)\n",
      "metric region     site context_pair probe    trans_pair             id  \\\n",
      "0          A1  TNC013a        00_01     1  same_silence  TNC013a-019-3   \n",
      "1          A1  TNC013a        00_01     1  same_silence  TNC013a-036-3   \n",
      "2          A1  TNC013a        00_01     1  same_silence  TNC013a-042-9   \n",
      "3          A1  TNC013a        00_01     1  same_silence  TNC013a-046-1   \n",
      "4          A1  TNC013a        00_01     2  diff_silence  TNC013a-042-9   \n",
      "\n",
      "metric  integral  last_bin  last_bin_jittered  \n",
      "0       0.181284     350.0         333.687498  \n",
      "1       0.337167     200.0         202.881536  \n",
      "2       0.192177     100.0          90.634653  \n",
      "3       0.134207     200.0         192.336784  \n",
      "4       0.262980     250.0         253.822273  \n"
     ]
    }
   ],
   "source": [
    "# Cluster Mass significant contextual effects\n",
    "# summary_DF_file = pl.Path(config['paths']['analysis_cache']) / f'220804_significant_abs_deltaFR_DF'\n",
    "\n",
    "metrics = ['integral', 'last_bin']\n",
    "DF = jl.load(summary_DF_file).query(f\"source == 'real' and metric in {metrics} and \"\n",
    "                                    f\"cluster_threshold == 0.05 and mult_comp_corr == 'bf_cp' and \"\n",
    "                                    f\"analysis == 'SC' and source == 'real' and \"\n",
    "                                    f\"diff_metric == 'delta_FR' and \"\n",
    "                                    f\"value > 0\")\n",
    "\n",
    "DF.loc[DF.metric == 'integral', 'value'] = DF.loc[DF.metric == 'integral', 'value'] /1000  # ms to s for better display\n",
    "\n",
    "DF.drop(columns=['source', 'cluster_threshold', 'mult_comp_corr',\n",
    "                 'analysis', 'stim_count',], inplace=True)\n",
    "DF.reset_index(drop=True, inplace=True)\n",
    "DF = add_classified_contexts(DF)\n",
    "\n",
    "for col in ['id','context_pair','probe','site', 'region', 'metric', 'trans_pair']:\n",
    "    DF[col] = DF[col].astype('category')\n",
    "\n",
    "DF['value'] = pd.to_numeric(DF.value, downcast='float')\n",
    "print(DF.shape)\n",
    "print(DF.head())\n",
    "\n",
    "\n",
    "# pivots for the scatter\n",
    "pivoted = DF.pivot_table(index=['region', 'site', 'context_pair', 'probe', 'trans_pair', 'id'],\n",
    "                         columns=['metric'], values='value', aggfunc='first', observed=True).reset_index()\n",
    "\n",
    "# adds a small amount of jitter to the last bin value to help visualization\n",
    "binsize = 1 / meta['raster_fs']\n",
    "jitter = (np.random.random(pivoted.shape[0]) * binsize * 0.8 - (binsize * 0.8 / 2)) * 1000  # in ms\n",
    "pivoted['last_bin_jittered'] = pivoted['last_bin'] + jitter\n",
    "\n",
    "print(pivoted.shape)\n",
    "print(pivoted.head())"
   ],
   "metadata": {
    "collapsed": false,
    "pycharm": {
     "name": "#%%\n"
    }
   }
  },
  {
   "cell_type": "markdown",
   "source": [
    "# Panels"
   ],
   "metadata": {
    "collapsed": false
   }
  },
  {
   "cell_type": "code",
   "execution_count": 5,
   "outputs": [],
   "source": [
    "panels = defaultdict(list)"
   ],
   "metadata": {
    "collapsed": false,
    "pycharm": {
     "name": "#%%\n"
    }
   }
  },
  {
   "cell_type": "markdown",
   "source": [],
   "metadata": {
    "collapsed": false
   }
  },
  {
   "cell_type": "markdown",
   "source": [
    "## scatter plot of all dots"
   ],
   "metadata": {
    "collapsed": false,
    "pycharm": {
     "name": "#%% md\n"
    }
   }
  },
  {
   "cell_type": "code",
   "execution_count": 6,
   "outputs": [
    {
     "data": {
      "image/png": "[encoded data removed]",
      "text/plain": "<IPython.core.display.Image object>"
     },
     "execution_count": 6,
     "metadata": {},
     "output_type": "execute_result"
    }
   ],
   "source": [
    "panelname = 'scater_full'\n",
    "if panelname in panels:\n",
    "    panels.pop(panelname)\n",
    "\n",
    "maxy = list()\n",
    "for region in ['A1', 'PEG']:\n",
    "    toplot = pivoted.query(f\"region == '{region}'\")\n",
    "    x = toplot['last_bin_jittered'].values\n",
    "    y = toplot['integral'].values\n",
    "\n",
    "    xm, ym = decimate_xy(x, y, end_num=1000, by_quantiles=False)\n",
    "    maxy.append(np.max(ym))\n",
    "\n",
    "    panels[panelname].append(go.Scatter(x=xm, y=ym,\n",
    "                                          mode='markers',\n",
    "                                          opacity=0.5,\n",
    "                                          marker=dict(\n",
    "                                              color=REGION_COLORMAP[region],\n",
    "                                              opacity=0.9,\n",
    "                                              size=2\n",
    "                                          ),\n",
    "                                          name=region,\n",
    "                                          hoverinfo='skip',\n",
    "                                          showlegend=False)\n",
    "                             )\n",
    "\n",
    "maxy = np.max(maxy)\n",
    "\n",
    "## highlight the special cell, defined in the first cell of the notebook\n",
    "# same examples as in figure 1, cellid, (context-pair,), probe\n",
    "example_cells = [\n",
    "    ('ARM021b-36-8', (0,1), 3),\n",
    "    ('ARM021b-36-8', (1,3), 4),\n",
    "]\n",
    "\n",
    "for cellid, ctx_pair, probe in example_cells:\n",
    "\n",
    "    celltoplot = toplot.query(f\"id == '{cellid}' and context_pair == '{ctx_pair[0]:02}_{ctx_pair[1]:02}' and \"\n",
    "                              f\"probe == {probe}\")\n",
    "\n",
    "    panels[panelname].append(go.Scatter(x=celltoplot['last_bin_jittered'],\n",
    "                                          y=celltoplot[\"integral\"],\n",
    "                                          mode='markers',\n",
    "                                          marker=dict(color=REGION_COLORMAP[celltoplot['region'].values[0]],\n",
    "                                                      size=4,\n",
    "                                                      line=dict(color='black',\n",
    "                                                                width=1)),\n",
    "                                          hoverinfo='skip',\n",
    "                                          showlegend=False)\n",
    "                             )\n",
    "\n",
    "fig = go.Figure()\n",
    "pan = panels[panelname]\n",
    "fig.add_traces(pan)\n",
    "\n",
    "w, h = 2.5, 2.5 # in inches\n",
    "_ = fig.update_layout(template='simple_white',\n",
    "                      margin=dict(l=10, r=10, t=10, b=10),\n",
    "                      width=round(96*w), height=round(96*h),\n",
    "\n",
    "                      xaxis=dict(\n",
    "                          range=[0, 1050],\n",
    "                          title=dict(\n",
    "                          text='Duration (ms)',\n",
    "                          standoff=0,\n",
    "                          font_color=DURCOLOR,\n",
    "                          font_size=10),\n",
    "                          tickfont_size=9\n",
    "                      ),\n",
    "\n",
    "                      yaxis=dict(\n",
    "                          range=[0,maxy+maxy*0.01],\n",
    "                                 title=dict(\n",
    "                          text=\"Amplitude (Delta Z-score*s) \",\n",
    "                          standoff=0,\n",
    "                          font_color=AMPCOLOR,\n",
    "                          font_size=10),\n",
    "                          tickfont_size=9\n",
    "                      ))\n",
    "\n",
    "\n",
    "filename = folder / 'fig2_parameter_scatter'\n",
    "fig.write_image(filename.with_suffix('.png'), scale=4)\n",
    "fig.write_image(filename.with_suffix('.svg'))\n",
    "\n",
    "img_bytes = fig.to_image(format=\"png\", width=96*w, height=96*h, scale=1)\n",
    "Image(img_bytes)"
   ],
   "metadata": {
    "collapsed": false,
    "pycharm": {
     "name": "#%%\n"
    }
   }
  },
  {
   "cell_type": "code",
   "execution_count": 7,
   "outputs": [
    {
     "name": "stdout",
     "output_type": "stream",
     "text": [
      "        inst_count  neu_count\n",
      "region                       \n",
      "A1           24711        709\n",
      "PEG          21195        523\n",
      "\n",
      "               inst_count  neu_count\n",
      "trans_pair                         \n",
      "same_silence        1766        725\n",
      "diff_silence       11242       1019\n",
      "diff_same           7657        945\n",
      "diff_diff          25241        991\n",
      "\n",
      " inst_count    45906\n",
      "neu_count      1232\n",
      "dtype: int64\n"
     ]
    }
   ],
   "source": [
    "# count number of instances that are being compared, their mean and standard deviations\n",
    "inst_by_reg = pivoted.groupby('region', observed=True).agg(inst_count=('integral', 'count'), neu_count=('id', pd.Series.nunique))\n",
    "print(inst_by_reg)\n",
    "\n",
    "\n",
    "inst_by_trans = pivoted.groupby('trans_pair', observed=True).agg(inst_count=('integral', 'count'), neu_count=('id', pd.Series.nunique))\n",
    "print('\\n', inst_by_trans)\n",
    "print('\\n',inst_by_reg.sum())\n"
   ],
   "metadata": {
    "collapsed": false,
    "pycharm": {
     "name": "#%%\n"
    }
   }
  },
  {
   "cell_type": "code",
   "execution_count": 8,
   "outputs": [
    {
     "name": "stdout",
     "output_type": "stream",
     "text": [
      "                       mean         std       sem\n",
      "region metric                                    \n",
      "A1     integral    0.226451    0.177054  0.001126\n",
      "       last_bin  244.965805  213.253093  1.356595\n",
      "PEG    integral    0.248110    0.202874  0.001394\n",
      "       last_bin  254.246292  203.175906  1.395582\n",
      "                             mean         std       sem\n",
      "trans_pair   metric                                    \n",
      "same_silence integral    0.259122    0.225448  0.005365\n",
      "             last_bin  284.852783  242.493318  5.770380\n",
      "diff_silence integral    0.275534    0.241165  0.002275\n",
      "             last_bin  285.936676  237.012360  2.235369\n",
      "diff_same    integral    0.217695    0.164312  0.001878\n",
      "             last_bin  238.174225  200.860764  2.295439\n",
      "diff_diff    integral    0.223148    0.163756  0.001031\n",
      "             last_bin  233.780350  192.070902  1.208950\n",
      "                mean         std       sem\n",
      "metric                                    \n",
      "integral    0.236451    0.189718  0.000885\n",
      "last_bin  249.250641  208.709930  0.974111\n"
     ]
    }
   ],
   "source": [
    "reg_summary = DF.groupby(['region', 'metric'], observed=True).agg(\n",
    "    mean=('value', np.mean), std=('value', np.std), sem=('value', sst.sem))\n",
    "trans_summary = DF.groupby(['trans_pair', 'metric'], observed=True).agg(\n",
    "    mean=('value', np.mean), std=('value', np.std), sem=('value', sst.sem))\n",
    "full_summary = DF.groupby(['metric'], observed=True).agg(\n",
    "    mean=('value', np.mean), std=('value', np.std), sem=('value', sst.sem))\n",
    "\n",
    "print(reg_summary)\n",
    "print(trans_summary)\n",
    "print(full_summary)"
   ],
   "metadata": {
    "collapsed": false,
    "pycharm": {
     "name": "#%%\n"
    }
   }
  },
  {
   "cell_type": "markdown",
   "source": [
    "### formate strigs to copy paste into paper"
   ],
   "metadata": {
    "collapsed": false
   }
  },
  {
   "cell_type": "code",
   "execution_count": 9,
   "outputs": [
    {
     "name": "stdout",
     "output_type": "stream",
     "text": [
      "integral mean±SEM. A1: 0.23±0.00, PEG: 0.25±0.00Z-score*s\n",
      "last_bin mean±SEM. A1: 244.97±1.36, PEG: 254.25±1.40ms\n"
     ]
    }
   ],
   "source": [
    "# metrics by region\n",
    "toprint = reg_summary.swaplevel(0,1)\n",
    "for metric in toprint.index.levels[0]:\n",
    "    inner = reg_summary.swaplevel(0,1).loc[metric,:]\n",
    "    str_parts = list()\n",
    "    for tp, vals in inner.iterrows():\n",
    "        str_parts.append(f\"{tp}: {vals.loc['mean']:.2f}±{vals.loc['sem']:.2f}\")\n",
    "\n",
    "    if metric == 'integral':\n",
    "        units = 'Z-score*s'\n",
    "    elif metric == 'last_bin':\n",
    "        units = 'ms'\n",
    "\n",
    "    full_str = f'{metric} mean±SEM. ' + ', '.join(str_parts) + units\n",
    "    print(full_str)"
   ],
   "metadata": {
    "collapsed": false,
    "pycharm": {
     "name": "#%%\n"
    }
   }
  },
  {
   "cell_type": "code",
   "execution_count": 10,
   "outputs": [
    {
     "name": "stdout",
     "output_type": "stream",
     "text": [
      "integral mean±SEM. same_silence: 0.26±0.01, diff_silence: 0.28±0.00, diff_same: 0.22±0.00, diff_diff: 0.22±0.00Z-score*s\n",
      "last_bin mean±SEM. same_silence: 284.85±5.77, diff_silence: 285.94±2.24, diff_same: 238.17±2.30, diff_diff: 233.78±1.21ms\n"
     ]
    }
   ],
   "source": [
    "# metrics by context pair\n",
    "toprint = trans_summary.swaplevel(0,1)\n",
    "for metric in toprint.index.levels[0]:\n",
    "    inner = trans_summary.swaplevel(0,1).loc[metric,:]\n",
    "    str_parts = list()\n",
    "    for tp, vals in inner.iterrows():\n",
    "        str_parts.append(f\"{tp}: {vals.loc['mean']:.2f}±{vals.loc['sem']:.2f}\")\n",
    "\n",
    "    if metric == 'integral':\n",
    "        units = 'Z-score*s'\n",
    "    elif metric == 'last_bin':\n",
    "        units = 'ms'\n",
    "\n",
    "    full_str = f'{metric} mean±SEM. ' + ', '.join(str_parts) + units\n",
    "    print(full_str)"
   ],
   "metadata": {
    "collapsed": false,
    "pycharm": {
     "name": "#%%\n"
    }
   }
  },
  {
   "cell_type": "markdown",
   "source": [
    "# simpliffied summary plots"
   ],
   "metadata": {
    "collapsed": false
   }
  },
  {
   "cell_type": "code",
   "execution_count": 11,
   "outputs": [],
   "source": [
    "# grand mean across all data, works to normalize metrics across all data, and transform units from\n",
    "# integral (z-score * ms) into percentage increase in firing rate.\n",
    "def norm_by_mean(df):\n",
    "    normalizer =df.groupby(by=['metric'], observed=True).agg(grand_mean=('value',np.mean)).reset_index()\n",
    "\n",
    "    df = pd.merge(df, normalizer, on=['metric'], validate=\"m:1\")\n",
    "    df['norm_val'] = df['value']/df['grand_mean']\n",
    "\n",
    "    return df\n",
    "\n",
    "def simplify_classified_contexts(df):\n",
    "    # the simplest approach is to manually map the 4 categories into onehots\n",
    "    # onehot order: diff1 diff2 same silence\n",
    "    # mapper={'diff_diff':(1,1,0,0), 'diff_same':(1,0,1,0), 'diff_silence':(1,0,0,1), 'same_silence':(0,0,1,1)}\n",
    "\n",
    "    # even simpler encoding\n",
    "    # onehot order: diff(1 and 2) same silence\n",
    "    mapper={'diff_diff':(1,0,0), 'diff_same':(1,1,0), 'diff_silence':(1,0,1), 'same_silence':(0,1,1)}\n",
    "\n",
    "    df['onehot'] = df['trans_pair'].replace(mapper)\n",
    "\n",
    "    # onehotdf = pd.DataFrame(toregress['onehot'].to_list(), columns = ['diff1', 'diff2', 'same', 'silence'])\n",
    "    onehotdf = pd.DataFrame(df['onehot'].to_list(), columns = ['diff', 'same', 'silence'])\n",
    "    df.drop(columns='onehot', inplace=True)\n",
    "    df = pd.concat([df, onehotdf], axis=1)\n",
    "\n",
    "    return df"
   ],
   "metadata": {
    "collapsed": false,
    "pycharm": {
     "name": "#%%\n"
    }
   }
  },
  {
   "cell_type": "code",
   "execution_count": 12,
   "outputs": [],
   "source": [
    "def kruskal_with_posthoc(df, group_col, val_col):\n",
    "    # pools data in a list of vectors to run kruskal\n",
    "    to_stat = list()\n",
    "    for kk in df[group_col].unique():\n",
    "        to_stat.append(df.loc[df[group_col] == kk, val_col].values)\n",
    "    kruskal = sst.kruskal(*to_stat)\n",
    "    print(kruskal)\n",
    "\n",
    "    # uses the og dataframe to run the pairwise posthoc test\n",
    "    dunn = posthoc_dunn(df, val_col=val_col, group_col=group_col, p_adjust='bonferroni')\n",
    "    print(f'Dunn post hoc results\\n{dunn}')\n",
    "\n",
    "    return kruskal, dunn"
   ],
   "metadata": {
    "collapsed": false,
    "pycharm": {
     "name": "#%%\n"
    }
   }
  },
  {
   "cell_type": "code",
   "execution_count": 13,
   "outputs": [
    {
     "name": "stdout",
     "output_type": "stream",
     "text": [
      "              id context_pair probe     value    metric diff_metric     site  \\\n",
      "0  TNC013a-019-3        00_01     1  0.181284  integral    delta_FR  TNC013a   \n",
      "1  TNC013a-036-3        00_01     1  0.337167  integral    delta_FR  TNC013a   \n",
      "2  TNC013a-042-9        00_01     1  0.192177  integral    delta_FR  TNC013a   \n",
      "3  TNC013a-046-1        00_01     1  0.134207  integral    delta_FR  TNC013a   \n",
      "4  TNC013a-036-3        00_02     1  0.346280  integral    delta_FR  TNC013a   \n",
      "\n",
      "  region    trans_pair  grand_mean  norm_val  diff  same  silence  \n",
      "0     A1  same_silence    0.236451  0.766689     0     1        1  \n",
      "1     A1  same_silence    0.236451  1.425949     0     1        1  \n",
      "2     A1  same_silence    0.236451  0.812757     0     1        1  \n",
      "3     A1  same_silence    0.236451  0.567587     0     1        1  \n",
      "4     A1  diff_silence    0.236451  1.464489     1     0        1  \n",
      "              id context_pair probe     value    metric diff_metric     site  \\\n",
      "4  TNC013a-036-3        00_02     1  0.346280  integral    delta_FR  TNC013a   \n",
      "5  TNC013a-051-1        00_02     1  0.089363  integral    delta_FR  TNC013a   \n",
      "6  TNC013a-036-3        00_03     1  0.355393  integral    delta_FR  TNC013a   \n",
      "7  TNC013a-046-2        00_03     1  0.111374  integral    delta_FR  TNC013a   \n",
      "8  TNC013a-036-3        00_04     1  0.355393  integral    delta_FR  TNC013a   \n",
      "\n",
      "  region    trans_pair  grand_mean  norm_val  diff  same  silence transition  \n",
      "4     A1  diff_silence    0.236451  1.464489     1     0        1       diff  \n",
      "5     A1  diff_silence    0.236451  0.377935     1     0        1       diff  \n",
      "6     A1  diff_silence    0.236451  1.503028     1     0        1       diff  \n",
      "7     A1  diff_silence    0.236451  0.471025     1     0        1       diff  \n",
      "8     A1  diff_silence    0.236451  1.503028     1     0        1       diff  \n"
     ]
    }
   ],
   "source": [
    "toregress = norm_by_mean(DF)\n",
    "toregress = simplify_classified_contexts(toregress)\n",
    "\n",
    "print(toregress.head())\n",
    "\n",
    "toplot = list() # concatenate data classified on single values\n",
    "for cat in ['diff', 'same', 'silence']:\n",
    "    subset = toregress.query(f\"{cat} == 1\").copy()\n",
    "    subset['transition'] = cat\n",
    "    toplot.append(subset)\n",
    "\n",
    "toplot = pd.concat(toplot)\n",
    "print(toplot.head())"
   ],
   "metadata": {
    "collapsed": false,
    "pycharm": {
     "name": "#%%\n"
    }
   }
  },
  {
   "cell_type": "code",
   "execution_count": 14,
   "outputs": [
    {
     "name": "stdout",
     "output_type": "stream",
     "text": [
      "\n",
      "######### integral, transition #########\n",
      "\n",
      "KruskalResult(statistic=389.00170418878383, pvalue=3.383398947907958e-85)\n",
      "Dunn post hoc results\n",
      "                 diff          same       silence\n",
      "diff     1.000000e+00  3.434265e-07  1.727295e-68\n",
      "same     3.434265e-07  1.000000e+00  2.842516e-67\n",
      "silence  1.727295e-68  2.842516e-67  1.000000e+00\n",
      "\n",
      "######### integral, region #########\n",
      "\n",
      "KruskalResult(statistic=127.70000803855646, pvalue=1.3055798240314735e-29)\n",
      "Dunn post hoc results\n",
      "               A1           PEG\n",
      "A1   1.000000e+00  1.305580e-29\n",
      "PEG  1.305580e-29  1.000000e+00\n",
      "\n",
      "######### last_bin, transition #########\n",
      "\n",
      "KruskalResult(statistic=234.01905338413138, pvalue=1.5254860042974034e-51)\n",
      "Dunn post hoc results\n",
      "                 diff          same       silence\n",
      "diff     1.000000e+00  5.632052e-01  3.055722e-48\n",
      "same     5.632052e-01  1.000000e+00  2.686387e-32\n",
      "silence  3.055722e-48  2.686387e-32  1.000000e+00\n",
      "\n",
      "######### last_bin, region #########\n",
      "\n",
      "KruskalResult(statistic=199.4590648894111, pvalue=2.7407967217061545e-45)\n",
      "Dunn post hoc results\n",
      "               A1           PEG\n",
      "A1   1.000000e+00  2.740797e-45\n",
      "PEG  2.740797e-45  1.000000e+00\n"
     ]
    },
    {
     "data": {
      "image/png": "[encoded data removed]",
      "text/plain": "<IPython.core.display.Image object>"
     },
     "execution_count": 14,
     "metadata": {},
     "output_type": "execute_result"
    }
   ],
   "source": [
    "# for metric in [\"integral\", \"last_bin\"],:\n",
    "def plot_metric_quant_bars(df, metric, category):\n",
    "    print(f'\\n######### {metric}, {category} #########\\n')\n",
    "    df = df.query(f\"metric == '{metric}'\")\n",
    "\n",
    "    if category == 'transition':\n",
    "        ### transitions ###\n",
    "        _ = kruskal_with_posthoc(df, group_col='transition', val_col='value')\n",
    "        df = df.groupby(by=['transition'], observed=True).agg(stat=('value', np.mean),\n",
    "                                                              err=('value', sst.sem))\n",
    "\n",
    "        x = ['same', 'diff', 'silence']\n",
    "        y = [df.at[cat, 'stat'] for cat in x]\n",
    "        yerr = [df.at[cat, 'err'] for cat in x]\n",
    "        return [\n",
    "            go.Scatter(x=x, y=y, mode='markers',\n",
    "                       marker=dict(color='black',\n",
    "                                   size=4),\n",
    "                       error_y=dict(array=yerr,\n",
    "                                    color='black',\n",
    "                                    thickness=1,\n",
    "                                    width=5),\n",
    "                       showlegend=False)\n",
    "        ]\n",
    "\n",
    "    ### regions ###\n",
    "    elif category == 'region':\n",
    "        _ = kruskal_with_posthoc(df, group_col='region', val_col='value')\n",
    "        df = df.groupby('region').agg(stat=('value', np.mean),\n",
    "                                      err=('value', sst.sem))\n",
    "\n",
    "        # if you want different color error bars, have to do it one at a time\n",
    "        reg_quant = list()\n",
    "        for rr, row in df.iterrows():\n",
    "            reg_quant.append(go.Scatter(x=(rr,),\n",
    "                                        y=(row.stat,),\n",
    "                                        mode='markers',\n",
    "                                        marker=dict(color=REGION_COLORMAP[rr],\n",
    "                                                    size=4),\n",
    "                                        error_y=dict(array=(row.err,),\n",
    "                                                     color=REGION_COLORMAP[rr],\n",
    "                                                     thickness=1,\n",
    "                                                     width=5),\n",
    "                                        showlegend=False),\n",
    "                             )\n",
    "\n",
    "        return reg_quant\n",
    "    else:\n",
    "        raise ValueError(f'bad param {category}')\n",
    "\n",
    "\n",
    "fig = make_subplots(2, 2, column_width=[0.7, 0.3], shared_xaxes='columns', shared_yaxes='rows')\n",
    "for mm, met in enumerate(['integral', 'last_bin']):\n",
    "    for cc, cat in enumerate(['transition', 'region']):\n",
    "        pan = plot_metric_quant_bars(toplot, met, cat)\n",
    "        fig.add_traces(pan, cols=[cc + 1] * len(pan), rows=[mm + 1] * len(pan))\n",
    "\n",
    "        # legacy shit\n",
    "        panelname = f'{met}_{cat}_simple'\n",
    "        if panelname in panels:\n",
    "            panels.pop(panelname)\n",
    "        panels[panelname].extend(pan)\n",
    "\n",
    "\n",
    "\n",
    "w, h = 2, 2.5\n",
    "fig.update_layout(template='simple_white',\n",
    "                  width=96 * w, height=96 * h,\n",
    "                  margin=dict(l=10, r=10, t=10, b=10),\n",
    "\n",
    "                  yaxis=dict(title=dict(text=\"Amplitude\",font_color=AMPCOLOR,)),\n",
    "\n",
    "                  xaxis3=dict(title=dict(text='context type'), tickangle=-45),\n",
    "                  yaxis3=dict(title=dict(text='Duration', font_color=DURCOLOR)),\n",
    "\n",
    "                  xaxis4=dict(title=dict(text='region')),\n",
    "                  showlegend=False,\n",
    "                  )\n",
    "\n",
    "fig.update_xaxes(title_font_size=10, title_standoff=0, tickfont_size=9)\n",
    "fig.update_yaxes(title_font_size=10, title_standoff=0, tickfont_size=9)\n",
    "\n",
    "folder = root_path / 'reports' / 'figures' / 'paper'\n",
    "folder.mkdir(parents=True, exist_ok=True)\n",
    "\n",
    "filename = folder / 'fig2_transition_region_effects'\n",
    "fig.write_image(filename.with_suffix('.png'), scale=4)\n",
    "fig.write_image(filename.with_suffix('.svg'))\n",
    "\n",
    "img_bytes = fig.to_image(format=\"png\", scale=2)\n",
    "Image(img_bytes)"
   ],
   "metadata": {
    "collapsed": false,
    "pycharm": {
     "name": "#%%\n"
    }
   }
  },
  {
   "cell_type": "markdown",
   "source": [
    "## barplots of statistical analysis\n",
    "this has been deprecated for the prior simpliffied analysis which pools contexts together, instead of comparing raw\n",
    "context pairs"
   ],
   "metadata": {
    "collapsed": false
   }
  },
  {
   "cell_type": "code",
   "execution_count": 15,
   "outputs": [],
   "source": [
    "tocalc = DF.query(f\"metric == '{metric}' and value > 0\")\n",
    "tocalc = tocalc.replace({'silence_diff': 'sile_diff', 'silence_same': 'sile_same'})\n",
    "toplot = tocalc.groupby('region', observed=True).agg(stat=('value', np.mean),\n",
    "                                      err=('value', sst.sem))\n",
    "\n"
   ],
   "metadata": {
    "collapsed": false,
    "pycharm": {
     "name": "#%%\n"
    }
   }
  },
  {
   "cell_type": "code",
   "execution_count": 16,
   "outputs": [
    {
     "name": "stdout",
     "output_type": "stream",
     "text": [
      "A1\n",
      "244.96580505371094\n",
      "1.3565948269477581\n",
      "PEG\n",
      "254.2462921142578\n",
      "1.3955824161460173\n"
     ]
    }
   ],
   "source": [
    "for rr, row in toplot.iterrows():\n",
    "    print(row.name)\n",
    "    print(row.stat)\n",
    "    print(row.err)"
   ],
   "metadata": {
    "collapsed": false,
    "pycharm": {
     "name": "#%%\n"
    }
   }
  },
  {
   "cell_type": "code",
   "execution_count": 17,
   "outputs": [
    {
     "name": "stdout",
     "output_type": "stream",
     "text": [
      "integral, transition\n",
      "same_silence vs diff_silence MannwhitneyU 0.0011389569800773127\n",
      "same_silence vs diff_same MannwhitneyU 3.543816926117258e-16\n",
      "same_silence vs diff_diff MannwhitneyU 8.94675697320587e-12\n",
      "diff_silence vs diff_same MannwhitneyU 6.807467292041384e-82\n",
      "diff_silence vs diff_diff MannwhitneyU 7.713992954570768e-98\n",
      "diff_same vs diff_diff MannwhitneyU 0.00010727920586157257\n",
      "integral, region\n",
      "A1 vs PEG MannwhitneyU 1.7401457284346878e-22\n",
      "last_bin, transition\n",
      "same_silence vs diff_silence MannwhitneyU 0.18031642401512177\n",
      "same_silence vs diff_same MannwhitneyU 6.264932159981433e-11\n",
      "same_silence vs diff_diff MannwhitneyU 3.897591346390831e-13\n",
      "diff_silence vs diff_same MannwhitneyU 2.63530575799983e-40\n",
      "diff_silence vs diff_diff MannwhitneyU 6.462975388338908e-72\n",
      "diff_same vs diff_diff MannwhitneyU 0.36256695857438914\n",
      "last_bin, region\n",
      "A1 vs PEG MannwhitneyU 4.8865007347239515e-31\n"
     ]
    },
    {
     "data": {
      "image/png": "[encoded data removed]",
      "text/plain": "<IPython.core.display.Image object>"
     },
     "execution_count": 17,
     "metadata": {},
     "output_type": "execute_result"
    }
   ],
   "source": [
    "# for metric in [\"integral\", \"last_bin\"],:\n",
    "def plot_metric_quant_bars(metric, category):\n",
    "    print(f'{metric}, {category}')\n",
    "    tocalc = DF.query(f\"metric == '{metric}' and value > 0\")\n",
    "    tocalc = tocalc.replace({'silence_diff': 'sile_diff', 'silence_same': 'sile_same'})\n",
    "\n",
    "    if category == 'transition':\n",
    "        ### transitions ###\n",
    "        toplot = tocalc.groupby('trans_pair', observed=True).agg(stat=('value', np.mean),\n",
    "                                                  err=('value', sst.sem))\n",
    "\n",
    "        for c0,c1 in itt.combinations(tocalc.trans_pair.unique().tolist(), 2):\n",
    "            x = tocalc.loc[tocalc.trans_pair == c0, 'value'].values.astype(float)\n",
    "            y = tocalc.loc[tocalc.trans_pair == c1, 'value'].values.astype(float)\n",
    "            stat, pval = sst.mannwhitneyu(x,y)\n",
    "            print(f'{c0} vs {c1} MannwhitneyU {pval}')\n",
    "\n",
    "        return [\n",
    "            go.Scatter(x=toplot.index, y=toplot['stat'], mode='markers',\n",
    "                       marker=dict(color='black',\n",
    "                                   size=3),\n",
    "                       error_y=dict(array=toplot['err'],\n",
    "                                    color=name_to_hex('black'),\n",
    "                                    thickness=1,\n",
    "                                    width=5),\n",
    "                       showlegend=False)\n",
    "        ]\n",
    "\n",
    "    ### regions ###\n",
    "    elif category == 'region':\n",
    "        x = tocalc.loc[tocalc.region == 'A1', 'value'].values.astype(float)\n",
    "        y = tocalc.loc[tocalc.region == 'PEG', 'value'].values.astype(float)\n",
    "        stat, pval = sst.mannwhitneyu(x,y)\n",
    "        print(f'A1 vs PEG MannwhitneyU {pval}')\n",
    "\n",
    "        toplot = tocalc.groupby('region', observed=True).agg(stat=('value', np.mean),\n",
    "                                              err=('value', sst.sem))\n",
    "\n",
    "        # if you want different color error bars, have to do it one at a time\n",
    "        reg_quant = list()\n",
    "        for rr, row in toplot.iterrows():\n",
    "            reg_quant.append(go.Scatter(x=(row.name,),\n",
    "                                        y=(row.stat,),\n",
    "                                        mode='markers',\n",
    "                                        marker=dict(color=REGION_COLORMAP[row.name],\n",
    "                                                    size=3),\n",
    "                                        error_y=dict(array=(row.err,),\n",
    "                                                     color=REGION_COLORMAP[row.name],\n",
    "                                                     thickness=1,\n",
    "                                                     width=5),\n",
    "                                        showlegend=False),\n",
    "                             )\n",
    "\n",
    "        return reg_quant\n",
    "    else:\n",
    "        raise ValueError(f'bad param {category}')\n",
    "\n",
    "fig = make_subplots(2,2, column_width=[0.75,0.25])\n",
    "for mm, met in enumerate(['integral', 'last_bin']):\n",
    "    for cc, cat in enumerate(['transition', 'region']):\n",
    "\n",
    "        panelname = f'{met}_{cat}'\n",
    "\n",
    "        if panelname in panels:\n",
    "            panels.pop(panelname)\n",
    "\n",
    "        panels[panelname].extend(plot_metric_quant_bars(met, cat))\n",
    "\n",
    "\n",
    "        pan = panels[panelname]\n",
    "        fig.add_traces(pan, cols=[cc+1]*len(pan), rows=[mm+1]*len(pan))\n",
    "\n",
    "\n",
    "fig.update_layout(template='simple_white',\n",
    "                  width=96*2, height=96*3,\n",
    "                  margin=dict(l=10, r=10, t=10, b=10),\n",
    "                  xaxis=dict(showticklabels=False),\n",
    "                  xaxis2=dict(showticklabels=False),\n",
    "                  yaxis2=dict(showticklabels=False),\n",
    "                  yaxis4=dict(showticklabels=False),\n",
    "                  )\n",
    "\n",
    "img_bytes = fig.to_image(format=\"png\")\n",
    "Image(img_bytes)"
   ],
   "metadata": {
    "collapsed": false,
    "pycharm": {
     "name": "#%%\n"
    }
   }
  },
  {
   "cell_type": "markdown",
   "source": [
    "# merges all the parts in a single figure"
   ],
   "metadata": {
    "collapsed": false
   }
  },
  {
   "cell_type": "code",
   "execution_count": 18,
   "outputs": [
    {
     "name": "stdout",
     "output_type": "stream",
     "text": [
      "This is the format of your plot grid:\n",
      "⎡ (1,1) x,y   ⎤  [ (1,2) x2,y2 ]  [ (1,3) x3,y3 ]\n",
      "⎣      :      ⎦  [ (2,2) x4,y4 ]  [ (2,3) x5,y5 ]\n",
      "\n"
     ]
    }
   ],
   "source": [
    "# simple plot layout and other figurewide configurations\n",
    "\n",
    "def define_subplots():\n",
    "    fig = make_subplots(rows=2,cols=3, vertical_spacing=0.05, horizontal_spacing=0.05,\n",
    "                        column_widths=[0.6, 0.3, 0.1],\n",
    "                        specs=[[{'rowspan':2, 'r':0.1}, {}, {}],\n",
    "                               [None                  , {}, {}]])\n",
    "    # figure size in inches at different PPIs\n",
    "    ppi = 96 # www standard\n",
    "\n",
    "    heigh = 3\n",
    "    width = 4 # in inches\n",
    "    _ = fig.update_layout(template='simple_white',\n",
    "                          margin=dict(l=10, r=10, t=10, b=10),\n",
    "                          width=round(ppi*width), height=round(ppi*heigh),\n",
    "\n",
    "                          xaxis=dict(title=dict(\n",
    "                              text='Last bin (ms)',\n",
    "                              standoff=0,\n",
    "                              font_color=DURCOLOR)\n",
    "                          ),\n",
    "\n",
    "                          yaxis=dict(title=dict(\n",
    "                              text=\"Integral (T-score*ms)\",\n",
    "                              standoff=0,\n",
    "                              font_color=AMPCOLOR)\n",
    "                          ),\n",
    "\n",
    "                          xaxis2=dict(matches='x4',showticklabels=False),\n",
    "\n",
    "                          yaxis2=dict(title=dict(\n",
    "                              text=\"Amplitude\",\n",
    "                              font_color=AMPCOLOR,\n",
    "                              standoff=0)\n",
    "                          ),\n",
    "\n",
    "                          xaxis3=dict(matches='x5',showticklabels=False),\n",
    "\n",
    "                          yaxis3=dict(matches='y2',showticklabels=False),\n",
    "\n",
    "                          xaxis4=dict(title=dict(text='context type pair', standoff=0), tickangle=-45,),\n",
    "\n",
    "                          yaxis4=dict(title=dict(text='Duration', font_color=DURCOLOR, standoff=0)),\n",
    "\n",
    "                          xaxis5=dict(title=dict(text='region', standoff=39)),\n",
    "\n",
    "                          yaxis5=dict(matches='y4',showticklabels=False),\n",
    "\n",
    "                          showlegend=False,\n",
    "                          font_size=10,\n",
    "                          )\n",
    "\n",
    "    # add letter annotations for subplots\n",
    "    anotations = [\n",
    "        ('a', 0, 1),\n",
    "        ('b', 0.5, 1),\n",
    "        ('c', 0.87, 1),\n",
    "        ('d', 0.5, 0.5),\n",
    "        ('e', 0.87, 0.5),\n",
    "    ]\n",
    "\n",
    "    for letter, x, y in anotations:\n",
    "        fig.add_annotation(x=x, y=y,\n",
    "                           text=f'<b>{letter}</b>', font_size=12,\n",
    "                           xref='paper', yref='paper',\n",
    "                           xanchor='center', yanchor='middle',\n",
    "                           showarrow=False)\n",
    "\n",
    "\n",
    "    return fig, round(ppi*width), round(ppi*heigh)\n",
    "\n",
    "f, pw, ph = define_subplots()\n",
    "f.print_grid()\n",
    "# img_bytes = f.to_image(format=\"png\", width=pw, height=ph)\n",
    "# Image(img_bytes)"
   ],
   "metadata": {
    "collapsed": false,
    "pycharm": {
     "name": "#%%\n"
    }
   }
  },
  {
   "cell_type": "markdown",
   "source": [],
   "metadata": {
    "collapsed": false
   }
  },
  {
   "cell_type": "code",
   "execution_count": 19,
   "outputs": [
    {
     "data": {
      "image/png": "[encoded data removed]",
      "text/plain": "<IPython.core.display.Image object>"
     },
     "execution_count": 19,
     "metadata": {},
     "output_type": "execute_result"
    }
   ],
   "source": [
    "fig, pw, ph = define_subplots()\n",
    "\n",
    "# scatter\n",
    "pan = panels['scater_full']\n",
    "fig.add_traces(pan, cols=[1]*len(pan), rows=[1]*len(pan))\n",
    "\n",
    "# top left\n",
    "# pan = panels['integral_transition']\n",
    "pan = panels['integral_transition_simple']\n",
    "fig.add_traces(pan, cols=[2]*len(pan), rows=[1]*len(pan))\n",
    "\n",
    "# top right\n",
    "# pan = panels['integral_region']\n",
    "pan = panels['integral_region_simple']\n",
    "fig.add_traces(pan, cols=[3]*len(pan), rows=[1]*len(pan))\n",
    "\n",
    "# bottom left\n",
    "# pan = panels['last_bin_transition']\n",
    "pan = panels['last_bin_transition_simple']\n",
    "fig.add_traces(pan, cols=[2]*len(pan), rows=[2]*len(pan))\n",
    "\n",
    "# bottom right\n",
    "# pan = panels['last_bin_region']\n",
    "pan = panels['last_bin_region_simple']\n",
    "fig.add_traces(pan, cols=[3]*len(pan), rows=[2]*len(pan))\n",
    "\n",
    "\n",
    "img_bytes = fig.to_image(format=\"png\", width=pw, height=ph)\n",
    "Image(img_bytes)"
   ],
   "metadata": {
    "collapsed": false,
    "pycharm": {
     "name": "#%%\n"
    }
   }
  },
  {
   "cell_type": "markdown",
   "source": [
    "# saves PNG and SVG"
   ],
   "metadata": {
    "collapsed": false
   }
  },
  {
   "cell_type": "code",
   "execution_count": 20,
   "outputs": [],
   "source": [
    "filename = folder / 'figure_02'\n",
    "fig.write_image(filename.with_suffix('.png'), scale=4)\n",
    "fig.write_image(filename.with_suffix('.svg'))"
   ],
   "metadata": {
    "collapsed": false,
    "pycharm": {
     "name": "#%%\n"
    }
   }
  }
 ],
 "metadata": {
  "kernelspec": {
   "display_name": "Python 3",
   "language": "python",
   "name": "python3"
  },
  "language_info": {
   "codemirror_mode": {
    "name": "ipython",
    "version": 2
   },
   "file_extension": ".py",
   "mimetype": "text/x-python",
   "name": "python",
   "nbconvert_exporter": "python",
   "pygments_lexer": "ipython2",
   "version": "2.7.6"
  }
 },
 "nbformat": 4,
 "nbformat_minor": 0
}