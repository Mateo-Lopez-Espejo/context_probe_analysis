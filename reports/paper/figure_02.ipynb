{
 "cells": [
  {
   "cell_type": "code",
   "execution_count": 1,
   "metadata": {
    "collapsed": true
   },
   "outputs": [],
   "source": [
    "from collections import defaultdict\n",
    "import itertools as itt\n",
    "import pathlib as pl\n",
    "from configparser import ConfigParser\n",
    "\n",
    "import pandas as pd\n",
    "from IPython.display import Image\n",
    "\n",
    "import joblib as jl\n",
    "import numpy as np\n",
    "import scipy.stats as sst\n",
    "import statsmodels.api as sm\n",
    "from statsmodels.formula.api import ols\n",
    "import plotly.express as px\n",
    "import plotly.graph_objs as go\n",
    "from plotly.subplots import make_subplots\n",
    "from webcolors import name_to_hex\n",
    "\n",
    "from src.root_path import config_path, root_path\n",
    "from src.utils.dataframes import add_classified_contexts\n",
    "from src.utils.tools import get_quantile_means\n",
    "from src.visualization.palette import *"
   ]
  },
  {
   "cell_type": "markdown",
   "source": [
    "# context metric distribution and comparison between regions and transition pairs\n",
    "### Load and format all required data, i.e. a dataframe"
   ],
   "metadata": {
    "collapsed": false
   }
  },
  {
   "cell_type": "code",
   "execution_count": 2,
   "outputs": [],
   "source": [
    "config = ConfigParser()\n",
    "config.read_file(open(config_path / 'settings.ini'))\n",
    "meta = {'reliability': 0.1,  # r value\n",
    "        'smoothing_window': 0,  # ms\n",
    "        'raster_fs': 20,\n",
    "        'zscore': True,\n",
    "        'stim_type': 'permutations',\n",
    "        }\n",
    "alpha = 0.05\n",
    "montecarlos = 11000\n",
    "\n",
    "folder = root_path / 'reports' / 'figures' / 'paper'\n",
    "folder.mkdir(parents=True, exist_ok=True)\n",
    "\n",
    "summary_DF_file = pl.Path(config['paths']['analysis_cache']) / '220520_minimal_DF'"
   ],
   "metadata": {
    "collapsed": false,
    "pycharm": {
     "name": "#%%\n"
    }
   }
  },
  {
   "cell_type": "code",
   "execution_count": 3,
   "outputs": [
    {
     "name": "stdout",
     "output_type": "stream",
     "text": [
      "45906/501440, 9.155% significant  instances\n",
      "1232/2728, 45.161% modulated neurons\n"
     ]
    }
   ],
   "source": [
    "def print_percentage_significant():\n",
    "    DF = jl.load(summary_DF_file).query(\n",
    "        \"analysis == 'SC' and mult_comp_corr == 'bf_cp' and metric in 'integral' \"\n",
    "        # \"and value < 10000\"\n",
    "        )\n",
    "    # number proportion of significant instances\n",
    "    nsignif = np.sum(DF.value.values>0)\n",
    "    ntotal  = DF.shape[0]\n",
    "    print(f'{nsignif}/{ntotal}, {nsignif/ntotal*100:.3f}% significant  instances')\n",
    "\n",
    "    # proportion of neurons with at least one signif instance\n",
    "    neusig = DF.groupby('id').agg(modulated=('value', lambda x: np.any(x>0)))\n",
    "    nsignif = np.sum(neusig.modulated.values)\n",
    "    ntotal  = neusig.shape[0]\n",
    "    print(f'{nsignif}/{ntotal}, {nsignif/ntotal*100:.3f}% modulated neurons')\n",
    "\n",
    "print_percentage_significant()"
   ],
   "metadata": {
    "collapsed": false,
    "pycharm": {
     "name": "#%%\n"
    }
   }
  },
  {
   "cell_type": "code",
   "execution_count": 4,
   "outputs": [],
   "source": [
    "\n",
    "DF = jl.load(summary_DF_file).query(\n",
    "    \"analysis == 'SC' and mult_comp_corr == 'bf_cp' and metric in ['integral', 'last_bin'] \"\n",
    "    \"and value > 0\")\n",
    "\n",
    "DF = add_classified_contexts(DF)\n",
    "assert np.all(~DF.duplicated(subset=['region', 'site', 'context_pair', 'probe', 'id', 'metric']).values)\n",
    "\n",
    "# transforms integral from ms to seconds for better display\n",
    "DF.loc[DF.metric == 'integral', 'value'] = DF.loc[DF.metric == 'integral', 'value'] /1000\n",
    "\n",
    "pivoted = DF.pivot_table(index=['region', 'site', 'context_pair', 'probe', 'trans_pair', 'id'],\n",
    "                         columns=['metric'], values='value', aggfunc='first', observed=True).reset_index()\n",
    "\n",
    "# adds a small amount of jitter to the last bin value to help visualization\n",
    "binsize = 1 / meta['raster_fs']\n",
    "jitter = (np.random.random(pivoted.shape[0]) * binsize * 0.8 - (binsize * 0.8 / 2)) * 1000  # in ms\n",
    "pivoted['last_bin_jittered'] = pivoted['last_bin'] + jitter\n",
    "\n"
   ],
   "metadata": {
    "collapsed": false,
    "pycharm": {
     "name": "#%%\n"
    }
   }
  },
  {
   "cell_type": "markdown",
   "source": [
    "# Panels"
   ],
   "metadata": {
    "collapsed": false
   }
  },
  {
   "cell_type": "code",
   "execution_count": 5,
   "outputs": [],
   "source": [
    "panels = defaultdict(list)"
   ],
   "metadata": {
    "collapsed": false,
    "pycharm": {
     "name": "#%%\n"
    }
   }
  },
  {
   "cell_type": "markdown",
   "source": [],
   "metadata": {
    "collapsed": false
   }
  },
  {
   "cell_type": "markdown",
   "source": [
    "## scatter plot of all dots"
   ],
   "metadata": {
    "collapsed": false,
    "pycharm": {
     "name": "#%% md\n"
    }
   }
  },
  {
   "cell_type": "code",
   "execution_count": 6,
   "outputs": [
    {
     "data": {
      "image/png": "[encoded data removed]",
      "text/plain": "<IPython.core.display.Image object>"
     },
     "execution_count": 6,
     "metadata": {},
     "output_type": "execute_result"
    }
   ],
   "source": [
    "panelname = 'scater_full'\n",
    "if panelname in panels:\n",
    "    panels.pop(panelname)\n",
    "\n",
    "maxy = list()\n",
    "for region in ['A1', 'PEG']:\n",
    "    toplot = pivoted.query(f\"region == '{region}'\")\n",
    "    x = toplot['last_bin_jittered'].values\n",
    "    y = toplot['integral'].values\n",
    "\n",
    "    # xm, ym = get_quantile_means(x, y, 5000)\n",
    "    decimator = np.random.choice(x.size, 1000, replace=False)\n",
    "    xm, ym = x[decimator], y[decimator]\n",
    "    maxy.append(np.max(ym))\n",
    "\n",
    "    panels[panelname].append(go.Scatter(x=xm, y=ym,\n",
    "                                          mode='markers',\n",
    "                                          opacity=0.5,\n",
    "                                          marker=dict(\n",
    "                                              color=REGION_COLORMAP[region],\n",
    "                                              opacity=0.9,\n",
    "                                              size=2\n",
    "                                          ),\n",
    "                                          hoverinfo='skip',\n",
    "                                          showlegend=False)\n",
    "                             )\n",
    "\n",
    "maxy = np.max(maxy)\n",
    "\n",
    "## highlight the special cell, defined in the first cell of the notebook\n",
    "# same examples as in figure 1, cellid, (context-pair,), probe\n",
    "example_cells = [\n",
    "    ('ARM021b-36-8', (0,1), 3),\n",
    "    ('ARM021b-36-8', (1,3), 4),\n",
    "]\n",
    "\n",
    "for cellid, ctx_pair, probe in example_cells:\n",
    "\n",
    "    celltoplot = toplot.query(f\"id == '{cellid}' and context_pair == '{ctx_pair[0]:02}_{ctx_pair[1]:02}' and \"\n",
    "                              f\"probe == {probe}\")\n",
    "\n",
    "    panels[panelname].append(go.Scatter(x=celltoplot['last_bin_jittered'],\n",
    "                                          y=celltoplot[\"integral\"],\n",
    "                                          mode='markers',\n",
    "                                          marker=dict(color=REGION_COLORMAP[celltoplot['region'].values[0]],\n",
    "                                                      size=4,\n",
    "                                                      line=dict(color='black',\n",
    "                                                                width=1)),\n",
    "                                          hoverinfo='skip',\n",
    "                                          showlegend=False)\n",
    "                             )\n",
    "\n",
    "fig = go.Figure()\n",
    "pan = panels[panelname]\n",
    "fig.add_traces(pan)\n",
    "\n",
    "w, h = 2.5, 2.5 # in inches\n",
    "_ = fig.update_layout(template='simple_white',\n",
    "                      margin=dict(l=10, r=10, t=10, b=10),\n",
    "                      width=round(96*w), height=round(96*h),\n",
    "\n",
    "                      xaxis=dict(\n",
    "                          range=[0, 1050],\n",
    "                          title=dict(\n",
    "                          text='Duration (ms)',\n",
    "                          standoff=0,\n",
    "                          font_color=DURCOLOR,\n",
    "                          font_size=10),\n",
    "                          tickfont_size=9\n",
    "                      ),\n",
    "\n",
    "                      yaxis=dict(\n",
    "                          range=[0,maxy+maxy*0.01],\n",
    "                                 title=dict(\n",
    "                          text=\"Amplitude (Delta Z-score*s) \",\n",
    "                          standoff=0,\n",
    "                          font_color=AMPCOLOR,\n",
    "                          font_size=10),\n",
    "                          tickfont_size=9\n",
    "                      ))\n",
    "\n",
    "\n",
    "filename = folder / 'fig2_parameter_scatter'\n",
    "fig.write_image(filename.with_suffix('.png'), scale=4)\n",
    "fig.write_image(filename.with_suffix('.svg'))\n",
    "\n",
    "img_bytes = fig.to_image(format=\"png\", width=96*w, height=96*h, scale=1)\n",
    "Image(img_bytes)"
   ],
   "metadata": {
    "collapsed": false,
    "pycharm": {
     "name": "#%%\n"
    }
   }
  },
  {
   "cell_type": "code",
   "execution_count": 7,
   "outputs": [
    {
     "name": "stdout",
     "output_type": "stream",
     "text": [
      "        inst_count  neu_count\n",
      "region                       \n",
      "A1           24711        709\n",
      "PEG          21195        523\n",
      "\n",
      "               inst_count  neu_count\n",
      "trans_pair                         \n",
      "diff_diff          25241        991\n",
      "diff_same           7657        945\n",
      "diff_silence       11242       1019\n",
      "same_silence        1766        725\n",
      "\n",
      " inst_count    45906\n",
      "neu_count      1232\n",
      "dtype: int64\n"
     ]
    }
   ],
   "source": [
    "# count number of instances that are being compared, their mean and standard deviations\n",
    "inst_by_reg = pivoted.groupby('region', observed=True).agg(inst_count=('integral', 'count'), neu_count=('id', pd.Series.nunique))\n",
    "print(inst_by_reg)\n",
    "\n",
    "\n",
    "inst_by_trans = pivoted.groupby('trans_pair', observed=True).agg(inst_count=('integral', 'count'), neu_count=('id', pd.Series.nunique))\n",
    "print('\\n', inst_by_trans)\n",
    "print('\\n',inst_by_reg.sum())\n"
   ],
   "metadata": {
    "collapsed": false,
    "pycharm": {
     "name": "#%%\n"
    }
   }
  },
  {
   "cell_type": "code",
   "execution_count": 8,
   "outputs": [
    {
     "name": "stdout",
     "output_type": "stream",
     "text": [
      "                         mean           std           sem\n",
      "region metric                                            \n",
      "A1     integral  7.417918e-01  5.302299e-01  3.373021e-03\n",
      "       last_bin  2.449658e+02  2.132531e+02  1.356595e+00\n",
      "PEG    integral  2.021077e+11  1.698707e+13  1.166814e+11\n",
      "       last_bin  2.542463e+02  2.031759e+02  1.395582e+00\n",
      "                               mean           std           sem\n",
      "trans_pair   metric                                            \n",
      "diff_diff    integral  1.131406e+11  1.271007e+13  8.000089e+10\n",
      "             last_bin  2.337804e+02  1.920709e+02  1.208950e+00\n",
      "diff_same    integral  7.307982e-01  5.238472e-01  5.986531e-03\n",
      "             last_bin  2.381742e+02  2.008608e+02  2.295439e+00\n",
      "diff_silence integral  1.270139e+11  1.346707e+13  1.270139e+11\n",
      "             last_bin  2.859367e+02  2.370124e+02  2.235369e+00\n",
      "same_silence integral  8.428821e-01  6.897348e-01  1.641295e-02\n",
      "             last_bin  2.848528e+02  2.424933e+02  5.770380e+00\n",
      "                  mean           std           sem\n",
      "metric                                            \n",
      "integral  9.331400e+10  1.154281e+13  5.387369e+10\n",
      "last_bin  2.492506e+02  2.087099e+02  9.741109e-01\n"
     ]
    }
   ],
   "source": [
    "reg_summary = DF.groupby(['region', 'metric'], observed=True).agg(\n",
    "    mean=('value', np.mean), std=('value', np.std), sem=('value', sst.sem))\n",
    "trans_summary = DF.groupby(['trans_pair', 'metric'], observed=True).agg(\n",
    "    mean=('value', np.mean), std=('value', np.std), sem=('value', sst.sem))\n",
    "full_summary = DF.groupby(['metric'], observed=True).agg(\n",
    "    mean=('value', np.mean), std=('value', np.std), sem=('value', sst.sem))\n",
    "\n",
    "print(reg_summary)\n",
    "print(trans_summary)\n",
    "print(full_summary)"
   ],
   "metadata": {
    "collapsed": false,
    "pycharm": {
     "name": "#%%\n"
    }
   }
  },
  {
   "cell_type": "markdown",
   "source": [
    "### formate strigs to copy paste into paper"
   ],
   "metadata": {
    "collapsed": false
   }
  },
  {
   "cell_type": "code",
   "execution_count": 9,
   "outputs": [
    {
     "name": "stdout",
     "output_type": "stream",
     "text": [
      "integral mean±SEM. A1: 0.74±0.00, PEG: 202107683611.94±116681419749.78ms*T-score\n",
      "last_bin mean±SEM. A1: 244.97±1.36, PEG: 254.25±1.40ms\n"
     ]
    }
   ],
   "source": [
    "# metrics by region\n",
    "toprint = reg_summary.swaplevel(0,1)\n",
    "for metric in toprint.index.levels[0]:\n",
    "    inner = reg_summary.swaplevel(0,1).loc[metric,:]\n",
    "    str_parts = list()\n",
    "    for tp, vals in inner.iterrows():\n",
    "        str_parts.append(f\"{tp}: {vals.loc['mean']:.2f}±{vals.loc['sem']:.2f}\")\n",
    "\n",
    "    if metric == 'integral':\n",
    "        units = 'ms*T-score'\n",
    "    elif metric == 'last_bin':\n",
    "        units = 'ms'\n",
    "\n",
    "    full_str = f'{metric} mean±SEM. ' + ', '.join(str_parts) + units\n",
    "    print(full_str)"
   ],
   "metadata": {
    "collapsed": false,
    "pycharm": {
     "name": "#%%\n"
    }
   }
  },
  {
   "cell_type": "code",
   "execution_count": 10,
   "outputs": [
    {
     "name": "stdout",
     "output_type": "stream",
     "text": [
      "integral mean±SEM. diff_diff: 113140587514.12±80000891807.30, diff_same: 0.73±0.01, diff_silence: 127013946337.18±127013946336.26, same_silence: 0.84±0.02ms*T-score\n",
      "last_bin mean±SEM. diff_diff: 233.78±1.21, diff_same: 238.17±2.30, diff_silence: 285.94±2.24, same_silence: 284.85±5.77ms\n"
     ]
    }
   ],
   "source": [
    "# metrics by context pair\n",
    "toprint = trans_summary.swaplevel(0,1)\n",
    "for metric in toprint.index.levels[0]:\n",
    "    inner = trans_summary.swaplevel(0,1).loc[metric,:]\n",
    "    str_parts = list()\n",
    "    for tp, vals in inner.iterrows():\n",
    "        str_parts.append(f\"{tp}: {vals.loc['mean']:.2f}±{vals.loc['sem']:.2f}\")\n",
    "\n",
    "    if metric == 'integral':\n",
    "        units = 'ms*T-score'\n",
    "    elif metric == 'last_bin':\n",
    "        units = 'ms'\n",
    "\n",
    "    full_str = f'{metric} mean±SEM. ' + ', '.join(str_parts) + units\n",
    "    print(full_str)"
   ],
   "metadata": {
    "collapsed": false,
    "pycharm": {
     "name": "#%%\n"
    }
   }
  },
  {
   "cell_type": "markdown",
   "source": [
    "## barplots of statistical analysis"
   ],
   "metadata": {
    "collapsed": false
   }
  },
  {
   "cell_type": "code",
   "execution_count": 11,
   "outputs": [],
   "source": [
    "tocalc = DF.query(f\"metric == '{metric}' and value > 0\")\n",
    "tocalc = tocalc.replace({'silence_diff': 'sile_diff', 'silence_same': 'sile_same'})\n",
    "toplot = tocalc.groupby('region', observed=True).agg(stat=('value', np.mean),\n",
    "                                      err=('value', sst.sem))\n",
    "\n"
   ],
   "metadata": {
    "collapsed": false,
    "pycharm": {
     "name": "#%%\n"
    }
   }
  },
  {
   "cell_type": "code",
   "execution_count": 12,
   "outputs": [
    {
     "name": "stdout",
     "output_type": "stream",
     "text": [
      "A1\n",
      "244.96580470235926\n",
      "1.3565948951346745\n",
      "PEG\n",
      "254.24628450106158\n",
      "1.395582436924691\n"
     ]
    }
   ],
   "source": [
    "for rr, row in toplot.iterrows():\n",
    "    print(row.name)\n",
    "    print(row.stat)\n",
    "    print(row.err)"
   ],
   "metadata": {
    "collapsed": false,
    "pycharm": {
     "name": "#%%\n"
    }
   }
  },
  {
   "cell_type": "code",
   "execution_count": 13,
   "outputs": [
    {
     "name": "stdout",
     "output_type": "stream",
     "text": [
      "integral, transition\n",
      "same_silence vs diff_silence MannwhitneyU 2.184613273147706e-07\n",
      "same_silence vs diff_same MannwhitneyU 6.717664956406753e-10\n",
      "same_silence vs diff_diff MannwhitneyU 0.0008040263344599531\n",
      "diff_silence vs diff_same MannwhitneyU 1.2679912520184901e-85\n",
      "diff_silence vs diff_diff MannwhitneyU 1.0382768913318341e-76\n",
      "diff_same vs diff_diff MannwhitneyU 1.3733362978995002e-11\n",
      "integral, region\n",
      "A1 vs PEG MannwhitneyU 8.659899103806698e-104\n",
      "last_bin, transition\n",
      "same_silence vs diff_silence MannwhitneyU 0.18031642401512177\n",
      "same_silence vs diff_same MannwhitneyU 6.264932159981433e-11\n",
      "same_silence vs diff_diff MannwhitneyU 3.897591346390831e-13\n",
      "diff_silence vs diff_same MannwhitneyU 2.63530575799983e-40\n",
      "diff_silence vs diff_diff MannwhitneyU 6.462975388338908e-72\n",
      "diff_same vs diff_diff MannwhitneyU 0.36256695857438914\n",
      "last_bin, region\n",
      "A1 vs PEG MannwhitneyU 4.8865007347239515e-31\n"
     ]
    },
    {
     "data": {
      "image/png": "[encoded data removed]",
      "text/plain": "<IPython.core.display.Image object>"
     },
     "execution_count": 13,
     "metadata": {},
     "output_type": "execute_result"
    }
   ],
   "source": [
    "# for metric in [\"integral\", \"last_bin\"],:\n",
    "def plot_metric_quant_bars(metric, category):\n",
    "    print(f'{metric}, {category}')\n",
    "    tocalc = DF.query(f\"metric == '{metric}' and value > 0\")\n",
    "    tocalc = tocalc.replace({'silence_diff': 'sile_diff', 'silence_same': 'sile_same'})\n",
    "\n",
    "    if category == 'transition':\n",
    "        ### transitions ###\n",
    "        toplot = tocalc.groupby('trans_pair', observed=True).agg(stat=('value', np.mean),\n",
    "                                                  err=('value', sst.sem))\n",
    "\n",
    "        for c0,c1 in itt.combinations(tocalc.trans_pair.unique().tolist(), 2):\n",
    "            x = tocalc.loc[tocalc.trans_pair == c0, 'value'].values.astype(float)\n",
    "            y = tocalc.loc[tocalc.trans_pair == c1, 'value'].values.astype(float)\n",
    "            stat, pval = sst.mannwhitneyu(x,y)\n",
    "            print(f'{c0} vs {c1} MannwhitneyU {pval}')\n",
    "\n",
    "        return [\n",
    "            go.Scatter(x=toplot.index, y=toplot['stat'], mode='markers',\n",
    "                       marker=dict(color='black',\n",
    "                                   size=3),\n",
    "                       error_y=dict(array=toplot['err'],\n",
    "                                    color=name_to_hex('black'),\n",
    "                                    thickness=1,\n",
    "                                    width=5),\n",
    "                       showlegend=False)\n",
    "        ]\n",
    "\n",
    "    ### regions ###\n",
    "    elif category == 'region':\n",
    "        x = tocalc.loc[tocalc.region == 'A1', 'value'].values.astype(float)\n",
    "        y = tocalc.loc[tocalc.region == 'PEG', 'value'].values.astype(float)\n",
    "        stat, pval = sst.mannwhitneyu(x,y)\n",
    "        print(f'A1 vs PEG MannwhitneyU {pval}')\n",
    "\n",
    "        toplot = tocalc.groupby('region', observed=True).agg(stat=('value', np.mean),\n",
    "                                              err=('value', sst.sem))\n",
    "\n",
    "        # if you want different color error bars, have to do it one at a time\n",
    "        reg_quant = list()\n",
    "        for rr, row in toplot.iterrows():\n",
    "            reg_quant.append(go.Scatter(x=(row.name,),\n",
    "                                        y=(row.stat,),\n",
    "                                        mode='markers',\n",
    "                                        marker=dict(color=REGION_COLORMAP[row.name],\n",
    "                                                    size=3),\n",
    "                                        error_y=dict(array=(row.err,),\n",
    "                                                     color=REGION_COLORMAP[row.name],\n",
    "                                                     thickness=1,\n",
    "                                                     width=5),\n",
    "                                        showlegend=False),\n",
    "                             )\n",
    "\n",
    "        return reg_quant\n",
    "    else:\n",
    "        raise ValueError(f'bad param {category}')\n",
    "\n",
    "fig = make_subplots(2,2, column_width=[0.75,0.25])\n",
    "for mm, met in enumerate(['integral', 'last_bin']):\n",
    "    for cc, cat in enumerate(['transition', 'region']):\n",
    "\n",
    "        panelname = f'{met}_{cat}'\n",
    "\n",
    "        if panelname in panels:\n",
    "            panels.pop(panelname)\n",
    "\n",
    "        panels[panelname].extend(plot_metric_quant_bars(met, cat))\n",
    "\n",
    "\n",
    "        pan = panels[panelname]\n",
    "        fig.add_traces(pan, cols=[cc+1]*len(pan), rows=[mm+1]*len(pan))\n",
    "\n",
    "\n",
    "fig.update_layout(template='simple_white',\n",
    "                  width=96*2, height=96*3,\n",
    "                  margin=dict(l=10, r=10, t=10, b=10),\n",
    "                  xaxis=dict(showticklabels=False),\n",
    "                  xaxis2=dict(showticklabels=False),\n",
    "                  yaxis2=dict(showticklabels=False),\n",
    "                  yaxis4=dict(showticklabels=False),\n",
    "                  )\n",
    "\n",
    "img_bytes = fig.to_image(format=\"png\")\n",
    "Image(img_bytes)"
   ],
   "metadata": {
    "collapsed": false,
    "pycharm": {
     "name": "#%%\n"
    }
   }
  },
  {
   "cell_type": "markdown",
   "source": [
    "# merges all the parts in a single figure"
   ],
   "metadata": {
    "collapsed": false
   }
  },
  {
   "cell_type": "code",
   "execution_count": 14,
   "outputs": [
    {
     "name": "stdout",
     "output_type": "stream",
     "text": [
      "This is the format of your plot grid:\n",
      "⎡ (1,1) x,y   ⎤  [ (1,2) x2,y2 ]  [ (1,3) x3,y3 ]\n",
      "⎣      :      ⎦  [ (2,2) x4,y4 ]  [ (2,3) x5,y5 ]\n",
      "\n"
     ]
    }
   ],
   "source": [
    "# simple plot layout and other figurewide configurations\n",
    "\n",
    "def define_subplots():\n",
    "    fig = make_subplots(rows=2,cols=3, vertical_spacing=0.05, horizontal_spacing=0.05,\n",
    "                        column_widths=[0.6, 0.3, 0.1],\n",
    "                        specs=[[{'rowspan':2, 'r':0.1}, {}, {}],\n",
    "                               [None                  , {}, {}]])\n",
    "    # figure size in inches at different PPIs\n",
    "    ppi = 96 # www standard\n",
    "\n",
    "    heigh = 3\n",
    "    width = 4 # in inches\n",
    "    _ = fig.update_layout(template='simple_white',\n",
    "                          margin=dict(l=10, r=10, t=10, b=10),\n",
    "                          width=round(ppi*width), height=round(ppi*heigh),\n",
    "\n",
    "                          xaxis=dict(title=dict(\n",
    "                              text='Last bin (ms)',\n",
    "                              standoff=0,\n",
    "                              font_color=DURCOLOR)\n",
    "                          ),\n",
    "\n",
    "                          yaxis=dict(title=dict(\n",
    "                              text=\"Integral (T-score*ms)\",\n",
    "                              standoff=0,\n",
    "                              font_color=AMPCOLOR)\n",
    "                          ),\n",
    "\n",
    "                          xaxis2=dict(matches='x4',showticklabels=False),\n",
    "\n",
    "                          yaxis2=dict(title=dict(\n",
    "                              text=\"Amplitude\",\n",
    "                              font_color=AMPCOLOR,\n",
    "                              standoff=0)\n",
    "                          ),\n",
    "\n",
    "                          xaxis3=dict(matches='x5',showticklabels=False),\n",
    "\n",
    "                          yaxis3=dict(matches='y2',showticklabels=False),\n",
    "\n",
    "                          xaxis4=dict(title=dict(text='context type pair', standoff=0), tickangle=-45,),\n",
    "\n",
    "                          yaxis4=dict(title=dict(text='Duration', font_color=DURCOLOR, standoff=0)),\n",
    "\n",
    "                          xaxis5=dict(title=dict(text='region', standoff=39)),\n",
    "\n",
    "                          yaxis5=dict(matches='y4',showticklabels=False),\n",
    "\n",
    "                          showlegend=False,\n",
    "                          font_size=10,\n",
    "                          )\n",
    "\n",
    "    # add letter annotations for subplots\n",
    "    anotations = [\n",
    "        ('a', 0, 1),\n",
    "        ('b', 0.5, 1),\n",
    "        ('c', 0.87, 1),\n",
    "        ('d', 0.5, 0.5),\n",
    "        ('e', 0.87, 0.5),\n",
    "    ]\n",
    "\n",
    "    for letter, x, y in anotations:\n",
    "        fig.add_annotation(x=x, y=y,\n",
    "                           text=f'<b>{letter}</b>', font_size=12,\n",
    "                           xref='paper', yref='paper',\n",
    "                           xanchor='center', yanchor='middle',\n",
    "                           showarrow=False)\n",
    "\n",
    "\n",
    "    return fig, round(ppi*width), round(ppi*heigh)\n",
    "\n",
    "f, pw, ph = define_subplots()\n",
    "f.print_grid()\n",
    "# img_bytes = f.to_image(format=\"png\", width=pw, height=ph)\n",
    "# Image(img_bytes)"
   ],
   "metadata": {
    "collapsed": false,
    "pycharm": {
     "name": "#%%\n"
    }
   }
  },
  {
   "cell_type": "markdown",
   "source": [],
   "metadata": {
    "collapsed": false
   }
  },
  {
   "cell_type": "code",
   "execution_count": 15,
   "outputs": [
    {
     "data": {
      "image/png": "[encoded data removed]",
      "text/plain": "<IPython.core.display.Image object>"
     },
     "execution_count": 15,
     "metadata": {},
     "output_type": "execute_result"
    }
   ],
   "source": [
    "fig, pw, ph = define_subplots()\n",
    "\n",
    "# scatter\n",
    "pan = panels['scater_full']\n",
    "fig.add_traces(pan, cols=[1]*len(pan), rows=[1]*len(pan))\n",
    "\n",
    "# top left\n",
    "pan = panels['integral_transition']\n",
    "fig.add_traces(pan, cols=[2]*len(pan), rows=[1]*len(pan))\n",
    "\n",
    "# top right\n",
    "pan = panels['integral_region']\n",
    "fig.add_traces(pan, cols=[3]*len(pan), rows=[1]*len(pan))\n",
    "\n",
    "# bottom left\n",
    "pan = panels['last_bin_transition']\n",
    "fig.add_traces(pan, cols=[2]*len(pan), rows=[2]*len(pan))\n",
    "\n",
    "# bottom right\n",
    "pan = panels['last_bin_region']\n",
    "fig.add_traces(pan, cols=[3]*len(pan), rows=[2]*len(pan))\n",
    "\n",
    "\n",
    "img_bytes = fig.to_image(format=\"png\", width=pw, height=ph)\n",
    "Image(img_bytes)"
   ],
   "metadata": {
    "collapsed": false,
    "pycharm": {
     "name": "#%%\n"
    }
   }
  },
  {
   "cell_type": "markdown",
   "source": [
    "# saves PNG and SVG"
   ],
   "metadata": {
    "collapsed": false
   }
  },
  {
   "cell_type": "code",
   "execution_count": 16,
   "outputs": [],
   "source": [
    "filename = folder / 'figure_02'\n",
    "fig.write_image(filename.with_suffix('.png'))\n",
    "fig.write_image(filename.with_suffix('.svg'))"
   ],
   "metadata": {
    "collapsed": false,
    "pycharm": {
     "name": "#%%\n"
    }
   }
  }
 ],
 "metadata": {
  "kernelspec": {
   "display_name": "Python 3",
   "language": "python",
   "name": "python3"
  },
  "language_info": {
   "codemirror_mode": {
    "name": "ipython",
    "version": 2
   },
   "file_extension": ".py",
   "mimetype": "text/x-python",
   "name": "python",
   "nbconvert_exporter": "python",
   "pygments_lexer": "ipython2",
   "version": "2.7.6"
  }
 },
 "nbformat": 4,
 "nbformat_minor": 0
}