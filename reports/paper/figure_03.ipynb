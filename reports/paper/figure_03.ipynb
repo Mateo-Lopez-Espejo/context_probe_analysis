{
 "cells": [
  {
   "cell_type": "code",
   "execution_count": 1,
   "outputs": [],
   "source": [
    "import pathlib as pl\n",
    "from configparser import ConfigParser\n",
    "\n",
    "import numpy as np\n",
    "\n",
    "import plotly.graph_objs as go\n",
    "import plotly.colors as pc\n",
    "from plotly.subplots import make_subplots\n",
    "from webcolors import name_to_hex, hex_to_name, rgb_to_name, rgb_to_hex\n",
    "\n",
    "import joblib as jl\n",
    "\n",
    "from src.root_path import config_path, root_path\n",
    "from src.visualization.palette import *"
   ],
   "metadata": {
    "collapsed": false,
    "pycharm": {
     "name": "#%%\n"
    }
   }
  },
  {
   "cell_type": "markdown",
   "source": [
    "# Sparseness of contextual effects\n",
    "example neuron coverage of context-pair*probe (modulation) space\n",
    "\n",
    "histogram showing the number of neurons for given percentages of modulation space coverage\n",
    "\n",
    "surface plot showing the recruitment of neurons as the modulation space increases"
   ],
   "metadata": {
    "collapsed": false
   }
  },
  {
   "cell_type": "code",
   "execution_count": 2,
   "metadata": {
    "collapsed": true
   },
   "outputs": [],
   "source": [
    "config = ConfigParser()\n",
    "config.read_file(open(config_path / 'settings.ini'))\n",
    "meta = {'reliability': 0.1,  # r value\n",
    "        'smoothing_window': 0,  # ms\n",
    "        'raster_fs': 30,\n",
    "        'montecarlo': 1000,\n",
    "        'zscore': True,\n",
    "        'dprime_absolute': None,\n",
    "        'stim_type': 'permutations',\n",
    "        'alpha':0.05}\n",
    "# todo, if batch analysis rerun, use the anotated line instead\n",
    "# summary_DF_file = pl.Path(config['paths']['analysis_cache']) / f'211221_cxt_metrics_summary_DF_alpha_{meta}'\n",
    "summary_DF_file = pl.Path(config['paths']['analysis_cache']) / '211221_cxt_metrics_summary_DF_alpha_0.05'\n",
    "\n",
    "### same example cell as in figure 1 ###\n",
    "prb_idx = 3 - 1# selected probe. the -1 is to acount for 0 not being used\n",
    "ctx_pair = [0,1] # pair of contexts to compare and exemplify d'\n",
    "cellid = 'ARM021b-36-8'\n",
    "\n",
    "\n",
    "\n",
    "DF = jl.load(summary_DF_file)\n",
    "def format_dataframe(DF):\n",
    "\n",
    "    ff_analylis = DF.analysis.isin(['SC', 'fdPCA'])\n",
    "    ff_corr = DF.mult_comp_corr == 'consecutive_3'\n",
    "\n",
    "    good_cols =['analysis', 'mult_comp_corr', 'region', 'siteid',  'cellid', 'context_pair',\n",
    "                'probe', 'metric', 'value']\n",
    "    filtered = DF.loc[ff_analylis & ff_corr, good_cols]\n",
    "\n",
    "    filtered['probe'] = [int(p) for p in filtered['probe']]\n",
    "    filtered['context_pair'] = [f\"{int(cp.split('_')[0]):02d}_{int(cp.split('_')[1]):02d}\"\n",
    "                                for cp in filtered['context_pair']]\n",
    "\n",
    "    # rename metrics and analysis for ease of ploting\n",
    "    filtered['metric'] = filtered['metric'].replace({'significant_abs_mass_center': 'center of mass (ms)',\n",
    "                                                     'significant_abs_mean': \"mean d'\",\n",
    "                                                     'significant_abs_sum': \"integral (d'*ms)\"})\n",
    "    filtered['analysis'] = filtered['analysis'].replace({'SC': 'single cell',\n",
    "                                                         'fdPCA': 'population',\n",
    "                                                         'pdPCA': 'probewise pop',\n",
    "                                                         'LDA': 'pop ceiling'})\n",
    "\n",
    "    filtered['id'] = filtered['cellid'].fillna(value=filtered['siteid'])\n",
    "    filtered = filtered.drop(columns=['cellid', 'siteid'])\n",
    "\n",
    "    filtered['value'] = filtered['value'].fillna(value=0)\n",
    "\n",
    "    # permutation related preprocesing.\n",
    "    # creates a new column relating probe with  context pairs\n",
    "    ctx = np.asarray([row.split('_') for row in filtered.context_pair], dtype=int)\n",
    "    prb = np.asarray(filtered.probe, dtype=int)\n",
    "\n",
    "    silence = ctx == 0\n",
    "    same = ctx == prb[:,None]\n",
    "    different = np.logical_and(~silence, ~same)\n",
    "\n",
    "    name_arr = np.full_like(ctx, np.nan, dtype=object)\n",
    "    name_arr[silence] = 'silence'\n",
    "    name_arr[same] = 'same'\n",
    "    name_arr[different] = 'diff'\n",
    "    comp_name_arr = np.apply_along_axis('_'.join, 1, name_arr)\n",
    "\n",
    "    # swaps clasification names to not have repetitions i.e. diff_same == same_diff\n",
    "    comp_name_arr[np.where(comp_name_arr == 'same_silence')] = 'silence_same'\n",
    "    comp_name_arr[np.where(comp_name_arr == 'diff_silence')] = 'silence_diff'\n",
    "    comp_name_arr[np.where(comp_name_arr == 'diff_same')] = 'same_diff'\n",
    "    comp_name_arr[np.where(comp_name_arr == 'same_silence')] = 'silence_same'\n",
    "\n",
    "    filtered['trans_pair'] = comp_name_arr\n",
    "\n",
    "    ord_cols = ['analysis', 'region', 'id', 'context_pair', 'trans_pair', 'probe', 'metric', 'value']\n",
    "    pivot_idx = [col for col in ord_cols if col not in ['value', 'metric']]\n",
    "    pivoted = filtered.pivot_table(index=pivot_idx, columns='metric', values='value', aggfunc='first').reset_index()\n",
    "\n",
    "    full_long = filtered # saves long format for subsamplig analysis\n",
    "\n",
    "    return pivoted, full_long\n",
    "pivoted, filtered = format_dataframe(DF)"
   ]
  },
  {
   "cell_type": "markdown",
   "source": [
    "### Figure parameters and subplot layout"
   ],
   "metadata": {
    "collapsed": false
   }
  },
  {
   "cell_type": "code",
   "execution_count": 3,
   "outputs": [],
   "source": [
    "# fig = make_subplots(rows=2,cols=3, vertical_spacing=0.05, horizontal_spacing=0.05,\n",
    "#                     column_widths=[0.5, 0.4, 0.1],\n",
    "#                     specs=[[{'rowspan':2}, {'l':0.05}, {}],\n",
    "#                            [None         , {'l':0.05}, {}]])\n",
    "\n",
    "fig = make_subplots(1,1)\n",
    "\n",
    "ppi = 300 # high quality print standard (do i need this if I do postprocecing in vectors)\n",
    "ppi = 96 # www standard\n",
    "ppi = 92.5 # house monitor\n",
    "\n",
    "width = 6 # in inches\n",
    "heigh = width * 4/9 # aspect ratio of heatmap\n",
    "_ = fig.update_layout(template='simple_white',\n",
    "                      margin=dict(l=10, r=10, t=10, b=10),\n",
    "                      width=round(ppi*width), height=round(ppi*heigh),\n",
    "                      showlegend=False)"
   ],
   "metadata": {
    "collapsed": false,
    "pycharm": {
     "name": "#%%\n"
    }
   }
  },
  {
   "cell_type": "markdown",
   "source": [
    "# double heatplot (contextual metrics) for example cell"
   ],
   "metadata": {
    "collapsed": false
   }
  },
  {
   "cell_type": "code",
   "execution_count": 82,
   "outputs": [
    {
     "data": {
      "application/vnd.plotly.v1+json": {
       "config": {
        "plotlyServerURL": "https://plot.ly"
       },
       "data": [
        {
         "fill": "toself",
         "fillcolor": "rgb(0, 0, 0)",
         "line": {
          "color": "#222222",
          "width": 1
         },
         "marker": {
          "cmax": 1238.2841030156612,
          "cmin": 0,
          "color": 0.0,
          "coloraxis": "coloraxis",
          "showscale": true
         },
         "mode": "lines",
         "type": "scatter",
         "x": [
          0,
          0,
          1,
          0
         ],
         "xaxis": "x",
         "y": [
          0,
          1,
          1,
          0
         ],
         "yaxis": "y"
        },
        {
         "fill": "toself",
         "fillcolor": "rgb(0, 0, 0)",
         "line": {
          "color": "#222222",
          "width": 1
         },
         "marker": {
          "cmax": 699.3438675676255,
          "cmin": 0,
          "color": 0.0,
          "coloraxis": "coloraxis2",
          "showscale": true
         },
         "mode": "lines",
         "type": "scatter",
         "x": [
          0,
          1,
          1,
          0
         ],
         "xaxis": "x",
         "y": [
          0,
          0,
          1,
          0
         ],
         "yaxis": "y"
        },
        {
         "fill": "toself",
         "fillcolor": "rgb(0, 0, 0)",
         "line": {
          "color": "#222222",
          "width": 1
         },
         "marker": {
          "cmax": 1238.2841030156612,
          "cmin": 0,
          "color": 0.0,
          "coloraxis": "coloraxis",
          "showscale": true
         },
         "mode": "lines",
         "type": "scatter",
         "x": [
          1,
          1,
          2,
          1
         ],
         "xaxis": "x",
         "y": [
          0,
          1,
          1,
          0
         ],
         "yaxis": "y"
        },
        {
         "fill": "toself",
         "fillcolor": "rgb(0, 0, 0)",
         "line": {
          "color": "#222222",
          "width": 1
         },
         "marker": {
          "cmax": 699.3438675676255,
          "cmin": 0,
          "color": 0.0,
          "coloraxis": "coloraxis2",
          "showscale": true
         },
         "mode": "lines",
         "type": "scatter",
         "x": [
          1,
          2,
          2,
          1
         ],
         "xaxis": "x",
         "y": [
          0,
          0,
          1,
          0
         ],
         "yaxis": "y"
        },
        {
         "fill": "toself",
         "fillcolor": "rgb(6, 12, 5)",
         "line": {
          "color": "#222222",
          "width": 1
         },
         "marker": {
          "cmax": 1238.2841030156612,
          "cmin": 0,
          "color": 89.70001725859343,
          "coloraxis": "coloraxis",
          "showscale": true
         },
         "mode": "lines",
         "type": "scatter",
         "x": [
          2,
          2,
          3,
          2
         ],
         "xaxis": "x",
         "y": [
          0,
          1,
          1,
          0
         ],
         "yaxis": "y"
        },
        {
         "fill": "toself",
         "fillcolor": "rgb(7, 5, 7)",
         "line": {
          "color": "#222222",
          "width": 1
         },
         "marker": {
          "cmax": 699.3438675676255,
          "cmin": 0,
          "color": 28.802006735097443,
          "coloraxis": "coloraxis2",
          "showscale": true
         },
         "mode": "lines",
         "type": "scatter",
         "x": [
          2,
          3,
          3,
          2
         ],
         "xaxis": "x",
         "y": [
          0,
          0,
          1,
          0
         ],
         "yaxis": "y"
        },
        {
         "fill": "toself",
         "fillcolor": "rgb(0, 0, 0)",
         "line": {
          "color": "#222222",
          "width": 1
         },
         "marker": {
          "cmax": 1238.2841030156612,
          "cmin": 0,
          "color": 0.0,
          "coloraxis": "coloraxis",
          "showscale": true
         },
         "mode": "lines",
         "type": "scatter",
         "x": [
          3,
          3,
          4,
          3
         ],
         "xaxis": "x",
         "y": [
          0,
          1,
          1,
          0
         ],
         "yaxis": "y"
        },
        {
         "fill": "toself",
         "fillcolor": "rgb(0, 0, 0)",
         "line": {
          "color": "#222222",
          "width": 1
         },
         "marker": {
          "cmax": 699.3438675676255,
          "cmin": 0,
          "color": 0.0,
          "coloraxis": "coloraxis2",
          "showscale": true
         },
         "mode": "lines",
         "type": "scatter",
         "x": [
          3,
          4,
          4,
          3
         ],
         "xaxis": "x",
         "y": [
          0,
          0,
          1,
          0
         ],
         "yaxis": "y"
        },
        {
         "fill": "toself",
         "fillcolor": "rgb(0, 0, 0)",
         "line": {
          "color": "#222222",
          "width": 1
         },
         "marker": {
          "cmax": 1238.2841030156612,
          "cmin": 0,
          "color": 0.0,
          "coloraxis": "coloraxis",
          "showscale": true
         },
         "mode": "lines",
         "type": "scatter",
         "x": [
          4,
          4,
          5,
          4
         ],
         "xaxis": "x",
         "y": [
          0,
          1,
          1,
          0
         ],
         "yaxis": "y"
        },
        {
         "fill": "toself",
         "fillcolor": "rgb(0, 0, 0)",
         "line": {
          "color": "#222222",
          "width": 1
         },
         "marker": {
          "cmax": 699.3438675676255,
          "cmin": 0,
          "color": 0.0,
          "coloraxis": "coloraxis2",
          "showscale": true
         },
         "mode": "lines",
         "type": "scatter",
         "x": [
          4,
          5,
          5,
          4
         ],
         "xaxis": "x",
         "y": [
          0,
          0,
          1,
          0
         ],
         "yaxis": "y"
        },
        {
         "fill": "toself",
         "fillcolor": "rgb(7, 12, 5)",
         "line": {
          "color": "#222222",
          "width": 1
         },
         "marker": {
          "cmax": 1238.2841030156612,
          "cmin": 0,
          "color": 92.95884337784689,
          "coloraxis": "coloraxis",
          "showscale": true
         },
         "mode": "lines",
         "type": "scatter",
         "x": [
          5,
          5,
          6,
          5
         ],
         "xaxis": "x",
         "y": [
          0,
          1,
          1,
          0
         ],
         "yaxis": "y"
        },
        {
         "fill": "toself",
         "fillcolor": "rgb(176, 122, 161)",
         "line": {
          "color": "#222222",
          "width": 1
         },
         "marker": {
          "cmax": 699.3438675676255,
          "cmin": 0,
          "color": 699.3438675676255,
          "coloraxis": "coloraxis2",
          "showscale": true
         },
         "mode": "lines",
         "type": "scatter",
         "x": [
          5,
          6,
          6,
          5
         ],
         "xaxis": "x",
         "y": [
          0,
          0,
          1,
          0
         ],
         "yaxis": "y"
        },
        {
         "fill": "toself",
         "fillcolor": "rgb(10, 18, 8)",
         "line": {
          "color": "#222222",
          "width": 1
         },
         "marker": {
          "cmax": 1238.2841030156612,
          "cmin": 0,
          "color": 136.40539611066873,
          "coloraxis": "coloraxis",
          "showscale": true
         },
         "mode": "lines",
         "type": "scatter",
         "x": [
          6,
          6,
          7,
          6
         ],
         "xaxis": "x",
         "y": [
          0,
          1,
          1,
          0
         ],
         "yaxis": "y"
        },
        {
         "fill": "toself",
         "fillcolor": "rgb(112, 78, 102)",
         "line": {
          "color": "#222222",
          "width": 1
         },
         "marker": {
          "cmax": 699.3438675676255,
          "cmin": 0,
          "color": 444.54608002573354,
          "coloraxis": "coloraxis2",
          "showscale": true
         },
         "mode": "lines",
         "type": "scatter",
         "x": [
          6,
          7,
          7,
          6
         ],
         "xaxis": "x",
         "y": [
          0,
          0,
          1,
          0
         ],
         "yaxis": "y"
        },
        {
         "fill": "toself",
         "fillcolor": "rgb(0, 0, 0)",
         "line": {
          "color": "#222222",
          "width": 1
         },
         "marker": {
          "cmax": 1238.2841030156612,
          "cmin": 0,
          "color": 0.0,
          "coloraxis": "coloraxis",
          "showscale": true
         },
         "mode": "lines",
         "type": "scatter",
         "x": [
          7,
          7,
          8,
          7
         ],
         "xaxis": "x",
         "y": [
          0,
          1,
          1,
          0
         ],
         "yaxis": "y"
        },
        {
         "fill": "toself",
         "fillcolor": "rgb(0, 0, 0)",
         "line": {
          "color": "#222222",
          "width": 1
         },
         "marker": {
          "cmax": 699.3438675676255,
          "cmin": 0,
          "color": 0.0,
          "coloraxis": "coloraxis2",
          "showscale": true
         },
         "mode": "lines",
         "type": "scatter",
         "x": [
          7,
          8,
          8,
          7
         ],
         "xaxis": "x",
         "y": [
          0,
          0,
          1,
          0
         ],
         "yaxis": "y"
        },
        {
         "fill": "toself",
         "fillcolor": "rgb(0, 0, 0)",
         "line": {
          "color": "#222222",
          "width": 1
         },
         "marker": {
          "cmax": 1238.2841030156612,
          "cmin": 0,
          "color": 0.0,
          "coloraxis": "coloraxis",
          "showscale": true
         },
         "mode": "lines",
         "type": "scatter",
         "x": [
          8,
          8,
          9,
          8
         ],
         "xaxis": "x",
         "y": [
          0,
          1,
          1,
          0
         ],
         "yaxis": "y"
        },
        {
         "fill": "toself",
         "fillcolor": "rgb(0, 0, 0)",
         "line": {
          "color": "#222222",
          "width": 1
         },
         "marker": {
          "cmax": 699.3438675676255,
          "cmin": 0,
          "color": 0.0,
          "coloraxis": "coloraxis2",
          "showscale": true
         },
         "mode": "lines",
         "type": "scatter",
         "x": [
          8,
          9,
          9,
          8
         ],
         "xaxis": "x",
         "y": [
          0,
          0,
          1,
          0
         ],
         "yaxis": "y"
        },
        {
         "fill": "toself",
         "fillcolor": "rgb(0, 0, 0)",
         "line": {
          "color": "#222222",
          "width": 1
         },
         "marker": {
          "cmax": 1238.2841030156612,
          "cmin": 0,
          "color": 0.0,
          "coloraxis": "coloraxis",
          "showscale": true
         },
         "mode": "lines",
         "type": "scatter",
         "x": [
          9,
          9,
          10,
          9
         ],
         "xaxis": "x",
         "y": [
          0,
          1,
          1,
          0
         ],
         "yaxis": "y"
        },
        {
         "fill": "toself",
         "fillcolor": "rgb(0, 0, 0)",
         "line": {
          "color": "#222222",
          "width": 1
         },
         "marker": {
          "cmax": 699.3438675676255,
          "cmin": 0,
          "color": 0.0,
          "coloraxis": "coloraxis2",
          "showscale": true
         },
         "mode": "lines",
         "type": "scatter",
         "x": [
          9,
          10,
          10,
          9
         ],
         "xaxis": "x",
         "y": [
          0,
          0,
          1,
          0
         ],
         "yaxis": "y"
        },
        {
         "fill": "toself",
         "fillcolor": "rgb(56, 102, 45)",
         "line": {
          "color": "#222222",
          "width": 1
         },
         "marker": {
          "cmax": 1238.2841030156612,
          "cmin": 0,
          "color": 782.0239237823545,
          "coloraxis": "coloraxis",
          "showscale": true
         },
         "mode": "lines",
         "type": "scatter",
         "x": [
          0,
          0,
          1,
          0
         ],
         "xaxis": "x",
         "y": [
          1,
          2,
          2,
          1
         ],
         "yaxis": "y"
        },
        {
         "fill": "toself",
         "fillcolor": "rgb(42, 29, 38)",
         "line": {
          "color": "#222222",
          "width": 1
         },
         "marker": {
          "cmax": 699.3438675676255,
          "cmin": 0,
          "color": 166.7949290007546,
          "coloraxis": "coloraxis2",
          "showscale": true
         },
         "mode": "lines",
         "type": "scatter",
         "x": [
          0,
          1,
          1,
          0
         ],
         "xaxis": "x",
         "y": [
          1,
          1,
          2,
          1
         ],
         "yaxis": "y"
        },
        {
         "fill": "toself",
         "fillcolor": "rgb(0, 0, 0)",
         "line": {
          "color": "#222222",
          "width": 1
         },
         "marker": {
          "cmax": 1238.2841030156612,
          "cmin": 0,
          "color": 0.0,
          "coloraxis": "coloraxis",
          "showscale": true
         },
         "mode": "lines",
         "type": "scatter",
         "x": [
          1,
          1,
          2,
          1
         ],
         "xaxis": "x",
         "y": [
          1,
          2,
          2,
          1
         ],
         "yaxis": "y"
        },
        {
         "fill": "toself",
         "fillcolor": "rgb(0, 0, 0)",
         "line": {
          "color": "#222222",
          "width": 1
         },
         "marker": {
          "cmax": 699.3438675676255,
          "cmin": 0,
          "color": 0.0,
          "coloraxis": "coloraxis2",
          "showscale": true
         },
         "mode": "lines",
         "type": "scatter",
         "x": [
          1,
          2,
          2,
          1
         ],
         "xaxis": "x",
         "y": [
          1,
          1,
          2,
          1
         ],
         "yaxis": "y"
        },
        {
         "fill": "toself",
         "fillcolor": "rgb(0, 0, 0)",
         "line": {
          "color": "#222222",
          "width": 1
         },
         "marker": {
          "cmax": 1238.2841030156612,
          "cmin": 0,
          "color": 0.0,
          "coloraxis": "coloraxis",
          "showscale": true
         },
         "mode": "lines",
         "type": "scatter",
         "x": [
          2,
          2,
          3,
          2
         ],
         "xaxis": "x",
         "y": [
          1,
          2,
          2,
          1
         ],
         "yaxis": "y"
        },
        {
         "fill": "toself",
         "fillcolor": "rgb(0, 0, 0)",
         "line": {
          "color": "#222222",
          "width": 1
         },
         "marker": {
          "cmax": 699.3438675676255,
          "cmin": 0,
          "color": 0.0,
          "coloraxis": "coloraxis2",
          "showscale": true
         },
         "mode": "lines",
         "type": "scatter",
         "x": [
          2,
          3,
          3,
          2
         ],
         "xaxis": "x",
         "y": [
          1,
          1,
          2,
          1
         ],
         "yaxis": "y"
        },
        {
         "fill": "toself",
         "fillcolor": "rgb(0, 0, 0)",
         "line": {
          "color": "#222222",
          "width": 1
         },
         "marker": {
          "cmax": 1238.2841030156612,
          "cmin": 0,
          "color": 0.0,
          "coloraxis": "coloraxis",
          "showscale": true
         },
         "mode": "lines",
         "type": "scatter",
         "x": [
          3,
          3,
          4,
          3
         ],
         "xaxis": "x",
         "y": [
          1,
          2,
          2,
          1
         ],
         "yaxis": "y"
        },
        {
         "fill": "toself",
         "fillcolor": "rgb(0, 0, 0)",
         "line": {
          "color": "#222222",
          "width": 1
         },
         "marker": {
          "cmax": 699.3438675676255,
          "cmin": 0,
          "color": 0.0,
          "coloraxis": "coloraxis2",
          "showscale": true
         },
         "mode": "lines",
         "type": "scatter",
         "x": [
          3,
          4,
          4,
          3
         ],
         "xaxis": "x",
         "y": [
          1,
          1,
          2,
          1
         ],
         "yaxis": "y"
        },
        {
         "fill": "toself",
         "fillcolor": "rgb(60, 109, 48)",
         "line": {
          "color": "#222222",
          "width": 1
         },
         "marker": {
          "cmax": 1238.2841030156612,
          "cmin": 0,
          "color": 834.9553404375606,
          "coloraxis": "coloraxis",
          "showscale": true
         },
         "mode": "lines",
         "type": "scatter",
         "x": [
          4,
          4,
          5,
          4
         ],
         "xaxis": "x",
         "y": [
          1,
          2,
          2,
          1
         ],
         "yaxis": "y"
        },
        {
         "fill": "toself",
         "fillcolor": "rgb(42, 29, 39)",
         "line": {
          "color": "#222222",
          "width": 1
         },
         "marker": {
          "cmax": 699.3438675676255,
          "cmin": 0,
          "color": 167.87146805703665,
          "coloraxis": "coloraxis2",
          "showscale": true
         },
         "mode": "lines",
         "type": "scatter",
         "x": [
          4,
          5,
          5,
          4
         ],
         "xaxis": "x",
         "y": [
          1,
          1,
          2,
          1
         ],
         "yaxis": "y"
        },
        {
         "fill": "toself",
         "fillcolor": "rgb(49, 88, 39)",
         "line": {
          "color": "#222222",
          "width": 1
         },
         "marker": {
          "cmax": 1238.2841030156612,
          "cmin": 0,
          "color": 675.2317249647558,
          "coloraxis": "coloraxis",
          "showscale": true
         },
         "mode": "lines",
         "type": "scatter",
         "x": [
          5,
          5,
          6,
          5
         ],
         "xaxis": "x",
         "y": [
          1,
          2,
          2,
          1
         ],
         "yaxis": "y"
        },
        {
         "fill": "toself",
         "fillcolor": "rgb(46, 32, 42)",
         "line": {
          "color": "#222222",
          "width": 1
         },
         "marker": {
          "cmax": 699.3438675676255,
          "cmin": 0,
          "color": 181.36778134076224,
          "coloraxis": "coloraxis2",
          "showscale": true
         },
         "mode": "lines",
         "type": "scatter",
         "x": [
          5,
          6,
          6,
          5
         ],
         "xaxis": "x",
         "y": [
          1,
          1,
          2,
          1
         ],
         "yaxis": "y"
        },
        {
         "fill": "toself",
         "fillcolor": "rgb(54, 97, 43)",
         "line": {
          "color": "#222222",
          "width": 1
         },
         "marker": {
          "cmax": 1238.2841030156612,
          "cmin": 0,
          "color": 746.3211863042105,
          "coloraxis": "coloraxis",
          "showscale": true
         },
         "mode": "lines",
         "type": "scatter",
         "x": [
          6,
          6,
          7,
          6
         ],
         "xaxis": "x",
         "y": [
          1,
          2,
          2,
          1
         ],
         "yaxis": "y"
        },
        {
         "fill": "toself",
         "fillcolor": "rgb(46, 32, 42)",
         "line": {
          "color": "#222222",
          "width": 1
         },
         "marker": {
          "cmax": 699.3438675676255,
          "cmin": 0,
          "color": 181.5250886459712,
          "coloraxis": "coloraxis2",
          "showscale": true
         },
         "mode": "lines",
         "type": "scatter",
         "x": [
          6,
          7,
          7,
          6
         ],
         "xaxis": "x",
         "y": [
          1,
          1,
          2,
          1
         ],
         "yaxis": "y"
        },
        {
         "fill": "toself",
         "fillcolor": "rgb(12, 22, 10)",
         "line": {
          "color": "#222222",
          "width": 1
         },
         "marker": {
          "cmax": 1238.2841030156612,
          "cmin": 0,
          "color": 170.59315705103785,
          "coloraxis": "coloraxis",
          "showscale": true
         },
         "mode": "lines",
         "type": "scatter",
         "x": [
          7,
          7,
          8,
          7
         ],
         "xaxis": "x",
         "y": [
          1,
          2,
          2,
          1
         ],
         "yaxis": "y"
        },
        {
         "fill": "toself",
         "fillcolor": "rgb(13, 9, 12)",
         "line": {
          "color": "#222222",
          "width": 1
         },
         "marker": {
          "cmax": 699.3438675676255,
          "cmin": 0,
          "color": 52.39573089390362,
          "coloraxis": "coloraxis2",
          "showscale": true
         },
         "mode": "lines",
         "type": "scatter",
         "x": [
          7,
          8,
          8,
          7
         ],
         "xaxis": "x",
         "y": [
          1,
          1,
          2,
          1
         ],
         "yaxis": "y"
        },
        {
         "fill": "toself",
         "fillcolor": "rgb(0, 0, 0)",
         "line": {
          "color": "#222222",
          "width": 1
         },
         "marker": {
          "cmax": 1238.2841030156612,
          "cmin": 0,
          "color": 0.0,
          "coloraxis": "coloraxis",
          "showscale": true
         },
         "mode": "lines",
         "type": "scatter",
         "x": [
          8,
          8,
          9,
          8
         ],
         "xaxis": "x",
         "y": [
          1,
          2,
          2,
          1
         ],
         "yaxis": "y"
        },
        {
         "fill": "toself",
         "fillcolor": "rgb(0, 0, 0)",
         "line": {
          "color": "#222222",
          "width": 1
         },
         "marker": {
          "cmax": 699.3438675676255,
          "cmin": 0,
          "color": 0.0,
          "coloraxis": "coloraxis2",
          "showscale": true
         },
         "mode": "lines",
         "type": "scatter",
         "x": [
          8,
          9,
          9,
          8
         ],
         "xaxis": "x",
         "y": [
          1,
          1,
          2,
          1
         ],
         "yaxis": "y"
        },
        {
         "fill": "toself",
         "fillcolor": "rgb(0, 0, 0)",
         "line": {
          "color": "#222222",
          "width": 1
         },
         "marker": {
          "cmax": 1238.2841030156612,
          "cmin": 0,
          "color": 0.0,
          "coloraxis": "coloraxis",
          "showscale": true
         },
         "mode": "lines",
         "type": "scatter",
         "x": [
          9,
          9,
          10,
          9
         ],
         "xaxis": "x",
         "y": [
          1,
          2,
          2,
          1
         ],
         "yaxis": "y"
        },
        {
         "fill": "toself",
         "fillcolor": "rgb(0, 0, 0)",
         "line": {
          "color": "#222222",
          "width": 1
         },
         "marker": {
          "cmax": 699.3438675676255,
          "cmin": 0,
          "color": 0.0,
          "coloraxis": "coloraxis2",
          "showscale": true
         },
         "mode": "lines",
         "type": "scatter",
         "x": [
          9,
          10,
          10,
          9
         ],
         "xaxis": "x",
         "y": [
          1,
          1,
          2,
          1
         ],
         "yaxis": "y"
        },
        {
         "fill": "toself",
         "fillcolor": "rgb(89, 161, 71)",
         "line": {
          "color": "#222222",
          "width": 1
         },
         "marker": {
          "cmax": 1238.2841030156612,
          "cmin": 0,
          "color": 1238.2841030156612,
          "coloraxis": "coloraxis",
          "showscale": true
         },
         "mode": "lines",
         "type": "scatter",
         "x": [
          0,
          0,
          1,
          0
         ],
         "xaxis": "x",
         "y": [
          2,
          3,
          3,
          2
         ],
         "yaxis": "y"
        },
        {
         "fill": "toself",
         "fillcolor": "rgb(93, 64, 85)",
         "line": {
          "color": "#222222",
          "width": 1
         },
         "marker": {
          "cmax": 699.3438675676255,
          "cmin": 0,
          "color": 369.22494101254375,
          "coloraxis": "coloraxis2",
          "showscale": true
         },
         "mode": "lines",
         "type": "scatter",
         "x": [
          0,
          1,
          1,
          0
         ],
         "xaxis": "x",
         "y": [
          2,
          2,
          3,
          2
         ],
         "yaxis": "y"
        },
        {
         "fill": "toself",
         "fillcolor": "rgb(0, 0, 0)",
         "line": {
          "color": "#222222",
          "width": 1
         },
         "marker": {
          "cmax": 1238.2841030156612,
          "cmin": 0,
          "color": 0.0,
          "coloraxis": "coloraxis",
          "showscale": true
         },
         "mode": "lines",
         "type": "scatter",
         "x": [
          1,
          1,
          2,
          1
         ],
         "xaxis": "x",
         "y": [
          2,
          3,
          3,
          2
         ],
         "yaxis": "y"
        },
        {
         "fill": "toself",
         "fillcolor": "rgb(0, 0, 0)",
         "line": {
          "color": "#222222",
          "width": 1
         },
         "marker": {
          "cmax": 699.3438675676255,
          "cmin": 0,
          "color": 0.0,
          "coloraxis": "coloraxis2",
          "showscale": true
         },
         "mode": "lines",
         "type": "scatter",
         "x": [
          1,
          2,
          2,
          1
         ],
         "xaxis": "x",
         "y": [
          2,
          2,
          3,
          2
         ],
         "yaxis": "y"
        },
        {
         "fill": "toself",
         "fillcolor": "rgb(0, 0, 0)",
         "line": {
          "color": "#222222",
          "width": 1
         },
         "marker": {
          "cmax": 1238.2841030156612,
          "cmin": 0,
          "color": 0.0,
          "coloraxis": "coloraxis",
          "showscale": true
         },
         "mode": "lines",
         "type": "scatter",
         "x": [
          2,
          2,
          3,
          2
         ],
         "xaxis": "x",
         "y": [
          2,
          3,
          3,
          2
         ],
         "yaxis": "y"
        },
        {
         "fill": "toself",
         "fillcolor": "rgb(0, 0, 0)",
         "line": {
          "color": "#222222",
          "width": 1
         },
         "marker": {
          "cmax": 699.3438675676255,
          "cmin": 0,
          "color": 0.0,
          "coloraxis": "coloraxis2",
          "showscale": true
         },
         "mode": "lines",
         "type": "scatter",
         "x": [
          2,
          3,
          3,
          2
         ],
         "xaxis": "x",
         "y": [
          2,
          2,
          3,
          2
         ],
         "yaxis": "y"
        },
        {
         "fill": "toself",
         "fillcolor": "rgb(0, 0, 0)",
         "line": {
          "color": "#222222",
          "width": 1
         },
         "marker": {
          "cmax": 1238.2841030156612,
          "cmin": 0,
          "color": 0.0,
          "coloraxis": "coloraxis",
          "showscale": true
         },
         "mode": "lines",
         "type": "scatter",
         "x": [
          3,
          3,
          4,
          3
         ],
         "xaxis": "x",
         "y": [
          2,
          3,
          3,
          2
         ],
         "yaxis": "y"
        },
        {
         "fill": "toself",
         "fillcolor": "rgb(0, 0, 0)",
         "line": {
          "color": "#222222",
          "width": 1
         },
         "marker": {
          "cmax": 699.3438675676255,
          "cmin": 0,
          "color": 0.0,
          "coloraxis": "coloraxis2",
          "showscale": true
         },
         "mode": "lines",
         "type": "scatter",
         "x": [
          3,
          4,
          4,
          3
         ],
         "xaxis": "x",
         "y": [
          2,
          2,
          3,
          2
         ],
         "yaxis": "y"
        },
        {
         "fill": "toself",
         "fillcolor": "rgb(88, 160, 71)",
         "line": {
          "color": "#222222",
          "width": 1
         },
         "marker": {
          "cmax": 1238.2841030156612,
          "cmin": 0,
          "color": 1231.0269728447745,
          "coloraxis": "coloraxis",
          "showscale": true
         },
         "mode": "lines",
         "type": "scatter",
         "x": [
          4,
          4,
          5,
          4
         ],
         "xaxis": "x",
         "y": [
          2,
          3,
          3,
          2
         ],
         "yaxis": "y"
        },
        {
         "fill": "toself",
         "fillcolor": "rgb(99, 68, 90)",
         "line": {
          "color": "#222222",
          "width": 1
         },
         "marker": {
          "cmax": 699.3438675676255,
          "cmin": 0,
          "color": 392.2682555315698,
          "coloraxis": "coloraxis2",
          "showscale": true
         },
         "mode": "lines",
         "type": "scatter",
         "x": [
          4,
          5,
          5,
          4
         ],
         "xaxis": "x",
         "y": [
          2,
          2,
          3,
          2
         ],
         "yaxis": "y"
        },
        {
         "fill": "toself",
         "fillcolor": "rgb(37, 67, 29)",
         "line": {
          "color": "#222222",
          "width": 1
         },
         "marker": {
          "cmax": 1238.2841030156612,
          "cmin": 0,
          "color": 513.6936655267251,
          "coloraxis": "coloraxis",
          "showscale": true
         },
         "mode": "lines",
         "type": "scatter",
         "x": [
          5,
          5,
          6,
          5
         ],
         "xaxis": "x",
         "y": [
          2,
          3,
          3,
          2
         ],
         "yaxis": "y"
        },
        {
         "fill": "toself",
         "fillcolor": "rgb(44, 31, 40)",
         "line": {
          "color": "#222222",
          "width": 1
         },
         "marker": {
          "cmax": 699.3438675676255,
          "cmin": 0,
          "color": 175.8853995698501,
          "coloraxis": "coloraxis2",
          "showscale": true
         },
         "mode": "lines",
         "type": "scatter",
         "x": [
          5,
          6,
          6,
          5
         ],
         "xaxis": "x",
         "y": [
          2,
          2,
          3,
          2
         ],
         "yaxis": "y"
        },
        {
         "fill": "toself",
         "fillcolor": "rgb(69, 125, 55)",
         "line": {
          "color": "#222222",
          "width": 1
         },
         "marker": {
          "cmax": 1238.2841030156612,
          "cmin": 0,
          "color": 963.9345608411201,
          "coloraxis": "coloraxis",
          "showscale": true
         },
         "mode": "lines",
         "type": "scatter",
         "x": [
          6,
          6,
          7,
          6
         ],
         "xaxis": "x",
         "y": [
          2,
          3,
          3,
          2
         ],
         "yaxis": "y"
        },
        {
         "fill": "toself",
         "fillcolor": "rgb(71, 50, 65)",
         "line": {
          "color": "#222222",
          "width": 1
         },
         "marker": {
          "cmax": 699.3438675676255,
          "cmin": 0,
          "color": 284.0373870539738,
          "coloraxis": "coloraxis2",
          "showscale": true
         },
         "mode": "lines",
         "type": "scatter",
         "x": [
          6,
          7,
          7,
          6
         ],
         "xaxis": "x",
         "y": [
          2,
          2,
          3,
          2
         ],
         "yaxis": "y"
        },
        {
         "fill": "toself",
         "fillcolor": "rgb(0, 0, 0)",
         "line": {
          "color": "#222222",
          "width": 1
         },
         "marker": {
          "cmax": 1238.2841030156612,
          "cmin": 0,
          "color": 0.0,
          "coloraxis": "coloraxis",
          "showscale": true
         },
         "mode": "lines",
         "type": "scatter",
         "x": [
          7,
          7,
          8,
          7
         ],
         "xaxis": "x",
         "y": [
          2,
          3,
          3,
          2
         ],
         "yaxis": "y"
        },
        {
         "fill": "toself",
         "fillcolor": "rgb(0, 0, 0)",
         "line": {
          "color": "#222222",
          "width": 1
         },
         "marker": {
          "cmax": 699.3438675676255,
          "cmin": 0,
          "color": 0.0,
          "coloraxis": "coloraxis2",
          "showscale": true
         },
         "mode": "lines",
         "type": "scatter",
         "x": [
          7,
          8,
          8,
          7
         ],
         "xaxis": "x",
         "y": [
          2,
          2,
          3,
          2
         ],
         "yaxis": "y"
        },
        {
         "fill": "toself",
         "fillcolor": "rgb(0, 0, 0)",
         "line": {
          "color": "#222222",
          "width": 1
         },
         "marker": {
          "cmax": 1238.2841030156612,
          "cmin": 0,
          "color": 0.0,
          "coloraxis": "coloraxis",
          "showscale": true
         },
         "mode": "lines",
         "type": "scatter",
         "x": [
          8,
          8,
          9,
          8
         ],
         "xaxis": "x",
         "y": [
          2,
          3,
          3,
          2
         ],
         "yaxis": "y"
        },
        {
         "fill": "toself",
         "fillcolor": "rgb(0, 0, 0)",
         "line": {
          "color": "#222222",
          "width": 1
         },
         "marker": {
          "cmax": 699.3438675676255,
          "cmin": 0,
          "color": 0.0,
          "coloraxis": "coloraxis2",
          "showscale": true
         },
         "mode": "lines",
         "type": "scatter",
         "x": [
          8,
          9,
          9,
          8
         ],
         "xaxis": "x",
         "y": [
          2,
          2,
          3,
          2
         ],
         "yaxis": "y"
        },
        {
         "fill": "toself",
         "fillcolor": "rgb(0, 0, 0)",
         "line": {
          "color": "#222222",
          "width": 1
         },
         "marker": {
          "cmax": 1238.2841030156612,
          "cmin": 0,
          "color": 0.0,
          "coloraxis": "coloraxis",
          "showscale": true
         },
         "mode": "lines",
         "type": "scatter",
         "x": [
          9,
          9,
          10,
          9
         ],
         "xaxis": "x",
         "y": [
          2,
          3,
          3,
          2
         ],
         "yaxis": "y"
        },
        {
         "fill": "toself",
         "fillcolor": "rgb(0, 0, 0)",
         "line": {
          "color": "#222222",
          "width": 1
         },
         "marker": {
          "cmax": 699.3438675676255,
          "cmin": 0,
          "color": 0.0,
          "coloraxis": "coloraxis2",
          "showscale": true
         },
         "mode": "lines",
         "type": "scatter",
         "x": [
          9,
          10,
          10,
          9
         ],
         "xaxis": "x",
         "y": [
          2,
          2,
          3,
          2
         ],
         "yaxis": "y"
        },
        {
         "fill": "toself",
         "fillcolor": "rgb(50, 90, 40)",
         "line": {
          "color": "#222222",
          "width": 1
         },
         "marker": {
          "cmax": 1238.2841030156612,
          "cmin": 0,
          "color": 693.912503774774,
          "coloraxis": "coloraxis",
          "showscale": true
         },
         "mode": "lines",
         "type": "scatter",
         "x": [
          0,
          0,
          1,
          0
         ],
         "xaxis": "x",
         "y": [
          3,
          4,
          4,
          3
         ],
         "yaxis": "y"
        },
        {
         "fill": "toself",
         "fillcolor": "rgb(61, 43, 56)",
         "line": {
          "color": "#222222",
          "width": 1
         },
         "marker": {
          "cmax": 699.3438675676255,
          "cmin": 0,
          "color": 244.20619173781898,
          "coloraxis": "coloraxis2",
          "showscale": true
         },
         "mode": "lines",
         "type": "scatter",
         "x": [
          0,
          1,
          1,
          0
         ],
         "xaxis": "x",
         "y": [
          3,
          3,
          4,
          3
         ],
         "yaxis": "y"
        },
        {
         "fill": "toself",
         "fillcolor": "rgb(0, 0, 0)",
         "line": {
          "color": "#222222",
          "width": 1
         },
         "marker": {
          "cmax": 1238.2841030156612,
          "cmin": 0,
          "color": 0.0,
          "coloraxis": "coloraxis",
          "showscale": true
         },
         "mode": "lines",
         "type": "scatter",
         "x": [
          1,
          1,
          2,
          1
         ],
         "xaxis": "x",
         "y": [
          3,
          4,
          4,
          3
         ],
         "yaxis": "y"
        },
        {
         "fill": "toself",
         "fillcolor": "rgb(0, 0, 0)",
         "line": {
          "color": "#222222",
          "width": 1
         },
         "marker": {
          "cmax": 699.3438675676255,
          "cmin": 0,
          "color": 0.0,
          "coloraxis": "coloraxis2",
          "showscale": true
         },
         "mode": "lines",
         "type": "scatter",
         "x": [
          1,
          2,
          2,
          1
         ],
         "xaxis": "x",
         "y": [
          3,
          3,
          4,
          3
         ],
         "yaxis": "y"
        },
        {
         "fill": "toself",
         "fillcolor": "rgb(7, 12, 5)",
         "line": {
          "color": "#222222",
          "width": 1
         },
         "marker": {
          "cmax": 1238.2841030156612,
          "cmin": 0,
          "color": 90.55253332142864,
          "coloraxis": "coloraxis",
          "showscale": true
         },
         "mode": "lines",
         "type": "scatter",
         "x": [
          2,
          2,
          3,
          2
         ],
         "xaxis": "x",
         "y": [
          3,
          4,
          4,
          3
         ],
         "yaxis": "y"
        },
        {
         "fill": "toself",
         "fillcolor": "rgb(117, 81, 107)",
         "line": {
          "color": "#222222",
          "width": 1
         },
         "marker": {
          "cmax": 699.3438675676255,
          "cmin": 0,
          "color": 466.08983959467844,
          "coloraxis": "coloraxis2",
          "showscale": true
         },
         "mode": "lines",
         "type": "scatter",
         "x": [
          2,
          3,
          3,
          2
         ],
         "xaxis": "x",
         "y": [
          3,
          3,
          4,
          3
         ],
         "yaxis": "y"
        },
        {
         "fill": "toself",
         "fillcolor": "rgb(0, 0, 0)",
         "line": {
          "color": "#222222",
          "width": 1
         },
         "marker": {
          "cmax": 1238.2841030156612,
          "cmin": 0,
          "color": 0.0,
          "coloraxis": "coloraxis",
          "showscale": true
         },
         "mode": "lines",
         "type": "scatter",
         "x": [
          3,
          3,
          4,
          3
         ],
         "xaxis": "x",
         "y": [
          3,
          4,
          4,
          3
         ],
         "yaxis": "y"
        },
        {
         "fill": "toself",
         "fillcolor": "rgb(0, 0, 0)",
         "line": {
          "color": "#222222",
          "width": 1
         },
         "marker": {
          "cmax": 699.3438675676255,
          "cmin": 0,
          "color": 0.0,
          "coloraxis": "coloraxis2",
          "showscale": true
         },
         "mode": "lines",
         "type": "scatter",
         "x": [
          3,
          4,
          4,
          3
         ],
         "xaxis": "x",
         "y": [
          3,
          3,
          4,
          3
         ],
         "yaxis": "y"
        },
        {
         "fill": "toself",
         "fillcolor": "rgb(43, 78, 34)",
         "line": {
          "color": "#222222",
          "width": 1
         },
         "marker": {
          "cmax": 1238.2841030156612,
          "cmin": 0,
          "color": 597.8820919199934,
          "coloraxis": "coloraxis",
          "showscale": true
         },
         "mode": "lines",
         "type": "scatter",
         "x": [
          4,
          4,
          5,
          4
         ],
         "xaxis": "x",
         "y": [
          3,
          4,
          4,
          3
         ],
         "yaxis": "y"
        },
        {
         "fill": "toself",
         "fillcolor": "rgb(54, 38, 50)",
         "line": {
          "color": "#222222",
          "width": 1
         },
         "marker": {
          "cmax": 699.3438675676255,
          "cmin": 0,
          "color": 216.18542145507698,
          "coloraxis": "coloraxis2",
          "showscale": true
         },
         "mode": "lines",
         "type": "scatter",
         "x": [
          4,
          5,
          5,
          4
         ],
         "xaxis": "x",
         "y": [
          3,
          3,
          4,
          3
         ],
         "yaxis": "y"
        },
        {
         "fill": "toself",
         "fillcolor": "rgb(27, 50, 22)",
         "line": {
          "color": "#222222",
          "width": 1
         },
         "marker": {
          "cmax": 1238.2841030156612,
          "cmin": 0,
          "color": 381.3383791247718,
          "coloraxis": "coloraxis",
          "showscale": true
         },
         "mode": "lines",
         "type": "scatter",
         "x": [
          5,
          5,
          6,
          5
         ],
         "xaxis": "x",
         "y": [
          3,
          4,
          4,
          3
         ],
         "yaxis": "y"
        },
        {
         "fill": "toself",
         "fillcolor": "rgb(28, 19, 25)",
         "line": {
          "color": "#222222",
          "width": 1
         },
         "marker": {
          "cmax": 699.3438675676255,
          "cmin": 0,
          "color": 110.13849920635032,
          "coloraxis": "coloraxis2",
          "showscale": true
         },
         "mode": "lines",
         "type": "scatter",
         "x": [
          5,
          6,
          6,
          5
         ],
         "xaxis": "x",
         "y": [
          3,
          3,
          4,
          3
         ],
         "yaxis": "y"
        },
        {
         "fill": "toself",
         "fillcolor": "rgb(40, 73, 32)",
         "line": {
          "color": "#222222",
          "width": 1
         },
         "marker": {
          "cmax": 1238.2841030156612,
          "cmin": 0,
          "color": 559.3213575834127,
          "coloraxis": "coloraxis",
          "showscale": true
         },
         "mode": "lines",
         "type": "scatter",
         "x": [
          6,
          6,
          7,
          6
         ],
         "xaxis": "x",
         "y": [
          3,
          4,
          4,
          3
         ],
         "yaxis": "y"
        },
        {
         "fill": "toself",
         "fillcolor": "rgb(49, 34, 45)",
         "line": {
          "color": "#222222",
          "width": 1
         },
         "marker": {
          "cmax": 699.3438675676255,
          "cmin": 0,
          "color": 193.34422671372081,
          "coloraxis": "coloraxis2",
          "showscale": true
         },
         "mode": "lines",
         "type": "scatter",
         "x": [
          6,
          7,
          7,
          6
         ],
         "xaxis": "x",
         "y": [
          3,
          3,
          4,
          3
         ],
         "yaxis": "y"
        },
        {
         "fill": "toself",
         "fillcolor": "rgb(0, 0, 0)",
         "line": {
          "color": "#222222",
          "width": 1
         },
         "marker": {
          "cmax": 1238.2841030156612,
          "cmin": 0,
          "color": 0.0,
          "coloraxis": "coloraxis",
          "showscale": true
         },
         "mode": "lines",
         "type": "scatter",
         "x": [
          7,
          7,
          8,
          7
         ],
         "xaxis": "x",
         "y": [
          3,
          4,
          4,
          3
         ],
         "yaxis": "y"
        },
        {
         "fill": "toself",
         "fillcolor": "rgb(0, 0, 0)",
         "line": {
          "color": "#222222",
          "width": 1
         },
         "marker": {
          "cmax": 699.3438675676255,
          "cmin": 0,
          "color": 0.0,
          "coloraxis": "coloraxis2",
          "showscale": true
         },
         "mode": "lines",
         "type": "scatter",
         "x": [
          7,
          8,
          8,
          7
         ],
         "xaxis": "x",
         "y": [
          3,
          3,
          4,
          3
         ],
         "yaxis": "y"
        },
        {
         "fill": "toself",
         "fillcolor": "rgb(0, 0, 0)",
         "line": {
          "color": "#222222",
          "width": 1
         },
         "marker": {
          "cmax": 1238.2841030156612,
          "cmin": 0,
          "color": 0.0,
          "coloraxis": "coloraxis",
          "showscale": true
         },
         "mode": "lines",
         "type": "scatter",
         "x": [
          8,
          8,
          9,
          8
         ],
         "xaxis": "x",
         "y": [
          3,
          4,
          4,
          3
         ],
         "yaxis": "y"
        },
        {
         "fill": "toself",
         "fillcolor": "rgb(0, 0, 0)",
         "line": {
          "color": "#222222",
          "width": 1
         },
         "marker": {
          "cmax": 699.3438675676255,
          "cmin": 0,
          "color": 0.0,
          "coloraxis": "coloraxis2",
          "showscale": true
         },
         "mode": "lines",
         "type": "scatter",
         "x": [
          8,
          9,
          9,
          8
         ],
         "xaxis": "x",
         "y": [
          3,
          3,
          4,
          3
         ],
         "yaxis": "y"
        },
        {
         "fill": "toself",
         "fillcolor": "rgb(0, 0, 0)",
         "line": {
          "color": "#222222",
          "width": 1
         },
         "marker": {
          "cmax": 1238.2841030156612,
          "cmin": 0,
          "color": 0.0,
          "coloraxis": "coloraxis",
          "showscale": true
         },
         "mode": "lines",
         "type": "scatter",
         "x": [
          9,
          9,
          10,
          9
         ],
         "xaxis": "x",
         "y": [
          3,
          4,
          4,
          3
         ],
         "yaxis": "y"
        },
        {
         "fill": "toself",
         "fillcolor": "rgb(0, 0, 0)",
         "line": {
          "color": "#222222",
          "width": 1
         },
         "marker": {
          "cmax": 699.3438675676255,
          "cmin": 0,
          "color": 0.0,
          "coloraxis": "coloraxis2",
          "showscale": true
         },
         "mode": "lines",
         "type": "scatter",
         "x": [
          9,
          10,
          10,
          9
         ],
         "xaxis": "x",
         "y": [
          3,
          3,
          4,
          3
         ],
         "yaxis": "y"
        }
       ],
       "layout": {
        "coloraxis": {
         "colorbar": {
          "title": {
           "side": "right",
           "text": "neurons recruited (%)"
          }
         },
         "colorscale": [
          [
           0.0,
           "#000004"
          ],
          [
           0.1111111111111111,
           "#1b0c41"
          ],
          [
           0.2222222222222222,
           "#4a0c6b"
          ],
          [
           0.3333333333333333,
           "#781c6d"
          ],
          [
           0.4444444444444444,
           "#a52c60"
          ],
          [
           0.5555555555555556,
           "#cf4446"
          ],
          [
           0.6666666666666666,
           "#ed6925"
          ],
          [
           0.7777777777777778,
           "#fb9b06"
          ],
          [
           0.8888888888888888,
           "#f7d13d"
          ],
          [
           1.0,
           "#fcffa4"
          ]
         ]
        },
        "margin": {
         "b": 10,
         "l": 10,
         "r": 10,
         "t": 10
        },
        "showlegend": false,
        "template": {
         "data": {
          "bar": [
           {
            "error_x": {
             "color": "rgb(36,36,36)"
            },
            "error_y": {
             "color": "rgb(36,36,36)"
            },
            "marker": {
             "line": {
              "color": "white",
              "width": 0.5
             },
             "pattern": {
              "fillmode": "overlay",
              "size": 10,
              "solidity": 0.2
             }
            },
            "type": "bar"
           }
          ],
          "barpolar": [
           {
            "marker": {
             "line": {
              "color": "white",
              "width": 0.5
             },
             "pattern": {
              "fillmode": "overlay",
              "size": 10,
              "solidity": 0.2
             }
            },
            "type": "barpolar"
           }
          ],
          "carpet": [
           {
            "aaxis": {
             "endlinecolor": "rgb(36,36,36)",
             "gridcolor": "white",
             "linecolor": "white",
             "minorgridcolor": "white",
             "startlinecolor": "rgb(36,36,36)"
            },
            "baxis": {
             "endlinecolor": "rgb(36,36,36)",
             "gridcolor": "white",
             "linecolor": "white",
             "minorgridcolor": "white",
             "startlinecolor": "rgb(36,36,36)"
            },
            "type": "carpet"
           }
          ],
          "choropleth": [
           {
            "colorbar": {
             "outlinewidth": 1,
             "tickcolor": "rgb(36,36,36)",
             "ticks": "outside"
            },
            "type": "choropleth"
           }
          ],
          "contour": [
           {
            "colorbar": {
             "outlinewidth": 1,
             "tickcolor": "rgb(36,36,36)",
             "ticks": "outside"
            },
            "colorscale": [
             [
              0.0,
              "#440154"
             ],
             [
              0.1111111111111111,
              "#482878"
             ],
             [
              0.2222222222222222,
              "#3e4989"
             ],
             [
              0.3333333333333333,
              "#31688e"
             ],
             [
              0.4444444444444444,
              "#26828e"
             ],
             [
              0.5555555555555556,
              "#1f9e89"
             ],
             [
              0.6666666666666666,
              "#35b779"
             ],
             [
              0.7777777777777778,
              "#6ece58"
             ],
             [
              0.8888888888888888,
              "#b5de2b"
             ],
             [
              1.0,
              "#fde725"
             ]
            ],
            "type": "contour"
           }
          ],
          "contourcarpet": [
           {
            "colorbar": {
             "outlinewidth": 1,
             "tickcolor": "rgb(36,36,36)",
             "ticks": "outside"
            },
            "type": "contourcarpet"
           }
          ],
          "heatmap": [
           {
            "colorbar": {
             "outlinewidth": 1,
             "tickcolor": "rgb(36,36,36)",
             "ticks": "outside"
            },
            "colorscale": [
             [
              0.0,
              "#440154"
             ],
             [
              0.1111111111111111,
              "#482878"
             ],
             [
              0.2222222222222222,
              "#3e4989"
             ],
             [
              0.3333333333333333,
              "#31688e"
             ],
             [
              0.4444444444444444,
              "#26828e"
             ],
             [
              0.5555555555555556,
              "#1f9e89"
             ],
             [
              0.6666666666666666,
              "#35b779"
             ],
             [
              0.7777777777777778,
              "#6ece58"
             ],
             [
              0.8888888888888888,
              "#b5de2b"
             ],
             [
              1.0,
              "#fde725"
             ]
            ],
            "type": "heatmap"
           }
          ],
          "heatmapgl": [
           {
            "colorbar": {
             "outlinewidth": 1,
             "tickcolor": "rgb(36,36,36)",
             "ticks": "outside"
            },
            "colorscale": [
             [
              0.0,
              "#440154"
             ],
             [
              0.1111111111111111,
              "#482878"
             ],
             [
              0.2222222222222222,
              "#3e4989"
             ],
             [
              0.3333333333333333,
              "#31688e"
             ],
             [
              0.4444444444444444,
              "#26828e"
             ],
             [
              0.5555555555555556,
              "#1f9e89"
             ],
             [
              0.6666666666666666,
              "#35b779"
             ],
             [
              0.7777777777777778,
              "#6ece58"
             ],
             [
              0.8888888888888888,
              "#b5de2b"
             ],
             [
              1.0,
              "#fde725"
             ]
            ],
            "type": "heatmapgl"
           }
          ],
          "histogram": [
           {
            "marker": {
             "line": {
              "color": "white",
              "width": 0.6
             }
            },
            "type": "histogram"
           }
          ],
          "histogram2d": [
           {
            "colorbar": {
             "outlinewidth": 1,
             "tickcolor": "rgb(36,36,36)",
             "ticks": "outside"
            },
            "colorscale": [
             [
              0.0,
              "#440154"
             ],
             [
              0.1111111111111111,
              "#482878"
             ],
             [
              0.2222222222222222,
              "#3e4989"
             ],
             [
              0.3333333333333333,
              "#31688e"
             ],
             [
              0.4444444444444444,
              "#26828e"
             ],
             [
              0.5555555555555556,
              "#1f9e89"
             ],
             [
              0.6666666666666666,
              "#35b779"
             ],
             [
              0.7777777777777778,
              "#6ece58"
             ],
             [
              0.8888888888888888,
              "#b5de2b"
             ],
             [
              1.0,
              "#fde725"
             ]
            ],
            "type": "histogram2d"
           }
          ],
          "histogram2dcontour": [
           {
            "colorbar": {
             "outlinewidth": 1,
             "tickcolor": "rgb(36,36,36)",
             "ticks": "outside"
            },
            "colorscale": [
             [
              0.0,
              "#440154"
             ],
             [
              0.1111111111111111,
              "#482878"
             ],
             [
              0.2222222222222222,
              "#3e4989"
             ],
             [
              0.3333333333333333,
              "#31688e"
             ],
             [
              0.4444444444444444,
              "#26828e"
             ],
             [
              0.5555555555555556,
              "#1f9e89"
             ],
             [
              0.6666666666666666,
              "#35b779"
             ],
             [
              0.7777777777777778,
              "#6ece58"
             ],
             [
              0.8888888888888888,
              "#b5de2b"
             ],
             [
              1.0,
              "#fde725"
             ]
            ],
            "type": "histogram2dcontour"
           }
          ],
          "mesh3d": [
           {
            "colorbar": {
             "outlinewidth": 1,
             "tickcolor": "rgb(36,36,36)",
             "ticks": "outside"
            },
            "type": "mesh3d"
           }
          ],
          "parcoords": [
           {
            "line": {
             "colorbar": {
              "outlinewidth": 1,
              "tickcolor": "rgb(36,36,36)",
              "ticks": "outside"
             }
            },
            "type": "parcoords"
           }
          ],
          "pie": [
           {
            "automargin": true,
            "type": "pie"
           }
          ],
          "scatter": [
           {
            "marker": {
             "colorbar": {
              "outlinewidth": 1,
              "tickcolor": "rgb(36,36,36)",
              "ticks": "outside"
             }
            },
            "type": "scatter"
           }
          ],
          "scatter3d": [
           {
            "line": {
             "colorbar": {
              "outlinewidth": 1,
              "tickcolor": "rgb(36,36,36)",
              "ticks": "outside"
             }
            },
            "marker": {
             "colorbar": {
              "outlinewidth": 1,
              "tickcolor": "rgb(36,36,36)",
              "ticks": "outside"
             }
            },
            "type": "scatter3d"
           }
          ],
          "scattercarpet": [
           {
            "marker": {
             "colorbar": {
              "outlinewidth": 1,
              "tickcolor": "rgb(36,36,36)",
              "ticks": "outside"
             }
            },
            "type": "scattercarpet"
           }
          ],
          "scattergeo": [
           {
            "marker": {
             "colorbar": {
              "outlinewidth": 1,
              "tickcolor": "rgb(36,36,36)",
              "ticks": "outside"
             }
            },
            "type": "scattergeo"
           }
          ],
          "scattergl": [
           {
            "marker": {
             "colorbar": {
              "outlinewidth": 1,
              "tickcolor": "rgb(36,36,36)",
              "ticks": "outside"
             }
            },
            "type": "scattergl"
           }
          ],
          "scattermapbox": [
           {
            "marker": {
             "colorbar": {
              "outlinewidth": 1,
              "tickcolor": "rgb(36,36,36)",
              "ticks": "outside"
             }
            },
            "type": "scattermapbox"
           }
          ],
          "scatterpolar": [
           {
            "marker": {
             "colorbar": {
              "outlinewidth": 1,
              "tickcolor": "rgb(36,36,36)",
              "ticks": "outside"
             }
            },
            "type": "scatterpolar"
           }
          ],
          "scatterpolargl": [
           {
            "marker": {
             "colorbar": {
              "outlinewidth": 1,
              "tickcolor": "rgb(36,36,36)",
              "ticks": "outside"
             }
            },
            "type": "scatterpolargl"
           }
          ],
          "scatterternary": [
           {
            "marker": {
             "colorbar": {
              "outlinewidth": 1,
              "tickcolor": "rgb(36,36,36)",
              "ticks": "outside"
             }
            },
            "type": "scatterternary"
           }
          ],
          "surface": [
           {
            "colorbar": {
             "outlinewidth": 1,
             "tickcolor": "rgb(36,36,36)",
             "ticks": "outside"
            },
            "colorscale": [
             [
              0.0,
              "#440154"
             ],
             [
              0.1111111111111111,
              "#482878"
             ],
             [
              0.2222222222222222,
              "#3e4989"
             ],
             [
              0.3333333333333333,
              "#31688e"
             ],
             [
              0.4444444444444444,
              "#26828e"
             ],
             [
              0.5555555555555556,
              "#1f9e89"
             ],
             [
              0.6666666666666666,
              "#35b779"
             ],
             [
              0.7777777777777778,
              "#6ece58"
             ],
             [
              0.8888888888888888,
              "#b5de2b"
             ],
             [
              1.0,
              "#fde725"
             ]
            ],
            "type": "surface"
           }
          ],
          "table": [
           {
            "cells": {
             "fill": {
              "color": "rgb(237,237,237)"
             },
             "line": {
              "color": "white"
             }
            },
            "header": {
             "fill": {
              "color": "rgb(217,217,217)"
             },
             "line": {
              "color": "white"
             }
            },
            "type": "table"
           }
          ]
         },
         "layout": {
          "annotationdefaults": {
           "arrowhead": 0,
           "arrowwidth": 1
          },
          "autotypenumbers": "strict",
          "coloraxis": {
           "colorbar": {
            "outlinewidth": 1,
            "tickcolor": "rgb(36,36,36)",
            "ticks": "outside"
           }
          },
          "colorscale": {
           "diverging": [
            [
             0.0,
             "rgb(103,0,31)"
            ],
            [
             0.1,
             "rgb(178,24,43)"
            ],
            [
             0.2,
             "rgb(214,96,77)"
            ],
            [
             0.3,
             "rgb(244,165,130)"
            ],
            [
             0.4,
             "rgb(253,219,199)"
            ],
            [
             0.5,
             "rgb(247,247,247)"
            ],
            [
             0.6,
             "rgb(209,229,240)"
            ],
            [
             0.7,
             "rgb(146,197,222)"
            ],
            [
             0.8,
             "rgb(67,147,195)"
            ],
            [
             0.9,
             "rgb(33,102,172)"
            ],
            [
             1.0,
             "rgb(5,48,97)"
            ]
           ],
           "sequential": [
            [
             0.0,
             "#440154"
            ],
            [
             0.1111111111111111,
             "#482878"
            ],
            [
             0.2222222222222222,
             "#3e4989"
            ],
            [
             0.3333333333333333,
             "#31688e"
            ],
            [
             0.4444444444444444,
             "#26828e"
            ],
            [
             0.5555555555555556,
             "#1f9e89"
            ],
            [
             0.6666666666666666,
             "#35b779"
            ],
            [
             0.7777777777777778,
             "#6ece58"
            ],
            [
             0.8888888888888888,
             "#b5de2b"
            ],
            [
             1.0,
             "#fde725"
            ]
           ],
           "sequentialminus": [
            [
             0.0,
             "#440154"
            ],
            [
             0.1111111111111111,
             "#482878"
            ],
            [
             0.2222222222222222,
             "#3e4989"
            ],
            [
             0.3333333333333333,
             "#31688e"
            ],
            [
             0.4444444444444444,
             "#26828e"
            ],
            [
             0.5555555555555556,
             "#1f9e89"
            ],
            [
             0.6666666666666666,
             "#35b779"
            ],
            [
             0.7777777777777778,
             "#6ece58"
            ],
            [
             0.8888888888888888,
             "#b5de2b"
            ],
            [
             1.0,
             "#fde725"
            ]
           ]
          },
          "colorway": [
           "#1F77B4",
           "#FF7F0E",
           "#2CA02C",
           "#D62728",
           "#9467BD",
           "#8C564B",
           "#E377C2",
           "#7F7F7F",
           "#BCBD22",
           "#17BECF"
          ],
          "font": {
           "color": "rgb(36,36,36)"
          },
          "geo": {
           "bgcolor": "white",
           "lakecolor": "white",
           "landcolor": "white",
           "showlakes": true,
           "showland": true,
           "subunitcolor": "white"
          },
          "hoverlabel": {
           "align": "left"
          },
          "hovermode": "closest",
          "mapbox": {
           "style": "light"
          },
          "paper_bgcolor": "white",
          "plot_bgcolor": "white",
          "polar": {
           "angularaxis": {
            "gridcolor": "rgb(232,232,232)",
            "linecolor": "rgb(36,36,36)",
            "showgrid": false,
            "showline": true,
            "ticks": "outside"
           },
           "bgcolor": "white",
           "radialaxis": {
            "gridcolor": "rgb(232,232,232)",
            "linecolor": "rgb(36,36,36)",
            "showgrid": false,
            "showline": true,
            "ticks": "outside"
           }
          },
          "scene": {
           "xaxis": {
            "backgroundcolor": "white",
            "gridcolor": "rgb(232,232,232)",
            "gridwidth": 2,
            "linecolor": "rgb(36,36,36)",
            "showbackground": true,
            "showgrid": false,
            "showline": true,
            "ticks": "outside",
            "zeroline": false,
            "zerolinecolor": "rgb(36,36,36)"
           },
           "yaxis": {
            "backgroundcolor": "white",
            "gridcolor": "rgb(232,232,232)",
            "gridwidth": 2,
            "linecolor": "rgb(36,36,36)",
            "showbackground": true,
            "showgrid": false,
            "showline": true,
            "ticks": "outside",
            "zeroline": false,
            "zerolinecolor": "rgb(36,36,36)"
           },
           "zaxis": {
            "backgroundcolor": "white",
            "gridcolor": "rgb(232,232,232)",
            "gridwidth": 2,
            "linecolor": "rgb(36,36,36)",
            "showbackground": true,
            "showgrid": false,
            "showline": true,
            "ticks": "outside",
            "zeroline": false,
            "zerolinecolor": "rgb(36,36,36)"
           }
          },
          "shapedefaults": {
           "fillcolor": "black",
           "line": {
            "width": 0
           },
           "opacity": 0.3
          },
          "ternary": {
           "aaxis": {
            "gridcolor": "rgb(232,232,232)",
            "linecolor": "rgb(36,36,36)",
            "showgrid": false,
            "showline": true,
            "ticks": "outside"
           },
           "baxis": {
            "gridcolor": "rgb(232,232,232)",
            "linecolor": "rgb(36,36,36)",
            "showgrid": false,
            "showline": true,
            "ticks": "outside"
           },
           "bgcolor": "white",
           "caxis": {
            "gridcolor": "rgb(232,232,232)",
            "linecolor": "rgb(36,36,36)",
            "showgrid": false,
            "showline": true,
            "ticks": "outside"
           }
          },
          "title": {
           "x": 0.05
          },
          "xaxis": {
           "automargin": true,
           "gridcolor": "rgb(232,232,232)",
           "linecolor": "rgb(36,36,36)",
           "showgrid": false,
           "showline": true,
           "ticks": "outside",
           "title": {
            "standoff": 15
           },
           "zeroline": false,
           "zerolinecolor": "rgb(36,36,36)"
          },
          "yaxis": {
           "automargin": true,
           "gridcolor": "rgb(232,232,232)",
           "linecolor": "rgb(36,36,36)",
           "showgrid": false,
           "showline": true,
           "ticks": "outside",
           "title": {
            "standoff": 15
           },
           "zeroline": false,
           "zerolinecolor": "rgb(36,36,36)"
          }
         }
        },
        "xaxis": {
         "anchor": "y",
         "constrain": "domain",
         "domain": [
          0.0,
          1.0
         ],
         "scaleanchor": "y",
         "tickmode": "array",
         "ticktext": [
          "0_1",
          "0_2",
          "0_3",
          "0_4",
          "1_2",
          "1_3",
          "1_4",
          "2_3",
          "2_4",
          "3_4"
         ],
         "tickvals": [
          0.5,
          1.5,
          2.5,
          3.5,
          4.5,
          5.5,
          6.5,
          7.5,
          8.5,
          9.5
         ],
         "title": {
          "text": "context pairs"
         }
        },
        "yaxis": {
         "anchor": "x",
         "constrain": "domain",
         "domain": [
          0.0,
          1.0
         ],
         "range": [
          0,
          4
         ],
         "tickmode": "array",
         "ticktext": [
          1,
          2,
          3,
          4
         ],
         "tickvals": [
          0.5,
          1.5,
          2.5,
          3.5
         ],
         "title": {
          "text": "probes"
         }
        }
       }
      },
      "text/html": "<div>                            <div id=\"f3efa314-bcb0-459e-9bec-ff8c73c01908\" class=\"plotly-graph-div\" style=\"height:525px; width:100%;\"></div>            <script type=\"text/javascript\">                require([\"plotly\"], function(Plotly) {                    window.PLOTLYENV=window.PLOTLYENV || {};                                    if (document.getElementById(\"f3efa314-bcb0-459e-9bec-ff8c73c01908\")) {                    Plotly.newPlot(                        \"f3efa314-bcb0-459e-9bec-ff8c73c01908\",                        [{\"fill\":\"toself\",\"fillcolor\":\"rgb(0, 0, 0)\",\"line\":{\"color\":\"#222222\",\"width\":1},\"marker\":{\"cmax\":1238.2841030156612,\"cmin\":0,\"color\":0.0,\"coloraxis\":\"coloraxis\",\"showscale\":true},\"mode\":\"lines\",\"type\":\"scatter\",\"x\":[0,0,1,0],\"xaxis\":\"x\",\"y\":[0,1,1,0],\"yaxis\":\"y\"},{\"fill\":\"toself\",\"fillcolor\":\"rgb(0, 0, 0)\",\"line\":{\"color\":\"#222222\",\"width\":1},\"marker\":{\"cmax\":699.3438675676255,\"cmin\":0,\"color\":0.0,\"coloraxis\":\"coloraxis2\",\"showscale\":true},\"mode\":\"lines\",\"type\":\"scatter\",\"x\":[0,1,1,0],\"xaxis\":\"x\",\"y\":[0,0,1,0],\"yaxis\":\"y\"},{\"fill\":\"toself\",\"fillcolor\":\"rgb(0, 0, 0)\",\"line\":{\"color\":\"#222222\",\"width\":1},\"marker\":{\"cmax\":1238.2841030156612,\"cmin\":0,\"color\":0.0,\"coloraxis\":\"coloraxis\",\"showscale\":true},\"mode\":\"lines\",\"type\":\"scatter\",\"x\":[1,1,2,1],\"xaxis\":\"x\",\"y\":[0,1,1,0],\"yaxis\":\"y\"},{\"fill\":\"toself\",\"fillcolor\":\"rgb(0, 0, 0)\",\"line\":{\"color\":\"#222222\",\"width\":1},\"marker\":{\"cmax\":699.3438675676255,\"cmin\":0,\"color\":0.0,\"coloraxis\":\"coloraxis2\",\"showscale\":true},\"mode\":\"lines\",\"type\":\"scatter\",\"x\":[1,2,2,1],\"xaxis\":\"x\",\"y\":[0,0,1,0],\"yaxis\":\"y\"},{\"fill\":\"toself\",\"fillcolor\":\"rgb(6, 12, 5)\",\"line\":{\"color\":\"#222222\",\"width\":1},\"marker\":{\"cmax\":1238.2841030156612,\"cmin\":0,\"color\":89.70001725859343,\"coloraxis\":\"coloraxis\",\"showscale\":true},\"mode\":\"lines\",\"type\":\"scatter\",\"x\":[2,2,3,2],\"xaxis\":\"x\",\"y\":[0,1,1,0],\"yaxis\":\"y\"},{\"fill\":\"toself\",\"fillcolor\":\"rgb(7, 5, 7)\",\"line\":{\"color\":\"#222222\",\"width\":1},\"marker\":{\"cmax\":699.3438675676255,\"cmin\":0,\"color\":28.802006735097443,\"coloraxis\":\"coloraxis2\",\"showscale\":true},\"mode\":\"lines\",\"type\":\"scatter\",\"x\":[2,3,3,2],\"xaxis\":\"x\",\"y\":[0,0,1,0],\"yaxis\":\"y\"},{\"fill\":\"toself\",\"fillcolor\":\"rgb(0, 0, 0)\",\"line\":{\"color\":\"#222222\",\"width\":1},\"marker\":{\"cmax\":1238.2841030156612,\"cmin\":0,\"color\":0.0,\"coloraxis\":\"coloraxis\",\"showscale\":true},\"mode\":\"lines\",\"type\":\"scatter\",\"x\":[3,3,4,3],\"xaxis\":\"x\",\"y\":[0,1,1,0],\"yaxis\":\"y\"},{\"fill\":\"toself\",\"fillcolor\":\"rgb(0, 0, 0)\",\"line\":{\"color\":\"#222222\",\"width\":1},\"marker\":{\"cmax\":699.3438675676255,\"cmin\":0,\"color\":0.0,\"coloraxis\":\"coloraxis2\",\"showscale\":true},\"mode\":\"lines\",\"type\":\"scatter\",\"x\":[3,4,4,3],\"xaxis\":\"x\",\"y\":[0,0,1,0],\"yaxis\":\"y\"},{\"fill\":\"toself\",\"fillcolor\":\"rgb(0, 0, 0)\",\"line\":{\"color\":\"#222222\",\"width\":1},\"marker\":{\"cmax\":1238.2841030156612,\"cmin\":0,\"color\":0.0,\"coloraxis\":\"coloraxis\",\"showscale\":true},\"mode\":\"lines\",\"type\":\"scatter\",\"x\":[4,4,5,4],\"xaxis\":\"x\",\"y\":[0,1,1,0],\"yaxis\":\"y\"},{\"fill\":\"toself\",\"fillcolor\":\"rgb(0, 0, 0)\",\"line\":{\"color\":\"#222222\",\"width\":1},\"marker\":{\"cmax\":699.3438675676255,\"cmin\":0,\"color\":0.0,\"coloraxis\":\"coloraxis2\",\"showscale\":true},\"mode\":\"lines\",\"type\":\"scatter\",\"x\":[4,5,5,4],\"xaxis\":\"x\",\"y\":[0,0,1,0],\"yaxis\":\"y\"},{\"fill\":\"toself\",\"fillcolor\":\"rgb(7, 12, 5)\",\"line\":{\"color\":\"#222222\",\"width\":1},\"marker\":{\"cmax\":1238.2841030156612,\"cmin\":0,\"color\":92.95884337784689,\"coloraxis\":\"coloraxis\",\"showscale\":true},\"mode\":\"lines\",\"type\":\"scatter\",\"x\":[5,5,6,5],\"xaxis\":\"x\",\"y\":[0,1,1,0],\"yaxis\":\"y\"},{\"fill\":\"toself\",\"fillcolor\":\"rgb(176, 122, 161)\",\"line\":{\"color\":\"#222222\",\"width\":1},\"marker\":{\"cmax\":699.3438675676255,\"cmin\":0,\"color\":699.3438675676255,\"coloraxis\":\"coloraxis2\",\"showscale\":true},\"mode\":\"lines\",\"type\":\"scatter\",\"x\":[5,6,6,5],\"xaxis\":\"x\",\"y\":[0,0,1,0],\"yaxis\":\"y\"},{\"fill\":\"toself\",\"fillcolor\":\"rgb(10, 18, 8)\",\"line\":{\"color\":\"#222222\",\"width\":1},\"marker\":{\"cmax\":1238.2841030156612,\"cmin\":0,\"color\":136.40539611066873,\"coloraxis\":\"coloraxis\",\"showscale\":true},\"mode\":\"lines\",\"type\":\"scatter\",\"x\":[6,6,7,6],\"xaxis\":\"x\",\"y\":[0,1,1,0],\"yaxis\":\"y\"},{\"fill\":\"toself\",\"fillcolor\":\"rgb(112, 78, 102)\",\"line\":{\"color\":\"#222222\",\"width\":1},\"marker\":{\"cmax\":699.3438675676255,\"cmin\":0,\"color\":444.54608002573354,\"coloraxis\":\"coloraxis2\",\"showscale\":true},\"mode\":\"lines\",\"type\":\"scatter\",\"x\":[6,7,7,6],\"xaxis\":\"x\",\"y\":[0,0,1,0],\"yaxis\":\"y\"},{\"fill\":\"toself\",\"fillcolor\":\"rgb(0, 0, 0)\",\"line\":{\"color\":\"#222222\",\"width\":1},\"marker\":{\"cmax\":1238.2841030156612,\"cmin\":0,\"color\":0.0,\"coloraxis\":\"coloraxis\",\"showscale\":true},\"mode\":\"lines\",\"type\":\"scatter\",\"x\":[7,7,8,7],\"xaxis\":\"x\",\"y\":[0,1,1,0],\"yaxis\":\"y\"},{\"fill\":\"toself\",\"fillcolor\":\"rgb(0, 0, 0)\",\"line\":{\"color\":\"#222222\",\"width\":1},\"marker\":{\"cmax\":699.3438675676255,\"cmin\":0,\"color\":0.0,\"coloraxis\":\"coloraxis2\",\"showscale\":true},\"mode\":\"lines\",\"type\":\"scatter\",\"x\":[7,8,8,7],\"xaxis\":\"x\",\"y\":[0,0,1,0],\"yaxis\":\"y\"},{\"fill\":\"toself\",\"fillcolor\":\"rgb(0, 0, 0)\",\"line\":{\"color\":\"#222222\",\"width\":1},\"marker\":{\"cmax\":1238.2841030156612,\"cmin\":0,\"color\":0.0,\"coloraxis\":\"coloraxis\",\"showscale\":true},\"mode\":\"lines\",\"type\":\"scatter\",\"x\":[8,8,9,8],\"xaxis\":\"x\",\"y\":[0,1,1,0],\"yaxis\":\"y\"},{\"fill\":\"toself\",\"fillcolor\":\"rgb(0, 0, 0)\",\"line\":{\"color\":\"#222222\",\"width\":1},\"marker\":{\"cmax\":699.3438675676255,\"cmin\":0,\"color\":0.0,\"coloraxis\":\"coloraxis2\",\"showscale\":true},\"mode\":\"lines\",\"type\":\"scatter\",\"x\":[8,9,9,8],\"xaxis\":\"x\",\"y\":[0,0,1,0],\"yaxis\":\"y\"},{\"fill\":\"toself\",\"fillcolor\":\"rgb(0, 0, 0)\",\"line\":{\"color\":\"#222222\",\"width\":1},\"marker\":{\"cmax\":1238.2841030156612,\"cmin\":0,\"color\":0.0,\"coloraxis\":\"coloraxis\",\"showscale\":true},\"mode\":\"lines\",\"type\":\"scatter\",\"x\":[9,9,10,9],\"xaxis\":\"x\",\"y\":[0,1,1,0],\"yaxis\":\"y\"},{\"fill\":\"toself\",\"fillcolor\":\"rgb(0, 0, 0)\",\"line\":{\"color\":\"#222222\",\"width\":1},\"marker\":{\"cmax\":699.3438675676255,\"cmin\":0,\"color\":0.0,\"coloraxis\":\"coloraxis2\",\"showscale\":true},\"mode\":\"lines\",\"type\":\"scatter\",\"x\":[9,10,10,9],\"xaxis\":\"x\",\"y\":[0,0,1,0],\"yaxis\":\"y\"},{\"fill\":\"toself\",\"fillcolor\":\"rgb(56, 102, 45)\",\"line\":{\"color\":\"#222222\",\"width\":1},\"marker\":{\"cmax\":1238.2841030156612,\"cmin\":0,\"color\":782.0239237823545,\"coloraxis\":\"coloraxis\",\"showscale\":true},\"mode\":\"lines\",\"type\":\"scatter\",\"x\":[0,0,1,0],\"xaxis\":\"x\",\"y\":[1,2,2,1],\"yaxis\":\"y\"},{\"fill\":\"toself\",\"fillcolor\":\"rgb(42, 29, 38)\",\"line\":{\"color\":\"#222222\",\"width\":1},\"marker\":{\"cmax\":699.3438675676255,\"cmin\":0,\"color\":166.7949290007546,\"coloraxis\":\"coloraxis2\",\"showscale\":true},\"mode\":\"lines\",\"type\":\"scatter\",\"x\":[0,1,1,0],\"xaxis\":\"x\",\"y\":[1,1,2,1],\"yaxis\":\"y\"},{\"fill\":\"toself\",\"fillcolor\":\"rgb(0, 0, 0)\",\"line\":{\"color\":\"#222222\",\"width\":1},\"marker\":{\"cmax\":1238.2841030156612,\"cmin\":0,\"color\":0.0,\"coloraxis\":\"coloraxis\",\"showscale\":true},\"mode\":\"lines\",\"type\":\"scatter\",\"x\":[1,1,2,1],\"xaxis\":\"x\",\"y\":[1,2,2,1],\"yaxis\":\"y\"},{\"fill\":\"toself\",\"fillcolor\":\"rgb(0, 0, 0)\",\"line\":{\"color\":\"#222222\",\"width\":1},\"marker\":{\"cmax\":699.3438675676255,\"cmin\":0,\"color\":0.0,\"coloraxis\":\"coloraxis2\",\"showscale\":true},\"mode\":\"lines\",\"type\":\"scatter\",\"x\":[1,2,2,1],\"xaxis\":\"x\",\"y\":[1,1,2,1],\"yaxis\":\"y\"},{\"fill\":\"toself\",\"fillcolor\":\"rgb(0, 0, 0)\",\"line\":{\"color\":\"#222222\",\"width\":1},\"marker\":{\"cmax\":1238.2841030156612,\"cmin\":0,\"color\":0.0,\"coloraxis\":\"coloraxis\",\"showscale\":true},\"mode\":\"lines\",\"type\":\"scatter\",\"x\":[2,2,3,2],\"xaxis\":\"x\",\"y\":[1,2,2,1],\"yaxis\":\"y\"},{\"fill\":\"toself\",\"fillcolor\":\"rgb(0, 0, 0)\",\"line\":{\"color\":\"#222222\",\"width\":1},\"marker\":{\"cmax\":699.3438675676255,\"cmin\":0,\"color\":0.0,\"coloraxis\":\"coloraxis2\",\"showscale\":true},\"mode\":\"lines\",\"type\":\"scatter\",\"x\":[2,3,3,2],\"xaxis\":\"x\",\"y\":[1,1,2,1],\"yaxis\":\"y\"},{\"fill\":\"toself\",\"fillcolor\":\"rgb(0, 0, 0)\",\"line\":{\"color\":\"#222222\",\"width\":1},\"marker\":{\"cmax\":1238.2841030156612,\"cmin\":0,\"color\":0.0,\"coloraxis\":\"coloraxis\",\"showscale\":true},\"mode\":\"lines\",\"type\":\"scatter\",\"x\":[3,3,4,3],\"xaxis\":\"x\",\"y\":[1,2,2,1],\"yaxis\":\"y\"},{\"fill\":\"toself\",\"fillcolor\":\"rgb(0, 0, 0)\",\"line\":{\"color\":\"#222222\",\"width\":1},\"marker\":{\"cmax\":699.3438675676255,\"cmin\":0,\"color\":0.0,\"coloraxis\":\"coloraxis2\",\"showscale\":true},\"mode\":\"lines\",\"type\":\"scatter\",\"x\":[3,4,4,3],\"xaxis\":\"x\",\"y\":[1,1,2,1],\"yaxis\":\"y\"},{\"fill\":\"toself\",\"fillcolor\":\"rgb(60, 109, 48)\",\"line\":{\"color\":\"#222222\",\"width\":1},\"marker\":{\"cmax\":1238.2841030156612,\"cmin\":0,\"color\":834.9553404375606,\"coloraxis\":\"coloraxis\",\"showscale\":true},\"mode\":\"lines\",\"type\":\"scatter\",\"x\":[4,4,5,4],\"xaxis\":\"x\",\"y\":[1,2,2,1],\"yaxis\":\"y\"},{\"fill\":\"toself\",\"fillcolor\":\"rgb(42, 29, 39)\",\"line\":{\"color\":\"#222222\",\"width\":1},\"marker\":{\"cmax\":699.3438675676255,\"cmin\":0,\"color\":167.87146805703665,\"coloraxis\":\"coloraxis2\",\"showscale\":true},\"mode\":\"lines\",\"type\":\"scatter\",\"x\":[4,5,5,4],\"xaxis\":\"x\",\"y\":[1,1,2,1],\"yaxis\":\"y\"},{\"fill\":\"toself\",\"fillcolor\":\"rgb(49, 88, 39)\",\"line\":{\"color\":\"#222222\",\"width\":1},\"marker\":{\"cmax\":1238.2841030156612,\"cmin\":0,\"color\":675.2317249647558,\"coloraxis\":\"coloraxis\",\"showscale\":true},\"mode\":\"lines\",\"type\":\"scatter\",\"x\":[5,5,6,5],\"xaxis\":\"x\",\"y\":[1,2,2,1],\"yaxis\":\"y\"},{\"fill\":\"toself\",\"fillcolor\":\"rgb(46, 32, 42)\",\"line\":{\"color\":\"#222222\",\"width\":1},\"marker\":{\"cmax\":699.3438675676255,\"cmin\":0,\"color\":181.36778134076224,\"coloraxis\":\"coloraxis2\",\"showscale\":true},\"mode\":\"lines\",\"type\":\"scatter\",\"x\":[5,6,6,5],\"xaxis\":\"x\",\"y\":[1,1,2,1],\"yaxis\":\"y\"},{\"fill\":\"toself\",\"fillcolor\":\"rgb(54, 97, 43)\",\"line\":{\"color\":\"#222222\",\"width\":1},\"marker\":{\"cmax\":1238.2841030156612,\"cmin\":0,\"color\":746.3211863042105,\"coloraxis\":\"coloraxis\",\"showscale\":true},\"mode\":\"lines\",\"type\":\"scatter\",\"x\":[6,6,7,6],\"xaxis\":\"x\",\"y\":[1,2,2,1],\"yaxis\":\"y\"},{\"fill\":\"toself\",\"fillcolor\":\"rgb(46, 32, 42)\",\"line\":{\"color\":\"#222222\",\"width\":1},\"marker\":{\"cmax\":699.3438675676255,\"cmin\":0,\"color\":181.5250886459712,\"coloraxis\":\"coloraxis2\",\"showscale\":true},\"mode\":\"lines\",\"type\":\"scatter\",\"x\":[6,7,7,6],\"xaxis\":\"x\",\"y\":[1,1,2,1],\"yaxis\":\"y\"},{\"fill\":\"toself\",\"fillcolor\":\"rgb(12, 22, 10)\",\"line\":{\"color\":\"#222222\",\"width\":1},\"marker\":{\"cmax\":1238.2841030156612,\"cmin\":0,\"color\":170.59315705103785,\"coloraxis\":\"coloraxis\",\"showscale\":true},\"mode\":\"lines\",\"type\":\"scatter\",\"x\":[7,7,8,7],\"xaxis\":\"x\",\"y\":[1,2,2,1],\"yaxis\":\"y\"},{\"fill\":\"toself\",\"fillcolor\":\"rgb(13, 9, 12)\",\"line\":{\"color\":\"#222222\",\"width\":1},\"marker\":{\"cmax\":699.3438675676255,\"cmin\":0,\"color\":52.39573089390362,\"coloraxis\":\"coloraxis2\",\"showscale\":true},\"mode\":\"lines\",\"type\":\"scatter\",\"x\":[7,8,8,7],\"xaxis\":\"x\",\"y\":[1,1,2,1],\"yaxis\":\"y\"},{\"fill\":\"toself\",\"fillcolor\":\"rgb(0, 0, 0)\",\"line\":{\"color\":\"#222222\",\"width\":1},\"marker\":{\"cmax\":1238.2841030156612,\"cmin\":0,\"color\":0.0,\"coloraxis\":\"coloraxis\",\"showscale\":true},\"mode\":\"lines\",\"type\":\"scatter\",\"x\":[8,8,9,8],\"xaxis\":\"x\",\"y\":[1,2,2,1],\"yaxis\":\"y\"},{\"fill\":\"toself\",\"fillcolor\":\"rgb(0, 0, 0)\",\"line\":{\"color\":\"#222222\",\"width\":1},\"marker\":{\"cmax\":699.3438675676255,\"cmin\":0,\"color\":0.0,\"coloraxis\":\"coloraxis2\",\"showscale\":true},\"mode\":\"lines\",\"type\":\"scatter\",\"x\":[8,9,9,8],\"xaxis\":\"x\",\"y\":[1,1,2,1],\"yaxis\":\"y\"},{\"fill\":\"toself\",\"fillcolor\":\"rgb(0, 0, 0)\",\"line\":{\"color\":\"#222222\",\"width\":1},\"marker\":{\"cmax\":1238.2841030156612,\"cmin\":0,\"color\":0.0,\"coloraxis\":\"coloraxis\",\"showscale\":true},\"mode\":\"lines\",\"type\":\"scatter\",\"x\":[9,9,10,9],\"xaxis\":\"x\",\"y\":[1,2,2,1],\"yaxis\":\"y\"},{\"fill\":\"toself\",\"fillcolor\":\"rgb(0, 0, 0)\",\"line\":{\"color\":\"#222222\",\"width\":1},\"marker\":{\"cmax\":699.3438675676255,\"cmin\":0,\"color\":0.0,\"coloraxis\":\"coloraxis2\",\"showscale\":true},\"mode\":\"lines\",\"type\":\"scatter\",\"x\":[9,10,10,9],\"xaxis\":\"x\",\"y\":[1,1,2,1],\"yaxis\":\"y\"},{\"fill\":\"toself\",\"fillcolor\":\"rgb(89, 161, 71)\",\"line\":{\"color\":\"#222222\",\"width\":1},\"marker\":{\"cmax\":1238.2841030156612,\"cmin\":0,\"color\":1238.2841030156612,\"coloraxis\":\"coloraxis\",\"showscale\":true},\"mode\":\"lines\",\"type\":\"scatter\",\"x\":[0,0,1,0],\"xaxis\":\"x\",\"y\":[2,3,3,2],\"yaxis\":\"y\"},{\"fill\":\"toself\",\"fillcolor\":\"rgb(93, 64, 85)\",\"line\":{\"color\":\"#222222\",\"width\":1},\"marker\":{\"cmax\":699.3438675676255,\"cmin\":0,\"color\":369.22494101254375,\"coloraxis\":\"coloraxis2\",\"showscale\":true},\"mode\":\"lines\",\"type\":\"scatter\",\"x\":[0,1,1,0],\"xaxis\":\"x\",\"y\":[2,2,3,2],\"yaxis\":\"y\"},{\"fill\":\"toself\",\"fillcolor\":\"rgb(0, 0, 0)\",\"line\":{\"color\":\"#222222\",\"width\":1},\"marker\":{\"cmax\":1238.2841030156612,\"cmin\":0,\"color\":0.0,\"coloraxis\":\"coloraxis\",\"showscale\":true},\"mode\":\"lines\",\"type\":\"scatter\",\"x\":[1,1,2,1],\"xaxis\":\"x\",\"y\":[2,3,3,2],\"yaxis\":\"y\"},{\"fill\":\"toself\",\"fillcolor\":\"rgb(0, 0, 0)\",\"line\":{\"color\":\"#222222\",\"width\":1},\"marker\":{\"cmax\":699.3438675676255,\"cmin\":0,\"color\":0.0,\"coloraxis\":\"coloraxis2\",\"showscale\":true},\"mode\":\"lines\",\"type\":\"scatter\",\"x\":[1,2,2,1],\"xaxis\":\"x\",\"y\":[2,2,3,2],\"yaxis\":\"y\"},{\"fill\":\"toself\",\"fillcolor\":\"rgb(0, 0, 0)\",\"line\":{\"color\":\"#222222\",\"width\":1},\"marker\":{\"cmax\":1238.2841030156612,\"cmin\":0,\"color\":0.0,\"coloraxis\":\"coloraxis\",\"showscale\":true},\"mode\":\"lines\",\"type\":\"scatter\",\"x\":[2,2,3,2],\"xaxis\":\"x\",\"y\":[2,3,3,2],\"yaxis\":\"y\"},{\"fill\":\"toself\",\"fillcolor\":\"rgb(0, 0, 0)\",\"line\":{\"color\":\"#222222\",\"width\":1},\"marker\":{\"cmax\":699.3438675676255,\"cmin\":0,\"color\":0.0,\"coloraxis\":\"coloraxis2\",\"showscale\":true},\"mode\":\"lines\",\"type\":\"scatter\",\"x\":[2,3,3,2],\"xaxis\":\"x\",\"y\":[2,2,3,2],\"yaxis\":\"y\"},{\"fill\":\"toself\",\"fillcolor\":\"rgb(0, 0, 0)\",\"line\":{\"color\":\"#222222\",\"width\":1},\"marker\":{\"cmax\":1238.2841030156612,\"cmin\":0,\"color\":0.0,\"coloraxis\":\"coloraxis\",\"showscale\":true},\"mode\":\"lines\",\"type\":\"scatter\",\"x\":[3,3,4,3],\"xaxis\":\"x\",\"y\":[2,3,3,2],\"yaxis\":\"y\"},{\"fill\":\"toself\",\"fillcolor\":\"rgb(0, 0, 0)\",\"line\":{\"color\":\"#222222\",\"width\":1},\"marker\":{\"cmax\":699.3438675676255,\"cmin\":0,\"color\":0.0,\"coloraxis\":\"coloraxis2\",\"showscale\":true},\"mode\":\"lines\",\"type\":\"scatter\",\"x\":[3,4,4,3],\"xaxis\":\"x\",\"y\":[2,2,3,2],\"yaxis\":\"y\"},{\"fill\":\"toself\",\"fillcolor\":\"rgb(88, 160, 71)\",\"line\":{\"color\":\"#222222\",\"width\":1},\"marker\":{\"cmax\":1238.2841030156612,\"cmin\":0,\"color\":1231.0269728447745,\"coloraxis\":\"coloraxis\",\"showscale\":true},\"mode\":\"lines\",\"type\":\"scatter\",\"x\":[4,4,5,4],\"xaxis\":\"x\",\"y\":[2,3,3,2],\"yaxis\":\"y\"},{\"fill\":\"toself\",\"fillcolor\":\"rgb(99, 68, 90)\",\"line\":{\"color\":\"#222222\",\"width\":1},\"marker\":{\"cmax\":699.3438675676255,\"cmin\":0,\"color\":392.2682555315698,\"coloraxis\":\"coloraxis2\",\"showscale\":true},\"mode\":\"lines\",\"type\":\"scatter\",\"x\":[4,5,5,4],\"xaxis\":\"x\",\"y\":[2,2,3,2],\"yaxis\":\"y\"},{\"fill\":\"toself\",\"fillcolor\":\"rgb(37, 67, 29)\",\"line\":{\"color\":\"#222222\",\"width\":1},\"marker\":{\"cmax\":1238.2841030156612,\"cmin\":0,\"color\":513.6936655267251,\"coloraxis\":\"coloraxis\",\"showscale\":true},\"mode\":\"lines\",\"type\":\"scatter\",\"x\":[5,5,6,5],\"xaxis\":\"x\",\"y\":[2,3,3,2],\"yaxis\":\"y\"},{\"fill\":\"toself\",\"fillcolor\":\"rgb(44, 31, 40)\",\"line\":{\"color\":\"#222222\",\"width\":1},\"marker\":{\"cmax\":699.3438675676255,\"cmin\":0,\"color\":175.8853995698501,\"coloraxis\":\"coloraxis2\",\"showscale\":true},\"mode\":\"lines\",\"type\":\"scatter\",\"x\":[5,6,6,5],\"xaxis\":\"x\",\"y\":[2,2,3,2],\"yaxis\":\"y\"},{\"fill\":\"toself\",\"fillcolor\":\"rgb(69, 125, 55)\",\"line\":{\"color\":\"#222222\",\"width\":1},\"marker\":{\"cmax\":1238.2841030156612,\"cmin\":0,\"color\":963.9345608411201,\"coloraxis\":\"coloraxis\",\"showscale\":true},\"mode\":\"lines\",\"type\":\"scatter\",\"x\":[6,6,7,6],\"xaxis\":\"x\",\"y\":[2,3,3,2],\"yaxis\":\"y\"},{\"fill\":\"toself\",\"fillcolor\":\"rgb(71, 50, 65)\",\"line\":{\"color\":\"#222222\",\"width\":1},\"marker\":{\"cmax\":699.3438675676255,\"cmin\":0,\"color\":284.0373870539738,\"coloraxis\":\"coloraxis2\",\"showscale\":true},\"mode\":\"lines\",\"type\":\"scatter\",\"x\":[6,7,7,6],\"xaxis\":\"x\",\"y\":[2,2,3,2],\"yaxis\":\"y\"},{\"fill\":\"toself\",\"fillcolor\":\"rgb(0, 0, 0)\",\"line\":{\"color\":\"#222222\",\"width\":1},\"marker\":{\"cmax\":1238.2841030156612,\"cmin\":0,\"color\":0.0,\"coloraxis\":\"coloraxis\",\"showscale\":true},\"mode\":\"lines\",\"type\":\"scatter\",\"x\":[7,7,8,7],\"xaxis\":\"x\",\"y\":[2,3,3,2],\"yaxis\":\"y\"},{\"fill\":\"toself\",\"fillcolor\":\"rgb(0, 0, 0)\",\"line\":{\"color\":\"#222222\",\"width\":1},\"marker\":{\"cmax\":699.3438675676255,\"cmin\":0,\"color\":0.0,\"coloraxis\":\"coloraxis2\",\"showscale\":true},\"mode\":\"lines\",\"type\":\"scatter\",\"x\":[7,8,8,7],\"xaxis\":\"x\",\"y\":[2,2,3,2],\"yaxis\":\"y\"},{\"fill\":\"toself\",\"fillcolor\":\"rgb(0, 0, 0)\",\"line\":{\"color\":\"#222222\",\"width\":1},\"marker\":{\"cmax\":1238.2841030156612,\"cmin\":0,\"color\":0.0,\"coloraxis\":\"coloraxis\",\"showscale\":true},\"mode\":\"lines\",\"type\":\"scatter\",\"x\":[8,8,9,8],\"xaxis\":\"x\",\"y\":[2,3,3,2],\"yaxis\":\"y\"},{\"fill\":\"toself\",\"fillcolor\":\"rgb(0, 0, 0)\",\"line\":{\"color\":\"#222222\",\"width\":1},\"marker\":{\"cmax\":699.3438675676255,\"cmin\":0,\"color\":0.0,\"coloraxis\":\"coloraxis2\",\"showscale\":true},\"mode\":\"lines\",\"type\":\"scatter\",\"x\":[8,9,9,8],\"xaxis\":\"x\",\"y\":[2,2,3,2],\"yaxis\":\"y\"},{\"fill\":\"toself\",\"fillcolor\":\"rgb(0, 0, 0)\",\"line\":{\"color\":\"#222222\",\"width\":1},\"marker\":{\"cmax\":1238.2841030156612,\"cmin\":0,\"color\":0.0,\"coloraxis\":\"coloraxis\",\"showscale\":true},\"mode\":\"lines\",\"type\":\"scatter\",\"x\":[9,9,10,9],\"xaxis\":\"x\",\"y\":[2,3,3,2],\"yaxis\":\"y\"},{\"fill\":\"toself\",\"fillcolor\":\"rgb(0, 0, 0)\",\"line\":{\"color\":\"#222222\",\"width\":1},\"marker\":{\"cmax\":699.3438675676255,\"cmin\":0,\"color\":0.0,\"coloraxis\":\"coloraxis2\",\"showscale\":true},\"mode\":\"lines\",\"type\":\"scatter\",\"x\":[9,10,10,9],\"xaxis\":\"x\",\"y\":[2,2,3,2],\"yaxis\":\"y\"},{\"fill\":\"toself\",\"fillcolor\":\"rgb(50, 90, 40)\",\"line\":{\"color\":\"#222222\",\"width\":1},\"marker\":{\"cmax\":1238.2841030156612,\"cmin\":0,\"color\":693.912503774774,\"coloraxis\":\"coloraxis\",\"showscale\":true},\"mode\":\"lines\",\"type\":\"scatter\",\"x\":[0,0,1,0],\"xaxis\":\"x\",\"y\":[3,4,4,3],\"yaxis\":\"y\"},{\"fill\":\"toself\",\"fillcolor\":\"rgb(61, 43, 56)\",\"line\":{\"color\":\"#222222\",\"width\":1},\"marker\":{\"cmax\":699.3438675676255,\"cmin\":0,\"color\":244.20619173781898,\"coloraxis\":\"coloraxis2\",\"showscale\":true},\"mode\":\"lines\",\"type\":\"scatter\",\"x\":[0,1,1,0],\"xaxis\":\"x\",\"y\":[3,3,4,3],\"yaxis\":\"y\"},{\"fill\":\"toself\",\"fillcolor\":\"rgb(0, 0, 0)\",\"line\":{\"color\":\"#222222\",\"width\":1},\"marker\":{\"cmax\":1238.2841030156612,\"cmin\":0,\"color\":0.0,\"coloraxis\":\"coloraxis\",\"showscale\":true},\"mode\":\"lines\",\"type\":\"scatter\",\"x\":[1,1,2,1],\"xaxis\":\"x\",\"y\":[3,4,4,3],\"yaxis\":\"y\"},{\"fill\":\"toself\",\"fillcolor\":\"rgb(0, 0, 0)\",\"line\":{\"color\":\"#222222\",\"width\":1},\"marker\":{\"cmax\":699.3438675676255,\"cmin\":0,\"color\":0.0,\"coloraxis\":\"coloraxis2\",\"showscale\":true},\"mode\":\"lines\",\"type\":\"scatter\",\"x\":[1,2,2,1],\"xaxis\":\"x\",\"y\":[3,3,4,3],\"yaxis\":\"y\"},{\"fill\":\"toself\",\"fillcolor\":\"rgb(7, 12, 5)\",\"line\":{\"color\":\"#222222\",\"width\":1},\"marker\":{\"cmax\":1238.2841030156612,\"cmin\":0,\"color\":90.55253332142864,\"coloraxis\":\"coloraxis\",\"showscale\":true},\"mode\":\"lines\",\"type\":\"scatter\",\"x\":[2,2,3,2],\"xaxis\":\"x\",\"y\":[3,4,4,3],\"yaxis\":\"y\"},{\"fill\":\"toself\",\"fillcolor\":\"rgb(117, 81, 107)\",\"line\":{\"color\":\"#222222\",\"width\":1},\"marker\":{\"cmax\":699.3438675676255,\"cmin\":0,\"color\":466.08983959467844,\"coloraxis\":\"coloraxis2\",\"showscale\":true},\"mode\":\"lines\",\"type\":\"scatter\",\"x\":[2,3,3,2],\"xaxis\":\"x\",\"y\":[3,3,4,3],\"yaxis\":\"y\"},{\"fill\":\"toself\",\"fillcolor\":\"rgb(0, 0, 0)\",\"line\":{\"color\":\"#222222\",\"width\":1},\"marker\":{\"cmax\":1238.2841030156612,\"cmin\":0,\"color\":0.0,\"coloraxis\":\"coloraxis\",\"showscale\":true},\"mode\":\"lines\",\"type\":\"scatter\",\"x\":[3,3,4,3],\"xaxis\":\"x\",\"y\":[3,4,4,3],\"yaxis\":\"y\"},{\"fill\":\"toself\",\"fillcolor\":\"rgb(0, 0, 0)\",\"line\":{\"color\":\"#222222\",\"width\":1},\"marker\":{\"cmax\":699.3438675676255,\"cmin\":0,\"color\":0.0,\"coloraxis\":\"coloraxis2\",\"showscale\":true},\"mode\":\"lines\",\"type\":\"scatter\",\"x\":[3,4,4,3],\"xaxis\":\"x\",\"y\":[3,3,4,3],\"yaxis\":\"y\"},{\"fill\":\"toself\",\"fillcolor\":\"rgb(43, 78, 34)\",\"line\":{\"color\":\"#222222\",\"width\":1},\"marker\":{\"cmax\":1238.2841030156612,\"cmin\":0,\"color\":597.8820919199934,\"coloraxis\":\"coloraxis\",\"showscale\":true},\"mode\":\"lines\",\"type\":\"scatter\",\"x\":[4,4,5,4],\"xaxis\":\"x\",\"y\":[3,4,4,3],\"yaxis\":\"y\"},{\"fill\":\"toself\",\"fillcolor\":\"rgb(54, 38, 50)\",\"line\":{\"color\":\"#222222\",\"width\":1},\"marker\":{\"cmax\":699.3438675676255,\"cmin\":0,\"color\":216.18542145507698,\"coloraxis\":\"coloraxis2\",\"showscale\":true},\"mode\":\"lines\",\"type\":\"scatter\",\"x\":[4,5,5,4],\"xaxis\":\"x\",\"y\":[3,3,4,3],\"yaxis\":\"y\"},{\"fill\":\"toself\",\"fillcolor\":\"rgb(27, 50, 22)\",\"line\":{\"color\":\"#222222\",\"width\":1},\"marker\":{\"cmax\":1238.2841030156612,\"cmin\":0,\"color\":381.3383791247718,\"coloraxis\":\"coloraxis\",\"showscale\":true},\"mode\":\"lines\",\"type\":\"scatter\",\"x\":[5,5,6,5],\"xaxis\":\"x\",\"y\":[3,4,4,3],\"yaxis\":\"y\"},{\"fill\":\"toself\",\"fillcolor\":\"rgb(28, 19, 25)\",\"line\":{\"color\":\"#222222\",\"width\":1},\"marker\":{\"cmax\":699.3438675676255,\"cmin\":0,\"color\":110.13849920635032,\"coloraxis\":\"coloraxis2\",\"showscale\":true},\"mode\":\"lines\",\"type\":\"scatter\",\"x\":[5,6,6,5],\"xaxis\":\"x\",\"y\":[3,3,4,3],\"yaxis\":\"y\"},{\"fill\":\"toself\",\"fillcolor\":\"rgb(40, 73, 32)\",\"line\":{\"color\":\"#222222\",\"width\":1},\"marker\":{\"cmax\":1238.2841030156612,\"cmin\":0,\"color\":559.3213575834127,\"coloraxis\":\"coloraxis\",\"showscale\":true},\"mode\":\"lines\",\"type\":\"scatter\",\"x\":[6,6,7,6],\"xaxis\":\"x\",\"y\":[3,4,4,3],\"yaxis\":\"y\"},{\"fill\":\"toself\",\"fillcolor\":\"rgb(49, 34, 45)\",\"line\":{\"color\":\"#222222\",\"width\":1},\"marker\":{\"cmax\":699.3438675676255,\"cmin\":0,\"color\":193.34422671372081,\"coloraxis\":\"coloraxis2\",\"showscale\":true},\"mode\":\"lines\",\"type\":\"scatter\",\"x\":[6,7,7,6],\"xaxis\":\"x\",\"y\":[3,3,4,3],\"yaxis\":\"y\"},{\"fill\":\"toself\",\"fillcolor\":\"rgb(0, 0, 0)\",\"line\":{\"color\":\"#222222\",\"width\":1},\"marker\":{\"cmax\":1238.2841030156612,\"cmin\":0,\"color\":0.0,\"coloraxis\":\"coloraxis\",\"showscale\":true},\"mode\":\"lines\",\"type\":\"scatter\",\"x\":[7,7,8,7],\"xaxis\":\"x\",\"y\":[3,4,4,3],\"yaxis\":\"y\"},{\"fill\":\"toself\",\"fillcolor\":\"rgb(0, 0, 0)\",\"line\":{\"color\":\"#222222\",\"width\":1},\"marker\":{\"cmax\":699.3438675676255,\"cmin\":0,\"color\":0.0,\"coloraxis\":\"coloraxis2\",\"showscale\":true},\"mode\":\"lines\",\"type\":\"scatter\",\"x\":[7,8,8,7],\"xaxis\":\"x\",\"y\":[3,3,4,3],\"yaxis\":\"y\"},{\"fill\":\"toself\",\"fillcolor\":\"rgb(0, 0, 0)\",\"line\":{\"color\":\"#222222\",\"width\":1},\"marker\":{\"cmax\":1238.2841030156612,\"cmin\":0,\"color\":0.0,\"coloraxis\":\"coloraxis\",\"showscale\":true},\"mode\":\"lines\",\"type\":\"scatter\",\"x\":[8,8,9,8],\"xaxis\":\"x\",\"y\":[3,4,4,3],\"yaxis\":\"y\"},{\"fill\":\"toself\",\"fillcolor\":\"rgb(0, 0, 0)\",\"line\":{\"color\":\"#222222\",\"width\":1},\"marker\":{\"cmax\":699.3438675676255,\"cmin\":0,\"color\":0.0,\"coloraxis\":\"coloraxis2\",\"showscale\":true},\"mode\":\"lines\",\"type\":\"scatter\",\"x\":[8,9,9,8],\"xaxis\":\"x\",\"y\":[3,3,4,3],\"yaxis\":\"y\"},{\"fill\":\"toself\",\"fillcolor\":\"rgb(0, 0, 0)\",\"line\":{\"color\":\"#222222\",\"width\":1},\"marker\":{\"cmax\":1238.2841030156612,\"cmin\":0,\"color\":0.0,\"coloraxis\":\"coloraxis\",\"showscale\":true},\"mode\":\"lines\",\"type\":\"scatter\",\"x\":[9,9,10,9],\"xaxis\":\"x\",\"y\":[3,4,4,3],\"yaxis\":\"y\"},{\"fill\":\"toself\",\"fillcolor\":\"rgb(0, 0, 0)\",\"line\":{\"color\":\"#222222\",\"width\":1},\"marker\":{\"cmax\":699.3438675676255,\"cmin\":0,\"color\":0.0,\"coloraxis\":\"coloraxis2\",\"showscale\":true},\"mode\":\"lines\",\"type\":\"scatter\",\"x\":[9,10,10,9],\"xaxis\":\"x\",\"y\":[3,3,4,3],\"yaxis\":\"y\"}],                        {\"coloraxis\":{\"colorbar\":{\"title\":{\"side\":\"right\",\"text\":\"neurons recruited (%)\"}},\"colorscale\":[[0.0,\"#000004\"],[0.1111111111111111,\"#1b0c41\"],[0.2222222222222222,\"#4a0c6b\"],[0.3333333333333333,\"#781c6d\"],[0.4444444444444444,\"#a52c60\"],[0.5555555555555556,\"#cf4446\"],[0.6666666666666666,\"#ed6925\"],[0.7777777777777778,\"#fb9b06\"],[0.8888888888888888,\"#f7d13d\"],[1.0,\"#fcffa4\"]]},\"margin\":{\"b\":10,\"l\":10,\"r\":10,\"t\":10},\"showlegend\":false,\"template\":{\"data\":{\"bar\":[{\"error_x\":{\"color\":\"rgb(36,36,36)\"},\"error_y\":{\"color\":\"rgb(36,36,36)\"},\"marker\":{\"line\":{\"color\":\"white\",\"width\":0.5},\"pattern\":{\"fillmode\":\"overlay\",\"size\":10,\"solidity\":0.2}},\"type\":\"bar\"}],\"barpolar\":[{\"marker\":{\"line\":{\"color\":\"white\",\"width\":0.5},\"pattern\":{\"fillmode\":\"overlay\",\"size\":10,\"solidity\":0.2}},\"type\":\"barpolar\"}],\"carpet\":[{\"aaxis\":{\"endlinecolor\":\"rgb(36,36,36)\",\"gridcolor\":\"white\",\"linecolor\":\"white\",\"minorgridcolor\":\"white\",\"startlinecolor\":\"rgb(36,36,36)\"},\"baxis\":{\"endlinecolor\":\"rgb(36,36,36)\",\"gridcolor\":\"white\",\"linecolor\":\"white\",\"minorgridcolor\":\"white\",\"startlinecolor\":\"rgb(36,36,36)\"},\"type\":\"carpet\"}],\"choropleth\":[{\"colorbar\":{\"outlinewidth\":1,\"tickcolor\":\"rgb(36,36,36)\",\"ticks\":\"outside\"},\"type\":\"choropleth\"}],\"contour\":[{\"colorbar\":{\"outlinewidth\":1,\"tickcolor\":\"rgb(36,36,36)\",\"ticks\":\"outside\"},\"colorscale\":[[0.0,\"#440154\"],[0.1111111111111111,\"#482878\"],[0.2222222222222222,\"#3e4989\"],[0.3333333333333333,\"#31688e\"],[0.4444444444444444,\"#26828e\"],[0.5555555555555556,\"#1f9e89\"],[0.6666666666666666,\"#35b779\"],[0.7777777777777778,\"#6ece58\"],[0.8888888888888888,\"#b5de2b\"],[1.0,\"#fde725\"]],\"type\":\"contour\"}],\"contourcarpet\":[{\"colorbar\":{\"outlinewidth\":1,\"tickcolor\":\"rgb(36,36,36)\",\"ticks\":\"outside\"},\"type\":\"contourcarpet\"}],\"heatmap\":[{\"colorbar\":{\"outlinewidth\":1,\"tickcolor\":\"rgb(36,36,36)\",\"ticks\":\"outside\"},\"colorscale\":[[0.0,\"#440154\"],[0.1111111111111111,\"#482878\"],[0.2222222222222222,\"#3e4989\"],[0.3333333333333333,\"#31688e\"],[0.4444444444444444,\"#26828e\"],[0.5555555555555556,\"#1f9e89\"],[0.6666666666666666,\"#35b779\"],[0.7777777777777778,\"#6ece58\"],[0.8888888888888888,\"#b5de2b\"],[1.0,\"#fde725\"]],\"type\":\"heatmap\"}],\"heatmapgl\":[{\"colorbar\":{\"outlinewidth\":1,\"tickcolor\":\"rgb(36,36,36)\",\"ticks\":\"outside\"},\"colorscale\":[[0.0,\"#440154\"],[0.1111111111111111,\"#482878\"],[0.2222222222222222,\"#3e4989\"],[0.3333333333333333,\"#31688e\"],[0.4444444444444444,\"#26828e\"],[0.5555555555555556,\"#1f9e89\"],[0.6666666666666666,\"#35b779\"],[0.7777777777777778,\"#6ece58\"],[0.8888888888888888,\"#b5de2b\"],[1.0,\"#fde725\"]],\"type\":\"heatmapgl\"}],\"histogram\":[{\"marker\":{\"line\":{\"color\":\"white\",\"width\":0.6}},\"type\":\"histogram\"}],\"histogram2d\":[{\"colorbar\":{\"outlinewidth\":1,\"tickcolor\":\"rgb(36,36,36)\",\"ticks\":\"outside\"},\"colorscale\":[[0.0,\"#440154\"],[0.1111111111111111,\"#482878\"],[0.2222222222222222,\"#3e4989\"],[0.3333333333333333,\"#31688e\"],[0.4444444444444444,\"#26828e\"],[0.5555555555555556,\"#1f9e89\"],[0.6666666666666666,\"#35b779\"],[0.7777777777777778,\"#6ece58\"],[0.8888888888888888,\"#b5de2b\"],[1.0,\"#fde725\"]],\"type\":\"histogram2d\"}],\"histogram2dcontour\":[{\"colorbar\":{\"outlinewidth\":1,\"tickcolor\":\"rgb(36,36,36)\",\"ticks\":\"outside\"},\"colorscale\":[[0.0,\"#440154\"],[0.1111111111111111,\"#482878\"],[0.2222222222222222,\"#3e4989\"],[0.3333333333333333,\"#31688e\"],[0.4444444444444444,\"#26828e\"],[0.5555555555555556,\"#1f9e89\"],[0.6666666666666666,\"#35b779\"],[0.7777777777777778,\"#6ece58\"],[0.8888888888888888,\"#b5de2b\"],[1.0,\"#fde725\"]],\"type\":\"histogram2dcontour\"}],\"mesh3d\":[{\"colorbar\":{\"outlinewidth\":1,\"tickcolor\":\"rgb(36,36,36)\",\"ticks\":\"outside\"},\"type\":\"mesh3d\"}],\"parcoords\":[{\"line\":{\"colorbar\":{\"outlinewidth\":1,\"tickcolor\":\"rgb(36,36,36)\",\"ticks\":\"outside\"}},\"type\":\"parcoords\"}],\"pie\":[{\"automargin\":true,\"type\":\"pie\"}],\"scatter\":[{\"marker\":{\"colorbar\":{\"outlinewidth\":1,\"tickcolor\":\"rgb(36,36,36)\",\"ticks\":\"outside\"}},\"type\":\"scatter\"}],\"scatter3d\":[{\"line\":{\"colorbar\":{\"outlinewidth\":1,\"tickcolor\":\"rgb(36,36,36)\",\"ticks\":\"outside\"}},\"marker\":{\"colorbar\":{\"outlinewidth\":1,\"tickcolor\":\"rgb(36,36,36)\",\"ticks\":\"outside\"}},\"type\":\"scatter3d\"}],\"scattercarpet\":[{\"marker\":{\"colorbar\":{\"outlinewidth\":1,\"tickcolor\":\"rgb(36,36,36)\",\"ticks\":\"outside\"}},\"type\":\"scattercarpet\"}],\"scattergeo\":[{\"marker\":{\"colorbar\":{\"outlinewidth\":1,\"tickcolor\":\"rgb(36,36,36)\",\"ticks\":\"outside\"}},\"type\":\"scattergeo\"}],\"scattergl\":[{\"marker\":{\"colorbar\":{\"outlinewidth\":1,\"tickcolor\":\"rgb(36,36,36)\",\"ticks\":\"outside\"}},\"type\":\"scattergl\"}],\"scattermapbox\":[{\"marker\":{\"colorbar\":{\"outlinewidth\":1,\"tickcolor\":\"rgb(36,36,36)\",\"ticks\":\"outside\"}},\"type\":\"scattermapbox\"}],\"scatterpolar\":[{\"marker\":{\"colorbar\":{\"outlinewidth\":1,\"tickcolor\":\"rgb(36,36,36)\",\"ticks\":\"outside\"}},\"type\":\"scatterpolar\"}],\"scatterpolargl\":[{\"marker\":{\"colorbar\":{\"outlinewidth\":1,\"tickcolor\":\"rgb(36,36,36)\",\"ticks\":\"outside\"}},\"type\":\"scatterpolargl\"}],\"scatterternary\":[{\"marker\":{\"colorbar\":{\"outlinewidth\":1,\"tickcolor\":\"rgb(36,36,36)\",\"ticks\":\"outside\"}},\"type\":\"scatterternary\"}],\"surface\":[{\"colorbar\":{\"outlinewidth\":1,\"tickcolor\":\"rgb(36,36,36)\",\"ticks\":\"outside\"},\"colorscale\":[[0.0,\"#440154\"],[0.1111111111111111,\"#482878\"],[0.2222222222222222,\"#3e4989\"],[0.3333333333333333,\"#31688e\"],[0.4444444444444444,\"#26828e\"],[0.5555555555555556,\"#1f9e89\"],[0.6666666666666666,\"#35b779\"],[0.7777777777777778,\"#6ece58\"],[0.8888888888888888,\"#b5de2b\"],[1.0,\"#fde725\"]],\"type\":\"surface\"}],\"table\":[{\"cells\":{\"fill\":{\"color\":\"rgb(237,237,237)\"},\"line\":{\"color\":\"white\"}},\"header\":{\"fill\":{\"color\":\"rgb(217,217,217)\"},\"line\":{\"color\":\"white\"}},\"type\":\"table\"}]},\"layout\":{\"annotationdefaults\":{\"arrowhead\":0,\"arrowwidth\":1},\"autotypenumbers\":\"strict\",\"coloraxis\":{\"colorbar\":{\"outlinewidth\":1,\"tickcolor\":\"rgb(36,36,36)\",\"ticks\":\"outside\"}},\"colorscale\":{\"diverging\":[[0.0,\"rgb(103,0,31)\"],[0.1,\"rgb(178,24,43)\"],[0.2,\"rgb(214,96,77)\"],[0.3,\"rgb(244,165,130)\"],[0.4,\"rgb(253,219,199)\"],[0.5,\"rgb(247,247,247)\"],[0.6,\"rgb(209,229,240)\"],[0.7,\"rgb(146,197,222)\"],[0.8,\"rgb(67,147,195)\"],[0.9,\"rgb(33,102,172)\"],[1.0,\"rgb(5,48,97)\"]],\"sequential\":[[0.0,\"#440154\"],[0.1111111111111111,\"#482878\"],[0.2222222222222222,\"#3e4989\"],[0.3333333333333333,\"#31688e\"],[0.4444444444444444,\"#26828e\"],[0.5555555555555556,\"#1f9e89\"],[0.6666666666666666,\"#35b779\"],[0.7777777777777778,\"#6ece58\"],[0.8888888888888888,\"#b5de2b\"],[1.0,\"#fde725\"]],\"sequentialminus\":[[0.0,\"#440154\"],[0.1111111111111111,\"#482878\"],[0.2222222222222222,\"#3e4989\"],[0.3333333333333333,\"#31688e\"],[0.4444444444444444,\"#26828e\"],[0.5555555555555556,\"#1f9e89\"],[0.6666666666666666,\"#35b779\"],[0.7777777777777778,\"#6ece58\"],[0.8888888888888888,\"#b5de2b\"],[1.0,\"#fde725\"]]},\"colorway\":[\"#1F77B4\",\"#FF7F0E\",\"#2CA02C\",\"#D62728\",\"#9467BD\",\"#8C564B\",\"#E377C2\",\"#7F7F7F\",\"#BCBD22\",\"#17BECF\"],\"font\":{\"color\":\"rgb(36,36,36)\"},\"geo\":{\"bgcolor\":\"white\",\"lakecolor\":\"white\",\"landcolor\":\"white\",\"showlakes\":true,\"showland\":true,\"subunitcolor\":\"white\"},\"hoverlabel\":{\"align\":\"left\"},\"hovermode\":\"closest\",\"mapbox\":{\"style\":\"light\"},\"paper_bgcolor\":\"white\",\"plot_bgcolor\":\"white\",\"polar\":{\"angularaxis\":{\"gridcolor\":\"rgb(232,232,232)\",\"linecolor\":\"rgb(36,36,36)\",\"showgrid\":false,\"showline\":true,\"ticks\":\"outside\"},\"bgcolor\":\"white\",\"radialaxis\":{\"gridcolor\":\"rgb(232,232,232)\",\"linecolor\":\"rgb(36,36,36)\",\"showgrid\":false,\"showline\":true,\"ticks\":\"outside\"}},\"scene\":{\"xaxis\":{\"backgroundcolor\":\"white\",\"gridcolor\":\"rgb(232,232,232)\",\"gridwidth\":2,\"linecolor\":\"rgb(36,36,36)\",\"showbackground\":true,\"showgrid\":false,\"showline\":true,\"ticks\":\"outside\",\"zeroline\":false,\"zerolinecolor\":\"rgb(36,36,36)\"},\"yaxis\":{\"backgroundcolor\":\"white\",\"gridcolor\":\"rgb(232,232,232)\",\"gridwidth\":2,\"linecolor\":\"rgb(36,36,36)\",\"showbackground\":true,\"showgrid\":false,\"showline\":true,\"ticks\":\"outside\",\"zeroline\":false,\"zerolinecolor\":\"rgb(36,36,36)\"},\"zaxis\":{\"backgroundcolor\":\"white\",\"gridcolor\":\"rgb(232,232,232)\",\"gridwidth\":2,\"linecolor\":\"rgb(36,36,36)\",\"showbackground\":true,\"showgrid\":false,\"showline\":true,\"ticks\":\"outside\",\"zeroline\":false,\"zerolinecolor\":\"rgb(36,36,36)\"}},\"shapedefaults\":{\"fillcolor\":\"black\",\"line\":{\"width\":0},\"opacity\":0.3},\"ternary\":{\"aaxis\":{\"gridcolor\":\"rgb(232,232,232)\",\"linecolor\":\"rgb(36,36,36)\",\"showgrid\":false,\"showline\":true,\"ticks\":\"outside\"},\"baxis\":{\"gridcolor\":\"rgb(232,232,232)\",\"linecolor\":\"rgb(36,36,36)\",\"showgrid\":false,\"showline\":true,\"ticks\":\"outside\"},\"bgcolor\":\"white\",\"caxis\":{\"gridcolor\":\"rgb(232,232,232)\",\"linecolor\":\"rgb(36,36,36)\",\"showgrid\":false,\"showline\":true,\"ticks\":\"outside\"}},\"title\":{\"x\":0.05},\"xaxis\":{\"automargin\":true,\"gridcolor\":\"rgb(232,232,232)\",\"linecolor\":\"rgb(36,36,36)\",\"showgrid\":false,\"showline\":true,\"ticks\":\"outside\",\"title\":{\"standoff\":15},\"zeroline\":false,\"zerolinecolor\":\"rgb(36,36,36)\"},\"yaxis\":{\"automargin\":true,\"gridcolor\":\"rgb(232,232,232)\",\"linecolor\":\"rgb(36,36,36)\",\"showgrid\":false,\"showline\":true,\"ticks\":\"outside\",\"title\":{\"standoff\":15},\"zeroline\":false,\"zerolinecolor\":\"rgb(36,36,36)\"}}},\"xaxis\":{\"anchor\":\"y\",\"constrain\":\"domain\",\"domain\":[0.0,1.0],\"scaleanchor\":\"y\",\"tickmode\":\"array\",\"ticktext\":[\"0_1\",\"0_2\",\"0_3\",\"0_4\",\"1_2\",\"1_3\",\"1_4\",\"2_3\",\"2_4\",\"3_4\"],\"tickvals\":[0.5,1.5,2.5,3.5,4.5,5.5,6.5,7.5,8.5,9.5],\"title\":{\"text\":\"context pairs\"}},\"yaxis\":{\"anchor\":\"x\",\"constrain\":\"domain\",\"domain\":[0.0,1.0],\"range\":[0,4],\"tickmode\":\"array\",\"ticktext\":[1,2,3,4],\"tickvals\":[0.5,1.5,2.5,3.5],\"title\":{\"text\":\"probes\"}}},                        {\"responsive\": true}                    ).then(function(){\n                            \nvar gd = document.getElementById('f3efa314-bcb0-459e-9bec-ff8c73c01908');\nvar x = new MutationObserver(function (mutations, observer) {{\n        var display = window.getComputedStyle(gd).display;\n        if (!display || display === 'none') {{\n            console.log([gd, 'removed!']);\n            Plotly.purge(gd);\n            observer.disconnect();\n        }}\n}});\n\n// Listen for the removal of the full notebook cells\nvar notebookContainer = gd.closest('#notebook-container');\nif (notebookContainer) {{\n    x.observe(notebookContainer, {childList: true});\n}}\n\n// Listen for the clearing of the current output cell\nvar outputEl = gd.closest('.output');\nif (outputEl) {{\n    x.observe(outputEl, {childList: true});\n}}\n\n                        })                };                });            </script>        </div>"
     },
     "metadata": {},
     "output_type": "display_data"
    }
   ],
   "source": [
    "fig = make_subplots(1,1)\n",
    "width = 6 # in inches\n",
    "heigh = width * 4/9 # aspect ratio of heatmap\n",
    "_ = fig.update_layout(template='simple_white',\n",
    "                      margin=dict(l=10, r=10, t=10, b=10),\n",
    "                      # width=round(ppi*width), height=round(ppi*heigh),\n",
    "                      showlegend=False)\n",
    "\n",
    "row, col = 1, 1\n",
    "\n",
    "# turns long format data into an array with dimension Probe * context_pair\n",
    "to_pivot = filtered.loc[(filtered['id'] == cellid),\n",
    "                         ['context_pair', 'trans_pair', 'probe', 'metric', 'value']]\n",
    "sqr_df = to_pivot.pivot_table(index=['metric','probe'], columns=['context_pair'], values='value')\n",
    "amplitudes = sqr_df.loc[\"integral (d'*ms)\", :]\n",
    "durations = sqr_df.loc[\"center of mass (ms)\", :]\n",
    "\n",
    "# general shapes of the upper and lower triangles to be passed to Scatter x and y\n",
    "xu, yu = np.array([0,0,1,0]), np.array([0,1,1,0])\n",
    "xl, yl = np.array([0,1,1,0]), np.array([0,0,1,0])\n",
    "\n",
    "# defines colors corresponding to normalized metric values\n",
    "norm_amp = (amplitudes.values / amplitudes.values.max()).flatten()\n",
    "norm_dur = (durations.values / durations.values.max()).flatten()\n",
    "\n",
    "amp_cscale = pc.make_colorscale(['#000000', Green])\n",
    "dur_cscale = pc.make_colorscale(['#000000', Purple])\n",
    "\n",
    "amp_color = np.asarray(pc.sample_colorscale(amp_cscale, norm_amp)).reshape(amplitudes.shape)\n",
    "dur_color = np.asarray(pc.sample_colorscale(dur_cscale, norm_dur)).reshape(durations.shape)\n",
    "\n",
    "for nn, (p, c) in enumerate(np.ndindex(amplitudes.shape)):\n",
    "\n",
    "    # amplitud uppe half\n",
    "    _ = fig.add_trace(go.Scatter(x=xu+c, y=yu+p, mode='lines',\n",
    "                                 line_width=1, line_color='#222222',\n",
    "                                 fill='toself', fillcolor=amp_color[p,c],\n",
    "                                 marker=dict(color=amplitudes.values[p,c],\n",
    "                                             coloraxis='coloraxis',\n",
    "                                             cmin=0, cmax=amplitudes.values.max(),\n",
    "                                             showscale=True,\n",
    "                                             )\n",
    "                                 ),\n",
    "                      row=row, col=col)\n",
    "\n",
    "    # duration lower half\n",
    "    _ = fig.add_trace(go.Scatter(x=xl+c, y=yl+p, mode='lines',\n",
    "                                 line_width=1, line_color='#222222',\n",
    "                                 fill='toself', fillcolor=dur_color[p,c],\n",
    "                                 marker=dict(\n",
    "                                             color=durations.values[p,c],\n",
    "                                             coloraxis='coloraxis2',\n",
    "                                             cmin=0, cmax=durations.values.max(),\n",
    "                                             showscale=True,\n",
    "                                             )),\n",
    "                      row=row, col=col)\n",
    "\n",
    "# add dummy traces for their color bars\n",
    "# _ = fig.add_trace(go.Scatter(x=[None], y=[None], mode='markers',\n",
    "#                             marker=dict(colorscale=amp_cscale, showscale=True,\n",
    "#                                         cmin=0, cmax=amplitudes.values.max(),\n",
    "#                                         colorbar=dict(\n",
    "#                                             thickness=10,\n",
    "#                                             title_text=\"amplitude (d'*ms)\",\n",
    "#                                             title_side='right',\n",
    "#                                             tickangle=-90,\n",
    "#                                             xanchor='left', x=1.15))),\n",
    "#                   row=row, col=col)\n",
    "#\n",
    "# _ = fig.add_trace(go.Scatter(x=[None], y=[None], mode='markers',\n",
    "#                             marker=dict(colorscale=dur_cscale, showscale=True,\n",
    "#                                         cmin=0, cmax=durations.values.max(),\n",
    "#                                         colorbar=dict(\n",
    "#                                             thickness=10,\n",
    "#                                             title_text=\"duration (ms)\",\n",
    "#                                             title_side='right',\n",
    "#                                             tickangle=-90,\n",
    "#                                             xanchor='left', x=1))),\n",
    "#                   row=row, col=col)\n",
    "\n",
    "# highlights the example probe context_pair combination\n",
    "# ctx_idx = amplitudes.columns.to_list().index(f'{ctx_pair[0]:02}_{ctx_pair[1]:02}')\n",
    "# _ = fig.add_shape(type='rect', x0=ctx_idx-0.5, x1=ctx_idx+0.5, y0=prb_idx-0.5, y1=prb_idx+0.5,\n",
    "#                   line=dict(color='red', width=5), fillcolor='rgba(0,0,0,0)',\n",
    "#                   row=row, col=col)\n",
    "\n",
    "# strip left zero padding for better display\n",
    "ticktexts = [f\"{int(pp.split('_')[0])}_{int(pp.split('_')[1])}\" for pp in amplitudes.columns.to_list()]\n",
    "_ = fig.update_xaxes(title=dict(text='context pairs'),\n",
    "                     anchor='y', scaleanchor='y',\n",
    "                     constrain='domain',\n",
    "                     tickmode = 'array',\n",
    "                     tickvals=np.arange(amplitudes.columns.size)+0.5,\n",
    "                     ticktext = ticktexts)\n",
    "\n",
    "_ = fig.update_yaxes(title=dict(text='probes'), anchor = \"x\",\n",
    "                     constrain='domain',\n",
    "                     range=[0, amplitudes.index.size],\n",
    "                     tickmode = 'array',\n",
    "                     tickvals = np.arange(amplitudes.index.size)+0.5,\n",
    "                     ticktext = amplitudes.index.to_list()\n",
    "                     )\n",
    "\n",
    "fig.update_layout(coloraxis=dict(colorscale='inferno',\n",
    "                                 colorbar=dict(\n",
    "                                     title=dict(\n",
    "                                         text='neurons recruited (%)',\n",
    "                                         side='right'\n",
    "                                     ))))\n",
    "\n",
    "fig.show()"
   ],
   "metadata": {
    "collapsed": false,
    "pycharm": {
     "name": "#%%\n"
    }
   }
  },
  {
   "cell_type": "code",
   "execution_count": 93,
   "outputs": [
    {
     "data": {
      "application/vnd.plotly.v1+json": {
       "config": {
        "plotlyServerURL": "https://plot.ly"
       },
       "data": [
        {
         "marker": {
          "cmax": 1238.2841030156612,
          "cmin": 0,
          "color": 0.0,
          "coloraxis": "coloraxis",
          "showscale": false
         },
         "mode": "markers",
         "type": "scatter",
         "x": [
          8.5,
          8.5,
          9.5,
          8.5
         ],
         "y": [
          2.5,
          3.5,
          3.5,
          2.5
         ]
        }
       ],
       "layout": {
        "template": {
         "data": {
          "bar": [
           {
            "error_x": {
             "color": "#2a3f5f"
            },
            "error_y": {
             "color": "#2a3f5f"
            },
            "marker": {
             "line": {
              "color": "#E5ECF6",
              "width": 0.5
             },
             "pattern": {
              "fillmode": "overlay",
              "size": 10,
              "solidity": 0.2
             }
            },
            "type": "bar"
           }
          ],
          "barpolar": [
           {
            "marker": {
             "line": {
              "color": "#E5ECF6",
              "width": 0.5
             },
             "pattern": {
              "fillmode": "overlay",
              "size": 10,
              "solidity": 0.2
             }
            },
            "type": "barpolar"
           }
          ],
          "carpet": [
           {
            "aaxis": {
             "endlinecolor": "#2a3f5f",
             "gridcolor": "white",
             "linecolor": "white",
             "minorgridcolor": "white",
             "startlinecolor": "#2a3f5f"
            },
            "baxis": {
             "endlinecolor": "#2a3f5f",
             "gridcolor": "white",
             "linecolor": "white",
             "minorgridcolor": "white",
             "startlinecolor": "#2a3f5f"
            },
            "type": "carpet"
           }
          ],
          "choropleth": [
           {
            "colorbar": {
             "outlinewidth": 0,
             "ticks": ""
            },
            "type": "choropleth"
           }
          ],
          "contour": [
           {
            "colorbar": {
             "outlinewidth": 0,
             "ticks": ""
            },
            "colorscale": [
             [
              0.0,
              "#0d0887"
             ],
             [
              0.1111111111111111,
              "#46039f"
             ],
             [
              0.2222222222222222,
              "#7201a8"
             ],
             [
              0.3333333333333333,
              "#9c179e"
             ],
             [
              0.4444444444444444,
              "#bd3786"
             ],
             [
              0.5555555555555556,
              "#d8576b"
             ],
             [
              0.6666666666666666,
              "#ed7953"
             ],
             [
              0.7777777777777778,
              "#fb9f3a"
             ],
             [
              0.8888888888888888,
              "#fdca26"
             ],
             [
              1.0,
              "#f0f921"
             ]
            ],
            "type": "contour"
           }
          ],
          "contourcarpet": [
           {
            "colorbar": {
             "outlinewidth": 0,
             "ticks": ""
            },
            "type": "contourcarpet"
           }
          ],
          "heatmap": [
           {
            "colorbar": {
             "outlinewidth": 0,
             "ticks": ""
            },
            "colorscale": [
             [
              0.0,
              "#0d0887"
             ],
             [
              0.1111111111111111,
              "#46039f"
             ],
             [
              0.2222222222222222,
              "#7201a8"
             ],
             [
              0.3333333333333333,
              "#9c179e"
             ],
             [
              0.4444444444444444,
              "#bd3786"
             ],
             [
              0.5555555555555556,
              "#d8576b"
             ],
             [
              0.6666666666666666,
              "#ed7953"
             ],
             [
              0.7777777777777778,
              "#fb9f3a"
             ],
             [
              0.8888888888888888,
              "#fdca26"
             ],
             [
              1.0,
              "#f0f921"
             ]
            ],
            "type": "heatmap"
           }
          ],
          "heatmapgl": [
           {
            "colorbar": {
             "outlinewidth": 0,
             "ticks": ""
            },
            "colorscale": [
             [
              0.0,
              "#0d0887"
             ],
             [
              0.1111111111111111,
              "#46039f"
             ],
             [
              0.2222222222222222,
              "#7201a8"
             ],
             [
              0.3333333333333333,
              "#9c179e"
             ],
             [
              0.4444444444444444,
              "#bd3786"
             ],
             [
              0.5555555555555556,
              "#d8576b"
             ],
             [
              0.6666666666666666,
              "#ed7953"
             ],
             [
              0.7777777777777778,
              "#fb9f3a"
             ],
             [
              0.8888888888888888,
              "#fdca26"
             ],
             [
              1.0,
              "#f0f921"
             ]
            ],
            "type": "heatmapgl"
           }
          ],
          "histogram": [
           {
            "marker": {
             "pattern": {
              "fillmode": "overlay",
              "size": 10,
              "solidity": 0.2
             }
            },
            "type": "histogram"
           }
          ],
          "histogram2d": [
           {
            "colorbar": {
             "outlinewidth": 0,
             "ticks": ""
            },
            "colorscale": [
             [
              0.0,
              "#0d0887"
             ],
             [
              0.1111111111111111,
              "#46039f"
             ],
             [
              0.2222222222222222,
              "#7201a8"
             ],
             [
              0.3333333333333333,
              "#9c179e"
             ],
             [
              0.4444444444444444,
              "#bd3786"
             ],
             [
              0.5555555555555556,
              "#d8576b"
             ],
             [
              0.6666666666666666,
              "#ed7953"
             ],
             [
              0.7777777777777778,
              "#fb9f3a"
             ],
             [
              0.8888888888888888,
              "#fdca26"
             ],
             [
              1.0,
              "#f0f921"
             ]
            ],
            "type": "histogram2d"
           }
          ],
          "histogram2dcontour": [
           {
            "colorbar": {
             "outlinewidth": 0,
             "ticks": ""
            },
            "colorscale": [
             [
              0.0,
              "#0d0887"
             ],
             [
              0.1111111111111111,
              "#46039f"
             ],
             [
              0.2222222222222222,
              "#7201a8"
             ],
             [
              0.3333333333333333,
              "#9c179e"
             ],
             [
              0.4444444444444444,
              "#bd3786"
             ],
             [
              0.5555555555555556,
              "#d8576b"
             ],
             [
              0.6666666666666666,
              "#ed7953"
             ],
             [
              0.7777777777777778,
              "#fb9f3a"
             ],
             [
              0.8888888888888888,
              "#fdca26"
             ],
             [
              1.0,
              "#f0f921"
             ]
            ],
            "type": "histogram2dcontour"
           }
          ],
          "mesh3d": [
           {
            "colorbar": {
             "outlinewidth": 0,
             "ticks": ""
            },
            "type": "mesh3d"
           }
          ],
          "parcoords": [
           {
            "line": {
             "colorbar": {
              "outlinewidth": 0,
              "ticks": ""
             }
            },
            "type": "parcoords"
           }
          ],
          "pie": [
           {
            "automargin": true,
            "type": "pie"
           }
          ],
          "scatter": [
           {
            "marker": {
             "colorbar": {
              "outlinewidth": 0,
              "ticks": ""
             }
            },
            "type": "scatter"
           }
          ],
          "scatter3d": [
           {
            "line": {
             "colorbar": {
              "outlinewidth": 0,
              "ticks": ""
             }
            },
            "marker": {
             "colorbar": {
              "outlinewidth": 0,
              "ticks": ""
             }
            },
            "type": "scatter3d"
           }
          ],
          "scattercarpet": [
           {
            "marker": {
             "colorbar": {
              "outlinewidth": 0,
              "ticks": ""
             }
            },
            "type": "scattercarpet"
           }
          ],
          "scattergeo": [
           {
            "marker": {
             "colorbar": {
              "outlinewidth": 0,
              "ticks": ""
             }
            },
            "type": "scattergeo"
           }
          ],
          "scattergl": [
           {
            "marker": {
             "colorbar": {
              "outlinewidth": 0,
              "ticks": ""
             }
            },
            "type": "scattergl"
           }
          ],
          "scattermapbox": [
           {
            "marker": {
             "colorbar": {
              "outlinewidth": 0,
              "ticks": ""
             }
            },
            "type": "scattermapbox"
           }
          ],
          "scatterpolar": [
           {
            "marker": {
             "colorbar": {
              "outlinewidth": 0,
              "ticks": ""
             }
            },
            "type": "scatterpolar"
           }
          ],
          "scatterpolargl": [
           {
            "marker": {
             "colorbar": {
              "outlinewidth": 0,
              "ticks": ""
             }
            },
            "type": "scatterpolargl"
           }
          ],
          "scatterternary": [
           {
            "marker": {
             "colorbar": {
              "outlinewidth": 0,
              "ticks": ""
             }
            },
            "type": "scatterternary"
           }
          ],
          "surface": [
           {
            "colorbar": {
             "outlinewidth": 0,
             "ticks": ""
            },
            "colorscale": [
             [
              0.0,
              "#0d0887"
             ],
             [
              0.1111111111111111,
              "#46039f"
             ],
             [
              0.2222222222222222,
              "#7201a8"
             ],
             [
              0.3333333333333333,
              "#9c179e"
             ],
             [
              0.4444444444444444,
              "#bd3786"
             ],
             [
              0.5555555555555556,
              "#d8576b"
             ],
             [
              0.6666666666666666,
              "#ed7953"
             ],
             [
              0.7777777777777778,
              "#fb9f3a"
             ],
             [
              0.8888888888888888,
              "#fdca26"
             ],
             [
              1.0,
              "#f0f921"
             ]
            ],
            "type": "surface"
           }
          ],
          "table": [
           {
            "cells": {
             "fill": {
              "color": "#EBF0F8"
             },
             "line": {
              "color": "white"
             }
            },
            "header": {
             "fill": {
              "color": "#C8D4E3"
             },
             "line": {
              "color": "white"
             }
            },
            "type": "table"
           }
          ]
         },
         "layout": {
          "annotationdefaults": {
           "arrowcolor": "#2a3f5f",
           "arrowhead": 0,
           "arrowwidth": 1
          },
          "autotypenumbers": "strict",
          "coloraxis": {
           "colorbar": {
            "outlinewidth": 0,
            "ticks": ""
           }
          },
          "colorscale": {
           "diverging": [
            [
             0,
             "#8e0152"
            ],
            [
             0.1,
             "#c51b7d"
            ],
            [
             0.2,
             "#de77ae"
            ],
            [
             0.3,
             "#f1b6da"
            ],
            [
             0.4,
             "#fde0ef"
            ],
            [
             0.5,
             "#f7f7f7"
            ],
            [
             0.6,
             "#e6f5d0"
            ],
            [
             0.7,
             "#b8e186"
            ],
            [
             0.8,
             "#7fbc41"
            ],
            [
             0.9,
             "#4d9221"
            ],
            [
             1,
             "#276419"
            ]
           ],
           "sequential": [
            [
             0.0,
             "#0d0887"
            ],
            [
             0.1111111111111111,
             "#46039f"
            ],
            [
             0.2222222222222222,
             "#7201a8"
            ],
            [
             0.3333333333333333,
             "#9c179e"
            ],
            [
             0.4444444444444444,
             "#bd3786"
            ],
            [
             0.5555555555555556,
             "#d8576b"
            ],
            [
             0.6666666666666666,
             "#ed7953"
            ],
            [
             0.7777777777777778,
             "#fb9f3a"
            ],
            [
             0.8888888888888888,
             "#fdca26"
            ],
            [
             1.0,
             "#f0f921"
            ]
           ],
           "sequentialminus": [
            [
             0.0,
             "#0d0887"
            ],
            [
             0.1111111111111111,
             "#46039f"
            ],
            [
             0.2222222222222222,
             "#7201a8"
            ],
            [
             0.3333333333333333,
             "#9c179e"
            ],
            [
             0.4444444444444444,
             "#bd3786"
            ],
            [
             0.5555555555555556,
             "#d8576b"
            ],
            [
             0.6666666666666666,
             "#ed7953"
            ],
            [
             0.7777777777777778,
             "#fb9f3a"
            ],
            [
             0.8888888888888888,
             "#fdca26"
            ],
            [
             1.0,
             "#f0f921"
            ]
           ]
          },
          "colorway": [
           "#636efa",
           "#EF553B",
           "#00cc96",
           "#ab63fa",
           "#FFA15A",
           "#19d3f3",
           "#FF6692",
           "#B6E880",
           "#FF97FF",
           "#FECB52"
          ],
          "font": {
           "color": "#2a3f5f"
          },
          "geo": {
           "bgcolor": "white",
           "lakecolor": "white",
           "landcolor": "#E5ECF6",
           "showlakes": true,
           "showland": true,
           "subunitcolor": "white"
          },
          "hoverlabel": {
           "align": "left"
          },
          "hovermode": "closest",
          "mapbox": {
           "style": "light"
          },
          "paper_bgcolor": "white",
          "plot_bgcolor": "#E5ECF6",
          "polar": {
           "angularaxis": {
            "gridcolor": "white",
            "linecolor": "white",
            "ticks": ""
           },
           "bgcolor": "#E5ECF6",
           "radialaxis": {
            "gridcolor": "white",
            "linecolor": "white",
            "ticks": ""
           }
          },
          "scene": {
           "xaxis": {
            "backgroundcolor": "#E5ECF6",
            "gridcolor": "white",
            "gridwidth": 2,
            "linecolor": "white",
            "showbackground": true,
            "ticks": "",
            "zerolinecolor": "white"
           },
           "yaxis": {
            "backgroundcolor": "#E5ECF6",
            "gridcolor": "white",
            "gridwidth": 2,
            "linecolor": "white",
            "showbackground": true,
            "ticks": "",
            "zerolinecolor": "white"
           },
           "zaxis": {
            "backgroundcolor": "#E5ECF6",
            "gridcolor": "white",
            "gridwidth": 2,
            "linecolor": "white",
            "showbackground": true,
            "ticks": "",
            "zerolinecolor": "white"
           }
          },
          "shapedefaults": {
           "line": {
            "color": "#2a3f5f"
           }
          },
          "ternary": {
           "aaxis": {
            "gridcolor": "white",
            "linecolor": "white",
            "ticks": ""
           },
           "baxis": {
            "gridcolor": "white",
            "linecolor": "white",
            "ticks": ""
           },
           "bgcolor": "#E5ECF6",
           "caxis": {
            "gridcolor": "white",
            "linecolor": "white",
            "ticks": ""
           }
          },
          "title": {
           "x": 0.05
          },
          "xaxis": {
           "automargin": true,
           "gridcolor": "white",
           "linecolor": "white",
           "ticks": "",
           "title": {
            "standoff": 15
           },
           "zerolinecolor": "white",
           "zerolinewidth": 2
          },
          "yaxis": {
           "automargin": true,
           "gridcolor": "white",
           "linecolor": "white",
           "ticks": "",
           "title": {
            "standoff": 15
           },
           "zerolinecolor": "white",
           "zerolinewidth": 2
          }
         }
        }
       }
      },
      "text/html": "<div>                            <div id=\"ef6b731e-72ef-42ca-a061-bf1d4c72b5ec\" class=\"plotly-graph-div\" style=\"height:525px; width:100%;\"></div>            <script type=\"text/javascript\">                require([\"plotly\"], function(Plotly) {                    window.PLOTLYENV=window.PLOTLYENV || {};                                    if (document.getElementById(\"ef6b731e-72ef-42ca-a061-bf1d4c72b5ec\")) {                    Plotly.newPlot(                        \"ef6b731e-72ef-42ca-a061-bf1d4c72b5ec\",                        [{\"marker\":{\"cmax\":1238.2841030156612,\"cmin\":0,\"color\":0.0,\"coloraxis\":\"coloraxis\",\"showscale\":false},\"mode\":\"markers\",\"type\":\"scatter\",\"x\":[8.5,8.5,9.5,8.5],\"y\":[2.5,3.5,3.5,2.5]}],                        {\"template\":{\"data\":{\"bar\":[{\"error_x\":{\"color\":\"#2a3f5f\"},\"error_y\":{\"color\":\"#2a3f5f\"},\"marker\":{\"line\":{\"color\":\"#E5ECF6\",\"width\":0.5},\"pattern\":{\"fillmode\":\"overlay\",\"size\":10,\"solidity\":0.2}},\"type\":\"bar\"}],\"barpolar\":[{\"marker\":{\"line\":{\"color\":\"#E5ECF6\",\"width\":0.5},\"pattern\":{\"fillmode\":\"overlay\",\"size\":10,\"solidity\":0.2}},\"type\":\"barpolar\"}],\"carpet\":[{\"aaxis\":{\"endlinecolor\":\"#2a3f5f\",\"gridcolor\":\"white\",\"linecolor\":\"white\",\"minorgridcolor\":\"white\",\"startlinecolor\":\"#2a3f5f\"},\"baxis\":{\"endlinecolor\":\"#2a3f5f\",\"gridcolor\":\"white\",\"linecolor\":\"white\",\"minorgridcolor\":\"white\",\"startlinecolor\":\"#2a3f5f\"},\"type\":\"carpet\"}],\"choropleth\":[{\"colorbar\":{\"outlinewidth\":0,\"ticks\":\"\"},\"type\":\"choropleth\"}],\"contour\":[{\"colorbar\":{\"outlinewidth\":0,\"ticks\":\"\"},\"colorscale\":[[0.0,\"#0d0887\"],[0.1111111111111111,\"#46039f\"],[0.2222222222222222,\"#7201a8\"],[0.3333333333333333,\"#9c179e\"],[0.4444444444444444,\"#bd3786\"],[0.5555555555555556,\"#d8576b\"],[0.6666666666666666,\"#ed7953\"],[0.7777777777777778,\"#fb9f3a\"],[0.8888888888888888,\"#fdca26\"],[1.0,\"#f0f921\"]],\"type\":\"contour\"}],\"contourcarpet\":[{\"colorbar\":{\"outlinewidth\":0,\"ticks\":\"\"},\"type\":\"contourcarpet\"}],\"heatmap\":[{\"colorbar\":{\"outlinewidth\":0,\"ticks\":\"\"},\"colorscale\":[[0.0,\"#0d0887\"],[0.1111111111111111,\"#46039f\"],[0.2222222222222222,\"#7201a8\"],[0.3333333333333333,\"#9c179e\"],[0.4444444444444444,\"#bd3786\"],[0.5555555555555556,\"#d8576b\"],[0.6666666666666666,\"#ed7953\"],[0.7777777777777778,\"#fb9f3a\"],[0.8888888888888888,\"#fdca26\"],[1.0,\"#f0f921\"]],\"type\":\"heatmap\"}],\"heatmapgl\":[{\"colorbar\":{\"outlinewidth\":0,\"ticks\":\"\"},\"colorscale\":[[0.0,\"#0d0887\"],[0.1111111111111111,\"#46039f\"],[0.2222222222222222,\"#7201a8\"],[0.3333333333333333,\"#9c179e\"],[0.4444444444444444,\"#bd3786\"],[0.5555555555555556,\"#d8576b\"],[0.6666666666666666,\"#ed7953\"],[0.7777777777777778,\"#fb9f3a\"],[0.8888888888888888,\"#fdca26\"],[1.0,\"#f0f921\"]],\"type\":\"heatmapgl\"}],\"histogram\":[{\"marker\":{\"pattern\":{\"fillmode\":\"overlay\",\"size\":10,\"solidity\":0.2}},\"type\":\"histogram\"}],\"histogram2d\":[{\"colorbar\":{\"outlinewidth\":0,\"ticks\":\"\"},\"colorscale\":[[0.0,\"#0d0887\"],[0.1111111111111111,\"#46039f\"],[0.2222222222222222,\"#7201a8\"],[0.3333333333333333,\"#9c179e\"],[0.4444444444444444,\"#bd3786\"],[0.5555555555555556,\"#d8576b\"],[0.6666666666666666,\"#ed7953\"],[0.7777777777777778,\"#fb9f3a\"],[0.8888888888888888,\"#fdca26\"],[1.0,\"#f0f921\"]],\"type\":\"histogram2d\"}],\"histogram2dcontour\":[{\"colorbar\":{\"outlinewidth\":0,\"ticks\":\"\"},\"colorscale\":[[0.0,\"#0d0887\"],[0.1111111111111111,\"#46039f\"],[0.2222222222222222,\"#7201a8\"],[0.3333333333333333,\"#9c179e\"],[0.4444444444444444,\"#bd3786\"],[0.5555555555555556,\"#d8576b\"],[0.6666666666666666,\"#ed7953\"],[0.7777777777777778,\"#fb9f3a\"],[0.8888888888888888,\"#fdca26\"],[1.0,\"#f0f921\"]],\"type\":\"histogram2dcontour\"}],\"mesh3d\":[{\"colorbar\":{\"outlinewidth\":0,\"ticks\":\"\"},\"type\":\"mesh3d\"}],\"parcoords\":[{\"line\":{\"colorbar\":{\"outlinewidth\":0,\"ticks\":\"\"}},\"type\":\"parcoords\"}],\"pie\":[{\"automargin\":true,\"type\":\"pie\"}],\"scatter\":[{\"marker\":{\"colorbar\":{\"outlinewidth\":0,\"ticks\":\"\"}},\"type\":\"scatter\"}],\"scatter3d\":[{\"line\":{\"colorbar\":{\"outlinewidth\":0,\"ticks\":\"\"}},\"marker\":{\"colorbar\":{\"outlinewidth\":0,\"ticks\":\"\"}},\"type\":\"scatter3d\"}],\"scattercarpet\":[{\"marker\":{\"colorbar\":{\"outlinewidth\":0,\"ticks\":\"\"}},\"type\":\"scattercarpet\"}],\"scattergeo\":[{\"marker\":{\"colorbar\":{\"outlinewidth\":0,\"ticks\":\"\"}},\"type\":\"scattergeo\"}],\"scattergl\":[{\"marker\":{\"colorbar\":{\"outlinewidth\":0,\"ticks\":\"\"}},\"type\":\"scattergl\"}],\"scattermapbox\":[{\"marker\":{\"colorbar\":{\"outlinewidth\":0,\"ticks\":\"\"}},\"type\":\"scattermapbox\"}],\"scatterpolar\":[{\"marker\":{\"colorbar\":{\"outlinewidth\":0,\"ticks\":\"\"}},\"type\":\"scatterpolar\"}],\"scatterpolargl\":[{\"marker\":{\"colorbar\":{\"outlinewidth\":0,\"ticks\":\"\"}},\"type\":\"scatterpolargl\"}],\"scatterternary\":[{\"marker\":{\"colorbar\":{\"outlinewidth\":0,\"ticks\":\"\"}},\"type\":\"scatterternary\"}],\"surface\":[{\"colorbar\":{\"outlinewidth\":0,\"ticks\":\"\"},\"colorscale\":[[0.0,\"#0d0887\"],[0.1111111111111111,\"#46039f\"],[0.2222222222222222,\"#7201a8\"],[0.3333333333333333,\"#9c179e\"],[0.4444444444444444,\"#bd3786\"],[0.5555555555555556,\"#d8576b\"],[0.6666666666666666,\"#ed7953\"],[0.7777777777777778,\"#fb9f3a\"],[0.8888888888888888,\"#fdca26\"],[1.0,\"#f0f921\"]],\"type\":\"surface\"}],\"table\":[{\"cells\":{\"fill\":{\"color\":\"#EBF0F8\"},\"line\":{\"color\":\"white\"}},\"header\":{\"fill\":{\"color\":\"#C8D4E3\"},\"line\":{\"color\":\"white\"}},\"type\":\"table\"}]},\"layout\":{\"annotationdefaults\":{\"arrowcolor\":\"#2a3f5f\",\"arrowhead\":0,\"arrowwidth\":1},\"autotypenumbers\":\"strict\",\"coloraxis\":{\"colorbar\":{\"outlinewidth\":0,\"ticks\":\"\"}},\"colorscale\":{\"diverging\":[[0,\"#8e0152\"],[0.1,\"#c51b7d\"],[0.2,\"#de77ae\"],[0.3,\"#f1b6da\"],[0.4,\"#fde0ef\"],[0.5,\"#f7f7f7\"],[0.6,\"#e6f5d0\"],[0.7,\"#b8e186\"],[0.8,\"#7fbc41\"],[0.9,\"#4d9221\"],[1,\"#276419\"]],\"sequential\":[[0.0,\"#0d0887\"],[0.1111111111111111,\"#46039f\"],[0.2222222222222222,\"#7201a8\"],[0.3333333333333333,\"#9c179e\"],[0.4444444444444444,\"#bd3786\"],[0.5555555555555556,\"#d8576b\"],[0.6666666666666666,\"#ed7953\"],[0.7777777777777778,\"#fb9f3a\"],[0.8888888888888888,\"#fdca26\"],[1.0,\"#f0f921\"]],\"sequentialminus\":[[0.0,\"#0d0887\"],[0.1111111111111111,\"#46039f\"],[0.2222222222222222,\"#7201a8\"],[0.3333333333333333,\"#9c179e\"],[0.4444444444444444,\"#bd3786\"],[0.5555555555555556,\"#d8576b\"],[0.6666666666666666,\"#ed7953\"],[0.7777777777777778,\"#fb9f3a\"],[0.8888888888888888,\"#fdca26\"],[1.0,\"#f0f921\"]]},\"colorway\":[\"#636efa\",\"#EF553B\",\"#00cc96\",\"#ab63fa\",\"#FFA15A\",\"#19d3f3\",\"#FF6692\",\"#B6E880\",\"#FF97FF\",\"#FECB52\"],\"font\":{\"color\":\"#2a3f5f\"},\"geo\":{\"bgcolor\":\"white\",\"lakecolor\":\"white\",\"landcolor\":\"#E5ECF6\",\"showlakes\":true,\"showland\":true,\"subunitcolor\":\"white\"},\"hoverlabel\":{\"align\":\"left\"},\"hovermode\":\"closest\",\"mapbox\":{\"style\":\"light\"},\"paper_bgcolor\":\"white\",\"plot_bgcolor\":\"#E5ECF6\",\"polar\":{\"angularaxis\":{\"gridcolor\":\"white\",\"linecolor\":\"white\",\"ticks\":\"\"},\"bgcolor\":\"#E5ECF6\",\"radialaxis\":{\"gridcolor\":\"white\",\"linecolor\":\"white\",\"ticks\":\"\"}},\"scene\":{\"xaxis\":{\"backgroundcolor\":\"#E5ECF6\",\"gridcolor\":\"white\",\"gridwidth\":2,\"linecolor\":\"white\",\"showbackground\":true,\"ticks\":\"\",\"zerolinecolor\":\"white\"},\"yaxis\":{\"backgroundcolor\":\"#E5ECF6\",\"gridcolor\":\"white\",\"gridwidth\":2,\"linecolor\":\"white\",\"showbackground\":true,\"ticks\":\"\",\"zerolinecolor\":\"white\"},\"zaxis\":{\"backgroundcolor\":\"#E5ECF6\",\"gridcolor\":\"white\",\"gridwidth\":2,\"linecolor\":\"white\",\"showbackground\":true,\"ticks\":\"\",\"zerolinecolor\":\"white\"}},\"shapedefaults\":{\"line\":{\"color\":\"#2a3f5f\"}},\"ternary\":{\"aaxis\":{\"gridcolor\":\"white\",\"linecolor\":\"white\",\"ticks\":\"\"},\"baxis\":{\"gridcolor\":\"white\",\"linecolor\":\"white\",\"ticks\":\"\"},\"bgcolor\":\"#E5ECF6\",\"caxis\":{\"gridcolor\":\"white\",\"linecolor\":\"white\",\"ticks\":\"\"}},\"title\":{\"x\":0.05},\"xaxis\":{\"automargin\":true,\"gridcolor\":\"white\",\"linecolor\":\"white\",\"ticks\":\"\",\"title\":{\"standoff\":15},\"zerolinecolor\":\"white\",\"zerolinewidth\":2},\"yaxis\":{\"automargin\":true,\"gridcolor\":\"white\",\"linecolor\":\"white\",\"ticks\":\"\",\"title\":{\"standoff\":15},\"zerolinecolor\":\"white\",\"zerolinewidth\":2}}}},                        {\"responsive\": true}                    ).then(function(){\n                            \nvar gd = document.getElementById('ef6b731e-72ef-42ca-a061-bf1d4c72b5ec');\nvar x = new MutationObserver(function (mutations, observer) {{\n        var display = window.getComputedStyle(gd).display;\n        if (!display || display === 'none') {{\n            console.log([gd, 'removed!']);\n            Plotly.purge(gd);\n            observer.disconnect();\n        }}\n}});\n\n// Listen for the removal of the full notebook cells\nvar notebookContainer = gd.closest('#notebook-container');\nif (notebookContainer) {{\n    x.observe(notebookContainer, {childList: true});\n}}\n\n// Listen for the clearing of the current output cell\nvar outputEl = gd.closest('.output');\nif (outputEl) {{\n    x.observe(outputEl, {childList: true});\n}}\n\n                        })                };                });            </script>        </div>"
     },
     "metadata": {},
     "output_type": "display_data"
    }
   ],
   "source": [
    "# todo find another exsample neuron from the same site with a different coverage\n",
    "fig = go.Figure()\n",
    "_ = fig.add_trace(go.Scatter(x=xu+c-0.5, y=yu+p-0.5, mode='markers',\n",
    "                             # line_width=1, line_color='#222222',\n",
    "                             # fill='toself', fillcolor=amp_color[p,c],\n",
    "                             marker=dict(color=amplitudes.values[p,c],\n",
    "                                         coloraxis='coloraxis',\n",
    "                                         cmin=0, cmax=amplitudes.values.max(),\n",
    "                                         showscale=False,\n",
    "                                         )\n",
    "                             ))\n",
    "\n",
    "fig.show()"
   ],
   "metadata": {
    "collapsed": false,
    "pycharm": {
     "name": "#%%\n"
    }
   }
  },
  {
   "cell_type": "code",
   "execution_count": 5,
   "outputs": [],
   "source": [
    "# ensures transparent backgrounds\n",
    "fig.update_layout(paper_bgcolor='rgba(0,0,0,0)',\n",
    "                  plot_bgcolor='rgba(0,0,0,0)')\n",
    "folder = root_path / 'reports' / 'figures' / 'paper'\n",
    "folder.mkdir(parents=True, exist_ok=True)\n",
    "\n",
    "filename = folder / 'figure_03'\n",
    "# fig.write_image(filename.with_suffix('.png'))\n",
    "# fig.write_image(filename.with_suffix('.svg'))"
   ],
   "metadata": {
    "collapsed": false,
    "pycharm": {
     "name": "#%%\n"
    }
   }
  },
  {
   "cell_type": "code",
   "execution_count": 6,
   "outputs": [
    {
     "data": {
      "text/plain": "'#B07AA1'"
     },
     "execution_count": 6,
     "metadata": {},
     "output_type": "execute_result"
    }
   ],
   "source": [
    "Purple"
   ],
   "metadata": {
    "collapsed": false,
    "pycharm": {
     "name": "#%%\n"
    }
   }
  },
  {
   "cell_type": "code",
   "execution_count": 6,
   "outputs": [],
   "source": [],
   "metadata": {
    "collapsed": false,
    "pycharm": {
     "name": "#%%\n"
    }
   }
  }
 ],
 "metadata": {
  "kernelspec": {
   "display_name": "Python 3",
   "language": "python",
   "name": "python3"
  },
  "language_info": {
   "codemirror_mode": {
    "name": "ipython",
    "version": 2
   },
   "file_extension": ".py",
   "mimetype": "text/x-python",
   "name": "python",
   "nbconvert_exporter": "python",
   "pygments_lexer": "ipython2",
   "version": "2.7.6"
  }
 },
 "nbformat": 4,
 "nbformat_minor": 0
}