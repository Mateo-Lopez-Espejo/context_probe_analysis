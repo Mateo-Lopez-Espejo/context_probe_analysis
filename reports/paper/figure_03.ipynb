{
 "cells": [
  {
   "cell_type": "code",
   "execution_count": 1,
   "outputs": [],
   "source": [
    "import pathlib as pl\n",
    "from configparser import ConfigParser\n",
    "\n",
    "import numpy as np\n",
    "import pandas as pd\n",
    "\n",
    "import plotly.graph_objs as go\n",
    "import plotly.colors as pc\n",
    "from plotly.subplots import make_subplots\n",
    "from webcolors import name_to_hex, hex_to_name, rgb_to_name, rgb_to_hex\n",
    "\n",
    "import joblib as jl\n",
    "\n",
    "from src.root_path import config_path, root_path\n",
    "from src.visualization.palette import *"
   ],
   "metadata": {
    "collapsed": false,
    "pycharm": {
     "name": "#%%\n"
    }
   }
  },
  {
   "cell_type": "markdown",
   "source": [
    "# Sparseness of contextual effects\n",
    "example neuron coverage of context-pair*probe (modulation) space\n",
    "\n",
    "histogram showing the number of neurons for given percentages of modulation space coverage\n",
    "\n",
    "surface plot showing the recruitment of neurons as the modulation space increases"
   ],
   "metadata": {
    "collapsed": false
   }
  },
  {
   "cell_type": "code",
   "execution_count": 198,
   "metadata": {
    "collapsed": true
   },
   "outputs": [],
   "source": [
    "config = ConfigParser()\n",
    "config.read_file(open(config_path / 'settings.ini'))\n",
    "meta = {'reliability': 0.1,  # r value\n",
    "        'smoothing_window': 0,  # ms\n",
    "        'raster_fs': 30,\n",
    "        'montecarlo': 1000,\n",
    "        'zscore': True,\n",
    "        'dprime_absolute': None,\n",
    "        'stim_type': 'permutations',\n",
    "        'alpha':0.05}\n",
    "# todo, if batch analysis rerun, use the anotated line instead\n",
    "# summary_DF_file = pl.Path(config['paths']['analysis_cache']) / f'211221_cxt_metrics_summary_DF_alpha_{meta}'\n",
    "summary_DF_file = pl.Path(config['paths']['analysis_cache']) / '211221_cxt_metrics_summary_DF_alpha_0.05'\n",
    "\n",
    "### same example cell as in figure 1 ###\n",
    "prb_idx = 3 - 1# selected probe. the -1 is to acount for 0 not being used\n",
    "ctx_pair = [0,1] # pair of contexts to compare and exemplify d'\n",
    "cellid = 'ARM021b-36-8'\n",
    "\n",
    "n_eg_neu = 3 # total number of related examples\n",
    "\n",
    "\n",
    "\n",
    "DF = jl.load(summary_DF_file)\n",
    "def format_dataframe(DF):\n",
    "\n",
    "    ff_analylis = DF.analysis.isin(['SC', 'fdPCA'])\n",
    "    ff_corr = DF.mult_comp_corr == 'consecutive_3'\n",
    "\n",
    "    good_cols =['analysis', 'mult_comp_corr', 'region', 'siteid',  'cellid', 'context_pair',\n",
    "                'probe', 'metric', 'value']\n",
    "    filtered = DF.loc[ff_analylis & ff_corr, good_cols]\n",
    "\n",
    "    filtered['probe'] = [int(p) for p in filtered['probe']]\n",
    "    filtered['context_pair'] = [f\"{int(cp.split('_')[0]):02d}_{int(cp.split('_')[1]):02d}\"\n",
    "                                for cp in filtered['context_pair']]\n",
    "\n",
    "    # rename metrics and analysis for ease of ploting\n",
    "    filtered['metric'] = filtered['metric'].replace({'significant_abs_mass_center': 'center of mass (ms)',\n",
    "                                                     'significant_abs_mean': \"mean d'\",\n",
    "                                                     'significant_abs_sum': \"integral (d'*ms)\"})\n",
    "    filtered['analysis'] = filtered['analysis'].replace({'SC': 'single cell',\n",
    "                                                         'fdPCA': 'population',\n",
    "                                                         'pdPCA': 'probewise pop',\n",
    "                                                         'LDA': 'pop ceiling'})\n",
    "\n",
    "    filtered['id'] = filtered['cellid'].fillna(value=filtered['siteid'])\n",
    "    filtered = filtered.drop(columns=['cellid', 'siteid'])\n",
    "\n",
    "    filtered['value'] = filtered['value'].fillna(value=0)\n",
    "\n",
    "    # permutation related preprocesing.\n",
    "    # creates a new column relating probe with  context pairs\n",
    "    ctx = np.asarray([row.split('_') for row in filtered.context_pair], dtype=int)\n",
    "    prb = np.asarray(filtered.probe, dtype=int)\n",
    "\n",
    "    silence = ctx == 0\n",
    "    same = ctx == prb[:,None]\n",
    "    different = np.logical_and(~silence, ~same)\n",
    "\n",
    "    name_arr = np.full_like(ctx, np.nan, dtype=object)\n",
    "    name_arr[silence] = 'silence'\n",
    "    name_arr[same] = 'same'\n",
    "    name_arr[different] = 'diff'\n",
    "    comp_name_arr = np.apply_along_axis('_'.join, 1, name_arr)\n",
    "\n",
    "    # swaps clasification names to not have repetitions i.e. diff_same == same_diff\n",
    "    comp_name_arr[np.where(comp_name_arr == 'same_silence')] = 'silence_same'\n",
    "    comp_name_arr[np.where(comp_name_arr == 'diff_silence')] = 'silence_diff'\n",
    "    comp_name_arr[np.where(comp_name_arr == 'diff_same')] = 'same_diff'\n",
    "    comp_name_arr[np.where(comp_name_arr == 'same_silence')] = 'silence_same'\n",
    "\n",
    "    filtered['trans_pair'] = comp_name_arr\n",
    "    return filtered\n",
    "\n",
    "DF_long = format_dataframe(DF)"
   ]
  },
  {
   "cell_type": "markdown",
   "source": [
    "### Figure parameters and subplot layout"
   ],
   "metadata": {
    "collapsed": false
   }
  },
  {
   "cell_type": "code",
   "execution_count": 199,
   "outputs": [
    {
     "data": {
      "text/plain": "array(['ARM021b-36-8', 'ARM021b-43-8', 'ARM021b-05-1'], dtype=object)"
     },
     "execution_count": 199,
     "metadata": {},
     "output_type": "execute_result"
    }
   ],
   "source": [
    "n_eg_neu = 3 #todo delete this line\n",
    "# find top neurons in example site\n",
    "site = cellid[:7]\n",
    "ff_site = DF_long.id.str.contains(cellid[:7])\n",
    "ff_sc = DF_long.analysis == 'single cell'\n",
    "ff_metric = DF_long.metric == \"integral (d'*ms)\"\n",
    "\n",
    "# probably neurons with large tilings are going to have high sum amplitude\n",
    "# across the modulation space\n",
    "top_neurons = DF_long.loc[ff_site & ff_sc & ff_metric, :\n",
    "           ].groupby(['id']).agg(sum_amplitude=('value', np.sum))\n",
    "top_neurons = top_neurons.sort_values(by='sum_amplitude', ascending=False).head(n_eg_neu).index.values\n",
    "top_neurons"
   ],
   "metadata": {
    "collapsed": false,
    "pycharm": {
     "name": "#%%\n"
    }
   }
  },
  {
   "cell_type": "code",
   "execution_count": 3,
   "outputs": [],
   "source": [
    "# fig = make_subplots(rows=2,cols=3, vertical_spacing=0.05, horizontal_spacing=0.05,\n",
    "#                     column_widths=[0.5, 0.4, 0.1],\n",
    "#                     specs=[[{'rowspan':2}, {'l':0.05}, {}],\n",
    "#                            [None         , {'l':0.05}, {}]])\n",
    "\n",
    "fig = make_subplots(1,1)\n",
    "\n",
    "ppi = 300 # high quality print standard (do i need this if I do postprocecing in vectors)\n",
    "ppi = 96 # www standard\n",
    "ppi = 92.5 # house monitor\n",
    "\n",
    "width = 6 # in inches\n",
    "heigh = width * 4/9 # aspect ratio of heatmap\n",
    "_ = fig.update_layout(template='simple_white',\n",
    "                      margin=dict(l=10, r=10, t=10, b=10),\n",
    "                      width=round(ppi*width), height=round(ppi*heigh),\n",
    "                      showlegend=False)"
   ],
   "metadata": {
    "collapsed": false,
    "pycharm": {
     "name": "#%%\n"
    }
   }
  },
  {
   "cell_type": "markdown",
   "source": [
    "# double heatplot (contextual metrics) for example cell"
   ],
   "metadata": {
    "collapsed": false
   }
  },
  {
   "cell_type": "code",
   "execution_count": 327,
   "outputs": [
    {
     "data": {
      "application/vnd.plotly.v1+json": {
       "config": {
        "plotlyServerURL": "https://plot.ly"
       },
       "data": [
        {
         "fill": "toself",
         "fillcolor": "rgb(0, 0, 0)",
         "line": {
          "color": "#222222",
          "width": 1
         },
         "marker": {
          "cmax": 1238.2841030156612,
          "cmin": 0,
          "color": [
           0.0,
           0.0,
           0.0,
           0.0
          ],
          "coloraxis": "coloraxis",
          "opacity": 0
         },
         "mode": "lines+markers",
         "type": "scatter",
         "x": [
          0,
          0,
          1,
          0
         ],
         "xaxis": "x",
         "y": [
          0,
          1,
          1,
          0
         ],
         "yaxis": "y"
        },
        {
         "fill": "toself",
         "fillcolor": "rgb(0, 0, 0)",
         "line": {
          "color": "#222222",
          "width": 1
         },
         "marker": {
          "cmax": 699.3438675676255,
          "cmin": 0,
          "color": [
           0.0,
           0.0,
           0.0,
           0.0
          ],
          "coloraxis": "coloraxis2",
          "opacity": 0
         },
         "mode": "lines+markers",
         "type": "scatter",
         "x": [
          0,
          1,
          1,
          0
         ],
         "xaxis": "x",
         "y": [
          0,
          0,
          1,
          0
         ],
         "yaxis": "y"
        },
        {
         "fill": "toself",
         "fillcolor": "rgb(0, 0, 0)",
         "line": {
          "color": "#222222",
          "width": 1
         },
         "marker": {
          "cmax": 1238.2841030156612,
          "cmin": 0,
          "color": [
           0.0,
           0.0,
           0.0,
           0.0
          ],
          "coloraxis": "coloraxis",
          "opacity": 0
         },
         "mode": "lines+markers",
         "type": "scatter",
         "x": [
          1,
          1,
          2,
          1
         ],
         "xaxis": "x",
         "y": [
          0,
          1,
          1,
          0
         ],
         "yaxis": "y"
        },
        {
         "fill": "toself",
         "fillcolor": "rgb(0, 0, 0)",
         "line": {
          "color": "#222222",
          "width": 1
         },
         "marker": {
          "cmax": 699.3438675676255,
          "cmin": 0,
          "color": [
           0.0,
           0.0,
           0.0,
           0.0
          ],
          "coloraxis": "coloraxis2",
          "opacity": 0
         },
         "mode": "lines+markers",
         "type": "scatter",
         "x": [
          1,
          2,
          2,
          1
         ],
         "xaxis": "x",
         "y": [
          0,
          0,
          1,
          0
         ],
         "yaxis": "y"
        },
        {
         "fill": "toself",
         "fillcolor": "rgb(6, 12, 5)",
         "line": {
          "color": "#222222",
          "width": 1
         },
         "marker": {
          "cmax": 1238.2841030156612,
          "cmin": 0,
          "color": [
           89.70001725859343,
           89.70001725859343,
           89.70001725859343,
           89.70001725859343
          ],
          "coloraxis": "coloraxis",
          "opacity": 0
         },
         "mode": "lines+markers",
         "type": "scatter",
         "x": [
          2,
          2,
          3,
          2
         ],
         "xaxis": "x",
         "y": [
          0,
          1,
          1,
          0
         ],
         "yaxis": "y"
        },
        {
         "fill": "toself",
         "fillcolor": "rgb(7, 5, 7)",
         "line": {
          "color": "#222222",
          "width": 1
         },
         "marker": {
          "cmax": 699.3438675676255,
          "cmin": 0,
          "color": [
           28.802006735097443,
           28.802006735097443,
           28.802006735097443,
           28.802006735097443
          ],
          "coloraxis": "coloraxis2",
          "opacity": 0
         },
         "mode": "lines+markers",
         "type": "scatter",
         "x": [
          2,
          3,
          3,
          2
         ],
         "xaxis": "x",
         "y": [
          0,
          0,
          1,
          0
         ],
         "yaxis": "y"
        },
        {
         "fill": "toself",
         "fillcolor": "rgb(0, 0, 0)",
         "line": {
          "color": "#222222",
          "width": 1
         },
         "marker": {
          "cmax": 1238.2841030156612,
          "cmin": 0,
          "color": [
           0.0,
           0.0,
           0.0,
           0.0
          ],
          "coloraxis": "coloraxis",
          "opacity": 0
         },
         "mode": "lines+markers",
         "type": "scatter",
         "x": [
          3,
          3,
          4,
          3
         ],
         "xaxis": "x",
         "y": [
          0,
          1,
          1,
          0
         ],
         "yaxis": "y"
        },
        {
         "fill": "toself",
         "fillcolor": "rgb(0, 0, 0)",
         "line": {
          "color": "#222222",
          "width": 1
         },
         "marker": {
          "cmax": 699.3438675676255,
          "cmin": 0,
          "color": [
           0.0,
           0.0,
           0.0,
           0.0
          ],
          "coloraxis": "coloraxis2",
          "opacity": 0
         },
         "mode": "lines+markers",
         "type": "scatter",
         "x": [
          3,
          4,
          4,
          3
         ],
         "xaxis": "x",
         "y": [
          0,
          0,
          1,
          0
         ],
         "yaxis": "y"
        },
        {
         "fill": "toself",
         "fillcolor": "rgb(0, 0, 0)",
         "line": {
          "color": "#222222",
          "width": 1
         },
         "marker": {
          "cmax": 1238.2841030156612,
          "cmin": 0,
          "color": [
           0.0,
           0.0,
           0.0,
           0.0
          ],
          "coloraxis": "coloraxis",
          "opacity": 0
         },
         "mode": "lines+markers",
         "type": "scatter",
         "x": [
          4,
          4,
          5,
          4
         ],
         "xaxis": "x",
         "y": [
          0,
          1,
          1,
          0
         ],
         "yaxis": "y"
        },
        {
         "fill": "toself",
         "fillcolor": "rgb(0, 0, 0)",
         "line": {
          "color": "#222222",
          "width": 1
         },
         "marker": {
          "cmax": 699.3438675676255,
          "cmin": 0,
          "color": [
           0.0,
           0.0,
           0.0,
           0.0
          ],
          "coloraxis": "coloraxis2",
          "opacity": 0
         },
         "mode": "lines+markers",
         "type": "scatter",
         "x": [
          4,
          5,
          5,
          4
         ],
         "xaxis": "x",
         "y": [
          0,
          0,
          1,
          0
         ],
         "yaxis": "y"
        },
        {
         "fill": "toself",
         "fillcolor": "rgb(7, 12, 5)",
         "line": {
          "color": "#222222",
          "width": 1
         },
         "marker": {
          "cmax": 1238.2841030156612,
          "cmin": 0,
          "color": [
           92.95884337784689,
           92.95884337784689,
           92.95884337784689,
           92.95884337784689
          ],
          "coloraxis": "coloraxis",
          "opacity": 0
         },
         "mode": "lines+markers",
         "type": "scatter",
         "x": [
          5,
          5,
          6,
          5
         ],
         "xaxis": "x",
         "y": [
          0,
          1,
          1,
          0
         ],
         "yaxis": "y"
        },
        {
         "fill": "toself",
         "fillcolor": "rgb(176, 122, 161)",
         "line": {
          "color": "#222222",
          "width": 1
         },
         "marker": {
          "cmax": 699.3438675676255,
          "cmin": 0,
          "color": [
           699.3438675676255,
           699.3438675676255,
           699.3438675676255,
           699.3438675676255
          ],
          "coloraxis": "coloraxis2",
          "opacity": 0
         },
         "mode": "lines+markers",
         "type": "scatter",
         "x": [
          5,
          6,
          6,
          5
         ],
         "xaxis": "x",
         "y": [
          0,
          0,
          1,
          0
         ],
         "yaxis": "y"
        },
        {
         "fill": "toself",
         "fillcolor": "rgb(10, 18, 8)",
         "line": {
          "color": "#222222",
          "width": 1
         },
         "marker": {
          "cmax": 1238.2841030156612,
          "cmin": 0,
          "color": [
           136.40539611066873,
           136.40539611066873,
           136.40539611066873,
           136.40539611066873
          ],
          "coloraxis": "coloraxis",
          "opacity": 0
         },
         "mode": "lines+markers",
         "type": "scatter",
         "x": [
          6,
          6,
          7,
          6
         ],
         "xaxis": "x",
         "y": [
          0,
          1,
          1,
          0
         ],
         "yaxis": "y"
        },
        {
         "fill": "toself",
         "fillcolor": "rgb(112, 78, 102)",
         "line": {
          "color": "#222222",
          "width": 1
         },
         "marker": {
          "cmax": 699.3438675676255,
          "cmin": 0,
          "color": [
           444.54608002573354,
           444.54608002573354,
           444.54608002573354,
           444.54608002573354
          ],
          "coloraxis": "coloraxis2",
          "opacity": 0
         },
         "mode": "lines+markers",
         "type": "scatter",
         "x": [
          6,
          7,
          7,
          6
         ],
         "xaxis": "x",
         "y": [
          0,
          0,
          1,
          0
         ],
         "yaxis": "y"
        },
        {
         "fill": "toself",
         "fillcolor": "rgb(0, 0, 0)",
         "line": {
          "color": "#222222",
          "width": 1
         },
         "marker": {
          "cmax": 1238.2841030156612,
          "cmin": 0,
          "color": [
           0.0,
           0.0,
           0.0,
           0.0
          ],
          "coloraxis": "coloraxis",
          "opacity": 0
         },
         "mode": "lines+markers",
         "type": "scatter",
         "x": [
          7,
          7,
          8,
          7
         ],
         "xaxis": "x",
         "y": [
          0,
          1,
          1,
          0
         ],
         "yaxis": "y"
        },
        {
         "fill": "toself",
         "fillcolor": "rgb(0, 0, 0)",
         "line": {
          "color": "#222222",
          "width": 1
         },
         "marker": {
          "cmax": 699.3438675676255,
          "cmin": 0,
          "color": [
           0.0,
           0.0,
           0.0,
           0.0
          ],
          "coloraxis": "coloraxis2",
          "opacity": 0
         },
         "mode": "lines+markers",
         "type": "scatter",
         "x": [
          7,
          8,
          8,
          7
         ],
         "xaxis": "x",
         "y": [
          0,
          0,
          1,
          0
         ],
         "yaxis": "y"
        },
        {
         "fill": "toself",
         "fillcolor": "rgb(0, 0, 0)",
         "line": {
          "color": "#222222",
          "width": 1
         },
         "marker": {
          "cmax": 1238.2841030156612,
          "cmin": 0,
          "color": [
           0.0,
           0.0,
           0.0,
           0.0
          ],
          "coloraxis": "coloraxis",
          "opacity": 0
         },
         "mode": "lines+markers",
         "type": "scatter",
         "x": [
          8,
          8,
          9,
          8
         ],
         "xaxis": "x",
         "y": [
          0,
          1,
          1,
          0
         ],
         "yaxis": "y"
        },
        {
         "fill": "toself",
         "fillcolor": "rgb(0, 0, 0)",
         "line": {
          "color": "#222222",
          "width": 1
         },
         "marker": {
          "cmax": 699.3438675676255,
          "cmin": 0,
          "color": [
           0.0,
           0.0,
           0.0,
           0.0
          ],
          "coloraxis": "coloraxis2",
          "opacity": 0
         },
         "mode": "lines+markers",
         "type": "scatter",
         "x": [
          8,
          9,
          9,
          8
         ],
         "xaxis": "x",
         "y": [
          0,
          0,
          1,
          0
         ],
         "yaxis": "y"
        },
        {
         "fill": "toself",
         "fillcolor": "rgb(0, 0, 0)",
         "line": {
          "color": "#222222",
          "width": 1
         },
         "marker": {
          "cmax": 1238.2841030156612,
          "cmin": 0,
          "color": [
           0.0,
           0.0,
           0.0,
           0.0
          ],
          "coloraxis": "coloraxis",
          "opacity": 0
         },
         "mode": "lines+markers",
         "type": "scatter",
         "x": [
          9,
          9,
          10,
          9
         ],
         "xaxis": "x",
         "y": [
          0,
          1,
          1,
          0
         ],
         "yaxis": "y"
        },
        {
         "fill": "toself",
         "fillcolor": "rgb(0, 0, 0)",
         "line": {
          "color": "#222222",
          "width": 1
         },
         "marker": {
          "cmax": 699.3438675676255,
          "cmin": 0,
          "color": [
           0.0,
           0.0,
           0.0,
           0.0
          ],
          "coloraxis": "coloraxis2",
          "opacity": 0
         },
         "mode": "lines+markers",
         "type": "scatter",
         "x": [
          9,
          10,
          10,
          9
         ],
         "xaxis": "x",
         "y": [
          0,
          0,
          1,
          0
         ],
         "yaxis": "y"
        },
        {
         "fill": "toself",
         "fillcolor": "rgb(56, 102, 45)",
         "line": {
          "color": "#222222",
          "width": 1
         },
         "marker": {
          "cmax": 1238.2841030156612,
          "cmin": 0,
          "color": [
           782.0239237823545,
           782.0239237823545,
           782.0239237823545,
           782.0239237823545
          ],
          "coloraxis": "coloraxis",
          "opacity": 0
         },
         "mode": "lines+markers",
         "type": "scatter",
         "x": [
          0,
          0,
          1,
          0
         ],
         "xaxis": "x",
         "y": [
          1,
          2,
          2,
          1
         ],
         "yaxis": "y"
        },
        {
         "fill": "toself",
         "fillcolor": "rgb(42, 29, 38)",
         "line": {
          "color": "#222222",
          "width": 1
         },
         "marker": {
          "cmax": 699.3438675676255,
          "cmin": 0,
          "color": [
           166.7949290007546,
           166.7949290007546,
           166.7949290007546,
           166.7949290007546
          ],
          "coloraxis": "coloraxis2",
          "opacity": 0
         },
         "mode": "lines+markers",
         "type": "scatter",
         "x": [
          0,
          1,
          1,
          0
         ],
         "xaxis": "x",
         "y": [
          1,
          1,
          2,
          1
         ],
         "yaxis": "y"
        },
        {
         "fill": "toself",
         "fillcolor": "rgb(0, 0, 0)",
         "line": {
          "color": "#222222",
          "width": 1
         },
         "marker": {
          "cmax": 1238.2841030156612,
          "cmin": 0,
          "color": [
           0.0,
           0.0,
           0.0,
           0.0
          ],
          "coloraxis": "coloraxis",
          "opacity": 0
         },
         "mode": "lines+markers",
         "type": "scatter",
         "x": [
          1,
          1,
          2,
          1
         ],
         "xaxis": "x",
         "y": [
          1,
          2,
          2,
          1
         ],
         "yaxis": "y"
        },
        {
         "fill": "toself",
         "fillcolor": "rgb(0, 0, 0)",
         "line": {
          "color": "#222222",
          "width": 1
         },
         "marker": {
          "cmax": 699.3438675676255,
          "cmin": 0,
          "color": [
           0.0,
           0.0,
           0.0,
           0.0
          ],
          "coloraxis": "coloraxis2",
          "opacity": 0
         },
         "mode": "lines+markers",
         "type": "scatter",
         "x": [
          1,
          2,
          2,
          1
         ],
         "xaxis": "x",
         "y": [
          1,
          1,
          2,
          1
         ],
         "yaxis": "y"
        },
        {
         "fill": "toself",
         "fillcolor": "rgb(0, 0, 0)",
         "line": {
          "color": "#222222",
          "width": 1
         },
         "marker": {
          "cmax": 1238.2841030156612,
          "cmin": 0,
          "color": [
           0.0,
           0.0,
           0.0,
           0.0
          ],
          "coloraxis": "coloraxis",
          "opacity": 0
         },
         "mode": "lines+markers",
         "type": "scatter",
         "x": [
          2,
          2,
          3,
          2
         ],
         "xaxis": "x",
         "y": [
          1,
          2,
          2,
          1
         ],
         "yaxis": "y"
        },
        {
         "fill": "toself",
         "fillcolor": "rgb(0, 0, 0)",
         "line": {
          "color": "#222222",
          "width": 1
         },
         "marker": {
          "cmax": 699.3438675676255,
          "cmin": 0,
          "color": [
           0.0,
           0.0,
           0.0,
           0.0
          ],
          "coloraxis": "coloraxis2",
          "opacity": 0
         },
         "mode": "lines+markers",
         "type": "scatter",
         "x": [
          2,
          3,
          3,
          2
         ],
         "xaxis": "x",
         "y": [
          1,
          1,
          2,
          1
         ],
         "yaxis": "y"
        },
        {
         "fill": "toself",
         "fillcolor": "rgb(0, 0, 0)",
         "line": {
          "color": "#222222",
          "width": 1
         },
         "marker": {
          "cmax": 1238.2841030156612,
          "cmin": 0,
          "color": [
           0.0,
           0.0,
           0.0,
           0.0
          ],
          "coloraxis": "coloraxis",
          "opacity": 0
         },
         "mode": "lines+markers",
         "type": "scatter",
         "x": [
          3,
          3,
          4,
          3
         ],
         "xaxis": "x",
         "y": [
          1,
          2,
          2,
          1
         ],
         "yaxis": "y"
        },
        {
         "fill": "toself",
         "fillcolor": "rgb(0, 0, 0)",
         "line": {
          "color": "#222222",
          "width": 1
         },
         "marker": {
          "cmax": 699.3438675676255,
          "cmin": 0,
          "color": [
           0.0,
           0.0,
           0.0,
           0.0
          ],
          "coloraxis": "coloraxis2",
          "opacity": 0
         },
         "mode": "lines+markers",
         "type": "scatter",
         "x": [
          3,
          4,
          4,
          3
         ],
         "xaxis": "x",
         "y": [
          1,
          1,
          2,
          1
         ],
         "yaxis": "y"
        },
        {
         "fill": "toself",
         "fillcolor": "rgb(60, 109, 48)",
         "line": {
          "color": "#222222",
          "width": 1
         },
         "marker": {
          "cmax": 1238.2841030156612,
          "cmin": 0,
          "color": [
           834.9553404375606,
           834.9553404375606,
           834.9553404375606,
           834.9553404375606
          ],
          "coloraxis": "coloraxis",
          "opacity": 0
         },
         "mode": "lines+markers",
         "type": "scatter",
         "x": [
          4,
          4,
          5,
          4
         ],
         "xaxis": "x",
         "y": [
          1,
          2,
          2,
          1
         ],
         "yaxis": "y"
        },
        {
         "fill": "toself",
         "fillcolor": "rgb(42, 29, 39)",
         "line": {
          "color": "#222222",
          "width": 1
         },
         "marker": {
          "cmax": 699.3438675676255,
          "cmin": 0,
          "color": [
           167.87146805703665,
           167.87146805703665,
           167.87146805703665,
           167.87146805703665
          ],
          "coloraxis": "coloraxis2",
          "opacity": 0
         },
         "mode": "lines+markers",
         "type": "scatter",
         "x": [
          4,
          5,
          5,
          4
         ],
         "xaxis": "x",
         "y": [
          1,
          1,
          2,
          1
         ],
         "yaxis": "y"
        },
        {
         "fill": "toself",
         "fillcolor": "rgb(49, 88, 39)",
         "line": {
          "color": "#222222",
          "width": 1
         },
         "marker": {
          "cmax": 1238.2841030156612,
          "cmin": 0,
          "color": [
           675.2317249647558,
           675.2317249647558,
           675.2317249647558,
           675.2317249647558
          ],
          "coloraxis": "coloraxis",
          "opacity": 0
         },
         "mode": "lines+markers",
         "type": "scatter",
         "x": [
          5,
          5,
          6,
          5
         ],
         "xaxis": "x",
         "y": [
          1,
          2,
          2,
          1
         ],
         "yaxis": "y"
        },
        {
         "fill": "toself",
         "fillcolor": "rgb(46, 32, 42)",
         "line": {
          "color": "#222222",
          "width": 1
         },
         "marker": {
          "cmax": 699.3438675676255,
          "cmin": 0,
          "color": [
           181.36778134076224,
           181.36778134076224,
           181.36778134076224,
           181.36778134076224
          ],
          "coloraxis": "coloraxis2",
          "opacity": 0
         },
         "mode": "lines+markers",
         "type": "scatter",
         "x": [
          5,
          6,
          6,
          5
         ],
         "xaxis": "x",
         "y": [
          1,
          1,
          2,
          1
         ],
         "yaxis": "y"
        },
        {
         "fill": "toself",
         "fillcolor": "rgb(54, 97, 43)",
         "line": {
          "color": "#222222",
          "width": 1
         },
         "marker": {
          "cmax": 1238.2841030156612,
          "cmin": 0,
          "color": [
           746.3211863042105,
           746.3211863042105,
           746.3211863042105,
           746.3211863042105
          ],
          "coloraxis": "coloraxis",
          "opacity": 0
         },
         "mode": "lines+markers",
         "type": "scatter",
         "x": [
          6,
          6,
          7,
          6
         ],
         "xaxis": "x",
         "y": [
          1,
          2,
          2,
          1
         ],
         "yaxis": "y"
        },
        {
         "fill": "toself",
         "fillcolor": "rgb(46, 32, 42)",
         "line": {
          "color": "#222222",
          "width": 1
         },
         "marker": {
          "cmax": 699.3438675676255,
          "cmin": 0,
          "color": [
           181.5250886459712,
           181.5250886459712,
           181.5250886459712,
           181.5250886459712
          ],
          "coloraxis": "coloraxis2",
          "opacity": 0
         },
         "mode": "lines+markers",
         "type": "scatter",
         "x": [
          6,
          7,
          7,
          6
         ],
         "xaxis": "x",
         "y": [
          1,
          1,
          2,
          1
         ],
         "yaxis": "y"
        },
        {
         "fill": "toself",
         "fillcolor": "rgb(12, 22, 10)",
         "line": {
          "color": "#222222",
          "width": 1
         },
         "marker": {
          "cmax": 1238.2841030156612,
          "cmin": 0,
          "color": [
           170.59315705103785,
           170.59315705103785,
           170.59315705103785,
           170.59315705103785
          ],
          "coloraxis": "coloraxis",
          "opacity": 0
         },
         "mode": "lines+markers",
         "type": "scatter",
         "x": [
          7,
          7,
          8,
          7
         ],
         "xaxis": "x",
         "y": [
          1,
          2,
          2,
          1
         ],
         "yaxis": "y"
        },
        {
         "fill": "toself",
         "fillcolor": "rgb(13, 9, 12)",
         "line": {
          "color": "#222222",
          "width": 1
         },
         "marker": {
          "cmax": 699.3438675676255,
          "cmin": 0,
          "color": [
           52.39573089390362,
           52.39573089390362,
           52.39573089390362,
           52.39573089390362
          ],
          "coloraxis": "coloraxis2",
          "opacity": 0
         },
         "mode": "lines+markers",
         "type": "scatter",
         "x": [
          7,
          8,
          8,
          7
         ],
         "xaxis": "x",
         "y": [
          1,
          1,
          2,
          1
         ],
         "yaxis": "y"
        },
        {
         "fill": "toself",
         "fillcolor": "rgb(0, 0, 0)",
         "line": {
          "color": "#222222",
          "width": 1
         },
         "marker": {
          "cmax": 1238.2841030156612,
          "cmin": 0,
          "color": [
           0.0,
           0.0,
           0.0,
           0.0
          ],
          "coloraxis": "coloraxis",
          "opacity": 0
         },
         "mode": "lines+markers",
         "type": "scatter",
         "x": [
          8,
          8,
          9,
          8
         ],
         "xaxis": "x",
         "y": [
          1,
          2,
          2,
          1
         ],
         "yaxis": "y"
        },
        {
         "fill": "toself",
         "fillcolor": "rgb(0, 0, 0)",
         "line": {
          "color": "#222222",
          "width": 1
         },
         "marker": {
          "cmax": 699.3438675676255,
          "cmin": 0,
          "color": [
           0.0,
           0.0,
           0.0,
           0.0
          ],
          "coloraxis": "coloraxis2",
          "opacity": 0
         },
         "mode": "lines+markers",
         "type": "scatter",
         "x": [
          8,
          9,
          9,
          8
         ],
         "xaxis": "x",
         "y": [
          1,
          1,
          2,
          1
         ],
         "yaxis": "y"
        },
        {
         "fill": "toself",
         "fillcolor": "rgb(0, 0, 0)",
         "line": {
          "color": "#222222",
          "width": 1
         },
         "marker": {
          "cmax": 1238.2841030156612,
          "cmin": 0,
          "color": [
           0.0,
           0.0,
           0.0,
           0.0
          ],
          "coloraxis": "coloraxis",
          "opacity": 0
         },
         "mode": "lines+markers",
         "type": "scatter",
         "x": [
          9,
          9,
          10,
          9
         ],
         "xaxis": "x",
         "y": [
          1,
          2,
          2,
          1
         ],
         "yaxis": "y"
        },
        {
         "fill": "toself",
         "fillcolor": "rgb(0, 0, 0)",
         "line": {
          "color": "#222222",
          "width": 1
         },
         "marker": {
          "cmax": 699.3438675676255,
          "cmin": 0,
          "color": [
           0.0,
           0.0,
           0.0,
           0.0
          ],
          "coloraxis": "coloraxis2",
          "opacity": 0
         },
         "mode": "lines+markers",
         "type": "scatter",
         "x": [
          9,
          10,
          10,
          9
         ],
         "xaxis": "x",
         "y": [
          1,
          1,
          2,
          1
         ],
         "yaxis": "y"
        },
        {
         "fill": "toself",
         "fillcolor": "rgb(89, 161, 71)",
         "line": {
          "color": "#222222",
          "width": 1
         },
         "marker": {
          "cmax": 1238.2841030156612,
          "cmin": 0,
          "color": [
           1238.2841030156612,
           1238.2841030156612,
           1238.2841030156612,
           1238.2841030156612
          ],
          "coloraxis": "coloraxis",
          "opacity": 0
         },
         "mode": "lines+markers",
         "type": "scatter",
         "x": [
          0,
          0,
          1,
          0
         ],
         "xaxis": "x",
         "y": [
          2,
          3,
          3,
          2
         ],
         "yaxis": "y"
        },
        {
         "fill": "toself",
         "fillcolor": "rgb(93, 64, 85)",
         "line": {
          "color": "#222222",
          "width": 1
         },
         "marker": {
          "cmax": 699.3438675676255,
          "cmin": 0,
          "color": [
           369.22494101254375,
           369.22494101254375,
           369.22494101254375,
           369.22494101254375
          ],
          "coloraxis": "coloraxis2",
          "opacity": 0
         },
         "mode": "lines+markers",
         "type": "scatter",
         "x": [
          0,
          1,
          1,
          0
         ],
         "xaxis": "x",
         "y": [
          2,
          2,
          3,
          2
         ],
         "yaxis": "y"
        },
        {
         "fill": "toself",
         "fillcolor": "rgb(0, 0, 0)",
         "line": {
          "color": "#222222",
          "width": 1
         },
         "marker": {
          "cmax": 1238.2841030156612,
          "cmin": 0,
          "color": [
           0.0,
           0.0,
           0.0,
           0.0
          ],
          "coloraxis": "coloraxis",
          "opacity": 0
         },
         "mode": "lines+markers",
         "type": "scatter",
         "x": [
          1,
          1,
          2,
          1
         ],
         "xaxis": "x",
         "y": [
          2,
          3,
          3,
          2
         ],
         "yaxis": "y"
        },
        {
         "fill": "toself",
         "fillcolor": "rgb(0, 0, 0)",
         "line": {
          "color": "#222222",
          "width": 1
         },
         "marker": {
          "cmax": 699.3438675676255,
          "cmin": 0,
          "color": [
           0.0,
           0.0,
           0.0,
           0.0
          ],
          "coloraxis": "coloraxis2",
          "opacity": 0
         },
         "mode": "lines+markers",
         "type": "scatter",
         "x": [
          1,
          2,
          2,
          1
         ],
         "xaxis": "x",
         "y": [
          2,
          2,
          3,
          2
         ],
         "yaxis": "y"
        },
        {
         "fill": "toself",
         "fillcolor": "rgb(0, 0, 0)",
         "line": {
          "color": "#222222",
          "width": 1
         },
         "marker": {
          "cmax": 1238.2841030156612,
          "cmin": 0,
          "color": [
           0.0,
           0.0,
           0.0,
           0.0
          ],
          "coloraxis": "coloraxis",
          "opacity": 0
         },
         "mode": "lines+markers",
         "type": "scatter",
         "x": [
          2,
          2,
          3,
          2
         ],
         "xaxis": "x",
         "y": [
          2,
          3,
          3,
          2
         ],
         "yaxis": "y"
        },
        {
         "fill": "toself",
         "fillcolor": "rgb(0, 0, 0)",
         "line": {
          "color": "#222222",
          "width": 1
         },
         "marker": {
          "cmax": 699.3438675676255,
          "cmin": 0,
          "color": [
           0.0,
           0.0,
           0.0,
           0.0
          ],
          "coloraxis": "coloraxis2",
          "opacity": 0
         },
         "mode": "lines+markers",
         "type": "scatter",
         "x": [
          2,
          3,
          3,
          2
         ],
         "xaxis": "x",
         "y": [
          2,
          2,
          3,
          2
         ],
         "yaxis": "y"
        },
        {
         "fill": "toself",
         "fillcolor": "rgb(0, 0, 0)",
         "line": {
          "color": "#222222",
          "width": 1
         },
         "marker": {
          "cmax": 1238.2841030156612,
          "cmin": 0,
          "color": [
           0.0,
           0.0,
           0.0,
           0.0
          ],
          "coloraxis": "coloraxis",
          "opacity": 0
         },
         "mode": "lines+markers",
         "type": "scatter",
         "x": [
          3,
          3,
          4,
          3
         ],
         "xaxis": "x",
         "y": [
          2,
          3,
          3,
          2
         ],
         "yaxis": "y"
        },
        {
         "fill": "toself",
         "fillcolor": "rgb(0, 0, 0)",
         "line": {
          "color": "#222222",
          "width": 1
         },
         "marker": {
          "cmax": 699.3438675676255,
          "cmin": 0,
          "color": [
           0.0,
           0.0,
           0.0,
           0.0
          ],
          "coloraxis": "coloraxis2",
          "opacity": 0
         },
         "mode": "lines+markers",
         "type": "scatter",
         "x": [
          3,
          4,
          4,
          3
         ],
         "xaxis": "x",
         "y": [
          2,
          2,
          3,
          2
         ],
         "yaxis": "y"
        },
        {
         "fill": "toself",
         "fillcolor": "rgb(88, 160, 71)",
         "line": {
          "color": "#222222",
          "width": 1
         },
         "marker": {
          "cmax": 1238.2841030156612,
          "cmin": 0,
          "color": [
           1231.0269728447745,
           1231.0269728447745,
           1231.0269728447745,
           1231.0269728447745
          ],
          "coloraxis": "coloraxis",
          "opacity": 0
         },
         "mode": "lines+markers",
         "type": "scatter",
         "x": [
          4,
          4,
          5,
          4
         ],
         "xaxis": "x",
         "y": [
          2,
          3,
          3,
          2
         ],
         "yaxis": "y"
        },
        {
         "fill": "toself",
         "fillcolor": "rgb(99, 68, 90)",
         "line": {
          "color": "#222222",
          "width": 1
         },
         "marker": {
          "cmax": 699.3438675676255,
          "cmin": 0,
          "color": [
           392.2682555315698,
           392.2682555315698,
           392.2682555315698,
           392.2682555315698
          ],
          "coloraxis": "coloraxis2",
          "opacity": 0
         },
         "mode": "lines+markers",
         "type": "scatter",
         "x": [
          4,
          5,
          5,
          4
         ],
         "xaxis": "x",
         "y": [
          2,
          2,
          3,
          2
         ],
         "yaxis": "y"
        },
        {
         "fill": "toself",
         "fillcolor": "rgb(37, 67, 29)",
         "line": {
          "color": "#222222",
          "width": 1
         },
         "marker": {
          "cmax": 1238.2841030156612,
          "cmin": 0,
          "color": [
           513.6936655267251,
           513.6936655267251,
           513.6936655267251,
           513.6936655267251
          ],
          "coloraxis": "coloraxis",
          "opacity": 0
         },
         "mode": "lines+markers",
         "type": "scatter",
         "x": [
          5,
          5,
          6,
          5
         ],
         "xaxis": "x",
         "y": [
          2,
          3,
          3,
          2
         ],
         "yaxis": "y"
        },
        {
         "fill": "toself",
         "fillcolor": "rgb(44, 31, 40)",
         "line": {
          "color": "#222222",
          "width": 1
         },
         "marker": {
          "cmax": 699.3438675676255,
          "cmin": 0,
          "color": [
           175.8853995698501,
           175.8853995698501,
           175.8853995698501,
           175.8853995698501
          ],
          "coloraxis": "coloraxis2",
          "opacity": 0
         },
         "mode": "lines+markers",
         "type": "scatter",
         "x": [
          5,
          6,
          6,
          5
         ],
         "xaxis": "x",
         "y": [
          2,
          2,
          3,
          2
         ],
         "yaxis": "y"
        },
        {
         "fill": "toself",
         "fillcolor": "rgb(69, 125, 55)",
         "line": {
          "color": "#222222",
          "width": 1
         },
         "marker": {
          "cmax": 1238.2841030156612,
          "cmin": 0,
          "color": [
           963.9345608411201,
           963.9345608411201,
           963.9345608411201,
           963.9345608411201
          ],
          "coloraxis": "coloraxis",
          "opacity": 0
         },
         "mode": "lines+markers",
         "type": "scatter",
         "x": [
          6,
          6,
          7,
          6
         ],
         "xaxis": "x",
         "y": [
          2,
          3,
          3,
          2
         ],
         "yaxis": "y"
        },
        {
         "fill": "toself",
         "fillcolor": "rgb(71, 50, 65)",
         "line": {
          "color": "#222222",
          "width": 1
         },
         "marker": {
          "cmax": 699.3438675676255,
          "cmin": 0,
          "color": [
           284.0373870539738,
           284.0373870539738,
           284.0373870539738,
           284.0373870539738
          ],
          "coloraxis": "coloraxis2",
          "opacity": 0
         },
         "mode": "lines+markers",
         "type": "scatter",
         "x": [
          6,
          7,
          7,
          6
         ],
         "xaxis": "x",
         "y": [
          2,
          2,
          3,
          2
         ],
         "yaxis": "y"
        },
        {
         "fill": "toself",
         "fillcolor": "rgb(0, 0, 0)",
         "line": {
          "color": "#222222",
          "width": 1
         },
         "marker": {
          "cmax": 1238.2841030156612,
          "cmin": 0,
          "color": [
           0.0,
           0.0,
           0.0,
           0.0
          ],
          "coloraxis": "coloraxis",
          "opacity": 0
         },
         "mode": "lines+markers",
         "type": "scatter",
         "x": [
          7,
          7,
          8,
          7
         ],
         "xaxis": "x",
         "y": [
          2,
          3,
          3,
          2
         ],
         "yaxis": "y"
        },
        {
         "fill": "toself",
         "fillcolor": "rgb(0, 0, 0)",
         "line": {
          "color": "#222222",
          "width": 1
         },
         "marker": {
          "cmax": 699.3438675676255,
          "cmin": 0,
          "color": [
           0.0,
           0.0,
           0.0,
           0.0
          ],
          "coloraxis": "coloraxis2",
          "opacity": 0
         },
         "mode": "lines+markers",
         "type": "scatter",
         "x": [
          7,
          8,
          8,
          7
         ],
         "xaxis": "x",
         "y": [
          2,
          2,
          3,
          2
         ],
         "yaxis": "y"
        },
        {
         "fill": "toself",
         "fillcolor": "rgb(0, 0, 0)",
         "line": {
          "color": "#222222",
          "width": 1
         },
         "marker": {
          "cmax": 1238.2841030156612,
          "cmin": 0,
          "color": [
           0.0,
           0.0,
           0.0,
           0.0
          ],
          "coloraxis": "coloraxis",
          "opacity": 0
         },
         "mode": "lines+markers",
         "type": "scatter",
         "x": [
          8,
          8,
          9,
          8
         ],
         "xaxis": "x",
         "y": [
          2,
          3,
          3,
          2
         ],
         "yaxis": "y"
        },
        {
         "fill": "toself",
         "fillcolor": "rgb(0, 0, 0)",
         "line": {
          "color": "#222222",
          "width": 1
         },
         "marker": {
          "cmax": 699.3438675676255,
          "cmin": 0,
          "color": [
           0.0,
           0.0,
           0.0,
           0.0
          ],
          "coloraxis": "coloraxis2",
          "opacity": 0
         },
         "mode": "lines+markers",
         "type": "scatter",
         "x": [
          8,
          9,
          9,
          8
         ],
         "xaxis": "x",
         "y": [
          2,
          2,
          3,
          2
         ],
         "yaxis": "y"
        },
        {
         "fill": "toself",
         "fillcolor": "rgb(0, 0, 0)",
         "line": {
          "color": "#222222",
          "width": 1
         },
         "marker": {
          "cmax": 1238.2841030156612,
          "cmin": 0,
          "color": [
           0.0,
           0.0,
           0.0,
           0.0
          ],
          "coloraxis": "coloraxis",
          "opacity": 0
         },
         "mode": "lines+markers",
         "type": "scatter",
         "x": [
          9,
          9,
          10,
          9
         ],
         "xaxis": "x",
         "y": [
          2,
          3,
          3,
          2
         ],
         "yaxis": "y"
        },
        {
         "fill": "toself",
         "fillcolor": "rgb(0, 0, 0)",
         "line": {
          "color": "#222222",
          "width": 1
         },
         "marker": {
          "cmax": 699.3438675676255,
          "cmin": 0,
          "color": [
           0.0,
           0.0,
           0.0,
           0.0
          ],
          "coloraxis": "coloraxis2",
          "opacity": 0
         },
         "mode": "lines+markers",
         "type": "scatter",
         "x": [
          9,
          10,
          10,
          9
         ],
         "xaxis": "x",
         "y": [
          2,
          2,
          3,
          2
         ],
         "yaxis": "y"
        },
        {
         "fill": "toself",
         "fillcolor": "rgb(50, 90, 40)",
         "line": {
          "color": "#222222",
          "width": 1
         },
         "marker": {
          "cmax": 1238.2841030156612,
          "cmin": 0,
          "color": [
           693.912503774774,
           693.912503774774,
           693.912503774774,
           693.912503774774
          ],
          "coloraxis": "coloraxis",
          "opacity": 0
         },
         "mode": "lines+markers",
         "type": "scatter",
         "x": [
          0,
          0,
          1,
          0
         ],
         "xaxis": "x",
         "y": [
          3,
          4,
          4,
          3
         ],
         "yaxis": "y"
        },
        {
         "fill": "toself",
         "fillcolor": "rgb(61, 43, 56)",
         "line": {
          "color": "#222222",
          "width": 1
         },
         "marker": {
          "cmax": 699.3438675676255,
          "cmin": 0,
          "color": [
           244.20619173781898,
           244.20619173781898,
           244.20619173781898,
           244.20619173781898
          ],
          "coloraxis": "coloraxis2",
          "opacity": 0
         },
         "mode": "lines+markers",
         "type": "scatter",
         "x": [
          0,
          1,
          1,
          0
         ],
         "xaxis": "x",
         "y": [
          3,
          3,
          4,
          3
         ],
         "yaxis": "y"
        },
        {
         "fill": "toself",
         "fillcolor": "rgb(0, 0, 0)",
         "line": {
          "color": "#222222",
          "width": 1
         },
         "marker": {
          "cmax": 1238.2841030156612,
          "cmin": 0,
          "color": [
           0.0,
           0.0,
           0.0,
           0.0
          ],
          "coloraxis": "coloraxis",
          "opacity": 0
         },
         "mode": "lines+markers",
         "type": "scatter",
         "x": [
          1,
          1,
          2,
          1
         ],
         "xaxis": "x",
         "y": [
          3,
          4,
          4,
          3
         ],
         "yaxis": "y"
        },
        {
         "fill": "toself",
         "fillcolor": "rgb(0, 0, 0)",
         "line": {
          "color": "#222222",
          "width": 1
         },
         "marker": {
          "cmax": 699.3438675676255,
          "cmin": 0,
          "color": [
           0.0,
           0.0,
           0.0,
           0.0
          ],
          "coloraxis": "coloraxis2",
          "opacity": 0
         },
         "mode": "lines+markers",
         "type": "scatter",
         "x": [
          1,
          2,
          2,
          1
         ],
         "xaxis": "x",
         "y": [
          3,
          3,
          4,
          3
         ],
         "yaxis": "y"
        },
        {
         "fill": "toself",
         "fillcolor": "rgb(7, 12, 5)",
         "line": {
          "color": "#222222",
          "width": 1
         },
         "marker": {
          "cmax": 1238.2841030156612,
          "cmin": 0,
          "color": [
           90.55253332142864,
           90.55253332142864,
           90.55253332142864,
           90.55253332142864
          ],
          "coloraxis": "coloraxis",
          "opacity": 0
         },
         "mode": "lines+markers",
         "type": "scatter",
         "x": [
          2,
          2,
          3,
          2
         ],
         "xaxis": "x",
         "y": [
          3,
          4,
          4,
          3
         ],
         "yaxis": "y"
        },
        {
         "fill": "toself",
         "fillcolor": "rgb(117, 81, 107)",
         "line": {
          "color": "#222222",
          "width": 1
         },
         "marker": {
          "cmax": 699.3438675676255,
          "cmin": 0,
          "color": [
           466.08983959467844,
           466.08983959467844,
           466.08983959467844,
           466.08983959467844
          ],
          "coloraxis": "coloraxis2",
          "opacity": 0
         },
         "mode": "lines+markers",
         "type": "scatter",
         "x": [
          2,
          3,
          3,
          2
         ],
         "xaxis": "x",
         "y": [
          3,
          3,
          4,
          3
         ],
         "yaxis": "y"
        },
        {
         "fill": "toself",
         "fillcolor": "rgb(0, 0, 0)",
         "line": {
          "color": "#222222",
          "width": 1
         },
         "marker": {
          "cmax": 1238.2841030156612,
          "cmin": 0,
          "color": [
           0.0,
           0.0,
           0.0,
           0.0
          ],
          "coloraxis": "coloraxis",
          "opacity": 0
         },
         "mode": "lines+markers",
         "type": "scatter",
         "x": [
          3,
          3,
          4,
          3
         ],
         "xaxis": "x",
         "y": [
          3,
          4,
          4,
          3
         ],
         "yaxis": "y"
        },
        {
         "fill": "toself",
         "fillcolor": "rgb(0, 0, 0)",
         "line": {
          "color": "#222222",
          "width": 1
         },
         "marker": {
          "cmax": 699.3438675676255,
          "cmin": 0,
          "color": [
           0.0,
           0.0,
           0.0,
           0.0
          ],
          "coloraxis": "coloraxis2",
          "opacity": 0
         },
         "mode": "lines+markers",
         "type": "scatter",
         "x": [
          3,
          4,
          4,
          3
         ],
         "xaxis": "x",
         "y": [
          3,
          3,
          4,
          3
         ],
         "yaxis": "y"
        },
        {
         "fill": "toself",
         "fillcolor": "rgb(43, 78, 34)",
         "line": {
          "color": "#222222",
          "width": 1
         },
         "marker": {
          "cmax": 1238.2841030156612,
          "cmin": 0,
          "color": [
           597.8820919199934,
           597.8820919199934,
           597.8820919199934,
           597.8820919199934
          ],
          "coloraxis": "coloraxis",
          "opacity": 0
         },
         "mode": "lines+markers",
         "type": "scatter",
         "x": [
          4,
          4,
          5,
          4
         ],
         "xaxis": "x",
         "y": [
          3,
          4,
          4,
          3
         ],
         "yaxis": "y"
        },
        {
         "fill": "toself",
         "fillcolor": "rgb(54, 38, 50)",
         "line": {
          "color": "#222222",
          "width": 1
         },
         "marker": {
          "cmax": 699.3438675676255,
          "cmin": 0,
          "color": [
           216.18542145507698,
           216.18542145507698,
           216.18542145507698,
           216.18542145507698
          ],
          "coloraxis": "coloraxis2",
          "opacity": 0
         },
         "mode": "lines+markers",
         "type": "scatter",
         "x": [
          4,
          5,
          5,
          4
         ],
         "xaxis": "x",
         "y": [
          3,
          3,
          4,
          3
         ],
         "yaxis": "y"
        },
        {
         "fill": "toself",
         "fillcolor": "rgb(27, 50, 22)",
         "line": {
          "color": "#222222",
          "width": 1
         },
         "marker": {
          "cmax": 1238.2841030156612,
          "cmin": 0,
          "color": [
           381.3383791247718,
           381.3383791247718,
           381.3383791247718,
           381.3383791247718
          ],
          "coloraxis": "coloraxis",
          "opacity": 0
         },
         "mode": "lines+markers",
         "type": "scatter",
         "x": [
          5,
          5,
          6,
          5
         ],
         "xaxis": "x",
         "y": [
          3,
          4,
          4,
          3
         ],
         "yaxis": "y"
        },
        {
         "fill": "toself",
         "fillcolor": "rgb(28, 19, 25)",
         "line": {
          "color": "#222222",
          "width": 1
         },
         "marker": {
          "cmax": 699.3438675676255,
          "cmin": 0,
          "color": [
           110.13849920635032,
           110.13849920635032,
           110.13849920635032,
           110.13849920635032
          ],
          "coloraxis": "coloraxis2",
          "opacity": 0
         },
         "mode": "lines+markers",
         "type": "scatter",
         "x": [
          5,
          6,
          6,
          5
         ],
         "xaxis": "x",
         "y": [
          3,
          3,
          4,
          3
         ],
         "yaxis": "y"
        },
        {
         "fill": "toself",
         "fillcolor": "rgb(40, 73, 32)",
         "line": {
          "color": "#222222",
          "width": 1
         },
         "marker": {
          "cmax": 1238.2841030156612,
          "cmin": 0,
          "color": [
           559.3213575834127,
           559.3213575834127,
           559.3213575834127,
           559.3213575834127
          ],
          "coloraxis": "coloraxis",
          "opacity": 0
         },
         "mode": "lines+markers",
         "type": "scatter",
         "x": [
          6,
          6,
          7,
          6
         ],
         "xaxis": "x",
         "y": [
          3,
          4,
          4,
          3
         ],
         "yaxis": "y"
        },
        {
         "fill": "toself",
         "fillcolor": "rgb(49, 34, 45)",
         "line": {
          "color": "#222222",
          "width": 1
         },
         "marker": {
          "cmax": 699.3438675676255,
          "cmin": 0,
          "color": [
           193.34422671372081,
           193.34422671372081,
           193.34422671372081,
           193.34422671372081
          ],
          "coloraxis": "coloraxis2",
          "opacity": 0
         },
         "mode": "lines+markers",
         "type": "scatter",
         "x": [
          6,
          7,
          7,
          6
         ],
         "xaxis": "x",
         "y": [
          3,
          3,
          4,
          3
         ],
         "yaxis": "y"
        },
        {
         "fill": "toself",
         "fillcolor": "rgb(0, 0, 0)",
         "line": {
          "color": "#222222",
          "width": 1
         },
         "marker": {
          "cmax": 1238.2841030156612,
          "cmin": 0,
          "color": [
           0.0,
           0.0,
           0.0,
           0.0
          ],
          "coloraxis": "coloraxis",
          "opacity": 0
         },
         "mode": "lines+markers",
         "type": "scatter",
         "x": [
          7,
          7,
          8,
          7
         ],
         "xaxis": "x",
         "y": [
          3,
          4,
          4,
          3
         ],
         "yaxis": "y"
        },
        {
         "fill": "toself",
         "fillcolor": "rgb(0, 0, 0)",
         "line": {
          "color": "#222222",
          "width": 1
         },
         "marker": {
          "cmax": 699.3438675676255,
          "cmin": 0,
          "color": [
           0.0,
           0.0,
           0.0,
           0.0
          ],
          "coloraxis": "coloraxis2",
          "opacity": 0
         },
         "mode": "lines+markers",
         "type": "scatter",
         "x": [
          7,
          8,
          8,
          7
         ],
         "xaxis": "x",
         "y": [
          3,
          3,
          4,
          3
         ],
         "yaxis": "y"
        },
        {
         "fill": "toself",
         "fillcolor": "rgb(0, 0, 0)",
         "line": {
          "color": "#222222",
          "width": 1
         },
         "marker": {
          "cmax": 1238.2841030156612,
          "cmin": 0,
          "color": [
           0.0,
           0.0,
           0.0,
           0.0
          ],
          "coloraxis": "coloraxis",
          "opacity": 0
         },
         "mode": "lines+markers",
         "type": "scatter",
         "x": [
          8,
          8,
          9,
          8
         ],
         "xaxis": "x",
         "y": [
          3,
          4,
          4,
          3
         ],
         "yaxis": "y"
        },
        {
         "fill": "toself",
         "fillcolor": "rgb(0, 0, 0)",
         "line": {
          "color": "#222222",
          "width": 1
         },
         "marker": {
          "cmax": 699.3438675676255,
          "cmin": 0,
          "color": [
           0.0,
           0.0,
           0.0,
           0.0
          ],
          "coloraxis": "coloraxis2",
          "opacity": 0
         },
         "mode": "lines+markers",
         "type": "scatter",
         "x": [
          8,
          9,
          9,
          8
         ],
         "xaxis": "x",
         "y": [
          3,
          3,
          4,
          3
         ],
         "yaxis": "y"
        },
        {
         "fill": "toself",
         "fillcolor": "rgb(0, 0, 0)",
         "line": {
          "color": "#222222",
          "width": 1
         },
         "marker": {
          "cmax": 1238.2841030156612,
          "cmin": 0,
          "color": [
           0.0,
           0.0,
           0.0,
           0.0
          ],
          "coloraxis": "coloraxis",
          "opacity": 0
         },
         "mode": "lines+markers",
         "type": "scatter",
         "x": [
          9,
          9,
          10,
          9
         ],
         "xaxis": "x",
         "y": [
          3,
          4,
          4,
          3
         ],
         "yaxis": "y"
        },
        {
         "fill": "toself",
         "fillcolor": "rgb(0, 0, 0)",
         "line": {
          "color": "#222222",
          "width": 1
         },
         "marker": {
          "cmax": 699.3438675676255,
          "cmin": 0,
          "color": [
           0.0,
           0.0,
           0.0,
           0.0
          ],
          "coloraxis": "coloraxis2",
          "opacity": 0
         },
         "mode": "lines+markers",
         "type": "scatter",
         "x": [
          9,
          10,
          10,
          9
         ],
         "xaxis": "x",
         "y": [
          3,
          3,
          4,
          3
         ],
         "yaxis": "y"
        },
        {
         "fill": "toself",
         "fillcolor": "rgb(0, 0, 0)",
         "line": {
          "color": "#222222",
          "width": 1
         },
         "marker": {
          "cmax": 1238.2841030156612,
          "cmin": 0,
          "color": [
           0.0,
           0.0,
           0.0,
           0.0
          ],
          "coloraxis": "coloraxis",
          "opacity": 0
         },
         "mode": "lines+markers",
         "type": "scatter",
         "x": [
          0,
          0,
          1,
          0
         ],
         "xaxis": "x2",
         "y": [
          0,
          1,
          1,
          0
         ],
         "yaxis": "y2"
        },
        {
         "fill": "toself",
         "fillcolor": "rgb(0, 0, 0)",
         "line": {
          "color": "#222222",
          "width": 1
         },
         "marker": {
          "cmax": 699.3438675676255,
          "cmin": 0,
          "color": [
           0.0,
           0.0,
           0.0,
           0.0
          ],
          "coloraxis": "coloraxis2",
          "opacity": 0
         },
         "mode": "lines+markers",
         "type": "scatter",
         "x": [
          0,
          1,
          1,
          0
         ],
         "xaxis": "x2",
         "y": [
          0,
          0,
          1,
          0
         ],
         "yaxis": "y2"
        },
        {
         "fill": "toself",
         "fillcolor": "rgb(0, 0, 0)",
         "line": {
          "color": "#222222",
          "width": 1
         },
         "marker": {
          "cmax": 1238.2841030156612,
          "cmin": 0,
          "color": [
           0.0,
           0.0,
           0.0,
           0.0
          ],
          "coloraxis": "coloraxis",
          "opacity": 0
         },
         "mode": "lines+markers",
         "type": "scatter",
         "x": [
          1,
          1,
          2,
          1
         ],
         "xaxis": "x2",
         "y": [
          0,
          1,
          1,
          0
         ],
         "yaxis": "y2"
        },
        {
         "fill": "toself",
         "fillcolor": "rgb(0, 0, 0)",
         "line": {
          "color": "#222222",
          "width": 1
         },
         "marker": {
          "cmax": 699.3438675676255,
          "cmin": 0,
          "color": [
           0.0,
           0.0,
           0.0,
           0.0
          ],
          "coloraxis": "coloraxis2",
          "opacity": 0
         },
         "mode": "lines+markers",
         "type": "scatter",
         "x": [
          1,
          2,
          2,
          1
         ],
         "xaxis": "x2",
         "y": [
          0,
          0,
          1,
          0
         ],
         "yaxis": "y2"
        },
        {
         "fill": "toself",
         "fillcolor": "rgb(13, 24, 11)",
         "line": {
          "color": "#222222",
          "width": 1
         },
         "marker": {
          "cmax": 1238.2841030156612,
          "cmin": 0,
          "color": [
           185.17022670909623,
           185.17022670909623,
           185.17022670909623,
           185.17022670909623
          ],
          "coloraxis": "coloraxis",
          "opacity": 0
         },
         "mode": "lines+markers",
         "type": "scatter",
         "x": [
          2,
          2,
          3,
          2
         ],
         "xaxis": "x2",
         "y": [
          0,
          1,
          1,
          0
         ],
         "yaxis": "y2"
        },
        {
         "fill": "toself",
         "fillcolor": "rgb(9, 6, 8)",
         "line": {
          "color": "#222222",
          "width": 1
         },
         "marker": {
          "cmax": 699.3438675676255,
          "cmin": 0,
          "color": [
           36.6902413202855,
           36.6902413202855,
           36.6902413202855,
           36.6902413202855
          ],
          "coloraxis": "coloraxis2",
          "opacity": 0
         },
         "mode": "lines+markers",
         "type": "scatter",
         "x": [
          2,
          3,
          3,
          2
         ],
         "xaxis": "x2",
         "y": [
          0,
          0,
          1,
          0
         ],
         "yaxis": "y2"
        },
        {
         "fill": "toself",
         "fillcolor": "rgb(6, 12, 5)",
         "line": {
          "color": "#222222",
          "width": 1
         },
         "marker": {
          "cmax": 1238.2841030156612,
          "cmin": 0,
          "color": [
           90.10903632867327,
           90.10903632867327,
           90.10903632867327,
           90.10903632867327
          ],
          "coloraxis": "coloraxis",
          "opacity": 0
         },
         "mode": "lines+markers",
         "type": "scatter",
         "x": [
          3,
          3,
          4,
          3
         ],
         "xaxis": "x2",
         "y": [
          0,
          1,
          1,
          0
         ],
         "yaxis": "y2"
        },
        {
         "fill": "toself",
         "fillcolor": "rgb(16, 11, 15)",
         "line": {
          "color": "#222222",
          "width": 1
         },
         "marker": {
          "cmax": 699.3438675676255,
          "cmin": 0,
          "color": [
           63.35346043011189,
           63.35346043011189,
           63.35346043011189,
           63.35346043011189
          ],
          "coloraxis": "coloraxis2",
          "opacity": 0
         },
         "mode": "lines+markers",
         "type": "scatter",
         "x": [
          3,
          4,
          4,
          3
         ],
         "xaxis": "x2",
         "y": [
          0,
          0,
          1,
          0
         ],
         "yaxis": "y2"
        },
        {
         "fill": "toself",
         "fillcolor": "rgb(0, 0, 0)",
         "line": {
          "color": "#222222",
          "width": 1
         },
         "marker": {
          "cmax": 1238.2841030156612,
          "cmin": 0,
          "color": [
           0.0,
           0.0,
           0.0,
           0.0
          ],
          "coloraxis": "coloraxis",
          "opacity": 0
         },
         "mode": "lines+markers",
         "type": "scatter",
         "x": [
          4,
          4,
          5,
          4
         ],
         "xaxis": "x2",
         "y": [
          0,
          1,
          1,
          0
         ],
         "yaxis": "y2"
        },
        {
         "fill": "toself",
         "fillcolor": "rgb(0, 0, 0)",
         "line": {
          "color": "#222222",
          "width": 1
         },
         "marker": {
          "cmax": 699.3438675676255,
          "cmin": 0,
          "color": [
           0.0,
           0.0,
           0.0,
           0.0
          ],
          "coloraxis": "coloraxis2",
          "opacity": 0
         },
         "mode": "lines+markers",
         "type": "scatter",
         "x": [
          4,
          5,
          5,
          4
         ],
         "xaxis": "x2",
         "y": [
          0,
          0,
          1,
          0
         ],
         "yaxis": "y2"
        },
        {
         "fill": "toself",
         "fillcolor": "rgb(20, 35, 16)",
         "line": {
          "color": "#222222",
          "width": 1
         },
         "marker": {
          "cmax": 1238.2841030156612,
          "cmin": 0,
          "color": [
           271.426717312794,
           271.426717312794,
           271.426717312794,
           271.426717312794
          ],
          "coloraxis": "coloraxis",
          "opacity": 0
         },
         "mode": "lines+markers",
         "type": "scatter",
         "x": [
          5,
          5,
          6,
          5
         ],
         "xaxis": "x2",
         "y": [
          0,
          1,
          1,
          0
         ],
         "yaxis": "y2"
        },
        {
         "fill": "toself",
         "fillcolor": "rgb(36, 25, 33)",
         "line": {
          "color": "#222222",
          "width": 1
         },
         "marker": {
          "cmax": 699.3438675676255,
          "cmin": 0,
          "color": [
           144.89084870265492,
           144.89084870265492,
           144.89084870265492,
           144.89084870265492
          ],
          "coloraxis": "coloraxis2",
          "opacity": 0
         },
         "mode": "lines+markers",
         "type": "scatter",
         "x": [
          5,
          6,
          6,
          5
         ],
         "xaxis": "x2",
         "y": [
          0,
          0,
          1,
          0
         ],
         "yaxis": "y2"
        },
        {
         "fill": "toself",
         "fillcolor": "rgb(6, 10, 4)",
         "line": {
          "color": "#222222",
          "width": 1
         },
         "marker": {
          "cmax": 1238.2841030156612,
          "cmin": 0,
          "color": [
           78.30370070586793,
           78.30370070586793,
           78.30370070586793,
           78.30370070586793
          ],
          "coloraxis": "coloraxis",
          "opacity": 0
         },
         "mode": "lines+markers",
         "type": "scatter",
         "x": [
          6,
          6,
          7,
          6
         ],
         "xaxis": "x2",
         "y": [
          0,
          1,
          1,
          0
         ],
         "yaxis": "y2"
        },
        {
         "fill": "toself",
         "fillcolor": "rgb(17, 12, 16)",
         "line": {
          "color": "#222222",
          "width": 1
         },
         "marker": {
          "cmax": 699.3438675676255,
          "cmin": 0,
          "color": [
           67.87939819067788,
           67.87939819067788,
           67.87939819067788,
           67.87939819067788
          ],
          "coloraxis": "coloraxis2",
          "opacity": 0
         },
         "mode": "lines+markers",
         "type": "scatter",
         "x": [
          6,
          7,
          7,
          6
         ],
         "xaxis": "x2",
         "y": [
          0,
          0,
          1,
          0
         ],
         "yaxis": "y2"
        },
        {
         "fill": "toself",
         "fillcolor": "rgb(27, 48, 21)",
         "line": {
          "color": "#222222",
          "width": 1
         },
         "marker": {
          "cmax": 1238.2841030156612,
          "cmin": 0,
          "color": [
           370.33476414708457,
           370.33476414708457,
           370.33476414708457,
           370.33476414708457
          ],
          "coloraxis": "coloraxis",
          "opacity": 0
         },
         "mode": "lines+markers",
         "type": "scatter",
         "x": [
          7,
          7,
          8,
          7
         ],
         "xaxis": "x2",
         "y": [
          0,
          1,
          1,
          0
         ],
         "yaxis": "y2"
        },
        {
         "fill": "toself",
         "fillcolor": "rgb(36, 25, 33)",
         "line": {
          "color": "#222222",
          "width": 1
         },
         "marker": {
          "cmax": 699.3438675676255,
          "cmin": 0,
          "color": [
           143.17026650685216,
           143.17026650685216,
           143.17026650685216,
           143.17026650685216
          ],
          "coloraxis": "coloraxis2",
          "opacity": 0
         },
         "mode": "lines+markers",
         "type": "scatter",
         "x": [
          7,
          8,
          8,
          7
         ],
         "xaxis": "x2",
         "y": [
          0,
          0,
          1,
          0
         ],
         "yaxis": "y2"
        },
        {
         "fill": "toself",
         "fillcolor": "rgb(6, 12, 5)",
         "line": {
          "color": "#222222",
          "width": 1
         },
         "marker": {
          "cmax": 1238.2841030156612,
          "cmin": 0,
          "color": [
           88.87601472771286,
           88.87601472771286,
           88.87601472771286,
           88.87601472771286
          ],
          "coloraxis": "coloraxis",
          "opacity": 0
         },
         "mode": "lines+markers",
         "type": "scatter",
         "x": [
          8,
          8,
          9,
          8
         ],
         "xaxis": "x2",
         "y": [
          0,
          1,
          1,
          0
         ],
         "yaxis": "y2"
        },
        {
         "fill": "toself",
         "fillcolor": "rgb(17, 12, 16)",
         "line": {
          "color": "#222222",
          "width": 1
         },
         "marker": {
          "cmax": 699.3438675676255,
          "cmin": 0,
          "color": [
           69.48850318726396,
           69.48850318726396,
           69.48850318726396,
           69.48850318726396
          ],
          "coloraxis": "coloraxis2",
          "opacity": 0
         },
         "mode": "lines+markers",
         "type": "scatter",
         "x": [
          8,
          9,
          9,
          8
         ],
         "xaxis": "x2",
         "y": [
          0,
          0,
          1,
          0
         ],
         "yaxis": "y2"
        },
        {
         "fill": "toself",
         "fillcolor": "rgb(10, 18, 8)",
         "line": {
          "color": "#222222",
          "width": 1
         },
         "marker": {
          "cmax": 1238.2841030156612,
          "cmin": 0,
          "color": [
           135.65850160078327,
           135.65850160078327,
           135.65850160078327,
           135.65850160078327
          ],
          "coloraxis": "coloraxis",
          "opacity": 0
         },
         "mode": "lines+markers",
         "type": "scatter",
         "x": [
          9,
          9,
          10,
          9
         ],
         "xaxis": "x2",
         "y": [
          0,
          1,
          1,
          0
         ],
         "yaxis": "y2"
        },
        {
         "fill": "toself",
         "fillcolor": "rgb(8, 6, 8)",
         "line": {
          "color": "#222222",
          "width": 1
         },
         "marker": {
          "cmax": 699.3438675676255,
          "cmin": 0,
          "color": [
           33.06363786635629,
           33.06363786635629,
           33.06363786635629,
           33.06363786635629
          ],
          "coloraxis": "coloraxis2",
          "opacity": 0
         },
         "mode": "lines+markers",
         "type": "scatter",
         "x": [
          9,
          10,
          10,
          9
         ],
         "xaxis": "x2",
         "y": [
          0,
          0,
          1,
          0
         ],
         "yaxis": "y2"
        },
        {
         "fill": "toself",
         "fillcolor": "rgb(0, 0, 0)",
         "line": {
          "color": "#222222",
          "width": 1
         },
         "marker": {
          "cmax": 1238.2841030156612,
          "cmin": 0,
          "color": [
           0.0,
           0.0,
           0.0,
           0.0
          ],
          "coloraxis": "coloraxis",
          "opacity": 0
         },
         "mode": "lines+markers",
         "type": "scatter",
         "x": [
          0,
          0,
          1,
          0
         ],
         "xaxis": "x2",
         "y": [
          1,
          2,
          2,
          1
         ],
         "yaxis": "y2"
        },
        {
         "fill": "toself",
         "fillcolor": "rgb(0, 0, 0)",
         "line": {
          "color": "#222222",
          "width": 1
         },
         "marker": {
          "cmax": 699.3438675676255,
          "cmin": 0,
          "color": [
           0.0,
           0.0,
           0.0,
           0.0
          ],
          "coloraxis": "coloraxis2",
          "opacity": 0
         },
         "mode": "lines+markers",
         "type": "scatter",
         "x": [
          0,
          1,
          1,
          0
         ],
         "xaxis": "x2",
         "y": [
          1,
          1,
          2,
          1
         ],
         "yaxis": "y2"
        },
        {
         "fill": "toself",
         "fillcolor": "rgb(0, 0, 0)",
         "line": {
          "color": "#222222",
          "width": 1
         },
         "marker": {
          "cmax": 1238.2841030156612,
          "cmin": 0,
          "color": [
           0.0,
           0.0,
           0.0,
           0.0
          ],
          "coloraxis": "coloraxis",
          "opacity": 0
         },
         "mode": "lines+markers",
         "type": "scatter",
         "x": [
          1,
          1,
          2,
          1
         ],
         "xaxis": "x2",
         "y": [
          1,
          2,
          2,
          1
         ],
         "yaxis": "y2"
        },
        {
         "fill": "toself",
         "fillcolor": "rgb(0, 0, 0)",
         "line": {
          "color": "#222222",
          "width": 1
         },
         "marker": {
          "cmax": 699.3438675676255,
          "cmin": 0,
          "color": [
           0.0,
           0.0,
           0.0,
           0.0
          ],
          "coloraxis": "coloraxis2",
          "opacity": 0
         },
         "mode": "lines+markers",
         "type": "scatter",
         "x": [
          1,
          2,
          2,
          1
         ],
         "xaxis": "x2",
         "y": [
          1,
          1,
          2,
          1
         ],
         "yaxis": "y2"
        },
        {
         "fill": "toself",
         "fillcolor": "rgb(21, 38, 17)",
         "line": {
          "color": "#222222",
          "width": 1
         },
         "marker": {
          "cmax": 1238.2841030156612,
          "cmin": 0,
          "color": [
           291.9097648379026,
           291.9097648379026,
           291.9097648379026,
           291.9097648379026
          ],
          "coloraxis": "coloraxis",
          "opacity": 0
         },
         "mode": "lines+markers",
         "type": "scatter",
         "x": [
          2,
          2,
          3,
          2
         ],
         "xaxis": "x2",
         "y": [
          1,
          2,
          2,
          1
         ],
         "yaxis": "y2"
        },
        {
         "fill": "toself",
         "fillcolor": "rgb(27, 19, 25)",
         "line": {
          "color": "#222222",
          "width": 1
         },
         "marker": {
          "cmax": 699.3438675676255,
          "cmin": 0,
          "color": [
           108.91489429780091,
           108.91489429780091,
           108.91489429780091,
           108.91489429780091
          ],
          "coloraxis": "coloraxis2",
          "opacity": 0
         },
         "mode": "lines+markers",
         "type": "scatter",
         "x": [
          2,
          3,
          3,
          2
         ],
         "xaxis": "x2",
         "y": [
          1,
          1,
          2,
          1
         ],
         "yaxis": "y2"
        },
        {
         "fill": "toself",
         "fillcolor": "rgb(0, 0, 0)",
         "line": {
          "color": "#222222",
          "width": 1
         },
         "marker": {
          "cmax": 1238.2841030156612,
          "cmin": 0,
          "color": [
           0.0,
           0.0,
           0.0,
           0.0
          ],
          "coloraxis": "coloraxis",
          "opacity": 0
         },
         "mode": "lines+markers",
         "type": "scatter",
         "x": [
          3,
          3,
          4,
          3
         ],
         "xaxis": "x2",
         "y": [
          1,
          2,
          2,
          1
         ],
         "yaxis": "y2"
        },
        {
         "fill": "toself",
         "fillcolor": "rgb(0, 0, 0)",
         "line": {
          "color": "#222222",
          "width": 1
         },
         "marker": {
          "cmax": 699.3438675676255,
          "cmin": 0,
          "color": [
           0.0,
           0.0,
           0.0,
           0.0
          ],
          "coloraxis": "coloraxis2",
          "opacity": 0
         },
         "mode": "lines+markers",
         "type": "scatter",
         "x": [
          3,
          4,
          4,
          3
         ],
         "xaxis": "x2",
         "y": [
          1,
          1,
          2,
          1
         ],
         "yaxis": "y2"
        },
        {
         "fill": "toself",
         "fillcolor": "rgb(0, 0, 0)",
         "line": {
          "color": "#222222",
          "width": 1
         },
         "marker": {
          "cmax": 1238.2841030156612,
          "cmin": 0,
          "color": [
           0.0,
           0.0,
           0.0,
           0.0
          ],
          "coloraxis": "coloraxis",
          "opacity": 0
         },
         "mode": "lines+markers",
         "type": "scatter",
         "x": [
          4,
          4,
          5,
          4
         ],
         "xaxis": "x2",
         "y": [
          1,
          2,
          2,
          1
         ],
         "yaxis": "y2"
        },
        {
         "fill": "toself",
         "fillcolor": "rgb(0, 0, 0)",
         "line": {
          "color": "#222222",
          "width": 1
         },
         "marker": {
          "cmax": 699.3438675676255,
          "cmin": 0,
          "color": [
           0.0,
           0.0,
           0.0,
           0.0
          ],
          "coloraxis": "coloraxis2",
          "opacity": 0
         },
         "mode": "lines+markers",
         "type": "scatter",
         "x": [
          4,
          5,
          5,
          4
         ],
         "xaxis": "x2",
         "y": [
          1,
          1,
          2,
          1
         ],
         "yaxis": "y2"
        },
        {
         "fill": "toself",
         "fillcolor": "rgb(23, 42, 18)",
         "line": {
          "color": "#222222",
          "width": 1
         },
         "marker": {
          "cmax": 1238.2841030156612,
          "cmin": 0,
          "color": [
           319.9924353691416,
           319.9924353691416,
           319.9924353691416,
           319.9924353691416
          ],
          "coloraxis": "coloraxis",
          "opacity": 0
         },
         "mode": "lines+markers",
         "type": "scatter",
         "x": [
          5,
          5,
          6,
          5
         ],
         "xaxis": "x2",
         "y": [
          1,
          2,
          2,
          1
         ],
         "yaxis": "y2"
        },
        {
         "fill": "toself",
         "fillcolor": "rgb(28, 20, 26)",
         "line": {
          "color": "#222222",
          "width": 1
         },
         "marker": {
          "cmax": 699.3438675676255,
          "cmin": 0,
          "color": [
           111.94009429377898,
           111.94009429377898,
           111.94009429377898,
           111.94009429377898
          ],
          "coloraxis": "coloraxis2",
          "opacity": 0
         },
         "mode": "lines+markers",
         "type": "scatter",
         "x": [
          5,
          6,
          6,
          5
         ],
         "xaxis": "x2",
         "y": [
          1,
          1,
          2,
          1
         ],
         "yaxis": "y2"
        },
        {
         "fill": "toself",
         "fillcolor": "rgb(0, 0, 0)",
         "line": {
          "color": "#222222",
          "width": 1
         },
         "marker": {
          "cmax": 1238.2841030156612,
          "cmin": 0,
          "color": [
           0.0,
           0.0,
           0.0,
           0.0
          ],
          "coloraxis": "coloraxis",
          "opacity": 0
         },
         "mode": "lines+markers",
         "type": "scatter",
         "x": [
          6,
          6,
          7,
          6
         ],
         "xaxis": "x2",
         "y": [
          1,
          2,
          2,
          1
         ],
         "yaxis": "y2"
        },
        {
         "fill": "toself",
         "fillcolor": "rgb(0, 0, 0)",
         "line": {
          "color": "#222222",
          "width": 1
         },
         "marker": {
          "cmax": 699.3438675676255,
          "cmin": 0,
          "color": [
           0.0,
           0.0,
           0.0,
           0.0
          ],
          "coloraxis": "coloraxis2",
          "opacity": 0
         },
         "mode": "lines+markers",
         "type": "scatter",
         "x": [
          6,
          7,
          7,
          6
         ],
         "xaxis": "x2",
         "y": [
          1,
          1,
          2,
          1
         ],
         "yaxis": "y2"
        },
        {
         "fill": "toself",
         "fillcolor": "rgb(22, 40, 18)",
         "line": {
          "color": "#222222",
          "width": 1
         },
         "marker": {
          "cmax": 1238.2841030156612,
          "cmin": 0,
          "color": [
           311.36565168604267,
           311.36565168604267,
           311.36565168604267,
           311.36565168604267
          ],
          "coloraxis": "coloraxis",
          "opacity": 0
         },
         "mode": "lines+markers",
         "type": "scatter",
         "x": [
          7,
          7,
          8,
          7
         ],
         "xaxis": "x2",
         "y": [
          1,
          2,
          2,
          1
         ],
         "yaxis": "y2"
        },
        {
         "fill": "toself",
         "fillcolor": "rgb(27, 19, 25)",
         "line": {
          "color": "#222222",
          "width": 1
         },
         "marker": {
          "cmax": 699.3438675676255,
          "cmin": 0,
          "color": [
           106.69688047234426,
           106.69688047234426,
           106.69688047234426,
           106.69688047234426
          ],
          "coloraxis": "coloraxis2",
          "opacity": 0
         },
         "mode": "lines+markers",
         "type": "scatter",
         "x": [
          7,
          8,
          8,
          7
         ],
         "xaxis": "x2",
         "y": [
          1,
          1,
          2,
          1
         ],
         "yaxis": "y2"
        },
        {
         "fill": "toself",
         "fillcolor": "rgb(8, 14, 6)",
         "line": {
          "color": "#222222",
          "width": 1
         },
         "marker": {
          "cmax": 1238.2841030156612,
          "cmin": 0,
          "color": [
           109.06323464017818,
           109.06323464017818,
           109.06323464017818,
           109.06323464017818
          ],
          "coloraxis": "coloraxis",
          "opacity": 0
         },
         "mode": "lines+markers",
         "type": "scatter",
         "x": [
          8,
          8,
          9,
          8
         ],
         "xaxis": "x2",
         "y": [
          1,
          2,
          2,
          1
         ],
         "yaxis": "y2"
        },
        {
         "fill": "toself",
         "fillcolor": "rgb(37, 26, 34)",
         "line": {
          "color": "#222222",
          "width": 1
         },
         "marker": {
          "cmax": 699.3438675676255,
          "cmin": 0,
          "color": [
           148.02816693211867,
           148.02816693211867,
           148.02816693211867,
           148.02816693211867
          ],
          "coloraxis": "coloraxis2",
          "opacity": 0
         },
         "mode": "lines+markers",
         "type": "scatter",
         "x": [
          8,
          9,
          9,
          8
         ],
         "xaxis": "x2",
         "y": [
          1,
          1,
          2,
          1
         ],
         "yaxis": "y2"
        },
        {
         "fill": "toself",
         "fillcolor": "rgb(6, 10, 5)",
         "line": {
          "color": "#222222",
          "width": 1
         },
         "marker": {
          "cmax": 1238.2841030156612,
          "cmin": 0,
          "color": [
           79.94573513375481,
           79.94573513375481,
           79.94573513375481,
           79.94573513375481
          ],
          "coloraxis": "coloraxis",
          "opacity": 0
         },
         "mode": "lines+markers",
         "type": "scatter",
         "x": [
          9,
          9,
          10,
          9
         ],
         "xaxis": "x2",
         "y": [
          1,
          2,
          2,
          1
         ],
         "yaxis": "y2"
        },
        {
         "fill": "toself",
         "fillcolor": "rgb(33, 23, 30)",
         "line": {
          "color": "#222222",
          "width": 1
         },
         "marker": {
          "cmax": 699.3438675676255,
          "cmin": 0,
          "color": [
           132.23565571513936,
           132.23565571513936,
           132.23565571513936,
           132.23565571513936
          ],
          "coloraxis": "coloraxis2",
          "opacity": 0
         },
         "mode": "lines+markers",
         "type": "scatter",
         "x": [
          9,
          10,
          10,
          9
         ],
         "xaxis": "x2",
         "y": [
          1,
          1,
          2,
          1
         ],
         "yaxis": "y2"
        },
        {
         "fill": "toself",
         "fillcolor": "rgb(8, 15, 7)",
         "line": {
          "color": "#222222",
          "width": 1
         },
         "marker": {
          "cmax": 1238.2841030156612,
          "cmin": 0,
          "color": [
           114.61601001958047,
           114.61601001958047,
           114.61601001958047,
           114.61601001958047
          ],
          "coloraxis": "coloraxis",
          "opacity": 0
         },
         "mode": "lines+markers",
         "type": "scatter",
         "x": [
          0,
          0,
          1,
          0
         ],
         "xaxis": "x2",
         "y": [
          2,
          3,
          3,
          2
         ],
         "yaxis": "y2"
        },
        {
         "fill": "toself",
         "fillcolor": "rgb(114, 79, 104)",
         "line": {
          "color": "#222222",
          "width": 1
         },
         "marker": {
          "cmax": 699.3438675676255,
          "cmin": 0,
          "color": [
           453.4082087001985,
           453.4082087001985,
           453.4082087001985,
           453.4082087001985
          ],
          "coloraxis": "coloraxis2",
          "opacity": 0
         },
         "mode": "lines+markers",
         "type": "scatter",
         "x": [
          0,
          1,
          1,
          0
         ],
         "xaxis": "x2",
         "y": [
          2,
          2,
          3,
          2
         ],
         "yaxis": "y2"
        },
        {
         "fill": "toself",
         "fillcolor": "rgb(0, 0, 0)",
         "line": {
          "color": "#222222",
          "width": 1
         },
         "marker": {
          "cmax": 1238.2841030156612,
          "cmin": 0,
          "color": [
           0.0,
           0.0,
           0.0,
           0.0
          ],
          "coloraxis": "coloraxis",
          "opacity": 0
         },
         "mode": "lines+markers",
         "type": "scatter",
         "x": [
          1,
          1,
          2,
          1
         ],
         "xaxis": "x2",
         "y": [
          2,
          3,
          3,
          2
         ],
         "yaxis": "y2"
        },
        {
         "fill": "toself",
         "fillcolor": "rgb(0, 0, 0)",
         "line": {
          "color": "#222222",
          "width": 1
         },
         "marker": {
          "cmax": 699.3438675676255,
          "cmin": 0,
          "color": [
           0.0,
           0.0,
           0.0,
           0.0
          ],
          "coloraxis": "coloraxis2",
          "opacity": 0
         },
         "mode": "lines+markers",
         "type": "scatter",
         "x": [
          1,
          2,
          2,
          1
         ],
         "xaxis": "x2",
         "y": [
          2,
          2,
          3,
          2
         ],
         "yaxis": "y2"
        },
        {
         "fill": "toself",
         "fillcolor": "rgb(19, 34, 15)",
         "line": {
          "color": "#222222",
          "width": 1
         },
         "marker": {
          "cmax": 1238.2841030156612,
          "cmin": 0,
          "color": [
           260.47489321512575,
           260.47489321512575,
           260.47489321512575,
           260.47489321512575
          ],
          "coloraxis": "coloraxis",
          "opacity": 0
         },
         "mode": "lines+markers",
         "type": "scatter",
         "x": [
          2,
          2,
          3,
          2
         ],
         "xaxis": "x2",
         "y": [
          2,
          3,
          3,
          2
         ],
         "yaxis": "y2"
        },
        {
         "fill": "toself",
         "fillcolor": "rgb(74, 51, 67)",
         "line": {
          "color": "#222222",
          "width": 1
         },
         "marker": {
          "cmax": 699.3438675676255,
          "cmin": 0,
          "color": [
           292.7878217840902,
           292.7878217840902,
           292.7878217840902,
           292.7878217840902
          ],
          "coloraxis": "coloraxis2",
          "opacity": 0
         },
         "mode": "lines+markers",
         "type": "scatter",
         "x": [
          2,
          3,
          3,
          2
         ],
         "xaxis": "x2",
         "y": [
          2,
          2,
          3,
          2
         ],
         "yaxis": "y2"
        },
        {
         "fill": "toself",
         "fillcolor": "rgb(11, 20, 9)",
         "line": {
          "color": "#222222",
          "width": 1
         },
         "marker": {
          "cmax": 1238.2841030156612,
          "cmin": 0,
          "color": [
           151.02402268024832,
           151.02402268024832,
           151.02402268024832,
           151.02402268024832
          ],
          "coloraxis": "coloraxis",
          "opacity": 0
         },
         "mode": "lines+markers",
         "type": "scatter",
         "x": [
          3,
          3,
          4,
          3
         ],
         "xaxis": "x2",
         "y": [
          2,
          3,
          3,
          2
         ],
         "yaxis": "y2"
        },
        {
         "fill": "toself",
         "fillcolor": "rgb(89, 61, 81)",
         "line": {
          "color": "#222222",
          "width": 1
         },
         "marker": {
          "cmax": 699.3438675676255,
          "cmin": 0,
          "color": [
           352.02801171516074,
           352.02801171516074,
           352.02801171516074,
           352.02801171516074
          ],
          "coloraxis": "coloraxis2",
          "opacity": 0
         },
         "mode": "lines+markers",
         "type": "scatter",
         "x": [
          3,
          4,
          4,
          3
         ],
         "xaxis": "x2",
         "y": [
          2,
          2,
          3,
          2
         ],
         "yaxis": "y2"
        },
        {
         "fill": "toself",
         "fillcolor": "rgb(0, 0, 0)",
         "line": {
          "color": "#222222",
          "width": 1
         },
         "marker": {
          "cmax": 1238.2841030156612,
          "cmin": 0,
          "color": [
           0.0,
           0.0,
           0.0,
           0.0
          ],
          "coloraxis": "coloraxis",
          "opacity": 0
         },
         "mode": "lines+markers",
         "type": "scatter",
         "x": [
          4,
          4,
          5,
          4
         ],
         "xaxis": "x2",
         "y": [
          2,
          3,
          3,
          2
         ],
         "yaxis": "y2"
        },
        {
         "fill": "toself",
         "fillcolor": "rgb(0, 0, 0)",
         "line": {
          "color": "#222222",
          "width": 1
         },
         "marker": {
          "cmax": 699.3438675676255,
          "cmin": 0,
          "color": [
           0.0,
           0.0,
           0.0,
           0.0
          ],
          "coloraxis": "coloraxis2",
          "opacity": 0
         },
         "mode": "lines+markers",
         "type": "scatter",
         "x": [
          4,
          5,
          5,
          4
         ],
         "xaxis": "x2",
         "y": [
          2,
          2,
          3,
          2
         ],
         "yaxis": "y2"
        },
        {
         "fill": "toself",
         "fillcolor": "rgb(10, 18, 8)",
         "line": {
          "color": "#222222",
          "width": 1
         },
         "marker": {
          "cmax": 1238.2841030156612,
          "cmin": 0,
          "color": [
           136.06706527938658,
           136.06706527938658,
           136.06706527938658,
           136.06706527938658
          ],
          "coloraxis": "coloraxis",
          "opacity": 0
         },
         "mode": "lines+markers",
         "type": "scatter",
         "x": [
          5,
          5,
          6,
          5
         ],
         "xaxis": "x2",
         "y": [
          2,
          3,
          3,
          2
         ],
         "yaxis": "y2"
        },
        {
         "fill": "toself",
         "fillcolor": "rgb(13, 9, 12)",
         "line": {
          "color": "#222222",
          "width": 1
         },
         "marker": {
          "cmax": 699.3438675676255,
          "cmin": 0,
          "color": [
           51.33990053013648,
           51.33990053013648,
           51.33990053013648,
           51.33990053013648
          ],
          "coloraxis": "coloraxis2",
          "opacity": 0
         },
         "mode": "lines+markers",
         "type": "scatter",
         "x": [
          5,
          6,
          6,
          5
         ],
         "xaxis": "x2",
         "y": [
          2,
          2,
          3,
          2
         ],
         "yaxis": "y2"
        },
        {
         "fill": "toself",
         "fillcolor": "rgb(0, 0, 0)",
         "line": {
          "color": "#222222",
          "width": 1
         },
         "marker": {
          "cmax": 1238.2841030156612,
          "cmin": 0,
          "color": [
           0.0,
           0.0,
           0.0,
           0.0
          ],
          "coloraxis": "coloraxis",
          "opacity": 0
         },
         "mode": "lines+markers",
         "type": "scatter",
         "x": [
          6,
          6,
          7,
          6
         ],
         "xaxis": "x2",
         "y": [
          2,
          3,
          3,
          2
         ],
         "yaxis": "y2"
        },
        {
         "fill": "toself",
         "fillcolor": "rgb(0, 0, 0)",
         "line": {
          "color": "#222222",
          "width": 1
         },
         "marker": {
          "cmax": 699.3438675676255,
          "cmin": 0,
          "color": [
           0.0,
           0.0,
           0.0,
           0.0
          ],
          "coloraxis": "coloraxis2",
          "opacity": 0
         },
         "mode": "lines+markers",
         "type": "scatter",
         "x": [
          6,
          7,
          7,
          6
         ],
         "xaxis": "x2",
         "y": [
          2,
          2,
          3,
          2
         ],
         "yaxis": "y2"
        },
        {
         "fill": "toself",
         "fillcolor": "rgb(8, 14, 6)",
         "line": {
          "color": "#222222",
          "width": 1
         },
         "marker": {
          "cmax": 1238.2841030156612,
          "cmin": 0,
          "color": [
           108.8505125817957,
           108.8505125817957,
           108.8505125817957,
           108.8505125817957
          ],
          "coloraxis": "coloraxis",
          "opacity": 0
         },
         "mode": "lines+markers",
         "type": "scatter",
         "x": [
          7,
          7,
          8,
          7
         ],
         "xaxis": "x2",
         "y": [
          2,
          3,
          3,
          2
         ],
         "yaxis": "y2"
        },
        {
         "fill": "toself",
         "fillcolor": "rgb(10, 7, 9)",
         "line": {
          "color": "#222222",
          "width": 1
         },
         "marker": {
          "cmax": 699.3438675676255,
          "cmin": 0,
          "color": [
           39.17312124651699,
           39.17312124651699,
           39.17312124651699,
           39.17312124651699
          ],
          "coloraxis": "coloraxis2",
          "opacity": 0
         },
         "mode": "lines+markers",
         "type": "scatter",
         "x": [
          7,
          8,
          8,
          7
         ],
         "xaxis": "x2",
         "y": [
          2,
          2,
          3,
          2
         ],
         "yaxis": "y2"
        },
        {
         "fill": "toself",
         "fillcolor": "rgb(0, 0, 0)",
         "line": {
          "color": "#222222",
          "width": 1
         },
         "marker": {
          "cmax": 1238.2841030156612,
          "cmin": 0,
          "color": [
           0.0,
           0.0,
           0.0,
           0.0
          ],
          "coloraxis": "coloraxis",
          "opacity": 0
         },
         "mode": "lines+markers",
         "type": "scatter",
         "x": [
          8,
          8,
          9,
          8
         ],
         "xaxis": "x2",
         "y": [
          2,
          3,
          3,
          2
         ],
         "yaxis": "y2"
        },
        {
         "fill": "toself",
         "fillcolor": "rgb(0, 0, 0)",
         "line": {
          "color": "#222222",
          "width": 1
         },
         "marker": {
          "cmax": 699.3438675676255,
          "cmin": 0,
          "color": [
           0.0,
           0.0,
           0.0,
           0.0
          ],
          "coloraxis": "coloraxis2",
          "opacity": 0
         },
         "mode": "lines+markers",
         "type": "scatter",
         "x": [
          8,
          9,
          9,
          8
         ],
         "xaxis": "x2",
         "y": [
          2,
          2,
          3,
          2
         ],
         "yaxis": "y2"
        },
        {
         "fill": "toself",
         "fillcolor": "rgb(0, 0, 0)",
         "line": {
          "color": "#222222",
          "width": 1
         },
         "marker": {
          "cmax": 1238.2841030156612,
          "cmin": 0,
          "color": [
           0.0,
           0.0,
           0.0,
           0.0
          ],
          "coloraxis": "coloraxis",
          "opacity": 0
         },
         "mode": "lines+markers",
         "type": "scatter",
         "x": [
          9,
          9,
          10,
          9
         ],
         "xaxis": "x2",
         "y": [
          2,
          3,
          3,
          2
         ],
         "yaxis": "y2"
        },
        {
         "fill": "toself",
         "fillcolor": "rgb(0, 0, 0)",
         "line": {
          "color": "#222222",
          "width": 1
         },
         "marker": {
          "cmax": 699.3438675676255,
          "cmin": 0,
          "color": [
           0.0,
           0.0,
           0.0,
           0.0
          ],
          "coloraxis": "coloraxis2",
          "opacity": 0
         },
         "mode": "lines+markers",
         "type": "scatter",
         "x": [
          9,
          10,
          10,
          9
         ],
         "xaxis": "x2",
         "y": [
          2,
          2,
          3,
          2
         ],
         "yaxis": "y2"
        },
        {
         "fill": "toself",
         "fillcolor": "rgb(0, 0, 0)",
         "line": {
          "color": "#222222",
          "width": 1
         },
         "marker": {
          "cmax": 1238.2841030156612,
          "cmin": 0,
          "color": [
           0.0,
           0.0,
           0.0,
           0.0
          ],
          "coloraxis": "coloraxis",
          "opacity": 0
         },
         "mode": "lines+markers",
         "type": "scatter",
         "x": [
          0,
          0,
          1,
          0
         ],
         "xaxis": "x2",
         "y": [
          3,
          4,
          4,
          3
         ],
         "yaxis": "y2"
        },
        {
         "fill": "toself",
         "fillcolor": "rgb(0, 0, 0)",
         "line": {
          "color": "#222222",
          "width": 1
         },
         "marker": {
          "cmax": 699.3438675676255,
          "cmin": 0,
          "color": [
           0.0,
           0.0,
           0.0,
           0.0
          ],
          "coloraxis": "coloraxis2",
          "opacity": 0
         },
         "mode": "lines+markers",
         "type": "scatter",
         "x": [
          0,
          1,
          1,
          0
         ],
         "xaxis": "x2",
         "y": [
          3,
          3,
          4,
          3
         ],
         "yaxis": "y2"
        },
        {
         "fill": "toself",
         "fillcolor": "rgb(8, 14, 6)",
         "line": {
          "color": "#222222",
          "width": 1
         },
         "marker": {
          "cmax": 1238.2841030156612,
          "cmin": 0,
          "color": [
           106.41245709585799,
           106.41245709585799,
           106.41245709585799,
           106.41245709585799
          ],
          "coloraxis": "coloraxis",
          "opacity": 0
         },
         "mode": "lines+markers",
         "type": "scatter",
         "x": [
          1,
          1,
          2,
          1
         ],
         "xaxis": "x2",
         "y": [
          3,
          4,
          4,
          3
         ],
         "yaxis": "y2"
        },
        {
         "fill": "toself",
         "fillcolor": "rgb(113, 79, 104)",
         "line": {
          "color": "#222222",
          "width": 1
         },
         "marker": {
          "cmax": 699.3438675676255,
          "cmin": 0,
          "color": [
           450.882651602551,
           450.882651602551,
           450.882651602551,
           450.882651602551
          ],
          "coloraxis": "coloraxis2",
          "opacity": 0
         },
         "mode": "lines+markers",
         "type": "scatter",
         "x": [
          1,
          2,
          2,
          1
         ],
         "xaxis": "x2",
         "y": [
          3,
          3,
          4,
          3
         ],
         "yaxis": "y2"
        },
        {
         "fill": "toself",
         "fillcolor": "rgb(0, 0, 0)",
         "line": {
          "color": "#222222",
          "width": 1
         },
         "marker": {
          "cmax": 1238.2841030156612,
          "cmin": 0,
          "color": [
           0.0,
           0.0,
           0.0,
           0.0
          ],
          "coloraxis": "coloraxis",
          "opacity": 0
         },
         "mode": "lines+markers",
         "type": "scatter",
         "x": [
          2,
          2,
          3,
          2
         ],
         "xaxis": "x2",
         "y": [
          3,
          4,
          4,
          3
         ],
         "yaxis": "y2"
        },
        {
         "fill": "toself",
         "fillcolor": "rgb(0, 0, 0)",
         "line": {
          "color": "#222222",
          "width": 1
         },
         "marker": {
          "cmax": 699.3438675676255,
          "cmin": 0,
          "color": [
           0.0,
           0.0,
           0.0,
           0.0
          ],
          "coloraxis": "coloraxis2",
          "opacity": 0
         },
         "mode": "lines+markers",
         "type": "scatter",
         "x": [
          2,
          3,
          3,
          2
         ],
         "xaxis": "x2",
         "y": [
          3,
          3,
          4,
          3
         ],
         "yaxis": "y2"
        },
        {
         "fill": "toself",
         "fillcolor": "rgb(0, 0, 0)",
         "line": {
          "color": "#222222",
          "width": 1
         },
         "marker": {
          "cmax": 1238.2841030156612,
          "cmin": 0,
          "color": [
           0.0,
           0.0,
           0.0,
           0.0
          ],
          "coloraxis": "coloraxis",
          "opacity": 0
         },
         "mode": "lines+markers",
         "type": "scatter",
         "x": [
          3,
          3,
          4,
          3
         ],
         "xaxis": "x2",
         "y": [
          3,
          4,
          4,
          3
         ],
         "yaxis": "y2"
        },
        {
         "fill": "toself",
         "fillcolor": "rgb(0, 0, 0)",
         "line": {
          "color": "#222222",
          "width": 1
         },
         "marker": {
          "cmax": 699.3438675676255,
          "cmin": 0,
          "color": [
           0.0,
           0.0,
           0.0,
           0.0
          ],
          "coloraxis": "coloraxis2",
          "opacity": 0
         },
         "mode": "lines+markers",
         "type": "scatter",
         "x": [
          3,
          4,
          4,
          3
         ],
         "xaxis": "x2",
         "y": [
          3,
          3,
          4,
          3
         ],
         "yaxis": "y2"
        },
        {
         "fill": "toself",
         "fillcolor": "rgb(15, 27, 12)",
         "line": {
          "color": "#222222",
          "width": 1
         },
         "marker": {
          "cmax": 1238.2841030156612,
          "cmin": 0,
          "color": [
           206.03337527941673,
           206.03337527941673,
           206.03337527941673,
           206.03337527941673
          ],
          "coloraxis": "coloraxis",
          "opacity": 0
         },
         "mode": "lines+markers",
         "type": "scatter",
         "x": [
          4,
          4,
          5,
          4
         ],
         "xaxis": "x2",
         "y": [
          3,
          4,
          4,
          3
         ],
         "yaxis": "y2"
        },
        {
         "fill": "toself",
         "fillcolor": "rgb(70, 49, 64)",
         "line": {
          "color": "#222222",
          "width": 1
         },
         "marker": {
          "cmax": 699.3438675676255,
          "cmin": 0,
          "color": [
           278.9851919069635,
           278.9851919069635,
           278.9851919069635,
           278.9851919069635
          ],
          "coloraxis": "coloraxis2",
          "opacity": 0
         },
         "mode": "lines+markers",
         "type": "scatter",
         "x": [
          4,
          5,
          5,
          4
         ],
         "xaxis": "x2",
         "y": [
          3,
          3,
          4,
          3
         ],
         "yaxis": "y2"
        },
        {
         "fill": "toself",
         "fillcolor": "rgb(13, 23, 10)",
         "line": {
          "color": "#222222",
          "width": 1
         },
         "marker": {
          "cmax": 1238.2841030156612,
          "cmin": 0,
          "color": [
           176.5803080324516,
           176.5803080324516,
           176.5803080324516,
           176.5803080324516
          ],
          "coloraxis": "coloraxis",
          "opacity": 0
         },
         "mode": "lines+markers",
         "type": "scatter",
         "x": [
          5,
          5,
          6,
          5
         ],
         "xaxis": "x2",
         "y": [
          3,
          4,
          4,
          3
         ],
         "yaxis": "y2"
        },
        {
         "fill": "toself",
         "fillcolor": "rgb(9, 6, 8)",
         "line": {
          "color": "#222222",
          "width": 1
         },
         "marker": {
          "cmax": 699.3438675676255,
          "cmin": 0,
          "color": [
           35.88617135039978,
           35.88617135039978,
           35.88617135039978,
           35.88617135039978
          ],
          "coloraxis": "coloraxis2",
          "opacity": 0
         },
         "mode": "lines+markers",
         "type": "scatter",
         "x": [
          5,
          6,
          6,
          5
         ],
         "xaxis": "x2",
         "y": [
          3,
          3,
          4,
          3
         ],
         "yaxis": "y2"
        },
        {
         "fill": "toself",
         "fillcolor": "rgb(0, 0, 0)",
         "line": {
          "color": "#222222",
          "width": 1
         },
         "marker": {
          "cmax": 1238.2841030156612,
          "cmin": 0,
          "color": [
           0.0,
           0.0,
           0.0,
           0.0
          ],
          "coloraxis": "coloraxis",
          "opacity": 0
         },
         "mode": "lines+markers",
         "type": "scatter",
         "x": [
          6,
          6,
          7,
          6
         ],
         "xaxis": "x2",
         "y": [
          3,
          4,
          4,
          3
         ],
         "yaxis": "y2"
        },
        {
         "fill": "toself",
         "fillcolor": "rgb(0, 0, 0)",
         "line": {
          "color": "#222222",
          "width": 1
         },
         "marker": {
          "cmax": 699.3438675676255,
          "cmin": 0,
          "color": [
           0.0,
           0.0,
           0.0,
           0.0
          ],
          "coloraxis": "coloraxis2",
          "opacity": 0
         },
         "mode": "lines+markers",
         "type": "scatter",
         "x": [
          6,
          7,
          7,
          6
         ],
         "xaxis": "x2",
         "y": [
          3,
          3,
          4,
          3
         ],
         "yaxis": "y2"
        },
        {
         "fill": "toself",
         "fillcolor": "rgb(29, 53, 23)",
         "line": {
          "color": "#222222",
          "width": 1
         },
         "marker": {
          "cmax": 1238.2841030156612,
          "cmin": 0,
          "color": [
           407.1603777588824,
           407.1603777588824,
           407.1603777588824,
           407.1603777588824
          ],
          "coloraxis": "coloraxis",
          "opacity": 0
         },
         "mode": "lines+markers",
         "type": "scatter",
         "x": [
          7,
          7,
          8,
          7
         ],
         "xaxis": "x2",
         "y": [
          3,
          4,
          4,
          3
         ],
         "yaxis": "y2"
        },
        {
         "fill": "toself",
         "fillcolor": "rgb(48, 33, 44)",
         "line": {
          "color": "#222222",
          "width": 1
         },
         "marker": {
          "cmax": 699.3438675676255,
          "cmin": 0,
          "color": [
           190.33002626769778,
           190.33002626769778,
           190.33002626769778,
           190.33002626769778
          ],
          "coloraxis": "coloraxis2",
          "opacity": 0
         },
         "mode": "lines+markers",
         "type": "scatter",
         "x": [
          7,
          8,
          8,
          7
         ],
         "xaxis": "x2",
         "y": [
          3,
          3,
          4,
          3
         ],
         "yaxis": "y2"
        },
        {
         "fill": "toself",
         "fillcolor": "rgb(18, 33, 15)",
         "line": {
          "color": "#222222",
          "width": 1
         },
         "marker": {
          "cmax": 1238.2841030156612,
          "cmin": 0,
          "color": [
           256.9930744849772,
           256.9930744849772,
           256.9930744849772,
           256.9930744849772
          ],
          "coloraxis": "coloraxis",
          "opacity": 0
         },
         "mode": "lines+markers",
         "type": "scatter",
         "x": [
          8,
          8,
          9,
          8
         ],
         "xaxis": "x2",
         "y": [
          3,
          4,
          4,
          3
         ],
         "yaxis": "y2"
        },
        {
         "fill": "toself",
         "fillcolor": "rgb(76, 52, 69)",
         "line": {
          "color": "#222222",
          "width": 1
         },
         "marker": {
          "cmax": 699.3438675676255,
          "cmin": 0,
          "color": [
           300.79660851085106,
           300.79660851085106,
           300.79660851085106,
           300.79660851085106
          ],
          "coloraxis": "coloraxis2",
          "opacity": 0
         },
         "mode": "lines+markers",
         "type": "scatter",
         "x": [
          8,
          9,
          9,
          8
         ],
         "xaxis": "x2",
         "y": [
          3,
          3,
          4,
          3
         ],
         "yaxis": "y2"
        },
        {
         "fill": "toself",
         "fillcolor": "rgb(0, 0, 0)",
         "line": {
          "color": "#222222",
          "width": 1
         },
         "marker": {
          "cmax": 1238.2841030156612,
          "cmin": 0,
          "color": [
           0.0,
           0.0,
           0.0,
           0.0
          ],
          "coloraxis": "coloraxis",
          "opacity": 0
         },
         "mode": "lines+markers",
         "type": "scatter",
         "x": [
          9,
          9,
          10,
          9
         ],
         "xaxis": "x2",
         "y": [
          3,
          4,
          4,
          3
         ],
         "yaxis": "y2"
        },
        {
         "fill": "toself",
         "fillcolor": "rgb(0, 0, 0)",
         "line": {
          "color": "#222222",
          "width": 1
         },
         "marker": {
          "cmax": 699.3438675676255,
          "cmin": 0,
          "color": [
           0.0,
           0.0,
           0.0,
           0.0
          ],
          "coloraxis": "coloraxis2",
          "opacity": 0
         },
         "mode": "lines+markers",
         "type": "scatter",
         "x": [
          9,
          10,
          10,
          9
         ],
         "xaxis": "x2",
         "y": [
          3,
          3,
          4,
          3
         ],
         "yaxis": "y2"
        },
        {
         "fill": "toself",
         "fillcolor": "rgb(0, 0, 0)",
         "line": {
          "color": "#222222",
          "width": 1
         },
         "marker": {
          "cmax": 1238.2841030156612,
          "cmin": 0,
          "color": [
           0.0,
           0.0,
           0.0,
           0.0
          ],
          "coloraxis": "coloraxis",
          "opacity": 0
         },
         "mode": "lines+markers",
         "type": "scatter",
         "x": [
          0,
          0,
          1,
          0
         ],
         "xaxis": "x3",
         "y": [
          0,
          1,
          1,
          0
         ],
         "yaxis": "y3"
        },
        {
         "fill": "toself",
         "fillcolor": "rgb(0, 0, 0)",
         "line": {
          "color": "#222222",
          "width": 1
         },
         "marker": {
          "cmax": 699.3438675676255,
          "cmin": 0,
          "color": [
           0.0,
           0.0,
           0.0,
           0.0
          ],
          "coloraxis": "coloraxis2",
          "opacity": 0
         },
         "mode": "lines+markers",
         "type": "scatter",
         "x": [
          0,
          1,
          1,
          0
         ],
         "xaxis": "x3",
         "y": [
          0,
          0,
          1,
          0
         ],
         "yaxis": "y3"
        },
        {
         "fill": "toself",
         "fillcolor": "rgb(17, 31, 14)",
         "line": {
          "color": "#222222",
          "width": 1
         },
         "marker": {
          "cmax": 1238.2841030156612,
          "cmin": 0,
          "color": [
           237.87324979682725,
           237.87324979682725,
           237.87324979682725,
           237.87324979682725
          ],
          "coloraxis": "coloraxis",
          "opacity": 0
         },
         "mode": "lines+markers",
         "type": "scatter",
         "x": [
          1,
          1,
          2,
          1
         ],
         "xaxis": "x3",
         "y": [
          0,
          1,
          1,
          0
         ],
         "yaxis": "y3"
        },
        {
         "fill": "toself",
         "fillcolor": "rgb(5, 4, 5)",
         "line": {
          "color": "#222222",
          "width": 1
         },
         "marker": {
          "cmax": 699.3438675676255,
          "cmin": 0,
          "color": [
           21.157333917263998,
           21.157333917263998,
           21.157333917263998,
           21.157333917263998
          ],
          "coloraxis": "coloraxis2",
          "opacity": 0
         },
         "mode": "lines+markers",
         "type": "scatter",
         "x": [
          1,
          2,
          2,
          1
         ],
         "xaxis": "x3",
         "y": [
          0,
          0,
          1,
          0
         ],
         "yaxis": "y3"
        },
        {
         "fill": "toself",
         "fillcolor": "rgb(0, 0, 0)",
         "line": {
          "color": "#222222",
          "width": 1
         },
         "marker": {
          "cmax": 1238.2841030156612,
          "cmin": 0,
          "color": [
           0.0,
           0.0,
           0.0,
           0.0
          ],
          "coloraxis": "coloraxis",
          "opacity": 0
         },
         "mode": "lines+markers",
         "type": "scatter",
         "x": [
          2,
          2,
          3,
          2
         ],
         "xaxis": "x3",
         "y": [
          0,
          1,
          1,
          0
         ],
         "yaxis": "y3"
        },
        {
         "fill": "toself",
         "fillcolor": "rgb(0, 0, 0)",
         "line": {
          "color": "#222222",
          "width": 1
         },
         "marker": {
          "cmax": 699.3438675676255,
          "cmin": 0,
          "color": [
           0.0,
           0.0,
           0.0,
           0.0
          ],
          "coloraxis": "coloraxis2",
          "opacity": 0
         },
         "mode": "lines+markers",
         "type": "scatter",
         "x": [
          2,
          3,
          3,
          2
         ],
         "xaxis": "x3",
         "y": [
          0,
          0,
          1,
          0
         ],
         "yaxis": "y3"
        },
        {
         "fill": "toself",
         "fillcolor": "rgb(6, 11, 5)",
         "line": {
          "color": "#222222",
          "width": 1
         },
         "marker": {
          "cmax": 1238.2841030156612,
          "cmin": 0,
          "color": [
           85.88638234497421,
           85.88638234497421,
           85.88638234497421,
           85.88638234497421
          ],
          "coloraxis": "coloraxis",
          "opacity": 0
         },
         "mode": "lines+markers",
         "type": "scatter",
         "x": [
          3,
          3,
          4,
          3
         ],
         "xaxis": "x3",
         "y": [
          0,
          1,
          1,
          0
         ],
         "yaxis": "y3"
        },
        {
         "fill": "toself",
         "fillcolor": "rgb(32, 22, 29)",
         "line": {
          "color": "#222222",
          "width": 1
         },
         "marker": {
          "cmax": 699.3438675676255,
          "cmin": 0,
          "color": [
           126.061867392366,
           126.061867392366,
           126.061867392366,
           126.061867392366
          ],
          "coloraxis": "coloraxis2",
          "opacity": 0
         },
         "mode": "lines+markers",
         "type": "scatter",
         "x": [
          3,
          4,
          4,
          3
         ],
         "xaxis": "x3",
         "y": [
          0,
          0,
          1,
          0
         ],
         "yaxis": "y3"
        },
        {
         "fill": "toself",
         "fillcolor": "rgb(0, 0, 0)",
         "line": {
          "color": "#222222",
          "width": 1
         },
         "marker": {
          "cmax": 1238.2841030156612,
          "cmin": 0,
          "color": [
           0.0,
           0.0,
           0.0,
           0.0
          ],
          "coloraxis": "coloraxis",
          "opacity": 0
         },
         "mode": "lines+markers",
         "type": "scatter",
         "x": [
          4,
          4,
          5,
          4
         ],
         "xaxis": "x3",
         "y": [
          0,
          1,
          1,
          0
         ],
         "yaxis": "y3"
        },
        {
         "fill": "toself",
         "fillcolor": "rgb(0, 0, 0)",
         "line": {
          "color": "#222222",
          "width": 1
         },
         "marker": {
          "cmax": 699.3438675676255,
          "cmin": 0,
          "color": [
           0.0,
           0.0,
           0.0,
           0.0
          ],
          "coloraxis": "coloraxis2",
          "opacity": 0
         },
         "mode": "lines+markers",
         "type": "scatter",
         "x": [
          4,
          5,
          5,
          4
         ],
         "xaxis": "x3",
         "y": [
          0,
          0,
          1,
          0
         ],
         "yaxis": "y3"
        },
        {
         "fill": "toself",
         "fillcolor": "rgb(0, 0, 0)",
         "line": {
          "color": "#222222",
          "width": 1
         },
         "marker": {
          "cmax": 1238.2841030156612,
          "cmin": 0,
          "color": [
           0.0,
           0.0,
           0.0,
           0.0
          ],
          "coloraxis": "coloraxis",
          "opacity": 0
         },
         "mode": "lines+markers",
         "type": "scatter",
         "x": [
          5,
          5,
          6,
          5
         ],
         "xaxis": "x3",
         "y": [
          0,
          1,
          1,
          0
         ],
         "yaxis": "y3"
        },
        {
         "fill": "toself",
         "fillcolor": "rgb(0, 0, 0)",
         "line": {
          "color": "#222222",
          "width": 1
         },
         "marker": {
          "cmax": 699.3438675676255,
          "cmin": 0,
          "color": [
           0.0,
           0.0,
           0.0,
           0.0
          ],
          "coloraxis": "coloraxis2",
          "opacity": 0
         },
         "mode": "lines+markers",
         "type": "scatter",
         "x": [
          5,
          6,
          6,
          5
         ],
         "xaxis": "x3",
         "y": [
          0,
          0,
          1,
          0
         ],
         "yaxis": "y3"
        },
        {
         "fill": "toself",
         "fillcolor": "rgb(10, 19, 8)",
         "line": {
          "color": "#222222",
          "width": 1
         },
         "marker": {
          "cmax": 1238.2841030156612,
          "cmin": 0,
          "color": [
           145.63228768199613,
           145.63228768199613,
           145.63228768199613,
           145.63228768199613
          ],
          "coloraxis": "coloraxis",
          "opacity": 0
         },
         "mode": "lines+markers",
         "type": "scatter",
         "x": [
          6,
          6,
          7,
          6
         ],
         "xaxis": "x3",
         "y": [
          0,
          1,
          1,
          0
         ],
         "yaxis": "y3"
        },
        {
         "fill": "toself",
         "fillcolor": "rgb(39, 27, 36)",
         "line": {
          "color": "#222222",
          "width": 1
         },
         "marker": {
          "cmax": 699.3438675676255,
          "cmin": 0,
          "color": [
           154.390707867284,
           154.390707867284,
           154.390707867284,
           154.390707867284
          ],
          "coloraxis": "coloraxis2",
          "opacity": 0
         },
         "mode": "lines+markers",
         "type": "scatter",
         "x": [
          6,
          7,
          7,
          6
         ],
         "xaxis": "x3",
         "y": [
          0,
          0,
          1,
          0
         ],
         "yaxis": "y3"
        },
        {
         "fill": "toself",
         "fillcolor": "rgb(10, 19, 8)",
         "line": {
          "color": "#222222",
          "width": 1
         },
         "marker": {
          "cmax": 1238.2841030156612,
          "cmin": 0,
          "color": [
           144.74883091328496,
           144.74883091328496,
           144.74883091328496,
           144.74883091328496
          ],
          "coloraxis": "coloraxis",
          "opacity": 0
         },
         "mode": "lines+markers",
         "type": "scatter",
         "x": [
          7,
          7,
          8,
          7
         ],
         "xaxis": "x3",
         "y": [
          0,
          1,
          1,
          0
         ],
         "yaxis": "y3"
        },
        {
         "fill": "toself",
         "fillcolor": "rgb(6, 4, 5)",
         "line": {
          "color": "#222222",
          "width": 1
         },
         "marker": {
          "cmax": 699.3438675676255,
          "cmin": 0,
          "color": [
           22.477850656956456,
           22.477850656956456,
           22.477850656956456,
           22.477850656956456
          ],
          "coloraxis": "coloraxis2",
          "opacity": 0
         },
         "mode": "lines+markers",
         "type": "scatter",
         "x": [
          7,
          8,
          8,
          7
         ],
         "xaxis": "x3",
         "y": [
          0,
          0,
          1,
          0
         ],
         "yaxis": "y3"
        },
        {
         "fill": "toself",
         "fillcolor": "rgb(13, 23, 10)",
         "line": {
          "color": "#222222",
          "width": 1
         },
         "marker": {
          "cmax": 1238.2841030156612,
          "cmin": 0,
          "color": [
           174.6207881051993,
           174.6207881051993,
           174.6207881051993,
           174.6207881051993
          ],
          "coloraxis": "coloraxis",
          "opacity": 0
         },
         "mode": "lines+markers",
         "type": "scatter",
         "x": [
          8,
          8,
          9,
          8
         ],
         "xaxis": "x3",
         "y": [
          0,
          1,
          1,
          0
         ],
         "yaxis": "y3"
        },
        {
         "fill": "toself",
         "fillcolor": "rgb(12, 8, 11)",
         "line": {
          "color": "#222222",
          "width": 1
         },
         "marker": {
          "cmax": 699.3438675676255,
          "cmin": 0,
          "color": [
           45.848112851113214,
           45.848112851113214,
           45.848112851113214,
           45.848112851113214
          ],
          "coloraxis": "coloraxis2",
          "opacity": 0
         },
         "mode": "lines+markers",
         "type": "scatter",
         "x": [
          8,
          9,
          9,
          8
         ],
         "xaxis": "x3",
         "y": [
          0,
          0,
          1,
          0
         ],
         "yaxis": "y3"
        },
        {
         "fill": "toself",
         "fillcolor": "rgb(0, 0, 0)",
         "line": {
          "color": "#222222",
          "width": 1
         },
         "marker": {
          "cmax": 1238.2841030156612,
          "cmin": 0,
          "color": [
           0.0,
           0.0,
           0.0,
           0.0
          ],
          "coloraxis": "coloraxis",
          "opacity": 0
         },
         "mode": "lines+markers",
         "type": "scatter",
         "x": [
          9,
          9,
          10,
          9
         ],
         "xaxis": "x3",
         "y": [
          0,
          1,
          1,
          0
         ],
         "yaxis": "y3"
        },
        {
         "fill": "toself",
         "fillcolor": "rgb(0, 0, 0)",
         "line": {
          "color": "#222222",
          "width": 1
         },
         "marker": {
          "cmax": 699.3438675676255,
          "cmin": 0,
          "color": [
           0.0,
           0.0,
           0.0,
           0.0
          ],
          "coloraxis": "coloraxis2",
          "opacity": 0
         },
         "mode": "lines+markers",
         "type": "scatter",
         "x": [
          9,
          10,
          10,
          9
         ],
         "xaxis": "x3",
         "y": [
          0,
          0,
          1,
          0
         ],
         "yaxis": "y3"
        },
        {
         "fill": "toself",
         "fillcolor": "rgb(0, 0, 0)",
         "line": {
          "color": "#222222",
          "width": 1
         },
         "marker": {
          "cmax": 1238.2841030156612,
          "cmin": 0,
          "color": [
           0.0,
           0.0,
           0.0,
           0.0
          ],
          "coloraxis": "coloraxis",
          "opacity": 0
         },
         "mode": "lines+markers",
         "type": "scatter",
         "x": [
          0,
          0,
          1,
          0
         ],
         "xaxis": "x3",
         "y": [
          1,
          2,
          2,
          1
         ],
         "yaxis": "y3"
        },
        {
         "fill": "toself",
         "fillcolor": "rgb(0, 0, 0)",
         "line": {
          "color": "#222222",
          "width": 1
         },
         "marker": {
          "cmax": 699.3438675676255,
          "cmin": 0,
          "color": [
           0.0,
           0.0,
           0.0,
           0.0
          ],
          "coloraxis": "coloraxis2",
          "opacity": 0
         },
         "mode": "lines+markers",
         "type": "scatter",
         "x": [
          0,
          1,
          1,
          0
         ],
         "xaxis": "x3",
         "y": [
          1,
          1,
          2,
          1
         ],
         "yaxis": "y3"
        },
        {
         "fill": "toself",
         "fillcolor": "rgb(13, 24, 10)",
         "line": {
          "color": "#222222",
          "width": 1
         },
         "marker": {
          "cmax": 1238.2841030156612,
          "cmin": 0,
          "color": [
           182.98337867827343,
           182.98337867827343,
           182.98337867827343,
           182.98337867827343
          ],
          "coloraxis": "coloraxis",
          "opacity": 0
         },
         "mode": "lines+markers",
         "type": "scatter",
         "x": [
          1,
          1,
          2,
          1
         ],
         "xaxis": "x3",
         "y": [
          1,
          2,
          2,
          1
         ],
         "yaxis": "y3"
        },
        {
         "fill": "toself",
         "fillcolor": "rgb(6, 4, 6)",
         "line": {
          "color": "#222222",
          "width": 1
         },
         "marker": {
          "cmax": 699.3438675676255,
          "cmin": 0,
          "color": [
           25.719454592021705,
           25.719454592021705,
           25.719454592021705,
           25.719454592021705
          ],
          "coloraxis": "coloraxis2",
          "opacity": 0
         },
         "mode": "lines+markers",
         "type": "scatter",
         "x": [
          1,
          2,
          2,
          1
         ],
         "xaxis": "x3",
         "y": [
          1,
          1,
          2,
          1
         ],
         "yaxis": "y3"
        },
        {
         "fill": "toself",
         "fillcolor": "rgb(0, 0, 0)",
         "line": {
          "color": "#222222",
          "width": 1
         },
         "marker": {
          "cmax": 1238.2841030156612,
          "cmin": 0,
          "color": [
           0.0,
           0.0,
           0.0,
           0.0
          ],
          "coloraxis": "coloraxis",
          "opacity": 0
         },
         "mode": "lines+markers",
         "type": "scatter",
         "x": [
          2,
          2,
          3,
          2
         ],
         "xaxis": "x3",
         "y": [
          1,
          2,
          2,
          1
         ],
         "yaxis": "y3"
        },
        {
         "fill": "toself",
         "fillcolor": "rgb(0, 0, 0)",
         "line": {
          "color": "#222222",
          "width": 1
         },
         "marker": {
          "cmax": 699.3438675676255,
          "cmin": 0,
          "color": [
           0.0,
           0.0,
           0.0,
           0.0
          ],
          "coloraxis": "coloraxis2",
          "opacity": 0
         },
         "mode": "lines+markers",
         "type": "scatter",
         "x": [
          2,
          3,
          3,
          2
         ],
         "xaxis": "x3",
         "y": [
          1,
          1,
          2,
          1
         ],
         "yaxis": "y3"
        },
        {
         "fill": "toself",
         "fillcolor": "rgb(11, 20, 9)",
         "line": {
          "color": "#222222",
          "width": 1
         },
         "marker": {
          "cmax": 1238.2841030156612,
          "cmin": 0,
          "color": [
           153.08485583773012,
           153.08485583773012,
           153.08485583773012,
           153.08485583773012
          ],
          "coloraxis": "coloraxis",
          "opacity": 0
         },
         "mode": "lines+markers",
         "type": "scatter",
         "x": [
          3,
          3,
          4,
          3
         ],
         "xaxis": "x3",
         "y": [
          1,
          2,
          2,
          1
         ],
         "yaxis": "y3"
        },
        {
         "fill": "toself",
         "fillcolor": "rgb(20, 14, 18)",
         "line": {
          "color": "#222222",
          "width": 1
         },
         "marker": {
          "cmax": 699.3438675676255,
          "cmin": 0,
          "color": [
           79.01463594578073,
           79.01463594578073,
           79.01463594578073,
           79.01463594578073
          ],
          "coloraxis": "coloraxis2",
          "opacity": 0
         },
         "mode": "lines+markers",
         "type": "scatter",
         "x": [
          3,
          4,
          4,
          3
         ],
         "xaxis": "x3",
         "y": [
          1,
          1,
          2,
          1
         ],
         "yaxis": "y3"
        },
        {
         "fill": "toself",
         "fillcolor": "rgb(0, 0, 0)",
         "line": {
          "color": "#222222",
          "width": 1
         },
         "marker": {
          "cmax": 1238.2841030156612,
          "cmin": 0,
          "color": [
           0.0,
           0.0,
           0.0,
           0.0
          ],
          "coloraxis": "coloraxis",
          "opacity": 0
         },
         "mode": "lines+markers",
         "type": "scatter",
         "x": [
          4,
          4,
          5,
          4
         ],
         "xaxis": "x3",
         "y": [
          1,
          2,
          2,
          1
         ],
         "yaxis": "y3"
        },
        {
         "fill": "toself",
         "fillcolor": "rgb(0, 0, 0)",
         "line": {
          "color": "#222222",
          "width": 1
         },
         "marker": {
          "cmax": 699.3438675676255,
          "cmin": 0,
          "color": [
           0.0,
           0.0,
           0.0,
           0.0
          ],
          "coloraxis": "coloraxis2",
          "opacity": 0
         },
         "mode": "lines+markers",
         "type": "scatter",
         "x": [
          4,
          5,
          5,
          4
         ],
         "xaxis": "x3",
         "y": [
          1,
          1,
          2,
          1
         ],
         "yaxis": "y3"
        },
        {
         "fill": "toself",
         "fillcolor": "rgb(0, 0, 0)",
         "line": {
          "color": "#222222",
          "width": 1
         },
         "marker": {
          "cmax": 1238.2841030156612,
          "cmin": 0,
          "color": [
           0.0,
           0.0,
           0.0,
           0.0
          ],
          "coloraxis": "coloraxis",
          "opacity": 0
         },
         "mode": "lines+markers",
         "type": "scatter",
         "x": [
          5,
          5,
          6,
          5
         ],
         "xaxis": "x3",
         "y": [
          1,
          2,
          2,
          1
         ],
         "yaxis": "y3"
        },
        {
         "fill": "toself",
         "fillcolor": "rgb(0, 0, 0)",
         "line": {
          "color": "#222222",
          "width": 1
         },
         "marker": {
          "cmax": 699.3438675676255,
          "cmin": 0,
          "color": [
           0.0,
           0.0,
           0.0,
           0.0
          ],
          "coloraxis": "coloraxis2",
          "opacity": 0
         },
         "mode": "lines+markers",
         "type": "scatter",
         "x": [
          5,
          6,
          6,
          5
         ],
         "xaxis": "x3",
         "y": [
          1,
          1,
          2,
          1
         ],
         "yaxis": "y3"
        },
        {
         "fill": "toself",
         "fillcolor": "rgb(11, 20, 9)",
         "line": {
          "color": "#222222",
          "width": 1
         },
         "marker": {
          "cmax": 1238.2841030156612,
          "cmin": 0,
          "color": [
           155.18710177547666,
           155.18710177547666,
           155.18710177547666,
           155.18710177547666
          ],
          "coloraxis": "coloraxis",
          "opacity": 0
         },
         "mode": "lines+markers",
         "type": "scatter",
         "x": [
          6,
          6,
          7,
          6
         ],
         "xaxis": "x3",
         "y": [
          1,
          2,
          2,
          1
         ],
         "yaxis": "y3"
        },
        {
         "fill": "toself",
         "fillcolor": "rgb(20, 14, 19)",
         "line": {
          "color": "#222222",
          "width": 1
         },
         "marker": {
          "cmax": 699.3438675676255,
          "cmin": 0,
          "color": [
           80.40290396326633,
           80.40290396326633,
           80.40290396326633,
           80.40290396326633
          ],
          "coloraxis": "coloraxis2",
          "opacity": 0
         },
         "mode": "lines+markers",
         "type": "scatter",
         "x": [
          6,
          7,
          7,
          6
         ],
         "xaxis": "x3",
         "y": [
          1,
          1,
          2,
          1
         ],
         "yaxis": "y3"
        },
        {
         "fill": "toself",
         "fillcolor": "rgb(0, 0, 0)",
         "line": {
          "color": "#222222",
          "width": 1
         },
         "marker": {
          "cmax": 1238.2841030156612,
          "cmin": 0,
          "color": [
           0.0,
           0.0,
           0.0,
           0.0
          ],
          "coloraxis": "coloraxis",
          "opacity": 0
         },
         "mode": "lines+markers",
         "type": "scatter",
         "x": [
          7,
          7,
          8,
          7
         ],
         "xaxis": "x3",
         "y": [
          1,
          2,
          2,
          1
         ],
         "yaxis": "y3"
        },
        {
         "fill": "toself",
         "fillcolor": "rgb(0, 0, 0)",
         "line": {
          "color": "#222222",
          "width": 1
         },
         "marker": {
          "cmax": 699.3438675676255,
          "cmin": 0,
          "color": [
           0.0,
           0.0,
           0.0,
           0.0
          ],
          "coloraxis": "coloraxis2",
          "opacity": 0
         },
         "mode": "lines+markers",
         "type": "scatter",
         "x": [
          7,
          8,
          8,
          7
         ],
         "xaxis": "x3",
         "y": [
          1,
          1,
          2,
          1
         ],
         "yaxis": "y3"
        },
        {
         "fill": "toself",
         "fillcolor": "rgb(0, 0, 0)",
         "line": {
          "color": "#222222",
          "width": 1
         },
         "marker": {
          "cmax": 1238.2841030156612,
          "cmin": 0,
          "color": [
           0.0,
           0.0,
           0.0,
           0.0
          ],
          "coloraxis": "coloraxis",
          "opacity": 0
         },
         "mode": "lines+markers",
         "type": "scatter",
         "x": [
          8,
          8,
          9,
          8
         ],
         "xaxis": "x3",
         "y": [
          1,
          2,
          2,
          1
         ],
         "yaxis": "y3"
        },
        {
         "fill": "toself",
         "fillcolor": "rgb(0, 0, 0)",
         "line": {
          "color": "#222222",
          "width": 1
         },
         "marker": {
          "cmax": 699.3438675676255,
          "cmin": 0,
          "color": [
           0.0,
           0.0,
           0.0,
           0.0
          ],
          "coloraxis": "coloraxis2",
          "opacity": 0
         },
         "mode": "lines+markers",
         "type": "scatter",
         "x": [
          8,
          9,
          9,
          8
         ],
         "xaxis": "x3",
         "y": [
          1,
          1,
          2,
          1
         ],
         "yaxis": "y3"
        },
        {
         "fill": "toself",
         "fillcolor": "rgb(7, 13, 6)",
         "line": {
          "color": "#222222",
          "width": 1
         },
         "marker": {
          "cmax": 1238.2841030156612,
          "cmin": 0,
          "color": [
           98.71835736395235,
           98.71835736395235,
           98.71835736395235,
           98.71835736395235
          ],
          "coloraxis": "coloraxis",
          "opacity": 0
         },
         "mode": "lines+markers",
         "type": "scatter",
         "x": [
          9,
          9,
          10,
          9
         ],
         "xaxis": "x3",
         "y": [
          1,
          2,
          2,
          1
         ],
         "yaxis": "y3"
        },
        {
         "fill": "toself",
         "fillcolor": "rgb(16, 11, 15)",
         "line": {
          "color": "#222222",
          "width": 1
         },
         "marker": {
          "cmax": 699.3438675676255,
          "cmin": 0,
          "color": [
           64.78759884049705,
           64.78759884049705,
           64.78759884049705,
           64.78759884049705
          ],
          "coloraxis": "coloraxis2",
          "opacity": 0
         },
         "mode": "lines+markers",
         "type": "scatter",
         "x": [
          9,
          10,
          10,
          9
         ],
         "xaxis": "x3",
         "y": [
          1,
          1,
          2,
          1
         ],
         "yaxis": "y3"
        },
        {
         "fill": "toself",
         "fillcolor": "rgb(0, 0, 0)",
         "line": {
          "color": "#222222",
          "width": 1
         },
         "marker": {
          "cmax": 1238.2841030156612,
          "cmin": 0,
          "color": [
           0.0,
           0.0,
           0.0,
           0.0
          ],
          "coloraxis": "coloraxis",
          "opacity": 0
         },
         "mode": "lines+markers",
         "type": "scatter",
         "x": [
          0,
          0,
          1,
          0
         ],
         "xaxis": "x3",
         "y": [
          2,
          3,
          3,
          2
         ],
         "yaxis": "y3"
        },
        {
         "fill": "toself",
         "fillcolor": "rgb(0, 0, 0)",
         "line": {
          "color": "#222222",
          "width": 1
         },
         "marker": {
          "cmax": 699.3438675676255,
          "cmin": 0,
          "color": [
           0.0,
           0.0,
           0.0,
           0.0
          ],
          "coloraxis": "coloraxis2",
          "opacity": 0
         },
         "mode": "lines+markers",
         "type": "scatter",
         "x": [
          0,
          1,
          1,
          0
         ],
         "xaxis": "x3",
         "y": [
          2,
          2,
          3,
          2
         ],
         "yaxis": "y3"
        },
        {
         "fill": "toself",
         "fillcolor": "rgb(25, 45, 20)",
         "line": {
          "color": "#222222",
          "width": 1
         },
         "marker": {
          "cmax": 1238.2841030156612,
          "cmin": 0,
          "color": [
           347.30427661033536,
           347.30427661033536,
           347.30427661033536,
           347.30427661033536
          ],
          "coloraxis": "coloraxis",
          "opacity": 0
         },
         "mode": "lines+markers",
         "type": "scatter",
         "x": [
          1,
          1,
          2,
          1
         ],
         "xaxis": "x3",
         "y": [
          2,
          3,
          3,
          2
         ],
         "yaxis": "y3"
        },
        {
         "fill": "toself",
         "fillcolor": "rgb(20, 14, 18)",
         "line": {
          "color": "#222222",
          "width": 1
         },
         "marker": {
          "cmax": 699.3438675676255,
          "cmin": 0,
          "color": [
           79.54169296931035,
           79.54169296931035,
           79.54169296931035,
           79.54169296931035
          ],
          "coloraxis": "coloraxis2",
          "opacity": 0
         },
         "mode": "lines+markers",
         "type": "scatter",
         "x": [
          1,
          2,
          2,
          1
         ],
         "xaxis": "x3",
         "y": [
          2,
          2,
          3,
          2
         ],
         "yaxis": "y3"
        },
        {
         "fill": "toself",
         "fillcolor": "rgb(9, 17, 7)",
         "line": {
          "color": "#222222",
          "width": 1
         },
         "marker": {
          "cmax": 1238.2841030156612,
          "cmin": 0,
          "color": [
           127.82697439064317,
           127.82697439064317,
           127.82697439064317,
           127.82697439064317
          ],
          "coloraxis": "coloraxis",
          "opacity": 0
         },
         "mode": "lines+markers",
         "type": "scatter",
         "x": [
          2,
          2,
          3,
          2
         ],
         "xaxis": "x3",
         "y": [
          2,
          3,
          3,
          2
         ],
         "yaxis": "y3"
        },
        {
         "fill": "toself",
         "fillcolor": "rgb(44, 30, 40)",
         "line": {
          "color": "#222222",
          "width": 1
         },
         "marker": {
          "cmax": 699.3438675676255,
          "cmin": 0,
          "color": [
           174.72331865309505,
           174.72331865309505,
           174.72331865309505,
           174.72331865309505
          ],
          "coloraxis": "coloraxis2",
          "opacity": 0
         },
         "mode": "lines+markers",
         "type": "scatter",
         "x": [
          2,
          3,
          3,
          2
         ],
         "xaxis": "x3",
         "y": [
          2,
          2,
          3,
          2
         ],
         "yaxis": "y3"
        },
        {
         "fill": "toself",
         "fillcolor": "rgb(21, 37, 16)",
         "line": {
          "color": "#222222",
          "width": 1
         },
         "marker": {
          "cmax": 1238.2841030156612,
          "cmin": 0,
          "color": [
           286.34530566899457,
           286.34530566899457,
           286.34530566899457,
           286.34530566899457
          ],
          "coloraxis": "coloraxis",
          "opacity": 0
         },
         "mode": "lines+markers",
         "type": "scatter",
         "x": [
          3,
          3,
          4,
          3
         ],
         "xaxis": "x3",
         "y": [
          2,
          3,
          3,
          2
         ],
         "yaxis": "y3"
        },
        {
         "fill": "toself",
         "fillcolor": "rgb(58, 40, 53)",
         "line": {
          "color": "#222222",
          "width": 1
         },
         "marker": {
          "cmax": 699.3438675676255,
          "cmin": 0,
          "color": [
           231.11419577881273,
           231.11419577881273,
           231.11419577881273,
           231.11419577881273
          ],
          "coloraxis": "coloraxis2",
          "opacity": 0
         },
         "mode": "lines+markers",
         "type": "scatter",
         "x": [
          3,
          4,
          4,
          3
         ],
         "xaxis": "x3",
         "y": [
          2,
          2,
          3,
          2
         ],
         "yaxis": "y3"
        },
        {
         "fill": "toself",
         "fillcolor": "rgb(16, 29, 13)",
         "line": {
          "color": "#222222",
          "width": 1
         },
         "marker": {
          "cmax": 1238.2841030156612,
          "cmin": 0,
          "color": [
           222.19408164942206,
           222.19408164942206,
           222.19408164942206,
           222.19408164942206
          ],
          "coloraxis": "coloraxis",
          "opacity": 0
         },
         "mode": "lines+markers",
         "type": "scatter",
         "x": [
          4,
          4,
          5,
          4
         ],
         "xaxis": "x3",
         "y": [
          2,
          3,
          3,
          2
         ],
         "yaxis": "y3"
        },
        {
         "fill": "toself",
         "fillcolor": "rgb(10, 7, 9)",
         "line": {
          "color": "#222222",
          "width": 1
         },
         "marker": {
          "cmax": 699.3438675676255,
          "cmin": 0,
          "color": [
           40.62848746334077,
           40.62848746334077,
           40.62848746334077,
           40.62848746334077
          ],
          "coloraxis": "coloraxis2",
          "opacity": 0
         },
         "mode": "lines+markers",
         "type": "scatter",
         "x": [
          4,
          5,
          5,
          4
         ],
         "xaxis": "x3",
         "y": [
          2,
          2,
          3,
          2
         ],
         "yaxis": "y3"
        },
        {
         "fill": "toself",
         "fillcolor": "rgb(0, 0, 0)",
         "line": {
          "color": "#222222",
          "width": 1
         },
         "marker": {
          "cmax": 1238.2841030156612,
          "cmin": 0,
          "color": [
           0.0,
           0.0,
           0.0,
           0.0
          ],
          "coloraxis": "coloraxis",
          "opacity": 0
         },
         "mode": "lines+markers",
         "type": "scatter",
         "x": [
          5,
          5,
          6,
          5
         ],
         "xaxis": "x3",
         "y": [
          2,
          3,
          3,
          2
         ],
         "yaxis": "y3"
        },
        {
         "fill": "toself",
         "fillcolor": "rgb(0, 0, 0)",
         "line": {
          "color": "#222222",
          "width": 1
         },
         "marker": {
          "cmax": 699.3438675676255,
          "cmin": 0,
          "color": [
           0.0,
           0.0,
           0.0,
           0.0
          ],
          "coloraxis": "coloraxis2",
          "opacity": 0
         },
         "mode": "lines+markers",
         "type": "scatter",
         "x": [
          5,
          6,
          6,
          5
         ],
         "xaxis": "x3",
         "y": [
          2,
          2,
          3,
          2
         ],
         "yaxis": "y3"
        },
        {
         "fill": "toself",
         "fillcolor": "rgb(7, 13, 6)",
         "line": {
          "color": "#222222",
          "width": 1
         },
         "marker": {
          "cmax": 1238.2841030156612,
          "cmin": 0,
          "color": [
           96.21839303715537,
           96.21839303715537,
           96.21839303715537,
           96.21839303715537
          ],
          "coloraxis": "coloraxis",
          "opacity": 0
         },
         "mode": "lines+markers",
         "type": "scatter",
         "x": [
          6,
          6,
          7,
          6
         ],
         "xaxis": "x3",
         "y": [
          2,
          3,
          3,
          2
         ],
         "yaxis": "y3"
        },
        {
         "fill": "toself",
         "fillcolor": "rgb(50, 35, 46)",
         "line": {
          "color": "#222222",
          "width": 1
         },
         "marker": {
          "cmax": 699.3438675676255,
          "cmin": 0,
          "color": [
           197.86465777273534,
           197.86465777273534,
           197.86465777273534,
           197.86465777273534
          ],
          "coloraxis": "coloraxis2",
          "opacity": 0
         },
         "mode": "lines+markers",
         "type": "scatter",
         "x": [
          6,
          7,
          7,
          6
         ],
         "xaxis": "x3",
         "y": [
          2,
          2,
          3,
          2
         ],
         "yaxis": "y3"
        },
        {
         "fill": "toself",
         "fillcolor": "rgb(9, 17, 7)",
         "line": {
          "color": "#222222",
          "width": 1
         },
         "marker": {
          "cmax": 1238.2841030156612,
          "cmin": 0,
          "color": [
           127.60822254632471,
           127.60822254632471,
           127.60822254632471,
           127.60822254632471
          ],
          "coloraxis": "coloraxis",
          "opacity": 0
         },
         "mode": "lines+markers",
         "type": "scatter",
         "x": [
          7,
          7,
          8,
          7
         ],
         "xaxis": "x3",
         "y": [
          2,
          3,
          3,
          2
         ],
         "yaxis": "y3"
        },
        {
         "fill": "toself",
         "fillcolor": "rgb(11, 8, 10)",
         "line": {
          "color": "#222222",
          "width": 1
         },
         "marker": {
          "cmax": 699.3438675676255,
          "cmin": 0,
          "color": [
           42.99961910070513,
           42.99961910070513,
           42.99961910070513,
           42.99961910070513
          ],
          "coloraxis": "coloraxis2",
          "opacity": 0
         },
         "mode": "lines+markers",
         "type": "scatter",
         "x": [
          7,
          8,
          8,
          7
         ],
         "xaxis": "x3",
         "y": [
          2,
          2,
          3,
          2
         ],
         "yaxis": "y3"
        },
        {
         "fill": "toself",
         "fillcolor": "rgb(0, 0, 0)",
         "line": {
          "color": "#222222",
          "width": 1
         },
         "marker": {
          "cmax": 1238.2841030156612,
          "cmin": 0,
          "color": [
           0.0,
           0.0,
           0.0,
           0.0
          ],
          "coloraxis": "coloraxis",
          "opacity": 0
         },
         "mode": "lines+markers",
         "type": "scatter",
         "x": [
          8,
          8,
          9,
          8
         ],
         "xaxis": "x3",
         "y": [
          2,
          3,
          3,
          2
         ],
         "yaxis": "y3"
        },
        {
         "fill": "toself",
         "fillcolor": "rgb(0, 0, 0)",
         "line": {
          "color": "#222222",
          "width": 1
         },
         "marker": {
          "cmax": 699.3438675676255,
          "cmin": 0,
          "color": [
           0.0,
           0.0,
           0.0,
           0.0
          ],
          "coloraxis": "coloraxis2",
          "opacity": 0
         },
         "mode": "lines+markers",
         "type": "scatter",
         "x": [
          8,
          9,
          9,
          8
         ],
         "xaxis": "x3",
         "y": [
          2,
          2,
          3,
          2
         ],
         "yaxis": "y3"
        },
        {
         "fill": "toself",
         "fillcolor": "rgb(7, 13, 6)",
         "line": {
          "color": "#222222",
          "width": 1
         },
         "marker": {
          "cmax": 1238.2841030156612,
          "cmin": 0,
          "color": [
           99.92953197767255,
           99.92953197767255,
           99.92953197767255,
           99.92953197767255
          ],
          "coloraxis": "coloraxis",
          "opacity": 0
         },
         "mode": "lines+markers",
         "type": "scatter",
         "x": [
          9,
          9,
          10,
          9
         ],
         "xaxis": "x3",
         "y": [
          2,
          3,
          3,
          2
         ],
         "yaxis": "y3"
        },
        {
         "fill": "toself",
         "fillcolor": "rgb(18, 12, 16)",
         "line": {
          "color": "#222222",
          "width": 1
         },
         "marker": {
          "cmax": 699.3438675676255,
          "cmin": 0,
          "color": [
           69.79253448418172,
           69.79253448418172,
           69.79253448418172,
           69.79253448418172
          ],
          "coloraxis": "coloraxis2",
          "opacity": 0
         },
         "mode": "lines+markers",
         "type": "scatter",
         "x": [
          9,
          10,
          10,
          9
         ],
         "xaxis": "x3",
         "y": [
          2,
          2,
          3,
          2
         ],
         "yaxis": "y3"
        },
        {
         "fill": "toself",
         "fillcolor": "rgb(0, 0, 0)",
         "line": {
          "color": "#222222",
          "width": 1
         },
         "marker": {
          "cmax": 1238.2841030156612,
          "cmin": 0,
          "color": [
           0.0,
           0.0,
           0.0,
           0.0
          ],
          "coloraxis": "coloraxis",
          "opacity": 0
         },
         "mode": "lines+markers",
         "type": "scatter",
         "x": [
          0,
          0,
          1,
          0
         ],
         "xaxis": "x3",
         "y": [
          3,
          4,
          4,
          3
         ],
         "yaxis": "y3"
        },
        {
         "fill": "toself",
         "fillcolor": "rgb(0, 0, 0)",
         "line": {
          "color": "#222222",
          "width": 1
         },
         "marker": {
          "cmax": 699.3438675676255,
          "cmin": 0,
          "color": [
           0.0,
           0.0,
           0.0,
           0.0
          ],
          "coloraxis": "coloraxis2",
          "opacity": 0
         },
         "mode": "lines+markers",
         "type": "scatter",
         "x": [
          0,
          1,
          1,
          0
         ],
         "xaxis": "x3",
         "y": [
          3,
          3,
          4,
          3
         ],
         "yaxis": "y3"
        },
        {
         "fill": "toself",
         "fillcolor": "rgb(9, 16, 7)",
         "line": {
          "color": "#222222",
          "width": 1
         },
         "marker": {
          "cmax": 1238.2841030156612,
          "cmin": 0,
          "color": [
           119.25723559495871,
           119.25723559495871,
           119.25723559495871,
           119.25723559495871
          ],
          "coloraxis": "coloraxis",
          "opacity": 0
         },
         "mode": "lines+markers",
         "type": "scatter",
         "x": [
          1,
          1,
          2,
          1
         ],
         "xaxis": "x3",
         "y": [
          3,
          4,
          4,
          3
         ],
         "yaxis": "y3"
        },
        {
         "fill": "toself",
         "fillcolor": "rgb(61, 42, 55)",
         "line": {
          "color": "#222222",
          "width": 1
         },
         "marker": {
          "cmax": 699.3438675676255,
          "cmin": 0,
          "color": [
           240.7647457833928,
           240.7647457833928,
           240.7647457833928,
           240.7647457833928
          ],
          "coloraxis": "coloraxis2",
          "opacity": 0
         },
         "mode": "lines+markers",
         "type": "scatter",
         "x": [
          1,
          2,
          2,
          1
         ],
         "xaxis": "x3",
         "y": [
          3,
          3,
          4,
          3
         ],
         "yaxis": "y3"
        },
        {
         "fill": "toself",
         "fillcolor": "rgb(0, 0, 0)",
         "line": {
          "color": "#222222",
          "width": 1
         },
         "marker": {
          "cmax": 1238.2841030156612,
          "cmin": 0,
          "color": [
           0.0,
           0.0,
           0.0,
           0.0
          ],
          "coloraxis": "coloraxis",
          "opacity": 0
         },
         "mode": "lines+markers",
         "type": "scatter",
         "x": [
          2,
          2,
          3,
          2
         ],
         "xaxis": "x3",
         "y": [
          3,
          4,
          4,
          3
         ],
         "yaxis": "y3"
        },
        {
         "fill": "toself",
         "fillcolor": "rgb(0, 0, 0)",
         "line": {
          "color": "#222222",
          "width": 1
         },
         "marker": {
          "cmax": 699.3438675676255,
          "cmin": 0,
          "color": [
           0.0,
           0.0,
           0.0,
           0.0
          ],
          "coloraxis": "coloraxis2",
          "opacity": 0
         },
         "mode": "lines+markers",
         "type": "scatter",
         "x": [
          2,
          3,
          3,
          2
         ],
         "xaxis": "x3",
         "y": [
          3,
          3,
          4,
          3
         ],
         "yaxis": "y3"
        },
        {
         "fill": "toself",
         "fillcolor": "rgb(11, 20, 9)",
         "line": {
          "color": "#222222",
          "width": 1
         },
         "marker": {
          "cmax": 1238.2841030156612,
          "cmin": 0,
          "color": [
           151.0007157212439,
           151.0007157212439,
           151.0007157212439,
           151.0007157212439
          ],
          "coloraxis": "coloraxis",
          "opacity": 0
         },
         "mode": "lines+markers",
         "type": "scatter",
         "x": [
          3,
          3,
          4,
          3
         ],
         "xaxis": "x3",
         "y": [
          3,
          4,
          4,
          3
         ],
         "yaxis": "y3"
        },
        {
         "fill": "toself",
         "fillcolor": "rgb(106, 73, 97)",
         "line": {
          "color": "#222222",
          "width": 1
         },
         "marker": {
          "cmax": 699.3438675676255,
          "cmin": 0,
          "color": [
           420.3635167670239,
           420.3635167670239,
           420.3635167670239,
           420.3635167670239
          ],
          "coloraxis": "coloraxis2",
          "opacity": 0
         },
         "mode": "lines+markers",
         "type": "scatter",
         "x": [
          3,
          4,
          4,
          3
         ],
         "xaxis": "x3",
         "y": [
          3,
          3,
          4,
          3
         ],
         "yaxis": "y3"
        },
        {
         "fill": "toself",
         "fillcolor": "rgb(16, 29, 13)",
         "line": {
          "color": "#222222",
          "width": 1
         },
         "marker": {
          "cmax": 1238.2841030156612,
          "cmin": 0,
          "color": [
           226.65668893575543,
           226.65668893575543,
           226.65668893575543,
           226.65668893575543
          ],
          "coloraxis": "coloraxis",
          "opacity": 0
         },
         "mode": "lines+markers",
         "type": "scatter",
         "x": [
          4,
          4,
          5,
          4
         ],
         "xaxis": "x3",
         "y": [
          3,
          4,
          4,
          3
         ],
         "yaxis": "y3"
        },
        {
         "fill": "toself",
         "fillcolor": "rgb(15, 10, 13)",
         "line": {
          "color": "#222222",
          "width": 1
         },
         "marker": {
          "cmax": 699.3438675676255,
          "cmin": 0,
          "color": [
           57.82069613740967,
           57.82069613740967,
           57.82069613740967,
           57.82069613740967
          ],
          "coloraxis": "coloraxis2",
          "opacity": 0
         },
         "mode": "lines+markers",
         "type": "scatter",
         "x": [
          4,
          5,
          5,
          4
         ],
         "xaxis": "x3",
         "y": [
          3,
          3,
          4,
          3
         ],
         "yaxis": "y3"
        },
        {
         "fill": "toself",
         "fillcolor": "rgb(0, 0, 0)",
         "line": {
          "color": "#222222",
          "width": 1
         },
         "marker": {
          "cmax": 1238.2841030156612,
          "cmin": 0,
          "color": [
           0.0,
           0.0,
           0.0,
           0.0
          ],
          "coloraxis": "coloraxis",
          "opacity": 0
         },
         "mode": "lines+markers",
         "type": "scatter",
         "x": [
          5,
          5,
          6,
          5
         ],
         "xaxis": "x3",
         "y": [
          3,
          4,
          4,
          3
         ],
         "yaxis": "y3"
        },
        {
         "fill": "toself",
         "fillcolor": "rgb(0, 0, 0)",
         "line": {
          "color": "#222222",
          "width": 1
         },
         "marker": {
          "cmax": 699.3438675676255,
          "cmin": 0,
          "color": [
           0.0,
           0.0,
           0.0,
           0.0
          ],
          "coloraxis": "coloraxis2",
          "opacity": 0
         },
         "mode": "lines+markers",
         "type": "scatter",
         "x": [
          5,
          6,
          6,
          5
         ],
         "xaxis": "x3",
         "y": [
          3,
          3,
          4,
          3
         ],
         "yaxis": "y3"
        },
        {
         "fill": "toself",
         "fillcolor": "rgb(16, 30, 13)",
         "line": {
          "color": "#222222",
          "width": 1
         },
         "marker": {
          "cmax": 1238.2841030156612,
          "cmin": 0,
          "color": [
           226.97652439336073,
           226.97652439336073,
           226.97652439336073,
           226.97652439336073
          ],
          "coloraxis": "coloraxis",
          "opacity": 0
         },
         "mode": "lines+markers",
         "type": "scatter",
         "x": [
          6,
          6,
          7,
          6
         ],
         "xaxis": "x3",
         "y": [
          3,
          4,
          4,
          3
         ],
         "yaxis": "y3"
        },
        {
         "fill": "toself",
         "fillcolor": "rgb(60, 41, 55)",
         "line": {
          "color": "#222222",
          "width": 1
         },
         "marker": {
          "cmax": 699.3438675676255,
          "cmin": 0,
          "color": [
           237.45009457073294,
           237.45009457073294,
           237.45009457073294,
           237.45009457073294
          ],
          "coloraxis": "coloraxis2",
          "opacity": 0
         },
         "mode": "lines+markers",
         "type": "scatter",
         "x": [
          6,
          7,
          7,
          6
         ],
         "xaxis": "x3",
         "y": [
          3,
          3,
          4,
          3
         ],
         "yaxis": "y3"
        },
        {
         "fill": "toself",
         "fillcolor": "rgb(18, 33, 14)",
         "line": {
          "color": "#222222",
          "width": 1
         },
         "marker": {
          "cmax": 1238.2841030156612,
          "cmin": 0,
          "color": [
           250.39887699065403,
           250.39887699065403,
           250.39887699065403,
           250.39887699065403
          ],
          "coloraxis": "coloraxis",
          "opacity": 0
         },
         "mode": "lines+markers",
         "type": "scatter",
         "x": [
          7,
          7,
          8,
          7
         ],
         "xaxis": "x3",
         "y": [
          3,
          4,
          4,
          3
         ],
         "yaxis": "y3"
        },
        {
         "fill": "toself",
         "fillcolor": "rgb(40, 28, 37)",
         "line": {
          "color": "#222222",
          "width": 1
         },
         "marker": {
          "cmax": 699.3438675676255,
          "cmin": 0,
          "color": [
           159.64349210411356,
           159.64349210411356,
           159.64349210411356,
           159.64349210411356
          ],
          "coloraxis": "coloraxis2",
          "opacity": 0
         },
         "mode": "lines+markers",
         "type": "scatter",
         "x": [
          7,
          8,
          8,
          7
         ],
         "xaxis": "x3",
         "y": [
          3,
          3,
          4,
          3
         ],
         "yaxis": "y3"
        },
        {
         "fill": "toself",
         "fillcolor": "rgb(13, 23, 10)",
         "line": {
          "color": "#222222",
          "width": 1
         },
         "marker": {
          "cmax": 1238.2841030156612,
          "cmin": 0,
          "color": [
           177.36037539755353,
           177.36037539755353,
           177.36037539755353,
           177.36037539755353
          ],
          "coloraxis": "coloraxis",
          "opacity": 0
         },
         "mode": "lines+markers",
         "type": "scatter",
         "x": [
          8,
          8,
          9,
          8
         ],
         "xaxis": "x3",
         "y": [
          3,
          4,
          4,
          3
         ],
         "yaxis": "y3"
        },
        {
         "fill": "toself",
         "fillcolor": "rgb(44, 31, 40)",
         "line": {
          "color": "#222222",
          "width": 1
         },
         "marker": {
          "cmax": 699.3438675676255,
          "cmin": 0,
          "color": [
           175.85817758587748,
           175.85817758587748,
           175.85817758587748,
           175.85817758587748
          ],
          "coloraxis": "coloraxis2",
          "opacity": 0
         },
         "mode": "lines+markers",
         "type": "scatter",
         "x": [
          8,
          9,
          9,
          8
         ],
         "xaxis": "x3",
         "y": [
          3,
          3,
          4,
          3
         ],
         "yaxis": "y3"
        },
        {
         "fill": "toself",
         "fillcolor": "rgb(6, 11, 5)",
         "line": {
          "color": "#222222",
          "width": 1
         },
         "marker": {
          "cmax": 1238.2841030156612,
          "cmin": 0,
          "color": [
           85.28334325938981,
           85.28334325938981,
           85.28334325938981,
           85.28334325938981
          ],
          "coloraxis": "coloraxis",
          "opacity": 0
         },
         "mode": "lines+markers",
         "type": "scatter",
         "x": [
          9,
          9,
          10,
          9
         ],
         "xaxis": "x3",
         "y": [
          3,
          4,
          4,
          3
         ],
         "yaxis": "y3"
        },
        {
         "fill": "toself",
         "fillcolor": "rgb(102, 71, 93)",
         "line": {
          "color": "#222222",
          "width": 1
         },
         "marker": {
          "cmax": 699.3438675676255,
          "cmin": 0,
          "color": [
           404.8111546156924,
           404.8111546156924,
           404.8111546156924,
           404.8111546156924
          ],
          "coloraxis": "coloraxis2",
          "opacity": 0
         },
         "mode": "lines+markers",
         "type": "scatter",
         "x": [
          9,
          10,
          10,
          9
         ],
         "xaxis": "x3",
         "y": [
          3,
          3,
          4,
          3
         ],
         "yaxis": "y3"
        }
       ],
       "layout": {
        "coloraxis": {
         "colorbar": {
          "len": 1,
          "thickness": 10,
          "tickangle": -90,
          "title": {
           "side": "right",
           "text": "amplitude (d'*ms)"
          },
          "x": 0.78,
          "xanchor": "left"
         },
         "colorscale": [
          [
           0.0,
           "#000000"
          ],
          [
           1.0,
           "#59A147"
          ]
         ]
        },
        "coloraxis2": {
         "colorbar": {
          "len": 1,
          "thickness": 10,
          "tickangle": -90,
          "title": {
           "side": "right",
           "text": "duration (ms)"
          },
          "x": 0.7,
          "xanchor": "left"
         },
         "colorscale": [
          [
           0.0,
           "#000000"
          ],
          [
           1.0,
           "#B07AA1"
          ]
         ]
        },
        "margin": {
         "b": 10,
         "l": 10,
         "r": 10,
         "t": 10
        },
        "shapes": [
         {
          "fillcolor": "rgba(0,0,0,0)",
          "line": {
           "color": "red",
           "width": 5
          },
          "type": "rect",
          "x0": 0,
          "x1": 1,
          "xref": "x",
          "y0": 2,
          "y1": 3,
          "yref": "y"
         }
        ],
        "showlegend": false,
        "template": {
         "data": {
          "bar": [
           {
            "error_x": {
             "color": "rgb(36,36,36)"
            },
            "error_y": {
             "color": "rgb(36,36,36)"
            },
            "marker": {
             "line": {
              "color": "white",
              "width": 0.5
             },
             "pattern": {
              "fillmode": "overlay",
              "size": 10,
              "solidity": 0.2
             }
            },
            "type": "bar"
           }
          ],
          "barpolar": [
           {
            "marker": {
             "line": {
              "color": "white",
              "width": 0.5
             },
             "pattern": {
              "fillmode": "overlay",
              "size": 10,
              "solidity": 0.2
             }
            },
            "type": "barpolar"
           }
          ],
          "carpet": [
           {
            "aaxis": {
             "endlinecolor": "rgb(36,36,36)",
             "gridcolor": "white",
             "linecolor": "white",
             "minorgridcolor": "white",
             "startlinecolor": "rgb(36,36,36)"
            },
            "baxis": {
             "endlinecolor": "rgb(36,36,36)",
             "gridcolor": "white",
             "linecolor": "white",
             "minorgridcolor": "white",
             "startlinecolor": "rgb(36,36,36)"
            },
            "type": "carpet"
           }
          ],
          "choropleth": [
           {
            "colorbar": {
             "outlinewidth": 1,
             "tickcolor": "rgb(36,36,36)",
             "ticks": "outside"
            },
            "type": "choropleth"
           }
          ],
          "contour": [
           {
            "colorbar": {
             "outlinewidth": 1,
             "tickcolor": "rgb(36,36,36)",
             "ticks": "outside"
            },
            "colorscale": [
             [
              0.0,
              "#440154"
             ],
             [
              0.1111111111111111,
              "#482878"
             ],
             [
              0.2222222222222222,
              "#3e4989"
             ],
             [
              0.3333333333333333,
              "#31688e"
             ],
             [
              0.4444444444444444,
              "#26828e"
             ],
             [
              0.5555555555555556,
              "#1f9e89"
             ],
             [
              0.6666666666666666,
              "#35b779"
             ],
             [
              0.7777777777777778,
              "#6ece58"
             ],
             [
              0.8888888888888888,
              "#b5de2b"
             ],
             [
              1.0,
              "#fde725"
             ]
            ],
            "type": "contour"
           }
          ],
          "contourcarpet": [
           {
            "colorbar": {
             "outlinewidth": 1,
             "tickcolor": "rgb(36,36,36)",
             "ticks": "outside"
            },
            "type": "contourcarpet"
           }
          ],
          "heatmap": [
           {
            "colorbar": {
             "outlinewidth": 1,
             "tickcolor": "rgb(36,36,36)",
             "ticks": "outside"
            },
            "colorscale": [
             [
              0.0,
              "#440154"
             ],
             [
              0.1111111111111111,
              "#482878"
             ],
             [
              0.2222222222222222,
              "#3e4989"
             ],
             [
              0.3333333333333333,
              "#31688e"
             ],
             [
              0.4444444444444444,
              "#26828e"
             ],
             [
              0.5555555555555556,
              "#1f9e89"
             ],
             [
              0.6666666666666666,
              "#35b779"
             ],
             [
              0.7777777777777778,
              "#6ece58"
             ],
             [
              0.8888888888888888,
              "#b5de2b"
             ],
             [
              1.0,
              "#fde725"
             ]
            ],
            "type": "heatmap"
           }
          ],
          "heatmapgl": [
           {
            "colorbar": {
             "outlinewidth": 1,
             "tickcolor": "rgb(36,36,36)",
             "ticks": "outside"
            },
            "colorscale": [
             [
              0.0,
              "#440154"
             ],
             [
              0.1111111111111111,
              "#482878"
             ],
             [
              0.2222222222222222,
              "#3e4989"
             ],
             [
              0.3333333333333333,
              "#31688e"
             ],
             [
              0.4444444444444444,
              "#26828e"
             ],
             [
              0.5555555555555556,
              "#1f9e89"
             ],
             [
              0.6666666666666666,
              "#35b779"
             ],
             [
              0.7777777777777778,
              "#6ece58"
             ],
             [
              0.8888888888888888,
              "#b5de2b"
             ],
             [
              1.0,
              "#fde725"
             ]
            ],
            "type": "heatmapgl"
           }
          ],
          "histogram": [
           {
            "marker": {
             "line": {
              "color": "white",
              "width": 0.6
             }
            },
            "type": "histogram"
           }
          ],
          "histogram2d": [
           {
            "colorbar": {
             "outlinewidth": 1,
             "tickcolor": "rgb(36,36,36)",
             "ticks": "outside"
            },
            "colorscale": [
             [
              0.0,
              "#440154"
             ],
             [
              0.1111111111111111,
              "#482878"
             ],
             [
              0.2222222222222222,
              "#3e4989"
             ],
             [
              0.3333333333333333,
              "#31688e"
             ],
             [
              0.4444444444444444,
              "#26828e"
             ],
             [
              0.5555555555555556,
              "#1f9e89"
             ],
             [
              0.6666666666666666,
              "#35b779"
             ],
             [
              0.7777777777777778,
              "#6ece58"
             ],
             [
              0.8888888888888888,
              "#b5de2b"
             ],
             [
              1.0,
              "#fde725"
             ]
            ],
            "type": "histogram2d"
           }
          ],
          "histogram2dcontour": [
           {
            "colorbar": {
             "outlinewidth": 1,
             "tickcolor": "rgb(36,36,36)",
             "ticks": "outside"
            },
            "colorscale": [
             [
              0.0,
              "#440154"
             ],
             [
              0.1111111111111111,
              "#482878"
             ],
             [
              0.2222222222222222,
              "#3e4989"
             ],
             [
              0.3333333333333333,
              "#31688e"
             ],
             [
              0.4444444444444444,
              "#26828e"
             ],
             [
              0.5555555555555556,
              "#1f9e89"
             ],
             [
              0.6666666666666666,
              "#35b779"
             ],
             [
              0.7777777777777778,
              "#6ece58"
             ],
             [
              0.8888888888888888,
              "#b5de2b"
             ],
             [
              1.0,
              "#fde725"
             ]
            ],
            "type": "histogram2dcontour"
           }
          ],
          "mesh3d": [
           {
            "colorbar": {
             "outlinewidth": 1,
             "tickcolor": "rgb(36,36,36)",
             "ticks": "outside"
            },
            "type": "mesh3d"
           }
          ],
          "parcoords": [
           {
            "line": {
             "colorbar": {
              "outlinewidth": 1,
              "tickcolor": "rgb(36,36,36)",
              "ticks": "outside"
             }
            },
            "type": "parcoords"
           }
          ],
          "pie": [
           {
            "automargin": true,
            "type": "pie"
           }
          ],
          "scatter": [
           {
            "marker": {
             "colorbar": {
              "outlinewidth": 1,
              "tickcolor": "rgb(36,36,36)",
              "ticks": "outside"
             }
            },
            "type": "scatter"
           }
          ],
          "scatter3d": [
           {
            "line": {
             "colorbar": {
              "outlinewidth": 1,
              "tickcolor": "rgb(36,36,36)",
              "ticks": "outside"
             }
            },
            "marker": {
             "colorbar": {
              "outlinewidth": 1,
              "tickcolor": "rgb(36,36,36)",
              "ticks": "outside"
             }
            },
            "type": "scatter3d"
           }
          ],
          "scattercarpet": [
           {
            "marker": {
             "colorbar": {
              "outlinewidth": 1,
              "tickcolor": "rgb(36,36,36)",
              "ticks": "outside"
             }
            },
            "type": "scattercarpet"
           }
          ],
          "scattergeo": [
           {
            "marker": {
             "colorbar": {
              "outlinewidth": 1,
              "tickcolor": "rgb(36,36,36)",
              "ticks": "outside"
             }
            },
            "type": "scattergeo"
           }
          ],
          "scattergl": [
           {
            "marker": {
             "colorbar": {
              "outlinewidth": 1,
              "tickcolor": "rgb(36,36,36)",
              "ticks": "outside"
             }
            },
            "type": "scattergl"
           }
          ],
          "scattermapbox": [
           {
            "marker": {
             "colorbar": {
              "outlinewidth": 1,
              "tickcolor": "rgb(36,36,36)",
              "ticks": "outside"
             }
            },
            "type": "scattermapbox"
           }
          ],
          "scatterpolar": [
           {
            "marker": {
             "colorbar": {
              "outlinewidth": 1,
              "tickcolor": "rgb(36,36,36)",
              "ticks": "outside"
             }
            },
            "type": "scatterpolar"
           }
          ],
          "scatterpolargl": [
           {
            "marker": {
             "colorbar": {
              "outlinewidth": 1,
              "tickcolor": "rgb(36,36,36)",
              "ticks": "outside"
             }
            },
            "type": "scatterpolargl"
           }
          ],
          "scatterternary": [
           {
            "marker": {
             "colorbar": {
              "outlinewidth": 1,
              "tickcolor": "rgb(36,36,36)",
              "ticks": "outside"
             }
            },
            "type": "scatterternary"
           }
          ],
          "surface": [
           {
            "colorbar": {
             "outlinewidth": 1,
             "tickcolor": "rgb(36,36,36)",
             "ticks": "outside"
            },
            "colorscale": [
             [
              0.0,
              "#440154"
             ],
             [
              0.1111111111111111,
              "#482878"
             ],
             [
              0.2222222222222222,
              "#3e4989"
             ],
             [
              0.3333333333333333,
              "#31688e"
             ],
             [
              0.4444444444444444,
              "#26828e"
             ],
             [
              0.5555555555555556,
              "#1f9e89"
             ],
             [
              0.6666666666666666,
              "#35b779"
             ],
             [
              0.7777777777777778,
              "#6ece58"
             ],
             [
              0.8888888888888888,
              "#b5de2b"
             ],
             [
              1.0,
              "#fde725"
             ]
            ],
            "type": "surface"
           }
          ],
          "table": [
           {
            "cells": {
             "fill": {
              "color": "rgb(237,237,237)"
             },
             "line": {
              "color": "white"
             }
            },
            "header": {
             "fill": {
              "color": "rgb(217,217,217)"
             },
             "line": {
              "color": "white"
             }
            },
            "type": "table"
           }
          ]
         },
         "layout": {
          "annotationdefaults": {
           "arrowhead": 0,
           "arrowwidth": 1
          },
          "autotypenumbers": "strict",
          "coloraxis": {
           "colorbar": {
            "outlinewidth": 1,
            "tickcolor": "rgb(36,36,36)",
            "ticks": "outside"
           }
          },
          "colorscale": {
           "diverging": [
            [
             0.0,
             "rgb(103,0,31)"
            ],
            [
             0.1,
             "rgb(178,24,43)"
            ],
            [
             0.2,
             "rgb(214,96,77)"
            ],
            [
             0.3,
             "rgb(244,165,130)"
            ],
            [
             0.4,
             "rgb(253,219,199)"
            ],
            [
             0.5,
             "rgb(247,247,247)"
            ],
            [
             0.6,
             "rgb(209,229,240)"
            ],
            [
             0.7,
             "rgb(146,197,222)"
            ],
            [
             0.8,
             "rgb(67,147,195)"
            ],
            [
             0.9,
             "rgb(33,102,172)"
            ],
            [
             1.0,
             "rgb(5,48,97)"
            ]
           ],
           "sequential": [
            [
             0.0,
             "#440154"
            ],
            [
             0.1111111111111111,
             "#482878"
            ],
            [
             0.2222222222222222,
             "#3e4989"
            ],
            [
             0.3333333333333333,
             "#31688e"
            ],
            [
             0.4444444444444444,
             "#26828e"
            ],
            [
             0.5555555555555556,
             "#1f9e89"
            ],
            [
             0.6666666666666666,
             "#35b779"
            ],
            [
             0.7777777777777778,
             "#6ece58"
            ],
            [
             0.8888888888888888,
             "#b5de2b"
            ],
            [
             1.0,
             "#fde725"
            ]
           ],
           "sequentialminus": [
            [
             0.0,
             "#440154"
            ],
            [
             0.1111111111111111,
             "#482878"
            ],
            [
             0.2222222222222222,
             "#3e4989"
            ],
            [
             0.3333333333333333,
             "#31688e"
            ],
            [
             0.4444444444444444,
             "#26828e"
            ],
            [
             0.5555555555555556,
             "#1f9e89"
            ],
            [
             0.6666666666666666,
             "#35b779"
            ],
            [
             0.7777777777777778,
             "#6ece58"
            ],
            [
             0.8888888888888888,
             "#b5de2b"
            ],
            [
             1.0,
             "#fde725"
            ]
           ]
          },
          "colorway": [
           "#1F77B4",
           "#FF7F0E",
           "#2CA02C",
           "#D62728",
           "#9467BD",
           "#8C564B",
           "#E377C2",
           "#7F7F7F",
           "#BCBD22",
           "#17BECF"
          ],
          "font": {
           "color": "rgb(36,36,36)"
          },
          "geo": {
           "bgcolor": "white",
           "lakecolor": "white",
           "landcolor": "white",
           "showlakes": true,
           "showland": true,
           "subunitcolor": "white"
          },
          "hoverlabel": {
           "align": "left"
          },
          "hovermode": "closest",
          "mapbox": {
           "style": "light"
          },
          "paper_bgcolor": "white",
          "plot_bgcolor": "white",
          "polar": {
           "angularaxis": {
            "gridcolor": "rgb(232,232,232)",
            "linecolor": "rgb(36,36,36)",
            "showgrid": false,
            "showline": true,
            "ticks": "outside"
           },
           "bgcolor": "white",
           "radialaxis": {
            "gridcolor": "rgb(232,232,232)",
            "linecolor": "rgb(36,36,36)",
            "showgrid": false,
            "showline": true,
            "ticks": "outside"
           }
          },
          "scene": {
           "xaxis": {
            "backgroundcolor": "white",
            "gridcolor": "rgb(232,232,232)",
            "gridwidth": 2,
            "linecolor": "rgb(36,36,36)",
            "showbackground": true,
            "showgrid": false,
            "showline": true,
            "ticks": "outside",
            "zeroline": false,
            "zerolinecolor": "rgb(36,36,36)"
           },
           "yaxis": {
            "backgroundcolor": "white",
            "gridcolor": "rgb(232,232,232)",
            "gridwidth": 2,
            "linecolor": "rgb(36,36,36)",
            "showbackground": true,
            "showgrid": false,
            "showline": true,
            "ticks": "outside",
            "zeroline": false,
            "zerolinecolor": "rgb(36,36,36)"
           },
           "zaxis": {
            "backgroundcolor": "white",
            "gridcolor": "rgb(232,232,232)",
            "gridwidth": 2,
            "linecolor": "rgb(36,36,36)",
            "showbackground": true,
            "showgrid": false,
            "showline": true,
            "ticks": "outside",
            "zeroline": false,
            "zerolinecolor": "rgb(36,36,36)"
           }
          },
          "shapedefaults": {
           "fillcolor": "black",
           "line": {
            "width": 0
           },
           "opacity": 0.3
          },
          "ternary": {
           "aaxis": {
            "gridcolor": "rgb(232,232,232)",
            "linecolor": "rgb(36,36,36)",
            "showgrid": false,
            "showline": true,
            "ticks": "outside"
           },
           "baxis": {
            "gridcolor": "rgb(232,232,232)",
            "linecolor": "rgb(36,36,36)",
            "showgrid": false,
            "showline": true,
            "ticks": "outside"
           },
           "bgcolor": "white",
           "caxis": {
            "gridcolor": "rgb(232,232,232)",
            "linecolor": "rgb(36,36,36)",
            "showgrid": false,
            "showline": true,
            "ticks": "outside"
           }
          },
          "title": {
           "x": 0.05
          },
          "xaxis": {
           "automargin": true,
           "gridcolor": "rgb(232,232,232)",
           "linecolor": "rgb(36,36,36)",
           "showgrid": false,
           "showline": true,
           "ticks": "outside",
           "title": {
            "standoff": 15
           },
           "zeroline": false,
           "zerolinecolor": "rgb(36,36,36)"
          },
          "yaxis": {
           "automargin": true,
           "gridcolor": "rgb(232,232,232)",
           "linecolor": "rgb(36,36,36)",
           "showgrid": false,
           "showline": true,
           "ticks": "outside",
           "title": {
            "standoff": 15
           },
           "zeroline": false,
           "zerolinecolor": "rgb(36,36,36)"
          }
         }
        },
        "xaxis": {
         "anchor": "y",
         "constrain": "domain",
         "domain": [
          0.0,
          1.0
         ],
         "fixedrange": true,
         "range": [
          0,
          10
         ],
         "scaleanchor": "y",
         "showticklabels": false,
         "ticks": ""
        },
        "xaxis2": {
         "anchor": "y2",
         "constrain": "domain",
         "domain": [
          0.0,
          1.0
         ],
         "fixedrange": true,
         "range": [
          0,
          10
         ],
         "scaleanchor": "y2",
         "showticklabels": false,
         "ticks": ""
        },
        "xaxis3": {
         "anchor": "y3",
         "constrain": "domain",
         "domain": [
          0.0,
          1.0
         ],
         "fixedrange": true,
         "range": [
          0,
          10
         ],
         "scaleanchor": "y3",
         "showticklabels": true,
         "tickmode": "array",
         "ticks": "outside",
         "ticktext": [
          "0_1",
          "0_2",
          "0_3",
          "0_4",
          "1_2",
          "1_3",
          "1_4",
          "2_3",
          "2_4",
          "3_4"
         ],
         "tickvals": [
          0.5,
          1.5,
          2.5,
          3.5,
          4.5,
          5.5,
          6.5,
          7.5,
          8.5,
          9.5
         ],
         "title": {
          "text": "context pairs"
         }
        },
        "yaxis": {
         "anchor": "x",
         "constrain": "domain",
         "domain": [
          0.6733333333333333,
          1.0
         ],
         "fixedrange": true,
         "range": [
          0,
          4
         ],
         "tickmode": "array",
         "ticktext": [
          1,
          2,
          3,
          4
         ],
         "tickvals": [
          0.5,
          1.5,
          2.5,
          3.5
         ],
         "title": {
          "text": "ARM021b-36-8<br>probes"
         }
        },
        "yaxis2": {
         "anchor": "x2",
         "constrain": "domain",
         "domain": [
          0.33666666666666667,
          0.6633333333333333
         ],
         "fixedrange": true,
         "range": [
          0,
          4
         ],
         "tickmode": "array",
         "ticktext": [
          1,
          2,
          3,
          4
         ],
         "tickvals": [
          0.5,
          1.5,
          2.5,
          3.5
         ],
         "title": {
          "text": "ARM021b-43-8<br>probes"
         }
        },
        "yaxis3": {
         "anchor": "x3",
         "constrain": "domain",
         "domain": [
          0.0,
          0.32666666666666666
         ],
         "fixedrange": true,
         "range": [
          0,
          4
         ],
         "tickmode": "array",
         "ticktext": [
          1,
          2,
          3,
          4
         ],
         "tickvals": [
          0.5,
          1.5,
          2.5,
          3.5
         ],
         "title": {
          "text": "ARM021b-05-1<br>probes"
         }
        }
       }
      },
      "text/html": "<div>                            <div id=\"5cff7e3d-ea85-4bc2-a59a-5ff1c9e05ec3\" class=\"plotly-graph-div\" style=\"height:525px; width:100%;\"></div>            <script type=\"text/javascript\">                require([\"plotly\"], function(Plotly) {                    window.PLOTLYENV=window.PLOTLYENV || {};                                    if (document.getElementById(\"5cff7e3d-ea85-4bc2-a59a-5ff1c9e05ec3\")) {                    Plotly.newPlot(                        \"5cff7e3d-ea85-4bc2-a59a-5ff1c9e05ec3\",                        [{\"fill\":\"toself\",\"fillcolor\":\"rgb(0, 0, 0)\",\"line\":{\"color\":\"#222222\",\"width\":1},\"marker\":{\"cmax\":1238.2841030156612,\"cmin\":0,\"color\":[0.0,0.0,0.0,0.0],\"coloraxis\":\"coloraxis\",\"opacity\":0},\"mode\":\"lines+markers\",\"type\":\"scatter\",\"x\":[0,0,1,0],\"xaxis\":\"x\",\"y\":[0,1,1,0],\"yaxis\":\"y\"},{\"fill\":\"toself\",\"fillcolor\":\"rgb(0, 0, 0)\",\"line\":{\"color\":\"#222222\",\"width\":1},\"marker\":{\"cmax\":699.3438675676255,\"cmin\":0,\"color\":[0.0,0.0,0.0,0.0],\"coloraxis\":\"coloraxis2\",\"opacity\":0},\"mode\":\"lines+markers\",\"type\":\"scatter\",\"x\":[0,1,1,0],\"xaxis\":\"x\",\"y\":[0,0,1,0],\"yaxis\":\"y\"},{\"fill\":\"toself\",\"fillcolor\":\"rgb(0, 0, 0)\",\"line\":{\"color\":\"#222222\",\"width\":1},\"marker\":{\"cmax\":1238.2841030156612,\"cmin\":0,\"color\":[0.0,0.0,0.0,0.0],\"coloraxis\":\"coloraxis\",\"opacity\":0},\"mode\":\"lines+markers\",\"type\":\"scatter\",\"x\":[1,1,2,1],\"xaxis\":\"x\",\"y\":[0,1,1,0],\"yaxis\":\"y\"},{\"fill\":\"toself\",\"fillcolor\":\"rgb(0, 0, 0)\",\"line\":{\"color\":\"#222222\",\"width\":1},\"marker\":{\"cmax\":699.3438675676255,\"cmin\":0,\"color\":[0.0,0.0,0.0,0.0],\"coloraxis\":\"coloraxis2\",\"opacity\":0},\"mode\":\"lines+markers\",\"type\":\"scatter\",\"x\":[1,2,2,1],\"xaxis\":\"x\",\"y\":[0,0,1,0],\"yaxis\":\"y\"},{\"fill\":\"toself\",\"fillcolor\":\"rgb(6, 12, 5)\",\"line\":{\"color\":\"#222222\",\"width\":1},\"marker\":{\"cmax\":1238.2841030156612,\"cmin\":0,\"color\":[89.70001725859343,89.70001725859343,89.70001725859343,89.70001725859343],\"coloraxis\":\"coloraxis\",\"opacity\":0},\"mode\":\"lines+markers\",\"type\":\"scatter\",\"x\":[2,2,3,2],\"xaxis\":\"x\",\"y\":[0,1,1,0],\"yaxis\":\"y\"},{\"fill\":\"toself\",\"fillcolor\":\"rgb(7, 5, 7)\",\"line\":{\"color\":\"#222222\",\"width\":1},\"marker\":{\"cmax\":699.3438675676255,\"cmin\":0,\"color\":[28.802006735097443,28.802006735097443,28.802006735097443,28.802006735097443],\"coloraxis\":\"coloraxis2\",\"opacity\":0},\"mode\":\"lines+markers\",\"type\":\"scatter\",\"x\":[2,3,3,2],\"xaxis\":\"x\",\"y\":[0,0,1,0],\"yaxis\":\"y\"},{\"fill\":\"toself\",\"fillcolor\":\"rgb(0, 0, 0)\",\"line\":{\"color\":\"#222222\",\"width\":1},\"marker\":{\"cmax\":1238.2841030156612,\"cmin\":0,\"color\":[0.0,0.0,0.0,0.0],\"coloraxis\":\"coloraxis\",\"opacity\":0},\"mode\":\"lines+markers\",\"type\":\"scatter\",\"x\":[3,3,4,3],\"xaxis\":\"x\",\"y\":[0,1,1,0],\"yaxis\":\"y\"},{\"fill\":\"toself\",\"fillcolor\":\"rgb(0, 0, 0)\",\"line\":{\"color\":\"#222222\",\"width\":1},\"marker\":{\"cmax\":699.3438675676255,\"cmin\":0,\"color\":[0.0,0.0,0.0,0.0],\"coloraxis\":\"coloraxis2\",\"opacity\":0},\"mode\":\"lines+markers\",\"type\":\"scatter\",\"x\":[3,4,4,3],\"xaxis\":\"x\",\"y\":[0,0,1,0],\"yaxis\":\"y\"},{\"fill\":\"toself\",\"fillcolor\":\"rgb(0, 0, 0)\",\"line\":{\"color\":\"#222222\",\"width\":1},\"marker\":{\"cmax\":1238.2841030156612,\"cmin\":0,\"color\":[0.0,0.0,0.0,0.0],\"coloraxis\":\"coloraxis\",\"opacity\":0},\"mode\":\"lines+markers\",\"type\":\"scatter\",\"x\":[4,4,5,4],\"xaxis\":\"x\",\"y\":[0,1,1,0],\"yaxis\":\"y\"},{\"fill\":\"toself\",\"fillcolor\":\"rgb(0, 0, 0)\",\"line\":{\"color\":\"#222222\",\"width\":1},\"marker\":{\"cmax\":699.3438675676255,\"cmin\":0,\"color\":[0.0,0.0,0.0,0.0],\"coloraxis\":\"coloraxis2\",\"opacity\":0},\"mode\":\"lines+markers\",\"type\":\"scatter\",\"x\":[4,5,5,4],\"xaxis\":\"x\",\"y\":[0,0,1,0],\"yaxis\":\"y\"},{\"fill\":\"toself\",\"fillcolor\":\"rgb(7, 12, 5)\",\"line\":{\"color\":\"#222222\",\"width\":1},\"marker\":{\"cmax\":1238.2841030156612,\"cmin\":0,\"color\":[92.95884337784689,92.95884337784689,92.95884337784689,92.95884337784689],\"coloraxis\":\"coloraxis\",\"opacity\":0},\"mode\":\"lines+markers\",\"type\":\"scatter\",\"x\":[5,5,6,5],\"xaxis\":\"x\",\"y\":[0,1,1,0],\"yaxis\":\"y\"},{\"fill\":\"toself\",\"fillcolor\":\"rgb(176, 122, 161)\",\"line\":{\"color\":\"#222222\",\"width\":1},\"marker\":{\"cmax\":699.3438675676255,\"cmin\":0,\"color\":[699.3438675676255,699.3438675676255,699.3438675676255,699.3438675676255],\"coloraxis\":\"coloraxis2\",\"opacity\":0},\"mode\":\"lines+markers\",\"type\":\"scatter\",\"x\":[5,6,6,5],\"xaxis\":\"x\",\"y\":[0,0,1,0],\"yaxis\":\"y\"},{\"fill\":\"toself\",\"fillcolor\":\"rgb(10, 18, 8)\",\"line\":{\"color\":\"#222222\",\"width\":1},\"marker\":{\"cmax\":1238.2841030156612,\"cmin\":0,\"color\":[136.40539611066873,136.40539611066873,136.40539611066873,136.40539611066873],\"coloraxis\":\"coloraxis\",\"opacity\":0},\"mode\":\"lines+markers\",\"type\":\"scatter\",\"x\":[6,6,7,6],\"xaxis\":\"x\",\"y\":[0,1,1,0],\"yaxis\":\"y\"},{\"fill\":\"toself\",\"fillcolor\":\"rgb(112, 78, 102)\",\"line\":{\"color\":\"#222222\",\"width\":1},\"marker\":{\"cmax\":699.3438675676255,\"cmin\":0,\"color\":[444.54608002573354,444.54608002573354,444.54608002573354,444.54608002573354],\"coloraxis\":\"coloraxis2\",\"opacity\":0},\"mode\":\"lines+markers\",\"type\":\"scatter\",\"x\":[6,7,7,6],\"xaxis\":\"x\",\"y\":[0,0,1,0],\"yaxis\":\"y\"},{\"fill\":\"toself\",\"fillcolor\":\"rgb(0, 0, 0)\",\"line\":{\"color\":\"#222222\",\"width\":1},\"marker\":{\"cmax\":1238.2841030156612,\"cmin\":0,\"color\":[0.0,0.0,0.0,0.0],\"coloraxis\":\"coloraxis\",\"opacity\":0},\"mode\":\"lines+markers\",\"type\":\"scatter\",\"x\":[7,7,8,7],\"xaxis\":\"x\",\"y\":[0,1,1,0],\"yaxis\":\"y\"},{\"fill\":\"toself\",\"fillcolor\":\"rgb(0, 0, 0)\",\"line\":{\"color\":\"#222222\",\"width\":1},\"marker\":{\"cmax\":699.3438675676255,\"cmin\":0,\"color\":[0.0,0.0,0.0,0.0],\"coloraxis\":\"coloraxis2\",\"opacity\":0},\"mode\":\"lines+markers\",\"type\":\"scatter\",\"x\":[7,8,8,7],\"xaxis\":\"x\",\"y\":[0,0,1,0],\"yaxis\":\"y\"},{\"fill\":\"toself\",\"fillcolor\":\"rgb(0, 0, 0)\",\"line\":{\"color\":\"#222222\",\"width\":1},\"marker\":{\"cmax\":1238.2841030156612,\"cmin\":0,\"color\":[0.0,0.0,0.0,0.0],\"coloraxis\":\"coloraxis\",\"opacity\":0},\"mode\":\"lines+markers\",\"type\":\"scatter\",\"x\":[8,8,9,8],\"xaxis\":\"x\",\"y\":[0,1,1,0],\"yaxis\":\"y\"},{\"fill\":\"toself\",\"fillcolor\":\"rgb(0, 0, 0)\",\"line\":{\"color\":\"#222222\",\"width\":1},\"marker\":{\"cmax\":699.3438675676255,\"cmin\":0,\"color\":[0.0,0.0,0.0,0.0],\"coloraxis\":\"coloraxis2\",\"opacity\":0},\"mode\":\"lines+markers\",\"type\":\"scatter\",\"x\":[8,9,9,8],\"xaxis\":\"x\",\"y\":[0,0,1,0],\"yaxis\":\"y\"},{\"fill\":\"toself\",\"fillcolor\":\"rgb(0, 0, 0)\",\"line\":{\"color\":\"#222222\",\"width\":1},\"marker\":{\"cmax\":1238.2841030156612,\"cmin\":0,\"color\":[0.0,0.0,0.0,0.0],\"coloraxis\":\"coloraxis\",\"opacity\":0},\"mode\":\"lines+markers\",\"type\":\"scatter\",\"x\":[9,9,10,9],\"xaxis\":\"x\",\"y\":[0,1,1,0],\"yaxis\":\"y\"},{\"fill\":\"toself\",\"fillcolor\":\"rgb(0, 0, 0)\",\"line\":{\"color\":\"#222222\",\"width\":1},\"marker\":{\"cmax\":699.3438675676255,\"cmin\":0,\"color\":[0.0,0.0,0.0,0.0],\"coloraxis\":\"coloraxis2\",\"opacity\":0},\"mode\":\"lines+markers\",\"type\":\"scatter\",\"x\":[9,10,10,9],\"xaxis\":\"x\",\"y\":[0,0,1,0],\"yaxis\":\"y\"},{\"fill\":\"toself\",\"fillcolor\":\"rgb(56, 102, 45)\",\"line\":{\"color\":\"#222222\",\"width\":1},\"marker\":{\"cmax\":1238.2841030156612,\"cmin\":0,\"color\":[782.0239237823545,782.0239237823545,782.0239237823545,782.0239237823545],\"coloraxis\":\"coloraxis\",\"opacity\":0},\"mode\":\"lines+markers\",\"type\":\"scatter\",\"x\":[0,0,1,0],\"xaxis\":\"x\",\"y\":[1,2,2,1],\"yaxis\":\"y\"},{\"fill\":\"toself\",\"fillcolor\":\"rgb(42, 29, 38)\",\"line\":{\"color\":\"#222222\",\"width\":1},\"marker\":{\"cmax\":699.3438675676255,\"cmin\":0,\"color\":[166.7949290007546,166.7949290007546,166.7949290007546,166.7949290007546],\"coloraxis\":\"coloraxis2\",\"opacity\":0},\"mode\":\"lines+markers\",\"type\":\"scatter\",\"x\":[0,1,1,0],\"xaxis\":\"x\",\"y\":[1,1,2,1],\"yaxis\":\"y\"},{\"fill\":\"toself\",\"fillcolor\":\"rgb(0, 0, 0)\",\"line\":{\"color\":\"#222222\",\"width\":1},\"marker\":{\"cmax\":1238.2841030156612,\"cmin\":0,\"color\":[0.0,0.0,0.0,0.0],\"coloraxis\":\"coloraxis\",\"opacity\":0},\"mode\":\"lines+markers\",\"type\":\"scatter\",\"x\":[1,1,2,1],\"xaxis\":\"x\",\"y\":[1,2,2,1],\"yaxis\":\"y\"},{\"fill\":\"toself\",\"fillcolor\":\"rgb(0, 0, 0)\",\"line\":{\"color\":\"#222222\",\"width\":1},\"marker\":{\"cmax\":699.3438675676255,\"cmin\":0,\"color\":[0.0,0.0,0.0,0.0],\"coloraxis\":\"coloraxis2\",\"opacity\":0},\"mode\":\"lines+markers\",\"type\":\"scatter\",\"x\":[1,2,2,1],\"xaxis\":\"x\",\"y\":[1,1,2,1],\"yaxis\":\"y\"},{\"fill\":\"toself\",\"fillcolor\":\"rgb(0, 0, 0)\",\"line\":{\"color\":\"#222222\",\"width\":1},\"marker\":{\"cmax\":1238.2841030156612,\"cmin\":0,\"color\":[0.0,0.0,0.0,0.0],\"coloraxis\":\"coloraxis\",\"opacity\":0},\"mode\":\"lines+markers\",\"type\":\"scatter\",\"x\":[2,2,3,2],\"xaxis\":\"x\",\"y\":[1,2,2,1],\"yaxis\":\"y\"},{\"fill\":\"toself\",\"fillcolor\":\"rgb(0, 0, 0)\",\"line\":{\"color\":\"#222222\",\"width\":1},\"marker\":{\"cmax\":699.3438675676255,\"cmin\":0,\"color\":[0.0,0.0,0.0,0.0],\"coloraxis\":\"coloraxis2\",\"opacity\":0},\"mode\":\"lines+markers\",\"type\":\"scatter\",\"x\":[2,3,3,2],\"xaxis\":\"x\",\"y\":[1,1,2,1],\"yaxis\":\"y\"},{\"fill\":\"toself\",\"fillcolor\":\"rgb(0, 0, 0)\",\"line\":{\"color\":\"#222222\",\"width\":1},\"marker\":{\"cmax\":1238.2841030156612,\"cmin\":0,\"color\":[0.0,0.0,0.0,0.0],\"coloraxis\":\"coloraxis\",\"opacity\":0},\"mode\":\"lines+markers\",\"type\":\"scatter\",\"x\":[3,3,4,3],\"xaxis\":\"x\",\"y\":[1,2,2,1],\"yaxis\":\"y\"},{\"fill\":\"toself\",\"fillcolor\":\"rgb(0, 0, 0)\",\"line\":{\"color\":\"#222222\",\"width\":1},\"marker\":{\"cmax\":699.3438675676255,\"cmin\":0,\"color\":[0.0,0.0,0.0,0.0],\"coloraxis\":\"coloraxis2\",\"opacity\":0},\"mode\":\"lines+markers\",\"type\":\"scatter\",\"x\":[3,4,4,3],\"xaxis\":\"x\",\"y\":[1,1,2,1],\"yaxis\":\"y\"},{\"fill\":\"toself\",\"fillcolor\":\"rgb(60, 109, 48)\",\"line\":{\"color\":\"#222222\",\"width\":1},\"marker\":{\"cmax\":1238.2841030156612,\"cmin\":0,\"color\":[834.9553404375606,834.9553404375606,834.9553404375606,834.9553404375606],\"coloraxis\":\"coloraxis\",\"opacity\":0},\"mode\":\"lines+markers\",\"type\":\"scatter\",\"x\":[4,4,5,4],\"xaxis\":\"x\",\"y\":[1,2,2,1],\"yaxis\":\"y\"},{\"fill\":\"toself\",\"fillcolor\":\"rgb(42, 29, 39)\",\"line\":{\"color\":\"#222222\",\"width\":1},\"marker\":{\"cmax\":699.3438675676255,\"cmin\":0,\"color\":[167.87146805703665,167.87146805703665,167.87146805703665,167.87146805703665],\"coloraxis\":\"coloraxis2\",\"opacity\":0},\"mode\":\"lines+markers\",\"type\":\"scatter\",\"x\":[4,5,5,4],\"xaxis\":\"x\",\"y\":[1,1,2,1],\"yaxis\":\"y\"},{\"fill\":\"toself\",\"fillcolor\":\"rgb(49, 88, 39)\",\"line\":{\"color\":\"#222222\",\"width\":1},\"marker\":{\"cmax\":1238.2841030156612,\"cmin\":0,\"color\":[675.2317249647558,675.2317249647558,675.2317249647558,675.2317249647558],\"coloraxis\":\"coloraxis\",\"opacity\":0},\"mode\":\"lines+markers\",\"type\":\"scatter\",\"x\":[5,5,6,5],\"xaxis\":\"x\",\"y\":[1,2,2,1],\"yaxis\":\"y\"},{\"fill\":\"toself\",\"fillcolor\":\"rgb(46, 32, 42)\",\"line\":{\"color\":\"#222222\",\"width\":1},\"marker\":{\"cmax\":699.3438675676255,\"cmin\":0,\"color\":[181.36778134076224,181.36778134076224,181.36778134076224,181.36778134076224],\"coloraxis\":\"coloraxis2\",\"opacity\":0},\"mode\":\"lines+markers\",\"type\":\"scatter\",\"x\":[5,6,6,5],\"xaxis\":\"x\",\"y\":[1,1,2,1],\"yaxis\":\"y\"},{\"fill\":\"toself\",\"fillcolor\":\"rgb(54, 97, 43)\",\"line\":{\"color\":\"#222222\",\"width\":1},\"marker\":{\"cmax\":1238.2841030156612,\"cmin\":0,\"color\":[746.3211863042105,746.3211863042105,746.3211863042105,746.3211863042105],\"coloraxis\":\"coloraxis\",\"opacity\":0},\"mode\":\"lines+markers\",\"type\":\"scatter\",\"x\":[6,6,7,6],\"xaxis\":\"x\",\"y\":[1,2,2,1],\"yaxis\":\"y\"},{\"fill\":\"toself\",\"fillcolor\":\"rgb(46, 32, 42)\",\"line\":{\"color\":\"#222222\",\"width\":1},\"marker\":{\"cmax\":699.3438675676255,\"cmin\":0,\"color\":[181.5250886459712,181.5250886459712,181.5250886459712,181.5250886459712],\"coloraxis\":\"coloraxis2\",\"opacity\":0},\"mode\":\"lines+markers\",\"type\":\"scatter\",\"x\":[6,7,7,6],\"xaxis\":\"x\",\"y\":[1,1,2,1],\"yaxis\":\"y\"},{\"fill\":\"toself\",\"fillcolor\":\"rgb(12, 22, 10)\",\"line\":{\"color\":\"#222222\",\"width\":1},\"marker\":{\"cmax\":1238.2841030156612,\"cmin\":0,\"color\":[170.59315705103785,170.59315705103785,170.59315705103785,170.59315705103785],\"coloraxis\":\"coloraxis\",\"opacity\":0},\"mode\":\"lines+markers\",\"type\":\"scatter\",\"x\":[7,7,8,7],\"xaxis\":\"x\",\"y\":[1,2,2,1],\"yaxis\":\"y\"},{\"fill\":\"toself\",\"fillcolor\":\"rgb(13, 9, 12)\",\"line\":{\"color\":\"#222222\",\"width\":1},\"marker\":{\"cmax\":699.3438675676255,\"cmin\":0,\"color\":[52.39573089390362,52.39573089390362,52.39573089390362,52.39573089390362],\"coloraxis\":\"coloraxis2\",\"opacity\":0},\"mode\":\"lines+markers\",\"type\":\"scatter\",\"x\":[7,8,8,7],\"xaxis\":\"x\",\"y\":[1,1,2,1],\"yaxis\":\"y\"},{\"fill\":\"toself\",\"fillcolor\":\"rgb(0, 0, 0)\",\"line\":{\"color\":\"#222222\",\"width\":1},\"marker\":{\"cmax\":1238.2841030156612,\"cmin\":0,\"color\":[0.0,0.0,0.0,0.0],\"coloraxis\":\"coloraxis\",\"opacity\":0},\"mode\":\"lines+markers\",\"type\":\"scatter\",\"x\":[8,8,9,8],\"xaxis\":\"x\",\"y\":[1,2,2,1],\"yaxis\":\"y\"},{\"fill\":\"toself\",\"fillcolor\":\"rgb(0, 0, 0)\",\"line\":{\"color\":\"#222222\",\"width\":1},\"marker\":{\"cmax\":699.3438675676255,\"cmin\":0,\"color\":[0.0,0.0,0.0,0.0],\"coloraxis\":\"coloraxis2\",\"opacity\":0},\"mode\":\"lines+markers\",\"type\":\"scatter\",\"x\":[8,9,9,8],\"xaxis\":\"x\",\"y\":[1,1,2,1],\"yaxis\":\"y\"},{\"fill\":\"toself\",\"fillcolor\":\"rgb(0, 0, 0)\",\"line\":{\"color\":\"#222222\",\"width\":1},\"marker\":{\"cmax\":1238.2841030156612,\"cmin\":0,\"color\":[0.0,0.0,0.0,0.0],\"coloraxis\":\"coloraxis\",\"opacity\":0},\"mode\":\"lines+markers\",\"type\":\"scatter\",\"x\":[9,9,10,9],\"xaxis\":\"x\",\"y\":[1,2,2,1],\"yaxis\":\"y\"},{\"fill\":\"toself\",\"fillcolor\":\"rgb(0, 0, 0)\",\"line\":{\"color\":\"#222222\",\"width\":1},\"marker\":{\"cmax\":699.3438675676255,\"cmin\":0,\"color\":[0.0,0.0,0.0,0.0],\"coloraxis\":\"coloraxis2\",\"opacity\":0},\"mode\":\"lines+markers\",\"type\":\"scatter\",\"x\":[9,10,10,9],\"xaxis\":\"x\",\"y\":[1,1,2,1],\"yaxis\":\"y\"},{\"fill\":\"toself\",\"fillcolor\":\"rgb(89, 161, 71)\",\"line\":{\"color\":\"#222222\",\"width\":1},\"marker\":{\"cmax\":1238.2841030156612,\"cmin\":0,\"color\":[1238.2841030156612,1238.2841030156612,1238.2841030156612,1238.2841030156612],\"coloraxis\":\"coloraxis\",\"opacity\":0},\"mode\":\"lines+markers\",\"type\":\"scatter\",\"x\":[0,0,1,0],\"xaxis\":\"x\",\"y\":[2,3,3,2],\"yaxis\":\"y\"},{\"fill\":\"toself\",\"fillcolor\":\"rgb(93, 64, 85)\",\"line\":{\"color\":\"#222222\",\"width\":1},\"marker\":{\"cmax\":699.3438675676255,\"cmin\":0,\"color\":[369.22494101254375,369.22494101254375,369.22494101254375,369.22494101254375],\"coloraxis\":\"coloraxis2\",\"opacity\":0},\"mode\":\"lines+markers\",\"type\":\"scatter\",\"x\":[0,1,1,0],\"xaxis\":\"x\",\"y\":[2,2,3,2],\"yaxis\":\"y\"},{\"fill\":\"toself\",\"fillcolor\":\"rgb(0, 0, 0)\",\"line\":{\"color\":\"#222222\",\"width\":1},\"marker\":{\"cmax\":1238.2841030156612,\"cmin\":0,\"color\":[0.0,0.0,0.0,0.0],\"coloraxis\":\"coloraxis\",\"opacity\":0},\"mode\":\"lines+markers\",\"type\":\"scatter\",\"x\":[1,1,2,1],\"xaxis\":\"x\",\"y\":[2,3,3,2],\"yaxis\":\"y\"},{\"fill\":\"toself\",\"fillcolor\":\"rgb(0, 0, 0)\",\"line\":{\"color\":\"#222222\",\"width\":1},\"marker\":{\"cmax\":699.3438675676255,\"cmin\":0,\"color\":[0.0,0.0,0.0,0.0],\"coloraxis\":\"coloraxis2\",\"opacity\":0},\"mode\":\"lines+markers\",\"type\":\"scatter\",\"x\":[1,2,2,1],\"xaxis\":\"x\",\"y\":[2,2,3,2],\"yaxis\":\"y\"},{\"fill\":\"toself\",\"fillcolor\":\"rgb(0, 0, 0)\",\"line\":{\"color\":\"#222222\",\"width\":1},\"marker\":{\"cmax\":1238.2841030156612,\"cmin\":0,\"color\":[0.0,0.0,0.0,0.0],\"coloraxis\":\"coloraxis\",\"opacity\":0},\"mode\":\"lines+markers\",\"type\":\"scatter\",\"x\":[2,2,3,2],\"xaxis\":\"x\",\"y\":[2,3,3,2],\"yaxis\":\"y\"},{\"fill\":\"toself\",\"fillcolor\":\"rgb(0, 0, 0)\",\"line\":{\"color\":\"#222222\",\"width\":1},\"marker\":{\"cmax\":699.3438675676255,\"cmin\":0,\"color\":[0.0,0.0,0.0,0.0],\"coloraxis\":\"coloraxis2\",\"opacity\":0},\"mode\":\"lines+markers\",\"type\":\"scatter\",\"x\":[2,3,3,2],\"xaxis\":\"x\",\"y\":[2,2,3,2],\"yaxis\":\"y\"},{\"fill\":\"toself\",\"fillcolor\":\"rgb(0, 0, 0)\",\"line\":{\"color\":\"#222222\",\"width\":1},\"marker\":{\"cmax\":1238.2841030156612,\"cmin\":0,\"color\":[0.0,0.0,0.0,0.0],\"coloraxis\":\"coloraxis\",\"opacity\":0},\"mode\":\"lines+markers\",\"type\":\"scatter\",\"x\":[3,3,4,3],\"xaxis\":\"x\",\"y\":[2,3,3,2],\"yaxis\":\"y\"},{\"fill\":\"toself\",\"fillcolor\":\"rgb(0, 0, 0)\",\"line\":{\"color\":\"#222222\",\"width\":1},\"marker\":{\"cmax\":699.3438675676255,\"cmin\":0,\"color\":[0.0,0.0,0.0,0.0],\"coloraxis\":\"coloraxis2\",\"opacity\":0},\"mode\":\"lines+markers\",\"type\":\"scatter\",\"x\":[3,4,4,3],\"xaxis\":\"x\",\"y\":[2,2,3,2],\"yaxis\":\"y\"},{\"fill\":\"toself\",\"fillcolor\":\"rgb(88, 160, 71)\",\"line\":{\"color\":\"#222222\",\"width\":1},\"marker\":{\"cmax\":1238.2841030156612,\"cmin\":0,\"color\":[1231.0269728447745,1231.0269728447745,1231.0269728447745,1231.0269728447745],\"coloraxis\":\"coloraxis\",\"opacity\":0},\"mode\":\"lines+markers\",\"type\":\"scatter\",\"x\":[4,4,5,4],\"xaxis\":\"x\",\"y\":[2,3,3,2],\"yaxis\":\"y\"},{\"fill\":\"toself\",\"fillcolor\":\"rgb(99, 68, 90)\",\"line\":{\"color\":\"#222222\",\"width\":1},\"marker\":{\"cmax\":699.3438675676255,\"cmin\":0,\"color\":[392.2682555315698,392.2682555315698,392.2682555315698,392.2682555315698],\"coloraxis\":\"coloraxis2\",\"opacity\":0},\"mode\":\"lines+markers\",\"type\":\"scatter\",\"x\":[4,5,5,4],\"xaxis\":\"x\",\"y\":[2,2,3,2],\"yaxis\":\"y\"},{\"fill\":\"toself\",\"fillcolor\":\"rgb(37, 67, 29)\",\"line\":{\"color\":\"#222222\",\"width\":1},\"marker\":{\"cmax\":1238.2841030156612,\"cmin\":0,\"color\":[513.6936655267251,513.6936655267251,513.6936655267251,513.6936655267251],\"coloraxis\":\"coloraxis\",\"opacity\":0},\"mode\":\"lines+markers\",\"type\":\"scatter\",\"x\":[5,5,6,5],\"xaxis\":\"x\",\"y\":[2,3,3,2],\"yaxis\":\"y\"},{\"fill\":\"toself\",\"fillcolor\":\"rgb(44, 31, 40)\",\"line\":{\"color\":\"#222222\",\"width\":1},\"marker\":{\"cmax\":699.3438675676255,\"cmin\":0,\"color\":[175.8853995698501,175.8853995698501,175.8853995698501,175.8853995698501],\"coloraxis\":\"coloraxis2\",\"opacity\":0},\"mode\":\"lines+markers\",\"type\":\"scatter\",\"x\":[5,6,6,5],\"xaxis\":\"x\",\"y\":[2,2,3,2],\"yaxis\":\"y\"},{\"fill\":\"toself\",\"fillcolor\":\"rgb(69, 125, 55)\",\"line\":{\"color\":\"#222222\",\"width\":1},\"marker\":{\"cmax\":1238.2841030156612,\"cmin\":0,\"color\":[963.9345608411201,963.9345608411201,963.9345608411201,963.9345608411201],\"coloraxis\":\"coloraxis\",\"opacity\":0},\"mode\":\"lines+markers\",\"type\":\"scatter\",\"x\":[6,6,7,6],\"xaxis\":\"x\",\"y\":[2,3,3,2],\"yaxis\":\"y\"},{\"fill\":\"toself\",\"fillcolor\":\"rgb(71, 50, 65)\",\"line\":{\"color\":\"#222222\",\"width\":1},\"marker\":{\"cmax\":699.3438675676255,\"cmin\":0,\"color\":[284.0373870539738,284.0373870539738,284.0373870539738,284.0373870539738],\"coloraxis\":\"coloraxis2\",\"opacity\":0},\"mode\":\"lines+markers\",\"type\":\"scatter\",\"x\":[6,7,7,6],\"xaxis\":\"x\",\"y\":[2,2,3,2],\"yaxis\":\"y\"},{\"fill\":\"toself\",\"fillcolor\":\"rgb(0, 0, 0)\",\"line\":{\"color\":\"#222222\",\"width\":1},\"marker\":{\"cmax\":1238.2841030156612,\"cmin\":0,\"color\":[0.0,0.0,0.0,0.0],\"coloraxis\":\"coloraxis\",\"opacity\":0},\"mode\":\"lines+markers\",\"type\":\"scatter\",\"x\":[7,7,8,7],\"xaxis\":\"x\",\"y\":[2,3,3,2],\"yaxis\":\"y\"},{\"fill\":\"toself\",\"fillcolor\":\"rgb(0, 0, 0)\",\"line\":{\"color\":\"#222222\",\"width\":1},\"marker\":{\"cmax\":699.3438675676255,\"cmin\":0,\"color\":[0.0,0.0,0.0,0.0],\"coloraxis\":\"coloraxis2\",\"opacity\":0},\"mode\":\"lines+markers\",\"type\":\"scatter\",\"x\":[7,8,8,7],\"xaxis\":\"x\",\"y\":[2,2,3,2],\"yaxis\":\"y\"},{\"fill\":\"toself\",\"fillcolor\":\"rgb(0, 0, 0)\",\"line\":{\"color\":\"#222222\",\"width\":1},\"marker\":{\"cmax\":1238.2841030156612,\"cmin\":0,\"color\":[0.0,0.0,0.0,0.0],\"coloraxis\":\"coloraxis\",\"opacity\":0},\"mode\":\"lines+markers\",\"type\":\"scatter\",\"x\":[8,8,9,8],\"xaxis\":\"x\",\"y\":[2,3,3,2],\"yaxis\":\"y\"},{\"fill\":\"toself\",\"fillcolor\":\"rgb(0, 0, 0)\",\"line\":{\"color\":\"#222222\",\"width\":1},\"marker\":{\"cmax\":699.3438675676255,\"cmin\":0,\"color\":[0.0,0.0,0.0,0.0],\"coloraxis\":\"coloraxis2\",\"opacity\":0},\"mode\":\"lines+markers\",\"type\":\"scatter\",\"x\":[8,9,9,8],\"xaxis\":\"x\",\"y\":[2,2,3,2],\"yaxis\":\"y\"},{\"fill\":\"toself\",\"fillcolor\":\"rgb(0, 0, 0)\",\"line\":{\"color\":\"#222222\",\"width\":1},\"marker\":{\"cmax\":1238.2841030156612,\"cmin\":0,\"color\":[0.0,0.0,0.0,0.0],\"coloraxis\":\"coloraxis\",\"opacity\":0},\"mode\":\"lines+markers\",\"type\":\"scatter\",\"x\":[9,9,10,9],\"xaxis\":\"x\",\"y\":[2,3,3,2],\"yaxis\":\"y\"},{\"fill\":\"toself\",\"fillcolor\":\"rgb(0, 0, 0)\",\"line\":{\"color\":\"#222222\",\"width\":1},\"marker\":{\"cmax\":699.3438675676255,\"cmin\":0,\"color\":[0.0,0.0,0.0,0.0],\"coloraxis\":\"coloraxis2\",\"opacity\":0},\"mode\":\"lines+markers\",\"type\":\"scatter\",\"x\":[9,10,10,9],\"xaxis\":\"x\",\"y\":[2,2,3,2],\"yaxis\":\"y\"},{\"fill\":\"toself\",\"fillcolor\":\"rgb(50, 90, 40)\",\"line\":{\"color\":\"#222222\",\"width\":1},\"marker\":{\"cmax\":1238.2841030156612,\"cmin\":0,\"color\":[693.912503774774,693.912503774774,693.912503774774,693.912503774774],\"coloraxis\":\"coloraxis\",\"opacity\":0},\"mode\":\"lines+markers\",\"type\":\"scatter\",\"x\":[0,0,1,0],\"xaxis\":\"x\",\"y\":[3,4,4,3],\"yaxis\":\"y\"},{\"fill\":\"toself\",\"fillcolor\":\"rgb(61, 43, 56)\",\"line\":{\"color\":\"#222222\",\"width\":1},\"marker\":{\"cmax\":699.3438675676255,\"cmin\":0,\"color\":[244.20619173781898,244.20619173781898,244.20619173781898,244.20619173781898],\"coloraxis\":\"coloraxis2\",\"opacity\":0},\"mode\":\"lines+markers\",\"type\":\"scatter\",\"x\":[0,1,1,0],\"xaxis\":\"x\",\"y\":[3,3,4,3],\"yaxis\":\"y\"},{\"fill\":\"toself\",\"fillcolor\":\"rgb(0, 0, 0)\",\"line\":{\"color\":\"#222222\",\"width\":1},\"marker\":{\"cmax\":1238.2841030156612,\"cmin\":0,\"color\":[0.0,0.0,0.0,0.0],\"coloraxis\":\"coloraxis\",\"opacity\":0},\"mode\":\"lines+markers\",\"type\":\"scatter\",\"x\":[1,1,2,1],\"xaxis\":\"x\",\"y\":[3,4,4,3],\"yaxis\":\"y\"},{\"fill\":\"toself\",\"fillcolor\":\"rgb(0, 0, 0)\",\"line\":{\"color\":\"#222222\",\"width\":1},\"marker\":{\"cmax\":699.3438675676255,\"cmin\":0,\"color\":[0.0,0.0,0.0,0.0],\"coloraxis\":\"coloraxis2\",\"opacity\":0},\"mode\":\"lines+markers\",\"type\":\"scatter\",\"x\":[1,2,2,1],\"xaxis\":\"x\",\"y\":[3,3,4,3],\"yaxis\":\"y\"},{\"fill\":\"toself\",\"fillcolor\":\"rgb(7, 12, 5)\",\"line\":{\"color\":\"#222222\",\"width\":1},\"marker\":{\"cmax\":1238.2841030156612,\"cmin\":0,\"color\":[90.55253332142864,90.55253332142864,90.55253332142864,90.55253332142864],\"coloraxis\":\"coloraxis\",\"opacity\":0},\"mode\":\"lines+markers\",\"type\":\"scatter\",\"x\":[2,2,3,2],\"xaxis\":\"x\",\"y\":[3,4,4,3],\"yaxis\":\"y\"},{\"fill\":\"toself\",\"fillcolor\":\"rgb(117, 81, 107)\",\"line\":{\"color\":\"#222222\",\"width\":1},\"marker\":{\"cmax\":699.3438675676255,\"cmin\":0,\"color\":[466.08983959467844,466.08983959467844,466.08983959467844,466.08983959467844],\"coloraxis\":\"coloraxis2\",\"opacity\":0},\"mode\":\"lines+markers\",\"type\":\"scatter\",\"x\":[2,3,3,2],\"xaxis\":\"x\",\"y\":[3,3,4,3],\"yaxis\":\"y\"},{\"fill\":\"toself\",\"fillcolor\":\"rgb(0, 0, 0)\",\"line\":{\"color\":\"#222222\",\"width\":1},\"marker\":{\"cmax\":1238.2841030156612,\"cmin\":0,\"color\":[0.0,0.0,0.0,0.0],\"coloraxis\":\"coloraxis\",\"opacity\":0},\"mode\":\"lines+markers\",\"type\":\"scatter\",\"x\":[3,3,4,3],\"xaxis\":\"x\",\"y\":[3,4,4,3],\"yaxis\":\"y\"},{\"fill\":\"toself\",\"fillcolor\":\"rgb(0, 0, 0)\",\"line\":{\"color\":\"#222222\",\"width\":1},\"marker\":{\"cmax\":699.3438675676255,\"cmin\":0,\"color\":[0.0,0.0,0.0,0.0],\"coloraxis\":\"coloraxis2\",\"opacity\":0},\"mode\":\"lines+markers\",\"type\":\"scatter\",\"x\":[3,4,4,3],\"xaxis\":\"x\",\"y\":[3,3,4,3],\"yaxis\":\"y\"},{\"fill\":\"toself\",\"fillcolor\":\"rgb(43, 78, 34)\",\"line\":{\"color\":\"#222222\",\"width\":1},\"marker\":{\"cmax\":1238.2841030156612,\"cmin\":0,\"color\":[597.8820919199934,597.8820919199934,597.8820919199934,597.8820919199934],\"coloraxis\":\"coloraxis\",\"opacity\":0},\"mode\":\"lines+markers\",\"type\":\"scatter\",\"x\":[4,4,5,4],\"xaxis\":\"x\",\"y\":[3,4,4,3],\"yaxis\":\"y\"},{\"fill\":\"toself\",\"fillcolor\":\"rgb(54, 38, 50)\",\"line\":{\"color\":\"#222222\",\"width\":1},\"marker\":{\"cmax\":699.3438675676255,\"cmin\":0,\"color\":[216.18542145507698,216.18542145507698,216.18542145507698,216.18542145507698],\"coloraxis\":\"coloraxis2\",\"opacity\":0},\"mode\":\"lines+markers\",\"type\":\"scatter\",\"x\":[4,5,5,4],\"xaxis\":\"x\",\"y\":[3,3,4,3],\"yaxis\":\"y\"},{\"fill\":\"toself\",\"fillcolor\":\"rgb(27, 50, 22)\",\"line\":{\"color\":\"#222222\",\"width\":1},\"marker\":{\"cmax\":1238.2841030156612,\"cmin\":0,\"color\":[381.3383791247718,381.3383791247718,381.3383791247718,381.3383791247718],\"coloraxis\":\"coloraxis\",\"opacity\":0},\"mode\":\"lines+markers\",\"type\":\"scatter\",\"x\":[5,5,6,5],\"xaxis\":\"x\",\"y\":[3,4,4,3],\"yaxis\":\"y\"},{\"fill\":\"toself\",\"fillcolor\":\"rgb(28, 19, 25)\",\"line\":{\"color\":\"#222222\",\"width\":1},\"marker\":{\"cmax\":699.3438675676255,\"cmin\":0,\"color\":[110.13849920635032,110.13849920635032,110.13849920635032,110.13849920635032],\"coloraxis\":\"coloraxis2\",\"opacity\":0},\"mode\":\"lines+markers\",\"type\":\"scatter\",\"x\":[5,6,6,5],\"xaxis\":\"x\",\"y\":[3,3,4,3],\"yaxis\":\"y\"},{\"fill\":\"toself\",\"fillcolor\":\"rgb(40, 73, 32)\",\"line\":{\"color\":\"#222222\",\"width\":1},\"marker\":{\"cmax\":1238.2841030156612,\"cmin\":0,\"color\":[559.3213575834127,559.3213575834127,559.3213575834127,559.3213575834127],\"coloraxis\":\"coloraxis\",\"opacity\":0},\"mode\":\"lines+markers\",\"type\":\"scatter\",\"x\":[6,6,7,6],\"xaxis\":\"x\",\"y\":[3,4,4,3],\"yaxis\":\"y\"},{\"fill\":\"toself\",\"fillcolor\":\"rgb(49, 34, 45)\",\"line\":{\"color\":\"#222222\",\"width\":1},\"marker\":{\"cmax\":699.3438675676255,\"cmin\":0,\"color\":[193.34422671372081,193.34422671372081,193.34422671372081,193.34422671372081],\"coloraxis\":\"coloraxis2\",\"opacity\":0},\"mode\":\"lines+markers\",\"type\":\"scatter\",\"x\":[6,7,7,6],\"xaxis\":\"x\",\"y\":[3,3,4,3],\"yaxis\":\"y\"},{\"fill\":\"toself\",\"fillcolor\":\"rgb(0, 0, 0)\",\"line\":{\"color\":\"#222222\",\"width\":1},\"marker\":{\"cmax\":1238.2841030156612,\"cmin\":0,\"color\":[0.0,0.0,0.0,0.0],\"coloraxis\":\"coloraxis\",\"opacity\":0},\"mode\":\"lines+markers\",\"type\":\"scatter\",\"x\":[7,7,8,7],\"xaxis\":\"x\",\"y\":[3,4,4,3],\"yaxis\":\"y\"},{\"fill\":\"toself\",\"fillcolor\":\"rgb(0, 0, 0)\",\"line\":{\"color\":\"#222222\",\"width\":1},\"marker\":{\"cmax\":699.3438675676255,\"cmin\":0,\"color\":[0.0,0.0,0.0,0.0],\"coloraxis\":\"coloraxis2\",\"opacity\":0},\"mode\":\"lines+markers\",\"type\":\"scatter\",\"x\":[7,8,8,7],\"xaxis\":\"x\",\"y\":[3,3,4,3],\"yaxis\":\"y\"},{\"fill\":\"toself\",\"fillcolor\":\"rgb(0, 0, 0)\",\"line\":{\"color\":\"#222222\",\"width\":1},\"marker\":{\"cmax\":1238.2841030156612,\"cmin\":0,\"color\":[0.0,0.0,0.0,0.0],\"coloraxis\":\"coloraxis\",\"opacity\":0},\"mode\":\"lines+markers\",\"type\":\"scatter\",\"x\":[8,8,9,8],\"xaxis\":\"x\",\"y\":[3,4,4,3],\"yaxis\":\"y\"},{\"fill\":\"toself\",\"fillcolor\":\"rgb(0, 0, 0)\",\"line\":{\"color\":\"#222222\",\"width\":1},\"marker\":{\"cmax\":699.3438675676255,\"cmin\":0,\"color\":[0.0,0.0,0.0,0.0],\"coloraxis\":\"coloraxis2\",\"opacity\":0},\"mode\":\"lines+markers\",\"type\":\"scatter\",\"x\":[8,9,9,8],\"xaxis\":\"x\",\"y\":[3,3,4,3],\"yaxis\":\"y\"},{\"fill\":\"toself\",\"fillcolor\":\"rgb(0, 0, 0)\",\"line\":{\"color\":\"#222222\",\"width\":1},\"marker\":{\"cmax\":1238.2841030156612,\"cmin\":0,\"color\":[0.0,0.0,0.0,0.0],\"coloraxis\":\"coloraxis\",\"opacity\":0},\"mode\":\"lines+markers\",\"type\":\"scatter\",\"x\":[9,9,10,9],\"xaxis\":\"x\",\"y\":[3,4,4,3],\"yaxis\":\"y\"},{\"fill\":\"toself\",\"fillcolor\":\"rgb(0, 0, 0)\",\"line\":{\"color\":\"#222222\",\"width\":1},\"marker\":{\"cmax\":699.3438675676255,\"cmin\":0,\"color\":[0.0,0.0,0.0,0.0],\"coloraxis\":\"coloraxis2\",\"opacity\":0},\"mode\":\"lines+markers\",\"type\":\"scatter\",\"x\":[9,10,10,9],\"xaxis\":\"x\",\"y\":[3,3,4,3],\"yaxis\":\"y\"},{\"fill\":\"toself\",\"fillcolor\":\"rgb(0, 0, 0)\",\"line\":{\"color\":\"#222222\",\"width\":1},\"marker\":{\"cmax\":1238.2841030156612,\"cmin\":0,\"color\":[0.0,0.0,0.0,0.0],\"coloraxis\":\"coloraxis\",\"opacity\":0},\"mode\":\"lines+markers\",\"type\":\"scatter\",\"x\":[0,0,1,0],\"xaxis\":\"x2\",\"y\":[0,1,1,0],\"yaxis\":\"y2\"},{\"fill\":\"toself\",\"fillcolor\":\"rgb(0, 0, 0)\",\"line\":{\"color\":\"#222222\",\"width\":1},\"marker\":{\"cmax\":699.3438675676255,\"cmin\":0,\"color\":[0.0,0.0,0.0,0.0],\"coloraxis\":\"coloraxis2\",\"opacity\":0},\"mode\":\"lines+markers\",\"type\":\"scatter\",\"x\":[0,1,1,0],\"xaxis\":\"x2\",\"y\":[0,0,1,0],\"yaxis\":\"y2\"},{\"fill\":\"toself\",\"fillcolor\":\"rgb(0, 0, 0)\",\"line\":{\"color\":\"#222222\",\"width\":1},\"marker\":{\"cmax\":1238.2841030156612,\"cmin\":0,\"color\":[0.0,0.0,0.0,0.0],\"coloraxis\":\"coloraxis\",\"opacity\":0},\"mode\":\"lines+markers\",\"type\":\"scatter\",\"x\":[1,1,2,1],\"xaxis\":\"x2\",\"y\":[0,1,1,0],\"yaxis\":\"y2\"},{\"fill\":\"toself\",\"fillcolor\":\"rgb(0, 0, 0)\",\"line\":{\"color\":\"#222222\",\"width\":1},\"marker\":{\"cmax\":699.3438675676255,\"cmin\":0,\"color\":[0.0,0.0,0.0,0.0],\"coloraxis\":\"coloraxis2\",\"opacity\":0},\"mode\":\"lines+markers\",\"type\":\"scatter\",\"x\":[1,2,2,1],\"xaxis\":\"x2\",\"y\":[0,0,1,0],\"yaxis\":\"y2\"},{\"fill\":\"toself\",\"fillcolor\":\"rgb(13, 24, 11)\",\"line\":{\"color\":\"#222222\",\"width\":1},\"marker\":{\"cmax\":1238.2841030156612,\"cmin\":0,\"color\":[185.17022670909623,185.17022670909623,185.17022670909623,185.17022670909623],\"coloraxis\":\"coloraxis\",\"opacity\":0},\"mode\":\"lines+markers\",\"type\":\"scatter\",\"x\":[2,2,3,2],\"xaxis\":\"x2\",\"y\":[0,1,1,0],\"yaxis\":\"y2\"},{\"fill\":\"toself\",\"fillcolor\":\"rgb(9, 6, 8)\",\"line\":{\"color\":\"#222222\",\"width\":1},\"marker\":{\"cmax\":699.3438675676255,\"cmin\":0,\"color\":[36.6902413202855,36.6902413202855,36.6902413202855,36.6902413202855],\"coloraxis\":\"coloraxis2\",\"opacity\":0},\"mode\":\"lines+markers\",\"type\":\"scatter\",\"x\":[2,3,3,2],\"xaxis\":\"x2\",\"y\":[0,0,1,0],\"yaxis\":\"y2\"},{\"fill\":\"toself\",\"fillcolor\":\"rgb(6, 12, 5)\",\"line\":{\"color\":\"#222222\",\"width\":1},\"marker\":{\"cmax\":1238.2841030156612,\"cmin\":0,\"color\":[90.10903632867327,90.10903632867327,90.10903632867327,90.10903632867327],\"coloraxis\":\"coloraxis\",\"opacity\":0},\"mode\":\"lines+markers\",\"type\":\"scatter\",\"x\":[3,3,4,3],\"xaxis\":\"x2\",\"y\":[0,1,1,0],\"yaxis\":\"y2\"},{\"fill\":\"toself\",\"fillcolor\":\"rgb(16, 11, 15)\",\"line\":{\"color\":\"#222222\",\"width\":1},\"marker\":{\"cmax\":699.3438675676255,\"cmin\":0,\"color\":[63.35346043011189,63.35346043011189,63.35346043011189,63.35346043011189],\"coloraxis\":\"coloraxis2\",\"opacity\":0},\"mode\":\"lines+markers\",\"type\":\"scatter\",\"x\":[3,4,4,3],\"xaxis\":\"x2\",\"y\":[0,0,1,0],\"yaxis\":\"y2\"},{\"fill\":\"toself\",\"fillcolor\":\"rgb(0, 0, 0)\",\"line\":{\"color\":\"#222222\",\"width\":1},\"marker\":{\"cmax\":1238.2841030156612,\"cmin\":0,\"color\":[0.0,0.0,0.0,0.0],\"coloraxis\":\"coloraxis\",\"opacity\":0},\"mode\":\"lines+markers\",\"type\":\"scatter\",\"x\":[4,4,5,4],\"xaxis\":\"x2\",\"y\":[0,1,1,0],\"yaxis\":\"y2\"},{\"fill\":\"toself\",\"fillcolor\":\"rgb(0, 0, 0)\",\"line\":{\"color\":\"#222222\",\"width\":1},\"marker\":{\"cmax\":699.3438675676255,\"cmin\":0,\"color\":[0.0,0.0,0.0,0.0],\"coloraxis\":\"coloraxis2\",\"opacity\":0},\"mode\":\"lines+markers\",\"type\":\"scatter\",\"x\":[4,5,5,4],\"xaxis\":\"x2\",\"y\":[0,0,1,0],\"yaxis\":\"y2\"},{\"fill\":\"toself\",\"fillcolor\":\"rgb(20, 35, 16)\",\"line\":{\"color\":\"#222222\",\"width\":1},\"marker\":{\"cmax\":1238.2841030156612,\"cmin\":0,\"color\":[271.426717312794,271.426717312794,271.426717312794,271.426717312794],\"coloraxis\":\"coloraxis\",\"opacity\":0},\"mode\":\"lines+markers\",\"type\":\"scatter\",\"x\":[5,5,6,5],\"xaxis\":\"x2\",\"y\":[0,1,1,0],\"yaxis\":\"y2\"},{\"fill\":\"toself\",\"fillcolor\":\"rgb(36, 25, 33)\",\"line\":{\"color\":\"#222222\",\"width\":1},\"marker\":{\"cmax\":699.3438675676255,\"cmin\":0,\"color\":[144.89084870265492,144.89084870265492,144.89084870265492,144.89084870265492],\"coloraxis\":\"coloraxis2\",\"opacity\":0},\"mode\":\"lines+markers\",\"type\":\"scatter\",\"x\":[5,6,6,5],\"xaxis\":\"x2\",\"y\":[0,0,1,0],\"yaxis\":\"y2\"},{\"fill\":\"toself\",\"fillcolor\":\"rgb(6, 10, 4)\",\"line\":{\"color\":\"#222222\",\"width\":1},\"marker\":{\"cmax\":1238.2841030156612,\"cmin\":0,\"color\":[78.30370070586793,78.30370070586793,78.30370070586793,78.30370070586793],\"coloraxis\":\"coloraxis\",\"opacity\":0},\"mode\":\"lines+markers\",\"type\":\"scatter\",\"x\":[6,6,7,6],\"xaxis\":\"x2\",\"y\":[0,1,1,0],\"yaxis\":\"y2\"},{\"fill\":\"toself\",\"fillcolor\":\"rgb(17, 12, 16)\",\"line\":{\"color\":\"#222222\",\"width\":1},\"marker\":{\"cmax\":699.3438675676255,\"cmin\":0,\"color\":[67.87939819067788,67.87939819067788,67.87939819067788,67.87939819067788],\"coloraxis\":\"coloraxis2\",\"opacity\":0},\"mode\":\"lines+markers\",\"type\":\"scatter\",\"x\":[6,7,7,6],\"xaxis\":\"x2\",\"y\":[0,0,1,0],\"yaxis\":\"y2\"},{\"fill\":\"toself\",\"fillcolor\":\"rgb(27, 48, 21)\",\"line\":{\"color\":\"#222222\",\"width\":1},\"marker\":{\"cmax\":1238.2841030156612,\"cmin\":0,\"color\":[370.33476414708457,370.33476414708457,370.33476414708457,370.33476414708457],\"coloraxis\":\"coloraxis\",\"opacity\":0},\"mode\":\"lines+markers\",\"type\":\"scatter\",\"x\":[7,7,8,7],\"xaxis\":\"x2\",\"y\":[0,1,1,0],\"yaxis\":\"y2\"},{\"fill\":\"toself\",\"fillcolor\":\"rgb(36, 25, 33)\",\"line\":{\"color\":\"#222222\",\"width\":1},\"marker\":{\"cmax\":699.3438675676255,\"cmin\":0,\"color\":[143.17026650685216,143.17026650685216,143.17026650685216,143.17026650685216],\"coloraxis\":\"coloraxis2\",\"opacity\":0},\"mode\":\"lines+markers\",\"type\":\"scatter\",\"x\":[7,8,8,7],\"xaxis\":\"x2\",\"y\":[0,0,1,0],\"yaxis\":\"y2\"},{\"fill\":\"toself\",\"fillcolor\":\"rgb(6, 12, 5)\",\"line\":{\"color\":\"#222222\",\"width\":1},\"marker\":{\"cmax\":1238.2841030156612,\"cmin\":0,\"color\":[88.87601472771286,88.87601472771286,88.87601472771286,88.87601472771286],\"coloraxis\":\"coloraxis\",\"opacity\":0},\"mode\":\"lines+markers\",\"type\":\"scatter\",\"x\":[8,8,9,8],\"xaxis\":\"x2\",\"y\":[0,1,1,0],\"yaxis\":\"y2\"},{\"fill\":\"toself\",\"fillcolor\":\"rgb(17, 12, 16)\",\"line\":{\"color\":\"#222222\",\"width\":1},\"marker\":{\"cmax\":699.3438675676255,\"cmin\":0,\"color\":[69.48850318726396,69.48850318726396,69.48850318726396,69.48850318726396],\"coloraxis\":\"coloraxis2\",\"opacity\":0},\"mode\":\"lines+markers\",\"type\":\"scatter\",\"x\":[8,9,9,8],\"xaxis\":\"x2\",\"y\":[0,0,1,0],\"yaxis\":\"y2\"},{\"fill\":\"toself\",\"fillcolor\":\"rgb(10, 18, 8)\",\"line\":{\"color\":\"#222222\",\"width\":1},\"marker\":{\"cmax\":1238.2841030156612,\"cmin\":0,\"color\":[135.65850160078327,135.65850160078327,135.65850160078327,135.65850160078327],\"coloraxis\":\"coloraxis\",\"opacity\":0},\"mode\":\"lines+markers\",\"type\":\"scatter\",\"x\":[9,9,10,9],\"xaxis\":\"x2\",\"y\":[0,1,1,0],\"yaxis\":\"y2\"},{\"fill\":\"toself\",\"fillcolor\":\"rgb(8, 6, 8)\",\"line\":{\"color\":\"#222222\",\"width\":1},\"marker\":{\"cmax\":699.3438675676255,\"cmin\":0,\"color\":[33.06363786635629,33.06363786635629,33.06363786635629,33.06363786635629],\"coloraxis\":\"coloraxis2\",\"opacity\":0},\"mode\":\"lines+markers\",\"type\":\"scatter\",\"x\":[9,10,10,9],\"xaxis\":\"x2\",\"y\":[0,0,1,0],\"yaxis\":\"y2\"},{\"fill\":\"toself\",\"fillcolor\":\"rgb(0, 0, 0)\",\"line\":{\"color\":\"#222222\",\"width\":1},\"marker\":{\"cmax\":1238.2841030156612,\"cmin\":0,\"color\":[0.0,0.0,0.0,0.0],\"coloraxis\":\"coloraxis\",\"opacity\":0},\"mode\":\"lines+markers\",\"type\":\"scatter\",\"x\":[0,0,1,0],\"xaxis\":\"x2\",\"y\":[1,2,2,1],\"yaxis\":\"y2\"},{\"fill\":\"toself\",\"fillcolor\":\"rgb(0, 0, 0)\",\"line\":{\"color\":\"#222222\",\"width\":1},\"marker\":{\"cmax\":699.3438675676255,\"cmin\":0,\"color\":[0.0,0.0,0.0,0.0],\"coloraxis\":\"coloraxis2\",\"opacity\":0},\"mode\":\"lines+markers\",\"type\":\"scatter\",\"x\":[0,1,1,0],\"xaxis\":\"x2\",\"y\":[1,1,2,1],\"yaxis\":\"y2\"},{\"fill\":\"toself\",\"fillcolor\":\"rgb(0, 0, 0)\",\"line\":{\"color\":\"#222222\",\"width\":1},\"marker\":{\"cmax\":1238.2841030156612,\"cmin\":0,\"color\":[0.0,0.0,0.0,0.0],\"coloraxis\":\"coloraxis\",\"opacity\":0},\"mode\":\"lines+markers\",\"type\":\"scatter\",\"x\":[1,1,2,1],\"xaxis\":\"x2\",\"y\":[1,2,2,1],\"yaxis\":\"y2\"},{\"fill\":\"toself\",\"fillcolor\":\"rgb(0, 0, 0)\",\"line\":{\"color\":\"#222222\",\"width\":1},\"marker\":{\"cmax\":699.3438675676255,\"cmin\":0,\"color\":[0.0,0.0,0.0,0.0],\"coloraxis\":\"coloraxis2\",\"opacity\":0},\"mode\":\"lines+markers\",\"type\":\"scatter\",\"x\":[1,2,2,1],\"xaxis\":\"x2\",\"y\":[1,1,2,1],\"yaxis\":\"y2\"},{\"fill\":\"toself\",\"fillcolor\":\"rgb(21, 38, 17)\",\"line\":{\"color\":\"#222222\",\"width\":1},\"marker\":{\"cmax\":1238.2841030156612,\"cmin\":0,\"color\":[291.9097648379026,291.9097648379026,291.9097648379026,291.9097648379026],\"coloraxis\":\"coloraxis\",\"opacity\":0},\"mode\":\"lines+markers\",\"type\":\"scatter\",\"x\":[2,2,3,2],\"xaxis\":\"x2\",\"y\":[1,2,2,1],\"yaxis\":\"y2\"},{\"fill\":\"toself\",\"fillcolor\":\"rgb(27, 19, 25)\",\"line\":{\"color\":\"#222222\",\"width\":1},\"marker\":{\"cmax\":699.3438675676255,\"cmin\":0,\"color\":[108.91489429780091,108.91489429780091,108.91489429780091,108.91489429780091],\"coloraxis\":\"coloraxis2\",\"opacity\":0},\"mode\":\"lines+markers\",\"type\":\"scatter\",\"x\":[2,3,3,2],\"xaxis\":\"x2\",\"y\":[1,1,2,1],\"yaxis\":\"y2\"},{\"fill\":\"toself\",\"fillcolor\":\"rgb(0, 0, 0)\",\"line\":{\"color\":\"#222222\",\"width\":1},\"marker\":{\"cmax\":1238.2841030156612,\"cmin\":0,\"color\":[0.0,0.0,0.0,0.0],\"coloraxis\":\"coloraxis\",\"opacity\":0},\"mode\":\"lines+markers\",\"type\":\"scatter\",\"x\":[3,3,4,3],\"xaxis\":\"x2\",\"y\":[1,2,2,1],\"yaxis\":\"y2\"},{\"fill\":\"toself\",\"fillcolor\":\"rgb(0, 0, 0)\",\"line\":{\"color\":\"#222222\",\"width\":1},\"marker\":{\"cmax\":699.3438675676255,\"cmin\":0,\"color\":[0.0,0.0,0.0,0.0],\"coloraxis\":\"coloraxis2\",\"opacity\":0},\"mode\":\"lines+markers\",\"type\":\"scatter\",\"x\":[3,4,4,3],\"xaxis\":\"x2\",\"y\":[1,1,2,1],\"yaxis\":\"y2\"},{\"fill\":\"toself\",\"fillcolor\":\"rgb(0, 0, 0)\",\"line\":{\"color\":\"#222222\",\"width\":1},\"marker\":{\"cmax\":1238.2841030156612,\"cmin\":0,\"color\":[0.0,0.0,0.0,0.0],\"coloraxis\":\"coloraxis\",\"opacity\":0},\"mode\":\"lines+markers\",\"type\":\"scatter\",\"x\":[4,4,5,4],\"xaxis\":\"x2\",\"y\":[1,2,2,1],\"yaxis\":\"y2\"},{\"fill\":\"toself\",\"fillcolor\":\"rgb(0, 0, 0)\",\"line\":{\"color\":\"#222222\",\"width\":1},\"marker\":{\"cmax\":699.3438675676255,\"cmin\":0,\"color\":[0.0,0.0,0.0,0.0],\"coloraxis\":\"coloraxis2\",\"opacity\":0},\"mode\":\"lines+markers\",\"type\":\"scatter\",\"x\":[4,5,5,4],\"xaxis\":\"x2\",\"y\":[1,1,2,1],\"yaxis\":\"y2\"},{\"fill\":\"toself\",\"fillcolor\":\"rgb(23, 42, 18)\",\"line\":{\"color\":\"#222222\",\"width\":1},\"marker\":{\"cmax\":1238.2841030156612,\"cmin\":0,\"color\":[319.9924353691416,319.9924353691416,319.9924353691416,319.9924353691416],\"coloraxis\":\"coloraxis\",\"opacity\":0},\"mode\":\"lines+markers\",\"type\":\"scatter\",\"x\":[5,5,6,5],\"xaxis\":\"x2\",\"y\":[1,2,2,1],\"yaxis\":\"y2\"},{\"fill\":\"toself\",\"fillcolor\":\"rgb(28, 20, 26)\",\"line\":{\"color\":\"#222222\",\"width\":1},\"marker\":{\"cmax\":699.3438675676255,\"cmin\":0,\"color\":[111.94009429377898,111.94009429377898,111.94009429377898,111.94009429377898],\"coloraxis\":\"coloraxis2\",\"opacity\":0},\"mode\":\"lines+markers\",\"type\":\"scatter\",\"x\":[5,6,6,5],\"xaxis\":\"x2\",\"y\":[1,1,2,1],\"yaxis\":\"y2\"},{\"fill\":\"toself\",\"fillcolor\":\"rgb(0, 0, 0)\",\"line\":{\"color\":\"#222222\",\"width\":1},\"marker\":{\"cmax\":1238.2841030156612,\"cmin\":0,\"color\":[0.0,0.0,0.0,0.0],\"coloraxis\":\"coloraxis\",\"opacity\":0},\"mode\":\"lines+markers\",\"type\":\"scatter\",\"x\":[6,6,7,6],\"xaxis\":\"x2\",\"y\":[1,2,2,1],\"yaxis\":\"y2\"},{\"fill\":\"toself\",\"fillcolor\":\"rgb(0, 0, 0)\",\"line\":{\"color\":\"#222222\",\"width\":1},\"marker\":{\"cmax\":699.3438675676255,\"cmin\":0,\"color\":[0.0,0.0,0.0,0.0],\"coloraxis\":\"coloraxis2\",\"opacity\":0},\"mode\":\"lines+markers\",\"type\":\"scatter\",\"x\":[6,7,7,6],\"xaxis\":\"x2\",\"y\":[1,1,2,1],\"yaxis\":\"y2\"},{\"fill\":\"toself\",\"fillcolor\":\"rgb(22, 40, 18)\",\"line\":{\"color\":\"#222222\",\"width\":1},\"marker\":{\"cmax\":1238.2841030156612,\"cmin\":0,\"color\":[311.36565168604267,311.36565168604267,311.36565168604267,311.36565168604267],\"coloraxis\":\"coloraxis\",\"opacity\":0},\"mode\":\"lines+markers\",\"type\":\"scatter\",\"x\":[7,7,8,7],\"xaxis\":\"x2\",\"y\":[1,2,2,1],\"yaxis\":\"y2\"},{\"fill\":\"toself\",\"fillcolor\":\"rgb(27, 19, 25)\",\"line\":{\"color\":\"#222222\",\"width\":1},\"marker\":{\"cmax\":699.3438675676255,\"cmin\":0,\"color\":[106.69688047234426,106.69688047234426,106.69688047234426,106.69688047234426],\"coloraxis\":\"coloraxis2\",\"opacity\":0},\"mode\":\"lines+markers\",\"type\":\"scatter\",\"x\":[7,8,8,7],\"xaxis\":\"x2\",\"y\":[1,1,2,1],\"yaxis\":\"y2\"},{\"fill\":\"toself\",\"fillcolor\":\"rgb(8, 14, 6)\",\"line\":{\"color\":\"#222222\",\"width\":1},\"marker\":{\"cmax\":1238.2841030156612,\"cmin\":0,\"color\":[109.06323464017818,109.06323464017818,109.06323464017818,109.06323464017818],\"coloraxis\":\"coloraxis\",\"opacity\":0},\"mode\":\"lines+markers\",\"type\":\"scatter\",\"x\":[8,8,9,8],\"xaxis\":\"x2\",\"y\":[1,2,2,1],\"yaxis\":\"y2\"},{\"fill\":\"toself\",\"fillcolor\":\"rgb(37, 26, 34)\",\"line\":{\"color\":\"#222222\",\"width\":1},\"marker\":{\"cmax\":699.3438675676255,\"cmin\":0,\"color\":[148.02816693211867,148.02816693211867,148.02816693211867,148.02816693211867],\"coloraxis\":\"coloraxis2\",\"opacity\":0},\"mode\":\"lines+markers\",\"type\":\"scatter\",\"x\":[8,9,9,8],\"xaxis\":\"x2\",\"y\":[1,1,2,1],\"yaxis\":\"y2\"},{\"fill\":\"toself\",\"fillcolor\":\"rgb(6, 10, 5)\",\"line\":{\"color\":\"#222222\",\"width\":1},\"marker\":{\"cmax\":1238.2841030156612,\"cmin\":0,\"color\":[79.94573513375481,79.94573513375481,79.94573513375481,79.94573513375481],\"coloraxis\":\"coloraxis\",\"opacity\":0},\"mode\":\"lines+markers\",\"type\":\"scatter\",\"x\":[9,9,10,9],\"xaxis\":\"x2\",\"y\":[1,2,2,1],\"yaxis\":\"y2\"},{\"fill\":\"toself\",\"fillcolor\":\"rgb(33, 23, 30)\",\"line\":{\"color\":\"#222222\",\"width\":1},\"marker\":{\"cmax\":699.3438675676255,\"cmin\":0,\"color\":[132.23565571513936,132.23565571513936,132.23565571513936,132.23565571513936],\"coloraxis\":\"coloraxis2\",\"opacity\":0},\"mode\":\"lines+markers\",\"type\":\"scatter\",\"x\":[9,10,10,9],\"xaxis\":\"x2\",\"y\":[1,1,2,1],\"yaxis\":\"y2\"},{\"fill\":\"toself\",\"fillcolor\":\"rgb(8, 15, 7)\",\"line\":{\"color\":\"#222222\",\"width\":1},\"marker\":{\"cmax\":1238.2841030156612,\"cmin\":0,\"color\":[114.61601001958047,114.61601001958047,114.61601001958047,114.61601001958047],\"coloraxis\":\"coloraxis\",\"opacity\":0},\"mode\":\"lines+markers\",\"type\":\"scatter\",\"x\":[0,0,1,0],\"xaxis\":\"x2\",\"y\":[2,3,3,2],\"yaxis\":\"y2\"},{\"fill\":\"toself\",\"fillcolor\":\"rgb(114, 79, 104)\",\"line\":{\"color\":\"#222222\",\"width\":1},\"marker\":{\"cmax\":699.3438675676255,\"cmin\":0,\"color\":[453.4082087001985,453.4082087001985,453.4082087001985,453.4082087001985],\"coloraxis\":\"coloraxis2\",\"opacity\":0},\"mode\":\"lines+markers\",\"type\":\"scatter\",\"x\":[0,1,1,0],\"xaxis\":\"x2\",\"y\":[2,2,3,2],\"yaxis\":\"y2\"},{\"fill\":\"toself\",\"fillcolor\":\"rgb(0, 0, 0)\",\"line\":{\"color\":\"#222222\",\"width\":1},\"marker\":{\"cmax\":1238.2841030156612,\"cmin\":0,\"color\":[0.0,0.0,0.0,0.0],\"coloraxis\":\"coloraxis\",\"opacity\":0},\"mode\":\"lines+markers\",\"type\":\"scatter\",\"x\":[1,1,2,1],\"xaxis\":\"x2\",\"y\":[2,3,3,2],\"yaxis\":\"y2\"},{\"fill\":\"toself\",\"fillcolor\":\"rgb(0, 0, 0)\",\"line\":{\"color\":\"#222222\",\"width\":1},\"marker\":{\"cmax\":699.3438675676255,\"cmin\":0,\"color\":[0.0,0.0,0.0,0.0],\"coloraxis\":\"coloraxis2\",\"opacity\":0},\"mode\":\"lines+markers\",\"type\":\"scatter\",\"x\":[1,2,2,1],\"xaxis\":\"x2\",\"y\":[2,2,3,2],\"yaxis\":\"y2\"},{\"fill\":\"toself\",\"fillcolor\":\"rgb(19, 34, 15)\",\"line\":{\"color\":\"#222222\",\"width\":1},\"marker\":{\"cmax\":1238.2841030156612,\"cmin\":0,\"color\":[260.47489321512575,260.47489321512575,260.47489321512575,260.47489321512575],\"coloraxis\":\"coloraxis\",\"opacity\":0},\"mode\":\"lines+markers\",\"type\":\"scatter\",\"x\":[2,2,3,2],\"xaxis\":\"x2\",\"y\":[2,3,3,2],\"yaxis\":\"y2\"},{\"fill\":\"toself\",\"fillcolor\":\"rgb(74, 51, 67)\",\"line\":{\"color\":\"#222222\",\"width\":1},\"marker\":{\"cmax\":699.3438675676255,\"cmin\":0,\"color\":[292.7878217840902,292.7878217840902,292.7878217840902,292.7878217840902],\"coloraxis\":\"coloraxis2\",\"opacity\":0},\"mode\":\"lines+markers\",\"type\":\"scatter\",\"x\":[2,3,3,2],\"xaxis\":\"x2\",\"y\":[2,2,3,2],\"yaxis\":\"y2\"},{\"fill\":\"toself\",\"fillcolor\":\"rgb(11, 20, 9)\",\"line\":{\"color\":\"#222222\",\"width\":1},\"marker\":{\"cmax\":1238.2841030156612,\"cmin\":0,\"color\":[151.02402268024832,151.02402268024832,151.02402268024832,151.02402268024832],\"coloraxis\":\"coloraxis\",\"opacity\":0},\"mode\":\"lines+markers\",\"type\":\"scatter\",\"x\":[3,3,4,3],\"xaxis\":\"x2\",\"y\":[2,3,3,2],\"yaxis\":\"y2\"},{\"fill\":\"toself\",\"fillcolor\":\"rgb(89, 61, 81)\",\"line\":{\"color\":\"#222222\",\"width\":1},\"marker\":{\"cmax\":699.3438675676255,\"cmin\":0,\"color\":[352.02801171516074,352.02801171516074,352.02801171516074,352.02801171516074],\"coloraxis\":\"coloraxis2\",\"opacity\":0},\"mode\":\"lines+markers\",\"type\":\"scatter\",\"x\":[3,4,4,3],\"xaxis\":\"x2\",\"y\":[2,2,3,2],\"yaxis\":\"y2\"},{\"fill\":\"toself\",\"fillcolor\":\"rgb(0, 0, 0)\",\"line\":{\"color\":\"#222222\",\"width\":1},\"marker\":{\"cmax\":1238.2841030156612,\"cmin\":0,\"color\":[0.0,0.0,0.0,0.0],\"coloraxis\":\"coloraxis\",\"opacity\":0},\"mode\":\"lines+markers\",\"type\":\"scatter\",\"x\":[4,4,5,4],\"xaxis\":\"x2\",\"y\":[2,3,3,2],\"yaxis\":\"y2\"},{\"fill\":\"toself\",\"fillcolor\":\"rgb(0, 0, 0)\",\"line\":{\"color\":\"#222222\",\"width\":1},\"marker\":{\"cmax\":699.3438675676255,\"cmin\":0,\"color\":[0.0,0.0,0.0,0.0],\"coloraxis\":\"coloraxis2\",\"opacity\":0},\"mode\":\"lines+markers\",\"type\":\"scatter\",\"x\":[4,5,5,4],\"xaxis\":\"x2\",\"y\":[2,2,3,2],\"yaxis\":\"y2\"},{\"fill\":\"toself\",\"fillcolor\":\"rgb(10, 18, 8)\",\"line\":{\"color\":\"#222222\",\"width\":1},\"marker\":{\"cmax\":1238.2841030156612,\"cmin\":0,\"color\":[136.06706527938658,136.06706527938658,136.06706527938658,136.06706527938658],\"coloraxis\":\"coloraxis\",\"opacity\":0},\"mode\":\"lines+markers\",\"type\":\"scatter\",\"x\":[5,5,6,5],\"xaxis\":\"x2\",\"y\":[2,3,3,2],\"yaxis\":\"y2\"},{\"fill\":\"toself\",\"fillcolor\":\"rgb(13, 9, 12)\",\"line\":{\"color\":\"#222222\",\"width\":1},\"marker\":{\"cmax\":699.3438675676255,\"cmin\":0,\"color\":[51.33990053013648,51.33990053013648,51.33990053013648,51.33990053013648],\"coloraxis\":\"coloraxis2\",\"opacity\":0},\"mode\":\"lines+markers\",\"type\":\"scatter\",\"x\":[5,6,6,5],\"xaxis\":\"x2\",\"y\":[2,2,3,2],\"yaxis\":\"y2\"},{\"fill\":\"toself\",\"fillcolor\":\"rgb(0, 0, 0)\",\"line\":{\"color\":\"#222222\",\"width\":1},\"marker\":{\"cmax\":1238.2841030156612,\"cmin\":0,\"color\":[0.0,0.0,0.0,0.0],\"coloraxis\":\"coloraxis\",\"opacity\":0},\"mode\":\"lines+markers\",\"type\":\"scatter\",\"x\":[6,6,7,6],\"xaxis\":\"x2\",\"y\":[2,3,3,2],\"yaxis\":\"y2\"},{\"fill\":\"toself\",\"fillcolor\":\"rgb(0, 0, 0)\",\"line\":{\"color\":\"#222222\",\"width\":1},\"marker\":{\"cmax\":699.3438675676255,\"cmin\":0,\"color\":[0.0,0.0,0.0,0.0],\"coloraxis\":\"coloraxis2\",\"opacity\":0},\"mode\":\"lines+markers\",\"type\":\"scatter\",\"x\":[6,7,7,6],\"xaxis\":\"x2\",\"y\":[2,2,3,2],\"yaxis\":\"y2\"},{\"fill\":\"toself\",\"fillcolor\":\"rgb(8, 14, 6)\",\"line\":{\"color\":\"#222222\",\"width\":1},\"marker\":{\"cmax\":1238.2841030156612,\"cmin\":0,\"color\":[108.8505125817957,108.8505125817957,108.8505125817957,108.8505125817957],\"coloraxis\":\"coloraxis\",\"opacity\":0},\"mode\":\"lines+markers\",\"type\":\"scatter\",\"x\":[7,7,8,7],\"xaxis\":\"x2\",\"y\":[2,3,3,2],\"yaxis\":\"y2\"},{\"fill\":\"toself\",\"fillcolor\":\"rgb(10, 7, 9)\",\"line\":{\"color\":\"#222222\",\"width\":1},\"marker\":{\"cmax\":699.3438675676255,\"cmin\":0,\"color\":[39.17312124651699,39.17312124651699,39.17312124651699,39.17312124651699],\"coloraxis\":\"coloraxis2\",\"opacity\":0},\"mode\":\"lines+markers\",\"type\":\"scatter\",\"x\":[7,8,8,7],\"xaxis\":\"x2\",\"y\":[2,2,3,2],\"yaxis\":\"y2\"},{\"fill\":\"toself\",\"fillcolor\":\"rgb(0, 0, 0)\",\"line\":{\"color\":\"#222222\",\"width\":1},\"marker\":{\"cmax\":1238.2841030156612,\"cmin\":0,\"color\":[0.0,0.0,0.0,0.0],\"coloraxis\":\"coloraxis\",\"opacity\":0},\"mode\":\"lines+markers\",\"type\":\"scatter\",\"x\":[8,8,9,8],\"xaxis\":\"x2\",\"y\":[2,3,3,2],\"yaxis\":\"y2\"},{\"fill\":\"toself\",\"fillcolor\":\"rgb(0, 0, 0)\",\"line\":{\"color\":\"#222222\",\"width\":1},\"marker\":{\"cmax\":699.3438675676255,\"cmin\":0,\"color\":[0.0,0.0,0.0,0.0],\"coloraxis\":\"coloraxis2\",\"opacity\":0},\"mode\":\"lines+markers\",\"type\":\"scatter\",\"x\":[8,9,9,8],\"xaxis\":\"x2\",\"y\":[2,2,3,2],\"yaxis\":\"y2\"},{\"fill\":\"toself\",\"fillcolor\":\"rgb(0, 0, 0)\",\"line\":{\"color\":\"#222222\",\"width\":1},\"marker\":{\"cmax\":1238.2841030156612,\"cmin\":0,\"color\":[0.0,0.0,0.0,0.0],\"coloraxis\":\"coloraxis\",\"opacity\":0},\"mode\":\"lines+markers\",\"type\":\"scatter\",\"x\":[9,9,10,9],\"xaxis\":\"x2\",\"y\":[2,3,3,2],\"yaxis\":\"y2\"},{\"fill\":\"toself\",\"fillcolor\":\"rgb(0, 0, 0)\",\"line\":{\"color\":\"#222222\",\"width\":1},\"marker\":{\"cmax\":699.3438675676255,\"cmin\":0,\"color\":[0.0,0.0,0.0,0.0],\"coloraxis\":\"coloraxis2\",\"opacity\":0},\"mode\":\"lines+markers\",\"type\":\"scatter\",\"x\":[9,10,10,9],\"xaxis\":\"x2\",\"y\":[2,2,3,2],\"yaxis\":\"y2\"},{\"fill\":\"toself\",\"fillcolor\":\"rgb(0, 0, 0)\",\"line\":{\"color\":\"#222222\",\"width\":1},\"marker\":{\"cmax\":1238.2841030156612,\"cmin\":0,\"color\":[0.0,0.0,0.0,0.0],\"coloraxis\":\"coloraxis\",\"opacity\":0},\"mode\":\"lines+markers\",\"type\":\"scatter\",\"x\":[0,0,1,0],\"xaxis\":\"x2\",\"y\":[3,4,4,3],\"yaxis\":\"y2\"},{\"fill\":\"toself\",\"fillcolor\":\"rgb(0, 0, 0)\",\"line\":{\"color\":\"#222222\",\"width\":1},\"marker\":{\"cmax\":699.3438675676255,\"cmin\":0,\"color\":[0.0,0.0,0.0,0.0],\"coloraxis\":\"coloraxis2\",\"opacity\":0},\"mode\":\"lines+markers\",\"type\":\"scatter\",\"x\":[0,1,1,0],\"xaxis\":\"x2\",\"y\":[3,3,4,3],\"yaxis\":\"y2\"},{\"fill\":\"toself\",\"fillcolor\":\"rgb(8, 14, 6)\",\"line\":{\"color\":\"#222222\",\"width\":1},\"marker\":{\"cmax\":1238.2841030156612,\"cmin\":0,\"color\":[106.41245709585799,106.41245709585799,106.41245709585799,106.41245709585799],\"coloraxis\":\"coloraxis\",\"opacity\":0},\"mode\":\"lines+markers\",\"type\":\"scatter\",\"x\":[1,1,2,1],\"xaxis\":\"x2\",\"y\":[3,4,4,3],\"yaxis\":\"y2\"},{\"fill\":\"toself\",\"fillcolor\":\"rgb(113, 79, 104)\",\"line\":{\"color\":\"#222222\",\"width\":1},\"marker\":{\"cmax\":699.3438675676255,\"cmin\":0,\"color\":[450.882651602551,450.882651602551,450.882651602551,450.882651602551],\"coloraxis\":\"coloraxis2\",\"opacity\":0},\"mode\":\"lines+markers\",\"type\":\"scatter\",\"x\":[1,2,2,1],\"xaxis\":\"x2\",\"y\":[3,3,4,3],\"yaxis\":\"y2\"},{\"fill\":\"toself\",\"fillcolor\":\"rgb(0, 0, 0)\",\"line\":{\"color\":\"#222222\",\"width\":1},\"marker\":{\"cmax\":1238.2841030156612,\"cmin\":0,\"color\":[0.0,0.0,0.0,0.0],\"coloraxis\":\"coloraxis\",\"opacity\":0},\"mode\":\"lines+markers\",\"type\":\"scatter\",\"x\":[2,2,3,2],\"xaxis\":\"x2\",\"y\":[3,4,4,3],\"yaxis\":\"y2\"},{\"fill\":\"toself\",\"fillcolor\":\"rgb(0, 0, 0)\",\"line\":{\"color\":\"#222222\",\"width\":1},\"marker\":{\"cmax\":699.3438675676255,\"cmin\":0,\"color\":[0.0,0.0,0.0,0.0],\"coloraxis\":\"coloraxis2\",\"opacity\":0},\"mode\":\"lines+markers\",\"type\":\"scatter\",\"x\":[2,3,3,2],\"xaxis\":\"x2\",\"y\":[3,3,4,3],\"yaxis\":\"y2\"},{\"fill\":\"toself\",\"fillcolor\":\"rgb(0, 0, 0)\",\"line\":{\"color\":\"#222222\",\"width\":1},\"marker\":{\"cmax\":1238.2841030156612,\"cmin\":0,\"color\":[0.0,0.0,0.0,0.0],\"coloraxis\":\"coloraxis\",\"opacity\":0},\"mode\":\"lines+markers\",\"type\":\"scatter\",\"x\":[3,3,4,3],\"xaxis\":\"x2\",\"y\":[3,4,4,3],\"yaxis\":\"y2\"},{\"fill\":\"toself\",\"fillcolor\":\"rgb(0, 0, 0)\",\"line\":{\"color\":\"#222222\",\"width\":1},\"marker\":{\"cmax\":699.3438675676255,\"cmin\":0,\"color\":[0.0,0.0,0.0,0.0],\"coloraxis\":\"coloraxis2\",\"opacity\":0},\"mode\":\"lines+markers\",\"type\":\"scatter\",\"x\":[3,4,4,3],\"xaxis\":\"x2\",\"y\":[3,3,4,3],\"yaxis\":\"y2\"},{\"fill\":\"toself\",\"fillcolor\":\"rgb(15, 27, 12)\",\"line\":{\"color\":\"#222222\",\"width\":1},\"marker\":{\"cmax\":1238.2841030156612,\"cmin\":0,\"color\":[206.03337527941673,206.03337527941673,206.03337527941673,206.03337527941673],\"coloraxis\":\"coloraxis\",\"opacity\":0},\"mode\":\"lines+markers\",\"type\":\"scatter\",\"x\":[4,4,5,4],\"xaxis\":\"x2\",\"y\":[3,4,4,3],\"yaxis\":\"y2\"},{\"fill\":\"toself\",\"fillcolor\":\"rgb(70, 49, 64)\",\"line\":{\"color\":\"#222222\",\"width\":1},\"marker\":{\"cmax\":699.3438675676255,\"cmin\":0,\"color\":[278.9851919069635,278.9851919069635,278.9851919069635,278.9851919069635],\"coloraxis\":\"coloraxis2\",\"opacity\":0},\"mode\":\"lines+markers\",\"type\":\"scatter\",\"x\":[4,5,5,4],\"xaxis\":\"x2\",\"y\":[3,3,4,3],\"yaxis\":\"y2\"},{\"fill\":\"toself\",\"fillcolor\":\"rgb(13, 23, 10)\",\"line\":{\"color\":\"#222222\",\"width\":1},\"marker\":{\"cmax\":1238.2841030156612,\"cmin\":0,\"color\":[176.5803080324516,176.5803080324516,176.5803080324516,176.5803080324516],\"coloraxis\":\"coloraxis\",\"opacity\":0},\"mode\":\"lines+markers\",\"type\":\"scatter\",\"x\":[5,5,6,5],\"xaxis\":\"x2\",\"y\":[3,4,4,3],\"yaxis\":\"y2\"},{\"fill\":\"toself\",\"fillcolor\":\"rgb(9, 6, 8)\",\"line\":{\"color\":\"#222222\",\"width\":1},\"marker\":{\"cmax\":699.3438675676255,\"cmin\":0,\"color\":[35.88617135039978,35.88617135039978,35.88617135039978,35.88617135039978],\"coloraxis\":\"coloraxis2\",\"opacity\":0},\"mode\":\"lines+markers\",\"type\":\"scatter\",\"x\":[5,6,6,5],\"xaxis\":\"x2\",\"y\":[3,3,4,3],\"yaxis\":\"y2\"},{\"fill\":\"toself\",\"fillcolor\":\"rgb(0, 0, 0)\",\"line\":{\"color\":\"#222222\",\"width\":1},\"marker\":{\"cmax\":1238.2841030156612,\"cmin\":0,\"color\":[0.0,0.0,0.0,0.0],\"coloraxis\":\"coloraxis\",\"opacity\":0},\"mode\":\"lines+markers\",\"type\":\"scatter\",\"x\":[6,6,7,6],\"xaxis\":\"x2\",\"y\":[3,4,4,3],\"yaxis\":\"y2\"},{\"fill\":\"toself\",\"fillcolor\":\"rgb(0, 0, 0)\",\"line\":{\"color\":\"#222222\",\"width\":1},\"marker\":{\"cmax\":699.3438675676255,\"cmin\":0,\"color\":[0.0,0.0,0.0,0.0],\"coloraxis\":\"coloraxis2\",\"opacity\":0},\"mode\":\"lines+markers\",\"type\":\"scatter\",\"x\":[6,7,7,6],\"xaxis\":\"x2\",\"y\":[3,3,4,3],\"yaxis\":\"y2\"},{\"fill\":\"toself\",\"fillcolor\":\"rgb(29, 53, 23)\",\"line\":{\"color\":\"#222222\",\"width\":1},\"marker\":{\"cmax\":1238.2841030156612,\"cmin\":0,\"color\":[407.1603777588824,407.1603777588824,407.1603777588824,407.1603777588824],\"coloraxis\":\"coloraxis\",\"opacity\":0},\"mode\":\"lines+markers\",\"type\":\"scatter\",\"x\":[7,7,8,7],\"xaxis\":\"x2\",\"y\":[3,4,4,3],\"yaxis\":\"y2\"},{\"fill\":\"toself\",\"fillcolor\":\"rgb(48, 33, 44)\",\"line\":{\"color\":\"#222222\",\"width\":1},\"marker\":{\"cmax\":699.3438675676255,\"cmin\":0,\"color\":[190.33002626769778,190.33002626769778,190.33002626769778,190.33002626769778],\"coloraxis\":\"coloraxis2\",\"opacity\":0},\"mode\":\"lines+markers\",\"type\":\"scatter\",\"x\":[7,8,8,7],\"xaxis\":\"x2\",\"y\":[3,3,4,3],\"yaxis\":\"y2\"},{\"fill\":\"toself\",\"fillcolor\":\"rgb(18, 33, 15)\",\"line\":{\"color\":\"#222222\",\"width\":1},\"marker\":{\"cmax\":1238.2841030156612,\"cmin\":0,\"color\":[256.9930744849772,256.9930744849772,256.9930744849772,256.9930744849772],\"coloraxis\":\"coloraxis\",\"opacity\":0},\"mode\":\"lines+markers\",\"type\":\"scatter\",\"x\":[8,8,9,8],\"xaxis\":\"x2\",\"y\":[3,4,4,3],\"yaxis\":\"y2\"},{\"fill\":\"toself\",\"fillcolor\":\"rgb(76, 52, 69)\",\"line\":{\"color\":\"#222222\",\"width\":1},\"marker\":{\"cmax\":699.3438675676255,\"cmin\":0,\"color\":[300.79660851085106,300.79660851085106,300.79660851085106,300.79660851085106],\"coloraxis\":\"coloraxis2\",\"opacity\":0},\"mode\":\"lines+markers\",\"type\":\"scatter\",\"x\":[8,9,9,8],\"xaxis\":\"x2\",\"y\":[3,3,4,3],\"yaxis\":\"y2\"},{\"fill\":\"toself\",\"fillcolor\":\"rgb(0, 0, 0)\",\"line\":{\"color\":\"#222222\",\"width\":1},\"marker\":{\"cmax\":1238.2841030156612,\"cmin\":0,\"color\":[0.0,0.0,0.0,0.0],\"coloraxis\":\"coloraxis\",\"opacity\":0},\"mode\":\"lines+markers\",\"type\":\"scatter\",\"x\":[9,9,10,9],\"xaxis\":\"x2\",\"y\":[3,4,4,3],\"yaxis\":\"y2\"},{\"fill\":\"toself\",\"fillcolor\":\"rgb(0, 0, 0)\",\"line\":{\"color\":\"#222222\",\"width\":1},\"marker\":{\"cmax\":699.3438675676255,\"cmin\":0,\"color\":[0.0,0.0,0.0,0.0],\"coloraxis\":\"coloraxis2\",\"opacity\":0},\"mode\":\"lines+markers\",\"type\":\"scatter\",\"x\":[9,10,10,9],\"xaxis\":\"x2\",\"y\":[3,3,4,3],\"yaxis\":\"y2\"},{\"fill\":\"toself\",\"fillcolor\":\"rgb(0, 0, 0)\",\"line\":{\"color\":\"#222222\",\"width\":1},\"marker\":{\"cmax\":1238.2841030156612,\"cmin\":0,\"color\":[0.0,0.0,0.0,0.0],\"coloraxis\":\"coloraxis\",\"opacity\":0},\"mode\":\"lines+markers\",\"type\":\"scatter\",\"x\":[0,0,1,0],\"xaxis\":\"x3\",\"y\":[0,1,1,0],\"yaxis\":\"y3\"},{\"fill\":\"toself\",\"fillcolor\":\"rgb(0, 0, 0)\",\"line\":{\"color\":\"#222222\",\"width\":1},\"marker\":{\"cmax\":699.3438675676255,\"cmin\":0,\"color\":[0.0,0.0,0.0,0.0],\"coloraxis\":\"coloraxis2\",\"opacity\":0},\"mode\":\"lines+markers\",\"type\":\"scatter\",\"x\":[0,1,1,0],\"xaxis\":\"x3\",\"y\":[0,0,1,0],\"yaxis\":\"y3\"},{\"fill\":\"toself\",\"fillcolor\":\"rgb(17, 31, 14)\",\"line\":{\"color\":\"#222222\",\"width\":1},\"marker\":{\"cmax\":1238.2841030156612,\"cmin\":0,\"color\":[237.87324979682725,237.87324979682725,237.87324979682725,237.87324979682725],\"coloraxis\":\"coloraxis\",\"opacity\":0},\"mode\":\"lines+markers\",\"type\":\"scatter\",\"x\":[1,1,2,1],\"xaxis\":\"x3\",\"y\":[0,1,1,0],\"yaxis\":\"y3\"},{\"fill\":\"toself\",\"fillcolor\":\"rgb(5, 4, 5)\",\"line\":{\"color\":\"#222222\",\"width\":1},\"marker\":{\"cmax\":699.3438675676255,\"cmin\":0,\"color\":[21.157333917263998,21.157333917263998,21.157333917263998,21.157333917263998],\"coloraxis\":\"coloraxis2\",\"opacity\":0},\"mode\":\"lines+markers\",\"type\":\"scatter\",\"x\":[1,2,2,1],\"xaxis\":\"x3\",\"y\":[0,0,1,0],\"yaxis\":\"y3\"},{\"fill\":\"toself\",\"fillcolor\":\"rgb(0, 0, 0)\",\"line\":{\"color\":\"#222222\",\"width\":1},\"marker\":{\"cmax\":1238.2841030156612,\"cmin\":0,\"color\":[0.0,0.0,0.0,0.0],\"coloraxis\":\"coloraxis\",\"opacity\":0},\"mode\":\"lines+markers\",\"type\":\"scatter\",\"x\":[2,2,3,2],\"xaxis\":\"x3\",\"y\":[0,1,1,0],\"yaxis\":\"y3\"},{\"fill\":\"toself\",\"fillcolor\":\"rgb(0, 0, 0)\",\"line\":{\"color\":\"#222222\",\"width\":1},\"marker\":{\"cmax\":699.3438675676255,\"cmin\":0,\"color\":[0.0,0.0,0.0,0.0],\"coloraxis\":\"coloraxis2\",\"opacity\":0},\"mode\":\"lines+markers\",\"type\":\"scatter\",\"x\":[2,3,3,2],\"xaxis\":\"x3\",\"y\":[0,0,1,0],\"yaxis\":\"y3\"},{\"fill\":\"toself\",\"fillcolor\":\"rgb(6, 11, 5)\",\"line\":{\"color\":\"#222222\",\"width\":1},\"marker\":{\"cmax\":1238.2841030156612,\"cmin\":0,\"color\":[85.88638234497421,85.88638234497421,85.88638234497421,85.88638234497421],\"coloraxis\":\"coloraxis\",\"opacity\":0},\"mode\":\"lines+markers\",\"type\":\"scatter\",\"x\":[3,3,4,3],\"xaxis\":\"x3\",\"y\":[0,1,1,0],\"yaxis\":\"y3\"},{\"fill\":\"toself\",\"fillcolor\":\"rgb(32, 22, 29)\",\"line\":{\"color\":\"#222222\",\"width\":1},\"marker\":{\"cmax\":699.3438675676255,\"cmin\":0,\"color\":[126.061867392366,126.061867392366,126.061867392366,126.061867392366],\"coloraxis\":\"coloraxis2\",\"opacity\":0},\"mode\":\"lines+markers\",\"type\":\"scatter\",\"x\":[3,4,4,3],\"xaxis\":\"x3\",\"y\":[0,0,1,0],\"yaxis\":\"y3\"},{\"fill\":\"toself\",\"fillcolor\":\"rgb(0, 0, 0)\",\"line\":{\"color\":\"#222222\",\"width\":1},\"marker\":{\"cmax\":1238.2841030156612,\"cmin\":0,\"color\":[0.0,0.0,0.0,0.0],\"coloraxis\":\"coloraxis\",\"opacity\":0},\"mode\":\"lines+markers\",\"type\":\"scatter\",\"x\":[4,4,5,4],\"xaxis\":\"x3\",\"y\":[0,1,1,0],\"yaxis\":\"y3\"},{\"fill\":\"toself\",\"fillcolor\":\"rgb(0, 0, 0)\",\"line\":{\"color\":\"#222222\",\"width\":1},\"marker\":{\"cmax\":699.3438675676255,\"cmin\":0,\"color\":[0.0,0.0,0.0,0.0],\"coloraxis\":\"coloraxis2\",\"opacity\":0},\"mode\":\"lines+markers\",\"type\":\"scatter\",\"x\":[4,5,5,4],\"xaxis\":\"x3\",\"y\":[0,0,1,0],\"yaxis\":\"y3\"},{\"fill\":\"toself\",\"fillcolor\":\"rgb(0, 0, 0)\",\"line\":{\"color\":\"#222222\",\"width\":1},\"marker\":{\"cmax\":1238.2841030156612,\"cmin\":0,\"color\":[0.0,0.0,0.0,0.0],\"coloraxis\":\"coloraxis\",\"opacity\":0},\"mode\":\"lines+markers\",\"type\":\"scatter\",\"x\":[5,5,6,5],\"xaxis\":\"x3\",\"y\":[0,1,1,0],\"yaxis\":\"y3\"},{\"fill\":\"toself\",\"fillcolor\":\"rgb(0, 0, 0)\",\"line\":{\"color\":\"#222222\",\"width\":1},\"marker\":{\"cmax\":699.3438675676255,\"cmin\":0,\"color\":[0.0,0.0,0.0,0.0],\"coloraxis\":\"coloraxis2\",\"opacity\":0},\"mode\":\"lines+markers\",\"type\":\"scatter\",\"x\":[5,6,6,5],\"xaxis\":\"x3\",\"y\":[0,0,1,0],\"yaxis\":\"y3\"},{\"fill\":\"toself\",\"fillcolor\":\"rgb(10, 19, 8)\",\"line\":{\"color\":\"#222222\",\"width\":1},\"marker\":{\"cmax\":1238.2841030156612,\"cmin\":0,\"color\":[145.63228768199613,145.63228768199613,145.63228768199613,145.63228768199613],\"coloraxis\":\"coloraxis\",\"opacity\":0},\"mode\":\"lines+markers\",\"type\":\"scatter\",\"x\":[6,6,7,6],\"xaxis\":\"x3\",\"y\":[0,1,1,0],\"yaxis\":\"y3\"},{\"fill\":\"toself\",\"fillcolor\":\"rgb(39, 27, 36)\",\"line\":{\"color\":\"#222222\",\"width\":1},\"marker\":{\"cmax\":699.3438675676255,\"cmin\":0,\"color\":[154.390707867284,154.390707867284,154.390707867284,154.390707867284],\"coloraxis\":\"coloraxis2\",\"opacity\":0},\"mode\":\"lines+markers\",\"type\":\"scatter\",\"x\":[6,7,7,6],\"xaxis\":\"x3\",\"y\":[0,0,1,0],\"yaxis\":\"y3\"},{\"fill\":\"toself\",\"fillcolor\":\"rgb(10, 19, 8)\",\"line\":{\"color\":\"#222222\",\"width\":1},\"marker\":{\"cmax\":1238.2841030156612,\"cmin\":0,\"color\":[144.74883091328496,144.74883091328496,144.74883091328496,144.74883091328496],\"coloraxis\":\"coloraxis\",\"opacity\":0},\"mode\":\"lines+markers\",\"type\":\"scatter\",\"x\":[7,7,8,7],\"xaxis\":\"x3\",\"y\":[0,1,1,0],\"yaxis\":\"y3\"},{\"fill\":\"toself\",\"fillcolor\":\"rgb(6, 4, 5)\",\"line\":{\"color\":\"#222222\",\"width\":1},\"marker\":{\"cmax\":699.3438675676255,\"cmin\":0,\"color\":[22.477850656956456,22.477850656956456,22.477850656956456,22.477850656956456],\"coloraxis\":\"coloraxis2\",\"opacity\":0},\"mode\":\"lines+markers\",\"type\":\"scatter\",\"x\":[7,8,8,7],\"xaxis\":\"x3\",\"y\":[0,0,1,0],\"yaxis\":\"y3\"},{\"fill\":\"toself\",\"fillcolor\":\"rgb(13, 23, 10)\",\"line\":{\"color\":\"#222222\",\"width\":1},\"marker\":{\"cmax\":1238.2841030156612,\"cmin\":0,\"color\":[174.6207881051993,174.6207881051993,174.6207881051993,174.6207881051993],\"coloraxis\":\"coloraxis\",\"opacity\":0},\"mode\":\"lines+markers\",\"type\":\"scatter\",\"x\":[8,8,9,8],\"xaxis\":\"x3\",\"y\":[0,1,1,0],\"yaxis\":\"y3\"},{\"fill\":\"toself\",\"fillcolor\":\"rgb(12, 8, 11)\",\"line\":{\"color\":\"#222222\",\"width\":1},\"marker\":{\"cmax\":699.3438675676255,\"cmin\":0,\"color\":[45.848112851113214,45.848112851113214,45.848112851113214,45.848112851113214],\"coloraxis\":\"coloraxis2\",\"opacity\":0},\"mode\":\"lines+markers\",\"type\":\"scatter\",\"x\":[8,9,9,8],\"xaxis\":\"x3\",\"y\":[0,0,1,0],\"yaxis\":\"y3\"},{\"fill\":\"toself\",\"fillcolor\":\"rgb(0, 0, 0)\",\"line\":{\"color\":\"#222222\",\"width\":1},\"marker\":{\"cmax\":1238.2841030156612,\"cmin\":0,\"color\":[0.0,0.0,0.0,0.0],\"coloraxis\":\"coloraxis\",\"opacity\":0},\"mode\":\"lines+markers\",\"type\":\"scatter\",\"x\":[9,9,10,9],\"xaxis\":\"x3\",\"y\":[0,1,1,0],\"yaxis\":\"y3\"},{\"fill\":\"toself\",\"fillcolor\":\"rgb(0, 0, 0)\",\"line\":{\"color\":\"#222222\",\"width\":1},\"marker\":{\"cmax\":699.3438675676255,\"cmin\":0,\"color\":[0.0,0.0,0.0,0.0],\"coloraxis\":\"coloraxis2\",\"opacity\":0},\"mode\":\"lines+markers\",\"type\":\"scatter\",\"x\":[9,10,10,9],\"xaxis\":\"x3\",\"y\":[0,0,1,0],\"yaxis\":\"y3\"},{\"fill\":\"toself\",\"fillcolor\":\"rgb(0, 0, 0)\",\"line\":{\"color\":\"#222222\",\"width\":1},\"marker\":{\"cmax\":1238.2841030156612,\"cmin\":0,\"color\":[0.0,0.0,0.0,0.0],\"coloraxis\":\"coloraxis\",\"opacity\":0},\"mode\":\"lines+markers\",\"type\":\"scatter\",\"x\":[0,0,1,0],\"xaxis\":\"x3\",\"y\":[1,2,2,1],\"yaxis\":\"y3\"},{\"fill\":\"toself\",\"fillcolor\":\"rgb(0, 0, 0)\",\"line\":{\"color\":\"#222222\",\"width\":1},\"marker\":{\"cmax\":699.3438675676255,\"cmin\":0,\"color\":[0.0,0.0,0.0,0.0],\"coloraxis\":\"coloraxis2\",\"opacity\":0},\"mode\":\"lines+markers\",\"type\":\"scatter\",\"x\":[0,1,1,0],\"xaxis\":\"x3\",\"y\":[1,1,2,1],\"yaxis\":\"y3\"},{\"fill\":\"toself\",\"fillcolor\":\"rgb(13, 24, 10)\",\"line\":{\"color\":\"#222222\",\"width\":1},\"marker\":{\"cmax\":1238.2841030156612,\"cmin\":0,\"color\":[182.98337867827343,182.98337867827343,182.98337867827343,182.98337867827343],\"coloraxis\":\"coloraxis\",\"opacity\":0},\"mode\":\"lines+markers\",\"type\":\"scatter\",\"x\":[1,1,2,1],\"xaxis\":\"x3\",\"y\":[1,2,2,1],\"yaxis\":\"y3\"},{\"fill\":\"toself\",\"fillcolor\":\"rgb(6, 4, 6)\",\"line\":{\"color\":\"#222222\",\"width\":1},\"marker\":{\"cmax\":699.3438675676255,\"cmin\":0,\"color\":[25.719454592021705,25.719454592021705,25.719454592021705,25.719454592021705],\"coloraxis\":\"coloraxis2\",\"opacity\":0},\"mode\":\"lines+markers\",\"type\":\"scatter\",\"x\":[1,2,2,1],\"xaxis\":\"x3\",\"y\":[1,1,2,1],\"yaxis\":\"y3\"},{\"fill\":\"toself\",\"fillcolor\":\"rgb(0, 0, 0)\",\"line\":{\"color\":\"#222222\",\"width\":1},\"marker\":{\"cmax\":1238.2841030156612,\"cmin\":0,\"color\":[0.0,0.0,0.0,0.0],\"coloraxis\":\"coloraxis\",\"opacity\":0},\"mode\":\"lines+markers\",\"type\":\"scatter\",\"x\":[2,2,3,2],\"xaxis\":\"x3\",\"y\":[1,2,2,1],\"yaxis\":\"y3\"},{\"fill\":\"toself\",\"fillcolor\":\"rgb(0, 0, 0)\",\"line\":{\"color\":\"#222222\",\"width\":1},\"marker\":{\"cmax\":699.3438675676255,\"cmin\":0,\"color\":[0.0,0.0,0.0,0.0],\"coloraxis\":\"coloraxis2\",\"opacity\":0},\"mode\":\"lines+markers\",\"type\":\"scatter\",\"x\":[2,3,3,2],\"xaxis\":\"x3\",\"y\":[1,1,2,1],\"yaxis\":\"y3\"},{\"fill\":\"toself\",\"fillcolor\":\"rgb(11, 20, 9)\",\"line\":{\"color\":\"#222222\",\"width\":1},\"marker\":{\"cmax\":1238.2841030156612,\"cmin\":0,\"color\":[153.08485583773012,153.08485583773012,153.08485583773012,153.08485583773012],\"coloraxis\":\"coloraxis\",\"opacity\":0},\"mode\":\"lines+markers\",\"type\":\"scatter\",\"x\":[3,3,4,3],\"xaxis\":\"x3\",\"y\":[1,2,2,1],\"yaxis\":\"y3\"},{\"fill\":\"toself\",\"fillcolor\":\"rgb(20, 14, 18)\",\"line\":{\"color\":\"#222222\",\"width\":1},\"marker\":{\"cmax\":699.3438675676255,\"cmin\":0,\"color\":[79.01463594578073,79.01463594578073,79.01463594578073,79.01463594578073],\"coloraxis\":\"coloraxis2\",\"opacity\":0},\"mode\":\"lines+markers\",\"type\":\"scatter\",\"x\":[3,4,4,3],\"xaxis\":\"x3\",\"y\":[1,1,2,1],\"yaxis\":\"y3\"},{\"fill\":\"toself\",\"fillcolor\":\"rgb(0, 0, 0)\",\"line\":{\"color\":\"#222222\",\"width\":1},\"marker\":{\"cmax\":1238.2841030156612,\"cmin\":0,\"color\":[0.0,0.0,0.0,0.0],\"coloraxis\":\"coloraxis\",\"opacity\":0},\"mode\":\"lines+markers\",\"type\":\"scatter\",\"x\":[4,4,5,4],\"xaxis\":\"x3\",\"y\":[1,2,2,1],\"yaxis\":\"y3\"},{\"fill\":\"toself\",\"fillcolor\":\"rgb(0, 0, 0)\",\"line\":{\"color\":\"#222222\",\"width\":1},\"marker\":{\"cmax\":699.3438675676255,\"cmin\":0,\"color\":[0.0,0.0,0.0,0.0],\"coloraxis\":\"coloraxis2\",\"opacity\":0},\"mode\":\"lines+markers\",\"type\":\"scatter\",\"x\":[4,5,5,4],\"xaxis\":\"x3\",\"y\":[1,1,2,1],\"yaxis\":\"y3\"},{\"fill\":\"toself\",\"fillcolor\":\"rgb(0, 0, 0)\",\"line\":{\"color\":\"#222222\",\"width\":1},\"marker\":{\"cmax\":1238.2841030156612,\"cmin\":0,\"color\":[0.0,0.0,0.0,0.0],\"coloraxis\":\"coloraxis\",\"opacity\":0},\"mode\":\"lines+markers\",\"type\":\"scatter\",\"x\":[5,5,6,5],\"xaxis\":\"x3\",\"y\":[1,2,2,1],\"yaxis\":\"y3\"},{\"fill\":\"toself\",\"fillcolor\":\"rgb(0, 0, 0)\",\"line\":{\"color\":\"#222222\",\"width\":1},\"marker\":{\"cmax\":699.3438675676255,\"cmin\":0,\"color\":[0.0,0.0,0.0,0.0],\"coloraxis\":\"coloraxis2\",\"opacity\":0},\"mode\":\"lines+markers\",\"type\":\"scatter\",\"x\":[5,6,6,5],\"xaxis\":\"x3\",\"y\":[1,1,2,1],\"yaxis\":\"y3\"},{\"fill\":\"toself\",\"fillcolor\":\"rgb(11, 20, 9)\",\"line\":{\"color\":\"#222222\",\"width\":1},\"marker\":{\"cmax\":1238.2841030156612,\"cmin\":0,\"color\":[155.18710177547666,155.18710177547666,155.18710177547666,155.18710177547666],\"coloraxis\":\"coloraxis\",\"opacity\":0},\"mode\":\"lines+markers\",\"type\":\"scatter\",\"x\":[6,6,7,6],\"xaxis\":\"x3\",\"y\":[1,2,2,1],\"yaxis\":\"y3\"},{\"fill\":\"toself\",\"fillcolor\":\"rgb(20, 14, 19)\",\"line\":{\"color\":\"#222222\",\"width\":1},\"marker\":{\"cmax\":699.3438675676255,\"cmin\":0,\"color\":[80.40290396326633,80.40290396326633,80.40290396326633,80.40290396326633],\"coloraxis\":\"coloraxis2\",\"opacity\":0},\"mode\":\"lines+markers\",\"type\":\"scatter\",\"x\":[6,7,7,6],\"xaxis\":\"x3\",\"y\":[1,1,2,1],\"yaxis\":\"y3\"},{\"fill\":\"toself\",\"fillcolor\":\"rgb(0, 0, 0)\",\"line\":{\"color\":\"#222222\",\"width\":1},\"marker\":{\"cmax\":1238.2841030156612,\"cmin\":0,\"color\":[0.0,0.0,0.0,0.0],\"coloraxis\":\"coloraxis\",\"opacity\":0},\"mode\":\"lines+markers\",\"type\":\"scatter\",\"x\":[7,7,8,7],\"xaxis\":\"x3\",\"y\":[1,2,2,1],\"yaxis\":\"y3\"},{\"fill\":\"toself\",\"fillcolor\":\"rgb(0, 0, 0)\",\"line\":{\"color\":\"#222222\",\"width\":1},\"marker\":{\"cmax\":699.3438675676255,\"cmin\":0,\"color\":[0.0,0.0,0.0,0.0],\"coloraxis\":\"coloraxis2\",\"opacity\":0},\"mode\":\"lines+markers\",\"type\":\"scatter\",\"x\":[7,8,8,7],\"xaxis\":\"x3\",\"y\":[1,1,2,1],\"yaxis\":\"y3\"},{\"fill\":\"toself\",\"fillcolor\":\"rgb(0, 0, 0)\",\"line\":{\"color\":\"#222222\",\"width\":1},\"marker\":{\"cmax\":1238.2841030156612,\"cmin\":0,\"color\":[0.0,0.0,0.0,0.0],\"coloraxis\":\"coloraxis\",\"opacity\":0},\"mode\":\"lines+markers\",\"type\":\"scatter\",\"x\":[8,8,9,8],\"xaxis\":\"x3\",\"y\":[1,2,2,1],\"yaxis\":\"y3\"},{\"fill\":\"toself\",\"fillcolor\":\"rgb(0, 0, 0)\",\"line\":{\"color\":\"#222222\",\"width\":1},\"marker\":{\"cmax\":699.3438675676255,\"cmin\":0,\"color\":[0.0,0.0,0.0,0.0],\"coloraxis\":\"coloraxis2\",\"opacity\":0},\"mode\":\"lines+markers\",\"type\":\"scatter\",\"x\":[8,9,9,8],\"xaxis\":\"x3\",\"y\":[1,1,2,1],\"yaxis\":\"y3\"},{\"fill\":\"toself\",\"fillcolor\":\"rgb(7, 13, 6)\",\"line\":{\"color\":\"#222222\",\"width\":1},\"marker\":{\"cmax\":1238.2841030156612,\"cmin\":0,\"color\":[98.71835736395235,98.71835736395235,98.71835736395235,98.71835736395235],\"coloraxis\":\"coloraxis\",\"opacity\":0},\"mode\":\"lines+markers\",\"type\":\"scatter\",\"x\":[9,9,10,9],\"xaxis\":\"x3\",\"y\":[1,2,2,1],\"yaxis\":\"y3\"},{\"fill\":\"toself\",\"fillcolor\":\"rgb(16, 11, 15)\",\"line\":{\"color\":\"#222222\",\"width\":1},\"marker\":{\"cmax\":699.3438675676255,\"cmin\":0,\"color\":[64.78759884049705,64.78759884049705,64.78759884049705,64.78759884049705],\"coloraxis\":\"coloraxis2\",\"opacity\":0},\"mode\":\"lines+markers\",\"type\":\"scatter\",\"x\":[9,10,10,9],\"xaxis\":\"x3\",\"y\":[1,1,2,1],\"yaxis\":\"y3\"},{\"fill\":\"toself\",\"fillcolor\":\"rgb(0, 0, 0)\",\"line\":{\"color\":\"#222222\",\"width\":1},\"marker\":{\"cmax\":1238.2841030156612,\"cmin\":0,\"color\":[0.0,0.0,0.0,0.0],\"coloraxis\":\"coloraxis\",\"opacity\":0},\"mode\":\"lines+markers\",\"type\":\"scatter\",\"x\":[0,0,1,0],\"xaxis\":\"x3\",\"y\":[2,3,3,2],\"yaxis\":\"y3\"},{\"fill\":\"toself\",\"fillcolor\":\"rgb(0, 0, 0)\",\"line\":{\"color\":\"#222222\",\"width\":1},\"marker\":{\"cmax\":699.3438675676255,\"cmin\":0,\"color\":[0.0,0.0,0.0,0.0],\"coloraxis\":\"coloraxis2\",\"opacity\":0},\"mode\":\"lines+markers\",\"type\":\"scatter\",\"x\":[0,1,1,0],\"xaxis\":\"x3\",\"y\":[2,2,3,2],\"yaxis\":\"y3\"},{\"fill\":\"toself\",\"fillcolor\":\"rgb(25, 45, 20)\",\"line\":{\"color\":\"#222222\",\"width\":1},\"marker\":{\"cmax\":1238.2841030156612,\"cmin\":0,\"color\":[347.30427661033536,347.30427661033536,347.30427661033536,347.30427661033536],\"coloraxis\":\"coloraxis\",\"opacity\":0},\"mode\":\"lines+markers\",\"type\":\"scatter\",\"x\":[1,1,2,1],\"xaxis\":\"x3\",\"y\":[2,3,3,2],\"yaxis\":\"y3\"},{\"fill\":\"toself\",\"fillcolor\":\"rgb(20, 14, 18)\",\"line\":{\"color\":\"#222222\",\"width\":1},\"marker\":{\"cmax\":699.3438675676255,\"cmin\":0,\"color\":[79.54169296931035,79.54169296931035,79.54169296931035,79.54169296931035],\"coloraxis\":\"coloraxis2\",\"opacity\":0},\"mode\":\"lines+markers\",\"type\":\"scatter\",\"x\":[1,2,2,1],\"xaxis\":\"x3\",\"y\":[2,2,3,2],\"yaxis\":\"y3\"},{\"fill\":\"toself\",\"fillcolor\":\"rgb(9, 17, 7)\",\"line\":{\"color\":\"#222222\",\"width\":1},\"marker\":{\"cmax\":1238.2841030156612,\"cmin\":0,\"color\":[127.82697439064317,127.82697439064317,127.82697439064317,127.82697439064317],\"coloraxis\":\"coloraxis\",\"opacity\":0},\"mode\":\"lines+markers\",\"type\":\"scatter\",\"x\":[2,2,3,2],\"xaxis\":\"x3\",\"y\":[2,3,3,2],\"yaxis\":\"y3\"},{\"fill\":\"toself\",\"fillcolor\":\"rgb(44, 30, 40)\",\"line\":{\"color\":\"#222222\",\"width\":1},\"marker\":{\"cmax\":699.3438675676255,\"cmin\":0,\"color\":[174.72331865309505,174.72331865309505,174.72331865309505,174.72331865309505],\"coloraxis\":\"coloraxis2\",\"opacity\":0},\"mode\":\"lines+markers\",\"type\":\"scatter\",\"x\":[2,3,3,2],\"xaxis\":\"x3\",\"y\":[2,2,3,2],\"yaxis\":\"y3\"},{\"fill\":\"toself\",\"fillcolor\":\"rgb(21, 37, 16)\",\"line\":{\"color\":\"#222222\",\"width\":1},\"marker\":{\"cmax\":1238.2841030156612,\"cmin\":0,\"color\":[286.34530566899457,286.34530566899457,286.34530566899457,286.34530566899457],\"coloraxis\":\"coloraxis\",\"opacity\":0},\"mode\":\"lines+markers\",\"type\":\"scatter\",\"x\":[3,3,4,3],\"xaxis\":\"x3\",\"y\":[2,3,3,2],\"yaxis\":\"y3\"},{\"fill\":\"toself\",\"fillcolor\":\"rgb(58, 40, 53)\",\"line\":{\"color\":\"#222222\",\"width\":1},\"marker\":{\"cmax\":699.3438675676255,\"cmin\":0,\"color\":[231.11419577881273,231.11419577881273,231.11419577881273,231.11419577881273],\"coloraxis\":\"coloraxis2\",\"opacity\":0},\"mode\":\"lines+markers\",\"type\":\"scatter\",\"x\":[3,4,4,3],\"xaxis\":\"x3\",\"y\":[2,2,3,2],\"yaxis\":\"y3\"},{\"fill\":\"toself\",\"fillcolor\":\"rgb(16, 29, 13)\",\"line\":{\"color\":\"#222222\",\"width\":1},\"marker\":{\"cmax\":1238.2841030156612,\"cmin\":0,\"color\":[222.19408164942206,222.19408164942206,222.19408164942206,222.19408164942206],\"coloraxis\":\"coloraxis\",\"opacity\":0},\"mode\":\"lines+markers\",\"type\":\"scatter\",\"x\":[4,4,5,4],\"xaxis\":\"x3\",\"y\":[2,3,3,2],\"yaxis\":\"y3\"},{\"fill\":\"toself\",\"fillcolor\":\"rgb(10, 7, 9)\",\"line\":{\"color\":\"#222222\",\"width\":1},\"marker\":{\"cmax\":699.3438675676255,\"cmin\":0,\"color\":[40.62848746334077,40.62848746334077,40.62848746334077,40.62848746334077],\"coloraxis\":\"coloraxis2\",\"opacity\":0},\"mode\":\"lines+markers\",\"type\":\"scatter\",\"x\":[4,5,5,4],\"xaxis\":\"x3\",\"y\":[2,2,3,2],\"yaxis\":\"y3\"},{\"fill\":\"toself\",\"fillcolor\":\"rgb(0, 0, 0)\",\"line\":{\"color\":\"#222222\",\"width\":1},\"marker\":{\"cmax\":1238.2841030156612,\"cmin\":0,\"color\":[0.0,0.0,0.0,0.0],\"coloraxis\":\"coloraxis\",\"opacity\":0},\"mode\":\"lines+markers\",\"type\":\"scatter\",\"x\":[5,5,6,5],\"xaxis\":\"x3\",\"y\":[2,3,3,2],\"yaxis\":\"y3\"},{\"fill\":\"toself\",\"fillcolor\":\"rgb(0, 0, 0)\",\"line\":{\"color\":\"#222222\",\"width\":1},\"marker\":{\"cmax\":699.3438675676255,\"cmin\":0,\"color\":[0.0,0.0,0.0,0.0],\"coloraxis\":\"coloraxis2\",\"opacity\":0},\"mode\":\"lines+markers\",\"type\":\"scatter\",\"x\":[5,6,6,5],\"xaxis\":\"x3\",\"y\":[2,2,3,2],\"yaxis\":\"y3\"},{\"fill\":\"toself\",\"fillcolor\":\"rgb(7, 13, 6)\",\"line\":{\"color\":\"#222222\",\"width\":1},\"marker\":{\"cmax\":1238.2841030156612,\"cmin\":0,\"color\":[96.21839303715537,96.21839303715537,96.21839303715537,96.21839303715537],\"coloraxis\":\"coloraxis\",\"opacity\":0},\"mode\":\"lines+markers\",\"type\":\"scatter\",\"x\":[6,6,7,6],\"xaxis\":\"x3\",\"y\":[2,3,3,2],\"yaxis\":\"y3\"},{\"fill\":\"toself\",\"fillcolor\":\"rgb(50, 35, 46)\",\"line\":{\"color\":\"#222222\",\"width\":1},\"marker\":{\"cmax\":699.3438675676255,\"cmin\":0,\"color\":[197.86465777273534,197.86465777273534,197.86465777273534,197.86465777273534],\"coloraxis\":\"coloraxis2\",\"opacity\":0},\"mode\":\"lines+markers\",\"type\":\"scatter\",\"x\":[6,7,7,6],\"xaxis\":\"x3\",\"y\":[2,2,3,2],\"yaxis\":\"y3\"},{\"fill\":\"toself\",\"fillcolor\":\"rgb(9, 17, 7)\",\"line\":{\"color\":\"#222222\",\"width\":1},\"marker\":{\"cmax\":1238.2841030156612,\"cmin\":0,\"color\":[127.60822254632471,127.60822254632471,127.60822254632471,127.60822254632471],\"coloraxis\":\"coloraxis\",\"opacity\":0},\"mode\":\"lines+markers\",\"type\":\"scatter\",\"x\":[7,7,8,7],\"xaxis\":\"x3\",\"y\":[2,3,3,2],\"yaxis\":\"y3\"},{\"fill\":\"toself\",\"fillcolor\":\"rgb(11, 8, 10)\",\"line\":{\"color\":\"#222222\",\"width\":1},\"marker\":{\"cmax\":699.3438675676255,\"cmin\":0,\"color\":[42.99961910070513,42.99961910070513,42.99961910070513,42.99961910070513],\"coloraxis\":\"coloraxis2\",\"opacity\":0},\"mode\":\"lines+markers\",\"type\":\"scatter\",\"x\":[7,8,8,7],\"xaxis\":\"x3\",\"y\":[2,2,3,2],\"yaxis\":\"y3\"},{\"fill\":\"toself\",\"fillcolor\":\"rgb(0, 0, 0)\",\"line\":{\"color\":\"#222222\",\"width\":1},\"marker\":{\"cmax\":1238.2841030156612,\"cmin\":0,\"color\":[0.0,0.0,0.0,0.0],\"coloraxis\":\"coloraxis\",\"opacity\":0},\"mode\":\"lines+markers\",\"type\":\"scatter\",\"x\":[8,8,9,8],\"xaxis\":\"x3\",\"y\":[2,3,3,2],\"yaxis\":\"y3\"},{\"fill\":\"toself\",\"fillcolor\":\"rgb(0, 0, 0)\",\"line\":{\"color\":\"#222222\",\"width\":1},\"marker\":{\"cmax\":699.3438675676255,\"cmin\":0,\"color\":[0.0,0.0,0.0,0.0],\"coloraxis\":\"coloraxis2\",\"opacity\":0},\"mode\":\"lines+markers\",\"type\":\"scatter\",\"x\":[8,9,9,8],\"xaxis\":\"x3\",\"y\":[2,2,3,2],\"yaxis\":\"y3\"},{\"fill\":\"toself\",\"fillcolor\":\"rgb(7, 13, 6)\",\"line\":{\"color\":\"#222222\",\"width\":1},\"marker\":{\"cmax\":1238.2841030156612,\"cmin\":0,\"color\":[99.92953197767255,99.92953197767255,99.92953197767255,99.92953197767255],\"coloraxis\":\"coloraxis\",\"opacity\":0},\"mode\":\"lines+markers\",\"type\":\"scatter\",\"x\":[9,9,10,9],\"xaxis\":\"x3\",\"y\":[2,3,3,2],\"yaxis\":\"y3\"},{\"fill\":\"toself\",\"fillcolor\":\"rgb(18, 12, 16)\",\"line\":{\"color\":\"#222222\",\"width\":1},\"marker\":{\"cmax\":699.3438675676255,\"cmin\":0,\"color\":[69.79253448418172,69.79253448418172,69.79253448418172,69.79253448418172],\"coloraxis\":\"coloraxis2\",\"opacity\":0},\"mode\":\"lines+markers\",\"type\":\"scatter\",\"x\":[9,10,10,9],\"xaxis\":\"x3\",\"y\":[2,2,3,2],\"yaxis\":\"y3\"},{\"fill\":\"toself\",\"fillcolor\":\"rgb(0, 0, 0)\",\"line\":{\"color\":\"#222222\",\"width\":1},\"marker\":{\"cmax\":1238.2841030156612,\"cmin\":0,\"color\":[0.0,0.0,0.0,0.0],\"coloraxis\":\"coloraxis\",\"opacity\":0},\"mode\":\"lines+markers\",\"type\":\"scatter\",\"x\":[0,0,1,0],\"xaxis\":\"x3\",\"y\":[3,4,4,3],\"yaxis\":\"y3\"},{\"fill\":\"toself\",\"fillcolor\":\"rgb(0, 0, 0)\",\"line\":{\"color\":\"#222222\",\"width\":1},\"marker\":{\"cmax\":699.3438675676255,\"cmin\":0,\"color\":[0.0,0.0,0.0,0.0],\"coloraxis\":\"coloraxis2\",\"opacity\":0},\"mode\":\"lines+markers\",\"type\":\"scatter\",\"x\":[0,1,1,0],\"xaxis\":\"x3\",\"y\":[3,3,4,3],\"yaxis\":\"y3\"},{\"fill\":\"toself\",\"fillcolor\":\"rgb(9, 16, 7)\",\"line\":{\"color\":\"#222222\",\"width\":1},\"marker\":{\"cmax\":1238.2841030156612,\"cmin\":0,\"color\":[119.25723559495871,119.25723559495871,119.25723559495871,119.25723559495871],\"coloraxis\":\"coloraxis\",\"opacity\":0},\"mode\":\"lines+markers\",\"type\":\"scatter\",\"x\":[1,1,2,1],\"xaxis\":\"x3\",\"y\":[3,4,4,3],\"yaxis\":\"y3\"},{\"fill\":\"toself\",\"fillcolor\":\"rgb(61, 42, 55)\",\"line\":{\"color\":\"#222222\",\"width\":1},\"marker\":{\"cmax\":699.3438675676255,\"cmin\":0,\"color\":[240.7647457833928,240.7647457833928,240.7647457833928,240.7647457833928],\"coloraxis\":\"coloraxis2\",\"opacity\":0},\"mode\":\"lines+markers\",\"type\":\"scatter\",\"x\":[1,2,2,1],\"xaxis\":\"x3\",\"y\":[3,3,4,3],\"yaxis\":\"y3\"},{\"fill\":\"toself\",\"fillcolor\":\"rgb(0, 0, 0)\",\"line\":{\"color\":\"#222222\",\"width\":1},\"marker\":{\"cmax\":1238.2841030156612,\"cmin\":0,\"color\":[0.0,0.0,0.0,0.0],\"coloraxis\":\"coloraxis\",\"opacity\":0},\"mode\":\"lines+markers\",\"type\":\"scatter\",\"x\":[2,2,3,2],\"xaxis\":\"x3\",\"y\":[3,4,4,3],\"yaxis\":\"y3\"},{\"fill\":\"toself\",\"fillcolor\":\"rgb(0, 0, 0)\",\"line\":{\"color\":\"#222222\",\"width\":1},\"marker\":{\"cmax\":699.3438675676255,\"cmin\":0,\"color\":[0.0,0.0,0.0,0.0],\"coloraxis\":\"coloraxis2\",\"opacity\":0},\"mode\":\"lines+markers\",\"type\":\"scatter\",\"x\":[2,3,3,2],\"xaxis\":\"x3\",\"y\":[3,3,4,3],\"yaxis\":\"y3\"},{\"fill\":\"toself\",\"fillcolor\":\"rgb(11, 20, 9)\",\"line\":{\"color\":\"#222222\",\"width\":1},\"marker\":{\"cmax\":1238.2841030156612,\"cmin\":0,\"color\":[151.0007157212439,151.0007157212439,151.0007157212439,151.0007157212439],\"coloraxis\":\"coloraxis\",\"opacity\":0},\"mode\":\"lines+markers\",\"type\":\"scatter\",\"x\":[3,3,4,3],\"xaxis\":\"x3\",\"y\":[3,4,4,3],\"yaxis\":\"y3\"},{\"fill\":\"toself\",\"fillcolor\":\"rgb(106, 73, 97)\",\"line\":{\"color\":\"#222222\",\"width\":1},\"marker\":{\"cmax\":699.3438675676255,\"cmin\":0,\"color\":[420.3635167670239,420.3635167670239,420.3635167670239,420.3635167670239],\"coloraxis\":\"coloraxis2\",\"opacity\":0},\"mode\":\"lines+markers\",\"type\":\"scatter\",\"x\":[3,4,4,3],\"xaxis\":\"x3\",\"y\":[3,3,4,3],\"yaxis\":\"y3\"},{\"fill\":\"toself\",\"fillcolor\":\"rgb(16, 29, 13)\",\"line\":{\"color\":\"#222222\",\"width\":1},\"marker\":{\"cmax\":1238.2841030156612,\"cmin\":0,\"color\":[226.65668893575543,226.65668893575543,226.65668893575543,226.65668893575543],\"coloraxis\":\"coloraxis\",\"opacity\":0},\"mode\":\"lines+markers\",\"type\":\"scatter\",\"x\":[4,4,5,4],\"xaxis\":\"x3\",\"y\":[3,4,4,3],\"yaxis\":\"y3\"},{\"fill\":\"toself\",\"fillcolor\":\"rgb(15, 10, 13)\",\"line\":{\"color\":\"#222222\",\"width\":1},\"marker\":{\"cmax\":699.3438675676255,\"cmin\":0,\"color\":[57.82069613740967,57.82069613740967,57.82069613740967,57.82069613740967],\"coloraxis\":\"coloraxis2\",\"opacity\":0},\"mode\":\"lines+markers\",\"type\":\"scatter\",\"x\":[4,5,5,4],\"xaxis\":\"x3\",\"y\":[3,3,4,3],\"yaxis\":\"y3\"},{\"fill\":\"toself\",\"fillcolor\":\"rgb(0, 0, 0)\",\"line\":{\"color\":\"#222222\",\"width\":1},\"marker\":{\"cmax\":1238.2841030156612,\"cmin\":0,\"color\":[0.0,0.0,0.0,0.0],\"coloraxis\":\"coloraxis\",\"opacity\":0},\"mode\":\"lines+markers\",\"type\":\"scatter\",\"x\":[5,5,6,5],\"xaxis\":\"x3\",\"y\":[3,4,4,3],\"yaxis\":\"y3\"},{\"fill\":\"toself\",\"fillcolor\":\"rgb(0, 0, 0)\",\"line\":{\"color\":\"#222222\",\"width\":1},\"marker\":{\"cmax\":699.3438675676255,\"cmin\":0,\"color\":[0.0,0.0,0.0,0.0],\"coloraxis\":\"coloraxis2\",\"opacity\":0},\"mode\":\"lines+markers\",\"type\":\"scatter\",\"x\":[5,6,6,5],\"xaxis\":\"x3\",\"y\":[3,3,4,3],\"yaxis\":\"y3\"},{\"fill\":\"toself\",\"fillcolor\":\"rgb(16, 30, 13)\",\"line\":{\"color\":\"#222222\",\"width\":1},\"marker\":{\"cmax\":1238.2841030156612,\"cmin\":0,\"color\":[226.97652439336073,226.97652439336073,226.97652439336073,226.97652439336073],\"coloraxis\":\"coloraxis\",\"opacity\":0},\"mode\":\"lines+markers\",\"type\":\"scatter\",\"x\":[6,6,7,6],\"xaxis\":\"x3\",\"y\":[3,4,4,3],\"yaxis\":\"y3\"},{\"fill\":\"toself\",\"fillcolor\":\"rgb(60, 41, 55)\",\"line\":{\"color\":\"#222222\",\"width\":1},\"marker\":{\"cmax\":699.3438675676255,\"cmin\":0,\"color\":[237.45009457073294,237.45009457073294,237.45009457073294,237.45009457073294],\"coloraxis\":\"coloraxis2\",\"opacity\":0},\"mode\":\"lines+markers\",\"type\":\"scatter\",\"x\":[6,7,7,6],\"xaxis\":\"x3\",\"y\":[3,3,4,3],\"yaxis\":\"y3\"},{\"fill\":\"toself\",\"fillcolor\":\"rgb(18, 33, 14)\",\"line\":{\"color\":\"#222222\",\"width\":1},\"marker\":{\"cmax\":1238.2841030156612,\"cmin\":0,\"color\":[250.39887699065403,250.39887699065403,250.39887699065403,250.39887699065403],\"coloraxis\":\"coloraxis\",\"opacity\":0},\"mode\":\"lines+markers\",\"type\":\"scatter\",\"x\":[7,7,8,7],\"xaxis\":\"x3\",\"y\":[3,4,4,3],\"yaxis\":\"y3\"},{\"fill\":\"toself\",\"fillcolor\":\"rgb(40, 28, 37)\",\"line\":{\"color\":\"#222222\",\"width\":1},\"marker\":{\"cmax\":699.3438675676255,\"cmin\":0,\"color\":[159.64349210411356,159.64349210411356,159.64349210411356,159.64349210411356],\"coloraxis\":\"coloraxis2\",\"opacity\":0},\"mode\":\"lines+markers\",\"type\":\"scatter\",\"x\":[7,8,8,7],\"xaxis\":\"x3\",\"y\":[3,3,4,3],\"yaxis\":\"y3\"},{\"fill\":\"toself\",\"fillcolor\":\"rgb(13, 23, 10)\",\"line\":{\"color\":\"#222222\",\"width\":1},\"marker\":{\"cmax\":1238.2841030156612,\"cmin\":0,\"color\":[177.36037539755353,177.36037539755353,177.36037539755353,177.36037539755353],\"coloraxis\":\"coloraxis\",\"opacity\":0},\"mode\":\"lines+markers\",\"type\":\"scatter\",\"x\":[8,8,9,8],\"xaxis\":\"x3\",\"y\":[3,4,4,3],\"yaxis\":\"y3\"},{\"fill\":\"toself\",\"fillcolor\":\"rgb(44, 31, 40)\",\"line\":{\"color\":\"#222222\",\"width\":1},\"marker\":{\"cmax\":699.3438675676255,\"cmin\":0,\"color\":[175.85817758587748,175.85817758587748,175.85817758587748,175.85817758587748],\"coloraxis\":\"coloraxis2\",\"opacity\":0},\"mode\":\"lines+markers\",\"type\":\"scatter\",\"x\":[8,9,9,8],\"xaxis\":\"x3\",\"y\":[3,3,4,3],\"yaxis\":\"y3\"},{\"fill\":\"toself\",\"fillcolor\":\"rgb(6, 11, 5)\",\"line\":{\"color\":\"#222222\",\"width\":1},\"marker\":{\"cmax\":1238.2841030156612,\"cmin\":0,\"color\":[85.28334325938981,85.28334325938981,85.28334325938981,85.28334325938981],\"coloraxis\":\"coloraxis\",\"opacity\":0},\"mode\":\"lines+markers\",\"type\":\"scatter\",\"x\":[9,9,10,9],\"xaxis\":\"x3\",\"y\":[3,4,4,3],\"yaxis\":\"y3\"},{\"fill\":\"toself\",\"fillcolor\":\"rgb(102, 71, 93)\",\"line\":{\"color\":\"#222222\",\"width\":1},\"marker\":{\"cmax\":699.3438675676255,\"cmin\":0,\"color\":[404.8111546156924,404.8111546156924,404.8111546156924,404.8111546156924],\"coloraxis\":\"coloraxis2\",\"opacity\":0},\"mode\":\"lines+markers\",\"type\":\"scatter\",\"x\":[9,10,10,9],\"xaxis\":\"x3\",\"y\":[3,3,4,3],\"yaxis\":\"y3\"}],                        {\"coloraxis\":{\"colorbar\":{\"len\":1,\"thickness\":10,\"tickangle\":-90,\"title\":{\"side\":\"right\",\"text\":\"amplitude (d'*ms)\"},\"x\":0.78,\"xanchor\":\"left\"},\"colorscale\":[[0.0,\"#000000\"],[1.0,\"#59A147\"]]},\"coloraxis2\":{\"colorbar\":{\"len\":1,\"thickness\":10,\"tickangle\":-90,\"title\":{\"side\":\"right\",\"text\":\"duration (ms)\"},\"x\":0.7,\"xanchor\":\"left\"},\"colorscale\":[[0.0,\"#000000\"],[1.0,\"#B07AA1\"]]},\"margin\":{\"b\":10,\"l\":10,\"r\":10,\"t\":10},\"shapes\":[{\"fillcolor\":\"rgba(0,0,0,0)\",\"line\":{\"color\":\"red\",\"width\":5},\"type\":\"rect\",\"x0\":0,\"x1\":1,\"xref\":\"x\",\"y0\":2,\"y1\":3,\"yref\":\"y\"}],\"showlegend\":false,\"template\":{\"data\":{\"bar\":[{\"error_x\":{\"color\":\"rgb(36,36,36)\"},\"error_y\":{\"color\":\"rgb(36,36,36)\"},\"marker\":{\"line\":{\"color\":\"white\",\"width\":0.5},\"pattern\":{\"fillmode\":\"overlay\",\"size\":10,\"solidity\":0.2}},\"type\":\"bar\"}],\"barpolar\":[{\"marker\":{\"line\":{\"color\":\"white\",\"width\":0.5},\"pattern\":{\"fillmode\":\"overlay\",\"size\":10,\"solidity\":0.2}},\"type\":\"barpolar\"}],\"carpet\":[{\"aaxis\":{\"endlinecolor\":\"rgb(36,36,36)\",\"gridcolor\":\"white\",\"linecolor\":\"white\",\"minorgridcolor\":\"white\",\"startlinecolor\":\"rgb(36,36,36)\"},\"baxis\":{\"endlinecolor\":\"rgb(36,36,36)\",\"gridcolor\":\"white\",\"linecolor\":\"white\",\"minorgridcolor\":\"white\",\"startlinecolor\":\"rgb(36,36,36)\"},\"type\":\"carpet\"}],\"choropleth\":[{\"colorbar\":{\"outlinewidth\":1,\"tickcolor\":\"rgb(36,36,36)\",\"ticks\":\"outside\"},\"type\":\"choropleth\"}],\"contour\":[{\"colorbar\":{\"outlinewidth\":1,\"tickcolor\":\"rgb(36,36,36)\",\"ticks\":\"outside\"},\"colorscale\":[[0.0,\"#440154\"],[0.1111111111111111,\"#482878\"],[0.2222222222222222,\"#3e4989\"],[0.3333333333333333,\"#31688e\"],[0.4444444444444444,\"#26828e\"],[0.5555555555555556,\"#1f9e89\"],[0.6666666666666666,\"#35b779\"],[0.7777777777777778,\"#6ece58\"],[0.8888888888888888,\"#b5de2b\"],[1.0,\"#fde725\"]],\"type\":\"contour\"}],\"contourcarpet\":[{\"colorbar\":{\"outlinewidth\":1,\"tickcolor\":\"rgb(36,36,36)\",\"ticks\":\"outside\"},\"type\":\"contourcarpet\"}],\"heatmap\":[{\"colorbar\":{\"outlinewidth\":1,\"tickcolor\":\"rgb(36,36,36)\",\"ticks\":\"outside\"},\"colorscale\":[[0.0,\"#440154\"],[0.1111111111111111,\"#482878\"],[0.2222222222222222,\"#3e4989\"],[0.3333333333333333,\"#31688e\"],[0.4444444444444444,\"#26828e\"],[0.5555555555555556,\"#1f9e89\"],[0.6666666666666666,\"#35b779\"],[0.7777777777777778,\"#6ece58\"],[0.8888888888888888,\"#b5de2b\"],[1.0,\"#fde725\"]],\"type\":\"heatmap\"}],\"heatmapgl\":[{\"colorbar\":{\"outlinewidth\":1,\"tickcolor\":\"rgb(36,36,36)\",\"ticks\":\"outside\"},\"colorscale\":[[0.0,\"#440154\"],[0.1111111111111111,\"#482878\"],[0.2222222222222222,\"#3e4989\"],[0.3333333333333333,\"#31688e\"],[0.4444444444444444,\"#26828e\"],[0.5555555555555556,\"#1f9e89\"],[0.6666666666666666,\"#35b779\"],[0.7777777777777778,\"#6ece58\"],[0.8888888888888888,\"#b5de2b\"],[1.0,\"#fde725\"]],\"type\":\"heatmapgl\"}],\"histogram\":[{\"marker\":{\"line\":{\"color\":\"white\",\"width\":0.6}},\"type\":\"histogram\"}],\"histogram2d\":[{\"colorbar\":{\"outlinewidth\":1,\"tickcolor\":\"rgb(36,36,36)\",\"ticks\":\"outside\"},\"colorscale\":[[0.0,\"#440154\"],[0.1111111111111111,\"#482878\"],[0.2222222222222222,\"#3e4989\"],[0.3333333333333333,\"#31688e\"],[0.4444444444444444,\"#26828e\"],[0.5555555555555556,\"#1f9e89\"],[0.6666666666666666,\"#35b779\"],[0.7777777777777778,\"#6ece58\"],[0.8888888888888888,\"#b5de2b\"],[1.0,\"#fde725\"]],\"type\":\"histogram2d\"}],\"histogram2dcontour\":[{\"colorbar\":{\"outlinewidth\":1,\"tickcolor\":\"rgb(36,36,36)\",\"ticks\":\"outside\"},\"colorscale\":[[0.0,\"#440154\"],[0.1111111111111111,\"#482878\"],[0.2222222222222222,\"#3e4989\"],[0.3333333333333333,\"#31688e\"],[0.4444444444444444,\"#26828e\"],[0.5555555555555556,\"#1f9e89\"],[0.6666666666666666,\"#35b779\"],[0.7777777777777778,\"#6ece58\"],[0.8888888888888888,\"#b5de2b\"],[1.0,\"#fde725\"]],\"type\":\"histogram2dcontour\"}],\"mesh3d\":[{\"colorbar\":{\"outlinewidth\":1,\"tickcolor\":\"rgb(36,36,36)\",\"ticks\":\"outside\"},\"type\":\"mesh3d\"}],\"parcoords\":[{\"line\":{\"colorbar\":{\"outlinewidth\":1,\"tickcolor\":\"rgb(36,36,36)\",\"ticks\":\"outside\"}},\"type\":\"parcoords\"}],\"pie\":[{\"automargin\":true,\"type\":\"pie\"}],\"scatter\":[{\"marker\":{\"colorbar\":{\"outlinewidth\":1,\"tickcolor\":\"rgb(36,36,36)\",\"ticks\":\"outside\"}},\"type\":\"scatter\"}],\"scatter3d\":[{\"line\":{\"colorbar\":{\"outlinewidth\":1,\"tickcolor\":\"rgb(36,36,36)\",\"ticks\":\"outside\"}},\"marker\":{\"colorbar\":{\"outlinewidth\":1,\"tickcolor\":\"rgb(36,36,36)\",\"ticks\":\"outside\"}},\"type\":\"scatter3d\"}],\"scattercarpet\":[{\"marker\":{\"colorbar\":{\"outlinewidth\":1,\"tickcolor\":\"rgb(36,36,36)\",\"ticks\":\"outside\"}},\"type\":\"scattercarpet\"}],\"scattergeo\":[{\"marker\":{\"colorbar\":{\"outlinewidth\":1,\"tickcolor\":\"rgb(36,36,36)\",\"ticks\":\"outside\"}},\"type\":\"scattergeo\"}],\"scattergl\":[{\"marker\":{\"colorbar\":{\"outlinewidth\":1,\"tickcolor\":\"rgb(36,36,36)\",\"ticks\":\"outside\"}},\"type\":\"scattergl\"}],\"scattermapbox\":[{\"marker\":{\"colorbar\":{\"outlinewidth\":1,\"tickcolor\":\"rgb(36,36,36)\",\"ticks\":\"outside\"}},\"type\":\"scattermapbox\"}],\"scatterpolar\":[{\"marker\":{\"colorbar\":{\"outlinewidth\":1,\"tickcolor\":\"rgb(36,36,36)\",\"ticks\":\"outside\"}},\"type\":\"scatterpolar\"}],\"scatterpolargl\":[{\"marker\":{\"colorbar\":{\"outlinewidth\":1,\"tickcolor\":\"rgb(36,36,36)\",\"ticks\":\"outside\"}},\"type\":\"scatterpolargl\"}],\"scatterternary\":[{\"marker\":{\"colorbar\":{\"outlinewidth\":1,\"tickcolor\":\"rgb(36,36,36)\",\"ticks\":\"outside\"}},\"type\":\"scatterternary\"}],\"surface\":[{\"colorbar\":{\"outlinewidth\":1,\"tickcolor\":\"rgb(36,36,36)\",\"ticks\":\"outside\"},\"colorscale\":[[0.0,\"#440154\"],[0.1111111111111111,\"#482878\"],[0.2222222222222222,\"#3e4989\"],[0.3333333333333333,\"#31688e\"],[0.4444444444444444,\"#26828e\"],[0.5555555555555556,\"#1f9e89\"],[0.6666666666666666,\"#35b779\"],[0.7777777777777778,\"#6ece58\"],[0.8888888888888888,\"#b5de2b\"],[1.0,\"#fde725\"]],\"type\":\"surface\"}],\"table\":[{\"cells\":{\"fill\":{\"color\":\"rgb(237,237,237)\"},\"line\":{\"color\":\"white\"}},\"header\":{\"fill\":{\"color\":\"rgb(217,217,217)\"},\"line\":{\"color\":\"white\"}},\"type\":\"table\"}]},\"layout\":{\"annotationdefaults\":{\"arrowhead\":0,\"arrowwidth\":1},\"autotypenumbers\":\"strict\",\"coloraxis\":{\"colorbar\":{\"outlinewidth\":1,\"tickcolor\":\"rgb(36,36,36)\",\"ticks\":\"outside\"}},\"colorscale\":{\"diverging\":[[0.0,\"rgb(103,0,31)\"],[0.1,\"rgb(178,24,43)\"],[0.2,\"rgb(214,96,77)\"],[0.3,\"rgb(244,165,130)\"],[0.4,\"rgb(253,219,199)\"],[0.5,\"rgb(247,247,247)\"],[0.6,\"rgb(209,229,240)\"],[0.7,\"rgb(146,197,222)\"],[0.8,\"rgb(67,147,195)\"],[0.9,\"rgb(33,102,172)\"],[1.0,\"rgb(5,48,97)\"]],\"sequential\":[[0.0,\"#440154\"],[0.1111111111111111,\"#482878\"],[0.2222222222222222,\"#3e4989\"],[0.3333333333333333,\"#31688e\"],[0.4444444444444444,\"#26828e\"],[0.5555555555555556,\"#1f9e89\"],[0.6666666666666666,\"#35b779\"],[0.7777777777777778,\"#6ece58\"],[0.8888888888888888,\"#b5de2b\"],[1.0,\"#fde725\"]],\"sequentialminus\":[[0.0,\"#440154\"],[0.1111111111111111,\"#482878\"],[0.2222222222222222,\"#3e4989\"],[0.3333333333333333,\"#31688e\"],[0.4444444444444444,\"#26828e\"],[0.5555555555555556,\"#1f9e89\"],[0.6666666666666666,\"#35b779\"],[0.7777777777777778,\"#6ece58\"],[0.8888888888888888,\"#b5de2b\"],[1.0,\"#fde725\"]]},\"colorway\":[\"#1F77B4\",\"#FF7F0E\",\"#2CA02C\",\"#D62728\",\"#9467BD\",\"#8C564B\",\"#E377C2\",\"#7F7F7F\",\"#BCBD22\",\"#17BECF\"],\"font\":{\"color\":\"rgb(36,36,36)\"},\"geo\":{\"bgcolor\":\"white\",\"lakecolor\":\"white\",\"landcolor\":\"white\",\"showlakes\":true,\"showland\":true,\"subunitcolor\":\"white\"},\"hoverlabel\":{\"align\":\"left\"},\"hovermode\":\"closest\",\"mapbox\":{\"style\":\"light\"},\"paper_bgcolor\":\"white\",\"plot_bgcolor\":\"white\",\"polar\":{\"angularaxis\":{\"gridcolor\":\"rgb(232,232,232)\",\"linecolor\":\"rgb(36,36,36)\",\"showgrid\":false,\"showline\":true,\"ticks\":\"outside\"},\"bgcolor\":\"white\",\"radialaxis\":{\"gridcolor\":\"rgb(232,232,232)\",\"linecolor\":\"rgb(36,36,36)\",\"showgrid\":false,\"showline\":true,\"ticks\":\"outside\"}},\"scene\":{\"xaxis\":{\"backgroundcolor\":\"white\",\"gridcolor\":\"rgb(232,232,232)\",\"gridwidth\":2,\"linecolor\":\"rgb(36,36,36)\",\"showbackground\":true,\"showgrid\":false,\"showline\":true,\"ticks\":\"outside\",\"zeroline\":false,\"zerolinecolor\":\"rgb(36,36,36)\"},\"yaxis\":{\"backgroundcolor\":\"white\",\"gridcolor\":\"rgb(232,232,232)\",\"gridwidth\":2,\"linecolor\":\"rgb(36,36,36)\",\"showbackground\":true,\"showgrid\":false,\"showline\":true,\"ticks\":\"outside\",\"zeroline\":false,\"zerolinecolor\":\"rgb(36,36,36)\"},\"zaxis\":{\"backgroundcolor\":\"white\",\"gridcolor\":\"rgb(232,232,232)\",\"gridwidth\":2,\"linecolor\":\"rgb(36,36,36)\",\"showbackground\":true,\"showgrid\":false,\"showline\":true,\"ticks\":\"outside\",\"zeroline\":false,\"zerolinecolor\":\"rgb(36,36,36)\"}},\"shapedefaults\":{\"fillcolor\":\"black\",\"line\":{\"width\":0},\"opacity\":0.3},\"ternary\":{\"aaxis\":{\"gridcolor\":\"rgb(232,232,232)\",\"linecolor\":\"rgb(36,36,36)\",\"showgrid\":false,\"showline\":true,\"ticks\":\"outside\"},\"baxis\":{\"gridcolor\":\"rgb(232,232,232)\",\"linecolor\":\"rgb(36,36,36)\",\"showgrid\":false,\"showline\":true,\"ticks\":\"outside\"},\"bgcolor\":\"white\",\"caxis\":{\"gridcolor\":\"rgb(232,232,232)\",\"linecolor\":\"rgb(36,36,36)\",\"showgrid\":false,\"showline\":true,\"ticks\":\"outside\"}},\"title\":{\"x\":0.05},\"xaxis\":{\"automargin\":true,\"gridcolor\":\"rgb(232,232,232)\",\"linecolor\":\"rgb(36,36,36)\",\"showgrid\":false,\"showline\":true,\"ticks\":\"outside\",\"title\":{\"standoff\":15},\"zeroline\":false,\"zerolinecolor\":\"rgb(36,36,36)\"},\"yaxis\":{\"automargin\":true,\"gridcolor\":\"rgb(232,232,232)\",\"linecolor\":\"rgb(36,36,36)\",\"showgrid\":false,\"showline\":true,\"ticks\":\"outside\",\"title\":{\"standoff\":15},\"zeroline\":false,\"zerolinecolor\":\"rgb(36,36,36)\"}}},\"xaxis\":{\"anchor\":\"y\",\"constrain\":\"domain\",\"domain\":[0.0,1.0],\"fixedrange\":true,\"range\":[0,10],\"scaleanchor\":\"y\",\"showticklabels\":false,\"ticks\":\"\"},\"xaxis2\":{\"anchor\":\"y2\",\"constrain\":\"domain\",\"domain\":[0.0,1.0],\"fixedrange\":true,\"range\":[0,10],\"scaleanchor\":\"y2\",\"showticklabels\":false,\"ticks\":\"\"},\"xaxis3\":{\"anchor\":\"y3\",\"constrain\":\"domain\",\"domain\":[0.0,1.0],\"fixedrange\":true,\"range\":[0,10],\"scaleanchor\":\"y3\",\"showticklabels\":true,\"tickmode\":\"array\",\"ticks\":\"outside\",\"ticktext\":[\"0_1\",\"0_2\",\"0_3\",\"0_4\",\"1_2\",\"1_3\",\"1_4\",\"2_3\",\"2_4\",\"3_4\"],\"tickvals\":[0.5,1.5,2.5,3.5,4.5,5.5,6.5,7.5,8.5,9.5],\"title\":{\"text\":\"context pairs\"}},\"yaxis\":{\"anchor\":\"x\",\"constrain\":\"domain\",\"domain\":[0.6733333333333333,1.0],\"fixedrange\":true,\"range\":[0,4],\"tickmode\":\"array\",\"ticktext\":[1,2,3,4],\"tickvals\":[0.5,1.5,2.5,3.5],\"title\":{\"text\":\"ARM021b-36-8<br>probes\"}},\"yaxis2\":{\"anchor\":\"x2\",\"constrain\":\"domain\",\"domain\":[0.33666666666666667,0.6633333333333333],\"fixedrange\":true,\"range\":[0,4],\"tickmode\":\"array\",\"ticktext\":[1,2,3,4],\"tickvals\":[0.5,1.5,2.5,3.5],\"title\":{\"text\":\"ARM021b-43-8<br>probes\"}},\"yaxis3\":{\"anchor\":\"x3\",\"constrain\":\"domain\",\"domain\":[0.0,0.32666666666666666],\"fixedrange\":true,\"range\":[0,4],\"tickmode\":\"array\",\"ticktext\":[1,2,3,4],\"tickvals\":[0.5,1.5,2.5,3.5],\"title\":{\"text\":\"ARM021b-05-1<br>probes\"}}},                        {\"responsive\": true}                    ).then(function(){\n                            \nvar gd = document.getElementById('5cff7e3d-ea85-4bc2-a59a-5ff1c9e05ec3');\nvar x = new MutationObserver(function (mutations, observer) {{\n        var display = window.getComputedStyle(gd).display;\n        if (!display || display === 'none') {{\n            console.log([gd, 'removed!']);\n            Plotly.purge(gd);\n            observer.disconnect();\n        }}\n}});\n\n// Listen for the removal of the full notebook cells\nvar notebookContainer = gd.closest('#notebook-container');\nif (notebookContainer) {{\n    x.observe(notebookContainer, {childList: true});\n}}\n\n// Listen for the clearing of the current output cell\nvar outputEl = gd.closest('.output');\nif (outputEl) {{\n    x.observe(outputEl, {childList: true});\n}}\n\n                        })                };                });            </script>        </div>"
     },
     "metadata": {},
     "output_type": "display_data"
    }
   ],
   "source": [
    "fig = make_subplots(rows=n_eg_neu, cols=1,\n",
    "                    vertical_spacing=0.01,\n",
    "                    # horizontal_spacing=0.05,\n",
    "                    # column_widths=[0.5, 0.4, 0.1],\n",
    "                    # specs=[[{'rowspan':2}, {'l':0.05}, {}],\n",
    "                    #        [None         , {'l':0.05}, {}]]\n",
    "                                               )\n",
    "\n",
    "ppi = 300 # high quality print standard (do i need this if I do postprocecing in vectors)\n",
    "ppi = 96 # www standard\n",
    "ppi = 92.5 # house monitor\n",
    "\n",
    "width = 6 # in inches\n",
    "heigh = width * 4/9 # aspect ratio of heatmap\n",
    "_ = fig.update_layout(template='simple_white',\n",
    "                      margin=dict(l=10, r=10, t=10, b=10),\n",
    "                      # width=round(ppi*width), height=round(ppi*heigh),\n",
    "                      showlegend=False)\n",
    "\n",
    "# prefilters all the data to be ploted (multiple neurons) to ensure shared colormaps\n",
    "# for the fill values\n",
    "\n",
    "# turns long format data into an array with dimension Probe * context_pair\n",
    "to_pivot = DF_long.loc[(DF_long['id'].isin(top_neurons)),\n",
    "                         ['id','context_pair', 'trans_pair', 'probe', 'metric', 'value']]\n",
    "val_df = to_pivot.pivot_table(index=['metric', 'id','probe'], columns=['context_pair'], values='value')\n",
    "\n",
    "\n",
    "\n",
    "cscales = {\"integral (d'*ms)\" : pc.make_colorscale(['#000000', Green]),\n",
    "           \"center of mass (ms)\" : pc.make_colorscale(['#000000', Purple])}\n",
    "max_vals = dict()\n",
    "# normalizes,saves max values and get colors for each metric\n",
    "color_df = val_df.copy()\n",
    "for metric in color_df.index.levels[0]:\n",
    "    max_vals[metric] = val_df.loc[metric].values.max()\n",
    "    colors = pc.sample_colorscale(cscales[metric],\n",
    "                                  (val_df.loc[metric] / max_vals[metric]).values.flatten())\n",
    "    color_df.loc[metric] = np.asarray(colors).reshape(color_df.loc[metric].shape)\n",
    "\n",
    "# general shapes of the upper and lower triangles to be passed to Scatter x and y\n",
    "xu, yu = np.array([0,0,1,0]), np.array([0,1,1,0])\n",
    "xl, yl = np.array([0,1,1,0]), np.array([0,0,1,0])\n",
    "\n",
    "for row, id in enumerate(top_neurons):\n",
    "    col = 1\n",
    "    row += 1 # plotly 1 indexing FTW!\n",
    "\n",
    "    amp_color = color_df.loc[(\"integral (d'*ms)\", id), :].values\n",
    "    dur_color = color_df.loc[('center of mass (ms)', id), :].values\n",
    "\n",
    "    amplitudes = val_df.loc[(\"integral (d'*ms)\", id), :]\n",
    "    durations = val_df.loc[('center of mass (ms)', id), :]\n",
    "\n",
    "\n",
    "    for nn, (p, c) in enumerate(np.ndindex(amp_color.shape)):\n",
    "        # note the use of transparent markers to define the colorbars internally\n",
    "        # amplitud uppe half\n",
    "        _ = fig.add_trace(go.Scatter(x=xu+c, y=yu+p, mode='lines+markers',\n",
    "                                     line_width=1, line_color='#222222',\n",
    "                                     fill='toself', fillcolor=amp_color[p,c],\n",
    "                                     marker=dict(color=(amplitudes.values[p,c],)*len(xu),\n",
    "                                                 coloraxis='coloraxis',\n",
    "                                                 opacity=0,\n",
    "                                                 cmin=0, cmax=max_vals[\"integral (d'*ms)\"],\n",
    "                                                 )\n",
    "                                     ),\n",
    "                          row=row, col=col)\n",
    "\n",
    "        # duration lower half\n",
    "        _ = fig.add_trace(go.Scatter(x=xl+c, y=yl+p, mode='lines+markers',\n",
    "                                     line_width=1, line_color='#222222',\n",
    "                                     fill='toself', fillcolor=dur_color[p,c],\n",
    "                                     marker=dict(color=(durations.values[p,c],)*len(xl),\n",
    "                                                 coloraxis='coloraxis2',\n",
    "                                                 opacity=0,\n",
    "                                                 cmin=0, cmax=max_vals[\"center of mass (ms)\"],\n",
    "                                                 )),\n",
    "                          row=row, col=col)\n",
    "\n",
    "    # defines commong parameters for all axes,\n",
    "    rr = row if row > 1 else '' #fist x and y axis dont have a number on their name\n",
    "    xax_params = dict(scaleanchor=f'y{rr}',\n",
    "                      constrain='domain',\n",
    "                      range=[0, amplitudes.columns.size], fixedrange=True,\n",
    "                      showticklabels=False, ticks='',\n",
    "                      row=row, col=col)\n",
    "\n",
    "    yax_params = dict(title=dict(text=f'{id}<br>probes'),\n",
    "                  constrain='domain',\n",
    "                  range=[0, amplitudes.index.size], fixedrange=True,\n",
    "                  tickmode = 'array',\n",
    "                  tickvals = np.arange(amplitudes.index.size)+0.5,\n",
    "                  ticktext = amplitudes.index.to_list(),\n",
    "                  row=row, col=col)\n",
    "\n",
    "    if row == n_eg_neu: # last row title and tics\n",
    "        # strip left zero padding for better display\n",
    "        ticktexts = [f\"{int(pp.split('_')[0])}_{int(pp.split('_')[1])}\"\n",
    "             for pp in amplitudes.columns.to_list()]\n",
    "        xax_params.update(dict(title_text='context pairs',\n",
    "                               showticklabels=True, ticks='outside',\n",
    "                               tickmode = 'array',\n",
    "                               tickvals=np.arange(amplitudes.columns.size)+0.5,\n",
    "                               ticktext = ticktexts))\n",
    "\n",
    "    _ = fig.update_xaxes(**xax_params)\n",
    "    _ = fig.update_yaxes(**yax_params)\n",
    "\n",
    "# highlights the example probe context_pair combination on the first subplot\n",
    "ctx_idx = amplitudes.columns.to_list().index(f'{ctx_pair[0]:02}_{ctx_pair[1]:02}')\n",
    "_ = fig.add_shape(type='rect', x0=ctx_idx, x1=ctx_idx+1, y0=prb_idx, y1=prb_idx+1,\n",
    "                  line=dict(color='red', width=5), fillcolor='rgba(0,0,0,0)',\n",
    "                  row=1, col=col)\n",
    "\n",
    "\n",
    "fig.update_layout(coloraxis=dict(colorscale=cscales[\"integral (d'*ms)\"],\n",
    "                                 colorbar=dict(\n",
    "                                     thickness=10, len=1,\n",
    "                                     title_text=\"amplitude (d'*ms)\",\n",
    "                                     title_side='right',\n",
    "                                     tickangle=-90,\n",
    "                                     xanchor='left', x=0.78)\n",
    "                                 ),\n",
    "                  coloraxis2=dict(colorscale=cscales[\"center of mass (ms)\"],\n",
    "                                  colorbar=dict(\n",
    "                                      thickness=10, len=1,\n",
    "                                      title_text=\"duration (ms)\",\n",
    "                                      title_side='right',\n",
    "                                      tickangle=-90,\n",
    "                                      xanchor='left', x=0.7)\n",
    "                                  )\n",
    "                  )\n",
    "fig.show()"
   ],
   "metadata": {
    "collapsed": false,
    "pycharm": {
     "name": "#%%\n"
    }
   }
  },
  {
   "cell_type": "code",
   "execution_count": null,
   "outputs": [],
   "source": [
    "# todo move the figures from ctx_probe_space_subsampling to new subplots here"
   ],
   "metadata": {
    "collapsed": false,
    "pycharm": {
     "name": "#%%\n"
    }
   }
  },
  {
   "cell_type": "code",
   "execution_count": null,
   "outputs": [],
   "source": [
    "# ensures transparent backgrounds\n",
    "fig.update_layout(paper_bgcolor='rgba(0,0,0,0)',\n",
    "                  plot_bgcolor='rgba(0,0,0,0)')\n",
    "folder = root_path / 'reports' / 'figures' / 'paper'\n",
    "folder.mkdir(parents=True, exist_ok=True)\n",
    "\n",
    "filename = folder / 'figure_03'\n",
    "# fig.write_image(filename.with_suffix('.png'))\n",
    "# fig.write_image(filename.with_suffix('.svg'))"
   ],
   "metadata": {
    "collapsed": false,
    "pycharm": {
     "name": "#%%\n"
    }
   }
  }
 ],
 "metadata": {
  "kernelspec": {
   "display_name": "Python 3",
   "language": "python",
   "name": "python3"
  },
  "language_info": {
   "codemirror_mode": {
    "name": "ipython",
    "version": 2
   },
   "file_extension": ".py",
   "mimetype": "text/x-python",
   "name": "python",
   "nbconvert_exporter": "python",
   "pygments_lexer": "ipython2",
   "version": "2.7.6"
  }
 },
 "nbformat": 4,
 "nbformat_minor": 0
}