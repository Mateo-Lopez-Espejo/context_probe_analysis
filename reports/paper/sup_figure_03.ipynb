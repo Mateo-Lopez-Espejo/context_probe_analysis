{
 "cells": [
  {
   "cell_type": "code",
   "execution_count": 1,
   "metadata": {
    "collapsed": true
   },
   "outputs": [
    {
     "name": "stderr",
     "output_type": "stream",
     "text": [
      "[nems.configs.defaults INFO] Saving log messages to /tmp/nems/NEMS 2022-12-05 120448.log\n"
     ]
    }
   ],
   "source": [
    "import itertools as itt\n",
    "import pathlib as pl\n",
    "from configparser import ConfigParser\n",
    "from math import factorial\n",
    "\n",
    "import joblib as jl\n",
    "import numpy as np\n",
    "import pandas as pd\n",
    "import scipy.stats as sst\n",
    "from plotly.subplots import make_subplots\n",
    "import plotly.graph_objects as go\n",
    "\n",
    "from src.root_path import config_path, root_path\n",
    "from src.utils.tools import decimate_xy\n",
    "from src.visualization.interactive import plot_raw_pair, plot_pupil_so_effects\n",
    "from src.visualization.palette import *\n",
    "\n",
    "config = ConfigParser()\n",
    "config.read_file(open(config_path / 'settings.ini'))\n",
    "\n",
    "folder = root_path / 'reports' / 'figures' / 'paper'\n",
    "folder.mkdir(parents=True, exist_ok=True)"
   ]
  },
  {
   "cell_type": "markdown",
   "source": [
    " code copied over from \"220810_pupil_differences_memory_efficient.ipynb\" and cleaned\n",
    "# First order effects\n",
    "how pupil size is correlated with firing rate"
   ],
   "metadata": {
    "collapsed": false
   }
  },
  {
   "cell_type": "code",
   "execution_count": 3,
   "outputs": [
    {
     "name": "stdout",
     "output_type": "stream",
     "text": [
      "(35316, 5)\n"
     ]
    },
    {
     "data": {
      "text/plain": "             id     site probe  pupil     value\n0  CRD003b-02-2  CRD003b     1  small  0.011436\n1  CRD003b-02-2  CRD003b     1    big  0.081555\n2  CRD003b-02-2  CRD003b     1   full  0.048833\n3  CRD003b-02-2  CRD003b     2  small  0.204172\n4  CRD003b-02-2  CRD003b     2    big  0.242648",
      "text/html": "<div>\n<style scoped>\n    .dataframe tbody tr th:only-of-type {\n        vertical-align: middle;\n    }\n\n    .dataframe tbody tr th {\n        vertical-align: top;\n    }\n\n    .dataframe thead th {\n        text-align: right;\n    }\n</style>\n<table border=\"1\" class=\"dataframe\">\n  <thead>\n    <tr style=\"text-align: right;\">\n      <th></th>\n      <th>id</th>\n      <th>site</th>\n      <th>probe</th>\n      <th>pupil</th>\n      <th>value</th>\n    </tr>\n  </thead>\n  <tbody>\n    <tr>\n      <th>0</th>\n      <td>CRD003b-02-2</td>\n      <td>CRD003b</td>\n      <td>1</td>\n      <td>small</td>\n      <td>0.011436</td>\n    </tr>\n    <tr>\n      <th>1</th>\n      <td>CRD003b-02-2</td>\n      <td>CRD003b</td>\n      <td>1</td>\n      <td>big</td>\n      <td>0.081555</td>\n    </tr>\n    <tr>\n      <th>2</th>\n      <td>CRD003b-02-2</td>\n      <td>CRD003b</td>\n      <td>1</td>\n      <td>full</td>\n      <td>0.048833</td>\n    </tr>\n    <tr>\n      <th>3</th>\n      <td>CRD003b-02-2</td>\n      <td>CRD003b</td>\n      <td>2</td>\n      <td>small</td>\n      <td>0.204172</td>\n    </tr>\n    <tr>\n      <th>4</th>\n      <td>CRD003b-02-2</td>\n      <td>CRD003b</td>\n      <td>2</td>\n      <td>big</td>\n      <td>0.242648</td>\n    </tr>\n  </tbody>\n</table>\n</div>"
     },
     "execution_count": 3,
     "metadata": {},
     "output_type": "execute_result"
    }
   ],
   "source": [
    "# New firing rates, the file is a misnomer, it has not deltas\n",
    "fr_DF_file = pl.Path(config['paths']['analysis_cache']) / f'220808_pupil_fr_by_instance'\n",
    "first_ord_DF = jl.load(fr_DF_file\n",
    "                       ).query(\"part == 'probe' and chunk == 'full'\"\n",
    "                               # \" and pupil != 'full'\"\n",
    "                               ).drop(columns=['chunk', 'part', 'metric']\n",
    "                                      ).reset_index(drop=True)\n",
    "\n",
    "first_ord_DF = first_ord_DF.groupby(['id', 'site', 'probe', 'pupil'],\n",
    "                                    observed=True, dropna=True).agg(value=('value', np.nanmean)).reset_index()\n",
    "\n",
    "print(first_ord_DF.shape)\n",
    "first_ord_DF.head()"
   ],
   "metadata": {
    "collapsed": false,
    "pycharm": {
     "name": "#%%\n"
    }
   }
  },
  {
   "cell_type": "code",
   "execution_count": 4,
   "outputs": [
    {
     "data": {
      "text/plain": "pupil            id     site probe       big      full     small  mod_coeff  \\\n0      CRD003b-02-2  CRD003b     1  0.081555  0.048833  0.011436   0.754032   \n1      CRD003b-02-2  CRD003b     2  0.242648  0.224692  0.204172   0.086109   \n2      CRD003b-02-2  CRD003b     3  0.058901  0.056888  0.054586   0.038022   \n3      CRD003b-02-2  CRD003b     4 -0.104708 -0.102863 -0.100753   0.019251   \n4      CRD003b-03-1  CRD003b     1 -0.024245 -0.063753 -0.108905  -0.635821   \n\npupil  mod_coeff_corrected  abs_mod_coeff  abs_mod_coeff_corrected  \n0                 0.754032       0.754032                 0.754032  \n1                 0.086109       0.086109                 0.086109  \n2                 0.038022       0.038022                 0.038022  \n3                -0.019251       0.019251                 0.019251  \n4                 0.635821       0.635821                 0.635821  ",
      "text/html": "<div>\n<style scoped>\n    .dataframe tbody tr th:only-of-type {\n        vertical-align: middle;\n    }\n\n    .dataframe tbody tr th {\n        vertical-align: top;\n    }\n\n    .dataframe thead th {\n        text-align: right;\n    }\n</style>\n<table border=\"1\" class=\"dataframe\">\n  <thead>\n    <tr style=\"text-align: right;\">\n      <th>pupil</th>\n      <th>id</th>\n      <th>site</th>\n      <th>probe</th>\n      <th>big</th>\n      <th>full</th>\n      <th>small</th>\n      <th>mod_coeff</th>\n      <th>mod_coeff_corrected</th>\n      <th>abs_mod_coeff</th>\n      <th>abs_mod_coeff_corrected</th>\n    </tr>\n  </thead>\n  <tbody>\n    <tr>\n      <th>0</th>\n      <td>CRD003b-02-2</td>\n      <td>CRD003b</td>\n      <td>1</td>\n      <td>0.081555</td>\n      <td>0.048833</td>\n      <td>0.011436</td>\n      <td>0.754032</td>\n      <td>0.754032</td>\n      <td>0.754032</td>\n      <td>0.754032</td>\n    </tr>\n    <tr>\n      <th>1</th>\n      <td>CRD003b-02-2</td>\n      <td>CRD003b</td>\n      <td>2</td>\n      <td>0.242648</td>\n      <td>0.224692</td>\n      <td>0.204172</td>\n      <td>0.086109</td>\n      <td>0.086109</td>\n      <td>0.086109</td>\n      <td>0.086109</td>\n    </tr>\n    <tr>\n      <th>2</th>\n      <td>CRD003b-02-2</td>\n      <td>CRD003b</td>\n      <td>3</td>\n      <td>0.058901</td>\n      <td>0.056888</td>\n      <td>0.054586</td>\n      <td>0.038022</td>\n      <td>0.038022</td>\n      <td>0.038022</td>\n      <td>0.038022</td>\n    </tr>\n    <tr>\n      <th>3</th>\n      <td>CRD003b-02-2</td>\n      <td>CRD003b</td>\n      <td>4</td>\n      <td>-0.104708</td>\n      <td>-0.102863</td>\n      <td>-0.100753</td>\n      <td>0.019251</td>\n      <td>-0.019251</td>\n      <td>0.019251</td>\n      <td>0.019251</td>\n    </tr>\n    <tr>\n      <th>4</th>\n      <td>CRD003b-03-1</td>\n      <td>CRD003b</td>\n      <td>1</td>\n      <td>-0.024245</td>\n      <td>-0.063753</td>\n      <td>-0.108905</td>\n      <td>-0.635821</td>\n      <td>0.635821</td>\n      <td>0.635821</td>\n      <td>0.635821</td>\n    </tr>\n  </tbody>\n</table>\n</div>"
     },
     "execution_count": 4,
     "metadata": {},
     "output_type": "execute_result"
    }
   ],
   "source": [
    "pivoted_fo = first_ord_DF.pivot_table(index=['id', 'site', 'probe', ],\n",
    "                                      columns='pupil', values='value',\n",
    "                                      dropna=True, observed=True).reset_index().copy()\n",
    "pivoted_fo['mod_coeff'] = (pivoted_fo['big'] - pivoted_fo['small']) / (pivoted_fo['big'] + pivoted_fo['small'])\n",
    "pivoted_fo['mod_coeff_corrected'] = (pivoted_fo['big'] - pivoted_fo['small']) / \\\n",
    "                                    (np.abs(pivoted_fo['big']) + np.abs(pivoted_fo['small']))\n",
    "\n",
    "pivoted_fo['abs_mod_coeff'] = np.abs(pivoted_fo['mod_coeff'])\n",
    "pivoted_fo['abs_mod_coeff_corrected'] = np.abs(pivoted_fo['mod_coeff_corrected'])\n",
    "\n",
    "pivoted_fo.head()"
   ],
   "metadata": {
    "collapsed": false,
    "pycharm": {
     "name": "#%%\n"
    }
   }
  },
  {
   "cell_type": "markdown",
   "source": [
    "# Second order effects\n",
    "how pupil size is correlated with context effects\n",
    "\n",
    "having found a handful of neurons that are worth looking at, now try to determine the effect of these big pupil\n",
    "changes in the contextual modulation.\n",
    "1. get second order data i.e. delta FR as a funcion of pupil size\n",
    "2. taking care of flippign delta FR so all are possitive for the pupil independent fr\n",
    "3. properly casting the data types to save e on memory\n",
    "4. filter by signiricant instancese\n",
    "5. order by first order effects\n",
    "6. plotting only the best examples"
   ],
   "metadata": {
    "collapsed": false
   }
  },
  {
   "cell_type": "code",
   "execution_count": 8,
   "outputs": [
    {
     "name": "stdout",
     "output_type": "stream",
     "text": [
      "(1646550, 9)\n"
     ]
    },
    {
     "data": {
      "text/plain": "             id     site chunk probe  pupil context_pair  delta_fr\n0  CRD003b-02-2  CRD003b     A     1  small        00_01 -0.057533\n1  CRD003b-02-2  CRD003b     A     1    big        00_01 -0.050341\n2  CRD003b-02-2  CRD003b     A     1   full        00_01 -0.053698\n3  CRD003b-02-2  CRD003b     A     2  small        00_01  0.000000\n4  CRD003b-02-2  CRD003b     A     2    big        00_01  0.100683",
      "text/html": "<div>\n<style scoped>\n    .dataframe tbody tr th:only-of-type {\n        vertical-align: middle;\n    }\n\n    .dataframe tbody tr th {\n        vertical-align: top;\n    }\n\n    .dataframe thead th {\n        text-align: right;\n    }\n</style>\n<table border=\"1\" class=\"dataframe\">\n  <thead>\n    <tr style=\"text-align: right;\">\n      <th></th>\n      <th>id</th>\n      <th>site</th>\n      <th>chunk</th>\n      <th>probe</th>\n      <th>pupil</th>\n      <th>context_pair</th>\n      <th>delta_fr</th>\n    </tr>\n  </thead>\n  <tbody>\n    <tr>\n      <th>0</th>\n      <td>CRD003b-02-2</td>\n      <td>CRD003b</td>\n      <td>A</td>\n      <td>1</td>\n      <td>small</td>\n      <td>00_01</td>\n      <td>-0.057533</td>\n    </tr>\n    <tr>\n      <th>1</th>\n      <td>CRD003b-02-2</td>\n      <td>CRD003b</td>\n      <td>A</td>\n      <td>1</td>\n      <td>big</td>\n      <td>00_01</td>\n      <td>-0.050341</td>\n    </tr>\n    <tr>\n      <th>2</th>\n      <td>CRD003b-02-2</td>\n      <td>CRD003b</td>\n      <td>A</td>\n      <td>1</td>\n      <td>full</td>\n      <td>00_01</td>\n      <td>-0.053698</td>\n    </tr>\n    <tr>\n      <th>3</th>\n      <td>CRD003b-02-2</td>\n      <td>CRD003b</td>\n      <td>A</td>\n      <td>2</td>\n      <td>small</td>\n      <td>00_01</td>\n      <td>0.000000</td>\n    </tr>\n    <tr>\n      <th>4</th>\n      <td>CRD003b-02-2</td>\n      <td>CRD003b</td>\n      <td>A</td>\n      <td>2</td>\n      <td>big</td>\n      <td>00_01</td>\n      <td>0.100683</td>\n    </tr>\n  </tbody>\n</table>\n</div>"
     },
     "execution_count": 8,
     "metadata": {},
     "output_type": "execute_result"
    }
   ],
   "source": [
    "fr_DF_file = pl.Path(config['paths']['analysis_cache']) / f'220808_pupil_fr_by_instance'\n",
    "second_ord_DF = jl.load(fr_DF_file\n",
    "                        ).query(\"part == 'probe'\"\n",
    "                                ).reset_index(drop=True)\n",
    "\n",
    "print(second_ord_DF.shape)\n",
    "second_ord_DF.head()\n",
    "\n",
    "# Calculate delta firing rate for pairs of contexts\n",
    "second_ord_DF = second_ord_DF.pivot_table(index=['id', 'site', 'chunk', 'probe', 'pupil'], columns=['context'],\n",
    "                                          values='value', aggfunc='first', dropna=True, observed=True)\n",
    "\n",
    "n_comb = int(factorial(second_ord_DF.shape[1]) /\n",
    "             (2 * factorial(second_ord_DF.shape[1] - 2)))\n",
    "ctx_pair_R = np.full((second_ord_DF.shape[0], n_comb), np.nan)\n",
    "new_cols = list()\n",
    "for pr_idx, (c0, c1) in enumerate(itt.combinations(second_ord_DF.columns, r=2)):\n",
    "    new_cols.append(f'{c0:02}_{c1:02}')\n",
    "    ctx_pair_R[:, pr_idx] = second_ord_DF.values[:, c0] - second_ord_DF.values[:, c1]\n",
    "\n",
    "# Melts back into long format and ensures column typing for memory efficiency\n",
    "second_ord_DF = pd.DataFrame(index=second_ord_DF.index, columns=new_cols, data=ctx_pair_R\n",
    "                             ).melt(var_name='context_pair', value_name='delta_fr',\n",
    "                                    ignore_index=False).dropna().reset_index()\n",
    "second_ord_DF['context_pair'] = second_ord_DF['context_pair'].astype('category')\n",
    "second_ord_DF.head()"
   ],
   "metadata": {
    "collapsed": false,
    "pycharm": {
     "name": "#%%\n"
    }
   }
  },
  {
   "cell_type": "code",
   "execution_count": 9,
   "outputs": [
    {
     "name": "stdout",
     "output_type": "stream",
     "text": [
      "(2366273, 15)\n"
     ]
    },
    {
     "data": {
      "text/plain": "pupil            id     site context_pair probe chunk       big      full  \\\n0      CRD003b-02-2  CRD003b        00_01     1     A -0.050341 -0.053698   \n1      CRD003b-02-2  CRD003b        00_01     1     B  0.100683  0.107395   \n2      CRD003b-02-2  CRD003b        00_01     1     C  0.805463  0.402732   \n3      CRD003b-02-2  CRD003b        00_01     1     D  0.251707  0.053698   \n4      CRD003b-02-2  CRD003b        00_01     1  full  0.276878  0.127532   \n\npupil     small  small_flipped  big_flipped  full_flipped  mod_coeff  \\\n0     -0.057533       0.057533     0.050341      0.053698  -0.066667   \n1      0.115066       0.115066     0.100683      0.107395  -0.066667   \n2     -0.057533      -0.057533     0.805463      0.402732   1.153846   \n3     -0.172599      -0.172599     0.251707      0.053698   5.363637   \n4     -0.043150      -0.043150     0.276878      0.127532   1.369231   \n\npupil  mod_coeff_corrected  abs_mod_coeff  abs_mod_coeff_corrected  \n0                -0.066667       0.066667                 0.066667  \n1                -0.066667       0.066667                 0.066667  \n2                 1.000000       1.153846                 1.000000  \n3                 1.000000       5.363637                 1.000000  \n4                 1.000000       1.369231                 1.000000  ",
      "text/html": "<div>\n<style scoped>\n    .dataframe tbody tr th:only-of-type {\n        vertical-align: middle;\n    }\n\n    .dataframe tbody tr th {\n        vertical-align: top;\n    }\n\n    .dataframe thead th {\n        text-align: right;\n    }\n</style>\n<table border=\"1\" class=\"dataframe\">\n  <thead>\n    <tr style=\"text-align: right;\">\n      <th>pupil</th>\n      <th>id</th>\n      <th>site</th>\n      <th>context_pair</th>\n      <th>probe</th>\n      <th>chunk</th>\n      <th>big</th>\n      <th>full</th>\n      <th>small</th>\n      <th>small_flipped</th>\n      <th>big_flipped</th>\n      <th>full_flipped</th>\n      <th>mod_coeff</th>\n      <th>mod_coeff_corrected</th>\n      <th>abs_mod_coeff</th>\n      <th>abs_mod_coeff_corrected</th>\n    </tr>\n  </thead>\n  <tbody>\n    <tr>\n      <th>0</th>\n      <td>CRD003b-02-2</td>\n      <td>CRD003b</td>\n      <td>00_01</td>\n      <td>1</td>\n      <td>A</td>\n      <td>-0.050341</td>\n      <td>-0.053698</td>\n      <td>-0.057533</td>\n      <td>0.057533</td>\n      <td>0.050341</td>\n      <td>0.053698</td>\n      <td>-0.066667</td>\n      <td>-0.066667</td>\n      <td>0.066667</td>\n      <td>0.066667</td>\n    </tr>\n    <tr>\n      <th>1</th>\n      <td>CRD003b-02-2</td>\n      <td>CRD003b</td>\n      <td>00_01</td>\n      <td>1</td>\n      <td>B</td>\n      <td>0.100683</td>\n      <td>0.107395</td>\n      <td>0.115066</td>\n      <td>0.115066</td>\n      <td>0.100683</td>\n      <td>0.107395</td>\n      <td>-0.066667</td>\n      <td>-0.066667</td>\n      <td>0.066667</td>\n      <td>0.066667</td>\n    </tr>\n    <tr>\n      <th>2</th>\n      <td>CRD003b-02-2</td>\n      <td>CRD003b</td>\n      <td>00_01</td>\n      <td>1</td>\n      <td>C</td>\n      <td>0.805463</td>\n      <td>0.402732</td>\n      <td>-0.057533</td>\n      <td>-0.057533</td>\n      <td>0.805463</td>\n      <td>0.402732</td>\n      <td>1.153846</td>\n      <td>1.000000</td>\n      <td>1.153846</td>\n      <td>1.000000</td>\n    </tr>\n    <tr>\n      <th>3</th>\n      <td>CRD003b-02-2</td>\n      <td>CRD003b</td>\n      <td>00_01</td>\n      <td>1</td>\n      <td>D</td>\n      <td>0.251707</td>\n      <td>0.053698</td>\n      <td>-0.172599</td>\n      <td>-0.172599</td>\n      <td>0.251707</td>\n      <td>0.053698</td>\n      <td>5.363637</td>\n      <td>1.000000</td>\n      <td>5.363637</td>\n      <td>1.000000</td>\n    </tr>\n    <tr>\n      <th>4</th>\n      <td>CRD003b-02-2</td>\n      <td>CRD003b</td>\n      <td>00_01</td>\n      <td>1</td>\n      <td>full</td>\n      <td>0.276878</td>\n      <td>0.127532</td>\n      <td>-0.043150</td>\n      <td>-0.043150</td>\n      <td>0.276878</td>\n      <td>0.127532</td>\n      <td>1.369231</td>\n      <td>1.000000</td>\n      <td>1.369231</td>\n      <td>1.000000</td>\n    </tr>\n  </tbody>\n</table>\n</div>"
     },
     "execution_count": 9,
     "metadata": {},
     "output_type": "execute_result"
    }
   ],
   "source": [
    "pivoted_so = second_ord_DF.pivot_table(index=['id', 'site', 'context_pair', 'probe', 'chunk'],\n",
    "                                       columns='pupil', values='delta_fr', aggfunc='first',\n",
    "                                       dropna=True, observed=True).reset_index()\n",
    "\n",
    "# flips firing rates\n",
    "flipper = (pivoted_so.full.values > 0) * 2 - 1\n",
    "pivoted_so['small_flipped'] = pivoted_so['small'] * flipper\n",
    "pivoted_so['big_flipped'] = pivoted_so['big'] * flipper\n",
    "pivoted_so['full_flipped'] = pivoted_so['full'] * flipper\n",
    "del (flipper)\n",
    "\n",
    "pivoted_so['mod_coeff'] = (pivoted_so['big_flipped'] - pivoted_so['small_flipped']) / \\\n",
    "                          (pivoted_so['big_flipped'] + pivoted_so['small_flipped'])\n",
    "\n",
    "pivoted_so['mod_coeff_corrected'] = (pivoted_so['big_flipped'] - pivoted_so['small_flipped']) / \\\n",
    "                                    (np.abs(pivoted_so['big_flipped']) + np.abs(pivoted_so['small_flipped']))\n",
    "\n",
    "pivoted_so['abs_mod_coeff'] = np.abs(pivoted_so['mod_coeff'])\n",
    "pivoted_so['abs_mod_coeff_corrected'] = np.abs(pivoted_so['mod_coeff_corrected'])\n",
    "\n",
    "# some instances of zero FR and no difference between pupils leads to nan and inf mod_coeff, removes those rows\n",
    "pivoted_so.replace([-np.inf, np.inf], np.nan, inplace=True)\n",
    "pivoted_so.dropna(axis='index', inplace=True)\n",
    "\n",
    "print(pivoted_so.shape)\n",
    "pivoted_so.head()"
   ],
   "metadata": {
    "collapsed": false,
    "pycharm": {
     "name": "#%%\n"
    }
   }
  },
  {
   "cell_type": "markdown",
   "source": [
    "### filter for contextual significance"
   ],
   "metadata": {
    "collapsed": false
   }
  },
  {
   "cell_type": "code",
   "execution_count": 10,
   "outputs": [
    {
     "data": {
      "text/plain": "             id context_pair probe       value     site region chunk\n0  TNC008a-01-1        00_01     1  209.010117  TNC008a     A1  full\n1  TNC008a-05-1        00_01     1   97.002335  TNC008a     A1  full\n2  TNC008a-06-2        00_01     1  399.907379  TNC008a     A1  full\n3  TNC008a-15-1        00_01     1  133.188477  TNC008a     A1  full\n4  TNC008a-23-1        00_01     1  105.714561  TNC008a     A1  full",
      "text/html": "<div>\n<style scoped>\n    .dataframe tbody tr th:only-of-type {\n        vertical-align: middle;\n    }\n\n    .dataframe tbody tr th {\n        vertical-align: top;\n    }\n\n    .dataframe thead th {\n        text-align: right;\n    }\n</style>\n<table border=\"1\" class=\"dataframe\">\n  <thead>\n    <tr style=\"text-align: right;\">\n      <th></th>\n      <th>id</th>\n      <th>context_pair</th>\n      <th>probe</th>\n      <th>value</th>\n      <th>site</th>\n      <th>region</th>\n      <th>chunk</th>\n    </tr>\n  </thead>\n  <tbody>\n    <tr>\n      <th>0</th>\n      <td>TNC008a-01-1</td>\n      <td>00_01</td>\n      <td>1</td>\n      <td>209.010117</td>\n      <td>TNC008a</td>\n      <td>A1</td>\n      <td>full</td>\n    </tr>\n    <tr>\n      <th>1</th>\n      <td>TNC008a-05-1</td>\n      <td>00_01</td>\n      <td>1</td>\n      <td>97.002335</td>\n      <td>TNC008a</td>\n      <td>A1</td>\n      <td>full</td>\n    </tr>\n    <tr>\n      <th>2</th>\n      <td>TNC008a-06-2</td>\n      <td>00_01</td>\n      <td>1</td>\n      <td>399.907379</td>\n      <td>TNC008a</td>\n      <td>A1</td>\n      <td>full</td>\n    </tr>\n    <tr>\n      <th>3</th>\n      <td>TNC008a-15-1</td>\n      <td>00_01</td>\n      <td>1</td>\n      <td>133.188477</td>\n      <td>TNC008a</td>\n      <td>A1</td>\n      <td>full</td>\n    </tr>\n    <tr>\n      <th>4</th>\n      <td>TNC008a-23-1</td>\n      <td>00_01</td>\n      <td>1</td>\n      <td>105.714561</td>\n      <td>TNC008a</td>\n      <td>A1</td>\n      <td>full</td>\n    </tr>\n  </tbody>\n</table>\n</div>"
     },
     "execution_count": 10,
     "metadata": {},
     "output_type": "execute_result"
    }
   ],
   "source": [
    " # Cluster Mass significant contextual effects\n",
    "summary_DF_file = pl.Path(config['paths']['analysis_cache']) / f'220719_chunked_amplitude_DF'\n",
    "\n",
    "metrics = ['integral', 'integral_A', 'integral_B', 'integral_C', 'integral_D', ]\n",
    "DF = jl.load(summary_DF_file).query(f\"source == 'real' and metric in {metrics} and \"\n",
    "                                    f\"cluster_threshold == 0.05 and mult_comp_corr == 'bf_cp' and \"\n",
    "                                    f\"analysis == 'SC' and \"\n",
    "                                    f\"diff_metric == 'delta_FR' and \"\n",
    "                                    f\"value > 0\")\n",
    "\n",
    "DF['chunk'] = DF['metric'].str.split('_').str[-1]\n",
    "DF.loc[:, 'chunk'].replace({'integral': 'full'}, inplace=True)\n",
    "\n",
    "DF.drop(columns=['source', 'cluster_threshold', 'mult_comp_corr', 'diff_metric',\n",
    "                 'analysis', 'metric', 'stim_count', ], inplace=True)\n",
    "DF.reset_index(drop=True, inplace=True)\n",
    "\n",
    "for col in ['id', 'context_pair', 'probe', 'site', 'region', 'chunk']:\n",
    "    DF[col] = DF[col].astype('category')\n",
    "\n",
    "DF['value'] = pd.to_numeric(DF.value, downcast='float')\n",
    "DF.head()"
   ],
   "metadata": {
    "collapsed": false,
    "pycharm": {
     "name": "#%%\n"
    }
   }
  },
  {
   "cell_type": "markdown",
   "source": [
    "#### merge tables of first, second order and signif contextual effects"
   ],
   "metadata": {
    "collapsed": false
   }
  },
  {
   "cell_type": "code",
   "execution_count": 11,
   "outputs": [
    {
     "name": "stdout",
     "output_type": "stream",
     "text": [
      "(106312, 24)\n"
     ]
    },
    {
     "data": {
      "text/plain": "             id     site probe    big_fo   full_fo  small_fo  mod_coeff_fo  \\\n0  CRD003b-03-1  CRD003b     4  0.394620  0.376417  0.355615      0.051991   \n1  CRD003b-03-1  CRD003b     4  0.394620  0.376417  0.355615      0.051991   \n2  CRD003b-03-1  CRD003b     4  0.394620  0.376417  0.355615      0.051991   \n3  CRD003b-05-1  CRD003b     2 -0.059405 -0.049900 -0.039038      0.206898   \n4  CRD003b-05-1  CRD003b     2 -0.059405 -0.049900 -0.039038      0.206898   \n\n   mod_coeff_corrected_fo  abs_mod_coeff_fo  abs_mod_coeff_corrected_fo  ...  \\\n0                0.051991          0.051991                    0.051991  ...   \n1                0.051991          0.051991                    0.051991  ...   \n2                0.051991          0.051991                    0.051991  ...   \n3               -0.206898          0.206898                    0.206898  ...   \n4               -0.206898          0.206898                    0.206898  ...   \n\n   small_so small_flipped  big_flipped  full_flipped  mod_coeff_so  \\\n0 -0.496433      0.496433     0.868757      0.695006      0.272727   \n1 -1.063784      1.063784     1.054920      1.059057     -0.004184   \n2 -0.833298      0.833298     0.899784      0.868757      0.038363   \n3  0.257275      0.257275     0.375193      0.320165      0.186441   \n4 -0.085758     -0.085758     0.206356      0.070036      2.422222   \n\n   mod_coeff_corrected_so  abs_mod_coeff_so  abs_mod_coeff_corrected_so  \\\n0                0.272727          0.272727                    0.272727   \n1               -0.004184          0.004184                    0.004184   \n2                0.038363          0.038363                    0.038363   \n3                0.186441          0.186441                    0.186441   \n4                1.000000          2.422222                    1.000000   \n\n   T-score_integral  region  \n0        190.299225      A1  \n1        165.477585      A1  \n2        355.776825      A1  \n3         95.048851      A1  \n4         95.048851      A1  \n\n[5 rows x 24 columns]",
      "text/html": "<div>\n<style scoped>\n    .dataframe tbody tr th:only-of-type {\n        vertical-align: middle;\n    }\n\n    .dataframe tbody tr th {\n        vertical-align: top;\n    }\n\n    .dataframe thead th {\n        text-align: right;\n    }\n</style>\n<table border=\"1\" class=\"dataframe\">\n  <thead>\n    <tr style=\"text-align: right;\">\n      <th></th>\n      <th>id</th>\n      <th>site</th>\n      <th>probe</th>\n      <th>big_fo</th>\n      <th>full_fo</th>\n      <th>small_fo</th>\n      <th>mod_coeff_fo</th>\n      <th>mod_coeff_corrected_fo</th>\n      <th>abs_mod_coeff_fo</th>\n      <th>abs_mod_coeff_corrected_fo</th>\n      <th>...</th>\n      <th>small_so</th>\n      <th>small_flipped</th>\n      <th>big_flipped</th>\n      <th>full_flipped</th>\n      <th>mod_coeff_so</th>\n      <th>mod_coeff_corrected_so</th>\n      <th>abs_mod_coeff_so</th>\n      <th>abs_mod_coeff_corrected_so</th>\n      <th>T-score_integral</th>\n      <th>region</th>\n    </tr>\n  </thead>\n  <tbody>\n    <tr>\n      <th>0</th>\n      <td>CRD003b-03-1</td>\n      <td>CRD003b</td>\n      <td>4</td>\n      <td>0.394620</td>\n      <td>0.376417</td>\n      <td>0.355615</td>\n      <td>0.051991</td>\n      <td>0.051991</td>\n      <td>0.051991</td>\n      <td>0.051991</td>\n      <td>...</td>\n      <td>-0.496433</td>\n      <td>0.496433</td>\n      <td>0.868757</td>\n      <td>0.695006</td>\n      <td>0.272727</td>\n      <td>0.272727</td>\n      <td>0.272727</td>\n      <td>0.272727</td>\n      <td>190.299225</td>\n      <td>A1</td>\n    </tr>\n    <tr>\n      <th>1</th>\n      <td>CRD003b-03-1</td>\n      <td>CRD003b</td>\n      <td>4</td>\n      <td>0.394620</td>\n      <td>0.376417</td>\n      <td>0.355615</td>\n      <td>0.051991</td>\n      <td>0.051991</td>\n      <td>0.051991</td>\n      <td>0.051991</td>\n      <td>...</td>\n      <td>-1.063784</td>\n      <td>1.063784</td>\n      <td>1.054920</td>\n      <td>1.059057</td>\n      <td>-0.004184</td>\n      <td>-0.004184</td>\n      <td>0.004184</td>\n      <td>0.004184</td>\n      <td>165.477585</td>\n      <td>A1</td>\n    </tr>\n    <tr>\n      <th>2</th>\n      <td>CRD003b-03-1</td>\n      <td>CRD003b</td>\n      <td>4</td>\n      <td>0.394620</td>\n      <td>0.376417</td>\n      <td>0.355615</td>\n      <td>0.051991</td>\n      <td>0.051991</td>\n      <td>0.051991</td>\n      <td>0.051991</td>\n      <td>...</td>\n      <td>-0.833298</td>\n      <td>0.833298</td>\n      <td>0.899784</td>\n      <td>0.868757</td>\n      <td>0.038363</td>\n      <td>0.038363</td>\n      <td>0.038363</td>\n      <td>0.038363</td>\n      <td>355.776825</td>\n      <td>A1</td>\n    </tr>\n    <tr>\n      <th>3</th>\n      <td>CRD003b-05-1</td>\n      <td>CRD003b</td>\n      <td>2</td>\n      <td>-0.059405</td>\n      <td>-0.049900</td>\n      <td>-0.039038</td>\n      <td>0.206898</td>\n      <td>-0.206898</td>\n      <td>0.206898</td>\n      <td>0.206898</td>\n      <td>...</td>\n      <td>0.257275</td>\n      <td>0.257275</td>\n      <td>0.375193</td>\n      <td>0.320165</td>\n      <td>0.186441</td>\n      <td>0.186441</td>\n      <td>0.186441</td>\n      <td>0.186441</td>\n      <td>95.048851</td>\n      <td>A1</td>\n    </tr>\n    <tr>\n      <th>4</th>\n      <td>CRD003b-05-1</td>\n      <td>CRD003b</td>\n      <td>2</td>\n      <td>-0.059405</td>\n      <td>-0.049900</td>\n      <td>-0.039038</td>\n      <td>0.206898</td>\n      <td>-0.206898</td>\n      <td>0.206898</td>\n      <td>0.206898</td>\n      <td>...</td>\n      <td>-0.085758</td>\n      <td>-0.085758</td>\n      <td>0.206356</td>\n      <td>0.070036</td>\n      <td>2.422222</td>\n      <td>1.000000</td>\n      <td>2.422222</td>\n      <td>1.000000</td>\n      <td>95.048851</td>\n      <td>A1</td>\n    </tr>\n  </tbody>\n</table>\n<p>5 rows × 24 columns</p>\n</div>"
     },
     "execution_count": 11,
     "metadata": {},
     "output_type": "execute_result"
    }
   ],
   "source": [
    "full_merge = pd.merge(pivoted_fo, pivoted_so, on=['id', 'site', 'probe'], suffixes=('_fo', '_so'), validate='1:m')\n",
    "\n",
    "full_merge = pd.merge(full_merge, DF, on=['id', 'site', 'context_pair', 'probe', 'chunk', ], validate='m:1')\n",
    "full_merge.rename(columns={'value': 'T-score_integral'}, inplace=True)\n",
    "print(full_merge.shape)\n",
    "full_merge.head()"
   ],
   "metadata": {
    "collapsed": false,
    "pycharm": {
     "name": "#%%\n"
    }
   }
  },
  {
   "cell_type": "markdown",
   "source": [
    "# First and second order effects\n",
    "there is a weak correlation between them early on, and a negative one at later stages"
   ],
   "metadata": {
    "collapsed": false
   }
  },
  {
   "cell_type": "code",
   "execution_count": null,
   "outputs": [],
   "source": [
    "# statistical tests for the regression across all time chunks\n",
    "chunks = ['A', 'B', 'C', 'D']\n",
    "fig = make_subplots(1, 4, shared_xaxes=True, shared_yaxes=True,\n",
    "                    subplot_titles=chunks)\n",
    "\n",
    "for coln, chunk in enumerate(chunks):\n",
    "    panelname = f\"first_vs_second_order_{chunk}\"\n",
    "\n",
    "    toplot = full_merge.query(f\"small_fo > 0.1  and big_fo > 0.1\"\n",
    "                              f\" and ((full_so <= -0.3) or (0.3 <= full_so))\"\n",
    "                              f\" and chunk == '{chunk}'\"\n",
    "                              ).copy()\n",
    "\n",
    "    x = toplot['mod_coeff_corrected_fo'].values\n",
    "    y = toplot['mod_coeff_corrected_so'].values\n",
    "\n",
    "    ####### statistical tests #######\n",
    "    print(f'\\n###########\\nchunk {chunk}, n_neuron={toplot.id.nunique()}, n_instanceses={len(x)}')\n",
    "    print(f'mean MI: first_ord={x.mean()}, second_ord{y.mean()}')\n",
    "    # marginal differece from zero\n",
    "    for marg, vctr in zip(['FR_MI', 'ctx_MI'], [x, y]):\n",
    "        out = sst.ttest_1samp(vctr, 0)\n",
    "        print(f'{marg}: {out}')\n",
    "\n",
    "    # correaltion\n",
    "    print(f\"first vs second order modulation index:\"\n",
    "          f\"\\n{sst.linregress(x, y)}\")\n",
    "\n",
    "    # main scatter\n",
    "    xm, ym = decimate_xy(x, y, 2000, by_quantiles=False, rng=np.random.default_rng(42))\n",
    "    print(len(xm))\n",
    "    _ = fig.add_trace(go.Scatter(x=xm, y=ym, mode='markers',\n",
    "                                 marker=dict(size=1,\n",
    "                                             opacity=0.3,\n",
    "                                             color='black'),\n",
    "                                 showlegend=False),\n",
    "                      row=1, col=coln + 1)\n",
    "\n",
    "    # interval for unit and regression\n",
    "    interval = np.asarray([np.min([xm.min(), ym.min()]),\n",
    "                           np.max([xm.max(), ym.max()])])\n",
    "\n",
    "    # regression\n",
    "    reg = sst.linregress(x, y)\n",
    "    _ = fig.add_trace(go.Scatter(x=interval, y=interval * reg.slope + reg.intercept, mode='lines',\n",
    "                                 line=dict(dash='solid',\n",
    "                                           width=1,\n",
    "                                           color='black'),\n",
    "                                 showlegend=False),\n",
    "                      row=1, col=coln + 1)\n",
    "\n",
    "    # mean marker\n",
    "    _ = fig.add_trace(go.Scatter(x=[x.mean()],\n",
    "                                 y=[y.mean()],\n",
    "                                 mode='markers',\n",
    "                                 marker=dict(color='green',\n",
    "                                             size=4,\n",
    "                                             symbol='cross'),\n",
    "                                 showlegend=False),\n",
    "                      row=1, col=coln + 1)\n",
    "\n",
    "    fig.add_vline(x=0, line=dict(color='darkgray', dash='dot', width=1), opacity=1, row=1, col=coln + 1)\n",
    "    fig.add_hline(y=0, line=dict(color='darkgray', dash='dot', width=1), opacity=1, row=1, col=coln + 1)\n",
    "\n",
    "####### Formating #######\n",
    "w, h = 4, 1\n",
    "fig.update_layout(template='simple_white',\n",
    "                  width=96 * w, height=96 * h,\n",
    "                  margin=dict(l=10, r=10, t=10, b=10))\n",
    "\n",
    "fig.update_xaxes(tickfont_size=9,\n",
    "                 range=[-1, 1],\n",
    "                 tickmode='array',\n",
    "                 tickvals=[-1, 0, 1],\n",
    "                 ticktext=[-1, 0, 1],\n",
    "                 )\n",
    "fig.update_yaxes(tickfont_size=9,\n",
    "                 range=[-1, 1],\n",
    "                 tickmode='array',\n",
    "                 tickvals=[-1, 0, 1],\n",
    "                 ticktext=[-1, 0, 1],\n",
    "                 )\n",
    "\n",
    "fig.update_xaxes(title=dict(text='firing rate MI',\n",
    "                            font_size=10, standoff=0),\n",
    "                 col=1, row=1\n",
    "                 )\n",
    "fig.update_yaxes(title=dict(text='contextual effects MI',\n",
    "                            font_size=10, standoff=0),\n",
    "                 col=1, row=1,\n",
    "                 )\n",
    "\n",
    "filename = folder / 'sup_fig3_first_vs_second_ord_scatter_chunks'\n",
    "fig.write_image(filename.with_suffix('.svg'))\n",
    "\n",
    "fig.show(renderer='jpeg', scale=2)"
   ],
   "metadata": {
    "collapsed": false,
    "pycharm": {
     "name": "#%%\n"
    }
   }
  },
  {
   "cell_type": "markdown",
   "source": [
    "## Example PSTHs"
   ],
   "metadata": {
    "collapsed": false
   }
  },
  {
   "cell_type": "markdown",
   "source": [],
   "metadata": {
    "collapsed": false
   }
  },
  {
   "cell_type": "code",
   "execution_count": null,
   "outputs": [],
   "source": [
    "# first find an example, the following conditions have to be met\n",
    "# possitive big first order effects (on full duration)\n",
    "# possitive big second order effectse (on chunk A)\n",
    "# big contextual effecs\n",
    "\n",
    "tosort = full_merge.query(\"small_fo > 0.1  and big_fo > 0.1\"\n",
    "                          \" and ((full_so <= -0.3) or (0.3 <= full_so))\"\n",
    "                          \" and mod_coeff_corrected_fo > 0\"\n",
    "                          \" and mod_coeff_corrected_so > 0\"\n",
    "                          \" and chunk == 'A'\").loc[:, ['id', 'context_pair', 'probe',\n",
    "                                                       'mod_coeff_corrected_fo', 'mod_coeff_corrected_so',\n",
    "                                                       'T-score_integral']].copy()\n",
    "tosort['ctx_mod_norm'] = tosort['T-score_integral'] / tosort['T-score_integral'].max()\n",
    "tosort['euc_dist'] = np.linalg.norm(tosort.loc[:,\n",
    "                                    ['mod_coeff_corrected_fo',\n",
    "                                     'mod_coeff_corrected_so',\n",
    "                                     'ctx_mod_norm']].values,\n",
    "                                    axis=1)\n",
    "\n",
    "tosort.sort_values(by='euc_dist', ascending=False, inplace=True, ignore_index=True)\n",
    "tosort.head()"
   ],
   "metadata": {
    "collapsed": false,
    "pycharm": {
     "name": "#%%\n"
    }
   }
  },
  {
   "cell_type": "code",
   "execution_count": 29,
   "outputs": [
    {
     "data": {
      "image/png": "[encoded data removed]",
      "text/plain": "<IPython.core.display.Image object>"
     },
     "execution_count": 29,
     "metadata": {},
     "output_type": "execute_result"
    }
   ],
   "source": [
    "ii = 0\n",
    "cellid = tosort.loc[ii, 'id']\n",
    "contexts = [int(cc) for cc in tosort.loc[ii, 'context_pair'].split('_')]\n",
    "probe = tosort.loc[ii, 'probe']\n",
    "\n",
    "fig = make_subplots(1, 3, shared_xaxes='all')\n",
    "\n",
    "# big pupil\n",
    "f = plot_raw_pair(cellid, contexts, probe, raster_fs=20, colors=TENCOLOR,\n",
    "                  pupil='big', simplify=True, part='probe')\n",
    "f.update_traces(line=dict(width=1))\n",
    "f = f['data']\n",
    "fig.add_traces(f, cols=[1] * len(f), rows=[1] * len(f))\n",
    "\n",
    "# small pupil\n",
    "f = plot_raw_pair(cellid, contexts, probe, raster_fs=20, colors=TENCOLOR,\n",
    "                  pupil='small', simplify=True, part='probe')\n",
    "f.update_traces(line=dict(dash='dot', width=1), showlegend=False)\n",
    "f = f['data']\n",
    "fig.add_traces(f, cols=[2] * len(f), rows=[1] * len(f))\n",
    "\n",
    "# delta firing rates\n",
    "f = plot_pupil_so_effects(cellid, contexts, probe, raster_fs=20)\n",
    "f.update_traces(line=dict(width=1))\n",
    "\n",
    "f = f['data']\n",
    "fig.add_traces(f, cols=[3] * len(f), rows=[1] * len(f))\n",
    "\n",
    "w, h = 4.5, 1.5\n",
    "fig.update_layout(template='simple_white',\n",
    "                  width=96 * w, height=96 * h,\n",
    "                  margin=dict(l=10, r=10, t=10, b=10),\n",
    "\n",
    "                  yaxis_title_text='firin rate (Z-score)',\n",
    "                  yaxis2=dict(matches='y', showticklabels=False),\n",
    "                  yaxis3=dict(title_text='delta firing rate (Z-score)'),\n",
    "                  legend=dict(xanchor='right', x=1,\n",
    "                              yanchor='top', y=1,\n",
    "                              font_size=9,\n",
    "                              title=dict(text='')),\n",
    "                  )\n",
    "\n",
    "fig.update_xaxes(title=dict(text='time from probe onset (s)', font_size=10, standoff=0),\n",
    "                 tickfont_size=9)\n",
    "fig.update_yaxes(title=dict(font_size=10, standoff=0),\n",
    "                 tickfont_size=9,\n",
    "                 autorange=True)\n",
    "\n",
    "filename = folder / 'sup_fig3_psth_examples'\n",
    "fig.write_image(filename.with_suffix('.svg'))\n",
    "\n",
    "fig.show(renderer='jpeg', scale=2)"
   ],
   "metadata": {
    "collapsed": false,
    "pycharm": {
     "name": "#%%\n"
    }
   }
  }
 ],
 "metadata": {
  "kernelspec": {
   "display_name": "Python 3",
   "language": "python",
   "name": "python3"
  },
  "language_info": {
   "codemirror_mode": {
    "name": "ipython",
    "version": 2
   },
   "file_extension": ".py",
   "mimetype": "text/x-python",
   "name": "python",
   "nbconvert_exporter": "python",
   "pygments_lexer": "ipython2",
   "version": "2.7.6"
  }
 },
 "nbformat": 4,
 "nbformat_minor": 0
}
