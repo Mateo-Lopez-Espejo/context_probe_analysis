{
 "cells": [
  {
   "cell_type": "markdown",
   "metadata": {
    "collapsed": true,
    "pycharm": {
     "name": "#%% md\n"
    }
   },
   "source": [
    "# Teonancatl Penetration map\n",
    "## Right Hemisphere"
   ]
  },
  {
   "cell_type": "code",
   "execution_count": 1,
   "outputs": [
    {
     "name": "stderr",
     "output_type": "stream",
     "text": [
      "[nems.configs.defaults INFO] Saving log messages to /tmp/nems/NEMS 2021-05-04 100448.log\n"
     ]
    }
   ],
   "source": [
    "import pathlib as pl\n",
    "from nems_lbhb.penetration_map import penetration_map\n",
    "import matplotlib.pyplot as plt"
   ],
   "metadata": {
    "collapsed": false,
    "pycharm": {
     "name": "#%%\n"
    }
   }
  },
  {
   "cell_type": "code",
   "execution_count": 7,
   "outputs": [
    {
     "data": {
      "text/plain": "<Figure size 432x288 with 2 Axes>",
      "image/png": "[encoded data removed]"
     },
     "metadata": {
      "needs_background": "light"
     },
     "output_type": "display_data"
    }
   ],
   "source": [
    "sites = ['TNC001a', 'TNC002b', 'TNC003b']\n",
    "\n",
    "# Original landmark measurements\n",
    "# landmarks = {'viral0': [0.39, 5.29, 1.89, 0.70, 5.96, 1.12, 42, 0],\n",
    "#              'viral1': [0.39, 5.29, 1.89, 0.67, 6.14, 1.15, 42, 0]}\n",
    "\n",
    "# corrected to better align with corresponding penetrations\n",
    "landmarks = {'viral0': [0.39, 5.25, 1.37, 0.70, 5.96, 1.12, 42, 0],\n",
    "             'viral1': [0.39, 5.25, 1.37, 0.67, 6.14, 1.15, 42, 0]}\n",
    "\n",
    "# fig, coords = penetration_map(sites, equal_aspect=True, flip_X=True, flatten=False, landmarks=landmarks)\n",
    "fig, coords = penetration_map(sites, equal_aspect=True, flip_X=True, flatten=True, flip_YZ=True, landmarks=landmarks)\n",
    "fig.axes[0].grid()\n",
    "# saves the scatter\n",
    "mappath = pl.Path('/auto/data/lbhb/photos/Craniotomies/Teonancatl/TNC_RH_map.png')\n",
    "fig.savefig(mappath, transparent=True)\n",
    "\n"
   ],
   "metadata": {
    "collapsed": false,
    "pycharm": {
     "name": "#%%\n"
    }
   }
  }
 ],
 "metadata": {
  "kernelspec": {
   "display_name": "Python 3",
   "language": "python",
   "name": "python3"
  },
  "language_info": {
   "codemirror_mode": {
    "name": "ipython",
    "version": 2
   },
   "file_extension": ".py",
   "mimetype": "text/x-python",
   "name": "python",
   "nbconvert_exporter": "python",
   "pygments_lexer": "ipython2",
   "version": "2.7.6"
  }
 },
 "nbformat": 4,
 "nbformat_minor": 0
}