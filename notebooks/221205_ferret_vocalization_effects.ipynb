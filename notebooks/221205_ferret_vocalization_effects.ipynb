{
 "cells": [
  {
   "cell_type": "code",
   "execution_count": 22,
   "metadata": {
    "collapsed": true
   },
   "outputs": [],
   "source": [
    "import pathlib as pl\n",
    "from configparser import ConfigParser\n",
    "import re\n",
    "\n",
    "import pandas as pd\n",
    "from IPython.display import Image\n",
    "\n",
    "import joblib as jl\n",
    "import numpy as np\n",
    "import scipy.stats as sst\n",
    "from scikit_posthocs import posthoc_dunn\n",
    "import plotly.graph_objs as go\n",
    "from plotly.subplots import make_subplots\n",
    "\n",
    "from nems import db as nd\n",
    "\n",
    "from src.root_path import config_path, root_path\n",
    "from src.visualization.palette import *"
   ]
  },
  {
   "cell_type": "code",
   "execution_count": null,
   "outputs": [],
   "source": [
    "config = ConfigParser()\n",
    "config.read_file(open(config_path / 'settings.ini'))\n",
    "\n",
    "folder = root_path / 'reports' / 'figures' / 'paper'\n",
    "folder.mkdir(parents=True, exist_ok=True)"
   ],
   "metadata": {
    "collapsed": false,
    "pycharm": {
     "name": "#%%\n"
    }
   }
  },
  {
   "cell_type": "markdown",
   "source": [
    "# Loads information about sounds used per experiment"
   ],
   "metadata": {
    "collapsed": false
   }
  },
  {
   "cell_type": "code",
   "execution_count": 160,
   "outputs": [],
   "source": [
    "def add_named_sounds(in_df):\n",
    "    \"\"\"\n",
    "    Adds names for the two contexts and probe for every instance in the table\n",
    "\n",
    "    Args:\n",
    "        in_df: a pandas DF containing 'cellid', 'context_pair' and 'probe' columns\n",
    "\n",
    "    Returns:\n",
    "        out_df: a pandas DF, copy of in_df, with the extra columns 'named_ctx_0', 'named_ctx_1', 'named_probe'\n",
    "    \"\"\"\n",
    "\n",
    "    # create a map between the numbers of the sound indices and the sounds used\n",
    "    sound_folder = pl.Path('/auto/users/mateo/code/baphy/Config/lbhb/SoundObjects/@NaturalPairs/NatPairSounds')\n",
    "    sound_files = np.asarray([sfile.stem for sfile in sound_folder.iterdir()])\n",
    "\n",
    "    num2name = dict()\n",
    "    for nn, filename in enumerate(sound_files):\n",
    "        glob_idx, name = re.findall(r'\\A(\\d{2})_cat\\d{2,3}_rec\\d{1}_(.*)_excerpt\\d{1}_\\d{1,2}', filename)[0]\n",
    "        # print(int(glob_idx), name)\n",
    "        num2name[int(glob_idx)] = name\n",
    "\n",
    "    # get All permutations sites with the numbered sounds used for stimulation\n",
    "    sound_DF = nd.pd_query(\"SELECT sCellFile.cellid as site, gData.svalue as SoundStructure,\"\n",
    "                     \"g2.svalue as SoundIdexes FROM sCellFile \"\n",
    "                     \"INNER JOIN gData ON gData.rawid=sCellFile.rawid AND gData.name='Ref_SequenceStructure' \"\n",
    "                     \"INNER JOIN gData g2 ON g2.rawid=sCellFile.rawid AND g2.name='Ref_SoundIndexes' \"\n",
    "                     \"INNER JOIN gData g3 ON g3.rawid=sCellFile.rawid AND g3.name='ReferenceClass' \"\n",
    "                     \"WHERE gData.svalue='AllPermutations' AND g3.svalue='NaturalPairs' AND sCellFile.RunClassid=121\"\n",
    "                     )\n",
    "\n",
    "    # clean up DF\n",
    "    sound_DF['site'] = sound_DF.site.apply(nd.get_siteid)\n",
    "    sound_DF.drop_duplicates(inplace=True)\n",
    "\n",
    "    # formats sound indexes into arrays\n",
    "    sound_DF['SoundIdexes'] = sound_DF['SoundIdexes'].apply(lambda x: [int(s) for s in x[1:-1].split(' ')])\n",
    "\n",
    "    # makes an extra column with the dict mappers\n",
    "    sound_DF['mapper'] = sound_DF['SoundIdexes'].apply(lambda x: {jj+1:num2name[idx] for jj, idx in enumerate(x)})\n",
    "\n",
    "    # to reduce redundant computation, finds the mapping between numbers and names for site*contex_pair*probe\n",
    "    named_sounds_df = in_df.loc[:, ['site', 'context_pair', 'probe']].drop_duplicates().copy()\n",
    "    named_sounds_df['named_probe'] = named_sounds_df['probe'].astype(int)\n",
    "\n",
    "    # splits context pair into two numerical context colums\n",
    "    named_sounds_df[['named_ctx_0', 'named_ctx_1']] = pd.DataFrame(\n",
    "        named_sounds_df.context_pair.str.split('_').tolist(), index=named_sounds_df.index).astype(int)\n",
    "\n",
    "    # replace numbers by sound name per site, as the same number correspond to different sound on different site\n",
    "    for site in named_sounds_df.site.unique():\n",
    "        idx2name = sound_DF.query(f\"site == '{site}'\").mapper.values[0]\n",
    "        idx2name[0] = 'silence'\n",
    "        named_sounds_df.update(\n",
    "            named_sounds_df.loc[named_sounds_df.site == site, ['named_ctx_0', 'named_ctx_1', 'named_probe']].replace(idx2name)\n",
    "        )\n",
    "\n",
    "    # categorical columns for low memory use and fast operations\n",
    "    for col in ['named_probe', 'named_ctx_0', 'named_ctx_1']:\n",
    "        named_sounds_df[col] = named_sounds_df[col].astype('category')\n",
    "\n",
    "    # merge names  into full original DF\n",
    "    out_df = pd.merge(in_df, named_sounds_df, on=['site', 'context_pair', 'probe'], validate='m:1')\n",
    "\n",
    "    return out_df\n",
    "\n",
    "\n",
    "def kruskal_with_posthoc(df, group_col, val_col):\n",
    "    # pools data in a list of vectors to run kruskal\n",
    "    to_stat = list()\n",
    "    for kk in df[group_col].unique():\n",
    "        to_stat.append(df.loc[df[group_col] == kk, val_col].values)\n",
    "    kruskal = sst.kruskal(*to_stat)\n",
    "    print(kruskal)\n",
    "    # uses the og dataframe to run the pairwise posthoc test\n",
    "    dunn = posthoc_dunn(df, val_col=val_col, group_col=group_col, p_adjust='bonferroni')\n",
    "    print(f'Dunn post hoc results\\n{dunn}')\n",
    "\n",
    "    return kruskal, dunn"
   ],
   "metadata": {
    "collapsed": false,
    "pycharm": {
     "name": "#%%\n"
    }
   }
  },
  {
   "cell_type": "markdown",
   "source": [
    "# Loads context effecs data and preformats"
   ],
   "metadata": {
    "collapsed": false
   }
  },
  {
   "cell_type": "code",
   "execution_count": 162,
   "outputs": [
    {
     "name": "stdout",
     "output_type": "stream",
     "text": [
      "(91812, 8)\n",
      "              id context_pair probe     value    metric diff_metric     site  \\\n",
      "0  TNC013a-019-3        00_01     1  0.181284  integral    delta_FR  TNC013a   \n",
      "1  TNC013a-036-3        00_01     1  0.337167  integral    delta_FR  TNC013a   \n",
      "2  TNC013a-042-9        00_01     1  0.192177  integral    delta_FR  TNC013a   \n",
      "3  TNC013a-046-1        00_01     1  0.134207  integral    delta_FR  TNC013a   \n",
      "4  TNC013a-036-3        00_02     1  0.346280  integral    delta_FR  TNC013a   \n",
      "\n",
      "  region  \n",
      "0     A1  \n",
      "1     A1  \n",
      "2     A1  \n",
      "3     A1  \n",
      "4     A1  \n"
     ]
    }
   ],
   "source": [
    "summary_DF_file = pl.Path(config['paths']['analysis_cache']) / '220520_minimal_DF'\n",
    "# Cluster Mass significant contextual effects\n",
    "# summary_DF_file = pl.Path(config['paths']['analysis_cache']) / f'220804_significant_abs_deltaFR_DF'\n",
    "\n",
    "metrics = ['integral', 'last_bin']\n",
    "DF = jl.load(summary_DF_file).query(f\"source == 'real' and metric in {metrics} and \"\n",
    "                                    f\"cluster_threshold == 0.05 and mult_comp_corr == 'bf_cp' and \"\n",
    "                                    f\"analysis == 'SC' and source == 'real' and \"\n",
    "                                    f\"diff_metric == 'delta_FR' and \"\n",
    "                                    f\"value > 0\")\n",
    "\n",
    "DF.loc[DF.metric == 'integral', 'value'] = DF.loc[DF.metric == 'integral', 'value'] /1000  # ms to s for better display\n",
    "DF.drop(columns=['source', 'cluster_threshold', 'mult_comp_corr',\n",
    "                 'analysis', 'stim_count',], inplace=True)\n",
    "DF.reset_index(drop=True, inplace=True)\n",
    "\n",
    "print(DF.shape)\n",
    "print(DF.head())"
   ],
   "metadata": {
    "collapsed": false,
    "pycharm": {
     "name": "#%%\n"
    }
   }
  },
  {
   "cell_type": "code",
   "execution_count": 163,
   "outputs": [
    {
     "data": {
      "text/plain": "                  id context_pair probe       value    metric diff_metric  \\\n0      TNC013a-019-3        00_01     1    0.181284  integral    delta_FR   \n1      TNC013a-036-3        00_01     1    0.337167  integral    delta_FR   \n2      TNC013a-042-9        00_01     1    0.192177  integral    delta_FR   \n3      TNC013a-046-1        00_01     1    0.134207  integral    delta_FR   \n4      TNC013a-019-3        00_01     1  350.000000  last_bin    delta_FR   \n...              ...          ...   ...         ...       ...         ...   \n91807   ARM017a-22-1        02_03     4  250.000000  last_bin    delta_FR   \n91808   ARM017a-22-1        02_04     4    0.108369  integral    delta_FR   \n91809   ARM017a-63-1        02_04     4    0.076218  integral    delta_FR   \n91810   ARM017a-22-1        02_04     4  100.000000  last_bin    delta_FR   \n91811   ARM017a-63-1        02_04     4  500.000000  last_bin    delta_FR   \n\n          site region     named_probe  \\\n0      TNC013a     A1   cash_register   \n1      TNC013a     A1   cash_register   \n2      TNC013a     A1   cash_register   \n3      TNC013a     A1   cash_register   \n4      TNC013a     A1   cash_register   \n...        ...    ...             ...   \n91807  ARM017a    PEG  factory_sounds   \n91808  ARM017a    PEG  factory_sounds   \n91809  ARM017a    PEG  factory_sounds   \n91810  ARM017a    PEG  factory_sounds   \n91811  ARM017a    PEG  factory_sounds   \n\n                                     named_ctx_0                  named_ctx_1  \n0                                        silence                cash_register  \n1                                        silence                cash_register  \n2                                        silence                cash_register  \n3                                        silence                cash_register  \n4                                        silence                cash_register  \n...                                          ...                          ...  \n91807  latin-pop_enrique-iglesias_i-will-survive  pop_kelly-clarkson_einstein  \n91808  latin-pop_enrique-iglesias_i-will-survive               factory_sounds  \n91809  latin-pop_enrique-iglesias_i-will-survive               factory_sounds  \n91810  latin-pop_enrique-iglesias_i-will-survive               factory_sounds  \n91811  latin-pop_enrique-iglesias_i-will-survive               factory_sounds  \n\n[91812 rows x 11 columns]",
      "text/html": "<div>\n<style scoped>\n    .dataframe tbody tr th:only-of-type {\n        vertical-align: middle;\n    }\n\n    .dataframe tbody tr th {\n        vertical-align: top;\n    }\n\n    .dataframe thead th {\n        text-align: right;\n    }\n</style>\n<table border=\"1\" class=\"dataframe\">\n  <thead>\n    <tr style=\"text-align: right;\">\n      <th></th>\n      <th>id</th>\n      <th>context_pair</th>\n      <th>probe</th>\n      <th>value</th>\n      <th>metric</th>\n      <th>diff_metric</th>\n      <th>site</th>\n      <th>region</th>\n      <th>named_probe</th>\n      <th>named_ctx_0</th>\n      <th>named_ctx_1</th>\n    </tr>\n  </thead>\n  <tbody>\n    <tr>\n      <th>0</th>\n      <td>TNC013a-019-3</td>\n      <td>00_01</td>\n      <td>1</td>\n      <td>0.181284</td>\n      <td>integral</td>\n      <td>delta_FR</td>\n      <td>TNC013a</td>\n      <td>A1</td>\n      <td>cash_register</td>\n      <td>silence</td>\n      <td>cash_register</td>\n    </tr>\n    <tr>\n      <th>1</th>\n      <td>TNC013a-036-3</td>\n      <td>00_01</td>\n      <td>1</td>\n      <td>0.337167</td>\n      <td>integral</td>\n      <td>delta_FR</td>\n      <td>TNC013a</td>\n      <td>A1</td>\n      <td>cash_register</td>\n      <td>silence</td>\n      <td>cash_register</td>\n    </tr>\n    <tr>\n      <th>2</th>\n      <td>TNC013a-042-9</td>\n      <td>00_01</td>\n      <td>1</td>\n      <td>0.192177</td>\n      <td>integral</td>\n      <td>delta_FR</td>\n      <td>TNC013a</td>\n      <td>A1</td>\n      <td>cash_register</td>\n      <td>silence</td>\n      <td>cash_register</td>\n    </tr>\n    <tr>\n      <th>3</th>\n      <td>TNC013a-046-1</td>\n      <td>00_01</td>\n      <td>1</td>\n      <td>0.134207</td>\n      <td>integral</td>\n      <td>delta_FR</td>\n      <td>TNC013a</td>\n      <td>A1</td>\n      <td>cash_register</td>\n      <td>silence</td>\n      <td>cash_register</td>\n    </tr>\n    <tr>\n      <th>4</th>\n      <td>TNC013a-019-3</td>\n      <td>00_01</td>\n      <td>1</td>\n      <td>350.000000</td>\n      <td>last_bin</td>\n      <td>delta_FR</td>\n      <td>TNC013a</td>\n      <td>A1</td>\n      <td>cash_register</td>\n      <td>silence</td>\n      <td>cash_register</td>\n    </tr>\n    <tr>\n      <th>...</th>\n      <td>...</td>\n      <td>...</td>\n      <td>...</td>\n      <td>...</td>\n      <td>...</td>\n      <td>...</td>\n      <td>...</td>\n      <td>...</td>\n      <td>...</td>\n      <td>...</td>\n      <td>...</td>\n    </tr>\n    <tr>\n      <th>91807</th>\n      <td>ARM017a-22-1</td>\n      <td>02_03</td>\n      <td>4</td>\n      <td>250.000000</td>\n      <td>last_bin</td>\n      <td>delta_FR</td>\n      <td>ARM017a</td>\n      <td>PEG</td>\n      <td>factory_sounds</td>\n      <td>latin-pop_enrique-iglesias_i-will-survive</td>\n      <td>pop_kelly-clarkson_einstein</td>\n    </tr>\n    <tr>\n      <th>91808</th>\n      <td>ARM017a-22-1</td>\n      <td>02_04</td>\n      <td>4</td>\n      <td>0.108369</td>\n      <td>integral</td>\n      <td>delta_FR</td>\n      <td>ARM017a</td>\n      <td>PEG</td>\n      <td>factory_sounds</td>\n      <td>latin-pop_enrique-iglesias_i-will-survive</td>\n      <td>factory_sounds</td>\n    </tr>\n    <tr>\n      <th>91809</th>\n      <td>ARM017a-63-1</td>\n      <td>02_04</td>\n      <td>4</td>\n      <td>0.076218</td>\n      <td>integral</td>\n      <td>delta_FR</td>\n      <td>ARM017a</td>\n      <td>PEG</td>\n      <td>factory_sounds</td>\n      <td>latin-pop_enrique-iglesias_i-will-survive</td>\n      <td>factory_sounds</td>\n    </tr>\n    <tr>\n      <th>91810</th>\n      <td>ARM017a-22-1</td>\n      <td>02_04</td>\n      <td>4</td>\n      <td>100.000000</td>\n      <td>last_bin</td>\n      <td>delta_FR</td>\n      <td>ARM017a</td>\n      <td>PEG</td>\n      <td>factory_sounds</td>\n      <td>latin-pop_enrique-iglesias_i-will-survive</td>\n      <td>factory_sounds</td>\n    </tr>\n    <tr>\n      <th>91811</th>\n      <td>ARM017a-63-1</td>\n      <td>02_04</td>\n      <td>4</td>\n      <td>500.000000</td>\n      <td>last_bin</td>\n      <td>delta_FR</td>\n      <td>ARM017a</td>\n      <td>PEG</td>\n      <td>factory_sounds</td>\n      <td>latin-pop_enrique-iglesias_i-will-survive</td>\n      <td>factory_sounds</td>\n    </tr>\n  </tbody>\n</table>\n<p>91812 rows × 11 columns</p>\n</div>"
     },
     "execution_count": 163,
     "metadata": {},
     "output_type": "execute_result"
    }
   ],
   "source": [
    "merged = add_named_sounds(DF)\n",
    "\n",
    "merged['voc_ctx'] = 'sound'\n",
    "merged['voc_prb'] = 'sound'\n",
    "\n",
    "vocalizations = ['ferret_fights_Athena-Violet001', 'ferret_fights_Jasmine-Violet001']\n",
    "merged.loc[(merged.named_ctx_0.isin(vocalizations)) |\n",
    "           (merged.named_ctx_1.isin(vocalizations)),\n",
    "           'voc_ctx'] = 'vocalization'\n",
    "merged.loc[merged.named_probe.isin(vocalizations), 'voc_prb'] = 'vocalization'"
   ],
   "metadata": {
    "collapsed": false,
    "pycharm": {
     "name": "#%%\n"
    }
   }
  },
  {
   "cell_type": "markdown",
   "source": [
    "# plot the effect following old standards"
   ],
   "metadata": {
    "collapsed": false
   }
  },
  {
   "cell_type": "code",
   "execution_count": 177,
   "outputs": [
    {
     "name": "stdout",
     "output_type": "stream",
     "text": [
      "\n",
      "######### integral voc_ctx #########\n",
      "\n",
      "KruskalResult(statistic=15.30699082887494, pvalue=9.137772027668053e-05)\n",
      "Dunn post hoc results\n",
      "                 sound  vocalization\n",
      "sound         1.000000      0.000091\n",
      "vocalization  0.000091      1.000000\n",
      "\n",
      "data summary stats\n",
      "                  stat       err  count\n",
      "voc_ctx                               \n",
      "sound         0.23583  0.000993  37448\n",
      "vocalization  0.23920  0.001945   8458\n",
      "\n",
      "######### integral voc_prb #########\n",
      "\n",
      "KruskalResult(statistic=26.001541997910866, pvalue=3.411447707770549e-07)\n",
      "Dunn post hoc results\n",
      "                     sound  vocalization\n",
      "sound         1.000000e+00  3.411448e-07\n",
      "vocalization  3.411448e-07  1.000000e+00\n",
      "\n",
      "data summary stats\n",
      "                   stat       err  count\n",
      "voc_prb                                \n",
      "sound         0.237010  0.000926  41502\n",
      "vocalization  0.231186  0.003010   4404\n",
      "\n",
      "######### last_bin voc_ctx #########\n",
      "\n",
      "KruskalResult(statistic=23.01186952244701, pvalue=1.610042750779902e-06)\n",
      "Dunn post hoc results\n",
      "                 sound  vocalization\n",
      "sound         1.000000      0.000002\n",
      "vocalization  0.000002      1.000000\n",
      "\n",
      "data summary stats\n",
      "                     stat       err  count\n",
      "voc_ctx                                  \n",
      "sound         248.164124  1.081617  37448\n",
      "vocalization  254.061249  2.239712   8458\n",
      "\n",
      "######### last_bin voc_prb #########\n",
      "\n",
      "KruskalResult(statistic=0.008835579747539153, pvalue=0.9251109324757422)\n",
      "Dunn post hoc results\n",
      "                 sound  vocalization\n",
      "sound         1.000000      0.925111\n",
      "vocalization  0.925111      1.000000\n",
      "\n",
      "data summary stats\n",
      "                     stat       err  count\n",
      "voc_prb                                  \n",
      "sound         249.637360  1.028072  41502\n",
      "vocalization  245.606262  3.039282   4404\n"
     ]
    },
    {
     "data": {
      "image/png": "[encoded data removed]",
      "text/plain": "<IPython.core.display.Image object>"
     },
     "execution_count": 177,
     "metadata": {},
     "output_type": "execute_result"
    }
   ],
   "source": [
    "def plot_metric_quant_bars(df, metric, category):\n",
    "    print(f'\\n######### {metric} {category} #########\\n')\n",
    "    df = df.query(f\"metric == '{metric}'\")\n",
    "\n",
    "\n",
    "    _ = kruskal_with_posthoc(df, group_col=category, val_col='value')\n",
    "    df = df.groupby(by=category, observed=True).agg(stat=('value', np.mean),\n",
    "                                                    err=('value', sst.sem),\n",
    "                                                    count=('value', 'count'))\n",
    "\n",
    "    print('\\ndata summary stats\\n', df)\n",
    "\n",
    "    x = ['sound', 'vocalization']\n",
    "    y = [df.at[cat, 'stat'] for cat in x]\n",
    "    yerr = [df.at[cat, 'err'] for cat in x]\n",
    "    return [\n",
    "        go.Scatter(x=x, y=y, mode='markers',\n",
    "                   marker=dict(color='black',\n",
    "                               size=4),\n",
    "                   error_y=dict(array=yerr,\n",
    "                                color='black',\n",
    "                                thickness=1,\n",
    "                                width=5),\n",
    "                   showlegend=False)\n",
    "    ]\n",
    "\n",
    "\n",
    "fig = make_subplots(2, 2, column_width=[0.5, 0.5], shared_xaxes='columns', shared_yaxes='rows')\n",
    "for mm, met in enumerate(['integral', 'last_bin']):\n",
    "    for cc, cat in enumerate(['voc_ctx', 'voc_prb']):\n",
    "        pan = plot_metric_quant_bars(merged, met, cat)\n",
    "        fig.add_traces(pan, cols=[cc + 1] * len(pan), rows=[mm + 1] * len(pan))\n",
    "\n",
    "w, h = 1.5, 2.5\n",
    "fig.update_layout(template='simple_white',\n",
    "                  width=96 * w, height=96 * h,\n",
    "                  margin=dict(l=10, r=10, t=10, b=10),\n",
    "\n",
    "                  yaxis=dict(title=dict(text=\"Amplitude\", font_color=AMPCOLOR, ),\n",
    "                             tickmode='linear', tick0=0.16, dtick=0.04\n",
    "                             ),\n",
    "                  yaxis2=dict(\n",
    "                             tickmode='linear', tick0=0.16, dtick=0.04\n",
    "                             ),\n",
    "\n",
    "                  xaxis3=dict(title=dict(text='context')),\n",
    "                  yaxis3=dict(title=dict(text='Duration', font_color=DURCOLOR),\n",
    "                              ),\n",
    "\n",
    "                  xaxis4=dict(title=dict(text='probe')),\n",
    "                  showlegend=False,\n",
    "                  )\n",
    "\n",
    "fig.update_xaxes(title_font_size=10, title_standoff=0, tickfont_size=9)\n",
    "fig.update_yaxes(title_font_size=10, title_standoff=0, tickfont_size=9)\n",
    "\n",
    "filename = folder / 'fig7_vocalization_effects'\n",
    "fig.write_image(filename.with_suffix('.png'), scale=4)\n",
    "fig.write_image(filename.with_suffix('.svg'))\n",
    "\n",
    "img_bytes = fig.to_image(format=\"png\", scale=2)\n",
    "Image(img_bytes)"
   ],
   "metadata": {
    "collapsed": false,
    "pycharm": {
     "name": "#%%\n"
    }
   }
  }
 ],
 "metadata": {
  "kernelspec": {
   "display_name": "Python 3",
   "language": "python",
   "name": "python3"
  },
  "language_info": {
   "codemirror_mode": {
    "name": "ipython",
    "version": 2
   },
   "file_extension": ".py",
   "mimetype": "text/x-python",
   "name": "python",
   "nbconvert_exporter": "python",
   "pygments_lexer": "ipython2",
   "version": "2.7.6"
  }
 },
 "nbformat": 4,
 "nbformat_minor": 0
}
