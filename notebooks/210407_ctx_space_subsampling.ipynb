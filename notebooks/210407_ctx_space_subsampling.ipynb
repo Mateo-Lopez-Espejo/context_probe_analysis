{
 "cells": [
  {
   "cell_type": "markdown",
   "metadata": {
    "collapsed": true,
    "pycharm": {
     "name": "#%% md\n"
    }
   },
   "source": [
    "# context effect space subsampling\n",
    "\n",
    "in this pseudoexperiment I test how increasing the samplesd context effect space (number of probes and or contexts)\n",
    "affect the frequency, amplitude and duration of contextual effects.\n",
    "\n",
    "This is achieved by randomly selecting a subset of te stimuli used as contexta and or probes\n",
    "and looking at the number of instances (cell * context * probe) with significant effects and the mean amplitude and\n",
    "duration of said effects."
   ]
  },
  {
   "cell_type": "code",
   "execution_count": 82,
   "outputs": [],
   "source": [
    "from pathlib import Path\n",
    "import itertools as itt\n",
    "\n",
    "import joblib as jl\n",
    "import matplotlib.pyplot as plt\n",
    "import matplotlib.cm as cm\n",
    "import matplotlib\n",
    "import numpy as np\n",
    "import statsmodels.api as sm\n",
    "from statsmodels.stats.multicomp import pairwise_tukeyhsd\n",
    "from statsmodels.formula.api import ols\n",
    "from bioinfokit.analys import stat\n",
    "import pandas as pd\n",
    "import seaborn as sns\n",
    "from IPython.display import display\n",
    "from statannot import add_stat_annotation\n",
    "from cycler import cycler\n",
    "\n",
    "from src.data.region_map import region_map\n",
    "from src.metrics.consolidated_dprimes import _load_site_formated_raste, single_cell_dprimes, full_dPCA_dprimes\n",
    "from src.data.dPCA import _cpp_dPCA, format_raster\n",
    "from src.visualization.fancy_plots import _raster, unit_line\n",
    "from src.metrics.significance import _significance\n",
    "from src.metrics.dprime import flip_dprimes\n",
    "from src.metrics.reliability import signal_reliability\n",
    "from src.data.rasters import raster_from_sig\n",
    "from src.data.load import load"
   ],
   "metadata": {
    "collapsed": false,
    "pycharm": {
     "name": "#%%\n"
    }
   }
  },
  {
   "cell_type": "code",
   "execution_count": 83,
   "outputs": [],
   "source": [
    "#general plottin formating\n",
    "plt.style.use('dark_background')\n",
    "light_color_cycle = cycler(color=['#1f77b4', '#ff7f0e', '#2ca02c', '#d62728', '#9467bd',\n",
    "                            '#8c564b', '#e377c2', '#7f7f7f', '#bcbd22', '#17becf'])\n",
    "trans_color_map = {'silence': '#377eb8',  # blue\n",
    "                   'continuous': '#ff7f00',  # orange\n",
    "                   'similar': '#4daf4a',  # green\n",
    "                   'sharp': '#a65628'}  # brown\n",
    "params = {'axes.labelsize': 15,\n",
    "          'axes.titlesize': 20,\n",
    "          'axes.spines.top': False,\n",
    "          'axes.spines.right': False,\n",
    "          'axes.prop_cycle': light_color_cycle,\n",
    "          'xtick.labelsize': 11,\n",
    "          'ytick.labelsize': 11,\n",
    "          'lines.markersize': 8,\n",
    "          'figure.titlesize': 30,\n",
    "          'figure.figsize': [4,4],\n",
    "          'figure.autolayout':True,\n",
    "          'svg.fonttype': 'none',\n",
    "          'font.sans-serif': 'Arial',\n",
    "          'legend.loc': 'upper right',\n",
    "          'legend.frameon': False,\n",
    "          'legend.fontsize': 15,\n",
    "          'legend.markerscale': 3,\n",
    "          }\n",
    "widescreen = [13.3, 7.5]\n",
    "plt.rcParams.update(params)"
   ],
   "metadata": {
    "collapsed": false,
    "pycharm": {
     "name": "#%%\n"
    }
   }
  },
  {
   "cell_type": "code",
   "execution_count": 84,
   "outputs": [],
   "source": [
    "# pulls DF, removes unused columns and data, refactor redunant id columns and create probe_id\n",
    "DF = jl.load(Path(f'../data/210302_consolidated_summary_DF_alpha_0.05/dprime_absolute-None_montecarlo-1000_raster_fs-30_reliability-0.1_smoothing_window-0_zscore-True'))"
   ],
   "metadata": {
    "collapsed": false,
    "pycharm": {
     "name": "#%%\n"
    }
   }
  },
  {
   "cell_type": "code",
   "execution_count": 85,
   "outputs": [],
   "source": [
    "dim_reduction = 'pdPCA'\n",
    "\n",
    "# no need for means or mean policy, working on permutations only\n",
    "ff_probe = DF.probe != 'mean'\n",
    "ff_pairs = DF.context_pair != 'mean'\n",
    "ff_stim = DF.stim_type == 'permutations'\n",
    "ff_mean = DF.mean_signif_type == 'shuffles'\n",
    "\n",
    "ff_analylis = DF.analysis.isin(['SC', dim_reduction])\n",
    "ff_corr = DF.mult_comp_corr == 'consecutive_3'\n",
    "ff_metric = DF.metric.isin(['significant_abs_mass_center', 'significant_abs_sum'])\n",
    "\n",
    "good_cols =['analysis', 'mult_comp_corr', 'region', 'siteid',  'cellid', 'context_pair',\n",
    "            'probe', 'metric', 'value']\n",
    "filtered = DF.loc[ff_stim & ff_mean & ff_pairs & ff_probe & ff_analylis & ff_corr & ff_metric, good_cols]\n",
    "\n",
    "# rename metrics and analysis for ease of ploting\n",
    "filtered['metric'] = filtered['metric'].replace({'significant_abs_mass_center': 'center of mass (ms)',\n",
    "                                                 'significant_abs_sum': \"integral (d'*ms)\"})\n",
    "filtered['analysis'] = filtered['analysis'].replace({'SC': 'single cell',\n",
    "                                                     dim_reduction: 'population'})\n",
    "\n",
    "filtered['id'] = filtered['cellid'].fillna(value=filtered['siteid'])\n",
    "filtered = filtered.drop(columns=['cellid', 'siteid'])\n",
    "\n",
    "filtered['value'] = filtered['value'].fillna(value=0)\n",
    "\n",
    "# creates a new column relating probe with  context pairs\n",
    "ctx = np.asarray([row.split('_') for row in filtered.context_pair], dtype=int)\n",
    "prb = np.asarray(filtered.probe, dtype=int)\n",
    "\n",
    "silence = ctx == 0\n",
    "same = ctx == prb[:,None]\n",
    "different = np.logical_and(~silence, ~same)\n",
    "\n",
    "name_arr = np.full_like(ctx, np.nan, dtype=object)\n",
    "name_arr[silence] = 'silence'\n",
    "name_arr[same] = 'same'\n",
    "name_arr[different] = 'diff'\n",
    "comp_name_arr = np.apply_along_axis('_'.join, 1, name_arr)\n",
    "\n",
    "# swaps clasification names to not have repetitions i.e. diff_same == same_diff\n",
    "comp_name_arr[np.where(comp_name_arr == 'same_silence')] = 'silence_same'\n",
    "comp_name_arr[np.where(comp_name_arr == 'diff_silence')] = 'silence_diff'\n",
    "comp_name_arr[np.where(comp_name_arr == 'diff_same')] = 'same_diff'\n",
    "comp_name_arr[np.where(comp_name_arr == 'same_silence')] = 'silence_same'\n",
    "\n",
    "filtered['trans_pair'] = comp_name_arr\n",
    "\n",
    "ord_cols = ['analysis', 'region', 'id', 'context_pair', 'trans_pair', 'probe', 'metric', 'value']\n",
    "pivot_idx = [col for col in ord_cols if col not in ['value', 'metric']]\n",
    "pivoted = filtered.pivot_table(index=pivot_idx, columns='metric', values='value', aggfunc='first').reset_index()\n",
    "\n",
    "full_long = filtered"
   ],
   "metadata": {
    "collapsed": false,
    "pycharm": {
     "name": "#%%\n"
    }
   }
  },
  {
   "cell_type": "code",
   "execution_count": 86,
   "outputs": [],
   "source": [
    "def nozero_mean(arr):\n",
    "    arr[arr==0] = np.nan\n",
    "    return np.nanmean(arr)\n",
    "\n",
    "def nozero_count(arr):\n",
    "    return np.sum(arr>0)\n",
    "\n",
    "def nonan_proportion(arr):\n",
    "    return np.sum(~np.isnan(arr))/arr.size * 100\n",
    "\n",
    "def signif_proportion(arr):\n",
    "    return np.sum(arr>0) / np.size(arr) * 100"
   ],
   "metadata": {
    "collapsed": false,
    "pycharm": {
     "name": "#%%\n"
    }
   }
  },
  {
   "cell_type": "markdown",
   "source": [
    "# systematic subsampling of contexts and probes\n",
    "\n",
    "Iterates over each contexts or probe subsampling, considering all possible combinations for each subsampling.\n",
    "Counts the number definese the number of sigificant isntances. then storese in a dataframe with specific subsamples as\n",
    "indices."
   ],
   "metadata": {
    "collapsed": false
   }
  },
  {
   "cell_type": "code",
   "execution_count": 87,
   "outputs": [
    {
     "name": "stderr",
     "output_type": "stream",
     "text": [
      "<ipython-input-87-20db8b69664d>:3: SettingWithCopyWarning: \n",
      "A value is trying to be set on a copy of a slice from a DataFrame.\n",
      "Try using .loc[row_indexer,col_indexer] = value instead\n",
      "\n",
      "See the caveats in the documentation: https://pandas.pydata.org/pandas-docs/stable/user_guide/indexing.html#returning-a-view-versus-a-copy\n",
      "  filtered['site'] = filtered.id.apply(lambda x: x[:7])\n",
      "<ipython-input-87-20db8b69664d>:7: SettingWithCopyWarning: \n",
      "A value is trying to be set on a copy of a slice from a DataFrame.\n",
      "Try using .loc[row_indexer,col_indexer] = value instead\n",
      "\n",
      "See the caveats in the documentation: https://pandas.pydata.org/pandas-docs/stable/user_guide/indexing.html#returning-a-view-versus-a-copy\n",
      "  filtered['ctx_0'] = ctx_pairs[:, 0]\n",
      "<ipython-input-87-20db8b69664d>:8: SettingWithCopyWarning: \n",
      "A value is trying to be set on a copy of a slice from a DataFrame.\n",
      "Try using .loc[row_indexer,col_indexer] = value instead\n",
      "\n",
      "See the caveats in the documentation: https://pandas.pydata.org/pandas-docs/stable/user_guide/indexing.html#returning-a-view-versus-a-copy\n",
      "  filtered['ctx_1'] = ctx_pairs[:, 1]\n"
     ]
    }
   ],
   "source": [
    "# filteres dataframe and adds required columns\n",
    "filtered = pivoted.loc[pivoted.analysis=='single cell', :]\n",
    "filtered['site'] = filtered.id.apply(lambda x: x[:7])\n",
    "\n",
    "ctx_pairs = [pair.split('_') for pair in filtered.context_pair]\n",
    "ctx_pairs = np.stack(ctx_pairs, axis=0)\n",
    "filtered['ctx_0'] = ctx_pairs[:, 0]\n",
    "filtered['ctx_1'] = ctx_pairs[:, 1]\n",
    "\n",
    "# function to aggregate each single cell. gives the proportion of significant instances\n",
    "agg_funcs = {\"signif_proportion\": (\"integral (d'*ms)\", signif_proportion)}\n"
   ],
   "metadata": {
    "collapsed": false,
    "pycharm": {
     "name": "#%%\n"
    }
   }
  },
  {
   "cell_type": "code",
   "execution_count": 88,
   "outputs": [],
   "source": [
    "# iterates over all sizes of probe subsampling, i.e. 1, 2, 3 and 4 probes.\n",
    "all_probes = filtered.probe.sort_values().unique()\n",
    "prb_subsamp_signif = pd.DataFrame()\n",
    "\n",
    "for num_probe in range(len(all_probes)):\n",
    "    num_probe += 1\n",
    "\n",
    "    n_probe_groups  = list(itt.combinations(all_probes, num_probe))\n",
    "    # iterates over all possible combinations of n probes\n",
    "    for pg, probe_group in enumerate(n_probe_groups):\n",
    "        probes_df = filtered.loc[filtered.probe.isin(probe_group), :].set_index('region', 'site', 'id')\n",
    "        grouped  = probes_df.groupby(['region', 'site', 'id']).agg(**agg_funcs).copy()\n",
    "        grouped.loc[grouped.signif_proportion == 0] = np.nan\n",
    "        grouped['n_probes'] = num_probe\n",
    "        grouped['prb_group'] = '_'.join(probe_group)\n",
    "        prb_subsamp_signif = prb_subsamp_signif.append(grouped.reset_index())"
   ],
   "metadata": {
    "collapsed": false,
    "pycharm": {
     "name": "#%%\n"
    }
   }
  },
  {
   "cell_type": "code",
   "execution_count": 89,
   "outputs": [],
   "source": [
    "# iterates over all sizes of context subsampling, i.e. 2, 3, 4 and 5 contexts.\n",
    "all_contexts = np.unique(ctx_pairs)\n",
    "ctx_subsamp_signif = pd.DataFrame()\n",
    "\n",
    "for num_ctx in range(2, len(all_contexts)+1):\n",
    "    n_ctx_groups  = list(itt.combinations(all_contexts, num_ctx))\n",
    "    # iterates over all possible combinations of n probes\n",
    "    for cg, ctx_group in enumerate(n_ctx_groups):\n",
    "        ctx_df = filtered.loc[(filtered.ctx_0.isin(ctx_group)) &\n",
    "                                 ((filtered.ctx_1.isin(ctx_group))), :].set_index('region', 'site', 'id')\n",
    "        grouped  = ctx_df.groupby(['region', 'site', 'id']).agg(**agg_funcs).copy()\n",
    "        grouped.loc[grouped.signif_proportion == 0] = np.nan\n",
    "        grouped['n_contexts'] = num_ctx\n",
    "        grouped['ctx_group'] = '_'.join(ctx_group)\n",
    "        ctx_subsamp_signif = ctx_subsamp_signif.append(grouped.reset_index())"
   ],
   "metadata": {
    "collapsed": false,
    "pycharm": {
     "name": "#%%\n"
    }
   }
  },
  {
   "cell_type": "code",
   "execution_count": 90,
   "outputs": [
    {
     "data": {
      "text/plain": "    region     site            id  signif_proportion  n_contexts  ctx_group\n0       A1  AMT020a  AMT020a-02-1                NaN           2        0_1\n1       A1  AMT020a  AMT020a-04-1                NaN           2        0_1\n2       A1  AMT020a  AMT020a-07-1                NaN           2        0_1\n3       A1  AMT020a  AMT020a-08-1               25.0           2        0_1\n4       A1  AMT020a  AMT020a-13-1                NaN           2        0_1\n..     ...      ...           ...                ...         ...        ...\n857    PEG  CRD014b  CRD014b-24-2                7.5           5  0_1_2_3_4\n858    PEG  CRD014b  CRD014b-27-1               12.5           5  0_1_2_3_4\n859    PEG  CRD014b  CRD014b-27-2                7.5           5  0_1_2_3_4\n860    PEG  CRD014b  CRD014b-27-3                7.5           5  0_1_2_3_4\n861    PEG  CRD014b  CRD014b-29-1               20.0           5  0_1_2_3_4\n\n[22412 rows x 6 columns]",
      "text/html": "<div>\n<style scoped>\n    .dataframe tbody tr th:only-of-type {\n        vertical-align: middle;\n    }\n\n    .dataframe tbody tr th {\n        vertical-align: top;\n    }\n\n    .dataframe thead th {\n        text-align: right;\n    }\n</style>\n<table border=\"1\" class=\"dataframe\">\n  <thead>\n    <tr style=\"text-align: right;\">\n      <th></th>\n      <th>region</th>\n      <th>site</th>\n      <th>id</th>\n      <th>signif_proportion</th>\n      <th>n_contexts</th>\n      <th>ctx_group</th>\n    </tr>\n  </thead>\n  <tbody>\n    <tr>\n      <th>0</th>\n      <td>A1</td>\n      <td>AMT020a</td>\n      <td>AMT020a-02-1</td>\n      <td>NaN</td>\n      <td>2</td>\n      <td>0_1</td>\n    </tr>\n    <tr>\n      <th>1</th>\n      <td>A1</td>\n      <td>AMT020a</td>\n      <td>AMT020a-04-1</td>\n      <td>NaN</td>\n      <td>2</td>\n      <td>0_1</td>\n    </tr>\n    <tr>\n      <th>2</th>\n      <td>A1</td>\n      <td>AMT020a</td>\n      <td>AMT020a-07-1</td>\n      <td>NaN</td>\n      <td>2</td>\n      <td>0_1</td>\n    </tr>\n    <tr>\n      <th>3</th>\n      <td>A1</td>\n      <td>AMT020a</td>\n      <td>AMT020a-08-1</td>\n      <td>25.0</td>\n      <td>2</td>\n      <td>0_1</td>\n    </tr>\n    <tr>\n      <th>4</th>\n      <td>A1</td>\n      <td>AMT020a</td>\n      <td>AMT020a-13-1</td>\n      <td>NaN</td>\n      <td>2</td>\n      <td>0_1</td>\n    </tr>\n    <tr>\n      <th>...</th>\n      <td>...</td>\n      <td>...</td>\n      <td>...</td>\n      <td>...</td>\n      <td>...</td>\n      <td>...</td>\n    </tr>\n    <tr>\n      <th>857</th>\n      <td>PEG</td>\n      <td>CRD014b</td>\n      <td>CRD014b-24-2</td>\n      <td>7.5</td>\n      <td>5</td>\n      <td>0_1_2_3_4</td>\n    </tr>\n    <tr>\n      <th>858</th>\n      <td>PEG</td>\n      <td>CRD014b</td>\n      <td>CRD014b-27-1</td>\n      <td>12.5</td>\n      <td>5</td>\n      <td>0_1_2_3_4</td>\n    </tr>\n    <tr>\n      <th>859</th>\n      <td>PEG</td>\n      <td>CRD014b</td>\n      <td>CRD014b-27-2</td>\n      <td>7.5</td>\n      <td>5</td>\n      <td>0_1_2_3_4</td>\n    </tr>\n    <tr>\n      <th>860</th>\n      <td>PEG</td>\n      <td>CRD014b</td>\n      <td>CRD014b-27-3</td>\n      <td>7.5</td>\n      <td>5</td>\n      <td>0_1_2_3_4</td>\n    </tr>\n    <tr>\n      <th>861</th>\n      <td>PEG</td>\n      <td>CRD014b</td>\n      <td>CRD014b-29-1</td>\n      <td>20.0</td>\n      <td>5</td>\n      <td>0_1_2_3_4</td>\n    </tr>\n  </tbody>\n</table>\n<p>22412 rows × 6 columns</p>\n</div>"
     },
     "metadata": {},
     "output_type": "display_data"
    }
   ],
   "source": [
    "# probes\n",
    "display(ctx_subsamp_signif)"
   ],
   "metadata": {
    "collapsed": false,
    "pycharm": {
     "name": "#%%\n"
    }
   }
  },
  {
   "cell_type": "markdown",
   "source": [
    "## Proportion of significant instances for individual cells\n",
    "only looking at cells with at least one significant instance"
   ],
   "metadata": {
    "collapsed": false,
    "pycharm": {
     "name": "#%% md\n"
    }
   }
  },
  {
   "cell_type": "code",
   "execution_count": 91,
   "outputs": [
    {
     "data": {
      "text/plain": "Text(0.5, 0.98, 'Proportion of significant instances\\nfor individual cells')"
     },
     "execution_count": 91,
     "metadata": {},
     "output_type": "execute_result"
    },
    {
     "data": {
      "text/plain": "<Figure size 720x360 with 2 Axes>",
      "image/png": "[encoded data removed]"
     },
     "metadata": {},
     "output_type": "display_data"
    }
   ],
   "source": [
    "fig, (ctx_ax, prb_ax) = plt.subplots(1, 2, sharey=True, figsize=[10,5])\n",
    "_ = sns.pointplot(x='n_contexts', y='signif_proportion', data=ctx_subsamp_signif, hue='region', dodge=True, ax=ctx_ax)\n",
    "_ = sns.pointplot(x='n_probes', y='signif_proportion', data=prb_subsamp_signif, hue='region', dodge=True, ax=prb_ax)\n",
    "\n",
    "fig.suptitle('Proportion of significant instances\\nfor individual cells', fontsize=20)"
   ],
   "metadata": {
    "collapsed": false,
    "pycharm": {
     "name": "#%%\n"
    }
   }
  },
  {
   "cell_type": "markdown",
   "source": [
    "## count of significant cells by site and or region"
   ],
   "metadata": {
    "collapsed": false
   }
  },
  {
   "cell_type": "code",
   "execution_count": null,
   "outputs": [],
   "source": [
    "# collapses across neurons. Keeps information about region and ctx / prb subsamples.\n",
    "\n",
    "ctx_count_by_site = ctx_subsamp_signif.set_index(['region','site', 'n_contexts','ctx_group']\n",
    "                                     ).groupby(['region', 'site', 'n_contexts','ctx_group']\n",
    "                                     ).agg(signfi_cell_prop=('signif_proportion', nonan_proportion)).reset_index()\n",
    "\n",
    "prb_count_by_site = prb_subsamp_signif.set_index(['region','site', 'n_probes','prb_group']\n",
    "                                     ).groupby(['region', 'site', 'n_probes','prb_group']\n",
    "                                     ).agg(signfi_cell_prop=('signif_proportion', nonan_proportion)).reset_index()\n"
   ],
   "metadata": {
    "collapsed": false,
    "pycharm": {
     "name": "#%%\n"
    }
   }
  },
  {
   "cell_type": "code",
   "execution_count": null,
   "outputs": [],
   "source": [
    "# collapses across neurons, grouping by site. Keeps information about region and ctx / prb subsamples.\n",
    "\n",
    "# ctx_count_by_site = ctx_subsamp_signif.set_index(['region','site', 'n_contexts','ctx_group']\n",
    "#                                      ).groupby(['region', 'site', 'n_contexts','ctx_group']\n",
    "#                                      ).agg(signfi_cell_prop=('signif_proportion', nonan_proportion)\n",
    "#                                      ).groupby(['region', 'site', 'n_contexts']\n",
    "#                                      ).agg(signfi_cell_prop=('signfi_cell_prop', np.nanmean)).reset_index()\n",
    "#\n",
    "# prb_count_by_site = prb_subsamp_signif.set_index(['region','site', 'n_probes','prb_group']\n",
    "#                                      ).groupby(['region', 'site', 'n_probes','prb_group']\n",
    "#                                      ).agg(signfi_cell_prop=('signif_proportion', nonan_proportion)\n",
    "#                                      ).groupby(['region', 'site', 'n_probes']\n",
    "#                                      ).agg(signfi_cell_prop=('signfi_cell_prop', np.nanmean)).reset_index()"
   ],
   "metadata": {
    "collapsed": false,
    "pycharm": {
     "name": "#%%\n"
    }
   }
  },
  {
   "cell_type": "code",
   "execution_count": null,
   "outputs": [],
   "source": [
    "fig, (ctx_ax, prb_ax) = plt.subplots(1, 2, sharey=True, figsize=[10,5])\n",
    "_ = sns.pointplot(x='n_contexts', y='signfi_cell_prop', hue='region', data=ctx_count_by_site,\n",
    "                  dodge=True, s=2, capsize=0.2, ci=68, ax=ctx_ax,)\n",
    "_ = sns.stripplot(x='n_contexts', y='signfi_cell_prop', hue='region', data=ctx_count_by_site,\n",
    "                  dodge=True, alpha=0.1, ax=ctx_ax)\n",
    "ctx_ax.legend([],[], frameon=False)\n",
    "\n",
    "_ = sns.pointplot(x='n_probes', y='signfi_cell_prop', hue='region', data=prb_count_by_site,\n",
    "                  dodge=True, s=2, capsize=0.2, ci=68, ax=prb_ax)\n",
    "_ = sns.stripplot(x='n_probes', y='signfi_cell_prop', hue='region', data=prb_count_by_site,\n",
    "                  dodge=True, alpha=0.1, ax=prb_ax)\n",
    "prb_ax.legend([],[], frameon=False)\n",
    "\n",
    "fig.suptitle('count of significant cells\\npers site', fontsize=20)"
   ],
   "metadata": {
    "collapsed": false,
    "pycharm": {
     "name": "#%%\n"
    }
   }
  },
  {
   "cell_type": "markdown",
   "source": [
    "# visualization of all cells in site\n",
    "explore an option of showinge all cells vs all combinations of context_pair * probe for a given site"
   ],
   "metadata": {
    "collapsed": false,
    "pycharm": {
     "name": "#%% md\n"
    }
   }
  },
  {
   "cell_type": "code",
   "execution_count": 95,
   "outputs": [
    {
     "data": {
      "text/plain": "metric               center of mass (ms)                                       \\\nprobe                                  1                                        \ntrans_pair                     diff_diff                       same_diff        \ncontext_pair                         2_3        2_4        3_4       1_2  1_3   \nsite    id                                                                      \nAMT020a AMT020a-02-1                 0.0   0.000000   0.000000       0.0  0.0   \n        AMT020a-04-1                 0.0   0.000000   0.000000       0.0  0.0   \n        AMT020a-07-1                 0.0   0.000000   0.000000       0.0  0.0   \n        AMT020a-08-1                 0.0   0.000000   0.000000       0.0  0.0   \n        AMT020a-13-1                 0.0   0.000000   0.000000       0.0  0.0   \n...                                  ...        ...        ...       ...  ...   \nCRD014b CRD014b-24-2                 0.0   0.000000   0.000000       0.0  0.0   \n        CRD014b-27-1                 0.0   0.000000   0.000000       0.0  0.0   \n        CRD014b-27-2                 0.0  32.521713  62.695485       0.0  0.0   \n        CRD014b-27-3                 0.0   0.000000   0.000000       0.0  0.0   \n        CRD014b-29-1                 0.0   0.000000   0.000000       0.0  0.0   \n\nmetric                                                                       \\\nprobe                                                                         \ntrans_pair                silence_diff                         silence_same   \ncontext_pair          1_4          0_2         0_3         0_4          0_1   \nsite    id                                                                    \nAMT020a AMT020a-02-1  0.0     0.000000    0.000000    0.000000     0.000000   \n        AMT020a-04-1  0.0     0.000000    0.000000    0.000000     0.000000   \n        AMT020a-07-1  0.0     0.000000    0.000000    0.000000     0.000000   \n        AMT020a-08-1  0.0     0.000000    0.000000    0.000000     0.000000   \n        AMT020a-13-1  0.0     0.000000    0.000000    0.000000     0.000000   \n...                   ...          ...         ...         ...          ...   \nCRD014b CRD014b-24-2  0.0     0.000000    0.000000    0.000000     0.000000   \n        CRD014b-27-1  0.0    32.557402    0.000000    0.000000    30.758933   \n        CRD014b-27-2  0.0     0.000000    0.000000    0.000000     0.000000   \n        CRD014b-27-3  0.0     0.000000    0.000000    0.000000     0.000000   \n        CRD014b-29-1  0.0     0.000000  329.597729  303.670459   317.444265   \n\nmetric                ... integral (d'*ms)                                    \\\nprobe                 ...                4                                     \ntrans_pair            ...        diff_diff                         same_diff   \ncontext_pair          ...              1_2         1_3         2_3       1_4   \nsite    id            ...                                                      \nAMT020a AMT020a-02-1  ...          0.00000    0.000000    0.000000       0.0   \n        AMT020a-04-1  ...          0.00000    0.000000    0.000000       0.0   \n        AMT020a-07-1  ...          0.00000    0.000000    0.000000       0.0   \n        AMT020a-08-1  ...        135.52272    0.000000    0.000000       0.0   \n        AMT020a-13-1  ...          0.00000    0.000000    0.000000       0.0   \n...                   ...              ...         ...         ...       ...   \nCRD014b CRD014b-24-2  ...          0.00000    0.000000    0.000000       0.0   \n        CRD014b-27-1  ...          0.00000    0.000000    0.000000       0.0   \n        CRD014b-27-2  ...          0.00000    0.000000    0.000000       0.0   \n        CRD014b-27-3  ...          0.00000    0.000000    0.000000       0.0   \n        CRD014b-29-1  ...          0.00000  137.251142  104.264086       0.0   \n\nmetric                                                               \\\nprobe                                                                 \ntrans_pair                     silence_diff                           \ncontext_pair          2_4  3_4          0_1         0_2         0_3   \nsite    id                                                            \nAMT020a AMT020a-02-1  0.0  0.0     0.000000    0.000000    0.000000   \n        AMT020a-04-1  0.0  0.0     0.000000    0.000000    0.000000   \n        AMT020a-07-1  0.0  0.0     0.000000    0.000000    0.000000   \n        AMT020a-08-1  0.0  0.0     0.000000    0.000000    0.000000   \n        AMT020a-13-1  0.0  0.0     0.000000    0.000000    0.000000   \n...                   ...  ...          ...         ...         ...   \nCRD014b CRD014b-24-2  0.0  0.0   162.452584    0.000000    0.000000   \n        CRD014b-27-1  0.0  0.0   116.146470    0.000000  128.464261   \n        CRD014b-27-2  0.0  0.0     0.000000    0.000000    0.000000   \n        CRD014b-27-3  0.0  0.0     0.000000  120.234547  138.567704   \n        CRD014b-29-1  0.0  0.0     0.000000    0.000000  170.690331   \n\nmetric                             \nprobe                              \ntrans_pair           silence_same  \ncontext_pair                  0_4  \nsite    id                         \nAMT020a AMT020a-02-1     0.000000  \n        AMT020a-04-1     0.000000  \n        AMT020a-07-1     0.000000  \n        AMT020a-08-1     0.000000  \n        AMT020a-13-1     0.000000  \n...                           ...  \nCRD014b CRD014b-24-2   173.704710  \n        CRD014b-27-1   126.727824  \n        CRD014b-27-2     0.000000  \n        CRD014b-27-3     0.000000  \n        CRD014b-29-1     0.000000  \n\n[862 rows x 80 columns]",
      "text/html": "<div>\n<style scoped>\n    .dataframe tbody tr th:only-of-type {\n        vertical-align: middle;\n    }\n\n    .dataframe tbody tr th {\n        vertical-align: top;\n    }\n\n    .dataframe thead tr th {\n        text-align: left;\n    }\n\n    .dataframe thead tr:last-of-type th {\n        text-align: right;\n    }\n</style>\n<table border=\"1\" class=\"dataframe\">\n  <thead>\n    <tr>\n      <th></th>\n      <th>metric</th>\n      <th colspan=\"10\" halign=\"left\">center of mass (ms)</th>\n      <th>...</th>\n      <th colspan=\"10\" halign=\"left\">integral (d'*ms)</th>\n    </tr>\n    <tr>\n      <th></th>\n      <th>probe</th>\n      <th colspan=\"10\" halign=\"left\">1</th>\n      <th>...</th>\n      <th colspan=\"10\" halign=\"left\">4</th>\n    </tr>\n    <tr>\n      <th></th>\n      <th>trans_pair</th>\n      <th colspan=\"3\" halign=\"left\">diff_diff</th>\n      <th colspan=\"3\" halign=\"left\">same_diff</th>\n      <th colspan=\"3\" halign=\"left\">silence_diff</th>\n      <th>silence_same</th>\n      <th>...</th>\n      <th colspan=\"3\" halign=\"left\">diff_diff</th>\n      <th colspan=\"3\" halign=\"left\">same_diff</th>\n      <th colspan=\"3\" halign=\"left\">silence_diff</th>\n      <th>silence_same</th>\n    </tr>\n    <tr>\n      <th></th>\n      <th>context_pair</th>\n      <th>2_3</th>\n      <th>2_4</th>\n      <th>3_4</th>\n      <th>1_2</th>\n      <th>1_3</th>\n      <th>1_4</th>\n      <th>0_2</th>\n      <th>0_3</th>\n      <th>0_4</th>\n      <th>0_1</th>\n      <th>...</th>\n      <th>1_2</th>\n      <th>1_3</th>\n      <th>2_3</th>\n      <th>1_4</th>\n      <th>2_4</th>\n      <th>3_4</th>\n      <th>0_1</th>\n      <th>0_2</th>\n      <th>0_3</th>\n      <th>0_4</th>\n    </tr>\n    <tr>\n      <th>site</th>\n      <th>id</th>\n      <th></th>\n      <th></th>\n      <th></th>\n      <th></th>\n      <th></th>\n      <th></th>\n      <th></th>\n      <th></th>\n      <th></th>\n      <th></th>\n      <th></th>\n      <th></th>\n      <th></th>\n      <th></th>\n      <th></th>\n      <th></th>\n      <th></th>\n      <th></th>\n      <th></th>\n      <th></th>\n      <th></th>\n    </tr>\n  </thead>\n  <tbody>\n    <tr>\n      <th rowspan=\"5\" valign=\"top\">AMT020a</th>\n      <th>AMT020a-02-1</th>\n      <td>0.0</td>\n      <td>0.000000</td>\n      <td>0.000000</td>\n      <td>0.0</td>\n      <td>0.0</td>\n      <td>0.0</td>\n      <td>0.000000</td>\n      <td>0.000000</td>\n      <td>0.000000</td>\n      <td>0.000000</td>\n      <td>...</td>\n      <td>0.00000</td>\n      <td>0.000000</td>\n      <td>0.000000</td>\n      <td>0.0</td>\n      <td>0.0</td>\n      <td>0.0</td>\n      <td>0.000000</td>\n      <td>0.000000</td>\n      <td>0.000000</td>\n      <td>0.000000</td>\n    </tr>\n    <tr>\n      <th>AMT020a-04-1</th>\n      <td>0.0</td>\n      <td>0.000000</td>\n      <td>0.000000</td>\n      <td>0.0</td>\n      <td>0.0</td>\n      <td>0.0</td>\n      <td>0.000000</td>\n      <td>0.000000</td>\n      <td>0.000000</td>\n      <td>0.000000</td>\n      <td>...</td>\n      <td>0.00000</td>\n      <td>0.000000</td>\n      <td>0.000000</td>\n      <td>0.0</td>\n      <td>0.0</td>\n      <td>0.0</td>\n      <td>0.000000</td>\n      <td>0.000000</td>\n      <td>0.000000</td>\n      <td>0.000000</td>\n    </tr>\n    <tr>\n      <th>AMT020a-07-1</th>\n      <td>0.0</td>\n      <td>0.000000</td>\n      <td>0.000000</td>\n      <td>0.0</td>\n      <td>0.0</td>\n      <td>0.0</td>\n      <td>0.000000</td>\n      <td>0.000000</td>\n      <td>0.000000</td>\n      <td>0.000000</td>\n      <td>...</td>\n      <td>0.00000</td>\n      <td>0.000000</td>\n      <td>0.000000</td>\n      <td>0.0</td>\n      <td>0.0</td>\n      <td>0.0</td>\n      <td>0.000000</td>\n      <td>0.000000</td>\n      <td>0.000000</td>\n      <td>0.000000</td>\n    </tr>\n    <tr>\n      <th>AMT020a-08-1</th>\n      <td>0.0</td>\n      <td>0.000000</td>\n      <td>0.000000</td>\n      <td>0.0</td>\n      <td>0.0</td>\n      <td>0.0</td>\n      <td>0.000000</td>\n      <td>0.000000</td>\n      <td>0.000000</td>\n      <td>0.000000</td>\n      <td>...</td>\n      <td>135.52272</td>\n      <td>0.000000</td>\n      <td>0.000000</td>\n      <td>0.0</td>\n      <td>0.0</td>\n      <td>0.0</td>\n      <td>0.000000</td>\n      <td>0.000000</td>\n      <td>0.000000</td>\n      <td>0.000000</td>\n    </tr>\n    <tr>\n      <th>AMT020a-13-1</th>\n      <td>0.0</td>\n      <td>0.000000</td>\n      <td>0.000000</td>\n      <td>0.0</td>\n      <td>0.0</td>\n      <td>0.0</td>\n      <td>0.000000</td>\n      <td>0.000000</td>\n      <td>0.000000</td>\n      <td>0.000000</td>\n      <td>...</td>\n      <td>0.00000</td>\n      <td>0.000000</td>\n      <td>0.000000</td>\n      <td>0.0</td>\n      <td>0.0</td>\n      <td>0.0</td>\n      <td>0.000000</td>\n      <td>0.000000</td>\n      <td>0.000000</td>\n      <td>0.000000</td>\n    </tr>\n    <tr>\n      <th>...</th>\n      <th>...</th>\n      <td>...</td>\n      <td>...</td>\n      <td>...</td>\n      <td>...</td>\n      <td>...</td>\n      <td>...</td>\n      <td>...</td>\n      <td>...</td>\n      <td>...</td>\n      <td>...</td>\n      <td>...</td>\n      <td>...</td>\n      <td>...</td>\n      <td>...</td>\n      <td>...</td>\n      <td>...</td>\n      <td>...</td>\n      <td>...</td>\n      <td>...</td>\n      <td>...</td>\n      <td>...</td>\n    </tr>\n    <tr>\n      <th rowspan=\"5\" valign=\"top\">CRD014b</th>\n      <th>CRD014b-24-2</th>\n      <td>0.0</td>\n      <td>0.000000</td>\n      <td>0.000000</td>\n      <td>0.0</td>\n      <td>0.0</td>\n      <td>0.0</td>\n      <td>0.000000</td>\n      <td>0.000000</td>\n      <td>0.000000</td>\n      <td>0.000000</td>\n      <td>...</td>\n      <td>0.00000</td>\n      <td>0.000000</td>\n      <td>0.000000</td>\n      <td>0.0</td>\n      <td>0.0</td>\n      <td>0.0</td>\n      <td>162.452584</td>\n      <td>0.000000</td>\n      <td>0.000000</td>\n      <td>173.704710</td>\n    </tr>\n    <tr>\n      <th>CRD014b-27-1</th>\n      <td>0.0</td>\n      <td>0.000000</td>\n      <td>0.000000</td>\n      <td>0.0</td>\n      <td>0.0</td>\n      <td>0.0</td>\n      <td>32.557402</td>\n      <td>0.000000</td>\n      <td>0.000000</td>\n      <td>30.758933</td>\n      <td>...</td>\n      <td>0.00000</td>\n      <td>0.000000</td>\n      <td>0.000000</td>\n      <td>0.0</td>\n      <td>0.0</td>\n      <td>0.0</td>\n      <td>116.146470</td>\n      <td>0.000000</td>\n      <td>128.464261</td>\n      <td>126.727824</td>\n    </tr>\n    <tr>\n      <th>CRD014b-27-2</th>\n      <td>0.0</td>\n      <td>32.521713</td>\n      <td>62.695485</td>\n      <td>0.0</td>\n      <td>0.0</td>\n      <td>0.0</td>\n      <td>0.000000</td>\n      <td>0.000000</td>\n      <td>0.000000</td>\n      <td>0.000000</td>\n      <td>...</td>\n      <td>0.00000</td>\n      <td>0.000000</td>\n      <td>0.000000</td>\n      <td>0.0</td>\n      <td>0.0</td>\n      <td>0.0</td>\n      <td>0.000000</td>\n      <td>0.000000</td>\n      <td>0.000000</td>\n      <td>0.000000</td>\n    </tr>\n    <tr>\n      <th>CRD014b-27-3</th>\n      <td>0.0</td>\n      <td>0.000000</td>\n      <td>0.000000</td>\n      <td>0.0</td>\n      <td>0.0</td>\n      <td>0.0</td>\n      <td>0.000000</td>\n      <td>0.000000</td>\n      <td>0.000000</td>\n      <td>0.000000</td>\n      <td>...</td>\n      <td>0.00000</td>\n      <td>0.000000</td>\n      <td>0.000000</td>\n      <td>0.0</td>\n      <td>0.0</td>\n      <td>0.0</td>\n      <td>0.000000</td>\n      <td>120.234547</td>\n      <td>138.567704</td>\n      <td>0.000000</td>\n    </tr>\n    <tr>\n      <th>CRD014b-29-1</th>\n      <td>0.0</td>\n      <td>0.000000</td>\n      <td>0.000000</td>\n      <td>0.0</td>\n      <td>0.0</td>\n      <td>0.0</td>\n      <td>0.000000</td>\n      <td>329.597729</td>\n      <td>303.670459</td>\n      <td>317.444265</td>\n      <td>...</td>\n      <td>0.00000</td>\n      <td>137.251142</td>\n      <td>104.264086</td>\n      <td>0.0</td>\n      <td>0.0</td>\n      <td>0.0</td>\n      <td>0.000000</td>\n      <td>0.000000</td>\n      <td>170.690331</td>\n      <td>0.000000</td>\n    </tr>\n  </tbody>\n</table>\n<p>862 rows × 80 columns</p>\n</div>"
     },
     "metadata": {},
     "output_type": "display_data"
    }
   ],
   "source": [
    "# cell_descriptio = filtered.pivot_table\n",
    "# display(full_long)\n",
    "pivot_ready = full_long.loc[full_long.analysis == 'single cell',\n",
    "                            ['region', 'id', 'trans_pair', 'context_pair', 'probe', 'metric', 'value']]\n",
    "pivot_ready['site'] = pivot_ready.id.apply(lambda x: x[:7])\n",
    "\n",
    "\n",
    "summary = pivot_ready.pivot_table(values='value', index=['region', 'site', 'id'],\n",
    "                                  columns=['metric', 'probe', 'trans_pair', 'context_pair'], fill_value=np.nan)\n",
    "\n",
    "summary.index = summary.index.droplevel(0)\n",
    "display(summary)"
   ],
   "metadata": {
    "collapsed": false,
    "pycharm": {
     "name": "#%%\n"
    }
   }
  },
  {
   "cell_type": "code",
   "execution_count": 96,
   "outputs": [
    {
     "data": {
      "text/plain": "<AxesSubplot:ylabel='id'>"
     },
     "execution_count": 96,
     "metadata": {},
     "output_type": "execute_result"
    },
    {
     "data": {
      "text/plain": "<Figure size 288x288 with 2 Axes>",
      "image/png": "[encoded data removed]"
     },
     "metadata": {},
     "output_type": "display_data"
    }
   ],
   "source": [
    "site = 'CRD012b'\n",
    "# site = 'ARM021b'\n",
    "site_eg = summary.loc[[site], [\"integral (d'*ms)\",]].droplevel(level=0, axis=0)\n",
    "site_eg.columns = range(site_eg.shape[1])\n",
    "site_eg\n",
    "sns.heatmap(data=site_eg, xticklabels=False)"
   ],
   "metadata": {
    "collapsed": false,
    "pycharm": {
     "name": "#%%\n"
    }
   }
  },
  {
   "cell_type": "markdown",
   "source": [
    "# is context or probes driving the diversity in contextual effects??"
   ],
   "metadata": {
    "collapsed": false,
    "pycharm": {
     "name": "#%% md\n"
    }
   }
  },
  {
   "cell_type": "code",
   "execution_count": 103,
   "outputs": [],
   "source": [
    "# display(filtered)\n",
    "\n",
    "group_ready = filtered.set_index(['region', 'id', 'context_pair', 'trans_pair', 'probe'])\n",
    "prb_diversity = group_ready.groupby(['region', 'id', 'context_pair']).agg(signif_proportion=(\"integral (d'*ms)\", signif_proportion))\n",
    "ctx_diversity = group_ready.groupby(['region', 'id', 'probe']).agg(signif_proportion=(\"integral (d'*ms)\", signif_proportion))"
   ],
   "metadata": {
    "collapsed": false,
    "pycharm": {
     "name": "#%%\n"
    }
   }
  },
  {
   "cell_type": "code",
   "execution_count": 104,
   "outputs": [
    {
     "data": {
      "text/plain": "     diversity region            id  signif_proportion\n0        probe     A1  AMT020a-02-1          25.000000\n1        probe     A1  AMT020a-04-1                NaN\n2        probe     A1  AMT020a-07-1                NaN\n3        probe     A1  AMT020a-08-1          33.333333\n4        probe     A1  AMT020a-13-1                NaN\n...        ...    ...           ...                ...\n1719   context    PEG  CRD014b-24-2          15.000000\n1720   context    PEG  CRD014b-27-1          25.000000\n1721   context    PEG  CRD014b-27-2          15.000000\n1722   context    PEG  CRD014b-27-3          15.000000\n1723   context    PEG  CRD014b-29-1          20.000000\n\n[1724 rows x 4 columns]",
      "text/html": "<div>\n<style scoped>\n    .dataframe tbody tr th:only-of-type {\n        vertical-align: middle;\n    }\n\n    .dataframe tbody tr th {\n        vertical-align: top;\n    }\n\n    .dataframe thead th {\n        text-align: right;\n    }\n</style>\n<table border=\"1\" class=\"dataframe\">\n  <thead>\n    <tr style=\"text-align: right;\">\n      <th></th>\n      <th>diversity</th>\n      <th>region</th>\n      <th>id</th>\n      <th>signif_proportion</th>\n    </tr>\n  </thead>\n  <tbody>\n    <tr>\n      <th>0</th>\n      <td>probe</td>\n      <td>A1</td>\n      <td>AMT020a-02-1</td>\n      <td>25.000000</td>\n    </tr>\n    <tr>\n      <th>1</th>\n      <td>probe</td>\n      <td>A1</td>\n      <td>AMT020a-04-1</td>\n      <td>NaN</td>\n    </tr>\n    <tr>\n      <th>2</th>\n      <td>probe</td>\n      <td>A1</td>\n      <td>AMT020a-07-1</td>\n      <td>NaN</td>\n    </tr>\n    <tr>\n      <th>3</th>\n      <td>probe</td>\n      <td>A1</td>\n      <td>AMT020a-08-1</td>\n      <td>33.333333</td>\n    </tr>\n    <tr>\n      <th>4</th>\n      <td>probe</td>\n      <td>A1</td>\n      <td>AMT020a-13-1</td>\n      <td>NaN</td>\n    </tr>\n    <tr>\n      <th>...</th>\n      <td>...</td>\n      <td>...</td>\n      <td>...</td>\n      <td>...</td>\n    </tr>\n    <tr>\n      <th>1719</th>\n      <td>context</td>\n      <td>PEG</td>\n      <td>CRD014b-24-2</td>\n      <td>15.000000</td>\n    </tr>\n    <tr>\n      <th>1720</th>\n      <td>context</td>\n      <td>PEG</td>\n      <td>CRD014b-27-1</td>\n      <td>25.000000</td>\n    </tr>\n    <tr>\n      <th>1721</th>\n      <td>context</td>\n      <td>PEG</td>\n      <td>CRD014b-27-2</td>\n      <td>15.000000</td>\n    </tr>\n    <tr>\n      <th>1722</th>\n      <td>context</td>\n      <td>PEG</td>\n      <td>CRD014b-27-3</td>\n      <td>15.000000</td>\n    </tr>\n    <tr>\n      <th>1723</th>\n      <td>context</td>\n      <td>PEG</td>\n      <td>CRD014b-29-1</td>\n      <td>20.000000</td>\n    </tr>\n  </tbody>\n</table>\n<p>1724 rows × 4 columns</p>\n</div>"
     },
     "metadata": {},
     "output_type": "display_data"
    }
   ],
   "source": [
    "# display(prb_diversity)\n",
    "# display(ctx_diversity)\n",
    "diversity = pd.concat([prb_diversity, ctx_diversity], axis=0,keys=['probe', 'context'],\n",
    "                      names = ['diversity', 'region', 'id', 'sound_id'])\n",
    "\n",
    "# take average diversity per cell\n",
    "diversity.loc[diversity.signif_proportion == 0, ['signif_proportion']] = np.nan\n",
    "diversity = diversity.groupby(['diversity', 'region', 'id']).agg(np.nanmean)\n",
    "diversity.reset_index(inplace=True)\n",
    "display(diversity)"
   ],
   "metadata": {
    "collapsed": false,
    "pycharm": {
     "name": "#%%\n"
    }
   }
  },
  {
   "cell_type": "code",
   "execution_count": 106,
   "outputs": [
    {
     "data": {
      "text/plain": "<matplotlib.legend.Legend at 0x7fe85aa5d130>"
     },
     "execution_count": 106,
     "metadata": {},
     "output_type": "execute_result"
    },
    {
     "data": {
      "text/plain": "<Figure size 360x360 with 1 Axes>",
      "image/png": "[encoded data removed]"
     },
     "metadata": {},
     "output_type": "display_data"
    }
   ],
   "source": [
    "fig, ax = plt.subplots(figsize=(5,5))\n",
    "# sns.stripplot(x='diversity', y='signif_proportion', hue='region', data=diversity,\n",
    "#               dodge=True, alpha=0.1, ax=ax)\n",
    "sns.pointplot(x='diversity', y='signif_proportion', hue='region', data=diversity,\n",
    "              dodge=True, s=2, capsize=0.2, ci=68, ax=ax)\n",
    "\n",
    "ax.legend([],[], frameon=False)"
   ],
   "metadata": {
    "collapsed": false,
    "pycharm": {
     "name": "#%%\n"
    }
   }
  }
 ],
 "metadata": {
  "kernelspec": {
   "display_name": "Python 3",
   "language": "python",
   "name": "python3"
  },
  "language_info": {
   "codemirror_mode": {
    "name": "ipython",
    "version": 2
   },
   "file_extension": ".py",
   "mimetype": "text/x-python",
   "name": "python",
   "nbconvert_exporter": "python",
   "pygments_lexer": "ipython2",
   "version": "2.7.6"
  }
 },
 "nbformat": 4,
 "nbformat_minor": 0
}