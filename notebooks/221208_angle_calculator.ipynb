{
 "cells": [
  {
   "cell_type": "code",
   "execution_count": 1,
   "metadata": {
    "collapsed": true
   },
   "outputs": [],
   "source": [
    "from math import cos, sin, radians, tan, atan, degrees, pi"
   ]
  },
  {
   "cell_type": "markdown",
   "source": [
    " # trigonometry tool\n",
    "\n",
    "The lab Kopf manipulators have 2 degrees of rotation, which permit lowering electrodes into the brain.\n",
    "Adding the roll adaptor does not permit electrode insertion as they would sheer agains the brain, i.e., the line\n",
    "of descent is not parallel to the line of the electrode.\n",
    "This tool looks to achieve a desired pitch and roll angles by using only pitch and yaw.\n",
    "\n",
    "the naming of angles follow aviation.\n",
    "pitch: nose up or down\n",
    "yaw: nose left or right\n",
    "roll: nose stable, wings orbiting about the body\n",
    "\n",
    "The trigonometry to solve this problem was inspired by\n",
    "https://math.stackexchange.com/questions/2207665/projecting-an-angle-from-one-plane-to-another-plane"
   ],
   "metadata": {
    "collapsed": false
   }
  },
  {
   "cell_type": "code",
   "execution_count": 19,
   "outputs": [
    {
     "name": "stdout",
     "output_type": "stream",
     "text": [
      "desired pitch in fractions of pi: 0.21722222222222223\n",
      "desired roll in fractions of pi: 0.4594444444444445\n",
      "required pitch in fractions of pi: 0.202472350716036\n",
      "required yaw in fractions of pi: 0.03301916523919188\n"
     ]
    },
    {
     "data": {
      "text/plain": "(53.55497687111352, 5.943449743054537)"
     },
     "execution_count": 19,
     "metadata": {},
     "output_type": "execute_result"
    }
   ],
   "source": [
    "\n",
    "\n",
    "def get_pitch_and_yaw(desired_pitch, desired_roll, in_degrees=True):\n",
    "    \"\"\"\n",
    "    Gives required pitch and yaw angles given desired pitch and roll angles.\n",
    "    the pitch and roll angles are considered from a vertical plane and are given in degrees\n",
    "\n",
    "\n",
    "\n",
    "    args:\n",
    "        desired_pitch: float\n",
    "        desired_roll: float\n",
    "    returns:\n",
    "        required_pitch: float\n",
    "        required_yaw: float\n",
    "\n",
    "    [notes]\n",
    "    The lab Kopf manipulators have 2 degrees of rotation, which permit lowering electrodes into the brain.\n",
    "    Adding the roll adaptor does not permit electrode insertion as they would sheer agains the brain, i.e., the line\n",
    "    of descent is not parallel to the line of the electrode.\n",
    "    This tool looks to achieve a desired pitch and roll angles by using only pitch and yaw.\n",
    "\n",
    "    the naming of angles follow aviation.\n",
    "    pitch: nose up or down\n",
    "    yaw: nose left or right\n",
    "    roll: nose stable, wings orbiting about the body\n",
    "\n",
    "    The trigonometry to solve this problem was inspired by\n",
    "    https://math.stackexchange.com/questions/2207665/projecting-an-angle-from-one-plane-to-another-plane\n",
    "    \"\"\"\n",
    "    assert desired_roll !=0\n",
    "\n",
    "    # transforms into the equations horizontal frame of reference\n",
    "    des_pitch = radians(90-desired_pitch)\n",
    "    des_roll = radians(90-desired_roll)\n",
    "\n",
    "    # print(f'desired pitch in fractions of pi: {des_pitch/pi}')\n",
    "    # print(f'desired roll in fractions of pi: {des_roll/pi}')\n",
    "\n",
    "    required_yaw = atan(tan(des_pitch)/tan(des_roll))\n",
    "    required_pitch = atan(cos(required_yaw)) * tan(des_pitch)\n",
    "\n",
    "    # print(f'required pitch in fractions of pi: {required_pitch/pi}')\n",
    "    # print(f'required yaw in fractions of pi: {required_yaw/pi}')\n",
    "\n",
    "    # transforms back into the kopf vertical frame of reference\n",
    "    required_pitch = (pi/2) - required_pitch\n",
    "\n",
    "    # todo, calculate modulo 2 pi??\n",
    "\n",
    "    if in_degrees:\n",
    "        required_pitch = degrees(required_pitch)\n",
    "        required_yaw = degrees(required_yaw)\n",
    "    else:\n",
    "        pass\n",
    "\n",
    "    return required_pitch, required_yaw\n",
    "\n",
    "get_pitch_and_yaw(50.9, 7.3)\n"
   ],
   "metadata": {
    "collapsed": false,
    "pycharm": {
     "name": "#%%\n"
    }
   }
  },
  {
   "cell_type": "code",
   "execution_count": 18,
   "outputs": [
    {
     "name": "stdout",
     "output_type": "stream",
     "text": [
      "desired pitch in fractions of pi: 0.3888888888888889\n",
      "desired roll in fractions of pi: 0.4888888888888889\n",
      "required pitch in fractions of pi: 0.6848659563338051\n",
      "required yaw in fractions of pi: 0.0304467367784558\n"
     ]
    },
    {
     "data": {
      "text/plain": "(-33.275872140084914, 5.480412620122044)"
     },
     "execution_count": 18,
     "metadata": {},
     "output_type": "execute_result"
    }
   ],
   "source": [
    "get_pitch_and_yaw(20, 2)"
   ],
   "metadata": {
    "collapsed": false,
    "pycharm": {
     "name": "#%%\n"
    }
   }
  }
 ],
 "metadata": {
  "kernelspec": {
   "display_name": "Python 3",
   "language": "python",
   "name": "python3"
  },
  "language_info": {
   "codemirror_mode": {
    "name": "ipython",
    "version": 2
   },
   "file_extension": ".py",
   "mimetype": "text/x-python",
   "name": "python",
   "nbconvert_exporter": "python",
   "pygments_lexer": "ipython2",
   "version": "2.7.6"
  }
 },
 "nbformat": 4,
 "nbformat_minor": 0
}