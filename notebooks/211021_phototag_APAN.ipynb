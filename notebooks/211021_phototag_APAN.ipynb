{
 "cells": [
  {
   "cell_type": "code",
   "execution_count": 1,
   "metadata": {},
   "outputs": [
    {
     "name": "stderr",
     "output_type": "stream",
     "text": [
      "[nems.configs.defaults INFO] Saving log messages to /tmp/nems/NEMS 2021-10-22 135910.log\n",
      "/auto/users/mateo/nems_db/nems_lbhb/SettingXML.py:66: SyntaxWarning: \"is not\" with a literal. Did you mean \"!=\"?\n",
      "  {K: SubEl.get(K) for K in SubEl.keys() if K is not 'name'}\n",
      "/auto/users/mateo/nems_db/nems_lbhb/SettingXML.py:76: SyntaxWarning: \"is not\" with a literal. Did you mean \"!=\"?\n",
      "  {K: SubEl.get(K) for K in SubEl.keys() if K is not 'name'}\n",
      "/auto/users/mateo/nems_db/nems_lbhb/SettingXML.py:81: SyntaxWarning: \"is not\" with a literal. Did you mean \"!=\"?\n",
      "  {K: SubEl.get(K) for K in SubEl.keys() if K is not 'name'}\n",
      "/auto/users/mateo/nems_db/nems_lbhb/plots.py:757: SyntaxWarning: \"is\" with a literal. Did you mean \"==\"?\n",
      "  while tf is 0:\n",
      "/auto/users/mateo/NEMS/nems/fitters/mappers.py:17: SyntaxWarning: \"is\" with a literal. Did you mean \"==\"?\n",
      "  if which is 'lower':\n",
      "/auto/users/mateo/NEMS/nems/fitters/mappers.py:21: SyntaxWarning: \"is\" with a literal. Did you mean \"==\"?\n",
      "  elif which is 'upper':\n",
      "/auto/users/mateo/NEMS/nems/priors.py:78: SyntaxWarning: \"is\" with a literal. Did you mean \"==\"?\n",
      "  if method is 'mean':\n",
      "/auto/users/mateo/NEMS/nems/priors.py:80: SyntaxWarning: \"is\" with a literal. Did you mean \"==\"?\n",
      "  elif method is 'sample':\n",
      "/auto/users/mateo/NEMS/nems/priors.py:82: SyntaxWarning: \"is\" with a literal. Did you mean \"==\"?\n",
      "  elif method is 'percentile':\n"
     ]
    }
   ],
   "source": [
    "import matplotlib as mpl\n",
    "params = {'axes.spines.right': False,\n",
    "          'axes.spines.top': False,\n",
    "          'legend.fontsize': 12,\n",
    "          'axes.labelsize': 12,\n",
    "          'axes.titlesize': 12,\n",
    "          'xtick.labelsize': 12,\n",
    "          'ytick.labelsize': 12,\n",
    "          'pdf.fonttype': 42,\n",
    "          'ps.fonttype': 42}\n",
    "mpl.rcParams.update(params)\n",
    "import matplotlib.pyplot as plt\n",
    "import numpy as np\n",
    "\n",
    "import nems.db as nd\n",
    "from nems_lbhb.baphy_experiment import BAPHYExperiment\n",
    "from nems.utils import smooth\n",
    "from nems_lbhb import plots as nplt\n",
    "from nems.xform_helper import load_model_xform"
   ]
  },
  {
   "cell_type": "code",
   "execution_count": 2,
   "metadata": {},
   "outputs": [],
   "source": [
    "def get_rec(parmfile, cellid, rasterfs=1000):\n",
    "    e = BAPHYExperiment(parmfile=parmfile, cellid=cellid)\n",
    "    \n",
    "    #t = cellid.split(\"-\")\n",
    "    #e.channels_to_load = [int(t[1])]\n",
    "    #e.units_to_load = [int(t[2])]\n",
    "\n",
    "    options={'resp': 1, 'rasterfs': rasterfs}\n",
    "    \n",
    "    rec = e.get_recording(**options)\n",
    "    return rec"
   ]
  },
  {
   "cell_type": "markdown",
   "metadata": {},
   "source": [
    "# PSTH analysis"
   ]
  },
  {
   "cell_type": "markdown",
   "metadata": {},
   "source": [
    "Pick a run class"
   ]
  },
  {
   "cell_type": "code",
   "execution_count": 3,
   "metadata": {},
   "outputs": [
    {
     "name": "stderr",
     "output_type": "stream",
     "text": [
      "[numexpr.utils INFO] NumExpr defaulting to 8 threads.\n"
     ]
    },
    {
     "name": "stdout",
     "output_type": "stream",
     "text": [
      "363\n"
     ]
    },
    {
     "data": {
      "text/plain": "phototag\na     35\nn    144\ns    184\nName: cellid, dtype: int64"
     },
     "execution_count": 3,
     "metadata": {},
     "output_type": "execute_result"
    }
   ],
   "source": [
    "runclass='TOR'\n",
    "rasterfs=100\n",
    "\n",
    "runclass='CPN'\n",
    "rasterfs=100\n",
    "\n",
    "# runclass='FTC'\n",
    "#rasterfs=500\n",
    "\n",
    "sql=\"select sCellFile.*,gSingleCell.siteid,gSingleCell.phototag from gSingleCell INNER JOIN sCellFile ON gSingleCell.id=sCellFile.singleid\" +\\\n",
    "   \" INNER JOIN gRunClass on gRunClass.id=sCellFile.runclassid\" +\\\n",
    "   f\" WHERE gRunClass.name='{runclass}' AND not(isnull(phototag))\"\n",
    "d=nd.pd_query(sql)\n",
    "d['parmfile']=d['stimpath']+d['stimfile']\n",
    "print(len(d))\n",
    "d.groupby('phototag').count()['cellid']"
   ]
  },
  {
   "cell_type": "code",
   "execution_count": 4,
   "metadata": {},
   "outputs": [
    {
     "data": {
      "text/plain": "array(['/auto/data/daq/Teonancatl/TNC014/TNC014a09_p_CPN.m',\n       '/auto/data/daq/Teonancatl/TNC013/TNC013a09_p_CPN.m',\n       '/auto/data/daq/Teonancatl/TNC015/TNC015a11_p_CPN.m',\n       '/auto/data/daq/Teonancatl/TNC017/TNC017a11_p_CPN.m',\n       '/auto/data/daq/Teonancatl/TNC016/TNC016a11_p_CPN.m',\n       '/auto/data/daq/Teonancatl/TNC018/TNC018a12_p_CPN.m'], dtype=object)"
     },
     "execution_count": 4,
     "metadata": {},
     "output_type": "execute_result"
    }
   ],
   "source": [
    "d['parmfile'].unique()"
   ]
  },
  {
   "cell_type": "code",
   "execution_count": 5,
   "metadata": {},
   "outputs": [
    {
     "name": "stderr",
     "output_type": "stream",
     "text": [
      "[nems_lbhb.baphy_experiment INFO] Cached recording: /auto/data/nems_db/recordings/Teonancatl/TNC014a/TNC014a_b31e7be8fed4068d1280ca6abd783e7ccdbbeead.tgz\n",
      "[nems_lbhb.baphy_experiment INFO] Cached recording found\n"
     ]
    }
   ],
   "source": [
    "parmfile=\"/auto/data/daq/Teonancatl/TNC014/TNC014a09_p_CPN.m\"\n",
    "cellid=\"TNC014a-01-2\"\n",
    "rasterfs=1000  # or whatever rate you want\n",
    "\n",
    "e = BAPHYExperiment(parmfile=parmfile, cellid=cellid)\n",
    "options={'resp': 1, 'rasterfs': rasterfs}    \n",
    "rec = e.get_recording(**options)"
   ]
  },
  {
   "cell_type": "markdown",
   "metadata": {},
   "source": [
    "Load all A cells (sort of slow)"
   ]
  },
  {
   "cell_type": "code",
   "execution_count": 6,
   "metadata": {
    "scrolled": true
   },
   "outputs": [
    {
     "name": "stderr",
     "output_type": "stream",
     "text": [
      "[nems_lbhb.baphy_experiment INFO] Cached recording: /auto/data/nems_db/recordings/Teonancatl/TNC014a/TNC014a_963af78fd72e133caf2da6e7d1fb1c827f2cfa52.tgz\n",
      "[nems_lbhb.baphy_experiment INFO] Cached recording found\n",
      "[nems_lbhb.baphy_experiment INFO] Cached recording: /auto/data/nems_db/recordings/Teonancatl/TNC014a/TNC014a_93ba346b3536e077ccf702cc01af1246a49c940f.tgz\n",
      "[nems_lbhb.baphy_experiment INFO] Cached recording found\n",
      "[nems_lbhb.baphy_experiment INFO] Cached recording: /auto/data/nems_db/recordings/Teonancatl/TNC013a/TNC013a_768a45d9c847cbaf8efe5db41c0068c96162c069.tgz\n",
      "[nems_lbhb.baphy_experiment INFO] Cached recording found\n",
      "[nems_lbhb.baphy_experiment INFO] Cached recording: /auto/data/nems_db/recordings/Teonancatl/TNC013a/TNC013a_81f4cd3833bfd21ea929a80595ea51b1d0b1d9de.tgz\n",
      "[nems_lbhb.baphy_experiment INFO] Cached recording found\n",
      "[nems_lbhb.baphy_experiment INFO] Cached recording: /auto/data/nems_db/recordings/Teonancatl/TNC013a/TNC013a_7d6b1ef70a38d890f5cd1675f0fcd59a0069bdad.tgz\n",
      "[nems_lbhb.baphy_experiment INFO] Cached recording found\n",
      "[nems_lbhb.baphy_experiment INFO] Cached recording: /auto/data/nems_db/recordings/Teonancatl/TNC013a/TNC013a_6e640d560814f680491eeca4882ad46837fcfea5.tgz\n",
      "[nems_lbhb.baphy_experiment INFO] Cached recording found\n",
      "[nems_lbhb.baphy_experiment INFO] Cached recording: /auto/data/nems_db/recordings/Teonancatl/TNC013a/TNC013a_9d6a68f8f5bde4bde20920c5c0d9883b26b8a399.tgz\n",
      "[nems_lbhb.baphy_experiment INFO] Cached recording found\n",
      "[nems_lbhb.baphy_experiment INFO] Cached recording: /auto/data/nems_db/recordings/Teonancatl/TNC013a/TNC013a_8e8d20826b5204e01feb50fa4f534fc985f842f9.tgz\n",
      "[nems_lbhb.baphy_experiment INFO] Cached recording found\n",
      "[nems_lbhb.baphy_experiment INFO] Cached recording: /auto/data/nems_db/recordings/Teonancatl/TNC013a/TNC013a_a1703be5633aa8a6854889af96d4aae5ce497d70.tgz\n",
      "[nems_lbhb.baphy_experiment INFO] Cached recording found\n",
      "[nems_lbhb.baphy_experiment INFO] Cached recording: /auto/data/nems_db/recordings/Teonancatl/TNC013a/TNC013a_d65d368719245c7fc19951e36b8082691b61a1df.tgz\n",
      "[nems_lbhb.baphy_experiment INFO] Cached recording found\n",
      "[nems_lbhb.baphy_experiment INFO] Cached recording: /auto/data/nems_db/recordings/Teonancatl/TNC013a/TNC013a_b153260ed7f67cea8dbcd8505cf0ab767ff035b7.tgz\n",
      "[nems_lbhb.baphy_experiment INFO] Cached recording found\n",
      "[nems_lbhb.baphy_experiment INFO] Cached recording: /auto/data/nems_db/recordings/Teonancatl/TNC013a/TNC013a_94c4810a70f9a0efbbf0a7da4b653fbded5a40eb.tgz\n",
      "[nems_lbhb.baphy_experiment INFO] Cached recording found\n",
      "[nems_lbhb.baphy_experiment INFO] Cached recording: /auto/data/nems_db/recordings/Teonancatl/TNC013a/TNC013a_2babe3981a8791eeb27c12cc8aee656f6a670f3e.tgz\n",
      "[nems_lbhb.baphy_experiment INFO] Cached recording found\n",
      "[nems_lbhb.baphy_experiment INFO] Cached recording: /auto/data/nems_db/recordings/Teonancatl/TNC013a/TNC013a_cce7e6bccee869d1ab048b749d2bc9083f926344.tgz\n",
      "[nems_lbhb.baphy_experiment INFO] Cached recording found\n",
      "[nems_lbhb.baphy_experiment INFO] Cached recording: /auto/data/nems_db/recordings/Teonancatl/TNC015a/TNC015a_b5a9957cf13c3fecbba99d7095fe41d70bf5e840.tgz\n",
      "[nems_lbhb.baphy_io INFO] Loading /auto/data/daq/Teonancatl/TNC015/TNC015a11_p_CPN.m\n",
      "[nems_lbhb.baphy_io INFO] evp file for licks: /auto/data/daq/Teonancatl/TNC015/TNC015a11_p_CPN.evp\n",
      "[nems_lbhb.baphy_io INFO] Loading /auto/data/daq/Teonancatl/TNC015/TNC015a11_p_CPN.m\n",
      "[nems_lbhb.baphy_io INFO] evp file for licks: /auto/data/daq/Teonancatl/TNC015/TNC015a11_p_CPN.evp\n",
      "[nems_lbhb.baphy_experiment INFO] Remove post-response events\n",
      "[nems_lbhb.baphy_experiment INFO] Removing post-reponse data\n",
      "[nems_lbhb.baphy_io INFO] rounding Trial offset spike times to even number of rasterfs bins\n",
      "[nems_lbhb.baphy_io INFO] 200 trials totaling 2940.34 sec\n",
      "[nems_lbhb.baphy_io INFO] Loading /auto/data/daq/Teonancatl/TNC015/TNC015a11_p_CPN.m\n",
      "[nems_lbhb.baphy_io INFO] evp file for licks: /auto/data/daq/Teonancatl/TNC015/TNC015a11_p_CPN.evp\n",
      "[nems_lbhb.baphy_experiment INFO] Creating trial epochs\n",
      "[nems_lbhb.baphy_experiment INFO] Creating stim epochs\n",
      "[nems_lbhb.baphy_experiment INFO] Creating Light epochs\n",
      "[nems_lbhb.baphy_io INFO] rounding Trial offset spike times to even number of rasterfs bins\n",
      "[nems_lbhb.baphy_io INFO] 200 trials totaling 2940.34 sec\n",
      "[nems_lbhb.baphy_experiment INFO] Caching recording: /auto/data/nems_db/recordings/Teonancatl/TNC015a/TNC015a_b5a9957cf13c3fecbba99d7095fe41d70bf5e840.tgz\n",
      "[nems.recording INFO] Saving recording to : /auto/data/nems_db/recordings/Teonancatl/TNC015a/TNC015a_b5a9957cf13c3fecbba99d7095fe41d70bf5e840.tgz\n"
     ]
    },
    {
     "name": "stdout",
     "output_type": "stream",
     "text": [
      "0 resp\n"
     ]
    },
    {
     "name": "stderr",
     "output_type": "stream",
     "text": [
      "[nems_lbhb.baphy_experiment INFO] Cached recording: /auto/data/nems_db/recordings/Teonancatl/TNC015a/TNC015a_ed8c7aa3266bd352523307ec4720ff703467bc12.tgz\n",
      "[nems_lbhb.baphy_io INFO] Loading /auto/data/daq/Teonancatl/TNC015/TNC015a11_p_CPN.m\n",
      "[nems_lbhb.baphy_io INFO] evp file for licks: /auto/data/daq/Teonancatl/TNC015/TNC015a11_p_CPN.evp\n",
      "[nems_lbhb.baphy_io INFO] Loading /auto/data/daq/Teonancatl/TNC015/TNC015a11_p_CPN.m\n",
      "[nems_lbhb.baphy_io INFO] evp file for licks: /auto/data/daq/Teonancatl/TNC015/TNC015a11_p_CPN.evp\n",
      "[nems_lbhb.baphy_experiment INFO] Remove post-response events\n",
      "[nems_lbhb.baphy_experiment INFO] Removing post-reponse data\n",
      "[nems_lbhb.baphy_io INFO] rounding Trial offset spike times to even number of rasterfs bins\n",
      "[nems_lbhb.baphy_io INFO] 200 trials totaling 2940.34 sec\n",
      "[nems_lbhb.baphy_io INFO] Loading /auto/data/daq/Teonancatl/TNC015/TNC015a11_p_CPN.m\n",
      "[nems_lbhb.baphy_io INFO] evp file for licks: /auto/data/daq/Teonancatl/TNC015/TNC015a11_p_CPN.evp\n",
      "[nems_lbhb.baphy_experiment INFO] Creating trial epochs\n",
      "[nems_lbhb.baphy_experiment INFO] Creating stim epochs\n",
      "[nems_lbhb.baphy_experiment INFO] Creating Light epochs\n",
      "[nems_lbhb.baphy_io INFO] rounding Trial offset spike times to even number of rasterfs bins\n",
      "[nems_lbhb.baphy_io INFO] 200 trials totaling 2940.34 sec\n",
      "[nems_lbhb.baphy_experiment INFO] Caching recording: /auto/data/nems_db/recordings/Teonancatl/TNC015a/TNC015a_ed8c7aa3266bd352523307ec4720ff703467bc12.tgz\n",
      "[nems.recording INFO] Saving recording to : /auto/data/nems_db/recordings/Teonancatl/TNC015a/TNC015a_ed8c7aa3266bd352523307ec4720ff703467bc12.tgz\n"
     ]
    },
    {
     "name": "stdout",
     "output_type": "stream",
     "text": [
      "0 resp\n"
     ]
    },
    {
     "name": "stderr",
     "output_type": "stream",
     "text": [
      "[nems_lbhb.baphy_experiment INFO] Cached recording: /auto/data/nems_db/recordings/Teonancatl/TNC015a/TNC015a_bc686e5ade9d8b8867de775df2db44d59b54c158.tgz\n",
      "[nems_lbhb.baphy_experiment INFO] Cached recording found\n",
      "[nems_lbhb.baphy_experiment INFO] Cached recording: /auto/data/nems_db/recordings/Teonancatl/TNC015a/TNC015a_ea631cc8dcdf84e3679d9dfb2ede9b170618772d.tgz\n",
      "[nems_lbhb.baphy_experiment INFO] Cached recording found\n",
      "[nems_lbhb.baphy_experiment INFO] Cached recording: /auto/data/nems_db/recordings/Teonancatl/TNC015a/TNC015a_390dd0746d8ae36a7aa009c91d4b7f6916833086.tgz\n",
      "[nems_lbhb.baphy_io INFO] Loading /auto/data/daq/Teonancatl/TNC015/TNC015a11_p_CPN.m\n",
      "[nems_lbhb.baphy_io INFO] evp file for licks: /auto/data/daq/Teonancatl/TNC015/TNC015a11_p_CPN.evp\n",
      "[nems_lbhb.baphy_io INFO] Loading /auto/data/daq/Teonancatl/TNC015/TNC015a11_p_CPN.m\n",
      "[nems_lbhb.baphy_io INFO] evp file for licks: /auto/data/daq/Teonancatl/TNC015/TNC015a11_p_CPN.evp\n",
      "[nems_lbhb.baphy_experiment INFO] Remove post-response events\n",
      "[nems_lbhb.baphy_experiment INFO] Removing post-reponse data\n",
      "[nems_lbhb.baphy_io INFO] rounding Trial offset spike times to even number of rasterfs bins\n",
      "[nems_lbhb.baphy_io INFO] 200 trials totaling 2940.34 sec\n",
      "[nems_lbhb.baphy_io INFO] Loading /auto/data/daq/Teonancatl/TNC015/TNC015a11_p_CPN.m\n",
      "[nems_lbhb.baphy_io INFO] evp file for licks: /auto/data/daq/Teonancatl/TNC015/TNC015a11_p_CPN.evp\n",
      "[nems_lbhb.baphy_experiment INFO] Creating trial epochs\n",
      "[nems_lbhb.baphy_experiment INFO] Creating stim epochs\n",
      "[nems_lbhb.baphy_experiment INFO] Creating Light epochs\n",
      "[nems_lbhb.baphy_io INFO] rounding Trial offset spike times to even number of rasterfs bins\n",
      "[nems_lbhb.baphy_io INFO] 200 trials totaling 2940.34 sec\n",
      "[nems_lbhb.baphy_experiment INFO] Caching recording: /auto/data/nems_db/recordings/Teonancatl/TNC015a/TNC015a_390dd0746d8ae36a7aa009c91d4b7f6916833086.tgz\n",
      "[nems.recording INFO] Saving recording to : /auto/data/nems_db/recordings/Teonancatl/TNC015a/TNC015a_390dd0746d8ae36a7aa009c91d4b7f6916833086.tgz\n",
      "[nems_lbhb.baphy_experiment INFO] Cached recording: /auto/data/nems_db/recordings/Teonancatl/TNC015a/TNC015a_f8e90571484087c31631b4bca1b525d3e3487022.tgz\n",
      "[nems_lbhb.baphy_experiment INFO] Cached recording found\n",
      "[nems_lbhb.baphy_experiment INFO] Cached recording: /auto/data/nems_db/recordings/Teonancatl/TNC017a/TNC017a_0cc09d66ebccf00dc87f8a7b9420bd6e5fcdbfe8.tgz\n",
      "[nems_lbhb.baphy_io INFO] Loading /auto/data/daq/Teonancatl/TNC017/TNC017a11_p_CPN.m\n"
     ]
    },
    {
     "name": "stdout",
     "output_type": "stream",
     "text": [
      "0 resp\n"
     ]
    },
    {
     "name": "stderr",
     "output_type": "stream",
     "text": [
      "[nems_lbhb.baphy_io INFO] evp file for licks: /auto/data/daq/Teonancatl/TNC017/TNC017a11_p_CPN.evp\n",
      "[nems_lbhb.baphy_io INFO] Loading /auto/data/daq/Teonancatl/TNC017/TNC017a11_p_CPN.m\n",
      "[nems_lbhb.baphy_io INFO] evp file for licks: /auto/data/daq/Teonancatl/TNC017/TNC017a11_p_CPN.evp\n",
      "[nems_lbhb.baphy_experiment INFO] Remove post-response events\n",
      "[nems_lbhb.baphy_experiment INFO] Removing post-reponse data\n",
      "[nems_lbhb.baphy_io INFO] rounding Trial offset spike times to even number of rasterfs bins\n",
      "[nems_lbhb.baphy_io INFO] 200 trials totaling 2923.24 sec\n",
      "[nems_lbhb.baphy_io INFO] Loading /auto/data/daq/Teonancatl/TNC017/TNC017a11_p_CPN.m\n",
      "[nems_lbhb.baphy_io INFO] evp file for licks: /auto/data/daq/Teonancatl/TNC017/TNC017a11_p_CPN.evp\n",
      "[nems_lbhb.baphy_experiment INFO] Creating trial epochs\n",
      "[nems_lbhb.baphy_experiment INFO] Creating stim epochs\n",
      "[nems_lbhb.baphy_experiment INFO] Creating Light epochs\n",
      "[nems_lbhb.baphy_io INFO] rounding Trial offset spike times to even number of rasterfs bins\n",
      "[nems_lbhb.baphy_io INFO] 200 trials totaling 2923.24 sec\n",
      "[nems_lbhb.baphy_experiment INFO] Caching recording: /auto/data/nems_db/recordings/Teonancatl/TNC017a/TNC017a_0cc09d66ebccf00dc87f8a7b9420bd6e5fcdbfe8.tgz\n",
      "[nems.recording INFO] Saving recording to : /auto/data/nems_db/recordings/Teonancatl/TNC017a/TNC017a_0cc09d66ebccf00dc87f8a7b9420bd6e5fcdbfe8.tgz\n",
      "[nems_lbhb.baphy_experiment INFO] Cached recording: /auto/data/nems_db/recordings/Teonancatl/TNC016a/TNC016a_044505bb85b20c9517ec9c69686a342c083cd1b8.tgz\n",
      "[nems_lbhb.baphy_io INFO] Loading /auto/data/daq/Teonancatl/TNC016/TNC016a11_p_CPN.m\n"
     ]
    },
    {
     "name": "stdout",
     "output_type": "stream",
     "text": [
      "0 resp\n"
     ]
    },
    {
     "name": "stderr",
     "output_type": "stream",
     "text": [
      "[nems_lbhb.baphy_io INFO] evp file for licks: /auto/data/daq/Teonancatl/TNC016/TNC016a11_p_CPN.evp\n",
      "[nems_lbhb.baphy_io INFO] Loading /auto/data/daq/Teonancatl/TNC016/TNC016a11_p_CPN.m\n",
      "[nems_lbhb.baphy_io INFO] evp file for licks: /auto/data/daq/Teonancatl/TNC016/TNC016a11_p_CPN.evp\n",
      "[nems_lbhb.baphy_experiment INFO] Remove post-response events\n",
      "[nems_lbhb.baphy_experiment INFO] Removing post-reponse data\n",
      "[nems_lbhb.baphy_io INFO] rounding Trial offset spike times to even number of rasterfs bins\n",
      "[nems_lbhb.baphy_io INFO] 200 trials totaling 2908.81 sec\n",
      "[nems_lbhb.baphy_io INFO] Loading /auto/data/daq/Teonancatl/TNC016/TNC016a11_p_CPN.m\n",
      "[nems_lbhb.baphy_io INFO] evp file for licks: /auto/data/daq/Teonancatl/TNC016/TNC016a11_p_CPN.evp\n",
      "[nems_lbhb.baphy_experiment INFO] Creating trial epochs\n",
      "[nems_lbhb.baphy_experiment INFO] Creating stim epochs\n",
      "[nems_lbhb.baphy_experiment INFO] Creating Light epochs\n",
      "[nems_lbhb.baphy_io INFO] rounding Trial offset spike times to even number of rasterfs bins\n",
      "[nems_lbhb.baphy_io INFO] 200 trials totaling 2908.81 sec\n",
      "[nems_lbhb.baphy_experiment INFO] Caching recording: /auto/data/nems_db/recordings/Teonancatl/TNC016a/TNC016a_044505bb85b20c9517ec9c69686a342c083cd1b8.tgz\n",
      "[nems.recording INFO] Saving recording to : /auto/data/nems_db/recordings/Teonancatl/TNC016a/TNC016a_044505bb85b20c9517ec9c69686a342c083cd1b8.tgz\n",
      "[nems_lbhb.baphy_experiment INFO] Cached recording: /auto/data/nems_db/recordings/Teonancatl/TNC016a/TNC016a_80d7fab96ac50f3560fc849a60490507c6355b6e.tgz\n",
      "[nems_lbhb.baphy_experiment INFO] Cached recording found\n"
     ]
    },
    {
     "name": "stdout",
     "output_type": "stream",
     "text": [
      "0 resp\n"
     ]
    },
    {
     "name": "stderr",
     "output_type": "stream",
     "text": [
      "[nems_lbhb.baphy_experiment INFO] Cached recording: /auto/data/nems_db/recordings/Teonancatl/TNC016a/TNC016a_e45deb5fddc3da58514b9885a5ccf1fa3b9bced6.tgz\n",
      "[nems_lbhb.baphy_experiment INFO] Cached recording found\n",
      "[nems_lbhb.baphy_experiment INFO] Cached recording: /auto/data/nems_db/recordings/Teonancatl/TNC016a/TNC016a_5f4a0bb35d67359c56d1d7a77a8338f0dbf8e643.tgz\n",
      "[nems_lbhb.baphy_experiment INFO] Cached recording found\n",
      "[nems_lbhb.baphy_experiment INFO] Cached recording: /auto/data/nems_db/recordings/Teonancatl/TNC016a/TNC016a_9246f754f090b28e415863fe0d380137a68385e6.tgz\n",
      "[nems_lbhb.baphy_experiment INFO] Cached recording found\n",
      "[nems_lbhb.baphy_experiment INFO] Cached recording: /auto/data/nems_db/recordings/Teonancatl/TNC016a/TNC016a_4bd10bdbad5acf2af9c5d8cd552503f92f438d50.tgz\n",
      "[nems_lbhb.baphy_io INFO] Loading /auto/data/daq/Teonancatl/TNC016/TNC016a11_p_CPN.m\n",
      "[nems_lbhb.baphy_io INFO] evp file for licks: /auto/data/daq/Teonancatl/TNC016/TNC016a11_p_CPN.evp\n",
      "[nems_lbhb.baphy_io INFO] Loading /auto/data/daq/Teonancatl/TNC016/TNC016a11_p_CPN.m\n",
      "[nems_lbhb.baphy_io INFO] evp file for licks: /auto/data/daq/Teonancatl/TNC016/TNC016a11_p_CPN.evp\n",
      "[nems_lbhb.baphy_experiment INFO] Remove post-response events\n",
      "[nems_lbhb.baphy_experiment INFO] Removing post-reponse data\n",
      "[nems_lbhb.baphy_io INFO] rounding Trial offset spike times to even number of rasterfs bins\n",
      "[nems_lbhb.baphy_io INFO] 200 trials totaling 2908.81 sec\n",
      "[nems_lbhb.baphy_io INFO] Loading /auto/data/daq/Teonancatl/TNC016/TNC016a11_p_CPN.m\n",
      "[nems_lbhb.baphy_io INFO] evp file for licks: /auto/data/daq/Teonancatl/TNC016/TNC016a11_p_CPN.evp\n",
      "[nems_lbhb.baphy_experiment INFO] Creating trial epochs\n",
      "[nems_lbhb.baphy_experiment INFO] Creating stim epochs\n",
      "[nems_lbhb.baphy_experiment INFO] Creating Light epochs\n",
      "[nems_lbhb.baphy_io INFO] rounding Trial offset spike times to even number of rasterfs bins\n",
      "[nems_lbhb.baphy_io INFO] 200 trials totaling 2908.81 sec\n",
      "[nems_lbhb.baphy_experiment INFO] Caching recording: /auto/data/nems_db/recordings/Teonancatl/TNC016a/TNC016a_4bd10bdbad5acf2af9c5d8cd552503f92f438d50.tgz\n",
      "[nems.recording INFO] Saving recording to : /auto/data/nems_db/recordings/Teonancatl/TNC016a/TNC016a_4bd10bdbad5acf2af9c5d8cd552503f92f438d50.tgz\n"
     ]
    },
    {
     "name": "stdout",
     "output_type": "stream",
     "text": [
      "0 resp\n"
     ]
    },
    {
     "name": "stderr",
     "output_type": "stream",
     "text": [
      "[nems_lbhb.baphy_experiment INFO] Cached recording: /auto/data/nems_db/recordings/Teonancatl/TNC018a/TNC018a_09588dc6e5e615bd91ea0d450839e60561d93379.tgz\n",
      "[nems_lbhb.baphy_experiment INFO] Cached recording found\n",
      "[nems_lbhb.baphy_experiment INFO] Cached recording: /auto/data/nems_db/recordings/Teonancatl/TNC018a/TNC018a_73b664ef5172640dd1992cb7b643606d05894840.tgz\n",
      "[nems_lbhb.baphy_experiment INFO] Cached recording found\n",
      "[nems_lbhb.baphy_experiment INFO] Cached recording: /auto/data/nems_db/recordings/Teonancatl/TNC018a/TNC018a_a21b1908eab2f63a8ef7a6b098cb0a2f9c6fa0d7.tgz\n",
      "[nems_lbhb.baphy_io INFO] Loading /auto/data/daq/Teonancatl/TNC018/TNC018a12_p_CPN.m\n",
      "[nems_lbhb.baphy_io INFO] evp file for licks: /auto/data/daq/Teonancatl/TNC018/TNC018a12_p_CPN.evp\n",
      "[nems_lbhb.baphy_io INFO] Loading /auto/data/daq/Teonancatl/TNC018/TNC018a12_p_CPN.m\n",
      "[nems_lbhb.baphy_io INFO] evp file for licks: /auto/data/daq/Teonancatl/TNC018/TNC018a12_p_CPN.evp\n",
      "[nems_lbhb.baphy_experiment INFO] Remove post-response events\n",
      "[nems_lbhb.baphy_experiment INFO] Removing post-reponse data\n",
      "[nems_lbhb.baphy_io INFO] rounding Trial offset spike times to even number of rasterfs bins\n",
      "[nems_lbhb.baphy_io INFO] 200 trials totaling 2924.09 sec\n",
      "[nems_lbhb.baphy_io INFO] Loading /auto/data/daq/Teonancatl/TNC018/TNC018a12_p_CPN.m\n",
      "[nems_lbhb.baphy_io INFO] evp file for licks: /auto/data/daq/Teonancatl/TNC018/TNC018a12_p_CPN.evp\n",
      "[nems_lbhb.baphy_experiment INFO] Creating trial epochs\n",
      "[nems_lbhb.baphy_experiment INFO] Creating stim epochs\n",
      "[nems_lbhb.baphy_experiment INFO] Creating Light epochs\n",
      "[nems_lbhb.baphy_io INFO] rounding Trial offset spike times to even number of rasterfs bins\n",
      "[nems_lbhb.baphy_io INFO] 200 trials totaling 2924.09 sec\n",
      "[nems_lbhb.baphy_experiment INFO] Caching recording: /auto/data/nems_db/recordings/Teonancatl/TNC018a/TNC018a_a21b1908eab2f63a8ef7a6b098cb0a2f9c6fa0d7.tgz\n",
      "[nems.recording INFO] Saving recording to : /auto/data/nems_db/recordings/Teonancatl/TNC018a/TNC018a_a21b1908eab2f63a8ef7a6b098cb0a2f9c6fa0d7.tgz\n"
     ]
    },
    {
     "name": "stdout",
     "output_type": "stream",
     "text": [
      "0 resp\n"
     ]
    },
    {
     "name": "stderr",
     "output_type": "stream",
     "text": [
      "[nems_lbhb.baphy_experiment INFO] Cached recording: /auto/data/nems_db/recordings/Teonancatl/TNC018a/TNC018a_d06d22146892987e7faebbe99937c522f992f075.tgz\n",
      "[nems_lbhb.baphy_experiment INFO] Cached recording found\n",
      "[nems_lbhb.baphy_experiment INFO] Cached recording: /auto/data/nems_db/recordings/Teonancatl/TNC018a/TNC018a_856382b9e68bf120cdd164d7cbe4777b06963a98.tgz\n",
      "[nems_lbhb.baphy_io INFO] Loading /auto/data/daq/Teonancatl/TNC018/TNC018a12_p_CPN.m\n",
      "[nems_lbhb.baphy_io INFO] evp file for licks: /auto/data/daq/Teonancatl/TNC018/TNC018a12_p_CPN.evp\n",
      "[nems_lbhb.baphy_io INFO] Loading /auto/data/daq/Teonancatl/TNC018/TNC018a12_p_CPN.m\n",
      "[nems_lbhb.baphy_io INFO] evp file for licks: /auto/data/daq/Teonancatl/TNC018/TNC018a12_p_CPN.evp\n",
      "[nems_lbhb.baphy_experiment INFO] Remove post-response events\n",
      "[nems_lbhb.baphy_experiment INFO] Removing post-reponse data\n",
      "[nems_lbhb.baphy_io INFO] rounding Trial offset spike times to even number of rasterfs bins\n",
      "[nems_lbhb.baphy_io INFO] 200 trials totaling 2924.09 sec\n",
      "[nems_lbhb.baphy_io INFO] Loading /auto/data/daq/Teonancatl/TNC018/TNC018a12_p_CPN.m\n",
      "[nems_lbhb.baphy_io INFO] evp file for licks: /auto/data/daq/Teonancatl/TNC018/TNC018a12_p_CPN.evp\n",
      "[nems_lbhb.baphy_experiment INFO] Creating trial epochs\n",
      "[nems_lbhb.baphy_experiment INFO] Creating stim epochs\n",
      "[nems_lbhb.baphy_experiment INFO] Creating Light epochs\n",
      "[nems_lbhb.baphy_io INFO] rounding Trial offset spike times to even number of rasterfs bins\n",
      "[nems_lbhb.baphy_io INFO] 200 trials totaling 2924.09 sec\n",
      "[nems_lbhb.baphy_experiment INFO] Caching recording: /auto/data/nems_db/recordings/Teonancatl/TNC018a/TNC018a_856382b9e68bf120cdd164d7cbe4777b06963a98.tgz\n",
      "[nems.recording INFO] Saving recording to : /auto/data/nems_db/recordings/Teonancatl/TNC018a/TNC018a_856382b9e68bf120cdd164d7cbe4777b06963a98.tgz\n"
     ]
    },
    {
     "name": "stdout",
     "output_type": "stream",
     "text": [
      "0 resp\n"
     ]
    },
    {
     "name": "stderr",
     "output_type": "stream",
     "text": [
      "[nems_lbhb.baphy_experiment INFO] Cached recording: /auto/data/nems_db/recordings/Teonancatl/TNC018a/TNC018a_750224066b453f331be91a85d30041fdc2ed88c7.tgz\n",
      "[nems_lbhb.baphy_io INFO] Loading /auto/data/daq/Teonancatl/TNC018/TNC018a12_p_CPN.m\n",
      "[nems_lbhb.baphy_io INFO] evp file for licks: /auto/data/daq/Teonancatl/TNC018/TNC018a12_p_CPN.evp\n",
      "[nems_lbhb.baphy_io INFO] Loading /auto/data/daq/Teonancatl/TNC018/TNC018a12_p_CPN.m\n",
      "[nems_lbhb.baphy_io INFO] evp file for licks: /auto/data/daq/Teonancatl/TNC018/TNC018a12_p_CPN.evp\n",
      "[nems_lbhb.baphy_experiment INFO] Remove post-response events\n",
      "[nems_lbhb.baphy_experiment INFO] Removing post-reponse data\n",
      "[nems_lbhb.baphy_io INFO] rounding Trial offset spike times to even number of rasterfs bins\n",
      "[nems_lbhb.baphy_io INFO] 200 trials totaling 2924.09 sec\n",
      "[nems_lbhb.baphy_io INFO] Loading /auto/data/daq/Teonancatl/TNC018/TNC018a12_p_CPN.m\n",
      "[nems_lbhb.baphy_io INFO] evp file for licks: /auto/data/daq/Teonancatl/TNC018/TNC018a12_p_CPN.evp\n",
      "[nems_lbhb.baphy_experiment INFO] Creating trial epochs\n",
      "[nems_lbhb.baphy_experiment INFO] Creating stim epochs\n",
      "[nems_lbhb.baphy_experiment INFO] Creating Light epochs\n",
      "[nems_lbhb.baphy_io INFO] rounding Trial offset spike times to even number of rasterfs bins\n",
      "[nems_lbhb.baphy_io INFO] 200 trials totaling 2924.09 sec\n",
      "[nems_lbhb.baphy_experiment INFO] Caching recording: /auto/data/nems_db/recordings/Teonancatl/TNC018a/TNC018a_750224066b453f331be91a85d30041fdc2ed88c7.tgz\n",
      "[nems.recording INFO] Saving recording to : /auto/data/nems_db/recordings/Teonancatl/TNC018a/TNC018a_750224066b453f331be91a85d30041fdc2ed88c7.tgz\n",
      "[nems_lbhb.baphy_experiment INFO] Cached recording: /auto/data/nems_db/recordings/Teonancatl/TNC018a/TNC018a_7f79f88d287e383b5937133af050c87ab4a674d7.tgz\n",
      "[nems_lbhb.baphy_experiment INFO] Cached recording found\n"
     ]
    },
    {
     "name": "stdout",
     "output_type": "stream",
     "text": [
      "0 resp\n"
     ]
    },
    {
     "name": "stderr",
     "output_type": "stream",
     "text": [
      "[nems_lbhb.baphy_experiment INFO] Cached recording: /auto/data/nems_db/recordings/Teonancatl/TNC018a/TNC018a_a424bb266fa5e52b25681cea415b1e1067ebbc2d.tgz\n",
      "[nems_lbhb.baphy_experiment INFO] Cached recording found\n"
     ]
    }
   ],
   "source": [
    "e_resp=[]\n",
    "error_cellid=[]\n",
    "for i, r in d.loc[d.phototag=='a'].iterrows():\n",
    "    try:\n",
    "        rec = get_rec(r.parmfile, r.cellid, rasterfs=500)\n",
    "        rec['resp']=rec['resp'].rasterize()\n",
    "        r=rec['resp'].extract_epoch('REFERENCE')\n",
    "        e_resp.append(smooth(r.mean(axis=0)[0,:],5))\n",
    "    except:\n",
    "        error_cellid.append(r.cellid)\n"
   ]
  },
  {
   "cell_type": "markdown",
   "metadata": {},
   "source": [
    "Load all S cells (slower)"
   ]
  },
  {
   "cell_type": "code",
   "execution_count": 7,
   "metadata": {
    "scrolled": true
   },
   "outputs": [
    {
     "name": "stderr",
     "output_type": "stream",
     "text": [
      "[nems_lbhb.baphy_experiment INFO] Cached recording: /auto/data/nems_db/recordings/Teonancatl/TNC014a/TNC014a_2e775eabd6a87222656b2d942936daa5d4592787.tgz\n",
      "[nems_lbhb.baphy_io INFO] Loading /auto/data/daq/Teonancatl/TNC014/TNC014a09_p_CPN.m\n",
      "[nems_lbhb.baphy_io INFO] evp file for licks: /auto/data/daq/Teonancatl/TNC014/TNC014a09_p_CPN.evp\n",
      "[nems_lbhb.baphy_io INFO] Loading /auto/data/daq/Teonancatl/TNC014/TNC014a09_p_CPN.m\n",
      "[nems_lbhb.baphy_io INFO] evp file for licks: /auto/data/daq/Teonancatl/TNC014/TNC014a09_p_CPN.evp\n",
      "[nems_lbhb.baphy_experiment INFO] Remove post-response events\n",
      "[nems_lbhb.baphy_experiment INFO] Removing post-reponse data\n",
      "[nems_lbhb.baphy_io INFO] rounding Trial offset spike times to even number of rasterfs bins\n",
      "[nems_lbhb.baphy_io INFO] 200 trials totaling 2910.34 sec\n",
      "[nems_lbhb.baphy_io INFO] Loading /auto/data/daq/Teonancatl/TNC014/TNC014a09_p_CPN.m\n",
      "[nems_lbhb.baphy_io INFO] evp file for licks: /auto/data/daq/Teonancatl/TNC014/TNC014a09_p_CPN.evp\n",
      "[nems_lbhb.baphy_experiment INFO] Creating trial epochs\n",
      "[nems_lbhb.baphy_experiment INFO] Creating stim epochs\n",
      "[nems_lbhb.baphy_experiment INFO] Creating Light epochs\n",
      "[nems_lbhb.baphy_io INFO] rounding Trial offset spike times to even number of rasterfs bins\n",
      "[nems_lbhb.baphy_io INFO] 200 trials totaling 2910.34 sec\n",
      "[nems_lbhb.baphy_experiment INFO] Caching recording: /auto/data/nems_db/recordings/Teonancatl/TNC014a/TNC014a_2e775eabd6a87222656b2d942936daa5d4592787.tgz\n",
      "[nems.recording INFO] Saving recording to : /auto/data/nems_db/recordings/Teonancatl/TNC014a/TNC014a_2e775eabd6a87222656b2d942936daa5d4592787.tgz\n"
     ]
    },
    {
     "name": "stdout",
     "output_type": "stream",
     "text": [
      "0 resp\n"
     ]
    },
    {
     "name": "stderr",
     "output_type": "stream",
     "text": [
      "[nems_lbhb.baphy_experiment INFO] Cached recording: /auto/data/nems_db/recordings/Teonancatl/TNC014a/TNC014a_d5661213365b1d28de0cd5e725a2258853893eb2.tgz\n",
      "[nems_lbhb.baphy_io INFO] Loading /auto/data/daq/Teonancatl/TNC014/TNC014a09_p_CPN.m\n",
      "[nems_lbhb.baphy_io INFO] evp file for licks: /auto/data/daq/Teonancatl/TNC014/TNC014a09_p_CPN.evp\n",
      "[nems_lbhb.baphy_io INFO] Loading /auto/data/daq/Teonancatl/TNC014/TNC014a09_p_CPN.m\n",
      "[nems_lbhb.baphy_io INFO] evp file for licks: /auto/data/daq/Teonancatl/TNC014/TNC014a09_p_CPN.evp\n",
      "[nems_lbhb.baphy_experiment INFO] Remove post-response events\n",
      "[nems_lbhb.baphy_experiment INFO] Removing post-reponse data\n",
      "[nems_lbhb.baphy_io INFO] rounding Trial offset spike times to even number of rasterfs bins\n",
      "[nems_lbhb.baphy_io INFO] 200 trials totaling 2910.34 sec\n",
      "[nems_lbhb.baphy_io INFO] Loading /auto/data/daq/Teonancatl/TNC014/TNC014a09_p_CPN.m\n",
      "[nems_lbhb.baphy_io INFO] evp file for licks: /auto/data/daq/Teonancatl/TNC014/TNC014a09_p_CPN.evp\n",
      "[nems_lbhb.baphy_experiment INFO] Creating trial epochs\n",
      "[nems_lbhb.baphy_experiment INFO] Creating stim epochs\n",
      "[nems_lbhb.baphy_experiment INFO] Creating Light epochs\n",
      "[nems_lbhb.baphy_io INFO] rounding Trial offset spike times to even number of rasterfs bins\n",
      "[nems_lbhb.baphy_io INFO] 200 trials totaling 2910.34 sec\n",
      "[nems_lbhb.baphy_experiment INFO] Caching recording: /auto/data/nems_db/recordings/Teonancatl/TNC014a/TNC014a_d5661213365b1d28de0cd5e725a2258853893eb2.tgz\n",
      "[nems.recording INFO] Saving recording to : /auto/data/nems_db/recordings/Teonancatl/TNC014a/TNC014a_d5661213365b1d28de0cd5e725a2258853893eb2.tgz\n",
      "[nems_lbhb.baphy_experiment INFO] Cached recording: /auto/data/nems_db/recordings/Teonancatl/TNC014a/TNC014a_ee071e452d024ee39abefd0e6b45f93b65cd5e57.tgz\n",
      "[nems_lbhb.baphy_io INFO] Loading /auto/data/daq/Teonancatl/TNC014/TNC014a09_p_CPN.m\n"
     ]
    },
    {
     "name": "stdout",
     "output_type": "stream",
     "text": [
      "0 resp\n"
     ]
    },
    {
     "name": "stderr",
     "output_type": "stream",
     "text": [
      "[nems_lbhb.baphy_io INFO] evp file for licks: /auto/data/daq/Teonancatl/TNC014/TNC014a09_p_CPN.evp\n",
      "[nems_lbhb.baphy_io INFO] Loading /auto/data/daq/Teonancatl/TNC014/TNC014a09_p_CPN.m\n",
      "[nems_lbhb.baphy_io INFO] evp file for licks: /auto/data/daq/Teonancatl/TNC014/TNC014a09_p_CPN.evp\n",
      "[nems_lbhb.baphy_experiment INFO] Remove post-response events\n",
      "[nems_lbhb.baphy_experiment INFO] Removing post-reponse data\n",
      "[nems_lbhb.baphy_io INFO] rounding Trial offset spike times to even number of rasterfs bins\n",
      "[nems_lbhb.baphy_io INFO] 200 trials totaling 2910.34 sec\n",
      "[nems_lbhb.baphy_io INFO] Loading /auto/data/daq/Teonancatl/TNC014/TNC014a09_p_CPN.m\n",
      "[nems_lbhb.baphy_io INFO] evp file for licks: /auto/data/daq/Teonancatl/TNC014/TNC014a09_p_CPN.evp\n",
      "[nems_lbhb.baphy_experiment INFO] Creating trial epochs\n",
      "[nems_lbhb.baphy_experiment INFO] Creating stim epochs\n",
      "[nems_lbhb.baphy_experiment INFO] Creating Light epochs\n",
      "[nems_lbhb.baphy_io INFO] rounding Trial offset spike times to even number of rasterfs bins\n",
      "[nems_lbhb.baphy_io INFO] 200 trials totaling 2910.34 sec\n",
      "[nems_lbhb.baphy_experiment INFO] Caching recording: /auto/data/nems_db/recordings/Teonancatl/TNC014a/TNC014a_ee071e452d024ee39abefd0e6b45f93b65cd5e57.tgz\n",
      "[nems.recording INFO] Saving recording to : /auto/data/nems_db/recordings/Teonancatl/TNC014a/TNC014a_ee071e452d024ee39abefd0e6b45f93b65cd5e57.tgz\n",
      "[nems_lbhb.baphy_experiment INFO] Cached recording: /auto/data/nems_db/recordings/Teonancatl/TNC014a/TNC014a_d92753c78813654b920df6e48c55dd965a9f5d6e.tgz\n",
      "[nems_lbhb.baphy_io INFO] Loading /auto/data/daq/Teonancatl/TNC014/TNC014a09_p_CPN.m\n"
     ]
    },
    {
     "name": "stdout",
     "output_type": "stream",
     "text": [
      "0 resp\n"
     ]
    },
    {
     "name": "stderr",
     "output_type": "stream",
     "text": [
      "[nems_lbhb.baphy_io INFO] evp file for licks: /auto/data/daq/Teonancatl/TNC014/TNC014a09_p_CPN.evp\n",
      "[nems_lbhb.baphy_io INFO] Loading /auto/data/daq/Teonancatl/TNC014/TNC014a09_p_CPN.m\n",
      "[nems_lbhb.baphy_io INFO] evp file for licks: /auto/data/daq/Teonancatl/TNC014/TNC014a09_p_CPN.evp\n",
      "[nems_lbhb.baphy_experiment INFO] Remove post-response events\n",
      "[nems_lbhb.baphy_experiment INFO] Removing post-reponse data\n",
      "[nems_lbhb.baphy_io INFO] rounding Trial offset spike times to even number of rasterfs bins\n",
      "[nems_lbhb.baphy_io INFO] 200 trials totaling 2910.34 sec\n",
      "[nems_lbhb.baphy_io INFO] Loading /auto/data/daq/Teonancatl/TNC014/TNC014a09_p_CPN.m\n",
      "[nems_lbhb.baphy_io INFO] evp file for licks: /auto/data/daq/Teonancatl/TNC014/TNC014a09_p_CPN.evp\n",
      "[nems_lbhb.baphy_experiment INFO] Creating trial epochs\n",
      "[nems_lbhb.baphy_experiment INFO] Creating stim epochs\n",
      "[nems_lbhb.baphy_experiment INFO] Creating Light epochs\n",
      "[nems_lbhb.baphy_io INFO] rounding Trial offset spike times to even number of rasterfs bins\n",
      "[nems_lbhb.baphy_io INFO] 200 trials totaling 2910.34 sec\n",
      "[nems_lbhb.baphy_experiment INFO] Caching recording: /auto/data/nems_db/recordings/Teonancatl/TNC014a/TNC014a_d92753c78813654b920df6e48c55dd965a9f5d6e.tgz\n",
      "[nems.recording INFO] Saving recording to : /auto/data/nems_db/recordings/Teonancatl/TNC014a/TNC014a_d92753c78813654b920df6e48c55dd965a9f5d6e.tgz\n"
     ]
    },
    {
     "name": "stdout",
     "output_type": "stream",
     "text": [
      "0 resp\n"
     ]
    },
    {
     "name": "stderr",
     "output_type": "stream",
     "text": [
      "[nems_lbhb.baphy_experiment INFO] Cached recording: /auto/data/nems_db/recordings/Teonancatl/TNC014a/TNC014a_07fd0d02cbfc3783e7b4a277ea7dd3f30d2e495b.tgz\n",
      "[nems_lbhb.baphy_io INFO] Loading /auto/data/daq/Teonancatl/TNC014/TNC014a09_p_CPN.m\n",
      "[nems_lbhb.baphy_io INFO] evp file for licks: /auto/data/daq/Teonancatl/TNC014/TNC014a09_p_CPN.evp\n",
      "[nems_lbhb.baphy_io INFO] Loading /auto/data/daq/Teonancatl/TNC014/TNC014a09_p_CPN.m\n",
      "[nems_lbhb.baphy_io INFO] evp file for licks: /auto/data/daq/Teonancatl/TNC014/TNC014a09_p_CPN.evp\n",
      "[nems_lbhb.baphy_experiment INFO] Remove post-response events\n",
      "[nems_lbhb.baphy_experiment INFO] Removing post-reponse data\n",
      "[nems_lbhb.baphy_io INFO] rounding Trial offset spike times to even number of rasterfs bins\n",
      "[nems_lbhb.baphy_io INFO] 200 trials totaling 2910.34 sec\n",
      "[nems_lbhb.baphy_io INFO] Loading /auto/data/daq/Teonancatl/TNC014/TNC014a09_p_CPN.m\n",
      "[nems_lbhb.baphy_io INFO] evp file for licks: /auto/data/daq/Teonancatl/TNC014/TNC014a09_p_CPN.evp\n",
      "[nems_lbhb.baphy_experiment INFO] Creating trial epochs\n",
      "[nems_lbhb.baphy_experiment INFO] Creating stim epochs\n",
      "[nems_lbhb.baphy_experiment INFO] Creating Light epochs\n",
      "[nems_lbhb.baphy_io INFO] rounding Trial offset spike times to even number of rasterfs bins\n",
      "[nems_lbhb.baphy_io INFO] 200 trials totaling 2910.34 sec\n",
      "[nems_lbhb.baphy_experiment INFO] Caching recording: /auto/data/nems_db/recordings/Teonancatl/TNC014a/TNC014a_07fd0d02cbfc3783e7b4a277ea7dd3f30d2e495b.tgz\n",
      "[nems.recording INFO] Saving recording to : /auto/data/nems_db/recordings/Teonancatl/TNC014a/TNC014a_07fd0d02cbfc3783e7b4a277ea7dd3f30d2e495b.tgz\n",
      "[nems_lbhb.baphy_experiment INFO] Cached recording: /auto/data/nems_db/recordings/Teonancatl/TNC014a/TNC014a_5c943e4472a425b898a3786e2e63688371dd66a5.tgz\n",
      "[nems_lbhb.baphy_io INFO] Loading /auto/data/daq/Teonancatl/TNC014/TNC014a09_p_CPN.m\n"
     ]
    },
    {
     "name": "stdout",
     "output_type": "stream",
     "text": [
      "0 resp\n"
     ]
    },
    {
     "name": "stderr",
     "output_type": "stream",
     "text": [
      "[nems_lbhb.baphy_io INFO] evp file for licks: /auto/data/daq/Teonancatl/TNC014/TNC014a09_p_CPN.evp\n",
      "[nems_lbhb.baphy_io INFO] Loading /auto/data/daq/Teonancatl/TNC014/TNC014a09_p_CPN.m\n",
      "[nems_lbhb.baphy_io INFO] evp file for licks: /auto/data/daq/Teonancatl/TNC014/TNC014a09_p_CPN.evp\n",
      "[nems_lbhb.baphy_experiment INFO] Remove post-response events\n",
      "[nems_lbhb.baphy_experiment INFO] Removing post-reponse data\n",
      "[nems_lbhb.baphy_io INFO] rounding Trial offset spike times to even number of rasterfs bins\n",
      "[nems_lbhb.baphy_io INFO] 200 trials totaling 2910.34 sec\n",
      "[nems_lbhb.baphy_io INFO] Loading /auto/data/daq/Teonancatl/TNC014/TNC014a09_p_CPN.m\n",
      "[nems_lbhb.baphy_io INFO] evp file for licks: /auto/data/daq/Teonancatl/TNC014/TNC014a09_p_CPN.evp\n",
      "[nems_lbhb.baphy_experiment INFO] Creating trial epochs\n",
      "[nems_lbhb.baphy_experiment INFO] Creating stim epochs\n",
      "[nems_lbhb.baphy_experiment INFO] Creating Light epochs\n",
      "[nems_lbhb.baphy_io INFO] rounding Trial offset spike times to even number of rasterfs bins\n",
      "[nems_lbhb.baphy_io INFO] 200 trials totaling 2910.34 sec\n",
      "[nems_lbhb.baphy_experiment INFO] Caching recording: /auto/data/nems_db/recordings/Teonancatl/TNC014a/TNC014a_5c943e4472a425b898a3786e2e63688371dd66a5.tgz\n",
      "[nems.recording INFO] Saving recording to : /auto/data/nems_db/recordings/Teonancatl/TNC014a/TNC014a_5c943e4472a425b898a3786e2e63688371dd66a5.tgz\n",
      "[nems_lbhb.baphy_experiment INFO] Cached recording: /auto/data/nems_db/recordings/Teonancatl/TNC014a/TNC014a_fd5ca721caf4806bfb7c57dc427cb49a77481da3.tgz\n",
      "[nems_lbhb.baphy_io INFO] Loading /auto/data/daq/Teonancatl/TNC014/TNC014a09_p_CPN.m\n"
     ]
    },
    {
     "name": "stdout",
     "output_type": "stream",
     "text": [
      "0 resp\n"
     ]
    },
    {
     "name": "stderr",
     "output_type": "stream",
     "text": [
      "[nems_lbhb.baphy_io INFO] evp file for licks: /auto/data/daq/Teonancatl/TNC014/TNC014a09_p_CPN.evp\n",
      "[nems_lbhb.baphy_io INFO] Loading /auto/data/daq/Teonancatl/TNC014/TNC014a09_p_CPN.m\n",
      "[nems_lbhb.baphy_io INFO] evp file for licks: /auto/data/daq/Teonancatl/TNC014/TNC014a09_p_CPN.evp\n",
      "[nems_lbhb.baphy_experiment INFO] Remove post-response events\n",
      "[nems_lbhb.baphy_experiment INFO] Removing post-reponse data\n",
      "[nems_lbhb.baphy_io INFO] rounding Trial offset spike times to even number of rasterfs bins\n",
      "[nems_lbhb.baphy_io INFO] 200 trials totaling 2910.34 sec\n",
      "[nems_lbhb.baphy_io INFO] Loading /auto/data/daq/Teonancatl/TNC014/TNC014a09_p_CPN.m\n",
      "[nems_lbhb.baphy_io INFO] evp file for licks: /auto/data/daq/Teonancatl/TNC014/TNC014a09_p_CPN.evp\n",
      "[nems_lbhb.baphy_experiment INFO] Creating trial epochs\n",
      "[nems_lbhb.baphy_experiment INFO] Creating stim epochs\n",
      "[nems_lbhb.baphy_experiment INFO] Creating Light epochs\n",
      "[nems_lbhb.baphy_io INFO] rounding Trial offset spike times to even number of rasterfs bins\n",
      "[nems_lbhb.baphy_io INFO] 200 trials totaling 2910.34 sec\n",
      "[nems_lbhb.baphy_experiment INFO] Caching recording: /auto/data/nems_db/recordings/Teonancatl/TNC014a/TNC014a_fd5ca721caf4806bfb7c57dc427cb49a77481da3.tgz\n",
      "[nems.recording INFO] Saving recording to : /auto/data/nems_db/recordings/Teonancatl/TNC014a/TNC014a_fd5ca721caf4806bfb7c57dc427cb49a77481da3.tgz\n"
     ]
    },
    {
     "name": "stdout",
     "output_type": "stream",
     "text": [
      "0 resp\n"
     ]
    },
    {
     "name": "stderr",
     "output_type": "stream",
     "text": [
      "[nems_lbhb.baphy_experiment INFO] Cached recording: /auto/data/nems_db/recordings/Teonancatl/TNC014a/TNC014a_03e8001ca11b0c7e135291145bc7cf2ea3a07c56.tgz\n",
      "[nems_lbhb.baphy_io INFO] Loading /auto/data/daq/Teonancatl/TNC014/TNC014a09_p_CPN.m\n",
      "[nems_lbhb.baphy_io INFO] evp file for licks: /auto/data/daq/Teonancatl/TNC014/TNC014a09_p_CPN.evp\n",
      "[nems_lbhb.baphy_io INFO] Loading /auto/data/daq/Teonancatl/TNC014/TNC014a09_p_CPN.m\n",
      "[nems_lbhb.baphy_io INFO] evp file for licks: /auto/data/daq/Teonancatl/TNC014/TNC014a09_p_CPN.evp\n",
      "[nems_lbhb.baphy_experiment INFO] Remove post-response events\n",
      "[nems_lbhb.baphy_experiment INFO] Removing post-reponse data\n",
      "[nems_lbhb.baphy_io INFO] rounding Trial offset spike times to even number of rasterfs bins\n",
      "[nems_lbhb.baphy_io INFO] 200 trials totaling 2910.34 sec\n",
      "[nems_lbhb.baphy_io INFO] Loading /auto/data/daq/Teonancatl/TNC014/TNC014a09_p_CPN.m\n",
      "[nems_lbhb.baphy_io INFO] evp file for licks: /auto/data/daq/Teonancatl/TNC014/TNC014a09_p_CPN.evp\n",
      "[nems_lbhb.baphy_experiment INFO] Creating trial epochs\n",
      "[nems_lbhb.baphy_experiment INFO] Creating stim epochs\n",
      "[nems_lbhb.baphy_experiment INFO] Creating Light epochs\n",
      "[nems_lbhb.baphy_io INFO] rounding Trial offset spike times to even number of rasterfs bins\n",
      "[nems_lbhb.baphy_io INFO] 200 trials totaling 2910.34 sec\n",
      "[nems_lbhb.baphy_experiment INFO] Caching recording: /auto/data/nems_db/recordings/Teonancatl/TNC014a/TNC014a_03e8001ca11b0c7e135291145bc7cf2ea3a07c56.tgz\n",
      "[nems.recording INFO] Saving recording to : /auto/data/nems_db/recordings/Teonancatl/TNC014a/TNC014a_03e8001ca11b0c7e135291145bc7cf2ea3a07c56.tgz\n"
     ]
    },
    {
     "name": "stdout",
     "output_type": "stream",
     "text": [
      "0 resp\n"
     ]
    },
    {
     "name": "stderr",
     "output_type": "stream",
     "text": [
      "[nems_lbhb.baphy_experiment INFO] Cached recording: /auto/data/nems_db/recordings/Teonancatl/TNC014a/TNC014a_4475bda1122e3c4db573c95d29a0b12c91466a98.tgz\n",
      "[nems_lbhb.baphy_io INFO] Loading /auto/data/daq/Teonancatl/TNC014/TNC014a09_p_CPN.m\n",
      "[nems_lbhb.baphy_io INFO] evp file for licks: /auto/data/daq/Teonancatl/TNC014/TNC014a09_p_CPN.evp\n",
      "[nems_lbhb.baphy_io INFO] Loading /auto/data/daq/Teonancatl/TNC014/TNC014a09_p_CPN.m\n",
      "[nems_lbhb.baphy_io INFO] evp file for licks: /auto/data/daq/Teonancatl/TNC014/TNC014a09_p_CPN.evp\n",
      "[nems_lbhb.baphy_experiment INFO] Remove post-response events\n",
      "[nems_lbhb.baphy_experiment INFO] Removing post-reponse data\n",
      "[nems_lbhb.baphy_io INFO] rounding Trial offset spike times to even number of rasterfs bins\n",
      "[nems_lbhb.baphy_io INFO] 200 trials totaling 2910.34 sec\n",
      "[nems_lbhb.baphy_io INFO] Loading /auto/data/daq/Teonancatl/TNC014/TNC014a09_p_CPN.m\n",
      "[nems_lbhb.baphy_io INFO] evp file for licks: /auto/data/daq/Teonancatl/TNC014/TNC014a09_p_CPN.evp\n",
      "[nems_lbhb.baphy_experiment INFO] Creating trial epochs\n",
      "[nems_lbhb.baphy_experiment INFO] Creating stim epochs\n",
      "[nems_lbhb.baphy_experiment INFO] Creating Light epochs\n",
      "[nems_lbhb.baphy_io INFO] rounding Trial offset spike times to even number of rasterfs bins\n",
      "[nems_lbhb.baphy_io INFO] 200 trials totaling 2910.34 sec\n",
      "[nems_lbhb.baphy_experiment INFO] Caching recording: /auto/data/nems_db/recordings/Teonancatl/TNC014a/TNC014a_4475bda1122e3c4db573c95d29a0b12c91466a98.tgz\n",
      "[nems.recording INFO] Saving recording to : /auto/data/nems_db/recordings/Teonancatl/TNC014a/TNC014a_4475bda1122e3c4db573c95d29a0b12c91466a98.tgz\n"
     ]
    },
    {
     "name": "stdout",
     "output_type": "stream",
     "text": [
      "0 resp\n"
     ]
    },
    {
     "name": "stderr",
     "output_type": "stream",
     "text": [
      "[nems_lbhb.baphy_experiment INFO] Cached recording: /auto/data/nems_db/recordings/Teonancatl/TNC014a/TNC014a_52c7264cc85678a1454e4b0e5e9c34a1b85e9b06.tgz\n",
      "[nems_lbhb.baphy_io INFO] Loading /auto/data/daq/Teonancatl/TNC014/TNC014a09_p_CPN.m\n",
      "[nems_lbhb.baphy_io INFO] evp file for licks: /auto/data/daq/Teonancatl/TNC014/TNC014a09_p_CPN.evp\n",
      "[nems_lbhb.baphy_io INFO] Loading /auto/data/daq/Teonancatl/TNC014/TNC014a09_p_CPN.m\n",
      "[nems_lbhb.baphy_io INFO] evp file for licks: /auto/data/daq/Teonancatl/TNC014/TNC014a09_p_CPN.evp\n",
      "[nems_lbhb.baphy_experiment INFO] Remove post-response events\n",
      "[nems_lbhb.baphy_experiment INFO] Removing post-reponse data\n",
      "[nems_lbhb.baphy_io INFO] rounding Trial offset spike times to even number of rasterfs bins\n",
      "[nems_lbhb.baphy_io INFO] 200 trials totaling 2910.34 sec\n",
      "[nems_lbhb.baphy_io INFO] Loading /auto/data/daq/Teonancatl/TNC014/TNC014a09_p_CPN.m\n",
      "[nems_lbhb.baphy_io INFO] evp file for licks: /auto/data/daq/Teonancatl/TNC014/TNC014a09_p_CPN.evp\n",
      "[nems_lbhb.baphy_experiment INFO] Creating trial epochs\n",
      "[nems_lbhb.baphy_experiment INFO] Creating stim epochs\n",
      "[nems_lbhb.baphy_experiment INFO] Creating Light epochs\n",
      "[nems_lbhb.baphy_io INFO] rounding Trial offset spike times to even number of rasterfs bins\n",
      "[nems_lbhb.baphy_io INFO] 200 trials totaling 2910.34 sec\n",
      "[nems_lbhb.baphy_experiment INFO] Caching recording: /auto/data/nems_db/recordings/Teonancatl/TNC014a/TNC014a_52c7264cc85678a1454e4b0e5e9c34a1b85e9b06.tgz\n",
      "[nems.recording INFO] Saving recording to : /auto/data/nems_db/recordings/Teonancatl/TNC014a/TNC014a_52c7264cc85678a1454e4b0e5e9c34a1b85e9b06.tgz\n"
     ]
    },
    {
     "name": "stdout",
     "output_type": "stream",
     "text": [
      "0 resp\n"
     ]
    },
    {
     "name": "stderr",
     "output_type": "stream",
     "text": [
      "[nems_lbhb.baphy_experiment INFO] Cached recording: /auto/data/nems_db/recordings/Teonancatl/TNC014a/TNC014a_27418d88da1340e4bee059c81f7a093933a03948.tgz\n",
      "[nems_lbhb.baphy_io INFO] Loading /auto/data/daq/Teonancatl/TNC014/TNC014a09_p_CPN.m\n",
      "[nems_lbhb.baphy_io INFO] evp file for licks: /auto/data/daq/Teonancatl/TNC014/TNC014a09_p_CPN.evp\n",
      "[nems_lbhb.baphy_io INFO] Loading /auto/data/daq/Teonancatl/TNC014/TNC014a09_p_CPN.m\n",
      "[nems_lbhb.baphy_io INFO] evp file for licks: /auto/data/daq/Teonancatl/TNC014/TNC014a09_p_CPN.evp\n",
      "[nems_lbhb.baphy_experiment INFO] Remove post-response events\n",
      "[nems_lbhb.baphy_experiment INFO] Removing post-reponse data\n",
      "[nems_lbhb.baphy_io INFO] rounding Trial offset spike times to even number of rasterfs bins\n",
      "[nems_lbhb.baphy_io INFO] 200 trials totaling 2910.34 sec\n",
      "[nems_lbhb.baphy_io INFO] Loading /auto/data/daq/Teonancatl/TNC014/TNC014a09_p_CPN.m\n",
      "[nems_lbhb.baphy_io INFO] evp file for licks: /auto/data/daq/Teonancatl/TNC014/TNC014a09_p_CPN.evp\n",
      "[nems_lbhb.baphy_experiment INFO] Creating trial epochs\n",
      "[nems_lbhb.baphy_experiment INFO] Creating stim epochs\n",
      "[nems_lbhb.baphy_experiment INFO] Creating Light epochs\n",
      "[nems_lbhb.baphy_io INFO] rounding Trial offset spike times to even number of rasterfs bins\n",
      "[nems_lbhb.baphy_io INFO] 200 trials totaling 2910.34 sec\n",
      "[nems_lbhb.baphy_experiment INFO] Caching recording: /auto/data/nems_db/recordings/Teonancatl/TNC014a/TNC014a_27418d88da1340e4bee059c81f7a093933a03948.tgz\n",
      "[nems.recording INFO] Saving recording to : /auto/data/nems_db/recordings/Teonancatl/TNC014a/TNC014a_27418d88da1340e4bee059c81f7a093933a03948.tgz\n",
      "[nems_lbhb.baphy_experiment INFO] Cached recording: /auto/data/nems_db/recordings/Teonancatl/TNC014a/TNC014a_20cd2da8e2eba84914f48e9fffb2e47708416b8b.tgz\n",
      "[nems_lbhb.baphy_io INFO] Loading /auto/data/daq/Teonancatl/TNC014/TNC014a09_p_CPN.m\n"
     ]
    },
    {
     "name": "stdout",
     "output_type": "stream",
     "text": [
      "0 resp\n"
     ]
    },
    {
     "name": "stderr",
     "output_type": "stream",
     "text": [
      "[nems_lbhb.baphy_io INFO] evp file for licks: /auto/data/daq/Teonancatl/TNC014/TNC014a09_p_CPN.evp\n",
      "[nems_lbhb.baphy_io INFO] Loading /auto/data/daq/Teonancatl/TNC014/TNC014a09_p_CPN.m\n",
      "[nems_lbhb.baphy_io INFO] evp file for licks: /auto/data/daq/Teonancatl/TNC014/TNC014a09_p_CPN.evp\n",
      "[nems_lbhb.baphy_experiment INFO] Remove post-response events\n",
      "[nems_lbhb.baphy_experiment INFO] Removing post-reponse data\n",
      "[nems_lbhb.baphy_io INFO] rounding Trial offset spike times to even number of rasterfs bins\n",
      "[nems_lbhb.baphy_io INFO] 200 trials totaling 2910.34 sec\n",
      "[nems_lbhb.baphy_io INFO] Loading /auto/data/daq/Teonancatl/TNC014/TNC014a09_p_CPN.m\n",
      "[nems_lbhb.baphy_io INFO] evp file for licks: /auto/data/daq/Teonancatl/TNC014/TNC014a09_p_CPN.evp\n",
      "[nems_lbhb.baphy_experiment INFO] Creating trial epochs\n",
      "[nems_lbhb.baphy_experiment INFO] Creating stim epochs\n",
      "[nems_lbhb.baphy_experiment INFO] Creating Light epochs\n",
      "[nems_lbhb.baphy_io INFO] rounding Trial offset spike times to even number of rasterfs bins\n",
      "[nems_lbhb.baphy_io INFO] 200 trials totaling 2910.34 sec\n",
      "[nems_lbhb.baphy_experiment INFO] Caching recording: /auto/data/nems_db/recordings/Teonancatl/TNC014a/TNC014a_20cd2da8e2eba84914f48e9fffb2e47708416b8b.tgz\n",
      "[nems.recording INFO] Saving recording to : /auto/data/nems_db/recordings/Teonancatl/TNC014a/TNC014a_20cd2da8e2eba84914f48e9fffb2e47708416b8b.tgz\n"
     ]
    },
    {
     "name": "stdout",
     "output_type": "stream",
     "text": [
      "0 resp\n"
     ]
    },
    {
     "name": "stderr",
     "output_type": "stream",
     "text": [
      "[nems_lbhb.baphy_experiment INFO] Cached recording: /auto/data/nems_db/recordings/Teonancatl/TNC014a/TNC014a_613d00c4ff86cf15c170a29077a7686b00df689c.tgz\n",
      "[nems_lbhb.baphy_io INFO] Loading /auto/data/daq/Teonancatl/TNC014/TNC014a09_p_CPN.m\n",
      "[nems_lbhb.baphy_io INFO] evp file for licks: /auto/data/daq/Teonancatl/TNC014/TNC014a09_p_CPN.evp\n",
      "[nems_lbhb.baphy_io INFO] Loading /auto/data/daq/Teonancatl/TNC014/TNC014a09_p_CPN.m\n",
      "[nems_lbhb.baphy_io INFO] evp file for licks: /auto/data/daq/Teonancatl/TNC014/TNC014a09_p_CPN.evp\n",
      "[nems_lbhb.baphy_experiment INFO] Remove post-response events\n",
      "[nems_lbhb.baphy_experiment INFO] Removing post-reponse data\n",
      "[nems_lbhb.baphy_io INFO] rounding Trial offset spike times to even number of rasterfs bins\n",
      "[nems_lbhb.baphy_io INFO] 200 trials totaling 2910.34 sec\n",
      "[nems_lbhb.baphy_io INFO] Loading /auto/data/daq/Teonancatl/TNC014/TNC014a09_p_CPN.m\n",
      "[nems_lbhb.baphy_io INFO] evp file for licks: /auto/data/daq/Teonancatl/TNC014/TNC014a09_p_CPN.evp\n",
      "[nems_lbhb.baphy_experiment INFO] Creating trial epochs\n",
      "[nems_lbhb.baphy_experiment INFO] Creating stim epochs\n",
      "[nems_lbhb.baphy_experiment INFO] Creating Light epochs\n",
      "[nems_lbhb.baphy_io INFO] rounding Trial offset spike times to even number of rasterfs bins\n",
      "[nems_lbhb.baphy_io INFO] 200 trials totaling 2910.34 sec\n",
      "[nems_lbhb.baphy_experiment INFO] Caching recording: /auto/data/nems_db/recordings/Teonancatl/TNC014a/TNC014a_613d00c4ff86cf15c170a29077a7686b00df689c.tgz\n",
      "[nems.recording INFO] Saving recording to : /auto/data/nems_db/recordings/Teonancatl/TNC014a/TNC014a_613d00c4ff86cf15c170a29077a7686b00df689c.tgz\n",
      "[nems_lbhb.baphy_experiment INFO] Cached recording: /auto/data/nems_db/recordings/Teonancatl/TNC014a/TNC014a_1c9fd80ea5c07d107f398befe3daf462ac6f1765.tgz\n",
      "[nems_lbhb.baphy_io INFO] Loading /auto/data/daq/Teonancatl/TNC014/TNC014a09_p_CPN.m\n"
     ]
    },
    {
     "name": "stdout",
     "output_type": "stream",
     "text": [
      "0 resp\n"
     ]
    },
    {
     "name": "stderr",
     "output_type": "stream",
     "text": [
      "[nems_lbhb.baphy_io INFO] evp file for licks: /auto/data/daq/Teonancatl/TNC014/TNC014a09_p_CPN.evp\n",
      "[nems_lbhb.baphy_io INFO] Loading /auto/data/daq/Teonancatl/TNC014/TNC014a09_p_CPN.m\n",
      "[nems_lbhb.baphy_io INFO] evp file for licks: /auto/data/daq/Teonancatl/TNC014/TNC014a09_p_CPN.evp\n",
      "[nems_lbhb.baphy_experiment INFO] Remove post-response events\n",
      "[nems_lbhb.baphy_experiment INFO] Removing post-reponse data\n",
      "[nems_lbhb.baphy_io INFO] rounding Trial offset spike times to even number of rasterfs bins\n",
      "[nems_lbhb.baphy_io INFO] 200 trials totaling 2910.34 sec\n",
      "[nems_lbhb.baphy_io INFO] Loading /auto/data/daq/Teonancatl/TNC014/TNC014a09_p_CPN.m\n",
      "[nems_lbhb.baphy_io INFO] evp file for licks: /auto/data/daq/Teonancatl/TNC014/TNC014a09_p_CPN.evp\n",
      "[nems_lbhb.baphy_experiment INFO] Creating trial epochs\n",
      "[nems_lbhb.baphy_experiment INFO] Creating stim epochs\n",
      "[nems_lbhb.baphy_experiment INFO] Creating Light epochs\n",
      "[nems_lbhb.baphy_io INFO] rounding Trial offset spike times to even number of rasterfs bins\n",
      "[nems_lbhb.baphy_io INFO] 200 trials totaling 2910.34 sec\n",
      "[nems_lbhb.baphy_experiment INFO] Caching recording: /auto/data/nems_db/recordings/Teonancatl/TNC014a/TNC014a_1c9fd80ea5c07d107f398befe3daf462ac6f1765.tgz\n",
      "[nems.recording INFO] Saving recording to : /auto/data/nems_db/recordings/Teonancatl/TNC014a/TNC014a_1c9fd80ea5c07d107f398befe3daf462ac6f1765.tgz\n"
     ]
    },
    {
     "name": "stdout",
     "output_type": "stream",
     "text": [
      "0 resp\n"
     ]
    },
    {
     "name": "stderr",
     "output_type": "stream",
     "text": [
      "[nems_lbhb.baphy_experiment INFO] Cached recording: /auto/data/nems_db/recordings/Teonancatl/TNC014a/TNC014a_ddca9df8224b8c2c70de0978d65a23d329f3ca3d.tgz\n",
      "[nems_lbhb.baphy_io INFO] Loading /auto/data/daq/Teonancatl/TNC014/TNC014a09_p_CPN.m\n",
      "[nems_lbhb.baphy_io INFO] evp file for licks: /auto/data/daq/Teonancatl/TNC014/TNC014a09_p_CPN.evp\n",
      "[nems_lbhb.baphy_io INFO] Loading /auto/data/daq/Teonancatl/TNC014/TNC014a09_p_CPN.m\n",
      "[nems_lbhb.baphy_io INFO] evp file for licks: /auto/data/daq/Teonancatl/TNC014/TNC014a09_p_CPN.evp\n",
      "[nems_lbhb.baphy_experiment INFO] Remove post-response events\n",
      "[nems_lbhb.baphy_experiment INFO] Removing post-reponse data\n",
      "[nems_lbhb.baphy_io INFO] rounding Trial offset spike times to even number of rasterfs bins\n",
      "[nems_lbhb.baphy_io INFO] 200 trials totaling 2910.34 sec\n",
      "[nems_lbhb.baphy_io INFO] Loading /auto/data/daq/Teonancatl/TNC014/TNC014a09_p_CPN.m\n",
      "[nems_lbhb.baphy_io INFO] evp file for licks: /auto/data/daq/Teonancatl/TNC014/TNC014a09_p_CPN.evp\n",
      "[nems_lbhb.baphy_experiment INFO] Creating trial epochs\n",
      "[nems_lbhb.baphy_experiment INFO] Creating stim epochs\n",
      "[nems_lbhb.baphy_experiment INFO] Creating Light epochs\n",
      "[nems_lbhb.baphy_io INFO] rounding Trial offset spike times to even number of rasterfs bins\n",
      "[nems_lbhb.baphy_io INFO] 200 trials totaling 2910.34 sec\n",
      "[nems_lbhb.baphy_experiment INFO] Caching recording: /auto/data/nems_db/recordings/Teonancatl/TNC014a/TNC014a_ddca9df8224b8c2c70de0978d65a23d329f3ca3d.tgz\n",
      "[nems.recording INFO] Saving recording to : /auto/data/nems_db/recordings/Teonancatl/TNC014a/TNC014a_ddca9df8224b8c2c70de0978d65a23d329f3ca3d.tgz\n",
      "[nems_lbhb.baphy_experiment INFO] Cached recording: /auto/data/nems_db/recordings/Teonancatl/TNC014a/TNC014a_c7a37afc633c4883dad9007c09a7e2374e31acf7.tgz\n",
      "[nems_lbhb.baphy_io INFO] Loading /auto/data/daq/Teonancatl/TNC014/TNC014a09_p_CPN.m\n"
     ]
    },
    {
     "name": "stdout",
     "output_type": "stream",
     "text": [
      "0 resp\n"
     ]
    },
    {
     "name": "stderr",
     "output_type": "stream",
     "text": [
      "[nems_lbhb.baphy_io INFO] evp file for licks: /auto/data/daq/Teonancatl/TNC014/TNC014a09_p_CPN.evp\n",
      "[nems_lbhb.baphy_io INFO] Loading /auto/data/daq/Teonancatl/TNC014/TNC014a09_p_CPN.m\n",
      "[nems_lbhb.baphy_io INFO] evp file for licks: /auto/data/daq/Teonancatl/TNC014/TNC014a09_p_CPN.evp\n",
      "[nems_lbhb.baphy_experiment INFO] Remove post-response events\n",
      "[nems_lbhb.baphy_experiment INFO] Removing post-reponse data\n",
      "[nems_lbhb.baphy_io INFO] rounding Trial offset spike times to even number of rasterfs bins\n",
      "[nems_lbhb.baphy_io INFO] 200 trials totaling 2910.34 sec\n",
      "[nems_lbhb.baphy_io INFO] Loading /auto/data/daq/Teonancatl/TNC014/TNC014a09_p_CPN.m\n",
      "[nems_lbhb.baphy_io INFO] evp file for licks: /auto/data/daq/Teonancatl/TNC014/TNC014a09_p_CPN.evp\n",
      "[nems_lbhb.baphy_experiment INFO] Creating trial epochs\n",
      "[nems_lbhb.baphy_experiment INFO] Creating stim epochs\n",
      "[nems_lbhb.baphy_experiment INFO] Creating Light epochs\n",
      "[nems_lbhb.baphy_io INFO] rounding Trial offset spike times to even number of rasterfs bins\n",
      "[nems_lbhb.baphy_io INFO] 200 trials totaling 2910.34 sec\n",
      "[nems_lbhb.baphy_experiment INFO] Caching recording: /auto/data/nems_db/recordings/Teonancatl/TNC014a/TNC014a_c7a37afc633c4883dad9007c09a7e2374e31acf7.tgz\n",
      "[nems.recording INFO] Saving recording to : /auto/data/nems_db/recordings/Teonancatl/TNC014a/TNC014a_c7a37afc633c4883dad9007c09a7e2374e31acf7.tgz\n"
     ]
    },
    {
     "name": "stdout",
     "output_type": "stream",
     "text": [
      "0 resp\n"
     ]
    },
    {
     "name": "stderr",
     "output_type": "stream",
     "text": [
      "[nems_lbhb.baphy_experiment INFO] Cached recording: /auto/data/nems_db/recordings/Teonancatl/TNC014a/TNC014a_788920a5b9c5556e8d5b69d9a12cd86862a11da6.tgz\n",
      "[nems_lbhb.baphy_io INFO] Loading /auto/data/daq/Teonancatl/TNC014/TNC014a09_p_CPN.m\n",
      "[nems_lbhb.baphy_io INFO] evp file for licks: /auto/data/daq/Teonancatl/TNC014/TNC014a09_p_CPN.evp\n",
      "[nems_lbhb.baphy_io INFO] Loading /auto/data/daq/Teonancatl/TNC014/TNC014a09_p_CPN.m\n",
      "[nems_lbhb.baphy_io INFO] evp file for licks: /auto/data/daq/Teonancatl/TNC014/TNC014a09_p_CPN.evp\n",
      "[nems_lbhb.baphy_experiment INFO] Remove post-response events\n",
      "[nems_lbhb.baphy_experiment INFO] Removing post-reponse data\n",
      "[nems_lbhb.baphy_io INFO] rounding Trial offset spike times to even number of rasterfs bins\n",
      "[nems_lbhb.baphy_io INFO] 200 trials totaling 2910.34 sec\n",
      "[nems_lbhb.baphy_io INFO] Loading /auto/data/daq/Teonancatl/TNC014/TNC014a09_p_CPN.m\n",
      "[nems_lbhb.baphy_io INFO] evp file for licks: /auto/data/daq/Teonancatl/TNC014/TNC014a09_p_CPN.evp\n",
      "[nems_lbhb.baphy_experiment INFO] Creating trial epochs\n",
      "[nems_lbhb.baphy_experiment INFO] Creating stim epochs\n",
      "[nems_lbhb.baphy_experiment INFO] Creating Light epochs\n",
      "[nems_lbhb.baphy_io INFO] rounding Trial offset spike times to even number of rasterfs bins\n",
      "[nems_lbhb.baphy_io INFO] 200 trials totaling 2910.34 sec\n",
      "[nems_lbhb.baphy_experiment INFO] Caching recording: /auto/data/nems_db/recordings/Teonancatl/TNC014a/TNC014a_788920a5b9c5556e8d5b69d9a12cd86862a11da6.tgz\n",
      "[nems.recording INFO] Saving recording to : /auto/data/nems_db/recordings/Teonancatl/TNC014a/TNC014a_788920a5b9c5556e8d5b69d9a12cd86862a11da6.tgz\n",
      "[nems_lbhb.baphy_experiment INFO] Cached recording: /auto/data/nems_db/recordings/Teonancatl/TNC014a/TNC014a_1b41d978d73df95c57c1c6540521b24993fb51a5.tgz\n",
      "[nems_lbhb.baphy_io INFO] Loading /auto/data/daq/Teonancatl/TNC014/TNC014a09_p_CPN.m\n"
     ]
    },
    {
     "name": "stdout",
     "output_type": "stream",
     "text": [
      "0 resp\n"
     ]
    },
    {
     "name": "stderr",
     "output_type": "stream",
     "text": [
      "[nems_lbhb.baphy_io INFO] evp file for licks: /auto/data/daq/Teonancatl/TNC014/TNC014a09_p_CPN.evp\n",
      "[nems_lbhb.baphy_io INFO] Loading /auto/data/daq/Teonancatl/TNC014/TNC014a09_p_CPN.m\n",
      "[nems_lbhb.baphy_io INFO] evp file for licks: /auto/data/daq/Teonancatl/TNC014/TNC014a09_p_CPN.evp\n",
      "[nems_lbhb.baphy_experiment INFO] Remove post-response events\n",
      "[nems_lbhb.baphy_experiment INFO] Removing post-reponse data\n",
      "[nems_lbhb.baphy_io INFO] rounding Trial offset spike times to even number of rasterfs bins\n",
      "[nems_lbhb.baphy_io INFO] 200 trials totaling 2910.34 sec\n",
      "[nems_lbhb.baphy_io INFO] Loading /auto/data/daq/Teonancatl/TNC014/TNC014a09_p_CPN.m\n",
      "[nems_lbhb.baphy_io INFO] evp file for licks: /auto/data/daq/Teonancatl/TNC014/TNC014a09_p_CPN.evp\n",
      "[nems_lbhb.baphy_experiment INFO] Creating trial epochs\n",
      "[nems_lbhb.baphy_experiment INFO] Creating stim epochs\n",
      "[nems_lbhb.baphy_experiment INFO] Creating Light epochs\n",
      "[nems_lbhb.baphy_io INFO] rounding Trial offset spike times to even number of rasterfs bins\n",
      "[nems_lbhb.baphy_io INFO] 200 trials totaling 2910.34 sec\n",
      "[nems_lbhb.baphy_experiment INFO] Caching recording: /auto/data/nems_db/recordings/Teonancatl/TNC014a/TNC014a_1b41d978d73df95c57c1c6540521b24993fb51a5.tgz\n",
      "[nems.recording INFO] Saving recording to : /auto/data/nems_db/recordings/Teonancatl/TNC014a/TNC014a_1b41d978d73df95c57c1c6540521b24993fb51a5.tgz\n",
      "[nems_lbhb.baphy_experiment INFO] Cached recording: /auto/data/nems_db/recordings/Teonancatl/TNC014a/TNC014a_a7f61bbc96a2fd9a771e3ca0f42358c76a6d30ca.tgz\n",
      "[nems_lbhb.baphy_io INFO] Loading /auto/data/daq/Teonancatl/TNC014/TNC014a09_p_CPN.m\n"
     ]
    },
    {
     "name": "stdout",
     "output_type": "stream",
     "text": [
      "0 resp\n"
     ]
    },
    {
     "name": "stderr",
     "output_type": "stream",
     "text": [
      "[nems_lbhb.baphy_io INFO] evp file for licks: /auto/data/daq/Teonancatl/TNC014/TNC014a09_p_CPN.evp\n",
      "[nems_lbhb.baphy_io INFO] Loading /auto/data/daq/Teonancatl/TNC014/TNC014a09_p_CPN.m\n",
      "[nems_lbhb.baphy_io INFO] evp file for licks: /auto/data/daq/Teonancatl/TNC014/TNC014a09_p_CPN.evp\n",
      "[nems_lbhb.baphy_experiment INFO] Remove post-response events\n",
      "[nems_lbhb.baphy_experiment INFO] Removing post-reponse data\n",
      "[nems_lbhb.baphy_io INFO] rounding Trial offset spike times to even number of rasterfs bins\n",
      "[nems_lbhb.baphy_io INFO] 200 trials totaling 2910.34 sec\n",
      "[nems_lbhb.baphy_io INFO] Loading /auto/data/daq/Teonancatl/TNC014/TNC014a09_p_CPN.m\n",
      "[nems_lbhb.baphy_io INFO] evp file for licks: /auto/data/daq/Teonancatl/TNC014/TNC014a09_p_CPN.evp\n",
      "[nems_lbhb.baphy_experiment INFO] Creating trial epochs\n",
      "[nems_lbhb.baphy_experiment INFO] Creating stim epochs\n",
      "[nems_lbhb.baphy_experiment INFO] Creating Light epochs\n",
      "[nems_lbhb.baphy_io INFO] rounding Trial offset spike times to even number of rasterfs bins\n",
      "[nems_lbhb.baphy_io INFO] 200 trials totaling 2910.34 sec\n",
      "[nems_lbhb.baphy_experiment INFO] Caching recording: /auto/data/nems_db/recordings/Teonancatl/TNC014a/TNC014a_a7f61bbc96a2fd9a771e3ca0f42358c76a6d30ca.tgz\n",
      "[nems.recording INFO] Saving recording to : /auto/data/nems_db/recordings/Teonancatl/TNC014a/TNC014a_a7f61bbc96a2fd9a771e3ca0f42358c76a6d30ca.tgz\n",
      "[nems_lbhb.baphy_experiment INFO] Cached recording: /auto/data/nems_db/recordings/Teonancatl/TNC014a/TNC014a_941408567bdb4e42bcb9ea2e8a6dddf9c0072dd7.tgz\n",
      "[nems_lbhb.baphy_io INFO] Loading /auto/data/daq/Teonancatl/TNC014/TNC014a09_p_CPN.m\n"
     ]
    },
    {
     "name": "stdout",
     "output_type": "stream",
     "text": [
      "0 resp\n"
     ]
    },
    {
     "name": "stderr",
     "output_type": "stream",
     "text": [
      "[nems_lbhb.baphy_io INFO] evp file for licks: /auto/data/daq/Teonancatl/TNC014/TNC014a09_p_CPN.evp\n",
      "[nems_lbhb.baphy_io INFO] Loading /auto/data/daq/Teonancatl/TNC014/TNC014a09_p_CPN.m\n",
      "[nems_lbhb.baphy_io INFO] evp file for licks: /auto/data/daq/Teonancatl/TNC014/TNC014a09_p_CPN.evp\n",
      "[nems_lbhb.baphy_experiment INFO] Remove post-response events\n",
      "[nems_lbhb.baphy_experiment INFO] Removing post-reponse data\n",
      "[nems_lbhb.baphy_io INFO] rounding Trial offset spike times to even number of rasterfs bins\n",
      "[nems_lbhb.baphy_io INFO] 200 trials totaling 2910.34 sec\n",
      "[nems_lbhb.baphy_io INFO] Loading /auto/data/daq/Teonancatl/TNC014/TNC014a09_p_CPN.m\n",
      "[nems_lbhb.baphy_io INFO] evp file for licks: /auto/data/daq/Teonancatl/TNC014/TNC014a09_p_CPN.evp\n",
      "[nems_lbhb.baphy_experiment INFO] Creating trial epochs\n",
      "[nems_lbhb.baphy_experiment INFO] Creating stim epochs\n",
      "[nems_lbhb.baphy_experiment INFO] Creating Light epochs\n",
      "[nems_lbhb.baphy_io INFO] rounding Trial offset spike times to even number of rasterfs bins\n",
      "[nems_lbhb.baphy_io INFO] 200 trials totaling 2910.34 sec\n",
      "[nems_lbhb.baphy_experiment INFO] Caching recording: /auto/data/nems_db/recordings/Teonancatl/TNC014a/TNC014a_941408567bdb4e42bcb9ea2e8a6dddf9c0072dd7.tgz\n",
      "[nems.recording INFO] Saving recording to : /auto/data/nems_db/recordings/Teonancatl/TNC014a/TNC014a_941408567bdb4e42bcb9ea2e8a6dddf9c0072dd7.tgz\n"
     ]
    },
    {
     "name": "stdout",
     "output_type": "stream",
     "text": [
      "0 resp\n"
     ]
    },
    {
     "name": "stderr",
     "output_type": "stream",
     "text": [
      "[nems_lbhb.baphy_experiment INFO] Cached recording: /auto/data/nems_db/recordings/Teonancatl/TNC014a/TNC014a_03e8f9041afd997b77d732b0cfebb129c74ec4a6.tgz\n",
      "[nems_lbhb.baphy_io INFO] Loading /auto/data/daq/Teonancatl/TNC014/TNC014a09_p_CPN.m\n",
      "[nems_lbhb.baphy_io INFO] evp file for licks: /auto/data/daq/Teonancatl/TNC014/TNC014a09_p_CPN.evp\n",
      "[nems_lbhb.baphy_io INFO] Loading /auto/data/daq/Teonancatl/TNC014/TNC014a09_p_CPN.m\n",
      "[nems_lbhb.baphy_io INFO] evp file for licks: /auto/data/daq/Teonancatl/TNC014/TNC014a09_p_CPN.evp\n",
      "[nems_lbhb.baphy_experiment INFO] Remove post-response events\n",
      "[nems_lbhb.baphy_experiment INFO] Removing post-reponse data\n",
      "[nems_lbhb.baphy_io INFO] rounding Trial offset spike times to even number of rasterfs bins\n",
      "[nems_lbhb.baphy_io INFO] 200 trials totaling 2910.34 sec\n",
      "[nems_lbhb.baphy_io INFO] Loading /auto/data/daq/Teonancatl/TNC014/TNC014a09_p_CPN.m\n",
      "[nems_lbhb.baphy_io INFO] evp file for licks: /auto/data/daq/Teonancatl/TNC014/TNC014a09_p_CPN.evp\n",
      "[nems_lbhb.baphy_experiment INFO] Creating trial epochs\n",
      "[nems_lbhb.baphy_experiment INFO] Creating stim epochs\n",
      "[nems_lbhb.baphy_experiment INFO] Creating Light epochs\n",
      "[nems_lbhb.baphy_io INFO] rounding Trial offset spike times to even number of rasterfs bins\n",
      "[nems_lbhb.baphy_io INFO] 200 trials totaling 2910.34 sec\n",
      "[nems_lbhb.baphy_experiment INFO] Caching recording: /auto/data/nems_db/recordings/Teonancatl/TNC014a/TNC014a_03e8f9041afd997b77d732b0cfebb129c74ec4a6.tgz\n",
      "[nems.recording INFO] Saving recording to : /auto/data/nems_db/recordings/Teonancatl/TNC014a/TNC014a_03e8f9041afd997b77d732b0cfebb129c74ec4a6.tgz\n",
      "[nems_lbhb.baphy_experiment INFO] Cached recording: /auto/data/nems_db/recordings/Teonancatl/TNC014a/TNC014a_f1b3e1322c64561584907e0360c961e2cec307d5.tgz\n",
      "[nems_lbhb.baphy_io INFO] Loading /auto/data/daq/Teonancatl/TNC014/TNC014a09_p_CPN.m\n"
     ]
    },
    {
     "name": "stdout",
     "output_type": "stream",
     "text": [
      "0 resp\n"
     ]
    },
    {
     "name": "stderr",
     "output_type": "stream",
     "text": [
      "[nems_lbhb.baphy_io INFO] evp file for licks: /auto/data/daq/Teonancatl/TNC014/TNC014a09_p_CPN.evp\n",
      "[nems_lbhb.baphy_io INFO] Loading /auto/data/daq/Teonancatl/TNC014/TNC014a09_p_CPN.m\n",
      "[nems_lbhb.baphy_io INFO] evp file for licks: /auto/data/daq/Teonancatl/TNC014/TNC014a09_p_CPN.evp\n",
      "[nems_lbhb.baphy_experiment INFO] Remove post-response events\n",
      "[nems_lbhb.baphy_experiment INFO] Removing post-reponse data\n",
      "[nems_lbhb.baphy_io INFO] rounding Trial offset spike times to even number of rasterfs bins\n",
      "[nems_lbhb.baphy_io INFO] 200 trials totaling 2910.34 sec\n",
      "[nems_lbhb.baphy_io INFO] Loading /auto/data/daq/Teonancatl/TNC014/TNC014a09_p_CPN.m\n",
      "[nems_lbhb.baphy_io INFO] evp file for licks: /auto/data/daq/Teonancatl/TNC014/TNC014a09_p_CPN.evp\n",
      "[nems_lbhb.baphy_experiment INFO] Creating trial epochs\n",
      "[nems_lbhb.baphy_experiment INFO] Creating stim epochs\n",
      "[nems_lbhb.baphy_experiment INFO] Creating Light epochs\n",
      "[nems_lbhb.baphy_io INFO] rounding Trial offset spike times to even number of rasterfs bins\n",
      "[nems_lbhb.baphy_io INFO] 200 trials totaling 2910.34 sec\n",
      "[nems_lbhb.baphy_experiment INFO] Caching recording: /auto/data/nems_db/recordings/Teonancatl/TNC014a/TNC014a_f1b3e1322c64561584907e0360c961e2cec307d5.tgz\n",
      "[nems.recording INFO] Saving recording to : /auto/data/nems_db/recordings/Teonancatl/TNC014a/TNC014a_f1b3e1322c64561584907e0360c961e2cec307d5.tgz\n",
      "[nems_lbhb.baphy_experiment INFO] Cached recording: /auto/data/nems_db/recordings/Teonancatl/TNC014a/TNC014a_89d24758a2fc4aef721007f7295dfab3a4514d51.tgz\n",
      "[nems_lbhb.baphy_io INFO] Loading /auto/data/daq/Teonancatl/TNC014/TNC014a09_p_CPN.m\n"
     ]
    },
    {
     "name": "stdout",
     "output_type": "stream",
     "text": [
      "0 resp\n"
     ]
    },
    {
     "name": "stderr",
     "output_type": "stream",
     "text": [
      "[nems_lbhb.baphy_io INFO] evp file for licks: /auto/data/daq/Teonancatl/TNC014/TNC014a09_p_CPN.evp\n",
      "[nems_lbhb.baphy_io INFO] Loading /auto/data/daq/Teonancatl/TNC014/TNC014a09_p_CPN.m\n",
      "[nems_lbhb.baphy_io INFO] evp file for licks: /auto/data/daq/Teonancatl/TNC014/TNC014a09_p_CPN.evp\n",
      "[nems_lbhb.baphy_experiment INFO] Remove post-response events\n",
      "[nems_lbhb.baphy_experiment INFO] Removing post-reponse data\n",
      "[nems_lbhb.baphy_io INFO] rounding Trial offset spike times to even number of rasterfs bins\n",
      "[nems_lbhb.baphy_io INFO] 200 trials totaling 2910.34 sec\n",
      "[nems_lbhb.baphy_io INFO] Loading /auto/data/daq/Teonancatl/TNC014/TNC014a09_p_CPN.m\n",
      "[nems_lbhb.baphy_io INFO] evp file for licks: /auto/data/daq/Teonancatl/TNC014/TNC014a09_p_CPN.evp\n",
      "[nems_lbhb.baphy_experiment INFO] Creating trial epochs\n",
      "[nems_lbhb.baphy_experiment INFO] Creating stim epochs\n",
      "[nems_lbhb.baphy_experiment INFO] Creating Light epochs\n",
      "[nems_lbhb.baphy_io INFO] rounding Trial offset spike times to even number of rasterfs bins\n",
      "[nems_lbhb.baphy_io INFO] 200 trials totaling 2910.34 sec\n",
      "[nems_lbhb.baphy_experiment INFO] Caching recording: /auto/data/nems_db/recordings/Teonancatl/TNC014a/TNC014a_89d24758a2fc4aef721007f7295dfab3a4514d51.tgz\n",
      "[nems.recording INFO] Saving recording to : /auto/data/nems_db/recordings/Teonancatl/TNC014a/TNC014a_89d24758a2fc4aef721007f7295dfab3a4514d51.tgz\n",
      "[nems_lbhb.baphy_experiment INFO] Cached recording: /auto/data/nems_db/recordings/Teonancatl/TNC014a/TNC014a_3cbdbdfd527fbf73a600cad4b546aa3b7ef85c3d.tgz\n",
      "[nems_lbhb.baphy_io INFO] Loading /auto/data/daq/Teonancatl/TNC014/TNC014a09_p_CPN.m\n"
     ]
    },
    {
     "name": "stdout",
     "output_type": "stream",
     "text": [
      "0 resp\n"
     ]
    },
    {
     "name": "stderr",
     "output_type": "stream",
     "text": [
      "[nems_lbhb.baphy_io INFO] evp file for licks: /auto/data/daq/Teonancatl/TNC014/TNC014a09_p_CPN.evp\n",
      "[nems_lbhb.baphy_io INFO] Loading /auto/data/daq/Teonancatl/TNC014/TNC014a09_p_CPN.m\n",
      "[nems_lbhb.baphy_io INFO] evp file for licks: /auto/data/daq/Teonancatl/TNC014/TNC014a09_p_CPN.evp\n",
      "[nems_lbhb.baphy_experiment INFO] Remove post-response events\n",
      "[nems_lbhb.baphy_experiment INFO] Removing post-reponse data\n",
      "[nems_lbhb.baphy_io INFO] rounding Trial offset spike times to even number of rasterfs bins\n",
      "[nems_lbhb.baphy_io INFO] 200 trials totaling 2910.34 sec\n",
      "[nems_lbhb.baphy_io INFO] Loading /auto/data/daq/Teonancatl/TNC014/TNC014a09_p_CPN.m\n",
      "[nems_lbhb.baphy_io INFO] evp file for licks: /auto/data/daq/Teonancatl/TNC014/TNC014a09_p_CPN.evp\n",
      "[nems_lbhb.baphy_experiment INFO] Creating trial epochs\n",
      "[nems_lbhb.baphy_experiment INFO] Creating stim epochs\n",
      "[nems_lbhb.baphy_experiment INFO] Creating Light epochs\n",
      "[nems_lbhb.baphy_io INFO] rounding Trial offset spike times to even number of rasterfs bins\n",
      "[nems_lbhb.baphy_io INFO] 200 trials totaling 2910.34 sec\n",
      "[nems_lbhb.baphy_experiment INFO] Caching recording: /auto/data/nems_db/recordings/Teonancatl/TNC014a/TNC014a_3cbdbdfd527fbf73a600cad4b546aa3b7ef85c3d.tgz\n",
      "[nems.recording INFO] Saving recording to : /auto/data/nems_db/recordings/Teonancatl/TNC014a/TNC014a_3cbdbdfd527fbf73a600cad4b546aa3b7ef85c3d.tgz\n",
      "[nems_lbhb.baphy_experiment INFO] Cached recording: /auto/data/nems_db/recordings/Teonancatl/TNC014a/TNC014a_e4987967788d058f1b32ccf466d392f976629ef2.tgz\n",
      "[nems_lbhb.baphy_io INFO] Loading /auto/data/daq/Teonancatl/TNC014/TNC014a09_p_CPN.m\n"
     ]
    },
    {
     "name": "stdout",
     "output_type": "stream",
     "text": [
      "0 resp\n"
     ]
    },
    {
     "name": "stderr",
     "output_type": "stream",
     "text": [
      "[nems_lbhb.baphy_io INFO] evp file for licks: /auto/data/daq/Teonancatl/TNC014/TNC014a09_p_CPN.evp\n",
      "[nems_lbhb.baphy_io INFO] Loading /auto/data/daq/Teonancatl/TNC014/TNC014a09_p_CPN.m\n",
      "[nems_lbhb.baphy_io INFO] evp file for licks: /auto/data/daq/Teonancatl/TNC014/TNC014a09_p_CPN.evp\n",
      "[nems_lbhb.baphy_experiment INFO] Remove post-response events\n",
      "[nems_lbhb.baphy_experiment INFO] Removing post-reponse data\n",
      "[nems_lbhb.baphy_io INFO] rounding Trial offset spike times to even number of rasterfs bins\n",
      "[nems_lbhb.baphy_io INFO] 200 trials totaling 2910.34 sec\n",
      "[nems_lbhb.baphy_io INFO] Loading /auto/data/daq/Teonancatl/TNC014/TNC014a09_p_CPN.m\n",
      "[nems_lbhb.baphy_io INFO] evp file for licks: /auto/data/daq/Teonancatl/TNC014/TNC014a09_p_CPN.evp\n",
      "[nems_lbhb.baphy_experiment INFO] Creating trial epochs\n",
      "[nems_lbhb.baphy_experiment INFO] Creating stim epochs\n",
      "[nems_lbhb.baphy_experiment INFO] Creating Light epochs\n",
      "[nems_lbhb.baphy_io INFO] rounding Trial offset spike times to even number of rasterfs bins\n",
      "[nems_lbhb.baphy_io INFO] 200 trials totaling 2910.34 sec\n",
      "[nems_lbhb.baphy_experiment INFO] Caching recording: /auto/data/nems_db/recordings/Teonancatl/TNC014a/TNC014a_e4987967788d058f1b32ccf466d392f976629ef2.tgz\n",
      "[nems.recording INFO] Saving recording to : /auto/data/nems_db/recordings/Teonancatl/TNC014a/TNC014a_e4987967788d058f1b32ccf466d392f976629ef2.tgz\n",
      "[nems_lbhb.baphy_experiment INFO] Cached recording: /auto/data/nems_db/recordings/Teonancatl/TNC014a/TNC014a_762fd7408494cbb7bdbc096ac2b8c26c8f964121.tgz\n",
      "[nems_lbhb.baphy_io INFO] Loading /auto/data/daq/Teonancatl/TNC014/TNC014a09_p_CPN.m\n"
     ]
    },
    {
     "name": "stdout",
     "output_type": "stream",
     "text": [
      "0 resp\n"
     ]
    },
    {
     "name": "stderr",
     "output_type": "stream",
     "text": [
      "[nems_lbhb.baphy_io INFO] evp file for licks: /auto/data/daq/Teonancatl/TNC014/TNC014a09_p_CPN.evp\n",
      "[nems_lbhb.baphy_io INFO] Loading /auto/data/daq/Teonancatl/TNC014/TNC014a09_p_CPN.m\n",
      "[nems_lbhb.baphy_io INFO] evp file for licks: /auto/data/daq/Teonancatl/TNC014/TNC014a09_p_CPN.evp\n",
      "[nems_lbhb.baphy_experiment INFO] Remove post-response events\n",
      "[nems_lbhb.baphy_experiment INFO] Removing post-reponse data\n",
      "[nems_lbhb.baphy_io INFO] rounding Trial offset spike times to even number of rasterfs bins\n",
      "[nems_lbhb.baphy_io INFO] 200 trials totaling 2910.34 sec\n",
      "[nems_lbhb.baphy_io INFO] Loading /auto/data/daq/Teonancatl/TNC014/TNC014a09_p_CPN.m\n",
      "[nems_lbhb.baphy_io INFO] evp file for licks: /auto/data/daq/Teonancatl/TNC014/TNC014a09_p_CPN.evp\n",
      "[nems_lbhb.baphy_experiment INFO] Creating trial epochs\n",
      "[nems_lbhb.baphy_experiment INFO] Creating stim epochs\n",
      "[nems_lbhb.baphy_experiment INFO] Creating Light epochs\n",
      "[nems_lbhb.baphy_io INFO] rounding Trial offset spike times to even number of rasterfs bins\n",
      "[nems_lbhb.baphy_io INFO] 200 trials totaling 2910.34 sec\n",
      "[nems_lbhb.baphy_experiment INFO] Caching recording: /auto/data/nems_db/recordings/Teonancatl/TNC014a/TNC014a_762fd7408494cbb7bdbc096ac2b8c26c8f964121.tgz\n",
      "[nems.recording INFO] Saving recording to : /auto/data/nems_db/recordings/Teonancatl/TNC014a/TNC014a_762fd7408494cbb7bdbc096ac2b8c26c8f964121.tgz\n",
      "[nems_lbhb.baphy_experiment INFO] Cached recording: /auto/data/nems_db/recordings/Teonancatl/TNC014a/TNC014a_585b9954ef661f14317204ffe77b7918c9d96224.tgz\n",
      "[nems_lbhb.baphy_io INFO] Loading /auto/data/daq/Teonancatl/TNC014/TNC014a09_p_CPN.m\n"
     ]
    },
    {
     "name": "stdout",
     "output_type": "stream",
     "text": [
      "0 resp\n"
     ]
    },
    {
     "name": "stderr",
     "output_type": "stream",
     "text": [
      "[nems_lbhb.baphy_io INFO] evp file for licks: /auto/data/daq/Teonancatl/TNC014/TNC014a09_p_CPN.evp\n",
      "[nems_lbhb.baphy_io INFO] Loading /auto/data/daq/Teonancatl/TNC014/TNC014a09_p_CPN.m\n",
      "[nems_lbhb.baphy_io INFO] evp file for licks: /auto/data/daq/Teonancatl/TNC014/TNC014a09_p_CPN.evp\n",
      "[nems_lbhb.baphy_experiment INFO] Remove post-response events\n",
      "[nems_lbhb.baphy_experiment INFO] Removing post-reponse data\n",
      "[nems_lbhb.baphy_io INFO] rounding Trial offset spike times to even number of rasterfs bins\n",
      "[nems_lbhb.baphy_io INFO] 200 trials totaling 2910.34 sec\n",
      "[nems_lbhb.baphy_io INFO] Loading /auto/data/daq/Teonancatl/TNC014/TNC014a09_p_CPN.m\n",
      "[nems_lbhb.baphy_io INFO] evp file for licks: /auto/data/daq/Teonancatl/TNC014/TNC014a09_p_CPN.evp\n",
      "[nems_lbhb.baphy_experiment INFO] Creating trial epochs\n",
      "[nems_lbhb.baphy_experiment INFO] Creating stim epochs\n",
      "[nems_lbhb.baphy_experiment INFO] Creating Light epochs\n",
      "[nems_lbhb.baphy_io INFO] rounding Trial offset spike times to even number of rasterfs bins\n",
      "[nems_lbhb.baphy_io INFO] 200 trials totaling 2910.34 sec\n",
      "[nems_lbhb.baphy_experiment INFO] Caching recording: /auto/data/nems_db/recordings/Teonancatl/TNC014a/TNC014a_585b9954ef661f14317204ffe77b7918c9d96224.tgz\n",
      "[nems.recording INFO] Saving recording to : /auto/data/nems_db/recordings/Teonancatl/TNC014a/TNC014a_585b9954ef661f14317204ffe77b7918c9d96224.tgz\n",
      "[nems_lbhb.baphy_experiment INFO] Cached recording: /auto/data/nems_db/recordings/Teonancatl/TNC014a/TNC014a_d8690edcd237fa58d0a1d1311e543ae85247e36e.tgz\n",
      "[nems_lbhb.baphy_io INFO] Loading /auto/data/daq/Teonancatl/TNC014/TNC014a09_p_CPN.m\n"
     ]
    },
    {
     "name": "stdout",
     "output_type": "stream",
     "text": [
      "0 resp\n"
     ]
    },
    {
     "name": "stderr",
     "output_type": "stream",
     "text": [
      "[nems_lbhb.baphy_io INFO] evp file for licks: /auto/data/daq/Teonancatl/TNC014/TNC014a09_p_CPN.evp\n",
      "[nems_lbhb.baphy_io INFO] Loading /auto/data/daq/Teonancatl/TNC014/TNC014a09_p_CPN.m\n",
      "[nems_lbhb.baphy_io INFO] evp file for licks: /auto/data/daq/Teonancatl/TNC014/TNC014a09_p_CPN.evp\n",
      "[nems_lbhb.baphy_experiment INFO] Remove post-response events\n",
      "[nems_lbhb.baphy_experiment INFO] Removing post-reponse data\n",
      "[nems_lbhb.baphy_io INFO] rounding Trial offset spike times to even number of rasterfs bins\n",
      "[nems_lbhb.baphy_io INFO] 200 trials totaling 2910.34 sec\n",
      "[nems_lbhb.baphy_io INFO] Loading /auto/data/daq/Teonancatl/TNC014/TNC014a09_p_CPN.m\n",
      "[nems_lbhb.baphy_io INFO] evp file for licks: /auto/data/daq/Teonancatl/TNC014/TNC014a09_p_CPN.evp\n",
      "[nems_lbhb.baphy_experiment INFO] Creating trial epochs\n",
      "[nems_lbhb.baphy_experiment INFO] Creating stim epochs\n",
      "[nems_lbhb.baphy_experiment INFO] Creating Light epochs\n",
      "[nems_lbhb.baphy_io INFO] rounding Trial offset spike times to even number of rasterfs bins\n",
      "[nems_lbhb.baphy_io INFO] 200 trials totaling 2910.34 sec\n",
      "[nems_lbhb.baphy_experiment INFO] Caching recording: /auto/data/nems_db/recordings/Teonancatl/TNC014a/TNC014a_d8690edcd237fa58d0a1d1311e543ae85247e36e.tgz\n",
      "[nems.recording INFO] Saving recording to : /auto/data/nems_db/recordings/Teonancatl/TNC014a/TNC014a_d8690edcd237fa58d0a1d1311e543ae85247e36e.tgz\n",
      "[nems_lbhb.baphy_experiment INFO] Cached recording: /auto/data/nems_db/recordings/Teonancatl/TNC014a/TNC014a_be6f61ff43c4792a8a359589ba66595c30765b6e.tgz\n",
      "[nems_lbhb.baphy_io INFO] Loading /auto/data/daq/Teonancatl/TNC014/TNC014a09_p_CPN.m\n"
     ]
    },
    {
     "name": "stdout",
     "output_type": "stream",
     "text": [
      "0 resp\n"
     ]
    },
    {
     "name": "stderr",
     "output_type": "stream",
     "text": [
      "[nems_lbhb.baphy_io INFO] evp file for licks: /auto/data/daq/Teonancatl/TNC014/TNC014a09_p_CPN.evp\n",
      "[nems_lbhb.baphy_io INFO] Loading /auto/data/daq/Teonancatl/TNC014/TNC014a09_p_CPN.m\n",
      "[nems_lbhb.baphy_io INFO] evp file for licks: /auto/data/daq/Teonancatl/TNC014/TNC014a09_p_CPN.evp\n",
      "[nems_lbhb.baphy_experiment INFO] Remove post-response events\n",
      "[nems_lbhb.baphy_experiment INFO] Removing post-reponse data\n",
      "[nems_lbhb.baphy_io INFO] rounding Trial offset spike times to even number of rasterfs bins\n",
      "[nems_lbhb.baphy_io INFO] 200 trials totaling 2910.34 sec\n",
      "[nems_lbhb.baphy_io INFO] Loading /auto/data/daq/Teonancatl/TNC014/TNC014a09_p_CPN.m\n",
      "[nems_lbhb.baphy_io INFO] evp file for licks: /auto/data/daq/Teonancatl/TNC014/TNC014a09_p_CPN.evp\n",
      "[nems_lbhb.baphy_experiment INFO] Creating trial epochs\n",
      "[nems_lbhb.baphy_experiment INFO] Creating stim epochs\n",
      "[nems_lbhb.baphy_experiment INFO] Creating Light epochs\n",
      "[nems_lbhb.baphy_io INFO] rounding Trial offset spike times to even number of rasterfs bins\n",
      "[nems_lbhb.baphy_io INFO] 200 trials totaling 2910.34 sec\n",
      "[nems_lbhb.baphy_experiment INFO] Caching recording: /auto/data/nems_db/recordings/Teonancatl/TNC014a/TNC014a_be6f61ff43c4792a8a359589ba66595c30765b6e.tgz\n",
      "[nems.recording INFO] Saving recording to : /auto/data/nems_db/recordings/Teonancatl/TNC014a/TNC014a_be6f61ff43c4792a8a359589ba66595c30765b6e.tgz\n",
      "[nems_lbhb.baphy_experiment INFO] Cached recording: /auto/data/nems_db/recordings/Teonancatl/TNC014a/TNC014a_a6facf51b0d236b030dd0595e986a4fb3d75c175.tgz\n",
      "[nems_lbhb.baphy_io INFO] Loading /auto/data/daq/Teonancatl/TNC014/TNC014a09_p_CPN.m\n"
     ]
    },
    {
     "name": "stdout",
     "output_type": "stream",
     "text": [
      "0 resp\n"
     ]
    },
    {
     "name": "stderr",
     "output_type": "stream",
     "text": [
      "[nems_lbhb.baphy_io INFO] evp file for licks: /auto/data/daq/Teonancatl/TNC014/TNC014a09_p_CPN.evp\n",
      "[nems_lbhb.baphy_io INFO] Loading /auto/data/daq/Teonancatl/TNC014/TNC014a09_p_CPN.m\n",
      "[nems_lbhb.baphy_io INFO] evp file for licks: /auto/data/daq/Teonancatl/TNC014/TNC014a09_p_CPN.evp\n",
      "[nems_lbhb.baphy_experiment INFO] Remove post-response events\n",
      "[nems_lbhb.baphy_experiment INFO] Removing post-reponse data\n",
      "[nems_lbhb.baphy_io INFO] rounding Trial offset spike times to even number of rasterfs bins\n",
      "[nems_lbhb.baphy_io INFO] 200 trials totaling 2910.34 sec\n",
      "[nems_lbhb.baphy_io INFO] Loading /auto/data/daq/Teonancatl/TNC014/TNC014a09_p_CPN.m\n",
      "[nems_lbhb.baphy_io INFO] evp file for licks: /auto/data/daq/Teonancatl/TNC014/TNC014a09_p_CPN.evp\n",
      "[nems_lbhb.baphy_experiment INFO] Creating trial epochs\n",
      "[nems_lbhb.baphy_experiment INFO] Creating stim epochs\n",
      "[nems_lbhb.baphy_experiment INFO] Creating Light epochs\n",
      "[nems_lbhb.baphy_io INFO] rounding Trial offset spike times to even number of rasterfs bins\n",
      "[nems_lbhb.baphy_io INFO] 200 trials totaling 2910.34 sec\n",
      "[nems_lbhb.baphy_experiment INFO] Caching recording: /auto/data/nems_db/recordings/Teonancatl/TNC014a/TNC014a_a6facf51b0d236b030dd0595e986a4fb3d75c175.tgz\n",
      "[nems.recording INFO] Saving recording to : /auto/data/nems_db/recordings/Teonancatl/TNC014a/TNC014a_a6facf51b0d236b030dd0595e986a4fb3d75c175.tgz\n",
      "[nems_lbhb.baphy_experiment INFO] Cached recording: /auto/data/nems_db/recordings/Teonancatl/TNC014a/TNC014a_8cdaf7fadf4185fd49146b04e0b0c523afc0259b.tgz\n",
      "[nems_lbhb.baphy_io INFO] Loading /auto/data/daq/Teonancatl/TNC014/TNC014a09_p_CPN.m\n"
     ]
    },
    {
     "name": "stdout",
     "output_type": "stream",
     "text": [
      "0 resp\n"
     ]
    },
    {
     "name": "stderr",
     "output_type": "stream",
     "text": [
      "[nems_lbhb.baphy_io INFO] evp file for licks: /auto/data/daq/Teonancatl/TNC014/TNC014a09_p_CPN.evp\n",
      "[nems_lbhb.baphy_io INFO] Loading /auto/data/daq/Teonancatl/TNC014/TNC014a09_p_CPN.m\n",
      "[nems_lbhb.baphy_io INFO] evp file for licks: /auto/data/daq/Teonancatl/TNC014/TNC014a09_p_CPN.evp\n",
      "[nems_lbhb.baphy_experiment INFO] Remove post-response events\n",
      "[nems_lbhb.baphy_experiment INFO] Removing post-reponse data\n",
      "[nems_lbhb.baphy_io INFO] rounding Trial offset spike times to even number of rasterfs bins\n",
      "[nems_lbhb.baphy_io INFO] 200 trials totaling 2910.34 sec\n",
      "[nems_lbhb.baphy_io INFO] Loading /auto/data/daq/Teonancatl/TNC014/TNC014a09_p_CPN.m\n",
      "[nems_lbhb.baphy_io INFO] evp file for licks: /auto/data/daq/Teonancatl/TNC014/TNC014a09_p_CPN.evp\n",
      "[nems_lbhb.baphy_experiment INFO] Creating trial epochs\n",
      "[nems_lbhb.baphy_experiment INFO] Creating stim epochs\n",
      "[nems_lbhb.baphy_experiment INFO] Creating Light epochs\n",
      "[nems_lbhb.baphy_io INFO] rounding Trial offset spike times to even number of rasterfs bins\n",
      "[nems_lbhb.baphy_io INFO] 200 trials totaling 2910.34 sec\n",
      "[nems_lbhb.baphy_experiment INFO] Caching recording: /auto/data/nems_db/recordings/Teonancatl/TNC014a/TNC014a_8cdaf7fadf4185fd49146b04e0b0c523afc0259b.tgz\n",
      "[nems.recording INFO] Saving recording to : /auto/data/nems_db/recordings/Teonancatl/TNC014a/TNC014a_8cdaf7fadf4185fd49146b04e0b0c523afc0259b.tgz\n",
      "[nems_lbhb.baphy_experiment INFO] Cached recording: /auto/data/nems_db/recordings/Teonancatl/TNC014a/TNC014a_01de437c55244e111ef0216c4092705aa9986b60.tgz\n",
      "[nems_lbhb.baphy_io INFO] Loading /auto/data/daq/Teonancatl/TNC014/TNC014a09_p_CPN.m\n"
     ]
    },
    {
     "name": "stdout",
     "output_type": "stream",
     "text": [
      "0 resp\n"
     ]
    },
    {
     "name": "stderr",
     "output_type": "stream",
     "text": [
      "[nems_lbhb.baphy_io INFO] evp file for licks: /auto/data/daq/Teonancatl/TNC014/TNC014a09_p_CPN.evp\n",
      "[nems_lbhb.baphy_io INFO] Loading /auto/data/daq/Teonancatl/TNC014/TNC014a09_p_CPN.m\n",
      "[nems_lbhb.baphy_io INFO] evp file for licks: /auto/data/daq/Teonancatl/TNC014/TNC014a09_p_CPN.evp\n",
      "[nems_lbhb.baphy_experiment INFO] Remove post-response events\n",
      "[nems_lbhb.baphy_experiment INFO] Removing post-reponse data\n",
      "[nems_lbhb.baphy_io INFO] rounding Trial offset spike times to even number of rasterfs bins\n",
      "[nems_lbhb.baphy_io INFO] 200 trials totaling 2910.34 sec\n",
      "[nems_lbhb.baphy_io INFO] Loading /auto/data/daq/Teonancatl/TNC014/TNC014a09_p_CPN.m\n",
      "[nems_lbhb.baphy_io INFO] evp file for licks: /auto/data/daq/Teonancatl/TNC014/TNC014a09_p_CPN.evp\n",
      "[nems_lbhb.baphy_experiment INFO] Creating trial epochs\n",
      "[nems_lbhb.baphy_experiment INFO] Creating stim epochs\n",
      "[nems_lbhb.baphy_experiment INFO] Creating Light epochs\n",
      "[nems_lbhb.baphy_io INFO] rounding Trial offset spike times to even number of rasterfs bins\n",
      "[nems_lbhb.baphy_io INFO] 200 trials totaling 2910.34 sec\n",
      "[nems_lbhb.baphy_experiment INFO] Caching recording: /auto/data/nems_db/recordings/Teonancatl/TNC014a/TNC014a_01de437c55244e111ef0216c4092705aa9986b60.tgz\n",
      "[nems.recording INFO] Saving recording to : /auto/data/nems_db/recordings/Teonancatl/TNC014a/TNC014a_01de437c55244e111ef0216c4092705aa9986b60.tgz\n",
      "[nems_lbhb.baphy_experiment INFO] Cached recording: /auto/data/nems_db/recordings/Teonancatl/TNC014a/TNC014a_bffbc3565649294b69cd0505ed9125d9e842be6a.tgz\n",
      "[nems_lbhb.baphy_io INFO] Loading /auto/data/daq/Teonancatl/TNC014/TNC014a09_p_CPN.m\n"
     ]
    },
    {
     "name": "stdout",
     "output_type": "stream",
     "text": [
      "0 resp\n"
     ]
    },
    {
     "name": "stderr",
     "output_type": "stream",
     "text": [
      "[nems_lbhb.baphy_io INFO] evp file for licks: /auto/data/daq/Teonancatl/TNC014/TNC014a09_p_CPN.evp\n",
      "[nems_lbhb.baphy_io INFO] Loading /auto/data/daq/Teonancatl/TNC014/TNC014a09_p_CPN.m\n",
      "[nems_lbhb.baphy_io INFO] evp file for licks: /auto/data/daq/Teonancatl/TNC014/TNC014a09_p_CPN.evp\n",
      "[nems_lbhb.baphy_experiment INFO] Remove post-response events\n",
      "[nems_lbhb.baphy_experiment INFO] Removing post-reponse data\n",
      "[nems_lbhb.baphy_io INFO] rounding Trial offset spike times to even number of rasterfs bins\n",
      "[nems_lbhb.baphy_io INFO] 200 trials totaling 2910.34 sec\n",
      "[nems_lbhb.baphy_io INFO] Loading /auto/data/daq/Teonancatl/TNC014/TNC014a09_p_CPN.m\n",
      "[nems_lbhb.baphy_io INFO] evp file for licks: /auto/data/daq/Teonancatl/TNC014/TNC014a09_p_CPN.evp\n",
      "[nems_lbhb.baphy_experiment INFO] Creating trial epochs\n",
      "[nems_lbhb.baphy_experiment INFO] Creating stim epochs\n",
      "[nems_lbhb.baphy_experiment INFO] Creating Light epochs\n",
      "[nems_lbhb.baphy_io INFO] rounding Trial offset spike times to even number of rasterfs bins\n",
      "[nems_lbhb.baphy_io INFO] 200 trials totaling 2910.34 sec\n",
      "[nems_lbhb.baphy_experiment INFO] Caching recording: /auto/data/nems_db/recordings/Teonancatl/TNC014a/TNC014a_bffbc3565649294b69cd0505ed9125d9e842be6a.tgz\n",
      "[nems.recording INFO] Saving recording to : /auto/data/nems_db/recordings/Teonancatl/TNC014a/TNC014a_bffbc3565649294b69cd0505ed9125d9e842be6a.tgz\n",
      "[nems_lbhb.baphy_experiment INFO] Cached recording: /auto/data/nems_db/recordings/Teonancatl/TNC014a/TNC014a_3ea933c1784059351aa034d4bbd1db8c1b6235cf.tgz\n",
      "[nems_lbhb.baphy_io INFO] Loading /auto/data/daq/Teonancatl/TNC014/TNC014a09_p_CPN.m\n"
     ]
    },
    {
     "name": "stdout",
     "output_type": "stream",
     "text": [
      "0 resp\n"
     ]
    },
    {
     "name": "stderr",
     "output_type": "stream",
     "text": [
      "[nems_lbhb.baphy_io INFO] evp file for licks: /auto/data/daq/Teonancatl/TNC014/TNC014a09_p_CPN.evp\n",
      "[nems_lbhb.baphy_io INFO] Loading /auto/data/daq/Teonancatl/TNC014/TNC014a09_p_CPN.m\n",
      "[nems_lbhb.baphy_io INFO] evp file for licks: /auto/data/daq/Teonancatl/TNC014/TNC014a09_p_CPN.evp\n",
      "[nems_lbhb.baphy_experiment INFO] Remove post-response events\n",
      "[nems_lbhb.baphy_experiment INFO] Removing post-reponse data\n",
      "[nems_lbhb.baphy_io INFO] rounding Trial offset spike times to even number of rasterfs bins\n",
      "[nems_lbhb.baphy_io INFO] 200 trials totaling 2910.34 sec\n",
      "[nems_lbhb.baphy_io INFO] Loading /auto/data/daq/Teonancatl/TNC014/TNC014a09_p_CPN.m\n",
      "[nems_lbhb.baphy_io INFO] evp file for licks: /auto/data/daq/Teonancatl/TNC014/TNC014a09_p_CPN.evp\n",
      "[nems_lbhb.baphy_experiment INFO] Creating trial epochs\n",
      "[nems_lbhb.baphy_experiment INFO] Creating stim epochs\n",
      "[nems_lbhb.baphy_experiment INFO] Creating Light epochs\n",
      "[nems_lbhb.baphy_io INFO] rounding Trial offset spike times to even number of rasterfs bins\n",
      "[nems_lbhb.baphy_io INFO] 200 trials totaling 2910.34 sec\n",
      "[nems_lbhb.baphy_experiment INFO] Caching recording: /auto/data/nems_db/recordings/Teonancatl/TNC014a/TNC014a_3ea933c1784059351aa034d4bbd1db8c1b6235cf.tgz\n",
      "[nems.recording INFO] Saving recording to : /auto/data/nems_db/recordings/Teonancatl/TNC014a/TNC014a_3ea933c1784059351aa034d4bbd1db8c1b6235cf.tgz\n",
      "[nems_lbhb.baphy_experiment INFO] Cached recording: /auto/data/nems_db/recordings/Teonancatl/TNC014a/TNC014a_190c1b14a3e4c1ee83917baf2c5c74ded8a89aef.tgz\n",
      "[nems_lbhb.baphy_io INFO] Loading /auto/data/daq/Teonancatl/TNC014/TNC014a09_p_CPN.m\n"
     ]
    },
    {
     "name": "stdout",
     "output_type": "stream",
     "text": [
      "0 resp\n"
     ]
    },
    {
     "name": "stderr",
     "output_type": "stream",
     "text": [
      "[nems_lbhb.baphy_io INFO] evp file for licks: /auto/data/daq/Teonancatl/TNC014/TNC014a09_p_CPN.evp\n",
      "[nems_lbhb.baphy_io INFO] Loading /auto/data/daq/Teonancatl/TNC014/TNC014a09_p_CPN.m\n",
      "[nems_lbhb.baphy_io INFO] evp file for licks: /auto/data/daq/Teonancatl/TNC014/TNC014a09_p_CPN.evp\n",
      "[nems_lbhb.baphy_experiment INFO] Remove post-response events\n",
      "[nems_lbhb.baphy_experiment INFO] Removing post-reponse data\n",
      "[nems_lbhb.baphy_io INFO] rounding Trial offset spike times to even number of rasterfs bins\n",
      "[nems_lbhb.baphy_io INFO] 200 trials totaling 2910.34 sec\n",
      "[nems_lbhb.baphy_io INFO] Loading /auto/data/daq/Teonancatl/TNC014/TNC014a09_p_CPN.m\n",
      "[nems_lbhb.baphy_io INFO] evp file for licks: /auto/data/daq/Teonancatl/TNC014/TNC014a09_p_CPN.evp\n",
      "[nems_lbhb.baphy_experiment INFO] Creating trial epochs\n",
      "[nems_lbhb.baphy_experiment INFO] Creating stim epochs\n",
      "[nems_lbhb.baphy_experiment INFO] Creating Light epochs\n",
      "[nems_lbhb.baphy_io INFO] rounding Trial offset spike times to even number of rasterfs bins\n",
      "[nems_lbhb.baphy_io INFO] 200 trials totaling 2910.34 sec\n",
      "[nems_lbhb.baphy_experiment INFO] Caching recording: /auto/data/nems_db/recordings/Teonancatl/TNC014a/TNC014a_190c1b14a3e4c1ee83917baf2c5c74ded8a89aef.tgz\n",
      "[nems.recording INFO] Saving recording to : /auto/data/nems_db/recordings/Teonancatl/TNC014a/TNC014a_190c1b14a3e4c1ee83917baf2c5c74ded8a89aef.tgz\n",
      "[nems_lbhb.baphy_experiment INFO] Cached recording: /auto/data/nems_db/recordings/Teonancatl/TNC014a/TNC014a_a88582e25a6e694a6a94361c665c9697f24948ce.tgz\n",
      "[nems_lbhb.baphy_io INFO] Loading /auto/data/daq/Teonancatl/TNC014/TNC014a09_p_CPN.m\n"
     ]
    },
    {
     "name": "stdout",
     "output_type": "stream",
     "text": [
      "0 resp\n"
     ]
    },
    {
     "name": "stderr",
     "output_type": "stream",
     "text": [
      "[nems_lbhb.baphy_io INFO] evp file for licks: /auto/data/daq/Teonancatl/TNC014/TNC014a09_p_CPN.evp\n",
      "[nems_lbhb.baphy_io INFO] Loading /auto/data/daq/Teonancatl/TNC014/TNC014a09_p_CPN.m\n",
      "[nems_lbhb.baphy_io INFO] evp file for licks: /auto/data/daq/Teonancatl/TNC014/TNC014a09_p_CPN.evp\n",
      "[nems_lbhb.baphy_experiment INFO] Remove post-response events\n",
      "[nems_lbhb.baphy_experiment INFO] Removing post-reponse data\n",
      "[nems_lbhb.baphy_io INFO] rounding Trial offset spike times to even number of rasterfs bins\n",
      "[nems_lbhb.baphy_io INFO] 200 trials totaling 2910.34 sec\n",
      "[nems_lbhb.baphy_io INFO] Loading /auto/data/daq/Teonancatl/TNC014/TNC014a09_p_CPN.m\n",
      "[nems_lbhb.baphy_io INFO] evp file for licks: /auto/data/daq/Teonancatl/TNC014/TNC014a09_p_CPN.evp\n",
      "[nems_lbhb.baphy_experiment INFO] Creating trial epochs\n",
      "[nems_lbhb.baphy_experiment INFO] Creating stim epochs\n",
      "[nems_lbhb.baphy_experiment INFO] Creating Light epochs\n",
      "[nems_lbhb.baphy_io INFO] rounding Trial offset spike times to even number of rasterfs bins\n",
      "[nems_lbhb.baphy_io INFO] 200 trials totaling 2910.34 sec\n",
      "[nems_lbhb.baphy_experiment INFO] Caching recording: /auto/data/nems_db/recordings/Teonancatl/TNC014a/TNC014a_a88582e25a6e694a6a94361c665c9697f24948ce.tgz\n",
      "[nems.recording INFO] Saving recording to : /auto/data/nems_db/recordings/Teonancatl/TNC014a/TNC014a_a88582e25a6e694a6a94361c665c9697f24948ce.tgz\n",
      "[nems_lbhb.baphy_experiment INFO] Cached recording: /auto/data/nems_db/recordings/Teonancatl/TNC014a/TNC014a_7a7d084fb4328a16dff54aeddfe2749ed469a389.tgz\n",
      "[nems_lbhb.baphy_io INFO] Loading /auto/data/daq/Teonancatl/TNC014/TNC014a09_p_CPN.m\n"
     ]
    },
    {
     "name": "stdout",
     "output_type": "stream",
     "text": [
      "0 resp\n"
     ]
    },
    {
     "name": "stderr",
     "output_type": "stream",
     "text": [
      "[nems_lbhb.baphy_io INFO] evp file for licks: /auto/data/daq/Teonancatl/TNC014/TNC014a09_p_CPN.evp\n",
      "[nems_lbhb.baphy_io INFO] Loading /auto/data/daq/Teonancatl/TNC014/TNC014a09_p_CPN.m\n",
      "[nems_lbhb.baphy_io INFO] evp file for licks: /auto/data/daq/Teonancatl/TNC014/TNC014a09_p_CPN.evp\n",
      "[nems_lbhb.baphy_experiment INFO] Remove post-response events\n",
      "[nems_lbhb.baphy_experiment INFO] Removing post-reponse data\n",
      "[nems_lbhb.baphy_io INFO] rounding Trial offset spike times to even number of rasterfs bins\n",
      "[nems_lbhb.baphy_io INFO] 200 trials totaling 2910.34 sec\n",
      "[nems_lbhb.baphy_io INFO] Loading /auto/data/daq/Teonancatl/TNC014/TNC014a09_p_CPN.m\n",
      "[nems_lbhb.baphy_io INFO] evp file for licks: /auto/data/daq/Teonancatl/TNC014/TNC014a09_p_CPN.evp\n",
      "[nems_lbhb.baphy_experiment INFO] Creating trial epochs\n",
      "[nems_lbhb.baphy_experiment INFO] Creating stim epochs\n",
      "[nems_lbhb.baphy_experiment INFO] Creating Light epochs\n",
      "[nems_lbhb.baphy_io INFO] rounding Trial offset spike times to even number of rasterfs bins\n",
      "[nems_lbhb.baphy_io INFO] 200 trials totaling 2910.34 sec\n",
      "[nems_lbhb.baphy_experiment INFO] Caching recording: /auto/data/nems_db/recordings/Teonancatl/TNC014a/TNC014a_7a7d084fb4328a16dff54aeddfe2749ed469a389.tgz\n",
      "[nems.recording INFO] Saving recording to : /auto/data/nems_db/recordings/Teonancatl/TNC014a/TNC014a_7a7d084fb4328a16dff54aeddfe2749ed469a389.tgz\n",
      "[nems_lbhb.baphy_experiment INFO] Cached recording: /auto/data/nems_db/recordings/Teonancatl/TNC014a/TNC014a_a535b061a04516063bf0ce7b2f01f4e106ba4e7a.tgz\n",
      "[nems_lbhb.baphy_io INFO] Loading /auto/data/daq/Teonancatl/TNC014/TNC014a09_p_CPN.m\n"
     ]
    },
    {
     "name": "stdout",
     "output_type": "stream",
     "text": [
      "0 resp\n"
     ]
    },
    {
     "name": "stderr",
     "output_type": "stream",
     "text": [
      "[nems_lbhb.baphy_io INFO] evp file for licks: /auto/data/daq/Teonancatl/TNC014/TNC014a09_p_CPN.evp\n",
      "[nems_lbhb.baphy_io INFO] Loading /auto/data/daq/Teonancatl/TNC014/TNC014a09_p_CPN.m\n",
      "[nems_lbhb.baphy_io INFO] evp file for licks: /auto/data/daq/Teonancatl/TNC014/TNC014a09_p_CPN.evp\n",
      "[nems_lbhb.baphy_experiment INFO] Remove post-response events\n",
      "[nems_lbhb.baphy_experiment INFO] Removing post-reponse data\n",
      "[nems_lbhb.baphy_io INFO] rounding Trial offset spike times to even number of rasterfs bins\n",
      "[nems_lbhb.baphy_io INFO] 200 trials totaling 2910.34 sec\n",
      "[nems_lbhb.baphy_io INFO] Loading /auto/data/daq/Teonancatl/TNC014/TNC014a09_p_CPN.m\n",
      "[nems_lbhb.baphy_io INFO] evp file for licks: /auto/data/daq/Teonancatl/TNC014/TNC014a09_p_CPN.evp\n",
      "[nems_lbhb.baphy_experiment INFO] Creating trial epochs\n",
      "[nems_lbhb.baphy_experiment INFO] Creating stim epochs\n",
      "[nems_lbhb.baphy_experiment INFO] Creating Light epochs\n",
      "[nems_lbhb.baphy_io INFO] rounding Trial offset spike times to even number of rasterfs bins\n",
      "[nems_lbhb.baphy_io INFO] 200 trials totaling 2910.34 sec\n",
      "[nems_lbhb.baphy_experiment INFO] Caching recording: /auto/data/nems_db/recordings/Teonancatl/TNC014a/TNC014a_a535b061a04516063bf0ce7b2f01f4e106ba4e7a.tgz\n",
      "[nems.recording INFO] Saving recording to : /auto/data/nems_db/recordings/Teonancatl/TNC014a/TNC014a_a535b061a04516063bf0ce7b2f01f4e106ba4e7a.tgz\n",
      "[nems_lbhb.baphy_experiment INFO] Cached recording: /auto/data/nems_db/recordings/Teonancatl/TNC014a/TNC014a_6e6bab72b20a90bc909429bda7da98e65792f187.tgz\n",
      "[nems_lbhb.baphy_io INFO] Loading /auto/data/daq/Teonancatl/TNC014/TNC014a09_p_CPN.m\n"
     ]
    },
    {
     "name": "stdout",
     "output_type": "stream",
     "text": [
      "0 resp\n"
     ]
    },
    {
     "name": "stderr",
     "output_type": "stream",
     "text": [
      "[nems_lbhb.baphy_io INFO] evp file for licks: /auto/data/daq/Teonancatl/TNC014/TNC014a09_p_CPN.evp\n",
      "[nems_lbhb.baphy_io INFO] Loading /auto/data/daq/Teonancatl/TNC014/TNC014a09_p_CPN.m\n",
      "[nems_lbhb.baphy_io INFO] evp file for licks: /auto/data/daq/Teonancatl/TNC014/TNC014a09_p_CPN.evp\n",
      "[nems_lbhb.baphy_experiment INFO] Remove post-response events\n",
      "[nems_lbhb.baphy_experiment INFO] Removing post-reponse data\n",
      "[nems_lbhb.baphy_io INFO] rounding Trial offset spike times to even number of rasterfs bins\n",
      "[nems_lbhb.baphy_io INFO] 200 trials totaling 2910.34 sec\n",
      "[nems_lbhb.baphy_io INFO] Loading /auto/data/daq/Teonancatl/TNC014/TNC014a09_p_CPN.m\n",
      "[nems_lbhb.baphy_io INFO] evp file for licks: /auto/data/daq/Teonancatl/TNC014/TNC014a09_p_CPN.evp\n",
      "[nems_lbhb.baphy_experiment INFO] Creating trial epochs\n",
      "[nems_lbhb.baphy_experiment INFO] Creating stim epochs\n",
      "[nems_lbhb.baphy_experiment INFO] Creating Light epochs\n",
      "[nems_lbhb.baphy_io INFO] rounding Trial offset spike times to even number of rasterfs bins\n",
      "[nems_lbhb.baphy_io INFO] 200 trials totaling 2910.34 sec\n",
      "[nems_lbhb.baphy_experiment INFO] Caching recording: /auto/data/nems_db/recordings/Teonancatl/TNC014a/TNC014a_6e6bab72b20a90bc909429bda7da98e65792f187.tgz\n",
      "[nems.recording INFO] Saving recording to : /auto/data/nems_db/recordings/Teonancatl/TNC014a/TNC014a_6e6bab72b20a90bc909429bda7da98e65792f187.tgz\n",
      "[nems_lbhb.baphy_experiment INFO] Cached recording: /auto/data/nems_db/recordings/Teonancatl/TNC014a/TNC014a_d42f51d903f4183947349fce45c74b7f2da670f8.tgz\n",
      "[nems_lbhb.baphy_io INFO] Loading /auto/data/daq/Teonancatl/TNC014/TNC014a09_p_CPN.m\n"
     ]
    },
    {
     "name": "stdout",
     "output_type": "stream",
     "text": [
      "0 resp\n"
     ]
    },
    {
     "name": "stderr",
     "output_type": "stream",
     "text": [
      "[nems_lbhb.baphy_io INFO] evp file for licks: /auto/data/daq/Teonancatl/TNC014/TNC014a09_p_CPN.evp\n",
      "[nems_lbhb.baphy_io INFO] Loading /auto/data/daq/Teonancatl/TNC014/TNC014a09_p_CPN.m\n",
      "[nems_lbhb.baphy_io INFO] evp file for licks: /auto/data/daq/Teonancatl/TNC014/TNC014a09_p_CPN.evp\n",
      "[nems_lbhb.baphy_experiment INFO] Remove post-response events\n",
      "[nems_lbhb.baphy_experiment INFO] Removing post-reponse data\n",
      "[nems_lbhb.baphy_io INFO] rounding Trial offset spike times to even number of rasterfs bins\n",
      "[nems_lbhb.baphy_io INFO] 200 trials totaling 2910.34 sec\n",
      "[nems_lbhb.baphy_io INFO] Loading /auto/data/daq/Teonancatl/TNC014/TNC014a09_p_CPN.m\n",
      "[nems_lbhb.baphy_io INFO] evp file for licks: /auto/data/daq/Teonancatl/TNC014/TNC014a09_p_CPN.evp\n",
      "[nems_lbhb.baphy_experiment INFO] Creating trial epochs\n",
      "[nems_lbhb.baphy_experiment INFO] Creating stim epochs\n",
      "[nems_lbhb.baphy_experiment INFO] Creating Light epochs\n",
      "[nems_lbhb.baphy_io INFO] rounding Trial offset spike times to even number of rasterfs bins\n",
      "[nems_lbhb.baphy_io INFO] 200 trials totaling 2910.34 sec\n",
      "[nems_lbhb.baphy_experiment INFO] Caching recording: /auto/data/nems_db/recordings/Teonancatl/TNC014a/TNC014a_d42f51d903f4183947349fce45c74b7f2da670f8.tgz\n",
      "[nems.recording INFO] Saving recording to : /auto/data/nems_db/recordings/Teonancatl/TNC014a/TNC014a_d42f51d903f4183947349fce45c74b7f2da670f8.tgz\n",
      "[nems_lbhb.baphy_experiment INFO] Cached recording: /auto/data/nems_db/recordings/Teonancatl/TNC014a/TNC014a_304d978f9e585455d3de2417003608eb8663a9df.tgz\n",
      "[nems_lbhb.baphy_io INFO] Loading /auto/data/daq/Teonancatl/TNC014/TNC014a09_p_CPN.m\n"
     ]
    },
    {
     "name": "stdout",
     "output_type": "stream",
     "text": [
      "0 resp\n"
     ]
    },
    {
     "name": "stderr",
     "output_type": "stream",
     "text": [
      "[nems_lbhb.baphy_io INFO] evp file for licks: /auto/data/daq/Teonancatl/TNC014/TNC014a09_p_CPN.evp\n",
      "[nems_lbhb.baphy_io INFO] Loading /auto/data/daq/Teonancatl/TNC014/TNC014a09_p_CPN.m\n",
      "[nems_lbhb.baphy_io INFO] evp file for licks: /auto/data/daq/Teonancatl/TNC014/TNC014a09_p_CPN.evp\n",
      "[nems_lbhb.baphy_experiment INFO] Remove post-response events\n",
      "[nems_lbhb.baphy_experiment INFO] Removing post-reponse data\n",
      "[nems_lbhb.baphy_io INFO] rounding Trial offset spike times to even number of rasterfs bins\n",
      "[nems_lbhb.baphy_io INFO] 200 trials totaling 2910.34 sec\n",
      "[nems_lbhb.baphy_io INFO] Loading /auto/data/daq/Teonancatl/TNC014/TNC014a09_p_CPN.m\n",
      "[nems_lbhb.baphy_io INFO] evp file for licks: /auto/data/daq/Teonancatl/TNC014/TNC014a09_p_CPN.evp\n",
      "[nems_lbhb.baphy_experiment INFO] Creating trial epochs\n",
      "[nems_lbhb.baphy_experiment INFO] Creating stim epochs\n",
      "[nems_lbhb.baphy_experiment INFO] Creating Light epochs\n",
      "[nems_lbhb.baphy_io INFO] rounding Trial offset spike times to even number of rasterfs bins\n",
      "[nems_lbhb.baphy_io INFO] 200 trials totaling 2910.34 sec\n",
      "[nems_lbhb.baphy_experiment INFO] Caching recording: /auto/data/nems_db/recordings/Teonancatl/TNC014a/TNC014a_304d978f9e585455d3de2417003608eb8663a9df.tgz\n",
      "[nems.recording INFO] Saving recording to : /auto/data/nems_db/recordings/Teonancatl/TNC014a/TNC014a_304d978f9e585455d3de2417003608eb8663a9df.tgz\n",
      "[nems_lbhb.baphy_experiment INFO] Cached recording: /auto/data/nems_db/recordings/Teonancatl/TNC014a/TNC014a_a5db8e545289844f4cf1354bdb352c8168fb3b63.tgz\n",
      "[nems_lbhb.baphy_io INFO] Loading /auto/data/daq/Teonancatl/TNC014/TNC014a09_p_CPN.m\n"
     ]
    },
    {
     "name": "stdout",
     "output_type": "stream",
     "text": [
      "0 resp\n"
     ]
    },
    {
     "name": "stderr",
     "output_type": "stream",
     "text": [
      "[nems_lbhb.baphy_io INFO] evp file for licks: /auto/data/daq/Teonancatl/TNC014/TNC014a09_p_CPN.evp\n",
      "[nems_lbhb.baphy_io INFO] Loading /auto/data/daq/Teonancatl/TNC014/TNC014a09_p_CPN.m\n",
      "[nems_lbhb.baphy_io INFO] evp file for licks: /auto/data/daq/Teonancatl/TNC014/TNC014a09_p_CPN.evp\n",
      "[nems_lbhb.baphy_experiment INFO] Remove post-response events\n",
      "[nems_lbhb.baphy_experiment INFO] Removing post-reponse data\n",
      "[nems_lbhb.baphy_io INFO] rounding Trial offset spike times to even number of rasterfs bins\n",
      "[nems_lbhb.baphy_io INFO] 200 trials totaling 2910.34 sec\n",
      "[nems_lbhb.baphy_io INFO] Loading /auto/data/daq/Teonancatl/TNC014/TNC014a09_p_CPN.m\n",
      "[nems_lbhb.baphy_io INFO] evp file for licks: /auto/data/daq/Teonancatl/TNC014/TNC014a09_p_CPN.evp\n",
      "[nems_lbhb.baphy_experiment INFO] Creating trial epochs\n",
      "[nems_lbhb.baphy_experiment INFO] Creating stim epochs\n",
      "[nems_lbhb.baphy_experiment INFO] Creating Light epochs\n",
      "[nems_lbhb.baphy_io INFO] rounding Trial offset spike times to even number of rasterfs bins\n",
      "[nems_lbhb.baphy_io INFO] 200 trials totaling 2910.34 sec\n",
      "[nems_lbhb.baphy_experiment INFO] Caching recording: /auto/data/nems_db/recordings/Teonancatl/TNC014a/TNC014a_a5db8e545289844f4cf1354bdb352c8168fb3b63.tgz\n",
      "[nems.recording INFO] Saving recording to : /auto/data/nems_db/recordings/Teonancatl/TNC014a/TNC014a_a5db8e545289844f4cf1354bdb352c8168fb3b63.tgz\n",
      "[nems_lbhb.baphy_experiment INFO] Cached recording: /auto/data/nems_db/recordings/Teonancatl/TNC013a/TNC013a_55e9d15cc3ba09cb80a45d1ac4cfcea8f434bfd9.tgz\n",
      "[nems_lbhb.baphy_io INFO] Loading /auto/data/daq/Teonancatl/TNC013/TNC013a09_p_CPN.m\n"
     ]
    },
    {
     "name": "stdout",
     "output_type": "stream",
     "text": [
      "0 resp\n"
     ]
    },
    {
     "name": "stderr",
     "output_type": "stream",
     "text": [
      "[nems_lbhb.baphy_io INFO] evp file for licks: /auto/data/daq/Teonancatl/TNC013/TNC013a09_p_CPN.evp\n",
      "[nems_lbhb.baphy_io INFO] Loading /auto/data/daq/Teonancatl/TNC013/TNC013a09_p_CPN.m\n",
      "[nems_lbhb.baphy_io INFO] evp file for licks: /auto/data/daq/Teonancatl/TNC013/TNC013a09_p_CPN.evp\n",
      "[nems_lbhb.baphy_experiment INFO] Remove post-response events\n",
      "[nems_lbhb.baphy_experiment INFO] Removing post-reponse data\n",
      "[nems_lbhb.baphy_io INFO] rounding Trial offset spike times to even number of rasterfs bins\n",
      "[nems_lbhb.baphy_io INFO] 200 trials totaling 2907.56 sec\n",
      "[nems_lbhb.baphy_io INFO] Loading /auto/data/daq/Teonancatl/TNC013/TNC013a09_p_CPN.m\n",
      "[nems_lbhb.baphy_io INFO] evp file for licks: /auto/data/daq/Teonancatl/TNC013/TNC013a09_p_CPN.evp\n",
      "[nems_lbhb.baphy_experiment INFO] Creating trial epochs\n",
      "[nems_lbhb.baphy_experiment INFO] Creating stim epochs\n",
      "[nems_lbhb.baphy_experiment INFO] Creating Light epochs\n",
      "[nems_lbhb.baphy_io INFO] rounding Trial offset spike times to even number of rasterfs bins\n",
      "[nems_lbhb.baphy_io INFO] 200 trials totaling 2907.56 sec\n",
      "[nems_lbhb.baphy_experiment INFO] Caching recording: /auto/data/nems_db/recordings/Teonancatl/TNC013a/TNC013a_55e9d15cc3ba09cb80a45d1ac4cfcea8f434bfd9.tgz\n",
      "[nems.recording INFO] Saving recording to : /auto/data/nems_db/recordings/Teonancatl/TNC013a/TNC013a_55e9d15cc3ba09cb80a45d1ac4cfcea8f434bfd9.tgz\n",
      "[nems_lbhb.baphy_experiment INFO] Cached recording: /auto/data/nems_db/recordings/Teonancatl/TNC013a/TNC013a_579fb5e2139340a54f24a1bd634a41ac94c80834.tgz\n",
      "[nems_lbhb.baphy_io INFO] Loading /auto/data/daq/Teonancatl/TNC013/TNC013a09_p_CPN.m\n"
     ]
    },
    {
     "name": "stdout",
     "output_type": "stream",
     "text": [
      "0 resp\n"
     ]
    },
    {
     "name": "stderr",
     "output_type": "stream",
     "text": [
      "[nems_lbhb.baphy_io INFO] evp file for licks: /auto/data/daq/Teonancatl/TNC013/TNC013a09_p_CPN.evp\n",
      "[nems_lbhb.baphy_io INFO] Loading /auto/data/daq/Teonancatl/TNC013/TNC013a09_p_CPN.m\n",
      "[nems_lbhb.baphy_io INFO] evp file for licks: /auto/data/daq/Teonancatl/TNC013/TNC013a09_p_CPN.evp\n",
      "[nems_lbhb.baphy_experiment INFO] Remove post-response events\n",
      "[nems_lbhb.baphy_experiment INFO] Removing post-reponse data\n",
      "[nems_lbhb.baphy_io INFO] rounding Trial offset spike times to even number of rasterfs bins\n",
      "[nems_lbhb.baphy_io INFO] 200 trials totaling 2907.56 sec\n",
      "[nems_lbhb.baphy_io INFO] Loading /auto/data/daq/Teonancatl/TNC013/TNC013a09_p_CPN.m\n",
      "[nems_lbhb.baphy_io INFO] evp file for licks: /auto/data/daq/Teonancatl/TNC013/TNC013a09_p_CPN.evp\n",
      "[nems_lbhb.baphy_experiment INFO] Creating trial epochs\n",
      "[nems_lbhb.baphy_experiment INFO] Creating stim epochs\n",
      "[nems_lbhb.baphy_experiment INFO] Creating Light epochs\n",
      "[nems_lbhb.baphy_io INFO] rounding Trial offset spike times to even number of rasterfs bins\n",
      "[nems_lbhb.baphy_io INFO] 200 trials totaling 2907.56 sec\n",
      "[nems_lbhb.baphy_experiment INFO] Caching recording: /auto/data/nems_db/recordings/Teonancatl/TNC013a/TNC013a_579fb5e2139340a54f24a1bd634a41ac94c80834.tgz\n",
      "[nems.recording INFO] Saving recording to : /auto/data/nems_db/recordings/Teonancatl/TNC013a/TNC013a_579fb5e2139340a54f24a1bd634a41ac94c80834.tgz\n",
      "[nems_lbhb.baphy_experiment INFO] Cached recording: /auto/data/nems_db/recordings/Teonancatl/TNC013a/TNC013a_ef0b0d22bdeae0a6ebd703efef7949bddab1456b.tgz\n",
      "[nems_lbhb.baphy_io INFO] Loading /auto/data/daq/Teonancatl/TNC013/TNC013a09_p_CPN.m\n"
     ]
    },
    {
     "name": "stdout",
     "output_type": "stream",
     "text": [
      "0 resp\n"
     ]
    },
    {
     "name": "stderr",
     "output_type": "stream",
     "text": [
      "[nems_lbhb.baphy_io INFO] evp file for licks: /auto/data/daq/Teonancatl/TNC013/TNC013a09_p_CPN.evp\n",
      "[nems_lbhb.baphy_io INFO] Loading /auto/data/daq/Teonancatl/TNC013/TNC013a09_p_CPN.m\n",
      "[nems_lbhb.baphy_io INFO] evp file for licks: /auto/data/daq/Teonancatl/TNC013/TNC013a09_p_CPN.evp\n",
      "[nems_lbhb.baphy_experiment INFO] Remove post-response events\n",
      "[nems_lbhb.baphy_experiment INFO] Removing post-reponse data\n",
      "[nems_lbhb.baphy_io INFO] rounding Trial offset spike times to even number of rasterfs bins\n",
      "[nems_lbhb.baphy_io INFO] 200 trials totaling 2907.56 sec\n",
      "[nems_lbhb.baphy_io INFO] Loading /auto/data/daq/Teonancatl/TNC013/TNC013a09_p_CPN.m\n",
      "[nems_lbhb.baphy_io INFO] evp file for licks: /auto/data/daq/Teonancatl/TNC013/TNC013a09_p_CPN.evp\n",
      "[nems_lbhb.baphy_experiment INFO] Creating trial epochs\n",
      "[nems_lbhb.baphy_experiment INFO] Creating stim epochs\n",
      "[nems_lbhb.baphy_experiment INFO] Creating Light epochs\n",
      "[nems_lbhb.baphy_io INFO] rounding Trial offset spike times to even number of rasterfs bins\n",
      "[nems_lbhb.baphy_io INFO] 200 trials totaling 2907.56 sec\n",
      "[nems_lbhb.baphy_experiment INFO] Caching recording: /auto/data/nems_db/recordings/Teonancatl/TNC013a/TNC013a_ef0b0d22bdeae0a6ebd703efef7949bddab1456b.tgz\n",
      "[nems.recording INFO] Saving recording to : /auto/data/nems_db/recordings/Teonancatl/TNC013a/TNC013a_ef0b0d22bdeae0a6ebd703efef7949bddab1456b.tgz\n",
      "[nems_lbhb.baphy_experiment INFO] Cached recording: /auto/data/nems_db/recordings/Teonancatl/TNC013a/TNC013a_849ba021125fabe903e4ee17cc2fb7fe68be5ac0.tgz\n",
      "[nems_lbhb.baphy_io INFO] Loading /auto/data/daq/Teonancatl/TNC013/TNC013a09_p_CPN.m\n"
     ]
    },
    {
     "name": "stdout",
     "output_type": "stream",
     "text": [
      "0 resp\n"
     ]
    },
    {
     "name": "stderr",
     "output_type": "stream",
     "text": [
      "[nems_lbhb.baphy_io INFO] evp file for licks: /auto/data/daq/Teonancatl/TNC013/TNC013a09_p_CPN.evp\n",
      "[nems_lbhb.baphy_io INFO] Loading /auto/data/daq/Teonancatl/TNC013/TNC013a09_p_CPN.m\n",
      "[nems_lbhb.baphy_io INFO] evp file for licks: /auto/data/daq/Teonancatl/TNC013/TNC013a09_p_CPN.evp\n",
      "[nems_lbhb.baphy_experiment INFO] Remove post-response events\n",
      "[nems_lbhb.baphy_experiment INFO] Removing post-reponse data\n",
      "[nems_lbhb.baphy_io INFO] rounding Trial offset spike times to even number of rasterfs bins\n",
      "[nems_lbhb.baphy_io INFO] 200 trials totaling 2907.56 sec\n",
      "[nems_lbhb.baphy_io INFO] Loading /auto/data/daq/Teonancatl/TNC013/TNC013a09_p_CPN.m\n",
      "[nems_lbhb.baphy_io INFO] evp file for licks: /auto/data/daq/Teonancatl/TNC013/TNC013a09_p_CPN.evp\n",
      "[nems_lbhb.baphy_experiment INFO] Creating trial epochs\n",
      "[nems_lbhb.baphy_experiment INFO] Creating stim epochs\n",
      "[nems_lbhb.baphy_experiment INFO] Creating Light epochs\n",
      "[nems_lbhb.baphy_io INFO] rounding Trial offset spike times to even number of rasterfs bins\n",
      "[nems_lbhb.baphy_io INFO] 200 trials totaling 2907.56 sec\n",
      "[nems_lbhb.baphy_experiment INFO] Caching recording: /auto/data/nems_db/recordings/Teonancatl/TNC013a/TNC013a_849ba021125fabe903e4ee17cc2fb7fe68be5ac0.tgz\n",
      "[nems.recording INFO] Saving recording to : /auto/data/nems_db/recordings/Teonancatl/TNC013a/TNC013a_849ba021125fabe903e4ee17cc2fb7fe68be5ac0.tgz\n",
      "[nems_lbhb.baphy_experiment INFO] Cached recording: /auto/data/nems_db/recordings/Teonancatl/TNC013a/TNC013a_47b84fdc5baba48ad80adbd1a99f75e7d80c145a.tgz\n",
      "[nems_lbhb.baphy_io INFO] Loading /auto/data/daq/Teonancatl/TNC013/TNC013a09_p_CPN.m\n"
     ]
    },
    {
     "name": "stdout",
     "output_type": "stream",
     "text": [
      "0 resp\n"
     ]
    },
    {
     "name": "stderr",
     "output_type": "stream",
     "text": [
      "[nems_lbhb.baphy_io INFO] evp file for licks: /auto/data/daq/Teonancatl/TNC013/TNC013a09_p_CPN.evp\n",
      "[nems_lbhb.baphy_io INFO] Loading /auto/data/daq/Teonancatl/TNC013/TNC013a09_p_CPN.m\n",
      "[nems_lbhb.baphy_io INFO] evp file for licks: /auto/data/daq/Teonancatl/TNC013/TNC013a09_p_CPN.evp\n",
      "[nems_lbhb.baphy_experiment INFO] Remove post-response events\n",
      "[nems_lbhb.baphy_experiment INFO] Removing post-reponse data\n",
      "[nems_lbhb.baphy_io INFO] rounding Trial offset spike times to even number of rasterfs bins\n",
      "[nems_lbhb.baphy_io INFO] 200 trials totaling 2907.56 sec\n",
      "[nems_lbhb.baphy_io INFO] Loading /auto/data/daq/Teonancatl/TNC013/TNC013a09_p_CPN.m\n",
      "[nems_lbhb.baphy_io INFO] evp file for licks: /auto/data/daq/Teonancatl/TNC013/TNC013a09_p_CPN.evp\n",
      "[nems_lbhb.baphy_experiment INFO] Creating trial epochs\n",
      "[nems_lbhb.baphy_experiment INFO] Creating stim epochs\n",
      "[nems_lbhb.baphy_experiment INFO] Creating Light epochs\n",
      "[nems_lbhb.baphy_io INFO] rounding Trial offset spike times to even number of rasterfs bins\n",
      "[nems_lbhb.baphy_io INFO] 200 trials totaling 2907.56 sec\n",
      "[nems_lbhb.baphy_experiment INFO] Caching recording: /auto/data/nems_db/recordings/Teonancatl/TNC013a/TNC013a_47b84fdc5baba48ad80adbd1a99f75e7d80c145a.tgz\n",
      "[nems.recording INFO] Saving recording to : /auto/data/nems_db/recordings/Teonancatl/TNC013a/TNC013a_47b84fdc5baba48ad80adbd1a99f75e7d80c145a.tgz\n",
      "[nems_lbhb.baphy_experiment INFO] Cached recording: /auto/data/nems_db/recordings/Teonancatl/TNC013a/TNC013a_6d85306a8ca1c82d06d2efbc321e84e02a255fcc.tgz\n",
      "[nems_lbhb.baphy_io INFO] Loading /auto/data/daq/Teonancatl/TNC013/TNC013a09_p_CPN.m\n"
     ]
    },
    {
     "name": "stdout",
     "output_type": "stream",
     "text": [
      "0 resp\n"
     ]
    },
    {
     "name": "stderr",
     "output_type": "stream",
     "text": [
      "[nems_lbhb.baphy_io INFO] evp file for licks: /auto/data/daq/Teonancatl/TNC013/TNC013a09_p_CPN.evp\n",
      "[nems_lbhb.baphy_io INFO] Loading /auto/data/daq/Teonancatl/TNC013/TNC013a09_p_CPN.m\n",
      "[nems_lbhb.baphy_io INFO] evp file for licks: /auto/data/daq/Teonancatl/TNC013/TNC013a09_p_CPN.evp\n",
      "[nems_lbhb.baphy_experiment INFO] Remove post-response events\n",
      "[nems_lbhb.baphy_experiment INFO] Removing post-reponse data\n",
      "[nems_lbhb.baphy_io INFO] rounding Trial offset spike times to even number of rasterfs bins\n",
      "[nems_lbhb.baphy_io INFO] 200 trials totaling 2907.56 sec\n",
      "[nems_lbhb.baphy_io INFO] Loading /auto/data/daq/Teonancatl/TNC013/TNC013a09_p_CPN.m\n",
      "[nems_lbhb.baphy_io INFO] evp file for licks: /auto/data/daq/Teonancatl/TNC013/TNC013a09_p_CPN.evp\n",
      "[nems_lbhb.baphy_experiment INFO] Creating trial epochs\n",
      "[nems_lbhb.baphy_experiment INFO] Creating stim epochs\n",
      "[nems_lbhb.baphy_experiment INFO] Creating Light epochs\n",
      "[nems_lbhb.baphy_io INFO] rounding Trial offset spike times to even number of rasterfs bins\n",
      "[nems_lbhb.baphy_io INFO] 200 trials totaling 2907.56 sec\n",
      "[nems_lbhb.baphy_experiment INFO] Caching recording: /auto/data/nems_db/recordings/Teonancatl/TNC013a/TNC013a_6d85306a8ca1c82d06d2efbc321e84e02a255fcc.tgz\n",
      "[nems.recording INFO] Saving recording to : /auto/data/nems_db/recordings/Teonancatl/TNC013a/TNC013a_6d85306a8ca1c82d06d2efbc321e84e02a255fcc.tgz\n",
      "[nems_lbhb.baphy_experiment INFO] Cached recording: /auto/data/nems_db/recordings/Teonancatl/TNC013a/TNC013a_fe92df04f463fce5b0d15479aea116aa5cf7d4f0.tgz\n",
      "[nems_lbhb.baphy_io INFO] Loading /auto/data/daq/Teonancatl/TNC013/TNC013a09_p_CPN.m\n"
     ]
    },
    {
     "name": "stdout",
     "output_type": "stream",
     "text": [
      "0 resp\n"
     ]
    },
    {
     "name": "stderr",
     "output_type": "stream",
     "text": [
      "[nems_lbhb.baphy_io INFO] evp file for licks: /auto/data/daq/Teonancatl/TNC013/TNC013a09_p_CPN.evp\n",
      "[nems_lbhb.baphy_io INFO] Loading /auto/data/daq/Teonancatl/TNC013/TNC013a09_p_CPN.m\n",
      "[nems_lbhb.baphy_io INFO] evp file for licks: /auto/data/daq/Teonancatl/TNC013/TNC013a09_p_CPN.evp\n",
      "[nems_lbhb.baphy_experiment INFO] Remove post-response events\n",
      "[nems_lbhb.baphy_experiment INFO] Removing post-reponse data\n",
      "[nems_lbhb.baphy_io INFO] rounding Trial offset spike times to even number of rasterfs bins\n",
      "[nems_lbhb.baphy_io INFO] 200 trials totaling 2907.56 sec\n",
      "[nems_lbhb.baphy_io INFO] Loading /auto/data/daq/Teonancatl/TNC013/TNC013a09_p_CPN.m\n",
      "[nems_lbhb.baphy_io INFO] evp file for licks: /auto/data/daq/Teonancatl/TNC013/TNC013a09_p_CPN.evp\n",
      "[nems_lbhb.baphy_experiment INFO] Creating trial epochs\n",
      "[nems_lbhb.baphy_experiment INFO] Creating stim epochs\n",
      "[nems_lbhb.baphy_experiment INFO] Creating Light epochs\n",
      "[nems_lbhb.baphy_io INFO] rounding Trial offset spike times to even number of rasterfs bins\n",
      "[nems_lbhb.baphy_io INFO] 200 trials totaling 2907.56 sec\n",
      "[nems_lbhb.baphy_experiment INFO] Caching recording: /auto/data/nems_db/recordings/Teonancatl/TNC013a/TNC013a_fe92df04f463fce5b0d15479aea116aa5cf7d4f0.tgz\n",
      "[nems.recording INFO] Saving recording to : /auto/data/nems_db/recordings/Teonancatl/TNC013a/TNC013a_fe92df04f463fce5b0d15479aea116aa5cf7d4f0.tgz\n",
      "[nems_lbhb.baphy_experiment INFO] Cached recording: /auto/data/nems_db/recordings/Teonancatl/TNC013a/TNC013a_e1e49672fc097120d4f77dfb48de1aae998e1134.tgz\n",
      "[nems_lbhb.baphy_io INFO] Loading /auto/data/daq/Teonancatl/TNC013/TNC013a09_p_CPN.m\n"
     ]
    },
    {
     "name": "stdout",
     "output_type": "stream",
     "text": [
      "0 resp\n"
     ]
    },
    {
     "name": "stderr",
     "output_type": "stream",
     "text": [
      "[nems_lbhb.baphy_io INFO] evp file for licks: /auto/data/daq/Teonancatl/TNC013/TNC013a09_p_CPN.evp\n",
      "[nems_lbhb.baphy_io INFO] Loading /auto/data/daq/Teonancatl/TNC013/TNC013a09_p_CPN.m\n",
      "[nems_lbhb.baphy_io INFO] evp file for licks: /auto/data/daq/Teonancatl/TNC013/TNC013a09_p_CPN.evp\n",
      "[nems_lbhb.baphy_experiment INFO] Remove post-response events\n",
      "[nems_lbhb.baphy_experiment INFO] Removing post-reponse data\n",
      "[nems_lbhb.baphy_io INFO] rounding Trial offset spike times to even number of rasterfs bins\n",
      "[nems_lbhb.baphy_io INFO] 200 trials totaling 2907.56 sec\n",
      "[nems_lbhb.baphy_io INFO] Loading /auto/data/daq/Teonancatl/TNC013/TNC013a09_p_CPN.m\n",
      "[nems_lbhb.baphy_io INFO] evp file for licks: /auto/data/daq/Teonancatl/TNC013/TNC013a09_p_CPN.evp\n",
      "[nems_lbhb.baphy_experiment INFO] Creating trial epochs\n",
      "[nems_lbhb.baphy_experiment INFO] Creating stim epochs\n",
      "[nems_lbhb.baphy_experiment INFO] Creating Light epochs\n",
      "[nems_lbhb.baphy_io INFO] rounding Trial offset spike times to even number of rasterfs bins\n",
      "[nems_lbhb.baphy_io INFO] 200 trials totaling 2907.56 sec\n",
      "[nems_lbhb.baphy_experiment INFO] Caching recording: /auto/data/nems_db/recordings/Teonancatl/TNC013a/TNC013a_e1e49672fc097120d4f77dfb48de1aae998e1134.tgz\n",
      "[nems.recording INFO] Saving recording to : /auto/data/nems_db/recordings/Teonancatl/TNC013a/TNC013a_e1e49672fc097120d4f77dfb48de1aae998e1134.tgz\n",
      "[nems_lbhb.baphy_experiment INFO] Cached recording: /auto/data/nems_db/recordings/Teonancatl/TNC013a/TNC013a_145c9581a9840f219000ed4e30389deacc31830e.tgz\n",
      "[nems_lbhb.baphy_io INFO] Loading /auto/data/daq/Teonancatl/TNC013/TNC013a09_p_CPN.m\n"
     ]
    },
    {
     "name": "stdout",
     "output_type": "stream",
     "text": [
      "0 resp\n"
     ]
    },
    {
     "name": "stderr",
     "output_type": "stream",
     "text": [
      "[nems_lbhb.baphy_io INFO] evp file for licks: /auto/data/daq/Teonancatl/TNC013/TNC013a09_p_CPN.evp\n",
      "[nems_lbhb.baphy_io INFO] Loading /auto/data/daq/Teonancatl/TNC013/TNC013a09_p_CPN.m\n",
      "[nems_lbhb.baphy_io INFO] evp file for licks: /auto/data/daq/Teonancatl/TNC013/TNC013a09_p_CPN.evp\n",
      "[nems_lbhb.baphy_experiment INFO] Remove post-response events\n",
      "[nems_lbhb.baphy_experiment INFO] Removing post-reponse data\n",
      "[nems_lbhb.baphy_io INFO] rounding Trial offset spike times to even number of rasterfs bins\n",
      "[nems_lbhb.baphy_io INFO] 200 trials totaling 2907.56 sec\n",
      "[nems_lbhb.baphy_io INFO] Loading /auto/data/daq/Teonancatl/TNC013/TNC013a09_p_CPN.m\n",
      "[nems_lbhb.baphy_io INFO] evp file for licks: /auto/data/daq/Teonancatl/TNC013/TNC013a09_p_CPN.evp\n",
      "[nems_lbhb.baphy_experiment INFO] Creating trial epochs\n",
      "[nems_lbhb.baphy_experiment INFO] Creating stim epochs\n",
      "[nems_lbhb.baphy_experiment INFO] Creating Light epochs\n",
      "[nems_lbhb.baphy_io INFO] rounding Trial offset spike times to even number of rasterfs bins\n",
      "[nems_lbhb.baphy_io INFO] 200 trials totaling 2907.56 sec\n",
      "[nems_lbhb.baphy_experiment INFO] Caching recording: /auto/data/nems_db/recordings/Teonancatl/TNC013a/TNC013a_145c9581a9840f219000ed4e30389deacc31830e.tgz\n",
      "[nems.recording INFO] Saving recording to : /auto/data/nems_db/recordings/Teonancatl/TNC013a/TNC013a_145c9581a9840f219000ed4e30389deacc31830e.tgz\n",
      "[nems_lbhb.baphy_experiment INFO] Cached recording: /auto/data/nems_db/recordings/Teonancatl/TNC013a/TNC013a_3014487535d0550d603e53dbbb878093c69e1685.tgz\n",
      "[nems_lbhb.baphy_io INFO] Loading /auto/data/daq/Teonancatl/TNC013/TNC013a09_p_CPN.m\n"
     ]
    },
    {
     "name": "stdout",
     "output_type": "stream",
     "text": [
      "0 resp\n"
     ]
    },
    {
     "name": "stderr",
     "output_type": "stream",
     "text": [
      "[nems_lbhb.baphy_io INFO] evp file for licks: /auto/data/daq/Teonancatl/TNC013/TNC013a09_p_CPN.evp\n",
      "[nems_lbhb.baphy_io INFO] Loading /auto/data/daq/Teonancatl/TNC013/TNC013a09_p_CPN.m\n",
      "[nems_lbhb.baphy_io INFO] evp file for licks: /auto/data/daq/Teonancatl/TNC013/TNC013a09_p_CPN.evp\n",
      "[nems_lbhb.baphy_experiment INFO] Remove post-response events\n",
      "[nems_lbhb.baphy_experiment INFO] Removing post-reponse data\n",
      "[nems_lbhb.baphy_io INFO] rounding Trial offset spike times to even number of rasterfs bins\n",
      "[nems_lbhb.baphy_io INFO] 200 trials totaling 2907.56 sec\n",
      "[nems_lbhb.baphy_io INFO] Loading /auto/data/daq/Teonancatl/TNC013/TNC013a09_p_CPN.m\n",
      "[nems_lbhb.baphy_io INFO] evp file for licks: /auto/data/daq/Teonancatl/TNC013/TNC013a09_p_CPN.evp\n",
      "[nems_lbhb.baphy_experiment INFO] Creating trial epochs\n",
      "[nems_lbhb.baphy_experiment INFO] Creating stim epochs\n",
      "[nems_lbhb.baphy_experiment INFO] Creating Light epochs\n",
      "[nems_lbhb.baphy_io INFO] rounding Trial offset spike times to even number of rasterfs bins\n",
      "[nems_lbhb.baphy_io INFO] 200 trials totaling 2907.56 sec\n",
      "[nems_lbhb.baphy_experiment INFO] Caching recording: /auto/data/nems_db/recordings/Teonancatl/TNC013a/TNC013a_3014487535d0550d603e53dbbb878093c69e1685.tgz\n",
      "[nems.recording INFO] Saving recording to : /auto/data/nems_db/recordings/Teonancatl/TNC013a/TNC013a_3014487535d0550d603e53dbbb878093c69e1685.tgz\n",
      "[nems_lbhb.baphy_experiment INFO] Cached recording: /auto/data/nems_db/recordings/Teonancatl/TNC013a/TNC013a_9bfeaf755f37846bec34dee3f99357c531da26a0.tgz\n",
      "[nems_lbhb.baphy_io INFO] Loading /auto/data/daq/Teonancatl/TNC013/TNC013a09_p_CPN.m\n"
     ]
    },
    {
     "name": "stdout",
     "output_type": "stream",
     "text": [
      "0 resp\n"
     ]
    },
    {
     "name": "stderr",
     "output_type": "stream",
     "text": [
      "[nems_lbhb.baphy_io INFO] evp file for licks: /auto/data/daq/Teonancatl/TNC013/TNC013a09_p_CPN.evp\n",
      "[nems_lbhb.baphy_io INFO] Loading /auto/data/daq/Teonancatl/TNC013/TNC013a09_p_CPN.m\n",
      "[nems_lbhb.baphy_io INFO] evp file for licks: /auto/data/daq/Teonancatl/TNC013/TNC013a09_p_CPN.evp\n",
      "[nems_lbhb.baphy_experiment INFO] Remove post-response events\n",
      "[nems_lbhb.baphy_experiment INFO] Removing post-reponse data\n",
      "[nems_lbhb.baphy_io INFO] rounding Trial offset spike times to even number of rasterfs bins\n",
      "[nems_lbhb.baphy_io INFO] 200 trials totaling 2907.56 sec\n",
      "[nems_lbhb.baphy_io INFO] Loading /auto/data/daq/Teonancatl/TNC013/TNC013a09_p_CPN.m\n",
      "[nems_lbhb.baphy_io INFO] evp file for licks: /auto/data/daq/Teonancatl/TNC013/TNC013a09_p_CPN.evp\n",
      "[nems_lbhb.baphy_experiment INFO] Creating trial epochs\n",
      "[nems_lbhb.baphy_experiment INFO] Creating stim epochs\n",
      "[nems_lbhb.baphy_experiment INFO] Creating Light epochs\n",
      "[nems_lbhb.baphy_io INFO] rounding Trial offset spike times to even number of rasterfs bins\n",
      "[nems_lbhb.baphy_io INFO] 200 trials totaling 2907.56 sec\n",
      "[nems_lbhb.baphy_experiment INFO] Caching recording: /auto/data/nems_db/recordings/Teonancatl/TNC013a/TNC013a_9bfeaf755f37846bec34dee3f99357c531da26a0.tgz\n",
      "[nems.recording INFO] Saving recording to : /auto/data/nems_db/recordings/Teonancatl/TNC013a/TNC013a_9bfeaf755f37846bec34dee3f99357c531da26a0.tgz\n",
      "[nems_lbhb.baphy_experiment INFO] Cached recording: /auto/data/nems_db/recordings/Teonancatl/TNC013a/TNC013a_89b0125e704fe9a9fc9bcf54489ac3ffc1c381f3.tgz\n",
      "[nems_lbhb.baphy_io INFO] Loading /auto/data/daq/Teonancatl/TNC013/TNC013a09_p_CPN.m\n"
     ]
    },
    {
     "name": "stdout",
     "output_type": "stream",
     "text": [
      "0 resp\n"
     ]
    },
    {
     "name": "stderr",
     "output_type": "stream",
     "text": [
      "[nems_lbhb.baphy_io INFO] evp file for licks: /auto/data/daq/Teonancatl/TNC013/TNC013a09_p_CPN.evp\n",
      "[nems_lbhb.baphy_io INFO] Loading /auto/data/daq/Teonancatl/TNC013/TNC013a09_p_CPN.m\n",
      "[nems_lbhb.baphy_io INFO] evp file for licks: /auto/data/daq/Teonancatl/TNC013/TNC013a09_p_CPN.evp\n",
      "[nems_lbhb.baphy_experiment INFO] Remove post-response events\n",
      "[nems_lbhb.baphy_experiment INFO] Removing post-reponse data\n",
      "[nems_lbhb.baphy_io INFO] rounding Trial offset spike times to even number of rasterfs bins\n",
      "[nems_lbhb.baphy_io INFO] 200 trials totaling 2907.56 sec\n",
      "[nems_lbhb.baphy_io INFO] Loading /auto/data/daq/Teonancatl/TNC013/TNC013a09_p_CPN.m\n",
      "[nems_lbhb.baphy_io INFO] evp file for licks: /auto/data/daq/Teonancatl/TNC013/TNC013a09_p_CPN.evp\n",
      "[nems_lbhb.baphy_experiment INFO] Creating trial epochs\n",
      "[nems_lbhb.baphy_experiment INFO] Creating stim epochs\n",
      "[nems_lbhb.baphy_experiment INFO] Creating Light epochs\n",
      "[nems_lbhb.baphy_io INFO] rounding Trial offset spike times to even number of rasterfs bins\n",
      "[nems_lbhb.baphy_io INFO] 200 trials totaling 2907.56 sec\n",
      "[nems_lbhb.baphy_experiment INFO] Caching recording: /auto/data/nems_db/recordings/Teonancatl/TNC013a/TNC013a_89b0125e704fe9a9fc9bcf54489ac3ffc1c381f3.tgz\n",
      "[nems.recording INFO] Saving recording to : /auto/data/nems_db/recordings/Teonancatl/TNC013a/TNC013a_89b0125e704fe9a9fc9bcf54489ac3ffc1c381f3.tgz\n",
      "[nems_lbhb.baphy_experiment INFO] Cached recording: /auto/data/nems_db/recordings/Teonancatl/TNC013a/TNC013a_df3abe5d3a61064639b09661b2a26a81ee2068f7.tgz\n",
      "[nems_lbhb.baphy_io INFO] Loading /auto/data/daq/Teonancatl/TNC013/TNC013a09_p_CPN.m\n"
     ]
    },
    {
     "name": "stdout",
     "output_type": "stream",
     "text": [
      "0 resp\n"
     ]
    },
    {
     "name": "stderr",
     "output_type": "stream",
     "text": [
      "[nems_lbhb.baphy_io INFO] evp file for licks: /auto/data/daq/Teonancatl/TNC013/TNC013a09_p_CPN.evp\n",
      "[nems_lbhb.baphy_io INFO] Loading /auto/data/daq/Teonancatl/TNC013/TNC013a09_p_CPN.m\n",
      "[nems_lbhb.baphy_io INFO] evp file for licks: /auto/data/daq/Teonancatl/TNC013/TNC013a09_p_CPN.evp\n",
      "[nems_lbhb.baphy_experiment INFO] Remove post-response events\n",
      "[nems_lbhb.baphy_experiment INFO] Removing post-reponse data\n",
      "[nems_lbhb.baphy_io INFO] rounding Trial offset spike times to even number of rasterfs bins\n",
      "[nems_lbhb.baphy_io INFO] 200 trials totaling 2907.56 sec\n",
      "[nems_lbhb.baphy_io INFO] Loading /auto/data/daq/Teonancatl/TNC013/TNC013a09_p_CPN.m\n",
      "[nems_lbhb.baphy_io INFO] evp file for licks: /auto/data/daq/Teonancatl/TNC013/TNC013a09_p_CPN.evp\n",
      "[nems_lbhb.baphy_experiment INFO] Creating trial epochs\n",
      "[nems_lbhb.baphy_experiment INFO] Creating stim epochs\n",
      "[nems_lbhb.baphy_experiment INFO] Creating Light epochs\n",
      "[nems_lbhb.baphy_io INFO] rounding Trial offset spike times to even number of rasterfs bins\n",
      "[nems_lbhb.baphy_io INFO] 200 trials totaling 2907.56 sec\n",
      "[nems_lbhb.baphy_experiment INFO] Caching recording: /auto/data/nems_db/recordings/Teonancatl/TNC013a/TNC013a_df3abe5d3a61064639b09661b2a26a81ee2068f7.tgz\n",
      "[nems.recording INFO] Saving recording to : /auto/data/nems_db/recordings/Teonancatl/TNC013a/TNC013a_df3abe5d3a61064639b09661b2a26a81ee2068f7.tgz\n",
      "[nems_lbhb.baphy_experiment INFO] Cached recording: /auto/data/nems_db/recordings/Teonancatl/TNC013a/TNC013a_1fd6b31a5338428fa2846ac369ad9fb9f22d1567.tgz\n",
      "[nems_lbhb.baphy_io INFO] Loading /auto/data/daq/Teonancatl/TNC013/TNC013a09_p_CPN.m\n"
     ]
    },
    {
     "name": "stdout",
     "output_type": "stream",
     "text": [
      "0 resp\n"
     ]
    },
    {
     "name": "stderr",
     "output_type": "stream",
     "text": [
      "[nems_lbhb.baphy_io INFO] evp file for licks: /auto/data/daq/Teonancatl/TNC013/TNC013a09_p_CPN.evp\n",
      "[nems_lbhb.baphy_io INFO] Loading /auto/data/daq/Teonancatl/TNC013/TNC013a09_p_CPN.m\n",
      "[nems_lbhb.baphy_io INFO] evp file for licks: /auto/data/daq/Teonancatl/TNC013/TNC013a09_p_CPN.evp\n",
      "[nems_lbhb.baphy_experiment INFO] Remove post-response events\n",
      "[nems_lbhb.baphy_experiment INFO] Removing post-reponse data\n",
      "[nems_lbhb.baphy_io INFO] rounding Trial offset spike times to even number of rasterfs bins\n",
      "[nems_lbhb.baphy_io INFO] 200 trials totaling 2907.56 sec\n",
      "[nems_lbhb.baphy_io INFO] Loading /auto/data/daq/Teonancatl/TNC013/TNC013a09_p_CPN.m\n",
      "[nems_lbhb.baphy_io INFO] evp file for licks: /auto/data/daq/Teonancatl/TNC013/TNC013a09_p_CPN.evp\n",
      "[nems_lbhb.baphy_experiment INFO] Creating trial epochs\n",
      "[nems_lbhb.baphy_experiment INFO] Creating stim epochs\n",
      "[nems_lbhb.baphy_experiment INFO] Creating Light epochs\n",
      "[nems_lbhb.baphy_io INFO] rounding Trial offset spike times to even number of rasterfs bins\n",
      "[nems_lbhb.baphy_io INFO] 200 trials totaling 2907.56 sec\n",
      "[nems_lbhb.baphy_experiment INFO] Caching recording: /auto/data/nems_db/recordings/Teonancatl/TNC013a/TNC013a_1fd6b31a5338428fa2846ac369ad9fb9f22d1567.tgz\n",
      "[nems.recording INFO] Saving recording to : /auto/data/nems_db/recordings/Teonancatl/TNC013a/TNC013a_1fd6b31a5338428fa2846ac369ad9fb9f22d1567.tgz\n",
      "[nems_lbhb.baphy_experiment INFO] Cached recording: /auto/data/nems_db/recordings/Teonancatl/TNC013a/TNC013a_52eb101d3b015c1f45ebe17538eec7f5291bd4c2.tgz\n",
      "[nems_lbhb.baphy_io INFO] Loading /auto/data/daq/Teonancatl/TNC013/TNC013a09_p_CPN.m\n"
     ]
    },
    {
     "name": "stdout",
     "output_type": "stream",
     "text": [
      "0 resp\n"
     ]
    },
    {
     "name": "stderr",
     "output_type": "stream",
     "text": [
      "[nems_lbhb.baphy_io INFO] evp file for licks: /auto/data/daq/Teonancatl/TNC013/TNC013a09_p_CPN.evp\n",
      "[nems_lbhb.baphy_io INFO] Loading /auto/data/daq/Teonancatl/TNC013/TNC013a09_p_CPN.m\n",
      "[nems_lbhb.baphy_io INFO] evp file for licks: /auto/data/daq/Teonancatl/TNC013/TNC013a09_p_CPN.evp\n",
      "[nems_lbhb.baphy_experiment INFO] Remove post-response events\n",
      "[nems_lbhb.baphy_experiment INFO] Removing post-reponse data\n",
      "[nems_lbhb.baphy_io INFO] rounding Trial offset spike times to even number of rasterfs bins\n",
      "[nems_lbhb.baphy_io INFO] 200 trials totaling 2907.56 sec\n",
      "[nems_lbhb.baphy_io INFO] Loading /auto/data/daq/Teonancatl/TNC013/TNC013a09_p_CPN.m\n",
      "[nems_lbhb.baphy_io INFO] evp file for licks: /auto/data/daq/Teonancatl/TNC013/TNC013a09_p_CPN.evp\n",
      "[nems_lbhb.baphy_experiment INFO] Creating trial epochs\n",
      "[nems_lbhb.baphy_experiment INFO] Creating stim epochs\n",
      "[nems_lbhb.baphy_experiment INFO] Creating Light epochs\n",
      "[nems_lbhb.baphy_io INFO] rounding Trial offset spike times to even number of rasterfs bins\n",
      "[nems_lbhb.baphy_io INFO] 200 trials totaling 2907.56 sec\n",
      "[nems_lbhb.baphy_experiment INFO] Caching recording: /auto/data/nems_db/recordings/Teonancatl/TNC013a/TNC013a_52eb101d3b015c1f45ebe17538eec7f5291bd4c2.tgz\n",
      "[nems.recording INFO] Saving recording to : /auto/data/nems_db/recordings/Teonancatl/TNC013a/TNC013a_52eb101d3b015c1f45ebe17538eec7f5291bd4c2.tgz\n",
      "[nems_lbhb.baphy_experiment INFO] Cached recording: /auto/data/nems_db/recordings/Teonancatl/TNC015a/TNC015a_82f9c2a4a415eae5925b28551de324b0a54a594b.tgz\n",
      "[nems_lbhb.baphy_io INFO] Loading /auto/data/daq/Teonancatl/TNC015/TNC015a11_p_CPN.m\n"
     ]
    },
    {
     "name": "stdout",
     "output_type": "stream",
     "text": [
      "0 resp\n"
     ]
    },
    {
     "name": "stderr",
     "output_type": "stream",
     "text": [
      "[nems_lbhb.baphy_io INFO] evp file for licks: /auto/data/daq/Teonancatl/TNC015/TNC015a11_p_CPN.evp\n",
      "[nems_lbhb.baphy_io INFO] Loading /auto/data/daq/Teonancatl/TNC015/TNC015a11_p_CPN.m\n",
      "[nems_lbhb.baphy_io INFO] evp file for licks: /auto/data/daq/Teonancatl/TNC015/TNC015a11_p_CPN.evp\n",
      "[nems_lbhb.baphy_experiment INFO] Remove post-response events\n",
      "[nems_lbhb.baphy_experiment INFO] Removing post-reponse data\n",
      "[nems_lbhb.baphy_io INFO] rounding Trial offset spike times to even number of rasterfs bins\n",
      "[nems_lbhb.baphy_io INFO] 200 trials totaling 2940.34 sec\n",
      "[nems_lbhb.baphy_io INFO] Loading /auto/data/daq/Teonancatl/TNC015/TNC015a11_p_CPN.m\n",
      "[nems_lbhb.baphy_io INFO] evp file for licks: /auto/data/daq/Teonancatl/TNC015/TNC015a11_p_CPN.evp\n",
      "[nems_lbhb.baphy_experiment INFO] Creating trial epochs\n",
      "[nems_lbhb.baphy_experiment INFO] Creating stim epochs\n",
      "[nems_lbhb.baphy_experiment INFO] Creating Light epochs\n",
      "[nems_lbhb.baphy_io INFO] rounding Trial offset spike times to even number of rasterfs bins\n",
      "[nems_lbhb.baphy_io INFO] 200 trials totaling 2940.34 sec\n",
      "[nems_lbhb.baphy_experiment INFO] Caching recording: /auto/data/nems_db/recordings/Teonancatl/TNC015a/TNC015a_82f9c2a4a415eae5925b28551de324b0a54a594b.tgz\n",
      "[nems.recording INFO] Saving recording to : /auto/data/nems_db/recordings/Teonancatl/TNC015a/TNC015a_82f9c2a4a415eae5925b28551de324b0a54a594b.tgz\n",
      "[nems_lbhb.baphy_experiment INFO] Cached recording: /auto/data/nems_db/recordings/Teonancatl/TNC015a/TNC015a_60dc882d8ee98249436ccceed484547e27e55e9e.tgz\n",
      "[nems_lbhb.baphy_io INFO] Loading /auto/data/daq/Teonancatl/TNC015/TNC015a11_p_CPN.m\n"
     ]
    },
    {
     "name": "stdout",
     "output_type": "stream",
     "text": [
      "0 resp\n"
     ]
    },
    {
     "name": "stderr",
     "output_type": "stream",
     "text": [
      "[nems_lbhb.baphy_io INFO] evp file for licks: /auto/data/daq/Teonancatl/TNC015/TNC015a11_p_CPN.evp\n",
      "[nems_lbhb.baphy_io INFO] Loading /auto/data/daq/Teonancatl/TNC015/TNC015a11_p_CPN.m\n",
      "[nems_lbhb.baphy_io INFO] evp file for licks: /auto/data/daq/Teonancatl/TNC015/TNC015a11_p_CPN.evp\n",
      "[nems_lbhb.baphy_experiment INFO] Remove post-response events\n",
      "[nems_lbhb.baphy_experiment INFO] Removing post-reponse data\n",
      "[nems_lbhb.baphy_io INFO] rounding Trial offset spike times to even number of rasterfs bins\n",
      "[nems_lbhb.baphy_io INFO] 200 trials totaling 2940.34 sec\n",
      "[nems_lbhb.baphy_io INFO] Loading /auto/data/daq/Teonancatl/TNC015/TNC015a11_p_CPN.m\n",
      "[nems_lbhb.baphy_io INFO] evp file for licks: /auto/data/daq/Teonancatl/TNC015/TNC015a11_p_CPN.evp\n",
      "[nems_lbhb.baphy_experiment INFO] Creating trial epochs\n",
      "[nems_lbhb.baphy_experiment INFO] Creating stim epochs\n",
      "[nems_lbhb.baphy_experiment INFO] Creating Light epochs\n",
      "[nems_lbhb.baphy_io INFO] rounding Trial offset spike times to even number of rasterfs bins\n",
      "[nems_lbhb.baphy_io INFO] 200 trials totaling 2940.34 sec\n",
      "[nems_lbhb.baphy_experiment INFO] Caching recording: /auto/data/nems_db/recordings/Teonancatl/TNC015a/TNC015a_60dc882d8ee98249436ccceed484547e27e55e9e.tgz\n",
      "[nems.recording INFO] Saving recording to : /auto/data/nems_db/recordings/Teonancatl/TNC015a/TNC015a_60dc882d8ee98249436ccceed484547e27e55e9e.tgz\n",
      "[nems_lbhb.baphy_experiment INFO] Cached recording: /auto/data/nems_db/recordings/Teonancatl/TNC015a/TNC015a_bd85de4182cdd646c65632ee5b7d4c8e2bb89892.tgz\n",
      "[nems_lbhb.baphy_io INFO] Loading /auto/data/daq/Teonancatl/TNC015/TNC015a11_p_CPN.m\n"
     ]
    },
    {
     "name": "stdout",
     "output_type": "stream",
     "text": [
      "0 resp\n"
     ]
    },
    {
     "name": "stderr",
     "output_type": "stream",
     "text": [
      "[nems_lbhb.baphy_io INFO] evp file for licks: /auto/data/daq/Teonancatl/TNC015/TNC015a11_p_CPN.evp\n",
      "[nems_lbhb.baphy_io INFO] Loading /auto/data/daq/Teonancatl/TNC015/TNC015a11_p_CPN.m\n",
      "[nems_lbhb.baphy_io INFO] evp file for licks: /auto/data/daq/Teonancatl/TNC015/TNC015a11_p_CPN.evp\n",
      "[nems_lbhb.baphy_experiment INFO] Remove post-response events\n",
      "[nems_lbhb.baphy_experiment INFO] Removing post-reponse data\n",
      "[nems_lbhb.baphy_io INFO] rounding Trial offset spike times to even number of rasterfs bins\n",
      "[nems_lbhb.baphy_io INFO] 200 trials totaling 2940.34 sec\n",
      "[nems_lbhb.baphy_io INFO] Loading /auto/data/daq/Teonancatl/TNC015/TNC015a11_p_CPN.m\n",
      "[nems_lbhb.baphy_io INFO] evp file for licks: /auto/data/daq/Teonancatl/TNC015/TNC015a11_p_CPN.evp\n",
      "[nems_lbhb.baphy_experiment INFO] Creating trial epochs\n",
      "[nems_lbhb.baphy_experiment INFO] Creating stim epochs\n",
      "[nems_lbhb.baphy_experiment INFO] Creating Light epochs\n",
      "[nems_lbhb.baphy_io INFO] rounding Trial offset spike times to even number of rasterfs bins\n",
      "[nems_lbhb.baphy_io INFO] 200 trials totaling 2940.34 sec\n",
      "[nems_lbhb.baphy_experiment INFO] Caching recording: /auto/data/nems_db/recordings/Teonancatl/TNC015a/TNC015a_bd85de4182cdd646c65632ee5b7d4c8e2bb89892.tgz\n",
      "[nems.recording INFO] Saving recording to : /auto/data/nems_db/recordings/Teonancatl/TNC015a/TNC015a_bd85de4182cdd646c65632ee5b7d4c8e2bb89892.tgz\n",
      "[nems_lbhb.baphy_experiment INFO] Cached recording: /auto/data/nems_db/recordings/Teonancatl/TNC015a/TNC015a_d87ff620f12c672ceae836ff3bcf1960e490e6a6.tgz\n",
      "[nems_lbhb.baphy_io INFO] Loading /auto/data/daq/Teonancatl/TNC015/TNC015a11_p_CPN.m\n"
     ]
    },
    {
     "name": "stdout",
     "output_type": "stream",
     "text": [
      "0 resp\n"
     ]
    },
    {
     "name": "stderr",
     "output_type": "stream",
     "text": [
      "[nems_lbhb.baphy_io INFO] evp file for licks: /auto/data/daq/Teonancatl/TNC015/TNC015a11_p_CPN.evp\n",
      "[nems_lbhb.baphy_io INFO] Loading /auto/data/daq/Teonancatl/TNC015/TNC015a11_p_CPN.m\n",
      "[nems_lbhb.baphy_io INFO] evp file for licks: /auto/data/daq/Teonancatl/TNC015/TNC015a11_p_CPN.evp\n",
      "[nems_lbhb.baphy_experiment INFO] Remove post-response events\n",
      "[nems_lbhb.baphy_experiment INFO] Removing post-reponse data\n",
      "[nems_lbhb.baphy_io INFO] rounding Trial offset spike times to even number of rasterfs bins\n",
      "[nems_lbhb.baphy_io INFO] 200 trials totaling 2940.34 sec\n",
      "[nems_lbhb.baphy_io INFO] Loading /auto/data/daq/Teonancatl/TNC015/TNC015a11_p_CPN.m\n",
      "[nems_lbhb.baphy_io INFO] evp file for licks: /auto/data/daq/Teonancatl/TNC015/TNC015a11_p_CPN.evp\n",
      "[nems_lbhb.baphy_experiment INFO] Creating trial epochs\n",
      "[nems_lbhb.baphy_experiment INFO] Creating stim epochs\n",
      "[nems_lbhb.baphy_experiment INFO] Creating Light epochs\n",
      "[nems_lbhb.baphy_io INFO] rounding Trial offset spike times to even number of rasterfs bins\n",
      "[nems_lbhb.baphy_io INFO] 200 trials totaling 2940.34 sec\n",
      "[nems_lbhb.baphy_experiment INFO] Caching recording: /auto/data/nems_db/recordings/Teonancatl/TNC015a/TNC015a_d87ff620f12c672ceae836ff3bcf1960e490e6a6.tgz\n",
      "[nems.recording INFO] Saving recording to : /auto/data/nems_db/recordings/Teonancatl/TNC015a/TNC015a_d87ff620f12c672ceae836ff3bcf1960e490e6a6.tgz\n",
      "[nems_lbhb.baphy_experiment INFO] Cached recording: /auto/data/nems_db/recordings/Teonancatl/TNC015a/TNC015a_cf2e176ca8d27eb73a611b3b6fdcd3d11da6291a.tgz\n",
      "[nems_lbhb.baphy_io INFO] Loading /auto/data/daq/Teonancatl/TNC015/TNC015a11_p_CPN.m\n"
     ]
    },
    {
     "name": "stdout",
     "output_type": "stream",
     "text": [
      "0 resp\n"
     ]
    },
    {
     "name": "stderr",
     "output_type": "stream",
     "text": [
      "[nems_lbhb.baphy_io INFO] evp file for licks: /auto/data/daq/Teonancatl/TNC015/TNC015a11_p_CPN.evp\n",
      "[nems_lbhb.baphy_io INFO] Loading /auto/data/daq/Teonancatl/TNC015/TNC015a11_p_CPN.m\n",
      "[nems_lbhb.baphy_io INFO] evp file for licks: /auto/data/daq/Teonancatl/TNC015/TNC015a11_p_CPN.evp\n",
      "[nems_lbhb.baphy_experiment INFO] Remove post-response events\n",
      "[nems_lbhb.baphy_experiment INFO] Removing post-reponse data\n",
      "[nems_lbhb.baphy_io INFO] rounding Trial offset spike times to even number of rasterfs bins\n",
      "[nems_lbhb.baphy_io INFO] 200 trials totaling 2940.34 sec\n",
      "[nems_lbhb.baphy_io INFO] Loading /auto/data/daq/Teonancatl/TNC015/TNC015a11_p_CPN.m\n",
      "[nems_lbhb.baphy_io INFO] evp file for licks: /auto/data/daq/Teonancatl/TNC015/TNC015a11_p_CPN.evp\n",
      "[nems_lbhb.baphy_experiment INFO] Creating trial epochs\n",
      "[nems_lbhb.baphy_experiment INFO] Creating stim epochs\n",
      "[nems_lbhb.baphy_experiment INFO] Creating Light epochs\n",
      "[nems_lbhb.baphy_io INFO] rounding Trial offset spike times to even number of rasterfs bins\n",
      "[nems_lbhb.baphy_io INFO] 200 trials totaling 2940.34 sec\n",
      "[nems_lbhb.baphy_experiment INFO] Caching recording: /auto/data/nems_db/recordings/Teonancatl/TNC015a/TNC015a_cf2e176ca8d27eb73a611b3b6fdcd3d11da6291a.tgz\n",
      "[nems.recording INFO] Saving recording to : /auto/data/nems_db/recordings/Teonancatl/TNC015a/TNC015a_cf2e176ca8d27eb73a611b3b6fdcd3d11da6291a.tgz\n",
      "[nems_lbhb.baphy_experiment INFO] Cached recording: /auto/data/nems_db/recordings/Teonancatl/TNC015a/TNC015a_4646a891779db1fa0d5210abfbd08a7bd8e90175.tgz\n",
      "[nems_lbhb.baphy_io INFO] Loading /auto/data/daq/Teonancatl/TNC015/TNC015a11_p_CPN.m\n"
     ]
    },
    {
     "name": "stdout",
     "output_type": "stream",
     "text": [
      "0 resp\n"
     ]
    },
    {
     "name": "stderr",
     "output_type": "stream",
     "text": [
      "[nems_lbhb.baphy_io INFO] evp file for licks: /auto/data/daq/Teonancatl/TNC015/TNC015a11_p_CPN.evp\n",
      "[nems_lbhb.baphy_io INFO] Loading /auto/data/daq/Teonancatl/TNC015/TNC015a11_p_CPN.m\n",
      "[nems_lbhb.baphy_io INFO] evp file for licks: /auto/data/daq/Teonancatl/TNC015/TNC015a11_p_CPN.evp\n",
      "[nems_lbhb.baphy_experiment INFO] Remove post-response events\n",
      "[nems_lbhb.baphy_experiment INFO] Removing post-reponse data\n",
      "[nems_lbhb.baphy_io INFO] rounding Trial offset spike times to even number of rasterfs bins\n",
      "[nems_lbhb.baphy_io INFO] 200 trials totaling 2940.34 sec\n",
      "[nems_lbhb.baphy_io INFO] Loading /auto/data/daq/Teonancatl/TNC015/TNC015a11_p_CPN.m\n",
      "[nems_lbhb.baphy_io INFO] evp file for licks: /auto/data/daq/Teonancatl/TNC015/TNC015a11_p_CPN.evp\n",
      "[nems_lbhb.baphy_experiment INFO] Creating trial epochs\n",
      "[nems_lbhb.baphy_experiment INFO] Creating stim epochs\n",
      "[nems_lbhb.baphy_experiment INFO] Creating Light epochs\n",
      "[nems_lbhb.baphy_io INFO] rounding Trial offset spike times to even number of rasterfs bins\n",
      "[nems_lbhb.baphy_io INFO] 200 trials totaling 2940.34 sec\n",
      "[nems_lbhb.baphy_experiment INFO] Caching recording: /auto/data/nems_db/recordings/Teonancatl/TNC015a/TNC015a_4646a891779db1fa0d5210abfbd08a7bd8e90175.tgz\n",
      "[nems.recording INFO] Saving recording to : /auto/data/nems_db/recordings/Teonancatl/TNC015a/TNC015a_4646a891779db1fa0d5210abfbd08a7bd8e90175.tgz\n",
      "[nems_lbhb.baphy_experiment INFO] Cached recording: /auto/data/nems_db/recordings/Teonancatl/TNC015a/TNC015a_a9aa20c802f4c0e67585ab6d4763268c2fb4caad.tgz\n",
      "[nems_lbhb.baphy_experiment INFO] Cached recording found\n"
     ]
    },
    {
     "name": "stdout",
     "output_type": "stream",
     "text": [
      "0 resp\n"
     ]
    },
    {
     "name": "stderr",
     "output_type": "stream",
     "text": [
      "[nems_lbhb.baphy_experiment INFO] Cached recording: /auto/data/nems_db/recordings/Teonancatl/TNC015a/TNC015a_a5f443415e7db38525c0c53bdf8d37f0e98d4204.tgz\n",
      "[nems_lbhb.baphy_io INFO] Loading /auto/data/daq/Teonancatl/TNC015/TNC015a11_p_CPN.m\n",
      "[nems_lbhb.baphy_io INFO] evp file for licks: /auto/data/daq/Teonancatl/TNC015/TNC015a11_p_CPN.evp\n",
      "[nems_lbhb.baphy_io INFO] Loading /auto/data/daq/Teonancatl/TNC015/TNC015a11_p_CPN.m\n",
      "[nems_lbhb.baphy_io INFO] evp file for licks: /auto/data/daq/Teonancatl/TNC015/TNC015a11_p_CPN.evp\n",
      "[nems_lbhb.baphy_experiment INFO] Remove post-response events\n",
      "[nems_lbhb.baphy_experiment INFO] Removing post-reponse data\n",
      "[nems_lbhb.baphy_io INFO] rounding Trial offset spike times to even number of rasterfs bins\n",
      "[nems_lbhb.baphy_io INFO] 200 trials totaling 2940.34 sec\n",
      "[nems_lbhb.baphy_io INFO] Loading /auto/data/daq/Teonancatl/TNC015/TNC015a11_p_CPN.m\n",
      "[nems_lbhb.baphy_io INFO] evp file for licks: /auto/data/daq/Teonancatl/TNC015/TNC015a11_p_CPN.evp\n",
      "[nems_lbhb.baphy_experiment INFO] Creating trial epochs\n",
      "[nems_lbhb.baphy_experiment INFO] Creating stim epochs\n",
      "[nems_lbhb.baphy_experiment INFO] Creating Light epochs\n",
      "[nems_lbhb.baphy_io INFO] rounding Trial offset spike times to even number of rasterfs bins\n",
      "[nems_lbhb.baphy_io INFO] 200 trials totaling 2940.34 sec\n",
      "[nems_lbhb.baphy_experiment INFO] Caching recording: /auto/data/nems_db/recordings/Teonancatl/TNC015a/TNC015a_a5f443415e7db38525c0c53bdf8d37f0e98d4204.tgz\n",
      "[nems.recording INFO] Saving recording to : /auto/data/nems_db/recordings/Teonancatl/TNC015a/TNC015a_a5f443415e7db38525c0c53bdf8d37f0e98d4204.tgz\n",
      "[nems_lbhb.baphy_experiment INFO] Cached recording: /auto/data/nems_db/recordings/Teonancatl/TNC015a/TNC015a_114e19cc4c96d9203b3b32425d9ea3320a4f4ee4.tgz\n",
      "[nems_lbhb.baphy_io INFO] Loading /auto/data/daq/Teonancatl/TNC015/TNC015a11_p_CPN.m\n"
     ]
    },
    {
     "name": "stdout",
     "output_type": "stream",
     "text": [
      "0 resp\n"
     ]
    },
    {
     "name": "stderr",
     "output_type": "stream",
     "text": [
      "[nems_lbhb.baphy_io INFO] evp file for licks: /auto/data/daq/Teonancatl/TNC015/TNC015a11_p_CPN.evp\n",
      "[nems_lbhb.baphy_io INFO] Loading /auto/data/daq/Teonancatl/TNC015/TNC015a11_p_CPN.m\n",
      "[nems_lbhb.baphy_io INFO] evp file for licks: /auto/data/daq/Teonancatl/TNC015/TNC015a11_p_CPN.evp\n",
      "[nems_lbhb.baphy_experiment INFO] Remove post-response events\n",
      "[nems_lbhb.baphy_experiment INFO] Removing post-reponse data\n",
      "[nems_lbhb.baphy_io INFO] rounding Trial offset spike times to even number of rasterfs bins\n",
      "[nems_lbhb.baphy_io INFO] 200 trials totaling 2940.34 sec\n",
      "[nems_lbhb.baphy_io INFO] Loading /auto/data/daq/Teonancatl/TNC015/TNC015a11_p_CPN.m\n",
      "[nems_lbhb.baphy_io INFO] evp file for licks: /auto/data/daq/Teonancatl/TNC015/TNC015a11_p_CPN.evp\n",
      "[nems_lbhb.baphy_experiment INFO] Creating trial epochs\n",
      "[nems_lbhb.baphy_experiment INFO] Creating stim epochs\n",
      "[nems_lbhb.baphy_experiment INFO] Creating Light epochs\n",
      "[nems_lbhb.baphy_io INFO] rounding Trial offset spike times to even number of rasterfs bins\n",
      "[nems_lbhb.baphy_io INFO] 200 trials totaling 2940.34 sec\n",
      "[nems_lbhb.baphy_experiment INFO] Caching recording: /auto/data/nems_db/recordings/Teonancatl/TNC015a/TNC015a_114e19cc4c96d9203b3b32425d9ea3320a4f4ee4.tgz\n",
      "[nems.recording INFO] Saving recording to : /auto/data/nems_db/recordings/Teonancatl/TNC015a/TNC015a_114e19cc4c96d9203b3b32425d9ea3320a4f4ee4.tgz\n",
      "[nems_lbhb.baphy_experiment INFO] Cached recording: /auto/data/nems_db/recordings/Teonancatl/TNC015a/TNC015a_bda6800e5a53aed408f974ff03a4bda24063bb17.tgz\n",
      "[nems_lbhb.baphy_io INFO] Loading /auto/data/daq/Teonancatl/TNC015/TNC015a11_p_CPN.m\n"
     ]
    },
    {
     "name": "stdout",
     "output_type": "stream",
     "text": [
      "0 resp\n"
     ]
    },
    {
     "name": "stderr",
     "output_type": "stream",
     "text": [
      "[nems_lbhb.baphy_io INFO] evp file for licks: /auto/data/daq/Teonancatl/TNC015/TNC015a11_p_CPN.evp\n",
      "[nems_lbhb.baphy_io INFO] Loading /auto/data/daq/Teonancatl/TNC015/TNC015a11_p_CPN.m\n",
      "[nems_lbhb.baphy_io INFO] evp file for licks: /auto/data/daq/Teonancatl/TNC015/TNC015a11_p_CPN.evp\n",
      "[nems_lbhb.baphy_experiment INFO] Remove post-response events\n",
      "[nems_lbhb.baphy_experiment INFO] Removing post-reponse data\n",
      "[nems_lbhb.baphy_io INFO] rounding Trial offset spike times to even number of rasterfs bins\n",
      "[nems_lbhb.baphy_io INFO] 200 trials totaling 2940.34 sec\n",
      "[nems_lbhb.baphy_io INFO] Loading /auto/data/daq/Teonancatl/TNC015/TNC015a11_p_CPN.m\n",
      "[nems_lbhb.baphy_io INFO] evp file for licks: /auto/data/daq/Teonancatl/TNC015/TNC015a11_p_CPN.evp\n",
      "[nems_lbhb.baphy_experiment INFO] Creating trial epochs\n",
      "[nems_lbhb.baphy_experiment INFO] Creating stim epochs\n",
      "[nems_lbhb.baphy_experiment INFO] Creating Light epochs\n",
      "[nems_lbhb.baphy_io INFO] rounding Trial offset spike times to even number of rasterfs bins\n",
      "[nems_lbhb.baphy_io INFO] 200 trials totaling 2940.34 sec\n",
      "[nems_lbhb.baphy_experiment INFO] Caching recording: /auto/data/nems_db/recordings/Teonancatl/TNC015a/TNC015a_bda6800e5a53aed408f974ff03a4bda24063bb17.tgz\n",
      "[nems.recording INFO] Saving recording to : /auto/data/nems_db/recordings/Teonancatl/TNC015a/TNC015a_bda6800e5a53aed408f974ff03a4bda24063bb17.tgz\n",
      "[nems_lbhb.baphy_experiment INFO] Cached recording: /auto/data/nems_db/recordings/Teonancatl/TNC015a/TNC015a_a550c3a9947bff6dff990dd409cf5ea8938c81da.tgz\n",
      "[nems_lbhb.baphy_io INFO] Loading /auto/data/daq/Teonancatl/TNC015/TNC015a11_p_CPN.m\n"
     ]
    },
    {
     "name": "stdout",
     "output_type": "stream",
     "text": [
      "0 resp\n"
     ]
    },
    {
     "name": "stderr",
     "output_type": "stream",
     "text": [
      "[nems_lbhb.baphy_io INFO] evp file for licks: /auto/data/daq/Teonancatl/TNC015/TNC015a11_p_CPN.evp\n",
      "[nems_lbhb.baphy_io INFO] Loading /auto/data/daq/Teonancatl/TNC015/TNC015a11_p_CPN.m\n",
      "[nems_lbhb.baphy_io INFO] evp file for licks: /auto/data/daq/Teonancatl/TNC015/TNC015a11_p_CPN.evp\n",
      "[nems_lbhb.baphy_experiment INFO] Remove post-response events\n",
      "[nems_lbhb.baphy_experiment INFO] Removing post-reponse data\n",
      "[nems_lbhb.baphy_io INFO] rounding Trial offset spike times to even number of rasterfs bins\n",
      "[nems_lbhb.baphy_io INFO] 200 trials totaling 2940.34 sec\n",
      "[nems_lbhb.baphy_io INFO] Loading /auto/data/daq/Teonancatl/TNC015/TNC015a11_p_CPN.m\n",
      "[nems_lbhb.baphy_io INFO] evp file for licks: /auto/data/daq/Teonancatl/TNC015/TNC015a11_p_CPN.evp\n",
      "[nems_lbhb.baphy_experiment INFO] Creating trial epochs\n",
      "[nems_lbhb.baphy_experiment INFO] Creating stim epochs\n",
      "[nems_lbhb.baphy_experiment INFO] Creating Light epochs\n",
      "[nems_lbhb.baphy_io INFO] rounding Trial offset spike times to even number of rasterfs bins\n",
      "[nems_lbhb.baphy_io INFO] 200 trials totaling 2940.34 sec\n",
      "[nems_lbhb.baphy_experiment INFO] Caching recording: /auto/data/nems_db/recordings/Teonancatl/TNC015a/TNC015a_a550c3a9947bff6dff990dd409cf5ea8938c81da.tgz\n",
      "[nems.recording INFO] Saving recording to : /auto/data/nems_db/recordings/Teonancatl/TNC015a/TNC015a_a550c3a9947bff6dff990dd409cf5ea8938c81da.tgz\n",
      "[nems_lbhb.baphy_experiment INFO] Cached recording: /auto/data/nems_db/recordings/Teonancatl/TNC015a/TNC015a_85e75077559532a29d2e445ca5fa809dc0d130f3.tgz\n",
      "[nems_lbhb.baphy_io INFO] Loading /auto/data/daq/Teonancatl/TNC015/TNC015a11_p_CPN.m\n"
     ]
    },
    {
     "name": "stdout",
     "output_type": "stream",
     "text": [
      "0 resp\n"
     ]
    },
    {
     "name": "stderr",
     "output_type": "stream",
     "text": [
      "[nems_lbhb.baphy_io INFO] evp file for licks: /auto/data/daq/Teonancatl/TNC015/TNC015a11_p_CPN.evp\n",
      "[nems_lbhb.baphy_io INFO] Loading /auto/data/daq/Teonancatl/TNC015/TNC015a11_p_CPN.m\n",
      "[nems_lbhb.baphy_io INFO] evp file for licks: /auto/data/daq/Teonancatl/TNC015/TNC015a11_p_CPN.evp\n",
      "[nems_lbhb.baphy_experiment INFO] Remove post-response events\n",
      "[nems_lbhb.baphy_experiment INFO] Removing post-reponse data\n",
      "[nems_lbhb.baphy_io INFO] rounding Trial offset spike times to even number of rasterfs bins\n",
      "[nems_lbhb.baphy_io INFO] 200 trials totaling 2940.34 sec\n",
      "[nems_lbhb.baphy_io INFO] Loading /auto/data/daq/Teonancatl/TNC015/TNC015a11_p_CPN.m\n",
      "[nems_lbhb.baphy_io INFO] evp file for licks: /auto/data/daq/Teonancatl/TNC015/TNC015a11_p_CPN.evp\n",
      "[nems_lbhb.baphy_experiment INFO] Creating trial epochs\n",
      "[nems_lbhb.baphy_experiment INFO] Creating stim epochs\n",
      "[nems_lbhb.baphy_experiment INFO] Creating Light epochs\n",
      "[nems_lbhb.baphy_io INFO] rounding Trial offset spike times to even number of rasterfs bins\n",
      "[nems_lbhb.baphy_io INFO] 200 trials totaling 2940.34 sec\n",
      "[nems_lbhb.baphy_experiment INFO] Caching recording: /auto/data/nems_db/recordings/Teonancatl/TNC015a/TNC015a_85e75077559532a29d2e445ca5fa809dc0d130f3.tgz\n",
      "[nems.recording INFO] Saving recording to : /auto/data/nems_db/recordings/Teonancatl/TNC015a/TNC015a_85e75077559532a29d2e445ca5fa809dc0d130f3.tgz\n"
     ]
    },
    {
     "name": "stdout",
     "output_type": "stream",
     "text": [
      "0 resp\n"
     ]
    },
    {
     "name": "stderr",
     "output_type": "stream",
     "text": [
      "[nems_lbhb.baphy_experiment INFO] Cached recording: /auto/data/nems_db/recordings/Teonancatl/TNC015a/TNC015a_8ba0b7ab1aa045a5cb883e34dbfc1311e3947abc.tgz\n",
      "[nems_lbhb.baphy_io INFO] Loading /auto/data/daq/Teonancatl/TNC015/TNC015a11_p_CPN.m\n",
      "[nems_lbhb.baphy_io INFO] evp file for licks: /auto/data/daq/Teonancatl/TNC015/TNC015a11_p_CPN.evp\n",
      "[nems_lbhb.baphy_io INFO] Loading /auto/data/daq/Teonancatl/TNC015/TNC015a11_p_CPN.m\n",
      "[nems_lbhb.baphy_io INFO] evp file for licks: /auto/data/daq/Teonancatl/TNC015/TNC015a11_p_CPN.evp\n",
      "[nems_lbhb.baphy_experiment INFO] Remove post-response events\n",
      "[nems_lbhb.baphy_experiment INFO] Removing post-reponse data\n",
      "[nems_lbhb.baphy_io INFO] rounding Trial offset spike times to even number of rasterfs bins\n",
      "[nems_lbhb.baphy_io INFO] 200 trials totaling 2940.34 sec\n",
      "[nems_lbhb.baphy_io INFO] Loading /auto/data/daq/Teonancatl/TNC015/TNC015a11_p_CPN.m\n",
      "[nems_lbhb.baphy_io INFO] evp file for licks: /auto/data/daq/Teonancatl/TNC015/TNC015a11_p_CPN.evp\n",
      "[nems_lbhb.baphy_experiment INFO] Creating trial epochs\n",
      "[nems_lbhb.baphy_experiment INFO] Creating stim epochs\n",
      "[nems_lbhb.baphy_experiment INFO] Creating Light epochs\n",
      "[nems_lbhb.baphy_io INFO] rounding Trial offset spike times to even number of rasterfs bins\n",
      "[nems_lbhb.baphy_io INFO] 200 trials totaling 2940.34 sec\n",
      "[nems_lbhb.baphy_experiment INFO] Caching recording: /auto/data/nems_db/recordings/Teonancatl/TNC015a/TNC015a_8ba0b7ab1aa045a5cb883e34dbfc1311e3947abc.tgz\n",
      "[nems.recording INFO] Saving recording to : /auto/data/nems_db/recordings/Teonancatl/TNC015a/TNC015a_8ba0b7ab1aa045a5cb883e34dbfc1311e3947abc.tgz\n",
      "[nems_lbhb.baphy_experiment INFO] Cached recording: /auto/data/nems_db/recordings/Teonancatl/TNC015a/TNC015a_aeae10d0a55c61136db4a9aa1958ea356fc775ab.tgz\n",
      "[nems_lbhb.baphy_experiment INFO] Cached recording found\n"
     ]
    },
    {
     "name": "stdout",
     "output_type": "stream",
     "text": [
      "0 resp\n"
     ]
    },
    {
     "name": "stderr",
     "output_type": "stream",
     "text": [
      "[nems_lbhb.baphy_experiment INFO] Cached recording: /auto/data/nems_db/recordings/Teonancatl/TNC015a/TNC015a_6b7dcb205696e010f43facfa00330fda21ac562d.tgz\n",
      "[nems_lbhb.baphy_io INFO] Loading /auto/data/daq/Teonancatl/TNC015/TNC015a11_p_CPN.m\n",
      "[nems_lbhb.baphy_io INFO] evp file for licks: /auto/data/daq/Teonancatl/TNC015/TNC015a11_p_CPN.evp\n",
      "[nems_lbhb.baphy_io INFO] Loading /auto/data/daq/Teonancatl/TNC015/TNC015a11_p_CPN.m\n",
      "[nems_lbhb.baphy_io INFO] evp file for licks: /auto/data/daq/Teonancatl/TNC015/TNC015a11_p_CPN.evp\n",
      "[nems_lbhb.baphy_experiment INFO] Remove post-response events\n",
      "[nems_lbhb.baphy_experiment INFO] Removing post-reponse data\n",
      "[nems_lbhb.baphy_io INFO] rounding Trial offset spike times to even number of rasterfs bins\n",
      "[nems_lbhb.baphy_io INFO] 200 trials totaling 2940.34 sec\n",
      "[nems_lbhb.baphy_io INFO] Loading /auto/data/daq/Teonancatl/TNC015/TNC015a11_p_CPN.m\n",
      "[nems_lbhb.baphy_io INFO] evp file for licks: /auto/data/daq/Teonancatl/TNC015/TNC015a11_p_CPN.evp\n",
      "[nems_lbhb.baphy_experiment INFO] Creating trial epochs\n",
      "[nems_lbhb.baphy_experiment INFO] Creating stim epochs\n",
      "[nems_lbhb.baphy_experiment INFO] Creating Light epochs\n",
      "[nems_lbhb.baphy_io INFO] rounding Trial offset spike times to even number of rasterfs bins\n",
      "[nems_lbhb.baphy_io INFO] 200 trials totaling 2940.34 sec\n",
      "[nems_lbhb.baphy_experiment INFO] Caching recording: /auto/data/nems_db/recordings/Teonancatl/TNC015a/TNC015a_6b7dcb205696e010f43facfa00330fda21ac562d.tgz\n",
      "[nems.recording INFO] Saving recording to : /auto/data/nems_db/recordings/Teonancatl/TNC015a/TNC015a_6b7dcb205696e010f43facfa00330fda21ac562d.tgz\n",
      "[nems_lbhb.baphy_experiment INFO] Cached recording: /auto/data/nems_db/recordings/Teonancatl/TNC017a/TNC017a_d8611ac26447d4482cf31916c2302b462a6c8978.tgz\n",
      "[nems_lbhb.baphy_io INFO] Loading /auto/data/daq/Teonancatl/TNC017/TNC017a11_p_CPN.m\n"
     ]
    },
    {
     "name": "stdout",
     "output_type": "stream",
     "text": [
      "0 resp\n"
     ]
    },
    {
     "name": "stderr",
     "output_type": "stream",
     "text": [
      "[nems_lbhb.baphy_io INFO] evp file for licks: /auto/data/daq/Teonancatl/TNC017/TNC017a11_p_CPN.evp\n",
      "[nems_lbhb.baphy_io INFO] Loading /auto/data/daq/Teonancatl/TNC017/TNC017a11_p_CPN.m\n",
      "[nems_lbhb.baphy_io INFO] evp file for licks: /auto/data/daq/Teonancatl/TNC017/TNC017a11_p_CPN.evp\n",
      "[nems_lbhb.baphy_experiment INFO] Remove post-response events\n",
      "[nems_lbhb.baphy_experiment INFO] Removing post-reponse data\n",
      "[nems_lbhb.baphy_io INFO] rounding Trial offset spike times to even number of rasterfs bins\n",
      "[nems_lbhb.baphy_io INFO] 200 trials totaling 2923.24 sec\n",
      "[nems_lbhb.baphy_io INFO] Loading /auto/data/daq/Teonancatl/TNC017/TNC017a11_p_CPN.m\n",
      "[nems_lbhb.baphy_io INFO] evp file for licks: /auto/data/daq/Teonancatl/TNC017/TNC017a11_p_CPN.evp\n",
      "[nems_lbhb.baphy_experiment INFO] Creating trial epochs\n",
      "[nems_lbhb.baphy_experiment INFO] Creating stim epochs\n",
      "[nems_lbhb.baphy_experiment INFO] Creating Light epochs\n",
      "[nems_lbhb.baphy_io INFO] rounding Trial offset spike times to even number of rasterfs bins\n",
      "[nems_lbhb.baphy_io INFO] 200 trials totaling 2923.24 sec\n",
      "[nems_lbhb.baphy_experiment INFO] Caching recording: /auto/data/nems_db/recordings/Teonancatl/TNC017a/TNC017a_d8611ac26447d4482cf31916c2302b462a6c8978.tgz\n",
      "[nems.recording INFO] Saving recording to : /auto/data/nems_db/recordings/Teonancatl/TNC017a/TNC017a_d8611ac26447d4482cf31916c2302b462a6c8978.tgz\n",
      "[nems_lbhb.baphy_experiment INFO] Cached recording: /auto/data/nems_db/recordings/Teonancatl/TNC017a/TNC017a_cdc362ae34137219990d0343fcb462b6a5c8ff53.tgz\n",
      "[nems_lbhb.baphy_io INFO] Loading /auto/data/daq/Teonancatl/TNC017/TNC017a11_p_CPN.m\n"
     ]
    },
    {
     "name": "stdout",
     "output_type": "stream",
     "text": [
      "0 resp\n"
     ]
    },
    {
     "name": "stderr",
     "output_type": "stream",
     "text": [
      "[nems_lbhb.baphy_io INFO] evp file for licks: /auto/data/daq/Teonancatl/TNC017/TNC017a11_p_CPN.evp\n",
      "[nems_lbhb.baphy_io INFO] Loading /auto/data/daq/Teonancatl/TNC017/TNC017a11_p_CPN.m\n",
      "[nems_lbhb.baphy_io INFO] evp file for licks: /auto/data/daq/Teonancatl/TNC017/TNC017a11_p_CPN.evp\n",
      "[nems_lbhb.baphy_experiment INFO] Remove post-response events\n",
      "[nems_lbhb.baphy_experiment INFO] Removing post-reponse data\n",
      "[nems_lbhb.baphy_io INFO] rounding Trial offset spike times to even number of rasterfs bins\n",
      "[nems_lbhb.baphy_io INFO] 200 trials totaling 2923.24 sec\n",
      "[nems_lbhb.baphy_io INFO] Loading /auto/data/daq/Teonancatl/TNC017/TNC017a11_p_CPN.m\n",
      "[nems_lbhb.baphy_io INFO] evp file for licks: /auto/data/daq/Teonancatl/TNC017/TNC017a11_p_CPN.evp\n",
      "[nems_lbhb.baphy_experiment INFO] Creating trial epochs\n",
      "[nems_lbhb.baphy_experiment INFO] Creating stim epochs\n",
      "[nems_lbhb.baphy_experiment INFO] Creating Light epochs\n",
      "[nems_lbhb.baphy_io INFO] rounding Trial offset spike times to even number of rasterfs bins\n",
      "[nems_lbhb.baphy_io INFO] 200 trials totaling 2923.24 sec\n",
      "[nems_lbhb.baphy_experiment INFO] Caching recording: /auto/data/nems_db/recordings/Teonancatl/TNC017a/TNC017a_cdc362ae34137219990d0343fcb462b6a5c8ff53.tgz\n",
      "[nems.recording INFO] Saving recording to : /auto/data/nems_db/recordings/Teonancatl/TNC017a/TNC017a_cdc362ae34137219990d0343fcb462b6a5c8ff53.tgz\n",
      "[nems_lbhb.baphy_experiment INFO] Cached recording: /auto/data/nems_db/recordings/Teonancatl/TNC017a/TNC017a_fe32f0ba169b5a4dc3c5fa2ce55c6da488ae9abd.tgz\n",
      "[nems_lbhb.baphy_io INFO] Loading /auto/data/daq/Teonancatl/TNC017/TNC017a11_p_CPN.m\n"
     ]
    },
    {
     "name": "stdout",
     "output_type": "stream",
     "text": [
      "0 resp\n"
     ]
    },
    {
     "name": "stderr",
     "output_type": "stream",
     "text": [
      "[nems_lbhb.baphy_io INFO] evp file for licks: /auto/data/daq/Teonancatl/TNC017/TNC017a11_p_CPN.evp\n",
      "[nems_lbhb.baphy_io INFO] Loading /auto/data/daq/Teonancatl/TNC017/TNC017a11_p_CPN.m\n",
      "[nems_lbhb.baphy_io INFO] evp file for licks: /auto/data/daq/Teonancatl/TNC017/TNC017a11_p_CPN.evp\n",
      "[nems_lbhb.baphy_experiment INFO] Remove post-response events\n",
      "[nems_lbhb.baphy_experiment INFO] Removing post-reponse data\n",
      "[nems_lbhb.baphy_io INFO] rounding Trial offset spike times to even number of rasterfs bins\n",
      "[nems_lbhb.baphy_io INFO] 200 trials totaling 2923.24 sec\n",
      "[nems_lbhb.baphy_io INFO] Loading /auto/data/daq/Teonancatl/TNC017/TNC017a11_p_CPN.m\n",
      "[nems_lbhb.baphy_io INFO] evp file for licks: /auto/data/daq/Teonancatl/TNC017/TNC017a11_p_CPN.evp\n",
      "[nems_lbhb.baphy_experiment INFO] Creating trial epochs\n",
      "[nems_lbhb.baphy_experiment INFO] Creating stim epochs\n",
      "[nems_lbhb.baphy_experiment INFO] Creating Light epochs\n",
      "[nems_lbhb.baphy_io INFO] rounding Trial offset spike times to even number of rasterfs bins\n",
      "[nems_lbhb.baphy_io INFO] 200 trials totaling 2923.24 sec\n",
      "[nems_lbhb.baphy_experiment INFO] Caching recording: /auto/data/nems_db/recordings/Teonancatl/TNC017a/TNC017a_fe32f0ba169b5a4dc3c5fa2ce55c6da488ae9abd.tgz\n",
      "[nems.recording INFO] Saving recording to : /auto/data/nems_db/recordings/Teonancatl/TNC017a/TNC017a_fe32f0ba169b5a4dc3c5fa2ce55c6da488ae9abd.tgz\n",
      "[nems_lbhb.baphy_experiment INFO] Cached recording: /auto/data/nems_db/recordings/Teonancatl/TNC017a/TNC017a_e8b06ad0d15ac3fdc840e2745d244db589620a04.tgz\n",
      "[nems_lbhb.baphy_io INFO] Loading /auto/data/daq/Teonancatl/TNC017/TNC017a11_p_CPN.m\n"
     ]
    },
    {
     "name": "stdout",
     "output_type": "stream",
     "text": [
      "0 resp\n"
     ]
    },
    {
     "name": "stderr",
     "output_type": "stream",
     "text": [
      "[nems_lbhb.baphy_io INFO] evp file for licks: /auto/data/daq/Teonancatl/TNC017/TNC017a11_p_CPN.evp\n",
      "[nems_lbhb.baphy_io INFO] Loading /auto/data/daq/Teonancatl/TNC017/TNC017a11_p_CPN.m\n",
      "[nems_lbhb.baphy_io INFO] evp file for licks: /auto/data/daq/Teonancatl/TNC017/TNC017a11_p_CPN.evp\n",
      "[nems_lbhb.baphy_experiment INFO] Remove post-response events\n",
      "[nems_lbhb.baphy_experiment INFO] Removing post-reponse data\n",
      "[nems_lbhb.baphy_io INFO] rounding Trial offset spike times to even number of rasterfs bins\n",
      "[nems_lbhb.baphy_io INFO] 200 trials totaling 2923.24 sec\n",
      "[nems_lbhb.baphy_io INFO] Loading /auto/data/daq/Teonancatl/TNC017/TNC017a11_p_CPN.m\n",
      "[nems_lbhb.baphy_io INFO] evp file for licks: /auto/data/daq/Teonancatl/TNC017/TNC017a11_p_CPN.evp\n",
      "[nems_lbhb.baphy_experiment INFO] Creating trial epochs\n",
      "[nems_lbhb.baphy_experiment INFO] Creating stim epochs\n",
      "[nems_lbhb.baphy_experiment INFO] Creating Light epochs\n",
      "[nems_lbhb.baphy_io INFO] rounding Trial offset spike times to even number of rasterfs bins\n",
      "[nems_lbhb.baphy_io INFO] 200 trials totaling 2923.24 sec\n",
      "[nems_lbhb.baphy_experiment INFO] Caching recording: /auto/data/nems_db/recordings/Teonancatl/TNC017a/TNC017a_e8b06ad0d15ac3fdc840e2745d244db589620a04.tgz\n",
      "[nems.recording INFO] Saving recording to : /auto/data/nems_db/recordings/Teonancatl/TNC017a/TNC017a_e8b06ad0d15ac3fdc840e2745d244db589620a04.tgz\n",
      "[nems_lbhb.baphy_experiment INFO] Cached recording: /auto/data/nems_db/recordings/Teonancatl/TNC017a/TNC017a_25fdd74f82d7da398a6a2ee770bd3d31ab601257.tgz\n",
      "[nems_lbhb.baphy_io INFO] Loading /auto/data/daq/Teonancatl/TNC017/TNC017a11_p_CPN.m\n"
     ]
    },
    {
     "name": "stdout",
     "output_type": "stream",
     "text": [
      "0 resp\n"
     ]
    },
    {
     "name": "stderr",
     "output_type": "stream",
     "text": [
      "[nems_lbhb.baphy_io INFO] evp file for licks: /auto/data/daq/Teonancatl/TNC017/TNC017a11_p_CPN.evp\n",
      "[nems_lbhb.baphy_io INFO] Loading /auto/data/daq/Teonancatl/TNC017/TNC017a11_p_CPN.m\n",
      "[nems_lbhb.baphy_io INFO] evp file for licks: /auto/data/daq/Teonancatl/TNC017/TNC017a11_p_CPN.evp\n",
      "[nems_lbhb.baphy_experiment INFO] Remove post-response events\n",
      "[nems_lbhb.baphy_experiment INFO] Removing post-reponse data\n",
      "[nems_lbhb.baphy_io INFO] rounding Trial offset spike times to even number of rasterfs bins\n",
      "[nems_lbhb.baphy_io INFO] 200 trials totaling 2923.24 sec\n",
      "[nems_lbhb.baphy_io INFO] Loading /auto/data/daq/Teonancatl/TNC017/TNC017a11_p_CPN.m\n",
      "[nems_lbhb.baphy_io INFO] evp file for licks: /auto/data/daq/Teonancatl/TNC017/TNC017a11_p_CPN.evp\n",
      "[nems_lbhb.baphy_experiment INFO] Creating trial epochs\n",
      "[nems_lbhb.baphy_experiment INFO] Creating stim epochs\n",
      "[nems_lbhb.baphy_experiment INFO] Creating Light epochs\n",
      "[nems_lbhb.baphy_io INFO] rounding Trial offset spike times to even number of rasterfs bins\n",
      "[nems_lbhb.baphy_io INFO] 200 trials totaling 2923.24 sec\n",
      "[nems_lbhb.baphy_experiment INFO] Caching recording: /auto/data/nems_db/recordings/Teonancatl/TNC017a/TNC017a_25fdd74f82d7da398a6a2ee770bd3d31ab601257.tgz\n",
      "[nems.recording INFO] Saving recording to : /auto/data/nems_db/recordings/Teonancatl/TNC017a/TNC017a_25fdd74f82d7da398a6a2ee770bd3d31ab601257.tgz\n",
      "[nems_lbhb.baphy_experiment INFO] Cached recording: /auto/data/nems_db/recordings/Teonancatl/TNC017a/TNC017a_d39699d9b311bd25e610bd4244baa143c3f3569d.tgz\n",
      "[nems_lbhb.baphy_io INFO] Loading /auto/data/daq/Teonancatl/TNC017/TNC017a11_p_CPN.m\n"
     ]
    },
    {
     "name": "stdout",
     "output_type": "stream",
     "text": [
      "0 resp\n"
     ]
    },
    {
     "name": "stderr",
     "output_type": "stream",
     "text": [
      "[nems_lbhb.baphy_io INFO] evp file for licks: /auto/data/daq/Teonancatl/TNC017/TNC017a11_p_CPN.evp\n",
      "[nems_lbhb.baphy_io INFO] Loading /auto/data/daq/Teonancatl/TNC017/TNC017a11_p_CPN.m\n",
      "[nems_lbhb.baphy_io INFO] evp file for licks: /auto/data/daq/Teonancatl/TNC017/TNC017a11_p_CPN.evp\n",
      "[nems_lbhb.baphy_experiment INFO] Remove post-response events\n",
      "[nems_lbhb.baphy_experiment INFO] Removing post-reponse data\n",
      "[nems_lbhb.baphy_io INFO] rounding Trial offset spike times to even number of rasterfs bins\n",
      "[nems_lbhb.baphy_io INFO] 200 trials totaling 2923.24 sec\n",
      "[nems_lbhb.baphy_io INFO] Loading /auto/data/daq/Teonancatl/TNC017/TNC017a11_p_CPN.m\n",
      "[nems_lbhb.baphy_io INFO] evp file for licks: /auto/data/daq/Teonancatl/TNC017/TNC017a11_p_CPN.evp\n",
      "[nems_lbhb.baphy_experiment INFO] Creating trial epochs\n",
      "[nems_lbhb.baphy_experiment INFO] Creating stim epochs\n",
      "[nems_lbhb.baphy_experiment INFO] Creating Light epochs\n",
      "[nems_lbhb.baphy_io INFO] rounding Trial offset spike times to even number of rasterfs bins\n",
      "[nems_lbhb.baphy_io INFO] 200 trials totaling 2923.24 sec\n",
      "[nems_lbhb.baphy_experiment INFO] Caching recording: /auto/data/nems_db/recordings/Teonancatl/TNC017a/TNC017a_d39699d9b311bd25e610bd4244baa143c3f3569d.tgz\n",
      "[nems.recording INFO] Saving recording to : /auto/data/nems_db/recordings/Teonancatl/TNC017a/TNC017a_d39699d9b311bd25e610bd4244baa143c3f3569d.tgz\n",
      "[nems_lbhb.baphy_experiment INFO] Cached recording: /auto/data/nems_db/recordings/Teonancatl/TNC017a/TNC017a_ee3736043224223fe7afeb990209cc7190bc23cf.tgz\n",
      "[nems_lbhb.baphy_io INFO] Loading /auto/data/daq/Teonancatl/TNC017/TNC017a11_p_CPN.m\n"
     ]
    },
    {
     "name": "stdout",
     "output_type": "stream",
     "text": [
      "0 resp\n"
     ]
    },
    {
     "name": "stderr",
     "output_type": "stream",
     "text": [
      "[nems_lbhb.baphy_io INFO] evp file for licks: /auto/data/daq/Teonancatl/TNC017/TNC017a11_p_CPN.evp\n",
      "[nems_lbhb.baphy_io INFO] Loading /auto/data/daq/Teonancatl/TNC017/TNC017a11_p_CPN.m\n",
      "[nems_lbhb.baphy_io INFO] evp file for licks: /auto/data/daq/Teonancatl/TNC017/TNC017a11_p_CPN.evp\n",
      "[nems_lbhb.baphy_experiment INFO] Remove post-response events\n",
      "[nems_lbhb.baphy_experiment INFO] Removing post-reponse data\n",
      "[nems_lbhb.baphy_io INFO] rounding Trial offset spike times to even number of rasterfs bins\n",
      "[nems_lbhb.baphy_io INFO] 200 trials totaling 2923.24 sec\n",
      "[nems_lbhb.baphy_io INFO] Loading /auto/data/daq/Teonancatl/TNC017/TNC017a11_p_CPN.m\n",
      "[nems_lbhb.baphy_io INFO] evp file for licks: /auto/data/daq/Teonancatl/TNC017/TNC017a11_p_CPN.evp\n",
      "[nems_lbhb.baphy_experiment INFO] Creating trial epochs\n",
      "[nems_lbhb.baphy_experiment INFO] Creating stim epochs\n",
      "[nems_lbhb.baphy_experiment INFO] Creating Light epochs\n",
      "[nems_lbhb.baphy_io INFO] rounding Trial offset spike times to even number of rasterfs bins\n",
      "[nems_lbhb.baphy_io INFO] 200 trials totaling 2923.24 sec\n",
      "[nems_lbhb.baphy_experiment INFO] Caching recording: /auto/data/nems_db/recordings/Teonancatl/TNC017a/TNC017a_ee3736043224223fe7afeb990209cc7190bc23cf.tgz\n",
      "[nems.recording INFO] Saving recording to : /auto/data/nems_db/recordings/Teonancatl/TNC017a/TNC017a_ee3736043224223fe7afeb990209cc7190bc23cf.tgz\n",
      "[nems_lbhb.baphy_experiment INFO] Cached recording: /auto/data/nems_db/recordings/Teonancatl/TNC017a/TNC017a_f939c2d23a1dde49618dd97a5018f69bdc9fc4c6.tgz\n",
      "[nems_lbhb.baphy_io INFO] Loading /auto/data/daq/Teonancatl/TNC017/TNC017a11_p_CPN.m\n"
     ]
    },
    {
     "name": "stdout",
     "output_type": "stream",
     "text": [
      "0 resp\n"
     ]
    },
    {
     "name": "stderr",
     "output_type": "stream",
     "text": [
      "[nems_lbhb.baphy_io INFO] evp file for licks: /auto/data/daq/Teonancatl/TNC017/TNC017a11_p_CPN.evp\n",
      "[nems_lbhb.baphy_io INFO] Loading /auto/data/daq/Teonancatl/TNC017/TNC017a11_p_CPN.m\n",
      "[nems_lbhb.baphy_io INFO] evp file for licks: /auto/data/daq/Teonancatl/TNC017/TNC017a11_p_CPN.evp\n",
      "[nems_lbhb.baphy_experiment INFO] Remove post-response events\n",
      "[nems_lbhb.baphy_experiment INFO] Removing post-reponse data\n",
      "[nems_lbhb.baphy_io INFO] rounding Trial offset spike times to even number of rasterfs bins\n",
      "[nems_lbhb.baphy_io INFO] 200 trials totaling 2923.24 sec\n",
      "[nems_lbhb.baphy_io INFO] Loading /auto/data/daq/Teonancatl/TNC017/TNC017a11_p_CPN.m\n",
      "[nems_lbhb.baphy_io INFO] evp file for licks: /auto/data/daq/Teonancatl/TNC017/TNC017a11_p_CPN.evp\n",
      "[nems_lbhb.baphy_experiment INFO] Creating trial epochs\n",
      "[nems_lbhb.baphy_experiment INFO] Creating stim epochs\n",
      "[nems_lbhb.baphy_experiment INFO] Creating Light epochs\n",
      "[nems_lbhb.baphy_io INFO] rounding Trial offset spike times to even number of rasterfs bins\n",
      "[nems_lbhb.baphy_io INFO] 200 trials totaling 2923.24 sec\n",
      "[nems_lbhb.baphy_experiment INFO] Caching recording: /auto/data/nems_db/recordings/Teonancatl/TNC017a/TNC017a_f939c2d23a1dde49618dd97a5018f69bdc9fc4c6.tgz\n",
      "[nems.recording INFO] Saving recording to : /auto/data/nems_db/recordings/Teonancatl/TNC017a/TNC017a_f939c2d23a1dde49618dd97a5018f69bdc9fc4c6.tgz\n",
      "[nems_lbhb.baphy_experiment INFO] Cached recording: /auto/data/nems_db/recordings/Teonancatl/TNC017a/TNC017a_ce6f488878e0246a07d7b8ca826f49389e9aa67f.tgz\n",
      "[nems_lbhb.baphy_io INFO] Loading /auto/data/daq/Teonancatl/TNC017/TNC017a11_p_CPN.m\n"
     ]
    },
    {
     "name": "stdout",
     "output_type": "stream",
     "text": [
      "0 resp\n"
     ]
    },
    {
     "name": "stderr",
     "output_type": "stream",
     "text": [
      "[nems_lbhb.baphy_io INFO] evp file for licks: /auto/data/daq/Teonancatl/TNC017/TNC017a11_p_CPN.evp\n",
      "[nems_lbhb.baphy_io INFO] Loading /auto/data/daq/Teonancatl/TNC017/TNC017a11_p_CPN.m\n",
      "[nems_lbhb.baphy_io INFO] evp file for licks: /auto/data/daq/Teonancatl/TNC017/TNC017a11_p_CPN.evp\n",
      "[nems_lbhb.baphy_experiment INFO] Remove post-response events\n",
      "[nems_lbhb.baphy_experiment INFO] Removing post-reponse data\n",
      "[nems_lbhb.baphy_io INFO] rounding Trial offset spike times to even number of rasterfs bins\n",
      "[nems_lbhb.baphy_io INFO] 200 trials totaling 2923.24 sec\n",
      "[nems_lbhb.baphy_io INFO] Loading /auto/data/daq/Teonancatl/TNC017/TNC017a11_p_CPN.m\n",
      "[nems_lbhb.baphy_io INFO] evp file for licks: /auto/data/daq/Teonancatl/TNC017/TNC017a11_p_CPN.evp\n",
      "[nems_lbhb.baphy_experiment INFO] Creating trial epochs\n",
      "[nems_lbhb.baphy_experiment INFO] Creating stim epochs\n",
      "[nems_lbhb.baphy_experiment INFO] Creating Light epochs\n",
      "[nems_lbhb.baphy_io INFO] rounding Trial offset spike times to even number of rasterfs bins\n",
      "[nems_lbhb.baphy_io INFO] 200 trials totaling 2923.24 sec\n",
      "[nems_lbhb.baphy_experiment INFO] Caching recording: /auto/data/nems_db/recordings/Teonancatl/TNC017a/TNC017a_ce6f488878e0246a07d7b8ca826f49389e9aa67f.tgz\n",
      "[nems.recording INFO] Saving recording to : /auto/data/nems_db/recordings/Teonancatl/TNC017a/TNC017a_ce6f488878e0246a07d7b8ca826f49389e9aa67f.tgz\n",
      "[nems_lbhb.baphy_experiment INFO] Cached recording: /auto/data/nems_db/recordings/Teonancatl/TNC017a/TNC017a_3b60fe995e32f4e66d9e5cc3406442f24639adc8.tgz\n",
      "[nems_lbhb.baphy_io INFO] Loading /auto/data/daq/Teonancatl/TNC017/TNC017a11_p_CPN.m\n"
     ]
    },
    {
     "name": "stdout",
     "output_type": "stream",
     "text": [
      "0 resp\n"
     ]
    },
    {
     "name": "stderr",
     "output_type": "stream",
     "text": [
      "[nems_lbhb.baphy_io INFO] evp file for licks: /auto/data/daq/Teonancatl/TNC017/TNC017a11_p_CPN.evp\n",
      "[nems_lbhb.baphy_io INFO] Loading /auto/data/daq/Teonancatl/TNC017/TNC017a11_p_CPN.m\n",
      "[nems_lbhb.baphy_io INFO] evp file for licks: /auto/data/daq/Teonancatl/TNC017/TNC017a11_p_CPN.evp\n",
      "[nems_lbhb.baphy_experiment INFO] Remove post-response events\n",
      "[nems_lbhb.baphy_experiment INFO] Removing post-reponse data\n",
      "[nems_lbhb.baphy_io INFO] rounding Trial offset spike times to even number of rasterfs bins\n",
      "[nems_lbhb.baphy_io INFO] 200 trials totaling 2923.24 sec\n",
      "[nems_lbhb.baphy_io INFO] Loading /auto/data/daq/Teonancatl/TNC017/TNC017a11_p_CPN.m\n",
      "[nems_lbhb.baphy_io INFO] evp file for licks: /auto/data/daq/Teonancatl/TNC017/TNC017a11_p_CPN.evp\n",
      "[nems_lbhb.baphy_experiment INFO] Creating trial epochs\n",
      "[nems_lbhb.baphy_experiment INFO] Creating stim epochs\n",
      "[nems_lbhb.baphy_experiment INFO] Creating Light epochs\n",
      "[nems_lbhb.baphy_io INFO] rounding Trial offset spike times to even number of rasterfs bins\n",
      "[nems_lbhb.baphy_io INFO] 200 trials totaling 2923.24 sec\n",
      "[nems_lbhb.baphy_experiment INFO] Caching recording: /auto/data/nems_db/recordings/Teonancatl/TNC017a/TNC017a_3b60fe995e32f4e66d9e5cc3406442f24639adc8.tgz\n",
      "[nems.recording INFO] Saving recording to : /auto/data/nems_db/recordings/Teonancatl/TNC017a/TNC017a_3b60fe995e32f4e66d9e5cc3406442f24639adc8.tgz\n",
      "[nems_lbhb.baphy_experiment INFO] Cached recording: /auto/data/nems_db/recordings/Teonancatl/TNC017a/TNC017a_4bd87ee568a65eed8191256eb2b6e87e830e41c2.tgz\n",
      "[nems_lbhb.baphy_io INFO] Loading /auto/data/daq/Teonancatl/TNC017/TNC017a11_p_CPN.m\n"
     ]
    },
    {
     "name": "stdout",
     "output_type": "stream",
     "text": [
      "0 resp\n"
     ]
    },
    {
     "name": "stderr",
     "output_type": "stream",
     "text": [
      "[nems_lbhb.baphy_io INFO] evp file for licks: /auto/data/daq/Teonancatl/TNC017/TNC017a11_p_CPN.evp\n",
      "[nems_lbhb.baphy_io INFO] Loading /auto/data/daq/Teonancatl/TNC017/TNC017a11_p_CPN.m\n",
      "[nems_lbhb.baphy_io INFO] evp file for licks: /auto/data/daq/Teonancatl/TNC017/TNC017a11_p_CPN.evp\n",
      "[nems_lbhb.baphy_experiment INFO] Remove post-response events\n",
      "[nems_lbhb.baphy_experiment INFO] Removing post-reponse data\n",
      "[nems_lbhb.baphy_io INFO] rounding Trial offset spike times to even number of rasterfs bins\n",
      "[nems_lbhb.baphy_io INFO] 200 trials totaling 2923.24 sec\n",
      "[nems_lbhb.baphy_io INFO] Loading /auto/data/daq/Teonancatl/TNC017/TNC017a11_p_CPN.m\n",
      "[nems_lbhb.baphy_io INFO] evp file for licks: /auto/data/daq/Teonancatl/TNC017/TNC017a11_p_CPN.evp\n",
      "[nems_lbhb.baphy_experiment INFO] Creating trial epochs\n",
      "[nems_lbhb.baphy_experiment INFO] Creating stim epochs\n",
      "[nems_lbhb.baphy_experiment INFO] Creating Light epochs\n",
      "[nems_lbhb.baphy_io INFO] rounding Trial offset spike times to even number of rasterfs bins\n",
      "[nems_lbhb.baphy_io INFO] 200 trials totaling 2923.24 sec\n",
      "[nems_lbhb.baphy_experiment INFO] Caching recording: /auto/data/nems_db/recordings/Teonancatl/TNC017a/TNC017a_4bd87ee568a65eed8191256eb2b6e87e830e41c2.tgz\n",
      "[nems.recording INFO] Saving recording to : /auto/data/nems_db/recordings/Teonancatl/TNC017a/TNC017a_4bd87ee568a65eed8191256eb2b6e87e830e41c2.tgz\n",
      "[nems_lbhb.baphy_experiment INFO] Cached recording: /auto/data/nems_db/recordings/Teonancatl/TNC017a/TNC017a_b8d1c87294592b0c1c07211f2dd1477adeea9a6b.tgz\n",
      "[nems_lbhb.baphy_io INFO] Loading /auto/data/daq/Teonancatl/TNC017/TNC017a11_p_CPN.m\n"
     ]
    },
    {
     "name": "stdout",
     "output_type": "stream",
     "text": [
      "0 resp\n"
     ]
    },
    {
     "name": "stderr",
     "output_type": "stream",
     "text": [
      "[nems_lbhb.baphy_io INFO] evp file for licks: /auto/data/daq/Teonancatl/TNC017/TNC017a11_p_CPN.evp\n",
      "[nems_lbhb.baphy_io INFO] Loading /auto/data/daq/Teonancatl/TNC017/TNC017a11_p_CPN.m\n",
      "[nems_lbhb.baphy_io INFO] evp file for licks: /auto/data/daq/Teonancatl/TNC017/TNC017a11_p_CPN.evp\n",
      "[nems_lbhb.baphy_experiment INFO] Remove post-response events\n",
      "[nems_lbhb.baphy_experiment INFO] Removing post-reponse data\n",
      "[nems_lbhb.baphy_io INFO] rounding Trial offset spike times to even number of rasterfs bins\n",
      "[nems_lbhb.baphy_io INFO] 200 trials totaling 2923.24 sec\n",
      "[nems_lbhb.baphy_io INFO] Loading /auto/data/daq/Teonancatl/TNC017/TNC017a11_p_CPN.m\n",
      "[nems_lbhb.baphy_io INFO] evp file for licks: /auto/data/daq/Teonancatl/TNC017/TNC017a11_p_CPN.evp\n",
      "[nems_lbhb.baphy_experiment INFO] Creating trial epochs\n",
      "[nems_lbhb.baphy_experiment INFO] Creating stim epochs\n",
      "[nems_lbhb.baphy_experiment INFO] Creating Light epochs\n",
      "[nems_lbhb.baphy_io INFO] rounding Trial offset spike times to even number of rasterfs bins\n",
      "[nems_lbhb.baphy_io INFO] 200 trials totaling 2923.24 sec\n",
      "[nems_lbhb.baphy_experiment INFO] Caching recording: /auto/data/nems_db/recordings/Teonancatl/TNC017a/TNC017a_b8d1c87294592b0c1c07211f2dd1477adeea9a6b.tgz\n",
      "[nems.recording INFO] Saving recording to : /auto/data/nems_db/recordings/Teonancatl/TNC017a/TNC017a_b8d1c87294592b0c1c07211f2dd1477adeea9a6b.tgz\n",
      "[nems_lbhb.baphy_experiment INFO] Cached recording: /auto/data/nems_db/recordings/Teonancatl/TNC017a/TNC017a_481fd01698378d03a56aa5822a914732cf809b52.tgz\n",
      "[nems_lbhb.baphy_io INFO] Loading /auto/data/daq/Teonancatl/TNC017/TNC017a11_p_CPN.m\n"
     ]
    },
    {
     "name": "stdout",
     "output_type": "stream",
     "text": [
      "0 resp\n"
     ]
    },
    {
     "name": "stderr",
     "output_type": "stream",
     "text": [
      "[nems_lbhb.baphy_io INFO] evp file for licks: /auto/data/daq/Teonancatl/TNC017/TNC017a11_p_CPN.evp\n",
      "[nems_lbhb.baphy_io INFO] Loading /auto/data/daq/Teonancatl/TNC017/TNC017a11_p_CPN.m\n",
      "[nems_lbhb.baphy_io INFO] evp file for licks: /auto/data/daq/Teonancatl/TNC017/TNC017a11_p_CPN.evp\n",
      "[nems_lbhb.baphy_experiment INFO] Remove post-response events\n",
      "[nems_lbhb.baphy_experiment INFO] Removing post-reponse data\n",
      "[nems_lbhb.baphy_io INFO] rounding Trial offset spike times to even number of rasterfs bins\n",
      "[nems_lbhb.baphy_io INFO] 200 trials totaling 2923.24 sec\n",
      "[nems_lbhb.baphy_io INFO] Loading /auto/data/daq/Teonancatl/TNC017/TNC017a11_p_CPN.m\n",
      "[nems_lbhb.baphy_io INFO] evp file for licks: /auto/data/daq/Teonancatl/TNC017/TNC017a11_p_CPN.evp\n",
      "[nems_lbhb.baphy_experiment INFO] Creating trial epochs\n",
      "[nems_lbhb.baphy_experiment INFO] Creating stim epochs\n",
      "[nems_lbhb.baphy_experiment INFO] Creating Light epochs\n",
      "[nems_lbhb.baphy_io INFO] rounding Trial offset spike times to even number of rasterfs bins\n",
      "[nems_lbhb.baphy_io INFO] 200 trials totaling 2923.24 sec\n",
      "[nems_lbhb.baphy_experiment INFO] Caching recording: /auto/data/nems_db/recordings/Teonancatl/TNC017a/TNC017a_481fd01698378d03a56aa5822a914732cf809b52.tgz\n",
      "[nems.recording INFO] Saving recording to : /auto/data/nems_db/recordings/Teonancatl/TNC017a/TNC017a_481fd01698378d03a56aa5822a914732cf809b52.tgz\n",
      "[nems_lbhb.baphy_experiment INFO] Cached recording: /auto/data/nems_db/recordings/Teonancatl/TNC017a/TNC017a_adef3ecf8e5b6f876b4f380d1483f22068ac56c5.tgz\n",
      "[nems_lbhb.baphy_io INFO] Loading /auto/data/daq/Teonancatl/TNC017/TNC017a11_p_CPN.m\n"
     ]
    },
    {
     "name": "stdout",
     "output_type": "stream",
     "text": [
      "0 resp\n"
     ]
    },
    {
     "name": "stderr",
     "output_type": "stream",
     "text": [
      "[nems_lbhb.baphy_io INFO] evp file for licks: /auto/data/daq/Teonancatl/TNC017/TNC017a11_p_CPN.evp\n",
      "[nems_lbhb.baphy_io INFO] Loading /auto/data/daq/Teonancatl/TNC017/TNC017a11_p_CPN.m\n",
      "[nems_lbhb.baphy_io INFO] evp file for licks: /auto/data/daq/Teonancatl/TNC017/TNC017a11_p_CPN.evp\n",
      "[nems_lbhb.baphy_experiment INFO] Remove post-response events\n",
      "[nems_lbhb.baphy_experiment INFO] Removing post-reponse data\n",
      "[nems_lbhb.baphy_io INFO] rounding Trial offset spike times to even number of rasterfs bins\n",
      "[nems_lbhb.baphy_io INFO] 200 trials totaling 2923.24 sec\n",
      "[nems_lbhb.baphy_io INFO] Loading /auto/data/daq/Teonancatl/TNC017/TNC017a11_p_CPN.m\n",
      "[nems_lbhb.baphy_io INFO] evp file for licks: /auto/data/daq/Teonancatl/TNC017/TNC017a11_p_CPN.evp\n",
      "[nems_lbhb.baphy_experiment INFO] Creating trial epochs\n",
      "[nems_lbhb.baphy_experiment INFO] Creating stim epochs\n",
      "[nems_lbhb.baphy_experiment INFO] Creating Light epochs\n",
      "[nems_lbhb.baphy_io INFO] rounding Trial offset spike times to even number of rasterfs bins\n",
      "[nems_lbhb.baphy_io INFO] 200 trials totaling 2923.24 sec\n",
      "[nems_lbhb.baphy_experiment INFO] Caching recording: /auto/data/nems_db/recordings/Teonancatl/TNC017a/TNC017a_adef3ecf8e5b6f876b4f380d1483f22068ac56c5.tgz\n",
      "[nems.recording INFO] Saving recording to : /auto/data/nems_db/recordings/Teonancatl/TNC017a/TNC017a_adef3ecf8e5b6f876b4f380d1483f22068ac56c5.tgz\n",
      "[nems_lbhb.baphy_experiment INFO] Cached recording: /auto/data/nems_db/recordings/Teonancatl/TNC017a/TNC017a_1bda3d8732c441810d4f1bb756d9fcd53fd17723.tgz\n",
      "[nems_lbhb.baphy_io INFO] Loading /auto/data/daq/Teonancatl/TNC017/TNC017a11_p_CPN.m\n"
     ]
    },
    {
     "name": "stdout",
     "output_type": "stream",
     "text": [
      "0 resp\n"
     ]
    },
    {
     "name": "stderr",
     "output_type": "stream",
     "text": [
      "[nems_lbhb.baphy_io INFO] evp file for licks: /auto/data/daq/Teonancatl/TNC017/TNC017a11_p_CPN.evp\n",
      "[nems_lbhb.baphy_io INFO] Loading /auto/data/daq/Teonancatl/TNC017/TNC017a11_p_CPN.m\n",
      "[nems_lbhb.baphy_io INFO] evp file for licks: /auto/data/daq/Teonancatl/TNC017/TNC017a11_p_CPN.evp\n",
      "[nems_lbhb.baphy_experiment INFO] Remove post-response events\n",
      "[nems_lbhb.baphy_experiment INFO] Removing post-reponse data\n",
      "[nems_lbhb.baphy_io INFO] rounding Trial offset spike times to even number of rasterfs bins\n",
      "[nems_lbhb.baphy_io INFO] 200 trials totaling 2923.24 sec\n",
      "[nems_lbhb.baphy_io INFO] Loading /auto/data/daq/Teonancatl/TNC017/TNC017a11_p_CPN.m\n",
      "[nems_lbhb.baphy_io INFO] evp file for licks: /auto/data/daq/Teonancatl/TNC017/TNC017a11_p_CPN.evp\n",
      "[nems_lbhb.baphy_experiment INFO] Creating trial epochs\n",
      "[nems_lbhb.baphy_experiment INFO] Creating stim epochs\n",
      "[nems_lbhb.baphy_experiment INFO] Creating Light epochs\n",
      "[nems_lbhb.baphy_io INFO] rounding Trial offset spike times to even number of rasterfs bins\n",
      "[nems_lbhb.baphy_io INFO] 200 trials totaling 2923.24 sec\n",
      "[nems_lbhb.baphy_experiment INFO] Caching recording: /auto/data/nems_db/recordings/Teonancatl/TNC017a/TNC017a_1bda3d8732c441810d4f1bb756d9fcd53fd17723.tgz\n",
      "[nems.recording INFO] Saving recording to : /auto/data/nems_db/recordings/Teonancatl/TNC017a/TNC017a_1bda3d8732c441810d4f1bb756d9fcd53fd17723.tgz\n",
      "[nems_lbhb.baphy_experiment INFO] Cached recording: /auto/data/nems_db/recordings/Teonancatl/TNC017a/TNC017a_513c9869d508c891b3ad68182a9f0b6813006c77.tgz\n",
      "[nems_lbhb.baphy_io INFO] Loading /auto/data/daq/Teonancatl/TNC017/TNC017a11_p_CPN.m\n"
     ]
    },
    {
     "name": "stdout",
     "output_type": "stream",
     "text": [
      "0 resp\n"
     ]
    },
    {
     "name": "stderr",
     "output_type": "stream",
     "text": [
      "[nems_lbhb.baphy_io INFO] evp file for licks: /auto/data/daq/Teonancatl/TNC017/TNC017a11_p_CPN.evp\n",
      "[nems_lbhb.baphy_io INFO] Loading /auto/data/daq/Teonancatl/TNC017/TNC017a11_p_CPN.m\n",
      "[nems_lbhb.baphy_io INFO] evp file for licks: /auto/data/daq/Teonancatl/TNC017/TNC017a11_p_CPN.evp\n",
      "[nems_lbhb.baphy_experiment INFO] Remove post-response events\n",
      "[nems_lbhb.baphy_experiment INFO] Removing post-reponse data\n",
      "[nems_lbhb.baphy_io INFO] rounding Trial offset spike times to even number of rasterfs bins\n",
      "[nems_lbhb.baphy_io INFO] 200 trials totaling 2923.24 sec\n",
      "[nems_lbhb.baphy_io INFO] Loading /auto/data/daq/Teonancatl/TNC017/TNC017a11_p_CPN.m\n",
      "[nems_lbhb.baphy_io INFO] evp file for licks: /auto/data/daq/Teonancatl/TNC017/TNC017a11_p_CPN.evp\n",
      "[nems_lbhb.baphy_experiment INFO] Creating trial epochs\n",
      "[nems_lbhb.baphy_experiment INFO] Creating stim epochs\n",
      "[nems_lbhb.baphy_experiment INFO] Creating Light epochs\n",
      "[nems_lbhb.baphy_io INFO] rounding Trial offset spike times to even number of rasterfs bins\n",
      "[nems_lbhb.baphy_io INFO] 200 trials totaling 2923.24 sec\n",
      "[nems_lbhb.baphy_experiment INFO] Caching recording: /auto/data/nems_db/recordings/Teonancatl/TNC017a/TNC017a_513c9869d508c891b3ad68182a9f0b6813006c77.tgz\n",
      "[nems.recording INFO] Saving recording to : /auto/data/nems_db/recordings/Teonancatl/TNC017a/TNC017a_513c9869d508c891b3ad68182a9f0b6813006c77.tgz\n",
      "[nems_lbhb.baphy_experiment INFO] Cached recording: /auto/data/nems_db/recordings/Teonancatl/TNC017a/TNC017a_506491ed84acc41cf668662d5bda8afe5872ce80.tgz\n",
      "[nems_lbhb.baphy_io INFO] Loading /auto/data/daq/Teonancatl/TNC017/TNC017a11_p_CPN.m\n"
     ]
    },
    {
     "name": "stdout",
     "output_type": "stream",
     "text": [
      "0 resp\n"
     ]
    },
    {
     "name": "stderr",
     "output_type": "stream",
     "text": [
      "[nems_lbhb.baphy_io INFO] evp file for licks: /auto/data/daq/Teonancatl/TNC017/TNC017a11_p_CPN.evp\n",
      "[nems_lbhb.baphy_io INFO] Loading /auto/data/daq/Teonancatl/TNC017/TNC017a11_p_CPN.m\n",
      "[nems_lbhb.baphy_io INFO] evp file for licks: /auto/data/daq/Teonancatl/TNC017/TNC017a11_p_CPN.evp\n",
      "[nems_lbhb.baphy_experiment INFO] Remove post-response events\n",
      "[nems_lbhb.baphy_experiment INFO] Removing post-reponse data\n",
      "[nems_lbhb.baphy_io INFO] rounding Trial offset spike times to even number of rasterfs bins\n",
      "[nems_lbhb.baphy_io INFO] 200 trials totaling 2923.24 sec\n",
      "[nems_lbhb.baphy_io INFO] Loading /auto/data/daq/Teonancatl/TNC017/TNC017a11_p_CPN.m\n",
      "[nems_lbhb.baphy_io INFO] evp file for licks: /auto/data/daq/Teonancatl/TNC017/TNC017a11_p_CPN.evp\n",
      "[nems_lbhb.baphy_experiment INFO] Creating trial epochs\n",
      "[nems_lbhb.baphy_experiment INFO] Creating stim epochs\n",
      "[nems_lbhb.baphy_experiment INFO] Creating Light epochs\n",
      "[nems_lbhb.baphy_io INFO] rounding Trial offset spike times to even number of rasterfs bins\n",
      "[nems_lbhb.baphy_io INFO] 200 trials totaling 2923.24 sec\n",
      "[nems_lbhb.baphy_experiment INFO] Caching recording: /auto/data/nems_db/recordings/Teonancatl/TNC017a/TNC017a_506491ed84acc41cf668662d5bda8afe5872ce80.tgz\n",
      "[nems.recording INFO] Saving recording to : /auto/data/nems_db/recordings/Teonancatl/TNC017a/TNC017a_506491ed84acc41cf668662d5bda8afe5872ce80.tgz\n",
      "[nems_lbhb.baphy_experiment INFO] Cached recording: /auto/data/nems_db/recordings/Teonancatl/TNC017a/TNC017a_da11e28806f258e0808701b3310b7a4b74f183c7.tgz\n",
      "[nems_lbhb.baphy_io INFO] Loading /auto/data/daq/Teonancatl/TNC017/TNC017a11_p_CPN.m\n"
     ]
    },
    {
     "name": "stdout",
     "output_type": "stream",
     "text": [
      "0 resp\n"
     ]
    },
    {
     "name": "stderr",
     "output_type": "stream",
     "text": [
      "[nems_lbhb.baphy_io INFO] evp file for licks: /auto/data/daq/Teonancatl/TNC017/TNC017a11_p_CPN.evp\n",
      "[nems_lbhb.baphy_io INFO] Loading /auto/data/daq/Teonancatl/TNC017/TNC017a11_p_CPN.m\n",
      "[nems_lbhb.baphy_io INFO] evp file for licks: /auto/data/daq/Teonancatl/TNC017/TNC017a11_p_CPN.evp\n",
      "[nems_lbhb.baphy_experiment INFO] Remove post-response events\n",
      "[nems_lbhb.baphy_experiment INFO] Removing post-reponse data\n",
      "[nems_lbhb.baphy_io INFO] rounding Trial offset spike times to even number of rasterfs bins\n",
      "[nems_lbhb.baphy_io INFO] 200 trials totaling 2923.24 sec\n",
      "[nems_lbhb.baphy_io INFO] Loading /auto/data/daq/Teonancatl/TNC017/TNC017a11_p_CPN.m\n",
      "[nems_lbhb.baphy_io INFO] evp file for licks: /auto/data/daq/Teonancatl/TNC017/TNC017a11_p_CPN.evp\n",
      "[nems_lbhb.baphy_experiment INFO] Creating trial epochs\n",
      "[nems_lbhb.baphy_experiment INFO] Creating stim epochs\n",
      "[nems_lbhb.baphy_experiment INFO] Creating Light epochs\n",
      "[nems_lbhb.baphy_io INFO] rounding Trial offset spike times to even number of rasterfs bins\n",
      "[nems_lbhb.baphy_io INFO] 200 trials totaling 2923.24 sec\n",
      "[nems_lbhb.baphy_experiment INFO] Caching recording: /auto/data/nems_db/recordings/Teonancatl/TNC017a/TNC017a_da11e28806f258e0808701b3310b7a4b74f183c7.tgz\n",
      "[nems.recording INFO] Saving recording to : /auto/data/nems_db/recordings/Teonancatl/TNC017a/TNC017a_da11e28806f258e0808701b3310b7a4b74f183c7.tgz\n",
      "[nems_lbhb.baphy_experiment INFO] Cached recording: /auto/data/nems_db/recordings/Teonancatl/TNC017a/TNC017a_bc2df11ed7c1b03c4801c5d533de1a1a27e84d26.tgz\n",
      "[nems_lbhb.baphy_io INFO] Loading /auto/data/daq/Teonancatl/TNC017/TNC017a11_p_CPN.m\n"
     ]
    },
    {
     "name": "stdout",
     "output_type": "stream",
     "text": [
      "0 resp\n"
     ]
    },
    {
     "name": "stderr",
     "output_type": "stream",
     "text": [
      "[nems_lbhb.baphy_io INFO] evp file for licks: /auto/data/daq/Teonancatl/TNC017/TNC017a11_p_CPN.evp\n",
      "[nems_lbhb.baphy_io INFO] Loading /auto/data/daq/Teonancatl/TNC017/TNC017a11_p_CPN.m\n",
      "[nems_lbhb.baphy_io INFO] evp file for licks: /auto/data/daq/Teonancatl/TNC017/TNC017a11_p_CPN.evp\n",
      "[nems_lbhb.baphy_experiment INFO] Remove post-response events\n",
      "[nems_lbhb.baphy_experiment INFO] Removing post-reponse data\n",
      "[nems_lbhb.baphy_io INFO] rounding Trial offset spike times to even number of rasterfs bins\n",
      "[nems_lbhb.baphy_io INFO] 200 trials totaling 2923.24 sec\n",
      "[nems_lbhb.baphy_io INFO] Loading /auto/data/daq/Teonancatl/TNC017/TNC017a11_p_CPN.m\n",
      "[nems_lbhb.baphy_io INFO] evp file for licks: /auto/data/daq/Teonancatl/TNC017/TNC017a11_p_CPN.evp\n",
      "[nems_lbhb.baphy_experiment INFO] Creating trial epochs\n",
      "[nems_lbhb.baphy_experiment INFO] Creating stim epochs\n",
      "[nems_lbhb.baphy_experiment INFO] Creating Light epochs\n",
      "[nems_lbhb.baphy_io INFO] rounding Trial offset spike times to even number of rasterfs bins\n",
      "[nems_lbhb.baphy_io INFO] 200 trials totaling 2923.24 sec\n",
      "[nems_lbhb.baphy_experiment INFO] Caching recording: /auto/data/nems_db/recordings/Teonancatl/TNC017a/TNC017a_bc2df11ed7c1b03c4801c5d533de1a1a27e84d26.tgz\n",
      "[nems.recording INFO] Saving recording to : /auto/data/nems_db/recordings/Teonancatl/TNC017a/TNC017a_bc2df11ed7c1b03c4801c5d533de1a1a27e84d26.tgz\n",
      "[nems_lbhb.baphy_experiment INFO] Cached recording: /auto/data/nems_db/recordings/Teonancatl/TNC017a/TNC017a_81c25770aed61809468b05bf415e2018b7589ce1.tgz\n",
      "[nems_lbhb.baphy_io INFO] Loading /auto/data/daq/Teonancatl/TNC017/TNC017a11_p_CPN.m\n"
     ]
    },
    {
     "name": "stdout",
     "output_type": "stream",
     "text": [
      "0 resp\n"
     ]
    },
    {
     "name": "stderr",
     "output_type": "stream",
     "text": [
      "[nems_lbhb.baphy_io INFO] evp file for licks: /auto/data/daq/Teonancatl/TNC017/TNC017a11_p_CPN.evp\n",
      "[nems_lbhb.baphy_io INFO] Loading /auto/data/daq/Teonancatl/TNC017/TNC017a11_p_CPN.m\n",
      "[nems_lbhb.baphy_io INFO] evp file for licks: /auto/data/daq/Teonancatl/TNC017/TNC017a11_p_CPN.evp\n",
      "[nems_lbhb.baphy_experiment INFO] Remove post-response events\n",
      "[nems_lbhb.baphy_experiment INFO] Removing post-reponse data\n",
      "[nems_lbhb.baphy_io INFO] rounding Trial offset spike times to even number of rasterfs bins\n",
      "[nems_lbhb.baphy_io INFO] 200 trials totaling 2923.24 sec\n",
      "[nems_lbhb.baphy_io INFO] Loading /auto/data/daq/Teonancatl/TNC017/TNC017a11_p_CPN.m\n",
      "[nems_lbhb.baphy_io INFO] evp file for licks: /auto/data/daq/Teonancatl/TNC017/TNC017a11_p_CPN.evp\n",
      "[nems_lbhb.baphy_experiment INFO] Creating trial epochs\n",
      "[nems_lbhb.baphy_experiment INFO] Creating stim epochs\n",
      "[nems_lbhb.baphy_experiment INFO] Creating Light epochs\n",
      "[nems_lbhb.baphy_io INFO] rounding Trial offset spike times to even number of rasterfs bins\n",
      "[nems_lbhb.baphy_io INFO] 200 trials totaling 2923.24 sec\n",
      "[nems_lbhb.baphy_experiment INFO] Caching recording: /auto/data/nems_db/recordings/Teonancatl/TNC017a/TNC017a_81c25770aed61809468b05bf415e2018b7589ce1.tgz\n",
      "[nems.recording INFO] Saving recording to : /auto/data/nems_db/recordings/Teonancatl/TNC017a/TNC017a_81c25770aed61809468b05bf415e2018b7589ce1.tgz\n",
      "[nems_lbhb.baphy_experiment INFO] Cached recording: /auto/data/nems_db/recordings/Teonancatl/TNC017a/TNC017a_344a93694704ffc55c5e9116c19b858a492beb1b.tgz\n",
      "[nems_lbhb.baphy_io INFO] Loading /auto/data/daq/Teonancatl/TNC017/TNC017a11_p_CPN.m\n"
     ]
    },
    {
     "name": "stdout",
     "output_type": "stream",
     "text": [
      "0 resp\n"
     ]
    },
    {
     "name": "stderr",
     "output_type": "stream",
     "text": [
      "[nems_lbhb.baphy_io INFO] evp file for licks: /auto/data/daq/Teonancatl/TNC017/TNC017a11_p_CPN.evp\n",
      "[nems_lbhb.baphy_io INFO] Loading /auto/data/daq/Teonancatl/TNC017/TNC017a11_p_CPN.m\n",
      "[nems_lbhb.baphy_io INFO] evp file for licks: /auto/data/daq/Teonancatl/TNC017/TNC017a11_p_CPN.evp\n",
      "[nems_lbhb.baphy_experiment INFO] Remove post-response events\n",
      "[nems_lbhb.baphy_experiment INFO] Removing post-reponse data\n",
      "[nems_lbhb.baphy_io INFO] rounding Trial offset spike times to even number of rasterfs bins\n",
      "[nems_lbhb.baphy_io INFO] 200 trials totaling 2923.24 sec\n",
      "[nems_lbhb.baphy_io INFO] Loading /auto/data/daq/Teonancatl/TNC017/TNC017a11_p_CPN.m\n",
      "[nems_lbhb.baphy_io INFO] evp file for licks: /auto/data/daq/Teonancatl/TNC017/TNC017a11_p_CPN.evp\n",
      "[nems_lbhb.baphy_experiment INFO] Creating trial epochs\n",
      "[nems_lbhb.baphy_experiment INFO] Creating stim epochs\n",
      "[nems_lbhb.baphy_experiment INFO] Creating Light epochs\n",
      "[nems_lbhb.baphy_io INFO] rounding Trial offset spike times to even number of rasterfs bins\n",
      "[nems_lbhb.baphy_io INFO] 200 trials totaling 2923.24 sec\n",
      "[nems_lbhb.baphy_experiment INFO] Caching recording: /auto/data/nems_db/recordings/Teonancatl/TNC017a/TNC017a_344a93694704ffc55c5e9116c19b858a492beb1b.tgz\n",
      "[nems.recording INFO] Saving recording to : /auto/data/nems_db/recordings/Teonancatl/TNC017a/TNC017a_344a93694704ffc55c5e9116c19b858a492beb1b.tgz\n",
      "[nems_lbhb.baphy_experiment INFO] Cached recording: /auto/data/nems_db/recordings/Teonancatl/TNC017a/TNC017a_ffb2738d00517704ef6d3111ef05ab26ca411f9c.tgz\n",
      "[nems_lbhb.baphy_io INFO] Loading /auto/data/daq/Teonancatl/TNC017/TNC017a11_p_CPN.m\n"
     ]
    },
    {
     "name": "stdout",
     "output_type": "stream",
     "text": [
      "0 resp\n"
     ]
    },
    {
     "name": "stderr",
     "output_type": "stream",
     "text": [
      "[nems_lbhb.baphy_io INFO] evp file for licks: /auto/data/daq/Teonancatl/TNC017/TNC017a11_p_CPN.evp\n",
      "[nems_lbhb.baphy_io INFO] Loading /auto/data/daq/Teonancatl/TNC017/TNC017a11_p_CPN.m\n",
      "[nems_lbhb.baphy_io INFO] evp file for licks: /auto/data/daq/Teonancatl/TNC017/TNC017a11_p_CPN.evp\n",
      "[nems_lbhb.baphy_experiment INFO] Remove post-response events\n",
      "[nems_lbhb.baphy_experiment INFO] Removing post-reponse data\n",
      "[nems_lbhb.baphy_io INFO] rounding Trial offset spike times to even number of rasterfs bins\n",
      "[nems_lbhb.baphy_io INFO] 200 trials totaling 2923.24 sec\n",
      "[nems_lbhb.baphy_io INFO] Loading /auto/data/daq/Teonancatl/TNC017/TNC017a11_p_CPN.m\n",
      "[nems_lbhb.baphy_io INFO] evp file for licks: /auto/data/daq/Teonancatl/TNC017/TNC017a11_p_CPN.evp\n",
      "[nems_lbhb.baphy_experiment INFO] Creating trial epochs\n",
      "[nems_lbhb.baphy_experiment INFO] Creating stim epochs\n",
      "[nems_lbhb.baphy_experiment INFO] Creating Light epochs\n",
      "[nems_lbhb.baphy_io INFO] rounding Trial offset spike times to even number of rasterfs bins\n",
      "[nems_lbhb.baphy_io INFO] 200 trials totaling 2923.24 sec\n",
      "[nems_lbhb.baphy_experiment INFO] Caching recording: /auto/data/nems_db/recordings/Teonancatl/TNC017a/TNC017a_ffb2738d00517704ef6d3111ef05ab26ca411f9c.tgz\n",
      "[nems.recording INFO] Saving recording to : /auto/data/nems_db/recordings/Teonancatl/TNC017a/TNC017a_ffb2738d00517704ef6d3111ef05ab26ca411f9c.tgz\n",
      "[nems_lbhb.baphy_experiment INFO] Cached recording: /auto/data/nems_db/recordings/Teonancatl/TNC017a/TNC017a_db13c3ee67a60be21f1d6963cfc1a4b0da971915.tgz\n",
      "[nems_lbhb.baphy_io INFO] Loading /auto/data/daq/Teonancatl/TNC017/TNC017a11_p_CPN.m\n"
     ]
    },
    {
     "name": "stdout",
     "output_type": "stream",
     "text": [
      "0 resp\n"
     ]
    },
    {
     "name": "stderr",
     "output_type": "stream",
     "text": [
      "[nems_lbhb.baphy_io INFO] evp file for licks: /auto/data/daq/Teonancatl/TNC017/TNC017a11_p_CPN.evp\n",
      "[nems_lbhb.baphy_io INFO] Loading /auto/data/daq/Teonancatl/TNC017/TNC017a11_p_CPN.m\n",
      "[nems_lbhb.baphy_io INFO] evp file for licks: /auto/data/daq/Teonancatl/TNC017/TNC017a11_p_CPN.evp\n",
      "[nems_lbhb.baphy_experiment INFO] Remove post-response events\n",
      "[nems_lbhb.baphy_experiment INFO] Removing post-reponse data\n",
      "[nems_lbhb.baphy_io INFO] rounding Trial offset spike times to even number of rasterfs bins\n",
      "[nems_lbhb.baphy_io INFO] 200 trials totaling 2923.24 sec\n",
      "[nems_lbhb.baphy_io INFO] Loading /auto/data/daq/Teonancatl/TNC017/TNC017a11_p_CPN.m\n",
      "[nems_lbhb.baphy_io INFO] evp file for licks: /auto/data/daq/Teonancatl/TNC017/TNC017a11_p_CPN.evp\n",
      "[nems_lbhb.baphy_experiment INFO] Creating trial epochs\n",
      "[nems_lbhb.baphy_experiment INFO] Creating stim epochs\n",
      "[nems_lbhb.baphy_experiment INFO] Creating Light epochs\n",
      "[nems_lbhb.baphy_io INFO] rounding Trial offset spike times to even number of rasterfs bins\n",
      "[nems_lbhb.baphy_io INFO] 200 trials totaling 2923.24 sec\n",
      "[nems_lbhb.baphy_experiment INFO] Caching recording: /auto/data/nems_db/recordings/Teonancatl/TNC017a/TNC017a_db13c3ee67a60be21f1d6963cfc1a4b0da971915.tgz\n",
      "[nems.recording INFO] Saving recording to : /auto/data/nems_db/recordings/Teonancatl/TNC017a/TNC017a_db13c3ee67a60be21f1d6963cfc1a4b0da971915.tgz\n",
      "[nems_lbhb.baphy_experiment INFO] Cached recording: /auto/data/nems_db/recordings/Teonancatl/TNC017a/TNC017a_a77397bd01f0c91c126bdff66b8131432d55f01a.tgz\n",
      "[nems_lbhb.baphy_io INFO] Loading /auto/data/daq/Teonancatl/TNC017/TNC017a11_p_CPN.m\n"
     ]
    },
    {
     "name": "stdout",
     "output_type": "stream",
     "text": [
      "0 resp\n"
     ]
    },
    {
     "name": "stderr",
     "output_type": "stream",
     "text": [
      "[nems_lbhb.baphy_io INFO] evp file for licks: /auto/data/daq/Teonancatl/TNC017/TNC017a11_p_CPN.evp\n",
      "[nems_lbhb.baphy_io INFO] Loading /auto/data/daq/Teonancatl/TNC017/TNC017a11_p_CPN.m\n",
      "[nems_lbhb.baphy_io INFO] evp file for licks: /auto/data/daq/Teonancatl/TNC017/TNC017a11_p_CPN.evp\n",
      "[nems_lbhb.baphy_experiment INFO] Remove post-response events\n",
      "[nems_lbhb.baphy_experiment INFO] Removing post-reponse data\n",
      "[nems_lbhb.baphy_io INFO] rounding Trial offset spike times to even number of rasterfs bins\n",
      "[nems_lbhb.baphy_io INFO] 200 trials totaling 2923.24 sec\n",
      "[nems_lbhb.baphy_io INFO] Loading /auto/data/daq/Teonancatl/TNC017/TNC017a11_p_CPN.m\n",
      "[nems_lbhb.baphy_io INFO] evp file for licks: /auto/data/daq/Teonancatl/TNC017/TNC017a11_p_CPN.evp\n",
      "[nems_lbhb.baphy_experiment INFO] Creating trial epochs\n",
      "[nems_lbhb.baphy_experiment INFO] Creating stim epochs\n",
      "[nems_lbhb.baphy_experiment INFO] Creating Light epochs\n",
      "[nems_lbhb.baphy_io INFO] rounding Trial offset spike times to even number of rasterfs bins\n",
      "[nems_lbhb.baphy_io INFO] 200 trials totaling 2923.24 sec\n",
      "[nems_lbhb.baphy_experiment INFO] Caching recording: /auto/data/nems_db/recordings/Teonancatl/TNC017a/TNC017a_a77397bd01f0c91c126bdff66b8131432d55f01a.tgz\n",
      "[nems.recording INFO] Saving recording to : /auto/data/nems_db/recordings/Teonancatl/TNC017a/TNC017a_a77397bd01f0c91c126bdff66b8131432d55f01a.tgz\n",
      "[nems_lbhb.baphy_experiment INFO] Cached recording: /auto/data/nems_db/recordings/Teonancatl/TNC017a/TNC017a_3c9e6caa2db62e9387655a331bb5679988426c46.tgz\n",
      "[nems_lbhb.baphy_io INFO] Loading /auto/data/daq/Teonancatl/TNC017/TNC017a11_p_CPN.m\n"
     ]
    },
    {
     "name": "stdout",
     "output_type": "stream",
     "text": [
      "0 resp\n"
     ]
    },
    {
     "name": "stderr",
     "output_type": "stream",
     "text": [
      "[nems_lbhb.baphy_io INFO] evp file for licks: /auto/data/daq/Teonancatl/TNC017/TNC017a11_p_CPN.evp\n",
      "[nems_lbhb.baphy_io INFO] Loading /auto/data/daq/Teonancatl/TNC017/TNC017a11_p_CPN.m\n",
      "[nems_lbhb.baphy_io INFO] evp file for licks: /auto/data/daq/Teonancatl/TNC017/TNC017a11_p_CPN.evp\n",
      "[nems_lbhb.baphy_experiment INFO] Remove post-response events\n",
      "[nems_lbhb.baphy_experiment INFO] Removing post-reponse data\n",
      "[nems_lbhb.baphy_io INFO] rounding Trial offset spike times to even number of rasterfs bins\n",
      "[nems_lbhb.baphy_io INFO] 200 trials totaling 2923.24 sec\n",
      "[nems_lbhb.baphy_io INFO] Loading /auto/data/daq/Teonancatl/TNC017/TNC017a11_p_CPN.m\n",
      "[nems_lbhb.baphy_io INFO] evp file for licks: /auto/data/daq/Teonancatl/TNC017/TNC017a11_p_CPN.evp\n",
      "[nems_lbhb.baphy_experiment INFO] Creating trial epochs\n",
      "[nems_lbhb.baphy_experiment INFO] Creating stim epochs\n",
      "[nems_lbhb.baphy_experiment INFO] Creating Light epochs\n",
      "[nems_lbhb.baphy_io INFO] rounding Trial offset spike times to even number of rasterfs bins\n",
      "[nems_lbhb.baphy_io INFO] 200 trials totaling 2923.24 sec\n",
      "[nems_lbhb.baphy_experiment INFO] Caching recording: /auto/data/nems_db/recordings/Teonancatl/TNC017a/TNC017a_3c9e6caa2db62e9387655a331bb5679988426c46.tgz\n",
      "[nems.recording INFO] Saving recording to : /auto/data/nems_db/recordings/Teonancatl/TNC017a/TNC017a_3c9e6caa2db62e9387655a331bb5679988426c46.tgz\n",
      "[nems_lbhb.baphy_experiment INFO] Cached recording: /auto/data/nems_db/recordings/Teonancatl/TNC017a/TNC017a_948c3a49ef981269538171d5a5fc166bf899d6a4.tgz\n",
      "[nems_lbhb.baphy_io INFO] Loading /auto/data/daq/Teonancatl/TNC017/TNC017a11_p_CPN.m\n"
     ]
    },
    {
     "name": "stdout",
     "output_type": "stream",
     "text": [
      "0 resp\n"
     ]
    },
    {
     "name": "stderr",
     "output_type": "stream",
     "text": [
      "[nems_lbhb.baphy_io INFO] evp file for licks: /auto/data/daq/Teonancatl/TNC017/TNC017a11_p_CPN.evp\n",
      "[nems_lbhb.baphy_io INFO] Loading /auto/data/daq/Teonancatl/TNC017/TNC017a11_p_CPN.m\n",
      "[nems_lbhb.baphy_io INFO] evp file for licks: /auto/data/daq/Teonancatl/TNC017/TNC017a11_p_CPN.evp\n",
      "[nems_lbhb.baphy_experiment INFO] Remove post-response events\n",
      "[nems_lbhb.baphy_experiment INFO] Removing post-reponse data\n",
      "[nems_lbhb.baphy_io INFO] rounding Trial offset spike times to even number of rasterfs bins\n",
      "[nems_lbhb.baphy_io INFO] 200 trials totaling 2923.24 sec\n",
      "[nems_lbhb.baphy_io INFO] Loading /auto/data/daq/Teonancatl/TNC017/TNC017a11_p_CPN.m\n",
      "[nems_lbhb.baphy_io INFO] evp file for licks: /auto/data/daq/Teonancatl/TNC017/TNC017a11_p_CPN.evp\n",
      "[nems_lbhb.baphy_experiment INFO] Creating trial epochs\n",
      "[nems_lbhb.baphy_experiment INFO] Creating stim epochs\n",
      "[nems_lbhb.baphy_experiment INFO] Creating Light epochs\n",
      "[nems_lbhb.baphy_io INFO] rounding Trial offset spike times to even number of rasterfs bins\n",
      "[nems_lbhb.baphy_io INFO] 200 trials totaling 2923.24 sec\n",
      "[nems_lbhb.baphy_experiment INFO] Caching recording: /auto/data/nems_db/recordings/Teonancatl/TNC017a/TNC017a_948c3a49ef981269538171d5a5fc166bf899d6a4.tgz\n",
      "[nems.recording INFO] Saving recording to : /auto/data/nems_db/recordings/Teonancatl/TNC017a/TNC017a_948c3a49ef981269538171d5a5fc166bf899d6a4.tgz\n",
      "[nems_lbhb.baphy_experiment INFO] Cached recording: /auto/data/nems_db/recordings/Teonancatl/TNC017a/TNC017a_30a89f99651923f8174ffb0769b0c637ebae7f1a.tgz\n",
      "[nems_lbhb.baphy_io INFO] Loading /auto/data/daq/Teonancatl/TNC017/TNC017a11_p_CPN.m\n"
     ]
    },
    {
     "name": "stdout",
     "output_type": "stream",
     "text": [
      "0 resp\n"
     ]
    },
    {
     "name": "stderr",
     "output_type": "stream",
     "text": [
      "[nems_lbhb.baphy_io INFO] evp file for licks: /auto/data/daq/Teonancatl/TNC017/TNC017a11_p_CPN.evp\n",
      "[nems_lbhb.baphy_io INFO] Loading /auto/data/daq/Teonancatl/TNC017/TNC017a11_p_CPN.m\n",
      "[nems_lbhb.baphy_io INFO] evp file for licks: /auto/data/daq/Teonancatl/TNC017/TNC017a11_p_CPN.evp\n",
      "[nems_lbhb.baphy_experiment INFO] Remove post-response events\n",
      "[nems_lbhb.baphy_experiment INFO] Removing post-reponse data\n",
      "[nems_lbhb.baphy_io INFO] rounding Trial offset spike times to even number of rasterfs bins\n",
      "[nems_lbhb.baphy_io INFO] 200 trials totaling 2923.24 sec\n",
      "[nems_lbhb.baphy_io INFO] Loading /auto/data/daq/Teonancatl/TNC017/TNC017a11_p_CPN.m\n",
      "[nems_lbhb.baphy_io INFO] evp file for licks: /auto/data/daq/Teonancatl/TNC017/TNC017a11_p_CPN.evp\n",
      "[nems_lbhb.baphy_experiment INFO] Creating trial epochs\n",
      "[nems_lbhb.baphy_experiment INFO] Creating stim epochs\n",
      "[nems_lbhb.baphy_experiment INFO] Creating Light epochs\n",
      "[nems_lbhb.baphy_io INFO] rounding Trial offset spike times to even number of rasterfs bins\n",
      "[nems_lbhb.baphy_io INFO] 200 trials totaling 2923.24 sec\n",
      "[nems_lbhb.baphy_experiment INFO] Caching recording: /auto/data/nems_db/recordings/Teonancatl/TNC017a/TNC017a_30a89f99651923f8174ffb0769b0c637ebae7f1a.tgz\n",
      "[nems.recording INFO] Saving recording to : /auto/data/nems_db/recordings/Teonancatl/TNC017a/TNC017a_30a89f99651923f8174ffb0769b0c637ebae7f1a.tgz\n"
     ]
    },
    {
     "name": "stdout",
     "output_type": "stream",
     "text": [
      "0 resp\n"
     ]
    },
    {
     "name": "stderr",
     "output_type": "stream",
     "text": [
      "[nems_lbhb.baphy_experiment INFO] Cached recording: /auto/data/nems_db/recordings/Teonancatl/TNC017a/TNC017a_552a2dbe0d22ce3884fb1085671269c1e60272e5.tgz\n",
      "[nems_lbhb.baphy_io INFO] Loading /auto/data/daq/Teonancatl/TNC017/TNC017a11_p_CPN.m\n",
      "[nems_lbhb.baphy_io INFO] evp file for licks: /auto/data/daq/Teonancatl/TNC017/TNC017a11_p_CPN.evp\n",
      "[nems_lbhb.baphy_io INFO] Loading /auto/data/daq/Teonancatl/TNC017/TNC017a11_p_CPN.m\n",
      "[nems_lbhb.baphy_io INFO] evp file for licks: /auto/data/daq/Teonancatl/TNC017/TNC017a11_p_CPN.evp\n",
      "[nems_lbhb.baphy_experiment INFO] Remove post-response events\n",
      "[nems_lbhb.baphy_experiment INFO] Removing post-reponse data\n",
      "[nems_lbhb.baphy_io INFO] rounding Trial offset spike times to even number of rasterfs bins\n",
      "[nems_lbhb.baphy_io INFO] 200 trials totaling 2923.24 sec\n",
      "[nems_lbhb.baphy_io INFO] Loading /auto/data/daq/Teonancatl/TNC017/TNC017a11_p_CPN.m\n",
      "[nems_lbhb.baphy_io INFO] evp file for licks: /auto/data/daq/Teonancatl/TNC017/TNC017a11_p_CPN.evp\n",
      "[nems_lbhb.baphy_experiment INFO] Creating trial epochs\n",
      "[nems_lbhb.baphy_experiment INFO] Creating stim epochs\n",
      "[nems_lbhb.baphy_experiment INFO] Creating Light epochs\n",
      "[nems_lbhb.baphy_io INFO] rounding Trial offset spike times to even number of rasterfs bins\n",
      "[nems_lbhb.baphy_io INFO] 200 trials totaling 2923.24 sec\n",
      "[nems_lbhb.baphy_experiment INFO] Caching recording: /auto/data/nems_db/recordings/Teonancatl/TNC017a/TNC017a_552a2dbe0d22ce3884fb1085671269c1e60272e5.tgz\n",
      "[nems.recording INFO] Saving recording to : /auto/data/nems_db/recordings/Teonancatl/TNC017a/TNC017a_552a2dbe0d22ce3884fb1085671269c1e60272e5.tgz\n",
      "[nems_lbhb.baphy_experiment INFO] Cached recording: /auto/data/nems_db/recordings/Teonancatl/TNC017a/TNC017a_09e3fd1d9dc4784ad3f8e426c385b11bdb973222.tgz\n",
      "[nems_lbhb.baphy_io INFO] Loading /auto/data/daq/Teonancatl/TNC017/TNC017a11_p_CPN.m\n"
     ]
    },
    {
     "name": "stdout",
     "output_type": "stream",
     "text": [
      "0 resp\n"
     ]
    },
    {
     "name": "stderr",
     "output_type": "stream",
     "text": [
      "[nems_lbhb.baphy_io INFO] evp file for licks: /auto/data/daq/Teonancatl/TNC017/TNC017a11_p_CPN.evp\n",
      "[nems_lbhb.baphy_io INFO] Loading /auto/data/daq/Teonancatl/TNC017/TNC017a11_p_CPN.m\n",
      "[nems_lbhb.baphy_io INFO] evp file for licks: /auto/data/daq/Teonancatl/TNC017/TNC017a11_p_CPN.evp\n",
      "[nems_lbhb.baphy_experiment INFO] Remove post-response events\n",
      "[nems_lbhb.baphy_experiment INFO] Removing post-reponse data\n",
      "[nems_lbhb.baphy_io INFO] rounding Trial offset spike times to even number of rasterfs bins\n",
      "[nems_lbhb.baphy_io INFO] 200 trials totaling 2923.24 sec\n",
      "[nems_lbhb.baphy_io INFO] Loading /auto/data/daq/Teonancatl/TNC017/TNC017a11_p_CPN.m\n",
      "[nems_lbhb.baphy_io INFO] evp file for licks: /auto/data/daq/Teonancatl/TNC017/TNC017a11_p_CPN.evp\n",
      "[nems_lbhb.baphy_experiment INFO] Creating trial epochs\n",
      "[nems_lbhb.baphy_experiment INFO] Creating stim epochs\n",
      "[nems_lbhb.baphy_experiment INFO] Creating Light epochs\n",
      "[nems_lbhb.baphy_io INFO] rounding Trial offset spike times to even number of rasterfs bins\n",
      "[nems_lbhb.baphy_io INFO] 200 trials totaling 2923.24 sec\n",
      "[nems_lbhb.baphy_experiment INFO] Caching recording: /auto/data/nems_db/recordings/Teonancatl/TNC017a/TNC017a_09e3fd1d9dc4784ad3f8e426c385b11bdb973222.tgz\n",
      "[nems.recording INFO] Saving recording to : /auto/data/nems_db/recordings/Teonancatl/TNC017a/TNC017a_09e3fd1d9dc4784ad3f8e426c385b11bdb973222.tgz\n",
      "[nems_lbhb.baphy_experiment INFO] Cached recording: /auto/data/nems_db/recordings/Teonancatl/TNC017a/TNC017a_8cd67b61766d9f5564f1816c6bbb34734a0b6586.tgz\n",
      "[nems_lbhb.baphy_io INFO] Loading /auto/data/daq/Teonancatl/TNC017/TNC017a11_p_CPN.m\n"
     ]
    },
    {
     "name": "stdout",
     "output_type": "stream",
     "text": [
      "0 resp\n"
     ]
    },
    {
     "name": "stderr",
     "output_type": "stream",
     "text": [
      "[nems_lbhb.baphy_io INFO] evp file for licks: /auto/data/daq/Teonancatl/TNC017/TNC017a11_p_CPN.evp\n",
      "[nems_lbhb.baphy_io INFO] Loading /auto/data/daq/Teonancatl/TNC017/TNC017a11_p_CPN.m\n",
      "[nems_lbhb.baphy_io INFO] evp file for licks: /auto/data/daq/Teonancatl/TNC017/TNC017a11_p_CPN.evp\n",
      "[nems_lbhb.baphy_experiment INFO] Remove post-response events\n",
      "[nems_lbhb.baphy_experiment INFO] Removing post-reponse data\n",
      "[nems_lbhb.baphy_io INFO] rounding Trial offset spike times to even number of rasterfs bins\n",
      "[nems_lbhb.baphy_io INFO] 200 trials totaling 2923.24 sec\n",
      "[nems_lbhb.baphy_io INFO] Loading /auto/data/daq/Teonancatl/TNC017/TNC017a11_p_CPN.m\n",
      "[nems_lbhb.baphy_io INFO] evp file for licks: /auto/data/daq/Teonancatl/TNC017/TNC017a11_p_CPN.evp\n",
      "[nems_lbhb.baphy_experiment INFO] Creating trial epochs\n",
      "[nems_lbhb.baphy_experiment INFO] Creating stim epochs\n",
      "[nems_lbhb.baphy_experiment INFO] Creating Light epochs\n",
      "[nems_lbhb.baphy_io INFO] rounding Trial offset spike times to even number of rasterfs bins\n",
      "[nems_lbhb.baphy_io INFO] 200 trials totaling 2923.24 sec\n",
      "[nems_lbhb.baphy_experiment INFO] Caching recording: /auto/data/nems_db/recordings/Teonancatl/TNC017a/TNC017a_8cd67b61766d9f5564f1816c6bbb34734a0b6586.tgz\n",
      "[nems.recording INFO] Saving recording to : /auto/data/nems_db/recordings/Teonancatl/TNC017a/TNC017a_8cd67b61766d9f5564f1816c6bbb34734a0b6586.tgz\n",
      "[nems_lbhb.baphy_experiment INFO] Cached recording: /auto/data/nems_db/recordings/Teonancatl/TNC017a/TNC017a_e46ba02404dc9f91efe78ace631d1834144be716.tgz\n",
      "[nems_lbhb.baphy_io INFO] Loading /auto/data/daq/Teonancatl/TNC017/TNC017a11_p_CPN.m\n"
     ]
    },
    {
     "name": "stdout",
     "output_type": "stream",
     "text": [
      "0 resp\n"
     ]
    },
    {
     "name": "stderr",
     "output_type": "stream",
     "text": [
      "[nems_lbhb.baphy_io INFO] evp file for licks: /auto/data/daq/Teonancatl/TNC017/TNC017a11_p_CPN.evp\n",
      "[nems_lbhb.baphy_io INFO] Loading /auto/data/daq/Teonancatl/TNC017/TNC017a11_p_CPN.m\n",
      "[nems_lbhb.baphy_io INFO] evp file for licks: /auto/data/daq/Teonancatl/TNC017/TNC017a11_p_CPN.evp\n",
      "[nems_lbhb.baphy_experiment INFO] Remove post-response events\n",
      "[nems_lbhb.baphy_experiment INFO] Removing post-reponse data\n",
      "[nems_lbhb.baphy_io INFO] rounding Trial offset spike times to even number of rasterfs bins\n",
      "[nems_lbhb.baphy_io INFO] 200 trials totaling 2923.24 sec\n",
      "[nems_lbhb.baphy_io INFO] Loading /auto/data/daq/Teonancatl/TNC017/TNC017a11_p_CPN.m\n",
      "[nems_lbhb.baphy_io INFO] evp file for licks: /auto/data/daq/Teonancatl/TNC017/TNC017a11_p_CPN.evp\n",
      "[nems_lbhb.baphy_experiment INFO] Creating trial epochs\n",
      "[nems_lbhb.baphy_experiment INFO] Creating stim epochs\n",
      "[nems_lbhb.baphy_experiment INFO] Creating Light epochs\n",
      "[nems_lbhb.baphy_io INFO] rounding Trial offset spike times to even number of rasterfs bins\n",
      "[nems_lbhb.baphy_io INFO] 200 trials totaling 2923.24 sec\n",
      "[nems_lbhb.baphy_experiment INFO] Caching recording: /auto/data/nems_db/recordings/Teonancatl/TNC017a/TNC017a_e46ba02404dc9f91efe78ace631d1834144be716.tgz\n",
      "[nems.recording INFO] Saving recording to : /auto/data/nems_db/recordings/Teonancatl/TNC017a/TNC017a_e46ba02404dc9f91efe78ace631d1834144be716.tgz\n",
      "[nems_lbhb.baphy_experiment INFO] Cached recording: /auto/data/nems_db/recordings/Teonancatl/TNC017a/TNC017a_64aa7449a3f731e06f5ff189cfbb622189876f3d.tgz\n",
      "[nems_lbhb.baphy_io INFO] Loading /auto/data/daq/Teonancatl/TNC017/TNC017a11_p_CPN.m\n"
     ]
    },
    {
     "name": "stdout",
     "output_type": "stream",
     "text": [
      "0 resp\n"
     ]
    },
    {
     "name": "stderr",
     "output_type": "stream",
     "text": [
      "[nems_lbhb.baphy_io INFO] evp file for licks: /auto/data/daq/Teonancatl/TNC017/TNC017a11_p_CPN.evp\n",
      "[nems_lbhb.baphy_io INFO] Loading /auto/data/daq/Teonancatl/TNC017/TNC017a11_p_CPN.m\n",
      "[nems_lbhb.baphy_io INFO] evp file for licks: /auto/data/daq/Teonancatl/TNC017/TNC017a11_p_CPN.evp\n",
      "[nems_lbhb.baphy_experiment INFO] Remove post-response events\n",
      "[nems_lbhb.baphy_experiment INFO] Removing post-reponse data\n",
      "[nems_lbhb.baphy_io INFO] rounding Trial offset spike times to even number of rasterfs bins\n",
      "[nems_lbhb.baphy_io INFO] 200 trials totaling 2923.24 sec\n",
      "[nems_lbhb.baphy_io INFO] Loading /auto/data/daq/Teonancatl/TNC017/TNC017a11_p_CPN.m\n",
      "[nems_lbhb.baphy_io INFO] evp file for licks: /auto/data/daq/Teonancatl/TNC017/TNC017a11_p_CPN.evp\n",
      "[nems_lbhb.baphy_experiment INFO] Creating trial epochs\n",
      "[nems_lbhb.baphy_experiment INFO] Creating stim epochs\n",
      "[nems_lbhb.baphy_experiment INFO] Creating Light epochs\n",
      "[nems_lbhb.baphy_io INFO] rounding Trial offset spike times to even number of rasterfs bins\n",
      "[nems_lbhb.baphy_io INFO] 200 trials totaling 2923.24 sec\n",
      "[nems_lbhb.baphy_experiment INFO] Caching recording: /auto/data/nems_db/recordings/Teonancatl/TNC017a/TNC017a_64aa7449a3f731e06f5ff189cfbb622189876f3d.tgz\n",
      "[nems.recording INFO] Saving recording to : /auto/data/nems_db/recordings/Teonancatl/TNC017a/TNC017a_64aa7449a3f731e06f5ff189cfbb622189876f3d.tgz\n",
      "[nems_lbhb.baphy_experiment INFO] Cached recording: /auto/data/nems_db/recordings/Teonancatl/TNC017a/TNC017a_19fc3fa55b219b1bbd0b566620ce1e164728b9a9.tgz\n",
      "[nems_lbhb.baphy_io INFO] Loading /auto/data/daq/Teonancatl/TNC017/TNC017a11_p_CPN.m\n"
     ]
    },
    {
     "name": "stdout",
     "output_type": "stream",
     "text": [
      "0 resp\n"
     ]
    },
    {
     "name": "stderr",
     "output_type": "stream",
     "text": [
      "[nems_lbhb.baphy_io INFO] evp file for licks: /auto/data/daq/Teonancatl/TNC017/TNC017a11_p_CPN.evp\n",
      "[nems_lbhb.baphy_io INFO] Loading /auto/data/daq/Teonancatl/TNC017/TNC017a11_p_CPN.m\n",
      "[nems_lbhb.baphy_io INFO] evp file for licks: /auto/data/daq/Teonancatl/TNC017/TNC017a11_p_CPN.evp\n",
      "[nems_lbhb.baphy_experiment INFO] Remove post-response events\n",
      "[nems_lbhb.baphy_experiment INFO] Removing post-reponse data\n",
      "[nems_lbhb.baphy_io INFO] rounding Trial offset spike times to even number of rasterfs bins\n",
      "[nems_lbhb.baphy_io INFO] 200 trials totaling 2923.24 sec\n",
      "[nems_lbhb.baphy_io INFO] Loading /auto/data/daq/Teonancatl/TNC017/TNC017a11_p_CPN.m\n",
      "[nems_lbhb.baphy_io INFO] evp file for licks: /auto/data/daq/Teonancatl/TNC017/TNC017a11_p_CPN.evp\n",
      "[nems_lbhb.baphy_experiment INFO] Creating trial epochs\n",
      "[nems_lbhb.baphy_experiment INFO] Creating stim epochs\n",
      "[nems_lbhb.baphy_experiment INFO] Creating Light epochs\n",
      "[nems_lbhb.baphy_io INFO] rounding Trial offset spike times to even number of rasterfs bins\n",
      "[nems_lbhb.baphy_io INFO] 200 trials totaling 2923.24 sec\n",
      "[nems_lbhb.baphy_experiment INFO] Caching recording: /auto/data/nems_db/recordings/Teonancatl/TNC017a/TNC017a_19fc3fa55b219b1bbd0b566620ce1e164728b9a9.tgz\n",
      "[nems.recording INFO] Saving recording to : /auto/data/nems_db/recordings/Teonancatl/TNC017a/TNC017a_19fc3fa55b219b1bbd0b566620ce1e164728b9a9.tgz\n",
      "[nems_lbhb.baphy_experiment INFO] Cached recording: /auto/data/nems_db/recordings/Teonancatl/TNC017a/TNC017a_424e18a273a25ea196b2f62319f32c4c61cee806.tgz\n",
      "[nems_lbhb.baphy_io INFO] Loading /auto/data/daq/Teonancatl/TNC017/TNC017a11_p_CPN.m\n"
     ]
    },
    {
     "name": "stdout",
     "output_type": "stream",
     "text": [
      "0 resp\n"
     ]
    },
    {
     "name": "stderr",
     "output_type": "stream",
     "text": [
      "[nems_lbhb.baphy_io INFO] evp file for licks: /auto/data/daq/Teonancatl/TNC017/TNC017a11_p_CPN.evp\n",
      "[nems_lbhb.baphy_io INFO] Loading /auto/data/daq/Teonancatl/TNC017/TNC017a11_p_CPN.m\n",
      "[nems_lbhb.baphy_io INFO] evp file for licks: /auto/data/daq/Teonancatl/TNC017/TNC017a11_p_CPN.evp\n",
      "[nems_lbhb.baphy_experiment INFO] Remove post-response events\n",
      "[nems_lbhb.baphy_experiment INFO] Removing post-reponse data\n",
      "[nems_lbhb.baphy_io INFO] rounding Trial offset spike times to even number of rasterfs bins\n",
      "[nems_lbhb.baphy_io INFO] 200 trials totaling 2923.24 sec\n",
      "[nems_lbhb.baphy_io INFO] Loading /auto/data/daq/Teonancatl/TNC017/TNC017a11_p_CPN.m\n",
      "[nems_lbhb.baphy_io INFO] evp file for licks: /auto/data/daq/Teonancatl/TNC017/TNC017a11_p_CPN.evp\n",
      "[nems_lbhb.baphy_experiment INFO] Creating trial epochs\n",
      "[nems_lbhb.baphy_experiment INFO] Creating stim epochs\n",
      "[nems_lbhb.baphy_experiment INFO] Creating Light epochs\n",
      "[nems_lbhb.baphy_io INFO] rounding Trial offset spike times to even number of rasterfs bins\n",
      "[nems_lbhb.baphy_io INFO] 200 trials totaling 2923.24 sec\n",
      "[nems_lbhb.baphy_experiment INFO] Caching recording: /auto/data/nems_db/recordings/Teonancatl/TNC017a/TNC017a_424e18a273a25ea196b2f62319f32c4c61cee806.tgz\n",
      "[nems.recording INFO] Saving recording to : /auto/data/nems_db/recordings/Teonancatl/TNC017a/TNC017a_424e18a273a25ea196b2f62319f32c4c61cee806.tgz\n",
      "[nems_lbhb.baphy_experiment INFO] Cached recording: /auto/data/nems_db/recordings/Teonancatl/TNC017a/TNC017a_94136e35985b362122fc9715b6abe07d1c46b18a.tgz\n",
      "[nems_lbhb.baphy_io INFO] Loading /auto/data/daq/Teonancatl/TNC017/TNC017a11_p_CPN.m\n"
     ]
    },
    {
     "name": "stdout",
     "output_type": "stream",
     "text": [
      "0 resp\n"
     ]
    },
    {
     "name": "stderr",
     "output_type": "stream",
     "text": [
      "[nems_lbhb.baphy_io INFO] evp file for licks: /auto/data/daq/Teonancatl/TNC017/TNC017a11_p_CPN.evp\n",
      "[nems_lbhb.baphy_io INFO] Loading /auto/data/daq/Teonancatl/TNC017/TNC017a11_p_CPN.m\n",
      "[nems_lbhb.baphy_io INFO] evp file for licks: /auto/data/daq/Teonancatl/TNC017/TNC017a11_p_CPN.evp\n",
      "[nems_lbhb.baphy_experiment INFO] Remove post-response events\n",
      "[nems_lbhb.baphy_experiment INFO] Removing post-reponse data\n",
      "[nems_lbhb.baphy_io INFO] rounding Trial offset spike times to even number of rasterfs bins\n",
      "[nems_lbhb.baphy_io INFO] 200 trials totaling 2923.24 sec\n",
      "[nems_lbhb.baphy_io INFO] Loading /auto/data/daq/Teonancatl/TNC017/TNC017a11_p_CPN.m\n",
      "[nems_lbhb.baphy_io INFO] evp file for licks: /auto/data/daq/Teonancatl/TNC017/TNC017a11_p_CPN.evp\n",
      "[nems_lbhb.baphy_experiment INFO] Creating trial epochs\n",
      "[nems_lbhb.baphy_experiment INFO] Creating stim epochs\n",
      "[nems_lbhb.baphy_experiment INFO] Creating Light epochs\n",
      "[nems_lbhb.baphy_io INFO] rounding Trial offset spike times to even number of rasterfs bins\n",
      "[nems_lbhb.baphy_io INFO] 200 trials totaling 2923.24 sec\n",
      "[nems_lbhb.baphy_experiment INFO] Caching recording: /auto/data/nems_db/recordings/Teonancatl/TNC017a/TNC017a_94136e35985b362122fc9715b6abe07d1c46b18a.tgz\n",
      "[nems.recording INFO] Saving recording to : /auto/data/nems_db/recordings/Teonancatl/TNC017a/TNC017a_94136e35985b362122fc9715b6abe07d1c46b18a.tgz\n",
      "[nems_lbhb.baphy_experiment INFO] Cached recording: /auto/data/nems_db/recordings/Teonancatl/TNC017a/TNC017a_f0c89094e88ad012a14e5d4d8a452a531867f4cb.tgz\n",
      "[nems_lbhb.baphy_io INFO] Loading /auto/data/daq/Teonancatl/TNC017/TNC017a11_p_CPN.m\n"
     ]
    },
    {
     "name": "stdout",
     "output_type": "stream",
     "text": [
      "0 resp\n"
     ]
    },
    {
     "name": "stderr",
     "output_type": "stream",
     "text": [
      "[nems_lbhb.baphy_io INFO] evp file for licks: /auto/data/daq/Teonancatl/TNC017/TNC017a11_p_CPN.evp\n",
      "[nems_lbhb.baphy_io INFO] Loading /auto/data/daq/Teonancatl/TNC017/TNC017a11_p_CPN.m\n",
      "[nems_lbhb.baphy_io INFO] evp file for licks: /auto/data/daq/Teonancatl/TNC017/TNC017a11_p_CPN.evp\n",
      "[nems_lbhb.baphy_experiment INFO] Remove post-response events\n",
      "[nems_lbhb.baphy_experiment INFO] Removing post-reponse data\n",
      "[nems_lbhb.baphy_io INFO] rounding Trial offset spike times to even number of rasterfs bins\n",
      "[nems_lbhb.baphy_io INFO] 200 trials totaling 2923.24 sec\n",
      "[nems_lbhb.baphy_io INFO] Loading /auto/data/daq/Teonancatl/TNC017/TNC017a11_p_CPN.m\n",
      "[nems_lbhb.baphy_io INFO] evp file for licks: /auto/data/daq/Teonancatl/TNC017/TNC017a11_p_CPN.evp\n",
      "[nems_lbhb.baphy_experiment INFO] Creating trial epochs\n",
      "[nems_lbhb.baphy_experiment INFO] Creating stim epochs\n",
      "[nems_lbhb.baphy_experiment INFO] Creating Light epochs\n",
      "[nems_lbhb.baphy_io INFO] rounding Trial offset spike times to even number of rasterfs bins\n",
      "[nems_lbhb.baphy_io INFO] 200 trials totaling 2923.24 sec\n",
      "[nems_lbhb.baphy_experiment INFO] Caching recording: /auto/data/nems_db/recordings/Teonancatl/TNC017a/TNC017a_f0c89094e88ad012a14e5d4d8a452a531867f4cb.tgz\n",
      "[nems.recording INFO] Saving recording to : /auto/data/nems_db/recordings/Teonancatl/TNC017a/TNC017a_f0c89094e88ad012a14e5d4d8a452a531867f4cb.tgz\n",
      "[nems_lbhb.baphy_experiment INFO] Cached recording: /auto/data/nems_db/recordings/Teonancatl/TNC017a/TNC017a_a49b13957c8a5e59954f9a5a2ea2737a12f47210.tgz\n",
      "[nems_lbhb.baphy_io INFO] Loading /auto/data/daq/Teonancatl/TNC017/TNC017a11_p_CPN.m\n"
     ]
    },
    {
     "name": "stdout",
     "output_type": "stream",
     "text": [
      "0 resp\n"
     ]
    },
    {
     "name": "stderr",
     "output_type": "stream",
     "text": [
      "[nems_lbhb.baphy_io INFO] evp file for licks: /auto/data/daq/Teonancatl/TNC017/TNC017a11_p_CPN.evp\n",
      "[nems_lbhb.baphy_io INFO] Loading /auto/data/daq/Teonancatl/TNC017/TNC017a11_p_CPN.m\n",
      "[nems_lbhb.baphy_io INFO] evp file for licks: /auto/data/daq/Teonancatl/TNC017/TNC017a11_p_CPN.evp\n",
      "[nems_lbhb.baphy_experiment INFO] Remove post-response events\n",
      "[nems_lbhb.baphy_experiment INFO] Removing post-reponse data\n",
      "[nems_lbhb.baphy_io INFO] rounding Trial offset spike times to even number of rasterfs bins\n",
      "[nems_lbhb.baphy_io INFO] 200 trials totaling 2923.24 sec\n",
      "[nems_lbhb.baphy_io INFO] Loading /auto/data/daq/Teonancatl/TNC017/TNC017a11_p_CPN.m\n",
      "[nems_lbhb.baphy_io INFO] evp file for licks: /auto/data/daq/Teonancatl/TNC017/TNC017a11_p_CPN.evp\n",
      "[nems_lbhb.baphy_experiment INFO] Creating trial epochs\n",
      "[nems_lbhb.baphy_experiment INFO] Creating stim epochs\n",
      "[nems_lbhb.baphy_experiment INFO] Creating Light epochs\n",
      "[nems_lbhb.baphy_io INFO] rounding Trial offset spike times to even number of rasterfs bins\n",
      "[nems_lbhb.baphy_io INFO] 200 trials totaling 2923.24 sec\n",
      "[nems_lbhb.baphy_experiment INFO] Caching recording: /auto/data/nems_db/recordings/Teonancatl/TNC017a/TNC017a_a49b13957c8a5e59954f9a5a2ea2737a12f47210.tgz\n",
      "[nems.recording INFO] Saving recording to : /auto/data/nems_db/recordings/Teonancatl/TNC017a/TNC017a_a49b13957c8a5e59954f9a5a2ea2737a12f47210.tgz\n",
      "[nems_lbhb.baphy_experiment INFO] Cached recording: /auto/data/nems_db/recordings/Teonancatl/TNC016a/TNC016a_fb2933484939b8a86254c7a7df85a012d6fbe026.tgz\n",
      "[nems_lbhb.baphy_io INFO] Loading /auto/data/daq/Teonancatl/TNC016/TNC016a11_p_CPN.m\n"
     ]
    },
    {
     "name": "stdout",
     "output_type": "stream",
     "text": [
      "0 resp\n"
     ]
    },
    {
     "name": "stderr",
     "output_type": "stream",
     "text": [
      "[nems_lbhb.baphy_io INFO] evp file for licks: /auto/data/daq/Teonancatl/TNC016/TNC016a11_p_CPN.evp\n",
      "[nems_lbhb.baphy_io INFO] Loading /auto/data/daq/Teonancatl/TNC016/TNC016a11_p_CPN.m\n",
      "[nems_lbhb.baphy_io INFO] evp file for licks: /auto/data/daq/Teonancatl/TNC016/TNC016a11_p_CPN.evp\n",
      "[nems_lbhb.baphy_experiment INFO] Remove post-response events\n",
      "[nems_lbhb.baphy_experiment INFO] Removing post-reponse data\n",
      "[nems_lbhb.baphy_io INFO] rounding Trial offset spike times to even number of rasterfs bins\n",
      "[nems_lbhb.baphy_io INFO] 200 trials totaling 2908.81 sec\n",
      "[nems_lbhb.baphy_io INFO] Loading /auto/data/daq/Teonancatl/TNC016/TNC016a11_p_CPN.m\n",
      "[nems_lbhb.baphy_io INFO] evp file for licks: /auto/data/daq/Teonancatl/TNC016/TNC016a11_p_CPN.evp\n",
      "[nems_lbhb.baphy_experiment INFO] Creating trial epochs\n",
      "[nems_lbhb.baphy_experiment INFO] Creating stim epochs\n",
      "[nems_lbhb.baphy_experiment INFO] Creating Light epochs\n",
      "[nems_lbhb.baphy_io INFO] rounding Trial offset spike times to even number of rasterfs bins\n",
      "[nems_lbhb.baphy_io INFO] 200 trials totaling 2908.81 sec\n",
      "[nems_lbhb.baphy_experiment INFO] Caching recording: /auto/data/nems_db/recordings/Teonancatl/TNC016a/TNC016a_fb2933484939b8a86254c7a7df85a012d6fbe026.tgz\n",
      "[nems.recording INFO] Saving recording to : /auto/data/nems_db/recordings/Teonancatl/TNC016a/TNC016a_fb2933484939b8a86254c7a7df85a012d6fbe026.tgz\n",
      "[nems_lbhb.baphy_experiment INFO] Cached recording: /auto/data/nems_db/recordings/Teonancatl/TNC016a/TNC016a_b33eb23b7a41f6cb1cf9bb99d824385aff97486e.tgz\n",
      "[nems_lbhb.baphy_io INFO] Loading /auto/data/daq/Teonancatl/TNC016/TNC016a11_p_CPN.m\n"
     ]
    },
    {
     "name": "stdout",
     "output_type": "stream",
     "text": [
      "0 resp\n"
     ]
    },
    {
     "name": "stderr",
     "output_type": "stream",
     "text": [
      "[nems_lbhb.baphy_io INFO] evp file for licks: /auto/data/daq/Teonancatl/TNC016/TNC016a11_p_CPN.evp\n",
      "[nems_lbhb.baphy_io INFO] Loading /auto/data/daq/Teonancatl/TNC016/TNC016a11_p_CPN.m\n",
      "[nems_lbhb.baphy_io INFO] evp file for licks: /auto/data/daq/Teonancatl/TNC016/TNC016a11_p_CPN.evp\n",
      "[nems_lbhb.baphy_experiment INFO] Remove post-response events\n",
      "[nems_lbhb.baphy_experiment INFO] Removing post-reponse data\n",
      "[nems_lbhb.baphy_io INFO] rounding Trial offset spike times to even number of rasterfs bins\n",
      "[nems_lbhb.baphy_io INFO] 200 trials totaling 2908.81 sec\n",
      "[nems_lbhb.baphy_io INFO] Loading /auto/data/daq/Teonancatl/TNC016/TNC016a11_p_CPN.m\n",
      "[nems_lbhb.baphy_io INFO] evp file for licks: /auto/data/daq/Teonancatl/TNC016/TNC016a11_p_CPN.evp\n",
      "[nems_lbhb.baphy_experiment INFO] Creating trial epochs\n",
      "[nems_lbhb.baphy_experiment INFO] Creating stim epochs\n",
      "[nems_lbhb.baphy_experiment INFO] Creating Light epochs\n",
      "[nems_lbhb.baphy_io INFO] rounding Trial offset spike times to even number of rasterfs bins\n",
      "[nems_lbhb.baphy_io INFO] 200 trials totaling 2908.81 sec\n",
      "[nems_lbhb.baphy_experiment INFO] Caching recording: /auto/data/nems_db/recordings/Teonancatl/TNC016a/TNC016a_b33eb23b7a41f6cb1cf9bb99d824385aff97486e.tgz\n",
      "[nems.recording INFO] Saving recording to : /auto/data/nems_db/recordings/Teonancatl/TNC016a/TNC016a_b33eb23b7a41f6cb1cf9bb99d824385aff97486e.tgz\n",
      "[nems_lbhb.baphy_experiment INFO] Cached recording: /auto/data/nems_db/recordings/Teonancatl/TNC016a/TNC016a_e265befb1c5b7f8c362a7758af48e4be8374f5d8.tgz\n",
      "[nems_lbhb.baphy_io INFO] Loading /auto/data/daq/Teonancatl/TNC016/TNC016a11_p_CPN.m\n"
     ]
    },
    {
     "name": "stdout",
     "output_type": "stream",
     "text": [
      "0 resp\n"
     ]
    },
    {
     "name": "stderr",
     "output_type": "stream",
     "text": [
      "[nems_lbhb.baphy_io INFO] evp file for licks: /auto/data/daq/Teonancatl/TNC016/TNC016a11_p_CPN.evp\n",
      "[nems_lbhb.baphy_io INFO] Loading /auto/data/daq/Teonancatl/TNC016/TNC016a11_p_CPN.m\n",
      "[nems_lbhb.baphy_io INFO] evp file for licks: /auto/data/daq/Teonancatl/TNC016/TNC016a11_p_CPN.evp\n",
      "[nems_lbhb.baphy_experiment INFO] Remove post-response events\n",
      "[nems_lbhb.baphy_experiment INFO] Removing post-reponse data\n",
      "[nems_lbhb.baphy_io INFO] rounding Trial offset spike times to even number of rasterfs bins\n",
      "[nems_lbhb.baphy_io INFO] 200 trials totaling 2908.81 sec\n",
      "[nems_lbhb.baphy_io INFO] Loading /auto/data/daq/Teonancatl/TNC016/TNC016a11_p_CPN.m\n",
      "[nems_lbhb.baphy_io INFO] evp file for licks: /auto/data/daq/Teonancatl/TNC016/TNC016a11_p_CPN.evp\n",
      "[nems_lbhb.baphy_experiment INFO] Creating trial epochs\n",
      "[nems_lbhb.baphy_experiment INFO] Creating stim epochs\n",
      "[nems_lbhb.baphy_experiment INFO] Creating Light epochs\n",
      "[nems_lbhb.baphy_io INFO] rounding Trial offset spike times to even number of rasterfs bins\n",
      "[nems_lbhb.baphy_io INFO] 200 trials totaling 2908.81 sec\n",
      "[nems_lbhb.baphy_experiment INFO] Caching recording: /auto/data/nems_db/recordings/Teonancatl/TNC016a/TNC016a_e265befb1c5b7f8c362a7758af48e4be8374f5d8.tgz\n",
      "[nems.recording INFO] Saving recording to : /auto/data/nems_db/recordings/Teonancatl/TNC016a/TNC016a_e265befb1c5b7f8c362a7758af48e4be8374f5d8.tgz\n",
      "[nems_lbhb.baphy_experiment INFO] Cached recording: /auto/data/nems_db/recordings/Teonancatl/TNC016a/TNC016a_334d76bf0c8ab52abf1fe5a645ee8273fbf65283.tgz\n",
      "[nems_lbhb.baphy_io INFO] Loading /auto/data/daq/Teonancatl/TNC016/TNC016a11_p_CPN.m\n"
     ]
    },
    {
     "name": "stdout",
     "output_type": "stream",
     "text": [
      "0 resp\n"
     ]
    },
    {
     "name": "stderr",
     "output_type": "stream",
     "text": [
      "[nems_lbhb.baphy_io INFO] evp file for licks: /auto/data/daq/Teonancatl/TNC016/TNC016a11_p_CPN.evp\n",
      "[nems_lbhb.baphy_io INFO] Loading /auto/data/daq/Teonancatl/TNC016/TNC016a11_p_CPN.m\n",
      "[nems_lbhb.baphy_io INFO] evp file for licks: /auto/data/daq/Teonancatl/TNC016/TNC016a11_p_CPN.evp\n",
      "[nems_lbhb.baphy_experiment INFO] Remove post-response events\n",
      "[nems_lbhb.baphy_experiment INFO] Removing post-reponse data\n",
      "[nems_lbhb.baphy_io INFO] rounding Trial offset spike times to even number of rasterfs bins\n",
      "[nems_lbhb.baphy_io INFO] 200 trials totaling 2908.81 sec\n",
      "[nems_lbhb.baphy_io INFO] Loading /auto/data/daq/Teonancatl/TNC016/TNC016a11_p_CPN.m\n",
      "[nems_lbhb.baphy_io INFO] evp file for licks: /auto/data/daq/Teonancatl/TNC016/TNC016a11_p_CPN.evp\n",
      "[nems_lbhb.baphy_experiment INFO] Creating trial epochs\n",
      "[nems_lbhb.baphy_experiment INFO] Creating stim epochs\n",
      "[nems_lbhb.baphy_experiment INFO] Creating Light epochs\n",
      "[nems_lbhb.baphy_io INFO] rounding Trial offset spike times to even number of rasterfs bins\n",
      "[nems_lbhb.baphy_io INFO] 200 trials totaling 2908.81 sec\n",
      "[nems_lbhb.baphy_experiment INFO] Caching recording: /auto/data/nems_db/recordings/Teonancatl/TNC016a/TNC016a_334d76bf0c8ab52abf1fe5a645ee8273fbf65283.tgz\n",
      "[nems.recording INFO] Saving recording to : /auto/data/nems_db/recordings/Teonancatl/TNC016a/TNC016a_334d76bf0c8ab52abf1fe5a645ee8273fbf65283.tgz\n",
      "[nems_lbhb.baphy_experiment INFO] Cached recording: /auto/data/nems_db/recordings/Teonancatl/TNC016a/TNC016a_1116d743cf55f44b610f0b38e730b3022ea499ac.tgz\n",
      "[nems_lbhb.baphy_io INFO] Loading /auto/data/daq/Teonancatl/TNC016/TNC016a11_p_CPN.m\n"
     ]
    },
    {
     "name": "stdout",
     "output_type": "stream",
     "text": [
      "0 resp\n"
     ]
    },
    {
     "name": "stderr",
     "output_type": "stream",
     "text": [
      "[nems_lbhb.baphy_io INFO] evp file for licks: /auto/data/daq/Teonancatl/TNC016/TNC016a11_p_CPN.evp\n",
      "[nems_lbhb.baphy_io INFO] Loading /auto/data/daq/Teonancatl/TNC016/TNC016a11_p_CPN.m\n",
      "[nems_lbhb.baphy_io INFO] evp file for licks: /auto/data/daq/Teonancatl/TNC016/TNC016a11_p_CPN.evp\n",
      "[nems_lbhb.baphy_experiment INFO] Remove post-response events\n",
      "[nems_lbhb.baphy_experiment INFO] Removing post-reponse data\n",
      "[nems_lbhb.baphy_io INFO] rounding Trial offset spike times to even number of rasterfs bins\n",
      "[nems_lbhb.baphy_io INFO] 200 trials totaling 2908.81 sec\n",
      "[nems_lbhb.baphy_io INFO] Loading /auto/data/daq/Teonancatl/TNC016/TNC016a11_p_CPN.m\n",
      "[nems_lbhb.baphy_io INFO] evp file for licks: /auto/data/daq/Teonancatl/TNC016/TNC016a11_p_CPN.evp\n",
      "[nems_lbhb.baphy_experiment INFO] Creating trial epochs\n",
      "[nems_lbhb.baphy_experiment INFO] Creating stim epochs\n",
      "[nems_lbhb.baphy_experiment INFO] Creating Light epochs\n",
      "[nems_lbhb.baphy_io INFO] rounding Trial offset spike times to even number of rasterfs bins\n",
      "[nems_lbhb.baphy_io INFO] 200 trials totaling 2908.81 sec\n",
      "[nems_lbhb.baphy_experiment INFO] Caching recording: /auto/data/nems_db/recordings/Teonancatl/TNC016a/TNC016a_1116d743cf55f44b610f0b38e730b3022ea499ac.tgz\n",
      "[nems.recording INFO] Saving recording to : /auto/data/nems_db/recordings/Teonancatl/TNC016a/TNC016a_1116d743cf55f44b610f0b38e730b3022ea499ac.tgz\n"
     ]
    },
    {
     "name": "stdout",
     "output_type": "stream",
     "text": [
      "0 resp\n"
     ]
    },
    {
     "name": "stderr",
     "output_type": "stream",
     "text": [
      "[nems_lbhb.baphy_experiment INFO] Cached recording: /auto/data/nems_db/recordings/Teonancatl/TNC016a/TNC016a_093da29c799b566ae0dd1e589f4b210912a45697.tgz\n",
      "[nems_lbhb.baphy_io INFO] Loading /auto/data/daq/Teonancatl/TNC016/TNC016a11_p_CPN.m\n",
      "[nems_lbhb.baphy_io INFO] evp file for licks: /auto/data/daq/Teonancatl/TNC016/TNC016a11_p_CPN.evp\n",
      "[nems_lbhb.baphy_io INFO] Loading /auto/data/daq/Teonancatl/TNC016/TNC016a11_p_CPN.m\n",
      "[nems_lbhb.baphy_io INFO] evp file for licks: /auto/data/daq/Teonancatl/TNC016/TNC016a11_p_CPN.evp\n",
      "[nems_lbhb.baphy_experiment INFO] Remove post-response events\n",
      "[nems_lbhb.baphy_experiment INFO] Removing post-reponse data\n",
      "[nems_lbhb.baphy_io INFO] rounding Trial offset spike times to even number of rasterfs bins\n",
      "[nems_lbhb.baphy_io INFO] 200 trials totaling 2908.81 sec\n",
      "[nems_lbhb.baphy_io INFO] Loading /auto/data/daq/Teonancatl/TNC016/TNC016a11_p_CPN.m\n",
      "[nems_lbhb.baphy_io INFO] evp file for licks: /auto/data/daq/Teonancatl/TNC016/TNC016a11_p_CPN.evp\n",
      "[nems_lbhb.baphy_experiment INFO] Creating trial epochs\n",
      "[nems_lbhb.baphy_experiment INFO] Creating stim epochs\n",
      "[nems_lbhb.baphy_experiment INFO] Creating Light epochs\n",
      "[nems_lbhb.baphy_io INFO] rounding Trial offset spike times to even number of rasterfs bins\n",
      "[nems_lbhb.baphy_io INFO] 200 trials totaling 2908.81 sec\n",
      "[nems_lbhb.baphy_experiment INFO] Caching recording: /auto/data/nems_db/recordings/Teonancatl/TNC016a/TNC016a_093da29c799b566ae0dd1e589f4b210912a45697.tgz\n",
      "[nems.recording INFO] Saving recording to : /auto/data/nems_db/recordings/Teonancatl/TNC016a/TNC016a_093da29c799b566ae0dd1e589f4b210912a45697.tgz\n",
      "[nems_lbhb.baphy_experiment INFO] Cached recording: /auto/data/nems_db/recordings/Teonancatl/TNC016a/TNC016a_0b45db0e6aeb8beab1f6cfd1afa5c2af4cc57f19.tgz\n",
      "[nems_lbhb.baphy_io INFO] Loading /auto/data/daq/Teonancatl/TNC016/TNC016a11_p_CPN.m\n"
     ]
    },
    {
     "name": "stdout",
     "output_type": "stream",
     "text": [
      "0 resp\n"
     ]
    },
    {
     "name": "stderr",
     "output_type": "stream",
     "text": [
      "[nems_lbhb.baphy_io INFO] evp file for licks: /auto/data/daq/Teonancatl/TNC016/TNC016a11_p_CPN.evp\n",
      "[nems_lbhb.baphy_io INFO] Loading /auto/data/daq/Teonancatl/TNC016/TNC016a11_p_CPN.m\n",
      "[nems_lbhb.baphy_io INFO] evp file for licks: /auto/data/daq/Teonancatl/TNC016/TNC016a11_p_CPN.evp\n",
      "[nems_lbhb.baphy_experiment INFO] Remove post-response events\n",
      "[nems_lbhb.baphy_experiment INFO] Removing post-reponse data\n",
      "[nems_lbhb.baphy_io INFO] rounding Trial offset spike times to even number of rasterfs bins\n",
      "[nems_lbhb.baphy_io INFO] 200 trials totaling 2908.81 sec\n",
      "[nems_lbhb.baphy_io INFO] Loading /auto/data/daq/Teonancatl/TNC016/TNC016a11_p_CPN.m\n",
      "[nems_lbhb.baphy_io INFO] evp file for licks: /auto/data/daq/Teonancatl/TNC016/TNC016a11_p_CPN.evp\n",
      "[nems_lbhb.baphy_experiment INFO] Creating trial epochs\n",
      "[nems_lbhb.baphy_experiment INFO] Creating stim epochs\n",
      "[nems_lbhb.baphy_experiment INFO] Creating Light epochs\n",
      "[nems_lbhb.baphy_io INFO] rounding Trial offset spike times to even number of rasterfs bins\n",
      "[nems_lbhb.baphy_io INFO] 200 trials totaling 2908.81 sec\n",
      "[nems_lbhb.baphy_experiment INFO] Caching recording: /auto/data/nems_db/recordings/Teonancatl/TNC016a/TNC016a_0b45db0e6aeb8beab1f6cfd1afa5c2af4cc57f19.tgz\n",
      "[nems.recording INFO] Saving recording to : /auto/data/nems_db/recordings/Teonancatl/TNC016a/TNC016a_0b45db0e6aeb8beab1f6cfd1afa5c2af4cc57f19.tgz\n",
      "[nems_lbhb.baphy_experiment INFO] Cached recording: /auto/data/nems_db/recordings/Teonancatl/TNC016a/TNC016a_95f6a99519f0da956cbfa5d64026658a690e47e7.tgz\n",
      "[nems_lbhb.baphy_io INFO] Loading /auto/data/daq/Teonancatl/TNC016/TNC016a11_p_CPN.m\n"
     ]
    },
    {
     "name": "stdout",
     "output_type": "stream",
     "text": [
      "0 resp\n"
     ]
    },
    {
     "name": "stderr",
     "output_type": "stream",
     "text": [
      "[nems_lbhb.baphy_io INFO] evp file for licks: /auto/data/daq/Teonancatl/TNC016/TNC016a11_p_CPN.evp\n",
      "[nems_lbhb.baphy_io INFO] Loading /auto/data/daq/Teonancatl/TNC016/TNC016a11_p_CPN.m\n",
      "[nems_lbhb.baphy_io INFO] evp file for licks: /auto/data/daq/Teonancatl/TNC016/TNC016a11_p_CPN.evp\n",
      "[nems_lbhb.baphy_experiment INFO] Remove post-response events\n",
      "[nems_lbhb.baphy_experiment INFO] Removing post-reponse data\n",
      "[nems_lbhb.baphy_io INFO] rounding Trial offset spike times to even number of rasterfs bins\n",
      "[nems_lbhb.baphy_io INFO] 200 trials totaling 2908.81 sec\n",
      "[nems_lbhb.baphy_io INFO] Loading /auto/data/daq/Teonancatl/TNC016/TNC016a11_p_CPN.m\n",
      "[nems_lbhb.baphy_io INFO] evp file for licks: /auto/data/daq/Teonancatl/TNC016/TNC016a11_p_CPN.evp\n",
      "[nems_lbhb.baphy_experiment INFO] Creating trial epochs\n",
      "[nems_lbhb.baphy_experiment INFO] Creating stim epochs\n",
      "[nems_lbhb.baphy_experiment INFO] Creating Light epochs\n",
      "[nems_lbhb.baphy_io INFO] rounding Trial offset spike times to even number of rasterfs bins\n",
      "[nems_lbhb.baphy_io INFO] 200 trials totaling 2908.81 sec\n",
      "[nems_lbhb.baphy_experiment INFO] Caching recording: /auto/data/nems_db/recordings/Teonancatl/TNC016a/TNC016a_95f6a99519f0da956cbfa5d64026658a690e47e7.tgz\n",
      "[nems.recording INFO] Saving recording to : /auto/data/nems_db/recordings/Teonancatl/TNC016a/TNC016a_95f6a99519f0da956cbfa5d64026658a690e47e7.tgz\n",
      "[nems_lbhb.baphy_experiment INFO] Cached recording: /auto/data/nems_db/recordings/Teonancatl/TNC016a/TNC016a_ccad14d04c796a79775333bb80ffb09cefd64cae.tgz\n",
      "[nems_lbhb.baphy_io INFO] Loading /auto/data/daq/Teonancatl/TNC016/TNC016a11_p_CPN.m\n"
     ]
    },
    {
     "name": "stdout",
     "output_type": "stream",
     "text": [
      "0 resp\n"
     ]
    },
    {
     "name": "stderr",
     "output_type": "stream",
     "text": [
      "[nems_lbhb.baphy_io INFO] evp file for licks: /auto/data/daq/Teonancatl/TNC016/TNC016a11_p_CPN.evp\n",
      "[nems_lbhb.baphy_io INFO] Loading /auto/data/daq/Teonancatl/TNC016/TNC016a11_p_CPN.m\n",
      "[nems_lbhb.baphy_io INFO] evp file for licks: /auto/data/daq/Teonancatl/TNC016/TNC016a11_p_CPN.evp\n",
      "[nems_lbhb.baphy_experiment INFO] Remove post-response events\n",
      "[nems_lbhb.baphy_experiment INFO] Removing post-reponse data\n",
      "[nems_lbhb.baphy_io INFO] rounding Trial offset spike times to even number of rasterfs bins\n",
      "[nems_lbhb.baphy_io INFO] 200 trials totaling 2908.81 sec\n",
      "[nems_lbhb.baphy_io INFO] Loading /auto/data/daq/Teonancatl/TNC016/TNC016a11_p_CPN.m\n",
      "[nems_lbhb.baphy_io INFO] evp file for licks: /auto/data/daq/Teonancatl/TNC016/TNC016a11_p_CPN.evp\n",
      "[nems_lbhb.baphy_experiment INFO] Creating trial epochs\n",
      "[nems_lbhb.baphy_experiment INFO] Creating stim epochs\n",
      "[nems_lbhb.baphy_experiment INFO] Creating Light epochs\n",
      "[nems_lbhb.baphy_io INFO] rounding Trial offset spike times to even number of rasterfs bins\n",
      "[nems_lbhb.baphy_io INFO] 200 trials totaling 2908.81 sec\n",
      "[nems_lbhb.baphy_experiment INFO] Caching recording: /auto/data/nems_db/recordings/Teonancatl/TNC016a/TNC016a_ccad14d04c796a79775333bb80ffb09cefd64cae.tgz\n",
      "[nems.recording INFO] Saving recording to : /auto/data/nems_db/recordings/Teonancatl/TNC016a/TNC016a_ccad14d04c796a79775333bb80ffb09cefd64cae.tgz\n",
      "[nems_lbhb.baphy_experiment INFO] Cached recording: /auto/data/nems_db/recordings/Teonancatl/TNC016a/TNC016a_956a9abd0a13b8417f0fa1eeea36ea02dfd72058.tgz\n",
      "[nems_lbhb.baphy_io INFO] Loading /auto/data/daq/Teonancatl/TNC016/TNC016a11_p_CPN.m\n"
     ]
    },
    {
     "name": "stdout",
     "output_type": "stream",
     "text": [
      "0 resp\n"
     ]
    },
    {
     "name": "stderr",
     "output_type": "stream",
     "text": [
      "[nems_lbhb.baphy_io INFO] evp file for licks: /auto/data/daq/Teonancatl/TNC016/TNC016a11_p_CPN.evp\n",
      "[nems_lbhb.baphy_io INFO] Loading /auto/data/daq/Teonancatl/TNC016/TNC016a11_p_CPN.m\n",
      "[nems_lbhb.baphy_io INFO] evp file for licks: /auto/data/daq/Teonancatl/TNC016/TNC016a11_p_CPN.evp\n",
      "[nems_lbhb.baphy_experiment INFO] Remove post-response events\n",
      "[nems_lbhb.baphy_experiment INFO] Removing post-reponse data\n",
      "[nems_lbhb.baphy_io INFO] rounding Trial offset spike times to even number of rasterfs bins\n",
      "[nems_lbhb.baphy_io INFO] 200 trials totaling 2908.81 sec\n",
      "[nems_lbhb.baphy_io INFO] Loading /auto/data/daq/Teonancatl/TNC016/TNC016a11_p_CPN.m\n",
      "[nems_lbhb.baphy_io INFO] evp file for licks: /auto/data/daq/Teonancatl/TNC016/TNC016a11_p_CPN.evp\n",
      "[nems_lbhb.baphy_experiment INFO] Creating trial epochs\n",
      "[nems_lbhb.baphy_experiment INFO] Creating stim epochs\n",
      "[nems_lbhb.baphy_experiment INFO] Creating Light epochs\n",
      "[nems_lbhb.baphy_io INFO] rounding Trial offset spike times to even number of rasterfs bins\n",
      "[nems_lbhb.baphy_io INFO] 200 trials totaling 2908.81 sec\n",
      "[nems_lbhb.baphy_experiment INFO] Caching recording: /auto/data/nems_db/recordings/Teonancatl/TNC016a/TNC016a_956a9abd0a13b8417f0fa1eeea36ea02dfd72058.tgz\n",
      "[nems.recording INFO] Saving recording to : /auto/data/nems_db/recordings/Teonancatl/TNC016a/TNC016a_956a9abd0a13b8417f0fa1eeea36ea02dfd72058.tgz\n",
      "[nems_lbhb.baphy_experiment INFO] Cached recording: /auto/data/nems_db/recordings/Teonancatl/TNC016a/TNC016a_ba0bf4880d36c457e834eccefa0af839ceaeb543.tgz\n",
      "[nems_lbhb.baphy_io INFO] Loading /auto/data/daq/Teonancatl/TNC016/TNC016a11_p_CPN.m\n"
     ]
    },
    {
     "name": "stdout",
     "output_type": "stream",
     "text": [
      "0 resp\n"
     ]
    },
    {
     "name": "stderr",
     "output_type": "stream",
     "text": [
      "[nems_lbhb.baphy_io INFO] evp file for licks: /auto/data/daq/Teonancatl/TNC016/TNC016a11_p_CPN.evp\n",
      "[nems_lbhb.baphy_io INFO] Loading /auto/data/daq/Teonancatl/TNC016/TNC016a11_p_CPN.m\n",
      "[nems_lbhb.baphy_io INFO] evp file for licks: /auto/data/daq/Teonancatl/TNC016/TNC016a11_p_CPN.evp\n",
      "[nems_lbhb.baphy_experiment INFO] Remove post-response events\n",
      "[nems_lbhb.baphy_experiment INFO] Removing post-reponse data\n",
      "[nems_lbhb.baphy_io INFO] rounding Trial offset spike times to even number of rasterfs bins\n",
      "[nems_lbhb.baphy_io INFO] 200 trials totaling 2908.81 sec\n",
      "[nems_lbhb.baphy_io INFO] Loading /auto/data/daq/Teonancatl/TNC016/TNC016a11_p_CPN.m\n",
      "[nems_lbhb.baphy_io INFO] evp file for licks: /auto/data/daq/Teonancatl/TNC016/TNC016a11_p_CPN.evp\n",
      "[nems_lbhb.baphy_experiment INFO] Creating trial epochs\n",
      "[nems_lbhb.baphy_experiment INFO] Creating stim epochs\n",
      "[nems_lbhb.baphy_experiment INFO] Creating Light epochs\n",
      "[nems_lbhb.baphy_io INFO] rounding Trial offset spike times to even number of rasterfs bins\n",
      "[nems_lbhb.baphy_io INFO] 200 trials totaling 2908.81 sec\n",
      "[nems_lbhb.baphy_experiment INFO] Caching recording: /auto/data/nems_db/recordings/Teonancatl/TNC016a/TNC016a_ba0bf4880d36c457e834eccefa0af839ceaeb543.tgz\n",
      "[nems.recording INFO] Saving recording to : /auto/data/nems_db/recordings/Teonancatl/TNC016a/TNC016a_ba0bf4880d36c457e834eccefa0af839ceaeb543.tgz\n",
      "[nems_lbhb.baphy_experiment INFO] Cached recording: /auto/data/nems_db/recordings/Teonancatl/TNC016a/TNC016a_ad129ae55757800a478b43e1da93b1c7006c7513.tgz\n",
      "[nems_lbhb.baphy_io INFO] Loading /auto/data/daq/Teonancatl/TNC016/TNC016a11_p_CPN.m\n"
     ]
    },
    {
     "name": "stdout",
     "output_type": "stream",
     "text": [
      "0 resp\n"
     ]
    },
    {
     "name": "stderr",
     "output_type": "stream",
     "text": [
      "[nems_lbhb.baphy_io INFO] evp file for licks: /auto/data/daq/Teonancatl/TNC016/TNC016a11_p_CPN.evp\n",
      "[nems_lbhb.baphy_io INFO] Loading /auto/data/daq/Teonancatl/TNC016/TNC016a11_p_CPN.m\n",
      "[nems_lbhb.baphy_io INFO] evp file for licks: /auto/data/daq/Teonancatl/TNC016/TNC016a11_p_CPN.evp\n",
      "[nems_lbhb.baphy_experiment INFO] Remove post-response events\n",
      "[nems_lbhb.baphy_experiment INFO] Removing post-reponse data\n",
      "[nems_lbhb.baphy_io INFO] rounding Trial offset spike times to even number of rasterfs bins\n",
      "[nems_lbhb.baphy_io INFO] 200 trials totaling 2908.81 sec\n",
      "[nems_lbhb.baphy_io INFO] Loading /auto/data/daq/Teonancatl/TNC016/TNC016a11_p_CPN.m\n",
      "[nems_lbhb.baphy_io INFO] evp file for licks: /auto/data/daq/Teonancatl/TNC016/TNC016a11_p_CPN.evp\n",
      "[nems_lbhb.baphy_experiment INFO] Creating trial epochs\n",
      "[nems_lbhb.baphy_experiment INFO] Creating stim epochs\n",
      "[nems_lbhb.baphy_experiment INFO] Creating Light epochs\n",
      "[nems_lbhb.baphy_io INFO] rounding Trial offset spike times to even number of rasterfs bins\n",
      "[nems_lbhb.baphy_io INFO] 200 trials totaling 2908.81 sec\n",
      "[nems_lbhb.baphy_experiment INFO] Caching recording: /auto/data/nems_db/recordings/Teonancatl/TNC016a/TNC016a_ad129ae55757800a478b43e1da93b1c7006c7513.tgz\n",
      "[nems.recording INFO] Saving recording to : /auto/data/nems_db/recordings/Teonancatl/TNC016a/TNC016a_ad129ae55757800a478b43e1da93b1c7006c7513.tgz\n",
      "[nems_lbhb.baphy_experiment INFO] Cached recording: /auto/data/nems_db/recordings/Teonancatl/TNC016a/TNC016a_054159e5b0dba39e2e2fdcb5cb1acc1a53ab902b.tgz\n",
      "[nems_lbhb.baphy_io INFO] Loading /auto/data/daq/Teonancatl/TNC016/TNC016a11_p_CPN.m\n"
     ]
    },
    {
     "name": "stdout",
     "output_type": "stream",
     "text": [
      "0 resp\n"
     ]
    },
    {
     "name": "stderr",
     "output_type": "stream",
     "text": [
      "[nems_lbhb.baphy_io INFO] evp file for licks: /auto/data/daq/Teonancatl/TNC016/TNC016a11_p_CPN.evp\n",
      "[nems_lbhb.baphy_io INFO] Loading /auto/data/daq/Teonancatl/TNC016/TNC016a11_p_CPN.m\n",
      "[nems_lbhb.baphy_io INFO] evp file for licks: /auto/data/daq/Teonancatl/TNC016/TNC016a11_p_CPN.evp\n",
      "[nems_lbhb.baphy_experiment INFO] Remove post-response events\n",
      "[nems_lbhb.baphy_experiment INFO] Removing post-reponse data\n",
      "[nems_lbhb.baphy_io INFO] rounding Trial offset spike times to even number of rasterfs bins\n",
      "[nems_lbhb.baphy_io INFO] 200 trials totaling 2908.81 sec\n",
      "[nems_lbhb.baphy_io INFO] Loading /auto/data/daq/Teonancatl/TNC016/TNC016a11_p_CPN.m\n",
      "[nems_lbhb.baphy_io INFO] evp file for licks: /auto/data/daq/Teonancatl/TNC016/TNC016a11_p_CPN.evp\n",
      "[nems_lbhb.baphy_experiment INFO] Creating trial epochs\n",
      "[nems_lbhb.baphy_experiment INFO] Creating stim epochs\n",
      "[nems_lbhb.baphy_experiment INFO] Creating Light epochs\n",
      "[nems_lbhb.baphy_io INFO] rounding Trial offset spike times to even number of rasterfs bins\n",
      "[nems_lbhb.baphy_io INFO] 200 trials totaling 2908.81 sec\n",
      "[nems_lbhb.baphy_experiment INFO] Caching recording: /auto/data/nems_db/recordings/Teonancatl/TNC016a/TNC016a_054159e5b0dba39e2e2fdcb5cb1acc1a53ab902b.tgz\n",
      "[nems.recording INFO] Saving recording to : /auto/data/nems_db/recordings/Teonancatl/TNC016a/TNC016a_054159e5b0dba39e2e2fdcb5cb1acc1a53ab902b.tgz\n",
      "[nems_lbhb.baphy_experiment INFO] Cached recording: /auto/data/nems_db/recordings/Teonancatl/TNC016a/TNC016a_c05f8ad0ad2b507ffa12ee2ac0eed8bb7241b250.tgz\n",
      "[nems_lbhb.baphy_io INFO] Loading /auto/data/daq/Teonancatl/TNC016/TNC016a11_p_CPN.m\n"
     ]
    },
    {
     "name": "stdout",
     "output_type": "stream",
     "text": [
      "0 resp\n"
     ]
    },
    {
     "name": "stderr",
     "output_type": "stream",
     "text": [
      "[nems_lbhb.baphy_io INFO] evp file for licks: /auto/data/daq/Teonancatl/TNC016/TNC016a11_p_CPN.evp\n",
      "[nems_lbhb.baphy_io INFO] Loading /auto/data/daq/Teonancatl/TNC016/TNC016a11_p_CPN.m\n",
      "[nems_lbhb.baphy_io INFO] evp file for licks: /auto/data/daq/Teonancatl/TNC016/TNC016a11_p_CPN.evp\n",
      "[nems_lbhb.baphy_experiment INFO] Remove post-response events\n",
      "[nems_lbhb.baphy_experiment INFO] Removing post-reponse data\n",
      "[nems_lbhb.baphy_io INFO] rounding Trial offset spike times to even number of rasterfs bins\n",
      "[nems_lbhb.baphy_io INFO] 200 trials totaling 2908.81 sec\n",
      "[nems_lbhb.baphy_io INFO] Loading /auto/data/daq/Teonancatl/TNC016/TNC016a11_p_CPN.m\n",
      "[nems_lbhb.baphy_io INFO] evp file for licks: /auto/data/daq/Teonancatl/TNC016/TNC016a11_p_CPN.evp\n",
      "[nems_lbhb.baphy_experiment INFO] Creating trial epochs\n",
      "[nems_lbhb.baphy_experiment INFO] Creating stim epochs\n",
      "[nems_lbhb.baphy_experiment INFO] Creating Light epochs\n",
      "[nems_lbhb.baphy_io INFO] rounding Trial offset spike times to even number of rasterfs bins\n",
      "[nems_lbhb.baphy_io INFO] 200 trials totaling 2908.81 sec\n",
      "[nems_lbhb.baphy_experiment INFO] Caching recording: /auto/data/nems_db/recordings/Teonancatl/TNC016a/TNC016a_c05f8ad0ad2b507ffa12ee2ac0eed8bb7241b250.tgz\n",
      "[nems.recording INFO] Saving recording to : /auto/data/nems_db/recordings/Teonancatl/TNC016a/TNC016a_c05f8ad0ad2b507ffa12ee2ac0eed8bb7241b250.tgz\n",
      "[nems_lbhb.baphy_experiment INFO] Cached recording: /auto/data/nems_db/recordings/Teonancatl/TNC016a/TNC016a_c5362a990c783f0a589a078af964e809bfa3aabd.tgz\n",
      "[nems_lbhb.baphy_io INFO] Loading /auto/data/daq/Teonancatl/TNC016/TNC016a11_p_CPN.m\n"
     ]
    },
    {
     "name": "stdout",
     "output_type": "stream",
     "text": [
      "0 resp\n"
     ]
    },
    {
     "name": "stderr",
     "output_type": "stream",
     "text": [
      "[nems_lbhb.baphy_io INFO] evp file for licks: /auto/data/daq/Teonancatl/TNC016/TNC016a11_p_CPN.evp\n",
      "[nems_lbhb.baphy_io INFO] Loading /auto/data/daq/Teonancatl/TNC016/TNC016a11_p_CPN.m\n",
      "[nems_lbhb.baphy_io INFO] evp file for licks: /auto/data/daq/Teonancatl/TNC016/TNC016a11_p_CPN.evp\n",
      "[nems_lbhb.baphy_experiment INFO] Remove post-response events\n",
      "[nems_lbhb.baphy_experiment INFO] Removing post-reponse data\n",
      "[nems_lbhb.baphy_io INFO] rounding Trial offset spike times to even number of rasterfs bins\n",
      "[nems_lbhb.baphy_io INFO] 200 trials totaling 2908.81 sec\n",
      "[nems_lbhb.baphy_io INFO] Loading /auto/data/daq/Teonancatl/TNC016/TNC016a11_p_CPN.m\n",
      "[nems_lbhb.baphy_io INFO] evp file for licks: /auto/data/daq/Teonancatl/TNC016/TNC016a11_p_CPN.evp\n",
      "[nems_lbhb.baphy_experiment INFO] Creating trial epochs\n",
      "[nems_lbhb.baphy_experiment INFO] Creating stim epochs\n",
      "[nems_lbhb.baphy_experiment INFO] Creating Light epochs\n",
      "[nems_lbhb.baphy_io INFO] rounding Trial offset spike times to even number of rasterfs bins\n",
      "[nems_lbhb.baphy_io INFO] 200 trials totaling 2908.81 sec\n",
      "[nems_lbhb.baphy_experiment INFO] Caching recording: /auto/data/nems_db/recordings/Teonancatl/TNC016a/TNC016a_c5362a990c783f0a589a078af964e809bfa3aabd.tgz\n",
      "[nems.recording INFO] Saving recording to : /auto/data/nems_db/recordings/Teonancatl/TNC016a/TNC016a_c5362a990c783f0a589a078af964e809bfa3aabd.tgz\n",
      "[nems_lbhb.baphy_experiment INFO] Cached recording: /auto/data/nems_db/recordings/Teonancatl/TNC016a/TNC016a_6c87a439002b2789a3519e19acdb22eb673ebdc3.tgz\n",
      "[nems_lbhb.baphy_io INFO] Loading /auto/data/daq/Teonancatl/TNC016/TNC016a11_p_CPN.m\n"
     ]
    },
    {
     "name": "stdout",
     "output_type": "stream",
     "text": [
      "0 resp\n"
     ]
    },
    {
     "name": "stderr",
     "output_type": "stream",
     "text": [
      "[nems_lbhb.baphy_io INFO] evp file for licks: /auto/data/daq/Teonancatl/TNC016/TNC016a11_p_CPN.evp\n",
      "[nems_lbhb.baphy_io INFO] Loading /auto/data/daq/Teonancatl/TNC016/TNC016a11_p_CPN.m\n",
      "[nems_lbhb.baphy_io INFO] evp file for licks: /auto/data/daq/Teonancatl/TNC016/TNC016a11_p_CPN.evp\n",
      "[nems_lbhb.baphy_experiment INFO] Remove post-response events\n",
      "[nems_lbhb.baphy_experiment INFO] Removing post-reponse data\n",
      "[nems_lbhb.baphy_io INFO] rounding Trial offset spike times to even number of rasterfs bins\n",
      "[nems_lbhb.baphy_io INFO] 200 trials totaling 2908.81 sec\n",
      "[nems_lbhb.baphy_io INFO] Loading /auto/data/daq/Teonancatl/TNC016/TNC016a11_p_CPN.m\n",
      "[nems_lbhb.baphy_io INFO] evp file for licks: /auto/data/daq/Teonancatl/TNC016/TNC016a11_p_CPN.evp\n",
      "[nems_lbhb.baphy_experiment INFO] Creating trial epochs\n",
      "[nems_lbhb.baphy_experiment INFO] Creating stim epochs\n",
      "[nems_lbhb.baphy_experiment INFO] Creating Light epochs\n",
      "[nems_lbhb.baphy_io INFO] rounding Trial offset spike times to even number of rasterfs bins\n",
      "[nems_lbhb.baphy_io INFO] 200 trials totaling 2908.81 sec\n",
      "[nems_lbhb.baphy_experiment INFO] Caching recording: /auto/data/nems_db/recordings/Teonancatl/TNC016a/TNC016a_6c87a439002b2789a3519e19acdb22eb673ebdc3.tgz\n",
      "[nems.recording INFO] Saving recording to : /auto/data/nems_db/recordings/Teonancatl/TNC016a/TNC016a_6c87a439002b2789a3519e19acdb22eb673ebdc3.tgz\n",
      "[nems_lbhb.baphy_experiment INFO] Cached recording: /auto/data/nems_db/recordings/Teonancatl/TNC016a/TNC016a_00480b6d7275e50dc355daeec75b177338ae2698.tgz\n",
      "[nems_lbhb.baphy_io INFO] Loading /auto/data/daq/Teonancatl/TNC016/TNC016a11_p_CPN.m\n"
     ]
    },
    {
     "name": "stdout",
     "output_type": "stream",
     "text": [
      "0 resp\n"
     ]
    },
    {
     "name": "stderr",
     "output_type": "stream",
     "text": [
      "[nems_lbhb.baphy_io INFO] evp file for licks: /auto/data/daq/Teonancatl/TNC016/TNC016a11_p_CPN.evp\n",
      "[nems_lbhb.baphy_io INFO] Loading /auto/data/daq/Teonancatl/TNC016/TNC016a11_p_CPN.m\n",
      "[nems_lbhb.baphy_io INFO] evp file for licks: /auto/data/daq/Teonancatl/TNC016/TNC016a11_p_CPN.evp\n",
      "[nems_lbhb.baphy_experiment INFO] Remove post-response events\n",
      "[nems_lbhb.baphy_experiment INFO] Removing post-reponse data\n",
      "[nems_lbhb.baphy_io INFO] rounding Trial offset spike times to even number of rasterfs bins\n",
      "[nems_lbhb.baphy_io INFO] 200 trials totaling 2908.81 sec\n",
      "[nems_lbhb.baphy_io INFO] Loading /auto/data/daq/Teonancatl/TNC016/TNC016a11_p_CPN.m\n",
      "[nems_lbhb.baphy_io INFO] evp file for licks: /auto/data/daq/Teonancatl/TNC016/TNC016a11_p_CPN.evp\n",
      "[nems_lbhb.baphy_experiment INFO] Creating trial epochs\n",
      "[nems_lbhb.baphy_experiment INFO] Creating stim epochs\n",
      "[nems_lbhb.baphy_experiment INFO] Creating Light epochs\n",
      "[nems_lbhb.baphy_io INFO] rounding Trial offset spike times to even number of rasterfs bins\n",
      "[nems_lbhb.baphy_io INFO] 200 trials totaling 2908.81 sec\n",
      "[nems_lbhb.baphy_experiment INFO] Caching recording: /auto/data/nems_db/recordings/Teonancatl/TNC016a/TNC016a_00480b6d7275e50dc355daeec75b177338ae2698.tgz\n",
      "[nems.recording INFO] Saving recording to : /auto/data/nems_db/recordings/Teonancatl/TNC016a/TNC016a_00480b6d7275e50dc355daeec75b177338ae2698.tgz\n",
      "[nems_lbhb.baphy_experiment INFO] Cached recording: /auto/data/nems_db/recordings/Teonancatl/TNC016a/TNC016a_a7f55eb60e65c95391c07e20e52764963f832d97.tgz\n",
      "[nems_lbhb.baphy_io INFO] Loading /auto/data/daq/Teonancatl/TNC016/TNC016a11_p_CPN.m\n"
     ]
    },
    {
     "name": "stdout",
     "output_type": "stream",
     "text": [
      "0 resp\n"
     ]
    },
    {
     "name": "stderr",
     "output_type": "stream",
     "text": [
      "[nems_lbhb.baphy_io INFO] evp file for licks: /auto/data/daq/Teonancatl/TNC016/TNC016a11_p_CPN.evp\n",
      "[nems_lbhb.baphy_io INFO] Loading /auto/data/daq/Teonancatl/TNC016/TNC016a11_p_CPN.m\n",
      "[nems_lbhb.baphy_io INFO] evp file for licks: /auto/data/daq/Teonancatl/TNC016/TNC016a11_p_CPN.evp\n",
      "[nems_lbhb.baphy_experiment INFO] Remove post-response events\n",
      "[nems_lbhb.baphy_experiment INFO] Removing post-reponse data\n",
      "[nems_lbhb.baphy_io INFO] rounding Trial offset spike times to even number of rasterfs bins\n",
      "[nems_lbhb.baphy_io INFO] 200 trials totaling 2908.81 sec\n",
      "[nems_lbhb.baphy_io INFO] Loading /auto/data/daq/Teonancatl/TNC016/TNC016a11_p_CPN.m\n",
      "[nems_lbhb.baphy_io INFO] evp file for licks: /auto/data/daq/Teonancatl/TNC016/TNC016a11_p_CPN.evp\n",
      "[nems_lbhb.baphy_experiment INFO] Creating trial epochs\n",
      "[nems_lbhb.baphy_experiment INFO] Creating stim epochs\n",
      "[nems_lbhb.baphy_experiment INFO] Creating Light epochs\n",
      "[nems_lbhb.baphy_io INFO] rounding Trial offset spike times to even number of rasterfs bins\n",
      "[nems_lbhb.baphy_io INFO] 200 trials totaling 2908.81 sec\n",
      "[nems_lbhb.baphy_experiment INFO] Caching recording: /auto/data/nems_db/recordings/Teonancatl/TNC016a/TNC016a_a7f55eb60e65c95391c07e20e52764963f832d97.tgz\n",
      "[nems.recording INFO] Saving recording to : /auto/data/nems_db/recordings/Teonancatl/TNC016a/TNC016a_a7f55eb60e65c95391c07e20e52764963f832d97.tgz\n",
      "[nems_lbhb.baphy_experiment INFO] Cached recording: /auto/data/nems_db/recordings/Teonancatl/TNC016a/TNC016a_dd543b5454c6114c92a844409da4c8d1fcb87f09.tgz\n",
      "[nems_lbhb.baphy_io INFO] Loading /auto/data/daq/Teonancatl/TNC016/TNC016a11_p_CPN.m\n"
     ]
    },
    {
     "name": "stdout",
     "output_type": "stream",
     "text": [
      "0 resp\n"
     ]
    },
    {
     "name": "stderr",
     "output_type": "stream",
     "text": [
      "[nems_lbhb.baphy_io INFO] evp file for licks: /auto/data/daq/Teonancatl/TNC016/TNC016a11_p_CPN.evp\n",
      "[nems_lbhb.baphy_io INFO] Loading /auto/data/daq/Teonancatl/TNC016/TNC016a11_p_CPN.m\n",
      "[nems_lbhb.baphy_io INFO] evp file for licks: /auto/data/daq/Teonancatl/TNC016/TNC016a11_p_CPN.evp\n",
      "[nems_lbhb.baphy_experiment INFO] Remove post-response events\n",
      "[nems_lbhb.baphy_experiment INFO] Removing post-reponse data\n",
      "[nems_lbhb.baphy_io INFO] rounding Trial offset spike times to even number of rasterfs bins\n",
      "[nems_lbhb.baphy_io INFO] 200 trials totaling 2908.81 sec\n",
      "[nems_lbhb.baphy_io INFO] Loading /auto/data/daq/Teonancatl/TNC016/TNC016a11_p_CPN.m\n",
      "[nems_lbhb.baphy_io INFO] evp file for licks: /auto/data/daq/Teonancatl/TNC016/TNC016a11_p_CPN.evp\n",
      "[nems_lbhb.baphy_experiment INFO] Creating trial epochs\n",
      "[nems_lbhb.baphy_experiment INFO] Creating stim epochs\n",
      "[nems_lbhb.baphy_experiment INFO] Creating Light epochs\n",
      "[nems_lbhb.baphy_io INFO] rounding Trial offset spike times to even number of rasterfs bins\n",
      "[nems_lbhb.baphy_io INFO] 200 trials totaling 2908.81 sec\n",
      "[nems_lbhb.baphy_experiment INFO] Caching recording: /auto/data/nems_db/recordings/Teonancatl/TNC016a/TNC016a_dd543b5454c6114c92a844409da4c8d1fcb87f09.tgz\n",
      "[nems.recording INFO] Saving recording to : /auto/data/nems_db/recordings/Teonancatl/TNC016a/TNC016a_dd543b5454c6114c92a844409da4c8d1fcb87f09.tgz\n",
      "[nems_lbhb.baphy_experiment INFO] Cached recording: /auto/data/nems_db/recordings/Teonancatl/TNC016a/TNC016a_bb1dc27881c7b6e99f8afd05a32c5ab1efd8c3e4.tgz\n",
      "[nems_lbhb.baphy_io INFO] Loading /auto/data/daq/Teonancatl/TNC016/TNC016a11_p_CPN.m\n"
     ]
    },
    {
     "name": "stdout",
     "output_type": "stream",
     "text": [
      "0 resp\n"
     ]
    },
    {
     "name": "stderr",
     "output_type": "stream",
     "text": [
      "[nems_lbhb.baphy_io INFO] evp file for licks: /auto/data/daq/Teonancatl/TNC016/TNC016a11_p_CPN.evp\n",
      "[nems_lbhb.baphy_io INFO] Loading /auto/data/daq/Teonancatl/TNC016/TNC016a11_p_CPN.m\n",
      "[nems_lbhb.baphy_io INFO] evp file for licks: /auto/data/daq/Teonancatl/TNC016/TNC016a11_p_CPN.evp\n",
      "[nems_lbhb.baphy_experiment INFO] Remove post-response events\n",
      "[nems_lbhb.baphy_experiment INFO] Removing post-reponse data\n",
      "[nems_lbhb.baphy_io INFO] rounding Trial offset spike times to even number of rasterfs bins\n",
      "[nems_lbhb.baphy_io INFO] 200 trials totaling 2908.81 sec\n",
      "[nems_lbhb.baphy_io INFO] Loading /auto/data/daq/Teonancatl/TNC016/TNC016a11_p_CPN.m\n",
      "[nems_lbhb.baphy_io INFO] evp file for licks: /auto/data/daq/Teonancatl/TNC016/TNC016a11_p_CPN.evp\n",
      "[nems_lbhb.baphy_experiment INFO] Creating trial epochs\n",
      "[nems_lbhb.baphy_experiment INFO] Creating stim epochs\n",
      "[nems_lbhb.baphy_experiment INFO] Creating Light epochs\n",
      "[nems_lbhb.baphy_io INFO] rounding Trial offset spike times to even number of rasterfs bins\n",
      "[nems_lbhb.baphy_io INFO] 200 trials totaling 2908.81 sec\n",
      "[nems_lbhb.baphy_experiment INFO] Caching recording: /auto/data/nems_db/recordings/Teonancatl/TNC016a/TNC016a_bb1dc27881c7b6e99f8afd05a32c5ab1efd8c3e4.tgz\n",
      "[nems.recording INFO] Saving recording to : /auto/data/nems_db/recordings/Teonancatl/TNC016a/TNC016a_bb1dc27881c7b6e99f8afd05a32c5ab1efd8c3e4.tgz\n",
      "[nems_lbhb.baphy_experiment INFO] Cached recording: /auto/data/nems_db/recordings/Teonancatl/TNC016a/TNC016a_53c1df8ead9b4de1c167295f4dabbf162e37b1cb.tgz\n",
      "[nems_lbhb.baphy_io INFO] Loading /auto/data/daq/Teonancatl/TNC016/TNC016a11_p_CPN.m\n"
     ]
    },
    {
     "name": "stdout",
     "output_type": "stream",
     "text": [
      "0 resp\n"
     ]
    },
    {
     "name": "stderr",
     "output_type": "stream",
     "text": [
      "[nems_lbhb.baphy_io INFO] evp file for licks: /auto/data/daq/Teonancatl/TNC016/TNC016a11_p_CPN.evp\n",
      "[nems_lbhb.baphy_io INFO] Loading /auto/data/daq/Teonancatl/TNC016/TNC016a11_p_CPN.m\n",
      "[nems_lbhb.baphy_io INFO] evp file for licks: /auto/data/daq/Teonancatl/TNC016/TNC016a11_p_CPN.evp\n",
      "[nems_lbhb.baphy_experiment INFO] Remove post-response events\n",
      "[nems_lbhb.baphy_experiment INFO] Removing post-reponse data\n",
      "[nems_lbhb.baphy_io INFO] rounding Trial offset spike times to even number of rasterfs bins\n",
      "[nems_lbhb.baphy_io INFO] 200 trials totaling 2908.81 sec\n",
      "[nems_lbhb.baphy_io INFO] Loading /auto/data/daq/Teonancatl/TNC016/TNC016a11_p_CPN.m\n",
      "[nems_lbhb.baphy_io INFO] evp file for licks: /auto/data/daq/Teonancatl/TNC016/TNC016a11_p_CPN.evp\n",
      "[nems_lbhb.baphy_experiment INFO] Creating trial epochs\n",
      "[nems_lbhb.baphy_experiment INFO] Creating stim epochs\n",
      "[nems_lbhb.baphy_experiment INFO] Creating Light epochs\n",
      "[nems_lbhb.baphy_io INFO] rounding Trial offset spike times to even number of rasterfs bins\n",
      "[nems_lbhb.baphy_io INFO] 200 trials totaling 2908.81 sec\n",
      "[nems_lbhb.baphy_experiment INFO] Caching recording: /auto/data/nems_db/recordings/Teonancatl/TNC016a/TNC016a_53c1df8ead9b4de1c167295f4dabbf162e37b1cb.tgz\n",
      "[nems.recording INFO] Saving recording to : /auto/data/nems_db/recordings/Teonancatl/TNC016a/TNC016a_53c1df8ead9b4de1c167295f4dabbf162e37b1cb.tgz\n",
      "[nems_lbhb.baphy_experiment INFO] Cached recording: /auto/data/nems_db/recordings/Teonancatl/TNC016a/TNC016a_709c450a43d31c567683c01117d721f6dedbaa22.tgz\n",
      "[nems_lbhb.baphy_io INFO] Loading /auto/data/daq/Teonancatl/TNC016/TNC016a11_p_CPN.m\n"
     ]
    },
    {
     "name": "stdout",
     "output_type": "stream",
     "text": [
      "0 resp\n"
     ]
    },
    {
     "name": "stderr",
     "output_type": "stream",
     "text": [
      "[nems_lbhb.baphy_io INFO] evp file for licks: /auto/data/daq/Teonancatl/TNC016/TNC016a11_p_CPN.evp\n",
      "[nems_lbhb.baphy_io INFO] Loading /auto/data/daq/Teonancatl/TNC016/TNC016a11_p_CPN.m\n",
      "[nems_lbhb.baphy_io INFO] evp file for licks: /auto/data/daq/Teonancatl/TNC016/TNC016a11_p_CPN.evp\n",
      "[nems_lbhb.baphy_experiment INFO] Remove post-response events\n",
      "[nems_lbhb.baphy_experiment INFO] Removing post-reponse data\n",
      "[nems_lbhb.baphy_io INFO] rounding Trial offset spike times to even number of rasterfs bins\n",
      "[nems_lbhb.baphy_io INFO] 200 trials totaling 2908.81 sec\n",
      "[nems_lbhb.baphy_io INFO] Loading /auto/data/daq/Teonancatl/TNC016/TNC016a11_p_CPN.m\n",
      "[nems_lbhb.baphy_io INFO] evp file for licks: /auto/data/daq/Teonancatl/TNC016/TNC016a11_p_CPN.evp\n",
      "[nems_lbhb.baphy_experiment INFO] Creating trial epochs\n",
      "[nems_lbhb.baphy_experiment INFO] Creating stim epochs\n",
      "[nems_lbhb.baphy_experiment INFO] Creating Light epochs\n",
      "[nems_lbhb.baphy_io INFO] rounding Trial offset spike times to even number of rasterfs bins\n",
      "[nems_lbhb.baphy_io INFO] 200 trials totaling 2908.81 sec\n",
      "[nems_lbhb.baphy_experiment INFO] Caching recording: /auto/data/nems_db/recordings/Teonancatl/TNC016a/TNC016a_709c450a43d31c567683c01117d721f6dedbaa22.tgz\n",
      "[nems.recording INFO] Saving recording to : /auto/data/nems_db/recordings/Teonancatl/TNC016a/TNC016a_709c450a43d31c567683c01117d721f6dedbaa22.tgz\n",
      "[nems_lbhb.baphy_experiment INFO] Cached recording: /auto/data/nems_db/recordings/Teonancatl/TNC016a/TNC016a_ee5c82029c0d09f85fb7fb20c76d850e9d77c950.tgz\n",
      "[nems_lbhb.baphy_io INFO] Loading /auto/data/daq/Teonancatl/TNC016/TNC016a11_p_CPN.m\n"
     ]
    },
    {
     "name": "stdout",
     "output_type": "stream",
     "text": [
      "0 resp\n"
     ]
    },
    {
     "name": "stderr",
     "output_type": "stream",
     "text": [
      "[nems_lbhb.baphy_io INFO] evp file for licks: /auto/data/daq/Teonancatl/TNC016/TNC016a11_p_CPN.evp\n",
      "[nems_lbhb.baphy_io INFO] Loading /auto/data/daq/Teonancatl/TNC016/TNC016a11_p_CPN.m\n",
      "[nems_lbhb.baphy_io INFO] evp file for licks: /auto/data/daq/Teonancatl/TNC016/TNC016a11_p_CPN.evp\n",
      "[nems_lbhb.baphy_experiment INFO] Remove post-response events\n",
      "[nems_lbhb.baphy_experiment INFO] Removing post-reponse data\n",
      "[nems_lbhb.baphy_io INFO] rounding Trial offset spike times to even number of rasterfs bins\n",
      "[nems_lbhb.baphy_io INFO] 200 trials totaling 2908.81 sec\n",
      "[nems_lbhb.baphy_io INFO] Loading /auto/data/daq/Teonancatl/TNC016/TNC016a11_p_CPN.m\n",
      "[nems_lbhb.baphy_io INFO] evp file for licks: /auto/data/daq/Teonancatl/TNC016/TNC016a11_p_CPN.evp\n",
      "[nems_lbhb.baphy_experiment INFO] Creating trial epochs\n",
      "[nems_lbhb.baphy_experiment INFO] Creating stim epochs\n",
      "[nems_lbhb.baphy_experiment INFO] Creating Light epochs\n",
      "[nems_lbhb.baphy_io INFO] rounding Trial offset spike times to even number of rasterfs bins\n",
      "[nems_lbhb.baphy_io INFO] 200 trials totaling 2908.81 sec\n",
      "[nems_lbhb.baphy_experiment INFO] Caching recording: /auto/data/nems_db/recordings/Teonancatl/TNC016a/TNC016a_ee5c82029c0d09f85fb7fb20c76d850e9d77c950.tgz\n",
      "[nems.recording INFO] Saving recording to : /auto/data/nems_db/recordings/Teonancatl/TNC016a/TNC016a_ee5c82029c0d09f85fb7fb20c76d850e9d77c950.tgz\n"
     ]
    },
    {
     "name": "stdout",
     "output_type": "stream",
     "text": [
      "0 resp\n"
     ]
    },
    {
     "name": "stderr",
     "output_type": "stream",
     "text": [
      "[nems_lbhb.baphy_experiment INFO] Cached recording: /auto/data/nems_db/recordings/Teonancatl/TNC016a/TNC016a_003d92f1a2545ee7d8500886fe733d033aa9ac75.tgz\n",
      "[nems_lbhb.baphy_io INFO] Loading /auto/data/daq/Teonancatl/TNC016/TNC016a11_p_CPN.m\n",
      "[nems_lbhb.baphy_io INFO] evp file for licks: /auto/data/daq/Teonancatl/TNC016/TNC016a11_p_CPN.evp\n",
      "[nems_lbhb.baphy_io INFO] Loading /auto/data/daq/Teonancatl/TNC016/TNC016a11_p_CPN.m\n",
      "[nems_lbhb.baphy_io INFO] evp file for licks: /auto/data/daq/Teonancatl/TNC016/TNC016a11_p_CPN.evp\n",
      "[nems_lbhb.baphy_experiment INFO] Remove post-response events\n",
      "[nems_lbhb.baphy_experiment INFO] Removing post-reponse data\n",
      "[nems_lbhb.baphy_io INFO] rounding Trial offset spike times to even number of rasterfs bins\n",
      "[nems_lbhb.baphy_io INFO] 200 trials totaling 2908.81 sec\n",
      "[nems_lbhb.baphy_io INFO] Loading /auto/data/daq/Teonancatl/TNC016/TNC016a11_p_CPN.m\n",
      "[nems_lbhb.baphy_io INFO] evp file for licks: /auto/data/daq/Teonancatl/TNC016/TNC016a11_p_CPN.evp\n",
      "[nems_lbhb.baphy_experiment INFO] Creating trial epochs\n",
      "[nems_lbhb.baphy_experiment INFO] Creating stim epochs\n",
      "[nems_lbhb.baphy_experiment INFO] Creating Light epochs\n",
      "[nems_lbhb.baphy_io INFO] rounding Trial offset spike times to even number of rasterfs bins\n",
      "[nems_lbhb.baphy_io INFO] 200 trials totaling 2908.81 sec\n",
      "[nems_lbhb.baphy_experiment INFO] Caching recording: /auto/data/nems_db/recordings/Teonancatl/TNC016a/TNC016a_003d92f1a2545ee7d8500886fe733d033aa9ac75.tgz\n",
      "[nems.recording INFO] Saving recording to : /auto/data/nems_db/recordings/Teonancatl/TNC016a/TNC016a_003d92f1a2545ee7d8500886fe733d033aa9ac75.tgz\n",
      "[nems_lbhb.baphy_experiment INFO] Cached recording: /auto/data/nems_db/recordings/Teonancatl/TNC018a/TNC018a_d627b0390f59d1d4588c53805c4a7f95692bba0f.tgz\n",
      "[nems_lbhb.baphy_io INFO] Loading /auto/data/daq/Teonancatl/TNC018/TNC018a12_p_CPN.m\n"
     ]
    },
    {
     "name": "stdout",
     "output_type": "stream",
     "text": [
      "0 resp\n"
     ]
    },
    {
     "name": "stderr",
     "output_type": "stream",
     "text": [
      "[nems_lbhb.baphy_io INFO] evp file for licks: /auto/data/daq/Teonancatl/TNC018/TNC018a12_p_CPN.evp\n",
      "[nems_lbhb.baphy_io INFO] Loading /auto/data/daq/Teonancatl/TNC018/TNC018a12_p_CPN.m\n",
      "[nems_lbhb.baphy_io INFO] evp file for licks: /auto/data/daq/Teonancatl/TNC018/TNC018a12_p_CPN.evp\n",
      "[nems_lbhb.baphy_experiment INFO] Remove post-response events\n",
      "[nems_lbhb.baphy_experiment INFO] Removing post-reponse data\n",
      "[nems_lbhb.baphy_io INFO] rounding Trial offset spike times to even number of rasterfs bins\n",
      "[nems_lbhb.baphy_io INFO] 200 trials totaling 2924.09 sec\n",
      "[nems_lbhb.baphy_io INFO] Loading /auto/data/daq/Teonancatl/TNC018/TNC018a12_p_CPN.m\n",
      "[nems_lbhb.baphy_io INFO] evp file for licks: /auto/data/daq/Teonancatl/TNC018/TNC018a12_p_CPN.evp\n",
      "[nems_lbhb.baphy_experiment INFO] Creating trial epochs\n",
      "[nems_lbhb.baphy_experiment INFO] Creating stim epochs\n",
      "[nems_lbhb.baphy_experiment INFO] Creating Light epochs\n",
      "[nems_lbhb.baphy_io INFO] rounding Trial offset spike times to even number of rasterfs bins\n",
      "[nems_lbhb.baphy_io INFO] 200 trials totaling 2924.09 sec\n",
      "[nems_lbhb.baphy_experiment INFO] Caching recording: /auto/data/nems_db/recordings/Teonancatl/TNC018a/TNC018a_d627b0390f59d1d4588c53805c4a7f95692bba0f.tgz\n",
      "[nems.recording INFO] Saving recording to : /auto/data/nems_db/recordings/Teonancatl/TNC018a/TNC018a_d627b0390f59d1d4588c53805c4a7f95692bba0f.tgz\n",
      "[nems_lbhb.baphy_experiment INFO] Cached recording: /auto/data/nems_db/recordings/Teonancatl/TNC018a/TNC018a_a75369dedabfad8cd726b2ef05d9827bd2ad9841.tgz\n",
      "[nems_lbhb.baphy_io INFO] Loading /auto/data/daq/Teonancatl/TNC018/TNC018a12_p_CPN.m\n"
     ]
    },
    {
     "name": "stdout",
     "output_type": "stream",
     "text": [
      "0 resp\n"
     ]
    },
    {
     "name": "stderr",
     "output_type": "stream",
     "text": [
      "[nems_lbhb.baphy_io INFO] evp file for licks: /auto/data/daq/Teonancatl/TNC018/TNC018a12_p_CPN.evp\n",
      "[nems_lbhb.baphy_io INFO] Loading /auto/data/daq/Teonancatl/TNC018/TNC018a12_p_CPN.m\n",
      "[nems_lbhb.baphy_io INFO] evp file for licks: /auto/data/daq/Teonancatl/TNC018/TNC018a12_p_CPN.evp\n",
      "[nems_lbhb.baphy_experiment INFO] Remove post-response events\n",
      "[nems_lbhb.baphy_experiment INFO] Removing post-reponse data\n",
      "[nems_lbhb.baphy_io INFO] rounding Trial offset spike times to even number of rasterfs bins\n",
      "[nems_lbhb.baphy_io INFO] 200 trials totaling 2924.09 sec\n",
      "[nems_lbhb.baphy_io INFO] Loading /auto/data/daq/Teonancatl/TNC018/TNC018a12_p_CPN.m\n",
      "[nems_lbhb.baphy_io INFO] evp file for licks: /auto/data/daq/Teonancatl/TNC018/TNC018a12_p_CPN.evp\n",
      "[nems_lbhb.baphy_experiment INFO] Creating trial epochs\n",
      "[nems_lbhb.baphy_experiment INFO] Creating stim epochs\n",
      "[nems_lbhb.baphy_experiment INFO] Creating Light epochs\n",
      "[nems_lbhb.baphy_io INFO] rounding Trial offset spike times to even number of rasterfs bins\n",
      "[nems_lbhb.baphy_io INFO] 200 trials totaling 2924.09 sec\n",
      "[nems_lbhb.baphy_experiment INFO] Caching recording: /auto/data/nems_db/recordings/Teonancatl/TNC018a/TNC018a_a75369dedabfad8cd726b2ef05d9827bd2ad9841.tgz\n",
      "[nems.recording INFO] Saving recording to : /auto/data/nems_db/recordings/Teonancatl/TNC018a/TNC018a_a75369dedabfad8cd726b2ef05d9827bd2ad9841.tgz\n",
      "[nems_lbhb.baphy_experiment INFO] Cached recording: /auto/data/nems_db/recordings/Teonancatl/TNC018a/TNC018a_e730e1e32d721325f4b9273791ab01359d405126.tgz\n",
      "[nems_lbhb.baphy_io INFO] Loading /auto/data/daq/Teonancatl/TNC018/TNC018a12_p_CPN.m\n"
     ]
    },
    {
     "name": "stdout",
     "output_type": "stream",
     "text": [
      "0 resp\n"
     ]
    },
    {
     "name": "stderr",
     "output_type": "stream",
     "text": [
      "[nems_lbhb.baphy_io INFO] evp file for licks: /auto/data/daq/Teonancatl/TNC018/TNC018a12_p_CPN.evp\n",
      "[nems_lbhb.baphy_io INFO] Loading /auto/data/daq/Teonancatl/TNC018/TNC018a12_p_CPN.m\n",
      "[nems_lbhb.baphy_io INFO] evp file for licks: /auto/data/daq/Teonancatl/TNC018/TNC018a12_p_CPN.evp\n",
      "[nems_lbhb.baphy_experiment INFO] Remove post-response events\n",
      "[nems_lbhb.baphy_experiment INFO] Removing post-reponse data\n",
      "[nems_lbhb.baphy_io INFO] rounding Trial offset spike times to even number of rasterfs bins\n",
      "[nems_lbhb.baphy_io INFO] 200 trials totaling 2924.09 sec\n",
      "[nems_lbhb.baphy_io INFO] Loading /auto/data/daq/Teonancatl/TNC018/TNC018a12_p_CPN.m\n",
      "[nems_lbhb.baphy_io INFO] evp file for licks: /auto/data/daq/Teonancatl/TNC018/TNC018a12_p_CPN.evp\n",
      "[nems_lbhb.baphy_experiment INFO] Creating trial epochs\n",
      "[nems_lbhb.baphy_experiment INFO] Creating stim epochs\n",
      "[nems_lbhb.baphy_experiment INFO] Creating Light epochs\n",
      "[nems_lbhb.baphy_io INFO] rounding Trial offset spike times to even number of rasterfs bins\n",
      "[nems_lbhb.baphy_io INFO] 200 trials totaling 2924.09 sec\n",
      "[nems_lbhb.baphy_experiment INFO] Caching recording: /auto/data/nems_db/recordings/Teonancatl/TNC018a/TNC018a_e730e1e32d721325f4b9273791ab01359d405126.tgz\n",
      "[nems.recording INFO] Saving recording to : /auto/data/nems_db/recordings/Teonancatl/TNC018a/TNC018a_e730e1e32d721325f4b9273791ab01359d405126.tgz\n",
      "[nems_lbhb.baphy_experiment INFO] Cached recording: /auto/data/nems_db/recordings/Teonancatl/TNC018a/TNC018a_d4159679c4bb77905baa1c4d0aec39b18f27db71.tgz\n",
      "[nems_lbhb.baphy_io INFO] Loading /auto/data/daq/Teonancatl/TNC018/TNC018a12_p_CPN.m\n"
     ]
    },
    {
     "name": "stdout",
     "output_type": "stream",
     "text": [
      "0 resp\n"
     ]
    },
    {
     "name": "stderr",
     "output_type": "stream",
     "text": [
      "[nems_lbhb.baphy_io INFO] evp file for licks: /auto/data/daq/Teonancatl/TNC018/TNC018a12_p_CPN.evp\n",
      "[nems_lbhb.baphy_io INFO] Loading /auto/data/daq/Teonancatl/TNC018/TNC018a12_p_CPN.m\n",
      "[nems_lbhb.baphy_io INFO] evp file for licks: /auto/data/daq/Teonancatl/TNC018/TNC018a12_p_CPN.evp\n",
      "[nems_lbhb.baphy_experiment INFO] Remove post-response events\n",
      "[nems_lbhb.baphy_experiment INFO] Removing post-reponse data\n",
      "[nems_lbhb.baphy_io INFO] rounding Trial offset spike times to even number of rasterfs bins\n",
      "[nems_lbhb.baphy_io INFO] 200 trials totaling 2924.09 sec\n",
      "[nems_lbhb.baphy_io INFO] Loading /auto/data/daq/Teonancatl/TNC018/TNC018a12_p_CPN.m\n",
      "[nems_lbhb.baphy_io INFO] evp file for licks: /auto/data/daq/Teonancatl/TNC018/TNC018a12_p_CPN.evp\n",
      "[nems_lbhb.baphy_experiment INFO] Creating trial epochs\n",
      "[nems_lbhb.baphy_experiment INFO] Creating stim epochs\n",
      "[nems_lbhb.baphy_experiment INFO] Creating Light epochs\n",
      "[nems_lbhb.baphy_io INFO] rounding Trial offset spike times to even number of rasterfs bins\n",
      "[nems_lbhb.baphy_io INFO] 200 trials totaling 2924.09 sec\n",
      "[nems_lbhb.baphy_experiment INFO] Caching recording: /auto/data/nems_db/recordings/Teonancatl/TNC018a/TNC018a_d4159679c4bb77905baa1c4d0aec39b18f27db71.tgz\n",
      "[nems.recording INFO] Saving recording to : /auto/data/nems_db/recordings/Teonancatl/TNC018a/TNC018a_d4159679c4bb77905baa1c4d0aec39b18f27db71.tgz\n",
      "[nems_lbhb.baphy_experiment INFO] Cached recording: /auto/data/nems_db/recordings/Teonancatl/TNC018a/TNC018a_4beccf63ac585b5c85d7211dd8a99839dd915995.tgz\n",
      "[nems_lbhb.baphy_io INFO] Loading /auto/data/daq/Teonancatl/TNC018/TNC018a12_p_CPN.m\n"
     ]
    },
    {
     "name": "stdout",
     "output_type": "stream",
     "text": [
      "0 resp\n"
     ]
    },
    {
     "name": "stderr",
     "output_type": "stream",
     "text": [
      "[nems_lbhb.baphy_io INFO] evp file for licks: /auto/data/daq/Teonancatl/TNC018/TNC018a12_p_CPN.evp\n",
      "[nems_lbhb.baphy_io INFO] Loading /auto/data/daq/Teonancatl/TNC018/TNC018a12_p_CPN.m\n",
      "[nems_lbhb.baphy_io INFO] evp file for licks: /auto/data/daq/Teonancatl/TNC018/TNC018a12_p_CPN.evp\n",
      "[nems_lbhb.baphy_experiment INFO] Remove post-response events\n",
      "[nems_lbhb.baphy_experiment INFO] Removing post-reponse data\n",
      "[nems_lbhb.baphy_io INFO] rounding Trial offset spike times to even number of rasterfs bins\n",
      "[nems_lbhb.baphy_io INFO] 200 trials totaling 2924.09 sec\n",
      "[nems_lbhb.baphy_io INFO] Loading /auto/data/daq/Teonancatl/TNC018/TNC018a12_p_CPN.m\n",
      "[nems_lbhb.baphy_io INFO] evp file for licks: /auto/data/daq/Teonancatl/TNC018/TNC018a12_p_CPN.evp\n",
      "[nems_lbhb.baphy_experiment INFO] Creating trial epochs\n",
      "[nems_lbhb.baphy_experiment INFO] Creating stim epochs\n",
      "[nems_lbhb.baphy_experiment INFO] Creating Light epochs\n",
      "[nems_lbhb.baphy_io INFO] rounding Trial offset spike times to even number of rasterfs bins\n",
      "[nems_lbhb.baphy_io INFO] 200 trials totaling 2924.09 sec\n",
      "[nems_lbhb.baphy_experiment INFO] Caching recording: /auto/data/nems_db/recordings/Teonancatl/TNC018a/TNC018a_4beccf63ac585b5c85d7211dd8a99839dd915995.tgz\n",
      "[nems.recording INFO] Saving recording to : /auto/data/nems_db/recordings/Teonancatl/TNC018a/TNC018a_4beccf63ac585b5c85d7211dd8a99839dd915995.tgz\n",
      "[nems_lbhb.baphy_experiment INFO] Cached recording: /auto/data/nems_db/recordings/Teonancatl/TNC018a/TNC018a_1f15f7277b926fece59dc708cdd608b2bb5a995e.tgz\n",
      "[nems_lbhb.baphy_io INFO] Loading /auto/data/daq/Teonancatl/TNC018/TNC018a12_p_CPN.m\n"
     ]
    },
    {
     "name": "stdout",
     "output_type": "stream",
     "text": [
      "0 resp\n"
     ]
    },
    {
     "name": "stderr",
     "output_type": "stream",
     "text": [
      "[nems_lbhb.baphy_io INFO] evp file for licks: /auto/data/daq/Teonancatl/TNC018/TNC018a12_p_CPN.evp\n",
      "[nems_lbhb.baphy_io INFO] Loading /auto/data/daq/Teonancatl/TNC018/TNC018a12_p_CPN.m\n",
      "[nems_lbhb.baphy_io INFO] evp file for licks: /auto/data/daq/Teonancatl/TNC018/TNC018a12_p_CPN.evp\n",
      "[nems_lbhb.baphy_experiment INFO] Remove post-response events\n",
      "[nems_lbhb.baphy_experiment INFO] Removing post-reponse data\n",
      "[nems_lbhb.baphy_io INFO] rounding Trial offset spike times to even number of rasterfs bins\n",
      "[nems_lbhb.baphy_io INFO] 200 trials totaling 2924.09 sec\n",
      "[nems_lbhb.baphy_io INFO] Loading /auto/data/daq/Teonancatl/TNC018/TNC018a12_p_CPN.m\n",
      "[nems_lbhb.baphy_io INFO] evp file for licks: /auto/data/daq/Teonancatl/TNC018/TNC018a12_p_CPN.evp\n",
      "[nems_lbhb.baphy_experiment INFO] Creating trial epochs\n",
      "[nems_lbhb.baphy_experiment INFO] Creating stim epochs\n",
      "[nems_lbhb.baphy_experiment INFO] Creating Light epochs\n",
      "[nems_lbhb.baphy_io INFO] rounding Trial offset spike times to even number of rasterfs bins\n",
      "[nems_lbhb.baphy_io INFO] 200 trials totaling 2924.09 sec\n",
      "[nems_lbhb.baphy_experiment INFO] Caching recording: /auto/data/nems_db/recordings/Teonancatl/TNC018a/TNC018a_1f15f7277b926fece59dc708cdd608b2bb5a995e.tgz\n",
      "[nems.recording INFO] Saving recording to : /auto/data/nems_db/recordings/Teonancatl/TNC018a/TNC018a_1f15f7277b926fece59dc708cdd608b2bb5a995e.tgz\n",
      "[nems_lbhb.baphy_experiment INFO] Cached recording: /auto/data/nems_db/recordings/Teonancatl/TNC018a/TNC018a_d35eb8f044238c16cefbf626649cfe7f711ad37e.tgz\n",
      "[nems_lbhb.baphy_io INFO] Loading /auto/data/daq/Teonancatl/TNC018/TNC018a12_p_CPN.m\n"
     ]
    },
    {
     "name": "stdout",
     "output_type": "stream",
     "text": [
      "0 resp\n"
     ]
    },
    {
     "name": "stderr",
     "output_type": "stream",
     "text": [
      "[nems_lbhb.baphy_io INFO] evp file for licks: /auto/data/daq/Teonancatl/TNC018/TNC018a12_p_CPN.evp\n",
      "[nems_lbhb.baphy_io INFO] Loading /auto/data/daq/Teonancatl/TNC018/TNC018a12_p_CPN.m\n",
      "[nems_lbhb.baphy_io INFO] evp file for licks: /auto/data/daq/Teonancatl/TNC018/TNC018a12_p_CPN.evp\n",
      "[nems_lbhb.baphy_experiment INFO] Remove post-response events\n",
      "[nems_lbhb.baphy_experiment INFO] Removing post-reponse data\n",
      "[nems_lbhb.baphy_io INFO] rounding Trial offset spike times to even number of rasterfs bins\n",
      "[nems_lbhb.baphy_io INFO] 200 trials totaling 2924.09 sec\n",
      "[nems_lbhb.baphy_io INFO] Loading /auto/data/daq/Teonancatl/TNC018/TNC018a12_p_CPN.m\n",
      "[nems_lbhb.baphy_io INFO] evp file for licks: /auto/data/daq/Teonancatl/TNC018/TNC018a12_p_CPN.evp\n",
      "[nems_lbhb.baphy_experiment INFO] Creating trial epochs\n",
      "[nems_lbhb.baphy_experiment INFO] Creating stim epochs\n",
      "[nems_lbhb.baphy_experiment INFO] Creating Light epochs\n",
      "[nems_lbhb.baphy_io INFO] rounding Trial offset spike times to even number of rasterfs bins\n",
      "[nems_lbhb.baphy_io INFO] 200 trials totaling 2924.09 sec\n",
      "[nems_lbhb.baphy_experiment INFO] Caching recording: /auto/data/nems_db/recordings/Teonancatl/TNC018a/TNC018a_d35eb8f044238c16cefbf626649cfe7f711ad37e.tgz\n",
      "[nems.recording INFO] Saving recording to : /auto/data/nems_db/recordings/Teonancatl/TNC018a/TNC018a_d35eb8f044238c16cefbf626649cfe7f711ad37e.tgz\n",
      "[nems_lbhb.baphy_experiment INFO] Cached recording: /auto/data/nems_db/recordings/Teonancatl/TNC018a/TNC018a_f89d62ec43a8c5cc96b42834c7214cce9a60d60f.tgz\n",
      "[nems_lbhb.baphy_io INFO] Loading /auto/data/daq/Teonancatl/TNC018/TNC018a12_p_CPN.m\n"
     ]
    },
    {
     "name": "stdout",
     "output_type": "stream",
     "text": [
      "0 resp\n"
     ]
    },
    {
     "name": "stderr",
     "output_type": "stream",
     "text": [
      "[nems_lbhb.baphy_io INFO] evp file for licks: /auto/data/daq/Teonancatl/TNC018/TNC018a12_p_CPN.evp\n",
      "[nems_lbhb.baphy_io INFO] Loading /auto/data/daq/Teonancatl/TNC018/TNC018a12_p_CPN.m\n",
      "[nems_lbhb.baphy_io INFO] evp file for licks: /auto/data/daq/Teonancatl/TNC018/TNC018a12_p_CPN.evp\n",
      "[nems_lbhb.baphy_experiment INFO] Remove post-response events\n",
      "[nems_lbhb.baphy_experiment INFO] Removing post-reponse data\n",
      "[nems_lbhb.baphy_io INFO] rounding Trial offset spike times to even number of rasterfs bins\n",
      "[nems_lbhb.baphy_io INFO] 200 trials totaling 2924.09 sec\n",
      "[nems_lbhb.baphy_io INFO] Loading /auto/data/daq/Teonancatl/TNC018/TNC018a12_p_CPN.m\n",
      "[nems_lbhb.baphy_io INFO] evp file for licks: /auto/data/daq/Teonancatl/TNC018/TNC018a12_p_CPN.evp\n",
      "[nems_lbhb.baphy_experiment INFO] Creating trial epochs\n",
      "[nems_lbhb.baphy_experiment INFO] Creating stim epochs\n",
      "[nems_lbhb.baphy_experiment INFO] Creating Light epochs\n",
      "[nems_lbhb.baphy_io INFO] rounding Trial offset spike times to even number of rasterfs bins\n",
      "[nems_lbhb.baphy_io INFO] 200 trials totaling 2924.09 sec\n",
      "[nems_lbhb.baphy_experiment INFO] Caching recording: /auto/data/nems_db/recordings/Teonancatl/TNC018a/TNC018a_f89d62ec43a8c5cc96b42834c7214cce9a60d60f.tgz\n",
      "[nems.recording INFO] Saving recording to : /auto/data/nems_db/recordings/Teonancatl/TNC018a/TNC018a_f89d62ec43a8c5cc96b42834c7214cce9a60d60f.tgz\n",
      "[nems_lbhb.baphy_experiment INFO] Cached recording: /auto/data/nems_db/recordings/Teonancatl/TNC018a/TNC018a_6c4464fc8e17b3a5f8dc905107a2d793453efd45.tgz\n",
      "[nems_lbhb.baphy_io INFO] Loading /auto/data/daq/Teonancatl/TNC018/TNC018a12_p_CPN.m\n"
     ]
    },
    {
     "name": "stdout",
     "output_type": "stream",
     "text": [
      "0 resp\n"
     ]
    },
    {
     "name": "stderr",
     "output_type": "stream",
     "text": [
      "[nems_lbhb.baphy_io INFO] evp file for licks: /auto/data/daq/Teonancatl/TNC018/TNC018a12_p_CPN.evp\n",
      "[nems_lbhb.baphy_io INFO] Loading /auto/data/daq/Teonancatl/TNC018/TNC018a12_p_CPN.m\n",
      "[nems_lbhb.baphy_io INFO] evp file for licks: /auto/data/daq/Teonancatl/TNC018/TNC018a12_p_CPN.evp\n",
      "[nems_lbhb.baphy_experiment INFO] Remove post-response events\n",
      "[nems_lbhb.baphy_experiment INFO] Removing post-reponse data\n",
      "[nems_lbhb.baphy_io INFO] rounding Trial offset spike times to even number of rasterfs bins\n",
      "[nems_lbhb.baphy_io INFO] 200 trials totaling 2924.09 sec\n",
      "[nems_lbhb.baphy_io INFO] Loading /auto/data/daq/Teonancatl/TNC018/TNC018a12_p_CPN.m\n",
      "[nems_lbhb.baphy_io INFO] evp file for licks: /auto/data/daq/Teonancatl/TNC018/TNC018a12_p_CPN.evp\n",
      "[nems_lbhb.baphy_experiment INFO] Creating trial epochs\n",
      "[nems_lbhb.baphy_experiment INFO] Creating stim epochs\n",
      "[nems_lbhb.baphy_experiment INFO] Creating Light epochs\n",
      "[nems_lbhb.baphy_io INFO] rounding Trial offset spike times to even number of rasterfs bins\n",
      "[nems_lbhb.baphy_io INFO] 200 trials totaling 2924.09 sec\n",
      "[nems_lbhb.baphy_experiment INFO] Caching recording: /auto/data/nems_db/recordings/Teonancatl/TNC018a/TNC018a_6c4464fc8e17b3a5f8dc905107a2d793453efd45.tgz\n",
      "[nems.recording INFO] Saving recording to : /auto/data/nems_db/recordings/Teonancatl/TNC018a/TNC018a_6c4464fc8e17b3a5f8dc905107a2d793453efd45.tgz\n",
      "[nems_lbhb.baphy_experiment INFO] Cached recording: /auto/data/nems_db/recordings/Teonancatl/TNC018a/TNC018a_e2f9956d3a0c539ac687f89dfb55420f65c395c0.tgz\n",
      "[nems_lbhb.baphy_io INFO] Loading /auto/data/daq/Teonancatl/TNC018/TNC018a12_p_CPN.m\n"
     ]
    },
    {
     "name": "stdout",
     "output_type": "stream",
     "text": [
      "0 resp\n"
     ]
    },
    {
     "name": "stderr",
     "output_type": "stream",
     "text": [
      "[nems_lbhb.baphy_io INFO] evp file for licks: /auto/data/daq/Teonancatl/TNC018/TNC018a12_p_CPN.evp\n",
      "[nems_lbhb.baphy_io INFO] Loading /auto/data/daq/Teonancatl/TNC018/TNC018a12_p_CPN.m\n",
      "[nems_lbhb.baphy_io INFO] evp file for licks: /auto/data/daq/Teonancatl/TNC018/TNC018a12_p_CPN.evp\n",
      "[nems_lbhb.baphy_experiment INFO] Remove post-response events\n",
      "[nems_lbhb.baphy_experiment INFO] Removing post-reponse data\n",
      "[nems_lbhb.baphy_io INFO] rounding Trial offset spike times to even number of rasterfs bins\n",
      "[nems_lbhb.baphy_io INFO] 200 trials totaling 2924.09 sec\n",
      "[nems_lbhb.baphy_io INFO] Loading /auto/data/daq/Teonancatl/TNC018/TNC018a12_p_CPN.m\n",
      "[nems_lbhb.baphy_io INFO] evp file for licks: /auto/data/daq/Teonancatl/TNC018/TNC018a12_p_CPN.evp\n",
      "[nems_lbhb.baphy_experiment INFO] Creating trial epochs\n",
      "[nems_lbhb.baphy_experiment INFO] Creating stim epochs\n",
      "[nems_lbhb.baphy_experiment INFO] Creating Light epochs\n",
      "[nems_lbhb.baphy_io INFO] rounding Trial offset spike times to even number of rasterfs bins\n",
      "[nems_lbhb.baphy_io INFO] 200 trials totaling 2924.09 sec\n",
      "[nems_lbhb.baphy_experiment INFO] Caching recording: /auto/data/nems_db/recordings/Teonancatl/TNC018a/TNC018a_e2f9956d3a0c539ac687f89dfb55420f65c395c0.tgz\n",
      "[nems.recording INFO] Saving recording to : /auto/data/nems_db/recordings/Teonancatl/TNC018a/TNC018a_e2f9956d3a0c539ac687f89dfb55420f65c395c0.tgz\n",
      "[nems_lbhb.baphy_experiment INFO] Cached recording: /auto/data/nems_db/recordings/Teonancatl/TNC018a/TNC018a_6b9609acd1d3462584589a59a13d26b6314ebb86.tgz\n",
      "[nems_lbhb.baphy_io INFO] Loading /auto/data/daq/Teonancatl/TNC018/TNC018a12_p_CPN.m\n"
     ]
    },
    {
     "name": "stdout",
     "output_type": "stream",
     "text": [
      "0 resp\n"
     ]
    },
    {
     "name": "stderr",
     "output_type": "stream",
     "text": [
      "[nems_lbhb.baphy_io INFO] evp file for licks: /auto/data/daq/Teonancatl/TNC018/TNC018a12_p_CPN.evp\n",
      "[nems_lbhb.baphy_io INFO] Loading /auto/data/daq/Teonancatl/TNC018/TNC018a12_p_CPN.m\n",
      "[nems_lbhb.baphy_io INFO] evp file for licks: /auto/data/daq/Teonancatl/TNC018/TNC018a12_p_CPN.evp\n",
      "[nems_lbhb.baphy_experiment INFO] Remove post-response events\n",
      "[nems_lbhb.baphy_experiment INFO] Removing post-reponse data\n",
      "[nems_lbhb.baphy_io INFO] rounding Trial offset spike times to even number of rasterfs bins\n",
      "[nems_lbhb.baphy_io INFO] 200 trials totaling 2924.09 sec\n",
      "[nems_lbhb.baphy_io INFO] Loading /auto/data/daq/Teonancatl/TNC018/TNC018a12_p_CPN.m\n",
      "[nems_lbhb.baphy_io INFO] evp file for licks: /auto/data/daq/Teonancatl/TNC018/TNC018a12_p_CPN.evp\n",
      "[nems_lbhb.baphy_experiment INFO] Creating trial epochs\n",
      "[nems_lbhb.baphy_experiment INFO] Creating stim epochs\n",
      "[nems_lbhb.baphy_experiment INFO] Creating Light epochs\n",
      "[nems_lbhb.baphy_io INFO] rounding Trial offset spike times to even number of rasterfs bins\n",
      "[nems_lbhb.baphy_io INFO] 200 trials totaling 2924.09 sec\n",
      "[nems_lbhb.baphy_experiment INFO] Caching recording: /auto/data/nems_db/recordings/Teonancatl/TNC018a/TNC018a_6b9609acd1d3462584589a59a13d26b6314ebb86.tgz\n",
      "[nems.recording INFO] Saving recording to : /auto/data/nems_db/recordings/Teonancatl/TNC018a/TNC018a_6b9609acd1d3462584589a59a13d26b6314ebb86.tgz\n",
      "[nems_lbhb.baphy_experiment INFO] Cached recording: /auto/data/nems_db/recordings/Teonancatl/TNC018a/TNC018a_cb4b77a237d644b09bdab2911ac2d9bb04cad55e.tgz\n",
      "[nems_lbhb.baphy_io INFO] Loading /auto/data/daq/Teonancatl/TNC018/TNC018a12_p_CPN.m\n"
     ]
    },
    {
     "name": "stdout",
     "output_type": "stream",
     "text": [
      "0 resp\n"
     ]
    },
    {
     "name": "stderr",
     "output_type": "stream",
     "text": [
      "[nems_lbhb.baphy_io INFO] evp file for licks: /auto/data/daq/Teonancatl/TNC018/TNC018a12_p_CPN.evp\n",
      "[nems_lbhb.baphy_io INFO] Loading /auto/data/daq/Teonancatl/TNC018/TNC018a12_p_CPN.m\n",
      "[nems_lbhb.baphy_io INFO] evp file for licks: /auto/data/daq/Teonancatl/TNC018/TNC018a12_p_CPN.evp\n",
      "[nems_lbhb.baphy_experiment INFO] Remove post-response events\n",
      "[nems_lbhb.baphy_experiment INFO] Removing post-reponse data\n",
      "[nems_lbhb.baphy_io INFO] rounding Trial offset spike times to even number of rasterfs bins\n",
      "[nems_lbhb.baphy_io INFO] 200 trials totaling 2924.09 sec\n",
      "[nems_lbhb.baphy_io INFO] Loading /auto/data/daq/Teonancatl/TNC018/TNC018a12_p_CPN.m\n",
      "[nems_lbhb.baphy_io INFO] evp file for licks: /auto/data/daq/Teonancatl/TNC018/TNC018a12_p_CPN.evp\n",
      "[nems_lbhb.baphy_experiment INFO] Creating trial epochs\n",
      "[nems_lbhb.baphy_experiment INFO] Creating stim epochs\n",
      "[nems_lbhb.baphy_experiment INFO] Creating Light epochs\n",
      "[nems_lbhb.baphy_io INFO] rounding Trial offset spike times to even number of rasterfs bins\n",
      "[nems_lbhb.baphy_io INFO] 200 trials totaling 2924.09 sec\n",
      "[nems_lbhb.baphy_experiment INFO] Caching recording: /auto/data/nems_db/recordings/Teonancatl/TNC018a/TNC018a_cb4b77a237d644b09bdab2911ac2d9bb04cad55e.tgz\n",
      "[nems.recording INFO] Saving recording to : /auto/data/nems_db/recordings/Teonancatl/TNC018a/TNC018a_cb4b77a237d644b09bdab2911ac2d9bb04cad55e.tgz\n",
      "[nems_lbhb.baphy_experiment INFO] Cached recording: /auto/data/nems_db/recordings/Teonancatl/TNC018a/TNC018a_25042b5a31b453086f953abde6a1ada0157cd6a6.tgz\n",
      "[nems_lbhb.baphy_io INFO] Loading /auto/data/daq/Teonancatl/TNC018/TNC018a12_p_CPN.m\n"
     ]
    },
    {
     "name": "stdout",
     "output_type": "stream",
     "text": [
      "0 resp\n"
     ]
    },
    {
     "name": "stderr",
     "output_type": "stream",
     "text": [
      "[nems_lbhb.baphy_io INFO] evp file for licks: /auto/data/daq/Teonancatl/TNC018/TNC018a12_p_CPN.evp\n",
      "[nems_lbhb.baphy_io INFO] Loading /auto/data/daq/Teonancatl/TNC018/TNC018a12_p_CPN.m\n",
      "[nems_lbhb.baphy_io INFO] evp file for licks: /auto/data/daq/Teonancatl/TNC018/TNC018a12_p_CPN.evp\n",
      "[nems_lbhb.baphy_experiment INFO] Remove post-response events\n",
      "[nems_lbhb.baphy_experiment INFO] Removing post-reponse data\n",
      "[nems_lbhb.baphy_io INFO] rounding Trial offset spike times to even number of rasterfs bins\n",
      "[nems_lbhb.baphy_io INFO] 200 trials totaling 2924.09 sec\n",
      "[nems_lbhb.baphy_io INFO] Loading /auto/data/daq/Teonancatl/TNC018/TNC018a12_p_CPN.m\n",
      "[nems_lbhb.baphy_io INFO] evp file for licks: /auto/data/daq/Teonancatl/TNC018/TNC018a12_p_CPN.evp\n",
      "[nems_lbhb.baphy_experiment INFO] Creating trial epochs\n",
      "[nems_lbhb.baphy_experiment INFO] Creating stim epochs\n",
      "[nems_lbhb.baphy_experiment INFO] Creating Light epochs\n",
      "[nems_lbhb.baphy_io INFO] rounding Trial offset spike times to even number of rasterfs bins\n",
      "[nems_lbhb.baphy_io INFO] 200 trials totaling 2924.09 sec\n",
      "[nems_lbhb.baphy_experiment INFO] Caching recording: /auto/data/nems_db/recordings/Teonancatl/TNC018a/TNC018a_25042b5a31b453086f953abde6a1ada0157cd6a6.tgz\n",
      "[nems.recording INFO] Saving recording to : /auto/data/nems_db/recordings/Teonancatl/TNC018a/TNC018a_25042b5a31b453086f953abde6a1ada0157cd6a6.tgz\n",
      "[nems_lbhb.baphy_experiment INFO] Cached recording: /auto/data/nems_db/recordings/Teonancatl/TNC018a/TNC018a_a352b1ba80c84eb0248ee3b9ef1faeae687824bd.tgz\n",
      "[nems_lbhb.baphy_io INFO] Loading /auto/data/daq/Teonancatl/TNC018/TNC018a12_p_CPN.m\n"
     ]
    },
    {
     "name": "stdout",
     "output_type": "stream",
     "text": [
      "0 resp\n"
     ]
    },
    {
     "name": "stderr",
     "output_type": "stream",
     "text": [
      "[nems_lbhb.baphy_io INFO] evp file for licks: /auto/data/daq/Teonancatl/TNC018/TNC018a12_p_CPN.evp\n",
      "[nems_lbhb.baphy_io INFO] Loading /auto/data/daq/Teonancatl/TNC018/TNC018a12_p_CPN.m\n",
      "[nems_lbhb.baphy_io INFO] evp file for licks: /auto/data/daq/Teonancatl/TNC018/TNC018a12_p_CPN.evp\n",
      "[nems_lbhb.baphy_experiment INFO] Remove post-response events\n",
      "[nems_lbhb.baphy_experiment INFO] Removing post-reponse data\n",
      "[nems_lbhb.baphy_io INFO] rounding Trial offset spike times to even number of rasterfs bins\n",
      "[nems_lbhb.baphy_io INFO] 200 trials totaling 2924.09 sec\n",
      "[nems_lbhb.baphy_io INFO] Loading /auto/data/daq/Teonancatl/TNC018/TNC018a12_p_CPN.m\n",
      "[nems_lbhb.baphy_io INFO] evp file for licks: /auto/data/daq/Teonancatl/TNC018/TNC018a12_p_CPN.evp\n",
      "[nems_lbhb.baphy_experiment INFO] Creating trial epochs\n",
      "[nems_lbhb.baphy_experiment INFO] Creating stim epochs\n",
      "[nems_lbhb.baphy_experiment INFO] Creating Light epochs\n",
      "[nems_lbhb.baphy_io INFO] rounding Trial offset spike times to even number of rasterfs bins\n",
      "[nems_lbhb.baphy_io INFO] 200 trials totaling 2924.09 sec\n",
      "[nems_lbhb.baphy_experiment INFO] Caching recording: /auto/data/nems_db/recordings/Teonancatl/TNC018a/TNC018a_a352b1ba80c84eb0248ee3b9ef1faeae687824bd.tgz\n",
      "[nems.recording INFO] Saving recording to : /auto/data/nems_db/recordings/Teonancatl/TNC018a/TNC018a_a352b1ba80c84eb0248ee3b9ef1faeae687824bd.tgz\n"
     ]
    },
    {
     "name": "stdout",
     "output_type": "stream",
     "text": [
      "0 resp\n"
     ]
    },
    {
     "name": "stderr",
     "output_type": "stream",
     "text": [
      "[nems_lbhb.baphy_experiment INFO] Cached recording: /auto/data/nems_db/recordings/Teonancatl/TNC018a/TNC018a_7ad3d994acd2d27e8cef3a451850d2bc7679308e.tgz\n",
      "[nems_lbhb.baphy_io INFO] Loading /auto/data/daq/Teonancatl/TNC018/TNC018a12_p_CPN.m\n",
      "[nems_lbhb.baphy_io INFO] evp file for licks: /auto/data/daq/Teonancatl/TNC018/TNC018a12_p_CPN.evp\n",
      "[nems_lbhb.baphy_io INFO] Loading /auto/data/daq/Teonancatl/TNC018/TNC018a12_p_CPN.m\n",
      "[nems_lbhb.baphy_io INFO] evp file for licks: /auto/data/daq/Teonancatl/TNC018/TNC018a12_p_CPN.evp\n",
      "[nems_lbhb.baphy_experiment INFO] Remove post-response events\n",
      "[nems_lbhb.baphy_experiment INFO] Removing post-reponse data\n",
      "[nems_lbhb.baphy_io INFO] rounding Trial offset spike times to even number of rasterfs bins\n",
      "[nems_lbhb.baphy_io INFO] 200 trials totaling 2924.09 sec\n",
      "[nems_lbhb.baphy_io INFO] Loading /auto/data/daq/Teonancatl/TNC018/TNC018a12_p_CPN.m\n",
      "[nems_lbhb.baphy_io INFO] evp file for licks: /auto/data/daq/Teonancatl/TNC018/TNC018a12_p_CPN.evp\n",
      "[nems_lbhb.baphy_experiment INFO] Creating trial epochs\n",
      "[nems_lbhb.baphy_experiment INFO] Creating stim epochs\n",
      "[nems_lbhb.baphy_experiment INFO] Creating Light epochs\n",
      "[nems_lbhb.baphy_io INFO] rounding Trial offset spike times to even number of rasterfs bins\n",
      "[nems_lbhb.baphy_io INFO] 200 trials totaling 2924.09 sec\n",
      "[nems_lbhb.baphy_experiment INFO] Caching recording: /auto/data/nems_db/recordings/Teonancatl/TNC018a/TNC018a_7ad3d994acd2d27e8cef3a451850d2bc7679308e.tgz\n",
      "[nems.recording INFO] Saving recording to : /auto/data/nems_db/recordings/Teonancatl/TNC018a/TNC018a_7ad3d994acd2d27e8cef3a451850d2bc7679308e.tgz\n",
      "[nems_lbhb.baphy_experiment INFO] Cached recording: /auto/data/nems_db/recordings/Teonancatl/TNC018a/TNC018a_5bcde61f9ccf29d741c986b63e715cb587dbc3d0.tgz\n",
      "[nems_lbhb.baphy_io INFO] Loading /auto/data/daq/Teonancatl/TNC018/TNC018a12_p_CPN.m\n"
     ]
    },
    {
     "name": "stdout",
     "output_type": "stream",
     "text": [
      "0 resp\n"
     ]
    },
    {
     "name": "stderr",
     "output_type": "stream",
     "text": [
      "[nems_lbhb.baphy_io INFO] evp file for licks: /auto/data/daq/Teonancatl/TNC018/TNC018a12_p_CPN.evp\n",
      "[nems_lbhb.baphy_io INFO] Loading /auto/data/daq/Teonancatl/TNC018/TNC018a12_p_CPN.m\n",
      "[nems_lbhb.baphy_io INFO] evp file for licks: /auto/data/daq/Teonancatl/TNC018/TNC018a12_p_CPN.evp\n",
      "[nems_lbhb.baphy_experiment INFO] Remove post-response events\n",
      "[nems_lbhb.baphy_experiment INFO] Removing post-reponse data\n",
      "[nems_lbhb.baphy_io INFO] rounding Trial offset spike times to even number of rasterfs bins\n",
      "[nems_lbhb.baphy_io INFO] 200 trials totaling 2924.09 sec\n",
      "[nems_lbhb.baphy_io INFO] Loading /auto/data/daq/Teonancatl/TNC018/TNC018a12_p_CPN.m\n",
      "[nems_lbhb.baphy_io INFO] evp file for licks: /auto/data/daq/Teonancatl/TNC018/TNC018a12_p_CPN.evp\n",
      "[nems_lbhb.baphy_experiment INFO] Creating trial epochs\n",
      "[nems_lbhb.baphy_experiment INFO] Creating stim epochs\n",
      "[nems_lbhb.baphy_experiment INFO] Creating Light epochs\n",
      "[nems_lbhb.baphy_io INFO] rounding Trial offset spike times to even number of rasterfs bins\n",
      "[nems_lbhb.baphy_io INFO] 200 trials totaling 2924.09 sec\n",
      "[nems_lbhb.baphy_experiment INFO] Caching recording: /auto/data/nems_db/recordings/Teonancatl/TNC018a/TNC018a_5bcde61f9ccf29d741c986b63e715cb587dbc3d0.tgz\n",
      "[nems.recording INFO] Saving recording to : /auto/data/nems_db/recordings/Teonancatl/TNC018a/TNC018a_5bcde61f9ccf29d741c986b63e715cb587dbc3d0.tgz\n",
      "[nems_lbhb.baphy_experiment INFO] Cached recording: /auto/data/nems_db/recordings/Teonancatl/TNC018a/TNC018a_4acecaec560f3859515b76130c9e0a522006e3cb.tgz\n",
      "[nems_lbhb.baphy_io INFO] Loading /auto/data/daq/Teonancatl/TNC018/TNC018a12_p_CPN.m\n"
     ]
    },
    {
     "name": "stdout",
     "output_type": "stream",
     "text": [
      "0 resp\n"
     ]
    },
    {
     "name": "stderr",
     "output_type": "stream",
     "text": [
      "[nems_lbhb.baphy_io INFO] evp file for licks: /auto/data/daq/Teonancatl/TNC018/TNC018a12_p_CPN.evp\n",
      "[nems_lbhb.baphy_io INFO] Loading /auto/data/daq/Teonancatl/TNC018/TNC018a12_p_CPN.m\n",
      "[nems_lbhb.baphy_io INFO] evp file for licks: /auto/data/daq/Teonancatl/TNC018/TNC018a12_p_CPN.evp\n",
      "[nems_lbhb.baphy_experiment INFO] Remove post-response events\n",
      "[nems_lbhb.baphy_experiment INFO] Removing post-reponse data\n",
      "[nems_lbhb.baphy_io INFO] rounding Trial offset spike times to even number of rasterfs bins\n",
      "[nems_lbhb.baphy_io INFO] 200 trials totaling 2924.09 sec\n",
      "[nems_lbhb.baphy_io INFO] Loading /auto/data/daq/Teonancatl/TNC018/TNC018a12_p_CPN.m\n",
      "[nems_lbhb.baphy_io INFO] evp file for licks: /auto/data/daq/Teonancatl/TNC018/TNC018a12_p_CPN.evp\n",
      "[nems_lbhb.baphy_experiment INFO] Creating trial epochs\n",
      "[nems_lbhb.baphy_experiment INFO] Creating stim epochs\n",
      "[nems_lbhb.baphy_experiment INFO] Creating Light epochs\n",
      "[nems_lbhb.baphy_io INFO] rounding Trial offset spike times to even number of rasterfs bins\n",
      "[nems_lbhb.baphy_io INFO] 200 trials totaling 2924.09 sec\n",
      "[nems_lbhb.baphy_experiment INFO] Caching recording: /auto/data/nems_db/recordings/Teonancatl/TNC018a/TNC018a_4acecaec560f3859515b76130c9e0a522006e3cb.tgz\n",
      "[nems.recording INFO] Saving recording to : /auto/data/nems_db/recordings/Teonancatl/TNC018a/TNC018a_4acecaec560f3859515b76130c9e0a522006e3cb.tgz\n"
     ]
    },
    {
     "name": "stdout",
     "output_type": "stream",
     "text": [
      "0 resp\n"
     ]
    },
    {
     "name": "stderr",
     "output_type": "stream",
     "text": [
      "[nems_lbhb.baphy_experiment INFO] Cached recording: /auto/data/nems_db/recordings/Teonancatl/TNC018a/TNC018a_0d191a894ce8bce7d6555464f3ffd4c4662947b2.tgz\n",
      "[nems_lbhb.baphy_io INFO] Loading /auto/data/daq/Teonancatl/TNC018/TNC018a12_p_CPN.m\n",
      "[nems_lbhb.baphy_io INFO] evp file for licks: /auto/data/daq/Teonancatl/TNC018/TNC018a12_p_CPN.evp\n",
      "[nems_lbhb.baphy_io INFO] Loading /auto/data/daq/Teonancatl/TNC018/TNC018a12_p_CPN.m\n",
      "[nems_lbhb.baphy_io INFO] evp file for licks: /auto/data/daq/Teonancatl/TNC018/TNC018a12_p_CPN.evp\n",
      "[nems_lbhb.baphy_experiment INFO] Remove post-response events\n",
      "[nems_lbhb.baphy_experiment INFO] Removing post-reponse data\n",
      "[nems_lbhb.baphy_io INFO] rounding Trial offset spike times to even number of rasterfs bins\n",
      "[nems_lbhb.baphy_io INFO] 200 trials totaling 2924.09 sec\n",
      "[nems_lbhb.baphy_io INFO] Loading /auto/data/daq/Teonancatl/TNC018/TNC018a12_p_CPN.m\n",
      "[nems_lbhb.baphy_io INFO] evp file for licks: /auto/data/daq/Teonancatl/TNC018/TNC018a12_p_CPN.evp\n",
      "[nems_lbhb.baphy_experiment INFO] Creating trial epochs\n",
      "[nems_lbhb.baphy_experiment INFO] Creating stim epochs\n",
      "[nems_lbhb.baphy_experiment INFO] Creating Light epochs\n",
      "[nems_lbhb.baphy_io INFO] rounding Trial offset spike times to even number of rasterfs bins\n",
      "[nems_lbhb.baphy_io INFO] 200 trials totaling 2924.09 sec\n",
      "[nems_lbhb.baphy_experiment INFO] Caching recording: /auto/data/nems_db/recordings/Teonancatl/TNC018a/TNC018a_0d191a894ce8bce7d6555464f3ffd4c4662947b2.tgz\n",
      "[nems.recording INFO] Saving recording to : /auto/data/nems_db/recordings/Teonancatl/TNC018a/TNC018a_0d191a894ce8bce7d6555464f3ffd4c4662947b2.tgz\n",
      "[nems_lbhb.baphy_experiment INFO] Cached recording: /auto/data/nems_db/recordings/Teonancatl/TNC018a/TNC018a_2adc2bb3c13dfeec72974ab83391260beb9c3a3c.tgz\n",
      "[nems_lbhb.baphy_io INFO] Loading /auto/data/daq/Teonancatl/TNC018/TNC018a12_p_CPN.m\n"
     ]
    },
    {
     "name": "stdout",
     "output_type": "stream",
     "text": [
      "0 resp\n"
     ]
    },
    {
     "name": "stderr",
     "output_type": "stream",
     "text": [
      "[nems_lbhb.baphy_io INFO] evp file for licks: /auto/data/daq/Teonancatl/TNC018/TNC018a12_p_CPN.evp\n",
      "[nems_lbhb.baphy_io INFO] Loading /auto/data/daq/Teonancatl/TNC018/TNC018a12_p_CPN.m\n",
      "[nems_lbhb.baphy_io INFO] evp file for licks: /auto/data/daq/Teonancatl/TNC018/TNC018a12_p_CPN.evp\n",
      "[nems_lbhb.baphy_experiment INFO] Remove post-response events\n",
      "[nems_lbhb.baphy_experiment INFO] Removing post-reponse data\n",
      "[nems_lbhb.baphy_io INFO] rounding Trial offset spike times to even number of rasterfs bins\n",
      "[nems_lbhb.baphy_io INFO] 200 trials totaling 2924.09 sec\n",
      "[nems_lbhb.baphy_io INFO] Loading /auto/data/daq/Teonancatl/TNC018/TNC018a12_p_CPN.m\n",
      "[nems_lbhb.baphy_io INFO] evp file for licks: /auto/data/daq/Teonancatl/TNC018/TNC018a12_p_CPN.evp\n",
      "[nems_lbhb.baphy_experiment INFO] Creating trial epochs\n",
      "[nems_lbhb.baphy_experiment INFO] Creating stim epochs\n",
      "[nems_lbhb.baphy_experiment INFO] Creating Light epochs\n",
      "[nems_lbhb.baphy_io INFO] rounding Trial offset spike times to even number of rasterfs bins\n",
      "[nems_lbhb.baphy_io INFO] 200 trials totaling 2924.09 sec\n",
      "[nems_lbhb.baphy_experiment INFO] Caching recording: /auto/data/nems_db/recordings/Teonancatl/TNC018a/TNC018a_2adc2bb3c13dfeec72974ab83391260beb9c3a3c.tgz\n",
      "[nems.recording INFO] Saving recording to : /auto/data/nems_db/recordings/Teonancatl/TNC018a/TNC018a_2adc2bb3c13dfeec72974ab83391260beb9c3a3c.tgz\n",
      "[nems_lbhb.baphy_experiment INFO] Cached recording: /auto/data/nems_db/recordings/Teonancatl/TNC018a/TNC018a_093f22c8701b8594b829fd819198a3865e619202.tgz\n",
      "[nems_lbhb.baphy_io INFO] Loading /auto/data/daq/Teonancatl/TNC018/TNC018a12_p_CPN.m\n"
     ]
    },
    {
     "name": "stdout",
     "output_type": "stream",
     "text": [
      "0 resp\n"
     ]
    },
    {
     "name": "stderr",
     "output_type": "stream",
     "text": [
      "[nems_lbhb.baphy_io INFO] evp file for licks: /auto/data/daq/Teonancatl/TNC018/TNC018a12_p_CPN.evp\n",
      "[nems_lbhb.baphy_io INFO] Loading /auto/data/daq/Teonancatl/TNC018/TNC018a12_p_CPN.m\n",
      "[nems_lbhb.baphy_io INFO] evp file for licks: /auto/data/daq/Teonancatl/TNC018/TNC018a12_p_CPN.evp\n",
      "[nems_lbhb.baphy_experiment INFO] Remove post-response events\n",
      "[nems_lbhb.baphy_experiment INFO] Removing post-reponse data\n",
      "[nems_lbhb.baphy_io INFO] rounding Trial offset spike times to even number of rasterfs bins\n",
      "[nems_lbhb.baphy_io INFO] 200 trials totaling 2924.09 sec\n",
      "[nems_lbhb.baphy_io INFO] Loading /auto/data/daq/Teonancatl/TNC018/TNC018a12_p_CPN.m\n",
      "[nems_lbhb.baphy_io INFO] evp file for licks: /auto/data/daq/Teonancatl/TNC018/TNC018a12_p_CPN.evp\n",
      "[nems_lbhb.baphy_experiment INFO] Creating trial epochs\n",
      "[nems_lbhb.baphy_experiment INFO] Creating stim epochs\n",
      "[nems_lbhb.baphy_experiment INFO] Creating Light epochs\n",
      "[nems_lbhb.baphy_io INFO] rounding Trial offset spike times to even number of rasterfs bins\n",
      "[nems_lbhb.baphy_io INFO] 200 trials totaling 2924.09 sec\n",
      "[nems_lbhb.baphy_experiment INFO] Caching recording: /auto/data/nems_db/recordings/Teonancatl/TNC018a/TNC018a_093f22c8701b8594b829fd819198a3865e619202.tgz\n",
      "[nems.recording INFO] Saving recording to : /auto/data/nems_db/recordings/Teonancatl/TNC018a/TNC018a_093f22c8701b8594b829fd819198a3865e619202.tgz\n",
      "[nems_lbhb.baphy_experiment INFO] Cached recording: /auto/data/nems_db/recordings/Teonancatl/TNC018a/TNC018a_090fa4c2f99c66f37799a63360b80c78268e6dac.tgz\n",
      "[nems_lbhb.baphy_io INFO] Loading /auto/data/daq/Teonancatl/TNC018/TNC018a12_p_CPN.m\n"
     ]
    },
    {
     "name": "stdout",
     "output_type": "stream",
     "text": [
      "0 resp\n"
     ]
    },
    {
     "name": "stderr",
     "output_type": "stream",
     "text": [
      "[nems_lbhb.baphy_io INFO] evp file for licks: /auto/data/daq/Teonancatl/TNC018/TNC018a12_p_CPN.evp\n",
      "[nems_lbhb.baphy_io INFO] Loading /auto/data/daq/Teonancatl/TNC018/TNC018a12_p_CPN.m\n",
      "[nems_lbhb.baphy_io INFO] evp file for licks: /auto/data/daq/Teonancatl/TNC018/TNC018a12_p_CPN.evp\n",
      "[nems_lbhb.baphy_experiment INFO] Remove post-response events\n",
      "[nems_lbhb.baphy_experiment INFO] Removing post-reponse data\n",
      "[nems_lbhb.baphy_io INFO] rounding Trial offset spike times to even number of rasterfs bins\n",
      "[nems_lbhb.baphy_io INFO] 200 trials totaling 2924.09 sec\n",
      "[nems_lbhb.baphy_io INFO] Loading /auto/data/daq/Teonancatl/TNC018/TNC018a12_p_CPN.m\n",
      "[nems_lbhb.baphy_io INFO] evp file for licks: /auto/data/daq/Teonancatl/TNC018/TNC018a12_p_CPN.evp\n",
      "[nems_lbhb.baphy_experiment INFO] Creating trial epochs\n",
      "[nems_lbhb.baphy_experiment INFO] Creating stim epochs\n",
      "[nems_lbhb.baphy_experiment INFO] Creating Light epochs\n",
      "[nems_lbhb.baphy_io INFO] rounding Trial offset spike times to even number of rasterfs bins\n",
      "[nems_lbhb.baphy_io INFO] 200 trials totaling 2924.09 sec\n",
      "[nems_lbhb.baphy_experiment INFO] Caching recording: /auto/data/nems_db/recordings/Teonancatl/TNC018a/TNC018a_090fa4c2f99c66f37799a63360b80c78268e6dac.tgz\n",
      "[nems.recording INFO] Saving recording to : /auto/data/nems_db/recordings/Teonancatl/TNC018a/TNC018a_090fa4c2f99c66f37799a63360b80c78268e6dac.tgz\n",
      "[nems_lbhb.baphy_experiment INFO] Cached recording: /auto/data/nems_db/recordings/Teonancatl/TNC018a/TNC018a_f5f93b24f954342ad310d3adcf8cbf77f040ae62.tgz\n",
      "[nems_lbhb.baphy_io INFO] Loading /auto/data/daq/Teonancatl/TNC018/TNC018a12_p_CPN.m\n"
     ]
    },
    {
     "name": "stdout",
     "output_type": "stream",
     "text": [
      "0 resp\n"
     ]
    },
    {
     "name": "stderr",
     "output_type": "stream",
     "text": [
      "[nems_lbhb.baphy_io INFO] evp file for licks: /auto/data/daq/Teonancatl/TNC018/TNC018a12_p_CPN.evp\n",
      "[nems_lbhb.baphy_io INFO] Loading /auto/data/daq/Teonancatl/TNC018/TNC018a12_p_CPN.m\n",
      "[nems_lbhb.baphy_io INFO] evp file for licks: /auto/data/daq/Teonancatl/TNC018/TNC018a12_p_CPN.evp\n",
      "[nems_lbhb.baphy_experiment INFO] Remove post-response events\n",
      "[nems_lbhb.baphy_experiment INFO] Removing post-reponse data\n",
      "[nems_lbhb.baphy_io INFO] rounding Trial offset spike times to even number of rasterfs bins\n",
      "[nems_lbhb.baphy_io INFO] 200 trials totaling 2924.09 sec\n",
      "[nems_lbhb.baphy_io INFO] Loading /auto/data/daq/Teonancatl/TNC018/TNC018a12_p_CPN.m\n",
      "[nems_lbhb.baphy_io INFO] evp file for licks: /auto/data/daq/Teonancatl/TNC018/TNC018a12_p_CPN.evp\n",
      "[nems_lbhb.baphy_experiment INFO] Creating trial epochs\n",
      "[nems_lbhb.baphy_experiment INFO] Creating stim epochs\n",
      "[nems_lbhb.baphy_experiment INFO] Creating Light epochs\n",
      "[nems_lbhb.baphy_io INFO] rounding Trial offset spike times to even number of rasterfs bins\n",
      "[nems_lbhb.baphy_io INFO] 200 trials totaling 2924.09 sec\n",
      "[nems_lbhb.baphy_experiment INFO] Caching recording: /auto/data/nems_db/recordings/Teonancatl/TNC018a/TNC018a_f5f93b24f954342ad310d3adcf8cbf77f040ae62.tgz\n",
      "[nems.recording INFO] Saving recording to : /auto/data/nems_db/recordings/Teonancatl/TNC018a/TNC018a_f5f93b24f954342ad310d3adcf8cbf77f040ae62.tgz\n",
      "[nems_lbhb.baphy_experiment INFO] Cached recording: /auto/data/nems_db/recordings/Teonancatl/TNC018a/TNC018a_34658f8d1ae438839de63a6386186d2e4e922292.tgz\n",
      "[nems_lbhb.baphy_io INFO] Loading /auto/data/daq/Teonancatl/TNC018/TNC018a12_p_CPN.m\n"
     ]
    },
    {
     "name": "stdout",
     "output_type": "stream",
     "text": [
      "0 resp\n"
     ]
    },
    {
     "name": "stderr",
     "output_type": "stream",
     "text": [
      "[nems_lbhb.baphy_io INFO] evp file for licks: /auto/data/daq/Teonancatl/TNC018/TNC018a12_p_CPN.evp\n",
      "[nems_lbhb.baphy_io INFO] Loading /auto/data/daq/Teonancatl/TNC018/TNC018a12_p_CPN.m\n",
      "[nems_lbhb.baphy_io INFO] evp file for licks: /auto/data/daq/Teonancatl/TNC018/TNC018a12_p_CPN.evp\n",
      "[nems_lbhb.baphy_experiment INFO] Remove post-response events\n",
      "[nems_lbhb.baphy_experiment INFO] Removing post-reponse data\n",
      "[nems_lbhb.baphy_io INFO] rounding Trial offset spike times to even number of rasterfs bins\n",
      "[nems_lbhb.baphy_io INFO] 200 trials totaling 2924.09 sec\n",
      "[nems_lbhb.baphy_io INFO] Loading /auto/data/daq/Teonancatl/TNC018/TNC018a12_p_CPN.m\n",
      "[nems_lbhb.baphy_io INFO] evp file for licks: /auto/data/daq/Teonancatl/TNC018/TNC018a12_p_CPN.evp\n",
      "[nems_lbhb.baphy_experiment INFO] Creating trial epochs\n",
      "[nems_lbhb.baphy_experiment INFO] Creating stim epochs\n",
      "[nems_lbhb.baphy_experiment INFO] Creating Light epochs\n",
      "[nems_lbhb.baphy_io INFO] rounding Trial offset spike times to even number of rasterfs bins\n",
      "[nems_lbhb.baphy_io INFO] 200 trials totaling 2924.09 sec\n",
      "[nems_lbhb.baphy_experiment INFO] Caching recording: /auto/data/nems_db/recordings/Teonancatl/TNC018a/TNC018a_34658f8d1ae438839de63a6386186d2e4e922292.tgz\n",
      "[nems.recording INFO] Saving recording to : /auto/data/nems_db/recordings/Teonancatl/TNC018a/TNC018a_34658f8d1ae438839de63a6386186d2e4e922292.tgz\n",
      "[nems_lbhb.baphy_experiment INFO] Cached recording: /auto/data/nems_db/recordings/Teonancatl/TNC018a/TNC018a_91c7cf0712becf6d3804c553a0dc1bcd816d08b1.tgz\n",
      "[nems_lbhb.baphy_io INFO] Loading /auto/data/daq/Teonancatl/TNC018/TNC018a12_p_CPN.m\n"
     ]
    },
    {
     "name": "stdout",
     "output_type": "stream",
     "text": [
      "0 resp\n"
     ]
    },
    {
     "name": "stderr",
     "output_type": "stream",
     "text": [
      "[nems_lbhb.baphy_io INFO] evp file for licks: /auto/data/daq/Teonancatl/TNC018/TNC018a12_p_CPN.evp\n",
      "[nems_lbhb.baphy_io INFO] Loading /auto/data/daq/Teonancatl/TNC018/TNC018a12_p_CPN.m\n",
      "[nems_lbhb.baphy_io INFO] evp file for licks: /auto/data/daq/Teonancatl/TNC018/TNC018a12_p_CPN.evp\n",
      "[nems_lbhb.baphy_experiment INFO] Remove post-response events\n",
      "[nems_lbhb.baphy_experiment INFO] Removing post-reponse data\n",
      "[nems_lbhb.baphy_io INFO] rounding Trial offset spike times to even number of rasterfs bins\n",
      "[nems_lbhb.baphy_io INFO] 200 trials totaling 2924.09 sec\n",
      "[nems_lbhb.baphy_io INFO] Loading /auto/data/daq/Teonancatl/TNC018/TNC018a12_p_CPN.m\n",
      "[nems_lbhb.baphy_io INFO] evp file for licks: /auto/data/daq/Teonancatl/TNC018/TNC018a12_p_CPN.evp\n",
      "[nems_lbhb.baphy_experiment INFO] Creating trial epochs\n",
      "[nems_lbhb.baphy_experiment INFO] Creating stim epochs\n",
      "[nems_lbhb.baphy_experiment INFO] Creating Light epochs\n",
      "[nems_lbhb.baphy_io INFO] rounding Trial offset spike times to even number of rasterfs bins\n",
      "[nems_lbhb.baphy_io INFO] 200 trials totaling 2924.09 sec\n",
      "[nems_lbhb.baphy_experiment INFO] Caching recording: /auto/data/nems_db/recordings/Teonancatl/TNC018a/TNC018a_91c7cf0712becf6d3804c553a0dc1bcd816d08b1.tgz\n",
      "[nems.recording INFO] Saving recording to : /auto/data/nems_db/recordings/Teonancatl/TNC018a/TNC018a_91c7cf0712becf6d3804c553a0dc1bcd816d08b1.tgz\n",
      "[nems_lbhb.baphy_experiment INFO] Cached recording: /auto/data/nems_db/recordings/Teonancatl/TNC018a/TNC018a_9f055ad9a90e0b3d8f74cd01927f38c61e18c772.tgz\n",
      "[nems_lbhb.baphy_io INFO] Loading /auto/data/daq/Teonancatl/TNC018/TNC018a12_p_CPN.m\n"
     ]
    },
    {
     "name": "stdout",
     "output_type": "stream",
     "text": [
      "0 resp\n"
     ]
    },
    {
     "name": "stderr",
     "output_type": "stream",
     "text": [
      "[nems_lbhb.baphy_io INFO] evp file for licks: /auto/data/daq/Teonancatl/TNC018/TNC018a12_p_CPN.evp\n",
      "[nems_lbhb.baphy_io INFO] Loading /auto/data/daq/Teonancatl/TNC018/TNC018a12_p_CPN.m\n",
      "[nems_lbhb.baphy_io INFO] evp file for licks: /auto/data/daq/Teonancatl/TNC018/TNC018a12_p_CPN.evp\n",
      "[nems_lbhb.baphy_experiment INFO] Remove post-response events\n",
      "[nems_lbhb.baphy_experiment INFO] Removing post-reponse data\n",
      "[nems_lbhb.baphy_io INFO] rounding Trial offset spike times to even number of rasterfs bins\n",
      "[nems_lbhb.baphy_io INFO] 200 trials totaling 2924.09 sec\n",
      "[nems_lbhb.baphy_io INFO] Loading /auto/data/daq/Teonancatl/TNC018/TNC018a12_p_CPN.m\n",
      "[nems_lbhb.baphy_io INFO] evp file for licks: /auto/data/daq/Teonancatl/TNC018/TNC018a12_p_CPN.evp\n",
      "[nems_lbhb.baphy_experiment INFO] Creating trial epochs\n",
      "[nems_lbhb.baphy_experiment INFO] Creating stim epochs\n",
      "[nems_lbhb.baphy_experiment INFO] Creating Light epochs\n",
      "[nems_lbhb.baphy_io INFO] rounding Trial offset spike times to even number of rasterfs bins\n",
      "[nems_lbhb.baphy_io INFO] 200 trials totaling 2924.09 sec\n",
      "[nems_lbhb.baphy_experiment INFO] Caching recording: /auto/data/nems_db/recordings/Teonancatl/TNC018a/TNC018a_9f055ad9a90e0b3d8f74cd01927f38c61e18c772.tgz\n",
      "[nems.recording INFO] Saving recording to : /auto/data/nems_db/recordings/Teonancatl/TNC018a/TNC018a_9f055ad9a90e0b3d8f74cd01927f38c61e18c772.tgz\n"
     ]
    },
    {
     "name": "stdout",
     "output_type": "stream",
     "text": [
      "0 resp\n"
     ]
    },
    {
     "name": "stderr",
     "output_type": "stream",
     "text": [
      "[nems_lbhb.baphy_experiment INFO] Cached recording: /auto/data/nems_db/recordings/Teonancatl/TNC018a/TNC018a_63e8e1d191a192fcbfb42655d7f997f51a7c0e48.tgz\n",
      "[nems_lbhb.baphy_io INFO] Loading /auto/data/daq/Teonancatl/TNC018/TNC018a12_p_CPN.m\n",
      "[nems_lbhb.baphy_io INFO] evp file for licks: /auto/data/daq/Teonancatl/TNC018/TNC018a12_p_CPN.evp\n",
      "[nems_lbhb.baphy_io INFO] Loading /auto/data/daq/Teonancatl/TNC018/TNC018a12_p_CPN.m\n",
      "[nems_lbhb.baphy_io INFO] evp file for licks: /auto/data/daq/Teonancatl/TNC018/TNC018a12_p_CPN.evp\n",
      "[nems_lbhb.baphy_experiment INFO] Remove post-response events\n",
      "[nems_lbhb.baphy_experiment INFO] Removing post-reponse data\n",
      "[nems_lbhb.baphy_io INFO] rounding Trial offset spike times to even number of rasterfs bins\n",
      "[nems_lbhb.baphy_io INFO] 200 trials totaling 2924.09 sec\n",
      "[nems_lbhb.baphy_io INFO] Loading /auto/data/daq/Teonancatl/TNC018/TNC018a12_p_CPN.m\n",
      "[nems_lbhb.baphy_io INFO] evp file for licks: /auto/data/daq/Teonancatl/TNC018/TNC018a12_p_CPN.evp\n",
      "[nems_lbhb.baphy_experiment INFO] Creating trial epochs\n",
      "[nems_lbhb.baphy_experiment INFO] Creating stim epochs\n",
      "[nems_lbhb.baphy_experiment INFO] Creating Light epochs\n",
      "[nems_lbhb.baphy_io INFO] rounding Trial offset spike times to even number of rasterfs bins\n",
      "[nems_lbhb.baphy_io INFO] 200 trials totaling 2924.09 sec\n",
      "[nems_lbhb.baphy_experiment INFO] Caching recording: /auto/data/nems_db/recordings/Teonancatl/TNC018a/TNC018a_63e8e1d191a192fcbfb42655d7f997f51a7c0e48.tgz\n",
      "[nems.recording INFO] Saving recording to : /auto/data/nems_db/recordings/Teonancatl/TNC018a/TNC018a_63e8e1d191a192fcbfb42655d7f997f51a7c0e48.tgz\n",
      "[nems_lbhb.baphy_experiment INFO] Cached recording: /auto/data/nems_db/recordings/Teonancatl/TNC018a/TNC018a_b07290b226fa4c8446d0590ed124ce436b987e58.tgz\n",
      "[nems_lbhb.baphy_io INFO] Loading /auto/data/daq/Teonancatl/TNC018/TNC018a12_p_CPN.m\n"
     ]
    },
    {
     "name": "stdout",
     "output_type": "stream",
     "text": [
      "0 resp\n"
     ]
    },
    {
     "name": "stderr",
     "output_type": "stream",
     "text": [
      "[nems_lbhb.baphy_io INFO] evp file for licks: /auto/data/daq/Teonancatl/TNC018/TNC018a12_p_CPN.evp\n",
      "[nems_lbhb.baphy_io INFO] Loading /auto/data/daq/Teonancatl/TNC018/TNC018a12_p_CPN.m\n",
      "[nems_lbhb.baphy_io INFO] evp file for licks: /auto/data/daq/Teonancatl/TNC018/TNC018a12_p_CPN.evp\n",
      "[nems_lbhb.baphy_experiment INFO] Remove post-response events\n",
      "[nems_lbhb.baphy_experiment INFO] Removing post-reponse data\n",
      "[nems_lbhb.baphy_io INFO] rounding Trial offset spike times to even number of rasterfs bins\n",
      "[nems_lbhb.baphy_io INFO] 200 trials totaling 2924.09 sec\n",
      "[nems_lbhb.baphy_io INFO] Loading /auto/data/daq/Teonancatl/TNC018/TNC018a12_p_CPN.m\n",
      "[nems_lbhb.baphy_io INFO] evp file for licks: /auto/data/daq/Teonancatl/TNC018/TNC018a12_p_CPN.evp\n",
      "[nems_lbhb.baphy_experiment INFO] Creating trial epochs\n",
      "[nems_lbhb.baphy_experiment INFO] Creating stim epochs\n",
      "[nems_lbhb.baphy_experiment INFO] Creating Light epochs\n",
      "[nems_lbhb.baphy_io INFO] rounding Trial offset spike times to even number of rasterfs bins\n",
      "[nems_lbhb.baphy_io INFO] 200 trials totaling 2924.09 sec\n",
      "[nems_lbhb.baphy_experiment INFO] Caching recording: /auto/data/nems_db/recordings/Teonancatl/TNC018a/TNC018a_b07290b226fa4c8446d0590ed124ce436b987e58.tgz\n",
      "[nems.recording INFO] Saving recording to : /auto/data/nems_db/recordings/Teonancatl/TNC018a/TNC018a_b07290b226fa4c8446d0590ed124ce436b987e58.tgz\n"
     ]
    },
    {
     "name": "stdout",
     "output_type": "stream",
     "text": [
      "0 resp\n"
     ]
    },
    {
     "name": "stderr",
     "output_type": "stream",
     "text": [
      "[nems_lbhb.baphy_experiment INFO] Cached recording: /auto/data/nems_db/recordings/Teonancatl/TNC018a/TNC018a_34d2a7022a93126c3a66486169e6840c980eaa3e.tgz\n",
      "[nems_lbhb.baphy_io INFO] Loading /auto/data/daq/Teonancatl/TNC018/TNC018a12_p_CPN.m\n",
      "[nems_lbhb.baphy_io INFO] evp file for licks: /auto/data/daq/Teonancatl/TNC018/TNC018a12_p_CPN.evp\n",
      "[nems_lbhb.baphy_io INFO] Loading /auto/data/daq/Teonancatl/TNC018/TNC018a12_p_CPN.m\n",
      "[nems_lbhb.baphy_io INFO] evp file for licks: /auto/data/daq/Teonancatl/TNC018/TNC018a12_p_CPN.evp\n",
      "[nems_lbhb.baphy_experiment INFO] Remove post-response events\n",
      "[nems_lbhb.baphy_experiment INFO] Removing post-reponse data\n",
      "[nems_lbhb.baphy_io INFO] rounding Trial offset spike times to even number of rasterfs bins\n",
      "[nems_lbhb.baphy_io INFO] 200 trials totaling 2924.09 sec\n",
      "[nems_lbhb.baphy_io INFO] Loading /auto/data/daq/Teonancatl/TNC018/TNC018a12_p_CPN.m\n",
      "[nems_lbhb.baphy_io INFO] evp file for licks: /auto/data/daq/Teonancatl/TNC018/TNC018a12_p_CPN.evp\n",
      "[nems_lbhb.baphy_experiment INFO] Creating trial epochs\n",
      "[nems_lbhb.baphy_experiment INFO] Creating stim epochs\n",
      "[nems_lbhb.baphy_experiment INFO] Creating Light epochs\n",
      "[nems_lbhb.baphy_io INFO] rounding Trial offset spike times to even number of rasterfs bins\n",
      "[nems_lbhb.baphy_io INFO] 200 trials totaling 2924.09 sec\n",
      "[nems_lbhb.baphy_experiment INFO] Caching recording: /auto/data/nems_db/recordings/Teonancatl/TNC018a/TNC018a_34d2a7022a93126c3a66486169e6840c980eaa3e.tgz\n",
      "[nems.recording INFO] Saving recording to : /auto/data/nems_db/recordings/Teonancatl/TNC018a/TNC018a_34d2a7022a93126c3a66486169e6840c980eaa3e.tgz\n",
      "[nems_lbhb.baphy_experiment INFO] Cached recording: /auto/data/nems_db/recordings/Teonancatl/TNC018a/TNC018a_4f3995ab1da2545da1e1191fac45c08a1a00a4dc.tgz\n",
      "[nems_lbhb.baphy_io INFO] Loading /auto/data/daq/Teonancatl/TNC018/TNC018a12_p_CPN.m\n"
     ]
    },
    {
     "name": "stdout",
     "output_type": "stream",
     "text": [
      "0 resp\n"
     ]
    },
    {
     "name": "stderr",
     "output_type": "stream",
     "text": [
      "[nems_lbhb.baphy_io INFO] evp file for licks: /auto/data/daq/Teonancatl/TNC018/TNC018a12_p_CPN.evp\n",
      "[nems_lbhb.baphy_io INFO] Loading /auto/data/daq/Teonancatl/TNC018/TNC018a12_p_CPN.m\n",
      "[nems_lbhb.baphy_io INFO] evp file for licks: /auto/data/daq/Teonancatl/TNC018/TNC018a12_p_CPN.evp\n",
      "[nems_lbhb.baphy_experiment INFO] Remove post-response events\n",
      "[nems_lbhb.baphy_experiment INFO] Removing post-reponse data\n",
      "[nems_lbhb.baphy_io INFO] rounding Trial offset spike times to even number of rasterfs bins\n",
      "[nems_lbhb.baphy_io INFO] 200 trials totaling 2924.09 sec\n",
      "[nems_lbhb.baphy_io INFO] Loading /auto/data/daq/Teonancatl/TNC018/TNC018a12_p_CPN.m\n",
      "[nems_lbhb.baphy_io INFO] evp file for licks: /auto/data/daq/Teonancatl/TNC018/TNC018a12_p_CPN.evp\n",
      "[nems_lbhb.baphy_experiment INFO] Creating trial epochs\n",
      "[nems_lbhb.baphy_experiment INFO] Creating stim epochs\n",
      "[nems_lbhb.baphy_experiment INFO] Creating Light epochs\n",
      "[nems_lbhb.baphy_io INFO] rounding Trial offset spike times to even number of rasterfs bins\n",
      "[nems_lbhb.baphy_io INFO] 200 trials totaling 2924.09 sec\n",
      "[nems_lbhb.baphy_experiment INFO] Caching recording: /auto/data/nems_db/recordings/Teonancatl/TNC018a/TNC018a_4f3995ab1da2545da1e1191fac45c08a1a00a4dc.tgz\n",
      "[nems.recording INFO] Saving recording to : /auto/data/nems_db/recordings/Teonancatl/TNC018a/TNC018a_4f3995ab1da2545da1e1191fac45c08a1a00a4dc.tgz\n",
      "[nems_lbhb.baphy_experiment INFO] Cached recording: /auto/data/nems_db/recordings/Teonancatl/TNC018a/TNC018a_77614c4d819232e694a9eb9d7d3e9f3411d7d272.tgz\n",
      "[nems_lbhb.baphy_io INFO] Loading /auto/data/daq/Teonancatl/TNC018/TNC018a12_p_CPN.m\n"
     ]
    },
    {
     "name": "stdout",
     "output_type": "stream",
     "text": [
      "0 resp\n"
     ]
    },
    {
     "name": "stderr",
     "output_type": "stream",
     "text": [
      "[nems_lbhb.baphy_io INFO] evp file for licks: /auto/data/daq/Teonancatl/TNC018/TNC018a12_p_CPN.evp\n",
      "[nems_lbhb.baphy_io INFO] Loading /auto/data/daq/Teonancatl/TNC018/TNC018a12_p_CPN.m\n",
      "[nems_lbhb.baphy_io INFO] evp file for licks: /auto/data/daq/Teonancatl/TNC018/TNC018a12_p_CPN.evp\n",
      "[nems_lbhb.baphy_experiment INFO] Remove post-response events\n",
      "[nems_lbhb.baphy_experiment INFO] Removing post-reponse data\n",
      "[nems_lbhb.baphy_io INFO] rounding Trial offset spike times to even number of rasterfs bins\n",
      "[nems_lbhb.baphy_io INFO] 200 trials totaling 2924.09 sec\n",
      "[nems_lbhb.baphy_io INFO] Loading /auto/data/daq/Teonancatl/TNC018/TNC018a12_p_CPN.m\n",
      "[nems_lbhb.baphy_io INFO] evp file for licks: /auto/data/daq/Teonancatl/TNC018/TNC018a12_p_CPN.evp\n",
      "[nems_lbhb.baphy_experiment INFO] Creating trial epochs\n",
      "[nems_lbhb.baphy_experiment INFO] Creating stim epochs\n",
      "[nems_lbhb.baphy_experiment INFO] Creating Light epochs\n",
      "[nems_lbhb.baphy_io INFO] rounding Trial offset spike times to even number of rasterfs bins\n",
      "[nems_lbhb.baphy_io INFO] 200 trials totaling 2924.09 sec\n",
      "[nems_lbhb.baphy_experiment INFO] Caching recording: /auto/data/nems_db/recordings/Teonancatl/TNC018a/TNC018a_77614c4d819232e694a9eb9d7d3e9f3411d7d272.tgz\n",
      "[nems.recording INFO] Saving recording to : /auto/data/nems_db/recordings/Teonancatl/TNC018a/TNC018a_77614c4d819232e694a9eb9d7d3e9f3411d7d272.tgz\n",
      "[nems_lbhb.baphy_experiment INFO] Cached recording: /auto/data/nems_db/recordings/Teonancatl/TNC018a/TNC018a_704e1307a0eff222e68bf5e710aab261eea314fd.tgz\n",
      "[nems_lbhb.baphy_io INFO] Loading /auto/data/daq/Teonancatl/TNC018/TNC018a12_p_CPN.m\n"
     ]
    },
    {
     "name": "stdout",
     "output_type": "stream",
     "text": [
      "0 resp\n"
     ]
    },
    {
     "name": "stderr",
     "output_type": "stream",
     "text": [
      "[nems_lbhb.baphy_io INFO] evp file for licks: /auto/data/daq/Teonancatl/TNC018/TNC018a12_p_CPN.evp\n",
      "[nems_lbhb.baphy_io INFO] Loading /auto/data/daq/Teonancatl/TNC018/TNC018a12_p_CPN.m\n",
      "[nems_lbhb.baphy_io INFO] evp file for licks: /auto/data/daq/Teonancatl/TNC018/TNC018a12_p_CPN.evp\n",
      "[nems_lbhb.baphy_experiment INFO] Remove post-response events\n",
      "[nems_lbhb.baphy_experiment INFO] Removing post-reponse data\n",
      "[nems_lbhb.baphy_io INFO] rounding Trial offset spike times to even number of rasterfs bins\n",
      "[nems_lbhb.baphy_io INFO] 200 trials totaling 2924.09 sec\n",
      "[nems_lbhb.baphy_io INFO] Loading /auto/data/daq/Teonancatl/TNC018/TNC018a12_p_CPN.m\n",
      "[nems_lbhb.baphy_io INFO] evp file for licks: /auto/data/daq/Teonancatl/TNC018/TNC018a12_p_CPN.evp\n",
      "[nems_lbhb.baphy_experiment INFO] Creating trial epochs\n",
      "[nems_lbhb.baphy_experiment INFO] Creating stim epochs\n",
      "[nems_lbhb.baphy_experiment INFO] Creating Light epochs\n",
      "[nems_lbhb.baphy_io INFO] rounding Trial offset spike times to even number of rasterfs bins\n",
      "[nems_lbhb.baphy_io INFO] 200 trials totaling 2924.09 sec\n",
      "[nems_lbhb.baphy_experiment INFO] Caching recording: /auto/data/nems_db/recordings/Teonancatl/TNC018a/TNC018a_704e1307a0eff222e68bf5e710aab261eea314fd.tgz\n",
      "[nems.recording INFO] Saving recording to : /auto/data/nems_db/recordings/Teonancatl/TNC018a/TNC018a_704e1307a0eff222e68bf5e710aab261eea314fd.tgz\n",
      "[nems_lbhb.baphy_experiment INFO] Cached recording: /auto/data/nems_db/recordings/Teonancatl/TNC018a/TNC018a_36319ea8449fe7b28199a2e44169dfa5a608375f.tgz\n",
      "[nems_lbhb.baphy_io INFO] Loading /auto/data/daq/Teonancatl/TNC018/TNC018a12_p_CPN.m\n"
     ]
    },
    {
     "name": "stdout",
     "output_type": "stream",
     "text": [
      "0 resp\n"
     ]
    },
    {
     "name": "stderr",
     "output_type": "stream",
     "text": [
      "[nems_lbhb.baphy_io INFO] evp file for licks: /auto/data/daq/Teonancatl/TNC018/TNC018a12_p_CPN.evp\n",
      "[nems_lbhb.baphy_io INFO] Loading /auto/data/daq/Teonancatl/TNC018/TNC018a12_p_CPN.m\n",
      "[nems_lbhb.baphy_io INFO] evp file for licks: /auto/data/daq/Teonancatl/TNC018/TNC018a12_p_CPN.evp\n",
      "[nems_lbhb.baphy_experiment INFO] Remove post-response events\n",
      "[nems_lbhb.baphy_experiment INFO] Removing post-reponse data\n",
      "[nems_lbhb.baphy_io INFO] rounding Trial offset spike times to even number of rasterfs bins\n",
      "[nems_lbhb.baphy_io INFO] 200 trials totaling 2924.09 sec\n",
      "[nems_lbhb.baphy_io INFO] Loading /auto/data/daq/Teonancatl/TNC018/TNC018a12_p_CPN.m\n",
      "[nems_lbhb.baphy_io INFO] evp file for licks: /auto/data/daq/Teonancatl/TNC018/TNC018a12_p_CPN.evp\n",
      "[nems_lbhb.baphy_experiment INFO] Creating trial epochs\n",
      "[nems_lbhb.baphy_experiment INFO] Creating stim epochs\n",
      "[nems_lbhb.baphy_experiment INFO] Creating Light epochs\n",
      "[nems_lbhb.baphy_io INFO] rounding Trial offset spike times to even number of rasterfs bins\n",
      "[nems_lbhb.baphy_io INFO] 200 trials totaling 2924.09 sec\n",
      "[nems_lbhb.baphy_experiment INFO] Caching recording: /auto/data/nems_db/recordings/Teonancatl/TNC018a/TNC018a_36319ea8449fe7b28199a2e44169dfa5a608375f.tgz\n",
      "[nems.recording INFO] Saving recording to : /auto/data/nems_db/recordings/Teonancatl/TNC018a/TNC018a_36319ea8449fe7b28199a2e44169dfa5a608375f.tgz\n",
      "[nems_lbhb.baphy_experiment INFO] Cached recording: /auto/data/nems_db/recordings/Teonancatl/TNC018a/TNC018a_5fd890e0f53ef567ed3266154a16e22d8b32adff.tgz\n",
      "[nems_lbhb.baphy_io INFO] Loading /auto/data/daq/Teonancatl/TNC018/TNC018a12_p_CPN.m\n"
     ]
    },
    {
     "name": "stdout",
     "output_type": "stream",
     "text": [
      "0 resp\n"
     ]
    },
    {
     "name": "stderr",
     "output_type": "stream",
     "text": [
      "[nems_lbhb.baphy_io INFO] evp file for licks: /auto/data/daq/Teonancatl/TNC018/TNC018a12_p_CPN.evp\n",
      "[nems_lbhb.baphy_io INFO] Loading /auto/data/daq/Teonancatl/TNC018/TNC018a12_p_CPN.m\n",
      "[nems_lbhb.baphy_io INFO] evp file for licks: /auto/data/daq/Teonancatl/TNC018/TNC018a12_p_CPN.evp\n",
      "[nems_lbhb.baphy_experiment INFO] Remove post-response events\n",
      "[nems_lbhb.baphy_experiment INFO] Removing post-reponse data\n",
      "[nems_lbhb.baphy_io INFO] rounding Trial offset spike times to even number of rasterfs bins\n",
      "[nems_lbhb.baphy_io INFO] 200 trials totaling 2924.09 sec\n",
      "[nems_lbhb.baphy_io INFO] Loading /auto/data/daq/Teonancatl/TNC018/TNC018a12_p_CPN.m\n",
      "[nems_lbhb.baphy_io INFO] evp file for licks: /auto/data/daq/Teonancatl/TNC018/TNC018a12_p_CPN.evp\n",
      "[nems_lbhb.baphy_experiment INFO] Creating trial epochs\n",
      "[nems_lbhb.baphy_experiment INFO] Creating stim epochs\n",
      "[nems_lbhb.baphy_experiment INFO] Creating Light epochs\n",
      "[nems_lbhb.baphy_io INFO] rounding Trial offset spike times to even number of rasterfs bins\n",
      "[nems_lbhb.baphy_io INFO] 200 trials totaling 2924.09 sec\n",
      "[nems_lbhb.baphy_experiment INFO] Caching recording: /auto/data/nems_db/recordings/Teonancatl/TNC018a/TNC018a_5fd890e0f53ef567ed3266154a16e22d8b32adff.tgz\n",
      "[nems.recording INFO] Saving recording to : /auto/data/nems_db/recordings/Teonancatl/TNC018a/TNC018a_5fd890e0f53ef567ed3266154a16e22d8b32adff.tgz\n"
     ]
    },
    {
     "name": "stdout",
     "output_type": "stream",
     "text": [
      "0 resp\n"
     ]
    },
    {
     "name": "stderr",
     "output_type": "stream",
     "text": [
      "[nems_lbhb.baphy_experiment INFO] Cached recording: /auto/data/nems_db/recordings/Teonancatl/TNC018a/TNC018a_1a283d83701b80dc556e3ac518c3bbf7d9ef031e.tgz\n",
      "[nems_lbhb.baphy_io INFO] Loading /auto/data/daq/Teonancatl/TNC018/TNC018a12_p_CPN.m\n",
      "[nems_lbhb.baphy_io INFO] evp file for licks: /auto/data/daq/Teonancatl/TNC018/TNC018a12_p_CPN.evp\n",
      "[nems_lbhb.baphy_io INFO] Loading /auto/data/daq/Teonancatl/TNC018/TNC018a12_p_CPN.m\n",
      "[nems_lbhb.baphy_io INFO] evp file for licks: /auto/data/daq/Teonancatl/TNC018/TNC018a12_p_CPN.evp\n",
      "[nems_lbhb.baphy_experiment INFO] Remove post-response events\n",
      "[nems_lbhb.baphy_experiment INFO] Removing post-reponse data\n",
      "[nems_lbhb.baphy_io INFO] rounding Trial offset spike times to even number of rasterfs bins\n",
      "[nems_lbhb.baphy_io INFO] 200 trials totaling 2924.09 sec\n",
      "[nems_lbhb.baphy_io INFO] Loading /auto/data/daq/Teonancatl/TNC018/TNC018a12_p_CPN.m\n",
      "[nems_lbhb.baphy_io INFO] evp file for licks: /auto/data/daq/Teonancatl/TNC018/TNC018a12_p_CPN.evp\n",
      "[nems_lbhb.baphy_experiment INFO] Creating trial epochs\n",
      "[nems_lbhb.baphy_experiment INFO] Creating stim epochs\n",
      "[nems_lbhb.baphy_experiment INFO] Creating Light epochs\n",
      "[nems_lbhb.baphy_io INFO] rounding Trial offset spike times to even number of rasterfs bins\n",
      "[nems_lbhb.baphy_io INFO] 200 trials totaling 2924.09 sec\n",
      "[nems_lbhb.baphy_experiment INFO] Caching recording: /auto/data/nems_db/recordings/Teonancatl/TNC018a/TNC018a_1a283d83701b80dc556e3ac518c3bbf7d9ef031e.tgz\n",
      "[nems.recording INFO] Saving recording to : /auto/data/nems_db/recordings/Teonancatl/TNC018a/TNC018a_1a283d83701b80dc556e3ac518c3bbf7d9ef031e.tgz\n",
      "[nems_lbhb.baphy_experiment INFO] Cached recording: /auto/data/nems_db/recordings/Teonancatl/TNC018a/TNC018a_d2fc8d273b54015b87adbb2bf96a8f2d86d6823b.tgz\n",
      "[nems_lbhb.baphy_io INFO] Loading /auto/data/daq/Teonancatl/TNC018/TNC018a12_p_CPN.m\n"
     ]
    },
    {
     "name": "stdout",
     "output_type": "stream",
     "text": [
      "0 resp\n"
     ]
    },
    {
     "name": "stderr",
     "output_type": "stream",
     "text": [
      "[nems_lbhb.baphy_io INFO] evp file for licks: /auto/data/daq/Teonancatl/TNC018/TNC018a12_p_CPN.evp\n",
      "[nems_lbhb.baphy_io INFO] Loading /auto/data/daq/Teonancatl/TNC018/TNC018a12_p_CPN.m\n",
      "[nems_lbhb.baphy_io INFO] evp file for licks: /auto/data/daq/Teonancatl/TNC018/TNC018a12_p_CPN.evp\n",
      "[nems_lbhb.baphy_experiment INFO] Remove post-response events\n",
      "[nems_lbhb.baphy_experiment INFO] Removing post-reponse data\n",
      "[nems_lbhb.baphy_io INFO] rounding Trial offset spike times to even number of rasterfs bins\n",
      "[nems_lbhb.baphy_io INFO] 200 trials totaling 2924.09 sec\n",
      "[nems_lbhb.baphy_io INFO] Loading /auto/data/daq/Teonancatl/TNC018/TNC018a12_p_CPN.m\n",
      "[nems_lbhb.baphy_io INFO] evp file for licks: /auto/data/daq/Teonancatl/TNC018/TNC018a12_p_CPN.evp\n",
      "[nems_lbhb.baphy_experiment INFO] Creating trial epochs\n",
      "[nems_lbhb.baphy_experiment INFO] Creating stim epochs\n",
      "[nems_lbhb.baphy_experiment INFO] Creating Light epochs\n",
      "[nems_lbhb.baphy_io INFO] rounding Trial offset spike times to even number of rasterfs bins\n",
      "[nems_lbhb.baphy_io INFO] 200 trials totaling 2924.09 sec\n",
      "[nems_lbhb.baphy_experiment INFO] Caching recording: /auto/data/nems_db/recordings/Teonancatl/TNC018a/TNC018a_d2fc8d273b54015b87adbb2bf96a8f2d86d6823b.tgz\n",
      "[nems.recording INFO] Saving recording to : /auto/data/nems_db/recordings/Teonancatl/TNC018a/TNC018a_d2fc8d273b54015b87adbb2bf96a8f2d86d6823b.tgz\n",
      "[nems_lbhb.baphy_experiment INFO] Cached recording: /auto/data/nems_db/recordings/Teonancatl/TNC018a/TNC018a_5b6b35acbafdfc4435f9c6f4839038e9b1c803b0.tgz\n",
      "[nems_lbhb.baphy_io INFO] Loading /auto/data/daq/Teonancatl/TNC018/TNC018a12_p_CPN.m\n"
     ]
    },
    {
     "name": "stdout",
     "output_type": "stream",
     "text": [
      "0 resp\n"
     ]
    },
    {
     "name": "stderr",
     "output_type": "stream",
     "text": [
      "[nems_lbhb.baphy_io INFO] evp file for licks: /auto/data/daq/Teonancatl/TNC018/TNC018a12_p_CPN.evp\n",
      "[nems_lbhb.baphy_io INFO] Loading /auto/data/daq/Teonancatl/TNC018/TNC018a12_p_CPN.m\n",
      "[nems_lbhb.baphy_io INFO] evp file for licks: /auto/data/daq/Teonancatl/TNC018/TNC018a12_p_CPN.evp\n",
      "[nems_lbhb.baphy_experiment INFO] Remove post-response events\n",
      "[nems_lbhb.baphy_experiment INFO] Removing post-reponse data\n",
      "[nems_lbhb.baphy_io INFO] rounding Trial offset spike times to even number of rasterfs bins\n",
      "[nems_lbhb.baphy_io INFO] 200 trials totaling 2924.09 sec\n",
      "[nems_lbhb.baphy_io INFO] Loading /auto/data/daq/Teonancatl/TNC018/TNC018a12_p_CPN.m\n",
      "[nems_lbhb.baphy_io INFO] evp file for licks: /auto/data/daq/Teonancatl/TNC018/TNC018a12_p_CPN.evp\n",
      "[nems_lbhb.baphy_experiment INFO] Creating trial epochs\n",
      "[nems_lbhb.baphy_experiment INFO] Creating stim epochs\n",
      "[nems_lbhb.baphy_experiment INFO] Creating Light epochs\n",
      "[nems_lbhb.baphy_io INFO] rounding Trial offset spike times to even number of rasterfs bins\n",
      "[nems_lbhb.baphy_io INFO] 200 trials totaling 2924.09 sec\n",
      "[nems_lbhb.baphy_experiment INFO] Caching recording: /auto/data/nems_db/recordings/Teonancatl/TNC018a/TNC018a_5b6b35acbafdfc4435f9c6f4839038e9b1c803b0.tgz\n",
      "[nems.recording INFO] Saving recording to : /auto/data/nems_db/recordings/Teonancatl/TNC018a/TNC018a_5b6b35acbafdfc4435f9c6f4839038e9b1c803b0.tgz\n",
      "[nems_lbhb.baphy_experiment INFO] Cached recording: /auto/data/nems_db/recordings/Teonancatl/TNC018a/TNC018a_f4359ef86298a97361e767ffe38caac8a18d249a.tgz\n",
      "[nems_lbhb.baphy_io INFO] Loading /auto/data/daq/Teonancatl/TNC018/TNC018a12_p_CPN.m\n"
     ]
    },
    {
     "name": "stdout",
     "output_type": "stream",
     "text": [
      "0 resp\n"
     ]
    },
    {
     "name": "stderr",
     "output_type": "stream",
     "text": [
      "[nems_lbhb.baphy_io INFO] evp file for licks: /auto/data/daq/Teonancatl/TNC018/TNC018a12_p_CPN.evp\n",
      "[nems_lbhb.baphy_io INFO] Loading /auto/data/daq/Teonancatl/TNC018/TNC018a12_p_CPN.m\n",
      "[nems_lbhb.baphy_io INFO] evp file for licks: /auto/data/daq/Teonancatl/TNC018/TNC018a12_p_CPN.evp\n",
      "[nems_lbhb.baphy_experiment INFO] Remove post-response events\n",
      "[nems_lbhb.baphy_experiment INFO] Removing post-reponse data\n",
      "[nems_lbhb.baphy_io INFO] rounding Trial offset spike times to even number of rasterfs bins\n",
      "[nems_lbhb.baphy_io INFO] 200 trials totaling 2924.09 sec\n",
      "[nems_lbhb.baphy_io INFO] Loading /auto/data/daq/Teonancatl/TNC018/TNC018a12_p_CPN.m\n",
      "[nems_lbhb.baphy_io INFO] evp file for licks: /auto/data/daq/Teonancatl/TNC018/TNC018a12_p_CPN.evp\n",
      "[nems_lbhb.baphy_experiment INFO] Creating trial epochs\n",
      "[nems_lbhb.baphy_experiment INFO] Creating stim epochs\n",
      "[nems_lbhb.baphy_experiment INFO] Creating Light epochs\n",
      "[nems_lbhb.baphy_io INFO] rounding Trial offset spike times to even number of rasterfs bins\n",
      "[nems_lbhb.baphy_io INFO] 200 trials totaling 2924.09 sec\n",
      "[nems_lbhb.baphy_experiment INFO] Caching recording: /auto/data/nems_db/recordings/Teonancatl/TNC018a/TNC018a_f4359ef86298a97361e767ffe38caac8a18d249a.tgz\n",
      "[nems.recording INFO] Saving recording to : /auto/data/nems_db/recordings/Teonancatl/TNC018a/TNC018a_f4359ef86298a97361e767ffe38caac8a18d249a.tgz\n"
     ]
    },
    {
     "name": "stdout",
     "output_type": "stream",
     "text": [
      "0 resp\n"
     ]
    },
    {
     "name": "stderr",
     "output_type": "stream",
     "text": [
      "[nems_lbhb.baphy_experiment INFO] Cached recording: /auto/data/nems_db/recordings/Teonancatl/TNC018a/TNC018a_b7ebb63e1316ca5d54a2c0e712ec6a86ad7a76b5.tgz\n",
      "[nems_lbhb.baphy_io INFO] Loading /auto/data/daq/Teonancatl/TNC018/TNC018a12_p_CPN.m\n",
      "[nems_lbhb.baphy_io INFO] evp file for licks: /auto/data/daq/Teonancatl/TNC018/TNC018a12_p_CPN.evp\n",
      "[nems_lbhb.baphy_io INFO] Loading /auto/data/daq/Teonancatl/TNC018/TNC018a12_p_CPN.m\n",
      "[nems_lbhb.baphy_io INFO] evp file for licks: /auto/data/daq/Teonancatl/TNC018/TNC018a12_p_CPN.evp\n",
      "[nems_lbhb.baphy_experiment INFO] Remove post-response events\n",
      "[nems_lbhb.baphy_experiment INFO] Removing post-reponse data\n",
      "[nems_lbhb.baphy_io INFO] rounding Trial offset spike times to even number of rasterfs bins\n",
      "[nems_lbhb.baphy_io INFO] 200 trials totaling 2924.09 sec\n",
      "[nems_lbhb.baphy_io INFO] Loading /auto/data/daq/Teonancatl/TNC018/TNC018a12_p_CPN.m\n",
      "[nems_lbhb.baphy_io INFO] evp file for licks: /auto/data/daq/Teonancatl/TNC018/TNC018a12_p_CPN.evp\n",
      "[nems_lbhb.baphy_experiment INFO] Creating trial epochs\n",
      "[nems_lbhb.baphy_experiment INFO] Creating stim epochs\n",
      "[nems_lbhb.baphy_experiment INFO] Creating Light epochs\n",
      "[nems_lbhb.baphy_io INFO] rounding Trial offset spike times to even number of rasterfs bins\n",
      "[nems_lbhb.baphy_io INFO] 200 trials totaling 2924.09 sec\n",
      "[nems_lbhb.baphy_experiment INFO] Caching recording: /auto/data/nems_db/recordings/Teonancatl/TNC018a/TNC018a_b7ebb63e1316ca5d54a2c0e712ec6a86ad7a76b5.tgz\n",
      "[nems.recording INFO] Saving recording to : /auto/data/nems_db/recordings/Teonancatl/TNC018a/TNC018a_b7ebb63e1316ca5d54a2c0e712ec6a86ad7a76b5.tgz\n"
     ]
    },
    {
     "name": "stdout",
     "output_type": "stream",
     "text": [
      "0 resp\n"
     ]
    },
    {
     "name": "stderr",
     "output_type": "stream",
     "text": [
      "[nems_lbhb.baphy_experiment INFO] Cached recording: /auto/data/nems_db/recordings/Teonancatl/TNC018a/TNC018a_7dad2bfe58d77040ae39596a2f307e0b29f7f0dd.tgz\n",
      "[nems_lbhb.baphy_io INFO] Loading /auto/data/daq/Teonancatl/TNC018/TNC018a12_p_CPN.m\n",
      "[nems_lbhb.baphy_io INFO] evp file for licks: /auto/data/daq/Teonancatl/TNC018/TNC018a12_p_CPN.evp\n",
      "[nems_lbhb.baphy_io INFO] Loading /auto/data/daq/Teonancatl/TNC018/TNC018a12_p_CPN.m\n",
      "[nems_lbhb.baphy_io INFO] evp file for licks: /auto/data/daq/Teonancatl/TNC018/TNC018a12_p_CPN.evp\n",
      "[nems_lbhb.baphy_experiment INFO] Remove post-response events\n",
      "[nems_lbhb.baphy_experiment INFO] Removing post-reponse data\n",
      "[nems_lbhb.baphy_io INFO] rounding Trial offset spike times to even number of rasterfs bins\n",
      "[nems_lbhb.baphy_io INFO] 200 trials totaling 2924.09 sec\n",
      "[nems_lbhb.baphy_io INFO] Loading /auto/data/daq/Teonancatl/TNC018/TNC018a12_p_CPN.m\n",
      "[nems_lbhb.baphy_io INFO] evp file for licks: /auto/data/daq/Teonancatl/TNC018/TNC018a12_p_CPN.evp\n",
      "[nems_lbhb.baphy_experiment INFO] Creating trial epochs\n",
      "[nems_lbhb.baphy_experiment INFO] Creating stim epochs\n",
      "[nems_lbhb.baphy_experiment INFO] Creating Light epochs\n",
      "[nems_lbhb.baphy_io INFO] rounding Trial offset spike times to even number of rasterfs bins\n",
      "[nems_lbhb.baphy_io INFO] 200 trials totaling 2924.09 sec\n",
      "[nems_lbhb.baphy_experiment INFO] Caching recording: /auto/data/nems_db/recordings/Teonancatl/TNC018a/TNC018a_7dad2bfe58d77040ae39596a2f307e0b29f7f0dd.tgz\n",
      "[nems.recording INFO] Saving recording to : /auto/data/nems_db/recordings/Teonancatl/TNC018a/TNC018a_7dad2bfe58d77040ae39596a2f307e0b29f7f0dd.tgz\n",
      "[nems_lbhb.baphy_experiment INFO] Cached recording: /auto/data/nems_db/recordings/Teonancatl/TNC018a/TNC018a_4e1435d2e7dcbbf6a538a7e105117fcbdeaa0437.tgz\n",
      "[nems_lbhb.baphy_io INFO] Loading /auto/data/daq/Teonancatl/TNC018/TNC018a12_p_CPN.m\n"
     ]
    },
    {
     "name": "stdout",
     "output_type": "stream",
     "text": [
      "0 resp\n"
     ]
    },
    {
     "name": "stderr",
     "output_type": "stream",
     "text": [
      "[nems_lbhb.baphy_io INFO] evp file for licks: /auto/data/daq/Teonancatl/TNC018/TNC018a12_p_CPN.evp\n",
      "[nems_lbhb.baphy_io INFO] Loading /auto/data/daq/Teonancatl/TNC018/TNC018a12_p_CPN.m\n",
      "[nems_lbhb.baphy_io INFO] evp file for licks: /auto/data/daq/Teonancatl/TNC018/TNC018a12_p_CPN.evp\n",
      "[nems_lbhb.baphy_experiment INFO] Remove post-response events\n",
      "[nems_lbhb.baphy_experiment INFO] Removing post-reponse data\n",
      "[nems_lbhb.baphy_io INFO] rounding Trial offset spike times to even number of rasterfs bins\n",
      "[nems_lbhb.baphy_io INFO] 200 trials totaling 2924.09 sec\n",
      "[nems_lbhb.baphy_io INFO] Loading /auto/data/daq/Teonancatl/TNC018/TNC018a12_p_CPN.m\n",
      "[nems_lbhb.baphy_io INFO] evp file for licks: /auto/data/daq/Teonancatl/TNC018/TNC018a12_p_CPN.evp\n",
      "[nems_lbhb.baphy_experiment INFO] Creating trial epochs\n",
      "[nems_lbhb.baphy_experiment INFO] Creating stim epochs\n",
      "[nems_lbhb.baphy_experiment INFO] Creating Light epochs\n",
      "[nems_lbhb.baphy_io INFO] rounding Trial offset spike times to even number of rasterfs bins\n",
      "[nems_lbhb.baphy_io INFO] 200 trials totaling 2924.09 sec\n",
      "[nems_lbhb.baphy_experiment INFO] Caching recording: /auto/data/nems_db/recordings/Teonancatl/TNC018a/TNC018a_4e1435d2e7dcbbf6a538a7e105117fcbdeaa0437.tgz\n",
      "[nems.recording INFO] Saving recording to : /auto/data/nems_db/recordings/Teonancatl/TNC018a/TNC018a_4e1435d2e7dcbbf6a538a7e105117fcbdeaa0437.tgz\n",
      "[nems_lbhb.baphy_experiment INFO] Cached recording: /auto/data/nems_db/recordings/Teonancatl/TNC018a/TNC018a_6c46108d2a581073ee911b2c294cae09a9d2f481.tgz\n",
      "[nems_lbhb.baphy_io INFO] Loading /auto/data/daq/Teonancatl/TNC018/TNC018a12_p_CPN.m\n"
     ]
    },
    {
     "name": "stdout",
     "output_type": "stream",
     "text": [
      "0 resp\n"
     ]
    },
    {
     "name": "stderr",
     "output_type": "stream",
     "text": [
      "[nems_lbhb.baphy_io INFO] evp file for licks: /auto/data/daq/Teonancatl/TNC018/TNC018a12_p_CPN.evp\n",
      "[nems_lbhb.baphy_io INFO] Loading /auto/data/daq/Teonancatl/TNC018/TNC018a12_p_CPN.m\n",
      "[nems_lbhb.baphy_io INFO] evp file for licks: /auto/data/daq/Teonancatl/TNC018/TNC018a12_p_CPN.evp\n",
      "[nems_lbhb.baphy_experiment INFO] Remove post-response events\n",
      "[nems_lbhb.baphy_experiment INFO] Removing post-reponse data\n",
      "[nems_lbhb.baphy_io INFO] rounding Trial offset spike times to even number of rasterfs bins\n",
      "[nems_lbhb.baphy_io INFO] 200 trials totaling 2924.09 sec\n",
      "[nems_lbhb.baphy_io INFO] Loading /auto/data/daq/Teonancatl/TNC018/TNC018a12_p_CPN.m\n",
      "[nems_lbhb.baphy_io INFO] evp file for licks: /auto/data/daq/Teonancatl/TNC018/TNC018a12_p_CPN.evp\n",
      "[nems_lbhb.baphy_experiment INFO] Creating trial epochs\n",
      "[nems_lbhb.baphy_experiment INFO] Creating stim epochs\n",
      "[nems_lbhb.baphy_experiment INFO] Creating Light epochs\n",
      "[nems_lbhb.baphy_io INFO] rounding Trial offset spike times to even number of rasterfs bins\n",
      "[nems_lbhb.baphy_io INFO] 200 trials totaling 2924.09 sec\n",
      "[nems_lbhb.baphy_experiment INFO] Caching recording: /auto/data/nems_db/recordings/Teonancatl/TNC018a/TNC018a_6c46108d2a581073ee911b2c294cae09a9d2f481.tgz\n",
      "[nems.recording INFO] Saving recording to : /auto/data/nems_db/recordings/Teonancatl/TNC018a/TNC018a_6c46108d2a581073ee911b2c294cae09a9d2f481.tgz\n",
      "[nems_lbhb.baphy_experiment INFO] Cached recording: /auto/data/nems_db/recordings/Teonancatl/TNC018a/TNC018a_2c35443ec6e71459b33a68143550e7b5b0aeaab3.tgz\n",
      "[nems_lbhb.baphy_io INFO] Loading /auto/data/daq/Teonancatl/TNC018/TNC018a12_p_CPN.m\n"
     ]
    },
    {
     "name": "stdout",
     "output_type": "stream",
     "text": [
      "0 resp\n"
     ]
    },
    {
     "name": "stderr",
     "output_type": "stream",
     "text": [
      "[nems_lbhb.baphy_io INFO] evp file for licks: /auto/data/daq/Teonancatl/TNC018/TNC018a12_p_CPN.evp\n",
      "[nems_lbhb.baphy_io INFO] Loading /auto/data/daq/Teonancatl/TNC018/TNC018a12_p_CPN.m\n",
      "[nems_lbhb.baphy_io INFO] evp file for licks: /auto/data/daq/Teonancatl/TNC018/TNC018a12_p_CPN.evp\n",
      "[nems_lbhb.baphy_experiment INFO] Remove post-response events\n",
      "[nems_lbhb.baphy_experiment INFO] Removing post-reponse data\n",
      "[nems_lbhb.baphy_io INFO] rounding Trial offset spike times to even number of rasterfs bins\n",
      "[nems_lbhb.baphy_io INFO] 200 trials totaling 2924.09 sec\n",
      "[nems_lbhb.baphy_io INFO] Loading /auto/data/daq/Teonancatl/TNC018/TNC018a12_p_CPN.m\n",
      "[nems_lbhb.baphy_io INFO] evp file for licks: /auto/data/daq/Teonancatl/TNC018/TNC018a12_p_CPN.evp\n",
      "[nems_lbhb.baphy_experiment INFO] Creating trial epochs\n",
      "[nems_lbhb.baphy_experiment INFO] Creating stim epochs\n",
      "[nems_lbhb.baphy_experiment INFO] Creating Light epochs\n",
      "[nems_lbhb.baphy_io INFO] rounding Trial offset spike times to even number of rasterfs bins\n",
      "[nems_lbhb.baphy_io INFO] 200 trials totaling 2924.09 sec\n",
      "[nems_lbhb.baphy_experiment INFO] Caching recording: /auto/data/nems_db/recordings/Teonancatl/TNC018a/TNC018a_2c35443ec6e71459b33a68143550e7b5b0aeaab3.tgz\n",
      "[nems.recording INFO] Saving recording to : /auto/data/nems_db/recordings/Teonancatl/TNC018a/TNC018a_2c35443ec6e71459b33a68143550e7b5b0aeaab3.tgz\n",
      "[nems_lbhb.baphy_experiment INFO] Cached recording: /auto/data/nems_db/recordings/Teonancatl/TNC018a/TNC018a_f3155f3cd2716d9a0358f4413812abcf5d916f4a.tgz\n",
      "[nems_lbhb.baphy_io INFO] Loading /auto/data/daq/Teonancatl/TNC018/TNC018a12_p_CPN.m\n"
     ]
    },
    {
     "name": "stdout",
     "output_type": "stream",
     "text": [
      "0 resp\n"
     ]
    },
    {
     "name": "stderr",
     "output_type": "stream",
     "text": [
      "[nems_lbhb.baphy_io INFO] evp file for licks: /auto/data/daq/Teonancatl/TNC018/TNC018a12_p_CPN.evp\n",
      "[nems_lbhb.baphy_io INFO] Loading /auto/data/daq/Teonancatl/TNC018/TNC018a12_p_CPN.m\n",
      "[nems_lbhb.baphy_io INFO] evp file for licks: /auto/data/daq/Teonancatl/TNC018/TNC018a12_p_CPN.evp\n",
      "[nems_lbhb.baphy_experiment INFO] Remove post-response events\n",
      "[nems_lbhb.baphy_experiment INFO] Removing post-reponse data\n",
      "[nems_lbhb.baphy_io INFO] rounding Trial offset spike times to even number of rasterfs bins\n",
      "[nems_lbhb.baphy_io INFO] 200 trials totaling 2924.09 sec\n",
      "[nems_lbhb.baphy_io INFO] Loading /auto/data/daq/Teonancatl/TNC018/TNC018a12_p_CPN.m\n",
      "[nems_lbhb.baphy_io INFO] evp file for licks: /auto/data/daq/Teonancatl/TNC018/TNC018a12_p_CPN.evp\n",
      "[nems_lbhb.baphy_experiment INFO] Creating trial epochs\n",
      "[nems_lbhb.baphy_experiment INFO] Creating stim epochs\n",
      "[nems_lbhb.baphy_experiment INFO] Creating Light epochs\n",
      "[nems_lbhb.baphy_io INFO] rounding Trial offset spike times to even number of rasterfs bins\n",
      "[nems_lbhb.baphy_io INFO] 200 trials totaling 2924.09 sec\n",
      "[nems_lbhb.baphy_experiment INFO] Caching recording: /auto/data/nems_db/recordings/Teonancatl/TNC018a/TNC018a_f3155f3cd2716d9a0358f4413812abcf5d916f4a.tgz\n",
      "[nems.recording INFO] Saving recording to : /auto/data/nems_db/recordings/Teonancatl/TNC018a/TNC018a_f3155f3cd2716d9a0358f4413812abcf5d916f4a.tgz\n",
      "[nems_lbhb.baphy_experiment INFO] Cached recording: /auto/data/nems_db/recordings/Teonancatl/TNC018a/TNC018a_9036174b48748f53c38c8504e336e86181c63c8f.tgz\n",
      "[nems_lbhb.baphy_io INFO] Loading /auto/data/daq/Teonancatl/TNC018/TNC018a12_p_CPN.m\n"
     ]
    },
    {
     "name": "stdout",
     "output_type": "stream",
     "text": [
      "0 resp\n"
     ]
    },
    {
     "name": "stderr",
     "output_type": "stream",
     "text": [
      "[nems_lbhb.baphy_io INFO] evp file for licks: /auto/data/daq/Teonancatl/TNC018/TNC018a12_p_CPN.evp\n",
      "[nems_lbhb.baphy_io INFO] Loading /auto/data/daq/Teonancatl/TNC018/TNC018a12_p_CPN.m\n",
      "[nems_lbhb.baphy_io INFO] evp file for licks: /auto/data/daq/Teonancatl/TNC018/TNC018a12_p_CPN.evp\n",
      "[nems_lbhb.baphy_experiment INFO] Remove post-response events\n",
      "[nems_lbhb.baphy_experiment INFO] Removing post-reponse data\n",
      "[nems_lbhb.baphy_io INFO] rounding Trial offset spike times to even number of rasterfs bins\n",
      "[nems_lbhb.baphy_io INFO] 200 trials totaling 2924.09 sec\n",
      "[nems_lbhb.baphy_io INFO] Loading /auto/data/daq/Teonancatl/TNC018/TNC018a12_p_CPN.m\n",
      "[nems_lbhb.baphy_io INFO] evp file for licks: /auto/data/daq/Teonancatl/TNC018/TNC018a12_p_CPN.evp\n",
      "[nems_lbhb.baphy_experiment INFO] Creating trial epochs\n",
      "[nems_lbhb.baphy_experiment INFO] Creating stim epochs\n",
      "[nems_lbhb.baphy_experiment INFO] Creating Light epochs\n",
      "[nems_lbhb.baphy_io INFO] rounding Trial offset spike times to even number of rasterfs bins\n",
      "[nems_lbhb.baphy_io INFO] 200 trials totaling 2924.09 sec\n",
      "[nems_lbhb.baphy_experiment INFO] Caching recording: /auto/data/nems_db/recordings/Teonancatl/TNC018a/TNC018a_9036174b48748f53c38c8504e336e86181c63c8f.tgz\n",
      "[nems.recording INFO] Saving recording to : /auto/data/nems_db/recordings/Teonancatl/TNC018a/TNC018a_9036174b48748f53c38c8504e336e86181c63c8f.tgz\n"
     ]
    },
    {
     "name": "stdout",
     "output_type": "stream",
     "text": [
      "0 resp\n"
     ]
    },
    {
     "name": "stderr",
     "output_type": "stream",
     "text": [
      "[nems_lbhb.baphy_experiment INFO] Cached recording: /auto/data/nems_db/recordings/Teonancatl/TNC018a/TNC018a_0cb3c39b45f9c32569a6e0da48fffa4259044aab.tgz\n",
      "[nems_lbhb.baphy_io INFO] Loading /auto/data/daq/Teonancatl/TNC018/TNC018a12_p_CPN.m\n",
      "[nems_lbhb.baphy_io INFO] evp file for licks: /auto/data/daq/Teonancatl/TNC018/TNC018a12_p_CPN.evp\n",
      "[nems_lbhb.baphy_io INFO] Loading /auto/data/daq/Teonancatl/TNC018/TNC018a12_p_CPN.m\n",
      "[nems_lbhb.baphy_io INFO] evp file for licks: /auto/data/daq/Teonancatl/TNC018/TNC018a12_p_CPN.evp\n",
      "[nems_lbhb.baphy_experiment INFO] Remove post-response events\n",
      "[nems_lbhb.baphy_experiment INFO] Removing post-reponse data\n",
      "[nems_lbhb.baphy_io INFO] rounding Trial offset spike times to even number of rasterfs bins\n",
      "[nems_lbhb.baphy_io INFO] 200 trials totaling 2924.09 sec\n",
      "[nems_lbhb.baphy_io INFO] Loading /auto/data/daq/Teonancatl/TNC018/TNC018a12_p_CPN.m\n",
      "[nems_lbhb.baphy_io INFO] evp file for licks: /auto/data/daq/Teonancatl/TNC018/TNC018a12_p_CPN.evp\n",
      "[nems_lbhb.baphy_experiment INFO] Creating trial epochs\n",
      "[nems_lbhb.baphy_experiment INFO] Creating stim epochs\n",
      "[nems_lbhb.baphy_experiment INFO] Creating Light epochs\n",
      "[nems_lbhb.baphy_io INFO] rounding Trial offset spike times to even number of rasterfs bins\n",
      "[nems_lbhb.baphy_io INFO] 200 trials totaling 2924.09 sec\n",
      "[nems_lbhb.baphy_experiment INFO] Caching recording: /auto/data/nems_db/recordings/Teonancatl/TNC018a/TNC018a_0cb3c39b45f9c32569a6e0da48fffa4259044aab.tgz\n",
      "[nems.recording INFO] Saving recording to : /auto/data/nems_db/recordings/Teonancatl/TNC018a/TNC018a_0cb3c39b45f9c32569a6e0da48fffa4259044aab.tgz\n",
      "[nems_lbhb.baphy_experiment INFO] Cached recording: /auto/data/nems_db/recordings/Teonancatl/TNC018a/TNC018a_1c57ce7958aeac189eb07c6238ee0fd9641a72ef.tgz\n",
      "[nems_lbhb.baphy_io INFO] Loading /auto/data/daq/Teonancatl/TNC018/TNC018a12_p_CPN.m\n"
     ]
    },
    {
     "name": "stdout",
     "output_type": "stream",
     "text": [
      "0 resp\n"
     ]
    },
    {
     "name": "stderr",
     "output_type": "stream",
     "text": [
      "[nems_lbhb.baphy_io INFO] evp file for licks: /auto/data/daq/Teonancatl/TNC018/TNC018a12_p_CPN.evp\n",
      "[nems_lbhb.baphy_io INFO] Loading /auto/data/daq/Teonancatl/TNC018/TNC018a12_p_CPN.m\n",
      "[nems_lbhb.baphy_io INFO] evp file for licks: /auto/data/daq/Teonancatl/TNC018/TNC018a12_p_CPN.evp\n",
      "[nems_lbhb.baphy_experiment INFO] Remove post-response events\n",
      "[nems_lbhb.baphy_experiment INFO] Removing post-reponse data\n",
      "[nems_lbhb.baphy_io INFO] rounding Trial offset spike times to even number of rasterfs bins\n",
      "[nems_lbhb.baphy_io INFO] 200 trials totaling 2924.09 sec\n",
      "[nems_lbhb.baphy_io INFO] Loading /auto/data/daq/Teonancatl/TNC018/TNC018a12_p_CPN.m\n",
      "[nems_lbhb.baphy_io INFO] evp file for licks: /auto/data/daq/Teonancatl/TNC018/TNC018a12_p_CPN.evp\n",
      "[nems_lbhb.baphy_experiment INFO] Creating trial epochs\n",
      "[nems_lbhb.baphy_experiment INFO] Creating stim epochs\n",
      "[nems_lbhb.baphy_experiment INFO] Creating Light epochs\n",
      "[nems_lbhb.baphy_io INFO] rounding Trial offset spike times to even number of rasterfs bins\n",
      "[nems_lbhb.baphy_io INFO] 200 trials totaling 2924.09 sec\n",
      "[nems_lbhb.baphy_experiment INFO] Caching recording: /auto/data/nems_db/recordings/Teonancatl/TNC018a/TNC018a_1c57ce7958aeac189eb07c6238ee0fd9641a72ef.tgz\n",
      "[nems.recording INFO] Saving recording to : /auto/data/nems_db/recordings/Teonancatl/TNC018a/TNC018a_1c57ce7958aeac189eb07c6238ee0fd9641a72ef.tgz\n",
      "[nems_lbhb.baphy_experiment INFO] Cached recording: /auto/data/nems_db/recordings/Teonancatl/TNC018a/TNC018a_cd50536e98868cbd36129d8149d824f0ec7f620a.tgz\n",
      "[nems_lbhb.baphy_io INFO] Loading /auto/data/daq/Teonancatl/TNC018/TNC018a12_p_CPN.m\n"
     ]
    },
    {
     "name": "stdout",
     "output_type": "stream",
     "text": [
      "0 resp\n"
     ]
    },
    {
     "name": "stderr",
     "output_type": "stream",
     "text": [
      "[nems_lbhb.baphy_io INFO] evp file for licks: /auto/data/daq/Teonancatl/TNC018/TNC018a12_p_CPN.evp\n",
      "[nems_lbhb.baphy_io INFO] Loading /auto/data/daq/Teonancatl/TNC018/TNC018a12_p_CPN.m\n",
      "[nems_lbhb.baphy_io INFO] evp file for licks: /auto/data/daq/Teonancatl/TNC018/TNC018a12_p_CPN.evp\n",
      "[nems_lbhb.baphy_experiment INFO] Remove post-response events\n",
      "[nems_lbhb.baphy_experiment INFO] Removing post-reponse data\n",
      "[nems_lbhb.baphy_io INFO] rounding Trial offset spike times to even number of rasterfs bins\n",
      "[nems_lbhb.baphy_io INFO] 200 trials totaling 2924.09 sec\n",
      "[nems_lbhb.baphy_io INFO] Loading /auto/data/daq/Teonancatl/TNC018/TNC018a12_p_CPN.m\n",
      "[nems_lbhb.baphy_io INFO] evp file for licks: /auto/data/daq/Teonancatl/TNC018/TNC018a12_p_CPN.evp\n",
      "[nems_lbhb.baphy_experiment INFO] Creating trial epochs\n",
      "[nems_lbhb.baphy_experiment INFO] Creating stim epochs\n",
      "[nems_lbhb.baphy_experiment INFO] Creating Light epochs\n",
      "[nems_lbhb.baphy_io INFO] rounding Trial offset spike times to even number of rasterfs bins\n",
      "[nems_lbhb.baphy_io INFO] 200 trials totaling 2924.09 sec\n",
      "[nems_lbhb.baphy_experiment INFO] Caching recording: /auto/data/nems_db/recordings/Teonancatl/TNC018a/TNC018a_cd50536e98868cbd36129d8149d824f0ec7f620a.tgz\n",
      "[nems.recording INFO] Saving recording to : /auto/data/nems_db/recordings/Teonancatl/TNC018a/TNC018a_cd50536e98868cbd36129d8149d824f0ec7f620a.tgz\n"
     ]
    },
    {
     "name": "stdout",
     "output_type": "stream",
     "text": [
      "0 resp\n"
     ]
    },
    {
     "name": "stderr",
     "output_type": "stream",
     "text": [
      "[nems_lbhb.baphy_experiment INFO] Cached recording: /auto/data/nems_db/recordings/Teonancatl/TNC018a/TNC018a_4c20cc3dd96d1bfbadaa939edde8b3a0306ba763.tgz\n",
      "[nems_lbhb.baphy_io INFO] Loading /auto/data/daq/Teonancatl/TNC018/TNC018a12_p_CPN.m\n",
      "[nems_lbhb.baphy_io INFO] evp file for licks: /auto/data/daq/Teonancatl/TNC018/TNC018a12_p_CPN.evp\n",
      "[nems_lbhb.baphy_io INFO] Loading /auto/data/daq/Teonancatl/TNC018/TNC018a12_p_CPN.m\n",
      "[nems_lbhb.baphy_io INFO] evp file for licks: /auto/data/daq/Teonancatl/TNC018/TNC018a12_p_CPN.evp\n",
      "[nems_lbhb.baphy_experiment INFO] Remove post-response events\n",
      "[nems_lbhb.baphy_experiment INFO] Removing post-reponse data\n",
      "[nems_lbhb.baphy_io INFO] rounding Trial offset spike times to even number of rasterfs bins\n",
      "[nems_lbhb.baphy_io INFO] 200 trials totaling 2924.09 sec\n",
      "[nems_lbhb.baphy_io INFO] Loading /auto/data/daq/Teonancatl/TNC018/TNC018a12_p_CPN.m\n",
      "[nems_lbhb.baphy_io INFO] evp file for licks: /auto/data/daq/Teonancatl/TNC018/TNC018a12_p_CPN.evp\n",
      "[nems_lbhb.baphy_experiment INFO] Creating trial epochs\n",
      "[nems_lbhb.baphy_experiment INFO] Creating stim epochs\n",
      "[nems_lbhb.baphy_experiment INFO] Creating Light epochs\n",
      "[nems_lbhb.baphy_io INFO] rounding Trial offset spike times to even number of rasterfs bins\n",
      "[nems_lbhb.baphy_io INFO] 200 trials totaling 2924.09 sec\n",
      "[nems_lbhb.baphy_experiment INFO] Caching recording: /auto/data/nems_db/recordings/Teonancatl/TNC018a/TNC018a_4c20cc3dd96d1bfbadaa939edde8b3a0306ba763.tgz\n",
      "[nems.recording INFO] Saving recording to : /auto/data/nems_db/recordings/Teonancatl/TNC018a/TNC018a_4c20cc3dd96d1bfbadaa939edde8b3a0306ba763.tgz\n",
      "[nems_lbhb.baphy_experiment INFO] Cached recording: /auto/data/nems_db/recordings/Teonancatl/TNC018a/TNC018a_9d149345a4644d63a585fb551c19c545912c9823.tgz\n",
      "[nems_lbhb.baphy_io INFO] Loading /auto/data/daq/Teonancatl/TNC018/TNC018a12_p_CPN.m\n"
     ]
    },
    {
     "name": "stdout",
     "output_type": "stream",
     "text": [
      "0 resp\n"
     ]
    },
    {
     "name": "stderr",
     "output_type": "stream",
     "text": [
      "[nems_lbhb.baphy_io INFO] evp file for licks: /auto/data/daq/Teonancatl/TNC018/TNC018a12_p_CPN.evp\n",
      "[nems_lbhb.baphy_io INFO] Loading /auto/data/daq/Teonancatl/TNC018/TNC018a12_p_CPN.m\n",
      "[nems_lbhb.baphy_io INFO] evp file for licks: /auto/data/daq/Teonancatl/TNC018/TNC018a12_p_CPN.evp\n",
      "[nems_lbhb.baphy_experiment INFO] Remove post-response events\n",
      "[nems_lbhb.baphy_experiment INFO] Removing post-reponse data\n",
      "[nems_lbhb.baphy_io INFO] rounding Trial offset spike times to even number of rasterfs bins\n",
      "[nems_lbhb.baphy_io INFO] 200 trials totaling 2924.09 sec\n",
      "[nems_lbhb.baphy_io INFO] Loading /auto/data/daq/Teonancatl/TNC018/TNC018a12_p_CPN.m\n",
      "[nems_lbhb.baphy_io INFO] evp file for licks: /auto/data/daq/Teonancatl/TNC018/TNC018a12_p_CPN.evp\n",
      "[nems_lbhb.baphy_experiment INFO] Creating trial epochs\n",
      "[nems_lbhb.baphy_experiment INFO] Creating stim epochs\n",
      "[nems_lbhb.baphy_experiment INFO] Creating Light epochs\n",
      "[nems_lbhb.baphy_io INFO] rounding Trial offset spike times to even number of rasterfs bins\n",
      "[nems_lbhb.baphy_io INFO] 200 trials totaling 2924.09 sec\n",
      "[nems_lbhb.baphy_experiment INFO] Caching recording: /auto/data/nems_db/recordings/Teonancatl/TNC018a/TNC018a_9d149345a4644d63a585fb551c19c545912c9823.tgz\n",
      "[nems.recording INFO] Saving recording to : /auto/data/nems_db/recordings/Teonancatl/TNC018a/TNC018a_9d149345a4644d63a585fb551c19c545912c9823.tgz\n",
      "[nems_lbhb.baphy_experiment INFO] Cached recording: /auto/data/nems_db/recordings/Teonancatl/TNC018a/TNC018a_907299e6ad0beabe8b0f368723df75780ef6f0c6.tgz\n",
      "[nems_lbhb.baphy_io INFO] Loading /auto/data/daq/Teonancatl/TNC018/TNC018a12_p_CPN.m\n"
     ]
    },
    {
     "name": "stdout",
     "output_type": "stream",
     "text": [
      "0 resp\n"
     ]
    },
    {
     "name": "stderr",
     "output_type": "stream",
     "text": [
      "[nems_lbhb.baphy_io INFO] evp file for licks: /auto/data/daq/Teonancatl/TNC018/TNC018a12_p_CPN.evp\n",
      "[nems_lbhb.baphy_io INFO] Loading /auto/data/daq/Teonancatl/TNC018/TNC018a12_p_CPN.m\n",
      "[nems_lbhb.baphy_io INFO] evp file for licks: /auto/data/daq/Teonancatl/TNC018/TNC018a12_p_CPN.evp\n",
      "[nems_lbhb.baphy_experiment INFO] Remove post-response events\n",
      "[nems_lbhb.baphy_experiment INFO] Removing post-reponse data\n",
      "[nems_lbhb.baphy_io INFO] rounding Trial offset spike times to even number of rasterfs bins\n",
      "[nems_lbhb.baphy_io INFO] 200 trials totaling 2924.09 sec\n",
      "[nems_lbhb.baphy_io INFO] Loading /auto/data/daq/Teonancatl/TNC018/TNC018a12_p_CPN.m\n",
      "[nems_lbhb.baphy_io INFO] evp file for licks: /auto/data/daq/Teonancatl/TNC018/TNC018a12_p_CPN.evp\n",
      "[nems_lbhb.baphy_experiment INFO] Creating trial epochs\n",
      "[nems_lbhb.baphy_experiment INFO] Creating stim epochs\n",
      "[nems_lbhb.baphy_experiment INFO] Creating Light epochs\n",
      "[nems_lbhb.baphy_io INFO] rounding Trial offset spike times to even number of rasterfs bins\n",
      "[nems_lbhb.baphy_io INFO] 200 trials totaling 2924.09 sec\n",
      "[nems_lbhb.baphy_experiment INFO] Caching recording: /auto/data/nems_db/recordings/Teonancatl/TNC018a/TNC018a_907299e6ad0beabe8b0f368723df75780ef6f0c6.tgz\n",
      "[nems.recording INFO] Saving recording to : /auto/data/nems_db/recordings/Teonancatl/TNC018a/TNC018a_907299e6ad0beabe8b0f368723df75780ef6f0c6.tgz\n",
      "[nems_lbhb.baphy_experiment INFO] Cached recording: /auto/data/nems_db/recordings/Teonancatl/TNC018a/TNC018a_cc9592a068b60028e51716080085c848c92c5b65.tgz\n",
      "[nems_lbhb.baphy_io INFO] Loading /auto/data/daq/Teonancatl/TNC018/TNC018a12_p_CPN.m\n"
     ]
    },
    {
     "name": "stdout",
     "output_type": "stream",
     "text": [
      "0 resp\n"
     ]
    },
    {
     "name": "stderr",
     "output_type": "stream",
     "text": [
      "[nems_lbhb.baphy_io INFO] evp file for licks: /auto/data/daq/Teonancatl/TNC018/TNC018a12_p_CPN.evp\n",
      "[nems_lbhb.baphy_io INFO] Loading /auto/data/daq/Teonancatl/TNC018/TNC018a12_p_CPN.m\n",
      "[nems_lbhb.baphy_io INFO] evp file for licks: /auto/data/daq/Teonancatl/TNC018/TNC018a12_p_CPN.evp\n",
      "[nems_lbhb.baphy_experiment INFO] Remove post-response events\n",
      "[nems_lbhb.baphy_experiment INFO] Removing post-reponse data\n",
      "[nems_lbhb.baphy_io INFO] rounding Trial offset spike times to even number of rasterfs bins\n",
      "[nems_lbhb.baphy_io INFO] 200 trials totaling 2924.09 sec\n",
      "[nems_lbhb.baphy_io INFO] Loading /auto/data/daq/Teonancatl/TNC018/TNC018a12_p_CPN.m\n",
      "[nems_lbhb.baphy_io INFO] evp file for licks: /auto/data/daq/Teonancatl/TNC018/TNC018a12_p_CPN.evp\n",
      "[nems_lbhb.baphy_experiment INFO] Creating trial epochs\n",
      "[nems_lbhb.baphy_experiment INFO] Creating stim epochs\n",
      "[nems_lbhb.baphy_experiment INFO] Creating Light epochs\n",
      "[nems_lbhb.baphy_io INFO] rounding Trial offset spike times to even number of rasterfs bins\n",
      "[nems_lbhb.baphy_io INFO] 200 trials totaling 2924.09 sec\n",
      "[nems_lbhb.baphy_experiment INFO] Caching recording: /auto/data/nems_db/recordings/Teonancatl/TNC018a/TNC018a_cc9592a068b60028e51716080085c848c92c5b65.tgz\n",
      "[nems.recording INFO] Saving recording to : /auto/data/nems_db/recordings/Teonancatl/TNC018a/TNC018a_cc9592a068b60028e51716080085c848c92c5b65.tgz\n"
     ]
    },
    {
     "name": "stdout",
     "output_type": "stream",
     "text": [
      "0 resp\n"
     ]
    }
   ],
   "source": [
    "i_resp=[]\n",
    "for i, r in d.loc[d.phototag=='s'].iterrows():\n",
    "    try:\n",
    "        rec = get_rec(r.parmfile, r.cellid, rasterfs=500)\n",
    "        rec['resp']=rec['resp'].rasterize()\n",
    "        r=rec['resp'].extract_epoch('REFERENCE')\n",
    "        i_resp.append(smooth(r.mean(axis=0)[0,:],5))\n",
    "    except:\n",
    "        error_cellid.append(r.cellid)"
   ]
  },
  {
   "cell_type": "code",
   "execution_count": 8,
   "metadata": {},
   "outputs": [
    {
     "data": {
      "text/plain": "         id        cellid  masterid   rawid  celldataid  runclassid  \\\n0    140851  TNC014a-01-2     45704  143942           0         121   \n1    140852  TNC014a-04-1     45704  143942           0         121   \n2    140853  TNC014a-04-2     45704  143942           0         121   \n3    140854  TNC014a-05-1     45704  143942           0         121   \n4    140855  TNC014a-07-1     45704  143942           0         121   \n..      ...           ...       ...     ...         ...         ...   \n348  145187  TNC018a-45-1     45727  144212           0         121   \n349  145188  TNC018a-46-1     45727  144212           0         121   \n350  145189  TNC018a-46-2     45727  144212           0         121   \n351  145190  TNC018a-48-1     45727  144212           0         121   \n354  145193  TNC018a-50-1     45727  144212           0         121   \n\n                                         path   resplen  repcount  \\\n0    /auto/data/daq/Teonancatl/TNC014/sorted/  87359488        20   \n1    /auto/data/daq/Teonancatl/TNC014/sorted/  87359488        20   \n2    /auto/data/daq/Teonancatl/TNC014/sorted/  87359488        20   \n3    /auto/data/daq/Teonancatl/TNC014/sorted/  87359488        20   \n4    /auto/data/daq/Teonancatl/TNC014/sorted/  87359488        20   \n..                                        ...       ...       ...   \n348  /auto/data/daq/Teonancatl/TNC018/sorted/  87771136        20   \n349  /auto/data/daq/Teonancatl/TNC018/sorted/  87771136        20   \n350  /auto/data/daq/Teonancatl/TNC018/sorted/  87771136        20   \n351  /auto/data/daq/Teonancatl/TNC018/sorted/  87771136        20   \n354  /auto/data/daq/Teonancatl/TNC018/sorted/  87771136        20   \n\n                    respfile  ... sortidx  model  stimsnr area  goodtrials  \\\n0    TNC014a09_p_CPN.spk.mat  ...       1      0     1000   A1               \n1    TNC014a09_p_CPN.spk.mat  ...       1      0     1000   A1               \n2    TNC014a09_p_CPN.spk.mat  ...       1      0     1000   A1               \n3    TNC014a09_p_CPN.spk.mat  ...       1      0     1000   A1               \n4    TNC014a09_p_CPN.spk.mat  ...       1      0     1000   A1               \n..                       ...  ...     ...    ...      ...  ...         ...   \n348  TNC018a12_p_CPN.spk.mat  ...       1      0     1000   A1               \n349  TNC018a12_p_CPN.spk.mat  ...       1      0     1000   A1               \n350  TNC018a12_p_CPN.spk.mat  ...       1      0     1000   A1               \n351  TNC018a12_p_CPN.spk.mat  ...       1      0     1000   A1               \n354  TNC018a12_p_CPN.spk.mat  ...       1      0     1000   A1               \n\n    respZ  respSNR   siteid  phototag  \\\n0     0.0      0.0  TNC014a         s   \n1     0.0      0.0  TNC014a         s   \n2     0.0      0.0  TNC014a         s   \n3     0.0      0.0  TNC014a         s   \n4     0.0      0.0  TNC014a         s   \n..    ...      ...      ...       ...   \n348   0.0      0.0  TNC018a         s   \n349   0.0      0.0  TNC018a         s   \n350   0.0      0.0  TNC018a         s   \n351   0.0      0.0  TNC018a         s   \n354   0.0      0.0  TNC018a         s   \n\n                                              parmfile  \n0    /auto/data/daq/Teonancatl/TNC014/TNC014a09_p_C...  \n1    /auto/data/daq/Teonancatl/TNC014/TNC014a09_p_C...  \n2    /auto/data/daq/Teonancatl/TNC014/TNC014a09_p_C...  \n3    /auto/data/daq/Teonancatl/TNC014/TNC014a09_p_C...  \n4    /auto/data/daq/Teonancatl/TNC014/TNC014a09_p_C...  \n..                                                 ...  \n348  /auto/data/daq/Teonancatl/TNC018/TNC018a12_p_C...  \n349  /auto/data/daq/Teonancatl/TNC018/TNC018a12_p_C...  \n350  /auto/data/daq/Teonancatl/TNC018/TNC018a12_p_C...  \n351  /auto/data/daq/Teonancatl/TNC018/TNC018a12_p_C...  \n354  /auto/data/daq/Teonancatl/TNC018/TNC018a12_p_C...  \n\n[184 rows x 43 columns]",
      "text/html": "<div>\n<style scoped>\n    .dataframe tbody tr th:only-of-type {\n        vertical-align: middle;\n    }\n\n    .dataframe tbody tr th {\n        vertical-align: top;\n    }\n\n    .dataframe thead th {\n        text-align: right;\n    }\n</style>\n<table border=\"1\" class=\"dataframe\">\n  <thead>\n    <tr style=\"text-align: right;\">\n      <th></th>\n      <th>id</th>\n      <th>cellid</th>\n      <th>masterid</th>\n      <th>rawid</th>\n      <th>celldataid</th>\n      <th>runclassid</th>\n      <th>path</th>\n      <th>resplen</th>\n      <th>repcount</th>\n      <th>respfile</th>\n      <th>...</th>\n      <th>sortidx</th>\n      <th>model</th>\n      <th>stimsnr</th>\n      <th>area</th>\n      <th>goodtrials</th>\n      <th>respZ</th>\n      <th>respSNR</th>\n      <th>siteid</th>\n      <th>phototag</th>\n      <th>parmfile</th>\n    </tr>\n  </thead>\n  <tbody>\n    <tr>\n      <th>0</th>\n      <td>140851</td>\n      <td>TNC014a-01-2</td>\n      <td>45704</td>\n      <td>143942</td>\n      <td>0</td>\n      <td>121</td>\n      <td>/auto/data/daq/Teonancatl/TNC014/sorted/</td>\n      <td>87359488</td>\n      <td>20</td>\n      <td>TNC014a09_p_CPN.spk.mat</td>\n      <td>...</td>\n      <td>1</td>\n      <td>0</td>\n      <td>1000</td>\n      <td>A1</td>\n      <td></td>\n      <td>0.0</td>\n      <td>0.0</td>\n      <td>TNC014a</td>\n      <td>s</td>\n      <td>/auto/data/daq/Teonancatl/TNC014/TNC014a09_p_C...</td>\n    </tr>\n    <tr>\n      <th>1</th>\n      <td>140852</td>\n      <td>TNC014a-04-1</td>\n      <td>45704</td>\n      <td>143942</td>\n      <td>0</td>\n      <td>121</td>\n      <td>/auto/data/daq/Teonancatl/TNC014/sorted/</td>\n      <td>87359488</td>\n      <td>20</td>\n      <td>TNC014a09_p_CPN.spk.mat</td>\n      <td>...</td>\n      <td>1</td>\n      <td>0</td>\n      <td>1000</td>\n      <td>A1</td>\n      <td></td>\n      <td>0.0</td>\n      <td>0.0</td>\n      <td>TNC014a</td>\n      <td>s</td>\n      <td>/auto/data/daq/Teonancatl/TNC014/TNC014a09_p_C...</td>\n    </tr>\n    <tr>\n      <th>2</th>\n      <td>140853</td>\n      <td>TNC014a-04-2</td>\n      <td>45704</td>\n      <td>143942</td>\n      <td>0</td>\n      <td>121</td>\n      <td>/auto/data/daq/Teonancatl/TNC014/sorted/</td>\n      <td>87359488</td>\n      <td>20</td>\n      <td>TNC014a09_p_CPN.spk.mat</td>\n      <td>...</td>\n      <td>1</td>\n      <td>0</td>\n      <td>1000</td>\n      <td>A1</td>\n      <td></td>\n      <td>0.0</td>\n      <td>0.0</td>\n      <td>TNC014a</td>\n      <td>s</td>\n      <td>/auto/data/daq/Teonancatl/TNC014/TNC014a09_p_C...</td>\n    </tr>\n    <tr>\n      <th>3</th>\n      <td>140854</td>\n      <td>TNC014a-05-1</td>\n      <td>45704</td>\n      <td>143942</td>\n      <td>0</td>\n      <td>121</td>\n      <td>/auto/data/daq/Teonancatl/TNC014/sorted/</td>\n      <td>87359488</td>\n      <td>20</td>\n      <td>TNC014a09_p_CPN.spk.mat</td>\n      <td>...</td>\n      <td>1</td>\n      <td>0</td>\n      <td>1000</td>\n      <td>A1</td>\n      <td></td>\n      <td>0.0</td>\n      <td>0.0</td>\n      <td>TNC014a</td>\n      <td>s</td>\n      <td>/auto/data/daq/Teonancatl/TNC014/TNC014a09_p_C...</td>\n    </tr>\n    <tr>\n      <th>4</th>\n      <td>140855</td>\n      <td>TNC014a-07-1</td>\n      <td>45704</td>\n      <td>143942</td>\n      <td>0</td>\n      <td>121</td>\n      <td>/auto/data/daq/Teonancatl/TNC014/sorted/</td>\n      <td>87359488</td>\n      <td>20</td>\n      <td>TNC014a09_p_CPN.spk.mat</td>\n      <td>...</td>\n      <td>1</td>\n      <td>0</td>\n      <td>1000</td>\n      <td>A1</td>\n      <td></td>\n      <td>0.0</td>\n      <td>0.0</td>\n      <td>TNC014a</td>\n      <td>s</td>\n      <td>/auto/data/daq/Teonancatl/TNC014/TNC014a09_p_C...</td>\n    </tr>\n    <tr>\n      <th>...</th>\n      <td>...</td>\n      <td>...</td>\n      <td>...</td>\n      <td>...</td>\n      <td>...</td>\n      <td>...</td>\n      <td>...</td>\n      <td>...</td>\n      <td>...</td>\n      <td>...</td>\n      <td>...</td>\n      <td>...</td>\n      <td>...</td>\n      <td>...</td>\n      <td>...</td>\n      <td>...</td>\n      <td>...</td>\n      <td>...</td>\n      <td>...</td>\n      <td>...</td>\n      <td>...</td>\n    </tr>\n    <tr>\n      <th>348</th>\n      <td>145187</td>\n      <td>TNC018a-45-1</td>\n      <td>45727</td>\n      <td>144212</td>\n      <td>0</td>\n      <td>121</td>\n      <td>/auto/data/daq/Teonancatl/TNC018/sorted/</td>\n      <td>87771136</td>\n      <td>20</td>\n      <td>TNC018a12_p_CPN.spk.mat</td>\n      <td>...</td>\n      <td>1</td>\n      <td>0</td>\n      <td>1000</td>\n      <td>A1</td>\n      <td></td>\n      <td>0.0</td>\n      <td>0.0</td>\n      <td>TNC018a</td>\n      <td>s</td>\n      <td>/auto/data/daq/Teonancatl/TNC018/TNC018a12_p_C...</td>\n    </tr>\n    <tr>\n      <th>349</th>\n      <td>145188</td>\n      <td>TNC018a-46-1</td>\n      <td>45727</td>\n      <td>144212</td>\n      <td>0</td>\n      <td>121</td>\n      <td>/auto/data/daq/Teonancatl/TNC018/sorted/</td>\n      <td>87771136</td>\n      <td>20</td>\n      <td>TNC018a12_p_CPN.spk.mat</td>\n      <td>...</td>\n      <td>1</td>\n      <td>0</td>\n      <td>1000</td>\n      <td>A1</td>\n      <td></td>\n      <td>0.0</td>\n      <td>0.0</td>\n      <td>TNC018a</td>\n      <td>s</td>\n      <td>/auto/data/daq/Teonancatl/TNC018/TNC018a12_p_C...</td>\n    </tr>\n    <tr>\n      <th>350</th>\n      <td>145189</td>\n      <td>TNC018a-46-2</td>\n      <td>45727</td>\n      <td>144212</td>\n      <td>0</td>\n      <td>121</td>\n      <td>/auto/data/daq/Teonancatl/TNC018/sorted/</td>\n      <td>87771136</td>\n      <td>20</td>\n      <td>TNC018a12_p_CPN.spk.mat</td>\n      <td>...</td>\n      <td>1</td>\n      <td>0</td>\n      <td>1000</td>\n      <td>A1</td>\n      <td></td>\n      <td>0.0</td>\n      <td>0.0</td>\n      <td>TNC018a</td>\n      <td>s</td>\n      <td>/auto/data/daq/Teonancatl/TNC018/TNC018a12_p_C...</td>\n    </tr>\n    <tr>\n      <th>351</th>\n      <td>145190</td>\n      <td>TNC018a-48-1</td>\n      <td>45727</td>\n      <td>144212</td>\n      <td>0</td>\n      <td>121</td>\n      <td>/auto/data/daq/Teonancatl/TNC018/sorted/</td>\n      <td>87771136</td>\n      <td>20</td>\n      <td>TNC018a12_p_CPN.spk.mat</td>\n      <td>...</td>\n      <td>1</td>\n      <td>0</td>\n      <td>1000</td>\n      <td>A1</td>\n      <td></td>\n      <td>0.0</td>\n      <td>0.0</td>\n      <td>TNC018a</td>\n      <td>s</td>\n      <td>/auto/data/daq/Teonancatl/TNC018/TNC018a12_p_C...</td>\n    </tr>\n    <tr>\n      <th>354</th>\n      <td>145193</td>\n      <td>TNC018a-50-1</td>\n      <td>45727</td>\n      <td>144212</td>\n      <td>0</td>\n      <td>121</td>\n      <td>/auto/data/daq/Teonancatl/TNC018/sorted/</td>\n      <td>87771136</td>\n      <td>20</td>\n      <td>TNC018a12_p_CPN.spk.mat</td>\n      <td>...</td>\n      <td>1</td>\n      <td>0</td>\n      <td>1000</td>\n      <td>A1</td>\n      <td></td>\n      <td>0.0</td>\n      <td>0.0</td>\n      <td>TNC018a</td>\n      <td>s</td>\n      <td>/auto/data/daq/Teonancatl/TNC018/TNC018a12_p_C...</td>\n    </tr>\n  </tbody>\n</table>\n<p>184 rows × 43 columns</p>\n</div>"
     },
     "execution_count": 8,
     "metadata": {},
     "output_type": "execute_result"
    }
   ],
   "source": [
    "d.loc[d.phototag=='s']"
   ]
  },
  {
   "cell_type": "code",
   "execution_count": 9,
   "metadata": {},
   "outputs": [
    {
     "name": "stdout",
     "output_type": "stream",
     "text": [
      "error cellids: []\n"
     ]
    }
   ],
   "source": [
    "print('error cellids:', error_cellid)"
   ]
  },
  {
   "cell_type": "code",
   "execution_count": 10,
   "metadata": {},
   "outputs": [
    {
     "name": "stdout",
     "output_type": "stream",
     "text": [
      "270.0 262.0\n"
     ]
    },
    {
     "data": {
      "text/plain": "Text(0.5, 1.0, 'spont rate')"
     },
     "execution_count": 10,
     "metadata": {},
     "output_type": "execute_result"
    },
    {
     "data": {
      "text/plain": "<Figure size 864x216 with 3 Axes>",
      "image/png": "[encoded data removed]"
     },
     "metadata": {
      "needs_background": "light"
     },
     "output_type": "display_data"
    }
   ],
   "source": [
    "f,ax = plt.subplots(1,3,figsize=(12,3))\n",
    "\n",
    "re=np.stack(e_resp) * rasterfs\n",
    "ri=np.stack(i_resp) * rasterfs\n",
    "ymax=np.ceil(np.max([re.max(), ri.max()])/10)*10\n",
    "y0max=np.ceil(np.max([re[:,:50].max(), ri[:,:50].max()]))\n",
    "print(ymax, y0max)\n",
    "ax[0].plot(re.T);\n",
    "ax[0].set_title(f'A n={re.shape[0]}')\n",
    "ax[0].set_ylim([-5, ymax])\n",
    "\n",
    "ax[1].plot(ri.T)\n",
    "ax[1].set_title(f'S n={ri.shape[0]}');\n",
    "ax[1].set_ylim([-5, ymax])\n",
    "\n",
    "bins=np.linspace(0,y0max,10)\n",
    "n0,b0 = np.histogram(re[:,:50].mean(axis=1), bins=bins)\n",
    "n1,b1 = np.histogram(ri[:,:50].mean(axis=1), bins=bins)\n",
    "n0= n0/n0.sum()\n",
    "n1=n1/n1.sum()\n",
    "w=(b0[1]-b0[0])/2.2\n",
    "ax[2].bar(b0[:-1]-w/2,n0,width=w,label='A');\n",
    "ax[2].bar(b0[:-1]+w/2,n1,width=w,label='S');\n",
    "ax[2].legend(frameon=False);\n",
    "ax[2].set_title('spont rate')\n",
    "#f.suptitle(runclass)"
   ]
  },
  {
   "cell_type": "code",
   "execution_count": 10,
   "metadata": {},
   "outputs": [],
   "source": []
  },
  {
   "cell_type": "markdown",
   "metadata": {},
   "source": [
    "# pupil pred"
   ]
  },
  {
   "cell_type": "code",
   "execution_count": 11,
   "metadata": {},
   "outputs": [],
   "source": [
    "runclass='CPN'\n",
    "rasterfs=100\n",
    "\n",
    "# runclass='FTC'\n",
    "#rasterfs=500\n",
    "\n",
    "sql=\"select sCellFile.*,gSingleCell.siteid,gSingleCell.phototag from gSingleCell INNER JOIN sCellFile ON gSingleCell.id=sCellFile.singleid\" +\\\n",
    "   \" INNER JOIN gRunClass on gRunClass.id=sCellFile.runclassid\" +\\\n",
    "   f\" WHERE gRunClass.name='{runclass}' AND not(isnull(phototag))\"\n",
    "d=nd.pd_query(sql)\n",
    "d['parmfile']=d['stimpath']+d['stimfile']\n",
    "d=d.set_index('cellid')\n",
    "\n"
   ]
  },
  {
   "cell_type": "code",
   "execution_count": 12,
   "metadata": {},
   "outputs": [],
   "source": [
    "#modelnames = ['psth.fs20.pup-ld-st.pup0-epcpn.seq-hrc-psthfr_sdexp2.S_jk.nf20-basic',\n",
    "#              'psth.fs20.pup-ld-st.pup-epcpn.seq-hrc-psthfr_sdexp2.S_jk.nf20-basic']\n",
    "modelnames = ['psth.fs20.pup-ld-st.pup0-epcpn-hrc-psthfr_sdexp2.S_jk.nf20-basic',\n",
    "              'psth.fs20.pup-ld-st.pup-epcpn-hrc-psthfr_sdexp2.S_jk.nf20-basic']\n",
    "modelnames = ['psth.fs20.pup-ld-st.pup0-epcpn-hrc-psthfr_stategain.S_jk.nf20-basic',\n",
    "              'psth.fs20.pup-ld-st.pup-epcpn-hrc-psthfr_stategain.S_jk.nf20-basic']\n",
    "batch=331"
   ]
  },
  {
   "cell_type": "code",
   "execution_count": 13,
   "metadata": {},
   "outputs": [
    {
     "data": {
      "text/plain": "              psth.fs20.pup-ld-st.pup0-epcpn-hrc-psthfr_stategain.S_jk.nf20-basic  \\\ncellid                                                                              \nTNC013a-01-2                                           0.098287                     \nTNC013a-03-1                                           0.100481                     \nTNC013a-10-1                                           0.126169                     \nTNC013a-12-1                                           0.256507                     \nTNC013a-20-1                                           0.125104                     \n\n              psth.fs20.pup-ld-st.pup-epcpn-hrc-psthfr_stategain.S_jk.nf20-basic  \\\ncellid                                                                             \nTNC013a-01-2                                           0.133108                    \nTNC013a-03-1                                           0.214315                    \nTNC013a-10-1                                           0.129052                    \nTNC013a-12-1                                           0.259596                    \nTNC013a-20-1                                           0.206893                    \n\n             phototag   siteid      diff                label  \ncellid                                                         \nTNC013a-01-2        s  TNC013a  0.034821  S n=160 delta=0.011  \nTNC013a-03-1        s  TNC013a  0.113834  S n=160 delta=0.011  \nTNC013a-10-1        s  TNC013a  0.002883  S n=160 delta=0.011  \nTNC013a-12-1        s  TNC013a  0.003088  S n=160 delta=0.011  \nTNC013a-20-1        s  TNC013a  0.081789  S n=160 delta=0.011  ",
      "text/html": "<div>\n<style scoped>\n    .dataframe tbody tr th:only-of-type {\n        vertical-align: middle;\n    }\n\n    .dataframe tbody tr th {\n        vertical-align: top;\n    }\n\n    .dataframe thead th {\n        text-align: right;\n    }\n</style>\n<table border=\"1\" class=\"dataframe\">\n  <thead>\n    <tr style=\"text-align: right;\">\n      <th></th>\n      <th>psth.fs20.pup-ld-st.pup0-epcpn-hrc-psthfr_stategain.S_jk.nf20-basic</th>\n      <th>psth.fs20.pup-ld-st.pup-epcpn-hrc-psthfr_stategain.S_jk.nf20-basic</th>\n      <th>phototag</th>\n      <th>siteid</th>\n      <th>diff</th>\n      <th>label</th>\n    </tr>\n    <tr>\n      <th>cellid</th>\n      <th></th>\n      <th></th>\n      <th></th>\n      <th></th>\n      <th></th>\n      <th></th>\n    </tr>\n  </thead>\n  <tbody>\n    <tr>\n      <th>TNC013a-01-2</th>\n      <td>0.098287</td>\n      <td>0.133108</td>\n      <td>s</td>\n      <td>TNC013a</td>\n      <td>0.034821</td>\n      <td>S n=160 delta=0.011</td>\n    </tr>\n    <tr>\n      <th>TNC013a-03-1</th>\n      <td>0.100481</td>\n      <td>0.214315</td>\n      <td>s</td>\n      <td>TNC013a</td>\n      <td>0.113834</td>\n      <td>S n=160 delta=0.011</td>\n    </tr>\n    <tr>\n      <th>TNC013a-10-1</th>\n      <td>0.126169</td>\n      <td>0.129052</td>\n      <td>s</td>\n      <td>TNC013a</td>\n      <td>0.002883</td>\n      <td>S n=160 delta=0.011</td>\n    </tr>\n    <tr>\n      <th>TNC013a-12-1</th>\n      <td>0.256507</td>\n      <td>0.259596</td>\n      <td>s</td>\n      <td>TNC013a</td>\n      <td>0.003088</td>\n      <td>S n=160 delta=0.011</td>\n    </tr>\n    <tr>\n      <th>TNC013a-20-1</th>\n      <td>0.125104</td>\n      <td>0.206893</td>\n      <td>s</td>\n      <td>TNC013a</td>\n      <td>0.081789</td>\n      <td>S n=160 delta=0.011</td>\n    </tr>\n  </tbody>\n</table>\n</div>"
     },
     "execution_count": 13,
     "metadata": {},
     "output_type": "execute_result"
    }
   ],
   "source": [
    "dpred = nd.batch_comp(batch=batch,modelnames=modelnames)\n",
    "dpred = dpred.merge(d['phototag'],how='inner',left_index=True, right_index=True)\n",
    "dpred['siteid'] = dpred.index\n",
    "dpred['siteid']=dpred['siteid'].apply(nd.get_siteid)\n",
    "dpred['diff'] = dpred[modelnames[1]]-dpred[modelnames[0]]\n",
    "\n",
    "dmean=dpred.groupby('phototag').mean()  # .reset_index()\n",
    "dcount=dpred.groupby('phototag').count()  # .reset_index()\n",
    "dcount['n']=dcount[modelnames[0]]\n",
    "dmean=dmean.merge(dcount['n'],how='inner',left_index=True, right_index=True)\n",
    "dmean['label'] = [f\"{i.upper()} n={r.n:.0f} delta={r['diff']:.3f}\" for i,r in dmean.iterrows()]\n",
    "dpred=dpred.merge(dmean[['label']],how='inner',left_on='phototag', right_index=True)\n",
    "dpred.head()\n"
   ]
  },
  {
   "cell_type": "code",
   "execution_count": 14,
   "metadata": {
    "scrolled": true
   },
   "outputs": [
    {
     "name": "stderr",
     "output_type": "stream",
     "text": [
      "[nems.xforms INFO] Loading xfspec and context from /auto/data/nems_db/results/331/TNC013a-01-2/psth.fs20.pup-ld-st.pup-epcpn-hrc-psthfr.stategain.S.jk.nf20-basic.2021-09-16T220425 ...\n",
      "[nems.xforms INFO] Loading xfspec and context from /auto/data/nems_db/results/331/TNC013a-03-1/psth.fs20.pup-ld-st.pup-epcpn-hrc-psthfr.stategain.S.jk.nf20-basic.2021-09-16T220425 ...\n",
      "[nems.xforms INFO] Loading xfspec and context from /auto/data/nems_db/results/331/TNC013a-10-1/psth.fs20.pup-ld-st.pup-epcpn-hrc-psthfr.stategain.S.jk.nf20-basic.2021-09-16T220437 ...\n",
      "[nems.xforms INFO] Loading xfspec and context from /auto/data/nems_db/results/331/TNC013a-12-1/psth.fs20.pup-ld-st.pup-epcpn-hrc-psthfr.stategain.S.jk.nf20-basic.2021-09-16T220443 ...\n",
      "[nems.xforms INFO] Loading xfspec and context from /auto/data/nems_db/results/331/TNC013a-20-1/psth.fs20.pup-ld-st.pup-epcpn-hrc-psthfr.stategain.S.jk.nf20-basic.2021-09-16T220458 ...\n",
      "[nems.xforms INFO] Loading xfspec and context from /auto/data/nems_db/results/331/TNC013a-22-1/psth.fs20.pup-ld-st.pup-epcpn-hrc-psthfr.stategain.S.jk.nf20-basic.2021-09-16T220501 ...\n",
      "[nems.xforms INFO] Loading xfspec and context from /auto/data/nems_db/results/331/TNC013a-25-1/psth.fs20.pup-ld-st.pup-epcpn-hrc-psthfr.stategain.S.jk.nf20-basic.2021-09-16T220504 ...\n",
      "[nems.xforms INFO] Loading xfspec and context from /auto/data/nems_db/results/331/TNC013a-28-1/psth.fs20.pup-ld-st.pup-epcpn-hrc-psthfr.stategain.S.jk.nf20-basic.2021-09-16T220518 ...\n",
      "[nems.xforms INFO] Loading xfspec and context from /auto/data/nems_db/results/331/TNC013a-40-2/psth.fs20.pup-ld-st.pup-epcpn-hrc-psthfr.stategain.S.jk.nf20-basic.2021-09-16T220542 ...\n",
      "[nems.xforms INFO] Loading xfspec and context from /auto/data/nems_db/results/331/TNC013a-42-4/psth.fs20.pup-ld-st.pup-epcpn-hrc-psthfr.stategain.S.jk.nf20-basic.2021-09-16T220555 ...\n",
      "[nems.xforms INFO] Loading xfspec and context from /auto/data/nems_db/results/331/TNC013a-42-3/psth.fs20.pup-ld-st.pup-epcpn-hrc-psthfr.stategain.S.jk.nf20-basic.2021-09-16T220550 ...\n",
      "[nems.xforms INFO] Loading xfspec and context from /auto/data/nems_db/results/331/TNC013a-43-1/psth.fs20.pup-ld-st.pup-epcpn-hrc-psthfr.stategain.S.jk.nf20-basic.2021-09-16T220605 ...\n",
      "[nems.xforms INFO] Loading xfspec and context from /auto/data/nems_db/results/331/TNC013a-47-1/psth.fs20.pup-ld-st.pup-epcpn-hrc-psthfr.stategain.S.jk.nf20-basic.2021-09-16T220622 ...\n",
      "[nems.xforms INFO] Loading xfspec and context from /auto/data/nems_db/results/331/TNC013a-43-2/psth.fs20.pup-ld-st.pup-epcpn-hrc-psthfr.stategain.S.jk.nf20-basic.2021-09-16T220607 ...\n",
      "[nems.xforms INFO] Loading xfspec and context from /auto/data/nems_db/results/331/TNC013a-46-1/psth.fs20.pup-ld-st.pup-epcpn-hrc-psthfr.stategain.S.jk.nf20-basic.2021-09-16T220614 ...\n",
      "[nems.xforms INFO] Loading xfspec and context from /auto/data/nems_db/results/331/TNC014a-01-2/psth.fs20.pup-ld-st.pup-epcpn-hrc-psthfr.stategain.S.jk.nf20-basic.2021-08-29T204934 ...\n",
      "[nems.xforms INFO] Loading xfspec and context from /auto/data/nems_db/results/331/TNC014a-04-1/psth.fs20.pup-ld-st.pup-epcpn-hrc-psthfr.stategain.S.jk.nf20-basic.2021-08-29T204935 ...\n",
      "[nems.xforms INFO] Loading xfspec and context from /auto/data/nems_db/results/331/TNC014a-04-2/psth.fs20.pup-ld-st.pup-epcpn-hrc-psthfr.stategain.S.jk.nf20-basic.2021-08-29T204939 ...\n",
      "[nems.xforms INFO] Loading xfspec and context from /auto/data/nems_db/results/331/TNC014a-07-2/psth.fs20.pup-ld-st.pup-epcpn-hrc-psthfr.stategain.S.jk.nf20-basic.2021-08-29T204945 ...\n",
      "[nems.xforms INFO] Loading xfspec and context from /auto/data/nems_db/results/331/TNC014a-05-1/psth.fs20.pup-ld-st.pup-epcpn-hrc-psthfr.stategain.S.jk.nf20-basic.2021-08-29T204938 ...\n",
      "[nems.xforms INFO] Loading xfspec and context from /auto/data/nems_db/results/331/TNC014a-16-1/psth.fs20.pup-ld-st.pup-epcpn-hrc-psthfr.stategain.S.jk.nf20-basic.2021-08-29T204951 ...\n",
      "[nems.xforms INFO] Loading xfspec and context from /auto/data/nems_db/results/331/TNC014a-07-1/psth.fs20.pup-ld-st.pup-epcpn-hrc-psthfr.stategain.S.jk.nf20-basic.2021-08-29T204942 ...\n",
      "[nems.xforms INFO] Loading xfspec and context from /auto/data/nems_db/results/331/TNC014a-16-2/psth.fs20.pup-ld-st.pup-epcpn-hrc-psthfr.stategain.S.jk.nf20-basic.2021-08-29T204949 ...\n",
      "[nems.xforms INFO] Loading xfspec and context from /auto/data/nems_db/results/331/TNC014a-16-3/psth.fs20.pup-ld-st.pup-epcpn-hrc-psthfr.stategain.S.jk.nf20-basic.2021-08-29T204951 ...\n",
      "[nems.xforms INFO] Loading xfspec and context from /auto/data/nems_db/results/331/TNC014a-10-1/psth.fs20.pup-ld-st.pup-epcpn-hrc-psthfr.stategain.S.jk.nf20-basic.2021-08-29T204948 ...\n",
      "[nems.xforms INFO] Loading xfspec and context from /auto/data/nems_db/results/331/TNC014a-12-1/psth.fs20.pup-ld-st.pup-epcpn-hrc-psthfr.stategain.S.jk.nf20-basic.2021-08-29T204952 ...\n",
      "[nems.xforms INFO] Loading xfspec and context from /auto/data/nems_db/results/331/TNC014a-19-1/psth.fs20.pup-ld-st.pup-epcpn-hrc-psthfr.stategain.S.jk.nf20-basic.2021-08-29T204955 ...\n",
      "[nems.xforms INFO] Loading xfspec and context from /auto/data/nems_db/results/331/TNC014a-19-2/psth.fs20.pup-ld-st.pup-epcpn-hrc-psthfr.stategain.S.jk.nf20-basic.2021-08-29T204956 ...\n",
      "[nems.xforms INFO] Loading xfspec and context from /auto/data/nems_db/results/331/TNC014a-25-1/psth.fs20.pup-ld-st.pup-epcpn-hrc-psthfr.stategain.S.jk.nf20-basic.2021-08-29T205000 ...\n",
      "[nems.xforms INFO] Loading xfspec and context from /auto/data/nems_db/results/331/TNC014a-22-1/psth.fs20.pup-ld-st.pup-epcpn-hrc-psthfr.stategain.S.jk.nf20-basic.2021-08-29T204959 ...\n",
      "[nems.xforms INFO] Loading xfspec and context from /auto/data/nems_db/results/331/TNC014a-25-4/psth.fs20.pup-ld-st.pup-epcpn-hrc-psthfr.stategain.S.jk.nf20-basic.2021-08-29T205004 ...\n",
      "[nems.xforms INFO] Loading xfspec and context from /auto/data/nems_db/results/331/TNC014a-25-2/psth.fs20.pup-ld-st.pup-epcpn-hrc-psthfr.stategain.S.jk.nf20-basic.2021-08-29T205003 ...\n",
      "[nems.xforms INFO] Loading xfspec and context from /auto/data/nems_db/results/331/TNC014a-28-1/psth.fs20.pup-ld-st.pup-epcpn-hrc-psthfr.stategain.S.jk.nf20-basic.2021-08-29T205007 ...\n",
      "[nems.xforms INFO] Loading xfspec and context from /auto/data/nems_db/results/331/TNC014a-25-3/psth.fs20.pup-ld-st.pup-epcpn-hrc-psthfr.stategain.S.jk.nf20-basic.2021-08-29T205005 ...\n",
      "[nems.xforms INFO] Loading xfspec and context from /auto/data/nems_db/results/331/TNC014a-29-2/psth.fs20.pup-ld-st.pup-epcpn-hrc-psthfr.stategain.S.jk.nf20-basic.2021-08-29T205011 ...\n",
      "[nems.xforms INFO] Loading xfspec and context from /auto/data/nems_db/results/331/TNC014a-29-1/psth.fs20.pup-ld-st.pup-epcpn-hrc-psthfr.stategain.S.jk.nf20-basic.2021-08-29T205010 ...\n",
      "[nems.xforms INFO] Loading xfspec and context from /auto/data/nems_db/results/331/TNC014a-30-1/psth.fs20.pup-ld-st.pup-epcpn-hrc-psthfr.stategain.S.jk.nf20-basic.2021-08-29T205014 ...\n",
      "[nems.xforms INFO] Loading xfspec and context from /auto/data/nems_db/results/331/TNC014a-30-2/psth.fs20.pup-ld-st.pup-epcpn-hrc-psthfr.stategain.S.jk.nf20-basic.2021-08-29T205016 ...\n",
      "[nems.xforms INFO] Loading xfspec and context from /auto/data/nems_db/results/331/TNC014a-33-1/psth.fs20.pup-ld-st.pup-epcpn-hrc-psthfr.stategain.S.jk.nf20-basic.2021-08-29T205019 ...\n",
      "[nems.xforms INFO] Loading xfspec and context from /auto/data/nems_db/results/331/TNC014a-31-1/psth.fs20.pup-ld-st.pup-epcpn-hrc-psthfr.stategain.S.jk.nf20-basic.2021-08-29T205018 ...\n",
      "[nems.xforms INFO] Loading xfspec and context from /auto/data/nems_db/results/331/TNC014a-34-1/psth.fs20.pup-ld-st.pup-epcpn-hrc-psthfr.stategain.S.jk.nf20-basic.2021-08-29T205023 ...\n",
      "[nems.xforms INFO] Loading xfspec and context from /auto/data/nems_db/results/331/TNC014a-36-1/psth.fs20.pup-ld-st.pup-epcpn-hrc-psthfr.stategain.S.jk.nf20-basic.2021-08-29T205128 ...\n",
      "[nems.xforms INFO] Loading xfspec and context from /auto/data/nems_db/results/331/TNC014a-39-1/psth.fs20.pup-ld-st.pup-epcpn-hrc-psthfr.stategain.S.jk.nf20-basic.2021-08-29T205108 ...\n",
      "[nems.xforms INFO] Loading xfspec and context from /auto/data/nems_db/results/331/TNC014a-39-3/psth.fs20.pup-ld-st.pup-epcpn-hrc-psthfr.stategain.S.jk.nf20-basic.2021-08-29T205112 ...\n",
      "[nems.xforms INFO] Loading xfspec and context from /auto/data/nems_db/results/331/TNC014a-39-2/psth.fs20.pup-ld-st.pup-epcpn-hrc-psthfr.stategain.S.jk.nf20-basic.2021-08-29T205111 ...\n",
      "[nems.xforms INFO] Loading xfspec and context from /auto/data/nems_db/results/331/TNC014a-40-1/psth.fs20.pup-ld-st.pup-epcpn-hrc-psthfr.stategain.S.jk.nf20-basic.2021-08-29T205114 ...\n",
      "[nems.xforms INFO] Loading xfspec and context from /auto/data/nems_db/results/331/TNC014a-43-1/psth.fs20.pup-ld-st.pup-epcpn-hrc-psthfr.stategain.S.jk.nf20-basic.2021-08-29T205122 ...\n",
      "[nems.xforms INFO] Loading xfspec and context from /auto/data/nems_db/results/331/TNC014a-44-1/psth.fs20.pup-ld-st.pup-epcpn-hrc-psthfr.stategain.S.jk.nf20-basic.2021-08-29T205122 ...\n",
      "[nems.xforms INFO] Loading xfspec and context from /auto/data/nems_db/results/331/TNC014a-40-2/psth.fs20.pup-ld-st.pup-epcpn-hrc-psthfr.stategain.S.jk.nf20-basic.2021-08-29T205117 ...\n",
      "[nems.xforms INFO] Loading xfspec and context from /auto/data/nems_db/results/331/TNC014a-40-3/psth.fs20.pup-ld-st.pup-epcpn-hrc-psthfr.stategain.S.jk.nf20-basic.2021-08-29T205118 ...\n",
      "[nems.xforms INFO] Loading xfspec and context from /auto/data/nems_db/results/331/TNC014a-49-1/psth.fs20.pup-ld-st.pup-epcpn-hrc-psthfr.stategain.S.jk.nf20-basic.2021-08-29T205130 ...\n",
      "[nems.xforms INFO] Loading xfspec and context from /auto/data/nems_db/results/331/TNC014a-51-1/psth.fs20.pup-ld-st.pup-epcpn-hrc-psthfr.stategain.S.jk.nf20-basic.2021-08-29T205135 ...\n",
      "[nems.xforms INFO] Loading xfspec and context from /auto/data/nems_db/results/331/TNC016a-11-1/psth.fs20.pup-ld-st.pup-epcpn-hrc-psthfr.stategain.S.jk.nf20-basic.2021-08-29T205147 ...\n",
      "[nems.xforms INFO] Loading xfspec and context from /auto/data/nems_db/results/331/TNC016a-16-1/psth.fs20.pup-ld-st.pup-epcpn-hrc-psthfr.stategain.S.jk.nf20-basic.2021-08-29T205149 ...\n",
      "[nems.xforms INFO] Loading xfspec and context from /auto/data/nems_db/results/331/TNC016a-26-1/psth.fs20.pup-ld-st.pup-epcpn-hrc-psthfr.stategain.S.jk.nf20-basic.2021-08-29T205155 ...\n",
      "[nems.xforms INFO] Loading xfspec and context from /auto/data/nems_db/results/331/TNC016a-30-1/psth.fs20.pup-ld-st.pup-epcpn-hrc-psthfr.stategain.S.jk.nf20-basic.2021-08-29T205205 ...\n",
      "[nems.xforms INFO] Loading xfspec and context from /auto/data/nems_db/results/331/TNC016a-30-2/psth.fs20.pup-ld-st.pup-epcpn-hrc-psthfr.stategain.S.jk.nf20-basic.2021-08-29T205206 ...\n",
      "[nems.xforms INFO] Loading xfspec and context from /auto/data/nems_db/results/331/TNC016a-33-1/psth.fs20.pup-ld-st.pup-epcpn-hrc-psthfr.stategain.S.jk.nf20-basic.2021-08-29T205209 ...\n",
      "[nems.xforms INFO] Loading xfspec and context from /auto/data/nems_db/results/331/TNC016a-29-1/psth.fs20.pup-ld-st.pup-epcpn-hrc-psthfr.stategain.S.jk.nf20-basic.2021-08-29T205201 ...\n",
      "[nems.xforms INFO] Loading xfspec and context from /auto/data/nems_db/results/331/TNC016a-38-2/psth.fs20.pup-ld-st.pup-epcpn-hrc-psthfr.stategain.S.jk.nf20-basic.2021-08-29T205214 ...\n",
      "[nems.xforms INFO] Loading xfspec and context from /auto/data/nems_db/results/331/TNC016a-43-1/psth.fs20.pup-ld-st.pup-epcpn-hrc-psthfr.stategain.S.jk.nf20-basic.2021-08-29T205226 ...\n",
      "[nems.xforms INFO] Loading xfspec and context from /auto/data/nems_db/results/331/TNC016a-40-3/psth.fs20.pup-ld-st.pup-epcpn-hrc-psthfr.stategain.S.jk.nf20-basic.2021-08-29T205221 ...\n",
      "[nems.xforms INFO] Loading xfspec and context from /auto/data/nems_db/results/331/TNC016a-43-2/psth.fs20.pup-ld-st.pup-epcpn-hrc-psthfr.stategain.S.jk.nf20-basic.2021-08-29T205230 ...\n",
      "[nems.xforms INFO] Loading xfspec and context from /auto/data/nems_db/results/331/TNC016a-43-3/psth.fs20.pup-ld-st.pup-epcpn-hrc-psthfr.stategain.S.jk.nf20-basic.2021-08-29T205231 ...\n",
      "[nems.xforms INFO] Loading xfspec and context from /auto/data/nems_db/results/331/TNC016a-42-1/psth.fs20.pup-ld-st.pup-epcpn-hrc-psthfr.stategain.S.jk.nf20-basic.2021-08-29T205227 ...\n",
      "[nems.xforms INFO] Loading xfspec and context from /auto/data/nems_db/results/331/TNC016a-43-4/psth.fs20.pup-ld-st.pup-epcpn-hrc-psthfr.stategain.S.jk.nf20-basic.2021-08-29T205233 ...\n",
      "[nems.xforms INFO] Loading xfspec and context from /auto/data/nems_db/results/331/TNC016a-49-1/psth.fs20.pup-ld-st.pup-epcpn-hrc-psthfr.stategain.S.jk.nf20-basic.2021-08-29T205240 ...\n",
      "[nems.xforms INFO] Loading xfspec and context from /auto/data/nems_db/results/331/TNC016a-45-1/psth.fs20.pup-ld-st.pup-epcpn-hrc-psthfr.stategain.S.jk.nf20-basic.2021-08-29T205236 ...\n",
      "[nems.xforms INFO] Loading xfspec and context from /auto/data/nems_db/results/331/TNC017a-09-1/psth.fs20.pup-ld-st.pup-epcpn-hrc-psthfr.stategain.S.jk.nf20-basic.2021-08-29T205302 ...\n",
      "[nems.xforms INFO] Loading xfspec and context from /auto/data/nems_db/results/331/TNC017a-10-1/psth.fs20.pup-ld-st.pup-epcpn-hrc-psthfr.stategain.S.jk.nf20-basic.2021-08-29T205311 ...\n",
      "[nems.xforms INFO] Loading xfspec and context from /auto/data/nems_db/results/331/TNC017a-11-1/psth.fs20.pup-ld-st.pup-epcpn-hrc-psthfr.stategain.S.jk.nf20-basic.2021-08-29T205309 ...\n",
      "[nems.xforms INFO] Loading xfspec and context from /auto/data/nems_db/results/331/TNC017a-10-2/psth.fs20.pup-ld-st.pup-epcpn-hrc-psthfr.stategain.S.jk.nf20-basic.2021-08-29T205309 ...\n",
      "[nems.xforms INFO] Loading xfspec and context from /auto/data/nems_db/results/331/TNC017a-18-1/psth.fs20.pup-ld-st.pup-epcpn-hrc-psthfr.stategain.S.jk.nf20-basic.2021-08-29T205317 ...\n",
      "[nems.xforms INFO] Loading xfspec and context from /auto/data/nems_db/results/331/TNC017a-25-1/psth.fs20.pup-ld-st.pup-epcpn-hrc-psthfr.stategain.S.jk.nf20-basic.2021-08-29T205331 ...\n",
      "[nems.xforms INFO] Loading xfspec and context from /auto/data/nems_db/results/331/TNC017a-25-2/psth.fs20.pup-ld-st.pup-epcpn-hrc-psthfr.stategain.S.jk.nf20-basic.2021-08-29T205333 ...\n",
      "[nems.xforms INFO] Loading xfspec and context from /auto/data/nems_db/results/331/TNC017a-25-3/psth.fs20.pup-ld-st.pup-epcpn-hrc-psthfr.stategain.S.jk.nf20-basic.2021-08-29T205336 ...\n",
      "[nems.xforms INFO] Loading xfspec and context from /auto/data/nems_db/results/331/TNC017a-27-1/psth.fs20.pup-ld-st.pup-epcpn-hrc-psthfr.stategain.S.jk.nf20-basic.2021-08-29T205339 ...\n",
      "[nems.xforms INFO] Loading xfspec and context from /auto/data/nems_db/results/331/TNC017a-28-1/psth.fs20.pup-ld-st.pup-epcpn-hrc-psthfr.stategain.S.jk.nf20-basic.2021-08-29T205341 ...\n",
      "[nems.xforms INFO] Loading xfspec and context from /auto/data/nems_db/results/331/TNC017a-28-2/psth.fs20.pup-ld-st.pup-epcpn-hrc-psthfr.stategain.S.jk.nf20-basic.2021-08-29T205343 ...\n",
      "[nems.xforms INFO] Loading xfspec and context from /auto/data/nems_db/results/331/TNC017a-30-1/psth.fs20.pup-ld-st.pup-epcpn-hrc-psthfr.stategain.S.jk.nf20-basic.2021-08-29T205345 ...\n",
      "[nems.xforms INFO] Loading xfspec and context from /auto/data/nems_db/results/331/TNC017a-30-2/psth.fs20.pup-ld-st.pup-epcpn-hrc-psthfr.stategain.S.jk.nf20-basic.2021-08-29T205347 ...\n",
      "[nems.xforms INFO] Loading xfspec and context from /auto/data/nems_db/results/331/TNC017a-34-1/psth.fs20.pup-ld-st.pup-epcpn-hrc-psthfr.stategain.S.jk.nf20-basic.2021-08-29T205354 ...\n",
      "[nems.xforms INFO] Loading xfspec and context from /auto/data/nems_db/results/331/TNC017a-31-2/psth.fs20.pup-ld-st.pup-epcpn-hrc-psthfr.stategain.S.jk.nf20-basic.2021-08-29T205352 ...\n",
      "[nems.xforms INFO] Loading xfspec and context from /auto/data/nems_db/results/331/TNC017a-37-1/psth.fs20.pup-ld-st.pup-epcpn-hrc-psthfr.stategain.S.jk.nf20-basic.2021-08-29T205401 ...\n",
      "[nems.xforms INFO] Loading xfspec and context from /auto/data/nems_db/results/331/TNC017a-38-1/psth.fs20.pup-ld-st.pup-epcpn-hrc-psthfr.stategain.S.jk.nf20-basic.2021-08-29T205402 ...\n",
      "[nems.xforms INFO] Loading xfspec and context from /auto/data/nems_db/results/331/TNC017a-36-1/psth.fs20.pup-ld-st.pup-epcpn-hrc-psthfr.stategain.S.jk.nf20-basic.2021-08-29T205359 ...\n",
      "[nems.xforms INFO] Loading xfspec and context from /auto/data/nems_db/results/331/TNC017a-39-1/psth.fs20.pup-ld-st.pup-epcpn-hrc-psthfr.stategain.S.jk.nf20-basic.2021-08-29T205404 ...\n",
      "[nems.xforms INFO] Loading xfspec and context from /auto/data/nems_db/results/331/TNC017a-41-1/psth.fs20.pup-ld-st.pup-epcpn-hrc-psthfr.stategain.S.jk.nf20-basic.2021-08-29T205408 ...\n",
      "[nems.xforms INFO] Loading xfspec and context from /auto/data/nems_db/results/331/TNC017a-41-2/psth.fs20.pup-ld-st.pup-epcpn-hrc-psthfr.stategain.S.jk.nf20-basic.2021-08-29T205410 ...\n",
      "[nems.xforms INFO] Loading xfspec and context from /auto/data/nems_db/results/331/TNC017a-45-1/psth.fs20.pup-ld-st.pup-epcpn-hrc-psthfr.stategain.S.jk.nf20-basic.2021-08-29T205417 ...\n",
      "[nems.xforms INFO] Loading xfspec and context from /auto/data/nems_db/results/331/TNC017a-44-2/psth.fs20.pup-ld-st.pup-epcpn-hrc-psthfr.stategain.S.jk.nf20-basic.2021-08-29T205415 ...\n",
      "[nems.xforms INFO] Loading xfspec and context from /auto/data/nems_db/results/331/TNC017a-44-1/psth.fs20.pup-ld-st.pup-epcpn-hrc-psthfr.stategain.S.jk.nf20-basic.2021-08-29T205413 ...\n",
      "[nems.xforms INFO] Loading xfspec and context from /auto/data/nems_db/results/331/TNC017a-49-1/psth.fs20.pup-ld-st.pup-epcpn-hrc-psthfr.stategain.S.jk.nf20-basic.2021-08-29T205422 ...\n",
      "[nems.xforms INFO] Loading xfspec and context from /auto/data/nems_db/results/331/TNC017a-49-2/psth.fs20.pup-ld-st.pup-epcpn-hrc-psthfr.stategain.S.jk.nf20-basic.2021-08-29T205425 ...\n",
      "[nems.xforms INFO] Loading xfspec and context from /auto/data/nems_db/results/331/TNC017a-48-1/psth.fs20.pup-ld-st.pup-epcpn-hrc-psthfr.stategain.S.jk.nf20-basic.2021-08-29T205420 ...\n",
      "[nems.xforms INFO] Loading xfspec and context from /auto/data/nems_db/results/331/TNC017a-51-2/psth.fs20.pup-ld-st.pup-epcpn-hrc-psthfr.stategain.S.jk.nf20-basic.2021-08-29T205430 ...\n",
      "[nems.xforms INFO] Loading xfspec and context from /auto/data/nems_db/results/331/TNC017a-51-1/psth.fs20.pup-ld-st.pup-epcpn-hrc-psthfr.stategain.S.jk.nf20-basic.2021-08-29T205432 ...\n",
      "[nems.xforms INFO] Loading xfspec and context from /auto/data/nems_db/results/331/TNC017a-54-2/psth.fs20.pup-ld-st.pup-epcpn-hrc-psthfr.stategain.S.jk.nf20-basic.2021-08-29T205438 ...\n",
      "[nems.xforms INFO] Loading xfspec and context from /auto/data/nems_db/results/331/TNC017a-52-2/psth.fs20.pup-ld-st.pup-epcpn-hrc-psthfr.stategain.S.jk.nf20-basic.2021-08-29T205435 ...\n",
      "[nems.xforms INFO] Loading xfspec and context from /auto/data/nems_db/results/331/TNC017a-54-3/psth.fs20.pup-ld-st.pup-epcpn-hrc-psthfr.stategain.S.jk.nf20-basic.2021-08-29T205440 ...\n",
      "[nems.xforms INFO] Loading xfspec and context from /auto/data/nems_db/results/331/TNC018a-03-1/psth.fs20.pup-ld-st.pup-epcpn-hrc-psthfr.stategain.S.jk.nf20-basic.2021-08-29T205454 ...\n",
      "[nems.xforms INFO] Loading xfspec and context from /auto/data/nems_db/results/331/TNC018a-05-1/psth.fs20.pup-ld-st.pup-epcpn-hrc-psthfr.stategain.S.jk.nf20-basic.2021-08-29T205455 ...\n",
      "[nems.xforms INFO] Loading xfspec and context from /auto/data/nems_db/results/331/TNC018a-07-1/psth.fs20.pup-ld-st.pup-epcpn-hrc-psthfr.stategain.S.jk.nf20-basic.2021-08-29T205501 ...\n",
      "[nems.xforms INFO] Loading xfspec and context from /auto/data/nems_db/results/331/TNC018a-05-2/psth.fs20.pup-ld-st.pup-epcpn-hrc-psthfr.stategain.S.jk.nf20-basic.2021-08-29T205457 ...\n",
      "[nems.xforms INFO] Loading xfspec and context from /auto/data/nems_db/results/331/TNC018a-07-2/psth.fs20.pup-ld-st.pup-epcpn-hrc-psthfr.stategain.S.jk.nf20-basic.2021-08-29T205502 ...\n",
      "[nems.xforms INFO] Loading xfspec and context from /auto/data/nems_db/results/331/TNC018a-09-1/psth.fs20.pup-ld-st.pup-epcpn-hrc-psthfr.stategain.S.jk.nf20-basic.2021-08-29T205505 ...\n",
      "[nems.xforms INFO] Loading xfspec and context from /auto/data/nems_db/results/331/TNC018a-09-2/psth.fs20.pup-ld-st.pup-epcpn-hrc-psthfr.stategain.S.jk.nf20-basic.2021-08-29T205506 ...\n",
      "[nems.xforms INFO] Loading xfspec and context from /auto/data/nems_db/results/331/TNC018a-09-4/psth.fs20.pup-ld-st.pup-epcpn-hrc-psthfr.stategain.S.jk.nf20-basic.2021-08-29T205511 ...\n",
      "[nems.xforms INFO] Loading xfspec and context from /auto/data/nems_db/results/331/TNC018a-09-3/psth.fs20.pup-ld-st.pup-epcpn-hrc-psthfr.stategain.S.jk.nf20-basic.2021-08-29T205509 ...\n",
      "[nems.xforms INFO] Loading xfspec and context from /auto/data/nems_db/results/331/TNC018a-10-1/psth.fs20.pup-ld-st.pup-epcpn-hrc-psthfr.stategain.S.jk.nf20-basic.2021-08-29T205513 ...\n",
      "[nems.xforms INFO] Loading xfspec and context from /auto/data/nems_db/results/331/TNC018a-11-2/psth.fs20.pup-ld-st.pup-epcpn-hrc-psthfr.stategain.S.jk.nf20-basic.2021-08-29T205515 ...\n",
      "[nems.xforms INFO] Loading xfspec and context from /auto/data/nems_db/results/331/TNC018a-11-1/psth.fs20.pup-ld-st.pup-epcpn-hrc-psthfr.stategain.S.jk.nf20-basic.2021-08-29T205515 ...\n",
      "[nems.xforms INFO] Loading xfspec and context from /auto/data/nems_db/results/331/TNC018a-13-1/psth.fs20.pup-ld-st.pup-epcpn-hrc-psthfr.stategain.S.jk.nf20-basic.2021-08-29T205519 ...\n",
      "[nems.xforms INFO] Loading xfspec and context from /auto/data/nems_db/results/331/TNC018a-13-2/psth.fs20.pup-ld-st.pup-epcpn-hrc-psthfr.stategain.S.jk.nf20-basic.2021-08-29T205522 ...\n",
      "[nems.xforms INFO] Loading xfspec and context from /auto/data/nems_db/results/331/TNC018a-14-1/psth.fs20.pup-ld-st.pup-epcpn-hrc-psthfr.stategain.S.jk.nf20-basic.2021-08-29T205525 ...\n",
      "[nems.xforms INFO] Loading xfspec and context from /auto/data/nems_db/results/331/TNC018a-15-1/psth.fs20.pup-ld-st.pup-epcpn-hrc-psthfr.stategain.S.jk.nf20-basic.2021-08-29T205527 ...\n",
      "[nems.xforms INFO] Loading xfspec and context from /auto/data/nems_db/results/331/TNC018a-15-3/psth.fs20.pup-ld-st.pup-epcpn-hrc-psthfr.stategain.S.jk.nf20-basic.2021-08-29T205529 ...\n",
      "[nems.xforms INFO] Loading xfspec and context from /auto/data/nems_db/results/331/TNC018a-15-2/psth.fs20.pup-ld-st.pup-epcpn-hrc-psthfr.stategain.S.jk.nf20-basic.2021-08-29T205528 ...\n",
      "[nems.xforms INFO] Loading xfspec and context from /auto/data/nems_db/results/331/TNC018a-16-1/psth.fs20.pup-ld-st.pup-epcpn-hrc-psthfr.stategain.S.jk.nf20-basic.2021-08-29T205533 ...\n",
      "[nems.xforms INFO] Loading xfspec and context from /auto/data/nems_db/results/331/TNC018a-16-2/psth.fs20.pup-ld-st.pup-epcpn-hrc-psthfr.stategain.S.jk.nf20-basic.2021-08-29T205534 ...\n",
      "[nems.xforms INFO] Loading xfspec and context from /auto/data/nems_db/results/331/TNC018a-19-1/psth.fs20.pup-ld-st.pup-epcpn-hrc-psthfr.stategain.S.jk.nf20-basic.2021-08-29T205539 ...\n",
      "[nems.xforms INFO] Loading xfspec and context from /auto/data/nems_db/results/331/TNC018a-19-3/psth.fs20.pup-ld-st.pup-epcpn-hrc-psthfr.stategain.S.jk.nf20-basic.2021-08-29T205543 ...\n",
      "[nems.xforms INFO] Loading xfspec and context from /auto/data/nems_db/results/331/TNC018a-19-2/psth.fs20.pup-ld-st.pup-epcpn-hrc-psthfr.stategain.S.jk.nf20-basic.2021-08-29T205542 ...\n",
      "[nems.xforms INFO] Loading xfspec and context from /auto/data/nems_db/results/331/TNC018a-21-2/psth.fs20.pup-ld-st.pup-epcpn-hrc-psthfr.stategain.S.jk.nf20-basic.2021-08-29T205549 ...\n",
      "[nems.xforms INFO] Loading xfspec and context from /auto/data/nems_db/results/331/TNC018a-22-1/psth.fs20.pup-ld-st.pup-epcpn-hrc-psthfr.stategain.S.jk.nf20-basic.2021-08-29T205553 ...\n",
      "[nems.xforms INFO] Loading xfspec and context from /auto/data/nems_db/results/331/TNC018a-22-2/psth.fs20.pup-ld-st.pup-epcpn-hrc-psthfr.stategain.S.jk.nf20-basic.2021-08-29T205554 ...\n",
      "[nems.xforms INFO] Loading xfspec and context from /auto/data/nems_db/results/331/TNC018a-23-1/psth.fs20.pup-ld-st.pup-epcpn-hrc-psthfr.stategain.S.jk.nf20-basic.2021-08-29T205555 ...\n",
      "[nems.xforms INFO] Loading xfspec and context from /auto/data/nems_db/results/331/TNC018a-24-1/psth.fs20.pup-ld-st.pup-epcpn-hrc-psthfr.stategain.S.jk.nf20-basic.2021-08-29T205557 ...\n",
      "[nems.xforms INFO] Loading xfspec and context from /auto/data/nems_db/results/331/TNC018a-24-2/psth.fs20.pup-ld-st.pup-epcpn-hrc-psthfr.stategain.S.jk.nf20-basic.2021-08-29T205601 ...\n",
      "[nems.xforms INFO] Loading xfspec and context from /auto/data/nems_db/results/331/TNC018a-27-1/psth.fs20.pup-ld-st.pup-epcpn-hrc-psthfr.stategain.S.jk.nf20-basic.2021-08-29T205601 ...\n",
      "[nems.xforms INFO] Loading xfspec and context from /auto/data/nems_db/results/331/TNC018a-29-1/psth.fs20.pup-ld-st.pup-epcpn-hrc-psthfr.stategain.S.jk.nf20-basic.2021-08-29T205606 ...\n",
      "[nems.xforms INFO] Loading xfspec and context from /auto/data/nems_db/results/331/TNC018a-30-1/psth.fs20.pup-ld-st.pup-epcpn-hrc-psthfr.stategain.S.jk.nf20-basic.2021-08-29T205608 ...\n",
      "[nems.xforms INFO] Loading xfspec and context from /auto/data/nems_db/results/331/TNC018a-31-2/psth.fs20.pup-ld-st.pup-epcpn-hrc-psthfr.stategain.S.jk.nf20-basic.2021-08-29T205609 ...\n",
      "[nems.xforms INFO] Loading xfspec and context from /auto/data/nems_db/results/331/TNC018a-32-1/psth.fs20.pup-ld-st.pup-epcpn-hrc-psthfr.stategain.S.jk.nf20-basic.2021-08-29T205611 ...\n",
      "[nems.xforms INFO] Loading xfspec and context from /auto/data/nems_db/results/331/TNC018a-34-1/psth.fs20.pup-ld-st.pup-epcpn-hrc-psthfr.stategain.S.jk.nf20-basic.2021-08-29T205617 ...\n",
      "[nems.xforms INFO] Loading xfspec and context from /auto/data/nems_db/results/331/TNC018a-32-2/psth.fs20.pup-ld-st.pup-epcpn-hrc-psthfr.stategain.S.jk.nf20-basic.2021-08-29T205614 ...\n",
      "[nems.xforms INFO] Loading xfspec and context from /auto/data/nems_db/results/331/TNC018a-37-1/psth.fs20.pup-ld-st.pup-epcpn-hrc-psthfr.stategain.S.jk.nf20-basic.2021-08-29T205624 ...\n",
      "[nems.xforms INFO] Loading xfspec and context from /auto/data/nems_db/results/331/TNC018a-34-2/psth.fs20.pup-ld-st.pup-epcpn-hrc-psthfr.stategain.S.jk.nf20-basic.2021-08-29T205618 ...\n",
      "[nems.xforms INFO] Loading xfspec and context from /auto/data/nems_db/results/331/TNC018a-36-1/psth.fs20.pup-ld-st.pup-epcpn-hrc-psthfr.stategain.S.jk.nf20-basic.2021-08-29T205622 ...\n",
      "[nems.xforms INFO] Loading xfspec and context from /auto/data/nems_db/results/331/TNC018a-40-2/psth.fs20.pup-ld-st.pup-epcpn-hrc-psthfr.stategain.S.jk.nf20-basic.2021-08-29T205626 ...\n",
      "[nems.xforms INFO] Loading xfspec and context from /auto/data/nems_db/results/331/TNC018a-46-1/psth.fs20.pup-ld-st.pup-epcpn-hrc-psthfr.stategain.S.jk.nf20-basic.2021-08-29T205642 ...\n",
      "[nems.xforms INFO] Loading xfspec and context from /auto/data/nems_db/results/331/TNC018a-42-2/psth.fs20.pup-ld-st.pup-epcpn-hrc-psthfr.stategain.S.jk.nf20-basic.2021-08-29T205632 ...\n",
      "[nems.xforms INFO] Loading xfspec and context from /auto/data/nems_db/results/331/TNC018a-42-1/psth.fs20.pup-ld-st.pup-epcpn-hrc-psthfr.stategain.S.jk.nf20-basic.2021-08-29T205631 ...\n",
      "[nems.xforms INFO] Loading xfspec and context from /auto/data/nems_db/results/331/TNC018a-46-2/psth.fs20.pup-ld-st.pup-epcpn-hrc-psthfr.stategain.S.jk.nf20-basic.2021-08-29T205642 ...\n",
      "[nems.xforms INFO] Loading xfspec and context from /auto/data/nems_db/results/331/TNC018a-45-1/psth.fs20.pup-ld-st.pup-epcpn-hrc-psthfr.stategain.S.jk.nf20-basic.2021-08-29T205639 ...\n",
      "[nems.xforms INFO] Loading xfspec and context from /auto/data/nems_db/results/331/TNC018a-48-1/psth.fs20.pup-ld-st.pup-epcpn-hrc-psthfr.stategain.S.jk.nf20-basic.2021-08-29T205645 ...\n",
      "[nems.xforms INFO] Loading xfspec and context from /auto/data/nems_db/results/331/TNC018a-43-1/psth.fs20.pup-ld-st.pup-epcpn-hrc-psthfr.stategain.S.jk.nf20-basic.2021-08-29T205637 ...\n",
      "[nems.xforms INFO] Loading xfspec and context from /auto/data/nems_db/results/331/TNC018a-50-1/psth.fs20.pup-ld-st.pup-epcpn-hrc-psthfr.stategain.S.jk.nf20-basic.2021-08-29T205650 ...\n",
      "[nems.xforms INFO] Loading xfspec and context from /auto/data/nems_db/results/331/TNC015a-13-1/psth.fs20.pup-ld-st.pup-epcpn-hrc-psthfr.stategain.S.jk.nf20-basic.2021-09-07T175725 ...\n",
      "[nems.xforms INFO] Loading xfspec and context from /auto/data/nems_db/results/331/TNC015a-16-1/psth.fs20.pup-ld-st.pup-epcpn-hrc-psthfr.stategain.S.jk.nf20-basic.2021-09-07T175757 ...\n",
      "[nems.xforms INFO] Loading xfspec and context from /auto/data/nems_db/results/331/TNC015a-18-1/psth.fs20.pup-ld-st.pup-epcpn-hrc-psthfr.stategain.S.jk.nf20-basic.2021-09-07T175916 ...\n",
      "[nems.xforms INFO] Loading xfspec and context from /auto/data/nems_db/results/331/TNC015a-19-1/psth.fs20.pup-ld-st.pup-epcpn-hrc-psthfr.stategain.S.jk.nf20-basic.2021-09-07T175944 ...\n",
      "[nems.xforms INFO] Loading xfspec and context from /auto/data/nems_db/results/331/TNC015a-19-2/psth.fs20.pup-ld-st.pup-epcpn-hrc-psthfr.stategain.S.jk.nf20-basic.2021-09-07T180010 ...\n",
      "[nems.xforms INFO] Loading xfspec and context from /auto/data/nems_db/results/331/TNC015a-22-1/psth.fs20.pup-ld-st.pup-epcpn-hrc-psthfr.stategain.S.jk.nf20-basic.2021-09-07T180033 ...\n",
      "[nems.xforms INFO] Loading xfspec and context from /auto/data/nems_db/results/331/TNC015a-22-2/psth.fs20.pup-ld-st.pup-epcpn-hrc-psthfr.stategain.S.jk.nf20-basic.2021-09-07T180106 ...\n",
      "[nems.xforms INFO] Loading xfspec and context from /auto/data/nems_db/results/331/TNC015a-23-1/psth.fs20.pup-ld-st.pup-epcpn-hrc-psthfr.stategain.S.jk.nf20-basic.2021-09-07T180143 ...\n",
      "[nems.xforms INFO] Loading xfspec and context from /auto/data/nems_db/results/331/TNC015a-25-1/psth.fs20.pup-ld-st.pup-epcpn-hrc-psthfr.stategain.S.jk.nf20-basic.2021-09-07T180210 ...\n",
      "[nems.xforms INFO] Loading xfspec and context from /auto/data/nems_db/results/331/TNC015a-30-1/psth.fs20.pup-ld-st.pup-epcpn-hrc-psthfr.stategain.S.jk.nf20-basic.2021-09-07T180317 ...\n",
      "[nems.xforms INFO] Loading xfspec and context from /auto/data/nems_db/results/331/TNC015a-31-2/psth.fs20.pup-ld-st.pup-epcpn-hrc-psthfr.stategain.S.jk.nf20-basic.2021-09-07T180350 ...\n",
      "[nems.xforms INFO] Loading xfspec and context from /auto/data/nems_db/results/331/TNC015a-36-2/psth.fs20.pup-ld-st.pup-epcpn-hrc-psthfr.stategain.S.jk.nf20-basic.2021-09-07T180453 ...\n",
      "[nems.xforms INFO] Loading xfspec and context from /auto/data/nems_db/results/331/TNC013a-03-2/psth.fs20.pup-ld-st.pup-epcpn-hrc-psthfr.stategain.S.jk.nf20-basic.2021-09-16T220428 ...\n",
      "[nems.xforms INFO] Loading xfspec and context from /auto/data/nems_db/results/331/TNC013a-07-1/psth.fs20.pup-ld-st.pup-epcpn-hrc-psthfr.stategain.S.jk.nf20-basic.2021-09-16T220434 ...\n",
      "[nems.xforms INFO] Loading xfspec and context from /auto/data/nems_db/results/331/TNC013a-07-2/psth.fs20.pup-ld-st.pup-epcpn-hrc-psthfr.stategain.S.jk.nf20-basic.2021-09-16T220436 ...\n",
      "[nems.xforms INFO] Loading xfspec and context from /auto/data/nems_db/results/331/TNC013a-11-1/psth.fs20.pup-ld-st.pup-epcpn-hrc-psthfr.stategain.S.jk.nf20-basic.2021-09-16T220438 ...\n",
      "[nems.xforms INFO] Loading xfspec and context from /auto/data/nems_db/results/331/TNC013a-11-2/psth.fs20.pup-ld-st.pup-epcpn-hrc-psthfr.stategain.S.jk.nf20-basic.2021-09-16T220441 ...\n",
      "[nems.xforms INFO] Loading xfspec and context from /auto/data/nems_db/results/331/TNC013a-18-1/psth.fs20.pup-ld-st.pup-epcpn-hrc-psthfr.stategain.S.jk.nf20-basic.2021-09-16T220452 ...\n",
      "[nems.xforms INFO] Loading xfspec and context from /auto/data/nems_db/results/331/TNC013a-19-1/psth.fs20.pup-ld-st.pup-epcpn-hrc-psthfr.stategain.S.jk.nf20-basic.2021-09-16T220457 ...\n",
      "[nems.xforms INFO] Loading xfspec and context from /auto/data/nems_db/results/331/TNC013a-26-3/psth.fs20.pup-ld-st.pup-epcpn-hrc-psthfr.stategain.S.jk.nf20-basic.2021-09-16T220514 ...\n",
      "[nems.xforms INFO] Loading xfspec and context from /auto/data/nems_db/results/331/TNC013a-22-2/psth.fs20.pup-ld-st.pup-epcpn-hrc-psthfr.stategain.S.jk.nf20-basic.2021-09-16T220503 ...\n",
      "[nems.xforms INFO] Loading xfspec and context from /auto/data/nems_db/results/331/TNC013a-26-2/psth.fs20.pup-ld-st.pup-epcpn-hrc-psthfr.stategain.S.jk.nf20-basic.2021-09-16T220511 ...\n",
      "[nems.xforms INFO] Loading xfspec and context from /auto/data/nems_db/results/331/TNC013a-32-1/psth.fs20.pup-ld-st.pup-epcpn-hrc-psthfr.stategain.S.jk.nf20-basic.2021-09-16T220525 ...\n",
      "[nems.xforms INFO] Loading xfspec and context from /auto/data/nems_db/results/331/TNC013a-33-1/psth.fs20.pup-ld-st.pup-epcpn-hrc-psthfr.stategain.S.jk.nf20-basic.2021-09-16T220526 ...\n",
      "[nems.xforms INFO] Loading xfspec and context from /auto/data/nems_db/results/331/TNC013a-34-1/psth.fs20.pup-ld-st.pup-epcpn-hrc-psthfr.stategain.S.jk.nf20-basic.2021-09-16T220527 ...\n",
      "[nems.xforms INFO] Loading xfspec and context from /auto/data/nems_db/results/331/TNC013a-30-1/psth.fs20.pup-ld-st.pup-epcpn-hrc-psthfr.stategain.S.jk.nf20-basic.2021-09-16T220518 ...\n",
      "[nems.xforms INFO] Loading xfspec and context from /auto/data/nems_db/results/331/TNC013a-34-2/psth.fs20.pup-ld-st.pup-epcpn-hrc-psthfr.stategain.S.jk.nf20-basic.2021-09-16T220529 ...\n",
      "[nems.xforms INFO] Loading xfspec and context from /auto/data/nems_db/results/331/TNC013a-36-1/psth.fs20.pup-ld-st.pup-epcpn-hrc-psthfr.stategain.S.jk.nf20-basic.2021-09-16T220532 ...\n",
      "[nems.xforms INFO] Loading xfspec and context from /auto/data/nems_db/results/331/TNC013a-36-2/psth.fs20.pup-ld-st.pup-epcpn-hrc-psthfr.stategain.S.jk.nf20-basic.2021-09-16T220536 ...\n",
      "[nems.xforms INFO] Loading xfspec and context from /auto/data/nems_db/results/331/TNC013a-40-1/psth.fs20.pup-ld-st.pup-epcpn-hrc-psthfr.stategain.S.jk.nf20-basic.2021-09-16T220540 ...\n",
      "[nems.xforms INFO] Loading xfspec and context from /auto/data/nems_db/results/331/TNC013a-36-3/psth.fs20.pup-ld-st.pup-epcpn-hrc-psthfr.stategain.S.jk.nf20-basic.2021-09-16T220538 ...\n",
      "[nems.xforms INFO] Loading xfspec and context from /auto/data/nems_db/results/331/TNC013a-41-1/psth.fs20.pup-ld-st.pup-epcpn-hrc-psthfr.stategain.S.jk.nf20-basic.2021-09-16T220543 ...\n",
      "[nems.xforms INFO] Loading xfspec and context from /auto/data/nems_db/results/331/TNC013a-42-1/psth.fs20.pup-ld-st.pup-epcpn-hrc-psthfr.stategain.S.jk.nf20-basic.2021-09-16T220545 ...\n",
      "[nems.xforms INFO] Loading xfspec and context from /auto/data/nems_db/results/331/TNC013a-42-5/psth.fs20.pup-ld-st.pup-epcpn-hrc-psthfr.stategain.S.jk.nf20-basic.2021-09-16T220559 ...\n",
      "[nems.xforms INFO] Loading xfspec and context from /auto/data/nems_db/results/331/TNC013a-45-1/psth.fs20.pup-ld-st.pup-epcpn-hrc-psthfr.stategain.S.jk.nf20-basic.2021-09-16T220611 ...\n",
      "[nems.xforms INFO] Loading xfspec and context from /auto/data/nems_db/results/331/TNC013a-46-2/psth.fs20.pup-ld-st.pup-epcpn-hrc-psthfr.stategain.S.jk.nf20-basic.2021-09-16T220616 ...\n",
      "[nems.xforms INFO] Loading xfspec and context from /auto/data/nems_db/results/331/TNC013a-51-1/psth.fs20.pup-ld-st.pup-epcpn-hrc-psthfr.stategain.S.jk.nf20-basic.2021-09-16T220629 ...\n",
      "[nems.xforms INFO] Loading xfspec and context from /auto/data/nems_db/results/331/TNC013a-51-2/psth.fs20.pup-ld-st.pup-epcpn-hrc-psthfr.stategain.S.jk.nf20-basic.2021-09-16T220632 ...\n",
      "[nems.xforms INFO] Loading xfspec and context from /auto/data/nems_db/results/331/TNC013a-48-1/psth.fs20.pup-ld-st.pup-epcpn-hrc-psthfr.stategain.S.jk.nf20-basic.2021-09-16T220623 ...\n",
      "[nems.xforms INFO] Loading xfspec and context from /auto/data/nems_db/results/331/TNC013a-49-1/psth.fs20.pup-ld-st.pup-epcpn-hrc-psthfr.stategain.S.jk.nf20-basic.2021-09-16T220627 ...\n",
      "[nems.xforms INFO] Loading xfspec and context from /auto/data/nems_db/results/331/TNC013a-54-2/psth.fs20.pup-ld-st.pup-epcpn-hrc-psthfr.stategain.S.jk.nf20-basic.2021-09-16T220642 ...\n",
      "[nems.xforms INFO] Loading xfspec and context from /auto/data/nems_db/results/331/TNC013a-55-1/psth.fs20.pup-ld-st.pup-epcpn-hrc-psthfr.stategain.S.jk.nf20-basic.2021-09-16T220644 ...\n",
      "[nems.xforms INFO] Loading xfspec and context from /auto/data/nems_db/results/331/TNC013a-58-1/psth.fs20.pup-ld-st.pup-epcpn-hrc-psthfr.stategain.S.jk.nf20-basic.2021-09-16T220647 ...\n",
      "[nems.xforms INFO] Loading xfspec and context from /auto/data/nems_db/results/331/TNC013a-58-2/psth.fs20.pup-ld-st.pup-epcpn-hrc-psthfr.stategain.S.jk.nf20-basic.2021-09-16T220649 ...\n",
      "[nems.xforms INFO] Loading xfspec and context from /auto/data/nems_db/results/331/TNC014a-34-2/psth.fs20.pup-ld-st.pup-epcpn-hrc-psthfr.stategain.S.jk.nf20-basic.2021-08-29T205022 ...\n",
      "[nems.xforms INFO] Loading xfspec and context from /auto/data/nems_db/results/331/TNC014a-36-2/psth.fs20.pup-ld-st.pup-epcpn-hrc-psthfr.stategain.S.jk.nf20-basic.2021-08-29T205103 ...\n",
      "[nems.xforms INFO] Loading xfspec and context from /auto/data/nems_db/results/331/TNC014a-36-3/psth.fs20.pup-ld-st.pup-epcpn-hrc-psthfr.stategain.S.jk.nf20-basic.2021-08-29T205104 ...\n",
      "[nems.xforms INFO] Loading xfspec and context from /auto/data/nems_db/results/331/TNC014a-36-4/psth.fs20.pup-ld-st.pup-epcpn-hrc-psthfr.stategain.S.jk.nf20-basic.2021-08-29T205106 ...\n",
      "[nems.xforms INFO] Loading xfspec and context from /auto/data/nems_db/results/331/TNC014a-41-1/psth.fs20.pup-ld-st.pup-epcpn-hrc-psthfr.stategain.S.jk.nf20-basic.2021-08-29T205120 ...\n",
      "[nems.xforms INFO] Loading xfspec and context from /auto/data/nems_db/results/331/TNC014a-48-1/psth.fs20.pup-ld-st.pup-epcpn-hrc-psthfr.stategain.S.jk.nf20-basic.2021-08-29T205127 ...\n",
      "[nems.xforms INFO] Loading xfspec and context from /auto/data/nems_db/results/331/TNC014a-34-4/psth.fs20.pup-ld-st.pup-epcpn-hrc-psthfr.stategain.S.jk.nf20-basic.2021-08-29T205129 ...\n",
      "[nems.xforms INFO] Loading xfspec and context from /auto/data/nems_db/results/331/TNC014a-34-3/psth.fs20.pup-ld-st.pup-epcpn-hrc-psthfr.stategain.S.jk.nf20-basic.2021-08-29T205058 ...\n",
      "[nems.xforms INFO] Loading xfspec and context from /auto/data/nems_db/results/331/TNC014a-48-2/psth.fs20.pup-ld-st.pup-epcpn-hrc-psthfr.stategain.S.jk.nf20-basic.2021-08-29T205129 ...\n",
      "[nems.xforms INFO] Loading xfspec and context from /auto/data/nems_db/results/331/TNC014a-52-1/psth.fs20.pup-ld-st.pup-epcpn-hrc-psthfr.stategain.S.jk.nf20-basic.2021-08-29T205134 ...\n",
      "[nems.xforms INFO] Loading xfspec and context from /auto/data/nems_db/results/331/TNC014a-53-1/psth.fs20.pup-ld-st.pup-epcpn-hrc-psthfr.stategain.S.jk.nf20-basic.2021-08-29T205137 ...\n",
      "[nems.xforms INFO] Loading xfspec and context from /auto/data/nems_db/results/331/TNC014a-50-1/psth.fs20.pup-ld-st.pup-epcpn-hrc-psthfr.stategain.S.jk.nf20-basic.2021-08-29T205132 ...\n",
      "[nems.xforms INFO] Loading xfspec and context from /auto/data/nems_db/results/331/TNC014a-57-1/psth.fs20.pup-ld-st.pup-epcpn-hrc-psthfr.stategain.S.jk.nf20-basic.2021-08-29T205140 ...\n",
      "[nems.xforms INFO] Loading xfspec and context from /auto/data/nems_db/results/331/TNC016a-07-1/psth.fs20.pup-ld-st.pup-epcpn-hrc-psthfr.stategain.S.jk.nf20-basic.2021-08-29T205142 ...\n",
      "[nems.xforms INFO] Loading xfspec and context from /auto/data/nems_db/results/331/TNC016a-10-1/psth.fs20.pup-ld-st.pup-epcpn-hrc-psthfr.stategain.S.jk.nf20-basic.2021-08-29T205144 ...\n",
      "[nems.xforms INFO] Loading xfspec and context from /auto/data/nems_db/results/331/TNC016a-10-2/psth.fs20.pup-ld-st.pup-epcpn-hrc-psthfr.stategain.S.jk.nf20-basic.2021-08-29T205145 ...\n",
      "[nems.xforms INFO] Loading xfspec and context from /auto/data/nems_db/results/331/TNC016a-22-1/psth.fs20.pup-ld-st.pup-epcpn-hrc-psthfr.stategain.S.jk.nf20-basic.2021-08-29T205149 ...\n",
      "[nems.xforms INFO] Loading xfspec and context from /auto/data/nems_db/results/331/TNC016a-28-1/psth.fs20.pup-ld-st.pup-epcpn-hrc-psthfr.stategain.S.jk.nf20-basic.2021-08-29T205158 ...\n",
      "[nems.xforms INFO] Loading xfspec and context from /auto/data/nems_db/results/331/TNC016a-23-1/psth.fs20.pup-ld-st.pup-epcpn-hrc-psthfr.stategain.S.jk.nf20-basic.2021-08-29T205154 ...\n",
      "[nems.xforms INFO] Loading xfspec and context from /auto/data/nems_db/results/331/TNC016a-28-2/psth.fs20.pup-ld-st.pup-epcpn-hrc-psthfr.stategain.S.jk.nf20-basic.2021-08-29T205200 ...\n",
      "[nems.xforms INFO] Loading xfspec and context from /auto/data/nems_db/results/331/TNC016a-31-1/psth.fs20.pup-ld-st.pup-epcpn-hrc-psthfr.stategain.S.jk.nf20-basic.2021-08-29T205207 ...\n",
      "[nems.xforms INFO] Loading xfspec and context from /auto/data/nems_db/results/331/TNC016a-34-1/psth.fs20.pup-ld-st.pup-epcpn-hrc-psthfr.stategain.S.jk.nf20-basic.2021-08-29T205210 ...\n",
      "[nems.xforms INFO] Loading xfspec and context from /auto/data/nems_db/results/331/TNC016a-38-1/psth.fs20.pup-ld-st.pup-epcpn-hrc-psthfr.stategain.S.jk.nf20-basic.2021-08-29T205212 ...\n",
      "[nems.xforms INFO] Loading xfspec and context from /auto/data/nems_db/results/331/TNC016a-40-1/psth.fs20.pup-ld-st.pup-epcpn-hrc-psthfr.stategain.S.jk.nf20-basic.2021-08-29T205217 ...\n",
      "[nems.xforms INFO] Loading xfspec and context from /auto/data/nems_db/results/331/TNC016a-40-2/psth.fs20.pup-ld-st.pup-epcpn-hrc-psthfr.stategain.S.jk.nf20-basic.2021-08-29T205221 ...\n",
      "[nems.xforms INFO] Loading xfspec and context from /auto/data/nems_db/results/331/TNC016a-40-4/psth.fs20.pup-ld-st.pup-epcpn-hrc-psthfr.stategain.S.jk.nf20-basic.2021-08-29T205224 ...\n",
      "[nems.xforms INFO] Loading xfspec and context from /auto/data/nems_db/results/331/TNC016a-43-5/psth.fs20.pup-ld-st.pup-epcpn-hrc-psthfr.stategain.S.jk.nf20-basic.2021-08-29T205235 ...\n",
      "[nems.xforms INFO] Loading xfspec and context from /auto/data/nems_db/results/331/TNC016a-46-1/psth.fs20.pup-ld-st.pup-epcpn-hrc-psthfr.stategain.S.jk.nf20-basic.2021-08-29T205238 ...\n",
      "[nems.xforms INFO] Loading xfspec and context from /auto/data/nems_db/results/331/TNC016a-49-3/psth.fs20.pup-ld-st.pup-epcpn-hrc-psthfr.stategain.S.jk.nf20-basic.2021-08-29T205245 ...\n",
      "[nems.xforms INFO] Loading xfspec and context from /auto/data/nems_db/results/331/TNC016a-49-2/psth.fs20.pup-ld-st.pup-epcpn-hrc-psthfr.stategain.S.jk.nf20-basic.2021-08-29T205242 ...\n",
      "[nems.xforms INFO] Loading xfspec and context from /auto/data/nems_db/results/331/TNC016a-52-2/psth.fs20.pup-ld-st.pup-epcpn-hrc-psthfr.stategain.S.jk.nf20-basic.2021-08-29T205249 ...\n",
      "[nems.xforms INFO] Loading xfspec and context from /auto/data/nems_db/results/331/TNC017a-07-1/psth.fs20.pup-ld-st.pup-epcpn-hrc-psthfr.stategain.S.jk.nf20-basic.2021-08-29T205259 ...\n",
      "[nems.xforms INFO] Loading xfspec and context from /auto/data/nems_db/results/331/TNC016a-56-1/psth.fs20.pup-ld-st.pup-epcpn-hrc-psthfr.stategain.S.jk.nf20-basic.2021-08-29T205253 ...\n",
      "[nems.xforms INFO] Loading xfspec and context from /auto/data/nems_db/results/331/TNC016a-61-1/psth.fs20.pup-ld-st.pup-epcpn-hrc-psthfr.stategain.S.jk.nf20-basic.2021-08-29T205256 ...\n",
      "[nems.xforms INFO] Loading xfspec and context from /auto/data/nems_db/results/331/TNC017a-08-1/psth.fs20.pup-ld-st.pup-epcpn-hrc-psthfr.stategain.S.jk.nf20-basic.2021-08-29T205301 ...\n",
      "[nems.xforms INFO] Loading xfspec and context from /auto/data/nems_db/results/331/TNC017a-13-1/psth.fs20.pup-ld-st.pup-epcpn-hrc-psthfr.stategain.S.jk.nf20-basic.2021-08-29T205312 ...\n",
      "[nems.xforms INFO] Loading xfspec and context from /auto/data/nems_db/results/331/TNC017a-14-1/psth.fs20.pup-ld-st.pup-epcpn-hrc-psthfr.stategain.S.jk.nf20-basic.2021-08-29T205314 ...\n",
      "[nems.xforms INFO] Loading xfspec and context from /auto/data/nems_db/results/331/TNC017a-10-3/psth.fs20.pup-ld-st.pup-epcpn-hrc-psthfr.stategain.S.jk.nf20-basic.2021-08-29T205310 ...\n",
      "[nems.xforms INFO] Loading xfspec and context from /auto/data/nems_db/results/331/TNC017a-16-1/psth.fs20.pup-ld-st.pup-epcpn-hrc-psthfr.stategain.S.jk.nf20-basic.2021-08-29T205315 ...\n",
      "[nems.xforms INFO] Loading xfspec and context from /auto/data/nems_db/results/331/TNC017a-19-1/psth.fs20.pup-ld-st.pup-epcpn-hrc-psthfr.stategain.S.jk.nf20-basic.2021-08-29T205319 ...\n",
      "[nems.xforms INFO] Loading xfspec and context from /auto/data/nems_db/results/331/TNC017a-19-3/psth.fs20.pup-ld-st.pup-epcpn-hrc-psthfr.stategain.S.jk.nf20-basic.2021-08-29T205325 ...\n",
      "[nems.xforms INFO] Loading xfspec and context from /auto/data/nems_db/results/331/TNC017a-22-1/psth.fs20.pup-ld-st.pup-epcpn-hrc-psthfr.stategain.S.jk.nf20-basic.2021-08-29T205327 ...\n",
      "[nems.xforms INFO] Loading xfspec and context from /auto/data/nems_db/results/331/TNC017a-19-2/psth.fs20.pup-ld-st.pup-epcpn-hrc-psthfr.stategain.S.jk.nf20-basic.2021-08-29T205323 ...\n",
      "[nems.xforms INFO] Loading xfspec and context from /auto/data/nems_db/results/331/TNC017a-24-1/psth.fs20.pup-ld-st.pup-epcpn-hrc-psthfr.stategain.S.jk.nf20-basic.2021-08-29T205329 ...\n",
      "[nems.xforms INFO] Loading xfspec and context from /auto/data/nems_db/results/331/TNC017a-20-1/psth.fs20.pup-ld-st.pup-epcpn-hrc-psthfr.stategain.S.jk.nf20-basic.2021-08-29T205325 ...\n",
      "[nems.xforms INFO] Loading xfspec and context from /auto/data/nems_db/results/331/TNC017a-25-4/psth.fs20.pup-ld-st.pup-epcpn-hrc-psthfr.stategain.S.jk.nf20-basic.2021-08-29T205337 ...\n",
      "[nems.xforms INFO] Loading xfspec and context from /auto/data/nems_db/results/331/TNC017a-33-1/psth.fs20.pup-ld-st.pup-epcpn-hrc-psthfr.stategain.S.jk.nf20-basic.2021-08-29T205355 ...\n",
      "[nems.xforms INFO] Loading xfspec and context from /auto/data/nems_db/results/331/TNC017a-34-2/psth.fs20.pup-ld-st.pup-epcpn-hrc-psthfr.stategain.S.jk.nf20-basic.2021-08-29T205356 ...\n",
      "[nems.xforms INFO] Loading xfspec and context from /auto/data/nems_db/results/331/TNC017a-31-1/psth.fs20.pup-ld-st.pup-epcpn-hrc-psthfr.stategain.S.jk.nf20-basic.2021-08-29T205350 ...\n",
      "[nems.xforms INFO] Loading xfspec and context from /auto/data/nems_db/results/331/TNC017a-40-1/psth.fs20.pup-ld-st.pup-epcpn-hrc-psthfr.stategain.S.jk.nf20-basic.2021-08-29T205407 ...\n",
      "[nems.xforms INFO] Loading xfspec and context from /auto/data/nems_db/results/331/TNC017a-42-1/psth.fs20.pup-ld-st.pup-epcpn-hrc-psthfr.stategain.S.jk.nf20-basic.2021-08-29T205410 ...\n",
      "[nems.xforms INFO] Loading xfspec and context from /auto/data/nems_db/results/331/TNC017a-45-2/psth.fs20.pup-ld-st.pup-epcpn-hrc-psthfr.stategain.S.jk.nf20-basic.2021-08-29T205418 ...\n",
      "[nems.xforms INFO] Loading xfspec and context from /auto/data/nems_db/results/331/TNC017a-50-1/psth.fs20.pup-ld-st.pup-epcpn-hrc-psthfr.stategain.S.jk.nf20-basic.2021-08-29T205427 ...\n",
      "[nems.xforms INFO] Loading xfspec and context from /auto/data/nems_db/results/331/TNC017a-56-1/psth.fs20.pup-ld-st.pup-epcpn-hrc-psthfr.stategain.S.jk.nf20-basic.2021-08-29T205444 ...\n",
      "[nems.xforms INFO] Loading xfspec and context from /auto/data/nems_db/results/331/TNC017a-52-1/psth.fs20.pup-ld-st.pup-epcpn-hrc-psthfr.stategain.S.jk.nf20-basic.2021-08-29T205433 ...\n",
      "[nems.xforms INFO] Loading xfspec and context from /auto/data/nems_db/results/331/TNC017a-57-1/psth.fs20.pup-ld-st.pup-epcpn-hrc-psthfr.stategain.S.jk.nf20-basic.2021-08-29T205443 ...\n",
      "[nems.xforms INFO] Loading xfspec and context from /auto/data/nems_db/results/331/TNC017a-54-1/psth.fs20.pup-ld-st.pup-epcpn-hrc-psthfr.stategain.S.jk.nf20-basic.2021-08-29T205436 ...\n",
      "[nems.xforms INFO] Loading xfspec and context from /auto/data/nems_db/results/331/TNC017a-57-2/psth.fs20.pup-ld-st.pup-epcpn-hrc-psthfr.stategain.S.jk.nf20-basic.2021-08-29T205445 ...\n",
      "[nems.xforms INFO] Loading xfspec and context from /auto/data/nems_db/results/331/TNC017a-58-1/psth.fs20.pup-ld-st.pup-epcpn-hrc-psthfr.stategain.S.jk.nf20-basic.2021-08-29T205449 ...\n",
      "[nems.xforms INFO] Loading xfspec and context from /auto/data/nems_db/results/331/TNC018a-07-3/psth.fs20.pup-ld-st.pup-epcpn-hrc-psthfr.stategain.S.jk.nf20-basic.2021-08-29T205504 ...\n",
      "[nems.xforms INFO] Loading xfspec and context from /auto/data/nems_db/results/331/TNC018a-12-1/psth.fs20.pup-ld-st.pup-epcpn-hrc-psthfr.stategain.S.jk.nf20-basic.2021-08-29T205517 ...\n",
      "[nems.xforms INFO] Loading xfspec and context from /auto/data/nems_db/results/331/TNC018a-15-4/psth.fs20.pup-ld-st.pup-epcpn-hrc-psthfr.stategain.S.jk.nf20-basic.2021-08-29T205532 ...\n",
      "[nems.xforms INFO] Loading xfspec and context from /auto/data/nems_db/results/331/TNC018a-17-1/psth.fs20.pup-ld-st.pup-epcpn-hrc-psthfr.stategain.S.jk.nf20-basic.2021-08-29T205536 ...\n",
      "[nems.xforms INFO] Loading xfspec and context from /auto/data/nems_db/results/331/TNC018a-20-1/psth.fs20.pup-ld-st.pup-epcpn-hrc-psthfr.stategain.S.jk.nf20-basic.2021-08-29T205545 ...\n",
      "[nems.xforms INFO] Loading xfspec and context from /auto/data/nems_db/results/331/TNC018a-35-1/psth.fs20.pup-ld-st.pup-epcpn-hrc-psthfr.stategain.S.jk.nf20-basic.2021-08-29T205620 ...\n",
      "[nems.xforms INFO] Loading xfspec and context from /auto/data/nems_db/results/331/TNC018a-42-3/psth.fs20.pup-ld-st.pup-epcpn-hrc-psthfr.stategain.S.jk.nf20-basic.2021-08-29T205635 ...\n",
      "[nems.xforms INFO] Loading xfspec and context from /auto/data/nems_db/results/331/TNC018a-49-1/psth.fs20.pup-ld-st.pup-epcpn-hrc-psthfr.stategain.S.jk.nf20-basic.2021-08-29T205647 ...\n",
      "[nems.xforms INFO] Loading xfspec and context from /auto/data/nems_db/results/331/TNC018a-52-1/psth.fs20.pup-ld-st.pup-epcpn-hrc-psthfr.stategain.S.jk.nf20-basic.2021-08-29T205655 ...\n",
      "[nems.xforms INFO] Loading xfspec and context from /auto/data/nems_db/results/331/TNC018a-52-2/psth.fs20.pup-ld-st.pup-epcpn-hrc-psthfr.stategain.S.jk.nf20-basic.2021-08-29T205655 ...\n",
      "[nems.xforms INFO] Loading xfspec and context from /auto/data/nems_db/results/331/TNC018a-54-1/psth.fs20.pup-ld-st.pup-epcpn-hrc-psthfr.stategain.S.jk.nf20-basic.2021-08-29T205658 ...\n",
      "[nems.xforms INFO] Loading xfspec and context from /auto/data/nems_db/results/331/TNC018a-55-1/psth.fs20.pup-ld-st.pup-epcpn-hrc-psthfr.stategain.S.jk.nf20-basic.2021-08-29T205659 ...\n",
      "[nems.xforms INFO] Loading xfspec and context from /auto/data/nems_db/results/331/TNC018a-51-1/psth.fs20.pup-ld-st.pup-epcpn-hrc-psthfr.stategain.S.jk.nf20-basic.2021-08-29T205653 ...\n",
      "[nems.xforms INFO] Loading xfspec and context from /auto/data/nems_db/results/331/TNC015a-02-1/psth.fs20.pup-ld-st.pup-epcpn-hrc-psthfr.stategain.S.jk.nf20-basic.2021-09-07T175402 ...\n",
      "[nems.xforms INFO] Loading xfspec and context from /auto/data/nems_db/results/331/TNC015a-04-1/psth.fs20.pup-ld-st.pup-epcpn-hrc-psthfr.stategain.S.jk.nf20-basic.2021-09-07T175427 ...\n",
      "[nems.xforms INFO] Loading xfspec and context from /auto/data/nems_db/results/331/TNC015a-07-1/psth.fs20.pup-ld-st.pup-epcpn-hrc-psthfr.stategain.S.jk.nf20-basic.2021-09-07T175502 ...\n",
      "[nems.xforms INFO] Loading xfspec and context from /auto/data/nems_db/results/331/TNC015a-08-1/psth.fs20.pup-ld-st.pup-epcpn-hrc-psthfr.stategain.S.jk.nf20-basic.2021-09-07T175543 ...\n",
      "[nems.xforms INFO] Loading xfspec and context from /auto/data/nems_db/results/331/TNC015a-10-1/psth.fs20.pup-ld-st.pup-epcpn-hrc-psthfr.stategain.S.jk.nf20-basic.2021-09-07T175616 ...\n",
      "[nems.xforms INFO] Loading xfspec and context from /auto/data/nems_db/results/331/TNC015a-10-2/psth.fs20.pup-ld-st.pup-epcpn-hrc-psthfr.stategain.S.jk.nf20-basic.2021-09-07T175653 ...\n",
      "[nems.xforms INFO] Loading xfspec and context from /auto/data/nems_db/results/331/TNC015a-16-2/psth.fs20.pup-ld-st.pup-epcpn-hrc-psthfr.stategain.S.jk.nf20-basic.2021-09-07T175822 ...\n",
      "[nems.xforms INFO] Loading xfspec and context from /auto/data/nems_db/results/331/TNC015a-16-3/psth.fs20.pup-ld-st.pup-epcpn-hrc-psthfr.stategain.S.jk.nf20-basic.2021-09-07T175848 ...\n",
      "[nems.xforms INFO] Loading xfspec and context from /auto/data/nems_db/results/331/TNC015a-27-1/psth.fs20.pup-ld-st.pup-epcpn-hrc-psthfr.stategain.S.jk.nf20-basic.2021-09-07T180232 ...\n",
      "[nems.xforms INFO] Loading xfspec and context from /auto/data/nems_db/results/331/TNC015a-29-1/psth.fs20.pup-ld-st.pup-epcpn-hrc-psthfr.stategain.S.jk.nf20-basic.2021-09-07T180254 ...\n",
      "[nems.xforms INFO] Loading xfspec and context from /auto/data/nems_db/results/331/TNC015a-31-1/psth.fs20.pup-ld-st.pup-epcpn-hrc-psthfr.stategain.S.jk.nf20-basic.2021-09-07T180334 ...\n",
      "[nems.xforms INFO] Loading xfspec and context from /auto/data/nems_db/results/331/TNC015a-37-1/psth.fs20.pup-ld-st.pup-epcpn-hrc-psthfr.stategain.S.jk.nf20-basic.2021-09-07T180521 ...\n",
      "[nems.xforms INFO] Loading xfspec and context from /auto/data/nems_db/results/331/TNC015a-37-2/psth.fs20.pup-ld-st.pup-epcpn-hrc-psthfr.stategain.S.jk.nf20-basic.2021-09-07T180542 ...\n",
      "[nems.xforms INFO] Loading xfspec and context from /auto/data/nems_db/results/331/TNC015a-39-1/psth.fs20.pup-ld-st.pup-epcpn-hrc-psthfr.stategain.S.jk.nf20-basic.2021-09-07T180605 ...\n",
      "[nems.xforms INFO] Loading xfspec and context from /auto/data/nems_db/results/331/TNC015a-55-1/psth.fs20.pup-ld-st.pup-epcpn-hrc-psthfr.stategain.S.jk.nf20-basic.2021-09-07T180731 ...\n",
      "[nems.xforms INFO] Loading xfspec and context from /auto/data/nems_db/results/331/TNC013a-03-3/psth.fs20.pup-ld-st.pup-epcpn-hrc-psthfr.stategain.S.jk.nf20-basic.2021-09-16T220433 ...\n",
      "[nems.xforms INFO] Loading xfspec and context from /auto/data/nems_db/results/331/TNC013a-15-1/psth.fs20.pup-ld-st.pup-epcpn-hrc-psthfr.stategain.S.jk.nf20-basic.2021-09-16T220451 ...\n",
      "[nems.xforms INFO] Loading xfspec and context from /auto/data/nems_db/results/331/TNC013a-17-1/psth.fs20.pup-ld-st.pup-epcpn-hrc-psthfr.stategain.S.jk.nf20-basic.2021-09-16T220451 ...\n",
      "[nems.xforms INFO] Loading xfspec and context from /auto/data/nems_db/results/331/TNC013a-12-2/psth.fs20.pup-ld-st.pup-epcpn-hrc-psthfr.stategain.S.jk.nf20-basic.2021-09-16T220448 ...\n",
      "[nems.xforms INFO] Loading xfspec and context from /auto/data/nems_db/results/331/TNC013a-26-1/psth.fs20.pup-ld-st.pup-epcpn-hrc-psthfr.stategain.S.jk.nf20-basic.2021-09-16T220507 ...\n",
      "[nems.xforms INFO] Loading xfspec and context from /auto/data/nems_db/results/331/TNC013a-31-1/psth.fs20.pup-ld-st.pup-epcpn-hrc-psthfr.stategain.S.jk.nf20-basic.2021-09-16T220524 ...\n",
      "[nems.xforms INFO] Loading xfspec and context from /auto/data/nems_db/results/331/TNC013a-42-2/psth.fs20.pup-ld-st.pup-epcpn-hrc-psthfr.stategain.S.jk.nf20-basic.2021-09-16T220547 ...\n",
      "[nems.xforms INFO] Loading xfspec and context from /auto/data/nems_db/results/331/TNC013a-46-3/psth.fs20.pup-ld-st.pup-epcpn-hrc-psthfr.stategain.S.jk.nf20-basic.2021-09-16T220621 ...\n",
      "[nems.xforms INFO] Loading xfspec and context from /auto/data/nems_db/results/331/TNC013a-52-1/psth.fs20.pup-ld-st.pup-epcpn-hrc-psthfr.stategain.S.jk.nf20-basic.2021-09-16T220634 ...\n",
      "[nems.xforms INFO] Loading xfspec and context from /auto/data/nems_db/results/331/TNC013a-52-2/psth.fs20.pup-ld-st.pup-epcpn-hrc-psthfr.stategain.S.jk.nf20-basic.2021-09-16T220636 ...\n",
      "[nems.xforms INFO] Loading xfspec and context from /auto/data/nems_db/results/331/TNC013a-52-3/psth.fs20.pup-ld-st.pup-epcpn-hrc-psthfr.stategain.S.jk.nf20-basic.2021-09-16T220637 ...\n",
      "[nems.xforms INFO] Loading xfspec and context from /auto/data/nems_db/results/331/TNC013a-54-1/psth.fs20.pup-ld-st.pup-epcpn-hrc-psthfr.stategain.S.jk.nf20-basic.2021-09-16T220641 ...\n",
      "[nems.xforms INFO] Loading xfspec and context from /auto/data/nems_db/results/331/TNC014a-45-1/psth.fs20.pup-ld-st.pup-epcpn-hrc-psthfr.stategain.S.jk.nf20-basic.2021-08-29T205125 ...\n",
      "[nems.xforms INFO] Loading xfspec and context from /auto/data/nems_db/results/331/TNC016a-27-1/psth.fs20.pup-ld-st.pup-epcpn-hrc-psthfr.stategain.S.jk.nf20-basic.2021-08-29T205155 ...\n",
      "[nems.xforms INFO] Loading xfspec and context from /auto/data/nems_db/results/331/TNC016a-51-1/psth.fs20.pup-ld-st.pup-epcpn-hrc-psthfr.stategain.S.jk.nf20-basic.2021-08-29T205247 ...\n",
      "[nems.xforms INFO] Loading xfspec and context from /auto/data/nems_db/results/331/TNC016a-63-1/psth.fs20.pup-ld-st.pup-epcpn-hrc-psthfr.stategain.S.jk.nf20-basic.2021-08-29T205300 ...\n",
      "[nems.xforms INFO] Loading xfspec and context from /auto/data/nems_db/results/331/TNC016a-55-1/psth.fs20.pup-ld-st.pup-epcpn-hrc-psthfr.stategain.S.jk.nf20-basic.2021-08-29T205254 ...\n",
      "[nems.xforms INFO] Loading xfspec and context from /auto/data/nems_db/results/331/TNC016a-60-1/psth.fs20.pup-ld-st.pup-epcpn-hrc-psthfr.stategain.S.jk.nf20-basic.2021-08-29T205254 ...\n",
      "[nems.xforms INFO] Loading xfspec and context from /auto/data/nems_db/results/331/TNC018a-04-1/psth.fs20.pup-ld-st.pup-epcpn-hrc-psthfr.stategain.S.jk.nf20-basic.2021-08-29T205455 ...\n",
      "[nems.xforms INFO] Loading xfspec and context from /auto/data/nems_db/results/331/TNC017a-60-1/psth.fs20.pup-ld-st.pup-epcpn-hrc-psthfr.stategain.S.jk.nf20-basic.2021-08-29T205450 ...\n",
      "[nems.xforms INFO] Loading xfspec and context from /auto/data/nems_db/results/331/TNC018a-18-1/psth.fs20.pup-ld-st.pup-epcpn-hrc-psthfr.stategain.S.jk.nf20-basic.2021-08-29T205539 ...\n",
      "[nems.xforms INFO] Loading xfspec and context from /auto/data/nems_db/results/331/TNC018a-21-1/psth.fs20.pup-ld-st.pup-epcpn-hrc-psthfr.stategain.S.jk.nf20-basic.2021-08-29T205547 ...\n",
      "[nems.xforms INFO] Loading xfspec and context from /auto/data/nems_db/results/331/TNC018a-31-1/psth.fs20.pup-ld-st.pup-epcpn-hrc-psthfr.stategain.S.jk.nf20-basic.2021-08-29T205607 ...\n",
      "[nems.xforms INFO] Loading xfspec and context from /auto/data/nems_db/results/331/TNC018a-33-1/psth.fs20.pup-ld-st.pup-epcpn-hrc-psthfr.stategain.S.jk.nf20-basic.2021-08-29T205616 ...\n",
      "[nems.xforms INFO] Loading xfspec and context from /auto/data/nems_db/results/331/TNC018a-34-3/psth.fs20.pup-ld-st.pup-epcpn-hrc-psthfr.stategain.S.jk.nf20-basic.2021-08-29T205620 ...\n",
      "[nems.xforms INFO] Loading xfspec and context from /auto/data/nems_db/results/331/TNC018a-48-2/psth.fs20.pup-ld-st.pup-epcpn-hrc-psthfr.stategain.S.jk.nf20-basic.2021-08-29T205646 ...\n",
      "[nems.xforms INFO] Loading xfspec and context from /auto/data/nems_db/results/331/TNC018a-58-1/psth.fs20.pup-ld-st.pup-epcpn-hrc-psthfr.stategain.S.jk.nf20-basic.2021-08-29T205702 ...\n",
      "[nems.xforms INFO] Loading xfspec and context from /auto/data/nems_db/results/331/TNC015a-36-1/psth.fs20.pup-ld-st.pup-epcpn-hrc-psthfr.stategain.S.jk.nf20-basic.2021-09-07T180422 ...\n",
      "[nems.xforms INFO] Loading xfspec and context from /auto/data/nems_db/results/331/TNC015a-39-2/psth.fs20.pup-ld-st.pup-epcpn-hrc-psthfr.stategain.S.jk.nf20-basic.2021-09-07T180627 ...\n",
      "[nems.xforms INFO] Loading xfspec and context from /auto/data/nems_db/results/331/TNC015a-50-1/psth.fs20.pup-ld-st.pup-epcpn-hrc-psthfr.stategain.S.jk.nf20-basic.2021-09-07T180651 ...\n",
      "[nems.xforms INFO] Loading xfspec and context from /auto/data/nems_db/results/331/TNC015a-51-1/psth.fs20.pup-ld-st.pup-epcpn-hrc-psthfr.stategain.S.jk.nf20-basic.2021-09-07T180711 ...\n",
      "[nems.xforms INFO] Loading xfspec and context from /auto/data/nems_db/results/331/TNC015a-55-2/psth.fs20.pup-ld-st.pup-epcpn-hrc-psthfr.stategain.S.jk.nf20-basic.2021-09-07T180754 ...\n",
      "[nems.xforms INFO] Loading xfspec and context from /auto/data/nems_db/results/331/TNC015a-58-1/psth.fs20.pup-ld-st.pup-epcpn-hrc-psthfr.stategain.S.jk.nf20-basic.2021-09-07T180809 ...\n"
     ]
    }
   ],
   "source": [
    "cellid=dpred.index[0]\n",
    "dpred['g']=1\n",
    "dpred['d']=0\n",
    "for cellid in dpred.index:\n",
    "    xf,ctx=load_model_xform(cellid=cellid,modelname=modelnames[1],batch=batch,eval_model=False)\n",
    "    dpred.loc[cellid,'d']=ctx['modelspec'].phi[0]['d'][0,1]\n",
    "    dpred.loc[cellid,'g']=ctx['modelspec'].phi[0]['g'][0,1]\n",
    "    "
   ]
  },
  {
   "cell_type": "code",
   "execution_count": 15,
   "metadata": {},
   "outputs": [
    {
     "data": {
      "text/plain": "              psth.fs20.pup-ld-st.pup0-epcpn-hrc-psthfr_stategain.S_jk.nf20-basic  \\\ncellid                                                                              \nTNC013a-01-2                                           0.098287                     \nTNC013a-03-1                                           0.100481                     \nTNC013a-10-1                                           0.126169                     \nTNC013a-12-1                                           0.256507                     \nTNC013a-20-1                                           0.125104                     \n\n              psth.fs20.pup-ld-st.pup-epcpn-hrc-psthfr_stategain.S_jk.nf20-basic  \\\ncellid                                                                             \nTNC013a-01-2                                           0.133108                    \nTNC013a-03-1                                           0.214315                    \nTNC013a-10-1                                           0.129052                    \nTNC013a-12-1                                           0.259596                    \nTNC013a-20-1                                           0.206893                    \n\n             phototag   siteid      diff                label         g  \\\ncellid                                                                    \nTNC013a-01-2        s  TNC013a  0.034821  S n=160 delta=0.011 -0.000350   \nTNC013a-03-1        s  TNC013a  0.113834  S n=160 delta=0.011 -0.002375   \nTNC013a-10-1        s  TNC013a  0.002883  S n=160 delta=0.011  0.000109   \nTNC013a-12-1        s  TNC013a  0.003088  S n=160 delta=0.011  0.183123   \nTNC013a-20-1        s  TNC013a  0.081789  S n=160 delta=0.011  0.612061   \n\n                     d  \ncellid                  \nTNC013a-01-2 -0.025267  \nTNC013a-03-1 -0.102013  \nTNC013a-10-1 -0.003755  \nTNC013a-12-1 -0.011791  \nTNC013a-20-1  0.156850  ",
      "text/html": "<div>\n<style scoped>\n    .dataframe tbody tr th:only-of-type {\n        vertical-align: middle;\n    }\n\n    .dataframe tbody tr th {\n        vertical-align: top;\n    }\n\n    .dataframe thead th {\n        text-align: right;\n    }\n</style>\n<table border=\"1\" class=\"dataframe\">\n  <thead>\n    <tr style=\"text-align: right;\">\n      <th></th>\n      <th>psth.fs20.pup-ld-st.pup0-epcpn-hrc-psthfr_stategain.S_jk.nf20-basic</th>\n      <th>psth.fs20.pup-ld-st.pup-epcpn-hrc-psthfr_stategain.S_jk.nf20-basic</th>\n      <th>phototag</th>\n      <th>siteid</th>\n      <th>diff</th>\n      <th>label</th>\n      <th>g</th>\n      <th>d</th>\n    </tr>\n    <tr>\n      <th>cellid</th>\n      <th></th>\n      <th></th>\n      <th></th>\n      <th></th>\n      <th></th>\n      <th></th>\n      <th></th>\n      <th></th>\n    </tr>\n  </thead>\n  <tbody>\n    <tr>\n      <th>TNC013a-01-2</th>\n      <td>0.098287</td>\n      <td>0.133108</td>\n      <td>s</td>\n      <td>TNC013a</td>\n      <td>0.034821</td>\n      <td>S n=160 delta=0.011</td>\n      <td>-0.000350</td>\n      <td>-0.025267</td>\n    </tr>\n    <tr>\n      <th>TNC013a-03-1</th>\n      <td>0.100481</td>\n      <td>0.214315</td>\n      <td>s</td>\n      <td>TNC013a</td>\n      <td>0.113834</td>\n      <td>S n=160 delta=0.011</td>\n      <td>-0.002375</td>\n      <td>-0.102013</td>\n    </tr>\n    <tr>\n      <th>TNC013a-10-1</th>\n      <td>0.126169</td>\n      <td>0.129052</td>\n      <td>s</td>\n      <td>TNC013a</td>\n      <td>0.002883</td>\n      <td>S n=160 delta=0.011</td>\n      <td>0.000109</td>\n      <td>-0.003755</td>\n    </tr>\n    <tr>\n      <th>TNC013a-12-1</th>\n      <td>0.256507</td>\n      <td>0.259596</td>\n      <td>s</td>\n      <td>TNC013a</td>\n      <td>0.003088</td>\n      <td>S n=160 delta=0.011</td>\n      <td>0.183123</td>\n      <td>-0.011791</td>\n    </tr>\n    <tr>\n      <th>TNC013a-20-1</th>\n      <td>0.125104</td>\n      <td>0.206893</td>\n      <td>s</td>\n      <td>TNC013a</td>\n      <td>0.081789</td>\n      <td>S n=160 delta=0.011</td>\n      <td>0.612061</td>\n      <td>0.156850</td>\n    </tr>\n  </tbody>\n</table>\n</div>"
     },
     "execution_count": 15,
     "metadata": {},
     "output_type": "execute_result"
    }
   ],
   "source": [
    "dpred.head()"
   ]
  },
  {
   "cell_type": "code",
   "execution_count": 16,
   "metadata": {},
   "outputs": [],
   "source": [
    "dpred['diff'] = dpred[modelnames[1]]-dpred[modelnames[0]]\n",
    "dm = dpred.groupby(['siteid','phototag']).mean()\n",
    "dmc = dpred.groupby(['siteid','phototag']).count()\n",
    "\n",
    "dm = dm[['diff']].merge(dmc['label'],how='inner',left_index=True, right_index=True)"
   ]
  },
  {
   "cell_type": "code",
   "execution_count": 17,
   "metadata": {},
   "outputs": [
    {
     "data": {
      "text/plain": "                  psth.fs20.pup-ld-st.pup0-epcpn-hrc-psthfr_stategain.S_jk.nf20-basic  \\\nsiteid  phototag                                                                        \nTNC013a a                                                        12                     \n        n                                                        32                     \n        s                                                        15                     \nTNC014a a                                                         1                     \n        n                                                        13                     \n        s                                                        37                     \nTNC015a a                                                         6                     \n        n                                                        15                     \n        s                                                        12                     \nTNC016a a                                                         5                     \n        n                                                        20                     \n        s                                                        16                     \nTNC017a a                                                         1                     \n        n                                                        26                     \n        s                                                        32                     \nTNC018a a                                                         8                     \n        n                                                        13                     \n        s                                                        48                     \n\n                  psth.fs20.pup-ld-st.pup-epcpn-hrc-psthfr_stategain.S_jk.nf20-basic  \\\nsiteid  phototag                                                                       \nTNC013a a                                                        12                    \n        n                                                        32                    \n        s                                                        15                    \nTNC014a a                                                         1                    \n        n                                                        13                    \n        s                                                        37                    \nTNC015a a                                                         6                    \n        n                                                        15                    \n        s                                                        12                    \nTNC016a a                                                         5                    \n        n                                                        20                    \n        s                                                        16                    \nTNC017a a                                                         1                    \n        n                                                        26                    \n        s                                                        32                    \nTNC018a a                                                         8                    \n        n                                                        13                    \n        s                                                        48                    \n\n                  diff  label   g   d  \nsiteid  phototag                       \nTNC013a a           12     12  12  12  \n        n           32     32  32  32  \n        s           15     15  15  15  \nTNC014a a            1      1   1   1  \n        n           13     13  13  13  \n        s           37     37  37  37  \nTNC015a a            6      6   6   6  \n        n           15     15  15  15  \n        s           12     12  12  12  \nTNC016a a            5      5   5   5  \n        n           20     20  20  20  \n        s           16     16  16  16  \nTNC017a a            1      1   1   1  \n        n           26     26  26  26  \n        s           32     32  32  32  \nTNC018a a            8      8   8   8  \n        n           13     13  13  13  \n        s           48     48  48  48  ",
      "text/html": "<div>\n<style scoped>\n    .dataframe tbody tr th:only-of-type {\n        vertical-align: middle;\n    }\n\n    .dataframe tbody tr th {\n        vertical-align: top;\n    }\n\n    .dataframe thead th {\n        text-align: right;\n    }\n</style>\n<table border=\"1\" class=\"dataframe\">\n  <thead>\n    <tr style=\"text-align: right;\">\n      <th></th>\n      <th></th>\n      <th>psth.fs20.pup-ld-st.pup0-epcpn-hrc-psthfr_stategain.S_jk.nf20-basic</th>\n      <th>psth.fs20.pup-ld-st.pup-epcpn-hrc-psthfr_stategain.S_jk.nf20-basic</th>\n      <th>diff</th>\n      <th>label</th>\n      <th>g</th>\n      <th>d</th>\n    </tr>\n    <tr>\n      <th>siteid</th>\n      <th>phototag</th>\n      <th></th>\n      <th></th>\n      <th></th>\n      <th></th>\n      <th></th>\n      <th></th>\n    </tr>\n  </thead>\n  <tbody>\n    <tr>\n      <th rowspan=\"3\" valign=\"top\">TNC013a</th>\n      <th>a</th>\n      <td>12</td>\n      <td>12</td>\n      <td>12</td>\n      <td>12</td>\n      <td>12</td>\n      <td>12</td>\n    </tr>\n    <tr>\n      <th>n</th>\n      <td>32</td>\n      <td>32</td>\n      <td>32</td>\n      <td>32</td>\n      <td>32</td>\n      <td>32</td>\n    </tr>\n    <tr>\n      <th>s</th>\n      <td>15</td>\n      <td>15</td>\n      <td>15</td>\n      <td>15</td>\n      <td>15</td>\n      <td>15</td>\n    </tr>\n    <tr>\n      <th rowspan=\"3\" valign=\"top\">TNC014a</th>\n      <th>a</th>\n      <td>1</td>\n      <td>1</td>\n      <td>1</td>\n      <td>1</td>\n      <td>1</td>\n      <td>1</td>\n    </tr>\n    <tr>\n      <th>n</th>\n      <td>13</td>\n      <td>13</td>\n      <td>13</td>\n      <td>13</td>\n      <td>13</td>\n      <td>13</td>\n    </tr>\n    <tr>\n      <th>s</th>\n      <td>37</td>\n      <td>37</td>\n      <td>37</td>\n      <td>37</td>\n      <td>37</td>\n      <td>37</td>\n    </tr>\n    <tr>\n      <th rowspan=\"3\" valign=\"top\">TNC015a</th>\n      <th>a</th>\n      <td>6</td>\n      <td>6</td>\n      <td>6</td>\n      <td>6</td>\n      <td>6</td>\n      <td>6</td>\n    </tr>\n    <tr>\n      <th>n</th>\n      <td>15</td>\n      <td>15</td>\n      <td>15</td>\n      <td>15</td>\n      <td>15</td>\n      <td>15</td>\n    </tr>\n    <tr>\n      <th>s</th>\n      <td>12</td>\n      <td>12</td>\n      <td>12</td>\n      <td>12</td>\n      <td>12</td>\n      <td>12</td>\n    </tr>\n    <tr>\n      <th rowspan=\"3\" valign=\"top\">TNC016a</th>\n      <th>a</th>\n      <td>5</td>\n      <td>5</td>\n      <td>5</td>\n      <td>5</td>\n      <td>5</td>\n      <td>5</td>\n    </tr>\n    <tr>\n      <th>n</th>\n      <td>20</td>\n      <td>20</td>\n      <td>20</td>\n      <td>20</td>\n      <td>20</td>\n      <td>20</td>\n    </tr>\n    <tr>\n      <th>s</th>\n      <td>16</td>\n      <td>16</td>\n      <td>16</td>\n      <td>16</td>\n      <td>16</td>\n      <td>16</td>\n    </tr>\n    <tr>\n      <th rowspan=\"3\" valign=\"top\">TNC017a</th>\n      <th>a</th>\n      <td>1</td>\n      <td>1</td>\n      <td>1</td>\n      <td>1</td>\n      <td>1</td>\n      <td>1</td>\n    </tr>\n    <tr>\n      <th>n</th>\n      <td>26</td>\n      <td>26</td>\n      <td>26</td>\n      <td>26</td>\n      <td>26</td>\n      <td>26</td>\n    </tr>\n    <tr>\n      <th>s</th>\n      <td>32</td>\n      <td>32</td>\n      <td>32</td>\n      <td>32</td>\n      <td>32</td>\n      <td>32</td>\n    </tr>\n    <tr>\n      <th rowspan=\"3\" valign=\"top\">TNC018a</th>\n      <th>a</th>\n      <td>8</td>\n      <td>8</td>\n      <td>8</td>\n      <td>8</td>\n      <td>8</td>\n      <td>8</td>\n    </tr>\n    <tr>\n      <th>n</th>\n      <td>13</td>\n      <td>13</td>\n      <td>13</td>\n      <td>13</td>\n      <td>13</td>\n      <td>13</td>\n    </tr>\n    <tr>\n      <th>s</th>\n      <td>48</td>\n      <td>48</td>\n      <td>48</td>\n      <td>48</td>\n      <td>48</td>\n      <td>48</td>\n    </tr>\n  </tbody>\n</table>\n</div>"
     },
     "execution_count": 17,
     "metadata": {},
     "output_type": "execute_result"
    }
   ],
   "source": [
    "dmc"
   ]
  },
  {
   "cell_type": "code",
   "execution_count": 18,
   "metadata": {},
   "outputs": [
    {
     "data": {
      "text/plain": "Text(0.5, 0.98, 'psth.fs20.pup-ld-st.pup-epcpn-hrc-psthfr_stategain.S_jk.nf20-basic')"
     },
     "execution_count": 18,
     "metadata": {},
     "output_type": "execute_result"
    },
    {
     "data": {
      "text/plain": "<Figure size 1080x360 with 3 Axes>",
      "image/png": "[encoded data removed]"
     },
     "metadata": {
      "needs_background": "light"
     },
     "output_type": "display_data"
    }
   ],
   "source": [
    "from seaborn import scatterplot, barplot\n",
    "f,ax=plt.subplots(1,3,figsize=(15,5))\n",
    "ax[0].plot([0.0,1],[0.0,1],'k--')\n",
    "scatterplot(data=dpred, x=modelnames[0], y=modelnames[1], hue='label', ax=ax[0]);\n",
    "plt.setp(ax[0].get_legend().get_texts(), fontsize='10'); #, frameon=False)\n",
    "ax[0].set_xlabel('pup0',fontsize=10)\n",
    "ax[0].set_ylabel('pup',fontsize=10)\n",
    "\n",
    "ax[1].plot([-0.6,0.6],[0.0,0],'k--')\n",
    "ax[1].plot([0.0,0],[-0.6,0.9],'k--')\n",
    "scatterplot(data=dpred, x='d', y='g', hue='label', ax=ax[1], legend=False);\n",
    "\n",
    "barplot(data=dm.reset_index(), x='siteid', y='diff', hue='phototag', ax=ax[2], hue_order=['s','n','a'])\n",
    "plt.setp(ax[2].get_xticklabels(), fontsize='10'); #, frameon=False)\n",
    "ax[2].set_ylabel('r_test difference (pup-pup0)',fontsize=10)\n",
    "\n",
    "f.suptitle(modelnames[1])"
   ]
  },
  {
   "cell_type": "code",
   "execution_count": 18,
   "metadata": {},
   "outputs": [],
   "source": []
  },
  {
   "cell_type": "code",
   "execution_count": 18,
   "metadata": {},
   "outputs": [],
   "source": []
  },
  {
   "cell_type": "code",
   "execution_count": 18,
   "metadata": {},
   "outputs": [],
   "source": []
  }
 ],
 "metadata": {
  "kernelspec": {
   "display_name": "Python 3",
   "language": "python",
   "name": "python3"
  },
  "language_info": {
   "codemirror_mode": {
    "name": "ipython",
    "version": 3
   },
   "file_extension": ".py",
   "mimetype": "text/x-python",
   "name": "python",
   "nbconvert_exporter": "python",
   "pygments_lexer": "ipython3",
   "version": "3.7.6"
  }
 },
 "nbformat": 4,
 "nbformat_minor": 4
}