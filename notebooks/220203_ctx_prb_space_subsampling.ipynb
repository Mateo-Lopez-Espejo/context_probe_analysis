{
 "cells": [
  {
   "cell_type": "code",
   "execution_count": 1,
   "outputs": [],
   "source": [
    "import itertools as itt\n",
    "import pathlib as pl\n",
    "from configparser import ConfigParser\n",
    "\n",
    "import numpy as np\n",
    "import pandas as pd\n",
    "import joblib as jl\n",
    "\n",
    "import plotly.express as px\n",
    "import plotly.graph_objects as go\n",
    "\n",
    "from src.root_path import config_path"
   ],
   "metadata": {
    "collapsed": false,
    "pycharm": {
     "name": "#%%\n"
    }
   }
  },
  {
   "cell_type": "code",
   "execution_count": 2,
   "outputs": [],
   "source": [
    "config = ConfigParser()\n",
    "config.read_file(open(config_path / 'settings.ini'))\n",
    "meta = {'reliability': 0.1,  # r value\n",
    "        'smoothing_window': 0,  # ms\n",
    "        'raster_fs': 30,\n",
    "        'montecarlo': 1000,\n",
    "        'zscore': True,\n",
    "        'dprime_absolute': None,\n",
    "        'stim_type': 'permutations',\n",
    "        'alpha':0.05}\n",
    "# todo, if batch analysis rerun, use the anotated line instead\n",
    "# summary_DF_file = pl.Path(config['paths']['analysis_cache']) / f'211221_cxt_metrics_summary_DF_alpha_{meta}'\n",
    "summary_DF_file = pl.Path(config['paths']['analysis_cache']) / '211221_cxt_metrics_summary_DF_alpha_0.05'\n",
    "\n",
    "### same example cell as in figure 1 ###\n",
    "prb_idx = 3 - 1# selected probe. the -1 is to acount for 0 not being used\n",
    "ctx_pair = [0,1] # pair of contexts to compare and exemplify d'\n",
    "cellid = 'ARM021b-36-8'\n",
    "\n",
    "\n",
    "\n",
    "DF = jl.load(summary_DF_file)\n",
    "def format_dataframe(DF):\n",
    "\n",
    "    ff_analylis = DF.analysis.isin(['SC', 'fdPCA'])\n",
    "    ff_corr = DF.mult_comp_corr == 'consecutive_3'\n",
    "\n",
    "    good_cols =['analysis', 'mult_comp_corr', 'region', 'siteid',  'cellid', 'context_pair',\n",
    "                'probe', 'metric', 'value']\n",
    "    filtered = DF.loc[ff_analylis & ff_corr, good_cols]\n",
    "\n",
    "    filtered['probe'] = [int(p) for p in filtered['probe']]\n",
    "    filtered['context_pair'] = [f\"{int(cp.split('_')[0]):02d}_{int(cp.split('_')[1]):02d}\"\n",
    "                                for cp in filtered['context_pair']]\n",
    "\n",
    "    # rename metrics and analysis for ease of ploting\n",
    "    filtered['metric'] = filtered['metric'].replace({'significant_abs_mass_center': 'center of mass (ms)',\n",
    "                                                     'significant_abs_mean': \"mean d'\",\n",
    "                                                     'significant_abs_sum': \"integral (d'*ms)\"})\n",
    "    filtered['analysis'] = filtered['analysis'].replace({'SC': 'single cell',\n",
    "                                                         'fdPCA': 'population',\n",
    "                                                         'pdPCA': 'probewise pop',\n",
    "                                                         'LDA': 'pop ceiling'})\n",
    "\n",
    "    filtered['id'] = filtered['cellid'].fillna(value=filtered['siteid'])\n",
    "    filtered = filtered.drop(columns=['cellid', 'siteid'])\n",
    "\n",
    "    filtered['value'] = filtered['value'].fillna(value=0)\n",
    "\n",
    "    # permutation related preprocesing.\n",
    "    # creates a new column relating probe with  context pairs\n",
    "    ctx = np.asarray([row.split('_') for row in filtered.context_pair], dtype=int)\n",
    "    prb = np.asarray(filtered.probe, dtype=int)\n",
    "\n",
    "    silence = ctx == 0\n",
    "    same = ctx == prb[:,None]\n",
    "    different = np.logical_and(~silence, ~same)\n",
    "\n",
    "    name_arr = np.full_like(ctx, np.nan, dtype=object)\n",
    "    name_arr[silence] = 'silence'\n",
    "    name_arr[same] = 'same'\n",
    "    name_arr[different] = 'diff'\n",
    "    comp_name_arr = np.apply_along_axis('_'.join, 1, name_arr)\n",
    "\n",
    "    # swaps clasification names to not have repetitions i.e. diff_same == same_diff\n",
    "    comp_name_arr[np.where(comp_name_arr == 'same_silence')] = 'silence_same'\n",
    "    comp_name_arr[np.where(comp_name_arr == 'diff_silence')] = 'silence_diff'\n",
    "    comp_name_arr[np.where(comp_name_arr == 'diff_same')] = 'same_diff'\n",
    "    comp_name_arr[np.where(comp_name_arr == 'same_silence')] = 'silence_same'\n",
    "\n",
    "    filtered['trans_pair'] = comp_name_arr\n",
    "\n",
    "    ord_cols = ['analysis', 'region', 'id', 'context_pair', 'trans_pair', 'probe', 'metric', 'value']\n",
    "    pivot_idx = [col for col in ord_cols if col not in ['value', 'metric']]\n",
    "    pivoted = filtered.pivot_table(index=pivot_idx, columns='metric', values='value', aggfunc='first').reset_index()\n",
    "\n",
    "    full_long = filtered # saves long format for subsamplig analysis\n",
    "\n",
    "    return pivoted, full_long\n",
    "pivoted, filtered = format_dataframe(DF)"
   ],
   "metadata": {
    "collapsed": false,
    "pycharm": {
     "name": "#%%\n"
    }
   }
  },
  {
   "cell_type": "code",
   "execution_count": 3,
   "outputs": [
    {
     "name": "stderr",
     "output_type": "stream",
     "text": [
      "<ipython-input-3-fd212675be88>:6: SettingWithCopyWarning: \n",
      "A value is trying to be set on a copy of a slice from a DataFrame.\n",
      "Try using .loc[row_indexer,col_indexer] = value instead\n",
      "\n",
      "See the caveats in the documentation: https://pandas.pydata.org/pandas-docs/stable/user_guide/indexing.html#returning-a-view-versus-a-copy\n",
      "  filtered['site'] = filtered.id.apply(lambda x: x[:7])\n",
      "<ipython-input-3-fd212675be88>:10: SettingWithCopyWarning: \n",
      "A value is trying to be set on a copy of a slice from a DataFrame.\n",
      "Try using .loc[row_indexer,col_indexer] = value instead\n",
      "\n",
      "See the caveats in the documentation: https://pandas.pydata.org/pandas-docs/stable/user_guide/indexing.html#returning-a-view-versus-a-copy\n",
      "  filtered['ctx_0'] = ctx_pairs[:, 0]\n",
      "<ipython-input-3-fd212675be88>:11: SettingWithCopyWarning: \n",
      "A value is trying to be set on a copy of a slice from a DataFrame.\n",
      "Try using .loc[row_indexer,col_indexer] = value instead\n",
      "\n",
      "See the caveats in the documentation: https://pandas.pydata.org/pandas-docs/stable/user_guide/indexing.html#returning-a-view-versus-a-copy\n",
      "  filtered['ctx_1'] = ctx_pairs[:, 1]\n"
     ]
    }
   ],
   "source": [
    "def nozero_percentage(arr):\n",
    "    return np.sum(arr>0) / np.size(arr) * 100\n",
    "\n",
    "# filteres dataframe and adds required columns\n",
    "filtered = pivoted.loc[pivoted.analysis=='single cell', :]\n",
    "filtered['site'] = filtered.id.apply(lambda x: x[:7])\n",
    "\n",
    "ctx_pairs = [pair.split('_') for pair in filtered.context_pair]\n",
    "ctx_pairs = np.stack(ctx_pairs, axis=0)\n",
    "filtered['ctx_0'] = ctx_pairs[:, 0]\n",
    "filtered['ctx_1'] = ctx_pairs[:, 1]\n",
    "\n",
    "# function to aggregate each single cell. gives the proportion of significant instances\n",
    "agg_funcs = {\"signif_proportion\": (\"integral (d'*ms)\", nozero_percentage)}"
   ],
   "metadata": {
    "collapsed": false,
    "pycharm": {
     "name": "#%%\n"
    }
   }
  },
  {
   "cell_type": "code",
   "execution_count": 4,
   "metadata": {
    "collapsed": true
   },
   "outputs": [
    {
     "name": "stdout",
     "output_type": "stream",
     "text": [
      "ctx_subsamp_signif chached at /auto/users/mateo/code/context_probe_analysis/data/220203_ctx_subsampling_DF\n"
     ]
    },
    {
     "data": {
      "text/plain": "PosixPath('/auto/users/mateo/code/context_probe_analysis/data/220203_ctx_subsampling_DF')"
     },
     "metadata": {},
     "output_type": "display_data"
    }
   ],
   "source": [
    "# iterates over all sizes of context subsampling, i.e. 2, 3, 4 and 5 contexts.\n",
    "ctx_subsampling_path = pl.Path(config['paths']['analysis_cache']) / '220203_ctx_subsampling_DF'\n",
    "recache_ctx = False\n",
    "if (not ctx_subsampling_path.exists()) or recache_ctx:\n",
    "\n",
    "    all_contexts = np.unique(ctx_pairs)\n",
    "    ctx_subsamp_signif = pd.DataFrame()\n",
    "\n",
    "    for num_ctx in range(2, len(all_contexts)+1):\n",
    "        n_ctx_groups  = list(itt.combinations(all_contexts, num_ctx))\n",
    "        # iterates over all possible combinations of n probes\n",
    "        for cg, ctx_group in enumerate(n_ctx_groups):\n",
    "            ctx_df = filtered.loc[(filtered.ctx_0.isin(ctx_group)) &\n",
    "                                     ((filtered.ctx_1.isin(ctx_group))), :].set_index('region', 'site', 'id')\n",
    "            grouped  = ctx_df.groupby(['region', 'site', 'id']).agg(**agg_funcs).copy()\n",
    "            grouped.loc[grouped.signif_proportion == 0] = np.nan\n",
    "            grouped['n_contexts'] = num_ctx\n",
    "            grouped['ctx_group'] = '_'.join(ctx_group)\n",
    "            ctx_subsamp_signif = ctx_subsamp_signif.append(grouped.reset_index())\n",
    "\n",
    "    jl.dump(ctx_subsamp_signif, ctx_subsampling_path)\n",
    "    print(f'ctx_subsamp_signif chached at {ctx_subsampling_path}')\n",
    "else:\n",
    "    print(f'loading ctx_subsamp_signif from {ctx_subsampling_path}')\n",
    "    ctx_subsamp_signif = jl.load(ctx_subsampling_path)\n",
    "\n",
    "display(ctx_subsampling_path)"
   ]
  },
  {
   "cell_type": "code",
   "execution_count": 5,
   "outputs": [
    {
     "name": "stdout",
     "output_type": "stream",
     "text": [
      "creating prb_subsamp_signif dataframe\n",
      "prb_subsamp_signif chached at /auto/users/mateo/code/context_probe_analysis/data/220203_prb_subsampling_DF\n"
     ]
    },
    {
     "data": {
      "text/plain": "     region     site            id  signif_proportion  n_probes  \\\n0        A1  AMT020a  AMT020a-02-1                NaN         1   \n1        A1  AMT020a  AMT020a-04-1                NaN         1   \n2        A1  AMT020a  AMT020a-07-1                NaN         1   \n3        A1  AMT020a  AMT020a-08-1                NaN         1   \n4        A1  AMT020a  AMT020a-13-1                NaN         1   \n...     ...      ...           ...                ...       ...   \n1064    PEG  CRD014b  CRD014b-24-2                7.5        10   \n1065    PEG  CRD014b  CRD014b-27-1               10.0        10   \n1066    PEG  CRD014b  CRD014b-27-2               12.5        10   \n1067    PEG  CRD014b  CRD014b-27-3                7.5        10   \n1068    PEG  CRD014b  CRD014b-29-1               20.0        10   \n\n                 prb_group  \n0                        1  \n1                        1  \n2                        1  \n3                        1  \n4                        1  \n...                    ...  \n1064  1_2_3_4_5_6_7_8_9_10  \n1065  1_2_3_4_5_6_7_8_9_10  \n1066  1_2_3_4_5_6_7_8_9_10  \n1067  1_2_3_4_5_6_7_8_9_10  \n1068  1_2_3_4_5_6_7_8_9_10  \n\n[1039344 rows x 6 columns]",
      "text/html": "<div>\n<style scoped>\n    .dataframe tbody tr th:only-of-type {\n        vertical-align: middle;\n    }\n\n    .dataframe tbody tr th {\n        vertical-align: top;\n    }\n\n    .dataframe thead th {\n        text-align: right;\n    }\n</style>\n<table border=\"1\" class=\"dataframe\">\n  <thead>\n    <tr style=\"text-align: right;\">\n      <th></th>\n      <th>region</th>\n      <th>site</th>\n      <th>id</th>\n      <th>signif_proportion</th>\n      <th>n_probes</th>\n      <th>prb_group</th>\n    </tr>\n  </thead>\n  <tbody>\n    <tr>\n      <th>0</th>\n      <td>A1</td>\n      <td>AMT020a</td>\n      <td>AMT020a-02-1</td>\n      <td>NaN</td>\n      <td>1</td>\n      <td>1</td>\n    </tr>\n    <tr>\n      <th>1</th>\n      <td>A1</td>\n      <td>AMT020a</td>\n      <td>AMT020a-04-1</td>\n      <td>NaN</td>\n      <td>1</td>\n      <td>1</td>\n    </tr>\n    <tr>\n      <th>2</th>\n      <td>A1</td>\n      <td>AMT020a</td>\n      <td>AMT020a-07-1</td>\n      <td>NaN</td>\n      <td>1</td>\n      <td>1</td>\n    </tr>\n    <tr>\n      <th>3</th>\n      <td>A1</td>\n      <td>AMT020a</td>\n      <td>AMT020a-08-1</td>\n      <td>NaN</td>\n      <td>1</td>\n      <td>1</td>\n    </tr>\n    <tr>\n      <th>4</th>\n      <td>A1</td>\n      <td>AMT020a</td>\n      <td>AMT020a-13-1</td>\n      <td>NaN</td>\n      <td>1</td>\n      <td>1</td>\n    </tr>\n    <tr>\n      <th>...</th>\n      <td>...</td>\n      <td>...</td>\n      <td>...</td>\n      <td>...</td>\n      <td>...</td>\n      <td>...</td>\n    </tr>\n    <tr>\n      <th>1064</th>\n      <td>PEG</td>\n      <td>CRD014b</td>\n      <td>CRD014b-24-2</td>\n      <td>7.5</td>\n      <td>10</td>\n      <td>1_2_3_4_5_6_7_8_9_10</td>\n    </tr>\n    <tr>\n      <th>1065</th>\n      <td>PEG</td>\n      <td>CRD014b</td>\n      <td>CRD014b-27-1</td>\n      <td>10.0</td>\n      <td>10</td>\n      <td>1_2_3_4_5_6_7_8_9_10</td>\n    </tr>\n    <tr>\n      <th>1066</th>\n      <td>PEG</td>\n      <td>CRD014b</td>\n      <td>CRD014b-27-2</td>\n      <td>12.5</td>\n      <td>10</td>\n      <td>1_2_3_4_5_6_7_8_9_10</td>\n    </tr>\n    <tr>\n      <th>1067</th>\n      <td>PEG</td>\n      <td>CRD014b</td>\n      <td>CRD014b-27-3</td>\n      <td>7.5</td>\n      <td>10</td>\n      <td>1_2_3_4_5_6_7_8_9_10</td>\n    </tr>\n    <tr>\n      <th>1068</th>\n      <td>PEG</td>\n      <td>CRD014b</td>\n      <td>CRD014b-29-1</td>\n      <td>20.0</td>\n      <td>10</td>\n      <td>1_2_3_4_5_6_7_8_9_10</td>\n    </tr>\n  </tbody>\n</table>\n<p>1039344 rows × 6 columns</p>\n</div>"
     },
     "metadata": {},
     "output_type": "display_data"
    }
   ],
   "source": [
    "# iterates over all sizes of probe subsampling, i.e. 1, 2, 3 and 4 probes.\n",
    "prb_subsampling_path = pl.Path(config['paths']['analysis_cache']) / '220203_prb_subsampling_DF'\n",
    "recache_prb = False\n",
    "if (not prb_subsampling_path.exists())  or recache_prb:\n",
    "    print(f'creating prb_subsamp_signif dataframe')\n",
    "    all_probes = filtered.probe.sort_values().unique()\n",
    "    prb_subsamp_signif = pd.DataFrame()\n",
    "\n",
    "    for num_probe in range(len(all_probes)):\n",
    "        num_probe += 1\n",
    "\n",
    "        n_probe_groups  = list(itt.combinations(all_probes, num_probe))\n",
    "        # iterates over all possible combinations of n probes\n",
    "        for pg, probe_group in enumerate(n_probe_groups):\n",
    "            probe_group = [int(p) for p in probe_group]\n",
    "            probes_df = filtered.loc[filtered.probe.isin(probe_group), :].set_index('region', 'site', 'id')\n",
    "            grouped  = probes_df.groupby(['region', 'site', 'id']).agg(**agg_funcs).copy()\n",
    "            grouped.loc[grouped.signif_proportion == 0] = np.nan\n",
    "            grouped['n_probes'] = num_probe\n",
    "            grouped['prb_group'] = '_'.join([str(p) for p in probe_group])\n",
    "            prb_subsamp_signif = prb_subsamp_signif.append(grouped.reset_index())\n",
    "\n",
    "\n",
    "    jl.dump(prb_subsamp_signif, prb_subsampling_path)\n",
    "    print(f'prb_subsamp_signif chached at {prb_subsampling_path}')\n",
    "\n",
    "else:\n",
    "    print(f'loading prb_subsamp_signif from {prb_subsampling_path}')\n",
    "    prb_subsamp_signif = jl.load(prb_subsampling_path)\n",
    "\n",
    "display(prb_subsamp_signif)"
   ],
   "metadata": {
    "collapsed": false,
    "pycharm": {
     "name": "#%%\n"
    }
   }
  },
  {
   "cell_type": "code",
   "execution_count": 19,
   "outputs": [
    {
     "name": "stdout",
     "output_type": "stream",
     "text": [
      "         analysis region            id  integral (d'*ms)\n",
      "0      population     A1       AMT020a              52.5\n",
      "1      population     A1       AMT021b              45.0\n",
      "2      population     A1       AMT026a              37.5\n",
      "3      population     A1       ARM005e              30.0\n",
      "4      population     A1       ARM029a              55.0\n",
      "...           ...    ...           ...               ...\n",
      "1108  single cell    PEG  CRD014b-24-2               7.5\n",
      "1109  single cell    PEG  CRD014b-27-1              10.0\n",
      "1110  single cell    PEG  CRD014b-27-2              12.5\n",
      "1111  single cell    PEG  CRD014b-27-3               7.5\n",
      "1112  single cell    PEG  CRD014b-29-1              20.0\n",
      "\n",
      "[1113 rows x 4 columns]\n"
     ]
    }
   ],
   "source": [
    "agg_funcs = {\"contextual space coverage\": (\"integral (d'*ms)\", nozero_percentage)}\n",
    "\n",
    "ctx_prb_count = pivoted.set_index(['analysis', 'region', 'id']\n",
    "                              ).groupby(['analysis', 'region', 'id']\n",
    "                              ).agg({\"integral (d'*ms)\": nozero_percentage}).reset_index()\n",
    "\n",
    "print(ctx_prb_count)"
   ],
   "metadata": {
    "collapsed": false,
    "pycharm": {
     "name": "#%%\n"
    }
   }
  },
  {
   "cell_type": "code",
   "execution_count": 22,
   "outputs": [
    {
     "data": {
      "application/vnd.plotly.v1+json": {
       "config": {
        "plotlyServerURL": "https://plot.ly"
       },
       "data": [
        {
         "alignmentgroup": "True",
         "bingroup": "x",
         "histnorm": "percent",
         "hovertemplate": "integral (d'*ms)=%{x}<br>percent=%{y}<extra></extra>",
         "legendgroup": "",
         "marker": {
          "color": "#636efa",
          "pattern": {
           "shape": ""
          }
         },
         "name": "",
         "offsetgroup": "",
         "orientation": "v",
         "showlegend": false,
         "type": "histogram",
         "x": [
          2.5,
          0.0,
          0.0,
          2.5,
          0.0,
          2.5,
          17.5,
          0.0,
          27.500000000000004,
          17.5,
          7.5,
          0.0,
          0.0,
          0.0,
          0.0,
          12.5,
          7.5,
          0.0,
          27.500000000000004,
          7.5,
          0.0,
          7.5,
          0.0,
          15.0,
          37.5,
          0.0,
          0.0,
          7.5,
          2.5,
          0.0,
          0.0,
          5.0,
          7.5,
          17.5,
          7.5,
          10.0,
          15.0,
          2.5,
          2.5,
          27.500000000000004,
          0.0,
          0.0,
          12.5,
          0.0,
          0.0,
          25.0,
          17.5,
          15.0,
          0.0,
          0.0,
          2.5,
          2.5,
          5.0,
          0.0,
          30.0,
          0.0,
          2.5,
          0.0,
          0.0,
          0.0,
          0.0,
          2.5,
          2.5,
          17.5,
          2.5,
          0.0,
          5.0,
          15.0,
          0.0,
          7.5,
          0.0,
          0.0,
          5.0,
          0.0,
          2.5,
          7.5,
          2.5,
          47.5,
          17.5,
          2.5,
          5.0,
          7.5,
          35.0,
          0.0,
          17.5,
          45.0,
          32.5,
          32.5,
          2.5,
          7.5,
          5.0,
          7.5,
          20.0,
          0.0,
          2.5,
          15.0,
          5.0,
          0.0,
          2.5,
          42.5,
          0.0,
          25.0,
          2.5,
          0.0,
          0.0,
          7.5,
          35.0,
          2.5,
          0.0,
          7.5,
          2.5,
          15.0,
          0.0,
          25.0,
          10.0,
          0.0,
          47.5,
          7.5,
          40.0,
          0.0,
          15.0,
          37.5,
          0.0,
          2.5,
          32.5,
          42.5,
          12.5,
          0.0,
          30.0,
          17.5,
          12.5,
          20.0,
          0.0,
          0.0,
          10.0,
          5.0,
          50.0,
          45.0,
          2.5,
          32.5,
          45.0,
          10.0,
          7.5,
          25.0,
          40.0,
          27.500000000000004,
          0.0,
          0.0,
          25.0,
          2.5,
          0.0,
          10.0,
          0.0,
          12.5,
          12.5,
          0.0,
          15.0,
          0.0,
          0.0,
          12.5,
          2.5,
          15.0,
          2.5,
          22.5,
          0.0,
          5.0,
          35.0,
          0.0,
          0.0,
          0.0,
          7.5,
          7.5,
          17.5,
          22.5,
          10.0,
          20.0,
          10.0,
          0.0,
          0.0,
          10.0,
          7.5,
          35.0,
          0.0,
          0.0,
          7.5,
          17.5,
          0.0,
          17.5,
          0.0,
          42.5,
          15.0,
          0.0,
          7.5,
          5.0,
          5.0,
          0.0,
          22.5,
          17.5,
          12.5,
          0.0,
          0.0,
          2.5,
          0.0,
          0.0,
          12.5,
          5.0,
          2.5,
          0.0,
          0.0,
          0.0,
          5.0,
          5.0,
          2.5,
          0.0,
          0.0,
          12.5,
          0.0,
          17.5,
          0.0,
          5.0,
          0.0,
          17.5,
          2.5,
          22.5,
          5.0,
          2.5,
          0.0,
          17.5,
          2.5,
          7.5,
          10.0,
          0.0,
          5.0,
          30.0,
          15.0,
          2.5,
          5.0,
          0.0,
          2.5,
          2.5,
          0.0,
          2.5,
          0.0,
          5.0,
          0.0,
          22.5,
          10.0,
          2.5,
          2.5,
          10.0,
          2.5,
          2.5,
          0.0,
          0.0,
          17.5,
          0.0,
          7.5,
          0.0,
          0.0,
          5.0,
          2.5,
          20.0,
          0.0,
          5.0,
          0.0,
          10.0,
          0.0,
          2.5,
          0.0,
          12.5,
          0.0,
          15.0,
          10.0,
          15.0,
          12.5,
          10.0,
          15.0,
          30.0,
          0.0,
          2.5,
          5.0,
          7.5,
          7.5,
          7.5,
          0.0,
          27.500000000000004,
          10.0,
          7.5,
          15.0,
          7.5,
          30.0,
          0.0,
          12.5,
          5.0,
          0.0,
          0.0,
          7.5,
          5.0,
          0.0,
          0.0,
          45.0,
          12.5,
          10.0,
          0.0,
          0.0,
          5.0,
          45.0,
          7.5,
          2.5,
          37.5,
          0.0,
          20.0,
          30.0,
          2.5,
          0.0,
          0.0,
          0.0,
          27.500000000000004,
          0.0,
          0.0,
          0.0,
          2.5,
          0.0,
          0.0,
          0.0,
          22.5,
          45.0,
          15.0,
          10.0,
          0.0,
          0.0,
          12.5,
          2.5,
          0.0,
          12.5,
          0.0,
          27.500000000000004,
          15.0,
          0.0,
          22.5,
          7.5,
          10.0,
          2.5,
          5.0,
          0.0,
          0.0,
          17.5,
          7.5,
          25.0,
          12.5,
          0.0,
          12.5,
          0.0,
          12.5,
          25.0,
          0.0,
          7.5,
          17.5,
          10.0,
          5.0,
          0.0,
          0.0,
          22.5,
          2.5,
          0.0,
          5.0,
          10.0,
          5.0,
          17.5,
          0.0,
          0.0,
          7.5,
          17.5,
          25.0,
          5.0,
          12.5,
          0.0,
          10.0,
          22.5,
          2.5,
          10.0,
          12.5,
          5.0,
          2.5,
          10.0,
          0.0,
          0.0,
          0.0,
          20.909090909090907,
          48.72727272727273,
          17.272727272727273,
          1.2727272727272727,
          5.454545454545454,
          4.909090909090909,
          1.090909090909091,
          4.7272727272727275,
          15.454545454545453,
          50.18181818181818,
          6.0,
          24.90909090909091,
          7.2727272727272725,
          2.909090909090909,
          1.090909090909091,
          26.0,
          17.09090909090909,
          34.909090909090914,
          27.636363636363637,
          26.36363636363636,
          39.81818181818182,
          2.3636363636363638,
          10.727272727272727,
          22.90909090909091,
          5.2727272727272725,
          16.363636363636363,
          14.545454545454545,
          10.0,
          18.181818181818183,
          9.636363636363637,
          3.272727272727273,
          7.2727272727272725,
          24.181818181818183,
          1.8181818181818181,
          26.727272727272727,
          4.545454545454546,
          6.909090909090909,
          27.454545454545453,
          11.272727272727273,
          17.454545454545457,
          52.36363636363637,
          75.45454545454545,
          76.36363636363637,
          82.0,
          74.54545454545455,
          12.0,
          4.363636363636364,
          8.181818181818182,
          7.090909090909091,
          2.0,
          5.636363636363637,
          0.18181818181818182,
          0.18181818181818182,
          9.454545454545455,
          9.454545454545455,
          2.727272727272727,
          16.90909090909091,
          0.9090909090909091,
          11.636363636363637,
          19.636363636363637,
          0.9090909090909091,
          61.09090909090909,
          16.0,
          12.727272727272727,
          53.45454545454545,
          6.909090909090909,
          0.9090909090909091,
          51.63636363636363,
          0.0,
          1.2727272727272727,
          56.18181818181818,
          48.0,
          0.5454545454545455,
          28.545454545454547,
          0.36363636363636365,
          57.81818181818181,
          1.4545454545454546,
          45.09090909090909,
          36.54545454545455,
          31.454545454545457,
          42.72727272727273,
          35.63636363636364,
          65.45454545454545,
          56.54545454545455,
          17.81818181818182,
          63.63636363636363,
          32.72727272727273,
          38.0,
          78.18181818181819,
          10.181818181818182,
          4.0,
          12.363636363636363,
          12.0,
          26.545454545454543,
          32.72727272727273,
          5.2727272727272725,
          0.36363636363636365,
          0.18181818181818182,
          21.272727272727273,
          22.181818181818183,
          10.0,
          16.545454545454547,
          22.545454545454547,
          24.181818181818183,
          14.909090909090908,
          28.909090909090907,
          14.545454545454545,
          5.2727272727272725,
          4.7272727272727275,
          17.454545454545457,
          52.72727272727272,
          3.4545454545454546,
          10.0,
          1.4545454545454546,
          14.181818181818182,
          18.90909090909091,
          2.5454545454545454,
          14.545454545454545,
          1.2727272727272727,
          13.818181818181818,
          11.636363636363637,
          5.636363636363637,
          0.0,
          6.0,
          13.090909090909092,
          2.5454545454545454,
          0.0,
          23.81818181818182,
          2.3636363636363638,
          5.090909090909091,
          24.545454545454547,
          1.090909090909091,
          28.18181818181818,
          7.454545454545454,
          11.090909090909092,
          5.818181818181818,
          3.6363636363636362,
          0.0,
          13.454545454545455,
          5.090909090909091,
          3.8181818181818183,
          0.36363636363636365,
          6.363636363636363,
          1.4545454545454546,
          0.5454545454545455,
          3.8181818181818183,
          4.545454545454546,
          1.6363636363636365,
          6.363636363636363,
          0.0,
          14.545454545454545,
          12.545454545454545,
          4.7272727272727275,
          5.454545454545454,
          9.272727272727273,
          45.81818181818182,
          21.454545454545453,
          4.909090909090909,
          1.8181818181818181,
          20.18181818181818,
          2.909090909090909,
          16.90909090909091,
          20.363636363636363,
          10.363636363636363,
          2.3636363636363638,
          1.2727272727272727,
          28.363636363636363,
          0.0,
          5.818181818181818,
          0.36363636363636365,
          1.4545454545454546,
          0.18181818181818182,
          2.0,
          7.454545454545454,
          7.2727272727272725,
          22.363636363636363,
          7.090909090909091,
          6.7272727272727275,
          7.636363636363637,
          0.36363636363636365,
          9.636363636363637,
          2.3636363636363638,
          11.454545454545455,
          36.72727272727273,
          6.545454545454546,
          2.727272727272727,
          31.636363636363633,
          2.0,
          1.6363636363636365,
          6.181818181818182,
          2.181818181818182,
          11.272727272727273,
          1.4545454545454546,
          8.727272727272728,
          5.090909090909091,
          26.181818181818183,
          2.727272727272727,
          11.818181818181818,
          0.0,
          0.18181818181818182,
          0.9090909090909091,
          2.909090909090909,
          4.181818181818182,
          1.090909090909091,
          2.727272727272727,
          10.545454545454545,
          10.363636363636363,
          1.6363636363636365,
          7.5,
          0.0,
          15.0,
          0.0,
          25.0,
          0.0,
          0.0,
          25.0,
          2.5,
          0.0,
          0.0,
          0.0,
          0.0,
          0.0,
          0.0,
          2.5,
          0.0,
          2.5,
          0.0,
          0.0,
          0.0,
          0.0,
          17.5,
          0.0,
          7.5,
          0.0,
          0.0,
          0.0,
          5.0,
          0.0,
          0.0,
          0.0,
          15.0,
          0.0,
          5.0,
          12.5,
          20.0,
          2.5,
          0.0,
          0.0,
          0.0,
          0.0,
          7.5,
          2.5,
          15.0,
          5.0,
          5.0,
          2.5,
          5.0,
          2.5,
          0.0,
          0.0,
          10.0,
          7.5,
          5.0,
          0.0,
          5.0,
          0.0,
          2.5,
          42.5,
          0.0,
          15.0,
          0.0,
          2.5,
          10.0,
          0.0,
          40.0,
          35.0,
          5.0,
          0.0,
          22.5,
          2.5,
          7.5,
          25.0,
          2.5,
          0.0,
          15.0,
          0.0,
          17.5,
          0.0,
          0.0,
          0.0,
          5.0,
          0.0,
          17.5,
          5.0,
          10.0,
          5.0,
          30.0,
          37.5,
          5.0,
          0.0,
          22.5,
          10.0,
          7.5,
          22.5,
          5.0,
          0.0,
          5.0,
          5.0,
          0.0,
          0.0,
          5.0,
          0.0,
          0.0,
          7.5,
          0.0,
          0.0,
          2.5,
          10.0,
          7.5,
          7.5,
          0.0,
          10.0,
          0.0,
          0.0,
          0.0,
          0.0,
          0.0,
          0.0,
          0.0,
          0.0,
          0.0,
          5.0,
          0.0,
          0.0,
          0.0,
          0.0,
          0.0,
          17.5,
          0.0,
          2.5,
          5.0,
          0.0,
          0.0,
          0.0,
          5.0,
          0.0,
          0.0,
          0.0,
          0.0,
          2.5,
          5.0,
          0.0,
          5.0,
          0.0,
          10.0,
          2.5,
          30.0,
          0.0,
          2.5,
          2.5,
          2.5,
          0.0,
          17.5,
          2.5,
          0.0,
          0.0,
          7.5,
          2.5,
          50.0,
          30.0,
          0.0,
          2.5,
          32.5,
          17.5,
          50.0,
          17.5,
          0.0,
          27.500000000000004,
          52.5,
          2.5,
          20.0,
          32.5,
          10.0,
          47.5,
          42.5,
          5.0,
          10.0,
          0.0,
          0.0,
          15.0,
          5.0,
          15.0,
          0.0,
          2.5,
          20.0,
          7.5,
          0.0,
          5.0,
          15.0,
          0.0,
          5.0,
          22.5,
          7.5,
          30.0,
          10.0,
          25.0,
          0.0,
          0.0,
          12.5,
          17.5,
          15.0,
          0.0,
          2.5,
          2.5,
          0.0,
          0.0,
          12.5,
          12.5,
          7.5,
          5.0,
          0.0,
          10.0,
          5.0,
          32.5,
          0.0,
          2.5,
          2.5,
          30.0,
          0.0,
          2.5,
          7.5,
          15.0,
          2.5,
          10.0,
          0.0,
          10.0,
          0.0,
          0.0,
          17.5,
          0.0,
          30.0,
          7.5,
          57.49999999999999,
          25.0,
          25.0,
          7.5,
          35.0,
          0.0,
          22.5,
          7.5,
          0.0,
          0.0,
          0.0,
          15.0,
          0.0,
          2.5,
          15.0,
          0.0,
          42.5,
          0.0,
          7.5,
          15.0,
          7.5,
          55.00000000000001,
          12.5,
          17.5,
          0.0,
          0.0,
          0.0,
          2.5,
          2.5,
          0.0,
          20.0,
          10.0,
          10.0,
          80.0,
          20.0,
          5.0,
          2.5,
          70.0,
          40.0,
          35.0,
          2.5,
          2.5,
          32.5,
          0.0,
          27.500000000000004,
          27.500000000000004,
          17.5,
          32.5,
          12.5,
          0.0,
          0.0,
          0.0,
          2.5,
          7.5,
          7.5,
          5.0,
          7.5,
          0.0,
          10.0,
          32.5,
          0.0,
          10.0,
          0.0,
          15.0,
          12.5,
          7.5,
          7.5,
          35.0,
          20.0,
          30.0,
          35.0,
          0.0,
          42.5,
          0.0,
          10.0,
          17.5,
          7.5,
          25.0,
          5.0,
          30.0,
          0.0,
          0.0,
          0.0,
          7.5,
          2.5,
          10.0,
          10.0,
          22.5,
          0.0,
          5.0,
          0.0,
          45.0,
          10.0,
          5.0,
          17.5,
          0.0,
          0.0,
          25.0,
          2.5,
          0.0,
          0.0,
          0.0,
          0.0,
          12.5,
          5.0,
          20.0,
          0.0,
          0.0,
          27.500000000000004,
          12.5,
          0.0,
          0.0,
          27.500000000000004,
          2.5,
          12.5,
          7.5,
          0.0,
          47.5,
          5.0,
          7.5,
          0.0,
          0.0,
          10.0,
          5.0,
          40.0,
          0.0,
          7.5,
          42.5,
          0.0,
          2.5,
          32.5,
          10.0,
          32.5,
          5.0,
          25.0,
          12.5,
          30.0,
          2.5,
          15.0,
          7.5,
          10.0,
          32.5,
          12.5,
          12.5,
          0.0,
          0.0,
          27.500000000000004,
          2.5,
          12.5,
          30.0,
          2.5,
          7.5,
          2.5,
          12.5,
          10.0,
          17.5,
          35.0,
          12.5,
          12.5,
          2.5,
          7.5,
          27.500000000000004,
          27.500000000000004,
          10.0,
          25.0,
          0.0,
          12.5,
          35.0,
          0.0,
          5.0,
          0.0,
          32.5,
          7.5,
          30.0,
          2.5,
          5.0,
          37.5,
          37.5,
          20.0,
          5.0,
          15.0,
          17.5,
          0.0,
          0.0,
          2.5,
          0.0,
          10.0,
          0.0,
          20.0,
          27.500000000000004,
          15.0,
          12.5,
          20.0,
          5.0,
          7.5,
          40.0,
          0.0,
          35.0,
          2.5,
          12.5,
          20.0,
          5.0,
          17.5,
          20.0,
          17.5,
          2.5,
          12.5,
          0.0,
          10.0,
          7.5,
          22.5,
          47.5,
          15.0,
          0.0,
          0.0,
          10.0,
          27.500000000000004,
          0.0,
          0.0,
          5.0,
          0.0,
          2.5,
          0.0,
          30.0,
          17.5,
          15.0,
          15.0,
          7.5,
          0.0,
          0.0,
          10.0,
          5.0,
          2.5,
          20.0,
          7.5,
          10.0,
          12.5,
          7.5,
          20.0
         ],
         "xaxis": "x",
         "yaxis": "y"
        }
       ],
       "layout": {
        "barmode": "relative",
        "legend": {
         "tracegroupgap": 0
        },
        "margin": {
         "t": 60
        },
        "template": {
         "data": {
          "bar": [
           {
            "error_x": {
             "color": "#2a3f5f"
            },
            "error_y": {
             "color": "#2a3f5f"
            },
            "marker": {
             "line": {
              "color": "#E5ECF6",
              "width": 0.5
             },
             "pattern": {
              "fillmode": "overlay",
              "size": 10,
              "solidity": 0.2
             }
            },
            "type": "bar"
           }
          ],
          "barpolar": [
           {
            "marker": {
             "line": {
              "color": "#E5ECF6",
              "width": 0.5
             },
             "pattern": {
              "fillmode": "overlay",
              "size": 10,
              "solidity": 0.2
             }
            },
            "type": "barpolar"
           }
          ],
          "carpet": [
           {
            "aaxis": {
             "endlinecolor": "#2a3f5f",
             "gridcolor": "white",
             "linecolor": "white",
             "minorgridcolor": "white",
             "startlinecolor": "#2a3f5f"
            },
            "baxis": {
             "endlinecolor": "#2a3f5f",
             "gridcolor": "white",
             "linecolor": "white",
             "minorgridcolor": "white",
             "startlinecolor": "#2a3f5f"
            },
            "type": "carpet"
           }
          ],
          "choropleth": [
           {
            "colorbar": {
             "outlinewidth": 0,
             "ticks": ""
            },
            "type": "choropleth"
           }
          ],
          "contour": [
           {
            "colorbar": {
             "outlinewidth": 0,
             "ticks": ""
            },
            "colorscale": [
             [
              0.0,
              "#0d0887"
             ],
             [
              0.1111111111111111,
              "#46039f"
             ],
             [
              0.2222222222222222,
              "#7201a8"
             ],
             [
              0.3333333333333333,
              "#9c179e"
             ],
             [
              0.4444444444444444,
              "#bd3786"
             ],
             [
              0.5555555555555556,
              "#d8576b"
             ],
             [
              0.6666666666666666,
              "#ed7953"
             ],
             [
              0.7777777777777778,
              "#fb9f3a"
             ],
             [
              0.8888888888888888,
              "#fdca26"
             ],
             [
              1.0,
              "#f0f921"
             ]
            ],
            "type": "contour"
           }
          ],
          "contourcarpet": [
           {
            "colorbar": {
             "outlinewidth": 0,
             "ticks": ""
            },
            "type": "contourcarpet"
           }
          ],
          "heatmap": [
           {
            "colorbar": {
             "outlinewidth": 0,
             "ticks": ""
            },
            "colorscale": [
             [
              0.0,
              "#0d0887"
             ],
             [
              0.1111111111111111,
              "#46039f"
             ],
             [
              0.2222222222222222,
              "#7201a8"
             ],
             [
              0.3333333333333333,
              "#9c179e"
             ],
             [
              0.4444444444444444,
              "#bd3786"
             ],
             [
              0.5555555555555556,
              "#d8576b"
             ],
             [
              0.6666666666666666,
              "#ed7953"
             ],
             [
              0.7777777777777778,
              "#fb9f3a"
             ],
             [
              0.8888888888888888,
              "#fdca26"
             ],
             [
              1.0,
              "#f0f921"
             ]
            ],
            "type": "heatmap"
           }
          ],
          "heatmapgl": [
           {
            "colorbar": {
             "outlinewidth": 0,
             "ticks": ""
            },
            "colorscale": [
             [
              0.0,
              "#0d0887"
             ],
             [
              0.1111111111111111,
              "#46039f"
             ],
             [
              0.2222222222222222,
              "#7201a8"
             ],
             [
              0.3333333333333333,
              "#9c179e"
             ],
             [
              0.4444444444444444,
              "#bd3786"
             ],
             [
              0.5555555555555556,
              "#d8576b"
             ],
             [
              0.6666666666666666,
              "#ed7953"
             ],
             [
              0.7777777777777778,
              "#fb9f3a"
             ],
             [
              0.8888888888888888,
              "#fdca26"
             ],
             [
              1.0,
              "#f0f921"
             ]
            ],
            "type": "heatmapgl"
           }
          ],
          "histogram": [
           {
            "marker": {
             "pattern": {
              "fillmode": "overlay",
              "size": 10,
              "solidity": 0.2
             }
            },
            "type": "histogram"
           }
          ],
          "histogram2d": [
           {
            "colorbar": {
             "outlinewidth": 0,
             "ticks": ""
            },
            "colorscale": [
             [
              0.0,
              "#0d0887"
             ],
             [
              0.1111111111111111,
              "#46039f"
             ],
             [
              0.2222222222222222,
              "#7201a8"
             ],
             [
              0.3333333333333333,
              "#9c179e"
             ],
             [
              0.4444444444444444,
              "#bd3786"
             ],
             [
              0.5555555555555556,
              "#d8576b"
             ],
             [
              0.6666666666666666,
              "#ed7953"
             ],
             [
              0.7777777777777778,
              "#fb9f3a"
             ],
             [
              0.8888888888888888,
              "#fdca26"
             ],
             [
              1.0,
              "#f0f921"
             ]
            ],
            "type": "histogram2d"
           }
          ],
          "histogram2dcontour": [
           {
            "colorbar": {
             "outlinewidth": 0,
             "ticks": ""
            },
            "colorscale": [
             [
              0.0,
              "#0d0887"
             ],
             [
              0.1111111111111111,
              "#46039f"
             ],
             [
              0.2222222222222222,
              "#7201a8"
             ],
             [
              0.3333333333333333,
              "#9c179e"
             ],
             [
              0.4444444444444444,
              "#bd3786"
             ],
             [
              0.5555555555555556,
              "#d8576b"
             ],
             [
              0.6666666666666666,
              "#ed7953"
             ],
             [
              0.7777777777777778,
              "#fb9f3a"
             ],
             [
              0.8888888888888888,
              "#fdca26"
             ],
             [
              1.0,
              "#f0f921"
             ]
            ],
            "type": "histogram2dcontour"
           }
          ],
          "mesh3d": [
           {
            "colorbar": {
             "outlinewidth": 0,
             "ticks": ""
            },
            "type": "mesh3d"
           }
          ],
          "parcoords": [
           {
            "line": {
             "colorbar": {
              "outlinewidth": 0,
              "ticks": ""
             }
            },
            "type": "parcoords"
           }
          ],
          "pie": [
           {
            "automargin": true,
            "type": "pie"
           }
          ],
          "scatter": [
           {
            "marker": {
             "colorbar": {
              "outlinewidth": 0,
              "ticks": ""
             }
            },
            "type": "scatter"
           }
          ],
          "scatter3d": [
           {
            "line": {
             "colorbar": {
              "outlinewidth": 0,
              "ticks": ""
             }
            },
            "marker": {
             "colorbar": {
              "outlinewidth": 0,
              "ticks": ""
             }
            },
            "type": "scatter3d"
           }
          ],
          "scattercarpet": [
           {
            "marker": {
             "colorbar": {
              "outlinewidth": 0,
              "ticks": ""
             }
            },
            "type": "scattercarpet"
           }
          ],
          "scattergeo": [
           {
            "marker": {
             "colorbar": {
              "outlinewidth": 0,
              "ticks": ""
             }
            },
            "type": "scattergeo"
           }
          ],
          "scattergl": [
           {
            "marker": {
             "colorbar": {
              "outlinewidth": 0,
              "ticks": ""
             }
            },
            "type": "scattergl"
           }
          ],
          "scattermapbox": [
           {
            "marker": {
             "colorbar": {
              "outlinewidth": 0,
              "ticks": ""
             }
            },
            "type": "scattermapbox"
           }
          ],
          "scatterpolar": [
           {
            "marker": {
             "colorbar": {
              "outlinewidth": 0,
              "ticks": ""
             }
            },
            "type": "scatterpolar"
           }
          ],
          "scatterpolargl": [
           {
            "marker": {
             "colorbar": {
              "outlinewidth": 0,
              "ticks": ""
             }
            },
            "type": "scatterpolargl"
           }
          ],
          "scatterternary": [
           {
            "marker": {
             "colorbar": {
              "outlinewidth": 0,
              "ticks": ""
             }
            },
            "type": "scatterternary"
           }
          ],
          "surface": [
           {
            "colorbar": {
             "outlinewidth": 0,
             "ticks": ""
            },
            "colorscale": [
             [
              0.0,
              "#0d0887"
             ],
             [
              0.1111111111111111,
              "#46039f"
             ],
             [
              0.2222222222222222,
              "#7201a8"
             ],
             [
              0.3333333333333333,
              "#9c179e"
             ],
             [
              0.4444444444444444,
              "#bd3786"
             ],
             [
              0.5555555555555556,
              "#d8576b"
             ],
             [
              0.6666666666666666,
              "#ed7953"
             ],
             [
              0.7777777777777778,
              "#fb9f3a"
             ],
             [
              0.8888888888888888,
              "#fdca26"
             ],
             [
              1.0,
              "#f0f921"
             ]
            ],
            "type": "surface"
           }
          ],
          "table": [
           {
            "cells": {
             "fill": {
              "color": "#EBF0F8"
             },
             "line": {
              "color": "white"
             }
            },
            "header": {
             "fill": {
              "color": "#C8D4E3"
             },
             "line": {
              "color": "white"
             }
            },
            "type": "table"
           }
          ]
         },
         "layout": {
          "annotationdefaults": {
           "arrowcolor": "#2a3f5f",
           "arrowhead": 0,
           "arrowwidth": 1
          },
          "autotypenumbers": "strict",
          "coloraxis": {
           "colorbar": {
            "outlinewidth": 0,
            "ticks": ""
           }
          },
          "colorscale": {
           "diverging": [
            [
             0,
             "#8e0152"
            ],
            [
             0.1,
             "#c51b7d"
            ],
            [
             0.2,
             "#de77ae"
            ],
            [
             0.3,
             "#f1b6da"
            ],
            [
             0.4,
             "#fde0ef"
            ],
            [
             0.5,
             "#f7f7f7"
            ],
            [
             0.6,
             "#e6f5d0"
            ],
            [
             0.7,
             "#b8e186"
            ],
            [
             0.8,
             "#7fbc41"
            ],
            [
             0.9,
             "#4d9221"
            ],
            [
             1,
             "#276419"
            ]
           ],
           "sequential": [
            [
             0.0,
             "#0d0887"
            ],
            [
             0.1111111111111111,
             "#46039f"
            ],
            [
             0.2222222222222222,
             "#7201a8"
            ],
            [
             0.3333333333333333,
             "#9c179e"
            ],
            [
             0.4444444444444444,
             "#bd3786"
            ],
            [
             0.5555555555555556,
             "#d8576b"
            ],
            [
             0.6666666666666666,
             "#ed7953"
            ],
            [
             0.7777777777777778,
             "#fb9f3a"
            ],
            [
             0.8888888888888888,
             "#fdca26"
            ],
            [
             1.0,
             "#f0f921"
            ]
           ],
           "sequentialminus": [
            [
             0.0,
             "#0d0887"
            ],
            [
             0.1111111111111111,
             "#46039f"
            ],
            [
             0.2222222222222222,
             "#7201a8"
            ],
            [
             0.3333333333333333,
             "#9c179e"
            ],
            [
             0.4444444444444444,
             "#bd3786"
            ],
            [
             0.5555555555555556,
             "#d8576b"
            ],
            [
             0.6666666666666666,
             "#ed7953"
            ],
            [
             0.7777777777777778,
             "#fb9f3a"
            ],
            [
             0.8888888888888888,
             "#fdca26"
            ],
            [
             1.0,
             "#f0f921"
            ]
           ]
          },
          "colorway": [
           "#636efa",
           "#EF553B",
           "#00cc96",
           "#ab63fa",
           "#FFA15A",
           "#19d3f3",
           "#FF6692",
           "#B6E880",
           "#FF97FF",
           "#FECB52"
          ],
          "font": {
           "color": "#2a3f5f"
          },
          "geo": {
           "bgcolor": "white",
           "lakecolor": "white",
           "landcolor": "#E5ECF6",
           "showlakes": true,
           "showland": true,
           "subunitcolor": "white"
          },
          "hoverlabel": {
           "align": "left"
          },
          "hovermode": "closest",
          "mapbox": {
           "style": "light"
          },
          "paper_bgcolor": "white",
          "plot_bgcolor": "#E5ECF6",
          "polar": {
           "angularaxis": {
            "gridcolor": "white",
            "linecolor": "white",
            "ticks": ""
           },
           "bgcolor": "#E5ECF6",
           "radialaxis": {
            "gridcolor": "white",
            "linecolor": "white",
            "ticks": ""
           }
          },
          "scene": {
           "xaxis": {
            "backgroundcolor": "#E5ECF6",
            "gridcolor": "white",
            "gridwidth": 2,
            "linecolor": "white",
            "showbackground": true,
            "ticks": "",
            "zerolinecolor": "white"
           },
           "yaxis": {
            "backgroundcolor": "#E5ECF6",
            "gridcolor": "white",
            "gridwidth": 2,
            "linecolor": "white",
            "showbackground": true,
            "ticks": "",
            "zerolinecolor": "white"
           },
           "zaxis": {
            "backgroundcolor": "#E5ECF6",
            "gridcolor": "white",
            "gridwidth": 2,
            "linecolor": "white",
            "showbackground": true,
            "ticks": "",
            "zerolinecolor": "white"
           }
          },
          "shapedefaults": {
           "line": {
            "color": "#2a3f5f"
           }
          },
          "ternary": {
           "aaxis": {
            "gridcolor": "white",
            "linecolor": "white",
            "ticks": ""
           },
           "baxis": {
            "gridcolor": "white",
            "linecolor": "white",
            "ticks": ""
           },
           "bgcolor": "#E5ECF6",
           "caxis": {
            "gridcolor": "white",
            "linecolor": "white",
            "ticks": ""
           }
          },
          "title": {
           "x": 0.05
          },
          "xaxis": {
           "automargin": true,
           "gridcolor": "white",
           "linecolor": "white",
           "ticks": "",
           "title": {
            "standoff": 15
           },
           "zerolinecolor": "white",
           "zerolinewidth": 2
          },
          "yaxis": {
           "automargin": true,
           "gridcolor": "white",
           "linecolor": "white",
           "ticks": "",
           "title": {
            "standoff": 15
           },
           "zerolinecolor": "white",
           "zerolinewidth": 2
          }
         }
        },
        "xaxis": {
         "anchor": "y",
         "domain": [
          0.0,
          1.0
         ],
         "title": {
          "text": "integral (d'*ms)"
         }
        },
        "yaxis": {
         "anchor": "x",
         "domain": [
          0.0,
          1.0
         ],
         "title": {
          "text": "percent"
         }
        }
       }
      },
      "text/html": "<div>                            <div id=\"1851f11a-9afa-44aa-896c-fef99449da32\" class=\"plotly-graph-div\" style=\"height:525px; width:100%;\"></div>            <script type=\"text/javascript\">                require([\"plotly\"], function(Plotly) {                    window.PLOTLYENV=window.PLOTLYENV || {};                                    if (document.getElementById(\"1851f11a-9afa-44aa-896c-fef99449da32\")) {                    Plotly.newPlot(                        \"1851f11a-9afa-44aa-896c-fef99449da32\",                        [{\"alignmentgroup\":\"True\",\"bingroup\":\"x\",\"histnorm\":\"percent\",\"hovertemplate\":\"integral (d'*ms)=%{x}<br>percent=%{y}<extra></extra>\",\"legendgroup\":\"\",\"marker\":{\"color\":\"#636efa\",\"pattern\":{\"shape\":\"\"}},\"name\":\"\",\"offsetgroup\":\"\",\"orientation\":\"v\",\"showlegend\":false,\"type\":\"histogram\",\"x\":[2.5,0.0,0.0,2.5,0.0,2.5,17.5,0.0,27.500000000000004,17.5,7.5,0.0,0.0,0.0,0.0,12.5,7.5,0.0,27.500000000000004,7.5,0.0,7.5,0.0,15.0,37.5,0.0,0.0,7.5,2.5,0.0,0.0,5.0,7.5,17.5,7.5,10.0,15.0,2.5,2.5,27.500000000000004,0.0,0.0,12.5,0.0,0.0,25.0,17.5,15.0,0.0,0.0,2.5,2.5,5.0,0.0,30.0,0.0,2.5,0.0,0.0,0.0,0.0,2.5,2.5,17.5,2.5,0.0,5.0,15.0,0.0,7.5,0.0,0.0,5.0,0.0,2.5,7.5,2.5,47.5,17.5,2.5,5.0,7.5,35.0,0.0,17.5,45.0,32.5,32.5,2.5,7.5,5.0,7.5,20.0,0.0,2.5,15.0,5.0,0.0,2.5,42.5,0.0,25.0,2.5,0.0,0.0,7.5,35.0,2.5,0.0,7.5,2.5,15.0,0.0,25.0,10.0,0.0,47.5,7.5,40.0,0.0,15.0,37.5,0.0,2.5,32.5,42.5,12.5,0.0,30.0,17.5,12.5,20.0,0.0,0.0,10.0,5.0,50.0,45.0,2.5,32.5,45.0,10.0,7.5,25.0,40.0,27.500000000000004,0.0,0.0,25.0,2.5,0.0,10.0,0.0,12.5,12.5,0.0,15.0,0.0,0.0,12.5,2.5,15.0,2.5,22.5,0.0,5.0,35.0,0.0,0.0,0.0,7.5,7.5,17.5,22.5,10.0,20.0,10.0,0.0,0.0,10.0,7.5,35.0,0.0,0.0,7.5,17.5,0.0,17.5,0.0,42.5,15.0,0.0,7.5,5.0,5.0,0.0,22.5,17.5,12.5,0.0,0.0,2.5,0.0,0.0,12.5,5.0,2.5,0.0,0.0,0.0,5.0,5.0,2.5,0.0,0.0,12.5,0.0,17.5,0.0,5.0,0.0,17.5,2.5,22.5,5.0,2.5,0.0,17.5,2.5,7.5,10.0,0.0,5.0,30.0,15.0,2.5,5.0,0.0,2.5,2.5,0.0,2.5,0.0,5.0,0.0,22.5,10.0,2.5,2.5,10.0,2.5,2.5,0.0,0.0,17.5,0.0,7.5,0.0,0.0,5.0,2.5,20.0,0.0,5.0,0.0,10.0,0.0,2.5,0.0,12.5,0.0,15.0,10.0,15.0,12.5,10.0,15.0,30.0,0.0,2.5,5.0,7.5,7.5,7.5,0.0,27.500000000000004,10.0,7.5,15.0,7.5,30.0,0.0,12.5,5.0,0.0,0.0,7.5,5.0,0.0,0.0,45.0,12.5,10.0,0.0,0.0,5.0,45.0,7.5,2.5,37.5,0.0,20.0,30.0,2.5,0.0,0.0,0.0,27.500000000000004,0.0,0.0,0.0,2.5,0.0,0.0,0.0,22.5,45.0,15.0,10.0,0.0,0.0,12.5,2.5,0.0,12.5,0.0,27.500000000000004,15.0,0.0,22.5,7.5,10.0,2.5,5.0,0.0,0.0,17.5,7.5,25.0,12.5,0.0,12.5,0.0,12.5,25.0,0.0,7.5,17.5,10.0,5.0,0.0,0.0,22.5,2.5,0.0,5.0,10.0,5.0,17.5,0.0,0.0,7.5,17.5,25.0,5.0,12.5,0.0,10.0,22.5,2.5,10.0,12.5,5.0,2.5,10.0,0.0,0.0,0.0,20.909090909090907,48.72727272727273,17.272727272727273,1.2727272727272727,5.454545454545454,4.909090909090909,1.090909090909091,4.7272727272727275,15.454545454545453,50.18181818181818,6.0,24.90909090909091,7.2727272727272725,2.909090909090909,1.090909090909091,26.0,17.09090909090909,34.909090909090914,27.636363636363637,26.36363636363636,39.81818181818182,2.3636363636363638,10.727272727272727,22.90909090909091,5.2727272727272725,16.363636363636363,14.545454545454545,10.0,18.181818181818183,9.636363636363637,3.272727272727273,7.2727272727272725,24.181818181818183,1.8181818181818181,26.727272727272727,4.545454545454546,6.909090909090909,27.454545454545453,11.272727272727273,17.454545454545457,52.36363636363637,75.45454545454545,76.36363636363637,82.0,74.54545454545455,12.0,4.363636363636364,8.181818181818182,7.090909090909091,2.0,5.636363636363637,0.18181818181818182,0.18181818181818182,9.454545454545455,9.454545454545455,2.727272727272727,16.90909090909091,0.9090909090909091,11.636363636363637,19.636363636363637,0.9090909090909091,61.09090909090909,16.0,12.727272727272727,53.45454545454545,6.909090909090909,0.9090909090909091,51.63636363636363,0.0,1.2727272727272727,56.18181818181818,48.0,0.5454545454545455,28.545454545454547,0.36363636363636365,57.81818181818181,1.4545454545454546,45.09090909090909,36.54545454545455,31.454545454545457,42.72727272727273,35.63636363636364,65.45454545454545,56.54545454545455,17.81818181818182,63.63636363636363,32.72727272727273,38.0,78.18181818181819,10.181818181818182,4.0,12.363636363636363,12.0,26.545454545454543,32.72727272727273,5.2727272727272725,0.36363636363636365,0.18181818181818182,21.272727272727273,22.181818181818183,10.0,16.545454545454547,22.545454545454547,24.181818181818183,14.909090909090908,28.909090909090907,14.545454545454545,5.2727272727272725,4.7272727272727275,17.454545454545457,52.72727272727272,3.4545454545454546,10.0,1.4545454545454546,14.181818181818182,18.90909090909091,2.5454545454545454,14.545454545454545,1.2727272727272727,13.818181818181818,11.636363636363637,5.636363636363637,0.0,6.0,13.090909090909092,2.5454545454545454,0.0,23.81818181818182,2.3636363636363638,5.090909090909091,24.545454545454547,1.090909090909091,28.18181818181818,7.454545454545454,11.090909090909092,5.818181818181818,3.6363636363636362,0.0,13.454545454545455,5.090909090909091,3.8181818181818183,0.36363636363636365,6.363636363636363,1.4545454545454546,0.5454545454545455,3.8181818181818183,4.545454545454546,1.6363636363636365,6.363636363636363,0.0,14.545454545454545,12.545454545454545,4.7272727272727275,5.454545454545454,9.272727272727273,45.81818181818182,21.454545454545453,4.909090909090909,1.8181818181818181,20.18181818181818,2.909090909090909,16.90909090909091,20.363636363636363,10.363636363636363,2.3636363636363638,1.2727272727272727,28.363636363636363,0.0,5.818181818181818,0.36363636363636365,1.4545454545454546,0.18181818181818182,2.0,7.454545454545454,7.2727272727272725,22.363636363636363,7.090909090909091,6.7272727272727275,7.636363636363637,0.36363636363636365,9.636363636363637,2.3636363636363638,11.454545454545455,36.72727272727273,6.545454545454546,2.727272727272727,31.636363636363633,2.0,1.6363636363636365,6.181818181818182,2.181818181818182,11.272727272727273,1.4545454545454546,8.727272727272728,5.090909090909091,26.181818181818183,2.727272727272727,11.818181818181818,0.0,0.18181818181818182,0.9090909090909091,2.909090909090909,4.181818181818182,1.090909090909091,2.727272727272727,10.545454545454545,10.363636363636363,1.6363636363636365,7.5,0.0,15.0,0.0,25.0,0.0,0.0,25.0,2.5,0.0,0.0,0.0,0.0,0.0,0.0,2.5,0.0,2.5,0.0,0.0,0.0,0.0,17.5,0.0,7.5,0.0,0.0,0.0,5.0,0.0,0.0,0.0,15.0,0.0,5.0,12.5,20.0,2.5,0.0,0.0,0.0,0.0,7.5,2.5,15.0,5.0,5.0,2.5,5.0,2.5,0.0,0.0,10.0,7.5,5.0,0.0,5.0,0.0,2.5,42.5,0.0,15.0,0.0,2.5,10.0,0.0,40.0,35.0,5.0,0.0,22.5,2.5,7.5,25.0,2.5,0.0,15.0,0.0,17.5,0.0,0.0,0.0,5.0,0.0,17.5,5.0,10.0,5.0,30.0,37.5,5.0,0.0,22.5,10.0,7.5,22.5,5.0,0.0,5.0,5.0,0.0,0.0,5.0,0.0,0.0,7.5,0.0,0.0,2.5,10.0,7.5,7.5,0.0,10.0,0.0,0.0,0.0,0.0,0.0,0.0,0.0,0.0,0.0,5.0,0.0,0.0,0.0,0.0,0.0,17.5,0.0,2.5,5.0,0.0,0.0,0.0,5.0,0.0,0.0,0.0,0.0,2.5,5.0,0.0,5.0,0.0,10.0,2.5,30.0,0.0,2.5,2.5,2.5,0.0,17.5,2.5,0.0,0.0,7.5,2.5,50.0,30.0,0.0,2.5,32.5,17.5,50.0,17.5,0.0,27.500000000000004,52.5,2.5,20.0,32.5,10.0,47.5,42.5,5.0,10.0,0.0,0.0,15.0,5.0,15.0,0.0,2.5,20.0,7.5,0.0,5.0,15.0,0.0,5.0,22.5,7.5,30.0,10.0,25.0,0.0,0.0,12.5,17.5,15.0,0.0,2.5,2.5,0.0,0.0,12.5,12.5,7.5,5.0,0.0,10.0,5.0,32.5,0.0,2.5,2.5,30.0,0.0,2.5,7.5,15.0,2.5,10.0,0.0,10.0,0.0,0.0,17.5,0.0,30.0,7.5,57.49999999999999,25.0,25.0,7.5,35.0,0.0,22.5,7.5,0.0,0.0,0.0,15.0,0.0,2.5,15.0,0.0,42.5,0.0,7.5,15.0,7.5,55.00000000000001,12.5,17.5,0.0,0.0,0.0,2.5,2.5,0.0,20.0,10.0,10.0,80.0,20.0,5.0,2.5,70.0,40.0,35.0,2.5,2.5,32.5,0.0,27.500000000000004,27.500000000000004,17.5,32.5,12.5,0.0,0.0,0.0,2.5,7.5,7.5,5.0,7.5,0.0,10.0,32.5,0.0,10.0,0.0,15.0,12.5,7.5,7.5,35.0,20.0,30.0,35.0,0.0,42.5,0.0,10.0,17.5,7.5,25.0,5.0,30.0,0.0,0.0,0.0,7.5,2.5,10.0,10.0,22.5,0.0,5.0,0.0,45.0,10.0,5.0,17.5,0.0,0.0,25.0,2.5,0.0,0.0,0.0,0.0,12.5,5.0,20.0,0.0,0.0,27.500000000000004,12.5,0.0,0.0,27.500000000000004,2.5,12.5,7.5,0.0,47.5,5.0,7.5,0.0,0.0,10.0,5.0,40.0,0.0,7.5,42.5,0.0,2.5,32.5,10.0,32.5,5.0,25.0,12.5,30.0,2.5,15.0,7.5,10.0,32.5,12.5,12.5,0.0,0.0,27.500000000000004,2.5,12.5,30.0,2.5,7.5,2.5,12.5,10.0,17.5,35.0,12.5,12.5,2.5,7.5,27.500000000000004,27.500000000000004,10.0,25.0,0.0,12.5,35.0,0.0,5.0,0.0,32.5,7.5,30.0,2.5,5.0,37.5,37.5,20.0,5.0,15.0,17.5,0.0,0.0,2.5,0.0,10.0,0.0,20.0,27.500000000000004,15.0,12.5,20.0,5.0,7.5,40.0,0.0,35.0,2.5,12.5,20.0,5.0,17.5,20.0,17.5,2.5,12.5,0.0,10.0,7.5,22.5,47.5,15.0,0.0,0.0,10.0,27.500000000000004,0.0,0.0,5.0,0.0,2.5,0.0,30.0,17.5,15.0,15.0,7.5,0.0,0.0,10.0,5.0,2.5,20.0,7.5,10.0,12.5,7.5,20.0],\"xaxis\":\"x\",\"yaxis\":\"y\"}],                        {\"barmode\":\"relative\",\"legend\":{\"tracegroupgap\":0},\"margin\":{\"t\":60},\"template\":{\"data\":{\"bar\":[{\"error_x\":{\"color\":\"#2a3f5f\"},\"error_y\":{\"color\":\"#2a3f5f\"},\"marker\":{\"line\":{\"color\":\"#E5ECF6\",\"width\":0.5},\"pattern\":{\"fillmode\":\"overlay\",\"size\":10,\"solidity\":0.2}},\"type\":\"bar\"}],\"barpolar\":[{\"marker\":{\"line\":{\"color\":\"#E5ECF6\",\"width\":0.5},\"pattern\":{\"fillmode\":\"overlay\",\"size\":10,\"solidity\":0.2}},\"type\":\"barpolar\"}],\"carpet\":[{\"aaxis\":{\"endlinecolor\":\"#2a3f5f\",\"gridcolor\":\"white\",\"linecolor\":\"white\",\"minorgridcolor\":\"white\",\"startlinecolor\":\"#2a3f5f\"},\"baxis\":{\"endlinecolor\":\"#2a3f5f\",\"gridcolor\":\"white\",\"linecolor\":\"white\",\"minorgridcolor\":\"white\",\"startlinecolor\":\"#2a3f5f\"},\"type\":\"carpet\"}],\"choropleth\":[{\"colorbar\":{\"outlinewidth\":0,\"ticks\":\"\"},\"type\":\"choropleth\"}],\"contour\":[{\"colorbar\":{\"outlinewidth\":0,\"ticks\":\"\"},\"colorscale\":[[0.0,\"#0d0887\"],[0.1111111111111111,\"#46039f\"],[0.2222222222222222,\"#7201a8\"],[0.3333333333333333,\"#9c179e\"],[0.4444444444444444,\"#bd3786\"],[0.5555555555555556,\"#d8576b\"],[0.6666666666666666,\"#ed7953\"],[0.7777777777777778,\"#fb9f3a\"],[0.8888888888888888,\"#fdca26\"],[1.0,\"#f0f921\"]],\"type\":\"contour\"}],\"contourcarpet\":[{\"colorbar\":{\"outlinewidth\":0,\"ticks\":\"\"},\"type\":\"contourcarpet\"}],\"heatmap\":[{\"colorbar\":{\"outlinewidth\":0,\"ticks\":\"\"},\"colorscale\":[[0.0,\"#0d0887\"],[0.1111111111111111,\"#46039f\"],[0.2222222222222222,\"#7201a8\"],[0.3333333333333333,\"#9c179e\"],[0.4444444444444444,\"#bd3786\"],[0.5555555555555556,\"#d8576b\"],[0.6666666666666666,\"#ed7953\"],[0.7777777777777778,\"#fb9f3a\"],[0.8888888888888888,\"#fdca26\"],[1.0,\"#f0f921\"]],\"type\":\"heatmap\"}],\"heatmapgl\":[{\"colorbar\":{\"outlinewidth\":0,\"ticks\":\"\"},\"colorscale\":[[0.0,\"#0d0887\"],[0.1111111111111111,\"#46039f\"],[0.2222222222222222,\"#7201a8\"],[0.3333333333333333,\"#9c179e\"],[0.4444444444444444,\"#bd3786\"],[0.5555555555555556,\"#d8576b\"],[0.6666666666666666,\"#ed7953\"],[0.7777777777777778,\"#fb9f3a\"],[0.8888888888888888,\"#fdca26\"],[1.0,\"#f0f921\"]],\"type\":\"heatmapgl\"}],\"histogram\":[{\"marker\":{\"pattern\":{\"fillmode\":\"overlay\",\"size\":10,\"solidity\":0.2}},\"type\":\"histogram\"}],\"histogram2d\":[{\"colorbar\":{\"outlinewidth\":0,\"ticks\":\"\"},\"colorscale\":[[0.0,\"#0d0887\"],[0.1111111111111111,\"#46039f\"],[0.2222222222222222,\"#7201a8\"],[0.3333333333333333,\"#9c179e\"],[0.4444444444444444,\"#bd3786\"],[0.5555555555555556,\"#d8576b\"],[0.6666666666666666,\"#ed7953\"],[0.7777777777777778,\"#fb9f3a\"],[0.8888888888888888,\"#fdca26\"],[1.0,\"#f0f921\"]],\"type\":\"histogram2d\"}],\"histogram2dcontour\":[{\"colorbar\":{\"outlinewidth\":0,\"ticks\":\"\"},\"colorscale\":[[0.0,\"#0d0887\"],[0.1111111111111111,\"#46039f\"],[0.2222222222222222,\"#7201a8\"],[0.3333333333333333,\"#9c179e\"],[0.4444444444444444,\"#bd3786\"],[0.5555555555555556,\"#d8576b\"],[0.6666666666666666,\"#ed7953\"],[0.7777777777777778,\"#fb9f3a\"],[0.8888888888888888,\"#fdca26\"],[1.0,\"#f0f921\"]],\"type\":\"histogram2dcontour\"}],\"mesh3d\":[{\"colorbar\":{\"outlinewidth\":0,\"ticks\":\"\"},\"type\":\"mesh3d\"}],\"parcoords\":[{\"line\":{\"colorbar\":{\"outlinewidth\":0,\"ticks\":\"\"}},\"type\":\"parcoords\"}],\"pie\":[{\"automargin\":true,\"type\":\"pie\"}],\"scatter\":[{\"marker\":{\"colorbar\":{\"outlinewidth\":0,\"ticks\":\"\"}},\"type\":\"scatter\"}],\"scatter3d\":[{\"line\":{\"colorbar\":{\"outlinewidth\":0,\"ticks\":\"\"}},\"marker\":{\"colorbar\":{\"outlinewidth\":0,\"ticks\":\"\"}},\"type\":\"scatter3d\"}],\"scattercarpet\":[{\"marker\":{\"colorbar\":{\"outlinewidth\":0,\"ticks\":\"\"}},\"type\":\"scattercarpet\"}],\"scattergeo\":[{\"marker\":{\"colorbar\":{\"outlinewidth\":0,\"ticks\":\"\"}},\"type\":\"scattergeo\"}],\"scattergl\":[{\"marker\":{\"colorbar\":{\"outlinewidth\":0,\"ticks\":\"\"}},\"type\":\"scattergl\"}],\"scattermapbox\":[{\"marker\":{\"colorbar\":{\"outlinewidth\":0,\"ticks\":\"\"}},\"type\":\"scattermapbox\"}],\"scatterpolar\":[{\"marker\":{\"colorbar\":{\"outlinewidth\":0,\"ticks\":\"\"}},\"type\":\"scatterpolar\"}],\"scatterpolargl\":[{\"marker\":{\"colorbar\":{\"outlinewidth\":0,\"ticks\":\"\"}},\"type\":\"scatterpolargl\"}],\"scatterternary\":[{\"marker\":{\"colorbar\":{\"outlinewidth\":0,\"ticks\":\"\"}},\"type\":\"scatterternary\"}],\"surface\":[{\"colorbar\":{\"outlinewidth\":0,\"ticks\":\"\"},\"colorscale\":[[0.0,\"#0d0887\"],[0.1111111111111111,\"#46039f\"],[0.2222222222222222,\"#7201a8\"],[0.3333333333333333,\"#9c179e\"],[0.4444444444444444,\"#bd3786\"],[0.5555555555555556,\"#d8576b\"],[0.6666666666666666,\"#ed7953\"],[0.7777777777777778,\"#fb9f3a\"],[0.8888888888888888,\"#fdca26\"],[1.0,\"#f0f921\"]],\"type\":\"surface\"}],\"table\":[{\"cells\":{\"fill\":{\"color\":\"#EBF0F8\"},\"line\":{\"color\":\"white\"}},\"header\":{\"fill\":{\"color\":\"#C8D4E3\"},\"line\":{\"color\":\"white\"}},\"type\":\"table\"}]},\"layout\":{\"annotationdefaults\":{\"arrowcolor\":\"#2a3f5f\",\"arrowhead\":0,\"arrowwidth\":1},\"autotypenumbers\":\"strict\",\"coloraxis\":{\"colorbar\":{\"outlinewidth\":0,\"ticks\":\"\"}},\"colorscale\":{\"diverging\":[[0,\"#8e0152\"],[0.1,\"#c51b7d\"],[0.2,\"#de77ae\"],[0.3,\"#f1b6da\"],[0.4,\"#fde0ef\"],[0.5,\"#f7f7f7\"],[0.6,\"#e6f5d0\"],[0.7,\"#b8e186\"],[0.8,\"#7fbc41\"],[0.9,\"#4d9221\"],[1,\"#276419\"]],\"sequential\":[[0.0,\"#0d0887\"],[0.1111111111111111,\"#46039f\"],[0.2222222222222222,\"#7201a8\"],[0.3333333333333333,\"#9c179e\"],[0.4444444444444444,\"#bd3786\"],[0.5555555555555556,\"#d8576b\"],[0.6666666666666666,\"#ed7953\"],[0.7777777777777778,\"#fb9f3a\"],[0.8888888888888888,\"#fdca26\"],[1.0,\"#f0f921\"]],\"sequentialminus\":[[0.0,\"#0d0887\"],[0.1111111111111111,\"#46039f\"],[0.2222222222222222,\"#7201a8\"],[0.3333333333333333,\"#9c179e\"],[0.4444444444444444,\"#bd3786\"],[0.5555555555555556,\"#d8576b\"],[0.6666666666666666,\"#ed7953\"],[0.7777777777777778,\"#fb9f3a\"],[0.8888888888888888,\"#fdca26\"],[1.0,\"#f0f921\"]]},\"colorway\":[\"#636efa\",\"#EF553B\",\"#00cc96\",\"#ab63fa\",\"#FFA15A\",\"#19d3f3\",\"#FF6692\",\"#B6E880\",\"#FF97FF\",\"#FECB52\"],\"font\":{\"color\":\"#2a3f5f\"},\"geo\":{\"bgcolor\":\"white\",\"lakecolor\":\"white\",\"landcolor\":\"#E5ECF6\",\"showlakes\":true,\"showland\":true,\"subunitcolor\":\"white\"},\"hoverlabel\":{\"align\":\"left\"},\"hovermode\":\"closest\",\"mapbox\":{\"style\":\"light\"},\"paper_bgcolor\":\"white\",\"plot_bgcolor\":\"#E5ECF6\",\"polar\":{\"angularaxis\":{\"gridcolor\":\"white\",\"linecolor\":\"white\",\"ticks\":\"\"},\"bgcolor\":\"#E5ECF6\",\"radialaxis\":{\"gridcolor\":\"white\",\"linecolor\":\"white\",\"ticks\":\"\"}},\"scene\":{\"xaxis\":{\"backgroundcolor\":\"#E5ECF6\",\"gridcolor\":\"white\",\"gridwidth\":2,\"linecolor\":\"white\",\"showbackground\":true,\"ticks\":\"\",\"zerolinecolor\":\"white\"},\"yaxis\":{\"backgroundcolor\":\"#E5ECF6\",\"gridcolor\":\"white\",\"gridwidth\":2,\"linecolor\":\"white\",\"showbackground\":true,\"ticks\":\"\",\"zerolinecolor\":\"white\"},\"zaxis\":{\"backgroundcolor\":\"#E5ECF6\",\"gridcolor\":\"white\",\"gridwidth\":2,\"linecolor\":\"white\",\"showbackground\":true,\"ticks\":\"\",\"zerolinecolor\":\"white\"}},\"shapedefaults\":{\"line\":{\"color\":\"#2a3f5f\"}},\"ternary\":{\"aaxis\":{\"gridcolor\":\"white\",\"linecolor\":\"white\",\"ticks\":\"\"},\"baxis\":{\"gridcolor\":\"white\",\"linecolor\":\"white\",\"ticks\":\"\"},\"bgcolor\":\"#E5ECF6\",\"caxis\":{\"gridcolor\":\"white\",\"linecolor\":\"white\",\"ticks\":\"\"}},\"title\":{\"x\":0.05},\"xaxis\":{\"automargin\":true,\"gridcolor\":\"white\",\"linecolor\":\"white\",\"ticks\":\"\",\"title\":{\"standoff\":15},\"zerolinecolor\":\"white\",\"zerolinewidth\":2},\"yaxis\":{\"automargin\":true,\"gridcolor\":\"white\",\"linecolor\":\"white\",\"ticks\":\"\",\"title\":{\"standoff\":15},\"zerolinecolor\":\"white\",\"zerolinewidth\":2}}},\"xaxis\":{\"anchor\":\"y\",\"domain\":[0.0,1.0],\"title\":{\"text\":\"integral (d'*ms)\"}},\"yaxis\":{\"anchor\":\"x\",\"domain\":[0.0,1.0],\"title\":{\"text\":\"percent\"}}},                        {\"responsive\": true}                    ).then(function(){\n                            \nvar gd = document.getElementById('1851f11a-9afa-44aa-896c-fef99449da32');\nvar x = new MutationObserver(function (mutations, observer) {{\n        var display = window.getComputedStyle(gd).display;\n        if (!display || display === 'none') {{\n            console.log([gd, 'removed!']);\n            Plotly.purge(gd);\n            observer.disconnect();\n        }}\n}});\n\n// Listen for the removal of the full notebook cells\nvar notebookContainer = gd.closest('#notebook-container');\nif (notebookContainer) {{\n    x.observe(notebookContainer, {childList: true});\n}}\n\n// Listen for the clearing of the current output cell\nvar outputEl = gd.closest('.output');\nif (outputEl) {{\n    x.observe(outputEl, {childList: true});\n}}\n\n                        })                };                });            </script>        </div>"
     },
     "metadata": {},
     "output_type": "display_data"
    }
   ],
   "source": [
    "\n",
    "hist_data = ctx_prb_count.loc[ctx_prb_count.analysis =='single cell', :]\n",
    "\n",
    "fig = px.histogram(data_frame=hist_data, x=\"integral (d'*ms)\", histnorm='percent')\n",
    "# fig.update_xaxes(title=dict(text='contextual space coverage (%)'))\n",
    "fig.show()"
   ],
   "metadata": {
    "collapsed": false,
    "pycharm": {
     "name": "#%%\n"
    }
   }
  },
  {
   "cell_type": "code",
   "execution_count": null,
   "outputs": [],
   "source": [],
   "metadata": {
    "collapsed": false,
    "pycharm": {
     "name": "#%%\n"
    }
   }
  }
 ],
 "metadata": {
  "kernelspec": {
   "display_name": "Python 3",
   "language": "python",
   "name": "python3"
  },
  "language_info": {
   "codemirror_mode": {
    "name": "ipython",
    "version": 2
   },
   "file_extension": ".py",
   "mimetype": "text/x-python",
   "name": "python",
   "nbconvert_exporter": "python",
   "pygments_lexer": "ipython2",
   "version": "2.7.6"
  }
 },
 "nbformat": 4,
 "nbformat_minor": 0
}