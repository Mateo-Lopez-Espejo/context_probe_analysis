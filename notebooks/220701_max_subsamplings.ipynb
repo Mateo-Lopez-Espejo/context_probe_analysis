{
 "cells": [
  {
   "cell_type": "code",
   "execution_count": 40,
   "metadata": {
    "collapsed": true
   },
   "outputs": [],
   "source": [
    "from IPython.display import Image\n",
    "import itertools as itt\n",
    "import numpy as np\n",
    "import plotly.express as px\n",
    "import plotly.graph_objects as go\n",
    "from plotly.subplots import make_subplots\n",
    "import pandas as pd\n",
    "import math"
   ]
  },
  {
   "cell_type": "code",
   "execution_count": 21,
   "outputs": [],
   "source": [
    "def n_comb(size, total):\n",
    "    return math.factorial(total) / (math.factorial(total-size) * math.factorial(size))"
   ],
   "metadata": {
    "collapsed": false,
    "pycharm": {
     "name": "#%%\n"
    }
   }
  },
  {
   "cell_type": "code",
   "execution_count": 42,
   "outputs": [
    {
     "data": {
      "text/plain": "         2        3        4         5         6        7        8        9   \\\n1     550.0   1650.0   3300.0    4620.0    4620.0   3300.0   1650.0    550.0   \n2    2475.0   7425.0  14850.0   20790.0   20790.0  14850.0   7425.0   2475.0   \n3    6600.0  19800.0  39600.0   55440.0   55440.0  39600.0  19800.0   6600.0   \n4   11550.0  34650.0  69300.0   97020.0   97020.0  69300.0  34650.0  11550.0   \n5   13860.0  41580.0  83160.0  116424.0  116424.0  83160.0  41580.0  13860.0   \n6   11550.0  34650.0  69300.0   97020.0   97020.0  69300.0  34650.0  11550.0   \n7    6600.0  19800.0  39600.0   55440.0   55440.0  39600.0  19800.0   6600.0   \n8    2475.0   7425.0  14850.0   20790.0   20790.0  14850.0   7425.0   2475.0   \n9     550.0   1650.0   3300.0    4620.0    4620.0   3300.0   1650.0    550.0   \n10     55.0    165.0    330.0     462.0     462.0    330.0    165.0     55.0   \n\n        10     11  \n1    110.0   10.0  \n2    495.0   45.0  \n3   1320.0  120.0  \n4   2310.0  210.0  \n5   2772.0  252.0  \n6   2310.0  210.0  \n7   1320.0  120.0  \n8    495.0   45.0  \n9    110.0   10.0  \n10    11.0    1.0  ",
      "text/html": "<div>\n<style scoped>\n    .dataframe tbody tr th:only-of-type {\n        vertical-align: middle;\n    }\n\n    .dataframe tbody tr th {\n        vertical-align: top;\n    }\n\n    .dataframe thead th {\n        text-align: right;\n    }\n</style>\n<table border=\"1\" class=\"dataframe\">\n  <thead>\n    <tr style=\"text-align: right;\">\n      <th></th>\n      <th>2</th>\n      <th>3</th>\n      <th>4</th>\n      <th>5</th>\n      <th>6</th>\n      <th>7</th>\n      <th>8</th>\n      <th>9</th>\n      <th>10</th>\n      <th>11</th>\n    </tr>\n  </thead>\n  <tbody>\n    <tr>\n      <th>1</th>\n      <td>550.0</td>\n      <td>1650.0</td>\n      <td>3300.0</td>\n      <td>4620.0</td>\n      <td>4620.0</td>\n      <td>3300.0</td>\n      <td>1650.0</td>\n      <td>550.0</td>\n      <td>110.0</td>\n      <td>10.0</td>\n    </tr>\n    <tr>\n      <th>2</th>\n      <td>2475.0</td>\n      <td>7425.0</td>\n      <td>14850.0</td>\n      <td>20790.0</td>\n      <td>20790.0</td>\n      <td>14850.0</td>\n      <td>7425.0</td>\n      <td>2475.0</td>\n      <td>495.0</td>\n      <td>45.0</td>\n    </tr>\n    <tr>\n      <th>3</th>\n      <td>6600.0</td>\n      <td>19800.0</td>\n      <td>39600.0</td>\n      <td>55440.0</td>\n      <td>55440.0</td>\n      <td>39600.0</td>\n      <td>19800.0</td>\n      <td>6600.0</td>\n      <td>1320.0</td>\n      <td>120.0</td>\n    </tr>\n    <tr>\n      <th>4</th>\n      <td>11550.0</td>\n      <td>34650.0</td>\n      <td>69300.0</td>\n      <td>97020.0</td>\n      <td>97020.0</td>\n      <td>69300.0</td>\n      <td>34650.0</td>\n      <td>11550.0</td>\n      <td>2310.0</td>\n      <td>210.0</td>\n    </tr>\n    <tr>\n      <th>5</th>\n      <td>13860.0</td>\n      <td>41580.0</td>\n      <td>83160.0</td>\n      <td>116424.0</td>\n      <td>116424.0</td>\n      <td>83160.0</td>\n      <td>41580.0</td>\n      <td>13860.0</td>\n      <td>2772.0</td>\n      <td>252.0</td>\n    </tr>\n    <tr>\n      <th>6</th>\n      <td>11550.0</td>\n      <td>34650.0</td>\n      <td>69300.0</td>\n      <td>97020.0</td>\n      <td>97020.0</td>\n      <td>69300.0</td>\n      <td>34650.0</td>\n      <td>11550.0</td>\n      <td>2310.0</td>\n      <td>210.0</td>\n    </tr>\n    <tr>\n      <th>7</th>\n      <td>6600.0</td>\n      <td>19800.0</td>\n      <td>39600.0</td>\n      <td>55440.0</td>\n      <td>55440.0</td>\n      <td>39600.0</td>\n      <td>19800.0</td>\n      <td>6600.0</td>\n      <td>1320.0</td>\n      <td>120.0</td>\n    </tr>\n    <tr>\n      <th>8</th>\n      <td>2475.0</td>\n      <td>7425.0</td>\n      <td>14850.0</td>\n      <td>20790.0</td>\n      <td>20790.0</td>\n      <td>14850.0</td>\n      <td>7425.0</td>\n      <td>2475.0</td>\n      <td>495.0</td>\n      <td>45.0</td>\n    </tr>\n    <tr>\n      <th>9</th>\n      <td>550.0</td>\n      <td>1650.0</td>\n      <td>3300.0</td>\n      <td>4620.0</td>\n      <td>4620.0</td>\n      <td>3300.0</td>\n      <td>1650.0</td>\n      <td>550.0</td>\n      <td>110.0</td>\n      <td>10.0</td>\n    </tr>\n    <tr>\n      <th>10</th>\n      <td>55.0</td>\n      <td>165.0</td>\n      <td>330.0</td>\n      <td>462.0</td>\n      <td>462.0</td>\n      <td>330.0</td>\n      <td>165.0</td>\n      <td>55.0</td>\n      <td>11.0</td>\n      <td>1.0</td>\n    </tr>\n  </tbody>\n</table>\n</div>"
     },
     "execution_count": 42,
     "metadata": {},
     "output_type": "execute_result"
    }
   ],
   "source": [
    "total_contexts = 11\n",
    "total_probes = 10\n",
    "\n",
    "nctx = 10\n",
    "nprb= 1\n",
    "\n",
    "# number of pair combinations\n",
    "subset_df = pd.DataFrame(index=list(range(1,total_probes+1)),\n",
    "                         columns=list(range(2, total_contexts+1)),\n",
    "                         data=np.zeros([total_probes, total_contexts-1]))\n",
    "\n",
    "for rr, cc in itt.product(subset_df.index.tolist(), subset_df.columns.tolist()):\n",
    "    total_combinations = n_comb(rr, total_probes) * n_comb(cc, total_contexts)\n",
    "    # print(rr, cc, total_combinations)\n",
    "    subset_df.loc[rr, cc] = total_combinations\n",
    "\n",
    "subset_df\n",
    "px.imshow(subset_df)"
   ],
   "metadata": {
    "collapsed": false,
    "pycharm": {
     "name": "#%%\n"
    }
   }
  },
  {
   "cell_type": "code",
   "execution_count": 44,
   "outputs": [
    {
     "data": {
      "application/vnd.plotly.v1+json": {
       "data": [
        {
         "coloraxis": "coloraxis",
         "x": [
          2,
          3,
          4,
          5,
          6,
          7,
          8,
          9,
          10,
          11
         ],
         "y": [
          1,
          2,
          3,
          4,
          5,
          6,
          7,
          8,
          9,
          10
         ],
         "z": [
          [
           550.0,
           1650.0,
           3300.0,
           4620.0,
           4620.0,
           3300.0,
           1650.0,
           550.0,
           110.0,
           10.0
          ],
          [
           2475.0,
           7425.0,
           14850.0,
           20790.0,
           20790.0,
           14850.0,
           7425.0,
           2475.0,
           495.0,
           45.0
          ],
          [
           6600.0,
           19800.0,
           39600.0,
           55440.0,
           55440.0,
           39600.0,
           19800.0,
           6600.0,
           1320.0,
           120.0
          ],
          [
           11550.0,
           34650.0,
           69300.0,
           97020.0,
           97020.0,
           69300.0,
           34650.0,
           11550.0,
           2310.0,
           210.0
          ],
          [
           13860.0,
           41580.0,
           83160.0,
           116424.0,
           116424.0,
           83160.0,
           41580.0,
           13860.0,
           2772.0,
           252.0
          ],
          [
           11550.0,
           34650.0,
           69300.0,
           97020.0,
           97020.0,
           69300.0,
           34650.0,
           11550.0,
           2310.0,
           210.0
          ],
          [
           6600.0,
           19800.0,
           39600.0,
           55440.0,
           55440.0,
           39600.0,
           19800.0,
           6600.0,
           1320.0,
           120.0
          ],
          [
           2475.0,
           7425.0,
           14850.0,
           20790.0,
           20790.0,
           14850.0,
           7425.0,
           2475.0,
           495.0,
           45.0
          ],
          [
           550.0,
           1650.0,
           3300.0,
           4620.0,
           4620.0,
           3300.0,
           1650.0,
           550.0,
           110.0,
           10.0
          ],
          [
           55.0,
           165.0,
           330.0,
           462.0,
           462.0,
           330.0,
           165.0,
           55.0,
           11.0,
           1.0
          ]
         ],
         "type": "heatmap",
         "xaxis": "x",
         "yaxis": "y"
        },
        {
         "coloraxis": "coloraxis",
         "x": [
          2,
          3,
          4,
          5,
          6,
          7,
          8,
          9,
          10,
          11
         ],
         "y": [
          1,
          2,
          3,
          4,
          5,
          6,
          7,
          8,
          9,
          10
         ],
         "z": [
          [
           550.0,
           1650.0,
           3300.0,
           4620.0,
           4620.0,
           3300.0,
           1650.0,
           550.0,
           110.0,
           10.0
          ],
          [
           2475.0,
           7425.0,
           14850.0,
           20790.0,
           20790.0,
           14850.0,
           7425.0,
           2475.0,
           495.0,
           45.0
          ],
          [
           6600.0,
           19800.0,
           39600.0,
           55440.0,
           55440.0,
           39600.0,
           19800.0,
           6600.0,
           1320.0,
           120.0
          ],
          [
           11550.0,
           34650.0,
           69300.0,
           97020.0,
           97020.0,
           69300.0,
           34650.0,
           11550.0,
           2310.0,
           210.0
          ],
          [
           13860.0,
           41580.0,
           83160.0,
           116424.0,
           116424.0,
           83160.0,
           41580.0,
           13860.0,
           2772.0,
           252.0
          ],
          [
           11550.0,
           34650.0,
           69300.0,
           97020.0,
           97020.0,
           69300.0,
           34650.0,
           11550.0,
           2310.0,
           210.0
          ],
          [
           6600.0,
           19800.0,
           39600.0,
           55440.0,
           55440.0,
           39600.0,
           19800.0,
           6600.0,
           1320.0,
           120.0
          ],
          [
           2475.0,
           7425.0,
           14850.0,
           20790.0,
           20790.0,
           14850.0,
           7425.0,
           2475.0,
           495.0,
           45.0
          ],
          [
           550.0,
           1650.0,
           3300.0,
           4620.0,
           4620.0,
           3300.0,
           1650.0,
           550.0,
           110.0,
           10.0
          ],
          [
           55.0,
           165.0,
           330.0,
           462.0,
           462.0,
           330.0,
           165.0,
           55.0,
           11.0,
           1.0
          ]
         ],
         "type": "surface",
         "scene": "scene"
        }
       ],
       "layout": {
        "template": {
         "data": {
          "bar": [
           {
            "error_x": {
             "color": "#2a3f5f"
            },
            "error_y": {
             "color": "#2a3f5f"
            },
            "marker": {
             "line": {
              "color": "#E5ECF6",
              "width": 0.5
             },
             "pattern": {
              "fillmode": "overlay",
              "size": 10,
              "solidity": 0.2
             }
            },
            "type": "bar"
           }
          ],
          "barpolar": [
           {
            "marker": {
             "line": {
              "color": "#E5ECF6",
              "width": 0.5
             },
             "pattern": {
              "fillmode": "overlay",
              "size": 10,
              "solidity": 0.2
             }
            },
            "type": "barpolar"
           }
          ],
          "carpet": [
           {
            "aaxis": {
             "endlinecolor": "#2a3f5f",
             "gridcolor": "white",
             "linecolor": "white",
             "minorgridcolor": "white",
             "startlinecolor": "#2a3f5f"
            },
            "baxis": {
             "endlinecolor": "#2a3f5f",
             "gridcolor": "white",
             "linecolor": "white",
             "minorgridcolor": "white",
             "startlinecolor": "#2a3f5f"
            },
            "type": "carpet"
           }
          ],
          "choropleth": [
           {
            "colorbar": {
             "outlinewidth": 0,
             "ticks": ""
            },
            "type": "choropleth"
           }
          ],
          "contour": [
           {
            "colorbar": {
             "outlinewidth": 0,
             "ticks": ""
            },
            "colorscale": [
             [
              0.0,
              "#0d0887"
             ],
             [
              0.1111111111111111,
              "#46039f"
             ],
             [
              0.2222222222222222,
              "#7201a8"
             ],
             [
              0.3333333333333333,
              "#9c179e"
             ],
             [
              0.4444444444444444,
              "#bd3786"
             ],
             [
              0.5555555555555556,
              "#d8576b"
             ],
             [
              0.6666666666666666,
              "#ed7953"
             ],
             [
              0.7777777777777778,
              "#fb9f3a"
             ],
             [
              0.8888888888888888,
              "#fdca26"
             ],
             [
              1.0,
              "#f0f921"
             ]
            ],
            "type": "contour"
           }
          ],
          "contourcarpet": [
           {
            "colorbar": {
             "outlinewidth": 0,
             "ticks": ""
            },
            "type": "contourcarpet"
           }
          ],
          "heatmap": [
           {
            "colorbar": {
             "outlinewidth": 0,
             "ticks": ""
            },
            "colorscale": [
             [
              0.0,
              "#0d0887"
             ],
             [
              0.1111111111111111,
              "#46039f"
             ],
             [
              0.2222222222222222,
              "#7201a8"
             ],
             [
              0.3333333333333333,
              "#9c179e"
             ],
             [
              0.4444444444444444,
              "#bd3786"
             ],
             [
              0.5555555555555556,
              "#d8576b"
             ],
             [
              0.6666666666666666,
              "#ed7953"
             ],
             [
              0.7777777777777778,
              "#fb9f3a"
             ],
             [
              0.8888888888888888,
              "#fdca26"
             ],
             [
              1.0,
              "#f0f921"
             ]
            ],
            "type": "heatmap"
           }
          ],
          "heatmapgl": [
           {
            "colorbar": {
             "outlinewidth": 0,
             "ticks": ""
            },
            "colorscale": [
             [
              0.0,
              "#0d0887"
             ],
             [
              0.1111111111111111,
              "#46039f"
             ],
             [
              0.2222222222222222,
              "#7201a8"
             ],
             [
              0.3333333333333333,
              "#9c179e"
             ],
             [
              0.4444444444444444,
              "#bd3786"
             ],
             [
              0.5555555555555556,
              "#d8576b"
             ],
             [
              0.6666666666666666,
              "#ed7953"
             ],
             [
              0.7777777777777778,
              "#fb9f3a"
             ],
             [
              0.8888888888888888,
              "#fdca26"
             ],
             [
              1.0,
              "#f0f921"
             ]
            ],
            "type": "heatmapgl"
           }
          ],
          "histogram": [
           {
            "marker": {
             "pattern": {
              "fillmode": "overlay",
              "size": 10,
              "solidity": 0.2
             }
            },
            "type": "histogram"
           }
          ],
          "histogram2d": [
           {
            "colorbar": {
             "outlinewidth": 0,
             "ticks": ""
            },
            "colorscale": [
             [
              0.0,
              "#0d0887"
             ],
             [
              0.1111111111111111,
              "#46039f"
             ],
             [
              0.2222222222222222,
              "#7201a8"
             ],
             [
              0.3333333333333333,
              "#9c179e"
             ],
             [
              0.4444444444444444,
              "#bd3786"
             ],
             [
              0.5555555555555556,
              "#d8576b"
             ],
             [
              0.6666666666666666,
              "#ed7953"
             ],
             [
              0.7777777777777778,
              "#fb9f3a"
             ],
             [
              0.8888888888888888,
              "#fdca26"
             ],
             [
              1.0,
              "#f0f921"
             ]
            ],
            "type": "histogram2d"
           }
          ],
          "histogram2dcontour": [
           {
            "colorbar": {
             "outlinewidth": 0,
             "ticks": ""
            },
            "colorscale": [
             [
              0.0,
              "#0d0887"
             ],
             [
              0.1111111111111111,
              "#46039f"
             ],
             [
              0.2222222222222222,
              "#7201a8"
             ],
             [
              0.3333333333333333,
              "#9c179e"
             ],
             [
              0.4444444444444444,
              "#bd3786"
             ],
             [
              0.5555555555555556,
              "#d8576b"
             ],
             [
              0.6666666666666666,
              "#ed7953"
             ],
             [
              0.7777777777777778,
              "#fb9f3a"
             ],
             [
              0.8888888888888888,
              "#fdca26"
             ],
             [
              1.0,
              "#f0f921"
             ]
            ],
            "type": "histogram2dcontour"
           }
          ],
          "mesh3d": [
           {
            "colorbar": {
             "outlinewidth": 0,
             "ticks": ""
            },
            "type": "mesh3d"
           }
          ],
          "parcoords": [
           {
            "line": {
             "colorbar": {
              "outlinewidth": 0,
              "ticks": ""
             }
            },
            "type": "parcoords"
           }
          ],
          "pie": [
           {
            "automargin": true,
            "type": "pie"
           }
          ],
          "scatter": [
           {
            "marker": {
             "colorbar": {
              "outlinewidth": 0,
              "ticks": ""
             }
            },
            "type": "scatter"
           }
          ],
          "scatter3d": [
           {
            "line": {
             "colorbar": {
              "outlinewidth": 0,
              "ticks": ""
             }
            },
            "marker": {
             "colorbar": {
              "outlinewidth": 0,
              "ticks": ""
             }
            },
            "type": "scatter3d"
           }
          ],
          "scattercarpet": [
           {
            "marker": {
             "colorbar": {
              "outlinewidth": 0,
              "ticks": ""
             }
            },
            "type": "scattercarpet"
           }
          ],
          "scattergeo": [
           {
            "marker": {
             "colorbar": {
              "outlinewidth": 0,
              "ticks": ""
             }
            },
            "type": "scattergeo"
           }
          ],
          "scattergl": [
           {
            "marker": {
             "colorbar": {
              "outlinewidth": 0,
              "ticks": ""
             }
            },
            "type": "scattergl"
           }
          ],
          "scattermapbox": [
           {
            "marker": {
             "colorbar": {
              "outlinewidth": 0,
              "ticks": ""
             }
            },
            "type": "scattermapbox"
           }
          ],
          "scatterpolar": [
           {
            "marker": {
             "colorbar": {
              "outlinewidth": 0,
              "ticks": ""
             }
            },
            "type": "scatterpolar"
           }
          ],
          "scatterpolargl": [
           {
            "marker": {
             "colorbar": {
              "outlinewidth": 0,
              "ticks": ""
             }
            },
            "type": "scatterpolargl"
           }
          ],
          "scatterternary": [
           {
            "marker": {
             "colorbar": {
              "outlinewidth": 0,
              "ticks": ""
             }
            },
            "type": "scatterternary"
           }
          ],
          "surface": [
           {
            "colorbar": {
             "outlinewidth": 0,
             "ticks": ""
            },
            "colorscale": [
             [
              0.0,
              "#0d0887"
             ],
             [
              0.1111111111111111,
              "#46039f"
             ],
             [
              0.2222222222222222,
              "#7201a8"
             ],
             [
              0.3333333333333333,
              "#9c179e"
             ],
             [
              0.4444444444444444,
              "#bd3786"
             ],
             [
              0.5555555555555556,
              "#d8576b"
             ],
             [
              0.6666666666666666,
              "#ed7953"
             ],
             [
              0.7777777777777778,
              "#fb9f3a"
             ],
             [
              0.8888888888888888,
              "#fdca26"
             ],
             [
              1.0,
              "#f0f921"
             ]
            ],
            "type": "surface"
           }
          ],
          "table": [
           {
            "cells": {
             "fill": {
              "color": "#EBF0F8"
             },
             "line": {
              "color": "white"
             }
            },
            "header": {
             "fill": {
              "color": "#C8D4E3"
             },
             "line": {
              "color": "white"
             }
            },
            "type": "table"
           }
          ]
         },
         "layout": {
          "annotationdefaults": {
           "arrowcolor": "#2a3f5f",
           "arrowhead": 0,
           "arrowwidth": 1
          },
          "autotypenumbers": "strict",
          "coloraxis": {
           "colorbar": {
            "outlinewidth": 0,
            "ticks": ""
           }
          },
          "colorscale": {
           "diverging": [
            [
             0,
             "#8e0152"
            ],
            [
             0.1,
             "#c51b7d"
            ],
            [
             0.2,
             "#de77ae"
            ],
            [
             0.3,
             "#f1b6da"
            ],
            [
             0.4,
             "#fde0ef"
            ],
            [
             0.5,
             "#f7f7f7"
            ],
            [
             0.6,
             "#e6f5d0"
            ],
            [
             0.7,
             "#b8e186"
            ],
            [
             0.8,
             "#7fbc41"
            ],
            [
             0.9,
             "#4d9221"
            ],
            [
             1,
             "#276419"
            ]
           ],
           "sequential": [
            [
             0.0,
             "#0d0887"
            ],
            [
             0.1111111111111111,
             "#46039f"
            ],
            [
             0.2222222222222222,
             "#7201a8"
            ],
            [
             0.3333333333333333,
             "#9c179e"
            ],
            [
             0.4444444444444444,
             "#bd3786"
            ],
            [
             0.5555555555555556,
             "#d8576b"
            ],
            [
             0.6666666666666666,
             "#ed7953"
            ],
            [
             0.7777777777777778,
             "#fb9f3a"
            ],
            [
             0.8888888888888888,
             "#fdca26"
            ],
            [
             1.0,
             "#f0f921"
            ]
           ],
           "sequentialminus": [
            [
             0.0,
             "#0d0887"
            ],
            [
             0.1111111111111111,
             "#46039f"
            ],
            [
             0.2222222222222222,
             "#7201a8"
            ],
            [
             0.3333333333333333,
             "#9c179e"
            ],
            [
             0.4444444444444444,
             "#bd3786"
            ],
            [
             0.5555555555555556,
             "#d8576b"
            ],
            [
             0.6666666666666666,
             "#ed7953"
            ],
            [
             0.7777777777777778,
             "#fb9f3a"
            ],
            [
             0.8888888888888888,
             "#fdca26"
            ],
            [
             1.0,
             "#f0f921"
            ]
           ]
          },
          "colorway": [
           "#636efa",
           "#EF553B",
           "#00cc96",
           "#ab63fa",
           "#FFA15A",
           "#19d3f3",
           "#FF6692",
           "#B6E880",
           "#FF97FF",
           "#FECB52"
          ],
          "font": {
           "color": "#2a3f5f"
          },
          "geo": {
           "bgcolor": "white",
           "lakecolor": "white",
           "landcolor": "#E5ECF6",
           "showlakes": true,
           "showland": true,
           "subunitcolor": "white"
          },
          "hoverlabel": {
           "align": "left"
          },
          "hovermode": "closest",
          "mapbox": {
           "style": "light"
          },
          "paper_bgcolor": "white",
          "plot_bgcolor": "#E5ECF6",
          "polar": {
           "angularaxis": {
            "gridcolor": "white",
            "linecolor": "white",
            "ticks": ""
           },
           "bgcolor": "#E5ECF6",
           "radialaxis": {
            "gridcolor": "white",
            "linecolor": "white",
            "ticks": ""
           }
          },
          "scene": {
           "xaxis": {
            "backgroundcolor": "#E5ECF6",
            "gridcolor": "white",
            "gridwidth": 2,
            "linecolor": "white",
            "showbackground": true,
            "ticks": "",
            "zerolinecolor": "white"
           },
           "yaxis": {
            "backgroundcolor": "#E5ECF6",
            "gridcolor": "white",
            "gridwidth": 2,
            "linecolor": "white",
            "showbackground": true,
            "ticks": "",
            "zerolinecolor": "white"
           },
           "zaxis": {
            "backgroundcolor": "#E5ECF6",
            "gridcolor": "white",
            "gridwidth": 2,
            "linecolor": "white",
            "showbackground": true,
            "ticks": "",
            "zerolinecolor": "white"
           }
          },
          "shapedefaults": {
           "line": {
            "color": "#2a3f5f"
           }
          },
          "ternary": {
           "aaxis": {
            "gridcolor": "white",
            "linecolor": "white",
            "ticks": ""
           },
           "baxis": {
            "gridcolor": "white",
            "linecolor": "white",
            "ticks": ""
           },
           "bgcolor": "#E5ECF6",
           "caxis": {
            "gridcolor": "white",
            "linecolor": "white",
            "ticks": ""
           }
          },
          "title": {
           "x": 0.05
          },
          "xaxis": {
           "automargin": true,
           "gridcolor": "white",
           "linecolor": "white",
           "ticks": "",
           "title": {
            "standoff": 15
           },
           "zerolinecolor": "white",
           "zerolinewidth": 2
          },
          "yaxis": {
           "automargin": true,
           "gridcolor": "white",
           "linecolor": "white",
           "ticks": "",
           "title": {
            "standoff": 15
           },
           "zerolinecolor": "white",
           "zerolinewidth": 2
          }
         }
        },
        "xaxis": {
         "anchor": "y",
         "domain": [
          0,
          0.5
         ],
         "title": {
          "text": "# different probes"
         },
         "constrain": "domain",
         "scaleanchor": "y"
        },
        "yaxis": {
         "anchor": "x",
         "domain": [
          0.0,
          1.0
         ],
         "title": {
          "text": "# different contexts"
         },
         "autorange": true,
         "constrain": "domain"
        },
        "scene": {
         "domain": {
          "x": [
           0.55,
           1.0
          ],
          "y": [
           0.0,
           1.0
          ]
         },
         "camera": {
          "eye": {
           "x": -1.5,
           "y": -1.5,
           "z": 0.5
          }
         },
         "xaxis": {
          "title": {
           "text": "# probes"
          }
         },
         "yaxis": {
          "title": {
           "text": "# contexts"
          }
         },
         "zaxis": {
          "title": {
           "text": "%"
          }
         }
        },
        "coloraxis": {
         "colorbar": {
          "title": {
           "text": "n_required shuffles",
           "side": "right"
          }
         },
         "colorscale": [
          [
           0.0,
           "#000004"
          ],
          [
           0.1111111111111111,
           "#1b0c41"
          ],
          [
           0.2222222222222222,
           "#4a0c6b"
          ],
          [
           0.3333333333333333,
           "#781c6d"
          ],
          [
           0.4444444444444444,
           "#a52c60"
          ],
          [
           0.5555555555555556,
           "#cf4446"
          ],
          [
           0.6666666666666666,
           "#ed6925"
          ],
          [
           0.7777777777777778,
           "#fb9b06"
          ],
          [
           0.8888888888888888,
           "#f7d13d"
          ],
          [
           1.0,
           "#fcffa4"
          ]
         ]
        },
        "autosize": true
       },
       "config": {
        "plotlyServerURL": "https://plot.ly"
       }
      },
      "text/html": "<div>                            <div id=\"e55c45aa-5538-4d66-944e-5f5847dcc88e\" class=\"plotly-graph-div\" style=\"height:525px; width:100%;\"></div>            <script type=\"text/javascript\">                require([\"plotly\"], function(Plotly) {                    window.PLOTLYENV=window.PLOTLYENV || {};                                    if (document.getElementById(\"e55c45aa-5538-4d66-944e-5f5847dcc88e\")) {                    Plotly.newPlot(                        \"e55c45aa-5538-4d66-944e-5f5847dcc88e\",                        [{\"coloraxis\":\"coloraxis\",\"x\":[2,3,4,5,6,7,8,9,10,11],\"y\":[1,2,3,4,5,6,7,8,9,10],\"z\":[[550.0,1650.0,3300.0,4620.0,4620.0,3300.0,1650.0,550.0,110.0,10.0],[2475.0,7425.0,14850.0,20790.0,20790.0,14850.0,7425.0,2475.0,495.0,45.0],[6600.0,19800.0,39600.0,55440.0,55440.0,39600.0,19800.0,6600.0,1320.0,120.0],[11550.0,34650.0,69300.0,97020.0,97020.0,69300.0,34650.0,11550.0,2310.0,210.0],[13860.0,41580.0,83160.0,116424.0,116424.0,83160.0,41580.0,13860.0,2772.0,252.0],[11550.0,34650.0,69300.0,97020.0,97020.0,69300.0,34650.0,11550.0,2310.0,210.0],[6600.0,19800.0,39600.0,55440.0,55440.0,39600.0,19800.0,6600.0,1320.0,120.0],[2475.0,7425.0,14850.0,20790.0,20790.0,14850.0,7425.0,2475.0,495.0,45.0],[550.0,1650.0,3300.0,4620.0,4620.0,3300.0,1650.0,550.0,110.0,10.0],[55.0,165.0,330.0,462.0,462.0,330.0,165.0,55.0,11.0,1.0]],\"type\":\"heatmap\",\"xaxis\":\"x\",\"yaxis\":\"y\"},{\"coloraxis\":\"coloraxis\",\"x\":[2,3,4,5,6,7,8,9,10,11],\"y\":[1,2,3,4,5,6,7,8,9,10],\"z\":[[550.0,1650.0,3300.0,4620.0,4620.0,3300.0,1650.0,550.0,110.0,10.0],[2475.0,7425.0,14850.0,20790.0,20790.0,14850.0,7425.0,2475.0,495.0,45.0],[6600.0,19800.0,39600.0,55440.0,55440.0,39600.0,19800.0,6600.0,1320.0,120.0],[11550.0,34650.0,69300.0,97020.0,97020.0,69300.0,34650.0,11550.0,2310.0,210.0],[13860.0,41580.0,83160.0,116424.0,116424.0,83160.0,41580.0,13860.0,2772.0,252.0],[11550.0,34650.0,69300.0,97020.0,97020.0,69300.0,34650.0,11550.0,2310.0,210.0],[6600.0,19800.0,39600.0,55440.0,55440.0,39600.0,19800.0,6600.0,1320.0,120.0],[2475.0,7425.0,14850.0,20790.0,20790.0,14850.0,7425.0,2475.0,495.0,45.0],[550.0,1650.0,3300.0,4620.0,4620.0,3300.0,1650.0,550.0,110.0,10.0],[55.0,165.0,330.0,462.0,462.0,330.0,165.0,55.0,11.0,1.0]],\"type\":\"surface\",\"scene\":\"scene\"}],                        {\"template\":{\"data\":{\"bar\":[{\"error_x\":{\"color\":\"#2a3f5f\"},\"error_y\":{\"color\":\"#2a3f5f\"},\"marker\":{\"line\":{\"color\":\"#E5ECF6\",\"width\":0.5},\"pattern\":{\"fillmode\":\"overlay\",\"size\":10,\"solidity\":0.2}},\"type\":\"bar\"}],\"barpolar\":[{\"marker\":{\"line\":{\"color\":\"#E5ECF6\",\"width\":0.5},\"pattern\":{\"fillmode\":\"overlay\",\"size\":10,\"solidity\":0.2}},\"type\":\"barpolar\"}],\"carpet\":[{\"aaxis\":{\"endlinecolor\":\"#2a3f5f\",\"gridcolor\":\"white\",\"linecolor\":\"white\",\"minorgridcolor\":\"white\",\"startlinecolor\":\"#2a3f5f\"},\"baxis\":{\"endlinecolor\":\"#2a3f5f\",\"gridcolor\":\"white\",\"linecolor\":\"white\",\"minorgridcolor\":\"white\",\"startlinecolor\":\"#2a3f5f\"},\"type\":\"carpet\"}],\"choropleth\":[{\"colorbar\":{\"outlinewidth\":0,\"ticks\":\"\"},\"type\":\"choropleth\"}],\"contour\":[{\"colorbar\":{\"outlinewidth\":0,\"ticks\":\"\"},\"colorscale\":[[0.0,\"#0d0887\"],[0.1111111111111111,\"#46039f\"],[0.2222222222222222,\"#7201a8\"],[0.3333333333333333,\"#9c179e\"],[0.4444444444444444,\"#bd3786\"],[0.5555555555555556,\"#d8576b\"],[0.6666666666666666,\"#ed7953\"],[0.7777777777777778,\"#fb9f3a\"],[0.8888888888888888,\"#fdca26\"],[1.0,\"#f0f921\"]],\"type\":\"contour\"}],\"contourcarpet\":[{\"colorbar\":{\"outlinewidth\":0,\"ticks\":\"\"},\"type\":\"contourcarpet\"}],\"heatmap\":[{\"colorbar\":{\"outlinewidth\":0,\"ticks\":\"\"},\"colorscale\":[[0.0,\"#0d0887\"],[0.1111111111111111,\"#46039f\"],[0.2222222222222222,\"#7201a8\"],[0.3333333333333333,\"#9c179e\"],[0.4444444444444444,\"#bd3786\"],[0.5555555555555556,\"#d8576b\"],[0.6666666666666666,\"#ed7953\"],[0.7777777777777778,\"#fb9f3a\"],[0.8888888888888888,\"#fdca26\"],[1.0,\"#f0f921\"]],\"type\":\"heatmap\"}],\"heatmapgl\":[{\"colorbar\":{\"outlinewidth\":0,\"ticks\":\"\"},\"colorscale\":[[0.0,\"#0d0887\"],[0.1111111111111111,\"#46039f\"],[0.2222222222222222,\"#7201a8\"],[0.3333333333333333,\"#9c179e\"],[0.4444444444444444,\"#bd3786\"],[0.5555555555555556,\"#d8576b\"],[0.6666666666666666,\"#ed7953\"],[0.7777777777777778,\"#fb9f3a\"],[0.8888888888888888,\"#fdca26\"],[1.0,\"#f0f921\"]],\"type\":\"heatmapgl\"}],\"histogram\":[{\"marker\":{\"pattern\":{\"fillmode\":\"overlay\",\"size\":10,\"solidity\":0.2}},\"type\":\"histogram\"}],\"histogram2d\":[{\"colorbar\":{\"outlinewidth\":0,\"ticks\":\"\"},\"colorscale\":[[0.0,\"#0d0887\"],[0.1111111111111111,\"#46039f\"],[0.2222222222222222,\"#7201a8\"],[0.3333333333333333,\"#9c179e\"],[0.4444444444444444,\"#bd3786\"],[0.5555555555555556,\"#d8576b\"],[0.6666666666666666,\"#ed7953\"],[0.7777777777777778,\"#fb9f3a\"],[0.8888888888888888,\"#fdca26\"],[1.0,\"#f0f921\"]],\"type\":\"histogram2d\"}],\"histogram2dcontour\":[{\"colorbar\":{\"outlinewidth\":0,\"ticks\":\"\"},\"colorscale\":[[0.0,\"#0d0887\"],[0.1111111111111111,\"#46039f\"],[0.2222222222222222,\"#7201a8\"],[0.3333333333333333,\"#9c179e\"],[0.4444444444444444,\"#bd3786\"],[0.5555555555555556,\"#d8576b\"],[0.6666666666666666,\"#ed7953\"],[0.7777777777777778,\"#fb9f3a\"],[0.8888888888888888,\"#fdca26\"],[1.0,\"#f0f921\"]],\"type\":\"histogram2dcontour\"}],\"mesh3d\":[{\"colorbar\":{\"outlinewidth\":0,\"ticks\":\"\"},\"type\":\"mesh3d\"}],\"parcoords\":[{\"line\":{\"colorbar\":{\"outlinewidth\":0,\"ticks\":\"\"}},\"type\":\"parcoords\"}],\"pie\":[{\"automargin\":true,\"type\":\"pie\"}],\"scatter\":[{\"marker\":{\"colorbar\":{\"outlinewidth\":0,\"ticks\":\"\"}},\"type\":\"scatter\"}],\"scatter3d\":[{\"line\":{\"colorbar\":{\"outlinewidth\":0,\"ticks\":\"\"}},\"marker\":{\"colorbar\":{\"outlinewidth\":0,\"ticks\":\"\"}},\"type\":\"scatter3d\"}],\"scattercarpet\":[{\"marker\":{\"colorbar\":{\"outlinewidth\":0,\"ticks\":\"\"}},\"type\":\"scattercarpet\"}],\"scattergeo\":[{\"marker\":{\"colorbar\":{\"outlinewidth\":0,\"ticks\":\"\"}},\"type\":\"scattergeo\"}],\"scattergl\":[{\"marker\":{\"colorbar\":{\"outlinewidth\":0,\"ticks\":\"\"}},\"type\":\"scattergl\"}],\"scattermapbox\":[{\"marker\":{\"colorbar\":{\"outlinewidth\":0,\"ticks\":\"\"}},\"type\":\"scattermapbox\"}],\"scatterpolar\":[{\"marker\":{\"colorbar\":{\"outlinewidth\":0,\"ticks\":\"\"}},\"type\":\"scatterpolar\"}],\"scatterpolargl\":[{\"marker\":{\"colorbar\":{\"outlinewidth\":0,\"ticks\":\"\"}},\"type\":\"scatterpolargl\"}],\"scatterternary\":[{\"marker\":{\"colorbar\":{\"outlinewidth\":0,\"ticks\":\"\"}},\"type\":\"scatterternary\"}],\"surface\":[{\"colorbar\":{\"outlinewidth\":0,\"ticks\":\"\"},\"colorscale\":[[0.0,\"#0d0887\"],[0.1111111111111111,\"#46039f\"],[0.2222222222222222,\"#7201a8\"],[0.3333333333333333,\"#9c179e\"],[0.4444444444444444,\"#bd3786\"],[0.5555555555555556,\"#d8576b\"],[0.6666666666666666,\"#ed7953\"],[0.7777777777777778,\"#fb9f3a\"],[0.8888888888888888,\"#fdca26\"],[1.0,\"#f0f921\"]],\"type\":\"surface\"}],\"table\":[{\"cells\":{\"fill\":{\"color\":\"#EBF0F8\"},\"line\":{\"color\":\"white\"}},\"header\":{\"fill\":{\"color\":\"#C8D4E3\"},\"line\":{\"color\":\"white\"}},\"type\":\"table\"}]},\"layout\":{\"annotationdefaults\":{\"arrowcolor\":\"#2a3f5f\",\"arrowhead\":0,\"arrowwidth\":1},\"autotypenumbers\":\"strict\",\"coloraxis\":{\"colorbar\":{\"outlinewidth\":0,\"ticks\":\"\"}},\"colorscale\":{\"diverging\":[[0,\"#8e0152\"],[0.1,\"#c51b7d\"],[0.2,\"#de77ae\"],[0.3,\"#f1b6da\"],[0.4,\"#fde0ef\"],[0.5,\"#f7f7f7\"],[0.6,\"#e6f5d0\"],[0.7,\"#b8e186\"],[0.8,\"#7fbc41\"],[0.9,\"#4d9221\"],[1,\"#276419\"]],\"sequential\":[[0.0,\"#0d0887\"],[0.1111111111111111,\"#46039f\"],[0.2222222222222222,\"#7201a8\"],[0.3333333333333333,\"#9c179e\"],[0.4444444444444444,\"#bd3786\"],[0.5555555555555556,\"#d8576b\"],[0.6666666666666666,\"#ed7953\"],[0.7777777777777778,\"#fb9f3a\"],[0.8888888888888888,\"#fdca26\"],[1.0,\"#f0f921\"]],\"sequentialminus\":[[0.0,\"#0d0887\"],[0.1111111111111111,\"#46039f\"],[0.2222222222222222,\"#7201a8\"],[0.3333333333333333,\"#9c179e\"],[0.4444444444444444,\"#bd3786\"],[0.5555555555555556,\"#d8576b\"],[0.6666666666666666,\"#ed7953\"],[0.7777777777777778,\"#fb9f3a\"],[0.8888888888888888,\"#fdca26\"],[1.0,\"#f0f921\"]]},\"colorway\":[\"#636efa\",\"#EF553B\",\"#00cc96\",\"#ab63fa\",\"#FFA15A\",\"#19d3f3\",\"#FF6692\",\"#B6E880\",\"#FF97FF\",\"#FECB52\"],\"font\":{\"color\":\"#2a3f5f\"},\"geo\":{\"bgcolor\":\"white\",\"lakecolor\":\"white\",\"landcolor\":\"#E5ECF6\",\"showlakes\":true,\"showland\":true,\"subunitcolor\":\"white\"},\"hoverlabel\":{\"align\":\"left\"},\"hovermode\":\"closest\",\"mapbox\":{\"style\":\"light\"},\"paper_bgcolor\":\"white\",\"plot_bgcolor\":\"#E5ECF6\",\"polar\":{\"angularaxis\":{\"gridcolor\":\"white\",\"linecolor\":\"white\",\"ticks\":\"\"},\"bgcolor\":\"#E5ECF6\",\"radialaxis\":{\"gridcolor\":\"white\",\"linecolor\":\"white\",\"ticks\":\"\"}},\"scene\":{\"xaxis\":{\"backgroundcolor\":\"#E5ECF6\",\"gridcolor\":\"white\",\"gridwidth\":2,\"linecolor\":\"white\",\"showbackground\":true,\"ticks\":\"\",\"zerolinecolor\":\"white\"},\"yaxis\":{\"backgroundcolor\":\"#E5ECF6\",\"gridcolor\":\"white\",\"gridwidth\":2,\"linecolor\":\"white\",\"showbackground\":true,\"ticks\":\"\",\"zerolinecolor\":\"white\"},\"zaxis\":{\"backgroundcolor\":\"#E5ECF6\",\"gridcolor\":\"white\",\"gridwidth\":2,\"linecolor\":\"white\",\"showbackground\":true,\"ticks\":\"\",\"zerolinecolor\":\"white\"}},\"shapedefaults\":{\"line\":{\"color\":\"#2a3f5f\"}},\"ternary\":{\"aaxis\":{\"gridcolor\":\"white\",\"linecolor\":\"white\",\"ticks\":\"\"},\"baxis\":{\"gridcolor\":\"white\",\"linecolor\":\"white\",\"ticks\":\"\"},\"bgcolor\":\"#E5ECF6\",\"caxis\":{\"gridcolor\":\"white\",\"linecolor\":\"white\",\"ticks\":\"\"}},\"title\":{\"x\":0.05},\"xaxis\":{\"automargin\":true,\"gridcolor\":\"white\",\"linecolor\":\"white\",\"ticks\":\"\",\"title\":{\"standoff\":15},\"zerolinecolor\":\"white\",\"zerolinewidth\":2},\"yaxis\":{\"automargin\":true,\"gridcolor\":\"white\",\"linecolor\":\"white\",\"ticks\":\"\",\"title\":{\"standoff\":15},\"zerolinecolor\":\"white\",\"zerolinewidth\":2}}},\"xaxis\":{\"anchor\":\"y\",\"domain\":[0,0.5],\"title\":{\"text\":\"# different probes\"},\"constrain\":\"domain\",\"scaleanchor\":\"y\"},\"yaxis\":{\"anchor\":\"x\",\"domain\":[0.0,1.0],\"title\":{\"text\":\"# different contexts\"},\"autorange\":true,\"constrain\":\"domain\"},\"scene\":{\"domain\":{\"x\":[0.55,1.0],\"y\":[0.0,1.0]},\"camera\":{\"eye\":{\"x\":-1.5,\"y\":-1.5,\"z\":0.5}},\"xaxis\":{\"title\":{\"text\":\"# probes\"}},\"yaxis\":{\"title\":{\"text\":\"# contexts\"}},\"zaxis\":{\"title\":{\"text\":\"%\"}}},\"coloraxis\":{\"colorbar\":{\"title\":{\"text\":\"n_required shuffles\",\"side\":\"right\"}},\"colorscale\":[[0.0,\"#000004\"],[0.1111111111111111,\"#1b0c41\"],[0.2222222222222222,\"#4a0c6b\"],[0.3333333333333333,\"#781c6d\"],[0.4444444444444444,\"#a52c60\"],[0.5555555555555556,\"#cf4446\"],[0.6666666666666666,\"#ed6925\"],[0.7777777777777778,\"#fb9b06\"],[0.8888888888888888,\"#f7d13d\"],[1.0,\"#fcffa4\"]]},\"autosize\":true},                        {\"responsive\": true}                    ).then(function(){\n                            \nvar gd = document.getElementById('e55c45aa-5538-4d66-944e-5f5847dcc88e');\nvar x = new MutationObserver(function (mutations, observer) {{\n        var display = window.getComputedStyle(gd).display;\n        if (!display || display === 'none') {{\n            console.log([gd, 'removed!']);\n            Plotly.purge(gd);\n            observer.disconnect();\n        }}\n}});\n\n// Listen for the removal of the full notebook cells\nvar notebookContainer = gd.closest('#notebook-container');\nif (notebookContainer) {{\n    x.observe(notebookContainer, {childList: true});\n}}\n\n// Listen for the clearing of the current output cell\nvar outputEl = gd.closest('.output');\nif (outputEl) {{\n    x.observe(outputEl, {childList: true});\n}}\n\n                        })                };                });            </script>        </div>"
     },
     "metadata": {},
     "output_type": "display_data"
    }
   ],
   "source": [
    "grid = subset_df.values\n",
    "x = subset_df.columns.tolist()\n",
    "y = subset_df.index.tolist()\n",
    "\n",
    "fig = make_subplots(rows=1, cols=2,\n",
    "                        specs=[[{'type': 'xy'}, {'type': 'scene'}]])\n",
    "hm = go.Heatmap(x=x, y=y, z=grid,\n",
    "                coloraxis='coloraxis')\n",
    "\n",
    "_ = fig.add_trace(hm, row=1, col=1)\n",
    "_ = fig.update_xaxes(title_text='# different probes',\n",
    "                     anchor='y', constrain='domain', domain=[0, 0.5], scaleanchor='y')\n",
    "_ = fig.update_yaxes(title_text='# different contexts',\n",
    "                     anchor='x', autorange=True, constrain='domain', domain=[0, 1])\n",
    "\n",
    "sf = go.Surface(x=x, y=y, z=grid,\n",
    "                coloraxis='coloraxis')\n",
    "_ = fig.add_trace(sf, row=1, col=2)\n",
    "_ = fig.update_layout(scene=dict(xaxis=dict(title='# probes',\n",
    "                                            ),\n",
    "                             yaxis=dict(title=\"# contexts\",\n",
    "                                        ),\n",
    "                             zaxis=dict(title='%')\n",
    "                             ),\n",
    "                  autosize=True,\n",
    "                  scene_camera_eye=dict(x=-1.5, y=-1.5, z=0.5),\n",
    "                  coloraxis=dict(colorscale='inferno',\n",
    "                                 colorbar=dict(\n",
    "                                     title=dict(\n",
    "                                         text=f'n_required shuffles',\n",
    "                                         side='right'\n",
    "                                     ))))\n",
    "\n",
    "# img_bytes = fig.to_image(format=\"png\")\n",
    "# Image(img_bytes)\n",
    "fig.show()"
   ],
   "metadata": {
    "collapsed": false,
    "pycharm": {
     "name": "#%%\n"
    }
   }
  }
 ],
 "metadata": {
  "kernelspec": {
   "display_name": "Python 3",
   "language": "python",
   "name": "python3"
  },
  "language_info": {
   "codemirror_mode": {
    "name": "ipython",
    "version": 2
   },
   "file_extension": ".py",
   "mimetype": "text/x-python",
   "name": "python",
   "nbconvert_exporter": "python",
   "pygments_lexer": "ipython2",
   "version": "2.7.6"
  }
 },
 "nbformat": 4,
 "nbformat_minor": 0
}