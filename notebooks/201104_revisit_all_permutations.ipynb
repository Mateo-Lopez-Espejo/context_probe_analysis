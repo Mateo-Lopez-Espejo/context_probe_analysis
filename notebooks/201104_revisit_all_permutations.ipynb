{
 "cells": [
  {
   "cell_type": "markdown",
   "metadata": {
    "collapsed": true,
    "pycharm": {
     "name": "#%% md\n"
    }
   },
   "source": [
    "# Revisit all permutations sound paradigm with the new metrics\n",
    "The last iteration of my experiments have used an stimulation paramete which I have called triplet\n",
    "(three sound fragments coming from the same source) which enables the comparison between sounds with multiple\n",
    "degrees of difference. This however limits the diversity of sounds used for stimulation. In the past\n",
    "I have used four different sounds and consider all the permutations between them used as context and probes\n",
    "This was somewhat replaced by the triplets approach, but keep recording some data with this paradigm.\n",
    "\n",
    "It is time to analyse this data with the latest metrics for contextual effects: significant absolute sum\n",
    "and significant absolute mass center\n",
    "\n",
    "\n",
    "to do:\n",
    "1. load DF, check general distribution of cells in paramter space\n"
   ]
  },
  {
   "cell_type": "code",
   "execution_count": 1,
   "outputs": [
    {
     "name": "stderr",
     "output_type": "stream",
     "text": [
      "[nems.configs.defaults INFO] Saving log messages to /tmp/nems/NEMS 2020-11-05 133345.log\n"
     ]
    }
   ],
   "source": [
    "import itertools as itt\n",
    "import pathlib as pl\n",
    "from configparser import ConfigParser\n",
    "from textwrap import fill\n",
    "\n",
    "import joblib as jl\n",
    "import matplotlib.pyplot as plt\n",
    "import numpy as np\n",
    "import pandas as pd\n",
    "import scipy.stats as sst\n",
    "import seaborn as sns\n",
    "from cycler import cycler\n",
    "from ipywidgets import interact, fixed\n",
    "\n",
    "import src.visualization.fancy_plots as fplt\n",
    "from src.data.cache import set_name"
   ],
   "metadata": {
    "collapsed": false,
    "pycharm": {
     "name": "#%%\n"
    }
   }
  },
  {
   "cell_type": "code",
   "execution_count": null,
   "outputs": [],
   "source": [
    "plt.style.use('dark_background')\n",
    "color_cycler = cycler(color=['#1f77b4', '#ff7f0e', '#2ca02c', '#d62728', '#9467bd',\n",
    "                            '#8c564b', '#e377c2', '#7f7f7f', '#bcbd22', '#17becf'])\n",
    "params = {'legend.fontsize': 'medium',\n",
    "          'axes.labelsize': 15,\n",
    "          'axes.titlesize': 20,\n",
    "          'axes.spines.top': False,\n",
    "          'axes.spines.right': False,\n",
    "          'axes.prop_cycle': color_cycler,\n",
    "          'xtick.labelsize': 11,\n",
    "          'ytick.labelsize': 11,\n",
    "          'lines.markersize': 8,\n",
    "          'figure.titlesize': 30,\n",
    "          'figure.figsize': [6,6],\n",
    "          'figure.autolayout':True,\n",
    "          'svg.fonttype': 'none',\n",
    "          'font.sans-serif': 'Arial'\n",
    "          }\n",
    "plt.rcParams.update(params)"
   ],
   "metadata": {
    "collapsed": false,
    "pycharm": {
     "name": "#%%\n"
    }
   }
  },
  {
   "cell_type": "code",
   "execution_count": null,
   "outputs": [],
   "source": [],
   "metadata": {
    "collapsed": false,
    "pycharm": {
     "name": "#%%\n"
    }
   }
  }
 ],
 "metadata": {
  "kernelspec": {
   "display_name": "Python 3",
   "language": "python",
   "name": "python3"
  },
  "language_info": {
   "codemirror_mode": {
    "name": "ipython",
    "version": 2
   },
   "file_extension": ".py",
   "mimetype": "text/x-python",
   "name": "python",
   "nbconvert_exporter": "python",
   "pygments_lexer": "ipython2",
   "version": "2.7.6"
  }
 },
 "nbformat": 4,
 "nbformat_minor": 0
}