{
 "cells": [
  {
   "cell_type": "markdown",
   "metadata": {
    "collapsed": true,
    "pycharm": {
     "name": "#%% md\n"
    }
   },
   "source": [
    "afte a meeting with Stephen some points are raised\n",
    "1. better reject high espureous center of mass values. The discrimination criterion should be basede on a minimum number\n",
    "of significant bins for the dprime based on a chance cutout\n",
    "2. do most of the analysis should be done on cell-probe pairs\n",
    "3. are contextual effects independent of  probe?? if for one probe there are contextual effects, is there expected that\n",
    "they also exists for other probes?\n",
    "4 for the region comparisons, do them independently for each transition pair, as pooling across all of them might be\n",
    "averaging out the effects, when there is no significant contextual effects.\n",
    "5. convertedly, for comparison of the effects of context transitions, further discriminate based on region\n",
    "6. for  probe, display differences between context with a node-edge graph.\n"
   ]
  }
 ],
 "metadata": {
  "kernelspec": {
   "display_name": "Python 3",
   "language": "python",
   "name": "python3"
  },
  "language_info": {
   "codemirror_mode": {
    "name": "ipython",
    "version": 2
   },
   "file_extension": ".py",
   "mimetype": "text/x-python",
   "name": "python",
   "nbconvert_exporter": "python",
   "pygments_lexer": "ipython2",
   "version": "2.7.6"
  }
 },
 "nbformat": 4,
 "nbformat_minor": 0
}