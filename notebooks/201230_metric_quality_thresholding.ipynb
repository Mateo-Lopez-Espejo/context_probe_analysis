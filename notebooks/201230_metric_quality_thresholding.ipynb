{
 "cells": [
  {
   "cell_type": "markdown",
   "metadata": {
    "collapsed": true,
    "pycharm": {
     "name": "#%% md\n"
    }
   },
   "source": [
    "afte a meeting with Stephen some points are raised\n",
    "1. better reject high espureous center of mass values. The discrimination criterion should be basede on a minimum number\n",
    "of significant bins for the dprime based on a chance cutout\n",
    "2. do most of the analysis should be done on cell-probe pairs\n",
    "3. are contextual effects independent of  probe?? if for one probe there are contextual effects, is there expected that\n",
    "they also exists for other probes?\n",
    "4 for the region comparisons, do them independently for each transition pair, as pooling across all of them might be\n",
    "averaging out the effects, when there is no significant contextual effects.\n",
    "5. convertedly, for comparison of the effects of context transitions, further discriminate based on region\n",
    "6. for  probe, display differences between context with a node-edge graph.\n"
   ]
  },
  {
   "cell_type": "code",
   "execution_count": 1,
   "outputs": [
    {
     "name": "stderr",
     "output_type": "stream",
     "text": [
      "[nems.configs.defaults INFO] Saving log messages to /tmp/nems/NEMS 2020-12-31 144752.log\n"
     ]
    }
   ],
   "source": [
    "import itertools as itt\n",
    "import pathlib as pl\n",
    "from configparser import ConfigParser\n",
    "from textwrap import fill\n",
    "\n",
    "import joblib as jl\n",
    "import matplotlib.pyplot as plt\n",
    "import numpy as np\n",
    "import pandas as pd\n",
    "import scipy.stats as sst\n",
    "import seaborn as sns\n",
    "from cycler import cycler\n",
    "from ipywidgets import interact, fixed\n",
    "\n",
    "import src.visualization.fancy_plots as fplt\n",
    "from src.data.cache import set_name\n",
    "from src.metrics.reliability import signal_reliability\n",
    "from src.data.rasters import raster_from_sig\n",
    "import src.data.dPCA as cdPCA\n",
    "from src.data.load import load\n",
    "from src.metrics.dprime import flip_dprimes\n",
    "from src.metrics.consolidated_dprimes import single_cell_dprimes, _significance"
   ],
   "metadata": {
    "collapsed": false,
    "pycharm": {
     "name": "#%%\n"
    }
   }
  },
  {
   "cell_type": "code",
   "execution_count": null,
   "outputs": [],
   "source": [
    "# dark background formating.\n",
    "plt.style.use('dark_background')\n",
    "# modify figure color cycler back to the default one\n",
    "color_cycler = cycler(color=['#1f77b4', '#ff7f0e', '#2ca02c', '#d62728', '#9467bd',\n",
    "                            '#8c564b', '#e377c2', '#7f7f7f', '#bcbd22', '#17becf'])\n",
    "params = {'legend.fontsize': 'medium',\n",
    "          'axes.labelsize': 15,\n",
    "          'axes.titlesize': 20,\n",
    "          'axes.spines.top': False,\n",
    "          'axes.spines.right': False,\n",
    "          'axes.prop_cycle': color_cycler,\n",
    "          'xtick.labelsize': 11,\n",
    "          'ytick.labelsize': 11,\n",
    "          'lines.markersize': 8,\n",
    "          'figure.titlesize': 30,\n",
    "          'figure.figsize': [6,6],\n",
    "          'figure.autolayout':True,\n",
    "          'svg.fonttype': 'none',\n",
    "          'font.sans-serif': 'Arial'\n",
    "          }\n",
    "plt.rcParams.update(params)"
   ],
   "metadata": {
    "collapsed": false,
    "pycharm": {
     "name": "#%%\n"
    }
   }
  },
  {
   "cell_type": "code",
   "execution_count": null,
   "outputs": [],
   "source": [
    "config = ConfigParser()\n",
    "config.read_file(open(pl.Path().cwd().parent / 'config' / 'settings.ini'))"
   ],
   "metadata": {
    "collapsed": false,
    "pycharm": {
     "name": "#%%\n"
    }
   }
  },
  {
   "cell_type": "code",
   "execution_count": null,
   "outputs": [],
   "source": [
    "meta = {'reliability': 0.1,  # r value\n",
    "        'smoothing_window': 0,  # ms\n",
    "        'raster_fs': 30,\n",
    "        'transitions': [0,1,2,3,4],\n",
    "        'montecarlo': 1000,\n",
    "        'zscore': True,\n",
    "        'dprime_absolute': None,\n",
    "        'stim_type': 'permutations'}\n",
    "\n",
    "# permutations DF\n",
    "summary_DF_file = pl.Path(config['paths']['analysis_cache']) / 'prm_summary_DF_v2' / set_name(meta)\n",
    "permDF = jl.load(summary_DF_file)"
   ],
   "metadata": {
    "collapsed": false,
    "pycharm": {
     "name": "#%%\n"
    }
   }
  },
  {
   "cell_type": "markdown",
   "source": [
    "Parse the functions \"_significance\" from src.consolidated_dprimes, and execute it by partes"
   ],
   "metadata": {
    "collapsed": false,
    "pycharm": {
     "name": "#%% md\n"
    }
   }
  },
  {
   "cell_type": "code",
   "execution_count": 1,
   "outputs": [],
   "source": [
    "site = 'CRD004a'\n",
    "# probes = [2, 3, 5, 6] #triplets\n",
    "probes = [1, 2, 3, 4] #permutations\n",
    "\n",
    "# shape (Montecarlo) x Units x Ctx_pair x Probe x Time\n",
    "dprime, shuffle_dprime, goodcells = single_cell_dprimes(site, probes, meta)\n",
    "significance, corrected_signif, confidence_interval = _significance(dprime, shuffle_dprime, [])\n",
    "\n",
    "\n",
    "\n",
    "\n",
    "\n",
    "\n",
    "\n",
    "\n",
    "\n",
    "\n",
    "\n"
   ],
   "metadata": {
    "collapsed": false,
    "pycharm": {
     "name": "#%%\n"
    }
   }
  }
 ],
 "metadata": {
  "kernelspec": {
   "display_name": "Python 3",
   "language": "python",
   "name": "python3"
  },
  "language_info": {
   "codemirror_mode": {
    "name": "ipython",
    "version": 2
   },
   "file_extension": ".py",
   "mimetype": "text/x-python",
   "name": "python",
   "nbconvert_exporter": "python",
   "pygments_lexer": "ipython2",
   "version": "2.7.6"
  }
 },
 "nbformat": 4,
 "nbformat_minor": 0
}