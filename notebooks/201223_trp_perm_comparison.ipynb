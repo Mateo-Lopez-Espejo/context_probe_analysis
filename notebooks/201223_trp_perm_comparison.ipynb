{
 "cells": [
  {
   "cell_type": "markdown",
   "metadata": {
    "collapsed": true,
    "pycharm": {
     "name": "#%% md\n"
    }
   },
   "source": [
    "# Compare metrics between all 'Triplets' and 'Permutations'\n",
    "\n"
   ]
  },
  {
   "cell_type": "code",
   "execution_count": 1,
   "outputs": [
    {
     "name": "stderr",
     "output_type": "stream",
     "text": [
      "[nems.configs.defaults INFO] Saving log messages to /tmp/nems/NEMS 2020-12-23 143844.log\n"
     ]
    }
   ],
   "source": [
    "import itertools as itt\n",
    "import pathlib as pl\n",
    "from configparser import ConfigParser\n",
    "from textwrap import fill\n",
    "\n",
    "import joblib as jl\n",
    "import matplotlib.pyplot as plt\n",
    "import numpy as np\n",
    "import pandas as pd\n",
    "import scipy.stats as sst\n",
    "import seaborn as sns\n",
    "from cycler import cycler\n",
    "from ipywidgets import interact, fixed\n",
    "\n",
    "import src.visualization.fancy_plots as fplt\n",
    "from src.data.cache import set_name\n",
    "from src.metrics.reliability import signal_reliability\n",
    "from src.data.rasters import raster_from_sig\n",
    "import src.data.dPCA as cdPCA\n",
    "from src.data.load import load\n",
    "from src.metrics.dprime import flip_dprimes"
   ],
   "metadata": {
    "collapsed": false,
    "pycharm": {
     "name": "#%%\n"
    }
   }
  },
  {
   "cell_type": "code",
   "execution_count": 2,
   "outputs": [],
   "source": [
    "plt.style.use('dark_background')\n",
    "# modify figure color cycler back to the default one\n",
    "color_cycler = cycler(color=['#1f77b4', '#ff7f0e', '#2ca02c', '#d62728', '#9467bd',\n",
    "                            '#8c564b', '#e377c2', '#7f7f7f', '#bcbd22', '#17becf'])\n",
    "\n",
    "params = {'legend.fontsize': 'medium',\n",
    "          'axes.labelsize': 15,\n",
    "          'axes.titlesize': 20,\n",
    "          'axes.spines.top': False,\n",
    "          'axes.spines.right': False,\n",
    "          'axes.prop_cycle': color_cycler,\n",
    "          'xtick.labelsize': 11,\n",
    "          'ytick.labelsize': 11,\n",
    "          'lines.markersize': 8,\n",
    "          'figure.titlesize': 30,\n",
    "          'figure.figsize': [6,6],\n",
    "          'figure.autolayout':True,\n",
    "          'svg.fonttype': 'none',\n",
    "          'font.sans-serif': 'Arial'\n",
    "          }\n",
    "\n",
    "plt.rcParams.update(params)\n"
   ],
   "metadata": {
    "collapsed": false,
    "pycharm": {
     "name": "#%%\n"
    }
   }
  },
  {
   "cell_type": "code",
   "execution_count": 3,
   "outputs": [],
   "source": [
    "config = ConfigParser()\n",
    "config.read_file(open(pl.Path().cwd().parent / 'config' / 'settings.ini'))"
   ],
   "metadata": {
    "collapsed": false,
    "pycharm": {
     "name": "#%%\n"
    }
   }
  },
  {
   "cell_type": "code",
   "execution_count": 6,
   "outputs": [],
   "source": [
    "meta = {'reliability': 0.1,  # r value\n",
    "        'smoothing_window': 0,  # ms\n",
    "        'raster_fs': 30,\n",
    "        'transitions': ['silence', 'continuous', 'similar', 'sharp'],\n",
    "        'montecarlo': 1000,\n",
    "        'zscore': True,\n",
    "        'dprime_absolute': None}\n",
    "\n",
    "# triplets DF\n",
    "summary_DF_file = pl.Path(config['paths']['analysis_cache']) / 'DF_summary' / set_name(meta)\n",
    "trpDF = jl.load(summary_DF_file)\n",
    "# create the id_probe pair for\n",
    "trpDF['id_probe'] = trpDF['cellid'].fillna(value=trpDF['siteid'])\n",
    "trpDF['id_probe'] = trpDF[['id_probe', 'probe']].agg('_'.join, axis=1)\n",
    "trpDF['stim'] = 'triplets'\n"
   ],
   "metadata": {
    "collapsed": false,
    "pycharm": {
     "name": "#%%\n"
    }
   }
  },
  {
   "cell_type": "code",
   "execution_count": 7,
   "outputs": [],
   "source": [
    "meta = {'reliability': 0.1,  # r value\n",
    "        'smoothing_window': 0,  # ms\n",
    "        'raster_fs': 30,\n",
    "        'transitions': [0, 1, 2, 3, 4],\n",
    "        'montecarlo': 1000,\n",
    "        'zscore': True,\n",
    "        'dprime_absolute': None}\n",
    "\n",
    "# permutations DF\n",
    "summary_DF_file = pl.Path(config['paths']['analysis_cache']) / 'prm_summary_DF_v2' / set_name(meta)\n",
    "permDF = jl.load(summary_DF_file)\n",
    "#create the id_probe pair for\n",
    "permDF['id_probe'] = permDF['cellid'].fillna(value=permDF['siteid'])\n",
    "permDF['id_probe'] = permDF[['id_probe', 'probe']].agg('_'.join, axis=1)\n",
    "permDF['stim'] = 'permutations'\n"
   ],
   "metadata": {
    "collapsed": false,
    "pycharm": {
     "name": "#%%\n"
    }
   }
  },
  {
   "cell_type": "code",
   "execution_count": 10,
   "outputs": [],
   "source": [
    "DF = pd.concat([trpDF, permDF])\n",
    "print(DF.columns)\n",
    "print(DF.shape)\n"
   ],
   "metadata": {
    "collapsed": false,
    "pycharm": {
     "name": "#%%\n"
    }
   }
  },
  {
   "cell_type": "code",
   "execution_count": 12,
   "outputs": [
    {
     "name": "stdout",
     "output_type": "stream",
     "text": [
      "       analysis        cellid  goodness                    parameter probe  \\\n",
      "452          SC  CRD003b-02-2       NaN          significant_abs_sum  mean   \n",
      "907          SC  CRD003b-03-1       NaN          significant_abs_sum  mean   \n",
      "909          SC  CRD003b-03-1       NaN  significant_abs_mass_center  mean   \n",
      "1362         SC  CRD003b-05-1       NaN          significant_abs_sum  mean   \n",
      "1364         SC  CRD003b-05-1       NaN  significant_abs_mass_center  mean   \n",
      "1817         SC  CRD003b-06-1       NaN          significant_abs_sum  mean   \n",
      "1819         SC  CRD003b-06-1       NaN  significant_abs_mass_center  mean   \n",
      "2272         SC  CRD003b-07-1       NaN          significant_abs_sum  mean   \n",
      "2274         SC  CRD003b-07-1       NaN  significant_abs_mass_center  mean   \n",
      "3182         SC  CRD003b-14-1       NaN          significant_abs_sum  mean   \n",
      "3184         SC  CRD003b-14-1       NaN  significant_abs_mass_center  mean   \n",
      "4092         SC  CRD003b-21-1       NaN          significant_abs_sum  mean   \n",
      "4094         SC  CRD003b-21-1       NaN  significant_abs_mass_center  mean   \n",
      "4547         SC  CRD003b-28-1       NaN          significant_abs_sum  mean   \n",
      "4549         SC  CRD003b-28-1       NaN  significant_abs_mass_center  mean   \n",
      "5457         SC  CRD003b-33-1       NaN          significant_abs_sum  mean   \n",
      "5459         SC  CRD003b-33-1       NaN  significant_abs_mass_center  mean   \n",
      "5912         SC  CRD003b-36-1       NaN          significant_abs_sum  mean   \n",
      "5914         SC  CRD003b-36-1       NaN  significant_abs_mass_center  mean   \n",
      "6367         SC  CRD003b-36-2       NaN          significant_abs_sum  mean   \n",
      "6369         SC  CRD003b-36-2       NaN  significant_abs_mass_center  mean   \n",
      "6822         SC  CRD003b-37-1       NaN          significant_abs_sum  mean   \n",
      "6824         SC  CRD003b-37-1       NaN  significant_abs_mass_center  mean   \n",
      "7277         SC  CRD003b-39-1       NaN          significant_abs_sum  mean   \n",
      "7279         SC  CRD003b-39-1       NaN  significant_abs_mass_center  mean   \n",
      "7732         SC  CRD003b-40-1       NaN          significant_abs_sum  mean   \n",
      "7734         SC  CRD003b-40-1       NaN  significant_abs_mass_center  mean   \n",
      "8187         SC  CRD003b-41-1       NaN          significant_abs_sum  mean   \n",
      "8189         SC  CRD003b-41-1       NaN  significant_abs_mass_center  mean   \n",
      "8642         SC  CRD003b-41-2       NaN          significant_abs_sum  mean   \n",
      "...         ...           ...       ...                          ...   ...   \n",
      "403257    fdPCA           NaN       NaN          significant_abs_sum  mean   \n",
      "403259    fdPCA           NaN       NaN  significant_abs_mass_center  mean   \n",
      "403972    fdPCA           NaN       NaN          significant_abs_sum  mean   \n",
      "403974    fdPCA           NaN       NaN  significant_abs_mass_center  mean   \n",
      "404687    fdPCA           NaN       NaN          significant_abs_sum  mean   \n",
      "404689    fdPCA           NaN       NaN  significant_abs_mass_center  mean   \n",
      "405402    fdPCA           NaN       NaN          significant_abs_sum  mean   \n",
      "405404    fdPCA           NaN       NaN  significant_abs_mass_center  mean   \n",
      "406117    fdPCA           NaN       NaN          significant_abs_sum  mean   \n",
      "406119    fdPCA           NaN       NaN  significant_abs_mass_center  mean   \n",
      "406832    fdPCA           NaN       NaN          significant_abs_sum  mean   \n",
      "406834    fdPCA           NaN       NaN  significant_abs_mass_center  mean   \n",
      "407547    fdPCA           NaN       NaN          significant_abs_sum  mean   \n",
      "407549    fdPCA           NaN       NaN  significant_abs_mass_center  mean   \n",
      "408262    fdPCA           NaN       NaN          significant_abs_sum  mean   \n",
      "408264    fdPCA           NaN       NaN  significant_abs_mass_center  mean   \n",
      "408977    fdPCA           NaN       NaN          significant_abs_sum  mean   \n",
      "408979    fdPCA           NaN       NaN  significant_abs_mass_center  mean   \n",
      "409692    fdPCA           NaN       NaN          significant_abs_sum  mean   \n",
      "409694    fdPCA           NaN       NaN  significant_abs_mass_center  mean   \n",
      "410407    fdPCA           NaN       NaN          significant_abs_sum  mean   \n",
      "410409    fdPCA           NaN       NaN  significant_abs_mass_center  mean   \n",
      "411122    fdPCA           NaN       NaN          significant_abs_sum  mean   \n",
      "411124    fdPCA           NaN       NaN  significant_abs_mass_center  mean   \n",
      "411837    fdPCA           NaN       NaN          significant_abs_sum  mean   \n",
      "411839    fdPCA           NaN       NaN  significant_abs_mass_center  mean   \n",
      "412552    fdPCA           NaN       NaN          significant_abs_sum  mean   \n",
      "412554    fdPCA           NaN       NaN  significant_abs_mass_center  mean   \n",
      "413267    fdPCA           NaN       NaN          significant_abs_sum  mean   \n",
      "413269    fdPCA           NaN       NaN  significant_abs_mass_center  mean   \n",
      "\n",
      "         siteid  source  std transition_pair       value region  \\\n",
      "452     CRD003b  dprime  NaN            mean    5.014606     A1   \n",
      "907     CRD003b  dprime  NaN            mean   17.113021     A1   \n",
      "909     CRD003b  dprime  NaN            mean  266.209267     A1   \n",
      "1362    CRD003b  dprime  NaN            mean   40.500124     A1   \n",
      "1364    CRD003b  dprime  NaN            mean  388.309432     A1   \n",
      "1817    CRD003b  dprime  NaN            mean   14.310109     A1   \n",
      "1819    CRD003b  dprime  NaN            mean  444.072305     A1   \n",
      "2272    CRD003b  dprime  NaN            mean   19.826564     A1   \n",
      "2274    CRD003b  dprime  NaN            mean   72.908315     A1   \n",
      "3182    CRD003b  dprime  NaN            mean   69.319363     A1   \n",
      "3184    CRD003b  dprime  NaN            mean  102.409674     A1   \n",
      "4092    CRD003b  dprime  NaN            mean   43.326013     A1   \n",
      "4094    CRD003b  dprime  NaN            mean  102.991394     A1   \n",
      "4547    CRD003b  dprime  NaN            mean   61.686099     A1   \n",
      "4549    CRD003b  dprime  NaN            mean   36.848440     A1   \n",
      "5457    CRD003b  dprime  NaN            mean   46.356333     A1   \n",
      "5459    CRD003b  dprime  NaN            mean   68.371599     A1   \n",
      "5912    CRD003b  dprime  NaN            mean   18.759455     A1   \n",
      "5914    CRD003b  dprime  NaN            mean   10.419760     A1   \n",
      "6367    CRD003b  dprime  NaN            mean  100.046471     A1   \n",
      "6369    CRD003b  dprime  NaN            mean  350.473482     A1   \n",
      "6822    CRD003b  dprime  NaN            mean   22.247966     A1   \n",
      "6824    CRD003b  dprime  NaN            mean  566.886128     A1   \n",
      "7277    CRD003b  dprime  NaN            mean    8.633464     A1   \n",
      "7279    CRD003b  dprime  NaN            mean  396.652938     A1   \n",
      "7732    CRD003b  dprime  NaN            mean   35.746544     A1   \n",
      "7734    CRD003b  dprime  NaN            mean   88.211218     A1   \n",
      "8187    CRD003b  dprime  NaN            mean  117.730472     A1   \n",
      "8189    CRD003b  dprime  NaN            mean   55.215212     A1   \n",
      "8642    CRD003b  dprime  NaN            mean   25.672307     A1   \n",
      "...         ...     ...  ...             ...         ...    ...   \n",
      "403257  AMT029a  dprime  NaN            mean  402.725049    PEG   \n",
      "403259  AMT029a  dprime  NaN            mean  243.245378    PEG   \n",
      "403972  ley072b  dprime  NaN            mean  210.251183     A1   \n",
      "403974  ley072b  dprime  NaN            mean  376.017858     A1   \n",
      "404687  CRD004a  dprime  NaN            mean  569.990421     A1   \n",
      "404689  CRD004a  dprime  NaN            mean  270.246823     A1   \n",
      "405402  CRD018d  dprime  NaN            mean  314.317982     A1   \n",
      "405404  CRD018d  dprime  NaN            mean  197.063037     A1   \n",
      "406117  CRD011c  dprime  NaN            mean  322.901915    PEG   \n",
      "406119  CRD011c  dprime  NaN            mean  221.237529    PEG   \n",
      "406832  ley075b  dprime  NaN            mean  172.913955     A1   \n",
      "406834  ley075b  dprime  NaN            mean  490.094438     A1   \n",
      "407547  CRD002a  dprime  NaN            mean  385.923764     A1   \n",
      "407549  CRD002a  dprime  NaN            mean  363.489753     A1   \n",
      "408262  AMT030a  dprime  NaN            mean  298.068983    PEG   \n",
      "408264  AMT030a  dprime  NaN            mean  309.590518    PEG   \n",
      "408977  CRD014b  dprime  NaN            mean  195.039059    PEG   \n",
      "408979  CRD014b  dprime  NaN            mean  150.686445    PEG   \n",
      "409692  AMT032a  dprime  NaN            mean  201.622744    PEG   \n",
      "409694  AMT032a  dprime  NaN            mean  195.047154    PEG   \n",
      "410407  AMT026a  dprime  NaN            mean  217.434352    PEG   \n",
      "410409  AMT026a  dprime  NaN            mean  226.324625    PEG   \n",
      "411122  ley074a  dprime  NaN            mean   77.894290     A1   \n",
      "411124  ley074a  dprime  NaN            mean  578.647389     A1   \n",
      "411837  CRD019b  dprime  NaN            mean  155.735432     A1   \n",
      "411839  CRD019b  dprime  NaN            mean  233.176513     A1   \n",
      "412552  CRD012b  dprime  NaN            mean  415.725946    PEG   \n",
      "412554  CRD012b  dprime  NaN            mean  455.768980    PEG   \n",
      "413267  ley070a  dprime  NaN            mean  216.939044     A1   \n",
      "413269  ley070a  dprime  NaN            mean  241.915408     A1   \n",
      "\n",
      "                 id_probe          stim  \n",
      "452     CRD003b-02-2_mean      triplets  \n",
      "907     CRD003b-03-1_mean      triplets  \n",
      "909     CRD003b-03-1_mean      triplets  \n",
      "1362    CRD003b-05-1_mean      triplets  \n",
      "1364    CRD003b-05-1_mean      triplets  \n",
      "1817    CRD003b-06-1_mean      triplets  \n",
      "1819    CRD003b-06-1_mean      triplets  \n",
      "2272    CRD003b-07-1_mean      triplets  \n",
      "2274    CRD003b-07-1_mean      triplets  \n",
      "3182    CRD003b-14-1_mean      triplets  \n",
      "3184    CRD003b-14-1_mean      triplets  \n",
      "4092    CRD003b-21-1_mean      triplets  \n",
      "4094    CRD003b-21-1_mean      triplets  \n",
      "4547    CRD003b-28-1_mean      triplets  \n",
      "4549    CRD003b-28-1_mean      triplets  \n",
      "5457    CRD003b-33-1_mean      triplets  \n",
      "5459    CRD003b-33-1_mean      triplets  \n",
      "5912    CRD003b-36-1_mean      triplets  \n",
      "5914    CRD003b-36-1_mean      triplets  \n",
      "6367    CRD003b-36-2_mean      triplets  \n",
      "6369    CRD003b-36-2_mean      triplets  \n",
      "6822    CRD003b-37-1_mean      triplets  \n",
      "6824    CRD003b-37-1_mean      triplets  \n",
      "7277    CRD003b-39-1_mean      triplets  \n",
      "7279    CRD003b-39-1_mean      triplets  \n",
      "7732    CRD003b-40-1_mean      triplets  \n",
      "7734    CRD003b-40-1_mean      triplets  \n",
      "8187    CRD003b-41-1_mean      triplets  \n",
      "8189    CRD003b-41-1_mean      triplets  \n",
      "8642    CRD003b-41-2_mean      triplets  \n",
      "...                   ...           ...  \n",
      "403257       AMT029a_mean  permutations  \n",
      "403259       AMT029a_mean  permutations  \n",
      "403972       ley072b_mean  permutations  \n",
      "403974       ley072b_mean  permutations  \n",
      "404687       CRD004a_mean  permutations  \n",
      "404689       CRD004a_mean  permutations  \n",
      "405402       CRD018d_mean  permutations  \n",
      "405404       CRD018d_mean  permutations  \n",
      "406117       CRD011c_mean  permutations  \n",
      "406119       CRD011c_mean  permutations  \n",
      "406832       ley075b_mean  permutations  \n",
      "406834       ley075b_mean  permutations  \n",
      "407547       CRD002a_mean  permutations  \n",
      "407549       CRD002a_mean  permutations  \n",
      "408262       AMT030a_mean  permutations  \n",
      "408264       AMT030a_mean  permutations  \n",
      "408977       CRD014b_mean  permutations  \n",
      "408979       CRD014b_mean  permutations  \n",
      "409692       AMT032a_mean  permutations  \n",
      "409694       AMT032a_mean  permutations  \n",
      "410407       AMT026a_mean  permutations  \n",
      "410409       AMT026a_mean  permutations  \n",
      "411122       ley074a_mean  permutations  \n",
      "411124       ley074a_mean  permutations  \n",
      "411837       CRD019b_mean  permutations  \n",
      "411839       CRD019b_mean  permutations  \n",
      "412552       CRD012b_mean  permutations  \n",
      "412554       CRD012b_mean  permutations  \n",
      "413267       ley070a_mean  permutations  \n",
      "413269       ley070a_mean  permutations  \n",
      "\n",
      "[1744 rows x 13 columns]\n"
     ]
    }
   ],
   "source": [
    "# common parameters\n",
    "analysis = ['SC', 'dPCA', 'pdPCA','fdPCA']\n",
    "analysis = ['SC']\n",
    "\n",
    "ff_parameter = DF.parameter.isin(['significant_abs_sum', 'significant_abs_mass_center'])\n",
    "ff_analysis = DF.analysis.isin(analysis)\n",
    "ff_source = DF.source == 'dprime'\n",
    "ff_probe = DF.probe == 'mean'\n",
    "ff_transpair= DF.transition_pair == 'mean'\n",
    "ff_good = DF.value > 0 # empirical good value to filter out garbage cells\n",
    "\n",
    "filtered = DF.loc[ff_parameter & ff_analysis & ff_source & ff_probe & ff_transpair & ff_good, :]"
   ],
   "metadata": {
    "collapsed": false,
    "pycharm": {
     "name": "#%%\n"
    }
   }
  },
  {
   "cell_type": "code",
   "execution_count": null,
   "outputs": [],
   "source": [
    "pivoted = filtered.pivot_table(index=['siteid', 'parameter'],\n",
    "                               columns='analysis', values='value').dropna().reset_index()\n",
    "\n",
    "g = sns.lmplot(x='pdPCA', y='fdPCA', col='parameter', data=pivoted,\n",
    "                 sharex=False, sharey=False,\n",
    "                 scatter_kws={'color':'white'}, line_kws={'color':'white'})\n",
    "g.set_titles('{col_name}')\n",
    "g.fig.tight_layout()\n",
    "\n",
    "for ax in g.axes.flat:\n",
    "    _ = fplt.unit_line(ax)\n",
    "\n"
   ],
   "metadata": {
    "collapsed": false,
    "pycharm": {
     "name": "#%%\n"
    }
   }
  },
  {
   "cell_type": "code",
   "execution_count": null,
   "outputs": [],
   "source": [],
   "metadata": {
    "collapsed": false,
    "pycharm": {
     "name": "#%%\n"
    }
   }
  }
 ],
 "metadata": {
  "kernelspec": {
   "display_name": "Python 3",
   "language": "python",
   "name": "python3"
  },
  "language_info": {
   "codemirror_mode": {
    "name": "ipython",
    "version": 2
   },
   "file_extension": ".py",
   "mimetype": "text/x-python",
   "name": "python",
   "nbconvert_exporter": "python",
   "pygments_lexer": "ipython2",
   "version": "2.7.6"
  }
 },
 "nbformat": 4,
 "nbformat_minor": 0
}