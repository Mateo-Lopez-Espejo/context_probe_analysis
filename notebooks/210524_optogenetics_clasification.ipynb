{
 "cells": [
  {
   "cell_type": "code",
   "execution_count": 1,
   "metadata": {
    "collapsed": true
   },
   "outputs": [
    {
     "name": "stderr",
     "output_type": "stream",
     "text": [
      "/auto/users/mateo/nems_db/nems_lbhb/SettingXML.py:66: SyntaxWarning: \"is not\" with a literal. Did you mean \"!=\"?\n",
      "  {K: SubEl.get(K) for K in SubEl.keys() if K is not 'name'}\n",
      "/auto/users/mateo/nems_db/nems_lbhb/SettingXML.py:76: SyntaxWarning: \"is not\" with a literal. Did you mean \"!=\"?\n",
      "  {K: SubEl.get(K) for K in SubEl.keys() if K is not 'name'}\n",
      "/auto/users/mateo/nems_db/nems_lbhb/SettingXML.py:81: SyntaxWarning: \"is not\" with a literal. Did you mean \"!=\"?\n",
      "  {K: SubEl.get(K) for K in SubEl.keys() if K is not 'name'}\n",
      "[nems.configs.defaults INFO] Saving log messages to /tmp/nems/NEMS 2021-05-24 155247.log\n",
      "<ipython-input-1-b84596128074>:9: MatplotlibDeprecationWarning: \n",
      "The mpl_toolkits.axes_grid module was deprecated in Matplotlib 2.1 and will be removed two minor releases later. Use mpl_toolkits.axes_grid1 and mpl_toolkits.axisartist, which provide the same functionality instead.\n",
      "  from mpl_toolkits.axes_grid.inset_locator import (inset_axes, InsetPosition,\n"
     ]
    }
   ],
   "source": [
    "\"\"\"\n",
    "Two example neurons, with waveforms\n",
    "\"\"\"\n",
    "from nems_lbhb.baphy_experiment import BAPHYExperiment\n",
    "import matplotlib.pyplot as plt\n",
    "import numpy as np\n",
    "import pathlib as pl\n",
    "import nems_lbhb.baphy_io as io\n",
    "from mpl_toolkits.axes_grid.inset_locator import (inset_axes, InsetPosition,\n",
    "                                                  mark_inset)\n",
    "import matplotlib as mpl"
   ]
  },
  {
   "cell_type": "code",
   "execution_count": 7,
   "outputs": [
    {
     "name": "stderr",
     "output_type": "stream",
     "text": [
      "[nems_lbhb.baphy_io INFO] Loading /auto/data/daq/Teonancatl/TNC004/TNC004a13_p_NON.m\n",
      "[nems_lbhb.baphy_io INFO] evp file for licks: /auto/data/daq/Teonancatl/TNC004/TNC004a13_p_NON.evp\n"
     ]
    }
   ],
   "source": [
    "parmfile = '/auto/data/daq/Teonancatl/TNC004/TNC004a12_p_NON.m'\n",
    "parmfile = '/auto/data/daq/Teonancatl/TNC004/TNC004a13_p_NON.m'\n",
    "\n",
    "animal = 'Teonancatl'\n",
    "\n",
    "rasterfs = 1000\n",
    "recache = False\n",
    "options = {'resp': True, 'rasterfs': rasterfs}\n",
    "manager = BAPHYExperiment(parmfile=parmfile)\n",
    "tstart = -0.02\n",
    "tend = 0.1"
   ],
   "metadata": {
    "collapsed": false,
    "pycharm": {
     "name": "#%%\n"
    }
   }
  },
  {
   "cell_type": "code",
   "execution_count": 6,
   "outputs": [
    {
     "name": "stderr",
     "output_type": "stream",
     "text": [
      "[nems_lbhb.baphy_experiment INFO] Cached recording: /auto/data/nems_db/recordings/Teonancatl/TNC004a/TNC004a_e8772cf68869b676687b55751a56c465087323d0.tgz\n",
      "[nems_lbhb.baphy_io INFO] Loading /auto/data/daq/Teonancatl/TNC004/TNC004a13_p_NON.m\n",
      "[nems_lbhb.baphy_io INFO] evp file for licks: /auto/data/daq/Teonancatl/TNC004/TNC004a13_p_NON.evp\n",
      "[nems_lbhb.baphy_io INFO] Loading /auto/data/daq/Teonancatl/TNC004/TNC004a13_p_NON.m\n",
      "[nems_lbhb.baphy_io INFO] evp file for licks: /auto/data/daq/Teonancatl/TNC004/TNC004a13_p_NON.evp\n",
      "[nems_lbhb.baphy_experiment INFO] Remove post-response events\n",
      "[nems_lbhb.baphy_experiment INFO] Removing post-reponse data\n",
      "[nems_lbhb.baphy_io INFO] rounding Trial offset spike times to even number of rasterfs bins\n",
      "[numexpr.utils INFO] NumExpr defaulting to 8 threads.\n",
      "[nems_lbhb.baphy_io INFO] 120 trials totaling 205.07 sec\n",
      "[nems_lbhb.baphy_io INFO] Loading /auto/data/daq/Teonancatl/TNC004/TNC004a13_p_NON.m\n",
      "[nems_lbhb.baphy_io INFO] evp file for licks: /auto/data/daq/Teonancatl/TNC004/TNC004a13_p_NON.evp\n",
      "[nems_lbhb.baphy_experiment INFO] Creating trial epochs\n",
      "[nems_lbhb.baphy_experiment INFO] Creating stim epochs\n",
      "[nems_lbhb.baphy_experiment INFO] Creating Light epochs\n"
     ]
    },
    {
     "ename": "ValueError",
     "evalue": "Unable to coerce to Series, length must be 4: given 0",
     "output_type": "error",
     "traceback": [
      "\u001B[0;31m---------------------------------------------------------------------------\u001B[0m",
      "\u001B[0;31mValueError\u001B[0m                                Traceback (most recent call last)",
      "\u001B[0;32m<ipython-input-6-c2ba9705a089>\u001B[0m in \u001B[0;36m<module>\u001B[0;34m\u001B[0m\n\u001B[0;32m----> 1\u001B[0;31m \u001B[0mrec\u001B[0m \u001B[0;34m=\u001B[0m \u001B[0mmanager\u001B[0m\u001B[0;34m.\u001B[0m\u001B[0mget_recording\u001B[0m\u001B[0;34m(\u001B[0m\u001B[0mrecache\u001B[0m\u001B[0;34m=\u001B[0m\u001B[0mrecache\u001B[0m\u001B[0;34m,\u001B[0m \u001B[0;34m**\u001B[0m\u001B[0moptions\u001B[0m\u001B[0;34m)\u001B[0m\u001B[0;34m\u001B[0m\u001B[0;34m\u001B[0m\u001B[0m\n\u001B[0m\u001B[1;32m      2\u001B[0m \u001B[0mrec\u001B[0m\u001B[0;34m[\u001B[0m\u001B[0;34m'resp'\u001B[0m\u001B[0;34m]\u001B[0m \u001B[0;34m=\u001B[0m \u001B[0mrec\u001B[0m\u001B[0;34m[\u001B[0m\u001B[0;34m'resp'\u001B[0m\u001B[0;34m]\u001B[0m\u001B[0;34m.\u001B[0m\u001B[0mrasterize\u001B[0m\u001B[0;34m(\u001B[0m\u001B[0;34m)\u001B[0m\u001B[0;34m\u001B[0m\u001B[0;34m\u001B[0m\u001B[0m\n\u001B[1;32m      3\u001B[0m \u001B[0mprestim\u001B[0m \u001B[0;34m=\u001B[0m \u001B[0mrec\u001B[0m\u001B[0;34m[\u001B[0m\u001B[0;34m'resp'\u001B[0m\u001B[0;34m]\u001B[0m\u001B[0;34m.\u001B[0m\u001B[0mextract_epoch\u001B[0m\u001B[0;34m(\u001B[0m\u001B[0;34m'PreStimSilence'\u001B[0m\u001B[0;34m)\u001B[0m\u001B[0;34m.\u001B[0m\u001B[0mshape\u001B[0m\u001B[0;34m[\u001B[0m\u001B[0;34m-\u001B[0m\u001B[0;36m1\u001B[0m\u001B[0;34m]\u001B[0m \u001B[0;34m/\u001B[0m \u001B[0mrasterfs\u001B[0m\u001B[0;34m\u001B[0m\u001B[0;34m\u001B[0m\u001B[0m\n\u001B[1;32m      4\u001B[0m \u001B[0mm\u001B[0m \u001B[0;34m=\u001B[0m \u001B[0mrec\u001B[0m\u001B[0;34m.\u001B[0m\u001B[0mcopy\u001B[0m\u001B[0;34m(\u001B[0m\u001B[0;34m)\u001B[0m\u001B[0;34m.\u001B[0m\u001B[0mand_mask\u001B[0m\u001B[0;34m(\u001B[0m\u001B[0;34m[\u001B[0m\u001B[0;34m'PreStimSilence'\u001B[0m\u001B[0;34m,\u001B[0m \u001B[0;34m'PostStimSilence'\u001B[0m\u001B[0;34m]\u001B[0m\u001B[0;34m,\u001B[0m \u001B[0minvert\u001B[0m\u001B[0;34m=\u001B[0m\u001B[0;32mTrue\u001B[0m\u001B[0;34m)\u001B[0m\u001B[0;34m\u001B[0m\u001B[0;34m\u001B[0m\u001B[0m\n\u001B[1;32m      5\u001B[0m \u001B[0mpoststim\u001B[0m \u001B[0;34m=\u001B[0m \u001B[0;34m(\u001B[0m\u001B[0mrec\u001B[0m\u001B[0;34m[\u001B[0m\u001B[0;34m'resp'\u001B[0m\u001B[0;34m]\u001B[0m\u001B[0;34m.\u001B[0m\u001B[0mextract_epoch\u001B[0m\u001B[0;34m(\u001B[0m\u001B[0;34m'REFERENCE'\u001B[0m\u001B[0;34m,\u001B[0m \u001B[0mmask\u001B[0m\u001B[0;34m=\u001B[0m\u001B[0mm\u001B[0m\u001B[0;34m[\u001B[0m\u001B[0;34m'mask'\u001B[0m\u001B[0;34m]\u001B[0m\u001B[0;34m,\u001B[0m \u001B[0mallow_incomplete\u001B[0m\u001B[0;34m=\u001B[0m\u001B[0;32mTrue\u001B[0m\u001B[0;34m)\u001B[0m\u001B[0;34m.\u001B[0m\u001B[0mshape\u001B[0m\u001B[0;34m[\u001B[0m\u001B[0;34m-\u001B[0m\u001B[0;36m1\u001B[0m\u001B[0;34m]\u001B[0m \u001B[0;34m/\u001B[0m \u001B[0mrasterfs\u001B[0m\u001B[0;34m)\u001B[0m \u001B[0;34m+\u001B[0m \u001B[0mprestim\u001B[0m\u001B[0;34m\u001B[0m\u001B[0;34m\u001B[0m\u001B[0m\n",
      "\u001B[0;32m/auto/users/mateo/nems_db/nems_lbhb/baphy_experiment.py\u001B[0m in \u001B[0;36mget_recording\u001B[0;34m(self, recache, generate_if_missing, **kwargs)\u001B[0m\n\u001B[1;32m    412\u001B[0m         \u001B[0;32mif\u001B[0m \u001B[0;34m(\u001B[0m\u001B[0;32mnot\u001B[0m \u001B[0mos\u001B[0m\u001B[0;34m.\u001B[0m\u001B[0mpath\u001B[0m\u001B[0;34m.\u001B[0m\u001B[0mexists\u001B[0m\u001B[0;34m(\u001B[0m\u001B[0mdata_file\u001B[0m\u001B[0;34m)\u001B[0m\u001B[0;34m)\u001B[0m\u001B[0;34m:\u001B[0m \u001B[0;31m# | recache:\u001B[0m\u001B[0;34m\u001B[0m\u001B[0;34m\u001B[0m\u001B[0m\n\u001B[1;32m    413\u001B[0m             \u001B[0mkwargs\u001B[0m\u001B[0;34m.\u001B[0m\u001B[0mupdate\u001B[0m\u001B[0;34m(\u001B[0m\u001B[0;34m{\u001B[0m\u001B[0;34m'mfiles'\u001B[0m\u001B[0;34m:\u001B[0m \u001B[0;32mNone\u001B[0m\u001B[0;34m}\u001B[0m\u001B[0;34m)\u001B[0m\u001B[0;34m\u001B[0m\u001B[0;34m\u001B[0m\u001B[0m\n\u001B[0;32m--> 414\u001B[0;31m             \u001B[0mrec\u001B[0m \u001B[0;34m=\u001B[0m \u001B[0mself\u001B[0m\u001B[0;34m.\u001B[0m\u001B[0mgenerate_recording\u001B[0m\u001B[0;34m(\u001B[0m\u001B[0;34m**\u001B[0m\u001B[0mkwargs\u001B[0m\u001B[0;34m)\u001B[0m\u001B[0;34m\u001B[0m\u001B[0;34m\u001B[0m\u001B[0m\n\u001B[0m\u001B[1;32m    415\u001B[0m             \u001B[0mlog\u001B[0m\u001B[0;34m.\u001B[0m\u001B[0minfo\u001B[0m\u001B[0;34m(\u001B[0m\u001B[0;34m'Caching recording: %s'\u001B[0m\u001B[0;34m,\u001B[0m \u001B[0mdata_file\u001B[0m\u001B[0;34m)\u001B[0m\u001B[0;34m\u001B[0m\u001B[0;34m\u001B[0m\u001B[0m\n\u001B[1;32m    416\u001B[0m             \u001B[0mrec\u001B[0m\u001B[0;34m.\u001B[0m\u001B[0msave\u001B[0m\u001B[0;34m(\u001B[0m\u001B[0mdata_file\u001B[0m\u001B[0;34m)\u001B[0m\u001B[0;34m\u001B[0m\u001B[0;34m\u001B[0m\u001B[0m\n",
      "\u001B[0;32m/auto/users/mateo/nems_db/nems_lbhb/baphy_experiment.py\u001B[0m in \u001B[0;36mgenerate_recording\u001B[0;34m(self, **kwargs)\u001B[0m\n\u001B[1;32m    448\u001B[0m         \u001B[0mexptparams\u001B[0m \u001B[0;34m=\u001B[0m \u001B[0mself\u001B[0m\u001B[0;34m.\u001B[0m\u001B[0mget_baphy_exptparams\u001B[0m\u001B[0;34m(\u001B[0m\u001B[0;34m)\u001B[0m\u001B[0;34m\u001B[0m\u001B[0;34m\u001B[0m\u001B[0m\n\u001B[1;32m    449\u001B[0m         \u001B[0mglobalparams\u001B[0m \u001B[0;34m=\u001B[0m \u001B[0mself\u001B[0m\u001B[0;34m.\u001B[0m\u001B[0mget_baphy_globalparams\u001B[0m\u001B[0;34m(\u001B[0m\u001B[0;34m)\u001B[0m\u001B[0;34m\u001B[0m\u001B[0;34m\u001B[0m\u001B[0m\n\u001B[0;32m--> 450\u001B[0;31m         \u001B[0mbaphy_events\u001B[0m \u001B[0;34m=\u001B[0m \u001B[0;34m[\u001B[0m\u001B[0mbaphy_events_to_epochs\u001B[0m\u001B[0;34m(\u001B[0m\u001B[0mbev\u001B[0m\u001B[0;34m,\u001B[0m \u001B[0mparm\u001B[0m\u001B[0;34m,\u001B[0m \u001B[0mgparm\u001B[0m\u001B[0;34m,\u001B[0m \u001B[0mi\u001B[0m\u001B[0;34m,\u001B[0m \u001B[0;34m**\u001B[0m\u001B[0mkwargs\u001B[0m\u001B[0;34m)\u001B[0m \u001B[0;32mfor\u001B[0m \u001B[0mi\u001B[0m\u001B[0;34m,\u001B[0m \u001B[0;34m(\u001B[0m\u001B[0mbev\u001B[0m\u001B[0;34m,\u001B[0m \u001B[0mparm\u001B[0m\u001B[0;34m,\u001B[0m \u001B[0mgparm\u001B[0m\u001B[0;34m)\u001B[0m \u001B[0;32min\u001B[0m \u001B[0menumerate\u001B[0m\u001B[0;34m(\u001B[0m\u001B[0mzip\u001B[0m\u001B[0;34m(\u001B[0m\u001B[0mexptevents\u001B[0m\u001B[0;34m,\u001B[0m \u001B[0mexptparams\u001B[0m\u001B[0;34m,\u001B[0m \u001B[0mglobalparams\u001B[0m\u001B[0;34m)\u001B[0m\u001B[0;34m)\u001B[0m\u001B[0;34m]\u001B[0m\u001B[0;34m\u001B[0m\u001B[0;34m\u001B[0m\u001B[0m\n\u001B[0m\u001B[1;32m    451\u001B[0m \u001B[0;34m\u001B[0m\u001B[0m\n\u001B[1;32m    452\u001B[0m         \u001B[0;31m#import pdb; pdb.set_trace()\u001B[0m\u001B[0;34m\u001B[0m\u001B[0;34m\u001B[0m\u001B[0;34m\u001B[0m\u001B[0m\n",
      "\u001B[0;32m/auto/users/mateo/nems_db/nems_lbhb/baphy_experiment.py\u001B[0m in \u001B[0;36m<listcomp>\u001B[0;34m(.0)\u001B[0m\n\u001B[1;32m    448\u001B[0m         \u001B[0mexptparams\u001B[0m \u001B[0;34m=\u001B[0m \u001B[0mself\u001B[0m\u001B[0;34m.\u001B[0m\u001B[0mget_baphy_exptparams\u001B[0m\u001B[0;34m(\u001B[0m\u001B[0;34m)\u001B[0m\u001B[0;34m\u001B[0m\u001B[0;34m\u001B[0m\u001B[0m\n\u001B[1;32m    449\u001B[0m         \u001B[0mglobalparams\u001B[0m \u001B[0;34m=\u001B[0m \u001B[0mself\u001B[0m\u001B[0;34m.\u001B[0m\u001B[0mget_baphy_globalparams\u001B[0m\u001B[0;34m(\u001B[0m\u001B[0;34m)\u001B[0m\u001B[0;34m\u001B[0m\u001B[0;34m\u001B[0m\u001B[0m\n\u001B[0;32m--> 450\u001B[0;31m         \u001B[0mbaphy_events\u001B[0m \u001B[0;34m=\u001B[0m \u001B[0;34m[\u001B[0m\u001B[0mbaphy_events_to_epochs\u001B[0m\u001B[0;34m(\u001B[0m\u001B[0mbev\u001B[0m\u001B[0;34m,\u001B[0m \u001B[0mparm\u001B[0m\u001B[0;34m,\u001B[0m \u001B[0mgparm\u001B[0m\u001B[0;34m,\u001B[0m \u001B[0mi\u001B[0m\u001B[0;34m,\u001B[0m \u001B[0;34m**\u001B[0m\u001B[0mkwargs\u001B[0m\u001B[0;34m)\u001B[0m \u001B[0;32mfor\u001B[0m \u001B[0mi\u001B[0m\u001B[0;34m,\u001B[0m \u001B[0;34m(\u001B[0m\u001B[0mbev\u001B[0m\u001B[0;34m,\u001B[0m \u001B[0mparm\u001B[0m\u001B[0;34m,\u001B[0m \u001B[0mgparm\u001B[0m\u001B[0;34m)\u001B[0m \u001B[0;32min\u001B[0m \u001B[0menumerate\u001B[0m\u001B[0;34m(\u001B[0m\u001B[0mzip\u001B[0m\u001B[0;34m(\u001B[0m\u001B[0mexptevents\u001B[0m\u001B[0;34m,\u001B[0m \u001B[0mexptparams\u001B[0m\u001B[0;34m,\u001B[0m \u001B[0mglobalparams\u001B[0m\u001B[0;34m)\u001B[0m\u001B[0;34m)\u001B[0m\u001B[0;34m]\u001B[0m\u001B[0;34m\u001B[0m\u001B[0;34m\u001B[0m\u001B[0m\n\u001B[0m\u001B[1;32m    451\u001B[0m \u001B[0;34m\u001B[0m\u001B[0m\n\u001B[1;32m    452\u001B[0m         \u001B[0;31m#import pdb; pdb.set_trace()\u001B[0m\u001B[0;34m\u001B[0m\u001B[0;34m\u001B[0m\u001B[0;34m\u001B[0m\u001B[0m\n",
      "\u001B[0;32m/auto/users/mateo/nems_db/nems_lbhb/baphy_experiment.py\u001B[0m in \u001B[0;36mbaphy_events_to_epochs\u001B[0;34m(exptevents, exptparams, globalparams, fidx, **options)\u001B[0m\n\u001B[1;32m    784\u001B[0m     \u001B[0mlog\u001B[0m\u001B[0;34m.\u001B[0m\u001B[0minfo\u001B[0m\u001B[0;34m(\u001B[0m\u001B[0;34m'Creating Light epochs'\u001B[0m\u001B[0;34m)\u001B[0m\u001B[0;34m\u001B[0m\u001B[0;34m\u001B[0m\u001B[0m\n\u001B[1;32m    785\u001B[0m     \u001B[0mlight_epochs\u001B[0m \u001B[0;34m=\u001B[0m \u001B[0m_make_light_epochs\u001B[0m\u001B[0;34m(\u001B[0m\u001B[0mexptevents\u001B[0m\u001B[0;34m,\u001B[0m \u001B[0mexptparams\u001B[0m\u001B[0;34m,\u001B[0m \u001B[0;34m**\u001B[0m\u001B[0moptions\u001B[0m\u001B[0;34m)\u001B[0m\u001B[0;34m\u001B[0m\u001B[0;34m\u001B[0m\u001B[0m\n\u001B[0;32m--> 786\u001B[0;31m     \u001B[0;32mif\u001B[0m \u001B[0mlight_epochs\u001B[0m \u001B[0;34m!=\u001B[0m \u001B[0;34m[\u001B[0m\u001B[0;34m]\u001B[0m\u001B[0;34m:\u001B[0m\u001B[0;34m\u001B[0m\u001B[0;34m\u001B[0m\u001B[0m\n\u001B[0m\u001B[1;32m    787\u001B[0m         \u001B[0mepochs\u001B[0m\u001B[0;34m.\u001B[0m\u001B[0mappend\u001B[0m\u001B[0;34m(\u001B[0m\u001B[0mlight_epochs\u001B[0m\u001B[0;34m)\u001B[0m\u001B[0;34m\u001B[0m\u001B[0;34m\u001B[0m\u001B[0m\n\u001B[1;32m    788\u001B[0m \u001B[0;34m\u001B[0m\u001B[0m\n",
      "\u001B[0;32m/auto/users/mateo/miniconda3/envs/context_probe_analysis2/lib/python3.8/site-packages/pandas/core/ops/common.py\u001B[0m in \u001B[0;36mnew_method\u001B[0;34m(self, other)\u001B[0m\n\u001B[1;32m     63\u001B[0m         \u001B[0mother\u001B[0m \u001B[0;34m=\u001B[0m \u001B[0mitem_from_zerodim\u001B[0m\u001B[0;34m(\u001B[0m\u001B[0mother\u001B[0m\u001B[0;34m)\u001B[0m\u001B[0;34m\u001B[0m\u001B[0;34m\u001B[0m\u001B[0m\n\u001B[1;32m     64\u001B[0m \u001B[0;34m\u001B[0m\u001B[0m\n\u001B[0;32m---> 65\u001B[0;31m         \u001B[0;32mreturn\u001B[0m \u001B[0mmethod\u001B[0m\u001B[0;34m(\u001B[0m\u001B[0mself\u001B[0m\u001B[0;34m,\u001B[0m \u001B[0mother\u001B[0m\u001B[0;34m)\u001B[0m\u001B[0;34m\u001B[0m\u001B[0;34m\u001B[0m\u001B[0m\n\u001B[0m\u001B[1;32m     66\u001B[0m \u001B[0;34m\u001B[0m\u001B[0m\n\u001B[1;32m     67\u001B[0m     \u001B[0;32mreturn\u001B[0m \u001B[0mnew_method\u001B[0m\u001B[0;34m\u001B[0m\u001B[0;34m\u001B[0m\u001B[0m\n",
      "\u001B[0;32m/auto/users/mateo/miniconda3/envs/context_probe_analysis2/lib/python3.8/site-packages/pandas/core/arraylike.py\u001B[0m in \u001B[0;36m__ne__\u001B[0;34m(self, other)\u001B[0m\n\u001B[1;32m     31\u001B[0m     \u001B[0;34m@\u001B[0m\u001B[0munpack_zerodim_and_defer\u001B[0m\u001B[0;34m(\u001B[0m\u001B[0;34m\"__ne__\"\u001B[0m\u001B[0;34m)\u001B[0m\u001B[0;34m\u001B[0m\u001B[0;34m\u001B[0m\u001B[0m\n\u001B[1;32m     32\u001B[0m     \u001B[0;32mdef\u001B[0m \u001B[0m__ne__\u001B[0m\u001B[0;34m(\u001B[0m\u001B[0mself\u001B[0m\u001B[0;34m,\u001B[0m \u001B[0mother\u001B[0m\u001B[0;34m)\u001B[0m\u001B[0;34m:\u001B[0m\u001B[0;34m\u001B[0m\u001B[0;34m\u001B[0m\u001B[0m\n\u001B[0;32m---> 33\u001B[0;31m         \u001B[0;32mreturn\u001B[0m \u001B[0mself\u001B[0m\u001B[0;34m.\u001B[0m\u001B[0m_cmp_method\u001B[0m\u001B[0;34m(\u001B[0m\u001B[0mother\u001B[0m\u001B[0;34m,\u001B[0m \u001B[0moperator\u001B[0m\u001B[0;34m.\u001B[0m\u001B[0mne\u001B[0m\u001B[0;34m)\u001B[0m\u001B[0;34m\u001B[0m\u001B[0;34m\u001B[0m\u001B[0m\n\u001B[0m\u001B[1;32m     34\u001B[0m \u001B[0;34m\u001B[0m\u001B[0m\n\u001B[1;32m     35\u001B[0m     \u001B[0;34m@\u001B[0m\u001B[0munpack_zerodim_and_defer\u001B[0m\u001B[0;34m(\u001B[0m\u001B[0;34m\"__lt__\"\u001B[0m\u001B[0;34m)\u001B[0m\u001B[0;34m\u001B[0m\u001B[0;34m\u001B[0m\u001B[0m\n",
      "\u001B[0;32m/auto/users/mateo/miniconda3/envs/context_probe_analysis2/lib/python3.8/site-packages/pandas/core/frame.py\u001B[0m in \u001B[0;36m_cmp_method\u001B[0;34m(self, other, op)\u001B[0m\n\u001B[1;32m   5966\u001B[0m         \u001B[0maxis\u001B[0m \u001B[0;34m=\u001B[0m \u001B[0;36m1\u001B[0m  \u001B[0;31m# only relevant for Series other case\u001B[0m\u001B[0;34m\u001B[0m\u001B[0;34m\u001B[0m\u001B[0m\n\u001B[1;32m   5967\u001B[0m \u001B[0;34m\u001B[0m\u001B[0m\n\u001B[0;32m-> 5968\u001B[0;31m         \u001B[0mself\u001B[0m\u001B[0;34m,\u001B[0m \u001B[0mother\u001B[0m \u001B[0;34m=\u001B[0m \u001B[0mops\u001B[0m\u001B[0;34m.\u001B[0m\u001B[0malign_method_FRAME\u001B[0m\u001B[0;34m(\u001B[0m\u001B[0mself\u001B[0m\u001B[0;34m,\u001B[0m \u001B[0mother\u001B[0m\u001B[0;34m,\u001B[0m \u001B[0maxis\u001B[0m\u001B[0;34m,\u001B[0m \u001B[0mflex\u001B[0m\u001B[0;34m=\u001B[0m\u001B[0;32mFalse\u001B[0m\u001B[0;34m,\u001B[0m \u001B[0mlevel\u001B[0m\u001B[0;34m=\u001B[0m\u001B[0;32mNone\u001B[0m\u001B[0;34m)\u001B[0m\u001B[0;34m\u001B[0m\u001B[0;34m\u001B[0m\u001B[0m\n\u001B[0m\u001B[1;32m   5969\u001B[0m \u001B[0;34m\u001B[0m\u001B[0m\n\u001B[1;32m   5970\u001B[0m         \u001B[0;31m# See GH#4537 for discussion of scalar op behavior\u001B[0m\u001B[0;34m\u001B[0m\u001B[0;34m\u001B[0m\u001B[0;34m\u001B[0m\u001B[0m\n",
      "\u001B[0;32m/auto/users/mateo/miniconda3/envs/context_probe_analysis2/lib/python3.8/site-packages/pandas/core/ops/__init__.py\u001B[0m in \u001B[0;36malign_method_FRAME\u001B[0;34m(left, right, axis, flex, level)\u001B[0m\n\u001B[1;32m    260\u001B[0m             )\n\u001B[1;32m    261\u001B[0m         \u001B[0;31m# GH17901\u001B[0m\u001B[0;34m\u001B[0m\u001B[0;34m\u001B[0m\u001B[0;34m\u001B[0m\u001B[0m\n\u001B[0;32m--> 262\u001B[0;31m         \u001B[0mright\u001B[0m \u001B[0;34m=\u001B[0m \u001B[0mto_series\u001B[0m\u001B[0;34m(\u001B[0m\u001B[0mright\u001B[0m\u001B[0;34m)\u001B[0m\u001B[0;34m\u001B[0m\u001B[0;34m\u001B[0m\u001B[0m\n\u001B[0m\u001B[1;32m    263\u001B[0m \u001B[0;34m\u001B[0m\u001B[0m\n\u001B[1;32m    264\u001B[0m     \u001B[0;32mif\u001B[0m \u001B[0mflex\u001B[0m \u001B[0;32mis\u001B[0m \u001B[0;32mnot\u001B[0m \u001B[0;32mNone\u001B[0m \u001B[0;32mand\u001B[0m \u001B[0misinstance\u001B[0m\u001B[0;34m(\u001B[0m\u001B[0mright\u001B[0m\u001B[0;34m,\u001B[0m \u001B[0mABCDataFrame\u001B[0m\u001B[0;34m)\u001B[0m\u001B[0;34m:\u001B[0m\u001B[0;34m\u001B[0m\u001B[0;34m\u001B[0m\u001B[0m\n",
      "\u001B[0;32m/auto/users/mateo/miniconda3/envs/context_probe_analysis2/lib/python3.8/site-packages/pandas/core/ops/__init__.py\u001B[0m in \u001B[0;36mto_series\u001B[0;34m(right)\u001B[0m\n\u001B[1;32m    217\u001B[0m         \u001B[0;32melse\u001B[0m\u001B[0;34m:\u001B[0m\u001B[0;34m\u001B[0m\u001B[0;34m\u001B[0m\u001B[0m\n\u001B[1;32m    218\u001B[0m             \u001B[0;32mif\u001B[0m \u001B[0mlen\u001B[0m\u001B[0;34m(\u001B[0m\u001B[0mleft\u001B[0m\u001B[0;34m.\u001B[0m\u001B[0mcolumns\u001B[0m\u001B[0;34m)\u001B[0m \u001B[0;34m!=\u001B[0m \u001B[0mlen\u001B[0m\u001B[0;34m(\u001B[0m\u001B[0mright\u001B[0m\u001B[0;34m)\u001B[0m\u001B[0;34m:\u001B[0m\u001B[0;34m\u001B[0m\u001B[0;34m\u001B[0m\u001B[0m\n\u001B[0;32m--> 219\u001B[0;31m                 raise ValueError(\n\u001B[0m\u001B[1;32m    220\u001B[0m                     \u001B[0mmsg\u001B[0m\u001B[0;34m.\u001B[0m\u001B[0mformat\u001B[0m\u001B[0;34m(\u001B[0m\u001B[0mreq_len\u001B[0m\u001B[0;34m=\u001B[0m\u001B[0mlen\u001B[0m\u001B[0;34m(\u001B[0m\u001B[0mleft\u001B[0m\u001B[0;34m.\u001B[0m\u001B[0mcolumns\u001B[0m\u001B[0;34m)\u001B[0m\u001B[0;34m,\u001B[0m \u001B[0mgiven_len\u001B[0m\u001B[0;34m=\u001B[0m\u001B[0mlen\u001B[0m\u001B[0;34m(\u001B[0m\u001B[0mright\u001B[0m\u001B[0;34m)\u001B[0m\u001B[0;34m)\u001B[0m\u001B[0;34m\u001B[0m\u001B[0;34m\u001B[0m\u001B[0m\n\u001B[1;32m    221\u001B[0m                 )\n",
      "\u001B[0;31mValueError\u001B[0m: Unable to coerce to Series, length must be 4: given 0"
     ]
    }
   ],
   "source": [
    "rec = manager.get_recording(recache=recache, **options)\n",
    "rec['resp'] = rec['resp'].rasterize()\n",
    "prestim = rec['resp'].extract_epoch('PreStimSilence').shape[-1] / rasterfs\n",
    "m = rec.copy().and_mask(['PreStimSilence', 'PostStimSilence'], invert=True)\n",
    "poststim = (rec['resp'].extract_epoch('REFERENCE', mask=m['mask'], allow_incomplete=True).shape[-1] / rasterfs) + prestim\n",
    "lim = (-prestim, tend )\n",
    "lim = (tstart, tend)\n",
    "s = 1\n",
    "# get light on / off\n",
    "opt_data = rec['resp'].epoch_to_signal('LIGHTON')\n",
    "opt_mask = opt_data.extract_epoch('REFERENCE').mean(axis=(1,2)) > 0\n",
    "opt_s_stop = (np.argwhere(np.diff(opt_data.extract_epoch('REFERENCE')[opt_mask, :, :][0].squeeze())) + 1) / rasterfs"
   ],
   "metadata": {
    "collapsed": false,
    "pycharm": {
     "name": "#%%\n"
    }
   }
  },
  {
   "cell_type": "code",
   "execution_count": null,
   "outputs": [],
   "source": [
    "mpl.rcParams['axes.spines.right'] = False\n",
    "mpl.rcParams['axes.spines.top'] = False\n",
    "mpl.rcParams['pdf.fonttype'] = 42\n",
    "mpl.rcParams['font.size'] = 6\n",
    "savefig = False\n",
    "DIR = pl.Path('')\n",
    "\n",
    "# unit1 = 'ARM004e-61-1'\n",
    "# unit2 = 'ARM004e-55-1'\n",
    "\n",
    "# make figures\n",
    "f, ax = plt.subplots(2, 2, figsize=(5, 4))\n",
    "# ================= non-tagged unit ========================\n",
    "r = rec['resp'].extract_channels([unit2]).extract_epoch('REFERENCE').squeeze()\n",
    "# psth\n",
    "on = r[opt_mask, :].mean(axis=0) * options['rasterfs']\n",
    "on_sem = r[opt_mask, :].std(axis=0) / np.sqrt(opt_mask.sum()) * options['rasterfs']\n",
    "t = np.arange(0, on.shape[-1] / options['rasterfs'], 1/options['rasterfs']) - prestim\n",
    "ax[1, 0].plot(t, on, color='blue')\n",
    "ax[1, 0].fill_between(t, on-on_sem, on+on_sem, alpha=0.3, lw=0, color='blue')\n",
    "off = r[~opt_mask, :].mean(axis=0) * options['rasterfs']\n",
    "off_sem = r[~opt_mask, :].std(axis=0) / np.sqrt((~opt_mask).sum()) * options['rasterfs']\n",
    "t = np.arange(0, off.shape[-1] / options['rasterfs'], 1/options['rasterfs']) - prestim\n",
    "ax[1, 0].plot(t, off, color='grey')\n",
    "ax[1, 0].fill_between(t, off-off_sem, off+off_sem, alpha=0.3, lw=0, color='grey')\n",
    "ax[1, 0].set_ylabel('Spk / sec')\n",
    "ax[1, 0].set_xlim(lim[0], lim[1])\n",
    "# spike raster / light onset/offset\n",
    "st = np.where(r[opt_mask, :])\n",
    "ax[0, 0].scatter((st[1] / rasterfs) - prestim, st[0], s=s, color='b')\n",
    "offset = st[0].max()\n",
    "st = np.where(r[~opt_mask, :])\n",
    "ax[0, 0].scatter((st[1] / rasterfs) - prestim, st[0]+offset, s=s, color='grey')\n",
    "for ss in opt_s_stop:\n",
    "    ax[0, 0].axvline(ss - prestim, linestyle='--', color='lime')\n",
    "ax[0, 0].set_title(unit2)\n",
    "ax[0, 0].set_ylabel('Rep')\n",
    "ax[0, 0].set_xlim(lim[0], lim[1])\n",
    "# add inset for mwf\n",
    "ax2 = plt.axes([ax[1, 0].colNum, ax[1, 0].colNum, ax[1, 0].rowNum, ax[1, 0].rowNum])\n",
    "# Manually set the position and relative size of the inset axes within ax1\n",
    "ip = InsetPosition(ax[1, 0], [0.5,0.5,0.5,0.5])\n",
    "ax2.set_axes_locator(ip)\n",
    "mwf = io.get_mean_spike_waveform(unit2, animal)\n",
    "ax2.plot(mwf, color='red')\n",
    "ax2.axis('off')\n",
    "ax[1, 0].set_xlabel('Time from light onset (sec)')\n",
    "# =================== tagged unit =========================\n",
    "r = rec['resp'].extract_channels([unit1]).extract_epoch('REFERENCE').squeeze()\n",
    "# psth\n",
    "on = r[opt_mask, :].mean(axis=0) * options['rasterfs']\n",
    "on_sem = r[opt_mask, :].std(axis=0) / np.sqrt(opt_mask.sum()) * options['rasterfs']\n",
    "t = np.arange(0, on.shape[-1] / options['rasterfs'], 1/options['rasterfs']) - prestim\n",
    "ax[1, 1].plot(t, on, color='blue')\n",
    "ax[1, 1].fill_between(t, on-on_sem, on+on_sem, alpha=0.3, lw=0, color='blue')\n",
    "off = r[~opt_mask, :].mean(axis=0) * options['rasterfs']\n",
    "off_sem = r[~opt_mask, :].std(axis=0) / np.sqrt((~opt_mask).sum()) * options['rasterfs']\n",
    "t = np.arange(0, off.shape[-1] / options['rasterfs'], 1/options['rasterfs']) - prestim\n",
    "ax[1, 1].plot(t, off, color='grey')\n",
    "ax[1, 1].fill_between(t, off-off_sem, off+off_sem, alpha=0.3, lw=0, color='grey')\n",
    "ax[1, 1].set_ylabel('Spk / sec')\n",
    "ax[1, 1].set_xlim(lim[0], lim[1])\n",
    "# spike raster / light onset/offset\n",
    "st = np.where(r[opt_mask, :])\n",
    "ax[0, 1].scatter((st[1] / rasterfs) - prestim, st[0], s=s, color='b')\n",
    "offset = st[0].max()\n",
    "st = np.where(r[~opt_mask, :])\n",
    "ax[0, 1].scatter((st[1] / rasterfs) - prestim, st[0]+offset, s=s, color='grey')\n",
    "for ss in opt_s_stop:\n",
    "    ax[0, 1].axvline(ss - prestim, linestyle='--', color='lime')\n",
    "ax[0, 1].set_title(unit1)\n",
    "ax[0, 1].set_ylabel('Rep')\n",
    "ax[0, 1].set_xlim(lim[0], lim[1])\n",
    "# add inset for mwf\n",
    "ax2 = plt.axes([ax[1, 1].colNum, ax[1, 1].colNum, ax[1, 1].rowNum, ax[1, 1].rowNum])\n",
    "# Manually set the position and relative size of the inset axes within ax1\n",
    "ip = InsetPosition(ax[1, 1], [0.5,0.5,0.5,0.5])\n",
    "ax2.set_axes_locator(ip)\n",
    "mwf = io.get_mean_spike_waveform(unit1, animal)\n",
    "ax2.plot(mwf, color='red')\n",
    "ax2.axis('off')\n",
    "ax[1, 1].set_xlabel('Time from light onset (sec)')\n",
    "# share firing rate axes\n",
    "m = np.max(ax[1, 0].get_ylim() + ax[1, 1].get_ylim())\n",
    "ax[1, 0].set_ylim([0, m])\n",
    "ax[1, 1].set_ylim([0, m])\n",
    "f.tight_layout()\n",
    "if savefig:\n",
    "    f.savefig(DIR + '/results/figures/phototagging_example.pdf')\n",
    "plt.show()\n"
   ],
   "metadata": {
    "collapsed": false,
    "pycharm": {
     "name": "#%%\n"
    }
   }
  }
 ],
 "metadata": {
  "kernelspec": {
   "display_name": "Python 3",
   "language": "python",
   "name": "python3"
  },
  "language_info": {
   "codemirror_mode": {
    "name": "ipython",
    "version": 2
   },
   "file_extension": ".py",
   "mimetype": "text/x-python",
   "name": "python",
   "nbconvert_exporter": "python",
   "pygments_lexer": "ipython2",
   "version": "2.7.6"
  }
 },
 "nbformat": 4,
 "nbformat_minor": 0
}