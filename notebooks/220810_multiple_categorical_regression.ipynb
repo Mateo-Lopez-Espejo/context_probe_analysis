{
 "cells": [
  {
   "cell_type": "code",
   "execution_count": 1,
   "metadata": {
    "collapsed": true
   },
   "outputs": [],
   "source": [
    "import pathlib as pl\n",
    "from configparser import ConfigParser\n",
    "\n",
    "import joblib as jl\n",
    "import numpy as np\n",
    "import scipy.stats as sst\n",
    "from scikit_posthocs import posthoc_dunn\n",
    "from statsmodels.formula.api import ols\n",
    "import pandas as pd\n",
    "import plotly.express as px\n",
    "import plotly.graph_objects as go\n",
    "from plotly.subplots import make_subplots\n",
    "from IPython.display import Image\n",
    "\n",
    "from src.root_path import config_path, root_path\n",
    "from src.visualization.palette import *\n",
    "from src.utils.dataframes import add_classified_contexts\n",
    "\n",
    "config = ConfigParser()\n",
    "config.read_file(open(config_path / 'settings.ini'))"
   ]
  },
  {
   "cell_type": "code",
   "execution_count": 2,
   "outputs": [
    {
     "name": "stdout",
     "output_type": "stream",
     "text": [
      "(91812, 9)\n"
     ]
    },
    {
     "data": {
      "text/plain": "             id context_pair probe     value    metric     site region  \\\n0  ley070a-37-1        00_01     1  0.166028  integral  ley070a     A1   \n1  ley070a-42-1        00_01     1  0.223114  integral  ley070a     A1   \n2  ley070a-04-1        00_02     1  0.326940  integral  ley070a     A1   \n3  ley070a-10-1        00_02     1  0.251927  integral  ley070a     A1   \n4  ley070a-12-3        00_02     1  0.359385  integral  ley070a     A1   \n\n  diff_metric    trans_pair  \n0    delta_FR  same_silence  \n1    delta_FR  same_silence  \n2    delta_FR  diff_silence  \n3    delta_FR  diff_silence  \n4    delta_FR  diff_silence  ",
      "text/html": "<div>\n<style scoped>\n    .dataframe tbody tr th:only-of-type {\n        vertical-align: middle;\n    }\n\n    .dataframe tbody tr th {\n        vertical-align: top;\n    }\n\n    .dataframe thead th {\n        text-align: right;\n    }\n</style>\n<table border=\"1\" class=\"dataframe\">\n  <thead>\n    <tr style=\"text-align: right;\">\n      <th></th>\n      <th>id</th>\n      <th>context_pair</th>\n      <th>probe</th>\n      <th>value</th>\n      <th>metric</th>\n      <th>site</th>\n      <th>region</th>\n      <th>diff_metric</th>\n      <th>trans_pair</th>\n    </tr>\n  </thead>\n  <tbody>\n    <tr>\n      <th>0</th>\n      <td>ley070a-37-1</td>\n      <td>00_01</td>\n      <td>1</td>\n      <td>0.166028</td>\n      <td>integral</td>\n      <td>ley070a</td>\n      <td>A1</td>\n      <td>delta_FR</td>\n      <td>same_silence</td>\n    </tr>\n    <tr>\n      <th>1</th>\n      <td>ley070a-42-1</td>\n      <td>00_01</td>\n      <td>1</td>\n      <td>0.223114</td>\n      <td>integral</td>\n      <td>ley070a</td>\n      <td>A1</td>\n      <td>delta_FR</td>\n      <td>same_silence</td>\n    </tr>\n    <tr>\n      <th>2</th>\n      <td>ley070a-04-1</td>\n      <td>00_02</td>\n      <td>1</td>\n      <td>0.326940</td>\n      <td>integral</td>\n      <td>ley070a</td>\n      <td>A1</td>\n      <td>delta_FR</td>\n      <td>diff_silence</td>\n    </tr>\n    <tr>\n      <th>3</th>\n      <td>ley070a-10-1</td>\n      <td>00_02</td>\n      <td>1</td>\n      <td>0.251927</td>\n      <td>integral</td>\n      <td>ley070a</td>\n      <td>A1</td>\n      <td>delta_FR</td>\n      <td>diff_silence</td>\n    </tr>\n    <tr>\n      <th>4</th>\n      <td>ley070a-12-3</td>\n      <td>00_02</td>\n      <td>1</td>\n      <td>0.359385</td>\n      <td>integral</td>\n      <td>ley070a</td>\n      <td>A1</td>\n      <td>delta_FR</td>\n      <td>diff_silence</td>\n    </tr>\n  </tbody>\n</table>\n</div>"
     },
     "execution_count": 2,
     "metadata": {},
     "output_type": "execute_result"
    }
   ],
   "source": [
    "# Cluster Mass significant contextual effects\n",
    "summary_DF_file = pl.Path(config['paths']['analysis_cache']) / f'220804_significant_abs_deltaFR_DF'\n",
    "\n",
    "metrics = ['integral', 'last_bin']\n",
    "DF = jl.load(summary_DF_file).query(f\"source == 'real' and metric in {metrics} and \"\n",
    "                                    f\"cluster_threshold == 0.05 and mult_comp_corr == 'bf_cp' and \"\n",
    "                                    f\"analysis == 'SC' and source == 'real' and \"\n",
    "                                    f\"diff_metric == 'delta_FR' and \"\n",
    "                                    f\"value > 0\")\n",
    "\n",
    "DF.loc[DF.metric == 'integral', 'value'] = DF.loc[DF.metric == 'integral', 'value'] /1000  # ms to s for better display\n",
    "\n",
    "DF.drop(columns=['source', 'cluster_threshold', 'mult_comp_corr',\n",
    "                 'analysis', 'stim_count',], inplace=True)\n",
    "DF.reset_index(drop=True, inplace=True)\n",
    "DF = add_classified_contexts(DF)\n",
    "\n",
    "for col in ['id','context_pair','probe','site', 'region', 'metric', 'trans_pair']:\n",
    "    DF[col] = DF[col].astype('category')\n",
    "\n",
    "DF['value'] = pd.to_numeric(DF.value, downcast='float')\n",
    "print(DF.shape)\n",
    "DF.head()"
   ],
   "metadata": {
    "collapsed": false,
    "pycharm": {
     "name": "#%%\n"
    }
   }
  },
  {
   "cell_type": "markdown",
   "source": [
    "# Fold\n",
    "into columns corresponding to categories, as one hot encoding"
   ],
   "metadata": {
    "collapsed": false
   }
  },
  {
   "cell_type": "code",
   "execution_count": 3,
   "outputs": [
    {
     "name": "stdout",
     "output_type": "stream",
     "text": [
      "             id context_pair probe     value    metric     site region  \\\n",
      "0  ley070a-37-1        00_01     1  0.166028  integral  ley070a     A1   \n",
      "1  ley070a-42-1        00_01     1  0.223114  integral  ley070a     A1   \n",
      "2  ley070a-04-1        00_02     1  0.326940  integral  ley070a     A1   \n",
      "3  ley070a-10-1        00_02     1  0.251927  integral  ley070a     A1   \n",
      "4  ley070a-12-3        00_02     1  0.359385  integral  ley070a     A1   \n",
      "\n",
      "  diff_metric    trans_pair  grand_mean  norm_val  diff  same  silence  \n",
      "0    delta_FR  same_silence    0.236451  0.702167     0     1        1  \n",
      "1    delta_FR  same_silence    0.236451  0.943596     0     1        1  \n",
      "2    delta_FR  diff_silence    0.236451  1.382697     1     0        1  \n",
      "3    delta_FR  diff_silence    0.236451  1.065452     1     0        1  \n",
      "4    delta_FR  diff_silence    0.236451  1.519911     1     0        1  \n"
     ]
    }
   ],
   "source": [
    "# grand mean across all data, works to normalize metrics across all data, and transform units from\n",
    "# integral (z-score * ms) into percentage increase in firing rate.\n",
    "def norm_by_mean(df):\n",
    "    normalizer =df.groupby(by=['metric'], observed=True).agg(grand_mean=('value',np.mean)).reset_index()\n",
    "\n",
    "    df = pd.merge(df, normalizer, on=['metric'], validate=\"m:1\")\n",
    "    df['norm_val'] = df['value']/df['grand_mean']\n",
    "\n",
    "    return df\n",
    "\n",
    "\n",
    "toregress = norm_by_mean(DF)\n",
    "\n",
    "\n",
    "def simplify_classified_contexts(df):\n",
    "    # the simplest approach is to manually map the 4 categories into onehots\n",
    "    # onehot order: diff1 diff2 same silence\n",
    "    # mapper={'diff_diff':(1,1,0,0), 'diff_same':(1,0,1,0), 'diff_silence':(1,0,0,1), 'same_silence':(0,0,1,1)}\n",
    "    # onehot order: diff(any) same silence\n",
    "    mapper={'diff_diff':(1,0,0), 'diff_same':(1,1,0), 'diff_silence':(1,0,1), 'same_silence':(0,1,1)}\n",
    "\n",
    "    df['onehot'] = df['trans_pair'].replace(mapper)\n",
    "\n",
    "    # onehotdf = pd.DataFrame(toregress['onehot'].to_list(), columns = ['diff1', 'diff2', 'same', 'silence'])\n",
    "    onehotdf = pd.DataFrame(df['onehot'].to_list(), columns = ['diff', 'same', 'silence'])\n",
    "    df.drop(columns='onehot', inplace=True)\n",
    "    df = pd.concat([df, onehotdf], axis=1)\n",
    "\n",
    "    return df\n",
    "\n",
    "toregress = simplify_classified_contexts(toregress)\n",
    "\n",
    "print(toregress.head())"
   ],
   "metadata": {
    "collapsed": false,
    "pycharm": {
     "name": "#%%\n"
    }
   }
  },
  {
   "cell_type": "code",
   "execution_count": 4,
   "outputs": [
    {
     "name": "stdout",
     "output_type": "stream",
     "text": [
      "                            OLS Regression Results                            \n",
      "==============================================================================\n",
      "Dep. Variable:               norm_val   R-squared:                       0.019\n",
      "Model:                            OLS   Adj. R-squared:                  0.019\n",
      "Method:                 Least Squares   F-statistic:                     290.9\n",
      "Date:                Sat, 26 Nov 2022   Prob (F-statistic):          4.43e-187\n",
      "Time:                        16:05:28   Log-Likelihood:                -54596.\n",
      "No. Observations:               45906   AIC:                         1.092e+05\n",
      "Df Residuals:                   45902   BIC:                         1.092e+05\n",
      "Df Model:                           3                                         \n",
      "Covariance Type:            nonrobust                                         \n",
      "====================================================================================\n",
      "                       coef    std err          t      P>|t|      [0.025      0.975]\n",
      "------------------------------------------------------------------------------------\n",
      "Intercept            0.9020      0.006    150.941      0.000       0.890       0.914\n",
      "C(same)[T.1]        -0.0339      0.009     -3.668      0.000      -0.052      -0.016\n",
      "C(silence)[T.1]      0.2158      0.008     26.051      0.000       0.200       0.232\n",
      "C(region)[T.PEG]     0.0948      0.007     12.739      0.000       0.080       0.109\n",
      "==============================================================================\n",
      "Omnibus:                    31830.031   Durbin-Watson:                   1.783\n",
      "Prob(Omnibus):                  0.000   Jarque-Bera (JB):           632865.826\n",
      "Skew:                           3.111   Prob(JB):                         0.00\n",
      "Kurtosis:                      20.092   Cond. No.                         3.23\n",
      "==============================================================================\n",
      "\n",
      "Notes:\n",
      "[1] Standard Errors assume that the covariance matrix of the errors is correctly specified.\n"
     ]
    }
   ],
   "source": [
    "mod = ols(\"norm_val ~ C(same) + C(silence) + C(region)\", data=toregress.query(\"metric == 'integral'\"))\n",
    "#\n",
    "# mod = ols(\"norm_val ~ diff + same + silence + C(region)\", data=toregress.query(\"metric == 'integral'\"))\n",
    "res = mod.fit()\n",
    "print(res.summary())"
   ],
   "metadata": {
    "collapsed": false,
    "pycharm": {
     "name": "#%%\n"
    }
   }
  },
  {
   "cell_type": "code",
   "execution_count": 5,
   "outputs": [
    {
     "name": "stdout",
     "output_type": "stream",
     "text": [
      "\n",
      "#### integral ####\n",
      "                            OLS Regression Results                            \n",
      "==============================================================================\n",
      "Dep. Variable:               norm_val   R-squared:                       0.015\n",
      "Model:                            OLS   Adj. R-squared:                  0.015\n",
      "Method:                 Least Squares   F-statistic:                     354.0\n",
      "Date:                Sat, 26 Nov 2022   Prob (F-statistic):          2.83e-153\n",
      "Time:                        16:10:02   Log-Likelihood:                -54677.\n",
      "No. Observations:               45906   AIC:                         1.094e+05\n",
      "Df Residuals:                   45903   BIC:                         1.094e+05\n",
      "Df Model:                           2                                         \n",
      "Covariance Type:            nonrobust                                         \n",
      "===================================================================================\n",
      "                      coef    std err          t      P>|t|      [0.025      0.975]\n",
      "-----------------------------------------------------------------------------------\n",
      "Intercept           0.9460      0.005    193.443      0.000       0.936       0.956\n",
      "C(same)[T.1]       -0.0326      0.009     -3.524      0.000      -0.051      -0.014\n",
      "C(silence)[T.1]     0.2143      0.008     25.836      0.000       0.198       0.231\n",
      "==============================================================================\n",
      "Omnibus:                    31879.668   Durbin-Watson:                   1.776\n",
      "Prob(Omnibus):                  0.000   Jarque-Bera (JB):           631587.609\n",
      "Skew:                           3.120   Prob(JB):                         0.00\n",
      "Kurtosis:                      20.066   Cond. No.                         2.86\n",
      "==============================================================================\n",
      "\n",
      "Notes:\n",
      "[1] Standard Errors assume that the covariance matrix of the errors is correctly specified.\n",
      "\n",
      "#### last_bin ####\n",
      "                            OLS Regression Results                            \n",
      "==============================================================================\n",
      "Dep. Variable:               norm_val   R-squared:                       0.012\n",
      "Model:                            OLS   Adj. R-squared:                  0.012\n",
      "Method:                 Least Squares   F-statistic:                     282.5\n",
      "Date:                Sat, 26 Nov 2022   Prob (F-statistic):          1.16e-122\n",
      "Time:                        16:10:03   Log-Likelihood:                -56708.\n",
      "No. Observations:               45906   AIC:                         1.134e+05\n",
      "Df Residuals:                   45903   BIC:                         1.134e+05\n",
      "Df Model:                           2                                         \n",
      "Covariance Type:            nonrobust                                         \n",
      "===================================================================================\n",
      "                      coef    std err          t      P>|t|      [0.025      0.975]\n",
      "-----------------------------------------------------------------------------------\n",
      "Intercept           0.9390      0.005    183.711      0.000       0.929       0.949\n",
      "C(same)[T.1]        0.0131      0.010      1.354      0.176      -0.006       0.032\n",
      "C(silence)[T.1]     0.2058      0.009     23.738      0.000       0.189       0.223\n",
      "==============================================================================\n",
      "Omnibus:                    13488.620   Durbin-Watson:                   1.553\n",
      "Prob(Omnibus):                  0.000   Jarque-Bera (JB):            33121.610\n",
      "Skew:                           1.646   Prob(JB):                         0.00\n",
      "Kurtosis:                       5.546   Cond. No.                         2.86\n",
      "==============================================================================\n",
      "\n",
      "Notes:\n",
      "[1] Standard Errors assume that the covariance matrix of the errors is correctly specified.\n"
     ]
    }
   ],
   "source": [
    "for metric in toregress.metric.unique().tolist():\n",
    "    print(f\"\\n#### {metric} ####\")\n",
    "    mod = ols(\"norm_val ~ C(same) + C(silence)\", data=toregress.query(f\"metric == '{metric}'\"))\n",
    "    res = mod.fit()\n",
    "    print(res.summary())"
   ],
   "metadata": {
    "collapsed": false,
    "pycharm": {
     "name": "#%%\n"
    }
   }
  },
  {
   "cell_type": "code",
   "execution_count": 8,
   "outputs": [
    {
     "name": "stdout",
     "output_type": "stream",
     "text": [
      "\n",
      "#### integral ####\n",
      "                            OLS Regression Results                            \n",
      "==============================================================================\n",
      "Dep. Variable:               norm_val   R-squared:                       0.003\n",
      "Model:                            OLS   Adj. R-squared:                  0.003\n",
      "Method:                 Least Squares   F-statistic:                     149.2\n",
      "Date:                Sat, 26 Nov 2022   Prob (F-statistic):           2.95e-34\n",
      "Time:                        16:26:49   Log-Likelihood:                -54954.\n",
      "No. Observations:               45906   AIC:                         1.099e+05\n",
      "Df Residuals:                   45904   BIC:                         1.099e+05\n",
      "Df Model:                           1                                         \n",
      "Covariance Type:            nonrobust                                         \n",
      "====================================================================================\n",
      "                       coef    std err          t      P>|t|      [0.025      0.975]\n",
      "------------------------------------------------------------------------------------\n",
      "Intercept            0.9577      0.005    187.936      0.000       0.948       0.968\n",
      "C(region)[T.PEG]     0.0916      0.007     12.214      0.000       0.077       0.106\n",
      "==============================================================================\n",
      "Omnibus:                    32458.974   Durbin-Watson:                   1.754\n",
      "Prob(Omnibus):                  0.000   Jarque-Bera (JB):           677833.953\n",
      "Skew:                           3.183   Prob(JB):                         0.00\n",
      "Kurtosis:                      20.716   Cond. No.                         2.54\n",
      "==============================================================================\n",
      "\n",
      "Notes:\n",
      "[1] Standard Errors assume that the covariance matrix of the errors is correctly specified.\n",
      "\n",
      "#### last_bin ####\n",
      "                            OLS Regression Results                            \n",
      "==============================================================================\n",
      "Dep. Variable:               norm_val   R-squared:                       0.000\n",
      "Model:                            OLS   Adj. R-squared:                  0.000\n",
      "Method:                 Least Squares   F-statistic:                     22.57\n",
      "Date:                Sat, 26 Nov 2022   Prob (F-statistic):           2.03e-06\n",
      "Time:                        16:26:49   Log-Likelihood:                -56977.\n",
      "No. Observations:               45906   AIC:                         1.140e+05\n",
      "Df Residuals:                   45904   BIC:                         1.140e+05\n",
      "Df Model:                           1                                         \n",
      "Covariance Type:            nonrobust                                         \n",
      "====================================================================================\n",
      "                       coef    std err          t      P>|t|      [0.025      0.975]\n",
      "------------------------------------------------------------------------------------\n",
      "Intercept            0.9828      0.005    184.548      0.000       0.972       0.993\n",
      "C(region)[T.PEG]     0.0372      0.008      4.751      0.000       0.022       0.053\n",
      "==============================================================================\n",
      "Omnibus:                    13924.843   Durbin-Watson:                   1.535\n",
      "Prob(Omnibus):                  0.000   Jarque-Bera (JB):            35145.684\n",
      "Skew:                           1.686   Prob(JB):                         0.00\n",
      "Kurtosis:                       5.645   Cond. No.                         2.54\n",
      "==============================================================================\n",
      "\n",
      "Notes:\n",
      "[1] Standard Errors assume that the covariance matrix of the errors is correctly specified.\n"
     ]
    }
   ],
   "source": [
    "for metric in toregress.metric.unique().tolist():\n",
    "    print(f\"\\n#### {metric} ####\")\n",
    "    mod = ols(\"norm_val ~ C(region)\", data=toregress.query(f\"metric == '{metric}'\"))\n",
    "    res = mod.fit()\n",
    "    print(res.summary())"
   ],
   "metadata": {
    "collapsed": false,
    "pycharm": {
     "name": "#%%\n"
    }
   }
  },
  {
   "cell_type": "markdown",
   "source": [
    "## hack\n",
    "pool data based on a simple clasiffication of containing at least one \"diff\", \"same\" or \"silence\"\n",
    "thise is odd as it might represent each data point more than one time, but is statistically solid"
   ],
   "metadata": {
    "collapsed": false
   }
  },
  {
   "cell_type": "code",
   "execution_count": 84,
   "outputs": [
    {
     "name": "stdout",
     "output_type": "stream",
     "text": [
      "             id context_pair probe     value    metric     site region  \\\n",
      "2  ley070a-04-1        00_02     1  0.326940  integral  ley070a     A1   \n",
      "3  ley070a-10-1        00_02     1  0.251927  integral  ley070a     A1   \n",
      "4  ley070a-12-3        00_02     1  0.359385  integral  ley070a     A1   \n",
      "5  ley070a-23-1        00_02     1  0.128487  integral  ley070a     A1   \n",
      "6  ley070a-37-1        00_02     1  0.152670  integral  ley070a     A1   \n",
      "\n",
      "  diff_metric    trans_pair  grand_mean  norm_val  diff  same  silence  \\\n",
      "2    delta_FR  diff_silence    0.236451  1.382697     1     0        1   \n",
      "3    delta_FR  diff_silence    0.236451  1.065452     1     0        1   \n",
      "4    delta_FR  diff_silence    0.236451  1.519911     1     0        1   \n",
      "5    delta_FR  diff_silence    0.236451  0.543398     1     0        1   \n",
      "6    delta_FR  diff_silence    0.236451  0.645671     1     0        1   \n",
      "\n",
      "  transition  \n",
      "2       diff  \n",
      "3       diff  \n",
      "4       diff  \n",
      "5       diff  \n",
      "6       diff  \n"
     ]
    }
   ],
   "source": [
    "toplot = list() # concatenate data classified on single values\n",
    "for cat in ['diff', 'same', 'silence']:\n",
    "    subset = toregress.query(f\"{cat} == 1\").copy()\n",
    "    subset['transition'] = cat\n",
    "    toplot.append(subset)\n",
    "\n",
    "toplot = pd.concat(toplot)\n",
    "print(toplot.head())"
   ],
   "metadata": {
    "collapsed": false,
    "pycharm": {
     "name": "#%%\n"
    }
   }
  },
  {
   "cell_type": "code",
   "execution_count": 85,
   "outputs": [
    {
     "name": "stdout",
     "output_type": "stream",
     "text": [
      "KruskalResult(statistic=389.00170418878383, pvalue=3.383398947907958e-85)\n",
      "Dunn post hoc results\n",
      "                 diff          same       silence\n",
      "diff     1.000000e+00  3.434265e-07  1.727295e-68\n",
      "same     3.434265e-07  1.000000e+00  2.842516e-67\n",
      "silence  1.727295e-68  2.842516e-67  1.000000e+00\n"
     ]
    }
   ],
   "source": [
    "category = 'transition'\n",
    "metric = 'integral'\n",
    "to_stat = dict()\n",
    "def kruskal_with_posthoc(df, group_col, val_col):\n",
    "    # pools data in a list of vectors to run kruskal\n",
    "    to_stat = list()\n",
    "    for kk in df[group_col].unique():\n",
    "        to_stat.append(df.loc[df[group_col] == kk, val_col].values)\n",
    "    kruskal = sst.kruskal(*to_stat)\n",
    "    print(kruskal)\n",
    "    dunn = posthoc_dunn(df, val_col=val_col, group_col=group_col, p_adjust='bonferroni')\n",
    "    print(f'Dunn post hoc results\\n{dunn}')\n",
    "\n",
    "    return kruskal, dunn\n",
    "\n",
    "_ = kruskal_with_posthoc(toplot.query(\"metric == 'integral'\"), group_col='transition', val_col='value')\n"
   ],
   "metadata": {
    "collapsed": false,
    "pycharm": {
     "name": "#%%\n"
    }
   }
  },
  {
   "cell_type": "code",
   "execution_count": 86,
   "outputs": [
    {
     "data": {
      "image/png": "[encoded data removed]",
      "text/plain": "<IPython.core.display.Image object>"
     },
     "execution_count": 86,
     "metadata": {},
     "output_type": "execute_result"
    }
   ],
   "source": [
    "fig = px.ecdf(toplot, x='value', facet_col='metric',\n",
    "              color='transition', line_dash='transition',\n",
    "              color_discrete_map={'same': 'lightgray', 'diff':'darkgray', 'silence':'black'},\n",
    "              line_dash_map={'same': 'solid', 'diff':'dash', 'silence':'dot'},\n",
    "              category_orders={'metric': ['integral', 'last_bin']})\n",
    "w, h = 2, 2\n",
    "fig.update_layout(template='simple_white',\n",
    "                  width=96 * w, height=96 * h,\n",
    "                  margin=dict(l=10, r=10, t=10, b=10),\n",
    "\n",
    "                  xaxis=dict(matches=None, showticklabels=True),\n",
    "                  xaxis2=dict(matches=None,)\n",
    "\n",
    "                  )\n",
    "\n",
    "\n",
    "img_bytes = fig.to_image(format=\"png\", width=1000, height=400)\n",
    "Image(img_bytes)"
   ],
   "metadata": {
    "collapsed": false,
    "pycharm": {
     "name": "#%%\n"
    }
   }
  },
  {
   "cell_type": "code",
   "execution_count": 87,
   "outputs": [
    {
     "name": "stdout",
     "output_type": "stream",
     "text": [
      "\n",
      "######### integral, transition #########\n",
      "\n",
      "KruskalResult(statistic=389.00170418878383, pvalue=3.383398947907958e-85)\n",
      "Dunn post hoc results\n",
      "                 diff          same       silence\n",
      "diff     1.000000e+00  3.434265e-07  1.727295e-68\n",
      "same     3.434265e-07  1.000000e+00  2.842516e-67\n",
      "silence  1.727295e-68  2.842516e-67  1.000000e+00\n",
      "\n",
      "######### integral, region #########\n",
      "\n",
      "KruskalResult(statistic=127.70000803855646, pvalue=1.3055798240314735e-29)\n",
      "Dunn post hoc results\n",
      "               A1           PEG\n",
      "A1   1.000000e+00  1.305580e-29\n",
      "PEG  1.305580e-29  1.000000e+00\n",
      "\n",
      "######### last_bin, transition #########\n",
      "\n",
      "KruskalResult(statistic=234.01905338413138, pvalue=1.5254860042974034e-51)\n",
      "Dunn post hoc results\n",
      "                 diff          same       silence\n",
      "diff     1.000000e+00  5.632052e-01  3.055722e-48\n",
      "same     5.632052e-01  1.000000e+00  2.686387e-32\n",
      "silence  3.055722e-48  2.686387e-32  1.000000e+00\n",
      "\n",
      "######### last_bin, region #########\n",
      "\n",
      "KruskalResult(statistic=199.4590648894111, pvalue=2.7407967217061545e-45)\n",
      "Dunn post hoc results\n",
      "               A1           PEG\n",
      "A1   1.000000e+00  2.740797e-45\n",
      "PEG  2.740797e-45  1.000000e+00\n"
     ]
    },
    {
     "data": {
      "image/png": "[encoded data removed]",
      "text/plain": "<IPython.core.display.Image object>"
     },
     "execution_count": 87,
     "metadata": {},
     "output_type": "execute_result"
    }
   ],
   "source": [
    "# for metric in [\"integral\", \"last_bin\"],:\n",
    "def plot_metric_quant_bars(df, metric, category):\n",
    "    print(f'\\n######### {metric}, {category} #########\\n')\n",
    "    df = df.query(f\"metric == '{metric}'\")\n",
    "\n",
    "    if category == 'transition':\n",
    "        ### transitions ###\n",
    "        _ = kruskal_with_posthoc(df, group_col='transition', val_col='value')\n",
    "        df = df.groupby(by=['transition'], observed=True).agg(stat=('value', np.mean),\n",
    "                                                              err=('value', sst.sem))\n",
    "\n",
    "        x = ['same', 'diff', 'silence']\n",
    "        y = [df.at[cat, 'stat'] for cat in x]\n",
    "        yerr = [df.at[cat, 'err'] for cat in x]\n",
    "        return [\n",
    "            go.Scatter(x=x, y=y, mode='markers',\n",
    "                       marker=dict(color='black',\n",
    "                                   size=4),\n",
    "                       error_y=dict(array=yerr,\n",
    "                                    color='black',\n",
    "                                    thickness=1,\n",
    "                                    width=5),\n",
    "                       showlegend=False)\n",
    "        ]\n",
    "\n",
    "    ### regions ###\n",
    "    elif category == 'region':\n",
    "        _ = kruskal_with_posthoc(df, group_col='region', val_col='value')\n",
    "        df = df.groupby('region').agg(stat=('value', np.mean),\n",
    "                                      err=('value', sst.sem))\n",
    "\n",
    "        # if you want different color error bars, have to do it one at a time\n",
    "        reg_quant = list()\n",
    "        for rr, row in df.iterrows():\n",
    "            reg_quant.append(go.Scatter(x=(rr,),\n",
    "                                        y=(row.stat,),\n",
    "                                        mode='markers',\n",
    "                                        marker=dict(color=REGION_COLORMAP[rr],\n",
    "                                                    size=4),\n",
    "                                        error_y=dict(array=(row.err,),\n",
    "                                                     color=REGION_COLORMAP[rr],\n",
    "                                                     thickness=1,\n",
    "                                                     width=5),\n",
    "                                        showlegend=False),\n",
    "                             )\n",
    "\n",
    "        return reg_quant\n",
    "    else:\n",
    "        raise ValueError(f'bad param {category}')\n",
    "\n",
    "\n",
    "fig = make_subplots(2, 2, column_width=[0.7, 0.3], shared_xaxes='columns', shared_yaxes='rows')\n",
    "for mm, met in enumerate(['integral', 'last_bin']):\n",
    "    for cc, cat in enumerate(['transition', 'region']):\n",
    "        pan = plot_metric_quant_bars(toplot, met, cat)\n",
    "        fig.add_traces(pan, cols=[cc + 1] * len(pan), rows=[mm + 1] * len(pan))\n",
    "\n",
    "w, h = 2, 2.5\n",
    "fig.update_layout(template='simple_white',\n",
    "                  width=96 * w, height=96 * h,\n",
    "                  margin=dict(l=10, r=10, t=10, b=10),\n",
    "\n",
    "                  yaxis=dict(title=dict(text=\"Amplitude\",font_color=AMPCOLOR,)),\n",
    "\n",
    "                  xaxis3=dict(title=dict(text='context type'), tickangle=-45),\n",
    "                  yaxis3=dict(title=dict(text='Duration', font_color=DURCOLOR)),\n",
    "\n",
    "                  xaxis4=dict(title=dict(text='region')),\n",
    "                  showlegend=False,\n",
    "                  )\n",
    "\n",
    "fig.update_xaxes(title_font_size=10, title_standoff=0, tickfont_size=9)\n",
    "fig.update_yaxes(title_font_size=10, title_standoff=0, tickfont_size=9)\n",
    "\n",
    "folder = root_path / 'reports' / 'figures' / 'paper'\n",
    "folder.mkdir(parents=True, exist_ok=True)\n",
    "\n",
    "filename = folder / 'fig2_transition_region_effects'\n",
    "# fig.write_image(filename.with_suffix('.png'), scale=4)\n",
    "# fig.write_image(filename.with_suffix('.svg'))\n",
    "\n",
    "img_bytes = fig.to_image(format=\"png\", scale=2)\n",
    "Image(img_bytes)"
   ],
   "metadata": {
    "collapsed": false,
    "pycharm": {
     "name": "#%%\n"
    }
   }
  },
  {
   "cell_type": "markdown",
   "source": [
    "# consolidated elsewhere\n",
    "this last plot has been copied over to 'figure_02.ipynb' for better record keeping."
   ],
   "metadata": {
    "collapsed": false
   }
  }
 ],
 "metadata": {
  "kernelspec": {
   "display_name": "Python 3",
   "language": "python",
   "name": "python3"
  },
  "language_info": {
   "codemirror_mode": {
    "name": "ipython",
    "version": 2
   },
   "file_extension": ".py",
   "mimetype": "text/x-python",
   "name": "python",
   "nbconvert_exporter": "python",
   "pygments_lexer": "ipython2",
   "version": "2.7.6"
  }
 },
 "nbformat": 4,
 "nbformat_minor": 0
}