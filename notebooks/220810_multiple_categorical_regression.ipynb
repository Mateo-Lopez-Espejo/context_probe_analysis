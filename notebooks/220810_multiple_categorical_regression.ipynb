{
 "cells": [
  {
   "cell_type": "code",
   "execution_count": 15,
   "metadata": {
    "collapsed": true
   },
   "outputs": [],
   "source": [
    "import pathlib as pl\n",
    "from configparser import ConfigParser\n",
    "from math import factorial\n",
    "import itertools as itt\n",
    "from collections import defaultdict\n",
    "\n",
    "import joblib as jl\n",
    "import numpy as np\n",
    "import scipy.stats as sst\n",
    "import pandas as pd\n",
    "import plotly.express as px\n",
    "import plotly.graph_objects as go\n",
    "from plotly.subplots import make_subplots\n",
    "from IPython.display import Image\n",
    "\n",
    "from src.data.load import load\n",
    "from src.visualization.interactive import plot_raw_pair, plot_pupil_so_effects\n",
    "from src.root_path import config_path\n",
    "from src.visualization.palette import *\n",
    "from src.utils.dataframes import add_classified_contexts\n",
    "\n",
    "config = ConfigParser()\n",
    "config.read_file(open(config_path / 'settings.ini'))"
   ]
  },
  {
   "cell_type": "code",
   "execution_count": 10,
   "outputs": [
    {
     "data": {
      "text/plain": "             id context_pair probe       value     site region chunk\n0  AMT029a-35-1        00_01     1  540.689758  AMT029a    PEG  full\n1  AMT029a-43-1        00_01     1  542.716431  AMT029a    PEG  full\n2  AMT029a-48-1        00_01     1  432.214355  AMT029a    PEG  full\n3  AMT029a-51-1        00_01     1  358.975830  AMT029a    PEG  full\n4  AMT029a-57-1        00_01     1  336.460602  AMT029a    PEG  full",
      "text/html": "<div>\n<style scoped>\n    .dataframe tbody tr th:only-of-type {\n        vertical-align: middle;\n    }\n\n    .dataframe tbody tr th {\n        vertical-align: top;\n    }\n\n    .dataframe thead th {\n        text-align: right;\n    }\n</style>\n<table border=\"1\" class=\"dataframe\">\n  <thead>\n    <tr style=\"text-align: right;\">\n      <th></th>\n      <th>id</th>\n      <th>context_pair</th>\n      <th>probe</th>\n      <th>value</th>\n      <th>site</th>\n      <th>region</th>\n      <th>chunk</th>\n    </tr>\n  </thead>\n  <tbody>\n    <tr>\n      <th>0</th>\n      <td>AMT029a-35-1</td>\n      <td>00_01</td>\n      <td>1</td>\n      <td>540.689758</td>\n      <td>AMT029a</td>\n      <td>PEG</td>\n      <td>full</td>\n    </tr>\n    <tr>\n      <th>1</th>\n      <td>AMT029a-43-1</td>\n      <td>00_01</td>\n      <td>1</td>\n      <td>542.716431</td>\n      <td>AMT029a</td>\n      <td>PEG</td>\n      <td>full</td>\n    </tr>\n    <tr>\n      <th>2</th>\n      <td>AMT029a-48-1</td>\n      <td>00_01</td>\n      <td>1</td>\n      <td>432.214355</td>\n      <td>AMT029a</td>\n      <td>PEG</td>\n      <td>full</td>\n    </tr>\n    <tr>\n      <th>3</th>\n      <td>AMT029a-51-1</td>\n      <td>00_01</td>\n      <td>1</td>\n      <td>358.975830</td>\n      <td>AMT029a</td>\n      <td>PEG</td>\n      <td>full</td>\n    </tr>\n    <tr>\n      <th>4</th>\n      <td>AMT029a-57-1</td>\n      <td>00_01</td>\n      <td>1</td>\n      <td>336.460602</td>\n      <td>AMT029a</td>\n      <td>PEG</td>\n      <td>full</td>\n    </tr>\n  </tbody>\n</table>\n</div>"
     },
     "execution_count": 10,
     "metadata": {},
     "output_type": "execute_result"
    }
   ],
   "source": [
    " # Cluster Mass significant contextual effects\n",
    "summary_DF_file = pl.Path(config['paths']['analysis_cache']) / f'220719_chunked_amplitude_DF'\n",
    "\n",
    "metrics = ['integral', 'integral_A', 'integral_B', 'integral_C', 'integral_D',]\n",
    "DF = jl.load(summary_DF_file).query(f\"source == 'real' and metric in {metrics} and \"\n",
    "                                    f\"cluster_threshold == 0.05 and mult_comp_corr == 'bf_cp' and \"\n",
    "                                    f\"analysis == 'SC' and \"\n",
    "                                    f\"value > 0 and value < 10000\")\n",
    "\n",
    "DF['chunk'] = DF['metric'].str.split('_').str[-1]\n",
    "DF.loc[:,'chunk'].replace({'integral': 'full'}, inplace=True)\n",
    "\n",
    "DF.drop(columns=['source', 'cluster_threshold', 'mult_comp_corr',\n",
    "                 'analysis', 'metric', 'stim_count',], inplace=True)\n",
    "DF.reset_index(drop=True, inplace=True)\n",
    "\n",
    "for col in ['id','context_pair','probe','site', 'region', 'chunk']:\n",
    "    DF[col] = DF[col].astype('category')\n",
    "\n",
    "DF['value'] = pd.to_numeric(DF.value, downcast='float')\n",
    "DF.head()"
   ],
   "metadata": {
    "collapsed": false,
    "pycharm": {
     "name": "#%%\n"
    }
   }
  },
  {
   "cell_type": "code",
   "execution_count": 11,
   "outputs": [
    {
     "data": {
      "text/plain": "             id context_pair probe       value     site region chunk\n0  CRD004a-22-1        00_01     1  151.889679  CRD004a     A1  full\n1  CRD004a-39-2        00_01     1   45.823387  CRD004a     A1  full\n2  CRD004a-46-3        00_01     1  349.813538  CRD004a     A1  full\n3  CRD004a-62-1        00_01     1  128.190765  CRD004a     A1  full\n4  CRD004a-64-1        00_01     1  346.058807  CRD004a     A1  full",
      "text/html": "<div>\n<style scoped>\n    .dataframe tbody tr th:only-of-type {\n        vertical-align: middle;\n    }\n\n    .dataframe tbody tr th {\n        vertical-align: top;\n    }\n\n    .dataframe thead th {\n        text-align: right;\n    }\n</style>\n<table border=\"1\" class=\"dataframe\">\n  <thead>\n    <tr style=\"text-align: right;\">\n      <th></th>\n      <th>id</th>\n      <th>context_pair</th>\n      <th>probe</th>\n      <th>value</th>\n      <th>site</th>\n      <th>region</th>\n      <th>chunk</th>\n    </tr>\n  </thead>\n  <tbody>\n    <tr>\n      <th>0</th>\n      <td>CRD004a-22-1</td>\n      <td>00_01</td>\n      <td>1</td>\n      <td>151.889679</td>\n      <td>CRD004a</td>\n      <td>A1</td>\n      <td>full</td>\n    </tr>\n    <tr>\n      <th>1</th>\n      <td>CRD004a-39-2</td>\n      <td>00_01</td>\n      <td>1</td>\n      <td>45.823387</td>\n      <td>CRD004a</td>\n      <td>A1</td>\n      <td>full</td>\n    </tr>\n    <tr>\n      <th>2</th>\n      <td>CRD004a-46-3</td>\n      <td>00_01</td>\n      <td>1</td>\n      <td>349.813538</td>\n      <td>CRD004a</td>\n      <td>A1</td>\n      <td>full</td>\n    </tr>\n    <tr>\n      <th>3</th>\n      <td>CRD004a-62-1</td>\n      <td>00_01</td>\n      <td>1</td>\n      <td>128.190765</td>\n      <td>CRD004a</td>\n      <td>A1</td>\n      <td>full</td>\n    </tr>\n    <tr>\n      <th>4</th>\n      <td>CRD004a-64-1</td>\n      <td>00_01</td>\n      <td>1</td>\n      <td>346.058807</td>\n      <td>CRD004a</td>\n      <td>A1</td>\n      <td>full</td>\n    </tr>\n  </tbody>\n</table>\n</div>"
     },
     "execution_count": 11,
     "metadata": {},
     "output_type": "execute_result"
    }
   ],
   "source": [
    "# Cluster Mass significant contextual effects\n",
    "summary_DF_file = pl.Path(config['paths']['analysis_cache']) / f'220804_significant_abs_deltaFR_DF'\n",
    "\n",
    "metrics = ['integral', 'integral_A', 'integral_B', 'integral_C', 'integral_D',]\n",
    "DF2 = jl.load(summary_DF_file).query(f\"source == 'real' and metric in {metrics} and \"\n",
    "                                    f\"cluster_threshold == 0.05 and mult_comp_corr == 'bf_cp' and \"\n",
    "                                    f\"analysis == 'SC' and \"\n",
    "                                    f\"value > 0 and value < 10000\")\n",
    "\n",
    "DF2['chunk'] = DF2['metric'].str.split('_').str[-1]\n",
    "DF2.loc[:,'chunk'].replace({'integral': 'full'}, inplace=True)\n",
    "\n",
    "DF2.drop(columns=['source', 'cluster_threshold', 'mult_comp_corr',\n",
    "                 'analysis', 'metric', 'stim_count',], inplace=True)\n",
    "DF2.reset_index(drop=True, inplace=True)\n",
    "\n",
    "for col in ['id','context_pair','probe','site', 'region', 'chunk']:\n",
    "    DF2[col] = DF2[col].astype('category')\n",
    "\n",
    "DF2['value'] = pd.to_numeric(DF2.value, downcast='float')\n",
    "DF2.head()"
   ],
   "metadata": {
    "collapsed": false,
    "pycharm": {
     "name": "#%%\n"
    }
   }
  },
  {
   "cell_type": "markdown",
   "source": [
    "# difference between T-score and Dfr\n",
    "the absolute significant integral can be calculated directly over the T-score used to calculate cluster mass and\n",
    "and significance, but a more easy to understand metric would use the same significacen and just calculate the\n",
    "delta mean firing rate at significant time bins, and then calculate the absolute integral over these delta-FRs"
   ],
   "metadata": {
    "collapsed": false
   }
  },
  {
   "cell_type": "code",
   "execution_count": 12,
   "outputs": [],
   "source": [
    "merged  = pd.merge(DF, DF2, on=['id', 'context_pair', 'probe', 'chunk'], suffixes=('_tscore', '_dfr'), validate='1:1')\n",
    "del(DF, DF2)"
   ],
   "metadata": {
    "collapsed": false,
    "pycharm": {
     "name": "#%%\n"
    }
   }
  },
  {
   "cell_type": "code",
   "execution_count": 13,
   "outputs": [
    {
     "data": {
      "image/png": "[encoded data removed]",
      "text/plain": "<IPython.core.display.Image object>"
     },
     "execution_count": 13,
     "metadata": {},
     "output_type": "execute_result"
    }
   ],
   "source": [
    "fig = px.scatter(merged,x='value_tscore', y='value_dfr', facet_col='chunk', trendline='ols')\n",
    "fig.update_traces(marker=dict(size=2, opacity=0.3))\n",
    "# fig.show()\n",
    "img_bytes = fig.to_image(format=\"png\", width=1000, height=400)\n",
    "Image(img_bytes)"
   ],
   "metadata": {
    "collapsed": false,
    "pycharm": {
     "name": "#%%\n"
    }
   }
  },
  {
   "cell_type": "markdown",
   "source": [
    "# Fold\n",
    "into columns corresponding to categories, as one hot encoding"
   ],
   "metadata": {
    "collapsed": false
   }
  },
  {
   "cell_type": "code",
   "execution_count": 17,
   "outputs": [
    {
     "name": "stdout",
     "output_type": "stream",
     "text": [
      "(91816, 8)\n"
     ]
    },
    {
     "data": {
      "text/plain": "             id context_pair probe       value    metric     site region  \\\n0  CRD004a-22-1        00_01     1  151.889679  integral  CRD004a     A1   \n1  CRD004a-39-2        00_01     1   45.823387  integral  CRD004a     A1   \n2  CRD004a-46-3        00_01     1  349.813538  integral  CRD004a     A1   \n3  CRD004a-62-1        00_01     1  128.190765  integral  CRD004a     A1   \n4  CRD004a-64-1        00_01     1  346.058807  integral  CRD004a     A1   \n\n     trans_pair  \n0  same_silence  \n1  same_silence  \n2  same_silence  \n3  same_silence  \n4  same_silence  ",
      "text/html": "<div>\n<style scoped>\n    .dataframe tbody tr th:only-of-type {\n        vertical-align: middle;\n    }\n\n    .dataframe tbody tr th {\n        vertical-align: top;\n    }\n\n    .dataframe thead th {\n        text-align: right;\n    }\n</style>\n<table border=\"1\" class=\"dataframe\">\n  <thead>\n    <tr style=\"text-align: right;\">\n      <th></th>\n      <th>id</th>\n      <th>context_pair</th>\n      <th>probe</th>\n      <th>value</th>\n      <th>metric</th>\n      <th>site</th>\n      <th>region</th>\n      <th>trans_pair</th>\n    </tr>\n  </thead>\n  <tbody>\n    <tr>\n      <th>0</th>\n      <td>CRD004a-22-1</td>\n      <td>00_01</td>\n      <td>1</td>\n      <td>151.889679</td>\n      <td>integral</td>\n      <td>CRD004a</td>\n      <td>A1</td>\n      <td>same_silence</td>\n    </tr>\n    <tr>\n      <th>1</th>\n      <td>CRD004a-39-2</td>\n      <td>00_01</td>\n      <td>1</td>\n      <td>45.823387</td>\n      <td>integral</td>\n      <td>CRD004a</td>\n      <td>A1</td>\n      <td>same_silence</td>\n    </tr>\n    <tr>\n      <th>2</th>\n      <td>CRD004a-46-3</td>\n      <td>00_01</td>\n      <td>1</td>\n      <td>349.813538</td>\n      <td>integral</td>\n      <td>CRD004a</td>\n      <td>A1</td>\n      <td>same_silence</td>\n    </tr>\n    <tr>\n      <th>3</th>\n      <td>CRD004a-62-1</td>\n      <td>00_01</td>\n      <td>1</td>\n      <td>128.190765</td>\n      <td>integral</td>\n      <td>CRD004a</td>\n      <td>A1</td>\n      <td>same_silence</td>\n    </tr>\n    <tr>\n      <th>4</th>\n      <td>CRD004a-64-1</td>\n      <td>00_01</td>\n      <td>1</td>\n      <td>346.058807</td>\n      <td>integral</td>\n      <td>CRD004a</td>\n      <td>A1</td>\n      <td>same_silence</td>\n    </tr>\n  </tbody>\n</table>\n</div>"
     },
     "execution_count": 17,
     "metadata": {},
     "output_type": "execute_result"
    }
   ],
   "source": [
    "# Cluster Mass significant contextual effects\n",
    "summary_DF_file = pl.Path(config['paths']['analysis_cache']) / f'220804_significant_abs_deltaFR_DF'\n",
    "\n",
    "metrics = ['integral', 'last_bin']\n",
    "DF = jl.load(summary_DF_file).query(f\"source == 'real' and metric in {metrics} and \"\n",
    "                                    f\"cluster_threshold == 0.05 and mult_comp_corr == 'bf_cp' and \"\n",
    "                                    f\"analysis == 'SC' and \"\n",
    "                                    f\"value > 0 and value < 10000\")\n",
    "\n",
    "DF.drop(columns=['source', 'cluster_threshold', 'mult_comp_corr',\n",
    "                 'analysis', 'stim_count',], inplace=True)\n",
    "DF.reset_index(drop=True, inplace=True)\n",
    "DF = add_classified_contexts(DF)\n",
    "\n",
    "for col in ['id','context_pair','probe','site', 'region', 'metric', 'trans_pair']:\n",
    "    DF[col] = DF[col].astype('category')\n",
    "\n",
    "DF['value'] = pd.to_numeric(DF.value, downcast='float')\n",
    "print(DF.shape)\n",
    "DF.head()"
   ],
   "metadata": {
    "collapsed": false,
    "pycharm": {
     "name": "#%%\n"
    }
   }
  },
  {
   "cell_type": "code",
   "execution_count": 109,
   "outputs": [
    {
     "data": {
      "text/plain": "                 id context_pair probe       value    metric     site region  \\\n0      CRD004a-22-1        00_01     1  151.889679  integral  CRD004a     A1   \n1      CRD004a-39-2        00_01     1   45.823387  integral  CRD004a     A1   \n2      CRD004a-46-3        00_01     1  349.813538  integral  CRD004a     A1   \n3      CRD004a-62-1        00_01     1  128.190765  integral  CRD004a     A1   \n4      CRD004a-64-1        00_01     1  346.058807  integral  CRD004a     A1   \n...             ...          ...   ...         ...       ...      ...    ...   \n91811  AMT030a-22-1        01_04     4  100.000000  last_bin  AMT030a    PEG   \n91812  AMT030a-27-1        01_04     4  150.000000  last_bin  AMT030a    PEG   \n91813  AMT030a-22-1        02_04     4  100.000000  last_bin  AMT030a    PEG   \n91814  AMT030a-22-2        02_04     4  200.000000  last_bin  AMT030a    PEG   \n91815  AMT030a-22-1        03_04     4  100.000000  last_bin  AMT030a    PEG   \n\n         trans_pair diff1 diff2 same silence  \n0      same_silence     0     0    1       1  \n1      same_silence     0     0    1       1  \n2      same_silence     0     0    1       1  \n3      same_silence     0     0    1       1  \n4      same_silence     0     0    1       1  \n...             ...   ...   ...  ...     ...  \n91811     diff_same     1     0    1       0  \n91812     diff_same     1     0    1       0  \n91813     diff_same     1     0    1       0  \n91814     diff_same     1     0    1       0  \n91815     diff_same     1     0    1       0  \n\n[91816 rows x 12 columns]",
      "text/html": "<div>\n<style scoped>\n    .dataframe tbody tr th:only-of-type {\n        vertical-align: middle;\n    }\n\n    .dataframe tbody tr th {\n        vertical-align: top;\n    }\n\n    .dataframe thead th {\n        text-align: right;\n    }\n</style>\n<table border=\"1\" class=\"dataframe\">\n  <thead>\n    <tr style=\"text-align: right;\">\n      <th></th>\n      <th>id</th>\n      <th>context_pair</th>\n      <th>probe</th>\n      <th>value</th>\n      <th>metric</th>\n      <th>site</th>\n      <th>region</th>\n      <th>trans_pair</th>\n      <th>diff1</th>\n      <th>diff2</th>\n      <th>same</th>\n      <th>silence</th>\n    </tr>\n  </thead>\n  <tbody>\n    <tr>\n      <th>0</th>\n      <td>CRD004a-22-1</td>\n      <td>00_01</td>\n      <td>1</td>\n      <td>151.889679</td>\n      <td>integral</td>\n      <td>CRD004a</td>\n      <td>A1</td>\n      <td>same_silence</td>\n      <td>0</td>\n      <td>0</td>\n      <td>1</td>\n      <td>1</td>\n    </tr>\n    <tr>\n      <th>1</th>\n      <td>CRD004a-39-2</td>\n      <td>00_01</td>\n      <td>1</td>\n      <td>45.823387</td>\n      <td>integral</td>\n      <td>CRD004a</td>\n      <td>A1</td>\n      <td>same_silence</td>\n      <td>0</td>\n      <td>0</td>\n      <td>1</td>\n      <td>1</td>\n    </tr>\n    <tr>\n      <th>2</th>\n      <td>CRD004a-46-3</td>\n      <td>00_01</td>\n      <td>1</td>\n      <td>349.813538</td>\n      <td>integral</td>\n      <td>CRD004a</td>\n      <td>A1</td>\n      <td>same_silence</td>\n      <td>0</td>\n      <td>0</td>\n      <td>1</td>\n      <td>1</td>\n    </tr>\n    <tr>\n      <th>3</th>\n      <td>CRD004a-62-1</td>\n      <td>00_01</td>\n      <td>1</td>\n      <td>128.190765</td>\n      <td>integral</td>\n      <td>CRD004a</td>\n      <td>A1</td>\n      <td>same_silence</td>\n      <td>0</td>\n      <td>0</td>\n      <td>1</td>\n      <td>1</td>\n    </tr>\n    <tr>\n      <th>4</th>\n      <td>CRD004a-64-1</td>\n      <td>00_01</td>\n      <td>1</td>\n      <td>346.058807</td>\n      <td>integral</td>\n      <td>CRD004a</td>\n      <td>A1</td>\n      <td>same_silence</td>\n      <td>0</td>\n      <td>0</td>\n      <td>1</td>\n      <td>1</td>\n    </tr>\n    <tr>\n      <th>...</th>\n      <td>...</td>\n      <td>...</td>\n      <td>...</td>\n      <td>...</td>\n      <td>...</td>\n      <td>...</td>\n      <td>...</td>\n      <td>...</td>\n      <td>...</td>\n      <td>...</td>\n      <td>...</td>\n      <td>...</td>\n    </tr>\n    <tr>\n      <th>91811</th>\n      <td>AMT030a-22-1</td>\n      <td>01_04</td>\n      <td>4</td>\n      <td>100.000000</td>\n      <td>last_bin</td>\n      <td>AMT030a</td>\n      <td>PEG</td>\n      <td>diff_same</td>\n      <td>1</td>\n      <td>0</td>\n      <td>1</td>\n      <td>0</td>\n    </tr>\n    <tr>\n      <th>91812</th>\n      <td>AMT030a-27-1</td>\n      <td>01_04</td>\n      <td>4</td>\n      <td>150.000000</td>\n      <td>last_bin</td>\n      <td>AMT030a</td>\n      <td>PEG</td>\n      <td>diff_same</td>\n      <td>1</td>\n      <td>0</td>\n      <td>1</td>\n      <td>0</td>\n    </tr>\n    <tr>\n      <th>91813</th>\n      <td>AMT030a-22-1</td>\n      <td>02_04</td>\n      <td>4</td>\n      <td>100.000000</td>\n      <td>last_bin</td>\n      <td>AMT030a</td>\n      <td>PEG</td>\n      <td>diff_same</td>\n      <td>1</td>\n      <td>0</td>\n      <td>1</td>\n      <td>0</td>\n    </tr>\n    <tr>\n      <th>91814</th>\n      <td>AMT030a-22-2</td>\n      <td>02_04</td>\n      <td>4</td>\n      <td>200.000000</td>\n      <td>last_bin</td>\n      <td>AMT030a</td>\n      <td>PEG</td>\n      <td>diff_same</td>\n      <td>1</td>\n      <td>0</td>\n      <td>1</td>\n      <td>0</td>\n    </tr>\n    <tr>\n      <th>91815</th>\n      <td>AMT030a-22-1</td>\n      <td>03_04</td>\n      <td>4</td>\n      <td>100.000000</td>\n      <td>last_bin</td>\n      <td>AMT030a</td>\n      <td>PEG</td>\n      <td>diff_same</td>\n      <td>1</td>\n      <td>0</td>\n      <td>1</td>\n      <td>0</td>\n    </tr>\n  </tbody>\n</table>\n<p>91816 rows × 12 columns</p>\n</div>"
     },
     "execution_count": 109,
     "metadata": {},
     "output_type": "execute_result"
    }
   ],
   "source": [
    "# toregress= DF.head(100).copy()\n",
    "toregress= DF\n",
    "\n",
    "# the simplest approach is to manually map the 4 categories into onehots\n",
    "# onehot order: diff1 diff2 same silence\n",
    "mapper={'diff_diff':(1,1,0,0), 'diff_same':(1,0,1,0), 'diff_silence':(1,0,0,1), 'same_silence':(0,0,1,1)}\n",
    "toregress['onehot'] = toregress['trans_pair'].replace(mapper)\n",
    "onehotdf = pd.DataFrame(toregress['onehot'].to_list(), columns = ['diff1', 'diff2', 'same', 'silence'])\n",
    "\n",
    "toregress = pd.concat([toregress, onehotdf], axis=1)\n",
    "\n",
    "toregress.drop(columns='onehot', inplace=True)\n",
    "del(onehotdf)\n",
    "\n",
    "for col in ['diff1', 'diff2', 'same', 'silence']:\n",
    "    toregress[col] = toregress[col].astype('category')\n",
    "\n",
    "toregress"
   ],
   "metadata": {
    "collapsed": false,
    "pycharm": {
     "name": "#%%\n"
    }
   }
  },
  {
   "cell_type": "code",
   "execution_count": 110,
   "outputs": [
    {
     "name": "stdout",
     "output_type": "stream",
     "text": [
      "                            OLS Regression Results                            \n",
      "==============================================================================\n",
      "Dep. Variable:                  value   R-squared:                       0.015\n",
      "Model:                            OLS   Adj. R-squared:                  0.015\n",
      "Method:                 Least Squares   F-statistic:                     117.9\n",
      "Date:                Wed, 10 Aug 2022   Prob (F-statistic):          2.14e-148\n",
      "Time:                        17:18:00   Log-Likelihood:            -3.0560e+05\n",
      "No. Observations:               45908   AIC:                         6.112e+05\n",
      "Df Residuals:                   45901   BIC:                         6.113e+05\n",
      "Df Model:                           6                                         \n",
      "Covariance Type:            nonrobust                                         \n",
      "============================================================================================================================\n",
      "                                                               coef    std err          t      P>|t|      [0.025      0.975]\n",
      "----------------------------------------------------------------------------------------------------------------------------\n",
      "Intercept                                                -2.157e+12   3.87e+13     -0.056      0.956    -7.8e+13    7.37e+13\n",
      "C(diff1)[T.1]                                            -5.501e+13   8.61e+13     -0.639      0.523   -2.24e+14    1.14e+14\n",
      "C(diff2)[T.1]                                             3.384e+13   7.18e+13      0.471      0.637   -1.07e+14    1.75e+14\n",
      "C(same)[T.1]                                              7.805e+13   9.54e+13      0.818      0.413   -1.09e+14    2.65e+14\n",
      "C(silence)[T.1]                                           -4.15e+13   9.83e+13     -0.422      0.673   -2.34e+14    1.51e+14\n",
      "C(diff1)[T.1]:C(diff2)[T.1]                               2.333e+13    4.6e+13      0.507      0.612   -6.69e+13    1.14e+14\n",
      "C(diff1)[T.1]:C(same)[T.1]                               -2.088e+13   4.52e+13     -0.462      0.644   -1.09e+14    6.76e+13\n",
      "C(diff2)[T.1]:C(same)[T.1]                                   0.0157      0.023      0.672      0.502      -0.030       0.062\n",
      "C(diff1)[T.1]:C(silence)[T.1]                             9.866e+13   2.11e+14      0.467      0.641   -3.16e+14    5.13e+14\n",
      "C(diff2)[T.1]:C(silence)[T.1]                                     0          0        nan        nan           0           0\n",
      "C(same)[T.1]:C(silence)[T.1]                             -3.439e+13   5.36e+13     -0.641      0.521   -1.39e+14    7.07e+13\n",
      "C(diff1)[T.1]:C(diff2)[T.1]:C(same)[T.1]                          0          0        nan        nan           0           0\n",
      "C(diff1)[T.1]:C(diff2)[T.1]:C(silence)[T.1]                       0          0        nan        nan           0           0\n",
      "C(diff1)[T.1]:C(same)[T.1]:C(silence)[T.1]                        0          0        nan        nan           0           0\n",
      "C(diff2)[T.1]:C(same)[T.1]:C(silence)[T.1]                        0          0        nan        nan           0           0\n",
      "C(diff1)[T.1]:C(diff2)[T.1]:C(same)[T.1]:C(silence)[T.1]          0          0        nan        nan           0           0\n",
      "==============================================================================\n",
      "Omnibus:                    31870.830   Durbin-Watson:                   1.777\n",
      "Prob(Omnibus):                  0.000   Jarque-Bera (JB):           630948.449\n",
      "Skew:                           3.119   Prob(JB):                         0.00\n",
      "Kurtosis:                      20.057   Cond. No.                          inf\n",
      "==============================================================================\n",
      "\n",
      "Notes:\n",
      "[1] Standard Errors assume that the covariance matrix of the errors is correctly specified.\n",
      "[2] The smallest eigenvalue is      0. This might indicate that there are\n",
      "strong multicollinearity problems or that the design matrix is singular.\n"
     ]
    },
    {
     "name": "stderr",
     "output_type": "stream",
     "text": [
      "/auto/users/mateo/miniconda3/envs/cpa_tf/lib/python3.9/site-packages/statsmodels/regression/linear_model.py:1918: RuntimeWarning:\n",
      "\n",
      "divide by zero encountered in double_scalars\n",
      "\n"
     ]
    }
   ],
   "source": [
    "from statsmodels.formula.api import ols\n",
    "\n",
    "mod = ols(\"value ~ C(diff1) * C(diff2) * C(same) * C(silence)\", data=toregress.query(\"metric == 'integral'\"))\n",
    "res = mod.fit()\n",
    "print(res.summary())"
   ],
   "metadata": {
    "collapsed": false,
    "pycharm": {
     "name": "#%%\n"
    }
   }
  },
  {
   "cell_type": "code",
   "execution_count": 113,
   "outputs": [
    {
     "data": {
      "text/plain": "        parameter         value\n0       Intercept -2.157282e+12\n1           diff1 -5.500820e+13\n2           diff2  3.383681e+13\n3            same  7.804787e+13\n4         silence -4.149714e+13\n5     diff1_diff2  2.332867e+13\n6      diff1_same -2.088238e+13\n7      diff2_same  1.574779e-02\n8   diff1_silence  9.866262e+13\n10   same_silence -3.439345e+13",
      "text/html": "<div>\n<style scoped>\n    .dataframe tbody tr th:only-of-type {\n        vertical-align: middle;\n    }\n\n    .dataframe tbody tr th {\n        vertical-align: top;\n    }\n\n    .dataframe thead th {\n        text-align: right;\n    }\n</style>\n<table border=\"1\" class=\"dataframe\">\n  <thead>\n    <tr style=\"text-align: right;\">\n      <th></th>\n      <th>parameter</th>\n      <th>value</th>\n    </tr>\n  </thead>\n  <tbody>\n    <tr>\n      <th>0</th>\n      <td>Intercept</td>\n      <td>-2.157282e+12</td>\n    </tr>\n    <tr>\n      <th>1</th>\n      <td>diff1</td>\n      <td>-5.500820e+13</td>\n    </tr>\n    <tr>\n      <th>2</th>\n      <td>diff2</td>\n      <td>3.383681e+13</td>\n    </tr>\n    <tr>\n      <th>3</th>\n      <td>same</td>\n      <td>7.804787e+13</td>\n    </tr>\n    <tr>\n      <th>4</th>\n      <td>silence</td>\n      <td>-4.149714e+13</td>\n    </tr>\n    <tr>\n      <th>5</th>\n      <td>diff1_diff2</td>\n      <td>2.332867e+13</td>\n    </tr>\n    <tr>\n      <th>6</th>\n      <td>diff1_same</td>\n      <td>-2.088238e+13</td>\n    </tr>\n    <tr>\n      <th>7</th>\n      <td>diff2_same</td>\n      <td>1.574779e-02</td>\n    </tr>\n    <tr>\n      <th>8</th>\n      <td>diff1_silence</td>\n      <td>9.866262e+13</td>\n    </tr>\n    <tr>\n      <th>10</th>\n      <td>same_silence</td>\n      <td>-3.439345e+13</td>\n    </tr>\n  </tbody>\n</table>\n</div>"
     },
     "execution_count": 113,
     "metadata": {},
     "output_type": "execute_result"
    }
   ],
   "source": [
    "# get weiths and intecep, remove non existing interactions\n",
    "weights = res.params\n",
    "weights.name = 'value'\n",
    "weights = weights.reset_index()\n",
    "weights.rename(columns={'index':'parameter'}, inplace=True)\n",
    "weights = weights.query(\"value != 0\")\n",
    "\n",
    "# rename parameters to remove extra statsmodel notation\n",
    "names = weights['parameter'].str.extractall(r\"\\((.*?)\\)\")\n",
    "names = names.groupby(level=0).apply(lambda x: '_'.join(x[0]))\n",
    "weights.loc[1:,'parameter'] = names\n",
    "weights"
   ],
   "metadata": {
    "collapsed": false,
    "pycharm": {
     "name": "#%%\n"
    }
   }
  },
  {
   "cell_type": "code",
   "execution_count": 114,
   "outputs": [
    {
     "data": {
      "application/vnd.plotly.v1+json": {
       "data": [
        {
         "alignmentgroup": "True",
         "hovertemplate": "parameter=%{x}<br>value=%{y}<extra></extra>",
         "legendgroup": "",
         "marker": {
          "color": "#636efa",
          "pattern": {
           "shape": ""
          }
         },
         "name": "",
         "offsetgroup": "",
         "orientation": "v",
         "showlegend": false,
         "textposition": "auto",
         "x": [
          "Intercept",
          "diff1",
          "diff2",
          "same",
          "silence",
          "diff1_diff2",
          "diff1_same",
          "diff2_same",
          "diff1_silence",
          "same_silence"
         ],
         "xaxis": "x",
         "y": [
          -2.1572820895332686E12,
          -5.500820132415508E13,
          3.383680893810074E13,
          7.804786781226595E13,
          -4.149713640110568E13,
          2.3328674475810055E13,
          -2.088238439836152E13,
          0.015747786426057966,
          9.866261981506798E13,
          -3.4393449321361164E13
         ],
         "yaxis": "y",
         "type": "bar"
        }
       ],
       "layout": {
        "template": {
         "data": {
          "bar": [
           {
            "error_x": {
             "color": "#2a3f5f"
            },
            "error_y": {
             "color": "#2a3f5f"
            },
            "marker": {
             "line": {
              "color": "#E5ECF6",
              "width": 0.5
             },
             "pattern": {
              "fillmode": "overlay",
              "size": 10,
              "solidity": 0.2
             }
            },
            "type": "bar"
           }
          ],
          "barpolar": [
           {
            "marker": {
             "line": {
              "color": "#E5ECF6",
              "width": 0.5
             },
             "pattern": {
              "fillmode": "overlay",
              "size": 10,
              "solidity": 0.2
             }
            },
            "type": "barpolar"
           }
          ],
          "carpet": [
           {
            "aaxis": {
             "endlinecolor": "#2a3f5f",
             "gridcolor": "white",
             "linecolor": "white",
             "minorgridcolor": "white",
             "startlinecolor": "#2a3f5f"
            },
            "baxis": {
             "endlinecolor": "#2a3f5f",
             "gridcolor": "white",
             "linecolor": "white",
             "minorgridcolor": "white",
             "startlinecolor": "#2a3f5f"
            },
            "type": "carpet"
           }
          ],
          "choropleth": [
           {
            "colorbar": {
             "outlinewidth": 0,
             "ticks": ""
            },
            "type": "choropleth"
           }
          ],
          "contour": [
           {
            "colorbar": {
             "outlinewidth": 0,
             "ticks": ""
            },
            "colorscale": [
             [
              0.0,
              "#0d0887"
             ],
             [
              0.1111111111111111,
              "#46039f"
             ],
             [
              0.2222222222222222,
              "#7201a8"
             ],
             [
              0.3333333333333333,
              "#9c179e"
             ],
             [
              0.4444444444444444,
              "#bd3786"
             ],
             [
              0.5555555555555556,
              "#d8576b"
             ],
             [
              0.6666666666666666,
              "#ed7953"
             ],
             [
              0.7777777777777778,
              "#fb9f3a"
             ],
             [
              0.8888888888888888,
              "#fdca26"
             ],
             [
              1.0,
              "#f0f921"
             ]
            ],
            "type": "contour"
           }
          ],
          "contourcarpet": [
           {
            "colorbar": {
             "outlinewidth": 0,
             "ticks": ""
            },
            "type": "contourcarpet"
           }
          ],
          "heatmap": [
           {
            "colorbar": {
             "outlinewidth": 0,
             "ticks": ""
            },
            "colorscale": [
             [
              0.0,
              "#0d0887"
             ],
             [
              0.1111111111111111,
              "#46039f"
             ],
             [
              0.2222222222222222,
              "#7201a8"
             ],
             [
              0.3333333333333333,
              "#9c179e"
             ],
             [
              0.4444444444444444,
              "#bd3786"
             ],
             [
              0.5555555555555556,
              "#d8576b"
             ],
             [
              0.6666666666666666,
              "#ed7953"
             ],
             [
              0.7777777777777778,
              "#fb9f3a"
             ],
             [
              0.8888888888888888,
              "#fdca26"
             ],
             [
              1.0,
              "#f0f921"
             ]
            ],
            "type": "heatmap"
           }
          ],
          "heatmapgl": [
           {
            "colorbar": {
             "outlinewidth": 0,
             "ticks": ""
            },
            "colorscale": [
             [
              0.0,
              "#0d0887"
             ],
             [
              0.1111111111111111,
              "#46039f"
             ],
             [
              0.2222222222222222,
              "#7201a8"
             ],
             [
              0.3333333333333333,
              "#9c179e"
             ],
             [
              0.4444444444444444,
              "#bd3786"
             ],
             [
              0.5555555555555556,
              "#d8576b"
             ],
             [
              0.6666666666666666,
              "#ed7953"
             ],
             [
              0.7777777777777778,
              "#fb9f3a"
             ],
             [
              0.8888888888888888,
              "#fdca26"
             ],
             [
              1.0,
              "#f0f921"
             ]
            ],
            "type": "heatmapgl"
           }
          ],
          "histogram": [
           {
            "marker": {
             "pattern": {
              "fillmode": "overlay",
              "size": 10,
              "solidity": 0.2
             }
            },
            "type": "histogram"
           }
          ],
          "histogram2d": [
           {
            "colorbar": {
             "outlinewidth": 0,
             "ticks": ""
            },
            "colorscale": [
             [
              0.0,
              "#0d0887"
             ],
             [
              0.1111111111111111,
              "#46039f"
             ],
             [
              0.2222222222222222,
              "#7201a8"
             ],
             [
              0.3333333333333333,
              "#9c179e"
             ],
             [
              0.4444444444444444,
              "#bd3786"
             ],
             [
              0.5555555555555556,
              "#d8576b"
             ],
             [
              0.6666666666666666,
              "#ed7953"
             ],
             [
              0.7777777777777778,
              "#fb9f3a"
             ],
             [
              0.8888888888888888,
              "#fdca26"
             ],
             [
              1.0,
              "#f0f921"
             ]
            ],
            "type": "histogram2d"
           }
          ],
          "histogram2dcontour": [
           {
            "colorbar": {
             "outlinewidth": 0,
             "ticks": ""
            },
            "colorscale": [
             [
              0.0,
              "#0d0887"
             ],
             [
              0.1111111111111111,
              "#46039f"
             ],
             [
              0.2222222222222222,
              "#7201a8"
             ],
             [
              0.3333333333333333,
              "#9c179e"
             ],
             [
              0.4444444444444444,
              "#bd3786"
             ],
             [
              0.5555555555555556,
              "#d8576b"
             ],
             [
              0.6666666666666666,
              "#ed7953"
             ],
             [
              0.7777777777777778,
              "#fb9f3a"
             ],
             [
              0.8888888888888888,
              "#fdca26"
             ],
             [
              1.0,
              "#f0f921"
             ]
            ],
            "type": "histogram2dcontour"
           }
          ],
          "mesh3d": [
           {
            "colorbar": {
             "outlinewidth": 0,
             "ticks": ""
            },
            "type": "mesh3d"
           }
          ],
          "parcoords": [
           {
            "line": {
             "colorbar": {
              "outlinewidth": 0,
              "ticks": ""
             }
            },
            "type": "parcoords"
           }
          ],
          "pie": [
           {
            "automargin": true,
            "type": "pie"
           }
          ],
          "scatter": [
           {
            "marker": {
             "colorbar": {
              "outlinewidth": 0,
              "ticks": ""
             }
            },
            "type": "scatter"
           }
          ],
          "scatter3d": [
           {
            "line": {
             "colorbar": {
              "outlinewidth": 0,
              "ticks": ""
             }
            },
            "marker": {
             "colorbar": {
              "outlinewidth": 0,
              "ticks": ""
             }
            },
            "type": "scatter3d"
           }
          ],
          "scattercarpet": [
           {
            "marker": {
             "colorbar": {
              "outlinewidth": 0,
              "ticks": ""
             }
            },
            "type": "scattercarpet"
           }
          ],
          "scattergeo": [
           {
            "marker": {
             "colorbar": {
              "outlinewidth": 0,
              "ticks": ""
             }
            },
            "type": "scattergeo"
           }
          ],
          "scattergl": [
           {
            "marker": {
             "colorbar": {
              "outlinewidth": 0,
              "ticks": ""
             }
            },
            "type": "scattergl"
           }
          ],
          "scattermapbox": [
           {
            "marker": {
             "colorbar": {
              "outlinewidth": 0,
              "ticks": ""
             }
            },
            "type": "scattermapbox"
           }
          ],
          "scatterpolar": [
           {
            "marker": {
             "colorbar": {
              "outlinewidth": 0,
              "ticks": ""
             }
            },
            "type": "scatterpolar"
           }
          ],
          "scatterpolargl": [
           {
            "marker": {
             "colorbar": {
              "outlinewidth": 0,
              "ticks": ""
             }
            },
            "type": "scatterpolargl"
           }
          ],
          "scatterternary": [
           {
            "marker": {
             "colorbar": {
              "outlinewidth": 0,
              "ticks": ""
             }
            },
            "type": "scatterternary"
           }
          ],
          "surface": [
           {
            "colorbar": {
             "outlinewidth": 0,
             "ticks": ""
            },
            "colorscale": [
             [
              0.0,
              "#0d0887"
             ],
             [
              0.1111111111111111,
              "#46039f"
             ],
             [
              0.2222222222222222,
              "#7201a8"
             ],
             [
              0.3333333333333333,
              "#9c179e"
             ],
             [
              0.4444444444444444,
              "#bd3786"
             ],
             [
              0.5555555555555556,
              "#d8576b"
             ],
             [
              0.6666666666666666,
              "#ed7953"
             ],
             [
              0.7777777777777778,
              "#fb9f3a"
             ],
             [
              0.8888888888888888,
              "#fdca26"
             ],
             [
              1.0,
              "#f0f921"
             ]
            ],
            "type": "surface"
           }
          ],
          "table": [
           {
            "cells": {
             "fill": {
              "color": "#EBF0F8"
             },
             "line": {
              "color": "white"
             }
            },
            "header": {
             "fill": {
              "color": "#C8D4E3"
             },
             "line": {
              "color": "white"
             }
            },
            "type": "table"
           }
          ]
         },
         "layout": {
          "annotationdefaults": {
           "arrowcolor": "#2a3f5f",
           "arrowhead": 0,
           "arrowwidth": 1
          },
          "autotypenumbers": "strict",
          "coloraxis": {
           "colorbar": {
            "outlinewidth": 0,
            "ticks": ""
           }
          },
          "colorscale": {
           "diverging": [
            [
             0,
             "#8e0152"
            ],
            [
             0.1,
             "#c51b7d"
            ],
            [
             0.2,
             "#de77ae"
            ],
            [
             0.3,
             "#f1b6da"
            ],
            [
             0.4,
             "#fde0ef"
            ],
            [
             0.5,
             "#f7f7f7"
            ],
            [
             0.6,
             "#e6f5d0"
            ],
            [
             0.7,
             "#b8e186"
            ],
            [
             0.8,
             "#7fbc41"
            ],
            [
             0.9,
             "#4d9221"
            ],
            [
             1,
             "#276419"
            ]
           ],
           "sequential": [
            [
             0.0,
             "#0d0887"
            ],
            [
             0.1111111111111111,
             "#46039f"
            ],
            [
             0.2222222222222222,
             "#7201a8"
            ],
            [
             0.3333333333333333,
             "#9c179e"
            ],
            [
             0.4444444444444444,
             "#bd3786"
            ],
            [
             0.5555555555555556,
             "#d8576b"
            ],
            [
             0.6666666666666666,
             "#ed7953"
            ],
            [
             0.7777777777777778,
             "#fb9f3a"
            ],
            [
             0.8888888888888888,
             "#fdca26"
            ],
            [
             1.0,
             "#f0f921"
            ]
           ],
           "sequentialminus": [
            [
             0.0,
             "#0d0887"
            ],
            [
             0.1111111111111111,
             "#46039f"
            ],
            [
             0.2222222222222222,
             "#7201a8"
            ],
            [
             0.3333333333333333,
             "#9c179e"
            ],
            [
             0.4444444444444444,
             "#bd3786"
            ],
            [
             0.5555555555555556,
             "#d8576b"
            ],
            [
             0.6666666666666666,
             "#ed7953"
            ],
            [
             0.7777777777777778,
             "#fb9f3a"
            ],
            [
             0.8888888888888888,
             "#fdca26"
            ],
            [
             1.0,
             "#f0f921"
            ]
           ]
          },
          "colorway": [
           "#636efa",
           "#EF553B",
           "#00cc96",
           "#ab63fa",
           "#FFA15A",
           "#19d3f3",
           "#FF6692",
           "#B6E880",
           "#FF97FF",
           "#FECB52"
          ],
          "font": {
           "color": "#2a3f5f"
          },
          "geo": {
           "bgcolor": "white",
           "lakecolor": "white",
           "landcolor": "#E5ECF6",
           "showlakes": true,
           "showland": true,
           "subunitcolor": "white"
          },
          "hoverlabel": {
           "align": "left"
          },
          "hovermode": "closest",
          "mapbox": {
           "style": "light"
          },
          "paper_bgcolor": "white",
          "plot_bgcolor": "#E5ECF6",
          "polar": {
           "angularaxis": {
            "gridcolor": "white",
            "linecolor": "white",
            "ticks": ""
           },
           "bgcolor": "#E5ECF6",
           "radialaxis": {
            "gridcolor": "white",
            "linecolor": "white",
            "ticks": ""
           }
          },
          "scene": {
           "xaxis": {
            "backgroundcolor": "#E5ECF6",
            "gridcolor": "white",
            "gridwidth": 2,
            "linecolor": "white",
            "showbackground": true,
            "ticks": "",
            "zerolinecolor": "white"
           },
           "yaxis": {
            "backgroundcolor": "#E5ECF6",
            "gridcolor": "white",
            "gridwidth": 2,
            "linecolor": "white",
            "showbackground": true,
            "ticks": "",
            "zerolinecolor": "white"
           },
           "zaxis": {
            "backgroundcolor": "#E5ECF6",
            "gridcolor": "white",
            "gridwidth": 2,
            "linecolor": "white",
            "showbackground": true,
            "ticks": "",
            "zerolinecolor": "white"
           }
          },
          "shapedefaults": {
           "line": {
            "color": "#2a3f5f"
           }
          },
          "ternary": {
           "aaxis": {
            "gridcolor": "white",
            "linecolor": "white",
            "ticks": ""
           },
           "baxis": {
            "gridcolor": "white",
            "linecolor": "white",
            "ticks": ""
           },
           "bgcolor": "#E5ECF6",
           "caxis": {
            "gridcolor": "white",
            "linecolor": "white",
            "ticks": ""
           }
          },
          "title": {
           "x": 0.05
          },
          "xaxis": {
           "automargin": true,
           "gridcolor": "white",
           "linecolor": "white",
           "ticks": "",
           "title": {
            "standoff": 15
           },
           "zerolinecolor": "white",
           "zerolinewidth": 2
          },
          "yaxis": {
           "automargin": true,
           "gridcolor": "white",
           "linecolor": "white",
           "ticks": "",
           "title": {
            "standoff": 15
           },
           "zerolinecolor": "white",
           "zerolinewidth": 2
          }
         }
        },
        "xaxis": {
         "anchor": "y",
         "domain": [
          0.0,
          1.0
         ],
         "title": {
          "text": "parameter"
         }
        },
        "yaxis": {
         "anchor": "x",
         "domain": [
          0.0,
          1.0
         ],
         "title": {
          "text": "value"
         }
        },
        "legend": {
         "tracegroupgap": 0
        },
        "margin": {
         "t": 60
        },
        "barmode": "relative"
       },
       "config": {
        "plotlyServerURL": "https://plot.ly"
       }
      },
      "text/html": "<div>                            <div id=\"93d2fe61-1dd2-4a5f-85ed-b366e8b45d3b\" class=\"plotly-graph-div\" style=\"height:525px; width:100%;\"></div>            <script type=\"text/javascript\">                require([\"plotly\"], function(Plotly) {                    window.PLOTLYENV=window.PLOTLYENV || {};                                    if (document.getElementById(\"93d2fe61-1dd2-4a5f-85ed-b366e8b45d3b\")) {                    Plotly.newPlot(                        \"93d2fe61-1dd2-4a5f-85ed-b366e8b45d3b\",                        [{\"alignmentgroup\":\"True\",\"hovertemplate\":\"parameter=%{x}<br>value=%{y}<extra></extra>\",\"legendgroup\":\"\",\"marker\":{\"color\":\"#636efa\",\"pattern\":{\"shape\":\"\"}},\"name\":\"\",\"offsetgroup\":\"\",\"orientation\":\"v\",\"showlegend\":false,\"textposition\":\"auto\",\"x\":[\"Intercept\",\"diff1\",\"diff2\",\"same\",\"silence\",\"diff1_diff2\",\"diff1_same\",\"diff2_same\",\"diff1_silence\",\"same_silence\"],\"xaxis\":\"x\",\"y\":[-2157282089533.2686,-55008201324155.08,33836808938100.74,78047867812265.95,-41497136401105.68,23328674475810.055,-20882384398361.52,0.015747786426057966,98662619815067.98,-34393449321361.164],\"yaxis\":\"y\",\"type\":\"bar\"}],                        {\"template\":{\"data\":{\"bar\":[{\"error_x\":{\"color\":\"#2a3f5f\"},\"error_y\":{\"color\":\"#2a3f5f\"},\"marker\":{\"line\":{\"color\":\"#E5ECF6\",\"width\":0.5},\"pattern\":{\"fillmode\":\"overlay\",\"size\":10,\"solidity\":0.2}},\"type\":\"bar\"}],\"barpolar\":[{\"marker\":{\"line\":{\"color\":\"#E5ECF6\",\"width\":0.5},\"pattern\":{\"fillmode\":\"overlay\",\"size\":10,\"solidity\":0.2}},\"type\":\"barpolar\"}],\"carpet\":[{\"aaxis\":{\"endlinecolor\":\"#2a3f5f\",\"gridcolor\":\"white\",\"linecolor\":\"white\",\"minorgridcolor\":\"white\",\"startlinecolor\":\"#2a3f5f\"},\"baxis\":{\"endlinecolor\":\"#2a3f5f\",\"gridcolor\":\"white\",\"linecolor\":\"white\",\"minorgridcolor\":\"white\",\"startlinecolor\":\"#2a3f5f\"},\"type\":\"carpet\"}],\"choropleth\":[{\"colorbar\":{\"outlinewidth\":0,\"ticks\":\"\"},\"type\":\"choropleth\"}],\"contour\":[{\"colorbar\":{\"outlinewidth\":0,\"ticks\":\"\"},\"colorscale\":[[0.0,\"#0d0887\"],[0.1111111111111111,\"#46039f\"],[0.2222222222222222,\"#7201a8\"],[0.3333333333333333,\"#9c179e\"],[0.4444444444444444,\"#bd3786\"],[0.5555555555555556,\"#d8576b\"],[0.6666666666666666,\"#ed7953\"],[0.7777777777777778,\"#fb9f3a\"],[0.8888888888888888,\"#fdca26\"],[1.0,\"#f0f921\"]],\"type\":\"contour\"}],\"contourcarpet\":[{\"colorbar\":{\"outlinewidth\":0,\"ticks\":\"\"},\"type\":\"contourcarpet\"}],\"heatmap\":[{\"colorbar\":{\"outlinewidth\":0,\"ticks\":\"\"},\"colorscale\":[[0.0,\"#0d0887\"],[0.1111111111111111,\"#46039f\"],[0.2222222222222222,\"#7201a8\"],[0.3333333333333333,\"#9c179e\"],[0.4444444444444444,\"#bd3786\"],[0.5555555555555556,\"#d8576b\"],[0.6666666666666666,\"#ed7953\"],[0.7777777777777778,\"#fb9f3a\"],[0.8888888888888888,\"#fdca26\"],[1.0,\"#f0f921\"]],\"type\":\"heatmap\"}],\"heatmapgl\":[{\"colorbar\":{\"outlinewidth\":0,\"ticks\":\"\"},\"colorscale\":[[0.0,\"#0d0887\"],[0.1111111111111111,\"#46039f\"],[0.2222222222222222,\"#7201a8\"],[0.3333333333333333,\"#9c179e\"],[0.4444444444444444,\"#bd3786\"],[0.5555555555555556,\"#d8576b\"],[0.6666666666666666,\"#ed7953\"],[0.7777777777777778,\"#fb9f3a\"],[0.8888888888888888,\"#fdca26\"],[1.0,\"#f0f921\"]],\"type\":\"heatmapgl\"}],\"histogram\":[{\"marker\":{\"pattern\":{\"fillmode\":\"overlay\",\"size\":10,\"solidity\":0.2}},\"type\":\"histogram\"}],\"histogram2d\":[{\"colorbar\":{\"outlinewidth\":0,\"ticks\":\"\"},\"colorscale\":[[0.0,\"#0d0887\"],[0.1111111111111111,\"#46039f\"],[0.2222222222222222,\"#7201a8\"],[0.3333333333333333,\"#9c179e\"],[0.4444444444444444,\"#bd3786\"],[0.5555555555555556,\"#d8576b\"],[0.6666666666666666,\"#ed7953\"],[0.7777777777777778,\"#fb9f3a\"],[0.8888888888888888,\"#fdca26\"],[1.0,\"#f0f921\"]],\"type\":\"histogram2d\"}],\"histogram2dcontour\":[{\"colorbar\":{\"outlinewidth\":0,\"ticks\":\"\"},\"colorscale\":[[0.0,\"#0d0887\"],[0.1111111111111111,\"#46039f\"],[0.2222222222222222,\"#7201a8\"],[0.3333333333333333,\"#9c179e\"],[0.4444444444444444,\"#bd3786\"],[0.5555555555555556,\"#d8576b\"],[0.6666666666666666,\"#ed7953\"],[0.7777777777777778,\"#fb9f3a\"],[0.8888888888888888,\"#fdca26\"],[1.0,\"#f0f921\"]],\"type\":\"histogram2dcontour\"}],\"mesh3d\":[{\"colorbar\":{\"outlinewidth\":0,\"ticks\":\"\"},\"type\":\"mesh3d\"}],\"parcoords\":[{\"line\":{\"colorbar\":{\"outlinewidth\":0,\"ticks\":\"\"}},\"type\":\"parcoords\"}],\"pie\":[{\"automargin\":true,\"type\":\"pie\"}],\"scatter\":[{\"marker\":{\"colorbar\":{\"outlinewidth\":0,\"ticks\":\"\"}},\"type\":\"scatter\"}],\"scatter3d\":[{\"line\":{\"colorbar\":{\"outlinewidth\":0,\"ticks\":\"\"}},\"marker\":{\"colorbar\":{\"outlinewidth\":0,\"ticks\":\"\"}},\"type\":\"scatter3d\"}],\"scattercarpet\":[{\"marker\":{\"colorbar\":{\"outlinewidth\":0,\"ticks\":\"\"}},\"type\":\"scattercarpet\"}],\"scattergeo\":[{\"marker\":{\"colorbar\":{\"outlinewidth\":0,\"ticks\":\"\"}},\"type\":\"scattergeo\"}],\"scattergl\":[{\"marker\":{\"colorbar\":{\"outlinewidth\":0,\"ticks\":\"\"}},\"type\":\"scattergl\"}],\"scattermapbox\":[{\"marker\":{\"colorbar\":{\"outlinewidth\":0,\"ticks\":\"\"}},\"type\":\"scattermapbox\"}],\"scatterpolar\":[{\"marker\":{\"colorbar\":{\"outlinewidth\":0,\"ticks\":\"\"}},\"type\":\"scatterpolar\"}],\"scatterpolargl\":[{\"marker\":{\"colorbar\":{\"outlinewidth\":0,\"ticks\":\"\"}},\"type\":\"scatterpolargl\"}],\"scatterternary\":[{\"marker\":{\"colorbar\":{\"outlinewidth\":0,\"ticks\":\"\"}},\"type\":\"scatterternary\"}],\"surface\":[{\"colorbar\":{\"outlinewidth\":0,\"ticks\":\"\"},\"colorscale\":[[0.0,\"#0d0887\"],[0.1111111111111111,\"#46039f\"],[0.2222222222222222,\"#7201a8\"],[0.3333333333333333,\"#9c179e\"],[0.4444444444444444,\"#bd3786\"],[0.5555555555555556,\"#d8576b\"],[0.6666666666666666,\"#ed7953\"],[0.7777777777777778,\"#fb9f3a\"],[0.8888888888888888,\"#fdca26\"],[1.0,\"#f0f921\"]],\"type\":\"surface\"}],\"table\":[{\"cells\":{\"fill\":{\"color\":\"#EBF0F8\"},\"line\":{\"color\":\"white\"}},\"header\":{\"fill\":{\"color\":\"#C8D4E3\"},\"line\":{\"color\":\"white\"}},\"type\":\"table\"}]},\"layout\":{\"annotationdefaults\":{\"arrowcolor\":\"#2a3f5f\",\"arrowhead\":0,\"arrowwidth\":1},\"autotypenumbers\":\"strict\",\"coloraxis\":{\"colorbar\":{\"outlinewidth\":0,\"ticks\":\"\"}},\"colorscale\":{\"diverging\":[[0,\"#8e0152\"],[0.1,\"#c51b7d\"],[0.2,\"#de77ae\"],[0.3,\"#f1b6da\"],[0.4,\"#fde0ef\"],[0.5,\"#f7f7f7\"],[0.6,\"#e6f5d0\"],[0.7,\"#b8e186\"],[0.8,\"#7fbc41\"],[0.9,\"#4d9221\"],[1,\"#276419\"]],\"sequential\":[[0.0,\"#0d0887\"],[0.1111111111111111,\"#46039f\"],[0.2222222222222222,\"#7201a8\"],[0.3333333333333333,\"#9c179e\"],[0.4444444444444444,\"#bd3786\"],[0.5555555555555556,\"#d8576b\"],[0.6666666666666666,\"#ed7953\"],[0.7777777777777778,\"#fb9f3a\"],[0.8888888888888888,\"#fdca26\"],[1.0,\"#f0f921\"]],\"sequentialminus\":[[0.0,\"#0d0887\"],[0.1111111111111111,\"#46039f\"],[0.2222222222222222,\"#7201a8\"],[0.3333333333333333,\"#9c179e\"],[0.4444444444444444,\"#bd3786\"],[0.5555555555555556,\"#d8576b\"],[0.6666666666666666,\"#ed7953\"],[0.7777777777777778,\"#fb9f3a\"],[0.8888888888888888,\"#fdca26\"],[1.0,\"#f0f921\"]]},\"colorway\":[\"#636efa\",\"#EF553B\",\"#00cc96\",\"#ab63fa\",\"#FFA15A\",\"#19d3f3\",\"#FF6692\",\"#B6E880\",\"#FF97FF\",\"#FECB52\"],\"font\":{\"color\":\"#2a3f5f\"},\"geo\":{\"bgcolor\":\"white\",\"lakecolor\":\"white\",\"landcolor\":\"#E5ECF6\",\"showlakes\":true,\"showland\":true,\"subunitcolor\":\"white\"},\"hoverlabel\":{\"align\":\"left\"},\"hovermode\":\"closest\",\"mapbox\":{\"style\":\"light\"},\"paper_bgcolor\":\"white\",\"plot_bgcolor\":\"#E5ECF6\",\"polar\":{\"angularaxis\":{\"gridcolor\":\"white\",\"linecolor\":\"white\",\"ticks\":\"\"},\"bgcolor\":\"#E5ECF6\",\"radialaxis\":{\"gridcolor\":\"white\",\"linecolor\":\"white\",\"ticks\":\"\"}},\"scene\":{\"xaxis\":{\"backgroundcolor\":\"#E5ECF6\",\"gridcolor\":\"white\",\"gridwidth\":2,\"linecolor\":\"white\",\"showbackground\":true,\"ticks\":\"\",\"zerolinecolor\":\"white\"},\"yaxis\":{\"backgroundcolor\":\"#E5ECF6\",\"gridcolor\":\"white\",\"gridwidth\":2,\"linecolor\":\"white\",\"showbackground\":true,\"ticks\":\"\",\"zerolinecolor\":\"white\"},\"zaxis\":{\"backgroundcolor\":\"#E5ECF6\",\"gridcolor\":\"white\",\"gridwidth\":2,\"linecolor\":\"white\",\"showbackground\":true,\"ticks\":\"\",\"zerolinecolor\":\"white\"}},\"shapedefaults\":{\"line\":{\"color\":\"#2a3f5f\"}},\"ternary\":{\"aaxis\":{\"gridcolor\":\"white\",\"linecolor\":\"white\",\"ticks\":\"\"},\"baxis\":{\"gridcolor\":\"white\",\"linecolor\":\"white\",\"ticks\":\"\"},\"bgcolor\":\"#E5ECF6\",\"caxis\":{\"gridcolor\":\"white\",\"linecolor\":\"white\",\"ticks\":\"\"}},\"title\":{\"x\":0.05},\"xaxis\":{\"automargin\":true,\"gridcolor\":\"white\",\"linecolor\":\"white\",\"ticks\":\"\",\"title\":{\"standoff\":15},\"zerolinecolor\":\"white\",\"zerolinewidth\":2},\"yaxis\":{\"automargin\":true,\"gridcolor\":\"white\",\"linecolor\":\"white\",\"ticks\":\"\",\"title\":{\"standoff\":15},\"zerolinecolor\":\"white\",\"zerolinewidth\":2}}},\"xaxis\":{\"anchor\":\"y\",\"domain\":[0.0,1.0],\"title\":{\"text\":\"parameter\"}},\"yaxis\":{\"anchor\":\"x\",\"domain\":[0.0,1.0],\"title\":{\"text\":\"value\"}},\"legend\":{\"tracegroupgap\":0},\"margin\":{\"t\":60},\"barmode\":\"relative\"},                        {\"responsive\": true}                    ).then(function(){\n                            \nvar gd = document.getElementById('93d2fe61-1dd2-4a5f-85ed-b366e8b45d3b');\nvar x = new MutationObserver(function (mutations, observer) {{\n        var display = window.getComputedStyle(gd).display;\n        if (!display || display === 'none') {{\n            console.log([gd, 'removed!']);\n            Plotly.purge(gd);\n            observer.disconnect();\n        }}\n}});\n\n// Listen for the removal of the full notebook cells\nvar notebookContainer = gd.closest('#notebook-container');\nif (notebookContainer) {{\n    x.observe(notebookContainer, {childList: true});\n}}\n\n// Listen for the clearing of the current output cell\nvar outputEl = gd.closest('.output');\nif (outputEl) {{\n    x.observe(outputEl, {childList: true});\n}}\n\n                        })                };                });            </script>        </div>"
     },
     "metadata": {},
     "output_type": "display_data"
    }
   ],
   "source": [
    "fig = px.bar(weights, x='parameter', y='value')\n",
    "fig.show()"
   ],
   "metadata": {
    "collapsed": false,
    "pycharm": {
     "name": "#%%\n"
    }
   }
  }
 ],
 "metadata": {
  "kernelspec": {
   "display_name": "Python 3",
   "language": "python",
   "name": "python3"
  },
  "language_info": {
   "codemirror_mode": {
    "name": "ipython",
    "version": 2
   },
   "file_extension": ".py",
   "mimetype": "text/x-python",
   "name": "python",
   "nbconvert_exporter": "python",
   "pygments_lexer": "ipython2",
   "version": "2.7.6"
  }
 },
 "nbformat": 4,
 "nbformat_minor": 0
}