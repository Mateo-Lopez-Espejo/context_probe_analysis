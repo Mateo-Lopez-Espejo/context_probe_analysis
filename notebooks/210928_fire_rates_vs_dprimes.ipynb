{
 "cells": [
  {
   "cell_type": "markdown",
   "metadata": {
    "collapsed": true,
    "pycharm": {
     "name": "#%% md\n"
    }
   },
   "source": [
    "# Context firing rate vs probe dprime\n",
    "after a first passe of relating context firing rates to the metrics of contextual modulations,\n",
    "a main critique was how digested these metrics are, which obfuscate the relationship and its interpretation.\n",
    "An alternative to this is to relate these firing rates (at each time point of the contexts) with the dprime\n",
    "(at teach time point of the probe)\n"
   ]
  },
  {
   "cell_type": "code",
   "execution_count": null,
   "outputs": [],
   "source": [
    "from src.root_path import  config_path\n",
    "from src.visualization.fancy_plots import savefig\n",
    "\n",
    "\n",
    "import itertools as itt\n",
    "import numpy as np\n",
    "import pandas as pd\n",
    "import matplotlib.pyplot as plt\n",
    "import seaborn as sns\n",
    "from configparser import ConfigParser\n",
    "import pathlib as pl\n",
    "import joblib as jl\n",
    "import statsmodels.api as sm\n",
    "from IPython.display import display"
   ],
   "metadata": {
    "collapsed": false,
    "pycharm": {
     "name": "#%%\n"
    }
   }
  },
  {
   "cell_type": "code",
   "execution_count": null,
   "outputs": [],
   "source": [
    "#general plottin formating\n",
    "plt.style.use(['dark_background', config_path / 'notebook.mplstyle'])"
   ],
   "metadata": {
    "collapsed": false,
    "pycharm": {
     "name": "#%%\n"
    }
   }
  },
  {
   "cell_type": "markdown",
   "source": [
    "loads dataframes with fire rates for different contexts * probes * neurons\n",
    "\n",
    "loads dataframes with the dprime time series\n",
    "\n",
    "loads dataframe with contexutal modulation metrics for sanity checks"
   ],
   "metadata": {
    "collapsed": false,
    "pycharm": {
     "name": "#%% md\n"
    }
   }
  },
  {
   "cell_type": "code",
   "execution_count": null,
   "outputs": [],
   "source": [
    "config = ConfigParser()\n",
    "config.read_file(open(config_path / 'settings.ini'))\n",
    "\n",
    "# firing rate dataframe\n",
    "# so far this datadrame only contains firing rates for the 10 sound experiemtns\n",
    "ctx_fr_DF_file = pl.Path(config['paths']['analysis_cache']) / '210917_context_firing_rate_DF/dprime_absolute-None_montecarlo-1000_raster_fs-30_reliability-0.1_smoothing_window-0_stim_type-permutations_zscore-True'\n",
    "ctx_fr_DF = jl.load(ctx_fr_DF_file)\n",
    "\n",
    "# dprime timeseriese metrics\n",
    "dprime_DF_file = pl.Path(config['paths']['analysis_cache']) /\n",
    "\n",
    "# 10 sound metrics dataframe\n",
    "DF10_file = pl.Path(config['paths']['analysis_cache']) /'210902_consolidated_summary_DF_alpha_0.05/dprime_absolute-None_montecarlo-1000_raster_fs-30_reliability-0.1_smoothing_window-0_stim_type-permutations_zscore-True'\n",
    "DF10 = jl.load(DF10_file)\n"
   ],
   "metadata": {
    "collapsed": false,
    "pycharm": {
     "name": "#%%\n"
    }
   }
  },
  {
   "cell_type": "code",
   "execution_count": null,
   "outputs": [],
   "source": [],
   "metadata": {
    "collapsed": false,
    "pycharm": {
     "name": "#%%\n"
    }
   }
  },
  {
   "cell_type": "code",
   "execution_count": null,
   "outputs": [],
   "source": [],
   "metadata": {
    "collapsed": false,
    "pycharm": {
     "name": "#%%\n"
    }
   }
  }
 ],
 "metadata": {
  "kernelspec": {
   "display_name": "Python 3",
   "language": "python",
   "name": "python3"
  },
  "language_info": {
   "codemirror_mode": {
    "name": "ipython",
    "version": 2
   },
   "file_extension": ".py",
   "mimetype": "text/x-python",
   "name": "python",
   "nbconvert_exporter": "python",
   "pygments_lexer": "ipython2",
   "version": "2.7.6"
  }
 },
 "nbformat": 4,
 "nbformat_minor": 0
}