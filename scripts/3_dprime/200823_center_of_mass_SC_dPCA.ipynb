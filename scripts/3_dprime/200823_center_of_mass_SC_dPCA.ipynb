{
 "cells": [
  {
   "cell_type": "markdown",
   "metadata": {
    "pycharm": {
     "name": "#%% md\n"
    }
   },
   "source": [
    "Using integrals as a metric of contextual effects seem straightforward. Previous analysis has shown that both integral\n",
    "and significant integral are closely correlated, so there is a value on using the later since its more robust to noise.\n",
    "This approach has the shortcoming of not giving information about the temporal evolution of the contextual effects.\n",
    "These are potential goals of this notebook:\n",
    "1. Center of mass calculation\n",
    "    1. for all bins? for significant bins!\n",
    "2. Examples of cells from parameter space\n",
    "3. train classifier + cross validation (optional, should go in another notebook?)\n",
    "4. total integral/center-of-mass threshold (clean up memory less units)\n",
    "    1.compare dPCA between full population vs filtered (context units)\n",
    "5. classify probes by wave source (eg. ferret vocalizations)\n",
    "6. baseline evoked activity threshold\n",
    "    1. specific for context probe related activity (already in place?)\n",
    "    2. in a probe specific manner\n",
    "7. clean up probe quality\n",
    "    1. treat different unit-probe combination as individual cells (collapse/mean across bigger population)\n",
    "    2. filter out non responsive unit-probe combinations\n",
    "8. Check spectrogram for responding units\n",
    "    1. check and compare vs silence (silence as probe?)"
   ]
  },
  {
   "cell_type": "code",
   "execution_count": 43,
   "metadata": {
    "pycharm": {
     "name": "#%%\n"
    }
   },
   "outputs": [],
   "source": [
    "import pathlib as pl\n",
    "from configparser import ConfigParser\n",
    "\n",
    "import numpy as np\n",
    "import scipy.stats as sst\n",
    "import matplotlib.pyplot as plt\n",
    "\n",
    "from cpp_cache import set_name\n",
    "import joblib as jl"
   ]
  },
  {
   "cell_type": "code",
   "execution_count": 44,
   "outputs": [
    {
     "name": "stdout",
     "output_type": "stream",
     "text": [
      "0.8255413950371603\n"
     ]
    },
    {
     "data": {
      "text/plain": "<Figure size 432x288 with 1 Axes>",
      "image/png": "[encoded data removed]"
     },
     "metadata": {},
     "output_type": "display_data"
    }
   ],
   "source": [
    "#toy example on how to calculate the center of mass.\n",
    "\n",
    "def center_of_mass(values, times):\n",
    "    return np.sum(values * times) / np.sum(values)\n",
    "\n",
    "# generate some arbitrary data\n",
    "x = np.linspace(sst.norm.ppf(0.01),\n",
    "                sst.norm.ppf(0.99), 100)\n",
    "y = sst.norm.pdf(x, 1, 1)\n",
    "\n",
    "# calculates the center of mas\n",
    "mass = center_of_mass(y, x)\n",
    "print(mass)\n",
    "\n",
    "# plots example\n",
    "fig, ax = plt.subplots()\n",
    "ax.plot(x, y)\n",
    "ax.axvline(mass)\n",
    "plt.show(fig)"
   ],
   "metadata": {
    "collapsed": false,
    "pycharm": {
     "name": "#%%\n"
    }
   }
  },
  {
   "cell_type": "code",
   "execution_count": 45,
   "outputs": [],
   "source": [
    "# loads the summary metrics\n",
    "\n",
    "config = ConfigParser()\n",
    "if pl.Path('../context_probe_analysis/config/settings.ini').exists():\n",
    "    config.read(pl.Path('../context_probe_analysis/config/settings.ini'))\n",
    "elif pl.Path('../../../context_probe_analysis/config/settings.ini').exists():\n",
    "    config.read(pl.Path('../../../context_probe_analysis/config/settings.ini'))\n",
    "else:\n",
    "    raise FileNotFoundError('config file could not be find')\n",
    "\n",
    "meta = {'reliability': 0.1,  # r value\n",
    "        'smoothing_window': 0,  # ms\n",
    "        'raster_fs': 30,\n",
    "        'transitions': ['silence', 'continuous', 'similar', 'sharp'],\n",
    "        'montecarlo': 1000,\n",
    "        'zscore': True,\n",
    "        'dprime_absolute': None}\n",
    "\n",
    "summary_DF_file = pl.Path(config['paths']['analysis_cache']) / 'DF_summary' / set_name(meta)\n",
    "\n",
    "DF = jl.load(summary_DF_file)"
   ],
   "metadata": {
    "collapsed": false,
    "pycharm": {
     "name": "#%%\n"
    }
   }
  },
  {
   "cell_type": "code",
   "execution_count": null,
   "outputs": [],
   "source": [
    "# plots center of mass againste tau\n"
   ],
   "metadata": {
    "collapsed": false,
    "pycharm": {
     "name": "#%%\n"
    }
   }
  }
 ],
 "metadata": {
  "kernelspec": {
   "display_name": "Python 3",
   "language": "python",
   "name": "python3"
  },
  "language_info": {
   "codemirror_mode": {
    "name": "ipython",
    "version": 3
   },
   "file_extension": ".py",
   "mimetype": "text/x-python",
   "name": "python",
   "nbconvert_exporter": "python",
   "pygments_lexer": "ipython3",
   "version": "3.6.10"
  }
 },
 "nbformat": 4,
 "nbformat_minor": 1
}